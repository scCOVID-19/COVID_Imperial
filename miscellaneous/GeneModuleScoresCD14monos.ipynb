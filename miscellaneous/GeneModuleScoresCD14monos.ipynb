{
 "cells": [
  {
   "cell_type": "code",
   "execution_count": 1,
   "id": "49ff162b-2ff7-4976-a2ea-2893c59b9958",
   "metadata": {},
   "outputs": [
    {
     "name": "stdout",
     "output_type": "stream",
     "text": [
      "Collecting scanpy\n",
      "  Downloading scanpy-1.9.6-py3-none-any.whl (2.0 MB)\n",
      "\u001b[2K     \u001b[90m━━━━━━━━━━━━━━━━━━━━━━━━━━━━━━━━━━━━━━━━\u001b[0m \u001b[32m2.0/2.0 MB\u001b[0m \u001b[31m3.3 MB/s\u001b[0m eta \u001b[36m0:00:00\u001b[0m00:01\u001b[0m00:01\u001b[0m\n",
      "\u001b[?25hCollecting anndata>=0.7.4 (from scanpy)\n",
      "  Downloading anndata-0.10.3-py3-none-any.whl (119 kB)\n",
      "\u001b[2K     \u001b[90m━━━━━━━━━━━━━━━━━━━━━━━━━━━━━━━━━━━━━━━\u001b[0m \u001b[32m119.2/119.2 kB\u001b[0m \u001b[31m4.8 MB/s\u001b[0m eta \u001b[36m0:00:00\u001b[0m\n",
      "\u001b[?25hCollecting h5py>=3 (from scanpy)\n",
      "  Downloading h5py-3.10.0-cp311-cp311-macosx_11_0_arm64.whl (2.6 MB)\n",
      "\u001b[2K     \u001b[90m━━━━━━━━━━━━━━━━━━━━━━━━━━━━━━━━━━━━━━━━\u001b[0m \u001b[32m2.6/2.6 MB\u001b[0m \u001b[31m6.3 MB/s\u001b[0m eta \u001b[36m0:00:00\u001b[0ma \u001b[36m0:00:01\u001b[0m\n",
      "\u001b[?25hCollecting joblib (from scanpy)\n",
      "  Downloading joblib-1.3.2-py3-none-any.whl (302 kB)\n",
      "\u001b[2K     \u001b[90m━━━━━━━━━━━━━━━━━━━━━━━━━━━━━━━━━━━━━━━\u001b[0m \u001b[32m302.2/302.2 kB\u001b[0m \u001b[31m5.8 MB/s\u001b[0m eta \u001b[36m0:00:00\u001b[0ma \u001b[36m0:00:01\u001b[0m\n",
      "\u001b[?25hRequirement already satisfied: matplotlib>=3.4 in ./miniconda3/lib/python3.11/site-packages (from scanpy) (3.8.0)\n",
      "Collecting natsort (from scanpy)\n",
      "  Downloading natsort-8.4.0-py3-none-any.whl (38 kB)\n",
      "Collecting networkx>=2.3 (from scanpy)\n",
      "  Downloading networkx-3.2.1-py3-none-any.whl (1.6 MB)\n",
      "\u001b[2K     \u001b[90m━━━━━━━━━━━━━━━━━━━━━━━━━━━━━━━━━━━━━━━━\u001b[0m \u001b[32m1.6/1.6 MB\u001b[0m \u001b[31m6.9 MB/s\u001b[0m eta \u001b[36m0:00:00\u001b[0m00:01\u001b[0m00:01\u001b[0m\n",
      "\u001b[?25hCollecting numba>=0.41.0 (from scanpy)\n",
      "  Downloading numba-0.58.1-cp311-cp311-macosx_11_0_arm64.whl (2.6 MB)\n",
      "\u001b[2K     \u001b[90m━━━━━━━━━━━━━━━━━━━━━━━━━━━━━━━━━━━━━━━━\u001b[0m \u001b[32m2.6/2.6 MB\u001b[0m \u001b[31m7.3 MB/s\u001b[0m eta \u001b[36m0:00:00\u001b[0m00:01\u001b[0m00:01\u001b[0m\n",
      "\u001b[?25hRequirement already satisfied: numpy>=1.17.0 in ./miniconda3/lib/python3.11/site-packages (from scanpy) (1.26.0)\n",
      "Requirement already satisfied: packaging in ./miniconda3/lib/python3.11/site-packages (from scanpy) (23.0)\n",
      "Collecting pandas!=2.1.2,>=1.1.1 (from scanpy)\n",
      "  Downloading pandas-2.1.1-cp311-cp311-macosx_11_0_arm64.whl (10.8 MB)\n",
      "\u001b[2K     \u001b[90m━━━━━━━━━━━━━━━━━━━━━━━━━━━━━━━━━━━━━━━━\u001b[0m \u001b[32m10.8/10.8 MB\u001b[0m \u001b[31m7.6 MB/s\u001b[0m eta \u001b[36m0:00:00\u001b[0m00:01\u001b[0m00:01\u001b[0m\n",
      "\u001b[?25hCollecting patsy (from scanpy)\n",
      "  Downloading patsy-0.5.3-py2.py3-none-any.whl (233 kB)\n",
      "\u001b[2K     \u001b[90m━━━━━━━━━━━━━━━━━━━━━━━━━━━━━━━━━━━━━━━\u001b[0m \u001b[32m233.8/233.8 kB\u001b[0m \u001b[31m8.0 MB/s\u001b[0m eta \u001b[36m0:00:00\u001b[0m\n",
      "\u001b[?25hCollecting scikit-learn>=0.24 (from scanpy)\n",
      "  Downloading scikit_learn-1.3.2-cp311-cp311-macosx_12_0_arm64.whl (9.4 MB)\n",
      "\u001b[2K     \u001b[90m━━━━━━━━━━━━━━━━━━━━━━━━━━━━━━━━━━━━━━━━\u001b[0m \u001b[32m9.4/9.4 MB\u001b[0m \u001b[31m7.8 MB/s\u001b[0m eta \u001b[36m0:00:00\u001b[0m00:01\u001b[0m00:01\u001b[0m\n",
      "\u001b[?25hCollecting scipy>=1.4 (from scanpy)\n",
      "  Downloading scipy-1.11.3-cp311-cp311-macosx_12_0_arm64.whl (29.7 MB)\n",
      "\u001b[2K     \u001b[90m━━━━━━━━━━━━━━━━━━━━━━━━━━━━━━━━━━━━━━━━\u001b[0m \u001b[32m29.7/29.7 MB\u001b[0m \u001b[31m5.0 MB/s\u001b[0m eta \u001b[36m0:00:00\u001b[0m00:01\u001b[0m00:01\u001b[0m\n",
      "\u001b[?25hCollecting seaborn!=0.13.0 (from scanpy)\n",
      "  Downloading seaborn-0.12.2-py3-none-any.whl (293 kB)\n",
      "\u001b[2K     \u001b[90m━━━━━━━━━━━━━━━━━━━━━━━━━━━━━━━━━━━━━━━\u001b[0m \u001b[32m293.3/293.3 kB\u001b[0m \u001b[31m5.6 MB/s\u001b[0m eta \u001b[36m0:00:00\u001b[0ma \u001b[36m0:00:01\u001b[0m\n",
      "\u001b[?25hCollecting session-info (from scanpy)\n",
      "  Downloading session_info-1.0.0.tar.gz (24 kB)\n",
      "  Preparing metadata (setup.py) ... \u001b[?25ldone\n",
      "\u001b[?25hCollecting statsmodels>=0.10.0rc2 (from scanpy)\n",
      "  Downloading statsmodels-0.14.0-cp311-cp311-macosx_11_0_arm64.whl (9.4 MB)\n",
      "\u001b[2K     \u001b[90m━━━━━━━━━━━━━━━━━━━━━━━━━━━━━━━━━━━━━━━━\u001b[0m \u001b[32m9.4/9.4 MB\u001b[0m \u001b[31m7.4 MB/s\u001b[0m eta \u001b[36m0:00:00\u001b[0m00:01\u001b[0m00:01\u001b[0m\n",
      "\u001b[?25hRequirement already satisfied: tqdm in ./miniconda3/lib/python3.11/site-packages (from scanpy) (4.65.0)\n",
      "Collecting umap-learn>=0.3.10 (from scanpy)\n",
      "  Downloading umap-learn-0.5.4.tar.gz (90 kB)\n",
      "\u001b[2K     \u001b[90m━━━━━━━━━━━━━━━━━━━━━━━━━━━━━━━━━━━━━━━━\u001b[0m \u001b[32m90.8/90.8 kB\u001b[0m \u001b[31m6.9 MB/s\u001b[0m eta \u001b[36m0:00:00\u001b[0m\n",
      "\u001b[?25h  Preparing metadata (setup.py) ... \u001b[?25ldone\n",
      "\u001b[?25hCollecting array-api-compat (from anndata>=0.7.4->scanpy)\n",
      "  Downloading array_api_compat-1.4-py3-none-any.whl (29 kB)\n",
      "Requirement already satisfied: contourpy>=1.0.1 in ./miniconda3/lib/python3.11/site-packages (from matplotlib>=3.4->scanpy) (1.1.1)\n",
      "Requirement already satisfied: cycler>=0.10 in ./miniconda3/lib/python3.11/site-packages (from matplotlib>=3.4->scanpy) (0.11.0)\n",
      "Requirement already satisfied: fonttools>=4.22.0 in ./miniconda3/lib/python3.11/site-packages (from matplotlib>=3.4->scanpy) (4.42.1)\n",
      "Requirement already satisfied: kiwisolver>=1.0.1 in ./miniconda3/lib/python3.11/site-packages (from matplotlib>=3.4->scanpy) (1.4.5)\n",
      "Requirement already satisfied: pillow>=6.2.0 in ./miniconda3/lib/python3.11/site-packages (from matplotlib>=3.4->scanpy) (10.0.1)\n",
      "Requirement already satisfied: pyparsing>=2.3.1 in ./miniconda3/lib/python3.11/site-packages (from matplotlib>=3.4->scanpy) (3.1.1)\n",
      "Requirement already satisfied: python-dateutil>=2.7 in ./miniconda3/lib/python3.11/site-packages (from matplotlib>=3.4->scanpy) (2.8.2)\n",
      "Collecting llvmlite<0.42,>=0.41.0dev0 (from numba>=0.41.0->scanpy)\n",
      "  Downloading llvmlite-0.41.1-cp311-cp311-macosx_11_0_arm64.whl (28.8 MB)\n",
      "\u001b[2K     \u001b[90m━━━━━━━━━━━━━━━━━━━━━━━━━━━━━━━━━━━━━━━━\u001b[0m \u001b[32m28.8/28.8 MB\u001b[0m \u001b[31m6.8 MB/s\u001b[0m eta \u001b[36m0:00:00\u001b[0m00:01\u001b[0m00:01\u001b[0m\n",
      "\u001b[?25hCollecting pytz>=2020.1 (from pandas!=2.1.2,>=1.1.1->scanpy)\n",
      "  Downloading pytz-2023.3.post1-py2.py3-none-any.whl (502 kB)\n",
      "\u001b[2K     \u001b[90m━━━━━━━━━━━━━━━━━━━━━━━━━━━━━━━━━━━━━━━\u001b[0m \u001b[32m502.5/502.5 kB\u001b[0m \u001b[31m7.4 MB/s\u001b[0m eta \u001b[36m0:00:00\u001b[0m00:01\u001b[0m00:01\u001b[0m\n",
      "\u001b[?25hCollecting tzdata>=2022.1 (from pandas!=2.1.2,>=1.1.1->scanpy)\n",
      "  Downloading tzdata-2023.3-py2.py3-none-any.whl (341 kB)\n",
      "\u001b[2K     \u001b[90m━━━━━━━━━━━━━━━━━━━━━━━━━━━━━━━━━━━━━━━\u001b[0m \u001b[32m341.8/341.8 kB\u001b[0m \u001b[31m7.0 MB/s\u001b[0m eta \u001b[36m0:00:00\u001b[0ma \u001b[36m0:00:01\u001b[0m\n",
      "\u001b[?25hCollecting threadpoolctl>=2.0.0 (from scikit-learn>=0.24->scanpy)\n",
      "  Downloading threadpoolctl-3.2.0-py3-none-any.whl (15 kB)\n",
      "Requirement already satisfied: six in ./miniconda3/lib/python3.11/site-packages (from patsy->scanpy) (1.16.0)\n",
      "Collecting pynndescent>=0.5 (from umap-learn>=0.3.10->scanpy)\n",
      "  Downloading pynndescent-0.5.10.tar.gz (1.1 MB)\n",
      "\u001b[2K     \u001b[90m━━━━━━━━━━━━━━━━━━━━━━━━━━━━━━━━━━━━━━━━\u001b[0m \u001b[32m1.1/1.1 MB\u001b[0m \u001b[31m5.5 MB/s\u001b[0m eta \u001b[36m0:00:00\u001b[0m00:01\u001b[0m00:01\u001b[0m\n",
      "\u001b[?25h  Preparing metadata (setup.py) ... \u001b[?25ldone\n",
      "\u001b[?25hCollecting stdlib_list (from session-info->scanpy)\n",
      "  Downloading stdlib_list-0.9.0-py3-none-any.whl (75 kB)\n",
      "\u001b[2K     \u001b[90m━━━━━━━━━━━━━━━━━━━━━━━━━━━━━━━━━━━━━━━━\u001b[0m \u001b[32m75.6/75.6 kB\u001b[0m \u001b[31m6.1 MB/s\u001b[0m eta \u001b[36m0:00:00\u001b[0m\n",
      "\u001b[?25hBuilding wheels for collected packages: umap-learn, session-info, pynndescent\n",
      "  Building wheel for umap-learn (setup.py) ... \u001b[?25ldone\n",
      "\u001b[?25h  Created wheel for umap-learn: filename=umap_learn-0.5.4-py3-none-any.whl size=86765 sha256=49371547c15f5db225a04811f85f1f6c33fc34c88315c868d8060626e7340c54\n",
      "  Stored in directory: /Users/emily/Library/Caches/pip/wheels/42/7b/35/c53136bf6554719351c45217002d767ed2582664997ed2db43\n",
      "  Building wheel for session-info (setup.py) ... \u001b[?25ldone\n",
      "\u001b[?25h  Created wheel for session-info: filename=session_info-1.0.0-py3-none-any.whl size=8025 sha256=9438e207bc367bb465850bdf0fb510d7b5e11673d0d5cac2dd8a2d153d063051\n",
      "  Stored in directory: /Users/emily/Library/Caches/pip/wheels/4e/56/35/a748fc57279a4b84d0b332879445fed1ad8478e7257986b015\n",
      "  Building wheel for pynndescent (setup.py) ... \u001b[?25ldone\n",
      "\u001b[?25h  Created wheel for pynndescent: filename=pynndescent-0.5.10-py3-none-any.whl size=55623 sha256=18f5ab822bf1ad41a52df670b75b47c288124310fcd9fad8f7fdfa7f01962a5e\n",
      "  Stored in directory: /Users/emily/Library/Caches/pip/wheels/a9/a3/51/2411ea852380d31c4cbfee910744f4effe1fef7438b199d496\n",
      "Successfully built umap-learn session-info pynndescent\n",
      "Installing collected packages: pytz, tzdata, threadpoolctl, stdlib_list, scipy, patsy, networkx, natsort, llvmlite, joblib, h5py, array-api-compat, session-info, scikit-learn, pandas, numba, statsmodels, seaborn, pynndescent, anndata, umap-learn, scanpy\n",
      "Successfully installed anndata-0.10.3 array-api-compat-1.4 h5py-3.10.0 joblib-1.3.2 llvmlite-0.41.1 natsort-8.4.0 networkx-3.2.1 numba-0.58.1 pandas-2.1.1 patsy-0.5.3 pynndescent-0.5.10 pytz-2023.3.post1 scanpy-1.9.6 scikit-learn-1.3.2 scipy-1.11.3 seaborn-0.12.2 session-info-1.0.0 statsmodels-0.14.0 stdlib_list-0.9.0 threadpoolctl-3.2.0 tzdata-2023.3 umap-learn-0.5.4\n"
     ]
    }
   ],
   "source": [
    "!pip install scanpy"
   ]
  },
  {
   "cell_type": "code",
   "execution_count": 2,
   "id": "38355e58-6bc7-450b-a32e-34274a80809b",
   "metadata": {},
   "outputs": [],
   "source": [
    "import numpy as np\n",
    "import pandas as pd\n",
    "import scanpy as sc\n",
    "import seaborn as sns\n",
    "import scipy.stats\n",
    "import anndata\n",
    "import matplotlib.pyplot as plt\n",
    "import matplotlib as mpl\n",
    "from matplotlib.axes._axes import _log as matplotlib_axes_logger\n",
    "from scipy import sparse\n",
    "matplotlib_axes_logger.setLevel('ERROR')"
   ]
  },
  {
   "cell_type": "code",
   "execution_count": 3,
   "id": "817ac9dc-57c4-418b-922f-b25ce06f14ec",
   "metadata": {},
   "outputs": [
    {
     "name": "stderr",
     "output_type": "stream",
     "text": [
      "/Users/emily/miniconda3/lib/python3.11/site-packages/anndata/__init__.py:51: FutureWarning: `anndata.read` is deprecated, use `anndata.read_h5ad` instead. `ad.read` will be removed in mid 2024.\n",
      "  warnings.warn(\n"
     ]
    }
   ],
   "source": [
    "adata_gex=sc.read ('/Users/emily/Library/CloudStorage/OneDrive-NewcastleUniversity/Projects/COVID-19/Second Batch/Data analysis/Jupyter/renal_covid_19_gex_myeloid_soupX_QC.h5ad')"
   ]
  },
  {
   "cell_type": "code",
   "execution_count": 4,
   "id": "4c4535c9-23f9-4f36-a727-24ab25a96059",
   "metadata": {},
   "outputs": [
    {
     "data": {
      "text/plain": [
       "AnnData object with n_obs × n_vars = 220907 × 33559"
      ]
     },
     "execution_count": 4,
     "metadata": {},
     "output_type": "execute_result"
    }
   ],
   "source": [
    "adata_gex"
   ]
  },
  {
   "cell_type": "code",
   "execution_count": 5,
   "id": "a33354a2-c452-414d-8ff9-d9fd3aa16777",
   "metadata": {},
   "outputs": [
    {
     "data": {
      "text/plain": [
       "14004.289469167865"
      ]
     },
     "execution_count": 5,
     "metadata": {},
     "output_type": "execute_result"
    }
   ],
   "source": [
    "adata_gex.X.max()"
   ]
  },
  {
   "cell_type": "code",
   "execution_count": 6,
   "id": "40cf0ed6-aa34-4425-8a7f-2fc8e1b5432c",
   "metadata": {},
   "outputs": [],
   "source": [
    "target_genes = pd.read_csv ('/Users/emily/Library/CloudStorage/OneDrive-NewcastleUniversity/Projects/COVID-19/Second Batch/Data analysis/Jupyter/Macrophage_stim_markers_Human_updated.csv')"
   ]
  },
  {
   "cell_type": "code",
   "execution_count": 7,
   "id": "8fb5e592-1263-48d5-9123-49aa0384b1bd",
   "metadata": {},
   "outputs": [
    {
     "data": {
      "text/html": [
       "<div>\n",
       "<style scoped>\n",
       "    .dataframe tbody tr th:only-of-type {\n",
       "        vertical-align: middle;\n",
       "    }\n",
       "\n",
       "    .dataframe tbody tr th {\n",
       "        vertical-align: top;\n",
       "    }\n",
       "\n",
       "    .dataframe thead th {\n",
       "        text-align: right;\n",
       "    }\n",
       "</style>\n",
       "<table border=\"1\" class=\"dataframe\">\n",
       "  <thead>\n",
       "    <tr style=\"text-align: right;\">\n",
       "      <th></th>\n",
       "      <th>GC</th>\n",
       "      <th>HDL</th>\n",
       "      <th>IFNb</th>\n",
       "      <th>IFNg</th>\n",
       "      <th>IFNg_TNF</th>\n",
       "      <th>IL10</th>\n",
       "      <th>IL13</th>\n",
       "      <th>IL4</th>\n",
       "      <th>IL4_upLPS</th>\n",
       "      <th>TNF</th>\n",
       "      <th>sLPS</th>\n",
       "      <th>sLPS_IC</th>\n",
       "      <th>sLPS_IFNg</th>\n",
       "      <th>upLPS</th>\n",
       "      <th>upLPS_IC</th>\n",
       "    </tr>\n",
       "  </thead>\n",
       "  <tbody>\n",
       "    <tr>\n",
       "      <th>0</th>\n",
       "      <td>GLDN</td>\n",
       "      <td>LOC653352</td>\n",
       "      <td>C9orf38</td>\n",
       "      <td>GBP5</td>\n",
       "      <td>CSF1</td>\n",
       "      <td>HCFC1R1</td>\n",
       "      <td>ALOX15</td>\n",
       "      <td>ALOX15</td>\n",
       "      <td>ALOX15</td>\n",
       "      <td>CCL5</td>\n",
       "      <td>CXCR7</td>\n",
       "      <td>MYBPC3</td>\n",
       "      <td>GBP5</td>\n",
       "      <td>PCNX</td>\n",
       "      <td>SRPX</td>\n",
       "    </tr>\n",
       "    <tr>\n",
       "      <th>1</th>\n",
       "      <td>SRPX</td>\n",
       "      <td>YIPF6</td>\n",
       "      <td>ACY3</td>\n",
       "      <td>LOC400759</td>\n",
       "      <td>CCL5</td>\n",
       "      <td>SPOCD1</td>\n",
       "      <td>FOXQ1</td>\n",
       "      <td>FOXQ1</td>\n",
       "      <td>IL17RB</td>\n",
       "      <td>CD82</td>\n",
       "      <td>PTPRF</td>\n",
       "      <td>IL2RA</td>\n",
       "      <td>PCNX</td>\n",
       "      <td>ANG</td>\n",
       "      <td>TBL2</td>\n",
       "    </tr>\n",
       "    <tr>\n",
       "      <th>2</th>\n",
       "      <td>ZBTB16</td>\n",
       "      <td>MOGAT1</td>\n",
       "      <td>MGAT4B</td>\n",
       "      <td>CXCL9</td>\n",
       "      <td>C20orf123</td>\n",
       "      <td>P8</td>\n",
       "      <td>PPP1R14A</td>\n",
       "      <td>PPP1R14A</td>\n",
       "      <td>CCL26</td>\n",
       "      <td>NFS1</td>\n",
       "      <td>FAM108C1</td>\n",
       "      <td>CXCR7</td>\n",
       "      <td>GCH1</td>\n",
       "      <td>RNASE4</td>\n",
       "      <td>LRG1</td>\n",
       "    </tr>\n",
       "    <tr>\n",
       "      <th>3</th>\n",
       "      <td>TBC1D16</td>\n",
       "      <td>PRPF40A</td>\n",
       "      <td>LOC732424</td>\n",
       "      <td>GBP1</td>\n",
       "      <td>IL2RG</td>\n",
       "      <td>ADAMTSL4</td>\n",
       "      <td>DHRS11</td>\n",
       "      <td>MAOA</td>\n",
       "      <td>WNT5A</td>\n",
       "      <td>SLC5A3</td>\n",
       "      <td>KIAA1199</td>\n",
       "      <td>PCNX</td>\n",
       "      <td>LOC399715</td>\n",
       "      <td>SPARC</td>\n",
       "      <td>MS4A6E</td>\n",
       "    </tr>\n",
       "    <tr>\n",
       "      <th>4</th>\n",
       "      <td>LOC647108</td>\n",
       "      <td>LOC642033</td>\n",
       "      <td>PITX2</td>\n",
       "      <td>GBP4</td>\n",
       "      <td>GBP4</td>\n",
       "      <td>CTSG</td>\n",
       "      <td>IL1R1</td>\n",
       "      <td>SOCS1</td>\n",
       "      <td>TGM2</td>\n",
       "      <td>RCN1</td>\n",
       "      <td>EMR3</td>\n",
       "      <td>MLLT6</td>\n",
       "      <td>MYBPC3</td>\n",
       "      <td>FTHL12</td>\n",
       "      <td>C1S</td>\n",
       "    </tr>\n",
       "  </tbody>\n",
       "</table>\n",
       "</div>"
      ],
      "text/plain": [
       "          GC        HDL       IFNb       IFNg   IFNg_TNF      IL10      IL13  \\\n",
       "0       GLDN  LOC653352    C9orf38       GBP5       CSF1   HCFC1R1    ALOX15   \n",
       "1       SRPX      YIPF6       ACY3  LOC400759       CCL5    SPOCD1     FOXQ1   \n",
       "2     ZBTB16     MOGAT1     MGAT4B      CXCL9  C20orf123        P8  PPP1R14A   \n",
       "3    TBC1D16    PRPF40A  LOC732424       GBP1      IL2RG  ADAMTSL4    DHRS11   \n",
       "4  LOC647108  LOC642033      PITX2       GBP4       GBP4      CTSG     IL1R1   \n",
       "\n",
       "        IL4 IL4_upLPS     TNF      sLPS sLPS_IC  sLPS_IFNg   upLPS upLPS_IC  \n",
       "0    ALOX15    ALOX15    CCL5     CXCR7  MYBPC3       GBP5    PCNX     SRPX  \n",
       "1     FOXQ1    IL17RB    CD82     PTPRF   IL2RA       PCNX     ANG     TBL2  \n",
       "2  PPP1R14A     CCL26    NFS1  FAM108C1   CXCR7       GCH1  RNASE4     LRG1  \n",
       "3      MAOA     WNT5A  SLC5A3  KIAA1199    PCNX  LOC399715   SPARC   MS4A6E  \n",
       "4     SOCS1      TGM2    RCN1      EMR3   MLLT6     MYBPC3  FTHL12      C1S  "
      ]
     },
     "execution_count": 7,
     "metadata": {},
     "output_type": "execute_result"
    }
   ],
   "source": [
    "target_genes.head()"
   ]
  },
  {
   "cell_type": "code",
   "execution_count": 8,
   "id": "86e326b1-cd7f-447a-b8c8-94f18a618ef6",
   "metadata": {},
   "outputs": [
    {
     "name": "stderr",
     "output_type": "stream",
     "text": [
      "/Users/emily/miniconda3/lib/python3.11/site-packages/anndata/__init__.py:51: FutureWarning: `anndata.read` is deprecated, use `anndata.read_h5ad` instead. `ad.read` will be removed in mid 2024.\n",
      "  warnings.warn(\n"
     ]
    }
   ],
   "source": [
    "mdata = sc.read ('/Users/emily/Library/CloudStorage/OneDrive-NewcastleUniversity/Projects/COVID-19/Second Batch/Data analysis/Jupyter/renal_covid_19_gex_myeloid_soupX_QC_orig.ident_annotated_levle23.h5ad')"
   ]
  },
  {
   "cell_type": "code",
   "execution_count": 9,
   "id": "4a8dd839-d914-4a19-8c34-814f01fc44ba",
   "metadata": {},
   "outputs": [],
   "source": [
    "adata = adata_gex[adata_gex.obs.index.isin(mdata.obs.index)]"
   ]
  },
  {
   "cell_type": "code",
   "execution_count": 10,
   "id": "08481d57-1c80-4c6d-b9ad-22bcef20d719",
   "metadata": {},
   "outputs": [
    {
     "data": {
      "text/plain": [
       "View of AnnData object with n_obs × n_vars = 126622 × 33559"
      ]
     },
     "execution_count": 10,
     "metadata": {},
     "output_type": "execute_result"
    }
   ],
   "source": [
    "adata"
   ]
  },
  {
   "cell_type": "code",
   "execution_count": 11,
   "id": "090e042a-6232-4878-a98f-e5b3ef33069c",
   "metadata": {},
   "outputs": [
    {
     "data": {
      "text/plain": [
       "AnnData object with n_obs × n_vars = 126622 × 1215\n",
       "    obs: 'annotation22_ES', 'centre', 'sample_id', 'sample_id_broad', 'sample_date', 'sample_date_yr', 'pool', 'pool_broad', 'haniffa_broad_predLabel', 'orig.ident', 'merged_souporcell_cluster', 'merged_souporcell_status', 'patient_id', 'case_control', 'WHO_severity', 'sex', 'calc_age', 'discharge_date', 'date_positive_swab', 'date_first_symptoms', 'admission_date', 'ethnicity', 'n_genes_by_counts', 'total_counts', 'total_counts_mt', 'pct_counts_mt', 'leiden_0.8', '5_subcluster', '9_subcluster', 'annotation', 'annotation23_ES', 'annotation24_ES', 'annot3', 'annot2', 'annot1', 'leiden_0.5', 'annot4'\n",
       "    var: 'mt', 'n_cells_by_counts', 'mean_counts', 'pct_dropout_by_counts', 'total_counts', 'highly_variable', 'means', 'dispersions', 'dispersions_norm', 'mean', 'std'\n",
       "    uns: '5_subcluster_colors', '9_subcluster', '9_subcluster_colors', 'WHO_severity_colors', 'X_pca_harmony_orig.ident', 'annot1_colors', 'annot2_colors', 'annot3_colors', 'annot4_colors', 'annotation22_ES_colors', 'annotation23_ES_colors', 'annotation24_ES_colors', 'hvg', 'leiden', 'leiden_0.5', 'leiden_0.5_colors', 'leiden_0.8_colors', 'merged_souporcell_status_colors', 'pca', 'umap'\n",
       "    obsm: 'X_pca', 'X_pca_harmony_orig.ident', 'X_umap'\n",
       "    varm: 'PCs'\n",
       "    obsp: 'X_pca_harmony_orig.ident_connectivities', 'X_pca_harmony_orig.ident_distances'"
      ]
     },
     "execution_count": 11,
     "metadata": {},
     "output_type": "execute_result"
    }
   ],
   "source": [
    "mdata"
   ]
  },
  {
   "cell_type": "code",
   "execution_count": 12,
   "id": "41ba2c85-0f6b-49f0-9803-70f1ff79c3c9",
   "metadata": {},
   "outputs": [
    {
     "name": "stderr",
     "output_type": "stream",
     "text": [
      "/var/folders/8j/9l3m415n6lvf67bnlp8t9k480000gq/T/ipykernel_49081/1107364442.py:1: ImplicitModificationWarning: Trying to modify attribute `.obs` of view, initializing view as actual.\n",
      "  adata.obs['annot4'] = mdata.obs['annot4']\n"
     ]
    }
   ],
   "source": [
    "adata.obs['annot4'] = mdata.obs['annot4']\n",
    "adata.obs['centre'] = mdata.obs['centre']\n",
    "adata.obs['case_control'] = mdata.obs['case_control']\n",
    "adata.obs['WHO_severity'] = mdata.obs['WHO_severity']\n",
    "adata.obs['patient_id'] = mdata.obs['patient_id']"
   ]
  },
  {
   "cell_type": "code",
   "execution_count": 13,
   "id": "d4933f2b-1d76-43c9-9b24-4e975874b174",
   "metadata": {},
   "outputs": [
    {
     "data": {
      "text/plain": [
       "['NEGATIVE', 'nan', 'POSITIVE', 'RECOVERY']\n",
       "Categories (4, object): ['NEGATIVE', 'POSITIVE', 'RECOVERY', 'nan']"
      ]
     },
     "execution_count": 13,
     "metadata": {},
     "output_type": "execute_result"
    }
   ],
   "source": [
    "adata.obs['case_control'].unique()"
   ]
  },
  {
   "cell_type": "code",
   "execution_count": 14,
   "id": "c70098d7-9e75-4c34-aca2-dd0980dd7a7c",
   "metadata": {},
   "outputs": [],
   "source": [
    "adata = adata[adata.obs['case_control']=='POSITIVE']"
   ]
  },
  {
   "cell_type": "code",
   "execution_count": 15,
   "id": "59a3db92-2b98-4c01-9520-102bbc8f5ba2",
   "metadata": {},
   "outputs": [
    {
     "data": {
      "text/plain": [
       "['POSITIVE']\n",
       "Categories (1, object): ['POSITIVE']"
      ]
     },
     "execution_count": 15,
     "metadata": {},
     "output_type": "execute_result"
    }
   ],
   "source": [
    "adata.obs['case_control'].unique()"
   ]
  },
  {
   "cell_type": "code",
   "execution_count": 16,
   "id": "e59ea4d7-4c9f-41f7-8f36-363906833a0f",
   "metadata": {},
   "outputs": [
    {
     "data": {
      "text/plain": [
       "['NCL', 'Cambridge']\n",
       "Categories (2, object): ['Cambridge', 'NCL']"
      ]
     },
     "execution_count": 16,
     "metadata": {},
     "output_type": "execute_result"
    }
   ],
   "source": [
    "adata.obs['centre'].unique()"
   ]
  },
  {
   "cell_type": "code",
   "execution_count": 17,
   "id": "6b42bab7-d2af-4c3d-afdd-7c4fa2e2e346",
   "metadata": {},
   "outputs": [
    {
     "data": {
      "text/plain": [
       "['severe', 'critical', 'moderate', 'mild']\n",
       "Categories (4, object): ['critical', 'mild', 'moderate', 'severe']"
      ]
     },
     "execution_count": 17,
     "metadata": {},
     "output_type": "execute_result"
    }
   ],
   "source": [
    "adata.obs['WHO_severity'].unique()"
   ]
  },
  {
   "cell_type": "code",
   "execution_count": 18,
   "id": "01527f30-a579-4a63-822f-8385a1e34f57",
   "metadata": {},
   "outputs": [
    {
     "data": {
      "text/plain": [
       "['CD14mono', 'CD14mono_IFN', 'RBC', 'CD16mono', 'CD14mono_anti_inflammatory', ..., 'Platelet', 'Int.mono', 'DC3_IFN', 'CD16mono_IFN', 'ASDC']\n",
       "Length: 17\n",
       "Categories (17, object): ['ASDC', 'CD14mono', 'CD14mono_IFN', 'CD14mono_activated', ..., 'Int.mono', 'Platelet', 'RBC', 'pDC']"
      ]
     },
     "execution_count": 18,
     "metadata": {},
     "output_type": "execute_result"
    }
   ],
   "source": [
    "adata.obs['annot4'].unique()"
   ]
  },
  {
   "cell_type": "code",
   "execution_count": 19,
   "id": "25ecf9c7-7b7c-41ae-a8fe-9470707872b2",
   "metadata": {},
   "outputs": [
    {
     "name": "stderr",
     "output_type": "stream",
     "text": [
      "/var/folders/8j/9l3m415n6lvf67bnlp8t9k480000gq/T/ipykernel_49081/2951339596.py:1: ImplicitModificationWarning: Trying to modify attribute `.obs` of view, initializing view as actual.\n",
      "  adata.obs['annot4'] = adata.obs['annot4'].str.replace('CD14mono_activated','CD14mono')\n"
     ]
    }
   ],
   "source": [
    "adata.obs['annot4'] = adata.obs['annot4'].str.replace('CD14mono_activated','CD14mono')\n",
    "adata.obs['annot4'] = adata.obs['annot4'].str.replace('CD14mono_anti_inflammatory','CD14mono_alt_act')"
   ]
  },
  {
   "cell_type": "code",
   "execution_count": 20,
   "id": "6da1e9b8-e730-4a29-a459-a926e666f3ab",
   "metadata": {},
   "outputs": [
    {
     "data": {
      "text/plain": [
       "['CD14mono',\n",
       " 'CD14mono_IFN',\n",
       " 'RBC',\n",
       " 'CD16mono',\n",
       " 'CD14mono_alt_act',\n",
       " 'HSPC',\n",
       " 'DC3',\n",
       " 'CD16mono_C1',\n",
       " 'DC2',\n",
       " 'DC1',\n",
       " 'pDC',\n",
       " 'Platelet',\n",
       " 'Int.mono',\n",
       " 'DC3_IFN',\n",
       " 'CD16mono_IFN',\n",
       " 'ASDC']"
      ]
     },
     "execution_count": 20,
     "metadata": {},
     "output_type": "execute_result"
    }
   ],
   "source": [
    "list(adata.obs['annot4'].unique())"
   ]
  },
  {
   "cell_type": "code",
   "execution_count": 21,
   "id": "f88114fc-5fce-4329-8d3a-8f622e225cf4",
   "metadata": {},
   "outputs": [],
   "source": [
    "adata = adata[adata.obs['annot4'].isin(['CD14mono','CD14mono_IFN', 'CD14mono_alt_act'])]"
   ]
  },
  {
   "cell_type": "code",
   "execution_count": 22,
   "id": "e5be8de2-78ce-4879-9129-a95e8a4f8f87",
   "metadata": {},
   "outputs": [
    {
     "data": {
      "text/plain": [
       "['CD14mono', 'CD14mono_IFN', 'CD14mono_alt_act']"
      ]
     },
     "execution_count": 22,
     "metadata": {},
     "output_type": "execute_result"
    }
   ],
   "source": [
    "list(adata.obs['annot4'].unique())"
   ]
  },
  {
   "cell_type": "code",
   "execution_count": 23,
   "id": "6145b675-5b28-4068-a8d1-059cb26f1a49",
   "metadata": {},
   "outputs": [
    {
     "data": {
      "text/plain": [
       "False"
      ]
     },
     "execution_count": 23,
     "metadata": {},
     "output_type": "execute_result"
    }
   ],
   "source": [
    "'C116' in list(adata.obs['patient_id'].unique())"
   ]
  },
  {
   "cell_type": "code",
   "execution_count": 24,
   "id": "155bf0c5-c689-403f-b865-67eda9ff1646",
   "metadata": {},
   "outputs": [
    {
     "data": {
      "text/plain": [
       "False"
      ]
     },
     "execution_count": 24,
     "metadata": {},
     "output_type": "execute_result"
    }
   ],
   "source": [
    "'C139' in list(adata.obs['patient_id'].unique())"
   ]
  },
  {
   "cell_type": "code",
   "execution_count": 25,
   "id": "b0baccc7-9714-43b2-b39b-146de66b5890",
   "metadata": {},
   "outputs": [
    {
     "data": {
      "text/plain": [
       "True"
      ]
     },
     "execution_count": 25,
     "metadata": {},
     "output_type": "execute_result"
    }
   ],
   "source": [
    "'C141' in list(adata.obs['patient_id'].unique())"
   ]
  },
  {
   "cell_type": "code",
   "execution_count": 26,
   "id": "e9ebd5c4-c004-4d48-9fdc-14b7277a2fa0",
   "metadata": {},
   "outputs": [
    {
     "data": {
      "text/plain": [
       "array(['CD14mono', 'CD14mono_IFN', 'CD14mono_alt_act'], dtype=object)"
      ]
     },
     "execution_count": 26,
     "metadata": {},
     "output_type": "execute_result"
    }
   ],
   "source": [
    "adata.obs['annot4'].unique()"
   ]
  },
  {
   "cell_type": "code",
   "execution_count": 27,
   "id": "cf7e84a1-76f8-49d7-b455-9b23e5ed9806",
   "metadata": {},
   "outputs": [
    {
     "name": "stderr",
     "output_type": "stream",
     "text": [
      "/Users/emily/miniconda3/lib/python3.11/site-packages/scanpy/preprocessing/_simple.py:139: ImplicitModificationWarning: Trying to modify attribute `.obs` of view, initializing view as actual.\n",
      "  adata.obs['n_genes'] = number\n"
     ]
    }
   ],
   "source": [
    "sc.pp.filter_cells(adata, min_genes=200)\n",
    "sc.pp.filter_genes(adata, min_cells=3)"
   ]
  },
  {
   "cell_type": "code",
   "execution_count": 28,
   "id": "5d82bef1-04b8-4fbb-b6a5-69e676dae067",
   "metadata": {},
   "outputs": [],
   "source": [
    "adata.var['mt'] = adata.var_names.str.startswith('MT-')  # annotate the group of mitochondrial genes as 'mt'\n",
    "adata.var['ribo'] = adata.var_names.str.startswith((\"Rps\",\"Rpl\"))\n",
    "sc.pp.calculate_qc_metrics(adata, qc_vars=['mt','ribo'],percent_top=None, log1p=False, inplace=True)"
   ]
  },
  {
   "cell_type": "code",
   "execution_count": 29,
   "id": "504558a9-c427-42b0-8a45-cb7d86e283ae",
   "metadata": {},
   "outputs": [
    {
     "data": {
      "text/plain": [
       "View of AnnData object with n_obs × n_vars = 39528 × 19580\n",
       "    obs: 'annot4', 'centre', 'case_control', 'WHO_severity', 'patient_id', 'n_genes', 'n_genes_by_counts', 'total_counts', 'total_counts_mt', 'pct_counts_mt', 'total_counts_ribo', 'pct_counts_ribo'\n",
       "    var: 'n_cells', 'mt', 'ribo', 'n_cells_by_counts', 'mean_counts', 'pct_dropout_by_counts', 'total_counts'"
      ]
     },
     "execution_count": 29,
     "metadata": {},
     "output_type": "execute_result"
    }
   ],
   "source": [
    "adata= adata[adata.obs.pct_counts_mt < 10, :]\n",
    "adata"
   ]
  },
  {
   "cell_type": "code",
   "execution_count": 30,
   "id": "2bfc9a25-7b07-499d-991e-0d593f80cbbb",
   "metadata": {},
   "outputs": [
    {
     "data": {
      "text/plain": [
       "3685.821967746818"
      ]
     },
     "execution_count": 30,
     "metadata": {},
     "output_type": "execute_result"
    }
   ],
   "source": [
    "adata.X.max()"
   ]
  },
  {
   "cell_type": "code",
   "execution_count": 31,
   "id": "c1e8e099-db14-4a1e-8a64-99437d551808",
   "metadata": {},
   "outputs": [
    {
     "name": "stderr",
     "output_type": "stream",
     "text": [
      "/Users/emily/miniconda3/lib/python3.11/site-packages/scanpy/preprocessing/_normalization.py:169: UserWarning: Received a view of an AnnData. Making a copy.\n",
      "  view_to_actual(adata)\n"
     ]
    }
   ],
   "source": [
    "sc.pp.normalize_total(adata, target_sum=1e4)"
   ]
  },
  {
   "cell_type": "code",
   "execution_count": 32,
   "id": "5fdad866-8117-43b8-9168-6cf5631a7e33",
   "metadata": {},
   "outputs": [],
   "source": [
    "sc.pp.log1p(adata)"
   ]
  },
  {
   "cell_type": "code",
   "execution_count": 33,
   "id": "ff4c50d8-2dcc-4747-b4cf-1f61b3a357a2",
   "metadata": {},
   "outputs": [
    {
     "data": {
      "text/html": [
       "<div>\n",
       "<style scoped>\n",
       "    .dataframe tbody tr th:only-of-type {\n",
       "        vertical-align: middle;\n",
       "    }\n",
       "\n",
       "    .dataframe tbody tr th {\n",
       "        vertical-align: top;\n",
       "    }\n",
       "\n",
       "    .dataframe thead th {\n",
       "        text-align: right;\n",
       "    }\n",
       "</style>\n",
       "<table border=\"1\" class=\"dataframe\">\n",
       "  <thead>\n",
       "    <tr style=\"text-align: right;\">\n",
       "      <th></th>\n",
       "      <th>GC</th>\n",
       "      <th>HDL</th>\n",
       "      <th>IFNb</th>\n",
       "      <th>IFNg</th>\n",
       "      <th>IFNg_TNF</th>\n",
       "      <th>IL10</th>\n",
       "      <th>IL13</th>\n",
       "      <th>IL4</th>\n",
       "      <th>IL4_upLPS</th>\n",
       "      <th>TNF</th>\n",
       "      <th>sLPS</th>\n",
       "      <th>sLPS_IC</th>\n",
       "      <th>sLPS_IFNg</th>\n",
       "      <th>upLPS</th>\n",
       "      <th>upLPS_IC</th>\n",
       "    </tr>\n",
       "  </thead>\n",
       "  <tbody>\n",
       "    <tr>\n",
       "      <th>0</th>\n",
       "      <td>GLDN</td>\n",
       "      <td>LOC653352</td>\n",
       "      <td>C9orf38</td>\n",
       "      <td>GBP5</td>\n",
       "      <td>CSF1</td>\n",
       "      <td>HCFC1R1</td>\n",
       "      <td>ALOX15</td>\n",
       "      <td>ALOX15</td>\n",
       "      <td>ALOX15</td>\n",
       "      <td>CCL5</td>\n",
       "      <td>CXCR7</td>\n",
       "      <td>MYBPC3</td>\n",
       "      <td>GBP5</td>\n",
       "      <td>PCNX</td>\n",
       "      <td>SRPX</td>\n",
       "    </tr>\n",
       "    <tr>\n",
       "      <th>1</th>\n",
       "      <td>SRPX</td>\n",
       "      <td>YIPF6</td>\n",
       "      <td>ACY3</td>\n",
       "      <td>LOC400759</td>\n",
       "      <td>CCL5</td>\n",
       "      <td>SPOCD1</td>\n",
       "      <td>FOXQ1</td>\n",
       "      <td>FOXQ1</td>\n",
       "      <td>IL17RB</td>\n",
       "      <td>CD82</td>\n",
       "      <td>PTPRF</td>\n",
       "      <td>IL2RA</td>\n",
       "      <td>PCNX</td>\n",
       "      <td>ANG</td>\n",
       "      <td>TBL2</td>\n",
       "    </tr>\n",
       "    <tr>\n",
       "      <th>2</th>\n",
       "      <td>ZBTB16</td>\n",
       "      <td>MOGAT1</td>\n",
       "      <td>MGAT4B</td>\n",
       "      <td>CXCL9</td>\n",
       "      <td>C20orf123</td>\n",
       "      <td>P8</td>\n",
       "      <td>PPP1R14A</td>\n",
       "      <td>PPP1R14A</td>\n",
       "      <td>CCL26</td>\n",
       "      <td>NFS1</td>\n",
       "      <td>FAM108C1</td>\n",
       "      <td>CXCR7</td>\n",
       "      <td>GCH1</td>\n",
       "      <td>RNASE4</td>\n",
       "      <td>LRG1</td>\n",
       "    </tr>\n",
       "    <tr>\n",
       "      <th>3</th>\n",
       "      <td>TBC1D16</td>\n",
       "      <td>PRPF40A</td>\n",
       "      <td>LOC732424</td>\n",
       "      <td>GBP1</td>\n",
       "      <td>IL2RG</td>\n",
       "      <td>ADAMTSL4</td>\n",
       "      <td>DHRS11</td>\n",
       "      <td>MAOA</td>\n",
       "      <td>WNT5A</td>\n",
       "      <td>SLC5A3</td>\n",
       "      <td>KIAA1199</td>\n",
       "      <td>PCNX</td>\n",
       "      <td>LOC399715</td>\n",
       "      <td>SPARC</td>\n",
       "      <td>MS4A6E</td>\n",
       "    </tr>\n",
       "    <tr>\n",
       "      <th>4</th>\n",
       "      <td>LOC647108</td>\n",
       "      <td>LOC642033</td>\n",
       "      <td>PITX2</td>\n",
       "      <td>GBP4</td>\n",
       "      <td>GBP4</td>\n",
       "      <td>CTSG</td>\n",
       "      <td>IL1R1</td>\n",
       "      <td>SOCS1</td>\n",
       "      <td>TGM2</td>\n",
       "      <td>RCN1</td>\n",
       "      <td>EMR3</td>\n",
       "      <td>MLLT6</td>\n",
       "      <td>MYBPC3</td>\n",
       "      <td>FTHL12</td>\n",
       "      <td>C1S</td>\n",
       "    </tr>\n",
       "  </tbody>\n",
       "</table>\n",
       "</div>"
      ],
      "text/plain": [
       "          GC        HDL       IFNb       IFNg   IFNg_TNF      IL10      IL13  \\\n",
       "0       GLDN  LOC653352    C9orf38       GBP5       CSF1   HCFC1R1    ALOX15   \n",
       "1       SRPX      YIPF6       ACY3  LOC400759       CCL5    SPOCD1     FOXQ1   \n",
       "2     ZBTB16     MOGAT1     MGAT4B      CXCL9  C20orf123        P8  PPP1R14A   \n",
       "3    TBC1D16    PRPF40A  LOC732424       GBP1      IL2RG  ADAMTSL4    DHRS11   \n",
       "4  LOC647108  LOC642033      PITX2       GBP4       GBP4      CTSG     IL1R1   \n",
       "\n",
       "        IL4 IL4_upLPS     TNF      sLPS sLPS_IC  sLPS_IFNg   upLPS upLPS_IC  \n",
       "0    ALOX15    ALOX15    CCL5     CXCR7  MYBPC3       GBP5    PCNX     SRPX  \n",
       "1     FOXQ1    IL17RB    CD82     PTPRF   IL2RA       PCNX     ANG     TBL2  \n",
       "2  PPP1R14A     CCL26    NFS1  FAM108C1   CXCR7       GCH1  RNASE4     LRG1  \n",
       "3      MAOA     WNT5A  SLC5A3  KIAA1199    PCNX  LOC399715   SPARC   MS4A6E  \n",
       "4     SOCS1      TGM2    RCN1      EMR3   MLLT6     MYBPC3  FTHL12      C1S  "
      ]
     },
     "execution_count": 33,
     "metadata": {},
     "output_type": "execute_result"
    }
   ],
   "source": [
    "target_genes.head()"
   ]
  },
  {
   "cell_type": "code",
   "execution_count": 34,
   "id": "e846945d-5c9f-405c-9037-4851599d66c6",
   "metadata": {},
   "outputs": [
    {
     "data": {
      "text/plain": [
       "15"
      ]
     },
     "execution_count": 34,
     "metadata": {},
     "output_type": "execute_result"
    }
   ],
   "source": [
    "len(target_genes.columns)"
   ]
  },
  {
   "cell_type": "code",
   "execution_count": 35,
   "id": "9c6ebd8c-1054-468a-af92-e27f8e1347ab",
   "metadata": {},
   "outputs": [],
   "source": [
    "def intersection(lst1, lst2):\n",
    "    lst3 = [value for value in lst1 if value in lst2]\n",
    "    return lst3"
   ]
  },
  {
   "cell_type": "code",
   "execution_count": 36,
   "id": "25c4a6aa-e9d8-4bfe-ae94-e2b1d2efc5f4",
   "metadata": {},
   "outputs": [
    {
     "name": "stdout",
     "output_type": "stream",
     "text": [
      "WARNING: genes are not in var_names and ignored: ['SRPX', 'LOC647108', 'XLKD1', 'MS4A6E', 'C5orf62', 'LOC652541', 'PRKCABP', 'SLED1', 'SEPP1', 'C10orf128', 'LOC653631', 'AMY2A']\n",
      "GC\n",
      "['GLDN', 'SRPX', 'ZBTB16', 'TBC1D16', 'LOC647108', 'DAAM2', 'TFCP2L1', 'ADAMTS2', 'CFH', 'SESN1', 'PDGFD', 'METTL7A', 'MFGE8', 'PDGFC', 'AGRP', 'PICK1', 'CPM', 'SAP30', 'PDK4', 'EPDR1', 'FCGR3A', 'XLKD1', 'MS4A6E', 'ABLIM3', 'FLRT2', 'MAN1A1', 'DACT1', 'SHE', 'ALOX15B', 'PIK3IP1', 'PON2', 'TCN2', 'SERPINF1', 'EIF4A3', 'RNASE2', 'ALCAM', 'GLUL', 'C5orf62', 'LOC652541', 'IDH1', 'GIMAP1', 'EPS8', 'ECHDC3', 'MS4A4A', 'SLC40A1', 'AMY2B', 'TPST1', 'ELANE', 'CLIC2', 'CTNS', 'ADORA3', 'SHMT1', 'MPZL2', 'P2RY12', 'PLCH1', 'GPRC5C', 'GADD45B', 'FAH', 'TIMP4', 'KLF9', 'FBLN5', 'C1QA', 'ANTXR2', 'PRKCABP', 'CCL18', 'GAL3ST4', 'ANKS1A', 'C1QB', 'SNTB1', 'CLTC', 'GFRA2', 'SIGLEC10', 'SH3PXD2B', 'ACSS1', 'IL1R2', 'TLR4', 'GBGT1', 'SLED1', 'PEBP1', 'BRPF3', 'TEX2', 'BLVRB', 'ITGA9', 'DISP1', 'RNASE3', 'SOCS1', 'TSC22D3', 'OLAH', 'SLC1A3', 'SEPP1', 'KIF16B', 'C10orf128', 'LOC653631', 'AMY2A', 'BCL2L11', 'CD164', 'TXNIP', 'TFPI', 'F13A1', 'CD7']\n",
      "WARNING: genes are not in var_names and ignored: ['LOC653352', 'LOC642033', 'GOLPH4', 'LOC388458', 'CCDC110', 'LOC727948', 'LOC730995', 'TSPAN12', 'FLJ20309', 'LOC653515', 'LOC646863', 'LOC649037', 'LOC196752', 'C4B', 'LOC644162', 'CDC2L2', 'MRAP', 'LOC649495', 'FLJ44674', 'FCN2', 'HRB', 'LOC441662', 'FLJ22184', 'LOC643953', 'LOC652455', 'UGCGL1', 'LOC642335', 'LOC652726', 'LOC441155', 'SPINLW1', 'LOC652802', 'SSX4', 'NDRG4', 'LOC642628', 'INS-IGF2', 'LOC650950', 'SC4MOL', 'C20orf94', 'C4orf31', 'HYDIN', 'SLC12A1', 'PDXDC2', 'FAM181A', 'LOC649260', 'MLL5', 'RGNEF', 'LOC643913', 'LOC730196', 'CMYA3', 'CNBD1', 'LOC651167', 'NUDT4P1', 'LOC653468', 'NGF', 'LOC391555', 'LOC729249', 'CCDC16']\n",
      "HDL\n",
      "['LOC653352', 'YIPF6', 'MOGAT1', 'PRPF40A', 'LOC642033', 'UHMK1', 'MADCAM1', 'ASXL2', 'GOLPH4', 'LOC388458', 'HMGCR', 'ARID4B', 'FBXW7', 'CCDC110', 'GAS2L3', 'LOC727948', 'ITPRIPL2', 'AAK1', 'UGP2', 'PLEKHB2', 'TAZ', 'LOC730995', 'TSPAN12', 'RSPRY1', 'FLJ20309', 'LOC653515', 'RABGAP1', 'LOC646863', 'PAK2', 'RAD21', 'LOC649037', 'LOC196752', 'C4B', 'FGFR1', 'ABCD4', 'LOC644162', 'VPS13C', 'CDC2L2', 'PLEKHA1', 'MRAP', 'ATXN3', 'LOC649495', 'UBN2', 'FLJ44674', 'FCN2', 'HRB', 'PUM1', 'LOC441662', 'WHAMM', 'FLJ22184', 'LOC643953', 'LOC652455', 'OPA3', 'UGCGL1', 'LOC642335', 'ZBTB34', 'LOC652726', 'LOC441155', 'SPINLW1', 'RAB40C', 'LOC652802', 'NBPF20', 'BLZF1', 'SSX4', 'BAZ1A', 'NDRG4', 'LOC642628', 'ARL8A', 'INS-IGF2', 'LOC650950', 'SC4MOL', 'PHKA2', 'MLANA', 'C20orf94', 'MDM2', 'C4orf31', 'HYDIN', 'SLC12A1', 'PPTC7', 'SRFBP1', 'PDXDC2', 'TAF13', 'GNE', 'FAM181A', 'LOC649260', 'MLL5', 'ALKBH8', 'RGNEF', 'LOC643913', 'LOC730196', 'CMYA3', 'CNBD1', 'LOC651167', 'PPFIBP1', 'NUDT4P1', 'LOC653468', 'NGF', 'LOC391555', 'LOC729249', 'CCDC16']\n",
      "WARNING: genes are not in var_names and ignored: ['C9orf38', 'LOC732424', 'PITX2', 'HCRTR2', 'GAGE1', 'C6orf134', 'LOC728081', 'MOG', 'RKHD1', 'LOC653206', 'C16orf90', 'LYZL4', 'LOC440013', 'LOC644976', 'DKFZp761O2018', 'FAM155A', 'LOC647681', 'LOC645334', 'LOC650881', 'LOC643747', 'C9orf29', 'MYF5', 'LOC132707', 'LOC644975', 'LOC392221', 'LOC647680', 'LOC441847', 'CPXM2', 'TMC3', 'LOC128322', 'C9orf135', 'GRP', 'LOC644662', 'SRPX', 'PRAMEF1', 'SNORA33', 'NLRP11', 'LOC442517', 'PCDHB3', 'GAGE5', 'LOC642685', 'FLJ39061', 'LOC644444', 'CAPZA3', 'C8orf22', 'LOC283278', 'LOC653441', 'LOC731884', 'FOXA2', 'LOC648735', 'LOC643692', 'TMEM110', 'LOC642595', 'LOC732226', 'LOC647666', 'NXF2B', 'LOC440292', 'TTTY5', 'HSFY1', 'DYX1C1', 'LOC389394', 'KIAA1772', 'RNASE8', 'AGR3', 'GDF10']\n",
      "IFNb\n",
      "['C9orf38', 'ACY3', 'MGAT4B', 'LOC732424', 'PITX2', 'CNDP1', 'NRG2', 'HCRTR2', 'C6orf52', 'GAGE1', 'C6orf134', 'LOC728081', 'MOG', 'TNXB', 'RKHD1', 'LOC653206', 'C16orf90', 'ZNF30', 'IFI27', 'MTTP', 'UTP20', 'LYZL4', 'LOC440013', 'MBLAC1', 'LOC644976', 'DKFZp761O2018', 'ZNF77', 'MARVELD2', 'FAM155A', 'FAM110C', 'TTC7A', 'LOC647681', 'TLR3', 'LOC645334', 'LOC650881', 'LOC643747', 'C9orf29', 'MYF5', 'LOC132707', 'LOC644975', 'LOC392221', 'AXL', 'LOC647680', 'LOC441847', 'CPXM2', 'TMC3', 'LOC128322', 'C9orf135', 'GRP', 'LOC644662', 'SRPX', 'PRAMEF1', 'PADI4', 'ZNF667', 'SNORA33', 'NLRP11', 'LOC442517', 'ZNF468', 'PHLPP2', 'PCDHB3', 'GAGE5', 'ST8SIA6', 'LOC642685', 'FLJ39061', 'NKD1', 'CCDC80', 'ATF7IP2', 'LOC644444', 'NWD1', 'CAPZA3', 'C8orf22', 'LOC283278', 'ZC3H18', 'LOC653441', 'LOC731884', 'NAV3', 'SLC35C1', 'FOXA2', 'FIBP', 'LOC648735', 'LOC643692', 'TMEM110', 'LOC642595', 'LOC732226', 'LOC647666', 'WDR73', 'NXF2B', 'KIAA1143', 'LOC440292', 'TTTY5', 'OAS2', 'HSFY1', 'DYX1C1', 'TBRG1', 'LOC389394', 'KIAA1772', 'RNASE8', 'RTN4RL2', 'AGR3', 'GDF10']\n",
      "WARNING: genes are not in var_names and ignored: ['LOC400759', 'FAM26F', 'C9orf109', 'MGC33556', 'C20orf123', 'C21orf7', 'NCF1C', 'C15orf24', 'PRRX1', 'CRYAB', 'LOC652616', 'LOC730249', 'LOC284672', 'LOC650518', 'C18orf8']\n",
      "IFNg\n",
      "['GBP5', 'LOC400759', 'CXCL9', 'GBP1', 'GBP4', 'FAM26F', 'CXCL10', 'WARS', 'APOBEC3A', 'SERPING1', 'IRF1', 'RARRES3', 'AIM2', 'STAT1', 'IL27', 'HAPLN3', 'ANKRD22', 'GCH1', 'C9orf109', 'BPI', 'GBP2', 'BATF2', 'VAMP5', 'CD274', 'MDK', 'TAP1', 'ETV7', 'UBE2L6', 'EDN1', 'APOL3', 'SLC6A12', 'RHBDF2', 'PARP14', 'SEPT4', 'PSMB9', 'ITGB7', 'JAK2', 'SNX10', 'MUC1', 'MGC33556', 'ASCL2', 'CFB', 'CD38', 'PSME2', 'IFIT2', 'BTN3A1', 'LAP3', 'CUL1', 'C20orf123', 'ELF4', 'WDFY1', 'COLQ', 'NFIX', 'APOL6', 'XKR8', 'PPARGC1B', 'C21orf7', 'SLAMF7', 'NCF1C', 'GPC4', 'XRN1', 'RCN1', 'FAM126B', 'STX11', 'AKIRIN2', 'FCGR1A', 'C15orf24', 'PRRX1', 'APOL2', 'HLA-G', 'CTRL', 'PLEKHO1', 'FEM1C', 'CRYAB', 'ZBTB43', 'SLCO4A1', 'PSMB10', 'PATL1', 'CCL8', 'PARP3', 'SP140', 'EAF1', 'SCML1', 'REC8', 'ELMO2', 'MATK', 'BTN3A3', 'SSPN', 'LOC652616', 'HLA-E', 'TMEM140', 'IFIT3', 'LOC730249', 'CSRNP2', 'PTPN1', 'LOC284672', 'LOC650518', 'ZNFX1', 'TIFA', 'C18orf8']\n",
      "WARNING: genes are not in var_names and ignored: ['C20orf123', 'GPR124', 'FTHL3', 'NCF1C', 'FTHL11', 'PCNX', 'SRPR', 'EFTUD1', 'FTHL12', 'FAM119B', 'C1orf66', 'LOC283050', 'UBD', 'BHLHB3', 'C9orf164', 'TMEM194', 'LOC652616', 'PFTK1', 'C9orf30', 'FTHL2', 'UQCC', 'NES', 'CCDC109A', 'GUCY1A3']\n",
      "IFNg_TNF\n",
      "['CSF1', 'CCL5', 'C20orf123', 'IL2RG', 'GBP4', 'GPR124', 'CXCL9', 'CYP27B1', 'PPME1', 'GBP5', 'PARP3', 'TSPAN3', 'NFS1', 'CTTN', 'FTHL3', 'TMEM132A', 'WARS', 'RHBDF2', 'NCF1C', 'SLC29A1', 'TRIM56', 'FTHL11', 'MANBAL', 'IKBKE', 'MITF', 'XPC', 'PCNX', 'SRPR', 'ACVR1B', 'EFTUD1', 'CD82', 'ENO2', 'FTHL12', 'RHBDD1', 'ZNF585A', 'FAM119B', 'ZSWIM4', 'C1orf66', 'LOC283050', 'RCN1', 'TERF2IP', 'KCTD13', 'UBD', 'CNIH4', 'BHLHB3', 'GPC4', 'SCARF1', 'SLCO4A1', 'CLN5', 'FNBP4', 'SNX10', 'SERPING1', 'SPG11', 'NCF1', 'C9orf164', 'GDI1', 'CRISPLD2', 'SLC1A5', 'CSRNP2', 'TMEM194', 'TRAF3IP2', 'APBA3', 'BAZ1B', 'SPTAN1', 'KIF1B', 'PARP14', 'TMEM140', 'CBX8', 'LOC652616', 'ZNF385A', 'PFTK1', 'C9orf30', 'SLC3A2', 'EBAG9', 'ISCU', 'TBX19', 'CXCL10', 'MKLN1', 'FTHL2', 'LAT', 'ZNF436', 'GATAD2B', 'UQCC', 'HLA-F', 'YPEL4', 'CD38', 'APOL3', 'RHBDF1', 'PSME2', 'MT1G', 'MT1E', 'CD86', 'HDGF', 'FMNL3', 'NES', 'SLC6A12', 'CCDC109A', 'CALCOCO1', 'ASCL2', 'GUCY1A3']\n",
      "WARNING: genes are not in var_names and ignored: ['P8', 'NGFRAP1', 'LOC401321', 'LOC387934', 'LOC652541', 'RBP3', 'KIAA0194', 'LOC653199', 'PCOLCE2', 'PIP', 'LOC652839', 'C1orf152', 'SFRS12', 'KRT77', 'C20orf186', 'C10orf71', 'C15orf17', 'FAM82A2', 'LOC643870', 'NACAP1', nan, nan, nan, nan, nan, nan, nan, nan, nan, nan, nan, nan, nan, nan, nan, nan, nan, nan, nan, nan, nan, nan, nan, nan, nan, nan]\n",
      "IL10\n",
      "['HCFC1R1', 'SPOCD1', 'P8', 'ADAMTSL4', 'CTSG', 'CEACAM1', 'GADD45G', 'NUPR1', 'ANXA11', 'S100P', 'ZNF16', 'NGFRAP1', 'BOK', 'AGRP', 'TCEAL3', 'LOC401321', 'CTRL', 'CDCA4', 'RNF126', 'FCGR3A', 'LOC387934', 'TP53I13', 'LOC652541', 'SEZ6L2', 'SPATA2L', 'RBP3', 'CAT', 'RBP1', 'FCGR1B', 'VEGFB', 'RILPL1', 'KIAA0194', 'NRP2', 'LOC653199', 'PCOLCE2', 'PIP', 'PRKRIP1', 'ABCF1', 'GPRIN3', 'APOC1', 'TMEM127', 'TNNT1', 'LOC652839', 'KCNQ1', 'CCDC92', 'ZNF687', 'C1orf152', 'FABP3', 'EAF1', 'SFRS12', 'KRT77', 'IL17RB', 'C20orf186', 'C10orf71', 'CCDC106', 'C15orf17', 'PCSK5', 'GCHFR', 'CLEC7A', 'CORO2A', 'TREM2', 'FAM104B', 'TCN1', 'SIL1', 'SLC16A5', 'DPEP3', 'FAM82A2', 'CDK9', 'LOC643870', 'CPE', 'DPP4', 'SHPK', 'ZNF668', 'NACAP1', nan, nan, nan, nan, nan, nan, nan, nan, nan, nan, nan, nan, nan, nan, nan, nan, nan, nan, nan, nan, nan, nan, nan, nan, nan, nan]\n",
      "WARNING: genes are not in var_names and ignored: ['FOXQ1', 'GALNTL4', 'MGC4677', 'LOC643007', 'CYLC2', 'RNU2-1', 'CRH', 'SOX8', 'THEX1', 'LOC641848', 'KRT17', 'LOC387934', 'C14orf173', 'C1orf218', 'LOC284023', 'DKFZp761P0423', 'RPL13L', 'HSPC159', 'LOC152195', 'C17orf87', 'GK2', 'PTRF', 'FAM26C', 'LOC730432', 'FAM44B', 'C14orf78', 'TSKU', 'MUTED', 'LOC654074']\n",
      "IL13\n",
      "['ALOX15', 'FOXQ1', 'PPP1R14A', 'DHRS11', 'IL1R1', 'MAOA', 'CTNNAL1', 'RASL10A', 'ESPNL', 'ACOT7', 'SLC39A10', 'RTKN', 'EGLN3', 'IL1R2', 'DTNA', 'GALNTL4', 'HCFC1R1', 'HOMER2', 'MGC4677', 'LOC643007', 'NMNAT3', 'TPM2', 'CYLC2', 'XPNPEP2', 'RNU2-1', 'RAB40B', 'CRH', 'NMD3', 'SOCS1', 'ITPRIPL1', 'C1orf50', 'CDR2L', 'RAB33A', 'SOX8', 'THEX1', 'ZNF808', 'ALDH5A1', 'LOC641848', 'PPM1F', 'PROC', 'BATF3', 'KRT17', 'MRPL55', 'RAP1GAP', 'LOC387934', 'FCER2', 'APPL1', 'PPP1R16A', 'PALLD', 'C1orf54', 'C14orf173', 'C1orf218', 'ZNF16', 'ETV6', 'CBR3', 'LOC284023', 'NFIL3', 'ABAT', 'SYT17', 'GPD1L', 'IGF2BP2', 'EPN2', 'DENND4C', 'ST13', 'DKFZp761P0423', 'RPL13L', 'PLCB1', 'CLYBL', 'HSPC159', 'CERK', 'RPL14', 'ADAM12', 'SHPK', 'RHCE', 'RRP1B', 'SLC30A4', 'LOC152195', 'C17orf87', 'C19orf12', 'GK2', 'PTRF', 'FAM26C', 'KCNQ1', 'ISYNA1', 'LOC730432', 'FAM44B', 'EGR3', 'C14orf78', 'ZNF317', 'METTL7A', 'ADO', 'TTC9C', 'TSKU', 'GOLGA8B', 'UQCRH', 'ASCL2', 'MUTED', 'RGS10', 'LOC654074', 'NFX1']\n",
      "WARNING: genes are not in var_names and ignored: ['FOXQ1', 'GALNTL4', 'MGC4677', 'ANKRD20A1', 'DUOXA1', 'SOX8', 'DHRS2', 'DKFZp761P0423', 'CCDC90A', 'KRT17', 'LOC152195', 'C17orf87', 'CRH', 'CHES1', 'THEX1', 'MMP12', 'C1orf218', 'C14orf173', 'PTRF', 'CCL17', 'PHF17', 'CCL15']\n",
      "IL4\n",
      "['ALOX15', 'FOXQ1', 'PPP1R14A', 'MAOA', 'SOCS1', 'HOMER2', 'RAB33A', 'GALNTL4', 'CDR2L', 'CTNNAL1', 'DHRS11', 'ESPNL', 'FCER2', 'CBR3', 'PALLD', 'BATF3', 'ACOT7', 'NMNAT3', 'RRP1B', 'MGC4677', 'ANKRD20A1', 'DUOXA1', 'RASL10A', 'ITPRIPL1', 'IL1R2', 'DUOX1', 'RAMP1', 'SYT17', 'SOX8', 'EPN2', 'WNT5B', 'DTNA', 'CCL26', 'DHRS2', 'WNT5A', 'SUCNR1', 'DKFZp761P0423', 'GOLGA8B', 'CCDC90A', 'KRT17', 'PELP1', 'CLIC2', 'PPM1F', 'XPNPEP2', 'FAM126A', 'RTKN', 'AUH', 'NAGPA', 'ASCL2', 'RAP1GAP', 'ARHGAP10', 'IL1R1', 'KIAA1671', 'LOC152195', 'TPM2', 'C1orf54', 'CD209', 'TTC9C', 'DAGLA', 'MAP1A', 'C17orf87', 'CRH', 'GFRA2', 'ST6GAL1', 'IGF2BP2', 'CCNH', 'ETV6', 'CKB', 'PFKP', 'SLA', 'HARS2', 'ARV1', 'RAB40B', 'SHPK', 'GPD1L', 'CHES1', 'ITM2C', 'THEX1', 'MMP12', 'CCL22', 'GOLGA8A', 'ZNF366', 'C1orf218', 'GALNT12', 'FCER1A', 'C14orf173', 'PTRF', 'MAL', 'CCL17', 'BCAR3', 'HLX', 'ALDH5A1', 'EGLN3', 'HES6', 'CERK', 'IRF4', 'FZD2', 'CAMK1D', 'PHF17', 'CCL15']\n",
      "WARNING: genes are not in var_names and ignored: ['GALNTL4', 'FOXQ1', 'LHFP', 'ACPL2', 'SULT1C2', 'CRH', 'C17orf87', 'CCL17', 'C3orf21', 'C1QTNF1', 'FLJ11795', 'TNFRSF6B', 'GCNT3', 'CCL15', 'CCDC90A']\n",
      "IL4_upLPS\n",
      "['ALOX15', 'IL17RB', 'CCL26', 'WNT5A', 'TGM2', 'GALNTL4', 'FOXQ1', 'MAOA', 'LHFP', 'SOCS1', 'C17orf58', 'CCL5', 'UST', 'DHRS11', 'CCL18', 'ACOT7', 'PPP1R14A', 'PLAT', 'CTNNAL1', 'HOMER2', 'CLEC4G', 'FCER2', 'ACPL2', 'METTL1', 'NFS1', 'BATF3', 'CD209', 'ABCB4', 'RCN1', 'DUOX1', 'SLAMF1', 'SULT1C2', 'HOPX', 'IL1R2', 'CHN2', 'PDCD1LG2', 'CRH', 'PALLD', 'LRRC32', 'C17orf87', 'G6PD', 'ACOX3', 'GGT5', 'LYRM1', 'MAT2A', 'RAMP1', 'AUH', 'CCL17', 'SHPK', 'C3orf21', 'CCL23', 'GADD45A', 'ZNF317', 'CD274', 'IL3RA', 'ESPNL', 'C1QTNF1', 'IL2RA', 'PELP1', 'RNF19B', 'AK2', 'SEMA4A', 'PTPRE', 'CTTN', 'CYP27B1', 'ZWILCH', 'ST6GAL1', 'ADAM19', 'CFB', 'ARRDC4', 'CCDC6', 'ITPRIPL1', 'ETV6', 'DAAM1', 'MATK', 'PKD2', 'BID', 'PTGES2', 'SPINT2', 'SLC5A3', 'C1S', 'GNL3', 'CD200', 'SIGLEC10', 'BCAR3', 'PPRC1', 'DCUN1D3', 'GART', 'FLJ11795', 'TNFRSF6B', 'SRGN', 'GCNT3', 'EHF', 'CCL15', 'CCDC90A', 'MRPS6', 'ALDH9A1', 'SYN1', 'SMAD6', 'DNASE1L3']\n",
      "WARNING: genes are not in var_names and ignored: ['C20orf127', 'C1QTNF1', 'SELM', 'MTE', 'FTHL3', 'FTHL11', 'PCNX', 'FTHL2', 'CA12', 'FTHL8', 'LAD1', 'TREML3', 'KIAA1949', 'EFTUD1', 'NCF1C', 'FTHL12', 'GPR124']\n",
      "TNF\n",
      "['CCL5', 'CD82', 'NFS1', 'SLC5A3', 'RCN1', 'ZSWIM4', 'CTTN', 'MAP1LC3A', 'G0S2', 'CRISPLD2', 'PTPRF', 'ADARB1', 'C20orf127', 'ADAMDEC1', 'C1QTNF1', 'MRPS6', 'PARP10', 'MT1H', 'TNIP1', 'SELM', 'STOM', 'PNKD', 'RHBDF2', 'DRAM1', 'SLC9A1', 'SLC3A2', 'MT1F', 'LAT', 'RASGRP1', 'MTF1', 'MTE', 'CFB', 'MT1E', 'FTHL3', 'CDC42EP5', 'TMEM132A', 'ZNF281', 'FTHL11', 'PTPN1', 'TNFAIP6', 'APOL3', 'LAMB3', 'NKG7', 'IKBKE', 'CYP27B1', 'PCNX', 'GPR84', 'FTHL2', 'MPZL1', 'USP13', 'MYPOP', 'DTX2', 'MT1G', 'CD38', 'GYPC', 'TMEM205', 'CA12', 'MT1X', 'TRAF3IP2', 'YARS', 'PTGES', 'FTHL8', 'CFLAR', 'HLA-F', 'BAZ1B', 'LAD1', 'TSPAN3', 'MMP9', 'MANBAL', 'ACO1', 'EXOG', 'CEP350', 'FAM20A', 'IL2RA', 'HLA-A', 'FTH1', 'CLCN7', 'ATG2A', 'MT1A', 'TREML3', 'SIK3', 'GRAMD1A', 'GCH1', 'NADK', 'CLEC4D', 'KIAA1949', 'NFE2L1', 'EFTUD1', 'NCF1C', 'MT2A', 'PLAGL2', 'SRGN', 'FTHL12', 'SLC1A3', 'SPARC', 'GPR124', 'ALOX15B', 'PARP3', 'FYN', 'TUBE1']\n",
      "WARNING: genes are not in var_names and ignored: ['CXCR7', 'FAM108C1', 'KIAA1199', 'EMR3', 'C1QTNF1', 'PCNX', 'LOC653778', 'LOC654103', 'FTHL2', 'CYP26A1', 'FLJ42986', 'CA12', 'LOC650369', 'FTHL11', 'WDR52', 'FTHL3', 'SELM', 'FTHL8', 'LAD1', 'IL1F9', 'FTHL12']\n",
      "sLPS\n",
      "['CXCR7', 'PTPRF', 'FAM108C1', 'KIAA1199', 'EMR3', 'C1QTNF1', 'ZSWIM4', 'G0S2', 'HIF1A', 'MET', 'PIM2', 'IL2RA', 'TRAF3IP2', 'PANX2', 'SLC25A37', 'KL', 'BMP6', 'MPZL1', 'A4GALT', 'PCNX', 'SLC5A3', 'LOC653778', 'VEGFA', 'MLLT6', 'VNN3', 'ZNF281', 'ADARB1', 'FJX1', 'PDE4D', 'FPR2', 'LOC654103', 'FTHL2', 'EREG', 'HEY1', 'STAT4', 'TFPI', 'SOD2', 'PRDM8', 'FTH1', 'MRPS6', 'CYP3A5', 'TNIP1', 'PTPN1', 'MAP1LC3A', 'CXCL1', 'CYP26A1', 'PRKCH', 'POLDIP3', 'F11R', 'TNFAIP6', 'ADORA2A', 'FLJ42986', 'TRIP10', 'CRISPLD2', 'PGS1', 'SLC36A4', 'CEP350', 'CD82', 'CA12', 'LOC650369', 'PDE4B', 'CXCL5', 'FTHL11', 'EHD1', 'SRGN', 'WDR52', 'MAMLD1', 'GRAMD1A', 'RAPGEF1', 'BTG3', 'SESTD1', 'NCK2', 'NAMPT', 'ADAMDEC1', 'DLL1', 'FTHL3', 'CSGALNACT1', 'VNN1', 'LAT', 'USP13', 'SELM', 'NINJ1', 'SEMA6B', 'SLC43A2', 'SLC16A10', 'GADD45A', 'ETS2', 'FTHL8', 'ILDR1', 'RNF145', 'ELL2', 'FYN', 'GLIS3', 'RHBDF2', 'LAD1', 'IL1F9', 'ELL', 'FTHL12', 'SRPK1', 'SLC7A11']\n",
      "WARNING: genes are not in var_names and ignored: ['CXCR7', 'PCNX', 'FAM108C1', 'LRRC38', 'TSPAN7', 'WDR52', 'LOC652844', 'LOC643958', 'LOC650369', 'C20orf160', 'LOC641938', 'LOC654103', 'KIAA1199', 'IL1F9', 'C1orf38', 'C1QTNF1', 'FTHL3', 'LOC399715', 'FTHL11', 'LOC643011', 'EMR3', 'CRAMP1L', 'LOC286208']\n",
      "sLPS_IC\n",
      "['MYBPC3', 'IL2RA', 'CXCR7', 'PCNX', 'MLLT6', 'FAM108C1', 'FPR2', 'CRISPLD2', 'SLC25A37', 'MAP1LC3A', 'LRRC38', 'SLC5A3', 'VNN3', 'ZSWIM4', 'VNN1', 'FJX1', 'PIM2', 'ADAMDEC1', 'TSPAN7', 'GHRL', 'WDR52', 'DLL1', 'SLC7A11', 'KL', 'SYT11', 'HIF1A', 'EPB41L3', 'LOC652844', 'PTPRF', 'CDC42EP5', 'ETS2', 'THBS4', 'CXCL6', 'CLDND2', 'CXCL5', 'LOC643958', 'PTPN1', 'YOD1', 'STAT4', 'LOC650369', 'SLC43A2', 'MYPOP', 'SOD2', 'IER3', 'C20orf160', 'LOC641938', 'LOC654103', 'USP13', 'RNF145', 'MCTP2', 'GRAMD1A', 'VEGFA', 'WDR33', 'PANX2', 'SESTD1', 'IL13RA1', 'MFAP3', 'LILRB1', 'GPR84', 'KIAA1199', 'FBXL20', 'CBLN3', 'SLAMF1', 'IL10RA', 'SLC16A10', 'IL1F9', 'FOXC1', 'C1orf38', 'ST3GAL2', 'MDM1', 'TNFAIP6', 'HEATR6', 'UIMC1', 'GLIS3', 'WSB1', 'IL1A', 'A4GALT', 'VAMP4', 'GNRH1', 'LRCH4', 'NAF1', 'CYP3A5', 'C1QTNF1', 'FTHL3', 'SRGN', 'LOC399715', 'FTHL11', 'AGAP3', 'TTC14', 'NFKBIA', 'PRR16', 'SYCE1', 'LOC643011', 'TRAF3IP2', 'DTX2', 'EMR3', 'AMPD3', 'CRAMP1L', 'LOC286208', 'FTH1']\n",
      "WARNING: genes are not in var_names and ignored: ['PCNX', 'LOC399715', 'SERPINB7', 'C20orf160', 'WDR52', 'CXCR7', 'MEP1A', 'LRRC38', 'LOC400759', 'C20orf127', 'FAM108C1', 'CYP26A1', 'UBD', 'C7orf16', 'LOC650369', 'LOC652231', 'CA12', 'LOC654103', 'C9orf109', 'KIAA1949', 'FIS']\n",
      "sLPS_IFNg\n",
      "['GBP5', 'PCNX', 'GCH1', 'LOC399715', 'MYBPC3', 'MLLT6', 'PIM2', 'SLC25A37', 'APOL3', 'SERPINB7', 'PTGES', 'GBP4', 'VNN3', 'DTX2', 'FPR2', 'CPD', 'KL', 'FOXC1', 'TNFAIP6', 'C20orf160', 'CRISPLD2', 'PLAGL2', 'MAP1LC3A', 'PANX2', 'WDR52', 'INSIG2', 'AGAP3', 'IRF1', 'RHBDF2', 'FBXL20', 'CXCR7', 'STAT4', 'SOD2', 'IL2RA', 'IL6', 'PAPOLG', 'MEP1A', 'GBP1', 'PTPN1', 'VEGFA', 'TCF20', 'ADORA2A', 'BTN3A1', 'TAP1', 'GLIS3', 'IER3', 'CCL8', 'GRAMD1A', 'LRRC38', 'PRR16', 'C6orf52', 'ZSWIM4', 'SLC5A3', 'LOC400759', 'C20orf127', 'FAM108C1', 'MTF1', 'CCDC68', 'ST3GAL1', 'CYP26A1', 'PDE4D', 'SLC43A2', 'FAM110B', 'UBD', 'IL15', 'RYBP', 'ADAMDEC1', 'CRKL', 'TRAF3IP2', 'CDC42EP5', 'SLAMF7', 'C7orf16', 'DLL1', 'USP13', 'LOC650369', 'LOC652231', 'NSUN7', 'ZHX2', 'XRN1', 'LYN', 'CA12', 'LOC654103', 'C9orf109', 'CLDND2', 'LILRB1', 'CD38', 'PLEKHG3', 'GBP2', 'KIAA1949', 'LAT', 'GNA15', 'NAMPT', 'ANKDD1A', 'SLC7A11', 'C1S', 'FIS', 'ARID5B', 'GNRH1', 'PLEKHO1', 'SP140']\n",
      "WARNING: genes are not in var_names and ignored: ['PCNX', 'FTHL12', 'FTHL3', 'C3orf19', 'LOC283050', 'BHLHB3', 'FTHL11', 'SELM', 'SEPW1', 'TMEM49', 'FTHL8', 'CARKD', 'KIAA0174', 'C21orf7', 'LOC388681', 'AOX1', 'LOC727762', 'LOC285074', 'LOC728006']\n",
      "upLPS\n",
      "['PCNX', 'ANG', 'RNASE4', 'SPARC', 'FTHL12', 'CRISPLD2', 'FTHL3', 'TSPAN3', 'SLC11A1', 'AQP9', 'C3orf19', 'CXCL5', 'TRAF3IP2', 'WSB1', 'CLDN23', 'TUBG2', 'NINJ1', 'SLC7A11', 'LOC283050', 'ELF4', 'BHLHB3', 'FTHL11', 'ELL2', 'SLC16A10', 'DNAJB2', 'GPSM1', 'INPP1', 'SELM', 'ACVR1B', 'CLDN15', 'LAT', 'SEPW1', 'SLAMF9', 'TMEM49', 'MLLT6', 'PHF13', 'SLC5A3', 'SLC3A2', 'FTHL8', 'HLA-E', 'ADAMDEC1', 'CFLAR', 'TREM1', 'CLDND2', 'MRPS6', 'SP140', 'ARRDC2', 'SEMA6B', 'NOTCH3', 'WASL', 'ZSWIM4', 'CARKD', 'LPP', 'NKG7', 'TMEM38B', 'FNBP4', 'LUC7L', 'TCEA2', 'MKLN1', 'KIAA0174', 'PATL1', 'FTH1', 'SRGN', 'C21orf7', 'P4HTM', 'AVPI1', 'CXCL16', 'ADARB1', 'WDFY1', 'APBB3', 'PARP14', 'STX4', 'ZFYVE16', 'MS4A14', 'LOC388681', 'ZDHHC19', 'SAFB', 'ZBTB34', 'ZNF274', 'CYB5A', 'AOX1', 'LOC727762', 'NRIP3', 'RABGEF1', 'TMEM140', 'SESTD1', 'MYBPC3', 'CCL23', 'LOC285074', 'KYNU', 'DCP1A', 'BTG1', 'ENO2', 'VNN2', 'ATG16L2', 'MTMR3', 'LOC728006', 'MITF', 'BBS1', 'GADD45G']\n",
      "WARNING: genes are not in var_names and ignored: ['SRPX', 'MS4A6E', 'LOC647108', 'ANKRD33', 'FAM187B', 'CTSL1', 'C5orf62', 'FAIM3', 'GUSBL1', 'FLJ20273', 'FLJ20489', 'CRYGD', 'PHCA', 'SEPW1', 'PPAP2B', 'MESDC1']\n",
      "upLPS_IC\n",
      "['SRPX', 'TBL2', 'LRG1', 'MS4A6E', 'C1S', 'DAAM2', 'TGM2', 'LOC647108', 'GDF15', 'BOK', 'TBC1D16', 'DHRS3', 'NRIP1', 'SEMA6B', 'IL2RA', 'TTLL4', 'SLC5A3', 'SYS1', 'CYB5A', 'ANKRD33', 'SOAT1', 'PLIN2', 'ENOSF1', 'GLUL', 'TPST1', 'ARHGAP12', 'CD38', 'KITLG', 'MRPS6', 'TIMP1', 'PDK4', 'CHST15', 'FAM187B', 'MLXIPL', 'MAN1A1', 'FLNB', 'ELL2', 'KCTD3', 'HTRA4', 'IDH1', 'CTSL1', 'SIGLEC11', 'EIF1B', 'FAM20C', 'FAH', 'ANKRD29', 'C1QA', 'AGAP3', 'C5orf62', 'SNTB1', 'SAT1', 'DVL3', 'FAIM3', 'PLXNA1', 'PTGER2', 'C1RL', 'CNIH4', 'THBS1', 'RRAGD', 'HSDL2', 'GUSB', 'PVALB', 'GUSBL1', 'FLJ20273', 'TCN2', 'FLJ20489', 'ADD3', 'MS4A4A', 'CTSD', 'AKR1B1', 'HIPK2', 'PALLD', 'PAPSS2', 'SLA', 'BCL7B', 'CTNS', 'ZNF330', 'CRYGD', 'APLP2', 'CYP27A1', 'CPD', 'ACSL1', 'PHCA', 'CEACAM1', 'SEPW1', 'MMD', 'TEX2', 'PPAP2B', 'DPP4', 'LAMP1', 'RHOBTB3', 'IGF2BP3', 'LRPAP1', 'HAMP', 'ITGAE', 'CRK', 'HIST3H2A', 'MESDC1', 'FAM20A', 'ETS2']\n"
     ]
    }
   ],
   "source": [
    "overlap =[]\n",
    "for i in range(0, len(target_genes.columns)):\n",
    "    sc.tl.score_genes(adata, list(target_genes[target_genes.columns[i]]), ctrl_size=50, gene_pool=None, n_bins=25, score_name=(target_genes.columns[i]), random_state=0, copy=False)\n",
    "    print(target_genes.columns[i])\n",
    "    print(list(target_genes[target_genes.columns[i]]))\n",
    "    get_le = intersection(list(target_genes[target_genes.columns[i]]),list(adata.var.index))\n",
    "    overlap.append(get_le)"
   ]
  },
  {
   "cell_type": "code",
   "execution_count": 37,
   "id": "1c6563b2-a6bc-4fb5-9088-ee59f51b5e41",
   "metadata": {},
   "outputs": [
    {
     "data": {
      "text/plain": [
       "15"
      ]
     },
     "execution_count": 37,
     "metadata": {},
     "output_type": "execute_result"
    }
   ],
   "source": [
    "len(overlap)"
   ]
  },
  {
   "cell_type": "code",
   "execution_count": 38,
   "id": "35062766-9b06-44c5-9ac3-54e768b59260",
   "metadata": {},
   "outputs": [],
   "source": [
    "import csv\n",
    "with open('leading_edge_genes.csv', 'w', newline='') as output:\n",
    "    writer = csv.writer(output)\n",
    "    writer.writerows(overlap)"
   ]
  },
  {
   "cell_type": "code",
   "execution_count": 39,
   "id": "4e367949-dbec-43a3-9169-bf65abc6bd9e",
   "metadata": {},
   "outputs": [
    {
     "name": "stderr",
     "output_type": "stream",
     "text": [
      "/var/folders/8j/9l3m415n6lvf67bnlp8t9k480000gq/T/ipykernel_49081/3488997215.py:2: SettingWithCopyWarning: \n",
      "A value is trying to be set on a copy of a slice from a DataFrame.\n",
      "Try using .loc[row_indexer,col_indexer] = value instead\n",
      "\n",
      "See the caveats in the documentation: https://pandas.pydata.org/pandas-docs/stable/user_guide/indexing.html#returning-a-view-versus-a-copy\n",
      "  scores['group'] = adata.obs['annot4']\n"
     ]
    },
    {
     "data": {
      "text/html": [
       "<div>\n",
       "<style scoped>\n",
       "    .dataframe tbody tr th:only-of-type {\n",
       "        vertical-align: middle;\n",
       "    }\n",
       "\n",
       "    .dataframe tbody tr th {\n",
       "        vertical-align: top;\n",
       "    }\n",
       "\n",
       "    .dataframe thead th {\n",
       "        text-align: right;\n",
       "    }\n",
       "</style>\n",
       "<table border=\"1\" class=\"dataframe\">\n",
       "  <thead>\n",
       "    <tr style=\"text-align: right;\">\n",
       "      <th></th>\n",
       "      <th>GC</th>\n",
       "      <th>HDL</th>\n",
       "      <th>IFNb</th>\n",
       "      <th>IFNg</th>\n",
       "      <th>IFNg_TNF</th>\n",
       "      <th>IL10</th>\n",
       "      <th>IL13</th>\n",
       "      <th>IL4</th>\n",
       "      <th>IL4_upLPS</th>\n",
       "      <th>TNF</th>\n",
       "      <th>sLPS</th>\n",
       "      <th>sLPS_IC</th>\n",
       "      <th>sLPS_IFNg</th>\n",
       "      <th>upLPS</th>\n",
       "      <th>upLPS_IC</th>\n",
       "    </tr>\n",
       "    <tr>\n",
       "      <th>group</th>\n",
       "      <th></th>\n",
       "      <th></th>\n",
       "      <th></th>\n",
       "      <th></th>\n",
       "      <th></th>\n",
       "      <th></th>\n",
       "      <th></th>\n",
       "      <th></th>\n",
       "      <th></th>\n",
       "      <th></th>\n",
       "      <th></th>\n",
       "      <th></th>\n",
       "      <th></th>\n",
       "      <th></th>\n",
       "      <th></th>\n",
       "    </tr>\n",
       "  </thead>\n",
       "  <tbody>\n",
       "    <tr>\n",
       "      <th>CD14mono</th>\n",
       "      <td>-0.011113</td>\n",
       "      <td>-0.017692</td>\n",
       "      <td>-0.053327</td>\n",
       "      <td>0.075996</td>\n",
       "      <td>0.026093</td>\n",
       "      <td>-0.043408</td>\n",
       "      <td>-0.011750</td>\n",
       "      <td>-0.082306</td>\n",
       "      <td>-0.025645</td>\n",
       "      <td>0.110205</td>\n",
       "      <td>0.056972</td>\n",
       "      <td>0.080936</td>\n",
       "      <td>-0.000069</td>\n",
       "      <td>0.089750</td>\n",
       "      <td>0.049164</td>\n",
       "    </tr>\n",
       "    <tr>\n",
       "      <th>CD14mono_IFN</th>\n",
       "      <td>0.011561</td>\n",
       "      <td>-0.006255</td>\n",
       "      <td>0.004009</td>\n",
       "      <td>0.221372</td>\n",
       "      <td>0.083443</td>\n",
       "      <td>-0.039510</td>\n",
       "      <td>-0.020761</td>\n",
       "      <td>-0.082813</td>\n",
       "      <td>-0.021617</td>\n",
       "      <td>0.155677</td>\n",
       "      <td>0.059363</td>\n",
       "      <td>0.083257</td>\n",
       "      <td>0.033785</td>\n",
       "      <td>0.106321</td>\n",
       "      <td>0.080473</td>\n",
       "    </tr>\n",
       "    <tr>\n",
       "      <th>CD14mono_alt_act</th>\n",
       "      <td>0.074504</td>\n",
       "      <td>-0.001054</td>\n",
       "      <td>-0.026916</td>\n",
       "      <td>0.068890</td>\n",
       "      <td>0.021795</td>\n",
       "      <td>-0.043767</td>\n",
       "      <td>-0.003302</td>\n",
       "      <td>-0.071377</td>\n",
       "      <td>-0.020701</td>\n",
       "      <td>0.119592</td>\n",
       "      <td>0.049259</td>\n",
       "      <td>0.073915</td>\n",
       "      <td>-0.015420</td>\n",
       "      <td>0.088530</td>\n",
       "      <td>0.098375</td>\n",
       "    </tr>\n",
       "  </tbody>\n",
       "</table>\n",
       "</div>"
      ],
      "text/plain": [
       "                        GC       HDL      IFNb      IFNg  IFNg_TNF      IL10  \\\n",
       "group                                                                          \n",
       "CD14mono         -0.011113 -0.017692 -0.053327  0.075996  0.026093 -0.043408   \n",
       "CD14mono_IFN      0.011561 -0.006255  0.004009  0.221372  0.083443 -0.039510   \n",
       "CD14mono_alt_act  0.074504 -0.001054 -0.026916  0.068890  0.021795 -0.043767   \n",
       "\n",
       "                      IL13       IL4  IL4_upLPS       TNF      sLPS   sLPS_IC  \\\n",
       "group                                                                           \n",
       "CD14mono         -0.011750 -0.082306  -0.025645  0.110205  0.056972  0.080936   \n",
       "CD14mono_IFN     -0.020761 -0.082813  -0.021617  0.155677  0.059363  0.083257   \n",
       "CD14mono_alt_act -0.003302 -0.071377  -0.020701  0.119592  0.049259  0.073915   \n",
       "\n",
       "                  sLPS_IFNg     upLPS  upLPS_IC  \n",
       "group                                            \n",
       "CD14mono          -0.000069  0.089750  0.049164  \n",
       "CD14mono_IFN       0.033785  0.106321  0.080473  \n",
       "CD14mono_alt_act  -0.015420  0.088530  0.098375  "
      ]
     },
     "execution_count": 39,
     "metadata": {},
     "output_type": "execute_result"
    }
   ],
   "source": [
    "scores = adata.obs[[s for s in list(target_genes.columns)]]\n",
    "scores['group'] = adata.obs['annot4']\n",
    "scores.groupby('group').mean()"
   ]
  },
  {
   "cell_type": "code",
   "execution_count": 40,
   "id": "3b20815f-cfb8-4cec-b1d0-192bf63a1b3b",
   "metadata": {},
   "outputs": [
    {
     "data": {
      "text/plain": [
       "array(['CD14mono', 'CD14mono_IFN', 'CD14mono_alt_act'], dtype=object)"
      ]
     },
     "execution_count": 40,
     "metadata": {},
     "output_type": "execute_result"
    }
   ],
   "source": [
    "adata.obs['annot4'].unique()"
   ]
  },
  {
   "cell_type": "code",
   "execution_count": 41,
   "id": "aa487824-329f-4782-96c8-33befb21c7e5",
   "metadata": {},
   "outputs": [
    {
     "data": {
      "text/plain": [
       "Text(0.5, 103.24999999999997, 'timeline')"
      ]
     },
     "execution_count": 41,
     "metadata": {},
     "output_type": "execute_result"
    },
    {
     "data": {
      "image/png": "[encoded data removed]",
      "text/plain": [
       "<Figure size 800x1200 with 2 Axes>"
      ]
     },
     "metadata": {},
     "output_type": "display_data"
    }
   ],
   "source": [
    "import matplotlib.pyplot as plt\n",
    "sns.set(font_scale=0.8) # font size 2\n",
    "fig, ax = plt.subplots(figsize=(8,12))  \n",
    "pal = sns.diverging_palette(150, 275, s=80, l=55, n=9)\n",
    "score_mean = scores.groupby('group').mean()\n",
    "g = sns.heatmap(score_mean.T, cmap=pal,  annot=False,linewidths=1,  square=True, cbar_kws={\"shrink\": 0.4},annot_kws={\"size\": 10})\n",
    "#plt.ylabel(\"WHO_temp_severity\")\n",
    "plt.xlabel(\"timeline\")\n",
    "#plt.savefig('./CD16mono_final.png',dpi=300,bbox_inches='tight')"
   ]
  },
  {
   "cell_type": "code",
   "execution_count": 42,
   "id": "1697d3f2-d490-48c4-8d41-b6a84ea0929f",
   "metadata": {},
   "outputs": [
    {
     "data": {
      "image/png": "[encoded data removed]",
      "text/plain": [
       "<Figure size 800x1200 with 2 Axes>"
      ]
     },
     "metadata": {},
     "output_type": "display_data"
    }
   ],
   "source": [
    "import matplotlib.pyplot as plt\n",
    "sns.set(font_scale=1) # font size 2\n",
    "fig, ax = plt.subplots(figsize=(8,12))  \n",
    "pal = sns.diverging_palette(150, 275, s=80, l=55, n=9)\n",
    "score_mean =scores.groupby('group').mean()\n",
    "#Z_score the data\n",
    "score_mean= (score_mean - score_mean.mean())/score_mean.std()\n",
    "\n",
    "max_val = (max((np.array(score_mean)).max(0)))\n",
    "min_val = (min((np.array(score_mean)).min(0)))\n",
    "mid_val = (max((np.array(score_mean)).max(0))) - ((max((np.array(score_mean)).max(0))) - (min((np.array(score_mean)).min(0))))/2\n",
    "g = sns.heatmap(score_mean.T, cmap=pal,  annot=False,vmin=min_val, vmax=max_val, linewidths=1, center=mid_val, square=True, cbar_kws={\"shrink\": 0.4},annot_kws={\"size\": 78})\n",
    "#plt.ylabel(\"WHO_temp_severity\")\n",
    "plt.xlabel(\"\")\n",
    "plt.tight_layout()\n",
    "#plt.savefig('/home/jovyan/scripts/renal_covid_19/sig_gene_plot/cytokine_sig_allmono_wave2_pos.pdf')"
   ]
  },
  {
   "cell_type": "code",
   "execution_count": 43,
   "id": "32ce817d-2e85-4faa-a56f-e322859b9f50",
   "metadata": {},
   "outputs": [
    {
     "data": {
      "text/html": [
       "<div>\n",
       "<style scoped>\n",
       "    .dataframe tbody tr th:only-of-type {\n",
       "        vertical-align: middle;\n",
       "    }\n",
       "\n",
       "    .dataframe tbody tr th {\n",
       "        vertical-align: top;\n",
       "    }\n",
       "\n",
       "    .dataframe thead th {\n",
       "        text-align: right;\n",
       "    }\n",
       "</style>\n",
       "<table border=\"1\" class=\"dataframe\">\n",
       "  <thead>\n",
       "    <tr style=\"text-align: right;\">\n",
       "      <th></th>\n",
       "      <th>GC</th>\n",
       "      <th>HDL</th>\n",
       "      <th>IFNb</th>\n",
       "      <th>IFNg</th>\n",
       "      <th>IFNg_TNF</th>\n",
       "      <th>IL10</th>\n",
       "      <th>IL13</th>\n",
       "      <th>IL4</th>\n",
       "      <th>IL4_upLPS</th>\n",
       "      <th>TNF</th>\n",
       "      <th>sLPS</th>\n",
       "      <th>sLPS_IC</th>\n",
       "      <th>sLPS_IFNg</th>\n",
       "      <th>upLPS</th>\n",
       "      <th>upLPS_IC</th>\n",
       "      <th>group</th>\n",
       "    </tr>\n",
       "  </thead>\n",
       "  <tbody>\n",
       "    <tr>\n",
       "      <th>UK-CIC10689738+UK-CIC10690026_AAATGCCAGAGACTTA-1</th>\n",
       "      <td>0.034317</td>\n",
       "      <td>-0.017323</td>\n",
       "      <td>0.023551</td>\n",
       "      <td>0.019164</td>\n",
       "      <td>-0.025837</td>\n",
       "      <td>-0.041031</td>\n",
       "      <td>0.015281</td>\n",
       "      <td>-0.120103</td>\n",
       "      <td>-0.016803</td>\n",
       "      <td>0.110882</td>\n",
       "      <td>0.094271</td>\n",
       "      <td>0.162591</td>\n",
       "      <td>0.001936</td>\n",
       "      <td>0.195611</td>\n",
       "      <td>0.082519</td>\n",
       "      <td>CD14mono</td>\n",
       "    </tr>\n",
       "    <tr>\n",
       "      <th>UK-CIC10689738+UK-CIC10690026_AAATGCCAGAGGACGG-1</th>\n",
       "      <td>0.022264</td>\n",
       "      <td>-0.085126</td>\n",
       "      <td>-0.128042</td>\n",
       "      <td>0.136736</td>\n",
       "      <td>0.021000</td>\n",
       "      <td>-0.007283</td>\n",
       "      <td>-0.034201</td>\n",
       "      <td>-0.071607</td>\n",
       "      <td>-0.025965</td>\n",
       "      <td>0.080410</td>\n",
       "      <td>0.021033</td>\n",
       "      <td>0.152550</td>\n",
       "      <td>-0.018947</td>\n",
       "      <td>0.093352</td>\n",
       "      <td>0.134770</td>\n",
       "      <td>CD14mono</td>\n",
       "    </tr>\n",
       "    <tr>\n",
       "      <th>UK-CIC10689738+UK-CIC10690026_AAATGCCCAGGCGATA-1</th>\n",
       "      <td>0.085123</td>\n",
       "      <td>-0.090876</td>\n",
       "      <td>-0.034714</td>\n",
       "      <td>-0.028366</td>\n",
       "      <td>0.005222</td>\n",
       "      <td>0.023730</td>\n",
       "      <td>-0.077336</td>\n",
       "      <td>-0.073442</td>\n",
       "      <td>-0.019031</td>\n",
       "      <td>0.084618</td>\n",
       "      <td>0.038889</td>\n",
       "      <td>0.065227</td>\n",
       "      <td>-0.052042</td>\n",
       "      <td>0.109249</td>\n",
       "      <td>0.099359</td>\n",
       "      <td>CD14mono</td>\n",
       "    </tr>\n",
       "    <tr>\n",
       "      <th>UK-CIC10689738+UK-CIC10690026_AAATGCCGTTGGAGGT-1</th>\n",
       "      <td>-0.044376</td>\n",
       "      <td>0.046653</td>\n",
       "      <td>-0.049315</td>\n",
       "      <td>0.192087</td>\n",
       "      <td>0.111335</td>\n",
       "      <td>-0.104231</td>\n",
       "      <td>-0.037624</td>\n",
       "      <td>-0.057647</td>\n",
       "      <td>0.006037</td>\n",
       "      <td>0.256537</td>\n",
       "      <td>-0.010080</td>\n",
       "      <td>0.014995</td>\n",
       "      <td>-0.049831</td>\n",
       "      <td>0.109748</td>\n",
       "      <td>0.089172</td>\n",
       "      <td>CD14mono_IFN</td>\n",
       "    </tr>\n",
       "    <tr>\n",
       "      <th>UK-CIC10689738+UK-CIC10690026_AACCATGAGGCAGGTT-1</th>\n",
       "      <td>0.114805</td>\n",
       "      <td>-0.004472</td>\n",
       "      <td>-0.110008</td>\n",
       "      <td>0.138484</td>\n",
       "      <td>-0.006548</td>\n",
       "      <td>-0.136296</td>\n",
       "      <td>0.054676</td>\n",
       "      <td>-0.052371</td>\n",
       "      <td>-0.044236</td>\n",
       "      <td>0.045986</td>\n",
       "      <td>0.030333</td>\n",
       "      <td>0.065571</td>\n",
       "      <td>-0.017966</td>\n",
       "      <td>0.085258</td>\n",
       "      <td>0.031938</td>\n",
       "      <td>CD14mono</td>\n",
       "    </tr>\n",
       "  </tbody>\n",
       "</table>\n",
       "</div>"
      ],
      "text/plain": [
       "                                                        GC       HDL  \\\n",
       "UK-CIC10689738+UK-CIC10690026_AAATGCCAGAGACTTA-1  0.034317 -0.017323   \n",
       "UK-CIC10689738+UK-CIC10690026_AAATGCCAGAGGACGG-1  0.022264 -0.085126   \n",
       "UK-CIC10689738+UK-CIC10690026_AAATGCCCAGGCGATA-1  0.085123 -0.090876   \n",
       "UK-CIC10689738+UK-CIC10690026_AAATGCCGTTGGAGGT-1 -0.044376  0.046653   \n",
       "UK-CIC10689738+UK-CIC10690026_AACCATGAGGCAGGTT-1  0.114805 -0.004472   \n",
       "\n",
       "                                                      IFNb      IFNg  \\\n",
       "UK-CIC10689738+UK-CIC10690026_AAATGCCAGAGACTTA-1  0.023551  0.019164   \n",
       "UK-CIC10689738+UK-CIC10690026_AAATGCCAGAGGACGG-1 -0.128042  0.136736   \n",
       "UK-CIC10689738+UK-CIC10690026_AAATGCCCAGGCGATA-1 -0.034714 -0.028366   \n",
       "UK-CIC10689738+UK-CIC10690026_AAATGCCGTTGGAGGT-1 -0.049315  0.192087   \n",
       "UK-CIC10689738+UK-CIC10690026_AACCATGAGGCAGGTT-1 -0.110008  0.138484   \n",
       "\n",
       "                                                  IFNg_TNF      IL10  \\\n",
       "UK-CIC10689738+UK-CIC10690026_AAATGCCAGAGACTTA-1 -0.025837 -0.041031   \n",
       "UK-CIC10689738+UK-CIC10690026_AAATGCCAGAGGACGG-1  0.021000 -0.007283   \n",
       "UK-CIC10689738+UK-CIC10690026_AAATGCCCAGGCGATA-1  0.005222  0.023730   \n",
       "UK-CIC10689738+UK-CIC10690026_AAATGCCGTTGGAGGT-1  0.111335 -0.104231   \n",
       "UK-CIC10689738+UK-CIC10690026_AACCATGAGGCAGGTT-1 -0.006548 -0.136296   \n",
       "\n",
       "                                                      IL13       IL4  \\\n",
       "UK-CIC10689738+UK-CIC10690026_AAATGCCAGAGACTTA-1  0.015281 -0.120103   \n",
       "UK-CIC10689738+UK-CIC10690026_AAATGCCAGAGGACGG-1 -0.034201 -0.071607   \n",
       "UK-CIC10689738+UK-CIC10690026_AAATGCCCAGGCGATA-1 -0.077336 -0.073442   \n",
       "UK-CIC10689738+UK-CIC10690026_AAATGCCGTTGGAGGT-1 -0.037624 -0.057647   \n",
       "UK-CIC10689738+UK-CIC10690026_AACCATGAGGCAGGTT-1  0.054676 -0.052371   \n",
       "\n",
       "                                                  IL4_upLPS       TNF  \\\n",
       "UK-CIC10689738+UK-CIC10690026_AAATGCCAGAGACTTA-1  -0.016803  0.110882   \n",
       "UK-CIC10689738+UK-CIC10690026_AAATGCCAGAGGACGG-1  -0.025965  0.080410   \n",
       "UK-CIC10689738+UK-CIC10690026_AAATGCCCAGGCGATA-1  -0.019031  0.084618   \n",
       "UK-CIC10689738+UK-CIC10690026_AAATGCCGTTGGAGGT-1   0.006037  0.256537   \n",
       "UK-CIC10689738+UK-CIC10690026_AACCATGAGGCAGGTT-1  -0.044236  0.045986   \n",
       "\n",
       "                                                      sLPS   sLPS_IC  \\\n",
       "UK-CIC10689738+UK-CIC10690026_AAATGCCAGAGACTTA-1  0.094271  0.162591   \n",
       "UK-CIC10689738+UK-CIC10690026_AAATGCCAGAGGACGG-1  0.021033  0.152550   \n",
       "UK-CIC10689738+UK-CIC10690026_AAATGCCCAGGCGATA-1  0.038889  0.065227   \n",
       "UK-CIC10689738+UK-CIC10690026_AAATGCCGTTGGAGGT-1 -0.010080  0.014995   \n",
       "UK-CIC10689738+UK-CIC10690026_AACCATGAGGCAGGTT-1  0.030333  0.065571   \n",
       "\n",
       "                                                  sLPS_IFNg     upLPS  \\\n",
       "UK-CIC10689738+UK-CIC10690026_AAATGCCAGAGACTTA-1   0.001936  0.195611   \n",
       "UK-CIC10689738+UK-CIC10690026_AAATGCCAGAGGACGG-1  -0.018947  0.093352   \n",
       "UK-CIC10689738+UK-CIC10690026_AAATGCCCAGGCGATA-1  -0.052042  0.109249   \n",
       "UK-CIC10689738+UK-CIC10690026_AAATGCCGTTGGAGGT-1  -0.049831  0.109748   \n",
       "UK-CIC10689738+UK-CIC10690026_AACCATGAGGCAGGTT-1  -0.017966  0.085258   \n",
       "\n",
       "                                                  upLPS_IC         group  \n",
       "UK-CIC10689738+UK-CIC10690026_AAATGCCAGAGACTTA-1  0.082519      CD14mono  \n",
       "UK-CIC10689738+UK-CIC10690026_AAATGCCAGAGGACGG-1  0.134770      CD14mono  \n",
       "UK-CIC10689738+UK-CIC10690026_AAATGCCCAGGCGATA-1  0.099359      CD14mono  \n",
       "UK-CIC10689738+UK-CIC10690026_AAATGCCGTTGGAGGT-1  0.089172  CD14mono_IFN  \n",
       "UK-CIC10689738+UK-CIC10690026_AACCATGAGGCAGGTT-1  0.031938      CD14mono  "
      ]
     },
     "execution_count": 43,
     "metadata": {},
     "output_type": "execute_result"
    }
   ],
   "source": [
    "scores.head()"
   ]
  },
  {
   "cell_type": "code",
   "execution_count": 47,
   "id": "bedda55d-78f0-49f0-9fe0-3da9b038f3a3",
   "metadata": {},
   "outputs": [],
   "source": [
    "new_scores =scores[[\n",
    "     'upLPS',\n",
    "'sLPS',\n",
    "'sLPS_IFNg',\n",
    "'IFNg',\n",
    "'IFNg_TNF',\n",
    "'TNF',\n",
    "    'IL13',\n",
    "'IL4',\n",
    "'IL4_upLPS',\n",
    "'sLPS_IC',\n",
    "'upLPS_IC',\n",
    "'IL10',\n",
    "'GC',\n",
    "'HDL',\n",
    "'IFNb','group']]"
   ]
  },
  {
   "cell_type": "code",
   "execution_count": 48,
   "id": "c9d9b528-3ce1-4d74-9460-104eeacce390",
   "metadata": {},
   "outputs": [
    {
     "data": {
      "image/png": "[encoded data removed]",
      "text/plain": [
       "<Figure size 800x1200 with 2 Axes>"
      ]
     },
     "metadata": {},
     "output_type": "display_data"
    }
   ],
   "source": [
    "import matplotlib.pyplot as plt\n",
    "sns.set(font_scale=1) # font size 2\n",
    "fig, ax = plt.subplots(figsize=(8,12))  \n",
    "pal = sns.diverging_palette(150, 275, s=80, l=55, n=9)\n",
    "score_mean = new_scores.groupby('group').mean()\n",
    "#Z_score the data\n",
    "score_mean= (score_mean - score_mean.mean())/score_mean.std()\n",
    "\n",
    "max_val = (max((np.array(score_mean)).max(0)))\n",
    "min_val = (min((np.array(score_mean)).min(0)))\n",
    "mid_val = (max((np.array(score_mean)).max(0))) - ((max((np.array(score_mean)).max(0))) - (min((np.array(score_mean)).min(0))))/2\n",
    "g = sns.heatmap(score_mean.T, cmap=pal,  annot=False,vmin=min_val, vmax=max_val, linewidths=1, center=mid_val, square=True, cbar_kws={\"shrink\": 0.4},annot_kws={\"size\": 78})\n",
    "#plt.ylabel(\"WHO_temp_severity\")\n",
    "plt.xlabel(\"\")\n",
    "plt.tight_layout()\n",
    "#plt.savefig('/home/jovyan/scripts/renal_covid_19/sig_gene_plot/cytokine_sig_allmono_wave2_pos.pdf')"
   ]
  },
  {
   "cell_type": "code",
   "execution_count": 59,
   "id": "cbb7f1de-c231-49f4-b2a9-29a43eb6e54a",
   "metadata": {},
   "outputs": [
    {
     "data": {
      "image/png": "[encoded data removed]",
      "text/plain": [
       "<Figure size 800x1200 with 2 Axes>"
      ]
     },
     "metadata": {},
     "output_type": "display_data"
    }
   ],
   "source": [
    "import matplotlib.pyplot as plt\n",
    "sns.set(font_scale=1) # font size 2\n",
    "fig, ax = plt.subplots(figsize=(8,12))  \n",
    "pal = sns.diverging_palette(150, 275, s=80, l=55, n=9)\n",
    "score_mean = new_scores.groupby('group').mean()\n",
    "#Z_score the data\n",
    "score_mean= (score_mean - score_mean.mean())/score_mean.std()\n",
    "\n",
    "max_val = (max((np.array(score_mean)).max(0)))\n",
    "min_val = (min((np.array(score_mean)).min(0)))\n",
    "mid_val = (max((np.array(score_mean)).max(0))) - ((max((np.array(score_mean)).max(0))) - (min((np.array(score_mean)).min(0))))/2\n",
    "g = sns.heatmap(score_mean.T, cmap=pal,  annot=False,vmin=min_val, vmax=max_val, linewidths=1, center=mid_val, square=True, cbar_kws={\"shrink\": 0.4},annot_kws={\"size\": 78})\n",
    "#plt.ylabel(\"WHO_temp_severity\")\n",
    "plt.xlabel(\"\")\n",
    "plt.tight_layout()\n",
    "#plt.savefig('/home/jovyan/scripts/renal_covid_19/sig_gene_plot/cytokine_sig_allmono_wave2_pos.pdf')\n",
    "plt.savefig('your_plot.pdf', format='pdf')"
   ]
  },
  {
   "cell_type": "code",
   "execution_count": 49,
   "id": "555433ad-4253-450d-b7c7-9e362bb0cb64",
   "metadata": {},
   "outputs": [
    {
     "data": {
      "text/html": [
       "<div>\n",
       "<style scoped>\n",
       "    .dataframe tbody tr th:only-of-type {\n",
       "        vertical-align: middle;\n",
       "    }\n",
       "\n",
       "    .dataframe tbody tr th {\n",
       "        vertical-align: top;\n",
       "    }\n",
       "\n",
       "    .dataframe thead th {\n",
       "        text-align: right;\n",
       "    }\n",
       "</style>\n",
       "<table border=\"1\" class=\"dataframe\">\n",
       "  <thead>\n",
       "    <tr style=\"text-align: right;\">\n",
       "      <th></th>\n",
       "      <th>upLPS</th>\n",
       "      <th>sLPS</th>\n",
       "      <th>sLPS_IFNg</th>\n",
       "      <th>IFNg</th>\n",
       "      <th>IFNg_TNF</th>\n",
       "      <th>TNF</th>\n",
       "      <th>IL13</th>\n",
       "      <th>IL4</th>\n",
       "      <th>IL4_upLPS</th>\n",
       "      <th>sLPS_IC</th>\n",
       "      <th>upLPS_IC</th>\n",
       "      <th>IL10</th>\n",
       "      <th>GC</th>\n",
       "      <th>HDL</th>\n",
       "      <th>IFNb</th>\n",
       "    </tr>\n",
       "    <tr>\n",
       "      <th>group</th>\n",
       "      <th></th>\n",
       "      <th></th>\n",
       "      <th></th>\n",
       "      <th></th>\n",
       "      <th></th>\n",
       "      <th></th>\n",
       "      <th></th>\n",
       "      <th></th>\n",
       "      <th></th>\n",
       "      <th></th>\n",
       "      <th></th>\n",
       "      <th></th>\n",
       "      <th></th>\n",
       "      <th></th>\n",
       "      <th></th>\n",
       "    </tr>\n",
       "  </thead>\n",
       "  <tbody>\n",
       "    <tr>\n",
       "      <th>CD14mono</th>\n",
       "      <td>-0.514871</td>\n",
       "      <td>0.335914</td>\n",
       "      <td>-0.244990</td>\n",
       "      <td>-0.535576</td>\n",
       "      <td>-0.513788</td>\n",
       "      <td>-0.761711</td>\n",
       "      <td>0.021531</td>\n",
       "      <td>-0.537654</td>\n",
       "      <td>-1.137039</td>\n",
       "      <td>0.322098</td>\n",
       "      <td>-1.077560</td>\n",
       "      <td>-0.499520</td>\n",
       "      <td>-0.813757</td>\n",
       "      <td>-1.099482</td>\n",
       "      <td>-0.972759</td>\n",
       "    </tr>\n",
       "    <tr>\n",
       "      <th>CD14mono_IFN</th>\n",
       "      <td>1.152523</td>\n",
       "      <td>0.788794</td>\n",
       "      <td>1.099728</td>\n",
       "      <td>1.153716</td>\n",
       "      <td>1.152448</td>\n",
       "      <td>1.132419</td>\n",
       "      <td>-1.010592</td>\n",
       "      <td>-0.616157</td>\n",
       "      <td>0.394288</td>\n",
       "      <td>0.799258</td>\n",
       "      <td>0.179408</td>\n",
       "      <td>1.151347</td>\n",
       "      <td>-0.302592</td>\n",
       "      <td>0.244202</td>\n",
       "      <td>1.025179</td>\n",
       "    </tr>\n",
       "    <tr>\n",
       "      <th>CD14mono_alt_act</th>\n",
       "      <td>-0.637652</td>\n",
       "      <td>-1.124707</td>\n",
       "      <td>-0.854739</td>\n",
       "      <td>-0.618140</td>\n",
       "      <td>-0.638660</td>\n",
       "      <td>-0.370707</td>\n",
       "      <td>0.989061</td>\n",
       "      <td>1.153811</td>\n",
       "      <td>0.742751</td>\n",
       "      <td>-1.121356</td>\n",
       "      <td>0.898152</td>\n",
       "      <td>-0.651827</td>\n",
       "      <td>1.116350</td>\n",
       "      <td>0.855281</td>\n",
       "      <td>-0.052421</td>\n",
       "    </tr>\n",
       "  </tbody>\n",
       "</table>\n",
       "</div>"
      ],
      "text/plain": [
       "                     upLPS      sLPS  sLPS_IFNg      IFNg  IFNg_TNF       TNF  \\\n",
       "group                                                                           \n",
       "CD14mono         -0.514871  0.335914  -0.244990 -0.535576 -0.513788 -0.761711   \n",
       "CD14mono_IFN      1.152523  0.788794   1.099728  1.153716  1.152448  1.132419   \n",
       "CD14mono_alt_act -0.637652 -1.124707  -0.854739 -0.618140 -0.638660 -0.370707   \n",
       "\n",
       "                      IL13       IL4  IL4_upLPS   sLPS_IC  upLPS_IC      IL10  \\\n",
       "group                                                                           \n",
       "CD14mono          0.021531 -0.537654  -1.137039  0.322098 -1.077560 -0.499520   \n",
       "CD14mono_IFN     -1.010592 -0.616157   0.394288  0.799258  0.179408  1.151347   \n",
       "CD14mono_alt_act  0.989061  1.153811   0.742751 -1.121356  0.898152 -0.651827   \n",
       "\n",
       "                        GC       HDL      IFNb  \n",
       "group                                           \n",
       "CD14mono         -0.813757 -1.099482 -0.972759  \n",
       "CD14mono_IFN     -0.302592  0.244202  1.025179  \n",
       "CD14mono_alt_act  1.116350  0.855281 -0.052421  "
      ]
     },
     "execution_count": 49,
     "metadata": {},
     "output_type": "execute_result"
    }
   ],
   "source": [
    "score_mean.head()"
   ]
  },
  {
   "cell_type": "code",
   "execution_count": 50,
   "id": "13e82b79-61a0-4519-b9d8-da52aae877eb",
   "metadata": {},
   "outputs": [],
   "source": [
    "to_plot = score_mean.T"
   ]
  },
  {
   "cell_type": "code",
   "execution_count": 51,
   "id": "45c031ef-40be-49ea-9b0f-7f38970dd404",
   "metadata": {},
   "outputs": [
    {
     "data": {
      "text/html": [
       "<div>\n",
       "<style scoped>\n",
       "    .dataframe tbody tr th:only-of-type {\n",
       "        vertical-align: middle;\n",
       "    }\n",
       "\n",
       "    .dataframe tbody tr th {\n",
       "        vertical-align: top;\n",
       "    }\n",
       "\n",
       "    .dataframe thead th {\n",
       "        text-align: right;\n",
       "    }\n",
       "</style>\n",
       "<table border=\"1\" class=\"dataframe\">\n",
       "  <thead>\n",
       "    <tr style=\"text-align: right;\">\n",
       "      <th>group</th>\n",
       "      <th>CD14mono</th>\n",
       "      <th>CD14mono_IFN</th>\n",
       "      <th>CD14mono_alt_act</th>\n",
       "    </tr>\n",
       "  </thead>\n",
       "  <tbody>\n",
       "    <tr>\n",
       "      <th>upLPS</th>\n",
       "      <td>-0.514871</td>\n",
       "      <td>1.152523</td>\n",
       "      <td>-0.637652</td>\n",
       "    </tr>\n",
       "    <tr>\n",
       "      <th>sLPS</th>\n",
       "      <td>0.335914</td>\n",
       "      <td>0.788794</td>\n",
       "      <td>-1.124707</td>\n",
       "    </tr>\n",
       "    <tr>\n",
       "      <th>sLPS_IFNg</th>\n",
       "      <td>-0.244990</td>\n",
       "      <td>1.099728</td>\n",
       "      <td>-0.854739</td>\n",
       "    </tr>\n",
       "    <tr>\n",
       "      <th>IFNg</th>\n",
       "      <td>-0.535576</td>\n",
       "      <td>1.153716</td>\n",
       "      <td>-0.618140</td>\n",
       "    </tr>\n",
       "    <tr>\n",
       "      <th>IFNg_TNF</th>\n",
       "      <td>-0.513788</td>\n",
       "      <td>1.152448</td>\n",
       "      <td>-0.638660</td>\n",
       "    </tr>\n",
       "  </tbody>\n",
       "</table>\n",
       "</div>"
      ],
      "text/plain": [
       "group      CD14mono  CD14mono_IFN  CD14mono_alt_act\n",
       "upLPS     -0.514871      1.152523         -0.637652\n",
       "sLPS       0.335914      0.788794         -1.124707\n",
       "sLPS_IFNg -0.244990      1.099728         -0.854739\n",
       "IFNg      -0.535576      1.153716         -0.618140\n",
       "IFNg_TNF  -0.513788      1.152448         -0.638660"
      ]
     },
     "execution_count": 51,
     "metadata": {},
     "output_type": "execute_result"
    }
   ],
   "source": [
    "to_plot.head()"
   ]
  },
  {
   "cell_type": "code",
   "execution_count": 57,
   "id": "1ee85fd0-5c80-46d6-b56c-22a174f21437",
   "metadata": {},
   "outputs": [],
   "source": [
    "to_plot.to_csv('/Users/emily/Library/CloudStorage/OneDrive-NewcastleUniversity/Projects/COVID-19/Second Batch/Data analysis/Jupyter/genemodulescores.csv')"
   ]
  },
  {
   "cell_type": "code",
   "execution_count": null,
   "id": "7414a636-beec-443d-981d-78c6994dddcd",
   "metadata": {},
   "outputs": [],
   "source": []
  }
 ],
 "metadata": {
  "kernelspec": {
   "display_name": "Python 3 (ipykernel)",
   "language": "python",
   "name": "python3"
  },
  "language_info": {
   "codemirror_mode": {
    "name": "ipython",
    "version": 3
   },
   "file_extension": ".py",
   "mimetype": "text/x-python",
   "name": "python",
   "nbconvert_exporter": "python",
   "pygments_lexer": "ipython3",
   "version": "3.11.4"
  }
 },
 "nbformat": 4,
 "nbformat_minor": 5
}
