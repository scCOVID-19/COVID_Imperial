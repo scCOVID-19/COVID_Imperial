{
 "cells": [
  {
   "cell_type": "code",
   "execution_count": 1,
   "id": "c919b46d",
   "metadata": {},
   "outputs": [],
   "source": [
    "setwd('/lustre/scratch117/cellgen/team297/kt16/COVID_imperial_renal/')\n",
    "source('scripts/glmm_functions.R')"
   ]
  },
  {
   "cell_type": "code",
   "execution_count": 2,
   "id": "66c0d0b6",
   "metadata": {},
   "outputs": [],
   "source": [
    "# Basic parameters to use.\n",
    "min_cells = 10\n",
    "ncpus = 10"
   ]
  },
  {
   "cell_type": "markdown",
   "id": "88b41ddd",
   "metadata": {},
   "source": [
    "### All memory"
   ]
  },
  {
   "cell_type": "code",
   "execution_count": 3,
   "id": "e2baf84c",
   "metadata": {},
   "outputs": [],
   "source": [
    "sce <- readRDS('h5ad/df.fil3_gex_bcells_vdj_sce_B_nonswitched_mem.RDS')\n",
    "counts(sce) <- assays(sce)[['X']] # because i'm saving from a h5ad object with anndata2ri\n",
    "sce$case_control <- factor(sce$case_control, levels = c('NEGATIVE', 'POSITIVE', 'RECOVERY'))\n",
    "sce$WHO_temp_severity <- factor(sce$WHO_temp_severity, levels = c('NA', 'mild', 'moderate', 'severe', 'critical'))\n",
    "sce$WHO_temp_severity_group <- factor(sce$WHO_temp_severity, levels = c('NA', 'mild', 'moderate', 'severe', 'critical'), labels = c('NA', 'mild_moderate', 'mild_moderate', 'severe_critical', 'severe_critical'))\n",
    "sce$WHO_severity_group <- factor(sce$WHO_severity, levels = c('NA', 'mild', 'moderate', 'severe', 'critical'), labels = c('NA', 'mild_moderate', 'mild_moderate', 'severe_critical', 'severe_critical')) # interpreted as peak severity\n",
    "sce$grouped_temp_severity <- ifelse(sce$WHO_temp_severity %in% c(\"mild\", \"moderate\"), \"mild_moderate\", \"severe_critical\")\n",
    "sce$grouped_severity <- ifelse(sce$WHO_severity %in% c(\"mild\", \"moderate\"), \"mild_moderate\", \"severe_critical\")\n",
    "sce$age_scaled <- scale(sce$calc_age) # scale age"
   ]
  },
  {
   "cell_type": "code",
   "execution_count": 4,
   "id": "ddac4e65",
   "metadata": {},
   "outputs": [
    {
     "data": {
      "text/plain": [
       "                 \n",
       "                  C20 C21 C23 C31 C33 C36 C42 C63 C82 C93 C101 C113 C123 C124\n",
       "  mild_moderate     2   1   1   3   0   3   3   1   1   3    2    1    0    3\n",
       "  severe_critical   0   2   0   0   1   0   0   0   0   0    1    1    2    0\n",
       "                 \n",
       "                  C126 C127 C128 C132 C137 C138 C140 C141 C146 C147 C169 C170\n",
       "  mild_moderate      3    1    1    3    1    2    5    2    1    0    1    1\n",
       "  severe_critical    0    0    0    0    0    0    0    1    0    3    0    0\n",
       "                 \n",
       "                  C187 C190\n",
       "  mild_moderate      2    1\n",
       "  severe_critical    0    0"
      ]
     },
     "metadata": {},
     "output_type": "display_data"
    },
    {
     "data": {
      "text/plain": [
       "                 \n",
       "                  Cambridge NCL\n",
       "  mild_moderate          18  30\n",
       "  severe_critical         6   5"
      ]
     },
     "metadata": {},
     "output_type": "display_data"
    },
    {
     "data": {
      "text/plain": [
       "                 \n",
       "                   F  M\n",
       "  mild_moderate   19 29\n",
       "  severe_critical  1 10"
      ]
     },
     "metadata": {},
     "output_type": "display_data"
    },
    {
     "data": {
      "text/plain": [
       "                 \n",
       "                  asian black other white\n",
       "  mild_moderate      29     6     4     9\n",
       "  severe_critical     7     1     0     3"
      ]
     },
     "metadata": {},
     "output_type": "display_data"
    },
    {
     "name": "stdout",
     "output_type": "stream",
     "text": [
      "\n",
      "n = 59 samples, 28 individuals\n",
      "Time difference of 1.689719 mins\n",
      "\n",
      "q_grouped_temp_severity\n",
      "-----------------------\n",
      "Not Significant     Significant \n",
      "           3275            1183 \n",
      "\n",
      "q_sex\n",
      "-----\n",
      "Not Significant     Significant \n",
      "           4274             184 \n",
      "\n",
      "q_ethnicity\n",
      "-----------\n",
      "Not Significant     Significant \n",
      "           4268             190 \n",
      "\n",
      "q_age_scaled\n",
      "------------\n",
      "Not Significant     Significant \n",
      "           4298             160 \n",
      "\n",
      "q_centre\n",
      "--------\n",
      "Not Significant     Significant \n",
      "            913            3545 \n"
     ]
    }
   ],
   "source": [
    "# Remove samples with less than 10 cells\n",
    "nCells <- table(sce$sample_id)\n",
    "rmSamples <- names(nCells[nCells < min_cells])\n",
    "sce1 <- sce[, !sce$sample_id %in% rmSamples]\n",
    "# Summarize Counts\n",
    "smrzd <- aggregateAcrossCells(sce1, id = as.character(colData(sce1)[, c(\"sample_id\")]))\n",
    "y <- DGEList(counts = counts(smrzd), samples = colData(smrzd))\n",
    "\n",
    "y1 <- setupDGElist(y, \"WHO_temp_severity_group\", remove = \"NA\") # use grouped_temp_severity later\n",
    "# sanity check\n",
    "table(y1$samples$grouped_temp_severity, y1$samples$individual_id)\n",
    "table(y1$samples$grouped_temp_severity, y1$samples$centre)\n",
    "table(y1$samples$grouped_temp_severity, y1$samples$sex)\n",
    "table(y1$samples$grouped_temp_severity, y1$samples$ethnicity)\n",
    "\n",
    "res1 <- testDGElist(y1,\n",
    "            formula = as.formula(\"~ grouped_temp_severity + sex + ethnicity + age_scaled + centre + (1|individual_id)\"),\n",
    "            individual_id = \"individual_id\",\n",
    "            ncores = ncpus)\n",
    "# print(colnames(res1@stats))\n",
    "results1 <- degTable(res1, contrast = 'grouped_temp_severity', group = 'severe_critical')"
   ]
  },
  {
   "cell_type": "markdown",
   "id": "45ca27f0",
   "metadata": {},
   "source": [
    "### Comparison 2: deg from the interaction between WHO (peak) severity groups and time from infection (time from first symptoms)"
   ]
  },
  {
   "cell_type": "code",
   "execution_count": 5,
   "id": "115be8d7",
   "metadata": {},
   "outputs": [
    {
     "data": {
      "text/plain": [
       "                 \n",
       "                  C20 C21 C23 C31 C33 C36 C42 C63 C82 C93 C101 C113 C123 C124\n",
       "  mild_moderate     0   0   1   3   0   3   3   1   1   3    0    0    0    3\n",
       "  severe_critical   2   3   0   0   1   0   0   0   0   0    3    2    2    0\n",
       "                 \n",
       "                  C126 C127 C128 C132 C137 C138 C140 C141 C146 C147 C169 C170\n",
       "  mild_moderate      3    1    1    3    1    2    5    0    0    0    1    1\n",
       "  severe_critical    0    0    0    0    0    0    0    3    1    3    0    0\n",
       "                 \n",
       "                  C187 C190\n",
       "  mild_moderate      2    1\n",
       "  severe_critical    0    0"
      ]
     },
     "metadata": {},
     "output_type": "display_data"
    },
    {
     "data": {
      "text/plain": [
       "                 \n",
       "                  Cambridge NCL\n",
       "  mild_moderate          13  26\n",
       "  severe_critical        11   9"
      ]
     },
     "metadata": {},
     "output_type": "display_data"
    },
    {
     "data": {
      "text/plain": [
       "                 \n",
       "                   F  M\n",
       "  mild_moderate   18 21\n",
       "  severe_critical  2 18"
      ]
     },
     "metadata": {},
     "output_type": "display_data"
    },
    {
     "data": {
      "text/plain": [
       "                 \n",
       "                  asian black other white\n",
       "  mild_moderate      24     4     4     7\n",
       "  severe_critical    12     3     0     5"
      ]
     },
     "metadata": {},
     "output_type": "display_data"
    },
    {
     "name": "stdout",
     "output_type": "stream",
     "text": [
      "\n",
      "n = 59 samples, 28 individuals\n",
      "Time difference of 3.083607 mins\n",
      "\n",
      "q_splines::bs(time_from_infection, degree = 2)\n",
      "----------------------------------------------\n",
      "Not Significant     Significant \n",
      "            992            2702 \n",
      "\n",
      "q_grouped_severity\n",
      "------------------\n",
      "Not Significant     Significant \n",
      "           3571             123 \n",
      "\n",
      "q_sex\n",
      "-----\n",
      "Not Significant     Significant \n",
      "           3587             107 \n",
      "\n",
      "q_ethnicity\n",
      "-----------\n",
      "Not Significant     Significant \n",
      "           2522            1172 \n",
      "\n",
      "q_age_scaled\n",
      "------------\n",
      "Not Significant     Significant \n",
      "           3578             116 \n",
      "\n",
      "q_centre\n",
      "--------\n",
      "Not Significant     Significant \n",
      "            491            3203 \n",
      "\n",
      "q_splines::bs(time_from_infection, degree = 2):grouped_severity\n",
      "---------------------------------------------------------------\n",
      "Not Significant     Significant \n",
      "            201            3493 \n"
     ]
    }
   ],
   "source": [
    "# remove samples >21 days\n",
    "sce2 <- sce[,sce$time_from_infection <= 21] # prevent issues with spline\n",
    "nCells <- table(sce2$sample_id)\n",
    "rmSamples <- names(nCells[nCells < min_cells])\n",
    "sce2 <- sce2[, !sce2$sample_id %in% rmSamples]\n",
    "# Summarize Counts\n",
    "smrzd <- aggregateAcrossCells(sce2, id = as.character(colData(sce2)[, c(\"sample_id\")]))\n",
    "y <- DGEList(counts = counts(smrzd), samples = colData(smrzd))\n",
    "y2 <- setupDGElist(y, \"WHO_severity_group\", remove = \"NA\") # use grouped_severity later\n",
    "# sanity check\n",
    "table(y2$samples$grouped_severity, y2$samples$individual_id)\n",
    "table(y2$samples$grouped_severity, y2$samples$centre)\n",
    "table(y2$samples$grouped_severity, y2$samples$sex)\n",
    "table(y2$samples$grouped_severity, y2$samples$ethnicity)\n",
    "\n",
    "res2 <- testDGElist(y2,\n",
    "            formula = as.formula(\"~ splines::bs(time_from_infection, degree = 2) * grouped_severity + sex + ethnicity + age_scaled + centre + (1|individual_id)\"),\n",
    "            individual_id = \"individual_id\",\n",
    "            modified = TRUE,\n",
    "            ncores = ncpus)\n",
    "# print(colnames(res2$stats))\n",
    "results2 <- degTable(res2, contrast = 'splines::bs(time_from_infection, degree = 2):grouped_severity', 'severe_critical', modified = TRUE)"
   ]
  },
  {
   "cell_type": "markdown",
   "id": "cdef8215",
   "metadata": {},
   "source": [
    "### Comparison 3: just wave 1, deg from positive vs negative"
   ]
  },
  {
   "cell_type": "code",
   "execution_count": 6,
   "id": "dca449b9",
   "metadata": {
    "scrolled": true
   },
   "outputs": [
    {
     "data": {
      "text/plain": [
       "          \n",
       "           C20 C21 C23 C31 C36 C42 C63 C82 C93 C103 C104 C106 C113 C123 C124\n",
       "  NEGATIVE   0   0   0   0   0   0   0   0   0    1    1    1    0    0    0\n",
       "  POSITIVE   2   3   1   3   3   3   1   1   3    0    0    0    2    2    3\n",
       "          \n",
       "           C126 C127 C128 C132 C134 C142 C164 C167 C193 C195 C197 C212 C214\n",
       "  NEGATIVE    0    0    0    0    1    1    1    1    1    1    1    1    1\n",
       "  POSITIVE    3    1    1    3    0    0    0    0    0    0    0    0    0\n",
       "          \n",
       "           C224 C234 C238 C251\n",
       "  NEGATIVE    1    1    1    1\n",
       "  POSITIVE    0    0    0    0"
      ]
     },
     "metadata": {},
     "output_type": "display_data"
    },
    {
     "data": {
      "text/plain": [
       "          \n",
       "            F  M\n",
       "  NEGATIVE  6 10\n",
       "  POSITIVE 11 24"
      ]
     },
     "metadata": {},
     "output_type": "display_data"
    },
    {
     "data": {
      "text/plain": [
       "          \n",
       "           asian black other white\n",
       "  NEGATIVE     7     3     2     4\n",
       "  POSITIVE    18     4     2    11"
      ]
     },
     "metadata": {},
     "output_type": "display_data"
    },
    {
     "name": "stdout",
     "output_type": "stream",
     "text": [
      "\n",
      "n = 51 samples, 32 individuals\n",
      "Time difference of 1.508193 mins\n",
      "Errors in 1 gene(s):XIST\n",
      "q_case_control\n",
      "--------------\n",
      "Not Significant     Significant \n",
      "           4433              88 \n",
      "\n",
      "q_sex\n",
      "-----\n",
      "Not Significant     Significant \n",
      "           2596            1925 \n",
      "\n",
      "q_ethnicity\n",
      "-----------\n",
      "Not Significant     Significant \n",
      "           4433              88 \n",
      "\n",
      "q_age_scaled\n",
      "------------\n",
      "Not Significant     Significant \n",
      "           4444              77 \n"
     ]
    }
   ],
   "source": [
    "sce3 <- sce[, sce$centre == 'NCL']\n",
    "# Remove samples with less than MIN\n",
    "nCells <- table(sce3$sample_id)\n",
    "rmSamples <- names(nCells[nCells < min_cells])\n",
    "sce3 <- sce3[,!sce3$sample_id %in% rmSamples]\n",
    "# Summarize Counts\n",
    "smrzd <- aggregateAcrossCells(sce3, id=as.character(colData(sce3)[,c(\"sample_id\")]))\n",
    "y <- DGEList(counts=counts(smrzd), samples=colData(smrzd))\n",
    "y3 <- setupDGElist(y, 'case_control')\n",
    "# sanity check\n",
    "table(y3$samples$case_control, y3$samples$individual_id)\n",
    "table(y3$samples$case_control, y3$samples$sex)\n",
    "table(y3$samples$case_control, y3$samples$ethnicity)\n",
    "\n",
    "res3 <- testDGElist(y3, \n",
    "            formula = as.formula(\"~ case_control + sex + ethnicity + age_scaled + (1|individual_id)\"), \n",
    "            individual_id = 'individual_id',\n",
    "            ncores = ncpus\n",
    "           )\n",
    "# print(colnames(res3@stats))\n",
    "results3 <- degTable(res3, contrast = 'case_control', group = 'POSITIVE')"
   ]
  },
  {
   "cell_type": "markdown",
   "id": "57fbd3ef",
   "metadata": {},
   "source": [
    "### Comparison 4: just patients that were negative in wave 1 but positive in wave 2, deg from recovery vs negative"
   ]
  },
  {
   "cell_type": "code",
   "execution_count": 7,
   "id": "ff00d5d5",
   "metadata": {},
   "outputs": [
    {
     "data": {
      "text/plain": [
       "          \n",
       "           C137 C140\n",
       "  NEGATIVE    1    1\n",
       "  RECOVERY    1    1"
      ]
     },
     "metadata": {},
     "output_type": "display_data"
    },
    {
     "data": {
      "text/plain": [
       "          \n",
       "           F\n",
       "  NEGATIVE 2\n",
       "  RECOVERY 2"
      ]
     },
     "metadata": {},
     "output_type": "display_data"
    },
    {
     "data": {
      "text/plain": [
       "          \n",
       "           asian\n",
       "  NEGATIVE     2\n",
       "  RECOVERY     2"
      ]
     },
     "metadata": {},
     "output_type": "display_data"
    },
    {
     "name": "stdout",
     "output_type": "stream",
     "text": [
      "\n",
      "n = 4 samples, 2 individuals\n"
     ]
    },
    {
     "ename": "ERROR",
     "evalue": "Error in `contrasts<-`(`*tmp*`, value = contr.funs[1 + isOF[nn]]): contrasts can be applied only to factors with 2 or more levels\n",
     "output_type": "error",
     "traceback": [
      "Error in `contrasts<-`(`*tmp*`, value = contr.funs[1 + isOF[nn]]): contrasts can be applied only to factors with 2 or more levels\nTraceback:\n",
      "1. testDGElist(y4, formula = as.formula(\"~ case_control + sex + ethnicity + age_scaled + (1|individual_id)\"), \n .     individual_id = \"individual_id\", ncores = ncpus)",
      "2. glmmSeq(formula, id = individual_id, countdata = dgelist$counts, \n .     metadata = dgelist$samples, dispersion = disp, sizeFactors = sizeFactors, \n .     removeDuplicatedMeasures = FALSE, designMatrix = designMatrix, \n .     removeSingles = FALSE, control = glmerControl(optimizer = optimizer, \n .         ...), progress = TRUE, cores = NCORES)",
      "3. model.matrix(reducedFormula, modelData)",
      "4. model.matrix.default(reducedFormula, modelData)",
      "5. `contrasts<-`(`*tmp*`, value = contr.funs[1 + isOF[nn]])",
      "6. stop(\"contrasts can be applied only to factors with 2 or more levels\")"
     ]
    }
   ],
   "source": [
    "sce4 <- sce[, sce$individual_id %in% c('C101', 'C108', 'C137', 'C138', 'C140', \n",
    "                                       'C141', 'C145', 'C146', 'C147', 'C168',\n",
    "                                        'C169', 'C170', 'C187', 'C190', 'C33')]\n",
    "# Remove samples with less than MIN\n",
    "nCells <- table(sce4$sample_id)\n",
    "rmSamples <- names(nCells[nCells < min_cells])\n",
    "sce4 <- sce4[,!sce4$sample_id %in% rmSamples]\n",
    "# remove non-complete data (all have positive), 1 = negative, 3 = recovery\n",
    "df <- table(sce4$individual_id, sce4$case_control)\n",
    "keep_ids <- row.names(df)[which(df[,1] != 0 & df[,3] != 0)]\n",
    "sce4 <- sce4[, sce4$individual_id %in% keep_ids]\n",
    "# Summarize Counts\n",
    "smrzd <- aggregateAcrossCells(sce4, id=as.character(colData(sce4)[,c(\"sample_id\")]))\n",
    "y <- DGEList(counts=counts(smrzd), samples=colData(smrzd))\n",
    "y4 <- setupDGElist(y, 'case_control', remove = 'POSITIVE')\n",
    "# sanity check\n",
    "table(y4$samples$case_control, y4$samples$individual_id)\n",
    "table(y4$samples$case_control, y4$samples$sex)\n",
    "table(y4$samples$case_control, y4$samples$ethnicity)\n",
    "\n",
    "res4 <- testDGElist(y4, \n",
    "            formula = as.formula(\"~ case_control + sex + ethnicity + age_scaled + (1|individual_id)\"), \n",
    "            individual_id = 'individual_id',\n",
    "            ncores = ncpus\n",
    "           )\n",
    "# print(colnames(res4@stats))\n",
    "results4 <- degTable(res4, contrast = 'case_control', group = 'RECOVERY')"
   ]
  },
  {
   "cell_type": "markdown",
   "id": "1aee3887",
   "metadata": {},
   "source": [
    "### Comparison 5: just patients that were negative in wave 1 but positive in wave 2, deg from positive vs negative"
   ]
  },
  {
   "cell_type": "code",
   "execution_count": 8,
   "id": "da6be5e8",
   "metadata": {},
   "outputs": [
    {
     "data": {
      "text/plain": [
       "          \n",
       "           C137 C140 C147\n",
       "  NEGATIVE    1    1    1\n",
       "  POSITIVE    1    5    3"
      ]
     },
     "metadata": {},
     "output_type": "display_data"
    },
    {
     "data": {
      "text/plain": [
       "          \n",
       "           F M\n",
       "  NEGATIVE 2 1\n",
       "  POSITIVE 6 3"
      ]
     },
     "metadata": {},
     "output_type": "display_data"
    },
    {
     "data": {
      "text/plain": [
       "          \n",
       "           asian\n",
       "  NEGATIVE     3\n",
       "  POSITIVE     9"
      ]
     },
     "metadata": {},
     "output_type": "display_data"
    },
    {
     "name": "stdout",
     "output_type": "stream",
     "text": [
      "\n",
      "n = 12 samples, 3 individuals\n"
     ]
    },
    {
     "ename": "ERROR",
     "evalue": "Error in `contrasts<-`(`*tmp*`, value = contr.funs[1 + isOF[nn]]): contrasts can be applied only to factors with 2 or more levels\n",
     "output_type": "error",
     "traceback": [
      "Error in `contrasts<-`(`*tmp*`, value = contr.funs[1 + isOF[nn]]): contrasts can be applied only to factors with 2 or more levels\nTraceback:\n",
      "1. testDGElist(y5, formula = as.formula(\"~ case_control + sex + ethnicity + age_scaled + (1|individual_id)\"), \n .     individual_id = \"individual_id\", ncores = ncpus)",
      "2. glmmSeq(formula, id = individual_id, countdata = dgelist$counts, \n .     metadata = dgelist$samples, dispersion = disp, sizeFactors = sizeFactors, \n .     removeDuplicatedMeasures = FALSE, designMatrix = designMatrix, \n .     removeSingles = FALSE, control = glmerControl(optimizer = optimizer, \n .         ...), progress = TRUE, cores = NCORES)",
      "3. model.matrix(reducedFormula, modelData)",
      "4. model.matrix.default(reducedFormula, modelData)",
      "5. `contrasts<-`(`*tmp*`, value = contr.funs[1 + isOF[nn]])",
      "6. stop(\"contrasts can be applied only to factors with 2 or more levels\")"
     ]
    }
   ],
   "source": [
    "sce5 <- sce[, sce$individual_id %in% c('C101', 'C108', 'C137', 'C138', 'C140', \n",
    "                                       'C141', 'C145', 'C146', 'C147', 'C168',\n",
    "                                        'C169', 'C170', 'C187', 'C190', 'C33')]\n",
    "# Remove samples with less than MIN\n",
    "nCells <- table(sce5$sample_id)\n",
    "rmSamples <- names(nCells[nCells < min_cells])\n",
    "sce5 <- sce5[,!sce5$sample_id %in% rmSamples]\n",
    "# remove non-complete data (all have positive), 1 = negative, 2 = positive\n",
    "df <- table(sce5$individual_id, sce5$case_control)\n",
    "keep_ids <- row.names(df)[which(df[,1] != 0 & df[,2] != 0)]\n",
    "sce5 <- sce5[, sce5$individual_id %in% keep_ids]\n",
    "# Summarize Counts\n",
    "smrzd <- aggregateAcrossCells(sce5, id=as.character(colData(sce5)[,c(\"sample_id\")]))\n",
    "y <- DGEList(counts=counts(smrzd), samples=colData(smrzd))\n",
    "y5 <- setupDGElist(y, 'case_control', remove = 'RECOVERY')\n",
    "# sanity check\n",
    "table(y5$samples$case_control, y5$samples$individual_id)\n",
    "table(y5$samples$case_control, y5$samples$sex)\n",
    "table(y5$samples$case_control, y5$samples$ethnicity)\n",
    "\n",
    "res5 <- testDGElist(y5, \n",
    "            formula = as.formula(\"~ case_control + sex + ethnicity + age_scaled + (1|individual_id)\"), \n",
    "            individual_id = 'individual_id',\n",
    "            ncores = ncpus\n",
    "           )\n",
    "# print(colnames(res5@stats))\n",
    "results5 <- degTable(res5, contrast = 'case_control', group = 'POSITIVE')"
   ]
  },
  {
   "cell_type": "code",
   "execution_count": 9,
   "id": "9bdc5058",
   "metadata": {},
   "outputs": [],
   "source": [
    "save(res1, res2, res3, results1, results2, results3, file = 'h5ad/df.fil3_gex_bcells_vdj_sce_B_nonswitched_mem_deg.RData')"
   ]
  },
  {
   "cell_type": "code",
   "execution_count": null,
   "id": "55c6216e",
   "metadata": {},
   "outputs": [],
   "source": []
  }
 ],
 "metadata": {
  "kernelspec": {
   "display_name": "R",
   "language": "R",
   "name": "ir"
  },
  "language_info": {
   "codemirror_mode": "r",
   "file_extension": ".r",
   "mimetype": "text/x-r-source",
   "name": "R",
   "pygments_lexer": "r",
   "version": "4.0.3"
  }
 },
 "nbformat": 4,
 "nbformat_minor": 5
}
