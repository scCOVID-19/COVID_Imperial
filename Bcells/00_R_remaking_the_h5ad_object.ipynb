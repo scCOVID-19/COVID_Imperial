{
 "cells": [
  {
   "cell_type": "code",
   "execution_count": 1,
   "id": "491256c1",
   "metadata": {},
   "outputs": [
    {
     "name": "stderr",
     "output_type": "stream",
     "text": [
      "Attaching SeuratObject\n",
      "\n"
     ]
    }
   ],
   "source": [
    "library(Seurat)"
   ]
  },
  {
   "cell_type": "code",
   "execution_count": 2,
   "id": "e048f4db",
   "metadata": {},
   "outputs": [],
   "source": [
    "setwd('/lustre/scratch117/cellgen/team297/kt16/COVID_imperial_renal')"
   ]
  },
  {
   "cell_type": "code",
   "execution_count": 3,
   "id": "6d52fc7a",
   "metadata": {},
   "outputs": [
    {
     "data": {
      "text/plain": [
       "An object of class Seurat \n",
       "33696 features across 916806 samples within 2 assays \n",
       "Active assay: RNA (33559 features, 2000 variable features)\n",
       " 1 other assay present: ADT\n",
       " 4 dimensional reductions calculated: pca_RNA, umapBeforeHarmony_RNA, harmony_RNA, umapAfterHarmony_RNA"
      ]
     },
     "metadata": {},
     "output_type": "display_data"
    }
   ],
   "source": [
    "dat <- readRDS('df.fil3.rds')\n",
    "dat"
   ]
  },
  {
   "cell_type": "code",
   "execution_count": null,
   "id": "38c6ccb5",
   "metadata": {},
   "outputs": [],
   "source": [
    "sceasy::convertFormat(dat, from=\"seurat\", to=\"anndata\", outFile='h5ad/counts.h5ad', transfer_layers = 'counts', drop_single_values = FALSE)"
   ]
  },
  {
   "cell_type": "code",
   "execution_count": null,
   "id": "5a88a79d",
   "metadata": {},
   "outputs": [],
   "source": [
    "sceasy::convertFormat(dat, from=\"seurat\", to=\"anndata\", outFile='h5ad/adt.h5ad', assay = 'ADT', transfer_layers = 'counts', drop_single_values = FALSE)"
   ]
  },
  {
   "cell_type": "code",
   "execution_count": null,
   "id": "4956136e",
   "metadata": {},
   "outputs": [],
   "source": []
  }
 ],
 "metadata": {
  "kernelspec": {
   "display_name": "R",
   "language": "R",
   "name": "ir"
  },
  "language_info": {
   "codemirror_mode": "r",
   "file_extension": ".r",
   "mimetype": "text/x-r-source",
   "name": "R",
   "pygments_lexer": "r",
   "version": "4.0.3"
  }
 },
 "nbformat": 4,
 "nbformat_minor": 5
}
