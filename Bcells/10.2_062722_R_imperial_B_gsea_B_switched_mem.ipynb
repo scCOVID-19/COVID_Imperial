{
 "cells": [
  {
   "cell_type": "code",
   "execution_count": 1,
   "id": "c919b46d",
   "metadata": {},
   "outputs": [
    {
     "name": "stderr",
     "output_type": "stream",
     "text": [
      "Registered S3 methods overwritten by 'lme4':\n",
      "  method                          from\n",
      "  cooks.distance.influence.merMod car \n",
      "  influence.merMod                car \n",
      "  dfbeta.influence.merMod         car \n",
      "  dfbetas.influence.merMod        car \n",
      "\n"
     ]
    }
   ],
   "source": [
    "library(glmmSeq)\n",
    "setwd('/lustre/scratch117/cellgen/team297/kt16/COVID_imperial_renal/')"
   ]
  },
  {
   "cell_type": "code",
   "execution_count": 2,
   "id": "e2baf84c",
   "metadata": {},
   "outputs": [
    {
     "data": {
      "text/html": [
       "<style>\n",
       ".list-inline {list-style: none; margin:0; padding: 0}\n",
       ".list-inline>li {display: inline-block}\n",
       ".list-inline>li:not(:last-child)::after {content: \"\\00b7\"; padding: 0 .5ex}\n",
       "</style>\n",
       "<ol class=list-inline><li>'res1'</li><li>'res2'</li><li>'res3'</li><li>'results1'</li><li>'results2'</li><li>'results3'</li></ol>\n"
      ],
      "text/latex": [
       "\\begin{enumerate*}\n",
       "\\item 'res1'\n",
       "\\item 'res2'\n",
       "\\item 'res3'\n",
       "\\item 'results1'\n",
       "\\item 'results2'\n",
       "\\item 'results3'\n",
       "\\end{enumerate*}\n"
      ],
      "text/markdown": [
       "1. 'res1'\n",
       "2. 'res2'\n",
       "3. 'res3'\n",
       "4. 'results1'\n",
       "5. 'results2'\n",
       "6. 'results3'\n",
       "\n",
       "\n"
      ],
      "text/plain": [
       "[1] \"res1\"     \"res2\"     \"res3\"     \"results1\" \"results2\" \"results3\""
      ]
     },
     "metadata": {},
     "output_type": "display_data"
    }
   ],
   "source": [
    "load('h5ad/df.fil3_gex_bcells_vdj_sce_B_switched_mem_deg_270622.RData')\n",
    "ls()"
   ]
  },
  {
   "cell_type": "code",
   "execution_count": 3,
   "id": "1541a80a",
   "metadata": {
    "scrolled": true
   },
   "outputs": [
    {
     "name": "stderr",
     "output_type": "stream",
     "text": [
      "\n",
      "Attaching package: ‘dplyr’\n",
      "\n",
      "\n",
      "The following objects are masked from ‘package:stats’:\n",
      "\n",
      "    filter, lag\n",
      "\n",
      "\n",
      "The following objects are masked from ‘package:base’:\n",
      "\n",
      "    intersect, setdiff, setequal, union\n",
      "\n",
      "\n"
     ]
    }
   ],
   "source": [
    "library(dplyr)\n",
    "makeGeneList <- function(gl, beta_column='beta'){\n",
    "    y <- grepl('^RPS|^RPL|^MT-', row.names(gl))\n",
    "    gl <- gl[!y, ]\n",
    "    rank <- -log10(gl$pval) * sign(gl[,beta_column])\n",
    "    rank[which(rank == Inf)] <- 300\n",
    "    rank[which(rank == -Inf)] <- 300\n",
    "    names(rank) <- row.names(gl)\n",
    "    rank <- rev(sort(rank))\n",
    "    gl <- rank\n",
    "    return(gl)\n",
    "}"
   ]
  },
  {
   "cell_type": "code",
   "execution_count": 4,
   "id": "fb289ea0",
   "metadata": {},
   "outputs": [
    {
     "data": {
      "text/html": [
       "<table class=\"dataframe\">\n",
       "<caption>A data.frame: 6 × 5</caption>\n",
       "<thead>\n",
       "\t<tr><th></th><th scope=col>beta</th><th scope=col>pval</th><th scope=col>qval</th><th scope=col>Singular</th><th scope=col>Conv</th></tr>\n",
       "\t<tr><th></th><th scope=col>&lt;dbl&gt;</th><th scope=col>&lt;dbl&gt;</th><th scope=col>&lt;dbl&gt;</th><th scope=col>&lt;dbl&gt;</th><th scope=col>&lt;dbl&gt;</th></tr>\n",
       "</thead>\n",
       "<tbody>\n",
       "\t<tr><th scope=row>OAS3</th><td>1.2849007</td><td>1.959681e-03</td><td>0.0803783674</td><td>0</td><td>0</td></tr>\n",
       "\t<tr><th scope=row>IFI6</th><td>1.2031710</td><td>1.254251e-04</td><td>0.0139421790</td><td>0</td><td>0</td></tr>\n",
       "\t<tr><th scope=row>MX1</th><td>1.0627187</td><td>2.217175e-06</td><td>0.0004360444</td><td>0</td><td>0</td></tr>\n",
       "\t<tr><th scope=row>SAMD9L</th><td>1.0183982</td><td>2.378938e-06</td><td>0.0004561613</td><td>0</td><td>0</td></tr>\n",
       "\t<tr><th scope=row>OAS2</th><td>0.8366951</td><td>3.081293e-04</td><td>0.0268562657</td><td>0</td><td>0</td></tr>\n",
       "\t<tr><th scope=row>MX2</th><td>0.7002237</td><td>5.499936e-03</td><td>0.1348764624</td><td>0</td><td>0</td></tr>\n",
       "</tbody>\n",
       "</table>\n"
      ],
      "text/latex": [
       "A data.frame: 6 × 5\n",
       "\\begin{tabular}{r|lllll}\n",
       "  & beta & pval & qval & Singular & Conv\\\\\n",
       "  & <dbl> & <dbl> & <dbl> & <dbl> & <dbl>\\\\\n",
       "\\hline\n",
       "\tOAS3 & 1.2849007 & 1.959681e-03 & 0.0803783674 & 0 & 0\\\\\n",
       "\tIFI6 & 1.2031710 & 1.254251e-04 & 0.0139421790 & 0 & 0\\\\\n",
       "\tMX1 & 1.0627187 & 2.217175e-06 & 0.0004360444 & 0 & 0\\\\\n",
       "\tSAMD9L & 1.0183982 & 2.378938e-06 & 0.0004561613 & 0 & 0\\\\\n",
       "\tOAS2 & 0.8366951 & 3.081293e-04 & 0.0268562657 & 0 & 0\\\\\n",
       "\tMX2 & 0.7002237 & 5.499936e-03 & 0.1348764624 & 0 & 0\\\\\n",
       "\\end{tabular}\n"
      ],
      "text/markdown": [
       "\n",
       "A data.frame: 6 × 5\n",
       "\n",
       "| <!--/--> | beta &lt;dbl&gt; | pval &lt;dbl&gt; | qval &lt;dbl&gt; | Singular &lt;dbl&gt; | Conv &lt;dbl&gt; |\n",
       "|---|---|---|---|---|---|\n",
       "| OAS3 | 1.2849007 | 1.959681e-03 | 0.0803783674 | 0 | 0 |\n",
       "| IFI6 | 1.2031710 | 1.254251e-04 | 0.0139421790 | 0 | 0 |\n",
       "| MX1 | 1.0627187 | 2.217175e-06 | 0.0004360444 | 0 | 0 |\n",
       "| SAMD9L | 1.0183982 | 2.378938e-06 | 0.0004561613 | 0 | 0 |\n",
       "| OAS2 | 0.8366951 | 3.081293e-04 | 0.0268562657 | 0 | 0 |\n",
       "| MX2 | 0.7002237 | 5.499936e-03 | 0.1348764624 | 0 | 0 |\n",
       "\n"
      ],
      "text/plain": [
       "       beta      pval         qval         Singular Conv\n",
       "OAS3   1.2849007 1.959681e-03 0.0803783674 0        0   \n",
       "IFI6   1.2031710 1.254251e-04 0.0139421790 0        0   \n",
       "MX1    1.0627187 2.217175e-06 0.0004360444 0        0   \n",
       "SAMD9L 1.0183982 2.378938e-06 0.0004561613 0        0   \n",
       "OAS2   0.8366951 3.081293e-04 0.0268562657 0        0   \n",
       "MX2    0.7002237 5.499936e-03 0.1348764624 0        0   "
      ]
     },
     "metadata": {},
     "output_type": "display_data"
    },
    {
     "data": {
      "text/html": [
       "<style>\n",
       ".list-inline {list-style: none; margin:0; padding: 0}\n",
       ".list-inline>li {display: inline-block}\n",
       ".list-inline>li:not(:last-child)::after {content: \"\\00b7\"; padding: 0 .5ex}\n",
       "</style>\n",
       "<ol class=list-inline><li>477</li><li>5</li></ol>\n"
      ],
      "text/latex": [
       "\\begin{enumerate*}\n",
       "\\item 477\n",
       "\\item 5\n",
       "\\end{enumerate*}\n"
      ],
      "text/markdown": [
       "1. 477\n",
       "2. 5\n",
       "\n",
       "\n"
      ],
      "text/plain": [
       "[1] 477   5"
      ]
     },
     "metadata": {},
     "output_type": "display_data"
    }
   ],
   "source": [
    "head(results1)\n",
    "dim(results1)"
   ]
  },
  {
   "cell_type": "code",
   "execution_count": 5,
   "id": "922f7c63",
   "metadata": {},
   "outputs": [
    {
     "data": {
      "text/html": [
       "<table class=\"dataframe\">\n",
       "<caption>A data.frame: 6 × 5</caption>\n",
       "<thead>\n",
       "\t<tr><th></th><th scope=col>beta</th><th scope=col>pval</th><th scope=col>qval</th><th scope=col>Singular</th><th scope=col>Conv</th></tr>\n",
       "\t<tr><th></th><th scope=col>&lt;dbl&gt;</th><th scope=col>&lt;dbl&gt;</th><th scope=col>&lt;dbl&gt;</th><th scope=col>&lt;dbl&gt;</th><th scope=col>&lt;dbl&gt;</th></tr>\n",
       "</thead>\n",
       "<tbody>\n",
       "\t<tr><th scope=row>MTRNR2L8</th><td>1.2836852</td><td>0.003504776</td><td>0.9977726</td><td>0</td><td>0</td></tr>\n",
       "\t<tr><th scope=row>IGHM</th><td>0.4396407</td><td>0.053619184</td><td>0.9977726</td><td>0</td><td>0</td></tr>\n",
       "\t<tr><th scope=row>DUSP1</th><td>0.4103043</td><td>0.008651865</td><td>0.9977726</td><td>0</td><td>0</td></tr>\n",
       "\t<tr><th scope=row>CD69</th><td>0.3795535</td><td>0.105289081</td><td>0.9977726</td><td>0</td><td>0</td></tr>\n",
       "\t<tr><th scope=row>TP53INP1</th><td>0.3717419</td><td>0.111973376</td><td>0.9977726</td><td>0</td><td>0</td></tr>\n",
       "\t<tr><th scope=row>TSC22D3</th><td>0.2934246</td><td>0.031870805</td><td>0.9977726</td><td>0</td><td>0</td></tr>\n",
       "</tbody>\n",
       "</table>\n"
      ],
      "text/latex": [
       "A data.frame: 6 × 5\n",
       "\\begin{tabular}{r|lllll}\n",
       "  & beta & pval & qval & Singular & Conv\\\\\n",
       "  & <dbl> & <dbl> & <dbl> & <dbl> & <dbl>\\\\\n",
       "\\hline\n",
       "\tMTRNR2L8 & 1.2836852 & 0.003504776 & 0.9977726 & 0 & 0\\\\\n",
       "\tIGHM & 0.4396407 & 0.053619184 & 0.9977726 & 0 & 0\\\\\n",
       "\tDUSP1 & 0.4103043 & 0.008651865 & 0.9977726 & 0 & 0\\\\\n",
       "\tCD69 & 0.3795535 & 0.105289081 & 0.9977726 & 0 & 0\\\\\n",
       "\tTP53INP1 & 0.3717419 & 0.111973376 & 0.9977726 & 0 & 0\\\\\n",
       "\tTSC22D3 & 0.2934246 & 0.031870805 & 0.9977726 & 0 & 0\\\\\n",
       "\\end{tabular}\n"
      ],
      "text/markdown": [
       "\n",
       "A data.frame: 6 × 5\n",
       "\n",
       "| <!--/--> | beta &lt;dbl&gt; | pval &lt;dbl&gt; | qval &lt;dbl&gt; | Singular &lt;dbl&gt; | Conv &lt;dbl&gt; |\n",
       "|---|---|---|---|---|---|\n",
       "| MTRNR2L8 | 1.2836852 | 0.003504776 | 0.9977726 | 0 | 0 |\n",
       "| IGHM | 0.4396407 | 0.053619184 | 0.9977726 | 0 | 0 |\n",
       "| DUSP1 | 0.4103043 | 0.008651865 | 0.9977726 | 0 | 0 |\n",
       "| CD69 | 0.3795535 | 0.105289081 | 0.9977726 | 0 | 0 |\n",
       "| TP53INP1 | 0.3717419 | 0.111973376 | 0.9977726 | 0 | 0 |\n",
       "| TSC22D3 | 0.2934246 | 0.031870805 | 0.9977726 | 0 | 0 |\n",
       "\n"
      ],
      "text/plain": [
       "         beta      pval        qval      Singular Conv\n",
       "MTRNR2L8 1.2836852 0.003504776 0.9977726 0        0   \n",
       "IGHM     0.4396407 0.053619184 0.9977726 0        0   \n",
       "DUSP1    0.4103043 0.008651865 0.9977726 0        0   \n",
       "CD69     0.3795535 0.105289081 0.9977726 0        0   \n",
       "TP53INP1 0.3717419 0.111973376 0.9977726 0        0   \n",
       "TSC22D3  0.2934246 0.031870805 0.9977726 0        0   "
      ]
     },
     "metadata": {},
     "output_type": "display_data"
    },
    {
     "data": {
      "text/html": [
       "<style>\n",
       ".list-inline {list-style: none; margin:0; padding: 0}\n",
       ".list-inline>li {display: inline-block}\n",
       ".list-inline>li:not(:last-child)::after {content: \"\\00b7\"; padding: 0 .5ex}\n",
       "</style>\n",
       "<ol class=list-inline><li>27</li><li>5</li></ol>\n"
      ],
      "text/latex": [
       "\\begin{enumerate*}\n",
       "\\item 27\n",
       "\\item 5\n",
       "\\end{enumerate*}\n"
      ],
      "text/markdown": [
       "1. 27\n",
       "2. 5\n",
       "\n",
       "\n"
      ],
      "text/plain": [
       "[1] 27  5"
      ]
     },
     "metadata": {},
     "output_type": "display_data"
    }
   ],
   "source": [
    "head(results2)\n",
    "dim(results2)"
   ]
  },
  {
   "cell_type": "code",
   "execution_count": 6,
   "id": "892bd724",
   "metadata": {},
   "outputs": [
    {
     "data": {
      "text/html": [
       "<table class=\"dataframe\">\n",
       "<caption>A data.frame: 6 × 5</caption>\n",
       "<thead>\n",
       "\t<tr><th></th><th scope=col>beta</th><th scope=col>pval</th><th scope=col>qval</th><th scope=col>Singular</th><th scope=col>Conv</th></tr>\n",
       "\t<tr><th></th><th scope=col>&lt;dbl&gt;</th><th scope=col>&lt;dbl&gt;</th><th scope=col>&lt;dbl&gt;</th><th scope=col>&lt;dbl&gt;</th><th scope=col>&lt;dbl&gt;</th></tr>\n",
       "</thead>\n",
       "<tbody>\n",
       "\t<tr><th scope=row>ATF5</th><td>0.7706512</td><td>0.04839397</td><td>0.7033252</td><td>0</td><td>0</td></tr>\n",
       "\t<tr><th scope=row>MNDA</th><td>0.6944104</td><td>0.05409167</td><td>0.7207528</td><td>0</td><td>0</td></tr>\n",
       "\t<tr><th scope=row>RTCB</th><td>0.5937721</td><td>0.01490787</td><td>0.5314099</td><td>0</td><td>0</td></tr>\n",
       "\t<tr><th scope=row>TMEM60</th><td>0.5763994</td><td>0.13489845</td><td>0.8365301</td><td>0</td><td>0</td></tr>\n",
       "\t<tr><th scope=row>H1FX</th><td>0.4452683</td><td>0.03094793</td><td>0.6468879</td><td>0</td><td>0</td></tr>\n",
       "\t<tr><th scope=row>CCND2</th><td>0.4004006</td><td>0.15601227</td><td>0.8481672</td><td>0</td><td>0</td></tr>\n",
       "</tbody>\n",
       "</table>\n"
      ],
      "text/latex": [
       "A data.frame: 6 × 5\n",
       "\\begin{tabular}{r|lllll}\n",
       "  & beta & pval & qval & Singular & Conv\\\\\n",
       "  & <dbl> & <dbl> & <dbl> & <dbl> & <dbl>\\\\\n",
       "\\hline\n",
       "\tATF5 & 0.7706512 & 0.04839397 & 0.7033252 & 0 & 0\\\\\n",
       "\tMNDA & 0.6944104 & 0.05409167 & 0.7207528 & 0 & 0\\\\\n",
       "\tRTCB & 0.5937721 & 0.01490787 & 0.5314099 & 0 & 0\\\\\n",
       "\tTMEM60 & 0.5763994 & 0.13489845 & 0.8365301 & 0 & 0\\\\\n",
       "\tH1FX & 0.4452683 & 0.03094793 & 0.6468879 & 0 & 0\\\\\n",
       "\tCCND2 & 0.4004006 & 0.15601227 & 0.8481672 & 0 & 0\\\\\n",
       "\\end{tabular}\n"
      ],
      "text/markdown": [
       "\n",
       "A data.frame: 6 × 5\n",
       "\n",
       "| <!--/--> | beta &lt;dbl&gt; | pval &lt;dbl&gt; | qval &lt;dbl&gt; | Singular &lt;dbl&gt; | Conv &lt;dbl&gt; |\n",
       "|---|---|---|---|---|---|\n",
       "| ATF5 | 0.7706512 | 0.04839397 | 0.7033252 | 0 | 0 |\n",
       "| MNDA | 0.6944104 | 0.05409167 | 0.7207528 | 0 | 0 |\n",
       "| RTCB | 0.5937721 | 0.01490787 | 0.5314099 | 0 | 0 |\n",
       "| TMEM60 | 0.5763994 | 0.13489845 | 0.8365301 | 0 | 0 |\n",
       "| H1FX | 0.4452683 | 0.03094793 | 0.6468879 | 0 | 0 |\n",
       "| CCND2 | 0.4004006 | 0.15601227 | 0.8481672 | 0 | 0 |\n",
       "\n"
      ],
      "text/plain": [
       "       beta      pval       qval      Singular Conv\n",
       "ATF5   0.7706512 0.04839397 0.7033252 0        0   \n",
       "MNDA   0.6944104 0.05409167 0.7207528 0        0   \n",
       "RTCB   0.5937721 0.01490787 0.5314099 0        0   \n",
       "TMEM60 0.5763994 0.13489845 0.8365301 0        0   \n",
       "H1FX   0.4452683 0.03094793 0.6468879 0        0   \n",
       "CCND2  0.4004006 0.15601227 0.8481672 0        0   "
      ]
     },
     "metadata": {},
     "output_type": "display_data"
    },
    {
     "data": {
      "text/html": [
       "<style>\n",
       ".list-inline {list-style: none; margin:0; padding: 0}\n",
       ".list-inline>li {display: inline-block}\n",
       ".list-inline>li:not(:last-child)::after {content: \"\\00b7\"; padding: 0 .5ex}\n",
       "</style>\n",
       "<ol class=list-inline><li>123</li><li>5</li></ol>\n"
      ],
      "text/latex": [
       "\\begin{enumerate*}\n",
       "\\item 123\n",
       "\\item 5\n",
       "\\end{enumerate*}\n"
      ],
      "text/markdown": [
       "1. 123\n",
       "2. 5\n",
       "\n",
       "\n"
      ],
      "text/plain": [
       "[1] 123   5"
      ]
     },
     "metadata": {},
     "output_type": "display_data"
    }
   ],
   "source": [
    "head(results3)\n",
    "dim(results3)"
   ]
  },
  {
   "cell_type": "code",
   "execution_count": 7,
   "id": "42dc30f5",
   "metadata": {},
   "outputs": [],
   "source": [
    "library(fgsea)\n",
    "library(msigdbr)"
   ]
  },
  {
   "cell_type": "code",
   "execution_count": 8,
   "id": "900eae83",
   "metadata": {},
   "outputs": [],
   "source": [
    "h <- data.frame(msigdbr::msigdbr(category = \"H\", species = 'Homo sapiens'))\n",
    "h <- split(h, h$gs_name)\n",
    "h <- lapply(h, function(x) x %>% dplyr::select(gene_symbol) %>% unlist %>% as.character)"
   ]
  },
  {
   "cell_type": "code",
   "execution_count": 9,
   "id": "74176acf",
   "metadata": {},
   "outputs": [],
   "source": [
    "plotGSEA_Hallmark <- function(gsea, fdr_cutoff = 0.25, cols = NULL, xlim = NULL, newlabels = NULL, keep_significant_only = TRUE, jitter = FALSE) {\n",
    "    require(ggplot2)\n",
    "    gsea$NES[which(is.na(gsea$NES))] <- 0\n",
    "    gsea$pval[which(is.na(gsea$pval))] <- 1\n",
    "    gsea$padj[which(is.na(gsea$padj))] <- 1\n",
    "    gsea$ranking[which(is.na(gsea$ranking))] <- 0\n",
    "    gsea <- gsea[order(gsea$ranking),]\n",
    "    \n",
    "    if (keep_significant_only){\n",
    "        gseax <- split(gsea, gsea$pathway)\n",
    "        for (i in 1:length(gseax)){\n",
    "            if (all(gseax[[i]]$pval >= 0.05)|all(gseax[[i]]$padj >=fdr_cutoff)){\n",
    "                gseax[[i]] <- NA        \n",
    "            }\n",
    "        }\n",
    "        gseax <- gseax[!is.na(gseax)]\n",
    "        gsea <- do.call(rbind, gseax)        \n",
    "    }\n",
    "    if (!is.null(gsea)){\n",
    "        gsea <- gsea[order(gsea$ranking), ]\n",
    "        gsea$pathway <- gsub(\"HALLMARK_|\", \"\", gsea$pathway)\n",
    "\n",
    "        if (!is.null(xlim)){\n",
    "            x_lim_min = -xlim\n",
    "            x_lim_max = xlim\n",
    "        } else {\n",
    "            x_lim_min <- abs(ceiling(min(-log10(gsea$padj))))\n",
    "            x_lim_max <- abs(ceiling(max(-log10(gsea$padj))))\n",
    "        }\n",
    "        \n",
    "        if(x_lim_min > x_lim_max){\n",
    "            xval1 <- x_lim_min * -1\n",
    "            xval2 <- x_lim_min\n",
    "        } else {\n",
    "            xval1 <- x_lim_max * -1\n",
    "            xval2 <- x_lim_max\n",
    "        }\n",
    "\n",
    "        if(!is.null(cols)){\n",
    "            gg_color_hue <- function(n) {\n",
    "                hues = seq(15, 375, length = n + 1)\n",
    "                hcl(h = hues, l = 65, c = 100)[1:n]\n",
    "            }\n",
    "            cols. = gg_color_hue(dplyr::n_distinct(gsea$group, na.rm = TRUE))\n",
    "        } else {\n",
    "            cols. = cols\n",
    "        }    \n",
    "    \n",
    "        g <- ggplot(gsea, aes(x = -log10(padj)*sign(NES), y = reorder(pathway, ranking), col = -log10(padj)*sign(NES), size = abs(NES)))\n",
    "        if (jitter){\n",
    "            g <- g + geom_point(position = 'jitter')\n",
    "        }else{\n",
    "            g <- g + geom_point()\n",
    "        }\n",
    "        g <- g + theme_bw() +\n",
    "            labs(x = expression(paste(\"Signed\", \" -log\" [\"10\"], \"adjusted pval\")), y = \"Hallmarks\") +\n",
    "            geom_vline(xintercept = 0) +\n",
    "            geom_vline(xintercept = -log10(fdr_cutoff)) +\n",
    "            geom_vline(xintercept = -log10(fdr_cutoff)*-1) +\n",
    "            scale_x_continuous(limits = c(xval1, xval2), oob = scales::squish) +\n",
    "            scale_size_area(oob = scales::squish, max_size = 3, limits = c(0,2)) +\n",
    "            theme(panel.grid.major = element_blank(), \n",
    "                panel.grid.minor = element_blank(), \n",
    "                panel.background = element_blank(), \n",
    "                axis.line = element_blank(), \n",
    "                axis.ticks = element_blank(),\n",
    "                axis.text = element_text(color = 'black'),\n",
    "                axis.title = element_text(color = 'black'))\n",
    "        \n",
    "        return(g)\n",
    "    }\n",
    "}"
   ]
  },
  {
   "cell_type": "code",
   "execution_count": 10,
   "id": "6597031d",
   "metadata": {},
   "outputs": [
    {
     "name": "stderr",
     "output_type": "stream",
     "text": [
      "Loading required package: ggplot2\n",
      "\n"
     ]
    },
    {
     "data": {
      "image/png": "[encoded data removed]",
      "text/plain": [
       "plot without title"
      ]
     },
     "metadata": {
      "image/png": {
       "height": 420,
       "width": 420
      }
     },
     "output_type": "display_data"
    }
   ],
   "source": [
    "gl1 <- makeGeneList(results1)\n",
    "res1gsea <- fgsea(pathways = h, stats = gl1, minSize = 0, maxSize =1000)\n",
    "res1gsea$ranking <- -log10(res1gsea$pval) * sign(res1gsea$NES)\n",
    "plotGSEA_Hallmark(res1gsea)"
   ]
  },
  {
   "cell_type": "code",
   "execution_count": 11,
   "id": "9bdc5058",
   "metadata": {},
   "outputs": [],
   "source": [
    "gl2 <- makeGeneList(results2)\n",
    "res2gsea <- fgsea(pathways = h, stats = gl2, minSize = 0, maxSize =1000)\n",
    "res2gsea$ranking <- -log10(res2gsea$pval) * sign(res2gsea$NES)\n",
    "plotGSEA_Hallmark(res2gsea)"
   ]
  },
  {
   "cell_type": "code",
   "execution_count": 12,
   "id": "714a8b19",
   "metadata": {},
   "outputs": [],
   "source": [
    "gl3 <- makeGeneList(results3)\n",
    "res3gsea <- fgsea(pathways = h, stats = gl3, minSize = 0, maxSize =1000)\n",
    "res3gsea$ranking <- -log10(res3gsea$pval) * sign(res3gsea$NES)\n",
    "plotGSEA_Hallmark(res3gsea)"
   ]
  },
  {
   "cell_type": "code",
   "execution_count": null,
   "id": "88d81119",
   "metadata": {},
   "outputs": [],
   "source": []
  }
 ],
 "metadata": {
  "kernelspec": {
   "display_name": "R",
   "language": "R",
   "name": "ir"
  },
  "language_info": {
   "codemirror_mode": "r",
   "file_extension": ".r",
   "mimetype": "text/x-r-source",
   "name": "R",
   "pygments_lexer": "r",
   "version": "4.0.3"
  }
 },
 "nbformat": 4,
 "nbformat_minor": 5
}
