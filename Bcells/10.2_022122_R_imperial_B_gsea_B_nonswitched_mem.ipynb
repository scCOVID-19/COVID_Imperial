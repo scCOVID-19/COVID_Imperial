{
 "cells": [
  {
   "cell_type": "code",
   "execution_count": 1,
   "id": "c919b46d",
   "metadata": {},
   "outputs": [
    {
     "name": "stderr",
     "output_type": "stream",
     "text": [
      "Registered S3 methods overwritten by 'lme4':\n",
      "  method                          from\n",
      "  cooks.distance.influence.merMod car \n",
      "  influence.merMod                car \n",
      "  dfbeta.influence.merMod         car \n",
      "  dfbetas.influence.merMod        car \n",
      "\n"
     ]
    }
   ],
   "source": [
    "library(glmmSeq)\n",
    "setwd('/lustre/scratch117/cellgen/team297/kt16/COVID_imperial_renal/')"
   ]
  },
  {
   "cell_type": "code",
   "execution_count": 2,
   "id": "e2baf84c",
   "metadata": {},
   "outputs": [
    {
     "data": {
      "text/html": [
       "<style>\n",
       ".list-inline {list-style: none; margin:0; padding: 0}\n",
       ".list-inline>li {display: inline-block}\n",
       ".list-inline>li:not(:last-child)::after {content: \"\\00b7\"; padding: 0 .5ex}\n",
       "</style>\n",
       "<ol class=list-inline><li>'res1'</li><li>'res2'</li><li>'res3'</li><li>'results1'</li><li>'results2'</li><li>'results3'</li></ol>\n"
      ],
      "text/latex": [
       "\\begin{enumerate*}\n",
       "\\item 'res1'\n",
       "\\item 'res2'\n",
       "\\item 'res3'\n",
       "\\item 'results1'\n",
       "\\item 'results2'\n",
       "\\item 'results3'\n",
       "\\end{enumerate*}\n"
      ],
      "text/markdown": [
       "1. 'res1'\n",
       "2. 'res2'\n",
       "3. 'res3'\n",
       "4. 'results1'\n",
       "5. 'results2'\n",
       "6. 'results3'\n",
       "\n",
       "\n"
      ],
      "text/plain": [
       "[1] \"res1\"     \"res2\"     \"res3\"     \"results1\" \"results2\" \"results3\""
      ]
     },
     "metadata": {},
     "output_type": "display_data"
    }
   ],
   "source": [
    "load('h5ad/df.fil3_gex_bcells_vdj_sce_B_nonswitched_mem_deg.RData')\n",
    "ls()"
   ]
  },
  {
   "cell_type": "code",
   "execution_count": 3,
   "id": "1541a80a",
   "metadata": {
    "scrolled": true
   },
   "outputs": [
    {
     "name": "stderr",
     "output_type": "stream",
     "text": [
      "\n",
      "Attaching package: ‘dplyr’\n",
      "\n",
      "\n",
      "The following objects are masked from ‘package:stats’:\n",
      "\n",
      "    filter, lag\n",
      "\n",
      "\n",
      "The following objects are masked from ‘package:base’:\n",
      "\n",
      "    intersect, setdiff, setequal, union\n",
      "\n",
      "\n"
     ]
    }
   ],
   "source": [
    "library(dplyr)\n",
    "makeGeneList <- function(gl, beta_column='LFC'){\n",
    "    y <- grepl('^RPS|^RPL|^MT-', row.names(gl))\n",
    "    gl <- gl[!y, ]\n",
    "    rank <- -log10(gl$pval) * sign(gl[,beta_column])\n",
    "    rank[which(rank == Inf)] <- 300\n",
    "    rank[which(rank == -Inf)] <- 300\n",
    "    names(rank) <- row.names(gl)\n",
    "    rank <- rev(sort(rank))\n",
    "    gl <- rank\n",
    "    return(gl)\n",
    "}"
   ]
  },
  {
   "cell_type": "code",
   "execution_count": 4,
   "id": "fb289ea0",
   "metadata": {},
   "outputs": [
    {
     "data": {
      "text/html": [
       "<table class=\"dataframe\">\n",
       "<caption>A data.frame: 6 × 6</caption>\n",
       "<thead>\n",
       "\t<tr><th></th><th scope=col>fixed-effects estimates</th><th scope=col>pval</th><th scope=col>qval</th><th scope=col>LFC</th><th scope=col>Singular</th><th scope=col>Conv</th></tr>\n",
       "\t<tr><th></th><th scope=col>&lt;dbl&gt;</th><th scope=col>&lt;dbl&gt;</th><th scope=col>&lt;dbl&gt;</th><th scope=col>&lt;dbl&gt;</th><th scope=col>&lt;dbl&gt;</th><th scope=col>&lt;dbl&gt;</th></tr>\n",
       "</thead>\n",
       "<tbody>\n",
       "\t<tr><th scope=row>IMMT</th><td>1.1916111</td><td>4.185141e-05</td><td>0.000951906</td><td>1.370455</td><td>0</td><td>0</td></tr>\n",
       "\t<tr><th scope=row>ITFG1</th><td>1.0931763</td><td>2.740703e-04</td><td>0.004867751</td><td>1.222658</td><td>0</td><td>0</td></tr>\n",
       "\t<tr><th scope=row>MRPL37</th><td>1.0792154</td><td>6.385398e-05</td><td>0.001375174</td><td>1.302452</td><td>0</td><td>0</td></tr>\n",
       "\t<tr><th scope=row>PPIE</th><td>1.0328894</td><td>4.344591e-04</td><td>0.007068682</td><td>1.162836</td><td>0</td><td>0</td></tr>\n",
       "\t<tr><th scope=row>PRDX3</th><td>1.0072519</td><td>1.486532e-03</td><td>0.015703694</td><td>1.162056</td><td>0</td><td>0</td></tr>\n",
       "\t<tr><th scope=row>RNASE6</th><td>0.9901341</td><td>7.073146e-04</td><td>0.009853777</td><td>1.215977</td><td>0</td><td>0</td></tr>\n",
       "</tbody>\n",
       "</table>\n"
      ],
      "text/latex": [
       "A data.frame: 6 × 6\n",
       "\\begin{tabular}{r|llllll}\n",
       "  & fixed-effects estimates & pval & qval & LFC & Singular & Conv\\\\\n",
       "  & <dbl> & <dbl> & <dbl> & <dbl> & <dbl> & <dbl>\\\\\n",
       "\\hline\n",
       "\tIMMT & 1.1916111 & 4.185141e-05 & 0.000951906 & 1.370455 & 0 & 0\\\\\n",
       "\tITFG1 & 1.0931763 & 2.740703e-04 & 0.004867751 & 1.222658 & 0 & 0\\\\\n",
       "\tMRPL37 & 1.0792154 & 6.385398e-05 & 0.001375174 & 1.302452 & 0 & 0\\\\\n",
       "\tPPIE & 1.0328894 & 4.344591e-04 & 0.007068682 & 1.162836 & 0 & 0\\\\\n",
       "\tPRDX3 & 1.0072519 & 1.486532e-03 & 0.015703694 & 1.162056 & 0 & 0\\\\\n",
       "\tRNASE6 & 0.9901341 & 7.073146e-04 & 0.009853777 & 1.215977 & 0 & 0\\\\\n",
       "\\end{tabular}\n"
      ],
      "text/markdown": [
       "\n",
       "A data.frame: 6 × 6\n",
       "\n",
       "| <!--/--> | fixed-effects estimates &lt;dbl&gt; | pval &lt;dbl&gt; | qval &lt;dbl&gt; | LFC &lt;dbl&gt; | Singular &lt;dbl&gt; | Conv &lt;dbl&gt; |\n",
       "|---|---|---|---|---|---|---|\n",
       "| IMMT | 1.1916111 | 4.185141e-05 | 0.000951906 | 1.370455 | 0 | 0 |\n",
       "| ITFG1 | 1.0931763 | 2.740703e-04 | 0.004867751 | 1.222658 | 0 | 0 |\n",
       "| MRPL37 | 1.0792154 | 6.385398e-05 | 0.001375174 | 1.302452 | 0 | 0 |\n",
       "| PPIE | 1.0328894 | 4.344591e-04 | 0.007068682 | 1.162836 | 0 | 0 |\n",
       "| PRDX3 | 1.0072519 | 1.486532e-03 | 0.015703694 | 1.162056 | 0 | 0 |\n",
       "| RNASE6 | 0.9901341 | 7.073146e-04 | 0.009853777 | 1.215977 | 0 | 0 |\n",
       "\n"
      ],
      "text/plain": [
       "       fixed-effects estimates pval         qval        LFC      Singular Conv\n",
       "IMMT   1.1916111               4.185141e-05 0.000951906 1.370455 0        0   \n",
       "ITFG1  1.0931763               2.740703e-04 0.004867751 1.222658 0        0   \n",
       "MRPL37 1.0792154               6.385398e-05 0.001375174 1.302452 0        0   \n",
       "PPIE   1.0328894               4.344591e-04 0.007068682 1.162836 0        0   \n",
       "PRDX3  1.0072519               1.486532e-03 0.015703694 1.162056 0        0   \n",
       "RNASE6 0.9901341               7.073146e-04 0.009853777 1.215977 0        0   "
      ]
     },
     "metadata": {},
     "output_type": "display_data"
    },
    {
     "data": {
      "text/html": [
       "<style>\n",
       ".list-inline {list-style: none; margin:0; padding: 0}\n",
       ".list-inline>li {display: inline-block}\n",
       ".list-inline>li:not(:last-child)::after {content: \"\\00b7\"; padding: 0 .5ex}\n",
       "</style>\n",
       "<ol class=list-inline><li>4171</li><li>6</li></ol>\n"
      ],
      "text/latex": [
       "\\begin{enumerate*}\n",
       "\\item 4171\n",
       "\\item 6\n",
       "\\end{enumerate*}\n"
      ],
      "text/markdown": [
       "1. 4171\n",
       "2. 6\n",
       "\n",
       "\n"
      ],
      "text/plain": [
       "[1] 4171    6"
      ]
     },
     "metadata": {},
     "output_type": "display_data"
    }
   ],
   "source": [
    "head(results1)\n",
    "dim(results1)"
   ]
  },
  {
   "cell_type": "code",
   "execution_count": 5,
   "id": "922f7c63",
   "metadata": {},
   "outputs": [
    {
     "data": {
      "text/html": [
       "<table class=\"dataframe\">\n",
       "<caption>A data.frame: 6 × 6</caption>\n",
       "<thead>\n",
       "\t<tr><th></th><th scope=col>fixed-effects estimates_linear</th><th scope=col>fixed-effects estimates_quadratic</th><th scope=col>pval</th><th scope=col>qval</th><th scope=col>Singular</th><th scope=col>Conv</th></tr>\n",
       "\t<tr><th></th><th scope=col>&lt;dbl&gt;</th><th scope=col>&lt;dbl&gt;</th><th scope=col>&lt;dbl&gt;</th><th scope=col>&lt;dbl&gt;</th><th scope=col>&lt;dbl&gt;</th><th scope=col>&lt;dbl&gt;</th></tr>\n",
       "</thead>\n",
       "<tbody>\n",
       "\t<tr><th scope=row>CNFN</th><td> 9.022088</td><td>9.504860</td><td>1.929288e-04</td><td>3.160438e-04</td><td>0</td><td>0</td></tr>\n",
       "\t<tr><th scope=row>MORC3</th><td> 8.873583</td><td>9.026266</td><td>8.906589e-09</td><td>5.938798e-08</td><td>0</td><td>0</td></tr>\n",
       "\t<tr><th scope=row>SUDS3</th><td> 8.962088</td><td>8.777572</td><td>3.709639e-07</td><td>1.473485e-06</td><td>0</td><td>0</td></tr>\n",
       "\t<tr><th scope=row>FAM111A</th><td>10.523358</td><td>8.486385</td><td>9.368348e-04</td><td>1.277942e-03</td><td>0</td><td>0</td></tr>\n",
       "\t<tr><th scope=row>RAPGEF6</th><td>10.918810</td><td>8.446536</td><td>2.955615e-03</td><td>3.641775e-03</td><td>0</td><td>0</td></tr>\n",
       "\t<tr><th scope=row>SH2D3C</th><td> 5.105788</td><td>6.730090</td><td>2.830520e-05</td><td>5.937501e-05</td><td>0</td><td>0</td></tr>\n",
       "</tbody>\n",
       "</table>\n"
      ],
      "text/latex": [
       "A data.frame: 6 × 6\n",
       "\\begin{tabular}{r|llllll}\n",
       "  & fixed-effects estimates\\_linear & fixed-effects estimates\\_quadratic & pval & qval & Singular & Conv\\\\\n",
       "  & <dbl> & <dbl> & <dbl> & <dbl> & <dbl> & <dbl>\\\\\n",
       "\\hline\n",
       "\tCNFN &  9.022088 & 9.504860 & 1.929288e-04 & 3.160438e-04 & 0 & 0\\\\\n",
       "\tMORC3 &  8.873583 & 9.026266 & 8.906589e-09 & 5.938798e-08 & 0 & 0\\\\\n",
       "\tSUDS3 &  8.962088 & 8.777572 & 3.709639e-07 & 1.473485e-06 & 0 & 0\\\\\n",
       "\tFAM111A & 10.523358 & 8.486385 & 9.368348e-04 & 1.277942e-03 & 0 & 0\\\\\n",
       "\tRAPGEF6 & 10.918810 & 8.446536 & 2.955615e-03 & 3.641775e-03 & 0 & 0\\\\\n",
       "\tSH2D3C &  5.105788 & 6.730090 & 2.830520e-05 & 5.937501e-05 & 0 & 0\\\\\n",
       "\\end{tabular}\n"
      ],
      "text/markdown": [
       "\n",
       "A data.frame: 6 × 6\n",
       "\n",
       "| <!--/--> | fixed-effects estimates_linear &lt;dbl&gt; | fixed-effects estimates_quadratic &lt;dbl&gt; | pval &lt;dbl&gt; | qval &lt;dbl&gt; | Singular &lt;dbl&gt; | Conv &lt;dbl&gt; |\n",
       "|---|---|---|---|---|---|---|\n",
       "| CNFN |  9.022088 | 9.504860 | 1.929288e-04 | 3.160438e-04 | 0 | 0 |\n",
       "| MORC3 |  8.873583 | 9.026266 | 8.906589e-09 | 5.938798e-08 | 0 | 0 |\n",
       "| SUDS3 |  8.962088 | 8.777572 | 3.709639e-07 | 1.473485e-06 | 0 | 0 |\n",
       "| FAM111A | 10.523358 | 8.486385 | 9.368348e-04 | 1.277942e-03 | 0 | 0 |\n",
       "| RAPGEF6 | 10.918810 | 8.446536 | 2.955615e-03 | 3.641775e-03 | 0 | 0 |\n",
       "| SH2D3C |  5.105788 | 6.730090 | 2.830520e-05 | 5.937501e-05 | 0 | 0 |\n",
       "\n"
      ],
      "text/plain": [
       "        fixed-effects estimates_linear fixed-effects estimates_quadratic\n",
       "CNFN     9.022088                      9.504860                         \n",
       "MORC3    8.873583                      9.026266                         \n",
       "SUDS3    8.962088                      8.777572                         \n",
       "FAM111A 10.523358                      8.486385                         \n",
       "RAPGEF6 10.918810                      8.446536                         \n",
       "SH2D3C   5.105788                      6.730090                         \n",
       "        pval         qval         Singular Conv\n",
       "CNFN    1.929288e-04 3.160438e-04 0        0   \n",
       "MORC3   8.906589e-09 5.938798e-08 0        0   \n",
       "SUDS3   3.709639e-07 1.473485e-06 0        0   \n",
       "FAM111A 9.368348e-04 1.277942e-03 0        0   \n",
       "RAPGEF6 2.955615e-03 3.641775e-03 0        0   \n",
       "SH2D3C  2.830520e-05 5.937501e-05 0        0   "
      ]
     },
     "metadata": {},
     "output_type": "display_data"
    },
    {
     "data": {
      "text/html": [
       "<style>\n",
       ".list-inline {list-style: none; margin:0; padding: 0}\n",
       ".list-inline>li {display: inline-block}\n",
       ".list-inline>li:not(:last-child)::after {content: \"\\00b7\"; padding: 0 .5ex}\n",
       "</style>\n",
       "<ol class=list-inline><li>3445</li><li>6</li></ol>\n"
      ],
      "text/latex": [
       "\\begin{enumerate*}\n",
       "\\item 3445\n",
       "\\item 6\n",
       "\\end{enumerate*}\n"
      ],
      "text/markdown": [
       "1. 3445\n",
       "2. 6\n",
       "\n",
       "\n"
      ],
      "text/plain": [
       "[1] 3445    6"
      ]
     },
     "metadata": {},
     "output_type": "display_data"
    }
   ],
   "source": [
    "head(results2)\n",
    "dim(results2)"
   ]
  },
  {
   "cell_type": "code",
   "execution_count": 6,
   "id": "892bd724",
   "metadata": {},
   "outputs": [
    {
     "data": {
      "text/html": [
       "<table class=\"dataframe\">\n",
       "<caption>A data.frame: 6 × 6</caption>\n",
       "<thead>\n",
       "\t<tr><th></th><th scope=col>fixed-effects estimates</th><th scope=col>pval</th><th scope=col>qval</th><th scope=col>LFC</th><th scope=col>Singular</th><th scope=col>Conv</th></tr>\n",
       "\t<tr><th></th><th scope=col>&lt;dbl&gt;</th><th scope=col>&lt;dbl&gt;</th><th scope=col>&lt;dbl&gt;</th><th scope=col>&lt;dbl&gt;</th><th scope=col>&lt;dbl&gt;</th><th scope=col>&lt;dbl&gt;</th></tr>\n",
       "</thead>\n",
       "<tbody>\n",
       "\t<tr><th scope=row>EBI3</th><td>0.9166027</td><td>0.01267603</td><td>0.3479254</td><td>0.9708506</td><td>0</td><td>0</td></tr>\n",
       "\t<tr><th scope=row>CXCR3</th><td>0.7810184</td><td>0.01639869</td><td>0.3908817</td><td>0.9145466</td><td>0</td><td>0</td></tr>\n",
       "\t<tr><th scope=row>HMOX1</th><td>0.6964144</td><td>0.11065957</td><td>0.6295998</td><td>0.7161314</td><td>0</td><td>0</td></tr>\n",
       "\t<tr><th scope=row>STMN1</th><td>0.6854000</td><td>0.02944999</td><td>0.4681793</td><td>0.7353617</td><td>0</td><td>0</td></tr>\n",
       "\t<tr><th scope=row>PRDX3</th><td>0.6643700</td><td>0.02592793</td><td>0.4463852</td><td>0.7353074</td><td>0</td><td>0</td></tr>\n",
       "\t<tr><th scope=row>FCRL5</th><td>0.6321355</td><td>0.11962432</td><td>0.6320372</td><td>0.7236890</td><td>0</td><td>0</td></tr>\n",
       "</tbody>\n",
       "</table>\n"
      ],
      "text/latex": [
       "A data.frame: 6 × 6\n",
       "\\begin{tabular}{r|llllll}\n",
       "  & fixed-effects estimates & pval & qval & LFC & Singular & Conv\\\\\n",
       "  & <dbl> & <dbl> & <dbl> & <dbl> & <dbl> & <dbl>\\\\\n",
       "\\hline\n",
       "\tEBI3 & 0.9166027 & 0.01267603 & 0.3479254 & 0.9708506 & 0 & 0\\\\\n",
       "\tCXCR3 & 0.7810184 & 0.01639869 & 0.3908817 & 0.9145466 & 0 & 0\\\\\n",
       "\tHMOX1 & 0.6964144 & 0.11065957 & 0.6295998 & 0.7161314 & 0 & 0\\\\\n",
       "\tSTMN1 & 0.6854000 & 0.02944999 & 0.4681793 & 0.7353617 & 0 & 0\\\\\n",
       "\tPRDX3 & 0.6643700 & 0.02592793 & 0.4463852 & 0.7353074 & 0 & 0\\\\\n",
       "\tFCRL5 & 0.6321355 & 0.11962432 & 0.6320372 & 0.7236890 & 0 & 0\\\\\n",
       "\\end{tabular}\n"
      ],
      "text/markdown": [
       "\n",
       "A data.frame: 6 × 6\n",
       "\n",
       "| <!--/--> | fixed-effects estimates &lt;dbl&gt; | pval &lt;dbl&gt; | qval &lt;dbl&gt; | LFC &lt;dbl&gt; | Singular &lt;dbl&gt; | Conv &lt;dbl&gt; |\n",
       "|---|---|---|---|---|---|---|\n",
       "| EBI3 | 0.9166027 | 0.01267603 | 0.3479254 | 0.9708506 | 0 | 0 |\n",
       "| CXCR3 | 0.7810184 | 0.01639869 | 0.3908817 | 0.9145466 | 0 | 0 |\n",
       "| HMOX1 | 0.6964144 | 0.11065957 | 0.6295998 | 0.7161314 | 0 | 0 |\n",
       "| STMN1 | 0.6854000 | 0.02944999 | 0.4681793 | 0.7353617 | 0 | 0 |\n",
       "| PRDX3 | 0.6643700 | 0.02592793 | 0.4463852 | 0.7353074 | 0 | 0 |\n",
       "| FCRL5 | 0.6321355 | 0.11962432 | 0.6320372 | 0.7236890 | 0 | 0 |\n",
       "\n"
      ],
      "text/plain": [
       "      fixed-effects estimates pval       qval      LFC       Singular Conv\n",
       "EBI3  0.9166027               0.01267603 0.3479254 0.9708506 0        0   \n",
       "CXCR3 0.7810184               0.01639869 0.3908817 0.9145466 0        0   \n",
       "HMOX1 0.6964144               0.11065957 0.6295998 0.7161314 0        0   \n",
       "STMN1 0.6854000               0.02944999 0.4681793 0.7353617 0        0   \n",
       "PRDX3 0.6643700               0.02592793 0.4463852 0.7353074 0        0   \n",
       "FCRL5 0.6321355               0.11962432 0.6320372 0.7236890 0        0   "
      ]
     },
     "metadata": {},
     "output_type": "display_data"
    },
    {
     "data": {
      "text/html": [
       "<style>\n",
       ".list-inline {list-style: none; margin:0; padding: 0}\n",
       ".list-inline>li {display: inline-block}\n",
       ".list-inline>li:not(:last-child)::after {content: \"\\00b7\"; padding: 0 .5ex}\n",
       "</style>\n",
       "<ol class=list-inline><li>4395</li><li>6</li></ol>\n"
      ],
      "text/latex": [
       "\\begin{enumerate*}\n",
       "\\item 4395\n",
       "\\item 6\n",
       "\\end{enumerate*}\n"
      ],
      "text/markdown": [
       "1. 4395\n",
       "2. 6\n",
       "\n",
       "\n"
      ],
      "text/plain": [
       "[1] 4395    6"
      ]
     },
     "metadata": {},
     "output_type": "display_data"
    }
   ],
   "source": [
    "head(results3)\n",
    "dim(results3)"
   ]
  },
  {
   "cell_type": "code",
   "execution_count": 7,
   "id": "6178da28",
   "metadata": {},
   "outputs": [
    {
     "ename": "ERROR",
     "evalue": "Error in head(results4): object 'results4' not found\n",
     "output_type": "error",
     "traceback": [
      "Error in head(results4): object 'results4' not found\nTraceback:\n",
      "1. head(results4)"
     ]
    }
   ],
   "source": [
    "head(results4)\n",
    "dim(results4)"
   ]
  },
  {
   "cell_type": "code",
   "execution_count": 8,
   "id": "fa6dda32",
   "metadata": {},
   "outputs": [
    {
     "ename": "ERROR",
     "evalue": "Error in head(results5): object 'results5' not found\n",
     "output_type": "error",
     "traceback": [
      "Error in head(results5): object 'results5' not found\nTraceback:\n",
      "1. head(results5)"
     ]
    }
   ],
   "source": [
    "head(results5)\n",
    "dim(results5)"
   ]
  },
  {
   "cell_type": "code",
   "execution_count": 9,
   "id": "42dc30f5",
   "metadata": {},
   "outputs": [],
   "source": [
    "library(fgsea)\n",
    "library(msigdbr)"
   ]
  },
  {
   "cell_type": "code",
   "execution_count": 10,
   "id": "900eae83",
   "metadata": {},
   "outputs": [],
   "source": [
    "h <- data.frame(msigdbr::msigdbr(category = \"H\", species = 'Homo sapiens'))\n",
    "h <- split(h, h$gs_name)\n",
    "h <- lapply(h, function(x) x %>% dplyr::select(gene_symbol) %>% unlist %>% as.character)"
   ]
  },
  {
   "cell_type": "code",
   "execution_count": 36,
   "id": "74176acf",
   "metadata": {},
   "outputs": [],
   "source": [
    "plotGSEA_Hallmark <- function(gsea, fdr_cutoff = 0.05, cols = NULL, xlim = NULL, newlabels = NULL, keep_significant_only = TRUE, jitter = FALSE) {\n",
    "    require(ggplot2)\n",
    "    gsea$NES[which(is.na(gsea$NES))] <- 0\n",
    "    gsea$pval[which(is.na(gsea$pval))] <- 1\n",
    "    gsea$padj[which(is.na(gsea$padj))] <- 1\n",
    "    gsea$ranking[which(is.na(gsea$ranking))] <- 0\n",
    "    gsea <- gsea[order(gsea$ranking),]\n",
    "    \n",
    "    if (keep_significant_only){\n",
    "        gseax <- split(gsea, gsea$pathway)\n",
    "        for (i in 1:length(gseax)){\n",
    "            if (all(gseax[[i]]$pval >= 0.05)|all(gseax[[i]]$padj >=fdr_cutoff)){\n",
    "                gseax[[i]] <- NA        \n",
    "            }\n",
    "        }\n",
    "        gseax <- gseax[!is.na(gseax)]\n",
    "        gsea <- do.call(rbind, gseax)        \n",
    "    }\n",
    "    if (!is.null(gsea)){\n",
    "        gsea <- gsea[order(gsea$ranking), ]\n",
    "        gsea$pathway <- gsub(\"HALLMARK_|\", \"\", gsea$pathway)\n",
    "\n",
    "        if (!is.null(xlim)){\n",
    "            x_lim_min = -xlim\n",
    "            x_lim_max = xlim\n",
    "        } else {\n",
    "            x_lim_min <- abs(ceiling(min(-log10(gsea$padj))))\n",
    "            x_lim_max <- abs(ceiling(max(-log10(gsea$padj))))\n",
    "        }\n",
    "        \n",
    "        if(x_lim_min > x_lim_max){\n",
    "            xval1 <- x_lim_min * -1\n",
    "            xval2 <- x_lim_min\n",
    "        } else {\n",
    "            xval1 <- x_lim_max * -1\n",
    "            xval2 <- x_lim_max\n",
    "        }\n",
    "\n",
    "        if(!is.null(cols)){\n",
    "            gg_color_hue <- function(n) {\n",
    "                hues = seq(15, 375, length = n + 1)\n",
    "                hcl(h = hues, l = 65, c = 100)[1:n]\n",
    "            }\n",
    "            cols. = gg_color_hue(dplyr::n_distinct(gsea$group, na.rm = TRUE))\n",
    "        } else {\n",
    "            cols. = cols\n",
    "        }    \n",
    "    \n",
    "        g <- ggplot(gsea, aes(x = -log10(padj)*sign(NES), y = reorder(pathway, ranking), col = -log10(padj)*sign(NES), size = abs(NES)))\n",
    "        if (jitter){\n",
    "            g <- g + geom_point(position = 'jitter')\n",
    "        }else{\n",
    "            g <- g + geom_point()\n",
    "        }\n",
    "        g <- g + theme_bw() +\n",
    "            labs(x = expression(paste(\"Signed\", \" -log\" [\"10\"], \"adjusted pval\")), y = \"Hallmarks\") +\n",
    "            scale_color_gradient2(low = '#2166ac', mid = '#f7f7f7', high = '#b2182b', na.value = NA, limits = c(-2,2), oob = scales::squish) +\n",
    "            geom_vline(xintercept = 0) +\n",
    "            geom_vline(xintercept = -log10(fdr_cutoff), colour = '#ff7f0e') +\n",
    "            geom_vline(xintercept = -log10(fdr_cutoff)*-1, colour = '#ff7f0e') +\n",
    "            scale_x_continuous(limits = c(xval1, xval2), oob = scales::squish) +\n",
    "            scale_size_area(oob = scales::squish, max_size = 3, limits = c(0,2)) +\n",
    "            theme(panel.grid.major = element_blank(), \n",
    "                panel.grid.minor = element_blank(), \n",
    "                panel.background = element_blank(), \n",
    "                axis.line = element_blank(), \n",
    "                axis.ticks = element_blank(),\n",
    "                axis.text = element_text(color = 'black'),\n",
    "                axis.title = element_text(color = 'black'),\n",
    "                legend.direction = \"vertical\", legend.box = \"horizontal\"\n",
    "                )\n",
    "        \n",
    "        return(g)\n",
    "    }\n",
    "}"
   ]
  },
  {
   "cell_type": "code",
   "execution_count": 37,
   "id": "6597031d",
   "metadata": {},
   "outputs": [
    {
     "data": {
      "image/png": "[encoded data removed]",
      "text/plain": [
       "plot without title"
      ]
     },
     "metadata": {
      "image/png": {
       "height": 180,
       "width": 420
      }
     },
     "output_type": "display_data"
    }
   ],
   "source": [
    "options(repr.plot.height = 3)\n",
    "gl1 <- makeGeneList(results1)\n",
    "res1gsea <- fgsea(pathways = h, stats = gl1, minSize = 0, maxSize =1000)\n",
    "res1gsea$ranking <- -log10(res1gsea$pval) * sign(res1gsea$NES)\n",
    "plotGSEA_Hallmark(res1gsea)"
   ]
  },
  {
   "cell_type": "code",
   "execution_count": 38,
   "id": "9bdc5058",
   "metadata": {},
   "outputs": [],
   "source": [
    "# gl2 <- makeGeneList(results2, 'fixed-effects estimates_linear')\n",
    "# res2gsea <- fgsea(pathways = h, stats = gl2, minSize = 0, maxSize =1000)\n",
    "# res2gsea$ranking <- -log10(res2gsea$pval) * sign(res2gsea$NES)\n",
    "# plotGSEA_Hallmark(res2gsea)"
   ]
  },
  {
   "cell_type": "code",
   "execution_count": 39,
   "id": "64e8d303",
   "metadata": {},
   "outputs": [],
   "source": [
    "# gl2 <- makeGeneList(results2, 'fixed-effects estimates_quadratic')\n",
    "# res2gsea <- fgsea(pathways = h, stats = gl2, minSize = 0, maxSize =1000)\n",
    "# res2gsea$ranking <- -log10(res2gsea$pval) * sign(res2gsea$NES)\n",
    "# plotGSEA_Hallmark(res2gsea)"
   ]
  },
  {
   "cell_type": "code",
   "execution_count": 40,
   "id": "714a8b19",
   "metadata": {},
   "outputs": [
    {
     "name": "stderr",
     "output_type": "stream",
     "text": [
      "Warning message in fgseaMultilevel(...):\n",
      "“There were 1 pathways for which P-values were not calculated properly due to unbalanced (positive and negative) gene-level statistic values. For such pathways pval, padj, NES, log2err are set to NA. You can try to increase the value of the argument nPermSimple (for example set it nPermSimple = 10000)”\n",
      "Warning message in fgseaMultilevel(...):\n",
      "“For some pathways, in reality P-values are less than 1e-10. You can set the `eps` argument to zero for better estimation.”\n"
     ]
    },
    {
     "data": {
      "image/png": "[encoded data removed]",
      "text/plain": [
       "plot without title"
      ]
     },
     "metadata": {
      "image/png": {
       "height": 180,
       "width": 420
      }
     },
     "output_type": "display_data"
    }
   ],
   "source": [
    "options(repr.plot.height = 3)\n",
    "gl3 <- makeGeneList(results3)\n",
    "res3gsea <- fgsea(pathways = h, stats = gl3, minSize = 0, maxSize =1000)\n",
    "res3gsea$ranking <- -log10(res3gsea$pval) * sign(res3gsea$NES)\n",
    "plotGSEA_Hallmark(res3gsea)"
   ]
  },
  {
   "cell_type": "code",
   "execution_count": 41,
   "id": "2c8f2716",
   "metadata": {},
   "outputs": [],
   "source": [
    "# options(repr.plot.height = 4)\n",
    "# gl4 <- makeGeneList(results4)\n",
    "# res4gsea <- fgsea(pathways = h, stats = gl4, minSize = 0, maxSize =1000)\n",
    "# res4gsea$ranking <- -log10(res4gsea$pval) * sign(res4gsea$NES)\n",
    "# plotGSEA_Hallmark(res4gsea)"
   ]
  },
  {
   "cell_type": "code",
   "execution_count": 42,
   "id": "b3b28f43",
   "metadata": {},
   "outputs": [],
   "source": [
    "# options(repr.plot.height = 3)\n",
    "# gl5 <- makeGeneList(results5)\n",
    "# res5gsea <- fgsea(pathways = h, stats = gl5, minSize = 0, maxSize =1000)\n",
    "# res5gsea$ranking <- -log10(res5gsea$pval) * sign(res5gsea$NES)\n",
    "# plotGSEA_Hallmark(res5gsea)"
   ]
  },
  {
   "cell_type": "code",
   "execution_count": null,
   "id": "88d81119",
   "metadata": {},
   "outputs": [],
   "source": []
  },
  {
   "cell_type": "code",
   "execution_count": null,
   "id": "6ea05062",
   "metadata": {},
   "outputs": [],
   "source": []
  }
 ],
 "metadata": {
  "kernelspec": {
   "display_name": "R",
   "language": "R",
   "name": "ir"
  },
  "language_info": {
   "codemirror_mode": "r",
   "file_extension": ".r",
   "mimetype": "text/x-r-source",
   "name": "R",
   "pygments_lexer": "r",
   "version": "4.0.3"
  }
 },
 "nbformat": 4,
 "nbformat_minor": 5
}
