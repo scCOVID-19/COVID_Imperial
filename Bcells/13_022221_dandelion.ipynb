{
 "cells": [
  {
   "cell_type": "code",
   "execution_count": 1,
   "id": "c7d5e4c8",
   "metadata": {},
   "outputs": [
    {
     "name": "stdout",
     "output_type": "stream",
     "text": [
      "scanpy==1.8.1 anndata==0.7.6 umap==0.5.1 numpy==1.22.2 scipy==1.6.2 pandas==1.2.4 scikit-learn==0.24.2 statsmodels==0.12.2 python-igraph==0.9.1 pynndescent==0.5.2\n"
     ]
    }
   ],
   "source": [
    "import os\n",
    "import tools\n",
    "import numpy as np\n",
    "import pandas as pd\n",
    "import scanpy as sc\n",
    "\n",
    "sc.logging.print_header()"
   ]
  },
  {
   "cell_type": "code",
   "execution_count": 2,
   "id": "67bce2f7",
   "metadata": {},
   "outputs": [],
   "source": [
    "os.chdir('/lustre/scratch117/cellgen/team297/kt16/COVID_imperial_renal')"
   ]
  },
  {
   "cell_type": "code",
   "execution_count": 3,
   "id": "c4efb816",
   "metadata": {},
   "outputs": [
    {
     "data": {
      "text/plain": [
       "AnnData object with n_obs × n_vars = 70501 × 318\n",
       "    obs: 'orig.ident', 'nCount_RNA', 'nFeature_RNA', 'nCount_ADT', 'nFeature_ADT', 'nCount_ADT_raw', 'nFeature_ADT_raw', 'nCount_RNA_raw', 'nFeature_RNA_raw', 'soupxOnAdt', 'soupxOnRna', 'percentMito', 'exclude', 'centre', 'pool', 'tcrId', 'bcrId', 'celltypist_broad_predLabel', 'celltypist_broad_maxPredProb', 'haniffa_broad_predLabel', 'haniffa_broad_maxPredProb', 'yoshida_broad_predLabel', 'yoshida_broad_maxPredProb', 'celltypist_detailed_predLabel', 'celltypist_detailed_maxPredProb', 'yoshida_detailed_predLabel', 'yoshida_detailed_maxPredProb', 'seurat_clusters', 'RNA_sequencing_saturation', 'pool_factor', 'RNA_readsConfidentlyOnTranscriptome', 'RNA_readsConfidentlyOnGenome', 'RNA_readsOnGenome', 'RNA_Q30readsBarcode', 'RNA_Q30readsRead', 'RNA_Q30readsUmi', 'rna_snn_res.4', 'rna_snn_res.0.5', 'rna_snn_res.0.1', 'harmony_snn_res.4', 'yoshida_broad_predLabel_majorVote', 'harmony_snn_res.0.5', 'harmony_snn_res.0.1', 'cell_type_compartment', 'pool_number', 'merged_souporcell_cluster', 'merged_souporcell_status', 'patient_id', 'sample_id', 'multi_chain_bcr', 'IR_VJ_1_locus_bcr', 'IR_VJ_2_locus_bcr', 'IR_VDJ_1_locus_bcr', 'IR_VDJ_2_locus_bcr', 'IR_VJ_1_cdr3_bcr', 'IR_VJ_2_cdr3_bcr', 'IR_VDJ_1_cdr3_bcr', 'IR_VDJ_2_cdr3_bcr', 'IR_VJ_1_cdr3_nt_bcr', 'IR_VJ_2_cdr3_nt_bcr', 'IR_VDJ_1_cdr3_nt_bcr', 'IR_VDJ_2_cdr3_nt_bcr', 'IR_VJ_1_expr_bcr', 'IR_VJ_2_expr_bcr', 'IR_VDJ_1_expr_bcr', 'IR_VDJ_2_expr_bcr', 'IR_VJ_1_expr_raw_bcr', 'IR_VJ_2_expr_raw_bcr', 'IR_VDJ_1_expr_raw_bcr', 'IR_VDJ_2_expr_raw_bcr', 'IR_VJ_1_v_gene_bcr', 'IR_VJ_2_v_gene_bcr', 'IR_VDJ_1_v_gene_bcr', 'IR_VDJ_2_v_gene_bcr', 'IR_VJ_1_d_gene_bcr', 'IR_VJ_2_d_gene_bcr', 'IR_VDJ_1_d_gene_bcr', 'IR_VDJ_2_d_gene_bcr', 'IR_VJ_1_j_gene_bcr', 'IR_VJ_2_j_gene_bcr', 'IR_VDJ_1_j_gene_bcr', 'IR_VDJ_2_j_gene_bcr', 'IR_VJ_1_c_gene_bcr', 'IR_VJ_2_c_gene_bcr', 'IR_VDJ_1_c_gene_bcr', 'IR_VDJ_2_c_gene_bcr', 'IR_VJ_1_junction_ins_bcr', 'IR_VJ_2_junction_ins_bcr', 'IR_VDJ_1_junction_ins_bcr', 'IR_VDJ_2_junction_ins_bcr', 'has_ir_bcr', 'multi_chain_tcr', 'IR_VJ_1_locus_tcr', 'IR_VJ_2_locus_tcr', 'IR_VDJ_1_locus_tcr', 'IR_VDJ_2_locus_tcr', 'IR_VJ_1_cdr3_tcr', 'IR_VJ_2_cdr3_tcr', 'IR_VDJ_1_cdr3_tcr', 'IR_VDJ_2_cdr3_tcr', 'IR_VJ_1_cdr3_nt_tcr', 'IR_VJ_2_cdr3_nt_tcr', 'IR_VDJ_1_cdr3_nt_tcr', 'IR_VDJ_2_cdr3_nt_tcr', 'IR_VJ_1_expr_tcr', 'IR_VJ_2_expr_tcr', 'IR_VDJ_1_expr_tcr', 'IR_VDJ_2_expr_tcr', 'IR_VJ_1_expr_raw_tcr', 'IR_VJ_2_expr_raw_tcr', 'IR_VDJ_1_expr_raw_tcr', 'IR_VDJ_2_expr_raw_tcr', 'IR_VJ_1_v_gene_tcr', 'IR_VJ_2_v_gene_tcr', 'IR_VDJ_1_v_gene_tcr', 'IR_VDJ_2_v_gene_tcr', 'IR_VJ_1_d_gene_tcr', 'IR_VJ_2_d_gene_tcr', 'IR_VDJ_1_d_gene_tcr', 'IR_VDJ_2_d_gene_tcr', 'IR_VJ_1_j_gene_tcr', 'IR_VJ_2_j_gene_tcr', 'IR_VDJ_1_j_gene_tcr', 'IR_VDJ_2_j_gene_tcr', 'IR_VJ_1_c_gene_tcr', 'IR_VJ_2_c_gene_tcr', 'IR_VDJ_1_c_gene_tcr', 'IR_VDJ_2_c_gene_tcr', 'IR_VJ_1_junction_ins_tcr', 'IR_VJ_2_junction_ins_tcr', 'IR_VDJ_1_junction_ins_tcr', 'IR_VDJ_2_junction_ins_tcr', 'has_ir_tcr', 'ethnicity', 'sex', 'calc_age', 'ihd', 'previous_vte', 'copd', 'diabetes', 'smoking', 'cause_eskd', 'renal_status', 'WHO_severity', 'admission_date', 'discharge_date', 'fatal_disease', 'case_control', 'date_positive_swab', 'date_first_symptoms', 'radiology_evidence_covid', 'sample_date', 'temp_WCC', 'temp_neut', 'temp_mono', 'temp_lymph', 'temp_CRP', 'temp_ddimer', 'temp_ferritin', 'temp_trop', 'WHO_temp_severity', 'individual_id', 'initial_cluster_B', '_scvi_batch', '_scvi_labels', 'leiden_B', 'leiden_B2', 'leiden_B_soc', 'Naive B cells_score', 'Non-switched memory B cells_score', 'Exhausted B cells_score', 'Switched memory B cells_score', 'Plasmablasts_score', 'gmm_pct_b_scores', 'filter_rna', 'has_contig', 'filter_contig_quality', 'filter_contig_VDJ', 'filter_contig_VJ', 'contig_QC_pass', 'filter_contig', 'clone_id', 'clone_id_by_size', 'locus_VDJ', 'locus_VJ', 'productive_VDJ', 'productive_VJ', 'v_call_genotyped_VDJ', 'v_call_genotyped_VJ', 'd_call_VDJ', 'j_call_VDJ', 'j_call_VJ', 'c_call_VDJ', 'c_call_VJ', 'duplicate_count_VDJ', 'duplicate_count_VJ', 'duplicate_count_VDJ_1', 'duplicate_count_VJ_1', 'duplicate_count_VDJ_2', 'duplicate_count_VDJ_3', 'duplicate_count_VDJ_4', 'junction_aa_VDJ', 'junction_aa_VJ', 'status', 'status_summary', 'productive', 'productive_summary', 'isotype', 'isotype_summary', 'vdj_status', 'vdj_status_summary', 'constant_status_summary', 'celltype_B', 'celltype_B_corrected', 'Interferon_score', 'Interferon_zscore', 'Interferon_group', 'celltype_B_corrected_IFN'\n",
       "    var: 'vst.mean', 'vst.variance', 'vst.variance.expected', 'vst.variance.standardized', 'vst.variable', 'highly_variable', 'means', 'dispersions', 'dispersions_norm'\n",
       "    uns: 'Interferon_group_colors', 'WHO_temp_severity_colors', '_scvi', 'case_control_colors', 'celltype_B_colors', 'celltype_B_corrected_IFN_colors', 'celltype_B_corrected_colors', 'centre_colors', 'contig_QC_pass_colors', 'gmm_pct_b_scores_colors', 'haniffa_broad_predLabel_colors', 'harmony_snn_res.0.5_colors', 'hvg', 'individual_id_colors', 'leiden', 'leiden_B2_colors', 'leiden_B_colors', 'leiden_B_soc_colors', 'merged_souporcell_status_colors', 'neighbors', 'rank_genes_groups', 'seurat_clusters_colors', 'umap'\n",
       "    obsm: 'X_harmony_rna', 'X_pca_rna', 'X_scVI', 'X_umap', 'X_umapafterharmony_rna', 'X_umapbeforeharmony_rna', '_scvi_extra_categoricals', '_scvi_extra_continuous'\n",
       "    layers: 'counts'\n",
       "    obsp: 'connectivities', 'distances'"
      ]
     },
     "execution_count": 3,
     "metadata": {},
     "output_type": "execute_result"
    }
   ],
   "source": [
    "adata = sc.read_h5ad('h5ad/df.fil3_gex_bcells_no_CLL_vdj.h5ad')\n",
    "adata"
   ]
  },
  {
   "cell_type": "code",
   "execution_count": 4,
   "id": "60c7e8aa",
   "metadata": {},
   "outputs": [
    {
     "data": {
      "text/plain": [
       "AnnData object with n_obs × n_vars = 44394 × 318\n",
       "    obs: 'orig.ident', 'nCount_RNA', 'nFeature_RNA', 'nCount_ADT', 'nFeature_ADT', 'nCount_ADT_raw', 'nFeature_ADT_raw', 'nCount_RNA_raw', 'nFeature_RNA_raw', 'soupxOnAdt', 'soupxOnRna', 'percentMito', 'exclude', 'centre', 'pool', 'tcrId', 'bcrId', 'celltypist_broad_predLabel', 'celltypist_broad_maxPredProb', 'haniffa_broad_predLabel', 'haniffa_broad_maxPredProb', 'yoshida_broad_predLabel', 'yoshida_broad_maxPredProb', 'celltypist_detailed_predLabel', 'celltypist_detailed_maxPredProb', 'yoshida_detailed_predLabel', 'yoshida_detailed_maxPredProb', 'seurat_clusters', 'RNA_sequencing_saturation', 'pool_factor', 'RNA_readsConfidentlyOnTranscriptome', 'RNA_readsConfidentlyOnGenome', 'RNA_readsOnGenome', 'RNA_Q30readsBarcode', 'RNA_Q30readsRead', 'RNA_Q30readsUmi', 'rna_snn_res.4', 'rna_snn_res.0.5', 'rna_snn_res.0.1', 'harmony_snn_res.4', 'yoshida_broad_predLabel_majorVote', 'harmony_snn_res.0.5', 'harmony_snn_res.0.1', 'cell_type_compartment', 'pool_number', 'merged_souporcell_cluster', 'merged_souporcell_status', 'patient_id', 'sample_id', 'multi_chain_bcr', 'IR_VJ_1_locus_bcr', 'IR_VJ_2_locus_bcr', 'IR_VDJ_1_locus_bcr', 'IR_VDJ_2_locus_bcr', 'IR_VJ_1_cdr3_bcr', 'IR_VJ_2_cdr3_bcr', 'IR_VDJ_1_cdr3_bcr', 'IR_VDJ_2_cdr3_bcr', 'IR_VJ_1_cdr3_nt_bcr', 'IR_VJ_2_cdr3_nt_bcr', 'IR_VDJ_1_cdr3_nt_bcr', 'IR_VDJ_2_cdr3_nt_bcr', 'IR_VJ_1_expr_bcr', 'IR_VJ_2_expr_bcr', 'IR_VDJ_1_expr_bcr', 'IR_VDJ_2_expr_bcr', 'IR_VJ_1_expr_raw_bcr', 'IR_VJ_2_expr_raw_bcr', 'IR_VDJ_1_expr_raw_bcr', 'IR_VDJ_2_expr_raw_bcr', 'IR_VJ_1_v_gene_bcr', 'IR_VJ_2_v_gene_bcr', 'IR_VDJ_1_v_gene_bcr', 'IR_VDJ_2_v_gene_bcr', 'IR_VJ_1_d_gene_bcr', 'IR_VJ_2_d_gene_bcr', 'IR_VDJ_1_d_gene_bcr', 'IR_VDJ_2_d_gene_bcr', 'IR_VJ_1_j_gene_bcr', 'IR_VJ_2_j_gene_bcr', 'IR_VDJ_1_j_gene_bcr', 'IR_VDJ_2_j_gene_bcr', 'IR_VJ_1_c_gene_bcr', 'IR_VJ_2_c_gene_bcr', 'IR_VDJ_1_c_gene_bcr', 'IR_VDJ_2_c_gene_bcr', 'IR_VJ_1_junction_ins_bcr', 'IR_VJ_2_junction_ins_bcr', 'IR_VDJ_1_junction_ins_bcr', 'IR_VDJ_2_junction_ins_bcr', 'has_ir_bcr', 'multi_chain_tcr', 'IR_VJ_1_locus_tcr', 'IR_VJ_2_locus_tcr', 'IR_VDJ_1_locus_tcr', 'IR_VDJ_2_locus_tcr', 'IR_VJ_1_cdr3_tcr', 'IR_VJ_2_cdr3_tcr', 'IR_VDJ_1_cdr3_tcr', 'IR_VDJ_2_cdr3_tcr', 'IR_VJ_1_cdr3_nt_tcr', 'IR_VJ_2_cdr3_nt_tcr', 'IR_VDJ_1_cdr3_nt_tcr', 'IR_VDJ_2_cdr3_nt_tcr', 'IR_VJ_1_expr_tcr', 'IR_VJ_2_expr_tcr', 'IR_VDJ_1_expr_tcr', 'IR_VDJ_2_expr_tcr', 'IR_VJ_1_expr_raw_tcr', 'IR_VJ_2_expr_raw_tcr', 'IR_VDJ_1_expr_raw_tcr', 'IR_VDJ_2_expr_raw_tcr', 'IR_VJ_1_v_gene_tcr', 'IR_VJ_2_v_gene_tcr', 'IR_VDJ_1_v_gene_tcr', 'IR_VDJ_2_v_gene_tcr', 'IR_VJ_1_d_gene_tcr', 'IR_VJ_2_d_gene_tcr', 'IR_VDJ_1_d_gene_tcr', 'IR_VDJ_2_d_gene_tcr', 'IR_VJ_1_j_gene_tcr', 'IR_VJ_2_j_gene_tcr', 'IR_VDJ_1_j_gene_tcr', 'IR_VDJ_2_j_gene_tcr', 'IR_VJ_1_c_gene_tcr', 'IR_VJ_2_c_gene_tcr', 'IR_VDJ_1_c_gene_tcr', 'IR_VDJ_2_c_gene_tcr', 'IR_VJ_1_junction_ins_tcr', 'IR_VJ_2_junction_ins_tcr', 'IR_VDJ_1_junction_ins_tcr', 'IR_VDJ_2_junction_ins_tcr', 'has_ir_tcr', 'ethnicity', 'sex', 'calc_age', 'ihd', 'previous_vte', 'copd', 'diabetes', 'smoking', 'cause_eskd', 'renal_status', 'WHO_severity', 'admission_date', 'discharge_date', 'fatal_disease', 'case_control', 'date_positive_swab', 'date_first_symptoms', 'radiology_evidence_covid', 'sample_date', 'temp_WCC', 'temp_neut', 'temp_mono', 'temp_lymph', 'temp_CRP', 'temp_ddimer', 'temp_ferritin', 'temp_trop', 'WHO_temp_severity', 'individual_id', 'initial_cluster_B', '_scvi_batch', '_scvi_labels', 'leiden_B', 'leiden_B2', 'leiden_B_soc', 'Naive B cells_score', 'Non-switched memory B cells_score', 'Exhausted B cells_score', 'Switched memory B cells_score', 'Plasmablasts_score', 'gmm_pct_b_scores', 'filter_rna', 'has_contig', 'filter_contig_quality', 'filter_contig_VDJ', 'filter_contig_VJ', 'contig_QC_pass', 'filter_contig', 'clone_id', 'clone_id_by_size', 'locus_VDJ', 'locus_VJ', 'productive_VDJ', 'productive_VJ', 'v_call_genotyped_VDJ', 'v_call_genotyped_VJ', 'd_call_VDJ', 'j_call_VDJ', 'j_call_VJ', 'c_call_VDJ', 'c_call_VJ', 'duplicate_count_VDJ', 'duplicate_count_VJ', 'duplicate_count_VDJ_1', 'duplicate_count_VJ_1', 'duplicate_count_VDJ_2', 'duplicate_count_VDJ_3', 'duplicate_count_VDJ_4', 'junction_aa_VDJ', 'junction_aa_VJ', 'status', 'status_summary', 'productive', 'productive_summary', 'isotype', 'isotype_summary', 'vdj_status', 'vdj_status_summary', 'constant_status_summary', 'celltype_B', 'celltype_B_corrected', 'Interferon_score', 'Interferon_zscore', 'Interferon_group', 'celltype_B_corrected_IFN'\n",
       "    var: 'vst.mean', 'vst.variance', 'vst.variance.expected', 'vst.variance.standardized', 'vst.variable', 'highly_variable', 'means', 'dispersions', 'dispersions_norm'\n",
       "    uns: 'Interferon_group_colors', 'WHO_temp_severity_colors', '_scvi', 'case_control_colors', 'celltype_B_colors', 'celltype_B_corrected_colors', 'centre_colors', 'contig_QC_pass_colors', 'gmm_pct_b_scores_colors', 'haniffa_broad_predLabel_colors', 'harmony_snn_res.0.5_colors', 'hvg', 'individual_id_colors', 'leiden', 'leiden_B_colors', 'leiden_B_soc_colors', 'merged_souporcell_status_colors', 'neighbors', 'rank_genes_groups', 'seurat_clusters_colors', 'umap'\n",
       "    obsm: 'X_harmony_rna', 'X_pca_rna', 'X_scVI', 'X_umap', 'X_umapafterharmony_rna', 'X_umapbeforeharmony_rna', '_scvi_extra_categoricals', '_scvi_extra_continuous'\n",
       "    layers: 'counts'\n",
       "    obsp: 'connectivities', 'distances'"
      ]
     },
     "execution_count": 4,
     "metadata": {},
     "output_type": "execute_result"
    }
   ],
   "source": [
    "# keep to good cells\n",
    "adata = adata[(adata.obs['contig_QC_pass'] == 'True') & (adata.obs['merged_souporcell_status'] == 'singlet') & (adata.obs['celltype_B_corrected'] != 'doublet') & (adata.obs['sample_id'] != 'NA') & (~adata.obs['patient_id'].isin(['NULL', 'unresolved']))].copy()\n",
    "adata"
   ]
  },
  {
   "cell_type": "code",
   "execution_count": 8,
   "id": "60406d49",
   "metadata": {},
   "outputs": [
    {
     "name": "stderr",
     "output_type": "stream",
     "text": [
      "/nfs/users/nfs_k/kt16/miniconda2/envs/dandelion/lib/python3.8/site-packages/pandas/core/series.py:4463: SettingWithCopyWarning: modifications to a property of a datetimelike object are not supported and are discarded. Change values on the original.\n",
      "  return super().fillna(\n"
     ]
    }
   ],
   "source": [
    "# calculate days to sampling, days to admission, days to first symptoms, days to discharge from positive swab\n",
    "tmp = adata.copy()\n",
    "tmp.obs['sample_date'] = tmp.obs['sample_date'].astype('object')\n",
    "tmp.obs['date_first_symptoms'] = tmp.obs['date_first_symptoms'].astype('object')\n",
    "tmp.obs['date_positive_swab'] = tmp.obs['date_positive_swab'].astype('object')\n",
    "tmp.obs['date_first_symptoms'].replace({'NA':np.nan}, inplace = True)\n",
    "tmp.obs['date_positive_swab'].replace({'NA':np.nan}, inplace = True)\n",
    "time_from_first_symptoms = pd.to_datetime(tmp.obs['sample_date'], format='%d/%m/%Y') - pd.to_datetime(tmp.obs['date_first_symptoms'], format='%d/%m/%Y')\n",
    "time_from_positive_swab = pd.to_datetime(tmp.obs['sample_date'], format='%d/%m/%Y') - pd.to_datetime(tmp.obs['date_positive_swab'], format='%d/%m/%Y')\n",
    "days_from_first_symptoms = time_from_first_symptoms.dt.days\n",
    "days_from_positive_swab = time_from_positive_swab.dt.days\n",
    "days_from_first_symptoms.fillna(0, inplace = True)\n",
    "days_from_positive_swab.fillna(0, inplace = True)\n",
    "days_from_infection = [max(a,b) for a,b in zip(days_from_first_symptoms, days_from_positive_swab)]\n",
    "adata.obs['time_from_first_symptoms'] = days_from_first_symptoms\n",
    "adata.obs['time_from_positive_swab'] = days_from_positive_swab\n",
    "adata.obs['time_from_infection'] = days_from_infection"
   ]
  },
  {
   "cell_type": "code",
   "execution_count": 10,
   "id": "cd30ca92",
   "metadata": {},
   "outputs": [
    {
     "data": {
      "text/plain": [
       "UK-CIC10689738+UK-CIC10690026_AACACGTGTTGGTGGA-1          NCL\n",
       "UK-CIC10689738+UK-CIC10690026_AACCATGCAGTCACTA-1          NCL\n",
       "UK-CIC10689738+UK-CIC10690026_AACCGCGAGTCTCCTC-1          NCL\n",
       "UK-CIC10689738+UK-CIC10690026_AACCGCGGTCCAACTA-1          NCL\n",
       "UK-CIC10689738+UK-CIC10690026_AACGTTGCATCCCATC-1          NCL\n",
       "                                                      ...    \n",
       "UK-CIC10690384+UK-CIC10690576_TTTACTGCAATCTACG-1    Cambridge\n",
       "UK-CIC10690384+UK-CIC10690576_TTTATGCGTCATCCCT-1    Cambridge\n",
       "UK-CIC10690384+UK-CIC10690576_TTTCCTCTCATGTCCC-1    Cambridge\n",
       "UK-CIC10690384+UK-CIC10690576_TTTGGTTGTACGAAAT-1    Cambridge\n",
       "UK-CIC10690384+UK-CIC10690576_TTTGGTTGTTGTCTTT-1    Cambridge\n",
       "Name: centre, Length: 44394, dtype: category\n",
       "Categories (2, object): ['Cambridge', 'NCL']"
      ]
     },
     "execution_count": 10,
     "metadata": {},
     "output_type": "execute_result"
    }
   ],
   "source": [
    "adata.obs['centre']"
   ]
  },
  {
   "cell_type": "code",
   "execution_count": 9,
   "id": "875c3c96",
   "metadata": {},
   "outputs": [],
   "source": [
    "# save the obs\n",
    "adata.obs.to_csv('h5ad/vdj_obs.csv')"
   ]
  },
  {
   "cell_type": "code",
   "execution_count": 5,
   "id": "dae46b7e",
   "metadata": {},
   "outputs": [
    {
     "name": "stdout",
     "output_type": "stream",
     "text": [
      "dandelion==0.1.13.dev2 pandas==1.2.4 numpy==1.22.2 matplotlib==3.3.4 networkx==2.5.1 scipy==1.6.2 skbio==0.5.6\n"
     ]
    }
   ],
   "source": [
    "import dandelion as ddl\n",
    "ddl.logging.print_header()"
   ]
  },
  {
   "cell_type": "code",
   "execution_count": 6,
   "id": "65c70d06",
   "metadata": {},
   "outputs": [
    {
     "data": {
      "text/plain": [
       "Dandelion class object with n_obs = 45992 and n_contigs = 91813\n",
       "    data: 'sequence_id', 'sequence', 'rev_comp', 'productive', 'v_call', 'd_call', 'j_call', 'sequence_alignment', 'germline_alignment', 'junction', 'junction_aa', 'v_cigar', 'd_cigar', 'j_cigar', 'stop_codon', 'vj_in_frame', 'locus', 'junction_length', 'np1_length', 'np2_length', 'v_sequence_start', 'v_sequence_end', 'v_germline_start', 'v_germline_end', 'd_sequence_start', 'd_sequence_end', 'd_germline_start', 'd_germline_end', 'j_sequence_start', 'j_sequence_end', 'j_germline_start', 'j_germline_end', 'v_score', 'v_identity', 'v_support', 'd_score', 'd_identity', 'd_support', 'j_score', 'j_identity', 'j_support', 'fwr1', 'fwr2', 'fwr3', 'fwr4', 'cdr1', 'cdr2', 'cdr3', 'cell_id', 'c_call', 'consensus_count', 'umi_count', 'v_call_10x', 'd_call_10x', 'j_call_10x', 'junction_10x', 'junction_10x_aa', 'v_call_genotyped', 'germline_alignment_d_mask', 'sample_id', 'c_sequence_alignment', 'c_germline_alignment', 'c_sequence_start', 'c_sequence_end', 'c_score', 'c_identity', 'c_support', 'c_call_10x', 'junction_aa_length', 'fwr1_aa', 'fwr2_aa', 'fwr3_aa', 'fwr4_aa', 'cdr1_aa', 'cdr2_aa', 'cdr3_aa', 'sequence_alignment_aa', 'v_sequence_alignment_aa', 'd_sequence_alignment_aa', 'j_sequence_alignment_aa', 'mu_count', 'mu_freq', 'duplicate_count', 'clone_id'\n",
       "    metadata: 'clone_id', 'clone_id_by_size', 'sample_id', 'locus_VDJ', 'locus_VJ', 'productive_VDJ', 'productive_VJ', 'v_call_genotyped_VDJ', 'v_call_genotyped_VJ', 'd_call_VDJ', 'j_call_VDJ', 'j_call_VJ', 'c_call_VDJ', 'c_call_VJ', 'duplicate_count_VDJ', 'duplicate_count_VJ', 'duplicate_count_VDJ_1', 'duplicate_count_VJ_1', 'duplicate_count_VDJ_2', 'duplicate_count_VDJ_3', 'duplicate_count_VDJ_4', 'junction_aa_VDJ', 'junction_aa_VJ', 'status', 'status_summary', 'productive', 'productive_summary', 'isotype', 'isotype_summary', 'vdj_status', 'vdj_status_summary', 'constant_status_summary'\n",
       "    distance: None\n",
       "    edges: None\n",
       "    layout: None\n",
       "    graph: None"
      ]
     },
     "execution_count": 6,
     "metadata": {},
     "output_type": "execute_result"
    }
   ],
   "source": [
    "vdj = ddl.read_h5ddl('h5ddl/df.fil3_gex_bcells_no_CLL_vdj.h5ddl')\n",
    "vdj"
   ]
  },
  {
   "cell_type": "code",
   "execution_count": 7,
   "id": "8bf636d5",
   "metadata": {},
   "outputs": [
    {
     "data": {
      "text/plain": [
       "(88702, 84)"
      ]
     },
     "execution_count": 7,
     "metadata": {},
     "output_type": "execute_result"
    }
   ],
   "source": [
    "# keep only cells in the bdata object\n",
    "bcr = vdj.data[vdj.data.cell_id.isin(adata.obs_names)]\n",
    "bcr.shape"
   ]
  },
  {
   "cell_type": "code",
   "execution_count": 8,
   "id": "08fcbdaa",
   "metadata": {},
   "outputs": [
    {
     "name": "stderr",
     "output_type": "stream",
     "text": [
      "<ipython-input-8-e9f51e139801>:3: SettingWithCopyWarning: \n",
      "A value is trying to be set on a copy of a slice from a DataFrame.\n",
      "Try using .loc[row_indexer,col_indexer] = value instead\n",
      "\n",
      "See the caveats in the documentation: https://pandas.pydata.org/pandas-docs/stable/user_guide/indexing.html#returning-a-view-versus-a-copy\n"
     ]
    }
   ],
   "source": [
    "# transfer sample_id\n",
    "sample = dict(zip(adata.obs_names, adata.obs['sample_id']))\n",
    "bcr['sample_id'] = [sample[x] for x in bcr['cell_id']]"
   ]
  },
  {
   "cell_type": "code",
   "execution_count": 9,
   "id": "d42b7fbf",
   "metadata": {},
   "outputs": [
    {
     "data": {
      "text/plain": [
       "Dandelion class object with n_obs = 44394 and n_contigs = 88702\n",
       "    data: 'sequence_id', 'sequence', 'rev_comp', 'productive', 'v_call', 'd_call', 'j_call', 'sequence_alignment', 'germline_alignment', 'junction', 'junction_aa', 'v_cigar', 'd_cigar', 'j_cigar', 'stop_codon', 'vj_in_frame', 'locus', 'junction_length', 'np1_length', 'np2_length', 'v_sequence_start', 'v_sequence_end', 'v_germline_start', 'v_germline_end', 'd_sequence_start', 'd_sequence_end', 'd_germline_start', 'd_germline_end', 'j_sequence_start', 'j_sequence_end', 'j_germline_start', 'j_germline_end', 'v_score', 'v_identity', 'v_support', 'd_score', 'd_identity', 'd_support', 'j_score', 'j_identity', 'j_support', 'fwr1', 'fwr2', 'fwr3', 'fwr4', 'cdr1', 'cdr2', 'cdr3', 'cell_id', 'c_call', 'consensus_count', 'umi_count', 'v_call_10x', 'd_call_10x', 'j_call_10x', 'junction_10x', 'junction_10x_aa', 'v_call_genotyped', 'germline_alignment_d_mask', 'sample_id', 'c_sequence_alignment', 'c_germline_alignment', 'c_sequence_start', 'c_sequence_end', 'c_score', 'c_identity', 'c_support', 'c_call_10x', 'junction_aa_length', 'fwr1_aa', 'fwr2_aa', 'fwr3_aa', 'fwr4_aa', 'cdr1_aa', 'cdr2_aa', 'cdr3_aa', 'sequence_alignment_aa', 'v_sequence_alignment_aa', 'd_sequence_alignment_aa', 'j_sequence_alignment_aa', 'mu_count', 'mu_freq', 'duplicate_count', 'clone_id'\n",
       "    metadata: 'clone_id', 'clone_id_by_size', 'sample_id', 'locus_VDJ', 'locus_VJ', 'productive_VDJ', 'productive_VJ', 'v_call_genotyped_VDJ', 'v_call_genotyped_VJ', 'd_call_VDJ', 'j_call_VDJ', 'j_call_VJ', 'c_call_VDJ', 'c_call_VJ', 'duplicate_count_VDJ', 'duplicate_count_VJ', 'duplicate_count_VDJ_1', 'duplicate_count_VJ_1', 'duplicate_count_VDJ_2', 'duplicate_count_VDJ_3', 'duplicate_count_VDJ_4', 'junction_aa_VDJ', 'junction_aa_VJ', 'locus_status', 'locus_status_summary', 'productive', 'productive_summary', 'isotype', 'isotype_summary', 'vdj_status', 'vdj_status_summary', 'constant_status_summary'\n",
       "    distance: None\n",
       "    edges: None\n",
       "    layout: None\n",
       "    graph: None"
      ]
     },
     "execution_count": 9,
     "metadata": {},
     "output_type": "execute_result"
    }
   ],
   "source": [
    "vdj = ddl.Dandelion(bcr)\n",
    "vdj"
   ]
  },
  {
   "cell_type": "code",
   "execution_count": 11,
   "id": "e8323b25",
   "metadata": {},
   "outputs": [],
   "source": [
    "# ddl.tl.find_clones(vdj)"
   ]
  },
  {
   "cell_type": "code",
   "execution_count": 12,
   "id": "63655814",
   "metadata": {},
   "outputs": [],
   "source": [
    "from collections import defaultdict"
   ]
  },
  {
   "cell_type": "code",
   "execution_count": 14,
   "id": "a8703bb5",
   "metadata": {},
   "outputs": [],
   "source": [
    "vdjs = defaultdict(dict)\n",
    "for x in list(set(bcr.sample_id)):\n",
    "    vdjs[x] = ddl.Dandelion(bcr[bcr['sample_id'] == x])"
   ]
  },
  {
   "cell_type": "code",
   "execution_count": 15,
   "id": "51926e03",
   "metadata": {},
   "outputs": [],
   "source": [
    "from tqdm import tqdm"
   ]
  },
  {
   "cell_type": "code",
   "execution_count": 16,
   "id": "0f78b24c",
   "metadata": {},
   "outputs": [
    {
     "name": "stderr",
     "output_type": "stream",
     "text": [
      "  0%|          | 0/187 [00:00<?, ?it/s]\n",
      "Finding clones based on VDJ chains : 100%|██████████| 114/114 [00:00<00:00, 5417.40it/s]\n",
      "\n",
      "Refining clone assignment based on VJ chain pairing : 100%|██████████| 317/317 [00:00<00:00, 474177.73it/s]\n"
     ]
    },
    {
     "name": "stdout",
     "output_type": "stream",
     "text": [
      "Computing Gini indices for cluster and vertex size using network.\n"
     ]
    },
    {
     "name": "stderr",
     "output_type": "stream",
     "text": [
      "  1%|          | 1/187 [00:09<27:57,  9.02s/it]\n",
      "Finding clones based on VDJ chains : 100%|██████████| 31/31 [00:00<00:00, 3271.44it/s]\n",
      "\n",
      "Refining clone assignment based on VJ chain pairing : 100%|██████████| 63/63 [00:00<00:00, 293275.42it/s]\n",
      "/nfs/users/nfs_k/kt16/miniconda2/envs/dandelion/lib/python3.8/site-packages/dandelion/tools/_diversity.py:464: UserWarning: The minimum cell numbers when grouped by sample_id is 63 (group C212_2705). Exercise caution when interpreting diversity measures.\n"
     ]
    },
    {
     "name": "stdout",
     "output_type": "stream",
     "text": [
      "Computing Gini indices for cluster and vertex size using network.\n"
     ]
    },
    {
     "name": "stderr",
     "output_type": "stream",
     "text": [
      "  1%|          | 2/187 [00:14<21:22,  6.93s/it]\n",
      "Finding clones based on VDJ chains : 100%|██████████| 59/59 [00:00<00:00, 3319.52it/s]\n",
      "\n",
      "Refining clone assignment based on VJ chain pairing : 100%|██████████| 146/146 [00:00<00:00, 286287.23it/s]\n"
     ]
    },
    {
     "name": "stdout",
     "output_type": "stream",
     "text": [
      "Computing Gini indices for cluster and vertex size using network.\n"
     ]
    },
    {
     "name": "stderr",
     "output_type": "stream",
     "text": [
      "  2%|▏         | 3/187 [00:20<20:12,  6.59s/it]\n",
      "Finding clones based on VDJ chains : 100%|██████████| 112/112 [00:00<00:00, 5302.35it/s]\n",
      "\n",
      "Refining clone assignment based on VJ chain pairing : 100%|██████████| 273/273 [00:00<00:00, 456011.55it/s]\n"
     ]
    },
    {
     "name": "stdout",
     "output_type": "stream",
     "text": [
      "Computing Gini indices for cluster and vertex size using network.\n"
     ]
    },
    {
     "name": "stderr",
     "output_type": "stream",
     "text": [
      "  2%|▏         | 4/187 [00:29<22:30,  7.38s/it]\n",
      "Finding clones based on VDJ chains : 100%|██████████| 182/182 [00:00<00:00, 2303.17it/s]\n",
      "\n",
      "Refining clone assignment based on VJ chain pairing : 100%|██████████| 989/989 [00:00<00:00, 376353.35it/s]\n"
     ]
    },
    {
     "name": "stdout",
     "output_type": "stream",
     "text": [
      "Computing Gini indices for cluster and vertex size using network.\n"
     ]
    },
    {
     "name": "stderr",
     "output_type": "stream",
     "text": [
      "  3%|▎         | 5/187 [00:56<44:12, 14.58s/it]\n",
      "Finding clones based on VDJ chains : 100%|██████████| 124/124 [00:00<00:00, 3629.76it/s]\n",
      "\n",
      "Refining clone assignment based on VJ chain pairing : 100%|██████████| 572/572 [00:00<00:00, 490822.81it/s]\n"
     ]
    },
    {
     "name": "stdout",
     "output_type": "stream",
     "text": [
      "Computing Gini indices for cluster and vertex size using network.\n"
     ]
    },
    {
     "name": "stderr",
     "output_type": "stream",
     "text": [
      "  3%|▎         | 6/187 [01:12<45:08, 14.97s/it]\n",
      "Finding clones based on VDJ chains : 100%|██████████| 97/97 [00:00<00:00, 4146.98it/s]\n",
      "\n",
      "Refining clone assignment based on VJ chain pairing : 100%|██████████| 234/234 [00:00<00:00, 346563.25it/s]\n"
     ]
    },
    {
     "name": "stdout",
     "output_type": "stream",
     "text": [
      "Computing Gini indices for cluster and vertex size using network.\n"
     ]
    },
    {
     "name": "stderr",
     "output_type": "stream",
     "text": [
      "  4%|▎         | 7/187 [01:20<37:47, 12.60s/it]\n",
      "Finding clones based on VDJ chains : 100%|██████████| 51/51 [00:00<00:00, 6536.18it/s]\n",
      "\n",
      "Refining clone assignment based on VJ chain pairing : 100%|██████████| 89/89 [00:00<00:00, 355517.20it/s]\n",
      "/nfs/users/nfs_k/kt16/miniconda2/envs/dandelion/lib/python3.8/site-packages/dandelion/tools/_diversity.py:464: UserWarning: The minimum cell numbers when grouped by sample_id is 89 (group C187_190121). Exercise caution when interpreting diversity measures.\n"
     ]
    },
    {
     "name": "stdout",
     "output_type": "stream",
     "text": [
      "Computing Gini indices for cluster and vertex size using network.\n"
     ]
    },
    {
     "name": "stderr",
     "output_type": "stream",
     "text": [
      "  4%|▍         | 8/187 [01:25<30:58, 10.38s/it]\n",
      "Finding clones based on VDJ chains : 100%|██████████| 118/118 [00:00<00:00, 2560.21it/s]\n",
      "\n",
      "Refining clone assignment based on VJ chain pairing : 100%|██████████| 445/445 [00:00<00:00, 378593.36it/s]\n"
     ]
    },
    {
     "name": "stdout",
     "output_type": "stream",
     "text": [
      "Computing Gini indices for cluster and vertex size using network.\n"
     ]
    },
    {
     "name": "stderr",
     "output_type": "stream",
     "text": [
      "  5%|▍         | 9/187 [01:37<32:11, 10.85s/it]\n",
      "Finding clones based on VDJ chains : 100%|██████████| 26/26 [00:00<00:00, 5124.14it/s]\n",
      "\n",
      "Refining clone assignment based on VJ chain pairing : 100%|██████████| 41/41 [00:00<00:00, 276029.64it/s]\n",
      "/nfs/users/nfs_k/kt16/miniconda2/envs/dandelion/lib/python3.8/site-packages/dandelion/tools/_diversity.py:464: UserWarning: The minimum cell numbers when grouped by sample_id is 41 (group C138_300420). Exercise caution when interpreting diversity measures.\n"
     ]
    },
    {
     "name": "stdout",
     "output_type": "stream",
     "text": [
      "Computing Gini indices for cluster and vertex size using network.\n"
     ]
    },
    {
     "name": "stderr",
     "output_type": "stream",
     "text": [
      "  5%|▌         | 10/187 [01:42<26:38,  9.03s/it]\n",
      "Finding clones based on VDJ chains : 100%|██████████| 28/28 [00:00<00:00, 8655.06it/s]\n",
      "\n",
      "Refining clone assignment based on VJ chain pairing : 100%|██████████| 36/36 [00:00<00:00, 229127.38it/s]\n",
      "/nfs/users/nfs_k/kt16/miniconda2/envs/dandelion/lib/python3.8/site-packages/dandelion/tools/_diversity.py:464: UserWarning: The minimum cell numbers when grouped by sample_id is 36 (group C141_020221). Exercise caution when interpreting diversity measures.\n"
     ]
    },
    {
     "name": "stdout",
     "output_type": "stream",
     "text": [
      "Computing Gini indices for cluster and vertex size using network.\n"
     ]
    },
    {
     "name": "stderr",
     "output_type": "stream",
     "text": [
      "  6%|▌         | 11/187 [01:47<23:01,  7.85s/it]\n",
      "Finding clones based on VDJ chains : 100%|██████████| 119/119 [00:00<00:00, 2743.35it/s]\n",
      "\n",
      "Refining clone assignment based on VJ chain pairing : 100%|██████████| 826/826 [00:00<00:00, 384431.33it/s]\n"
     ]
    },
    {
     "name": "stdout",
     "output_type": "stream",
     "text": [
      "Computing Gini indices for cluster and vertex size using network.\n"
     ]
    },
    {
     "name": "stderr",
     "output_type": "stream",
     "text": [
      "  6%|▋         | 12/187 [02:08<34:30, 11.83s/it]\n",
      "Finding clones based on VDJ chains : 100%|██████████| 78/78 [00:00<00:00, 4757.45it/s]\n",
      "\n",
      "Refining clone assignment based on VJ chain pairing : 100%|██████████| 125/125 [00:00<00:00, 402061.35it/s]\n"
     ]
    },
    {
     "name": "stdout",
     "output_type": "stream",
     "text": [
      "Computing Gini indices for cluster and vertex size using network.\n"
     ]
    },
    {
     "name": "stderr",
     "output_type": "stream",
     "text": [
      "  7%|▋         | 13/187 [02:14<29:18, 10.10s/it]\n",
      "Finding clones based on VDJ chains : 100%|██████████| 72/72 [00:00<00:00, 4985.22it/s]\n",
      "\n",
      "Refining clone assignment based on VJ chain pairing : 100%|██████████| 193/193 [00:00<00:00, 433351.54it/s]\n"
     ]
    },
    {
     "name": "stdout",
     "output_type": "stream",
     "text": [
      "Computing Gini indices for cluster and vertex size using network.\n"
     ]
    },
    {
     "name": "stderr",
     "output_type": "stream",
     "text": [
      "  7%|▋         | 14/187 [02:21<26:18,  9.12s/it]\n",
      "Finding clones based on VDJ chains : 100%|██████████| 91/91 [00:00<00:00, 3628.81it/s]\n",
      "\n",
      "Refining clone assignment based on VJ chain pairing : 100%|██████████| 306/306 [00:00<00:00, 307709.67it/s]\n"
     ]
    },
    {
     "name": "stdout",
     "output_type": "stream",
     "text": [
      "Computing Gini indices for cluster and vertex size using network.\n"
     ]
    },
    {
     "name": "stderr",
     "output_type": "stream",
     "text": [
      "  8%|▊         | 15/187 [02:30<26:12,  9.15s/it]\n",
      "Finding clones based on VDJ chains : 100%|██████████| 141/141 [00:00<00:00, 2981.18it/s]\n",
      "\n",
      "Refining clone assignment based on VJ chain pairing : 100%|██████████| 500/500 [00:00<00:00, 334154.24it/s]\n"
     ]
    },
    {
     "name": "stdout",
     "output_type": "stream",
     "text": [
      "Computing Gini indices for cluster and vertex size using network.\n"
     ]
    },
    {
     "name": "stderr",
     "output_type": "stream",
     "text": [
      "  9%|▊         | 16/187 [02:43<28:46, 10.10s/it]\n",
      "Finding clones based on VDJ chains : 100%|██████████| 71/71 [00:00<00:00, 4190.29it/s]\n",
      "\n",
      "Refining clone assignment based on VJ chain pairing : 100%|██████████| 139/139 [00:00<00:00, 342141.00it/s]\n"
     ]
    },
    {
     "name": "stdout",
     "output_type": "stream",
     "text": [
      "Computing Gini indices for cluster and vertex size using network.\n"
     ]
    },
    {
     "name": "stderr",
     "output_type": "stream",
     "text": [
      "  9%|▉         | 17/187 [02:49<25:34,  9.02s/it]\n",
      "Finding clones based on VDJ chains : 100%|██████████| 71/71 [00:00<00:00, 5324.81it/s]\n",
      "\n",
      "Refining clone assignment based on VJ chain pairing : 100%|██████████| 102/102 [00:00<00:00, 271286.63it/s]\n"
     ]
    },
    {
     "name": "stdout",
     "output_type": "stream",
     "text": [
      "Computing Gini indices for cluster and vertex size using network.\n"
     ]
    },
    {
     "name": "stderr",
     "output_type": "stream",
     "text": [
      " 10%|▉         | 18/187 [02:55<22:35,  8.02s/it]\n",
      "Finding clones based on VDJ chains : 100%|██████████| 103/103 [00:00<00:00, 4803.99it/s]\n",
      "\n",
      "Refining clone assignment based on VJ chain pairing : 100%|██████████| 275/275 [00:00<00:00, 400915.40it/s]\n"
     ]
    },
    {
     "name": "stdout",
     "output_type": "stream",
     "text": [
      "Computing Gini indices for cluster and vertex size using network.\n"
     ]
    },
    {
     "name": "stderr",
     "output_type": "stream",
     "text": [
      " 10%|█         | 19/187 [03:05<24:03,  8.59s/it]\n",
      "Finding clones based on VDJ chains : 100%|██████████| 27/27 [00:00<00:00, 10670.52it/s]\n",
      "\n",
      "Refining clone assignment based on VJ chain pairing : 100%|██████████| 31/31 [00:00<00:00, 208705.34it/s]\n",
      "/nfs/users/nfs_k/kt16/miniconda2/envs/dandelion/lib/python3.8/site-packages/dandelion/tools/_diversity.py:464: UserWarning: The minimum cell numbers when grouped by sample_id is 31 (group C58_250121). Exercise caution when interpreting diversity measures.\n"
     ]
    },
    {
     "name": "stdout",
     "output_type": "stream",
     "text": [
      "Computing Gini indices for cluster and vertex size using network.\n"
     ]
    },
    {
     "name": "stderr",
     "output_type": "stream",
     "text": [
      " 11%|█         | 20/187 [03:10<20:55,  7.52s/it]\n",
      "Finding clones based on VDJ chains : 100%|██████████| 22/22 [00:00<00:00, 10114.51it/s]\n",
      "\n",
      "Refining clone assignment based on VJ chain pairing : 100%|██████████| 31/31 [00:00<00:00, 260046.85it/s]\n",
      "/nfs/users/nfs_k/kt16/miniconda2/envs/dandelion/lib/python3.8/site-packages/dandelion/tools/_diversity.py:464: UserWarning: The minimum cell numbers when grouped by sample_id is 31 (group C58_290121). Exercise caution when interpreting diversity measures.\n"
     ]
    },
    {
     "name": "stdout",
     "output_type": "stream",
     "text": [
      "Computing Gini indices for cluster and vertex size using network.\n"
     ]
    },
    {
     "name": "stderr",
     "output_type": "stream",
     "text": [
      " 11%|█         | 21/187 [03:15<18:36,  6.73s/it]\n",
      "Finding clones based on VDJ chains : 100%|██████████| 9/9 [00:00<00:00, 6649.42it/s]\n",
      "\n",
      "Refining clone assignment based on VJ chain pairing : 100%|██████████| 12/12 [00:00<00:00, 131414.22it/s]\n",
      "/nfs/users/nfs_k/kt16/miniconda2/envs/dandelion/lib/python3.8/site-packages/dandelion/tools/_diversity.py:464: UserWarning: The minimum cell numbers when grouped by sample_id is 12 (group C170_120520). Exercise caution when interpreting diversity measures.\n"
     ]
    },
    {
     "name": "stdout",
     "output_type": "stream",
     "text": [
      "Computing Gini indices for cluster and vertex size using network.\n"
     ]
    },
    {
     "name": "stderr",
     "output_type": "stream",
     "text": [
      " 12%|█▏        | 22/187 [03:19<16:55,  6.15s/it]\n",
      "Finding clones based on VDJ chains : 100%|██████████| 23/23 [00:00<00:00, 6005.29it/s]\n",
      "\n",
      "Refining clone assignment based on VJ chain pairing : 100%|██████████| 33/33 [00:00<00:00, 225794.51it/s]\n",
      "/nfs/users/nfs_k/kt16/miniconda2/envs/dandelion/lib/python3.8/site-packages/dandelion/tools/_diversity.py:464: UserWarning: The minimum cell numbers when grouped by sample_id is 33 (group C138_040221). Exercise caution when interpreting diversity measures.\n"
     ]
    },
    {
     "name": "stdout",
     "output_type": "stream",
     "text": [
      "Computing Gini indices for cluster and vertex size using network.\n"
     ]
    },
    {
     "name": "stderr",
     "output_type": "stream",
     "text": [
      " 12%|█▏        | 23/187 [03:25<15:55,  5.83s/it]\n",
      "Finding clones based on VDJ chains : 100%|██████████| 31/31 [00:00<00:00, 5887.94it/s]\n",
      "\n",
      "Refining clone assignment based on VJ chain pairing : 100%|██████████| 43/43 [00:00<00:00, 300591.79it/s]\n",
      "/nfs/users/nfs_k/kt16/miniconda2/envs/dandelion/lib/python3.8/site-packages/dandelion/tools/_diversity.py:464: UserWarning: The minimum cell numbers when grouped by sample_id is 43 (group C187_120121). Exercise caution when interpreting diversity measures.\n"
     ]
    },
    {
     "name": "stdout",
     "output_type": "stream",
     "text": [
      "Computing Gini indices for cluster and vertex size using network.\n"
     ]
    },
    {
     "name": "stderr",
     "output_type": "stream",
     "text": [
      " 13%|█▎        | 24/187 [03:29<15:05,  5.55s/it]\n",
      "Finding clones based on VDJ chains : 100%|██████████| 30/30 [00:00<00:00, 4931.19it/s]\n",
      "\n",
      "Refining clone assignment based on VJ chain pairing : 100%|██████████| 53/53 [00:00<00:00, 303685.95it/s]\n",
      "/nfs/users/nfs_k/kt16/miniconda2/envs/dandelion/lib/python3.8/site-packages/dandelion/tools/_diversity.py:464: UserWarning: The minimum cell numbers when grouped by sample_id is 53 (group C138_300121). Exercise caution when interpreting diversity measures.\n"
     ]
    },
    {
     "name": "stdout",
     "output_type": "stream",
     "text": [
      "Computing Gini indices for cluster and vertex size using network.\n"
     ]
    },
    {
     "name": "stderr",
     "output_type": "stream",
     "text": [
      " 13%|█▎        | 25/187 [03:35<14:50,  5.50s/it]\n",
      "Finding clones based on VDJ chains : 100%|██████████| 156/156 [00:00<00:00, 2102.12it/s]\n",
      "\n",
      "Refining clone assignment based on VJ chain pairing : 100%|██████████| 691/691 [00:00<00:00, 388715.67it/s]\n"
     ]
    },
    {
     "name": "stdout",
     "output_type": "stream",
     "text": [
      "Computing Gini indices for cluster and vertex size using network.\n"
     ]
    },
    {
     "name": "stderr",
     "output_type": "stream",
     "text": [
      " 14%|█▍        | 26/187 [03:53<24:34,  9.16s/it]\n",
      "Finding clones based on VDJ chains : 100%|██████████| 146/146 [00:00<00:00, 2380.89it/s]\n",
      "\n",
      "Refining clone assignment based on VJ chain pairing : 100%|██████████| 573/573 [00:00<00:00, 389204.24it/s]\n"
     ]
    },
    {
     "name": "stdout",
     "output_type": "stream",
     "text": [
      "Computing Gini indices for cluster and vertex size using network.\n"
     ]
    },
    {
     "name": "stderr",
     "output_type": "stream",
     "text": [
      " 14%|█▍        | 27/187 [04:07<28:40, 10.75s/it]\n",
      "Finding clones based on VDJ chains : 100%|██████████| 57/57 [00:00<00:00, 3801.18it/s]\n",
      "\n",
      "Refining clone assignment based on VJ chain pairing : 100%|██████████| 81/81 [00:00<00:00, 275985.88it/s]\n",
      "/nfs/users/nfs_k/kt16/miniconda2/envs/dandelion/lib/python3.8/site-packages/dandelion/tools/_diversity.py:464: UserWarning: The minimum cell numbers when grouped by sample_id is 81 (group C170_230121). Exercise caution when interpreting diversity measures.\n"
     ]
    },
    {
     "name": "stdout",
     "output_type": "stream",
     "text": [
      "Computing Gini indices for cluster and vertex size using network.\n"
     ]
    },
    {
     "name": "stderr",
     "output_type": "stream",
     "text": [
      " 15%|█▍        | 28/187 [04:13<24:31,  9.25s/it]\n",
      "Finding clones based on VDJ chains : 100%|██████████| 98/98 [00:00<00:00, 3423.32it/s]\n",
      "\n",
      "Refining clone assignment based on VJ chain pairing : 100%|██████████| 232/232 [00:00<00:00, 384616.02it/s]\n"
     ]
    },
    {
     "name": "stdout",
     "output_type": "stream",
     "text": [
      "Computing Gini indices for cluster and vertex size using network.\n"
     ]
    },
    {
     "name": "stderr",
     "output_type": "stream",
     "text": [
      " 16%|█▌        | 29/187 [04:21<23:13,  8.82s/it]\n",
      "Finding clones based on VDJ chains : 100%|██████████| 15/15 [00:00<00:00, 6007.88it/s]\n",
      "\n",
      "Refining clone assignment based on VJ chain pairing : 100%|██████████| 43/43 [00:00<00:00, 301597.11it/s]\n",
      "/nfs/users/nfs_k/kt16/miniconda2/envs/dandelion/lib/python3.8/site-packages/dandelion/tools/_diversity.py:464: UserWarning: The minimum cell numbers when grouped by sample_id is 43 (group C161_1105). Exercise caution when interpreting diversity measures.\n"
     ]
    },
    {
     "name": "stdout",
     "output_type": "stream",
     "text": [
      "Computing Gini indices for cluster and vertex size using network.\n"
     ]
    },
    {
     "name": "stderr",
     "output_type": "stream",
     "text": [
      " 16%|█▌        | 30/187 [04:26<20:04,  7.67s/it]\n",
      "Finding clones based on VDJ chains : 100%|██████████| 30/30 [00:00<00:00, 8344.11it/s]\n",
      "\n",
      "Refining clone assignment based on VJ chain pairing : 100%|██████████| 38/38 [00:00<00:00, 250209.66it/s]\n",
      "/nfs/users/nfs_k/kt16/miniconda2/envs/dandelion/lib/python3.8/site-packages/dandelion/tools/_diversity.py:464: UserWarning: The minimum cell numbers when grouped by sample_id is 38 (group C141_200121). Exercise caution when interpreting diversity measures.\n"
     ]
    },
    {
     "name": "stdout",
     "output_type": "stream",
     "text": [
      "Computing Gini indices for cluster and vertex size using network.\n"
     ]
    },
    {
     "name": "stderr",
     "output_type": "stream",
     "text": [
      " 17%|█▋        | 31/187 [04:31<18:00,  6.93s/it]\n",
      "Finding clones based on VDJ chains : 100%|██████████| 123/123 [00:00<00:00, 2030.30it/s]\n",
      "\n",
      "Refining clone assignment based on VJ chain pairing : 100%|██████████| 392/392 [00:00<00:00, 329558.46it/s]\n"
     ]
    },
    {
     "name": "stdout",
     "output_type": "stream",
     "text": [
      "Computing Gini indices for cluster and vertex size using network.\n"
     ]
    },
    {
     "name": "stderr",
     "output_type": "stream",
     "text": [
      " 17%|█▋        | 32/187 [04:42<20:54,  8.09s/it]\n",
      "Finding clones based on VDJ chains : 100%|██████████| 138/138 [00:00<00:00, 3552.05it/s]\n",
      "\n",
      "Refining clone assignment based on VJ chain pairing : 100%|██████████| 598/598 [00:00<00:00, 417614.68it/s]\n"
     ]
    },
    {
     "name": "stdout",
     "output_type": "stream",
     "text": [
      "Computing Gini indices for cluster and vertex size using network.\n"
     ]
    },
    {
     "name": "stderr",
     "output_type": "stream",
     "text": [
      " 18%|█▊        | 33/187 [04:58<27:27, 10.70s/it]\n",
      "Finding clones based on VDJ chains : 100%|██████████| 116/116 [00:00<00:00, 4660.74it/s]\n",
      "\n",
      "Refining clone assignment based on VJ chain pairing : 100%|██████████| 335/335 [00:00<00:00, 436228.45it/s]\n"
     ]
    },
    {
     "name": "stdout",
     "output_type": "stream",
     "text": [
      "Computing Gini indices for cluster and vertex size using network.\n"
     ]
    },
    {
     "name": "stderr",
     "output_type": "stream",
     "text": [
      " 18%|█▊        | 34/187 [05:07<26:05, 10.23s/it]\n",
      "Finding clones based on VDJ chains : 100%|██████████| 88/88 [00:00<00:00, 4380.79it/s]\n",
      "\n",
      "Refining clone assignment based on VJ chain pairing : 100%|██████████| 148/148 [00:00<00:00, 364080.35it/s]\n"
     ]
    },
    {
     "name": "stdout",
     "output_type": "stream",
     "text": [
      "Computing Gini indices for cluster and vertex size using network.\n"
     ]
    },
    {
     "name": "stderr",
     "output_type": "stream",
     "text": [
      " 19%|█▊        | 35/187 [05:14<23:22,  9.23s/it]\n",
      "Finding clones based on VDJ chains : 100%|██████████| 51/51 [00:00<00:00, 4768.06it/s]\n",
      "\n",
      "Refining clone assignment based on VJ chain pairing : 100%|██████████| 102/102 [00:00<00:00, 311821.43it/s]\n"
     ]
    },
    {
     "name": "stdout",
     "output_type": "stream",
     "text": [
      "Computing Gini indices for cluster and vertex size using network.\n"
     ]
    },
    {
     "name": "stderr",
     "output_type": "stream",
     "text": [
      " 19%|█▉        | 36/187 [05:20<20:46,  8.26s/it]\n",
      "Finding clones based on VDJ chains : 100%|██████████| 142/142 [00:00<00:00, 4183.49it/s]\n",
      "\n",
      "Refining clone assignment based on VJ chain pairing : 100%|██████████| 432/432 [00:00<00:00, 427444.99it/s]\n"
     ]
    },
    {
     "name": "stdout",
     "output_type": "stream",
     "text": [
      "Computing Gini indices for cluster and vertex size using network.\n"
     ]
    },
    {
     "name": "stderr",
     "output_type": "stream",
     "text": [
      " 20%|█▉        | 37/187 [05:32<23:20,  9.34s/it]\n",
      "Finding clones based on VDJ chains : 100%|██████████| 16/16 [00:00<00:00, 8828.95it/s]\n",
      "\n",
      "Refining clone assignment based on VJ chain pairing : 100%|██████████| 20/20 [00:00<00:00, 160701.30it/s]\n",
      "/nfs/users/nfs_k/kt16/miniconda2/envs/dandelion/lib/python3.8/site-packages/dandelion/tools/_diversity.py:464: UserWarning: The minimum cell numbers when grouped by sample_id is 20 (group C108_150121). Exercise caution when interpreting diversity measures.\n"
     ]
    },
    {
     "name": "stdout",
     "output_type": "stream",
     "text": [
      "Computing Gini indices for cluster and vertex size using network.\n"
     ]
    },
    {
     "name": "stderr",
     "output_type": "stream",
     "text": [
      " 20%|██        | 38/187 [05:37<19:55,  8.03s/it]\n",
      "Finding clones based on VDJ chains : 100%|██████████| 64/64 [00:00<00:00, 6883.84it/s]\n",
      "\n",
      "Refining clone assignment based on VJ chain pairing : 100%|██████████| 95/95 [00:00<00:00, 332603.41it/s]\n",
      "/nfs/users/nfs_k/kt16/miniconda2/envs/dandelion/lib/python3.8/site-packages/dandelion/tools/_diversity.py:464: UserWarning: The minimum cell numbers when grouped by sample_id is 95 (group C23_1504). Exercise caution when interpreting diversity measures.\n"
     ]
    },
    {
     "name": "stdout",
     "output_type": "stream",
     "text": [
      "Computing Gini indices for cluster and vertex size using network.\n"
     ]
    },
    {
     "name": "stderr",
     "output_type": "stream",
     "text": [
      " 21%|██        | 39/187 [05:44<18:50,  7.64s/it]\n",
      "Finding clones based on VDJ chains : 100%|██████████| 110/110 [00:00<00:00, 3963.83it/s]\n",
      "\n",
      "Refining clone assignment based on VJ chain pairing : 100%|██████████| 302/302 [00:00<00:00, 335900.24it/s]\n"
     ]
    },
    {
     "name": "stdout",
     "output_type": "stream",
     "text": [
      "Computing Gini indices for cluster and vertex size using network.\n"
     ]
    },
    {
     "name": "stderr",
     "output_type": "stream",
     "text": [
      " 21%|██▏       | 40/187 [05:54<20:37,  8.42s/it]\n",
      "Finding clones based on VDJ chains : 100%|██████████| 69/69 [00:00<00:00, 4300.57it/s]\n",
      "\n",
      "Refining clone assignment based on VJ chain pairing : 100%|██████████| 118/118 [00:00<00:00, 267673.27it/s]\n"
     ]
    },
    {
     "name": "stdout",
     "output_type": "stream",
     "text": [
      "Computing Gini indices for cluster and vertex size using network.\n"
     ]
    },
    {
     "name": "stderr",
     "output_type": "stream",
     "text": [
      " 22%|██▏       | 41/187 [06:00<18:48,  7.73s/it]\n",
      "Finding clones based on VDJ chains : 100%|██████████| 40/40 [00:00<00:00, 4514.13it/s]\n",
      "\n",
      "Refining clone assignment based on VJ chain pairing : 100%|██████████| 75/75 [00:00<00:00, 278136.87it/s]\n",
      "/nfs/users/nfs_k/kt16/miniconda2/envs/dandelion/lib/python3.8/site-packages/dandelion/tools/_diversity.py:464: UserWarning: The minimum cell numbers when grouped by sample_id is 75 (group C196_2605). Exercise caution when interpreting diversity measures.\n"
     ]
    },
    {
     "name": "stdout",
     "output_type": "stream",
     "text": [
      "Computing Gini indices for cluster and vertex size using network.\n"
     ]
    },
    {
     "name": "stderr",
     "output_type": "stream",
     "text": [
      " 22%|██▏       | 42/187 [06:06<17:10,  7.11s/it]\n",
      "Finding clones based on VDJ chains : 100%|██████████| 8/8 [00:00<00:00, 6142.13it/s]\n",
      "\n",
      "Refining clone assignment based on VJ chain pairing : 100%|██████████| 8/8 [00:00<00:00, 90443.21it/s]\n",
      "/nfs/users/nfs_k/kt16/miniconda2/envs/dandelion/lib/python3.8/site-packages/dandelion/tools/_diversity.py:464: UserWarning: The minimum cell numbers when grouped by sample_id is 8 (group C246_2905). Exercise caution when interpreting diversity measures.\n"
     ]
    },
    {
     "name": "stdout",
     "output_type": "stream",
     "text": [
      "Computing Gini indices for cluster and vertex size using network.\n"
     ]
    },
    {
     "name": "stderr",
     "output_type": "stream",
     "text": [
      " 23%|██▎       | 43/187 [06:11<15:25,  6.43s/it]\n",
      "Finding clones based on VDJ chains : 100%|██████████| 16/16 [00:00<00:00, 7560.71it/s]\n",
      "\n",
      "Refining clone assignment based on VJ chain pairing : 100%|██████████| 19/19 [00:00<00:00, 119837.26it/s]\n",
      "/nfs/users/nfs_k/kt16/miniconda2/envs/dandelion/lib/python3.8/site-packages/dandelion/tools/_diversity.py:464: UserWarning: The minimum cell numbers when grouped by sample_id is 19 (group C170_280121). Exercise caution when interpreting diversity measures.\n"
     ]
    },
    {
     "name": "stdout",
     "output_type": "stream",
     "text": [
      "Computing Gini indices for cluster and vertex size using network.\n"
     ]
    },
    {
     "name": "stderr",
     "output_type": "stream",
     "text": [
      " 24%|██▎       | 44/187 [06:16<14:13,  5.97s/it]\n",
      "Finding clones based on VDJ chains : 100%|██████████| 129/129 [00:00<00:00, 4397.90it/s]\n",
      "\n",
      "Refining clone assignment based on VJ chain pairing : 100%|██████████| 399/399 [00:00<00:00, 398838.73it/s]\n"
     ]
    },
    {
     "name": "stdout",
     "output_type": "stream",
     "text": [
      "Computing Gini indices for cluster and vertex size using network.\n"
     ]
    },
    {
     "name": "stderr",
     "output_type": "stream",
     "text": [
      " 24%|██▍       | 45/187 [06:27<17:54,  7.56s/it]\n",
      "Finding clones based on VDJ chains : 100%|██████████| 122/122 [00:00<00:00, 1867.25it/s]\n",
      "\n",
      "Refining clone assignment based on VJ chain pairing : 100%|██████████| 380/380 [00:00<00:00, 404732.23it/s]\n"
     ]
    },
    {
     "name": "stdout",
     "output_type": "stream",
     "text": [
      "Computing Gini indices for cluster and vertex size using network.\n"
     ]
    },
    {
     "name": "stderr",
     "output_type": "stream",
     "text": [
      " 25%|██▍       | 46/187 [06:37<19:52,  8.45s/it]\n",
      "Finding clones based on VDJ chains : 100%|██████████| 63/63 [00:00<00:00, 5594.89it/s]\n",
      "\n",
      "Refining clone assignment based on VJ chain pairing : 100%|██████████| 127/127 [00:00<00:00, 378052.95it/s]\n"
     ]
    },
    {
     "name": "stdout",
     "output_type": "stream",
     "text": [
      "Computing Gini indices for cluster and vertex size using network.\n"
     ]
    },
    {
     "name": "stderr",
     "output_type": "stream",
     "text": [
      " 25%|██▌       | 47/187 [06:44<18:12,  7.80s/it]\n",
      "Finding clones based on VDJ chains : 100%|██████████| 117/117 [00:00<00:00, 3504.01it/s]\n",
      "\n",
      "Refining clone assignment based on VJ chain pairing : 100%|██████████| 304/304 [00:00<00:00, 358568.17it/s]\n"
     ]
    },
    {
     "name": "stdout",
     "output_type": "stream",
     "text": [
      "Computing Gini indices for cluster and vertex size using network.\n"
     ]
    },
    {
     "name": "stderr",
     "output_type": "stream",
     "text": [
      " 26%|██▌       | 48/187 [06:53<19:13,  8.30s/it]\n",
      "Finding clones based on VDJ chains : 100%|██████████| 88/88 [00:00<00:00, 3745.83it/s]\n",
      "\n",
      "Refining clone assignment based on VJ chain pairing : 100%|██████████| 297/297 [00:00<00:00, 425011.36it/s]\n"
     ]
    },
    {
     "name": "stdout",
     "output_type": "stream",
     "text": [
      "Computing Gini indices for cluster and vertex size using network.\n"
     ]
    },
    {
     "name": "stderr",
     "output_type": "stream",
     "text": [
      " 26%|██▌       | 49/187 [07:02<19:44,  8.58s/it]\n",
      "Finding clones based on VDJ chains : 100%|██████████| 58/58 [00:00<00:00, 4354.68it/s]\n",
      "\n",
      "Refining clone assignment based on VJ chain pairing : 100%|██████████| 94/94 [00:00<00:00, 301425.52it/s]\n",
      "/nfs/users/nfs_k/kt16/miniconda2/envs/dandelion/lib/python3.8/site-packages/dandelion/tools/_diversity.py:464: UserWarning: The minimum cell numbers when grouped by sample_id is 94 (group C141_260121). Exercise caution when interpreting diversity measures.\n"
     ]
    },
    {
     "name": "stdout",
     "output_type": "stream",
     "text": [
      "Computing Gini indices for cluster and vertex size using network.\n"
     ]
    },
    {
     "name": "stderr",
     "output_type": "stream",
     "text": [
      " 27%|██▋       | 50/187 [07:09<17:53,  7.84s/it]\n",
      "Finding clones based on VDJ chains : 100%|██████████| 6/6 [00:00<00:00, 6859.04it/s]\n",
      "\n",
      "Refining clone assignment based on VJ chain pairing : 100%|██████████| 8/8 [00:00<00:00, 92182.51it/s]\n",
      "/nfs/users/nfs_k/kt16/miniconda2/envs/dandelion/lib/python3.8/site-packages/dandelion/tools/_diversity.py:464: UserWarning: The minimum cell numbers when grouped by sample_id is 8 (group C58_270121). Exercise caution when interpreting diversity measures.\n"
     ]
    },
    {
     "name": "stdout",
     "output_type": "stream",
     "text": [
      "Computing Gini indices for cluster and vertex size using network.\n"
     ]
    },
    {
     "name": "stderr",
     "output_type": "stream",
     "text": [
      " 27%|██▋       | 51/187 [07:13<15:35,  6.88s/it]\n",
      "Finding clones based on VDJ chains : 100%|██████████| 41/41 [00:00<00:00, 5930.29it/s]\n",
      "\n",
      "Refining clone assignment based on VJ chain pairing : 100%|██████████| 57/57 [00:00<00:00, 290139.96it/s]\n",
      "/nfs/users/nfs_k/kt16/miniconda2/envs/dandelion/lib/python3.8/site-packages/dandelion/tools/_diversity.py:464: UserWarning: The minimum cell numbers when grouped by sample_id is 57 (group C170_300121). Exercise caution when interpreting diversity measures.\n"
     ]
    },
    {
     "name": "stdout",
     "output_type": "stream",
     "text": [
      "Computing Gini indices for cluster and vertex size using network.\n"
     ]
    },
    {
     "name": "stderr",
     "output_type": "stream",
     "text": [
      " 28%|██▊       | 52/187 [07:19<14:26,  6.42s/it]\n",
      "Finding clones based on VDJ chains : 100%|██████████| 40/40 [00:00<00:00, 3431.48it/s]\n",
      "\n",
      "Refining clone assignment based on VJ chain pairing : 100%|██████████| 87/87 [00:00<00:00, 276652.35it/s]\n",
      "/nfs/users/nfs_k/kt16/miniconda2/envs/dandelion/lib/python3.8/site-packages/dandelion/tools/_diversity.py:464: UserWarning: The minimum cell numbers when grouped by sample_id is 87 (group C60_2104). Exercise caution when interpreting diversity measures.\n"
     ]
    },
    {
     "name": "stdout",
     "output_type": "stream",
     "text": [
      "Computing Gini indices for cluster and vertex size using network.\n"
     ]
    },
    {
     "name": "stderr",
     "output_type": "stream",
     "text": [
      " 28%|██▊       | 53/187 [07:25<14:04,  6.30s/it]\n",
      "Finding clones based on VDJ chains : 100%|██████████| 28/28 [00:00<00:00, 3669.21it/s]\n",
      "\n",
      "Refining clone assignment based on VJ chain pairing : 100%|██████████| 71/71 [00:00<00:00, 238618.26it/s]\n",
      "/nfs/users/nfs_k/kt16/miniconda2/envs/dandelion/lib/python3.8/site-packages/dandelion/tools/_diversity.py:464: UserWarning: The minimum cell numbers when grouped by sample_id is 71 (group C85_2004). Exercise caution when interpreting diversity measures.\n"
     ]
    },
    {
     "name": "stdout",
     "output_type": "stream",
     "text": [
      "Computing Gini indices for cluster and vertex size using network.\n"
     ]
    },
    {
     "name": "stderr",
     "output_type": "stream",
     "text": [
      " 29%|██▉       | 54/187 [07:30<13:27,  6.07s/it]\n",
      "Finding clones based on VDJ chains : 100%|██████████| 147/147 [00:00<00:00, 3528.38it/s]\n",
      "\n",
      "Refining clone assignment based on VJ chain pairing : 100%|██████████| 574/574 [00:00<00:00, 453737.37it/s]\n"
     ]
    },
    {
     "name": "stdout",
     "output_type": "stream",
     "text": [
      "Computing Gini indices for cluster and vertex size using network.\n"
     ]
    },
    {
     "name": "stderr",
     "output_type": "stream",
     "text": [
      " 29%|██▉       | 55/187 [07:46<19:34,  8.90s/it]\n",
      "Finding clones based on VDJ chains : 100%|██████████| 80/80 [00:00<00:00, 5096.44it/s]\n",
      "\n",
      "Refining clone assignment based on VJ chain pairing : 100%|██████████| 144/144 [00:00<00:00, 305657.78it/s]\n"
     ]
    },
    {
     "name": "stdout",
     "output_type": "stream",
     "text": [
      "Computing Gini indices for cluster and vertex size using network.\n"
     ]
    },
    {
     "name": "stderr",
     "output_type": "stream",
     "text": [
      " 30%|██▉       | 56/187 [07:52<17:57,  8.23s/it]\n",
      "Finding clones based on VDJ chains : 100%|██████████| 106/106 [00:00<00:00, 2359.16it/s]\n",
      "\n",
      "Refining clone assignment based on VJ chain pairing : 100%|██████████| 461/461 [00:00<00:00, 353616.34it/s]\n"
     ]
    },
    {
     "name": "stdout",
     "output_type": "stream",
     "text": [
      "Computing Gini indices for cluster and vertex size using network.\n"
     ]
    },
    {
     "name": "stderr",
     "output_type": "stream",
     "text": [
      " 30%|███       | 57/187 [08:04<20:24,  9.42s/it]\n",
      "Finding clones based on VDJ chains : 100%|██████████| 81/81 [00:00<00:00, 5466.61it/s]\n",
      "\n",
      "Refining clone assignment based on VJ chain pairing : 100%|██████████| 185/185 [00:00<00:00, 379065.09it/s]\n"
     ]
    },
    {
     "name": "stdout",
     "output_type": "stream",
     "text": [
      "Computing Gini indices for cluster and vertex size using network.\n"
     ]
    },
    {
     "name": "stderr",
     "output_type": "stream",
     "text": [
      " 31%|███       | 58/187 [08:13<19:35,  9.11s/it]\n",
      "Finding clones based on VDJ chains : 100%|██████████| 126/126 [00:00<00:00, 3185.39it/s]\n",
      "\n",
      "Refining clone assignment based on VJ chain pairing : 100%|██████████| 375/375 [00:00<00:00, 336297.63it/s]\n"
     ]
    },
    {
     "name": "stdout",
     "output_type": "stream",
     "text": [
      "Computing Gini indices for cluster and vertex size using network.\n"
     ]
    },
    {
     "name": "stderr",
     "output_type": "stream",
     "text": [
      " 32%|███▏      | 59/187 [08:24<20:29,  9.60s/it]\n",
      "Finding clones based on VDJ chains : 100%|██████████| 54/54 [00:00<00:00, 5629.66it/s]\n",
      "\n",
      "Refining clone assignment based on VJ chain pairing : 100%|██████████| 92/92 [00:00<00:00, 326460.21it/s]\n",
      "/nfs/users/nfs_k/kt16/miniconda2/envs/dandelion/lib/python3.8/site-packages/dandelion/tools/_diversity.py:464: UserWarning: The minimum cell numbers when grouped by sample_id is 92 (group C146_160121). Exercise caution when interpreting diversity measures.\n"
     ]
    },
    {
     "name": "stdout",
     "output_type": "stream",
     "text": [
      "Computing Gini indices for cluster and vertex size using network.\n"
     ]
    },
    {
     "name": "stderr",
     "output_type": "stream",
     "text": [
      " 32%|███▏      | 60/187 [08:29<17:53,  8.45s/it]\n",
      "Finding clones based on VDJ chains : 100%|██████████| 43/43 [00:00<00:00, 4199.48it/s]\n",
      "\n",
      "Refining clone assignment based on VJ chain pairing : 100%|██████████| 63/63 [00:00<00:00, 267450.56it/s]\n",
      "/nfs/users/nfs_k/kt16/miniconda2/envs/dandelion/lib/python3.8/site-packages/dandelion/tools/_diversity.py:464: UserWarning: The minimum cell numbers when grouped by sample_id is 63 (group C170_260121). Exercise caution when interpreting diversity measures.\n"
     ]
    },
    {
     "name": "stdout",
     "output_type": "stream",
     "text": [
      "Computing Gini indices for cluster and vertex size using network.\n"
     ]
    },
    {
     "name": "stderr",
     "output_type": "stream",
     "text": [
      " 33%|███▎      | 61/187 [08:35<15:58,  7.61s/it]\n",
      "Finding clones based on VDJ chains : 100%|██████████| 23/23 [00:00<00:00, 7619.98it/s]\n",
      "\n",
      "Refining clone assignment based on VJ chain pairing : 100%|██████████| 36/36 [00:00<00:00, 171780.37it/s]\n",
      "/nfs/users/nfs_k/kt16/miniconda2/envs/dandelion/lib/python3.8/site-packages/dandelion/tools/_diversity.py:464: UserWarning: The minimum cell numbers when grouped by sample_id is 36 (group C170_040221). Exercise caution when interpreting diversity measures.\n"
     ]
    },
    {
     "name": "stdout",
     "output_type": "stream",
     "text": [
      "Computing Gini indices for cluster and vertex size using network.\n"
     ]
    },
    {
     "name": "stderr",
     "output_type": "stream",
     "text": [
      " 33%|███▎      | 62/187 [08:40<14:15,  6.85s/it]\n",
      "Finding clones based on VDJ chains : 100%|██████████| 34/34 [00:00<00:00, 5061.09it/s]\n",
      "\n",
      "Refining clone assignment based on VJ chain pairing : 100%|██████████| 62/62 [00:00<00:00, 319467.87it/s]\n",
      "/nfs/users/nfs_k/kt16/miniconda2/envs/dandelion/lib/python3.8/site-packages/dandelion/tools/_diversity.py:464: UserWarning: The minimum cell numbers when grouped by sample_id is 62 (group C164_1105). Exercise caution when interpreting diversity measures.\n"
     ]
    },
    {
     "name": "stdout",
     "output_type": "stream",
     "text": [
      "Computing Gini indices for cluster and vertex size using network.\n"
     ]
    },
    {
     "name": "stderr",
     "output_type": "stream",
     "text": [
      " 34%|███▎      | 63/187 [08:45<13:09,  6.37s/it]\n",
      "Finding clones based on VDJ chains : 100%|██████████| 47/47 [00:00<00:00, 4431.33it/s]\n",
      "\n",
      "Refining clone assignment based on VJ chain pairing : 100%|██████████| 79/79 [00:00<00:00, 224796.48it/s]\n",
      "/nfs/users/nfs_k/kt16/miniconda2/envs/dandelion/lib/python3.8/site-packages/dandelion/tools/_diversity.py:464: UserWarning: The minimum cell numbers when grouped by sample_id is 79 (group C58_100321). Exercise caution when interpreting diversity measures.\n"
     ]
    },
    {
     "name": "stdout",
     "output_type": "stream",
     "text": [
      "Computing Gini indices for cluster and vertex size using network.\n"
     ]
    },
    {
     "name": "stderr",
     "output_type": "stream",
     "text": [
      " 34%|███▍      | 64/187 [08:51<12:41,  6.19s/it]\n",
      "Finding clones based on VDJ chains : 100%|██████████| 19/19 [00:00<00:00, 7872.35it/s]\n",
      "\n",
      "Refining clone assignment based on VJ chain pairing : 100%|██████████| 25/25 [00:00<00:00, 168581.35it/s]\n",
      "/nfs/users/nfs_k/kt16/miniconda2/envs/dandelion/lib/python3.8/site-packages/dandelion/tools/_diversity.py:464: UserWarning: The minimum cell numbers when grouped by sample_id is 25 (group C82_2004). Exercise caution when interpreting diversity measures.\n"
     ]
    },
    {
     "name": "stdout",
     "output_type": "stream",
     "text": [
      "Computing Gini indices for cluster and vertex size using network.\n"
     ]
    },
    {
     "name": "stderr",
     "output_type": "stream",
     "text": [
      " 35%|███▍      | 65/187 [08:56<11:53,  5.85s/it]\n",
      "Finding clones based on VDJ chains : 100%|██████████| 76/76 [00:00<00:00, 5234.53it/s]\n",
      "\n",
      "Refining clone assignment based on VJ chain pairing : 100%|██████████| 161/161 [00:00<00:00, 382163.52it/s]\n"
     ]
    },
    {
     "name": "stdout",
     "output_type": "stream",
     "text": [
      "Computing Gini indices for cluster and vertex size using network.\n"
     ]
    },
    {
     "name": "stderr",
     "output_type": "stream",
     "text": [
      " 35%|███▌      | 66/187 [09:03<12:16,  6.08s/it]\n",
      "Finding clones based on VDJ chains : 100%|██████████| 35/35 [00:00<00:00, 8393.40it/s]\n",
      "\n",
      "Refining clone assignment based on VJ chain pairing : 100%|██████████| 47/47 [00:00<00:00, 212656.19it/s]\n",
      "/nfs/users/nfs_k/kt16/miniconda2/envs/dandelion/lib/python3.8/site-packages/dandelion/tools/_diversity.py:464: UserWarning: The minimum cell numbers when grouped by sample_id is 47 (group C170_040321). Exercise caution when interpreting diversity measures.\n"
     ]
    },
    {
     "name": "stdout",
     "output_type": "stream",
     "text": [
      "Computing Gini indices for cluster and vertex size using network.\n"
     ]
    },
    {
     "name": "stderr",
     "output_type": "stream",
     "text": [
      " 36%|███▌      | 67/187 [09:08<11:42,  5.86s/it]\n",
      "Finding clones based on VDJ chains : 100%|██████████| 63/63 [00:00<00:00, 3444.32it/s]\n",
      "\n",
      "Refining clone assignment based on VJ chain pairing : 100%|██████████| 196/196 [00:00<00:00, 347751.09it/s]\n"
     ]
    },
    {
     "name": "stdout",
     "output_type": "stream",
     "text": [
      "Computing Gini indices for cluster and vertex size using network.\n"
     ]
    },
    {
     "name": "stderr",
     "output_type": "stream",
     "text": [
      " 36%|███▋      | 68/187 [09:16<12:31,  6.32s/it]\n",
      "Finding clones based on VDJ chains : 100%|██████████| 62/62 [00:00<00:00, 5154.75it/s]\n",
      "\n",
      "Refining clone assignment based on VJ chain pairing : 100%|██████████| 153/153 [00:00<00:00, 381981.26it/s]\n"
     ]
    },
    {
     "name": "stdout",
     "output_type": "stream",
     "text": [
      "Computing Gini indices for cluster and vertex size using network.\n"
     ]
    },
    {
     "name": "stderr",
     "output_type": "stream",
     "text": [
      " 37%|███▋      | 69/187 [09:22<12:31,  6.37s/it]\n",
      "Finding clones based on VDJ chains : 100%|██████████| 37/37 [00:00<00:00, 5306.34it/s]\n",
      "\n",
      "Refining clone assignment based on VJ chain pairing : 100%|██████████| 54/54 [00:00<00:00, 276547.52it/s]\n",
      "/nfs/users/nfs_k/kt16/miniconda2/envs/dandelion/lib/python3.8/site-packages/dandelion/tools/_diversity.py:464: UserWarning: The minimum cell numbers when grouped by sample_id is 54 (group C137_280121). Exercise caution when interpreting diversity measures.\n"
     ]
    },
    {
     "name": "stdout",
     "output_type": "stream",
     "text": [
      "Computing Gini indices for cluster and vertex size using network.\n"
     ]
    },
    {
     "name": "stderr",
     "output_type": "stream",
     "text": [
      " 37%|███▋      | 70/187 [09:28<11:55,  6.12s/it]\n",
      "Finding clones based on VDJ chains : 100%|██████████| 134/134 [00:00<00:00, 3327.51it/s]\n",
      "\n",
      "Refining clone assignment based on VJ chain pairing : 100%|██████████| 469/469 [00:00<00:00, 322585.86it/s]\n"
     ]
    },
    {
     "name": "stdout",
     "output_type": "stream",
     "text": [
      "Computing Gini indices for cluster and vertex size using network.\n"
     ]
    },
    {
     "name": "stderr",
     "output_type": "stream",
     "text": [
      " 38%|███▊      | 71/187 [09:40<15:22,  7.95s/it]\n",
      "Finding clones based on VDJ chains : 100%|██████████| 106/106 [00:00<00:00, 3596.13it/s]\n",
      "\n",
      "Refining clone assignment based on VJ chain pairing : 100%|██████████| 301/301 [00:00<00:00, 164793.83it/s]\n"
     ]
    },
    {
     "name": "stdout",
     "output_type": "stream",
     "text": [
      "Computing Gini indices for cluster and vertex size using network.\n"
     ]
    },
    {
     "name": "stderr",
     "output_type": "stream",
     "text": [
      " 39%|███▊      | 72/187 [09:49<16:13,  8.47s/it]\n",
      "Finding clones based on VDJ chains : 100%|██████████| 91/91 [00:00<00:00, 4222.19it/s]\n",
      "\n",
      "Refining clone assignment based on VJ chain pairing : 100%|██████████| 202/202 [00:00<00:00, 400212.29it/s]\n"
     ]
    },
    {
     "name": "stdout",
     "output_type": "stream",
     "text": [
      "Computing Gini indices for cluster and vertex size using network.\n"
     ]
    },
    {
     "name": "stderr",
     "output_type": "stream",
     "text": [
      " 39%|███▉      | 73/187 [09:57<15:23,  8.10s/it]\n",
      "Finding clones based on VDJ chains : 100%|██████████| 3/3 [00:00<00:00, 6546.78it/s]\n",
      "\n",
      "Refining clone assignment based on VJ chain pairing : 100%|██████████| 3/3 [00:00<00:00, 51569.31it/s]\n",
      "/nfs/users/nfs_k/kt16/miniconda2/envs/dandelion/lib/python3.8/site-packages/dandelion/tools/_diversity.py:464: UserWarning: The minimum cell numbers when grouped by sample_id is 3 (group C108_220420). Exercise caution when interpreting diversity measures.\n"
     ]
    },
    {
     "name": "stdout",
     "output_type": "stream",
     "text": [
      "Computing Gini indices for cluster and vertex size using network.\n"
     ]
    },
    {
     "name": "stderr",
     "output_type": "stream",
     "text": [
      " 40%|███▉      | 74/187 [10:01<13:16,  7.05s/it]\n",
      "Finding clones based on VDJ chains : 100%|██████████| 11/11 [00:00<00:00, 6314.13it/s]\n",
      "\n",
      "Refining clone assignment based on VJ chain pairing : 100%|██████████| 13/13 [00:00<00:00, 126510.33it/s]\n",
      "/nfs/users/nfs_k/kt16/miniconda2/envs/dandelion/lib/python3.8/site-packages/dandelion/tools/_diversity.py:464: UserWarning: The minimum cell numbers when grouped by sample_id is 13 (group C73_2004). Exercise caution when interpreting diversity measures.\n"
     ]
    },
    {
     "name": "stdout",
     "output_type": "stream",
     "text": [
      "Computing Gini indices for cluster and vertex size using network.\n"
     ]
    },
    {
     "name": "stderr",
     "output_type": "stream",
     "text": [
      " 40%|████      | 75/187 [10:06<11:58,  6.41s/it]\n",
      "Finding clones based on VDJ chains : 100%|██████████| 42/42 [00:00<00:00, 4829.76it/s]\n",
      "\n",
      "Refining clone assignment based on VJ chain pairing : 100%|██████████| 74/74 [00:00<00:00, 253577.20it/s]\n",
      "/nfs/users/nfs_k/kt16/miniconda2/envs/dandelion/lib/python3.8/site-packages/dandelion/tools/_diversity.py:464: UserWarning: The minimum cell numbers when grouped by sample_id is 74 (group C101_130121). Exercise caution when interpreting diversity measures.\n"
     ]
    },
    {
     "name": "stdout",
     "output_type": "stream",
     "text": [
      "Computing Gini indices for cluster and vertex size using network.\n"
     ]
    },
    {
     "name": "stderr",
     "output_type": "stream",
     "text": [
      " 41%|████      | 76/187 [10:12<11:23,  6.16s/it]\n",
      "Finding clones based on VDJ chains : 100%|██████████| 49/49 [00:00<00:00, 5346.54it/s]\n",
      "\n",
      "Refining clone assignment based on VJ chain pairing : 100%|██████████| 99/99 [00:00<00:00, 347768.92it/s]\n",
      "/nfs/users/nfs_k/kt16/miniconda2/envs/dandelion/lib/python3.8/site-packages/dandelion/tools/_diversity.py:464: UserWarning: The minimum cell numbers when grouped by sample_id is 99 (group C65_2504). Exercise caution when interpreting diversity measures.\n"
     ]
    },
    {
     "name": "stdout",
     "output_type": "stream",
     "text": [
      "Computing Gini indices for cluster and vertex size using network.\n"
     ]
    },
    {
     "name": "stderr",
     "output_type": "stream",
     "text": [
      " 41%|████      | 77/187 [10:17<11:02,  6.02s/it]\n",
      "Finding clones based on VDJ chains : 100%|██████████| 97/97 [00:00<00:00, 2815.20it/s]\n",
      "\n",
      "Refining clone assignment based on VJ chain pairing : 100%|██████████| 353/353 [00:00<00:00, 305970.10it/s]\n"
     ]
    },
    {
     "name": "stdout",
     "output_type": "stream",
     "text": [
      "Computing Gini indices for cluster and vertex size using network.\n"
     ]
    },
    {
     "name": "stderr",
     "output_type": "stream",
     "text": [
      " 42%|████▏     | 78/187 [10:28<13:34,  7.47s/it]\n",
      "Finding clones based on VDJ chains : 100%|██████████| 107/107 [00:00<00:00, 3418.55it/s]\n",
      "\n",
      "Refining clone assignment based on VJ chain pairing : 100%|██████████| 377/377 [00:00<00:00, 291636.41it/s]\n"
     ]
    },
    {
     "name": "stdout",
     "output_type": "stream",
     "text": [
      "Computing Gini indices for cluster and vertex size using network.\n"
     ]
    },
    {
     "name": "stderr",
     "output_type": "stream",
     "text": [
      " 42%|████▏     | 79/187 [10:38<14:49,  8.24s/it]\n",
      "Finding clones based on VDJ chains : 100%|██████████| 162/162 [00:00<00:00, 2620.39it/s]\n",
      "\n",
      "Refining clone assignment based on VJ chain pairing : 100%|██████████| 821/821 [00:00<00:00, 411707.75it/s]\n"
     ]
    },
    {
     "name": "stdout",
     "output_type": "stream",
     "text": [
      "Computing Gini indices for cluster and vertex size using network.\n"
     ]
    },
    {
     "name": "stderr",
     "output_type": "stream",
     "text": [
      " 43%|████▎     | 80/187 [11:01<22:34, 12.66s/it]\n",
      "Finding clones based on VDJ chains : 100%|██████████| 145/145 [00:00<00:00, 2471.04it/s]\n",
      "\n",
      "Refining clone assignment based on VJ chain pairing : 100%|██████████| 522/522 [00:00<00:00, 369211.92it/s]\n"
     ]
    },
    {
     "name": "stdout",
     "output_type": "stream",
     "text": [
      "Computing Gini indices for cluster and vertex size using network.\n"
     ]
    },
    {
     "name": "stderr",
     "output_type": "stream",
     "text": [
      " 43%|████▎     | 81/187 [11:15<22:47, 12.91s/it]\n",
      "Finding clones based on VDJ chains : 100%|██████████| 16/16 [00:00<00:00, 2990.99it/s]\n",
      "\n",
      "Refining clone assignment based on VJ chain pairing : 100%|██████████| 42/42 [00:00<00:00, 246378.70it/s]\n",
      "/nfs/users/nfs_k/kt16/miniconda2/envs/dandelion/lib/python3.8/site-packages/dandelion/tools/_diversity.py:464: UserWarning: The minimum cell numbers when grouped by sample_id is 42 (group C152_0405). Exercise caution when interpreting diversity measures.\n"
     ]
    },
    {
     "name": "stdout",
     "output_type": "stream",
     "text": [
      "Computing Gini indices for cluster and vertex size using network.\n"
     ]
    },
    {
     "name": "stderr",
     "output_type": "stream",
     "text": [
      " 44%|████▍     | 82/187 [11:20<18:30, 10.57s/it]\n",
      "Finding clones based on VDJ chains : 100%|██████████| 21/21 [00:00<00:00, 6748.94it/s]\n",
      "\n",
      "Refining clone assignment based on VJ chain pairing : 100%|██████████| 24/24 [00:00<00:00, 165564.63it/s]\n",
      "/nfs/users/nfs_k/kt16/miniconda2/envs/dandelion/lib/python3.8/site-packages/dandelion/tools/_diversity.py:464: UserWarning: The minimum cell numbers when grouped by sample_id is 24 (group C34_2504). Exercise caution when interpreting diversity measures.\n"
     ]
    },
    {
     "name": "stdout",
     "output_type": "stream",
     "text": [
      "Computing Gini indices for cluster and vertex size using network.\n"
     ]
    },
    {
     "name": "stderr",
     "output_type": "stream",
     "text": [
      " 44%|████▍     | 83/187 [11:25<15:30,  8.95s/it]\n",
      "Finding clones based on VDJ chains : 100%|██████████| 88/88 [00:00<00:00, 3786.91it/s]\n",
      "\n",
      "Refining clone assignment based on VJ chain pairing : 100%|██████████| 200/200 [00:00<00:00, 281496.91it/s]\n"
     ]
    },
    {
     "name": "stdout",
     "output_type": "stream",
     "text": [
      "Computing Gini indices for cluster and vertex size using network.\n"
     ]
    },
    {
     "name": "stderr",
     "output_type": "stream",
     "text": [
      " 45%|████▍     | 84/187 [11:32<14:25,  8.40s/it]\n",
      "Finding clones based on VDJ chains : 100%|██████████| 15/15 [00:00<00:00, 9722.54it/s]\n",
      "\n",
      "Refining clone assignment based on VJ chain pairing : 100%|██████████| 18/18 [00:00<00:00, 196608.00it/s]\n",
      "/nfs/users/nfs_k/kt16/miniconda2/envs/dandelion/lib/python3.8/site-packages/dandelion/tools/_diversity.py:464: UserWarning: The minimum cell numbers when grouped by sample_id is 18 (group C101_110121). Exercise caution when interpreting diversity measures.\n"
     ]
    },
    {
     "name": "stdout",
     "output_type": "stream",
     "text": [
      "Computing Gini indices for cluster and vertex size using network.\n"
     ]
    },
    {
     "name": "stderr",
     "output_type": "stream",
     "text": [
      " 45%|████▌     | 85/187 [11:37<12:28,  7.34s/it]\n",
      "Finding clones based on VDJ chains : 100%|██████████| 17/17 [00:00<00:00, 7267.68it/s]\n",
      "\n",
      "Refining clone assignment based on VJ chain pairing : 100%|██████████| 21/21 [00:00<00:00, 171029.87it/s]\n",
      "/nfs/users/nfs_k/kt16/miniconda2/envs/dandelion/lib/python3.8/site-packages/dandelion/tools/_diversity.py:464: UserWarning: The minimum cell numbers when grouped by sample_id is 21 (group C138_280121). Exercise caution when interpreting diversity measures.\n"
     ]
    },
    {
     "name": "stdout",
     "output_type": "stream",
     "text": [
      "Computing Gini indices for cluster and vertex size using network.\n"
     ]
    },
    {
     "name": "stderr",
     "output_type": "stream",
     "text": [
      " 46%|████▌     | 86/187 [11:42<11:11,  6.65s/it]\n",
      "Finding clones based on VDJ chains : 100%|██████████| 94/94 [00:00<00:00, 4201.54it/s]\n",
      "\n",
      "Refining clone assignment based on VJ chain pairing : 100%|██████████| 198/198 [00:00<00:00, 352193.47it/s]\n"
     ]
    },
    {
     "name": "stdout",
     "output_type": "stream",
     "text": [
      "Computing Gini indices for cluster and vertex size using network.\n"
     ]
    },
    {
     "name": "stderr",
     "output_type": "stream",
     "text": [
      " 47%|████▋     | 87/187 [11:49<11:20,  6.80s/it]\n",
      "Finding clones based on VDJ chains : 100%|██████████| 74/74 [00:00<00:00, 5858.52it/s]\n",
      "\n",
      "Refining clone assignment based on VJ chain pairing : 100%|██████████| 159/159 [00:00<00:00, 405406.89it/s]\n"
     ]
    },
    {
     "name": "stdout",
     "output_type": "stream",
     "text": [
      "Computing Gini indices for cluster and vertex size using network.\n"
     ]
    },
    {
     "name": "stderr",
     "output_type": "stream",
     "text": [
      " 47%|████▋     | 88/187 [11:56<11:10,  6.78s/it]\n",
      "Finding clones based on VDJ chains : 100%|██████████| 91/91 [00:00<00:00, 3662.73it/s]\n",
      "\n",
      "Refining clone assignment based on VJ chain pairing : 100%|██████████| 190/190 [00:00<00:00, 354816.46it/s]\n"
     ]
    },
    {
     "name": "stdout",
     "output_type": "stream",
     "text": [
      "Computing Gini indices for cluster and vertex size using network.\n"
     ]
    },
    {
     "name": "stderr",
     "output_type": "stream",
     "text": [
      " 48%|████▊     | 89/187 [12:03<11:21,  6.95s/it]\n",
      "Finding clones based on VDJ chains : 100%|██████████| 112/112 [00:00<00:00, 4631.57it/s]\n",
      "\n",
      "Refining clone assignment based on VJ chain pairing : 100%|██████████| 249/249 [00:00<00:00, 336680.11it/s]\n"
     ]
    },
    {
     "name": "stdout",
     "output_type": "stream",
     "text": [
      "Computing Gini indices for cluster and vertex size using network.\n"
     ]
    },
    {
     "name": "stderr",
     "output_type": "stream",
     "text": [
      " 48%|████▊     | 90/187 [12:11<11:35,  7.17s/it]\n",
      "Finding clones based on VDJ chains : 100%|██████████| 71/71 [00:00<00:00, 5052.35it/s]\n",
      "\n",
      "Refining clone assignment based on VJ chain pairing : 100%|██████████| 129/129 [00:00<00:00, 304311.15it/s]\n"
     ]
    },
    {
     "name": "stdout",
     "output_type": "stream",
     "text": [
      "Computing Gini indices for cluster and vertex size using network.\n"
     ]
    },
    {
     "name": "stderr",
     "output_type": "stream",
     "text": [
      " 49%|████▊     | 91/187 [12:18<11:11,  7.00s/it]\n",
      "Finding clones based on VDJ chains : 100%|██████████| 32/32 [00:00<00:00, 5150.33it/s]\n",
      "\n",
      "Refining clone assignment based on VJ chain pairing : 100%|██████████| 41/41 [00:00<00:00, 179881.24it/s]\n",
      "/nfs/users/nfs_k/kt16/miniconda2/envs/dandelion/lib/python3.8/site-packages/dandelion/tools/_diversity.py:464: UserWarning: The minimum cell numbers when grouped by sample_id is 41 (group C138_230121). Exercise caution when interpreting diversity measures.\n"
     ]
    },
    {
     "name": "stdout",
     "output_type": "stream",
     "text": [
      "Computing Gini indices for cluster and vertex size using network.\n"
     ]
    },
    {
     "name": "stderr",
     "output_type": "stream",
     "text": [
      " 49%|████▉     | 92/187 [12:23<10:13,  6.46s/it]\n",
      "Finding clones based on VDJ chains : 100%|██████████| 11/11 [00:00<00:00, 7993.30it/s]\n",
      "\n",
      "Refining clone assignment based on VJ chain pairing : 100%|██████████| 18/18 [00:00<00:00, 179755.89it/s]\n",
      "/nfs/users/nfs_k/kt16/miniconda2/envs/dandelion/lib/python3.8/site-packages/dandelion/tools/_diversity.py:464: UserWarning: The minimum cell numbers when grouped by sample_id is 18 (group C58_010221). Exercise caution when interpreting diversity measures.\n"
     ]
    },
    {
     "name": "stdout",
     "output_type": "stream",
     "text": [
      "Computing Gini indices for cluster and vertex size using network.\n"
     ]
    },
    {
     "name": "stderr",
     "output_type": "stream",
     "text": [
      " 50%|████▉     | 93/187 [12:28<09:18,  5.94s/it]\n",
      "Finding clones based on VDJ chains : 100%|██████████| 71/71 [00:00<00:00, 4265.31it/s]\n",
      "\n",
      "Refining clone assignment based on VJ chain pairing : 100%|██████████| 164/164 [00:00<00:00, 303024.61it/s]\n"
     ]
    },
    {
     "name": "stdout",
     "output_type": "stream",
     "text": [
      "Computing Gini indices for cluster and vertex size using network.\n"
     ]
    },
    {
     "name": "stderr",
     "output_type": "stream",
     "text": [
      " 50%|█████     | 94/187 [12:34<09:38,  6.22s/it]\n",
      "Finding clones based on VDJ chains : 100%|██████████| 72/72 [00:00<00:00, 5702.66it/s]\n",
      "\n",
      "Refining clone assignment based on VJ chain pairing : 100%|██████████| 107/107 [00:00<00:00, 328784.27it/s]\n"
     ]
    },
    {
     "name": "stdout",
     "output_type": "stream",
     "text": [
      "Computing Gini indices for cluster and vertex size using network.\n"
     ]
    },
    {
     "name": "stderr",
     "output_type": "stream",
     "text": [
      " 51%|█████     | 95/187 [12:40<09:27,  6.17s/it]\n",
      "Finding clones based on VDJ chains : 100%|██████████| 14/14 [00:00<00:00, 8709.62it/s]\n",
      "\n",
      "Refining clone assignment based on VJ chain pairing : 100%|██████████| 18/18 [00:00<00:00, 162360.15it/s]\n",
      "/nfs/users/nfs_k/kt16/miniconda2/envs/dandelion/lib/python3.8/site-packages/dandelion/tools/_diversity.py:464: UserWarning: The minimum cell numbers when grouped by sample_id is 18 (group C101_250221). Exercise caution when interpreting diversity measures.\n"
     ]
    },
    {
     "name": "stdout",
     "output_type": "stream",
     "text": [
      "Computing Gini indices for cluster and vertex size using network.\n"
     ]
    },
    {
     "name": "stderr",
     "output_type": "stream",
     "text": [
      " 51%|█████▏    | 96/187 [12:45<08:41,  5.73s/it]\n",
      "Finding clones based on VDJ chains : 100%|██████████| 122/122 [00:00<00:00, 3289.10it/s]\n",
      "\n",
      "Refining clone assignment based on VJ chain pairing : 100%|██████████| 385/385 [00:00<00:00, 343356.80it/s]\n"
     ]
    },
    {
     "name": "stdout",
     "output_type": "stream",
     "text": [
      "Computing Gini indices for cluster and vertex size using network.\n"
     ]
    },
    {
     "name": "stderr",
     "output_type": "stream",
     "text": [
      " 52%|█████▏    | 97/187 [12:56<10:58,  7.32s/it]\n",
      "Finding clones based on VDJ chains : 100%|██████████| 27/27 [00:00<00:00, 6668.60it/s]\n",
      "\n",
      "Refining clone assignment based on VJ chain pairing : 100%|██████████| 36/36 [00:00<00:00, 223696.21it/s]\n",
      "/nfs/users/nfs_k/kt16/miniconda2/envs/dandelion/lib/python3.8/site-packages/dandelion/tools/_diversity.py:464: UserWarning: The minimum cell numbers when grouped by sample_id is 36 (group C73_2404). Exercise caution when interpreting diversity measures.\n"
     ]
    },
    {
     "name": "stdout",
     "output_type": "stream",
     "text": [
      "Computing Gini indices for cluster and vertex size using network.\n"
     ]
    },
    {
     "name": "stderr",
     "output_type": "stream",
     "text": [
      " 52%|█████▏    | 98/187 [13:01<09:49,  6.62s/it]\n",
      "Finding clones based on VDJ chains : 100%|██████████| 50/50 [00:00<00:00, 5805.10it/s]\n",
      "\n",
      "Refining clone assignment based on VJ chain pairing : 100%|██████████| 103/103 [00:00<00:00, 362427.28it/s]\n"
     ]
    },
    {
     "name": "stdout",
     "output_type": "stream",
     "text": [
      "Computing Gini indices for cluster and vertex size using network.\n"
     ]
    },
    {
     "name": "stderr",
     "output_type": "stream",
     "text": [
      " 53%|█████▎    | 99/187 [13:07<09:23,  6.41s/it]\n",
      "Finding clones based on VDJ chains : 100%|██████████| 34/34 [00:00<00:00, 4566.03it/s]\n",
      "\n",
      "Refining clone assignment based on VJ chain pairing : 100%|██████████| 43/43 [00:00<00:00, 224043.57it/s]\n",
      "/nfs/users/nfs_k/kt16/miniconda2/envs/dandelion/lib/python3.8/site-packages/dandelion/tools/_diversity.py:464: UserWarning: The minimum cell numbers when grouped by sample_id is 43 (group C108_180121). Exercise caution when interpreting diversity measures.\n"
     ]
    },
    {
     "name": "stdout",
     "output_type": "stream",
     "text": [
      "Computing Gini indices for cluster and vertex size using network.\n"
     ]
    },
    {
     "name": "stderr",
     "output_type": "stream",
     "text": [
      " 53%|█████▎    | 100/187 [13:12<08:47,  6.06s/it]\n",
      "Finding clones based on VDJ chains : 100%|██████████| 84/84 [00:00<00:00, 3988.06it/s]\n",
      "\n",
      "Refining clone assignment based on VJ chain pairing : 100%|██████████| 179/179 [00:00<00:00, 337126.37it/s]\n"
     ]
    },
    {
     "name": "stdout",
     "output_type": "stream",
     "text": [
      "Computing Gini indices for cluster and vertex size using network.\n"
     ]
    },
    {
     "name": "stderr",
     "output_type": "stream",
     "text": [
      " 54%|█████▍    | 101/187 [13:19<09:00,  6.29s/it]\n",
      "Finding clones based on VDJ chains : 100%|██████████| 62/62 [00:00<00:00, 6612.43it/s]\n",
      "\n",
      "Refining clone assignment based on VJ chain pairing : 100%|██████████| 93/93 [00:00<00:00, 356554.18it/s]\n",
      "/nfs/users/nfs_k/kt16/miniconda2/envs/dandelion/lib/python3.8/site-packages/dandelion/tools/_diversity.py:464: UserWarning: The minimum cell numbers when grouped by sample_id is 93 (group C187_250221). Exercise caution when interpreting diversity measures.\n"
     ]
    },
    {
     "name": "stdout",
     "output_type": "stream",
     "text": [
      "Computing Gini indices for cluster and vertex size using network.\n"
     ]
    },
    {
     "name": "stderr",
     "output_type": "stream",
     "text": [
      " 55%|█████▍    | 102/187 [13:25<08:39,  6.11s/it]\n",
      "Finding clones based on VDJ chains : 100%|██████████| 96/96 [00:00<00:00, 3555.56it/s]\n",
      "\n",
      "Refining clone assignment based on VJ chain pairing : 100%|██████████| 215/215 [00:00<00:00, 349525.33it/s]\n"
     ]
    },
    {
     "name": "stdout",
     "output_type": "stream",
     "text": [
      "Computing Gini indices for cluster and vertex size using network.\n"
     ]
    },
    {
     "name": "stderr",
     "output_type": "stream",
     "text": [
      " 55%|█████▌    | 103/187 [13:33<09:16,  6.62s/it]\n",
      "Finding clones based on VDJ chains : 100%|██████████| 64/64 [00:00<00:00, 5973.86it/s]\n",
      "\n",
      "Refining clone assignment based on VJ chain pairing : 100%|██████████| 92/92 [00:00<00:00, 246881.62it/s]\n",
      "/nfs/users/nfs_k/kt16/miniconda2/envs/dandelion/lib/python3.8/site-packages/dandelion/tools/_diversity.py:464: UserWarning: The minimum cell numbers when grouped by sample_id is 92 (group C187_140121). Exercise caution when interpreting diversity measures.\n"
     ]
    },
    {
     "name": "stdout",
     "output_type": "stream",
     "text": [
      "Computing Gini indices for cluster and vertex size using network.\n"
     ]
    },
    {
     "name": "stderr",
     "output_type": "stream",
     "text": [
      " 56%|█████▌    | 104/187 [13:38<08:40,  6.27s/it]\n",
      "Finding clones based on VDJ chains :   0%|          | 0/98 [00:00<?, ?it/s]\u001b[A\n",
      "Finding clones based on VDJ chains : 100%|██████████| 98/98 [00:01<00:00, 81.99it/s]\u001b[A\n",
      "\n",
      "Refining clone assignment based on VJ chain pairing : 100%|██████████| 251/251 [00:00<00:00, 365418.36it/s]\n"
     ]
    },
    {
     "name": "stdout",
     "output_type": "stream",
     "text": [
      "Computing Gini indices for cluster and vertex size using network.\n"
     ]
    },
    {
     "name": "stderr",
     "output_type": "stream",
     "text": [
      " 56%|█████▌    | 105/187 [13:48<10:09,  7.43s/it]\n",
      "Finding clones based on VDJ chains : 100%|██████████| 158/158 [00:00<00:00, 1935.74it/s]\n",
      "\n",
      "Refining clone assignment based on VJ chain pairing : 100%|██████████| 908/908 [00:00<00:00, 353516.02it/s]\n"
     ]
    },
    {
     "name": "stdout",
     "output_type": "stream",
     "text": [
      "Computing Gini indices for cluster and vertex size using network.\n"
     ]
    },
    {
     "name": "stderr",
     "output_type": "stream",
     "text": [
      " 57%|█████▋    | 106/187 [14:13<16:57, 12.56s/it]\n",
      "Finding clones based on VDJ chains : 100%|██████████| 75/75 [00:00<00:00, 3422.32it/s]\n",
      "\n",
      "Refining clone assignment based on VJ chain pairing : 100%|██████████| 214/214 [00:00<00:00, 406329.13it/s]\n"
     ]
    },
    {
     "name": "stdout",
     "output_type": "stream",
     "text": [
      "Computing Gini indices for cluster and vertex size using network.\n"
     ]
    },
    {
     "name": "stderr",
     "output_type": "stream",
     "text": [
      " 57%|█████▋    | 107/187 [14:20<14:34, 10.93s/it]\n",
      "Finding clones based on VDJ chains : 100%|██████████| 156/156 [00:00<00:00, 2056.65it/s]\n",
      "\n",
      "Refining clone assignment based on VJ chain pairing : 100%|██████████| 793/793 [00:00<00:00, 369154.61it/s]\n"
     ]
    },
    {
     "name": "stdout",
     "output_type": "stream",
     "text": [
      "Computing Gini indices for cluster and vertex size using network.\n"
     ]
    },
    {
     "name": "stderr",
     "output_type": "stream",
     "text": [
      " 58%|█████▊    | 108/187 [14:41<18:27, 14.02s/it]\n",
      "Finding clones based on VDJ chains : 100%|██████████| 55/55 [00:00<00:00, 6047.94it/s]\n",
      "\n",
      "Refining clone assignment based on VJ chain pairing : 100%|██████████| 99/99 [00:00<00:00, 350410.21it/s]\n",
      "/nfs/users/nfs_k/kt16/miniconda2/envs/dandelion/lib/python3.8/site-packages/dandelion/tools/_diversity.py:464: UserWarning: The minimum cell numbers when grouped by sample_id is 99 (group C251_2905). Exercise caution when interpreting diversity measures.\n"
     ]
    },
    {
     "name": "stdout",
     "output_type": "stream",
     "text": [
      "Computing Gini indices for cluster and vertex size using network.\n"
     ]
    },
    {
     "name": "stderr",
     "output_type": "stream",
     "text": [
      " 58%|█████▊    | 109/187 [14:47<15:04, 11.59s/it]\n",
      "Finding clones based on VDJ chains : 100%|██████████| 139/139 [00:00<00:00, 2259.83it/s]\n",
      "\n",
      "Refining clone assignment based on VJ chain pairing : 100%|██████████| 584/584 [00:00<00:00, 359371.12it/s]\n"
     ]
    },
    {
     "name": "stdout",
     "output_type": "stream",
     "text": [
      "Computing Gini indices for cluster and vertex size using network.\n"
     ]
    },
    {
     "name": "stderr",
     "output_type": "stream",
     "text": [
      " 59%|█████▉    | 110/187 [15:02<16:03, 12.51s/it]\n",
      "Finding clones based on VDJ chains : 100%|██████████| 56/56 [00:00<00:00, 5590.14it/s]\n",
      "\n",
      "Refining clone assignment based on VJ chain pairing : 100%|██████████| 89/89 [00:00<00:00, 312640.75it/s]\n",
      "/nfs/users/nfs_k/kt16/miniconda2/envs/dandelion/lib/python3.8/site-packages/dandelion/tools/_diversity.py:464: UserWarning: The minimum cell numbers when grouped by sample_id is 89 (group C169_200121). Exercise caution when interpreting diversity measures.\n"
     ]
    },
    {
     "name": "stdout",
     "output_type": "stream",
     "text": [
      "Computing Gini indices for cluster and vertex size using network.\n"
     ]
    },
    {
     "name": "stderr",
     "output_type": "stream",
     "text": [
      " 59%|█████▉    | 111/187 [15:08<13:19, 10.52s/it]\n",
      "Finding clones based on VDJ chains : 100%|██████████| 95/95 [00:00<00:00, 3603.65it/s]\n",
      "\n",
      "Refining clone assignment based on VJ chain pairing : 100%|██████████| 234/234 [00:00<00:00, 326068.82it/s]\n"
     ]
    },
    {
     "name": "stdout",
     "output_type": "stream",
     "text": [
      "Computing Gini indices for cluster and vertex size using network.\n"
     ]
    },
    {
     "name": "stderr",
     "output_type": "stream",
     "text": [
      " 60%|█████▉    | 112/187 [15:16<12:16,  9.81s/it]\n",
      "Finding clones based on VDJ chains : 100%|██████████| 103/103 [00:00<00:00, 4808.00it/s]\n",
      "\n",
      "Refining clone assignment based on VJ chain pairing : 100%|██████████| 270/270 [00:00<00:00, 446202.55it/s]\n"
     ]
    },
    {
     "name": "stdout",
     "output_type": "stream",
     "text": [
      "Computing Gini indices for cluster and vertex size using network.\n"
     ]
    },
    {
     "name": "stderr",
     "output_type": "stream",
     "text": [
      " 60%|██████    | 113/187 [15:24<11:29,  9.32s/it]\n",
      "Finding clones based on VDJ chains : 100%|██████████| 8/8 [00:00<00:00, 6418.22it/s]\n",
      "\n",
      "Refining clone assignment based on VJ chain pairing : 100%|██████████| 8/8 [00:00<00:00, 89478.49it/s]\n",
      "/nfs/users/nfs_k/kt16/miniconda2/envs/dandelion/lib/python3.8/site-packages/dandelion/tools/_diversity.py:464: UserWarning: The minimum cell numbers when grouped by sample_id is 8 (group C187_260121). Exercise caution when interpreting diversity measures.\n"
     ]
    },
    {
     "name": "stdout",
     "output_type": "stream",
     "text": [
      "Computing Gini indices for cluster and vertex size using network.\n"
     ]
    },
    {
     "name": "stderr",
     "output_type": "stream",
     "text": [
      " 61%|██████    | 114/187 [15:29<09:41,  7.97s/it]\n",
      "Finding clones based on VDJ chains : 100%|██████████| 102/102 [00:00<00:00, 4309.91it/s]\n",
      "\n",
      "Refining clone assignment based on VJ chain pairing : 100%|██████████| 220/220 [00:00<00:00, 310793.83it/s]\n"
     ]
    },
    {
     "name": "stdout",
     "output_type": "stream",
     "text": [
      "Computing Gini indices for cluster and vertex size using network.\n"
     ]
    },
    {
     "name": "stderr",
     "output_type": "stream",
     "text": [
      " 61%|██████▏   | 115/187 [15:36<09:20,  7.78s/it]\n",
      "Finding clones based on VDJ chains : 100%|██████████| 99/99 [00:00<00:00, 5025.55it/s]\n",
      "\n",
      "Refining clone assignment based on VJ chain pairing : 100%|██████████| 247/247 [00:00<00:00, 422509.42it/s]\n"
     ]
    },
    {
     "name": "stdout",
     "output_type": "stream",
     "text": [
      "Computing Gini indices for cluster and vertex size using network.\n"
     ]
    },
    {
     "name": "stderr",
     "output_type": "stream",
     "text": [
      " 62%|██████▏   | 116/187 [15:46<09:51,  8.33s/it]\n",
      "Finding clones based on VDJ chains : 100%|██████████| 89/89 [00:00<00:00, 4281.23it/s]\n",
      "\n",
      "Refining clone assignment based on VJ chain pairing : 100%|██████████| 182/182 [00:00<00:00, 337472.74it/s]\n"
     ]
    },
    {
     "name": "stdout",
     "output_type": "stream",
     "text": [
      "Computing Gini indices for cluster and vertex size using network.\n"
     ]
    },
    {
     "name": "stderr",
     "output_type": "stream",
     "text": [
      " 63%|██████▎   | 117/187 [15:53<09:13,  7.91s/it]\n",
      "Finding clones based on VDJ chains : 100%|██████████| 105/105 [00:00<00:00, 4335.09it/s]\n",
      "\n",
      "Refining clone assignment based on VJ chain pairing : 100%|██████████| 266/266 [00:00<00:00, 369676.89it/s]\n"
     ]
    },
    {
     "name": "stdout",
     "output_type": "stream",
     "text": [
      "Computing Gini indices for cluster and vertex size using network.\n"
     ]
    },
    {
     "name": "stderr",
     "output_type": "stream",
     "text": [
      " 63%|██████▎   | 118/187 [16:01<09:16,  8.07s/it]\n",
      "Finding clones based on VDJ chains : 100%|██████████| 58/58 [00:00<00:00, 4611.31it/s]\n",
      "\n",
      "Refining clone assignment based on VJ chain pairing : 100%|██████████| 98/98 [00:00<00:00, 307896.47it/s]\n",
      "/nfs/users/nfs_k/kt16/miniconda2/envs/dandelion/lib/python3.8/site-packages/dandelion/tools/_diversity.py:464: UserWarning: The minimum cell numbers when grouped by sample_id is 98 (group C168_120520). Exercise caution when interpreting diversity measures.\n"
     ]
    },
    {
     "name": "stdout",
     "output_type": "stream",
     "text": [
      "Computing Gini indices for cluster and vertex size using network.\n"
     ]
    },
    {
     "name": "stderr",
     "output_type": "stream",
     "text": [
      " 64%|██████▎   | 119/187 [16:07<08:23,  7.40s/it]\n",
      "Finding clones based on VDJ chains : 100%|██████████| 126/126 [00:00<00:00, 3896.50it/s]\n",
      "\n",
      "Refining clone assignment based on VJ chain pairing : 100%|██████████| 324/324 [00:00<00:00, 357337.50it/s]\n"
     ]
    },
    {
     "name": "stdout",
     "output_type": "stream",
     "text": [
      "Computing Gini indices for cluster and vertex size using network.\n"
     ]
    },
    {
     "name": "stderr",
     "output_type": "stream",
     "text": [
      " 64%|██████▍   | 120/187 [16:16<08:45,  7.85s/it]\n",
      "Finding clones based on VDJ chains : 100%|██████████| 24/24 [00:00<00:00, 5111.11it/s]\n",
      "\n",
      "Refining clone assignment based on VJ chain pairing : 100%|██████████| 31/31 [00:00<00:00, 180588.09it/s]\n",
      "/nfs/users/nfs_k/kt16/miniconda2/envs/dandelion/lib/python3.8/site-packages/dandelion/tools/_diversity.py:464: UserWarning: The minimum cell numbers when grouped by sample_id is 31 (group C60_1604). Exercise caution when interpreting diversity measures.\n"
     ]
    },
    {
     "name": "stdout",
     "output_type": "stream",
     "text": [
      "Computing Gini indices for cluster and vertex size using network.\n"
     ]
    },
    {
     "name": "stderr",
     "output_type": "stream",
     "text": [
      " 65%|██████▍   | 121/187 [16:21<07:43,  7.03s/it]\n",
      "Finding clones based on VDJ chains : 100%|██████████| 61/61 [00:00<00:00, 3213.95it/s]\n",
      "\n",
      "Refining clone assignment based on VJ chain pairing : 100%|██████████| 99/99 [00:00<00:00, 288358.40it/s]\n",
      "/nfs/users/nfs_k/kt16/miniconda2/envs/dandelion/lib/python3.8/site-packages/dandelion/tools/_diversity.py:464: UserWarning: The minimum cell numbers when grouped by sample_id is 99 (group C146_140121). Exercise caution when interpreting diversity measures.\n"
     ]
    },
    {
     "name": "stdout",
     "output_type": "stream",
     "text": [
      "Computing Gini indices for cluster and vertex size using network.\n"
     ]
    },
    {
     "name": "stderr",
     "output_type": "stream",
     "text": [
      " 65%|██████▌   | 122/187 [16:27<07:14,  6.68s/it]\n",
      "Finding clones based on VDJ chains : 100%|██████████| 81/81 [00:00<00:00, 5568.94it/s]\n",
      "\n",
      "Refining clone assignment based on VJ chain pairing : 100%|██████████| 157/157 [00:00<00:00, 381521.28it/s]\n"
     ]
    },
    {
     "name": "stdout",
     "output_type": "stream",
     "text": [
      "Computing Gini indices for cluster and vertex size using network.\n"
     ]
    },
    {
     "name": "stderr",
     "output_type": "stream",
     "text": [
      " 66%|██████▌   | 123/187 [16:33<07:01,  6.59s/it]\n",
      "Finding clones based on VDJ chains : 100%|██████████| 7/7 [00:00<00:00, 6785.33it/s]\n",
      "\n",
      "Refining clone assignment based on VJ chain pairing : 100%|██████████| 7/7 [00:00<00:00, 71961.10it/s]\n",
      "/nfs/users/nfs_k/kt16/miniconda2/envs/dandelion/lib/python3.8/site-packages/dandelion/tools/_diversity.py:464: UserWarning: The minimum cell numbers when grouped by sample_id is 7 (group C101_060121). Exercise caution when interpreting diversity measures.\n"
     ]
    },
    {
     "name": "stdout",
     "output_type": "stream",
     "text": [
      "Computing Gini indices for cluster and vertex size using network.\n"
     ]
    },
    {
     "name": "stderr",
     "output_type": "stream",
     "text": [
      " 66%|██████▋   | 124/187 [16:38<06:21,  6.05s/it]\n",
      "Finding clones based on VDJ chains : 100%|██████████| 97/97 [00:00<00:00, 3786.21it/s]\n",
      "\n",
      "Refining clone assignment based on VJ chain pairing : 100%|██████████| 243/243 [00:00<00:00, 333622.22it/s]\n"
     ]
    },
    {
     "name": "stdout",
     "output_type": "stream",
     "text": [
      "Computing Gini indices for cluster and vertex size using network.\n"
     ]
    },
    {
     "name": "stderr",
     "output_type": "stream",
     "text": [
      " 67%|██████▋   | 125/187 [16:46<06:52,  6.65s/it]\n",
      "Finding clones based on VDJ chains : 100%|██████████| 58/58 [00:00<00:00, 5778.93it/s]\n",
      "\n",
      "Refining clone assignment based on VJ chain pairing : 100%|██████████| 113/113 [00:00<00:00, 378861.99it/s]\n"
     ]
    },
    {
     "name": "stdout",
     "output_type": "stream",
     "text": [
      "Computing Gini indices for cluster and vertex size using network.\n"
     ]
    },
    {
     "name": "stderr",
     "output_type": "stream",
     "text": [
      " 67%|██████▋   | 126/187 [16:52<06:31,  6.42s/it]\n",
      "Finding clones based on VDJ chains : 100%|██████████| 19/19 [00:00<00:00, 5836.94it/s]\n",
      "\n",
      "Refining clone assignment based on VJ chain pairing : 100%|██████████| 25/25 [00:00<00:00, 167504.15it/s]\n",
      "/nfs/users/nfs_k/kt16/miniconda2/envs/dandelion/lib/python3.8/site-packages/dandelion/tools/_diversity.py:464: UserWarning: The minimum cell numbers when grouped by sample_id is 25 (group C108_220121). Exercise caution when interpreting diversity measures.\n"
     ]
    },
    {
     "name": "stdout",
     "output_type": "stream",
     "text": [
      "Computing Gini indices for cluster and vertex size using network.\n"
     ]
    },
    {
     "name": "stderr",
     "output_type": "stream",
     "text": [
      " 68%|██████▊   | 127/187 [16:57<06:00,  6.02s/it]\n",
      "Finding clones based on VDJ chains : 100%|██████████| 121/121 [00:00<00:00, 2517.56it/s]\n",
      "\n",
      "Refining clone assignment based on VJ chain pairing : 100%|██████████| 662/662 [00:00<00:00, 373253.02it/s]\n"
     ]
    },
    {
     "name": "stdout",
     "output_type": "stream",
     "text": [
      "Computing Gini indices for cluster and vertex size using network.\n"
     ]
    },
    {
     "name": "stderr",
     "output_type": "stream",
     "text": [
      " 68%|██████▊   | 128/187 [17:15<09:20,  9.51s/it]\n",
      "Finding clones based on VDJ chains : 100%|██████████| 36/36 [00:00<00:00, 3875.34it/s]\n",
      "\n",
      "Refining clone assignment based on VJ chain pairing : 100%|██████████| 55/55 [00:00<00:00, 260368.76it/s]\n",
      "/nfs/users/nfs_k/kt16/miniconda2/envs/dandelion/lib/python3.8/site-packages/dandelion/tools/_diversity.py:464: UserWarning: The minimum cell numbers when grouped by sample_id is 55 (group C240_2905). Exercise caution when interpreting diversity measures.\n"
     ]
    },
    {
     "name": "stdout",
     "output_type": "stream",
     "text": [
      "Computing Gini indices for cluster and vertex size using network.\n"
     ]
    },
    {
     "name": "stderr",
     "output_type": "stream",
     "text": [
      " 69%|██████▉   | 129/187 [17:20<07:59,  8.27s/it]\n",
      "Finding clones based on VDJ chains : 100%|██████████| 6/6 [00:00<00:00, 6379.17it/s]\n",
      "\n",
      "Refining clone assignment based on VJ chain pairing : 100%|██████████| 7/7 [00:00<00:00, 82472.27it/s]\n",
      "/nfs/users/nfs_k/kt16/miniconda2/envs/dandelion/lib/python3.8/site-packages/dandelion/tools/_diversity.py:464: UserWarning: The minimum cell numbers when grouped by sample_id is 7 (group C58_160420). Exercise caution when interpreting diversity measures.\n"
     ]
    },
    {
     "name": "stdout",
     "output_type": "stream",
     "text": [
      "Computing Gini indices for cluster and vertex size using network.\n"
     ]
    },
    {
     "name": "stderr",
     "output_type": "stream",
     "text": [
      " 70%|██████▉   | 130/187 [17:25<06:49,  7.18s/it]\n",
      "Finding clones based on VDJ chains : 100%|██████████| 38/38 [00:00<00:00, 5566.82it/s]\n",
      "\n",
      "Refining clone assignment based on VJ chain pairing : 100%|██████████| 59/59 [00:00<00:00, 309717.07it/s]\n",
      "/nfs/users/nfs_k/kt16/miniconda2/envs/dandelion/lib/python3.8/site-packages/dandelion/tools/_diversity.py:464: UserWarning: The minimum cell numbers when grouped by sample_id is 59 (group C33_140121). Exercise caution when interpreting diversity measures.\n"
     ]
    },
    {
     "name": "stdout",
     "output_type": "stream",
     "text": [
      "Computing Gini indices for cluster and vertex size using network.\n"
     ]
    },
    {
     "name": "stderr",
     "output_type": "stream",
     "text": [
      " 70%|███████   | 131/187 [17:30<06:09,  6.60s/it]\n",
      "Finding clones based on VDJ chains :   0%|          | 0/199 [00:00<?, ?it/s]\u001b[A\n",
      "Finding clones based on VDJ chains : 100%|██████████| 199/199 [00:00<00:00, 1362.84it/s]A\n",
      "\n",
      "Refining clone assignment based on VJ chain pairing : 100%|██████████| 1288/1288 [00:00<00:00, 414347.56it/s]\n"
     ]
    },
    {
     "name": "stdout",
     "output_type": "stream",
     "text": [
      "Computing Gini indices for cluster and vertex size using network.\n"
     ]
    },
    {
     "name": "stderr",
     "output_type": "stream",
     "text": [
      " 71%|███████   | 132/187 [18:11<15:36, 17.03s/it]\n",
      "Finding clones based on VDJ chains : 100%|██████████| 28/28 [00:00<00:00, 7701.52it/s]\n",
      "\n",
      "Refining clone assignment based on VJ chain pairing : 100%|██████████| 36/36 [00:00<00:00, 265836.17it/s]\n",
      "/nfs/users/nfs_k/kt16/miniconda2/envs/dandelion/lib/python3.8/site-packages/dandelion/tools/_diversity.py:464: UserWarning: The minimum cell numbers when grouped by sample_id is 36 (group C145_300420). Exercise caution when interpreting diversity measures.\n"
     ]
    },
    {
     "name": "stdout",
     "output_type": "stream",
     "text": [
      "Computing Gini indices for cluster and vertex size using network.\n"
     ]
    },
    {
     "name": "stderr",
     "output_type": "stream",
     "text": [
      " 71%|███████   | 133/187 [18:17<12:08, 13.49s/it]\n",
      "Finding clones based on VDJ chains : 100%|██████████| 34/34 [00:00<00:00, 3109.74it/s]\n",
      "\n",
      "Refining clone assignment based on VJ chain pairing : 100%|██████████| 76/76 [00:00<00:00, 267197.91it/s]\n",
      "/nfs/users/nfs_k/kt16/miniconda2/envs/dandelion/lib/python3.8/site-packages/dandelion/tools/_diversity.py:464: UserWarning: The minimum cell numbers when grouped by sample_id is 76 (group C60_2504). Exercise caution when interpreting diversity measures.\n"
     ]
    },
    {
     "name": "stdout",
     "output_type": "stream",
     "text": [
      "Computing Gini indices for cluster and vertex size using network.\n"
     ]
    },
    {
     "name": "stderr",
     "output_type": "stream",
     "text": [
      " 72%|███████▏  | 134/187 [18:22<09:49, 11.12s/it]\n",
      "Finding clones based on VDJ chains : 100%|██████████| 75/75 [00:00<00:00, 5246.38it/s]\n",
      "\n",
      "Refining clone assignment based on VJ chain pairing : 100%|██████████| 174/174 [00:00<00:00, 399457.52it/s]\n"
     ]
    },
    {
     "name": "stdout",
     "output_type": "stream",
     "text": [
      "Computing Gini indices for cluster and vertex size using network.\n"
     ]
    },
    {
     "name": "stderr",
     "output_type": "stream",
     "text": [
      " 72%|███████▏  | 135/187 [18:29<08:28,  9.78s/it]\n",
      "Finding clones based on VDJ chains : 100%|██████████| 124/124 [00:00<00:00, 3636.28it/s]\n",
      "\n",
      "Refining clone assignment based on VJ chain pairing : 100%|██████████| 401/401 [00:00<00:00, 381646.45it/s]\n"
     ]
    },
    {
     "name": "stdout",
     "output_type": "stream",
     "text": [
      "Computing Gini indices for cluster and vertex size using network.\n"
     ]
    },
    {
     "name": "stderr",
     "output_type": "stream",
     "text": [
      " 73%|███████▎  | 136/187 [18:40<08:45, 10.30s/it]\n",
      "Finding clones based on VDJ chains : 100%|██████████| 43/43 [00:00<00:00, 6571.51it/s]\n",
      "\n",
      "Refining clone assignment based on VJ chain pairing : 100%|██████████| 58/58 [00:00<00:00, 311086.49it/s]\n",
      "/nfs/users/nfs_k/kt16/miniconda2/envs/dandelion/lib/python3.8/site-packages/dandelion/tools/_diversity.py:464: UserWarning: The minimum cell numbers when grouped by sample_id is 58 (group C187_260520). Exercise caution when interpreting diversity measures.\n"
     ]
    },
    {
     "name": "stdout",
     "output_type": "stream",
     "text": [
      "Computing Gini indices for cluster and vertex size using network.\n"
     ]
    },
    {
     "name": "stderr",
     "output_type": "stream",
     "text": [
      " 73%|███████▎  | 137/187 [18:45<07:18,  8.77s/it]\n",
      "Finding clones based on VDJ chains : 100%|██████████| 29/29 [00:00<00:00, 7658.18it/s]\n",
      "\n",
      "Refining clone assignment based on VJ chain pairing : 100%|██████████| 55/55 [00:00<00:00, 244630.67it/s]\n",
      "/nfs/users/nfs_k/kt16/miniconda2/envs/dandelion/lib/python3.8/site-packages/dandelion/tools/_diversity.py:464: UserWarning: The minimum cell numbers when grouped by sample_id is 55 (group C65_2104). Exercise caution when interpreting diversity measures.\n"
     ]
    },
    {
     "name": "stdout",
     "output_type": "stream",
     "text": [
      "Computing Gini indices for cluster and vertex size using network.\n"
     ]
    },
    {
     "name": "stderr",
     "output_type": "stream",
     "text": [
      " 74%|███████▍  | 138/187 [18:51<06:18,  7.72s/it]\n",
      "Finding clones based on VDJ chains : 100%|██████████| 76/76 [00:00<00:00, 4402.80it/s]\n",
      "\n",
      "Refining clone assignment based on VJ chain pairing : 100%|██████████| 140/140 [00:00<00:00, 329149.42it/s]\n"
     ]
    },
    {
     "name": "stdout",
     "output_type": "stream",
     "text": [
      "Computing Gini indices for cluster and vertex size using network.\n"
     ]
    },
    {
     "name": "stderr",
     "output_type": "stream",
     "text": [
      " 74%|███████▍  | 139/187 [18:57<05:53,  7.37s/it]\n",
      "Finding clones based on VDJ chains : 100%|██████████| 44/44 [00:00<00:00, 5414.86it/s]\n",
      "\n",
      "Refining clone assignment based on VJ chain pairing : 100%|██████████| 64/64 [00:00<00:00, 266305.02it/s]\n",
      "/nfs/users/nfs_k/kt16/miniconda2/envs/dandelion/lib/python3.8/site-packages/dandelion/tools/_diversity.py:464: UserWarning: The minimum cell numbers when grouped by sample_id is 64 (group C36_2104). Exercise caution when interpreting diversity measures.\n"
     ]
    },
    {
     "name": "stdout",
     "output_type": "stream",
     "text": [
      "Computing Gini indices for cluster and vertex size using network.\n"
     ]
    },
    {
     "name": "stderr",
     "output_type": "stream",
     "text": [
      " 75%|███████▍  | 140/187 [19:02<05:15,  6.70s/it]\n",
      "Finding clones based on VDJ chains : 100%|██████████| 127/127 [00:00<00:00, 3734.94it/s]\n",
      "\n",
      "Refining clone assignment based on VJ chain pairing : 100%|██████████| 458/458 [00:00<00:00, 471177.64it/s]\n"
     ]
    },
    {
     "name": "stdout",
     "output_type": "stream",
     "text": [
      "Computing Gini indices for cluster and vertex size using network.\n"
     ]
    },
    {
     "name": "stderr",
     "output_type": "stream",
     "text": [
      " 75%|███████▌  | 141/187 [19:15<06:27,  8.43s/it]\n",
      "Finding clones based on VDJ chains : 100%|██████████| 136/136 [00:00<00:00, 2116.32it/s]\n",
      "\n",
      "Refining clone assignment based on VJ chain pairing : 100%|██████████| 405/405 [00:00<00:00, 422455.39it/s]\n"
     ]
    },
    {
     "name": "stdout",
     "output_type": "stream",
     "text": [
      "Computing Gini indices for cluster and vertex size using network.\n"
     ]
    },
    {
     "name": "stderr",
     "output_type": "stream",
     "text": [
      " 76%|███████▌  | 142/187 [19:25<06:47,  9.05s/it]\n",
      "Finding clones based on VDJ chains : 100%|██████████| 150/150 [00:00<00:00, 3363.19it/s]\n",
      "\n",
      "Refining clone assignment based on VJ chain pairing : 100%|██████████| 530/530 [00:00<00:00, 423102.61it/s]\n"
     ]
    },
    {
     "name": "stdout",
     "output_type": "stream",
     "text": [
      "Computing Gini indices for cluster and vertex size using network.\n"
     ]
    },
    {
     "name": "stderr",
     "output_type": "stream",
     "text": [
      " 76%|███████▋  | 143/187 [19:40<07:47, 10.62s/it]\n",
      "Finding clones based on VDJ chains : 100%|██████████| 104/104 [00:00<00:00, 4574.47it/s]\n",
      "\n",
      "Refining clone assignment based on VJ chain pairing : 100%|██████████| 277/277 [00:00<00:00, 445654.86it/s]\n"
     ]
    },
    {
     "name": "stdout",
     "output_type": "stream",
     "text": [
      "Computing Gini indices for cluster and vertex size using network.\n"
     ]
    },
    {
     "name": "stderr",
     "output_type": "stream",
     "text": [
      " 77%|███████▋  | 144/187 [19:48<07:05,  9.89s/it]\n",
      "Finding clones based on VDJ chains : 100%|██████████| 107/107 [00:00<00:00, 3459.55it/s]\n",
      "\n",
      "Refining clone assignment based on VJ chain pairing : 100%|██████████| 257/257 [00:00<00:00, 363063.70it/s]\n"
     ]
    },
    {
     "name": "stdout",
     "output_type": "stream",
     "text": [
      "Computing Gini indices for cluster and vertex size using network.\n"
     ]
    },
    {
     "name": "stderr",
     "output_type": "stream",
     "text": [
      " 78%|███████▊  | 145/187 [19:56<06:39,  9.50s/it]\n",
      "Finding clones based on VDJ chains : 100%|██████████| 133/133 [00:00<00:00, 4450.70it/s]\n",
      "\n",
      "Refining clone assignment based on VJ chain pairing : 100%|██████████| 375/375 [00:00<00:00, 447090.39it/s]\n"
     ]
    },
    {
     "name": "stdout",
     "output_type": "stream",
     "text": [
      "Computing Gini indices for cluster and vertex size using network.\n"
     ]
    },
    {
     "name": "stderr",
     "output_type": "stream",
     "text": [
      " 78%|███████▊  | 146/187 [20:07<06:37,  9.69s/it]\n",
      "Finding clones based on VDJ chains : 100%|██████████| 98/98 [00:00<00:00, 3685.55it/s]\n",
      "\n",
      "Refining clone assignment based on VJ chain pairing : 100%|██████████| 211/211 [00:00<00:00, 360194.60it/s]\n"
     ]
    },
    {
     "name": "stdout",
     "output_type": "stream",
     "text": [
      "Computing Gini indices for cluster and vertex size using network.\n"
     ]
    },
    {
     "name": "stderr",
     "output_type": "stream",
     "text": [
      " 79%|███████▊  | 147/187 [20:14<06:04,  9.11s/it]\n",
      "Finding clones based on VDJ chains : 100%|██████████| 173/173 [00:00<00:00, 1954.02it/s]\n",
      "\n",
      "Refining clone assignment based on VJ chain pairing : 100%|██████████| 968/968 [00:00<00:00, 417317.94it/s]\n"
     ]
    },
    {
     "name": "stdout",
     "output_type": "stream",
     "text": [
      "Computing Gini indices for cluster and vertex size using network.\n"
     ]
    },
    {
     "name": "stderr",
     "output_type": "stream",
     "text": [
      " 79%|███████▉  | 148/187 [20:43<09:44, 15.00s/it]\n",
      "Finding clones based on VDJ chains : 100%|██████████| 34/34 [00:00<00:00, 8336.63it/s]\n",
      "\n",
      "Refining clone assignment based on VJ chain pairing : 100%|██████████| 52/52 [00:00<00:00, 327975.65it/s]\n",
      "/nfs/users/nfs_k/kt16/miniconda2/envs/dandelion/lib/python3.8/site-packages/dandelion/tools/_diversity.py:464: UserWarning: The minimum cell numbers when grouped by sample_id is 52 (group C140_280121). Exercise caution when interpreting diversity measures.\n"
     ]
    },
    {
     "name": "stdout",
     "output_type": "stream",
     "text": [
      "Computing Gini indices for cluster and vertex size using network.\n"
     ]
    },
    {
     "name": "stderr",
     "output_type": "stream",
     "text": [
      " 80%|███████▉  | 149/187 [20:48<07:38, 12.07s/it]\n",
      "Finding clones based on VDJ chains : 100%|██████████| 75/75 [00:00<00:00, 4992.51it/s]\n",
      "\n",
      "Refining clone assignment based on VJ chain pairing : 100%|██████████| 107/107 [00:00<00:00, 321253.06it/s]\n"
     ]
    },
    {
     "name": "stdout",
     "output_type": "stream",
     "text": [
      "Computing Gini indices for cluster and vertex size using network.\n"
     ]
    },
    {
     "name": "stderr",
     "output_type": "stream",
     "text": [
      " 80%|████████  | 150/187 [20:54<06:20, 10.29s/it]\n",
      "Finding clones based on VDJ chains : 100%|██████████| 68/68 [00:00<00:00, 4991.03it/s]\n",
      "\n",
      "Refining clone assignment based on VJ chain pairing : 100%|██████████| 105/105 [00:00<00:00, 309705.99it/s]\n"
     ]
    },
    {
     "name": "stdout",
     "output_type": "stream",
     "text": [
      "Computing Gini indices for cluster and vertex size using network.\n"
     ]
    },
    {
     "name": "stderr",
     "output_type": "stream",
     "text": [
      " 81%|████████  | 151/187 [21:00<05:21,  8.92s/it]\n",
      "Finding clones based on VDJ chains : 100%|██████████| 26/26 [00:00<00:00, 8057.03it/s]\n",
      "\n",
      "Refining clone assignment based on VJ chain pairing : 100%|██████████| 73/73 [00:00<00:00, 347147.61it/s]\n",
      "/nfs/users/nfs_k/kt16/miniconda2/envs/dandelion/lib/python3.8/site-packages/dandelion/tools/_diversity.py:464: UserWarning: The minimum cell numbers when grouped by sample_id is 73 (group C187_230121). Exercise caution when interpreting diversity measures.\n"
     ]
    },
    {
     "name": "stdout",
     "output_type": "stream",
     "text": [
      "Computing Gini indices for cluster and vertex size using network.\n"
     ]
    },
    {
     "name": "stderr",
     "output_type": "stream",
     "text": [
      " 81%|████████▏ | 152/187 [21:06<04:36,  7.89s/it]\n",
      "Finding clones based on VDJ chains : 100%|██████████| 126/126 [00:00<00:00, 2969.05it/s]\n",
      "\n",
      "Refining clone assignment based on VJ chain pairing : 100%|██████████| 362/362 [00:00<00:00, 385169.47it/s]\n"
     ]
    },
    {
     "name": "stdout",
     "output_type": "stream",
     "text": [
      "Computing Gini indices for cluster and vertex size using network.\n"
     ]
    },
    {
     "name": "stderr",
     "output_type": "stream",
     "text": [
      " 82%|████████▏ | 153/187 [21:16<04:52,  8.59s/it]\n",
      "Finding clones based on VDJ chains : 100%|██████████| 24/24 [00:00<00:00, 9976.54it/s]\n",
      "\n",
      "Refining clone assignment based on VJ chain pairing : 100%|██████████| 29/29 [00:00<00:00, 247225.24it/s]\n",
      "/nfs/users/nfs_k/kt16/miniconda2/envs/dandelion/lib/python3.8/site-packages/dandelion/tools/_diversity.py:464: UserWarning: The minimum cell numbers when grouped by sample_id is 29 (group C33_160121). Exercise caution when interpreting diversity measures.\n"
     ]
    },
    {
     "name": "stdout",
     "output_type": "stream",
     "text": [
      "Computing Gini indices for cluster and vertex size using network.\n"
     ]
    },
    {
     "name": "stderr",
     "output_type": "stream",
     "text": [
      " 82%|████████▏ | 154/187 [21:21<04:06,  7.48s/it]\n",
      "Finding clones based on VDJ chains : 100%|██████████| 87/87 [00:00<00:00, 5522.91it/s]\n",
      "\n",
      "Refining clone assignment based on VJ chain pairing : 100%|██████████| 158/158 [00:00<00:00, 348606.01it/s]\n"
     ]
    },
    {
     "name": "stdout",
     "output_type": "stream",
     "text": [
      "Computing Gini indices for cluster and vertex size using network.\n"
     ]
    },
    {
     "name": "stderr",
     "output_type": "stream",
     "text": [
      " 83%|████████▎ | 155/187 [21:28<03:53,  7.30s/it]\n",
      "Finding clones based on VDJ chains : 100%|██████████| 29/29 [00:00<00:00, 3951.75it/s]\n",
      "\n",
      "Refining clone assignment based on VJ chain pairing : 100%|██████████| 45/45 [00:00<00:00, 225500.22it/s]\n",
      "/nfs/users/nfs_k/kt16/miniconda2/envs/dandelion/lib/python3.8/site-packages/dandelion/tools/_diversity.py:464: UserWarning: The minimum cell numbers when grouped by sample_id is 45 (group C34_1404). Exercise caution when interpreting diversity measures.\n"
     ]
    },
    {
     "name": "stdout",
     "output_type": "stream",
     "text": [
      "Computing Gini indices for cluster and vertex size using network.\n"
     ]
    },
    {
     "name": "stderr",
     "output_type": "stream",
     "text": [
      " 83%|████████▎ | 156/187 [21:33<03:26,  6.67s/it]\n",
      "Finding clones based on VDJ chains : 100%|██████████| 48/48 [00:00<00:00, 7302.64it/s]\n",
      "\n",
      "Refining clone assignment based on VJ chain pairing : 100%|██████████| 73/73 [00:00<00:00, 340583.08it/s]\n",
      "/nfs/users/nfs_k/kt16/miniconda2/envs/dandelion/lib/python3.8/site-packages/dandelion/tools/_diversity.py:464: UserWarning: The minimum cell numbers when grouped by sample_id is 73 (group C141_090321). Exercise caution when interpreting diversity measures.\n"
     ]
    },
    {
     "name": "stdout",
     "output_type": "stream",
     "text": [
      "Computing Gini indices for cluster and vertex size using network.\n"
     ]
    },
    {
     "name": "stderr",
     "output_type": "stream",
     "text": [
      " 84%|████████▍ | 157/187 [21:38<03:08,  6.28s/it]\n",
      "Finding clones based on VDJ chains : 100%|██████████| 139/139 [00:00<00:00, 2867.82it/s]\n",
      "\n",
      "Refining clone assignment based on VJ chain pairing : 100%|██████████| 543/543 [00:00<00:00, 400969.55it/s]\n"
     ]
    },
    {
     "name": "stdout",
     "output_type": "stream",
     "text": [
      "Computing Gini indices for cluster and vertex size using network.\n"
     ]
    },
    {
     "name": "stderr",
     "output_type": "stream",
     "text": [
      " 84%|████████▍ | 158/187 [21:53<04:14,  8.78s/it]\n",
      "Finding clones based on VDJ chains : 100%|██████████| 118/118 [00:00<00:00, 3821.63it/s]\n",
      "\n",
      "Refining clone assignment based on VJ chain pairing : 100%|██████████| 416/416 [00:00<00:00, 441394.00it/s]\n"
     ]
    },
    {
     "name": "stdout",
     "output_type": "stream",
     "text": [
      "Computing Gini indices for cluster and vertex size using network.\n"
     ]
    },
    {
     "name": "stderr",
     "output_type": "stream",
     "text": [
      " 85%|████████▌ | 159/187 [22:04<04:24,  9.45s/it]\n",
      "Finding clones based on VDJ chains : 100%|██████████| 85/85 [00:00<00:00, 3358.76it/s]\n",
      "\n",
      "Refining clone assignment based on VJ chain pairing : 100%|██████████| 528/528 [00:00<00:00, 389550.13it/s]\n"
     ]
    },
    {
     "name": "stdout",
     "output_type": "stream",
     "text": [
      "Computing Gini indices for cluster and vertex size using network.\n"
     ]
    },
    {
     "name": "stderr",
     "output_type": "stream",
     "text": [
      " 86%|████████▌ | 160/187 [22:17<04:47, 10.63s/it]\n",
      "Finding clones based on VDJ chains : 100%|██████████| 143/143 [00:00<00:00, 2774.68it/s]\n",
      "\n",
      "Refining clone assignment based on VJ chain pairing : 100%|██████████| 709/709 [00:00<00:00, 359932.41it/s]\n"
     ]
    },
    {
     "name": "stdout",
     "output_type": "stream",
     "text": [
      "Computing Gini indices for cluster and vertex size using network.\n"
     ]
    },
    {
     "name": "stderr",
     "output_type": "stream",
     "text": [
      " 86%|████████▌ | 161/187 [22:37<05:48, 13.41s/it]\n",
      "Finding clones based on VDJ chains : 100%|██████████| 35/35 [00:00<00:00, 5735.97it/s]\n",
      "\n",
      "Refining clone assignment based on VJ chain pairing : 100%|██████████| 56/56 [00:00<00:00, 318698.81it/s]\n",
      "/nfs/users/nfs_k/kt16/miniconda2/envs/dandelion/lib/python3.8/site-packages/dandelion/tools/_diversity.py:464: UserWarning: The minimum cell numbers when grouped by sample_id is 56 (group C33_190121). Exercise caution when interpreting diversity measures.\n"
     ]
    },
    {
     "name": "stdout",
     "output_type": "stream",
     "text": [
      "Computing Gini indices for cluster and vertex size using network.\n"
     ]
    },
    {
     "name": "stderr",
     "output_type": "stream",
     "text": [
      " 87%|████████▋ | 162/187 [22:42<04:34, 10.96s/it]\n",
      "Finding clones based on VDJ chains : 100%|██████████| 36/36 [00:00<00:00, 3623.41it/s]\n",
      "\n",
      "Refining clone assignment based on VJ chain pairing : 100%|██████████| 58/58 [00:00<00:00, 261861.82it/s]\n",
      "/nfs/users/nfs_k/kt16/miniconda2/envs/dandelion/lib/python3.8/site-packages/dandelion/tools/_diversity.py:464: UserWarning: The minimum cell numbers when grouped by sample_id is 58 (group C34_2104). Exercise caution when interpreting diversity measures.\n"
     ]
    },
    {
     "name": "stdout",
     "output_type": "stream",
     "text": [
      "Computing Gini indices for cluster and vertex size using network.\n"
     ]
    },
    {
     "name": "stderr",
     "output_type": "stream",
     "text": [
      " 87%|████████▋ | 163/187 [22:48<03:43,  9.30s/it]\n",
      "Finding clones based on VDJ chains : 100%|██████████| 160/160 [00:00<00:00, 2187.08it/s]\n",
      "\n",
      "Refining clone assignment based on VJ chain pairing : 100%|██████████| 794/794 [00:00<00:00, 394395.71it/s]\n"
     ]
    },
    {
     "name": "stdout",
     "output_type": "stream",
     "text": [
      "Computing Gini indices for cluster and vertex size using network.\n"
     ]
    },
    {
     "name": "stderr",
     "output_type": "stream",
     "text": [
      " 88%|████████▊ | 164/187 [23:08<04:51, 12.69s/it]\n",
      "Finding clones based on VDJ chains : 100%|██████████| 143/143 [00:00<00:00, 2768.33it/s]\n",
      "\n",
      "Refining clone assignment based on VJ chain pairing : 100%|██████████| 557/557 [00:00<00:00, 346312.97it/s]\n"
     ]
    },
    {
     "name": "stdout",
     "output_type": "stream",
     "text": [
      "Computing Gini indices for cluster and vertex size using network.\n"
     ]
    },
    {
     "name": "stderr",
     "output_type": "stream",
     "text": [
      " 88%|████████▊ | 165/187 [23:22<04:44, 12.94s/it]\n",
      "Finding clones based on VDJ chains : 100%|██████████| 58/58 [00:00<00:00, 3001.55it/s]\n",
      "\n",
      "Refining clone assignment based on VJ chain pairing : 100%|██████████| 101/101 [00:00<00:00, 291551.76it/s]\n"
     ]
    },
    {
     "name": "stdout",
     "output_type": "stream",
     "text": [
      "Computing Gini indices for cluster and vertex size using network.\n"
     ]
    },
    {
     "name": "stderr",
     "output_type": "stream",
     "text": [
      " 89%|████████▉ | 166/187 [23:28<03:48, 10.87s/it]\n",
      "Finding clones based on VDJ chains : 100%|██████████| 40/40 [00:00<00:00, 5516.28it/s]\n",
      "\n",
      "Refining clone assignment based on VJ chain pairing : 100%|██████████| 55/55 [00:00<00:00, 256603.69it/s]\n",
      "/nfs/users/nfs_k/kt16/miniconda2/envs/dandelion/lib/python3.8/site-packages/dandelion/tools/_diversity.py:464: UserWarning: The minimum cell numbers when grouped by sample_id is 55 (group C36_1704). Exercise caution when interpreting diversity measures.\n"
     ]
    },
    {
     "name": "stdout",
     "output_type": "stream",
     "text": [
      "Computing Gini indices for cluster and vertex size using network.\n"
     ]
    },
    {
     "name": "stderr",
     "output_type": "stream",
     "text": [
      " 89%|████████▉ | 167/187 [23:33<03:03,  9.19s/it]\n",
      "Finding clones based on VDJ chains : 100%|██████████| 100/100 [00:00<00:00, 4943.02it/s]\n",
      "\n",
      "Refining clone assignment based on VJ chain pairing : 100%|██████████| 256/256 [00:00<00:00, 437547.61it/s]\n"
     ]
    },
    {
     "name": "stdout",
     "output_type": "stream",
     "text": [
      "Computing Gini indices for cluster and vertex size using network.\n"
     ]
    },
    {
     "name": "stderr",
     "output_type": "stream",
     "text": [
      " 90%|████████▉ | 168/187 [23:41<02:48,  8.85s/it]\n",
      "Finding clones based on VDJ chains : 100%|██████████| 131/131 [00:00<00:00, 2453.66it/s]\n",
      "\n",
      "Refining clone assignment based on VJ chain pairing : 100%|██████████| 479/479 [00:00<00:00, 374896.74it/s]\n"
     ]
    },
    {
     "name": "stdout",
     "output_type": "stream",
     "text": [
      "Computing Gini indices for cluster and vertex size using network.\n"
     ]
    },
    {
     "name": "stderr",
     "output_type": "stream",
     "text": [
      " 90%|█████████ | 169/187 [23:54<02:58,  9.91s/it]\n",
      "Finding clones based on VDJ chains : 100%|██████████| 96/96 [00:00<00:00, 5894.07it/s]\n",
      "\n",
      "Refining clone assignment based on VJ chain pairing : 100%|██████████| 192/192 [00:00<00:00, 419430.40it/s]\n"
     ]
    },
    {
     "name": "stdout",
     "output_type": "stream",
     "text": [
      "Computing Gini indices for cluster and vertex size using network.\n"
     ]
    },
    {
     "name": "stderr",
     "output_type": "stream",
     "text": [
      " 91%|█████████ | 170/187 [24:01<02:34,  9.09s/it]\n",
      "Finding clones based on VDJ chains : 100%|██████████| 74/74 [00:00<00:00, 4210.18it/s]\n",
      "\n",
      "Refining clone assignment based on VJ chain pairing : 100%|██████████| 128/128 [00:00<00:00, 306783.38it/s]\n"
     ]
    },
    {
     "name": "stdout",
     "output_type": "stream",
     "text": [
      "Computing Gini indices for cluster and vertex size using network.\n"
     ]
    },
    {
     "name": "stderr",
     "output_type": "stream",
     "text": [
      " 91%|█████████▏| 171/187 [24:07<02:12,  8.31s/it]\n",
      "Finding clones based on VDJ chains : 100%|██████████| 74/74 [00:00<00:00, 4221.86it/s]\n",
      "\n",
      "Refining clone assignment based on VJ chain pairing : 100%|██████████| 138/138 [00:00<00:00, 348054.09it/s]\n"
     ]
    },
    {
     "name": "stdout",
     "output_type": "stream",
     "text": [
      "Computing Gini indices for cluster and vertex size using network.\n"
     ]
    },
    {
     "name": "stderr",
     "output_type": "stream",
     "text": [
      " 92%|█████████▏| 172/187 [24:14<01:55,  7.72s/it]\n",
      "Finding clones based on VDJ chains : 100%|██████████| 76/76 [00:00<00:00, 4094.53it/s]\n",
      "\n",
      "Refining clone assignment based on VJ chain pairing : 100%|██████████| 218/218 [00:00<00:00, 380190.55it/s]\n"
     ]
    },
    {
     "name": "stdout",
     "output_type": "stream",
     "text": [
      "Computing Gini indices for cluster and vertex size using network.\n"
     ]
    },
    {
     "name": "stderr",
     "output_type": "stream",
     "text": [
      " 93%|█████████▎| 173/187 [24:21<01:47,  7.67s/it]\n",
      "Finding clones based on VDJ chains : 100%|██████████| 115/115 [00:00<00:00, 4992.75it/s]\n",
      "\n",
      "Refining clone assignment based on VJ chain pairing : 100%|██████████| 291/291 [00:00<00:00, 466033.78it/s]\n"
     ]
    },
    {
     "name": "stdout",
     "output_type": "stream",
     "text": [
      "Computing Gini indices for cluster and vertex size using network.\n"
     ]
    },
    {
     "name": "stderr",
     "output_type": "stream",
     "text": [
      " 93%|█████████▎| 174/187 [24:30<01:42,  7.85s/it]\n",
      "Finding clones based on VDJ chains : 100%|██████████| 76/76 [00:00<00:00, 4019.20it/s]\n",
      "\n",
      "Refining clone assignment based on VJ chain pairing : 100%|██████████| 160/160 [00:00<00:00, 346278.97it/s]\n"
     ]
    },
    {
     "name": "stdout",
     "output_type": "stream",
     "text": [
      "Computing Gini indices for cluster and vertex size using network.\n"
     ]
    },
    {
     "name": "stderr",
     "output_type": "stream",
     "text": [
      " 94%|█████████▎| 175/187 [24:38<01:35,  7.94s/it]\n",
      "Finding clones based on VDJ chains : 100%|██████████| 69/69 [00:00<00:00, 3111.87it/s]\n",
      "\n",
      "Refining clone assignment based on VJ chain pairing : 100%|██████████| 208/208 [00:00<00:00, 329586.41it/s]\n"
     ]
    },
    {
     "name": "stdout",
     "output_type": "stream",
     "text": [
      "Computing Gini indices for cluster and vertex size using network.\n"
     ]
    },
    {
     "name": "stderr",
     "output_type": "stream",
     "text": [
      " 94%|█████████▍| 176/187 [24:45<01:24,  7.71s/it]\n",
      "Finding clones based on VDJ chains : 100%|██████████| 136/136 [00:00<00:00, 4333.29it/s]\n",
      "\n",
      "Refining clone assignment based on VJ chain pairing : 100%|██████████| 406/406 [00:00<00:00, 431876.09it/s]\n"
     ]
    },
    {
     "name": "stdout",
     "output_type": "stream",
     "text": [
      "Computing Gini indices for cluster and vertex size using network.\n"
     ]
    },
    {
     "name": "stderr",
     "output_type": "stream",
     "text": [
      " 95%|█████████▍| 177/187 [24:56<01:28,  8.82s/it]\n",
      "Finding clones based on VDJ chains : 100%|██████████| 132/132 [00:00<00:00, 2967.35it/s]\n",
      "\n",
      "Refining clone assignment based on VJ chain pairing : 100%|██████████| 411/411 [00:00<00:00, 353612.09it/s]\n"
     ]
    },
    {
     "name": "stdout",
     "output_type": "stream",
     "text": [
      "Computing Gini indices for cluster and vertex size using network.\n"
     ]
    },
    {
     "name": "stderr",
     "output_type": "stream",
     "text": [
      " 95%|█████████▌| 178/187 [25:07<01:24,  9.38s/it]\n",
      "Finding clones based on VDJ chains : 100%|██████████| 107/107 [00:00<00:00, 4345.67it/s]\n",
      "\n",
      "Refining clone assignment based on VJ chain pairing : 100%|██████████| 247/247 [00:00<00:00, 371057.70it/s]\n"
     ]
    },
    {
     "name": "stdout",
     "output_type": "stream",
     "text": [
      "Computing Gini indices for cluster and vertex size using network.\n"
     ]
    },
    {
     "name": "stderr",
     "output_type": "stream",
     "text": [
      " 96%|█████████▌| 179/187 [25:16<01:13,  9.15s/it]\n",
      "Finding clones based on VDJ chains : 100%|██████████| 126/126 [00:00<00:00, 3958.28it/s]\n",
      "\n",
      "Refining clone assignment based on VJ chain pairing : 100%|██████████| 346/346 [00:00<00:00, 395753.80it/s]\n"
     ]
    },
    {
     "name": "stdout",
     "output_type": "stream",
     "text": [
      "Computing Gini indices for cluster and vertex size using network.\n"
     ]
    },
    {
     "name": "stderr",
     "output_type": "stream",
     "text": [
      " 96%|█████████▋| 180/187 [25:25<01:04,  9.20s/it]\n",
      "Finding clones based on VDJ chains : 100%|██████████| 67/67 [00:00<00:00, 4744.53it/s]\n",
      "\n",
      "Refining clone assignment based on VJ chain pairing : 100%|██████████| 133/133 [00:00<00:00, 315343.38it/s]\n"
     ]
    },
    {
     "name": "stdout",
     "output_type": "stream",
     "text": [
      "Computing Gini indices for cluster and vertex size using network.\n"
     ]
    },
    {
     "name": "stderr",
     "output_type": "stream",
     "text": [
      " 97%|█████████▋| 181/187 [25:31<00:50,  8.36s/it]\n",
      "Finding clones based on VDJ chains : 100%|██████████| 88/88 [00:00<00:00, 1948.98it/s]\n",
      "\n",
      "Refining clone assignment based on VJ chain pairing : 100%|██████████| 429/429 [00:00<00:00, 400836.80it/s]\n"
     ]
    },
    {
     "name": "stdout",
     "output_type": "stream",
     "text": [
      "Computing Gini indices for cluster and vertex size using network.\n"
     ]
    },
    {
     "name": "stderr",
     "output_type": "stream",
     "text": [
      " 97%|█████████▋| 182/187 [25:42<00:45,  9.17s/it]\n",
      "Finding clones based on VDJ chains : 100%|██████████| 164/164 [00:00<00:00, 3520.40it/s]\n",
      "\n",
      "Refining clone assignment based on VJ chain pairing : 100%|██████████| 675/675 [00:00<00:00, 496606.77it/s]\n"
     ]
    },
    {
     "name": "stdout",
     "output_type": "stream",
     "text": [
      "Computing Gini indices for cluster and vertex size using network.\n"
     ]
    },
    {
     "name": "stderr",
     "output_type": "stream",
     "text": [
      " 98%|█████████▊| 183/187 [26:00<00:47, 11.84s/it]\n",
      "Finding clones based on VDJ chains : 100%|██████████| 188/188 [00:00<00:00, 2377.40it/s]\n",
      "\n",
      "Refining clone assignment based on VJ chain pairing : 100%|██████████| 1329/1329 [00:00<00:00, 489267.97it/s]\n"
     ]
    },
    {
     "name": "stdout",
     "output_type": "stream",
     "text": [
      "Computing Gini indices for cluster and vertex size using network.\n"
     ]
    },
    {
     "name": "stderr",
     "output_type": "stream",
     "text": [
      " 98%|█████████▊| 184/187 [26:44<01:04, 21.38s/it]\n",
      "Finding clones based on VDJ chains : 100%|██████████| 85/85 [00:00<00:00, 4359.45it/s]\n",
      "\n",
      "Refining clone assignment based on VJ chain pairing : 100%|██████████| 259/259 [00:00<00:00, 433143.83it/s]\n"
     ]
    },
    {
     "name": "stdout",
     "output_type": "stream",
     "text": [
      "Computing Gini indices for cluster and vertex size using network.\n"
     ]
    },
    {
     "name": "stderr",
     "output_type": "stream",
     "text": [
      " 99%|█████████▉| 185/187 [26:52<00:34, 17.34s/it]\n",
      "Finding clones based on VDJ chains : 100%|██████████| 94/94 [00:00<00:00, 3776.30it/s]\n",
      "\n",
      "Refining clone assignment based on VJ chain pairing : 100%|██████████| 235/235 [00:00<00:00, 363981.33it/s]\n"
     ]
    },
    {
     "name": "stdout",
     "output_type": "stream",
     "text": [
      "Computing Gini indices for cluster and vertex size using network.\n"
     ]
    },
    {
     "name": "stderr",
     "output_type": "stream",
     "text": [
      " 99%|█████████▉| 186/187 [27:00<00:14, 14.62s/it]\n",
      "Finding clones based on VDJ chains : 100%|██████████| 119/119 [00:00<00:00, 3753.02it/s]\n",
      "\n",
      "Refining clone assignment based on VJ chain pairing : 100%|██████████| 350/350 [00:00<00:00, 336467.20it/s]\n"
     ]
    },
    {
     "name": "stdout",
     "output_type": "stream",
     "text": [
      "Computing Gini indices for cluster and vertex size using network.\n"
     ]
    },
    {
     "name": "stderr",
     "output_type": "stream",
     "text": [
      "100%|██████████| 187/187 [27:10<00:00,  8.72s/it]\n"
     ]
    }
   ],
   "source": [
    "result_df = {}\n",
    "for x in tqdm(vdjs):\n",
    "    ddl.tl.find_clones(vdjs[x])\n",
    "    result_df[x] = ddl.tl.clone_diversity(vdjs[x], groupby = 'sample_id', update_obs_meta = False, use_contracted = True, expanded_only = True)"
   ]
  },
  {
   "cell_type": "code",
   "execution_count": 17,
   "id": "23cd5d54",
   "metadata": {},
   "outputs": [
    {
     "name": "stderr",
     "output_type": "stream",
     "text": [
      "\r",
      "  0%|          | 0/187 [00:00<?, ?it/s]"
     ]
    },
    {
     "name": "stdout",
     "output_type": "stream",
     "text": [
      "Computing Gini indices for cluster and vertex size using network.\n"
     ]
    },
    {
     "name": "stderr",
     "output_type": "stream",
     "text": [
      "  1%|          | 1/187 [00:07<24:19,  7.85s/it]/nfs/users/nfs_k/kt16/miniconda2/envs/dandelion/lib/python3.8/site-packages/dandelion/tools/_diversity.py:464: UserWarning: The minimum cell numbers when grouped by sample_id is 63 (group C212_2705). Exercise caution when interpreting diversity measures.\n"
     ]
    },
    {
     "name": "stdout",
     "output_type": "stream",
     "text": [
      "Computing Gini indices for cluster and vertex size using network.\n"
     ]
    },
    {
     "name": "stderr",
     "output_type": "stream",
     "text": [
      "\r",
      "  1%|          | 2/187 [00:12<17:59,  5.83s/it]"
     ]
    },
    {
     "name": "stdout",
     "output_type": "stream",
     "text": [
      "Computing Gini indices for cluster and vertex size using network.\n"
     ]
    },
    {
     "name": "stderr",
     "output_type": "stream",
     "text": [
      "\r",
      "  2%|▏         | 3/187 [00:17<16:49,  5.49s/it]"
     ]
    },
    {
     "name": "stdout",
     "output_type": "stream",
     "text": [
      "Computing Gini indices for cluster and vertex size using network.\n"
     ]
    },
    {
     "name": "stderr",
     "output_type": "stream",
     "text": [
      "\r",
      "  2%|▏         | 4/187 [00:24<18:31,  6.08s/it]"
     ]
    },
    {
     "name": "stdout",
     "output_type": "stream",
     "text": [
      "Computing Gini indices for cluster and vertex size using network.\n"
     ]
    },
    {
     "name": "stderr",
     "output_type": "stream",
     "text": [
      "\r",
      "  3%|▎         | 5/187 [00:47<36:54, 12.17s/it]"
     ]
    },
    {
     "name": "stdout",
     "output_type": "stream",
     "text": [
      "Computing Gini indices for cluster and vertex size using network.\n"
     ]
    },
    {
     "name": "stderr",
     "output_type": "stream",
     "text": [
      "\r",
      "  3%|▎         | 6/187 [00:58<36:08, 11.98s/it]"
     ]
    },
    {
     "name": "stdout",
     "output_type": "stream",
     "text": [
      "Computing Gini indices for cluster and vertex size using network.\n"
     ]
    },
    {
     "name": "stderr",
     "output_type": "stream",
     "text": [
      "  4%|▎         | 7/187 [01:05<30:38, 10.22s/it]/nfs/users/nfs_k/kt16/miniconda2/envs/dandelion/lib/python3.8/site-packages/dandelion/tools/_diversity.py:464: UserWarning: The minimum cell numbers when grouped by sample_id is 89 (group C187_190121). Exercise caution when interpreting diversity measures.\n"
     ]
    },
    {
     "name": "stdout",
     "output_type": "stream",
     "text": [
      "Computing Gini indices for cluster and vertex size using network.\n"
     ]
    },
    {
     "name": "stderr",
     "output_type": "stream",
     "text": [
      "\r",
      "  4%|▍         | 8/187 [01:10<25:10,  8.44s/it]"
     ]
    },
    {
     "name": "stdout",
     "output_type": "stream",
     "text": [
      "Computing Gini indices for cluster and vertex size using network.\n"
     ]
    },
    {
     "name": "stderr",
     "output_type": "stream",
     "text": [
      "  5%|▍         | 9/187 [01:19<25:53,  8.73s/it]/nfs/users/nfs_k/kt16/miniconda2/envs/dandelion/lib/python3.8/site-packages/dandelion/tools/_diversity.py:464: UserWarning: The minimum cell numbers when grouped by sample_id is 41 (group C138_300420). Exercise caution when interpreting diversity measures.\n"
     ]
    },
    {
     "name": "stdout",
     "output_type": "stream",
     "text": [
      "Computing Gini indices for cluster and vertex size using network.\n"
     ]
    },
    {
     "name": "stderr",
     "output_type": "stream",
     "text": [
      "  5%|▌         | 10/187 [01:23<21:40,  7.35s/it]/nfs/users/nfs_k/kt16/miniconda2/envs/dandelion/lib/python3.8/site-packages/dandelion/tools/_diversity.py:464: UserWarning: The minimum cell numbers when grouped by sample_id is 36 (group C141_020221). Exercise caution when interpreting diversity measures.\n"
     ]
    },
    {
     "name": "stdout",
     "output_type": "stream",
     "text": [
      "Computing Gini indices for cluster and vertex size using network.\n"
     ]
    },
    {
     "name": "stderr",
     "output_type": "stream",
     "text": [
      "\r",
      "  6%|▌         | 11/187 [01:27<18:38,  6.36s/it]"
     ]
    },
    {
     "name": "stdout",
     "output_type": "stream",
     "text": [
      "Computing Gini indices for cluster and vertex size using network.\n"
     ]
    },
    {
     "name": "stderr",
     "output_type": "stream",
     "text": [
      "\r",
      "  6%|▋         | 12/187 [01:47<29:55, 10.26s/it]"
     ]
    },
    {
     "name": "stdout",
     "output_type": "stream",
     "text": [
      "Computing Gini indices for cluster and vertex size using network.\n"
     ]
    },
    {
     "name": "stderr",
     "output_type": "stream",
     "text": [
      "\r",
      "  7%|▋         | 13/187 [01:51<24:59,  8.62s/it]"
     ]
    },
    {
     "name": "stdout",
     "output_type": "stream",
     "text": [
      "Computing Gini indices for cluster and vertex size using network.\n"
     ]
    },
    {
     "name": "stderr",
     "output_type": "stream",
     "text": [
      "\r",
      "  7%|▋         | 14/187 [01:57<22:34,  7.83s/it]"
     ]
    },
    {
     "name": "stdout",
     "output_type": "stream",
     "text": [
      "Computing Gini indices for cluster and vertex size using network.\n"
     ]
    },
    {
     "name": "stderr",
     "output_type": "stream",
     "text": [
      "\r",
      "  8%|▊         | 15/187 [02:04<21:40,  7.56s/it]"
     ]
    },
    {
     "name": "stdout",
     "output_type": "stream",
     "text": [
      "Computing Gini indices for cluster and vertex size using network.\n"
     ]
    },
    {
     "name": "stderr",
     "output_type": "stream",
     "text": [
      "\r",
      "  9%|▊         | 16/187 [02:15<23:58,  8.41s/it]"
     ]
    },
    {
     "name": "stdout",
     "output_type": "stream",
     "text": [
      "Computing Gini indices for cluster and vertex size using network.\n"
     ]
    },
    {
     "name": "stderr",
     "output_type": "stream",
     "text": [
      "\r",
      "  9%|▉         | 17/187 [02:20<21:09,  7.47s/it]"
     ]
    },
    {
     "name": "stdout",
     "output_type": "stream",
     "text": [
      "Computing Gini indices for cluster and vertex size using network.\n"
     ]
    },
    {
     "name": "stderr",
     "output_type": "stream",
     "text": [
      "\r",
      " 10%|▉         | 18/187 [02:25<18:35,  6.60s/it]"
     ]
    },
    {
     "name": "stdout",
     "output_type": "stream",
     "text": [
      "Computing Gini indices for cluster and vertex size using network.\n"
     ]
    },
    {
     "name": "stderr",
     "output_type": "stream",
     "text": [
      " 10%|█         | 19/187 [02:31<18:45,  6.70s/it]/nfs/users/nfs_k/kt16/miniconda2/envs/dandelion/lib/python3.8/site-packages/dandelion/tools/_diversity.py:464: UserWarning: The minimum cell numbers when grouped by sample_id is 31 (group C58_250121). Exercise caution when interpreting diversity measures.\n"
     ]
    },
    {
     "name": "stdout",
     "output_type": "stream",
     "text": [
      "Computing Gini indices for cluster and vertex size using network.\n"
     ]
    },
    {
     "name": "stderr",
     "output_type": "stream",
     "text": [
      " 11%|█         | 20/187 [02:36<16:35,  5.96s/it]/nfs/users/nfs_k/kt16/miniconda2/envs/dandelion/lib/python3.8/site-packages/dandelion/tools/_diversity.py:464: UserWarning: The minimum cell numbers when grouped by sample_id is 31 (group C58_290121). Exercise caution when interpreting diversity measures.\n"
     ]
    },
    {
     "name": "stdout",
     "output_type": "stream",
     "text": [
      "Computing Gini indices for cluster and vertex size using network.\n"
     ]
    },
    {
     "name": "stderr",
     "output_type": "stream",
     "text": [
      " 11%|█         | 21/187 [02:40<15:00,  5.43s/it]/nfs/users/nfs_k/kt16/miniconda2/envs/dandelion/lib/python3.8/site-packages/dandelion/tools/_diversity.py:464: UserWarning: The minimum cell numbers when grouped by sample_id is 12 (group C170_120520). Exercise caution when interpreting diversity measures.\n"
     ]
    },
    {
     "name": "stdout",
     "output_type": "stream",
     "text": [
      "Computing Gini indices for cluster and vertex size using network.\n"
     ]
    },
    {
     "name": "stderr",
     "output_type": "stream",
     "text": [
      " 12%|█▏        | 22/187 [02:44<13:41,  4.98s/it]/nfs/users/nfs_k/kt16/miniconda2/envs/dandelion/lib/python3.8/site-packages/dandelion/tools/_diversity.py:464: UserWarning: The minimum cell numbers when grouped by sample_id is 33 (group C138_040221). Exercise caution when interpreting diversity measures.\n"
     ]
    },
    {
     "name": "stdout",
     "output_type": "stream",
     "text": [
      "Computing Gini indices for cluster and vertex size using network.\n"
     ]
    },
    {
     "name": "stderr",
     "output_type": "stream",
     "text": [
      " 12%|█▏        | 23/187 [02:48<12:58,  4.75s/it]/nfs/users/nfs_k/kt16/miniconda2/envs/dandelion/lib/python3.8/site-packages/dandelion/tools/_diversity.py:464: UserWarning: The minimum cell numbers when grouped by sample_id is 43 (group C187_120121). Exercise caution when interpreting diversity measures.\n"
     ]
    },
    {
     "name": "stdout",
     "output_type": "stream",
     "text": [
      "Computing Gini indices for cluster and vertex size using network.\n"
     ]
    },
    {
     "name": "stderr",
     "output_type": "stream",
     "text": [
      " 13%|█▎        | 24/187 [02:52<12:34,  4.63s/it]/nfs/users/nfs_k/kt16/miniconda2/envs/dandelion/lib/python3.8/site-packages/dandelion/tools/_diversity.py:464: UserWarning: The minimum cell numbers when grouped by sample_id is 53 (group C138_300121). Exercise caution when interpreting diversity measures.\n"
     ]
    },
    {
     "name": "stdout",
     "output_type": "stream",
     "text": [
      "Computing Gini indices for cluster and vertex size using network.\n"
     ]
    },
    {
     "name": "stderr",
     "output_type": "stream",
     "text": [
      "\r",
      " 13%|█▎        | 25/187 [02:57<12:15,  4.54s/it]"
     ]
    },
    {
     "name": "stdout",
     "output_type": "stream",
     "text": [
      "Computing Gini indices for cluster and vertex size using network.\n"
     ]
    },
    {
     "name": "stderr",
     "output_type": "stream",
     "text": [
      "\r",
      " 14%|█▍        | 26/187 [03:12<20:29,  7.63s/it]"
     ]
    },
    {
     "name": "stdout",
     "output_type": "stream",
     "text": [
      "Computing Gini indices for cluster and vertex size using network.\n"
     ]
    },
    {
     "name": "stderr",
     "output_type": "stream",
     "text": [
      " 14%|█▍        | 27/187 [03:23<23:22,  8.76s/it]/nfs/users/nfs_k/kt16/miniconda2/envs/dandelion/lib/python3.8/site-packages/dandelion/tools/_diversity.py:464: UserWarning: The minimum cell numbers when grouped by sample_id is 81 (group C170_230121). Exercise caution when interpreting diversity measures.\n"
     ]
    },
    {
     "name": "stdout",
     "output_type": "stream",
     "text": [
      "Computing Gini indices for cluster and vertex size using network.\n"
     ]
    },
    {
     "name": "stderr",
     "output_type": "stream",
     "text": [
      "\r",
      " 15%|█▍        | 28/187 [03:28<19:55,  7.52s/it]"
     ]
    },
    {
     "name": "stdout",
     "output_type": "stream",
     "text": [
      "Computing Gini indices for cluster and vertex size using network.\n"
     ]
    },
    {
     "name": "stderr",
     "output_type": "stream",
     "text": [
      " 16%|█▌        | 29/187 [03:34<18:46,  7.13s/it]/nfs/users/nfs_k/kt16/miniconda2/envs/dandelion/lib/python3.8/site-packages/dandelion/tools/_diversity.py:464: UserWarning: The minimum cell numbers when grouped by sample_id is 43 (group C161_1105). Exercise caution when interpreting diversity measures.\n"
     ]
    },
    {
     "name": "stdout",
     "output_type": "stream",
     "text": [
      "Computing Gini indices for cluster and vertex size using network.\n"
     ]
    },
    {
     "name": "stderr",
     "output_type": "stream",
     "text": [
      " 16%|█▌        | 30/187 [03:38<16:19,  6.24s/it]/nfs/users/nfs_k/kt16/miniconda2/envs/dandelion/lib/python3.8/site-packages/dandelion/tools/_diversity.py:464: UserWarning: The minimum cell numbers when grouped by sample_id is 38 (group C141_200121). Exercise caution when interpreting diversity measures.\n"
     ]
    },
    {
     "name": "stdout",
     "output_type": "stream",
     "text": [
      "Computing Gini indices for cluster and vertex size using network.\n"
     ]
    },
    {
     "name": "stderr",
     "output_type": "stream",
     "text": [
      "\r",
      " 17%|█▋        | 31/187 [03:42<14:37,  5.62s/it]"
     ]
    },
    {
     "name": "stdout",
     "output_type": "stream",
     "text": [
      "Computing Gini indices for cluster and vertex size using network.\n"
     ]
    },
    {
     "name": "stderr",
     "output_type": "stream",
     "text": [
      "\r",
      " 17%|█▋        | 32/187 [03:51<17:07,  6.63s/it]"
     ]
    },
    {
     "name": "stdout",
     "output_type": "stream",
     "text": [
      "Computing Gini indices for cluster and vertex size using network.\n"
     ]
    },
    {
     "name": "stderr",
     "output_type": "stream",
     "text": [
      "\r",
      " 18%|█▊        | 33/187 [04:03<21:19,  8.31s/it]"
     ]
    },
    {
     "name": "stdout",
     "output_type": "stream",
     "text": [
      "Computing Gini indices for cluster and vertex size using network.\n"
     ]
    },
    {
     "name": "stderr",
     "output_type": "stream",
     "text": [
      "\r",
      " 18%|█▊        | 34/187 [04:11<20:36,  8.08s/it]"
     ]
    },
    {
     "name": "stdout",
     "output_type": "stream",
     "text": [
      "Computing Gini indices for cluster and vertex size using network.\n"
     ]
    },
    {
     "name": "stderr",
     "output_type": "stream",
     "text": [
      "\r",
      " 19%|█▊        | 35/187 [04:16<18:07,  7.15s/it]"
     ]
    },
    {
     "name": "stdout",
     "output_type": "stream",
     "text": [
      "Computing Gini indices for cluster and vertex size using network.\n"
     ]
    },
    {
     "name": "stderr",
     "output_type": "stream",
     "text": [
      "\r",
      " 19%|█▉        | 36/187 [04:21<16:18,  6.48s/it]"
     ]
    },
    {
     "name": "stdout",
     "output_type": "stream",
     "text": [
      "Computing Gini indices for cluster and vertex size using network.\n"
     ]
    },
    {
     "name": "stderr",
     "output_type": "stream",
     "text": [
      " 20%|█▉        | 37/187 [04:30<18:05,  7.24s/it]/nfs/users/nfs_k/kt16/miniconda2/envs/dandelion/lib/python3.8/site-packages/dandelion/tools/_diversity.py:464: UserWarning: The minimum cell numbers when grouped by sample_id is 20 (group C108_150121). Exercise caution when interpreting diversity measures.\n"
     ]
    },
    {
     "name": "stdout",
     "output_type": "stream",
     "text": [
      "Computing Gini indices for cluster and vertex size using network.\n"
     ]
    },
    {
     "name": "stderr",
     "output_type": "stream",
     "text": [
      " 20%|██        | 38/187 [04:34<15:33,  6.27s/it]/nfs/users/nfs_k/kt16/miniconda2/envs/dandelion/lib/python3.8/site-packages/dandelion/tools/_diversity.py:464: UserWarning: The minimum cell numbers when grouped by sample_id is 95 (group C23_1504). Exercise caution when interpreting diversity measures.\n"
     ]
    },
    {
     "name": "stdout",
     "output_type": "stream",
     "text": [
      "Computing Gini indices for cluster and vertex size using network.\n"
     ]
    },
    {
     "name": "stderr",
     "output_type": "stream",
     "text": [
      "\r",
      " 21%|██        | 39/187 [04:39<14:24,  5.84s/it]"
     ]
    },
    {
     "name": "stdout",
     "output_type": "stream",
     "text": [
      "Computing Gini indices for cluster and vertex size using network.\n"
     ]
    },
    {
     "name": "stderr",
     "output_type": "stream",
     "text": [
      "\r",
      " 21%|██▏       | 40/187 [04:46<15:15,  6.23s/it]"
     ]
    },
    {
     "name": "stdout",
     "output_type": "stream",
     "text": [
      "Computing Gini indices for cluster and vertex size using network.\n"
     ]
    },
    {
     "name": "stderr",
     "output_type": "stream",
     "text": [
      " 22%|██▏       | 41/187 [04:51<14:06,  5.80s/it]/nfs/users/nfs_k/kt16/miniconda2/envs/dandelion/lib/python3.8/site-packages/dandelion/tools/_diversity.py:464: UserWarning: The minimum cell numbers when grouped by sample_id is 75 (group C196_2605). Exercise caution when interpreting diversity measures.\n"
     ]
    },
    {
     "name": "stdout",
     "output_type": "stream",
     "text": [
      "Computing Gini indices for cluster and vertex size using network.\n"
     ]
    },
    {
     "name": "stderr",
     "output_type": "stream",
     "text": [
      " 22%|██▏       | 42/187 [04:55<13:10,  5.45s/it]/nfs/users/nfs_k/kt16/miniconda2/envs/dandelion/lib/python3.8/site-packages/dandelion/tools/_diversity.py:464: UserWarning: The minimum cell numbers when grouped by sample_id is 8 (group C246_2905). Exercise caution when interpreting diversity measures.\n"
     ]
    },
    {
     "name": "stdout",
     "output_type": "stream",
     "text": [
      "Computing Gini indices for cluster and vertex size using network.\n"
     ]
    },
    {
     "name": "stderr",
     "output_type": "stream",
     "text": [
      " 23%|██▎       | 43/187 [04:59<12:00,  5.01s/it]/nfs/users/nfs_k/kt16/miniconda2/envs/dandelion/lib/python3.8/site-packages/dandelion/tools/_diversity.py:464: UserWarning: The minimum cell numbers when grouped by sample_id is 19 (group C170_280121). Exercise caution when interpreting diversity measures.\n"
     ]
    },
    {
     "name": "stdout",
     "output_type": "stream",
     "text": [
      "Computing Gini indices for cluster and vertex size using network.\n"
     ]
    },
    {
     "name": "stderr",
     "output_type": "stream",
     "text": [
      "\r",
      " 24%|██▎       | 44/187 [05:03<11:12,  4.70s/it]"
     ]
    },
    {
     "name": "stdout",
     "output_type": "stream",
     "text": [
      "Computing Gini indices for cluster and vertex size using network.\n"
     ]
    },
    {
     "name": "stderr",
     "output_type": "stream",
     "text": [
      "\r",
      " 24%|██▍       | 45/187 [05:12<14:22,  6.07s/it]"
     ]
    },
    {
     "name": "stdout",
     "output_type": "stream",
     "text": [
      "Computing Gini indices for cluster and vertex size using network.\n"
     ]
    },
    {
     "name": "stderr",
     "output_type": "stream",
     "text": [
      "\r",
      " 25%|██▍       | 46/187 [05:21<15:39,  6.66s/it]"
     ]
    },
    {
     "name": "stdout",
     "output_type": "stream",
     "text": [
      "Computing Gini indices for cluster and vertex size using network.\n"
     ]
    },
    {
     "name": "stderr",
     "output_type": "stream",
     "text": [
      "\r",
      " 25%|██▌       | 47/187 [05:25<14:17,  6.12s/it]"
     ]
    },
    {
     "name": "stdout",
     "output_type": "stream",
     "text": [
      "Computing Gini indices for cluster and vertex size using network.\n"
     ]
    },
    {
     "name": "stderr",
     "output_type": "stream",
     "text": [
      "\r",
      " 26%|██▌       | 48/187 [05:34<15:58,  6.90s/it]"
     ]
    },
    {
     "name": "stdout",
     "output_type": "stream",
     "text": [
      "Computing Gini indices for cluster and vertex size using network.\n"
     ]
    },
    {
     "name": "stderr",
     "output_type": "stream",
     "text": [
      " 26%|██▌       | 49/187 [05:41<15:47,  6.86s/it]/nfs/users/nfs_k/kt16/miniconda2/envs/dandelion/lib/python3.8/site-packages/dandelion/tools/_diversity.py:464: UserWarning: The minimum cell numbers when grouped by sample_id is 94 (group C141_260121). Exercise caution when interpreting diversity measures.\n"
     ]
    },
    {
     "name": "stdout",
     "output_type": "stream",
     "text": [
      "Computing Gini indices for cluster and vertex size using network.\n"
     ]
    },
    {
     "name": "stderr",
     "output_type": "stream",
     "text": [
      " 27%|██▋       | 50/187 [05:46<14:12,  6.22s/it]/nfs/users/nfs_k/kt16/miniconda2/envs/dandelion/lib/python3.8/site-packages/dandelion/tools/_diversity.py:464: UserWarning: The minimum cell numbers when grouped by sample_id is 8 (group C58_270121). Exercise caution when interpreting diversity measures.\n"
     ]
    },
    {
     "name": "stdout",
     "output_type": "stream",
     "text": [
      "Computing Gini indices for cluster and vertex size using network.\n"
     ]
    },
    {
     "name": "stderr",
     "output_type": "stream",
     "text": [
      " 27%|██▋       | 51/187 [05:50<12:37,  5.57s/it]/nfs/users/nfs_k/kt16/miniconda2/envs/dandelion/lib/python3.8/site-packages/dandelion/tools/_diversity.py:464: UserWarning: The minimum cell numbers when grouped by sample_id is 57 (group C170_300121). Exercise caution when interpreting diversity measures.\n"
     ]
    },
    {
     "name": "stdout",
     "output_type": "stream",
     "text": [
      "Computing Gini indices for cluster and vertex size using network.\n"
     ]
    },
    {
     "name": "stderr",
     "output_type": "stream",
     "text": [
      " 28%|██▊       | 52/187 [05:54<11:44,  5.22s/it]/nfs/users/nfs_k/kt16/miniconda2/envs/dandelion/lib/python3.8/site-packages/dandelion/tools/_diversity.py:464: UserWarning: The minimum cell numbers when grouped by sample_id is 87 (group C60_2104). Exercise caution when interpreting diversity measures.\n"
     ]
    },
    {
     "name": "stdout",
     "output_type": "stream",
     "text": [
      "Computing Gini indices for cluster and vertex size using network.\n"
     ]
    },
    {
     "name": "stderr",
     "output_type": "stream",
     "text": [
      " 28%|██▊       | 53/187 [05:59<11:08,  4.99s/it]/nfs/users/nfs_k/kt16/miniconda2/envs/dandelion/lib/python3.8/site-packages/dandelion/tools/_diversity.py:464: UserWarning: The minimum cell numbers when grouped by sample_id is 71 (group C85_2004). Exercise caution when interpreting diversity measures.\n"
     ]
    },
    {
     "name": "stdout",
     "output_type": "stream",
     "text": [
      "Computing Gini indices for cluster and vertex size using network.\n"
     ]
    },
    {
     "name": "stderr",
     "output_type": "stream",
     "text": [
      "\r",
      " 29%|██▉       | 54/187 [06:03<10:46,  4.86s/it]"
     ]
    },
    {
     "name": "stdout",
     "output_type": "stream",
     "text": [
      "Computing Gini indices for cluster and vertex size using network.\n"
     ]
    },
    {
     "name": "stderr",
     "output_type": "stream",
     "text": [
      "\r",
      " 29%|██▉       | 55/187 [06:15<15:20,  6.97s/it]"
     ]
    },
    {
     "name": "stdout",
     "output_type": "stream",
     "text": [
      "Computing Gini indices for cluster and vertex size using network.\n"
     ]
    },
    {
     "name": "stderr",
     "output_type": "stream",
     "text": [
      "\r",
      " 30%|██▉       | 56/187 [06:20<13:57,  6.39s/it]"
     ]
    },
    {
     "name": "stdout",
     "output_type": "stream",
     "text": [
      "Computing Gini indices for cluster and vertex size using network.\n"
     ]
    },
    {
     "name": "stderr",
     "output_type": "stream",
     "text": [
      "\r",
      " 30%|███       | 57/187 [06:30<16:24,  7.57s/it]"
     ]
    },
    {
     "name": "stdout",
     "output_type": "stream",
     "text": [
      "Computing Gini indices for cluster and vertex size using network.\n"
     ]
    },
    {
     "name": "stderr",
     "output_type": "stream",
     "text": [
      "\r",
      " 31%|███       | 58/187 [06:36<14:50,  6.90s/it]"
     ]
    },
    {
     "name": "stdout",
     "output_type": "stream",
     "text": [
      "Computing Gini indices for cluster and vertex size using network.\n"
     ]
    },
    {
     "name": "stderr",
     "output_type": "stream",
     "text": [
      " 32%|███▏      | 59/187 [06:44<15:46,  7.40s/it]/nfs/users/nfs_k/kt16/miniconda2/envs/dandelion/lib/python3.8/site-packages/dandelion/tools/_diversity.py:464: UserWarning: The minimum cell numbers when grouped by sample_id is 92 (group C146_160121). Exercise caution when interpreting diversity measures.\n"
     ]
    },
    {
     "name": "stdout",
     "output_type": "stream",
     "text": [
      "Computing Gini indices for cluster and vertex size using network.\n"
     ]
    },
    {
     "name": "stderr",
     "output_type": "stream",
     "text": [
      " 32%|███▏      | 60/187 [06:49<13:57,  6.59s/it]/nfs/users/nfs_k/kt16/miniconda2/envs/dandelion/lib/python3.8/site-packages/dandelion/tools/_diversity.py:464: UserWarning: The minimum cell numbers when grouped by sample_id is 63 (group C170_260121). Exercise caution when interpreting diversity measures.\n"
     ]
    },
    {
     "name": "stdout",
     "output_type": "stream",
     "text": [
      "Computing Gini indices for cluster and vertex size using network.\n"
     ]
    },
    {
     "name": "stderr",
     "output_type": "stream",
     "text": [
      " 33%|███▎      | 61/187 [06:53<12:22,  5.89s/it]/nfs/users/nfs_k/kt16/miniconda2/envs/dandelion/lib/python3.8/site-packages/dandelion/tools/_diversity.py:464: UserWarning: The minimum cell numbers when grouped by sample_id is 36 (group C170_040221). Exercise caution when interpreting diversity measures.\n"
     ]
    },
    {
     "name": "stdout",
     "output_type": "stream",
     "text": [
      "Computing Gini indices for cluster and vertex size using network.\n"
     ]
    },
    {
     "name": "stderr",
     "output_type": "stream",
     "text": [
      " 33%|███▎      | 62/187 [06:57<11:13,  5.39s/it]/nfs/users/nfs_k/kt16/miniconda2/envs/dandelion/lib/python3.8/site-packages/dandelion/tools/_diversity.py:464: UserWarning: The minimum cell numbers when grouped by sample_id is 62 (group C164_1105). Exercise caution when interpreting diversity measures.\n"
     ]
    },
    {
     "name": "stdout",
     "output_type": "stream",
     "text": [
      "Computing Gini indices for cluster and vertex size using network.\n"
     ]
    },
    {
     "name": "stderr",
     "output_type": "stream",
     "text": [
      " 34%|███▎      | 63/187 [07:02<10:35,  5.12s/it]/nfs/users/nfs_k/kt16/miniconda2/envs/dandelion/lib/python3.8/site-packages/dandelion/tools/_diversity.py:464: UserWarning: The minimum cell numbers when grouped by sample_id is 79 (group C58_100321). Exercise caution when interpreting diversity measures.\n"
     ]
    },
    {
     "name": "stdout",
     "output_type": "stream",
     "text": [
      "Computing Gini indices for cluster and vertex size using network.\n"
     ]
    },
    {
     "name": "stderr",
     "output_type": "stream",
     "text": [
      " 34%|███▍      | 64/187 [07:06<10:07,  4.94s/it]/nfs/users/nfs_k/kt16/miniconda2/envs/dandelion/lib/python3.8/site-packages/dandelion/tools/_diversity.py:464: UserWarning: The minimum cell numbers when grouped by sample_id is 25 (group C82_2004). Exercise caution when interpreting diversity measures.\n"
     ]
    },
    {
     "name": "stdout",
     "output_type": "stream",
     "text": [
      "Computing Gini indices for cluster and vertex size using network.\n"
     ]
    },
    {
     "name": "stderr",
     "output_type": "stream",
     "text": [
      "\r",
      " 35%|███▍      | 65/187 [07:10<09:29,  4.66s/it]"
     ]
    },
    {
     "name": "stdout",
     "output_type": "stream",
     "text": [
      "Computing Gini indices for cluster and vertex size using network.\n"
     ]
    },
    {
     "name": "stderr",
     "output_type": "stream",
     "text": [
      " 35%|███▌      | 66/187 [07:16<09:54,  4.91s/it]/nfs/users/nfs_k/kt16/miniconda2/envs/dandelion/lib/python3.8/site-packages/dandelion/tools/_diversity.py:464: UserWarning: The minimum cell numbers when grouped by sample_id is 47 (group C170_040321). Exercise caution when interpreting diversity measures.\n"
     ]
    },
    {
     "name": "stdout",
     "output_type": "stream",
     "text": [
      "Computing Gini indices for cluster and vertex size using network.\n"
     ]
    },
    {
     "name": "stderr",
     "output_type": "stream",
     "text": [
      "\r",
      " 36%|███▌      | 67/187 [07:20<09:29,  4.75s/it]"
     ]
    },
    {
     "name": "stdout",
     "output_type": "stream",
     "text": [
      "Computing Gini indices for cluster and vertex size using network.\n"
     ]
    },
    {
     "name": "stderr",
     "output_type": "stream",
     "text": [
      "\r",
      " 36%|███▋      | 68/187 [07:26<09:57,  5.02s/it]"
     ]
    },
    {
     "name": "stdout",
     "output_type": "stream",
     "text": [
      "Computing Gini indices for cluster and vertex size using network.\n"
     ]
    },
    {
     "name": "stderr",
     "output_type": "stream",
     "text": [
      " 37%|███▋      | 69/187 [07:31<09:58,  5.07s/it]/nfs/users/nfs_k/kt16/miniconda2/envs/dandelion/lib/python3.8/site-packages/dandelion/tools/_diversity.py:464: UserWarning: The minimum cell numbers when grouped by sample_id is 54 (group C137_280121). Exercise caution when interpreting diversity measures.\n"
     ]
    },
    {
     "name": "stdout",
     "output_type": "stream",
     "text": [
      "Computing Gini indices for cluster and vertex size using network.\n"
     ]
    },
    {
     "name": "stderr",
     "output_type": "stream",
     "text": [
      "\r",
      " 37%|███▋      | 70/187 [07:36<09:31,  4.88s/it]"
     ]
    },
    {
     "name": "stdout",
     "output_type": "stream",
     "text": [
      "Computing Gini indices for cluster and vertex size using network.\n"
     ]
    },
    {
     "name": "stderr",
     "output_type": "stream",
     "text": [
      "\r",
      " 38%|███▊      | 71/187 [07:45<12:11,  6.31s/it]"
     ]
    },
    {
     "name": "stdout",
     "output_type": "stream",
     "text": [
      "Computing Gini indices for cluster and vertex size using network.\n"
     ]
    },
    {
     "name": "stderr",
     "output_type": "stream",
     "text": [
      "\r",
      " 39%|███▊      | 72/187 [07:53<12:43,  6.64s/it]"
     ]
    },
    {
     "name": "stdout",
     "output_type": "stream",
     "text": [
      "Computing Gini indices for cluster and vertex size using network.\n"
     ]
    },
    {
     "name": "stderr",
     "output_type": "stream",
     "text": [
      " 39%|███▉      | 73/187 [07:59<12:12,  6.42s/it]/nfs/users/nfs_k/kt16/miniconda2/envs/dandelion/lib/python3.8/site-packages/dandelion/tools/_diversity.py:464: UserWarning: The minimum cell numbers when grouped by sample_id is 3 (group C108_220420). Exercise caution when interpreting diversity measures.\n"
     ]
    },
    {
     "name": "stdout",
     "output_type": "stream",
     "text": [
      "Computing Gini indices for cluster and vertex size using network.\n"
     ]
    },
    {
     "name": "stderr",
     "output_type": "stream",
     "text": [
      " 40%|███▉      | 74/187 [08:02<10:38,  5.65s/it]/nfs/users/nfs_k/kt16/miniconda2/envs/dandelion/lib/python3.8/site-packages/dandelion/tools/_diversity.py:464: UserWarning: The minimum cell numbers when grouped by sample_id is 13 (group C73_2004). Exercise caution when interpreting diversity measures.\n"
     ]
    },
    {
     "name": "stdout",
     "output_type": "stream",
     "text": [
      "Computing Gini indices for cluster and vertex size using network.\n"
     ]
    },
    {
     "name": "stderr",
     "output_type": "stream",
     "text": [
      " 40%|████      | 75/187 [08:06<09:36,  5.14s/it]/nfs/users/nfs_k/kt16/miniconda2/envs/dandelion/lib/python3.8/site-packages/dandelion/tools/_diversity.py:464: UserWarning: The minimum cell numbers when grouped by sample_id is 74 (group C101_130121). Exercise caution when interpreting diversity measures.\n"
     ]
    },
    {
     "name": "stdout",
     "output_type": "stream",
     "text": [
      "Computing Gini indices for cluster and vertex size using network.\n"
     ]
    },
    {
     "name": "stderr",
     "output_type": "stream",
     "text": [
      " 41%|████      | 76/187 [08:11<09:16,  5.01s/it]/nfs/users/nfs_k/kt16/miniconda2/envs/dandelion/lib/python3.8/site-packages/dandelion/tools/_diversity.py:464: UserWarning: The minimum cell numbers when grouped by sample_id is 99 (group C65_2504). Exercise caution when interpreting diversity measures.\n"
     ]
    },
    {
     "name": "stdout",
     "output_type": "stream",
     "text": [
      "Computing Gini indices for cluster and vertex size using network.\n"
     ]
    },
    {
     "name": "stderr",
     "output_type": "stream",
     "text": [
      "\r",
      " 41%|████      | 77/187 [08:16<09:04,  4.95s/it]"
     ]
    },
    {
     "name": "stdout",
     "output_type": "stream",
     "text": [
      "Computing Gini indices for cluster and vertex size using network.\n"
     ]
    },
    {
     "name": "stderr",
     "output_type": "stream",
     "text": [
      "\r",
      " 42%|████▏     | 78/187 [08:23<10:24,  5.73s/it]"
     ]
    },
    {
     "name": "stdout",
     "output_type": "stream",
     "text": [
      "Computing Gini indices for cluster and vertex size using network.\n"
     ]
    },
    {
     "name": "stderr",
     "output_type": "stream",
     "text": [
      "\r",
      " 42%|████▏     | 79/187 [08:32<11:54,  6.62s/it]"
     ]
    },
    {
     "name": "stdout",
     "output_type": "stream",
     "text": [
      "Computing Gini indices for cluster and vertex size using network.\n"
     ]
    },
    {
     "name": "stderr",
     "output_type": "stream",
     "text": [
      "\r",
      " 43%|████▎     | 80/187 [08:50<17:42,  9.93s/it]"
     ]
    },
    {
     "name": "stdout",
     "output_type": "stream",
     "text": [
      "Computing Gini indices for cluster and vertex size using network.\n"
     ]
    },
    {
     "name": "stderr",
     "output_type": "stream",
     "text": [
      " 43%|████▎     | 81/187 [09:01<18:00, 10.19s/it]/nfs/users/nfs_k/kt16/miniconda2/envs/dandelion/lib/python3.8/site-packages/dandelion/tools/_diversity.py:464: UserWarning: The minimum cell numbers when grouped by sample_id is 42 (group C152_0405). Exercise caution when interpreting diversity measures.\n"
     ]
    },
    {
     "name": "stdout",
     "output_type": "stream",
     "text": [
      "Computing Gini indices for cluster and vertex size using network.\n"
     ]
    },
    {
     "name": "stderr",
     "output_type": "stream",
     "text": [
      " 44%|████▍     | 82/187 [09:06<15:21,  8.78s/it]/nfs/users/nfs_k/kt16/miniconda2/envs/dandelion/lib/python3.8/site-packages/dandelion/tools/_diversity.py:464: UserWarning: The minimum cell numbers when grouped by sample_id is 24 (group C34_2504). Exercise caution when interpreting diversity measures.\n"
     ]
    },
    {
     "name": "stdout",
     "output_type": "stream",
     "text": [
      "Computing Gini indices for cluster and vertex size using network.\n"
     ]
    },
    {
     "name": "stderr",
     "output_type": "stream",
     "text": [
      "\r",
      " 44%|████▍     | 83/187 [09:10<12:49,  7.40s/it]"
     ]
    },
    {
     "name": "stdout",
     "output_type": "stream",
     "text": [
      "Computing Gini indices for cluster and vertex size using network.\n"
     ]
    },
    {
     "name": "stderr",
     "output_type": "stream",
     "text": [
      " 45%|████▍     | 84/187 [09:17<12:22,  7.21s/it]/nfs/users/nfs_k/kt16/miniconda2/envs/dandelion/lib/python3.8/site-packages/dandelion/tools/_diversity.py:464: UserWarning: The minimum cell numbers when grouped by sample_id is 18 (group C101_110121). Exercise caution when interpreting diversity measures.\n"
     ]
    },
    {
     "name": "stdout",
     "output_type": "stream",
     "text": [
      "Computing Gini indices for cluster and vertex size using network.\n"
     ]
    },
    {
     "name": "stderr",
     "output_type": "stream",
     "text": [
      " 45%|████▌     | 85/187 [09:21<10:38,  6.26s/it]/nfs/users/nfs_k/kt16/miniconda2/envs/dandelion/lib/python3.8/site-packages/dandelion/tools/_diversity.py:464: UserWarning: The minimum cell numbers when grouped by sample_id is 21 (group C138_280121). Exercise caution when interpreting diversity measures.\n"
     ]
    },
    {
     "name": "stdout",
     "output_type": "stream",
     "text": [
      "Computing Gini indices for cluster and vertex size using network.\n"
     ]
    },
    {
     "name": "stderr",
     "output_type": "stream",
     "text": [
      "\r",
      " 46%|████▌     | 86/187 [09:25<09:29,  5.64s/it]"
     ]
    },
    {
     "name": "stdout",
     "output_type": "stream",
     "text": [
      "Computing Gini indices for cluster and vertex size using network.\n"
     ]
    },
    {
     "name": "stderr",
     "output_type": "stream",
     "text": [
      "\r",
      " 47%|████▋     | 87/187 [09:32<10:01,  6.01s/it]"
     ]
    },
    {
     "name": "stdout",
     "output_type": "stream",
     "text": [
      "Computing Gini indices for cluster and vertex size using network.\n"
     ]
    },
    {
     "name": "stderr",
     "output_type": "stream",
     "text": [
      "\r",
      " 47%|████▋     | 88/187 [09:38<09:53,  6.00s/it]"
     ]
    },
    {
     "name": "stdout",
     "output_type": "stream",
     "text": [
      "Computing Gini indices for cluster and vertex size using network.\n"
     ]
    },
    {
     "name": "stderr",
     "output_type": "stream",
     "text": [
      "\r",
      " 48%|████▊     | 89/187 [09:45<10:17,  6.30s/it]"
     ]
    },
    {
     "name": "stdout",
     "output_type": "stream",
     "text": [
      "Computing Gini indices for cluster and vertex size using network.\n"
     ]
    },
    {
     "name": "stderr",
     "output_type": "stream",
     "text": [
      "\r",
      " 48%|████▊     | 90/187 [09:55<11:55,  7.38s/it]"
     ]
    },
    {
     "name": "stdout",
     "output_type": "stream",
     "text": [
      "Computing Gini indices for cluster and vertex size using network.\n"
     ]
    },
    {
     "name": "stderr",
     "output_type": "stream",
     "text": [
      " 49%|████▊     | 91/187 [10:00<10:53,  6.80s/it]/nfs/users/nfs_k/kt16/miniconda2/envs/dandelion/lib/python3.8/site-packages/dandelion/tools/_diversity.py:464: UserWarning: The minimum cell numbers when grouped by sample_id is 41 (group C138_230121). Exercise caution when interpreting diversity measures.\n"
     ]
    },
    {
     "name": "stdout",
     "output_type": "stream",
     "text": [
      "Computing Gini indices for cluster and vertex size using network.\n"
     ]
    },
    {
     "name": "stderr",
     "output_type": "stream",
     "text": [
      " 49%|████▉     | 92/187 [10:05<09:42,  6.14s/it]/nfs/users/nfs_k/kt16/miniconda2/envs/dandelion/lib/python3.8/site-packages/dandelion/tools/_diversity.py:464: UserWarning: The minimum cell numbers when grouped by sample_id is 18 (group C58_010221). Exercise caution when interpreting diversity measures.\n"
     ]
    },
    {
     "name": "stdout",
     "output_type": "stream",
     "text": [
      "Computing Gini indices for cluster and vertex size using network.\n"
     ]
    },
    {
     "name": "stderr",
     "output_type": "stream",
     "text": [
      "\r",
      " 50%|████▉     | 93/187 [10:10<08:58,  5.73s/it]"
     ]
    },
    {
     "name": "stdout",
     "output_type": "stream",
     "text": [
      "Computing Gini indices for cluster and vertex size using network.\n"
     ]
    },
    {
     "name": "stderr",
     "output_type": "stream",
     "text": [
      "\r",
      " 50%|█████     | 94/187 [10:17<09:41,  6.26s/it]"
     ]
    },
    {
     "name": "stdout",
     "output_type": "stream",
     "text": [
      "Computing Gini indices for cluster and vertex size using network.\n"
     ]
    },
    {
     "name": "stderr",
     "output_type": "stream",
     "text": [
      " 51%|█████     | 95/187 [10:23<09:22,  6.11s/it]/nfs/users/nfs_k/kt16/miniconda2/envs/dandelion/lib/python3.8/site-packages/dandelion/tools/_diversity.py:464: UserWarning: The minimum cell numbers when grouped by sample_id is 18 (group C101_250221). Exercise caution when interpreting diversity measures.\n"
     ]
    },
    {
     "name": "stdout",
     "output_type": "stream",
     "text": [
      "Computing Gini indices for cluster and vertex size using network.\n"
     ]
    },
    {
     "name": "stderr",
     "output_type": "stream",
     "text": [
      "\r",
      " 51%|█████▏    | 96/187 [10:28<08:31,  5.63s/it]"
     ]
    },
    {
     "name": "stdout",
     "output_type": "stream",
     "text": [
      "Computing Gini indices for cluster and vertex size using network.\n"
     ]
    },
    {
     "name": "stderr",
     "output_type": "stream",
     "text": [
      " 52%|█████▏    | 97/187 [10:42<12:22,  8.25s/it]/nfs/users/nfs_k/kt16/miniconda2/envs/dandelion/lib/python3.8/site-packages/dandelion/tools/_diversity.py:464: UserWarning: The minimum cell numbers when grouped by sample_id is 36 (group C73_2404). Exercise caution when interpreting diversity measures.\n"
     ]
    },
    {
     "name": "stdout",
     "output_type": "stream",
     "text": [
      "Computing Gini indices for cluster and vertex size using network.\n"
     ]
    },
    {
     "name": "stderr",
     "output_type": "stream",
     "text": [
      "\r",
      " 52%|█████▏    | 98/187 [10:47<10:38,  7.17s/it]"
     ]
    },
    {
     "name": "stdout",
     "output_type": "stream",
     "text": [
      "Computing Gini indices for cluster and vertex size using network.\n"
     ]
    },
    {
     "name": "stderr",
     "output_type": "stream",
     "text": [
      " 53%|█████▎    | 99/187 [10:53<10:01,  6.83s/it]/nfs/users/nfs_k/kt16/miniconda2/envs/dandelion/lib/python3.8/site-packages/dandelion/tools/_diversity.py:464: UserWarning: The minimum cell numbers when grouped by sample_id is 43 (group C108_180121). Exercise caution when interpreting diversity measures.\n"
     ]
    },
    {
     "name": "stdout",
     "output_type": "stream",
     "text": [
      "Computing Gini indices for cluster and vertex size using network.\n"
     ]
    },
    {
     "name": "stderr",
     "output_type": "stream",
     "text": [
      "\r",
      " 53%|█████▎    | 100/187 [10:58<09:11,  6.34s/it]"
     ]
    },
    {
     "name": "stdout",
     "output_type": "stream",
     "text": [
      "Computing Gini indices for cluster and vertex size using network.\n"
     ]
    },
    {
     "name": "stderr",
     "output_type": "stream",
     "text": [
      " 54%|█████▍    | 101/187 [11:06<09:48,  6.84s/it]/nfs/users/nfs_k/kt16/miniconda2/envs/dandelion/lib/python3.8/site-packages/dandelion/tools/_diversity.py:464: UserWarning: The minimum cell numbers when grouped by sample_id is 93 (group C187_250221). Exercise caution when interpreting diversity measures.\n"
     ]
    },
    {
     "name": "stdout",
     "output_type": "stream",
     "text": [
      "Computing Gini indices for cluster and vertex size using network.\n"
     ]
    },
    {
     "name": "stderr",
     "output_type": "stream",
     "text": [
      "\r",
      " 55%|█████▍    | 102/187 [11:11<09:08,  6.45s/it]"
     ]
    },
    {
     "name": "stdout",
     "output_type": "stream",
     "text": [
      "Computing Gini indices for cluster and vertex size using network.\n"
     ]
    },
    {
     "name": "stderr",
     "output_type": "stream",
     "text": [
      " 55%|█████▌    | 103/187 [11:19<09:27,  6.75s/it]/nfs/users/nfs_k/kt16/miniconda2/envs/dandelion/lib/python3.8/site-packages/dandelion/tools/_diversity.py:464: UserWarning: The minimum cell numbers when grouped by sample_id is 92 (group C187_140121). Exercise caution when interpreting diversity measures.\n"
     ]
    },
    {
     "name": "stdout",
     "output_type": "stream",
     "text": [
      "Computing Gini indices for cluster and vertex size using network.\n"
     ]
    },
    {
     "name": "stderr",
     "output_type": "stream",
     "text": [
      "\r",
      " 56%|█████▌    | 104/187 [11:24<08:46,  6.35s/it]"
     ]
    },
    {
     "name": "stdout",
     "output_type": "stream",
     "text": [
      "Computing Gini indices for cluster and vertex size using network.\n"
     ]
    },
    {
     "name": "stderr",
     "output_type": "stream",
     "text": [
      "\r",
      " 56%|█████▌    | 105/187 [11:31<08:43,  6.38s/it]"
     ]
    },
    {
     "name": "stdout",
     "output_type": "stream",
     "text": [
      "Computing Gini indices for cluster and vertex size using network.\n"
     ]
    },
    {
     "name": "stderr",
     "output_type": "stream",
     "text": [
      "\r",
      " 57%|█████▋    | 106/187 [11:51<14:25, 10.68s/it]"
     ]
    },
    {
     "name": "stdout",
     "output_type": "stream",
     "text": [
      "Computing Gini indices for cluster and vertex size using network.\n"
     ]
    },
    {
     "name": "stderr",
     "output_type": "stream",
     "text": [
      "\r",
      " 57%|█████▋    | 107/187 [11:57<12:16,  9.21s/it]"
     ]
    },
    {
     "name": "stdout",
     "output_type": "stream",
     "text": [
      "Computing Gini indices for cluster and vertex size using network.\n"
     ]
    },
    {
     "name": "stderr",
     "output_type": "stream",
     "text": [
      " 58%|█████▊    | 108/187 [12:15<15:23, 11.69s/it]/nfs/users/nfs_k/kt16/miniconda2/envs/dandelion/lib/python3.8/site-packages/dandelion/tools/_diversity.py:464: UserWarning: The minimum cell numbers when grouped by sample_id is 99 (group C251_2905). Exercise caution when interpreting diversity measures.\n"
     ]
    },
    {
     "name": "stdout",
     "output_type": "stream",
     "text": [
      "Computing Gini indices for cluster and vertex size using network.\n"
     ]
    },
    {
     "name": "stderr",
     "output_type": "stream",
     "text": [
      "\r",
      " 58%|█████▊    | 109/187 [12:19<12:31,  9.63s/it]"
     ]
    },
    {
     "name": "stdout",
     "output_type": "stream",
     "text": [
      "Computing Gini indices for cluster and vertex size using network.\n"
     ]
    },
    {
     "name": "stderr",
     "output_type": "stream",
     "text": [
      " 59%|█████▉    | 110/187 [12:32<13:29, 10.51s/it]/nfs/users/nfs_k/kt16/miniconda2/envs/dandelion/lib/python3.8/site-packages/dandelion/tools/_diversity.py:464: UserWarning: The minimum cell numbers when grouped by sample_id is 89 (group C169_200121). Exercise caution when interpreting diversity measures.\n"
     ]
    },
    {
     "name": "stdout",
     "output_type": "stream",
     "text": [
      "Computing Gini indices for cluster and vertex size using network.\n"
     ]
    },
    {
     "name": "stderr",
     "output_type": "stream",
     "text": [
      "\r",
      " 59%|█████▉    | 111/187 [12:37<11:02,  8.71s/it]"
     ]
    },
    {
     "name": "stdout",
     "output_type": "stream",
     "text": [
      "Computing Gini indices for cluster and vertex size using network.\n"
     ]
    },
    {
     "name": "stderr",
     "output_type": "stream",
     "text": [
      "\r",
      " 60%|█████▉    | 112/187 [12:43<10:08,  8.11s/it]"
     ]
    },
    {
     "name": "stdout",
     "output_type": "stream",
     "text": [
      "Computing Gini indices for cluster and vertex size using network.\n"
     ]
    },
    {
     "name": "stderr",
     "output_type": "stream",
     "text": [
      " 60%|██████    | 113/187 [12:50<09:25,  7.64s/it]/nfs/users/nfs_k/kt16/miniconda2/envs/dandelion/lib/python3.8/site-packages/dandelion/tools/_diversity.py:464: UserWarning: The minimum cell numbers when grouped by sample_id is 8 (group C187_260121). Exercise caution when interpreting diversity measures.\n"
     ]
    },
    {
     "name": "stdout",
     "output_type": "stream",
     "text": [
      "Computing Gini indices for cluster and vertex size using network.\n"
     ]
    },
    {
     "name": "stderr",
     "output_type": "stream",
     "text": [
      "\r",
      " 61%|██████    | 114/187 [12:54<07:55,  6.52s/it]"
     ]
    },
    {
     "name": "stdout",
     "output_type": "stream",
     "text": [
      "Computing Gini indices for cluster and vertex size using network.\n"
     ]
    },
    {
     "name": "stderr",
     "output_type": "stream",
     "text": [
      "\r",
      " 61%|██████▏   | 115/187 [13:00<07:43,  6.43s/it]"
     ]
    },
    {
     "name": "stdout",
     "output_type": "stream",
     "text": [
      "Computing Gini indices for cluster and vertex size using network.\n"
     ]
    },
    {
     "name": "stderr",
     "output_type": "stream",
     "text": [
      "\r",
      " 62%|██████▏   | 116/187 [13:06<07:33,  6.38s/it]"
     ]
    },
    {
     "name": "stdout",
     "output_type": "stream",
     "text": [
      "Computing Gini indices for cluster and vertex size using network.\n"
     ]
    },
    {
     "name": "stderr",
     "output_type": "stream",
     "text": [
      "\r",
      " 63%|██████▎   | 117/187 [13:12<07:07,  6.11s/it]"
     ]
    },
    {
     "name": "stdout",
     "output_type": "stream",
     "text": [
      "Computing Gini indices for cluster and vertex size using network.\n"
     ]
    },
    {
     "name": "stderr",
     "output_type": "stream",
     "text": [
      " 63%|██████▎   | 118/187 [13:19<07:19,  6.37s/it]/nfs/users/nfs_k/kt16/miniconda2/envs/dandelion/lib/python3.8/site-packages/dandelion/tools/_diversity.py:464: UserWarning: The minimum cell numbers when grouped by sample_id is 98 (group C168_120520). Exercise caution when interpreting diversity measures.\n"
     ]
    },
    {
     "name": "stdout",
     "output_type": "stream",
     "text": [
      "Computing Gini indices for cluster and vertex size using network.\n"
     ]
    },
    {
     "name": "stderr",
     "output_type": "stream",
     "text": [
      "\r",
      " 64%|██████▎   | 119/187 [13:24<06:41,  5.91s/it]"
     ]
    },
    {
     "name": "stdout",
     "output_type": "stream",
     "text": [
      "Computing Gini indices for cluster and vertex size using network.\n"
     ]
    },
    {
     "name": "stderr",
     "output_type": "stream",
     "text": [
      " 64%|██████▍   | 120/187 [13:33<07:38,  6.84s/it]/nfs/users/nfs_k/kt16/miniconda2/envs/dandelion/lib/python3.8/site-packages/dandelion/tools/_diversity.py:464: UserWarning: The minimum cell numbers when grouped by sample_id is 31 (group C60_1604). Exercise caution when interpreting diversity measures.\n"
     ]
    },
    {
     "name": "stdout",
     "output_type": "stream",
     "text": [
      "Computing Gini indices for cluster and vertex size using network.\n"
     ]
    },
    {
     "name": "stderr",
     "output_type": "stream",
     "text": [
      " 65%|██████▍   | 121/187 [13:37<06:38,  6.04s/it]/nfs/users/nfs_k/kt16/miniconda2/envs/dandelion/lib/python3.8/site-packages/dandelion/tools/_diversity.py:464: UserWarning: The minimum cell numbers when grouped by sample_id is 99 (group C146_140121). Exercise caution when interpreting diversity measures.\n"
     ]
    },
    {
     "name": "stdout",
     "output_type": "stream",
     "text": [
      "Computing Gini indices for cluster and vertex size using network.\n"
     ]
    },
    {
     "name": "stderr",
     "output_type": "stream",
     "text": [
      "\r",
      " 65%|██████▌   | 122/187 [13:41<06:08,  5.67s/it]"
     ]
    },
    {
     "name": "stdout",
     "output_type": "stream",
     "text": [
      "Computing Gini indices for cluster and vertex size using network.\n"
     ]
    },
    {
     "name": "stderr",
     "output_type": "stream",
     "text": [
      " 66%|██████▌   | 123/187 [13:47<05:55,  5.55s/it]/nfs/users/nfs_k/kt16/miniconda2/envs/dandelion/lib/python3.8/site-packages/dandelion/tools/_diversity.py:464: UserWarning: The minimum cell numbers when grouped by sample_id is 7 (group C101_060121). Exercise caution when interpreting diversity measures.\n"
     ]
    },
    {
     "name": "stdout",
     "output_type": "stream",
     "text": [
      "Computing Gini indices for cluster and vertex size using network.\n"
     ]
    },
    {
     "name": "stderr",
     "output_type": "stream",
     "text": [
      "\r",
      " 66%|██████▋   | 124/187 [13:51<05:21,  5.11s/it]"
     ]
    },
    {
     "name": "stdout",
     "output_type": "stream",
     "text": [
      "Computing Gini indices for cluster and vertex size using network.\n"
     ]
    },
    {
     "name": "stderr",
     "output_type": "stream",
     "text": [
      "\r",
      " 67%|██████▋   | 125/187 [13:58<05:47,  5.60s/it]"
     ]
    },
    {
     "name": "stdout",
     "output_type": "stream",
     "text": [
      "Computing Gini indices for cluster and vertex size using network.\n"
     ]
    },
    {
     "name": "stderr",
     "output_type": "stream",
     "text": [
      " 67%|██████▋   | 126/187 [14:02<05:24,  5.33s/it]/nfs/users/nfs_k/kt16/miniconda2/envs/dandelion/lib/python3.8/site-packages/dandelion/tools/_diversity.py:464: UserWarning: The minimum cell numbers when grouped by sample_id is 25 (group C108_220121). Exercise caution when interpreting diversity measures.\n"
     ]
    },
    {
     "name": "stdout",
     "output_type": "stream",
     "text": [
      "Computing Gini indices for cluster and vertex size using network.\n"
     ]
    },
    {
     "name": "stderr",
     "output_type": "stream",
     "text": [
      "\r",
      " 68%|██████▊   | 127/187 [14:06<04:58,  4.98s/it]"
     ]
    },
    {
     "name": "stdout",
     "output_type": "stream",
     "text": [
      "Computing Gini indices for cluster and vertex size using network.\n"
     ]
    },
    {
     "name": "stderr",
     "output_type": "stream",
     "text": [
      " 68%|██████▊   | 128/187 [14:22<07:55,  8.06s/it]/nfs/users/nfs_k/kt16/miniconda2/envs/dandelion/lib/python3.8/site-packages/dandelion/tools/_diversity.py:464: UserWarning: The minimum cell numbers when grouped by sample_id is 55 (group C240_2905). Exercise caution when interpreting diversity measures.\n"
     ]
    },
    {
     "name": "stdout",
     "output_type": "stream",
     "text": [
      "Computing Gini indices for cluster and vertex size using network.\n"
     ]
    },
    {
     "name": "stderr",
     "output_type": "stream",
     "text": [
      " 69%|██████▉   | 129/187 [14:26<06:44,  6.97s/it]/nfs/users/nfs_k/kt16/miniconda2/envs/dandelion/lib/python3.8/site-packages/dandelion/tools/_diversity.py:464: UserWarning: The minimum cell numbers when grouped by sample_id is 7 (group C58_160420). Exercise caution when interpreting diversity measures.\n"
     ]
    },
    {
     "name": "stdout",
     "output_type": "stream",
     "text": [
      "Computing Gini indices for cluster and vertex size using network.\n"
     ]
    },
    {
     "name": "stderr",
     "output_type": "stream",
     "text": [
      " 70%|██████▉   | 130/187 [14:30<05:47,  6.09s/it]/nfs/users/nfs_k/kt16/miniconda2/envs/dandelion/lib/python3.8/site-packages/dandelion/tools/_diversity.py:464: UserWarning: The minimum cell numbers when grouped by sample_id is 59 (group C33_140121). Exercise caution when interpreting diversity measures.\n"
     ]
    },
    {
     "name": "stdout",
     "output_type": "stream",
     "text": [
      "Computing Gini indices for cluster and vertex size using network.\n"
     ]
    },
    {
     "name": "stderr",
     "output_type": "stream",
     "text": [
      "\r",
      " 70%|███████   | 131/187 [14:35<05:13,  5.60s/it]"
     ]
    },
    {
     "name": "stdout",
     "output_type": "stream",
     "text": [
      "Computing Gini indices for cluster and vertex size using network.\n"
     ]
    },
    {
     "name": "stderr",
     "output_type": "stream",
     "text": [
      " 71%|███████   | 132/187 [15:10<13:14, 14.44s/it]/nfs/users/nfs_k/kt16/miniconda2/envs/dandelion/lib/python3.8/site-packages/dandelion/tools/_diversity.py:464: UserWarning: The minimum cell numbers when grouped by sample_id is 36 (group C145_300420). Exercise caution when interpreting diversity measures.\n"
     ]
    },
    {
     "name": "stdout",
     "output_type": "stream",
     "text": [
      "Computing Gini indices for cluster and vertex size using network.\n"
     ]
    },
    {
     "name": "stderr",
     "output_type": "stream",
     "text": [
      " 71%|███████   | 133/187 [15:14<10:15, 11.40s/it]/nfs/users/nfs_k/kt16/miniconda2/envs/dandelion/lib/python3.8/site-packages/dandelion/tools/_diversity.py:464: UserWarning: The minimum cell numbers when grouped by sample_id is 76 (group C60_2504). Exercise caution when interpreting diversity measures.\n"
     ]
    },
    {
     "name": "stdout",
     "output_type": "stream",
     "text": [
      "Computing Gini indices for cluster and vertex size using network.\n"
     ]
    },
    {
     "name": "stderr",
     "output_type": "stream",
     "text": [
      "\r",
      " 72%|███████▏  | 134/187 [15:19<08:15,  9.34s/it]"
     ]
    },
    {
     "name": "stdout",
     "output_type": "stream",
     "text": [
      "Computing Gini indices for cluster and vertex size using network.\n"
     ]
    },
    {
     "name": "stderr",
     "output_type": "stream",
     "text": [
      "\r",
      " 72%|███████▏  | 135/187 [15:25<07:13,  8.34s/it]"
     ]
    },
    {
     "name": "stdout",
     "output_type": "stream",
     "text": [
      "Computing Gini indices for cluster and vertex size using network.\n"
     ]
    },
    {
     "name": "stderr",
     "output_type": "stream",
     "text": [
      " 73%|███████▎  | 136/187 [15:34<07:21,  8.66s/it]/nfs/users/nfs_k/kt16/miniconda2/envs/dandelion/lib/python3.8/site-packages/dandelion/tools/_diversity.py:464: UserWarning: The minimum cell numbers when grouped by sample_id is 58 (group C187_260520). Exercise caution when interpreting diversity measures.\n"
     ]
    },
    {
     "name": "stdout",
     "output_type": "stream",
     "text": [
      "Computing Gini indices for cluster and vertex size using network.\n"
     ]
    },
    {
     "name": "stderr",
     "output_type": "stream",
     "text": [
      " 73%|███████▎  | 137/187 [15:38<06:07,  7.36s/it]/nfs/users/nfs_k/kt16/miniconda2/envs/dandelion/lib/python3.8/site-packages/dandelion/tools/_diversity.py:464: UserWarning: The minimum cell numbers when grouped by sample_id is 55 (group C65_2104). Exercise caution when interpreting diversity measures.\n"
     ]
    },
    {
     "name": "stdout",
     "output_type": "stream",
     "text": [
      "Computing Gini indices for cluster and vertex size using network.\n"
     ]
    },
    {
     "name": "stderr",
     "output_type": "stream",
     "text": [
      "\r",
      " 74%|███████▍  | 138/187 [15:43<05:15,  6.44s/it]"
     ]
    },
    {
     "name": "stdout",
     "output_type": "stream",
     "text": [
      "Computing Gini indices for cluster and vertex size using network.\n"
     ]
    },
    {
     "name": "stderr",
     "output_type": "stream",
     "text": [
      " 74%|███████▍  | 139/187 [15:48<04:54,  6.13s/it]/nfs/users/nfs_k/kt16/miniconda2/envs/dandelion/lib/python3.8/site-packages/dandelion/tools/_diversity.py:464: UserWarning: The minimum cell numbers when grouped by sample_id is 64 (group C36_2104). Exercise caution when interpreting diversity measures.\n"
     ]
    },
    {
     "name": "stdout",
     "output_type": "stream",
     "text": [
      "Computing Gini indices for cluster and vertex size using network.\n"
     ]
    },
    {
     "name": "stderr",
     "output_type": "stream",
     "text": [
      "\r",
      " 75%|███████▍  | 140/187 [15:53<04:26,  5.68s/it]"
     ]
    },
    {
     "name": "stdout",
     "output_type": "stream",
     "text": [
      "Computing Gini indices for cluster and vertex size using network.\n"
     ]
    },
    {
     "name": "stderr",
     "output_type": "stream",
     "text": [
      "\r",
      " 75%|███████▌  | 141/187 [16:02<05:12,  6.78s/it]"
     ]
    },
    {
     "name": "stdout",
     "output_type": "stream",
     "text": [
      "Computing Gini indices for cluster and vertex size using network.\n"
     ]
    },
    {
     "name": "stderr",
     "output_type": "stream",
     "text": [
      "\r",
      " 76%|███████▌  | 142/187 [16:11<05:39,  7.55s/it]"
     ]
    },
    {
     "name": "stdout",
     "output_type": "stream",
     "text": [
      "Computing Gini indices for cluster and vertex size using network.\n"
     ]
    },
    {
     "name": "stderr",
     "output_type": "stream",
     "text": [
      "\r",
      " 76%|███████▋  | 143/187 [16:22<06:10,  8.41s/it]"
     ]
    },
    {
     "name": "stdout",
     "output_type": "stream",
     "text": [
      "Computing Gini indices for cluster and vertex size using network.\n"
     ]
    },
    {
     "name": "stderr",
     "output_type": "stream",
     "text": [
      "\r",
      " 77%|███████▋  | 144/187 [16:29<05:44,  8.02s/it]"
     ]
    },
    {
     "name": "stdout",
     "output_type": "stream",
     "text": [
      "Computing Gini indices for cluster and vertex size using network.\n"
     ]
    },
    {
     "name": "stderr",
     "output_type": "stream",
     "text": [
      "\r",
      " 78%|███████▊  | 145/187 [16:35<05:16,  7.54s/it]"
     ]
    },
    {
     "name": "stdout",
     "output_type": "stream",
     "text": [
      "Computing Gini indices for cluster and vertex size using network.\n"
     ]
    },
    {
     "name": "stderr",
     "output_type": "stream",
     "text": [
      "\r",
      " 78%|███████▊  | 146/187 [16:44<05:18,  7.77s/it]"
     ]
    },
    {
     "name": "stdout",
     "output_type": "stream",
     "text": [
      "Computing Gini indices for cluster and vertex size using network.\n"
     ]
    },
    {
     "name": "stderr",
     "output_type": "stream",
     "text": [
      "\r",
      " 79%|███████▊  | 147/187 [16:51<05:06,  7.65s/it]"
     ]
    },
    {
     "name": "stdout",
     "output_type": "stream",
     "text": [
      "Computing Gini indices for cluster and vertex size using network.\n"
     ]
    },
    {
     "name": "stderr",
     "output_type": "stream",
     "text": [
      " 79%|███████▉  | 148/187 [17:15<08:07, 12.51s/it]/nfs/users/nfs_k/kt16/miniconda2/envs/dandelion/lib/python3.8/site-packages/dandelion/tools/_diversity.py:464: UserWarning: The minimum cell numbers when grouped by sample_id is 52 (group C140_280121). Exercise caution when interpreting diversity measures.\n"
     ]
    },
    {
     "name": "stdout",
     "output_type": "stream",
     "text": [
      "Computing Gini indices for cluster and vertex size using network.\n"
     ]
    },
    {
     "name": "stderr",
     "output_type": "stream",
     "text": [
      "\r",
      " 80%|███████▉  | 149/187 [17:19<06:20, 10.02s/it]"
     ]
    },
    {
     "name": "stdout",
     "output_type": "stream",
     "text": [
      "Computing Gini indices for cluster and vertex size using network.\n"
     ]
    },
    {
     "name": "stderr",
     "output_type": "stream",
     "text": [
      "\r",
      " 80%|████████  | 150/187 [17:24<05:18,  8.60s/it]"
     ]
    },
    {
     "name": "stdout",
     "output_type": "stream",
     "text": [
      "Computing Gini indices for cluster and vertex size using network.\n"
     ]
    },
    {
     "name": "stderr",
     "output_type": "stream",
     "text": [
      " 81%|████████  | 151/187 [17:29<04:30,  7.52s/it]/nfs/users/nfs_k/kt16/miniconda2/envs/dandelion/lib/python3.8/site-packages/dandelion/tools/_diversity.py:464: UserWarning: The minimum cell numbers when grouped by sample_id is 73 (group C187_230121). Exercise caution when interpreting diversity measures.\n"
     ]
    },
    {
     "name": "stdout",
     "output_type": "stream",
     "text": [
      "Computing Gini indices for cluster and vertex size using network.\n"
     ]
    },
    {
     "name": "stderr",
     "output_type": "stream",
     "text": [
      "\r",
      " 81%|████████▏ | 152/187 [17:34<03:51,  6.60s/it]"
     ]
    },
    {
     "name": "stdout",
     "output_type": "stream",
     "text": [
      "Computing Gini indices for cluster and vertex size using network.\n"
     ]
    },
    {
     "name": "stderr",
     "output_type": "stream",
     "text": [
      " 82%|████████▏ | 153/187 [17:41<03:56,  6.95s/it]/nfs/users/nfs_k/kt16/miniconda2/envs/dandelion/lib/python3.8/site-packages/dandelion/tools/_diversity.py:464: UserWarning: The minimum cell numbers when grouped by sample_id is 29 (group C33_160121). Exercise caution when interpreting diversity measures.\n"
     ]
    },
    {
     "name": "stdout",
     "output_type": "stream",
     "text": [
      "Computing Gini indices for cluster and vertex size using network.\n"
     ]
    },
    {
     "name": "stderr",
     "output_type": "stream",
     "text": [
      "\r",
      " 82%|████████▏ | 154/187 [17:46<03:22,  6.14s/it]"
     ]
    },
    {
     "name": "stdout",
     "output_type": "stream",
     "text": [
      "Computing Gini indices for cluster and vertex size using network.\n"
     ]
    },
    {
     "name": "stderr",
     "output_type": "stream",
     "text": [
      " 83%|████████▎ | 155/187 [17:51<03:08,  5.88s/it]/nfs/users/nfs_k/kt16/miniconda2/envs/dandelion/lib/python3.8/site-packages/dandelion/tools/_diversity.py:464: UserWarning: The minimum cell numbers when grouped by sample_id is 45 (group C34_1404). Exercise caution when interpreting diversity measures.\n"
     ]
    },
    {
     "name": "stdout",
     "output_type": "stream",
     "text": [
      "Computing Gini indices for cluster and vertex size using network.\n"
     ]
    },
    {
     "name": "stderr",
     "output_type": "stream",
     "text": [
      " 83%|████████▎ | 156/187 [17:55<02:46,  5.36s/it]/nfs/users/nfs_k/kt16/miniconda2/envs/dandelion/lib/python3.8/site-packages/dandelion/tools/_diversity.py:464: UserWarning: The minimum cell numbers when grouped by sample_id is 73 (group C141_090321). Exercise caution when interpreting diversity measures.\n"
     ]
    },
    {
     "name": "stdout",
     "output_type": "stream",
     "text": [
      "Computing Gini indices for cluster and vertex size using network.\n"
     ]
    },
    {
     "name": "stderr",
     "output_type": "stream",
     "text": [
      "\r",
      " 84%|████████▍ | 157/187 [18:00<02:33,  5.13s/it]"
     ]
    },
    {
     "name": "stdout",
     "output_type": "stream",
     "text": [
      "Computing Gini indices for cluster and vertex size using network.\n"
     ]
    },
    {
     "name": "stderr",
     "output_type": "stream",
     "text": [
      "\r",
      " 84%|████████▍ | 158/187 [18:17<04:12,  8.71s/it]"
     ]
    },
    {
     "name": "stdout",
     "output_type": "stream",
     "text": [
      "Computing Gini indices for cluster and vertex size using network.\n"
     ]
    },
    {
     "name": "stderr",
     "output_type": "stream",
     "text": [
      "\r",
      " 85%|████████▌ | 159/187 [18:32<05:01, 10.75s/it]"
     ]
    },
    {
     "name": "stdout",
     "output_type": "stream",
     "text": [
      "Computing Gini indices for cluster and vertex size using network.\n"
     ]
    },
    {
     "name": "stderr",
     "output_type": "stream",
     "text": [
      "\r",
      " 86%|████████▌ | 160/187 [18:51<05:53, 13.08s/it]"
     ]
    },
    {
     "name": "stdout",
     "output_type": "stream",
     "text": [
      "Computing Gini indices for cluster and vertex size using network.\n"
     ]
    },
    {
     "name": "stderr",
     "output_type": "stream",
     "text": [
      " 86%|████████▌ | 161/187 [19:16<07:13, 16.69s/it]/nfs/users/nfs_k/kt16/miniconda2/envs/dandelion/lib/python3.8/site-packages/dandelion/tools/_diversity.py:464: UserWarning: The minimum cell numbers when grouped by sample_id is 56 (group C33_190121). Exercise caution when interpreting diversity measures.\n"
     ]
    },
    {
     "name": "stdout",
     "output_type": "stream",
     "text": [
      "Computing Gini indices for cluster and vertex size using network.\n"
     ]
    },
    {
     "name": "stderr",
     "output_type": "stream",
     "text": [
      " 87%|████████▋ | 162/187 [19:20<05:23, 12.96s/it]/nfs/users/nfs_k/kt16/miniconda2/envs/dandelion/lib/python3.8/site-packages/dandelion/tools/_diversity.py:464: UserWarning: The minimum cell numbers when grouped by sample_id is 58 (group C34_2104). Exercise caution when interpreting diversity measures.\n"
     ]
    },
    {
     "name": "stdout",
     "output_type": "stream",
     "text": [
      "Computing Gini indices for cluster and vertex size using network.\n"
     ]
    },
    {
     "name": "stderr",
     "output_type": "stream",
     "text": [
      "\r",
      " 87%|████████▋ | 163/187 [19:24<04:08, 10.36s/it]"
     ]
    },
    {
     "name": "stdout",
     "output_type": "stream",
     "text": [
      "Computing Gini indices for cluster and vertex size using network.\n"
     ]
    },
    {
     "name": "stderr",
     "output_type": "stream",
     "text": [
      "\r",
      " 88%|████████▊ | 164/187 [19:54<06:12, 16.19s/it]"
     ]
    },
    {
     "name": "stdout",
     "output_type": "stream",
     "text": [
      "Computing Gini indices for cluster and vertex size using network.\n"
     ]
    },
    {
     "name": "stderr",
     "output_type": "stream",
     "text": [
      "\r",
      " 88%|████████▊ | 165/187 [20:11<05:57, 16.24s/it]"
     ]
    },
    {
     "name": "stdout",
     "output_type": "stream",
     "text": [
      "Computing Gini indices for cluster and vertex size using network.\n"
     ]
    },
    {
     "name": "stderr",
     "output_type": "stream",
     "text": [
      " 89%|████████▉ | 166/187 [20:16<04:30, 12.86s/it]/nfs/users/nfs_k/kt16/miniconda2/envs/dandelion/lib/python3.8/site-packages/dandelion/tools/_diversity.py:464: UserWarning: The minimum cell numbers when grouped by sample_id is 55 (group C36_1704). Exercise caution when interpreting diversity measures.\n"
     ]
    },
    {
     "name": "stdout",
     "output_type": "stream",
     "text": [
      "Computing Gini indices for cluster and vertex size using network.\n"
     ]
    },
    {
     "name": "stderr",
     "output_type": "stream",
     "text": [
      "\r",
      " 89%|████████▉ | 167/187 [20:20<03:26, 10.35s/it]"
     ]
    },
    {
     "name": "stdout",
     "output_type": "stream",
     "text": [
      "Computing Gini indices for cluster and vertex size using network.\n"
     ]
    },
    {
     "name": "stderr",
     "output_type": "stream",
     "text": [
      "\r",
      " 90%|████████▉ | 168/187 [20:26<02:51,  9.04s/it]"
     ]
    },
    {
     "name": "stdout",
     "output_type": "stream",
     "text": [
      "Computing Gini indices for cluster and vertex size using network.\n"
     ]
    },
    {
     "name": "stderr",
     "output_type": "stream",
     "text": [
      "\r",
      " 90%|█████████ | 169/187 [20:38<02:58,  9.90s/it]"
     ]
    },
    {
     "name": "stdout",
     "output_type": "stream",
     "text": [
      "Computing Gini indices for cluster and vertex size using network.\n"
     ]
    },
    {
     "name": "stderr",
     "output_type": "stream",
     "text": [
      "\r",
      " 91%|█████████ | 170/187 [20:43<02:25,  8.55s/it]"
     ]
    },
    {
     "name": "stdout",
     "output_type": "stream",
     "text": [
      "Computing Gini indices for cluster and vertex size using network.\n"
     ]
    },
    {
     "name": "stderr",
     "output_type": "stream",
     "text": [
      "\r",
      " 91%|█████████▏| 171/187 [20:49<02:00,  7.55s/it]"
     ]
    },
    {
     "name": "stdout",
     "output_type": "stream",
     "text": [
      "Computing Gini indices for cluster and vertex size using network.\n"
     ]
    },
    {
     "name": "stderr",
     "output_type": "stream",
     "text": [
      "\r",
      " 92%|█████████▏| 172/187 [20:54<01:42,  6.86s/it]"
     ]
    },
    {
     "name": "stdout",
     "output_type": "stream",
     "text": [
      "Computing Gini indices for cluster and vertex size using network.\n"
     ]
    },
    {
     "name": "stderr",
     "output_type": "stream",
     "text": [
      "\r",
      " 93%|█████████▎| 173/187 [21:00<01:32,  6.58s/it]"
     ]
    },
    {
     "name": "stdout",
     "output_type": "stream",
     "text": [
      "Computing Gini indices for cluster and vertex size using network.\n"
     ]
    },
    {
     "name": "stderr",
     "output_type": "stream",
     "text": [
      "\r",
      " 93%|█████████▎| 174/187 [21:07<01:26,  6.69s/it]"
     ]
    },
    {
     "name": "stdout",
     "output_type": "stream",
     "text": [
      "Computing Gini indices for cluster and vertex size using network.\n"
     ]
    },
    {
     "name": "stderr",
     "output_type": "stream",
     "text": [
      "\r",
      " 94%|█████████▎| 175/187 [21:12<01:16,  6.36s/it]"
     ]
    },
    {
     "name": "stdout",
     "output_type": "stream",
     "text": [
      "Computing Gini indices for cluster and vertex size using network.\n"
     ]
    },
    {
     "name": "stderr",
     "output_type": "stream",
     "text": [
      "\r",
      " 94%|█████████▍| 176/187 [21:18<01:07,  6.18s/it]"
     ]
    },
    {
     "name": "stdout",
     "output_type": "stream",
     "text": [
      "Computing Gini indices for cluster and vertex size using network.\n"
     ]
    },
    {
     "name": "stderr",
     "output_type": "stream",
     "text": [
      "\r",
      " 95%|█████████▍| 177/187 [21:27<01:09,  7.00s/it]"
     ]
    },
    {
     "name": "stdout",
     "output_type": "stream",
     "text": [
      "Computing Gini indices for cluster and vertex size using network.\n"
     ]
    },
    {
     "name": "stderr",
     "output_type": "stream",
     "text": [
      "\r",
      " 95%|█████████▌| 178/187 [21:36<01:08,  7.63s/it]"
     ]
    },
    {
     "name": "stdout",
     "output_type": "stream",
     "text": [
      "Computing Gini indices for cluster and vertex size using network.\n"
     ]
    },
    {
     "name": "stderr",
     "output_type": "stream",
     "text": [
      "\r",
      " 96%|█████████▌| 179/187 [21:44<01:01,  7.72s/it]"
     ]
    },
    {
     "name": "stdout",
     "output_type": "stream",
     "text": [
      "Computing Gini indices for cluster and vertex size using network.\n"
     ]
    },
    {
     "name": "stderr",
     "output_type": "stream",
     "text": [
      "\r",
      " 96%|█████████▋| 180/187 [21:58<01:07,  9.59s/it]"
     ]
    },
    {
     "name": "stdout",
     "output_type": "stream",
     "text": [
      "Computing Gini indices for cluster and vertex size using network.\n"
     ]
    },
    {
     "name": "stderr",
     "output_type": "stream",
     "text": [
      "\r",
      " 97%|█████████▋| 181/187 [22:04<00:51,  8.61s/it]"
     ]
    },
    {
     "name": "stdout",
     "output_type": "stream",
     "text": [
      "Computing Gini indices for cluster and vertex size using network.\n"
     ]
    },
    {
     "name": "stderr",
     "output_type": "stream",
     "text": [
      "\r",
      " 97%|█████████▋| 182/187 [22:20<00:53, 10.72s/it]"
     ]
    },
    {
     "name": "stdout",
     "output_type": "stream",
     "text": [
      "Computing Gini indices for cluster and vertex size using network.\n"
     ]
    },
    {
     "name": "stderr",
     "output_type": "stream",
     "text": [
      "\r",
      " 98%|█████████▊| 183/187 [22:48<01:03, 15.89s/it]"
     ]
    },
    {
     "name": "stdout",
     "output_type": "stream",
     "text": [
      "Computing Gini indices for cluster and vertex size using network.\n"
     ]
    },
    {
     "name": "stderr",
     "output_type": "stream",
     "text": [
      "\r",
      " 98%|█████████▊| 184/187 [24:06<01:43, 34.66s/it]"
     ]
    },
    {
     "name": "stdout",
     "output_type": "stream",
     "text": [
      "Computing Gini indices for cluster and vertex size using network.\n"
     ]
    },
    {
     "name": "stderr",
     "output_type": "stream",
     "text": [
      "\r",
      " 99%|█████████▉| 185/187 [24:13<00:52, 26.23s/it]"
     ]
    },
    {
     "name": "stdout",
     "output_type": "stream",
     "text": [
      "Computing Gini indices for cluster and vertex size using network.\n"
     ]
    },
    {
     "name": "stderr",
     "output_type": "stream",
     "text": [
      "\r",
      " 99%|█████████▉| 186/187 [24:19<00:20, 20.25s/it]"
     ]
    },
    {
     "name": "stdout",
     "output_type": "stream",
     "text": [
      "Computing Gini indices for cluster and vertex size using network.\n"
     ]
    },
    {
     "name": "stderr",
     "output_type": "stream",
     "text": [
      "100%|██████████| 187/187 [24:27<00:00,  7.85s/it]\n"
     ]
    }
   ],
   "source": [
    "result_df2 = {}\n",
    "for x in tqdm(vdjs):\n",
    "    result_df2[x] = ddl.tl.clone_diversity(vdjs[x], groupby = 'sample_id', update_obs_meta = False, expanded_only = True)"
   ]
  },
  {
   "cell_type": "code",
   "execution_count": 21,
   "id": "71102715",
   "metadata": {},
   "outputs": [
    {
     "name": "stderr",
     "output_type": "stream",
     "text": [
      "\r",
      "  0%|          | 0/187 [00:00<?, ?it/s]"
     ]
    },
    {
     "name": "stdout",
     "output_type": "stream",
     "text": [
      "Computing gini indices for clone size using metadata and node closeness centrality using network.\n"
     ]
    },
    {
     "name": "stderr",
     "output_type": "stream",
     "text": [
      "  1%|          | 1/187 [00:07<22:48,  7.36s/it]/nfs/users/nfs_k/kt16/miniconda2/envs/dandelion/lib/python3.8/site-packages/dandelion/tools/_diversity.py:464: UserWarning: The minimum cell numbers when grouped by sample_id is 63 (group C212_2705). Exercise caution when interpreting diversity measures.\n"
     ]
    },
    {
     "name": "stdout",
     "output_type": "stream",
     "text": [
      "Computing gini indices for clone size using metadata and node closeness centrality using network.\n"
     ]
    },
    {
     "name": "stderr",
     "output_type": "stream",
     "text": [
      "\r",
      "  1%|          | 2/187 [00:11<17:22,  5.64s/it]"
     ]
    },
    {
     "name": "stdout",
     "output_type": "stream",
     "text": [
      "Computing gini indices for clone size using metadata and node closeness centrality using network.\n"
     ]
    },
    {
     "name": "stderr",
     "output_type": "stream",
     "text": [
      "\r",
      "  2%|▏         | 3/187 [00:17<16:46,  5.47s/it]"
     ]
    },
    {
     "name": "stdout",
     "output_type": "stream",
     "text": [
      "Computing gini indices for clone size using metadata and node closeness centrality using network.\n"
     ]
    },
    {
     "name": "stderr",
     "output_type": "stream",
     "text": [
      "\r",
      "  2%|▏         | 4/187 [00:24<19:31,  6.40s/it]"
     ]
    },
    {
     "name": "stdout",
     "output_type": "stream",
     "text": [
      "Computing gini indices for clone size using metadata and node closeness centrality using network.\n"
     ]
    },
    {
     "name": "stderr",
     "output_type": "stream",
     "text": [
      "\r",
      "  3%|▎         | 5/187 [00:49<39:20, 12.97s/it]"
     ]
    },
    {
     "name": "stdout",
     "output_type": "stream",
     "text": [
      "Computing gini indices for clone size using metadata and node closeness centrality using network.\n"
     ]
    },
    {
     "name": "stderr",
     "output_type": "stream",
     "text": [
      "\r",
      "  3%|▎         | 6/187 [01:02<38:58, 12.92s/it]"
     ]
    },
    {
     "name": "stdout",
     "output_type": "stream",
     "text": [
      "Computing gini indices for clone size using metadata and node closeness centrality using network.\n"
     ]
    },
    {
     "name": "stderr",
     "output_type": "stream",
     "text": [
      "  4%|▎         | 7/187 [01:08<32:29, 10.83s/it]/nfs/users/nfs_k/kt16/miniconda2/envs/dandelion/lib/python3.8/site-packages/dandelion/tools/_diversity.py:464: UserWarning: The minimum cell numbers when grouped by sample_id is 89 (group C187_190121). Exercise caution when interpreting diversity measures.\n"
     ]
    },
    {
     "name": "stdout",
     "output_type": "stream",
     "text": [
      "Computing gini indices for clone size using metadata and node closeness centrality using network.\n"
     ]
    },
    {
     "name": "stderr",
     "output_type": "stream",
     "text": [
      "\r",
      "  4%|▍         | 8/187 [01:14<27:07,  9.09s/it]"
     ]
    },
    {
     "name": "stdout",
     "output_type": "stream",
     "text": [
      "Computing gini indices for clone size using metadata and node closeness centrality using network.\n"
     ]
    },
    {
     "name": "stderr",
     "output_type": "stream",
     "text": [
      "  5%|▍         | 9/187 [01:25<28:46,  9.70s/it]/nfs/users/nfs_k/kt16/miniconda2/envs/dandelion/lib/python3.8/site-packages/dandelion/tools/_diversity.py:464: UserWarning: The minimum cell numbers when grouped by sample_id is 41 (group C138_300420). Exercise caution when interpreting diversity measures.\n"
     ]
    },
    {
     "name": "stdout",
     "output_type": "stream",
     "text": [
      "Computing gini indices for clone size using metadata and node closeness centrality using network.\n"
     ]
    },
    {
     "name": "stderr",
     "output_type": "stream",
     "text": [
      "  5%|▌         | 10/187 [01:29<23:37,  8.01s/it]/nfs/users/nfs_k/kt16/miniconda2/envs/dandelion/lib/python3.8/site-packages/dandelion/tools/_diversity.py:464: UserWarning: The minimum cell numbers when grouped by sample_id is 36 (group C141_020221). Exercise caution when interpreting diversity measures.\n"
     ]
    },
    {
     "name": "stdout",
     "output_type": "stream",
     "text": [
      "Computing gini indices for clone size using metadata and node closeness centrality using network.\n"
     ]
    },
    {
     "name": "stderr",
     "output_type": "stream",
     "text": [
      "\r",
      "  6%|▌         | 11/187 [01:33<20:04,  6.84s/it]"
     ]
    },
    {
     "name": "stdout",
     "output_type": "stream",
     "text": [
      "Computing gini indices for clone size using metadata and node closeness centrality using network.\n"
     ]
    },
    {
     "name": "stderr",
     "output_type": "stream",
     "text": [
      "\r",
      "  6%|▋         | 12/187 [01:52<30:19, 10.40s/it]"
     ]
    },
    {
     "name": "stdout",
     "output_type": "stream",
     "text": [
      "Computing gini indices for clone size using metadata and node closeness centrality using network.\n"
     ]
    },
    {
     "name": "stderr",
     "output_type": "stream",
     "text": [
      "\r",
      "  7%|▋         | 13/187 [01:57<25:23,  8.76s/it]"
     ]
    },
    {
     "name": "stdout",
     "output_type": "stream",
     "text": [
      "Computing gini indices for clone size using metadata and node closeness centrality using network.\n"
     ]
    },
    {
     "name": "stderr",
     "output_type": "stream",
     "text": [
      "\r",
      "  7%|▋         | 14/187 [02:02<22:39,  7.86s/it]"
     ]
    },
    {
     "name": "stdout",
     "output_type": "stream",
     "text": [
      "Computing gini indices for clone size using metadata and node closeness centrality using network.\n"
     ]
    },
    {
     "name": "stderr",
     "output_type": "stream",
     "text": [
      "\r",
      "  8%|▊         | 15/187 [02:10<21:55,  7.65s/it]"
     ]
    },
    {
     "name": "stdout",
     "output_type": "stream",
     "text": [
      "Computing gini indices for clone size using metadata and node closeness centrality using network.\n"
     ]
    },
    {
     "name": "stderr",
     "output_type": "stream",
     "text": [
      "\r",
      "  9%|▊         | 16/187 [02:20<24:31,  8.60s/it]"
     ]
    },
    {
     "name": "stdout",
     "output_type": "stream",
     "text": [
      "Computing gini indices for clone size using metadata and node closeness centrality using network.\n"
     ]
    },
    {
     "name": "stderr",
     "output_type": "stream",
     "text": [
      "\r",
      "  9%|▉         | 17/187 [02:26<21:42,  7.66s/it]"
     ]
    },
    {
     "name": "stdout",
     "output_type": "stream",
     "text": [
      "Computing gini indices for clone size using metadata and node closeness centrality using network.\n"
     ]
    },
    {
     "name": "stderr",
     "output_type": "stream",
     "text": [
      "\r",
      " 10%|▉         | 18/187 [02:31<19:29,  6.92s/it]"
     ]
    },
    {
     "name": "stdout",
     "output_type": "stream",
     "text": [
      "Computing gini indices for clone size using metadata and node closeness centrality using network.\n"
     ]
    },
    {
     "name": "stderr",
     "output_type": "stream",
     "text": [
      " 10%|█         | 19/187 [02:41<21:31,  7.68s/it]/nfs/users/nfs_k/kt16/miniconda2/envs/dandelion/lib/python3.8/site-packages/dandelion/tools/_diversity.py:464: UserWarning: The minimum cell numbers when grouped by sample_id is 31 (group C58_250121). Exercise caution when interpreting diversity measures.\n"
     ]
    },
    {
     "name": "stdout",
     "output_type": "stream",
     "text": [
      "Computing gini indices for clone size using metadata and node closeness centrality using network.\n"
     ]
    },
    {
     "name": "stderr",
     "output_type": "stream",
     "text": [
      " 11%|█         | 20/187 [02:45<18:39,  6.70s/it]/nfs/users/nfs_k/kt16/miniconda2/envs/dandelion/lib/python3.8/site-packages/dandelion/tools/_diversity.py:464: UserWarning: The minimum cell numbers when grouped by sample_id is 31 (group C58_290121). Exercise caution when interpreting diversity measures.\n"
     ]
    },
    {
     "name": "stdout",
     "output_type": "stream",
     "text": [
      "Computing gini indices for clone size using metadata and node closeness centrality using network.\n"
     ]
    },
    {
     "name": "stderr",
     "output_type": "stream",
     "text": [
      " 11%|█         | 21/187 [02:50<16:57,  6.13s/it]/nfs/users/nfs_k/kt16/miniconda2/envs/dandelion/lib/python3.8/site-packages/dandelion/tools/_diversity.py:464: UserWarning: The minimum cell numbers when grouped by sample_id is 12 (group C170_120520). Exercise caution when interpreting diversity measures.\n"
     ]
    },
    {
     "name": "stdout",
     "output_type": "stream",
     "text": [
      "Computing gini indices for clone size using metadata and node closeness centrality using network.\n"
     ]
    },
    {
     "name": "stderr",
     "output_type": "stream",
     "text": [
      " 12%|█▏        | 22/187 [02:54<15:35,  5.67s/it]/nfs/users/nfs_k/kt16/miniconda2/envs/dandelion/lib/python3.8/site-packages/dandelion/tools/_diversity.py:464: UserWarning: The minimum cell numbers when grouped by sample_id is 33 (group C138_040221). Exercise caution when interpreting diversity measures.\n"
     ]
    },
    {
     "name": "stdout",
     "output_type": "stream",
     "text": [
      "Computing gini indices for clone size using metadata and node closeness centrality using network.\n"
     ]
    },
    {
     "name": "stderr",
     "output_type": "stream",
     "text": [
      " 12%|█▏        | 23/187 [02:59<14:47,  5.41s/it]/nfs/users/nfs_k/kt16/miniconda2/envs/dandelion/lib/python3.8/site-packages/dandelion/tools/_diversity.py:464: UserWarning: The minimum cell numbers when grouped by sample_id is 43 (group C187_120121). Exercise caution when interpreting diversity measures.\n"
     ]
    },
    {
     "name": "stdout",
     "output_type": "stream",
     "text": [
      "Computing gini indices for clone size using metadata and node closeness centrality using network.\n"
     ]
    },
    {
     "name": "stderr",
     "output_type": "stream",
     "text": [
      " 13%|█▎        | 24/187 [03:04<14:18,  5.27s/it]/nfs/users/nfs_k/kt16/miniconda2/envs/dandelion/lib/python3.8/site-packages/dandelion/tools/_diversity.py:464: UserWarning: The minimum cell numbers when grouped by sample_id is 53 (group C138_300121). Exercise caution when interpreting diversity measures.\n"
     ]
    },
    {
     "name": "stdout",
     "output_type": "stream",
     "text": [
      "Computing gini indices for clone size using metadata and node closeness centrality using network.\n"
     ]
    },
    {
     "name": "stderr",
     "output_type": "stream",
     "text": [
      "\r",
      " 13%|█▎        | 25/187 [03:09<14:07,  5.23s/it]"
     ]
    },
    {
     "name": "stdout",
     "output_type": "stream",
     "text": [
      "Computing gini indices for clone size using metadata and node closeness centrality using network.\n"
     ]
    },
    {
     "name": "stderr",
     "output_type": "stream",
     "text": [
      "\r",
      " 14%|█▍        | 26/187 [03:38<33:00, 12.30s/it]"
     ]
    },
    {
     "name": "stdout",
     "output_type": "stream",
     "text": [
      "Computing gini indices for clone size using metadata and node closeness centrality using network.\n"
     ]
    },
    {
     "name": "stderr",
     "output_type": "stream",
     "text": [
      " 14%|█▍        | 27/187 [03:59<39:50, 14.94s/it]/nfs/users/nfs_k/kt16/miniconda2/envs/dandelion/lib/python3.8/site-packages/dandelion/tools/_diversity.py:464: UserWarning: The minimum cell numbers when grouped by sample_id is 81 (group C170_230121). Exercise caution when interpreting diversity measures.\n"
     ]
    },
    {
     "name": "stdout",
     "output_type": "stream",
     "text": [
      "Computing gini indices for clone size using metadata and node closeness centrality using network.\n"
     ]
    },
    {
     "name": "stderr",
     "output_type": "stream",
     "text": [
      "\r",
      " 15%|█▍        | 28/187 [04:05<32:05, 12.11s/it]"
     ]
    },
    {
     "name": "stdout",
     "output_type": "stream",
     "text": [
      "Computing gini indices for clone size using metadata and node closeness centrality using network.\n"
     ]
    },
    {
     "name": "stderr",
     "output_type": "stream",
     "text": [
      " 16%|█▌        | 29/187 [04:11<27:39, 10.50s/it]/nfs/users/nfs_k/kt16/miniconda2/envs/dandelion/lib/python3.8/site-packages/dandelion/tools/_diversity.py:464: UserWarning: The minimum cell numbers when grouped by sample_id is 43 (group C161_1105). Exercise caution when interpreting diversity measures.\n"
     ]
    },
    {
     "name": "stdout",
     "output_type": "stream",
     "text": [
      "Computing gini indices for clone size using metadata and node closeness centrality using network.\n"
     ]
    },
    {
     "name": "stderr",
     "output_type": "stream",
     "text": [
      " 16%|█▌        | 30/187 [04:16<22:34,  8.63s/it]/nfs/users/nfs_k/kt16/miniconda2/envs/dandelion/lib/python3.8/site-packages/dandelion/tools/_diversity.py:464: UserWarning: The minimum cell numbers when grouped by sample_id is 38 (group C141_200121). Exercise caution when interpreting diversity measures.\n"
     ]
    },
    {
     "name": "stdout",
     "output_type": "stream",
     "text": [
      "Computing gini indices for clone size using metadata and node closeness centrality using network.\n"
     ]
    },
    {
     "name": "stderr",
     "output_type": "stream",
     "text": [
      "\r",
      " 17%|█▋        | 31/187 [04:20<19:00,  7.31s/it]"
     ]
    },
    {
     "name": "stdout",
     "output_type": "stream",
     "text": [
      "Computing gini indices for clone size using metadata and node closeness centrality using network.\n"
     ]
    },
    {
     "name": "stderr",
     "output_type": "stream",
     "text": [
      "\r",
      " 17%|█▋        | 32/187 [04:29<19:58,  7.74s/it]"
     ]
    },
    {
     "name": "stdout",
     "output_type": "stream",
     "text": [
      "Computing gini indices for clone size using metadata and node closeness centrality using network.\n"
     ]
    },
    {
     "name": "stderr",
     "output_type": "stream",
     "text": [
      "\r",
      " 18%|█▊        | 33/187 [04:42<23:59,  9.35s/it]"
     ]
    },
    {
     "name": "stdout",
     "output_type": "stream",
     "text": [
      "Computing gini indices for clone size using metadata and node closeness centrality using network.\n"
     ]
    },
    {
     "name": "stderr",
     "output_type": "stream",
     "text": [
      "\r",
      " 18%|█▊        | 34/187 [04:49<22:35,  8.86s/it]"
     ]
    },
    {
     "name": "stdout",
     "output_type": "stream",
     "text": [
      "Computing gini indices for clone size using metadata and node closeness centrality using network.\n"
     ]
    },
    {
     "name": "stderr",
     "output_type": "stream",
     "text": [
      "\r",
      " 19%|█▊        | 35/187 [04:55<19:46,  7.81s/it]"
     ]
    },
    {
     "name": "stdout",
     "output_type": "stream",
     "text": [
      "Computing gini indices for clone size using metadata and node closeness centrality using network.\n"
     ]
    },
    {
     "name": "stderr",
     "output_type": "stream",
     "text": [
      "\r",
      " 19%|█▉        | 36/187 [05:00<17:22,  6.91s/it]"
     ]
    },
    {
     "name": "stdout",
     "output_type": "stream",
     "text": [
      "Computing gini indices for clone size using metadata and node closeness centrality using network.\n"
     ]
    },
    {
     "name": "stderr",
     "output_type": "stream",
     "text": [
      " 20%|█▉        | 37/187 [05:09<19:05,  7.63s/it]/nfs/users/nfs_k/kt16/miniconda2/envs/dandelion/lib/python3.8/site-packages/dandelion/tools/_diversity.py:464: UserWarning: The minimum cell numbers when grouped by sample_id is 20 (group C108_150121). Exercise caution when interpreting diversity measures.\n"
     ]
    },
    {
     "name": "stdout",
     "output_type": "stream",
     "text": [
      "Computing gini indices for clone size using metadata and node closeness centrality using network.\n"
     ]
    },
    {
     "name": "stderr",
     "output_type": "stream",
     "text": [
      " 20%|██        | 38/187 [05:13<16:17,  6.56s/it]/nfs/users/nfs_k/kt16/miniconda2/envs/dandelion/lib/python3.8/site-packages/dandelion/tools/_diversity.py:464: UserWarning: The minimum cell numbers when grouped by sample_id is 95 (group C23_1504). Exercise caution when interpreting diversity measures.\n"
     ]
    },
    {
     "name": "stdout",
     "output_type": "stream",
     "text": [
      "Computing gini indices for clone size using metadata and node closeness centrality using network.\n"
     ]
    },
    {
     "name": "stderr",
     "output_type": "stream",
     "text": [
      "\r",
      " 21%|██        | 39/187 [05:18<14:50,  6.02s/it]"
     ]
    },
    {
     "name": "stdout",
     "output_type": "stream",
     "text": [
      "Computing gini indices for clone size using metadata and node closeness centrality using network.\n"
     ]
    },
    {
     "name": "stderr",
     "output_type": "stream",
     "text": [
      "\r",
      " 21%|██▏       | 40/187 [05:25<15:36,  6.37s/it]"
     ]
    },
    {
     "name": "stdout",
     "output_type": "stream",
     "text": [
      "Computing gini indices for clone size using metadata and node closeness centrality using network.\n"
     ]
    },
    {
     "name": "stderr",
     "output_type": "stream",
     "text": [
      " 22%|██▏       | 41/187 [05:30<14:25,  5.93s/it]/nfs/users/nfs_k/kt16/miniconda2/envs/dandelion/lib/python3.8/site-packages/dandelion/tools/_diversity.py:464: UserWarning: The minimum cell numbers when grouped by sample_id is 75 (group C196_2605). Exercise caution when interpreting diversity measures.\n"
     ]
    },
    {
     "name": "stdout",
     "output_type": "stream",
     "text": [
      "Computing gini indices for clone size using metadata and node closeness centrality using network.\n"
     ]
    },
    {
     "name": "stderr",
     "output_type": "stream",
     "text": [
      " 22%|██▏       | 42/187 [05:34<13:19,  5.52s/it]/nfs/users/nfs_k/kt16/miniconda2/envs/dandelion/lib/python3.8/site-packages/dandelion/tools/_diversity.py:464: UserWarning: The minimum cell numbers when grouped by sample_id is 8 (group C246_2905). Exercise caution when interpreting diversity measures.\n"
     ]
    },
    {
     "name": "stdout",
     "output_type": "stream",
     "text": [
      "Computing gini indices for clone size using metadata and node closeness centrality using network.\n"
     ]
    },
    {
     "name": "stderr",
     "output_type": "stream",
     "text": [
      " 23%|██▎       | 43/187 [05:38<12:06,  5.04s/it]/nfs/users/nfs_k/kt16/miniconda2/envs/dandelion/lib/python3.8/site-packages/dandelion/tools/_diversity.py:464: UserWarning: The minimum cell numbers when grouped by sample_id is 19 (group C170_280121). Exercise caution when interpreting diversity measures.\n"
     ]
    },
    {
     "name": "stdout",
     "output_type": "stream",
     "text": [
      "Computing gini indices for clone size using metadata and node closeness centrality using network.\n"
     ]
    },
    {
     "name": "stderr",
     "output_type": "stream",
     "text": [
      "\r",
      " 24%|██▎       | 44/187 [05:42<11:19,  4.75s/it]"
     ]
    },
    {
     "name": "stdout",
     "output_type": "stream",
     "text": [
      "Computing gini indices for clone size using metadata and node closeness centrality using network.\n"
     ]
    },
    {
     "name": "stderr",
     "output_type": "stream",
     "text": [
      "\r",
      " 24%|██▍       | 45/187 [05:51<14:17,  6.04s/it]"
     ]
    },
    {
     "name": "stdout",
     "output_type": "stream",
     "text": [
      "Computing gini indices for clone size using metadata and node closeness centrality using network.\n"
     ]
    },
    {
     "name": "stderr",
     "output_type": "stream",
     "text": [
      "\r",
      " 25%|██▍       | 46/187 [06:00<15:55,  6.78s/it]"
     ]
    },
    {
     "name": "stdout",
     "output_type": "stream",
     "text": [
      "Computing gini indices for clone size using metadata and node closeness centrality using network.\n"
     ]
    },
    {
     "name": "stderr",
     "output_type": "stream",
     "text": [
      "\r",
      " 25%|██▌       | 47/187 [06:05<14:32,  6.23s/it]"
     ]
    },
    {
     "name": "stdout",
     "output_type": "stream",
     "text": [
      "Computing gini indices for clone size using metadata and node closeness centrality using network.\n"
     ]
    },
    {
     "name": "stderr",
     "output_type": "stream",
     "text": [
      "\r",
      " 26%|██▌       | 48/187 [06:12<15:15,  6.58s/it]"
     ]
    },
    {
     "name": "stdout",
     "output_type": "stream",
     "text": [
      "Computing gini indices for clone size using metadata and node closeness centrality using network.\n"
     ]
    },
    {
     "name": "stderr",
     "output_type": "stream",
     "text": [
      " 26%|██▌       | 49/187 [06:20<15:35,  6.78s/it]/nfs/users/nfs_k/kt16/miniconda2/envs/dandelion/lib/python3.8/site-packages/dandelion/tools/_diversity.py:464: UserWarning: The minimum cell numbers when grouped by sample_id is 94 (group C141_260121). Exercise caution when interpreting diversity measures.\n"
     ]
    },
    {
     "name": "stdout",
     "output_type": "stream",
     "text": [
      "Computing gini indices for clone size using metadata and node closeness centrality using network.\n"
     ]
    },
    {
     "name": "stderr",
     "output_type": "stream",
     "text": [
      " 27%|██▋       | 50/187 [06:24<14:05,  6.17s/it]/nfs/users/nfs_k/kt16/miniconda2/envs/dandelion/lib/python3.8/site-packages/dandelion/tools/_diversity.py:464: UserWarning: The minimum cell numbers when grouped by sample_id is 8 (group C58_270121). Exercise caution when interpreting diversity measures.\n"
     ]
    },
    {
     "name": "stdout",
     "output_type": "stream",
     "text": [
      "Computing gini indices for clone size using metadata and node closeness centrality using network.\n"
     ]
    },
    {
     "name": "stderr",
     "output_type": "stream",
     "text": [
      " 27%|██▋       | 51/187 [06:28<12:29,  5.51s/it]/nfs/users/nfs_k/kt16/miniconda2/envs/dandelion/lib/python3.8/site-packages/dandelion/tools/_diversity.py:464: UserWarning: The minimum cell numbers when grouped by sample_id is 57 (group C170_300121). Exercise caution when interpreting diversity measures.\n"
     ]
    },
    {
     "name": "stdout",
     "output_type": "stream",
     "text": [
      "Computing gini indices for clone size using metadata and node closeness centrality using network.\n"
     ]
    },
    {
     "name": "stderr",
     "output_type": "stream",
     "text": [
      " 28%|██▊       | 52/187 [06:33<11:37,  5.17s/it]/nfs/users/nfs_k/kt16/miniconda2/envs/dandelion/lib/python3.8/site-packages/dandelion/tools/_diversity.py:464: UserWarning: The minimum cell numbers when grouped by sample_id is 87 (group C60_2104). Exercise caution when interpreting diversity measures.\n"
     ]
    },
    {
     "name": "stdout",
     "output_type": "stream",
     "text": [
      "Computing gini indices for clone size using metadata and node closeness centrality using network.\n"
     ]
    },
    {
     "name": "stderr",
     "output_type": "stream",
     "text": [
      " 28%|██▊       | 53/187 [06:38<11:52,  5.32s/it]/nfs/users/nfs_k/kt16/miniconda2/envs/dandelion/lib/python3.8/site-packages/dandelion/tools/_diversity.py:464: UserWarning: The minimum cell numbers when grouped by sample_id is 71 (group C85_2004). Exercise caution when interpreting diversity measures.\n"
     ]
    },
    {
     "name": "stdout",
     "output_type": "stream",
     "text": [
      "Computing gini indices for clone size using metadata and node closeness centrality using network.\n"
     ]
    },
    {
     "name": "stderr",
     "output_type": "stream",
     "text": [
      "\r",
      " 29%|██▉       | 54/187 [06:43<11:13,  5.06s/it]"
     ]
    },
    {
     "name": "stdout",
     "output_type": "stream",
     "text": [
      "Computing gini indices for clone size using metadata and node closeness centrality using network.\n"
     ]
    },
    {
     "name": "stderr",
     "output_type": "stream",
     "text": [
      "\r",
      " 29%|██▉       | 55/187 [06:55<15:59,  7.27s/it]"
     ]
    },
    {
     "name": "stdout",
     "output_type": "stream",
     "text": [
      "Computing gini indices for clone size using metadata and node closeness centrality using network.\n"
     ]
    },
    {
     "name": "stderr",
     "output_type": "stream",
     "text": [
      "\r",
      " 30%|██▉       | 56/187 [07:00<14:32,  6.66s/it]"
     ]
    },
    {
     "name": "stdout",
     "output_type": "stream",
     "text": [
      "Computing gini indices for clone size using metadata and node closeness centrality using network.\n"
     ]
    },
    {
     "name": "stderr",
     "output_type": "stream",
     "text": [
      "\r",
      " 30%|███       | 57/187 [07:11<16:42,  7.71s/it]"
     ]
    },
    {
     "name": "stdout",
     "output_type": "stream",
     "text": [
      "Computing gini indices for clone size using metadata and node closeness centrality using network.\n"
     ]
    },
    {
     "name": "stderr",
     "output_type": "stream",
     "text": [
      "\r",
      " 31%|███       | 58/187 [07:16<15:17,  7.11s/it]"
     ]
    },
    {
     "name": "stdout",
     "output_type": "stream",
     "text": [
      "Computing gini indices for clone size using metadata and node closeness centrality using network.\n"
     ]
    },
    {
     "name": "stderr",
     "output_type": "stream",
     "text": [
      " 32%|███▏      | 59/187 [07:25<16:04,  7.54s/it]/nfs/users/nfs_k/kt16/miniconda2/envs/dandelion/lib/python3.8/site-packages/dandelion/tools/_diversity.py:464: UserWarning: The minimum cell numbers when grouped by sample_id is 92 (group C146_160121). Exercise caution when interpreting diversity measures.\n"
     ]
    },
    {
     "name": "stdout",
     "output_type": "stream",
     "text": [
      "Computing gini indices for clone size using metadata and node closeness centrality using network.\n"
     ]
    },
    {
     "name": "stderr",
     "output_type": "stream",
     "text": [
      " 32%|███▏      | 60/187 [07:30<14:10,  6.70s/it]/nfs/users/nfs_k/kt16/miniconda2/envs/dandelion/lib/python3.8/site-packages/dandelion/tools/_diversity.py:464: UserWarning: The minimum cell numbers when grouped by sample_id is 63 (group C170_260121). Exercise caution when interpreting diversity measures.\n"
     ]
    },
    {
     "name": "stdout",
     "output_type": "stream",
     "text": [
      "Computing gini indices for clone size using metadata and node closeness centrality using network.\n"
     ]
    },
    {
     "name": "stderr",
     "output_type": "stream",
     "text": [
      " 33%|███▎      | 61/187 [07:34<12:38,  6.02s/it]/nfs/users/nfs_k/kt16/miniconda2/envs/dandelion/lib/python3.8/site-packages/dandelion/tools/_diversity.py:464: UserWarning: The minimum cell numbers when grouped by sample_id is 36 (group C170_040221). Exercise caution when interpreting diversity measures.\n"
     ]
    },
    {
     "name": "stdout",
     "output_type": "stream",
     "text": [
      "Computing gini indices for clone size using metadata and node closeness centrality using network.\n"
     ]
    },
    {
     "name": "stderr",
     "output_type": "stream",
     "text": [
      " 33%|███▎      | 62/187 [07:38<11:23,  5.47s/it]/nfs/users/nfs_k/kt16/miniconda2/envs/dandelion/lib/python3.8/site-packages/dandelion/tools/_diversity.py:464: UserWarning: The minimum cell numbers when grouped by sample_id is 62 (group C164_1105). Exercise caution when interpreting diversity measures.\n"
     ]
    },
    {
     "name": "stdout",
     "output_type": "stream",
     "text": [
      "Computing gini indices for clone size using metadata and node closeness centrality using network.\n"
     ]
    },
    {
     "name": "stderr",
     "output_type": "stream",
     "text": [
      " 34%|███▎      | 63/187 [07:43<10:38,  5.15s/it]/nfs/users/nfs_k/kt16/miniconda2/envs/dandelion/lib/python3.8/site-packages/dandelion/tools/_diversity.py:464: UserWarning: The minimum cell numbers when grouped by sample_id is 79 (group C58_100321). Exercise caution when interpreting diversity measures.\n"
     ]
    },
    {
     "name": "stdout",
     "output_type": "stream",
     "text": [
      "Computing gini indices for clone size using metadata and node closeness centrality using network.\n"
     ]
    },
    {
     "name": "stderr",
     "output_type": "stream",
     "text": [
      " 34%|███▍      | 64/187 [07:47<10:12,  4.98s/it]/nfs/users/nfs_k/kt16/miniconda2/envs/dandelion/lib/python3.8/site-packages/dandelion/tools/_diversity.py:464: UserWarning: The minimum cell numbers when grouped by sample_id is 25 (group C82_2004). Exercise caution when interpreting diversity measures.\n"
     ]
    },
    {
     "name": "stdout",
     "output_type": "stream",
     "text": [
      "Computing gini indices for clone size using metadata and node closeness centrality using network.\n"
     ]
    },
    {
     "name": "stderr",
     "output_type": "stream",
     "text": [
      "\r",
      " 35%|███▍      | 65/187 [07:51<09:38,  4.74s/it]"
     ]
    },
    {
     "name": "stdout",
     "output_type": "stream",
     "text": [
      "Computing gini indices for clone size using metadata and node closeness centrality using network.\n"
     ]
    },
    {
     "name": "stderr",
     "output_type": "stream",
     "text": [
      " 35%|███▌      | 66/187 [07:57<10:01,  4.97s/it]/nfs/users/nfs_k/kt16/miniconda2/envs/dandelion/lib/python3.8/site-packages/dandelion/tools/_diversity.py:464: UserWarning: The minimum cell numbers when grouped by sample_id is 47 (group C170_040321). Exercise caution when interpreting diversity measures.\n"
     ]
    },
    {
     "name": "stdout",
     "output_type": "stream",
     "text": [
      "Computing gini indices for clone size using metadata and node closeness centrality using network.\n"
     ]
    },
    {
     "name": "stderr",
     "output_type": "stream",
     "text": [
      "\r",
      " 36%|███▌      | 67/187 [08:01<09:31,  4.76s/it]"
     ]
    },
    {
     "name": "stdout",
     "output_type": "stream",
     "text": [
      "Computing gini indices for clone size using metadata and node closeness centrality using network.\n"
     ]
    },
    {
     "name": "stderr",
     "output_type": "stream",
     "text": [
      "\r",
      " 36%|███▋      | 68/187 [08:07<10:05,  5.09s/it]"
     ]
    },
    {
     "name": "stdout",
     "output_type": "stream",
     "text": [
      "Computing gini indices for clone size using metadata and node closeness centrality using network.\n"
     ]
    },
    {
     "name": "stderr",
     "output_type": "stream",
     "text": [
      " 37%|███▋      | 69/187 [08:12<10:10,  5.17s/it]/nfs/users/nfs_k/kt16/miniconda2/envs/dandelion/lib/python3.8/site-packages/dandelion/tools/_diversity.py:464: UserWarning: The minimum cell numbers when grouped by sample_id is 54 (group C137_280121). Exercise caution when interpreting diversity measures.\n"
     ]
    },
    {
     "name": "stdout",
     "output_type": "stream",
     "text": [
      "Computing gini indices for clone size using metadata and node closeness centrality using network.\n"
     ]
    },
    {
     "name": "stderr",
     "output_type": "stream",
     "text": [
      "\r",
      " 37%|███▋      | 70/187 [08:17<09:35,  4.91s/it]"
     ]
    },
    {
     "name": "stdout",
     "output_type": "stream",
     "text": [
      "Computing gini indices for clone size using metadata and node closeness centrality using network.\n"
     ]
    },
    {
     "name": "stderr",
     "output_type": "stream",
     "text": [
      "\r",
      " 38%|███▊      | 71/187 [08:27<12:30,  6.47s/it]"
     ]
    },
    {
     "name": "stdout",
     "output_type": "stream",
     "text": [
      "Computing gini indices for clone size using metadata and node closeness centrality using network.\n"
     ]
    },
    {
     "name": "stderr",
     "output_type": "stream",
     "text": [
      "\r",
      " 39%|███▊      | 72/187 [08:34<12:50,  6.70s/it]"
     ]
    },
    {
     "name": "stdout",
     "output_type": "stream",
     "text": [
      "Computing gini indices for clone size using metadata and node closeness centrality using network.\n"
     ]
    },
    {
     "name": "stderr",
     "output_type": "stream",
     "text": [
      " 39%|███▉      | 73/187 [08:40<12:12,  6.43s/it]/nfs/users/nfs_k/kt16/miniconda2/envs/dandelion/lib/python3.8/site-packages/dandelion/tools/_diversity.py:464: UserWarning: The minimum cell numbers when grouped by sample_id is 3 (group C108_220420). Exercise caution when interpreting diversity measures.\n"
     ]
    },
    {
     "name": "stdout",
     "output_type": "stream",
     "text": [
      "Computing gini indices for clone size using metadata and node closeness centrality using network.\n"
     ]
    },
    {
     "name": "stderr",
     "output_type": "stream",
     "text": [
      " 40%|███▉      | 74/187 [08:44<10:40,  5.67s/it]/nfs/users/nfs_k/kt16/miniconda2/envs/dandelion/lib/python3.8/site-packages/dandelion/tools/_diversity.py:464: UserWarning: The minimum cell numbers when grouped by sample_id is 13 (group C73_2004). Exercise caution when interpreting diversity measures.\n"
     ]
    },
    {
     "name": "stdout",
     "output_type": "stream",
     "text": [
      "Computing gini indices for clone size using metadata and node closeness centrality using network.\n"
     ]
    },
    {
     "name": "stderr",
     "output_type": "stream",
     "text": [
      " 40%|████      | 75/187 [08:48<09:38,  5.17s/it]/nfs/users/nfs_k/kt16/miniconda2/envs/dandelion/lib/python3.8/site-packages/dandelion/tools/_diversity.py:464: UserWarning: The minimum cell numbers when grouped by sample_id is 74 (group C101_130121). Exercise caution when interpreting diversity measures.\n"
     ]
    },
    {
     "name": "stdout",
     "output_type": "stream",
     "text": [
      "Computing gini indices for clone size using metadata and node closeness centrality using network.\n"
     ]
    },
    {
     "name": "stderr",
     "output_type": "stream",
     "text": [
      " 41%|████      | 76/187 [08:52<09:14,  4.99s/it]/nfs/users/nfs_k/kt16/miniconda2/envs/dandelion/lib/python3.8/site-packages/dandelion/tools/_diversity.py:464: UserWarning: The minimum cell numbers when grouped by sample_id is 99 (group C65_2504). Exercise caution when interpreting diversity measures.\n"
     ]
    },
    {
     "name": "stdout",
     "output_type": "stream",
     "text": [
      "Computing gini indices for clone size using metadata and node closeness centrality using network.\n"
     ]
    },
    {
     "name": "stderr",
     "output_type": "stream",
     "text": [
      "\r",
      " 41%|████      | 77/187 [08:57<09:01,  4.92s/it]"
     ]
    },
    {
     "name": "stdout",
     "output_type": "stream",
     "text": [
      "Computing gini indices for clone size using metadata and node closeness centrality using network.\n"
     ]
    },
    {
     "name": "stderr",
     "output_type": "stream",
     "text": [
      "\r",
      " 42%|████▏     | 78/187 [09:05<10:45,  5.92s/it]"
     ]
    },
    {
     "name": "stdout",
     "output_type": "stream",
     "text": [
      "Computing gini indices for clone size using metadata and node closeness centrality using network.\n"
     ]
    },
    {
     "name": "stderr",
     "output_type": "stream",
     "text": [
      "\r",
      " 42%|████▏     | 79/187 [09:14<12:02,  6.69s/it]"
     ]
    },
    {
     "name": "stdout",
     "output_type": "stream",
     "text": [
      "Computing gini indices for clone size using metadata and node closeness centrality using network.\n"
     ]
    },
    {
     "name": "stderr",
     "output_type": "stream",
     "text": [
      "\r",
      " 43%|████▎     | 80/187 [09:34<19:21, 10.86s/it]"
     ]
    },
    {
     "name": "stdout",
     "output_type": "stream",
     "text": [
      "Computing gini indices for clone size using metadata and node closeness centrality using network.\n"
     ]
    },
    {
     "name": "stderr",
     "output_type": "stream",
     "text": [
      " 43%|████▎     | 81/187 [09:46<19:43, 11.17s/it]/nfs/users/nfs_k/kt16/miniconda2/envs/dandelion/lib/python3.8/site-packages/dandelion/tools/_diversity.py:464: UserWarning: The minimum cell numbers when grouped by sample_id is 42 (group C152_0405). Exercise caution when interpreting diversity measures.\n"
     ]
    },
    {
     "name": "stdout",
     "output_type": "stream",
     "text": [
      "Computing gini indices for clone size using metadata and node closeness centrality using network.\n"
     ]
    },
    {
     "name": "stderr",
     "output_type": "stream",
     "text": [
      " 44%|████▍     | 82/187 [09:51<15:56,  9.11s/it]/nfs/users/nfs_k/kt16/miniconda2/envs/dandelion/lib/python3.8/site-packages/dandelion/tools/_diversity.py:464: UserWarning: The minimum cell numbers when grouped by sample_id is 24 (group C34_2504). Exercise caution when interpreting diversity measures.\n"
     ]
    },
    {
     "name": "stdout",
     "output_type": "stream",
     "text": [
      "Computing gini indices for clone size using metadata and node closeness centrality using network.\n"
     ]
    },
    {
     "name": "stderr",
     "output_type": "stream",
     "text": [
      "\r",
      " 44%|████▍     | 83/187 [09:55<13:13,  7.63s/it]"
     ]
    },
    {
     "name": "stdout",
     "output_type": "stream",
     "text": [
      "Computing gini indices for clone size using metadata and node closeness centrality using network.\n"
     ]
    },
    {
     "name": "stderr",
     "output_type": "stream",
     "text": [
      " 45%|████▍     | 84/187 [10:01<12:18,  7.17s/it]/nfs/users/nfs_k/kt16/miniconda2/envs/dandelion/lib/python3.8/site-packages/dandelion/tools/_diversity.py:464: UserWarning: The minimum cell numbers when grouped by sample_id is 18 (group C101_110121). Exercise caution when interpreting diversity measures.\n"
     ]
    },
    {
     "name": "stdout",
     "output_type": "stream",
     "text": [
      "Computing gini indices for clone size using metadata and node closeness centrality using network.\n"
     ]
    },
    {
     "name": "stderr",
     "output_type": "stream",
     "text": [
      " 45%|████▌     | 85/187 [10:05<10:36,  6.24s/it]/nfs/users/nfs_k/kt16/miniconda2/envs/dandelion/lib/python3.8/site-packages/dandelion/tools/_diversity.py:464: UserWarning: The minimum cell numbers when grouped by sample_id is 21 (group C138_280121). Exercise caution when interpreting diversity measures.\n"
     ]
    },
    {
     "name": "stdout",
     "output_type": "stream",
     "text": [
      "Computing gini indices for clone size using metadata and node closeness centrality using network.\n"
     ]
    },
    {
     "name": "stderr",
     "output_type": "stream",
     "text": [
      "\r",
      " 46%|████▌     | 86/187 [10:09<09:26,  5.61s/it]"
     ]
    },
    {
     "name": "stdout",
     "output_type": "stream",
     "text": [
      "Computing gini indices for clone size using metadata and node closeness centrality using network.\n"
     ]
    },
    {
     "name": "stderr",
     "output_type": "stream",
     "text": [
      "\r",
      " 47%|████▋     | 87/187 [10:15<09:40,  5.81s/it]"
     ]
    },
    {
     "name": "stdout",
     "output_type": "stream",
     "text": [
      "Computing gini indices for clone size using metadata and node closeness centrality using network.\n"
     ]
    },
    {
     "name": "stderr",
     "output_type": "stream",
     "text": [
      "\r",
      " 47%|████▋     | 88/187 [10:21<09:32,  5.78s/it]"
     ]
    },
    {
     "name": "stdout",
     "output_type": "stream",
     "text": [
      "Computing gini indices for clone size using metadata and node closeness centrality using network.\n"
     ]
    },
    {
     "name": "stderr",
     "output_type": "stream",
     "text": [
      "\r",
      " 48%|████▊     | 89/187 [10:27<09:37,  5.90s/it]"
     ]
    },
    {
     "name": "stdout",
     "output_type": "stream",
     "text": [
      "Computing gini indices for clone size using metadata and node closeness centrality using network.\n"
     ]
    },
    {
     "name": "stderr",
     "output_type": "stream",
     "text": [
      "\r",
      " 48%|████▊     | 90/187 [10:34<10:08,  6.27s/it]"
     ]
    },
    {
     "name": "stdout",
     "output_type": "stream",
     "text": [
      "Computing gini indices for clone size using metadata and node closeness centrality using network.\n"
     ]
    },
    {
     "name": "stderr",
     "output_type": "stream",
     "text": [
      " 49%|████▊     | 91/187 [10:40<09:38,  6.02s/it]/nfs/users/nfs_k/kt16/miniconda2/envs/dandelion/lib/python3.8/site-packages/dandelion/tools/_diversity.py:464: UserWarning: The minimum cell numbers when grouped by sample_id is 41 (group C138_230121). Exercise caution when interpreting diversity measures.\n"
     ]
    },
    {
     "name": "stdout",
     "output_type": "stream",
     "text": [
      "Computing gini indices for clone size using metadata and node closeness centrality using network.\n"
     ]
    },
    {
     "name": "stderr",
     "output_type": "stream",
     "text": [
      " 49%|████▉     | 92/187 [10:44<08:46,  5.55s/it]/nfs/users/nfs_k/kt16/miniconda2/envs/dandelion/lib/python3.8/site-packages/dandelion/tools/_diversity.py:464: UserWarning: The minimum cell numbers when grouped by sample_id is 18 (group C58_010221). Exercise caution when interpreting diversity measures.\n"
     ]
    },
    {
     "name": "stdout",
     "output_type": "stream",
     "text": [
      "Computing gini indices for clone size using metadata and node closeness centrality using network.\n"
     ]
    },
    {
     "name": "stderr",
     "output_type": "stream",
     "text": [
      "\r",
      " 50%|████▉     | 93/187 [10:48<08:03,  5.15s/it]"
     ]
    },
    {
     "name": "stdout",
     "output_type": "stream",
     "text": [
      "Computing gini indices for clone size using metadata and node closeness centrality using network.\n"
     ]
    },
    {
     "name": "stderr",
     "output_type": "stream",
     "text": [
      "\r",
      " 50%|█████     | 94/187 [10:55<08:34,  5.53s/it]"
     ]
    },
    {
     "name": "stdout",
     "output_type": "stream",
     "text": [
      "Computing gini indices for clone size using metadata and node closeness centrality using network.\n"
     ]
    },
    {
     "name": "stderr",
     "output_type": "stream",
     "text": [
      " 51%|█████     | 95/187 [11:00<08:17,  5.41s/it]/nfs/users/nfs_k/kt16/miniconda2/envs/dandelion/lib/python3.8/site-packages/dandelion/tools/_diversity.py:464: UserWarning: The minimum cell numbers when grouped by sample_id is 18 (group C101_250221). Exercise caution when interpreting diversity measures.\n"
     ]
    },
    {
     "name": "stdout",
     "output_type": "stream",
     "text": [
      "Computing gini indices for clone size using metadata and node closeness centrality using network.\n"
     ]
    },
    {
     "name": "stderr",
     "output_type": "stream",
     "text": [
      "\r",
      " 51%|█████▏    | 96/187 [11:04<07:38,  5.04s/it]"
     ]
    },
    {
     "name": "stdout",
     "output_type": "stream",
     "text": [
      "Computing gini indices for clone size using metadata and node closeness centrality using network.\n"
     ]
    },
    {
     "name": "stderr",
     "output_type": "stream",
     "text": [
      " 52%|█████▏    | 97/187 [11:14<09:44,  6.49s/it]/nfs/users/nfs_k/kt16/miniconda2/envs/dandelion/lib/python3.8/site-packages/dandelion/tools/_diversity.py:464: UserWarning: The minimum cell numbers when grouped by sample_id is 36 (group C73_2404). Exercise caution when interpreting diversity measures.\n"
     ]
    },
    {
     "name": "stdout",
     "output_type": "stream",
     "text": [
      "Computing gini indices for clone size using metadata and node closeness centrality using network.\n"
     ]
    },
    {
     "name": "stderr",
     "output_type": "stream",
     "text": [
      "\r",
      " 52%|█████▏    | 98/187 [11:18<08:40,  5.85s/it]"
     ]
    },
    {
     "name": "stdout",
     "output_type": "stream",
     "text": [
      "Computing gini indices for clone size using metadata and node closeness centrality using network.\n"
     ]
    },
    {
     "name": "stderr",
     "output_type": "stream",
     "text": [
      " 53%|█████▎    | 99/187 [11:23<08:12,  5.60s/it]/nfs/users/nfs_k/kt16/miniconda2/envs/dandelion/lib/python3.8/site-packages/dandelion/tools/_diversity.py:464: UserWarning: The minimum cell numbers when grouped by sample_id is 43 (group C108_180121). Exercise caution when interpreting diversity measures.\n"
     ]
    },
    {
     "name": "stdout",
     "output_type": "stream",
     "text": [
      "Computing gini indices for clone size using metadata and node closeness centrality using network.\n"
     ]
    },
    {
     "name": "stderr",
     "output_type": "stream",
     "text": [
      "\r",
      " 53%|█████▎    | 100/187 [11:28<07:32,  5.21s/it]"
     ]
    },
    {
     "name": "stdout",
     "output_type": "stream",
     "text": [
      "Computing gini indices for clone size using metadata and node closeness centrality using network.\n"
     ]
    },
    {
     "name": "stderr",
     "output_type": "stream",
     "text": [
      " 54%|█████▍    | 101/187 [11:33<07:42,  5.37s/it]/nfs/users/nfs_k/kt16/miniconda2/envs/dandelion/lib/python3.8/site-packages/dandelion/tools/_diversity.py:464: UserWarning: The minimum cell numbers when grouped by sample_id is 93 (group C187_250221). Exercise caution when interpreting diversity measures.\n"
     ]
    },
    {
     "name": "stdout",
     "output_type": "stream",
     "text": [
      "Computing gini indices for clone size using metadata and node closeness centrality using network.\n"
     ]
    },
    {
     "name": "stderr",
     "output_type": "stream",
     "text": [
      "\r",
      " 55%|█████▍    | 102/187 [11:38<07:22,  5.21s/it]"
     ]
    },
    {
     "name": "stdout",
     "output_type": "stream",
     "text": [
      "Computing gini indices for clone size using metadata and node closeness centrality using network.\n"
     ]
    },
    {
     "name": "stderr",
     "output_type": "stream",
     "text": [
      " 55%|█████▌    | 103/187 [11:45<07:43,  5.52s/it]/nfs/users/nfs_k/kt16/miniconda2/envs/dandelion/lib/python3.8/site-packages/dandelion/tools/_diversity.py:464: UserWarning: The minimum cell numbers when grouped by sample_id is 92 (group C187_140121). Exercise caution when interpreting diversity measures.\n"
     ]
    },
    {
     "name": "stdout",
     "output_type": "stream",
     "text": [
      "Computing gini indices for clone size using metadata and node closeness centrality using network.\n"
     ]
    },
    {
     "name": "stderr",
     "output_type": "stream",
     "text": [
      "\r",
      " 56%|█████▌    | 104/187 [11:49<07:20,  5.30s/it]"
     ]
    },
    {
     "name": "stdout",
     "output_type": "stream",
     "text": [
      "Computing gini indices for clone size using metadata and node closeness centrality using network.\n"
     ]
    },
    {
     "name": "stderr",
     "output_type": "stream",
     "text": [
      "\r",
      " 56%|█████▌    | 105/187 [11:56<07:57,  5.82s/it]"
     ]
    },
    {
     "name": "stdout",
     "output_type": "stream",
     "text": [
      "Computing gini indices for clone size using metadata and node closeness centrality using network.\n"
     ]
    },
    {
     "name": "stderr",
     "output_type": "stream",
     "text": [
      "\r",
      " 57%|█████▋    | 106/187 [12:20<15:04, 11.16s/it]"
     ]
    },
    {
     "name": "stdout",
     "output_type": "stream",
     "text": [
      "Computing gini indices for clone size using metadata and node closeness centrality using network.\n"
     ]
    },
    {
     "name": "stderr",
     "output_type": "stream",
     "text": [
      "\r",
      " 57%|█████▋    | 107/187 [12:27<13:06,  9.83s/it]"
     ]
    },
    {
     "name": "stdout",
     "output_type": "stream",
     "text": [
      "Computing gini indices for clone size using metadata and node closeness centrality using network.\n"
     ]
    },
    {
     "name": "stderr",
     "output_type": "stream",
     "text": [
      " 58%|█████▊    | 108/187 [12:48<17:25, 13.24s/it]/nfs/users/nfs_k/kt16/miniconda2/envs/dandelion/lib/python3.8/site-packages/dandelion/tools/_diversity.py:464: UserWarning: The minimum cell numbers when grouped by sample_id is 99 (group C251_2905). Exercise caution when interpreting diversity measures.\n"
     ]
    },
    {
     "name": "stdout",
     "output_type": "stream",
     "text": [
      "Computing gini indices for clone size using metadata and node closeness centrality using network.\n"
     ]
    },
    {
     "name": "stderr",
     "output_type": "stream",
     "text": [
      "\r",
      " 58%|█████▊    | 109/187 [12:53<14:05, 10.83s/it]"
     ]
    },
    {
     "name": "stdout",
     "output_type": "stream",
     "text": [
      "Computing gini indices for clone size using metadata and node closeness centrality using network.\n"
     ]
    },
    {
     "name": "stderr",
     "output_type": "stream",
     "text": [
      " 59%|█████▉    | 110/187 [13:09<15:51, 12.35s/it]/nfs/users/nfs_k/kt16/miniconda2/envs/dandelion/lib/python3.8/site-packages/dandelion/tools/_diversity.py:464: UserWarning: The minimum cell numbers when grouped by sample_id is 89 (group C169_200121). Exercise caution when interpreting diversity measures.\n"
     ]
    },
    {
     "name": "stdout",
     "output_type": "stream",
     "text": [
      "Computing gini indices for clone size using metadata and node closeness centrality using network.\n"
     ]
    },
    {
     "name": "stderr",
     "output_type": "stream",
     "text": [
      "\r",
      " 59%|█████▉    | 111/187 [13:14<12:48, 10.12s/it]"
     ]
    },
    {
     "name": "stdout",
     "output_type": "stream",
     "text": [
      "Computing gini indices for clone size using metadata and node closeness centrality using network.\n"
     ]
    },
    {
     "name": "stderr",
     "output_type": "stream",
     "text": [
      "\r",
      " 60%|█████▉    | 112/187 [13:21<11:29,  9.19s/it]"
     ]
    },
    {
     "name": "stdout",
     "output_type": "stream",
     "text": [
      "Computing gini indices for clone size using metadata and node closeness centrality using network.\n"
     ]
    },
    {
     "name": "stderr",
     "output_type": "stream",
     "text": [
      " 60%|██████    | 113/187 [13:29<10:43,  8.69s/it]/nfs/users/nfs_k/kt16/miniconda2/envs/dandelion/lib/python3.8/site-packages/dandelion/tools/_diversity.py:464: UserWarning: The minimum cell numbers when grouped by sample_id is 8 (group C187_260121). Exercise caution when interpreting diversity measures.\n"
     ]
    },
    {
     "name": "stdout",
     "output_type": "stream",
     "text": [
      "Computing gini indices for clone size using metadata and node closeness centrality using network.\n"
     ]
    },
    {
     "name": "stderr",
     "output_type": "stream",
     "text": [
      "\r",
      " 61%|██████    | 114/187 [13:33<08:53,  7.31s/it]"
     ]
    },
    {
     "name": "stdout",
     "output_type": "stream",
     "text": [
      "Computing gini indices for clone size using metadata and node closeness centrality using network.\n"
     ]
    },
    {
     "name": "stderr",
     "output_type": "stream",
     "text": [
      "\r",
      " 61%|██████▏   | 115/187 [13:39<08:31,  7.11s/it]"
     ]
    },
    {
     "name": "stdout",
     "output_type": "stream",
     "text": [
      "Computing gini indices for clone size using metadata and node closeness centrality using network.\n"
     ]
    },
    {
     "name": "stderr",
     "output_type": "stream",
     "text": [
      "\r",
      " 62%|██████▏   | 116/187 [13:46<08:26,  7.14s/it]"
     ]
    },
    {
     "name": "stdout",
     "output_type": "stream",
     "text": [
      "Computing gini indices for clone size using metadata and node closeness centrality using network.\n"
     ]
    },
    {
     "name": "stderr",
     "output_type": "stream",
     "text": [
      "\r",
      " 63%|██████▎   | 117/187 [13:53<08:01,  6.88s/it]"
     ]
    },
    {
     "name": "stdout",
     "output_type": "stream",
     "text": [
      "Computing gini indices for clone size using metadata and node closeness centrality using network.\n"
     ]
    },
    {
     "name": "stderr",
     "output_type": "stream",
     "text": [
      " 63%|██████▎   | 118/187 [14:00<08:10,  7.11s/it]/nfs/users/nfs_k/kt16/miniconda2/envs/dandelion/lib/python3.8/site-packages/dandelion/tools/_diversity.py:464: UserWarning: The minimum cell numbers when grouped by sample_id is 98 (group C168_120520). Exercise caution when interpreting diversity measures.\n"
     ]
    },
    {
     "name": "stdout",
     "output_type": "stream",
     "text": [
      "Computing gini indices for clone size using metadata and node closeness centrality using network.\n"
     ]
    },
    {
     "name": "stderr",
     "output_type": "stream",
     "text": [
      "\r",
      " 64%|██████▎   | 119/187 [14:06<07:24,  6.54s/it]"
     ]
    },
    {
     "name": "stdout",
     "output_type": "stream",
     "text": [
      "Computing gini indices for clone size using metadata and node closeness centrality using network.\n"
     ]
    },
    {
     "name": "stderr",
     "output_type": "stream",
     "text": [
      " 64%|██████▍   | 120/187 [14:14<08:05,  7.25s/it]/nfs/users/nfs_k/kt16/miniconda2/envs/dandelion/lib/python3.8/site-packages/dandelion/tools/_diversity.py:464: UserWarning: The minimum cell numbers when grouped by sample_id is 31 (group C60_1604). Exercise caution when interpreting diversity measures.\n"
     ]
    },
    {
     "name": "stdout",
     "output_type": "stream",
     "text": [
      "Computing gini indices for clone size using metadata and node closeness centrality using network.\n"
     ]
    },
    {
     "name": "stderr",
     "output_type": "stream",
     "text": [
      " 65%|██████▍   | 121/187 [14:19<07:00,  6.37s/it]/nfs/users/nfs_k/kt16/miniconda2/envs/dandelion/lib/python3.8/site-packages/dandelion/tools/_diversity.py:464: UserWarning: The minimum cell numbers when grouped by sample_id is 99 (group C146_140121). Exercise caution when interpreting diversity measures.\n"
     ]
    },
    {
     "name": "stdout",
     "output_type": "stream",
     "text": [
      "Computing gini indices for clone size using metadata and node closeness centrality using network.\n"
     ]
    },
    {
     "name": "stderr",
     "output_type": "stream",
     "text": [
      "\r",
      " 65%|██████▌   | 122/187 [14:24<06:29,  6.00s/it]"
     ]
    },
    {
     "name": "stdout",
     "output_type": "stream",
     "text": [
      "Computing gini indices for clone size using metadata and node closeness centrality using network.\n"
     ]
    },
    {
     "name": "stderr",
     "output_type": "stream",
     "text": [
      " 66%|██████▌   | 123/187 [14:30<06:23,  6.00s/it]/nfs/users/nfs_k/kt16/miniconda2/envs/dandelion/lib/python3.8/site-packages/dandelion/tools/_diversity.py:464: UserWarning: The minimum cell numbers when grouped by sample_id is 7 (group C101_060121). Exercise caution when interpreting diversity measures.\n"
     ]
    },
    {
     "name": "stdout",
     "output_type": "stream",
     "text": [
      "Computing gini indices for clone size using metadata and node closeness centrality using network.\n"
     ]
    },
    {
     "name": "stderr",
     "output_type": "stream",
     "text": [
      "\r",
      " 66%|██████▋   | 124/187 [14:34<05:41,  5.41s/it]"
     ]
    },
    {
     "name": "stdout",
     "output_type": "stream",
     "text": [
      "Computing gini indices for clone size using metadata and node closeness centrality using network.\n"
     ]
    },
    {
     "name": "stderr",
     "output_type": "stream",
     "text": [
      "\r",
      " 67%|██████▋   | 125/187 [14:41<06:05,  5.90s/it]"
     ]
    },
    {
     "name": "stdout",
     "output_type": "stream",
     "text": [
      "Computing gini indices for clone size using metadata and node closeness centrality using network.\n"
     ]
    },
    {
     "name": "stderr",
     "output_type": "stream",
     "text": [
      " 67%|██████▋   | 126/187 [14:46<05:44,  5.64s/it]/nfs/users/nfs_k/kt16/miniconda2/envs/dandelion/lib/python3.8/site-packages/dandelion/tools/_diversity.py:464: UserWarning: The minimum cell numbers when grouped by sample_id is 25 (group C108_220121). Exercise caution when interpreting diversity measures.\n"
     ]
    },
    {
     "name": "stdout",
     "output_type": "stream",
     "text": [
      "Computing gini indices for clone size using metadata and node closeness centrality using network.\n"
     ]
    },
    {
     "name": "stderr",
     "output_type": "stream",
     "text": [
      "\r",
      " 68%|██████▊   | 127/187 [14:50<05:12,  5.20s/it]"
     ]
    },
    {
     "name": "stdout",
     "output_type": "stream",
     "text": [
      "Computing gini indices for clone size using metadata and node closeness centrality using network.\n"
     ]
    },
    {
     "name": "stderr",
     "output_type": "stream",
     "text": [
      " 68%|██████▊   | 128/187 [15:08<08:45,  8.91s/it]/nfs/users/nfs_k/kt16/miniconda2/envs/dandelion/lib/python3.8/site-packages/dandelion/tools/_diversity.py:464: UserWarning: The minimum cell numbers when grouped by sample_id is 55 (group C240_2905). Exercise caution when interpreting diversity measures.\n"
     ]
    },
    {
     "name": "stdout",
     "output_type": "stream",
     "text": [
      "Computing gini indices for clone size using metadata and node closeness centrality using network.\n"
     ]
    },
    {
     "name": "stderr",
     "output_type": "stream",
     "text": [
      " 69%|██████▉   | 129/187 [15:12<07:18,  7.56s/it]/nfs/users/nfs_k/kt16/miniconda2/envs/dandelion/lib/python3.8/site-packages/dandelion/tools/_diversity.py:464: UserWarning: The minimum cell numbers when grouped by sample_id is 7 (group C58_160420). Exercise caution when interpreting diversity measures.\n"
     ]
    },
    {
     "name": "stdout",
     "output_type": "stream",
     "text": [
      "Computing gini indices for clone size using metadata and node closeness centrality using network.\n"
     ]
    },
    {
     "name": "stderr",
     "output_type": "stream",
     "text": [
      " 70%|██████▉   | 130/187 [15:16<06:09,  6.48s/it]/nfs/users/nfs_k/kt16/miniconda2/envs/dandelion/lib/python3.8/site-packages/dandelion/tools/_diversity.py:464: UserWarning: The minimum cell numbers when grouped by sample_id is 59 (group C33_140121). Exercise caution when interpreting diversity measures.\n"
     ]
    },
    {
     "name": "stdout",
     "output_type": "stream",
     "text": [
      "Computing gini indices for clone size using metadata and node closeness centrality using network.\n"
     ]
    },
    {
     "name": "stderr",
     "output_type": "stream",
     "text": [
      "\r",
      " 70%|███████   | 131/187 [15:21<05:28,  5.87s/it]"
     ]
    },
    {
     "name": "stdout",
     "output_type": "stream",
     "text": [
      "Computing gini indices for clone size using metadata and node closeness centrality using network.\n"
     ]
    },
    {
     "name": "stderr",
     "output_type": "stream",
     "text": [
      " 71%|███████   | 132/187 [16:02<15:15, 16.64s/it]/nfs/users/nfs_k/kt16/miniconda2/envs/dandelion/lib/python3.8/site-packages/dandelion/tools/_diversity.py:464: UserWarning: The minimum cell numbers when grouped by sample_id is 36 (group C145_300420). Exercise caution when interpreting diversity measures.\n"
     ]
    },
    {
     "name": "stdout",
     "output_type": "stream",
     "text": [
      "Computing gini indices for clone size using metadata and node closeness centrality using network.\n"
     ]
    },
    {
     "name": "stderr",
     "output_type": "stream",
     "text": [
      " 71%|███████   | 133/187 [16:07<11:38, 12.94s/it]/nfs/users/nfs_k/kt16/miniconda2/envs/dandelion/lib/python3.8/site-packages/dandelion/tools/_diversity.py:464: UserWarning: The minimum cell numbers when grouped by sample_id is 76 (group C60_2504). Exercise caution when interpreting diversity measures.\n"
     ]
    },
    {
     "name": "stdout",
     "output_type": "stream",
     "text": [
      "Computing gini indices for clone size using metadata and node closeness centrality using network.\n"
     ]
    },
    {
     "name": "stderr",
     "output_type": "stream",
     "text": [
      "\r",
      " 72%|███████▏  | 134/187 [16:11<09:16, 10.49s/it]"
     ]
    },
    {
     "name": "stdout",
     "output_type": "stream",
     "text": [
      "Computing gini indices for clone size using metadata and node closeness centrality using network.\n"
     ]
    },
    {
     "name": "stderr",
     "output_type": "stream",
     "text": [
      "\r",
      " 72%|███████▏  | 135/187 [16:17<07:54,  9.12s/it]"
     ]
    },
    {
     "name": "stdout",
     "output_type": "stream",
     "text": [
      "Computing gini indices for clone size using metadata and node closeness centrality using network.\n"
     ]
    },
    {
     "name": "stderr",
     "output_type": "stream",
     "text": [
      " 73%|███████▎  | 136/187 [16:27<07:52,  9.27s/it]/nfs/users/nfs_k/kt16/miniconda2/envs/dandelion/lib/python3.8/site-packages/dandelion/tools/_diversity.py:464: UserWarning: The minimum cell numbers when grouped by sample_id is 58 (group C187_260520). Exercise caution when interpreting diversity measures.\n"
     ]
    },
    {
     "name": "stdout",
     "output_type": "stream",
     "text": [
      "Computing gini indices for clone size using metadata and node closeness centrality using network.\n"
     ]
    },
    {
     "name": "stderr",
     "output_type": "stream",
     "text": [
      " 73%|███████▎  | 137/187 [16:31<06:31,  7.83s/it]/nfs/users/nfs_k/kt16/miniconda2/envs/dandelion/lib/python3.8/site-packages/dandelion/tools/_diversity.py:464: UserWarning: The minimum cell numbers when grouped by sample_id is 55 (group C65_2104). Exercise caution when interpreting diversity measures.\n"
     ]
    },
    {
     "name": "stdout",
     "output_type": "stream",
     "text": [
      "Computing gini indices for clone size using metadata and node closeness centrality using network.\n"
     ]
    },
    {
     "name": "stderr",
     "output_type": "stream",
     "text": [
      "\r",
      " 74%|███████▍  | 138/187 [16:36<05:34,  6.83s/it]"
     ]
    },
    {
     "name": "stdout",
     "output_type": "stream",
     "text": [
      "Computing gini indices for clone size using metadata and node closeness centrality using network.\n"
     ]
    },
    {
     "name": "stderr",
     "output_type": "stream",
     "text": [
      " 74%|███████▍  | 139/187 [16:41<05:07,  6.41s/it]/nfs/users/nfs_k/kt16/miniconda2/envs/dandelion/lib/python3.8/site-packages/dandelion/tools/_diversity.py:464: UserWarning: The minimum cell numbers when grouped by sample_id is 64 (group C36_2104). Exercise caution when interpreting diversity measures.\n"
     ]
    },
    {
     "name": "stdout",
     "output_type": "stream",
     "text": [
      "Computing gini indices for clone size using metadata and node closeness centrality using network.\n"
     ]
    },
    {
     "name": "stderr",
     "output_type": "stream",
     "text": [
      "\r",
      " 75%|███████▍  | 140/187 [16:46<04:33,  5.83s/it]"
     ]
    },
    {
     "name": "stdout",
     "output_type": "stream",
     "text": [
      "Computing gini indices for clone size using metadata and node closeness centrality using network.\n"
     ]
    },
    {
     "name": "stderr",
     "output_type": "stream",
     "text": [
      "\r",
      " 75%|███████▌  | 141/187 [16:57<05:41,  7.42s/it]"
     ]
    },
    {
     "name": "stdout",
     "output_type": "stream",
     "text": [
      "Computing gini indices for clone size using metadata and node closeness centrality using network.\n"
     ]
    },
    {
     "name": "stderr",
     "output_type": "stream",
     "text": [
      "\r",
      " 76%|███████▌  | 142/187 [17:07<06:05,  8.12s/it]"
     ]
    },
    {
     "name": "stdout",
     "output_type": "stream",
     "text": [
      "Computing gini indices for clone size using metadata and node closeness centrality using network.\n"
     ]
    },
    {
     "name": "stderr",
     "output_type": "stream",
     "text": [
      "\r",
      " 76%|███████▋  | 143/187 [17:19<06:51,  9.35s/it]"
     ]
    },
    {
     "name": "stdout",
     "output_type": "stream",
     "text": [
      "Computing gini indices for clone size using metadata and node closeness centrality using network.\n"
     ]
    },
    {
     "name": "stderr",
     "output_type": "stream",
     "text": [
      "\r",
      " 77%|███████▋  | 144/187 [17:30<06:58,  9.72s/it]"
     ]
    },
    {
     "name": "stdout",
     "output_type": "stream",
     "text": [
      "Computing gini indices for clone size using metadata and node closeness centrality using network.\n"
     ]
    },
    {
     "name": "stderr",
     "output_type": "stream",
     "text": [
      "\r",
      " 78%|███████▊  | 145/187 [17:37<06:16,  8.97s/it]"
     ]
    },
    {
     "name": "stdout",
     "output_type": "stream",
     "text": [
      "Computing gini indices for clone size using metadata and node closeness centrality using network.\n"
     ]
    },
    {
     "name": "stderr",
     "output_type": "stream",
     "text": [
      "\r",
      " 78%|███████▊  | 146/187 [17:46<06:14,  9.14s/it]"
     ]
    },
    {
     "name": "stdout",
     "output_type": "stream",
     "text": [
      "Computing gini indices for clone size using metadata and node closeness centrality using network.\n"
     ]
    },
    {
     "name": "stderr",
     "output_type": "stream",
     "text": [
      "\r",
      " 79%|███████▊  | 147/187 [17:53<05:31,  8.28s/it]"
     ]
    },
    {
     "name": "stdout",
     "output_type": "stream",
     "text": [
      "Computing gini indices for clone size using metadata and node closeness centrality using network.\n"
     ]
    },
    {
     "name": "stderr",
     "output_type": "stream",
     "text": [
      " 79%|███████▉  | 148/187 [18:21<09:18, 14.31s/it]/nfs/users/nfs_k/kt16/miniconda2/envs/dandelion/lib/python3.8/site-packages/dandelion/tools/_diversity.py:464: UserWarning: The minimum cell numbers when grouped by sample_id is 52 (group C140_280121). Exercise caution when interpreting diversity measures.\n"
     ]
    },
    {
     "name": "stdout",
     "output_type": "stream",
     "text": [
      "Computing gini indices for clone size using metadata and node closeness centrality using network.\n"
     ]
    },
    {
     "name": "stderr",
     "output_type": "stream",
     "text": [
      "\r",
      " 80%|███████▉  | 149/187 [18:25<07:11, 11.36s/it]"
     ]
    },
    {
     "name": "stdout",
     "output_type": "stream",
     "text": [
      "Computing gini indices for clone size using metadata and node closeness centrality using network.\n"
     ]
    },
    {
     "name": "stderr",
     "output_type": "stream",
     "text": [
      "\r",
      " 80%|████████  | 150/187 [18:30<05:50,  9.47s/it]"
     ]
    },
    {
     "name": "stdout",
     "output_type": "stream",
     "text": [
      "Computing gini indices for clone size using metadata and node closeness centrality using network.\n"
     ]
    },
    {
     "name": "stderr",
     "output_type": "stream",
     "text": [
      " 81%|████████  | 151/187 [18:36<04:52,  8.14s/it]/nfs/users/nfs_k/kt16/miniconda2/envs/dandelion/lib/python3.8/site-packages/dandelion/tools/_diversity.py:464: UserWarning: The minimum cell numbers when grouped by sample_id is 73 (group C187_230121). Exercise caution when interpreting diversity measures.\n"
     ]
    },
    {
     "name": "stdout",
     "output_type": "stream",
     "text": [
      "Computing gini indices for clone size using metadata and node closeness centrality using network.\n"
     ]
    },
    {
     "name": "stderr",
     "output_type": "stream",
     "text": [
      "\r",
      " 81%|████████▏ | 152/187 [18:40<04:09,  7.12s/it]"
     ]
    },
    {
     "name": "stdout",
     "output_type": "stream",
     "text": [
      "Computing gini indices for clone size using metadata and node closeness centrality using network.\n"
     ]
    },
    {
     "name": "stderr",
     "output_type": "stream",
     "text": [
      " 82%|████████▏ | 153/187 [18:49<04:18,  7.59s/it]/nfs/users/nfs_k/kt16/miniconda2/envs/dandelion/lib/python3.8/site-packages/dandelion/tools/_diversity.py:464: UserWarning: The minimum cell numbers when grouped by sample_id is 29 (group C33_160121). Exercise caution when interpreting diversity measures.\n"
     ]
    },
    {
     "name": "stdout",
     "output_type": "stream",
     "text": [
      "Computing gini indices for clone size using metadata and node closeness centrality using network.\n"
     ]
    },
    {
     "name": "stderr",
     "output_type": "stream",
     "text": [
      "\r",
      " 82%|████████▏ | 154/187 [18:53<03:38,  6.61s/it]"
     ]
    },
    {
     "name": "stdout",
     "output_type": "stream",
     "text": [
      "Computing gini indices for clone size using metadata and node closeness centrality using network.\n"
     ]
    },
    {
     "name": "stderr",
     "output_type": "stream",
     "text": [
      " 83%|████████▎ | 155/187 [19:00<03:33,  6.66s/it]/nfs/users/nfs_k/kt16/miniconda2/envs/dandelion/lib/python3.8/site-packages/dandelion/tools/_diversity.py:464: UserWarning: The minimum cell numbers when grouped by sample_id is 45 (group C34_1404). Exercise caution when interpreting diversity measures.\n"
     ]
    },
    {
     "name": "stdout",
     "output_type": "stream",
     "text": [
      "Computing gini indices for clone size using metadata and node closeness centrality using network.\n"
     ]
    },
    {
     "name": "stderr",
     "output_type": "stream",
     "text": [
      " 83%|████████▎ | 156/187 [19:04<03:04,  5.97s/it]/nfs/users/nfs_k/kt16/miniconda2/envs/dandelion/lib/python3.8/site-packages/dandelion/tools/_diversity.py:464: UserWarning: The minimum cell numbers when grouped by sample_id is 73 (group C141_090321). Exercise caution when interpreting diversity measures.\n"
     ]
    },
    {
     "name": "stdout",
     "output_type": "stream",
     "text": [
      "Computing gini indices for clone size using metadata and node closeness centrality using network.\n"
     ]
    },
    {
     "name": "stderr",
     "output_type": "stream",
     "text": [
      "\r",
      " 84%|████████▍ | 157/187 [19:09<02:50,  5.69s/it]"
     ]
    },
    {
     "name": "stdout",
     "output_type": "stream",
     "text": [
      "Computing gini indices for clone size using metadata and node closeness centrality using network.\n"
     ]
    },
    {
     "name": "stderr",
     "output_type": "stream",
     "text": [
      "\r",
      " 84%|████████▍ | 158/187 [19:23<03:51,  7.98s/it]"
     ]
    },
    {
     "name": "stdout",
     "output_type": "stream",
     "text": [
      "Computing gini indices for clone size using metadata and node closeness centrality using network.\n"
     ]
    },
    {
     "name": "stderr",
     "output_type": "stream",
     "text": [
      "\r",
      " 85%|████████▌ | 159/187 [19:33<04:00,  8.59s/it]"
     ]
    },
    {
     "name": "stdout",
     "output_type": "stream",
     "text": [
      "Computing gini indices for clone size using metadata and node closeness centrality using network.\n"
     ]
    },
    {
     "name": "stderr",
     "output_type": "stream",
     "text": [
      "\r",
      " 86%|████████▌ | 160/187 [19:45<04:23,  9.77s/it]"
     ]
    },
    {
     "name": "stdout",
     "output_type": "stream",
     "text": [
      "Computing gini indices for clone size using metadata and node closeness centrality using network.\n"
     ]
    },
    {
     "name": "stderr",
     "output_type": "stream",
     "text": [
      " 86%|████████▌ | 161/187 [20:03<05:18, 12.25s/it]/nfs/users/nfs_k/kt16/miniconda2/envs/dandelion/lib/python3.8/site-packages/dandelion/tools/_diversity.py:464: UserWarning: The minimum cell numbers when grouped by sample_id is 56 (group C33_190121). Exercise caution when interpreting diversity measures.\n"
     ]
    },
    {
     "name": "stdout",
     "output_type": "stream",
     "text": [
      "Computing gini indices for clone size using metadata and node closeness centrality using network.\n"
     ]
    },
    {
     "name": "stderr",
     "output_type": "stream",
     "text": [
      " 87%|████████▋ | 162/187 [20:08<04:07,  9.91s/it]/nfs/users/nfs_k/kt16/miniconda2/envs/dandelion/lib/python3.8/site-packages/dandelion/tools/_diversity.py:464: UserWarning: The minimum cell numbers when grouped by sample_id is 58 (group C34_2104). Exercise caution when interpreting diversity measures.\n"
     ]
    },
    {
     "name": "stdout",
     "output_type": "stream",
     "text": [
      "Computing gini indices for clone size using metadata and node closeness centrality using network.\n"
     ]
    },
    {
     "name": "stderr",
     "output_type": "stream",
     "text": [
      "\r",
      " 87%|████████▋ | 163/187 [20:12<03:19,  8.29s/it]"
     ]
    },
    {
     "name": "stdout",
     "output_type": "stream",
     "text": [
      "Computing gini indices for clone size using metadata and node closeness centrality using network.\n"
     ]
    },
    {
     "name": "stderr",
     "output_type": "stream",
     "text": [
      "\r",
      " 88%|████████▊ | 164/187 [20:32<04:30, 11.78s/it]"
     ]
    },
    {
     "name": "stdout",
     "output_type": "stream",
     "text": [
      "Computing gini indices for clone size using metadata and node closeness centrality using network.\n"
     ]
    },
    {
     "name": "stderr",
     "output_type": "stream",
     "text": [
      "\r",
      " 88%|████████▊ | 165/187 [20:46<04:30, 12.30s/it]"
     ]
    },
    {
     "name": "stdout",
     "output_type": "stream",
     "text": [
      "Computing gini indices for clone size using metadata and node closeness centrality using network.\n"
     ]
    },
    {
     "name": "stderr",
     "output_type": "stream",
     "text": [
      " 89%|████████▉ | 166/187 [20:51<03:32, 10.10s/it]/nfs/users/nfs_k/kt16/miniconda2/envs/dandelion/lib/python3.8/site-packages/dandelion/tools/_diversity.py:464: UserWarning: The minimum cell numbers when grouped by sample_id is 55 (group C36_1704). Exercise caution when interpreting diversity measures.\n"
     ]
    },
    {
     "name": "stdout",
     "output_type": "stream",
     "text": [
      "Computing gini indices for clone size using metadata and node closeness centrality using network.\n"
     ]
    },
    {
     "name": "stderr",
     "output_type": "stream",
     "text": [
      "\r",
      " 89%|████████▉ | 167/187 [20:55<02:48,  8.44s/it]"
     ]
    },
    {
     "name": "stdout",
     "output_type": "stream",
     "text": [
      "Computing gini indices for clone size using metadata and node closeness centrality using network.\n"
     ]
    },
    {
     "name": "stderr",
     "output_type": "stream",
     "text": [
      "\r",
      " 90%|████████▉ | 168/187 [21:03<02:33,  8.10s/it]"
     ]
    },
    {
     "name": "stdout",
     "output_type": "stream",
     "text": [
      "Computing gini indices for clone size using metadata and node closeness centrality using network.\n"
     ]
    },
    {
     "name": "stderr",
     "output_type": "stream",
     "text": [
      "\r",
      " 90%|█████████ | 169/187 [21:14<02:42,  9.00s/it]"
     ]
    },
    {
     "name": "stdout",
     "output_type": "stream",
     "text": [
      "Computing gini indices for clone size using metadata and node closeness centrality using network.\n"
     ]
    },
    {
     "name": "stderr",
     "output_type": "stream",
     "text": [
      "\r",
      " 91%|█████████ | 170/187 [21:21<02:24,  8.47s/it]"
     ]
    },
    {
     "name": "stdout",
     "output_type": "stream",
     "text": [
      "Computing gini indices for clone size using metadata and node closeness centrality using network.\n"
     ]
    },
    {
     "name": "stderr",
     "output_type": "stream",
     "text": [
      "\r",
      " 91%|█████████▏| 171/187 [21:26<01:59,  7.47s/it]"
     ]
    },
    {
     "name": "stdout",
     "output_type": "stream",
     "text": [
      "Computing gini indices for clone size using metadata and node closeness centrality using network.\n"
     ]
    },
    {
     "name": "stderr",
     "output_type": "stream",
     "text": [
      "\r",
      " 92%|█████████▏| 172/187 [21:31<01:42,  6.81s/it]"
     ]
    },
    {
     "name": "stdout",
     "output_type": "stream",
     "text": [
      "Computing gini indices for clone size using metadata and node closeness centrality using network.\n"
     ]
    },
    {
     "name": "stderr",
     "output_type": "stream",
     "text": [
      "\r",
      " 93%|█████████▎| 173/187 [21:38<01:33,  6.64s/it]"
     ]
    },
    {
     "name": "stdout",
     "output_type": "stream",
     "text": [
      "Computing gini indices for clone size using metadata and node closeness centrality using network.\n"
     ]
    },
    {
     "name": "stderr",
     "output_type": "stream",
     "text": [
      "\r",
      " 93%|█████████▎| 174/187 [21:45<01:29,  6.87s/it]"
     ]
    },
    {
     "name": "stdout",
     "output_type": "stream",
     "text": [
      "Computing gini indices for clone size using metadata and node closeness centrality using network.\n"
     ]
    },
    {
     "name": "stderr",
     "output_type": "stream",
     "text": [
      "\r",
      " 94%|█████████▎| 175/187 [21:51<01:17,  6.49s/it]"
     ]
    },
    {
     "name": "stdout",
     "output_type": "stream",
     "text": [
      "Computing gini indices for clone size using metadata and node closeness centrality using network.\n"
     ]
    },
    {
     "name": "stderr",
     "output_type": "stream",
     "text": [
      "\r",
      " 94%|█████████▍| 176/187 [21:57<01:10,  6.40s/it]"
     ]
    },
    {
     "name": "stdout",
     "output_type": "stream",
     "text": [
      "Computing gini indices for clone size using metadata and node closeness centrality using network.\n"
     ]
    },
    {
     "name": "stderr",
     "output_type": "stream",
     "text": [
      "\r",
      " 95%|█████████▍| 177/187 [22:06<01:12,  7.25s/it]"
     ]
    },
    {
     "name": "stdout",
     "output_type": "stream",
     "text": [
      "Computing gini indices for clone size using metadata and node closeness centrality using network.\n"
     ]
    },
    {
     "name": "stderr",
     "output_type": "stream",
     "text": [
      "\r",
      " 95%|█████████▌| 178/187 [22:16<01:11,  7.97s/it]"
     ]
    },
    {
     "name": "stdout",
     "output_type": "stream",
     "text": [
      "Computing gini indices for clone size using metadata and node closeness centrality using network.\n"
     ]
    },
    {
     "name": "stderr",
     "output_type": "stream",
     "text": [
      "\r",
      " 96%|█████████▌| 179/187 [22:23<01:01,  7.64s/it]"
     ]
    },
    {
     "name": "stdout",
     "output_type": "stream",
     "text": [
      "Computing gini indices for clone size using metadata and node closeness centrality using network.\n"
     ]
    },
    {
     "name": "stderr",
     "output_type": "stream",
     "text": [
      "\r",
      " 96%|█████████▋| 180/187 [22:30<00:53,  7.70s/it]"
     ]
    },
    {
     "name": "stdout",
     "output_type": "stream",
     "text": [
      "Computing gini indices for clone size using metadata and node closeness centrality using network.\n"
     ]
    },
    {
     "name": "stderr",
     "output_type": "stream",
     "text": [
      "\r",
      " 97%|█████████▋| 181/187 [22:35<00:40,  6.76s/it]"
     ]
    },
    {
     "name": "stdout",
     "output_type": "stream",
     "text": [
      "Computing gini indices for clone size using metadata and node closeness centrality using network.\n"
     ]
    },
    {
     "name": "stderr",
     "output_type": "stream",
     "text": [
      "\r",
      " 97%|█████████▋| 182/187 [22:42<00:34,  6.92s/it]"
     ]
    },
    {
     "name": "stdout",
     "output_type": "stream",
     "text": [
      "Computing gini indices for clone size using metadata and node closeness centrality using network.\n"
     ]
    },
    {
     "name": "stderr",
     "output_type": "stream",
     "text": [
      "\r",
      " 98%|█████████▊| 183/187 [22:53<00:32,  8.17s/it]"
     ]
    },
    {
     "name": "stdout",
     "output_type": "stream",
     "text": [
      "Computing gini indices for clone size using metadata and node closeness centrality using network.\n"
     ]
    },
    {
     "name": "stderr",
     "output_type": "stream",
     "text": [
      "\r",
      " 98%|█████████▊| 184/187 [23:21<00:42, 14.10s/it]"
     ]
    },
    {
     "name": "stdout",
     "output_type": "stream",
     "text": [
      "Computing gini indices for clone size using metadata and node closeness centrality using network.\n"
     ]
    },
    {
     "name": "stderr",
     "output_type": "stream",
     "text": [
      "\r",
      " 99%|█████████▉| 185/187 [23:27<00:23, 11.56s/it]"
     ]
    },
    {
     "name": "stdout",
     "output_type": "stream",
     "text": [
      "Computing gini indices for clone size using metadata and node closeness centrality using network.\n"
     ]
    },
    {
     "name": "stderr",
     "output_type": "stream",
     "text": [
      "\r",
      " 99%|█████████▉| 186/187 [23:32<00:09,  9.73s/it]"
     ]
    },
    {
     "name": "stdout",
     "output_type": "stream",
     "text": [
      "Computing gini indices for clone size using metadata and node closeness centrality using network.\n"
     ]
    },
    {
     "name": "stderr",
     "output_type": "stream",
     "text": [
      "100%|██████████| 187/187 [23:39<00:00,  7.59s/it]\n"
     ]
    }
   ],
   "source": [
    "result_df3 = {}\n",
    "for x in tqdm(vdjs):\n",
    "    ddl.tl.generate_network(vdjs[x], verbose = False)\n",
    "    ddl.tl.clone_centrality(vdjs[x], verbose = False)\n",
    "    result_df3[x] = ddl.tl.clone_diversity(vdjs[x], groupby = 'sample_id', update_obs_meta = False, expanded_only = True, metric = 'clone_centrality', reconstruct_network = False)"
   ]
  },
  {
   "cell_type": "code",
   "execution_count": 22,
   "id": "aa5f4b0d",
   "metadata": {},
   "outputs": [
    {
     "data": {
      "text/html": [
       "<div>\n",
       "<style scoped>\n",
       "    .dataframe tbody tr th:only-of-type {\n",
       "        vertical-align: middle;\n",
       "    }\n",
       "\n",
       "    .dataframe tbody tr th {\n",
       "        vertical-align: top;\n",
       "    }\n",
       "\n",
       "    .dataframe thead th {\n",
       "        text-align: right;\n",
       "    }\n",
       "</style>\n",
       "<table border=\"1\" class=\"dataframe\">\n",
       "  <thead>\n",
       "    <tr style=\"text-align: right;\">\n",
       "      <th></th>\n",
       "      <th>clone_network_cluster_size_gini</th>\n",
       "      <th>clone_network_vertex_size_gini</th>\n",
       "    </tr>\n",
       "  </thead>\n",
       "  <tbody>\n",
       "    <tr>\n",
       "      <th>C101_200121</th>\n",
       "      <td>0.701514</td>\n",
       "      <td>0.108485</td>\n",
       "    </tr>\n",
       "    <tr>\n",
       "      <th>C212_2705</th>\n",
       "      <td>0.250000</td>\n",
       "      <td>0.000000</td>\n",
       "    </tr>\n",
       "    <tr>\n",
       "      <th>C193_2605</th>\n",
       "      <td>0.606061</td>\n",
       "      <td>0.064935</td>\n",
       "    </tr>\n",
       "    <tr>\n",
       "      <th>C40_0105</th>\n",
       "      <td>0.000000</td>\n",
       "      <td>0.250000</td>\n",
       "    </tr>\n",
       "    <tr>\n",
       "      <th>C140_300420</th>\n",
       "      <td>0.177833</td>\n",
       "      <td>0.053472</td>\n",
       "    </tr>\n",
       "    <tr>\n",
       "      <th>...</th>\n",
       "      <td>...</td>\n",
       "      <td>...</td>\n",
       "    </tr>\n",
       "    <tr>\n",
       "      <th>C137_190121</th>\n",
       "      <td>0.206306</td>\n",
       "      <td>0.069444</td>\n",
       "    </tr>\n",
       "    <tr>\n",
       "      <th>C140_300121</th>\n",
       "      <td>0.152865</td>\n",
       "      <td>0.041828</td>\n",
       "    </tr>\n",
       "    <tr>\n",
       "      <th>C106_2204</th>\n",
       "      <td>0.083333</td>\n",
       "      <td>0.000000</td>\n",
       "    </tr>\n",
       "    <tr>\n",
       "      <th>C128_1105</th>\n",
       "      <td>0.232143</td>\n",
       "      <td>0.122312</td>\n",
       "    </tr>\n",
       "    <tr>\n",
       "      <th>C127_1105</th>\n",
       "      <td>0.175000</td>\n",
       "      <td>0.025862</td>\n",
       "    </tr>\n",
       "  </tbody>\n",
       "</table>\n",
       "<p>187 rows × 2 columns</p>\n",
       "</div>"
      ],
      "text/plain": [
       "             clone_network_cluster_size_gini  clone_network_vertex_size_gini\n",
       "C101_200121                         0.701514                        0.108485\n",
       "C212_2705                           0.250000                        0.000000\n",
       "C193_2605                           0.606061                        0.064935\n",
       "C40_0105                            0.000000                        0.250000\n",
       "C140_300420                         0.177833                        0.053472\n",
       "...                                      ...                             ...\n",
       "C137_190121                         0.206306                        0.069444\n",
       "C140_300121                         0.152865                        0.041828\n",
       "C106_2204                           0.083333                        0.000000\n",
       "C128_1105                           0.232143                        0.122312\n",
       "C127_1105                           0.175000                        0.025862\n",
       "\n",
       "[187 rows x 2 columns]"
      ]
     },
     "execution_count": 22,
     "metadata": {},
     "output_type": "execute_result"
    }
   ],
   "source": [
    "results1 = pd.concat(result_df)\n",
    "results1.index = [x[0] for x in results1.index]\n",
    "results1"
   ]
  },
  {
   "cell_type": "code",
   "execution_count": 23,
   "id": "59b0777f",
   "metadata": {},
   "outputs": [
    {
     "data": {
      "text/html": [
       "<div>\n",
       "<style scoped>\n",
       "    .dataframe tbody tr th:only-of-type {\n",
       "        vertical-align: middle;\n",
       "    }\n",
       "\n",
       "    .dataframe tbody tr th {\n",
       "        vertical-align: top;\n",
       "    }\n",
       "\n",
       "    .dataframe thead th {\n",
       "        text-align: right;\n",
       "    }\n",
       "</style>\n",
       "<table border=\"1\" class=\"dataframe\">\n",
       "  <thead>\n",
       "    <tr style=\"text-align: right;\">\n",
       "      <th></th>\n",
       "      <th>clone_network_cluster_size_gini</th>\n",
       "      <th>clone_network_vertex_size_gini</th>\n",
       "    </tr>\n",
       "  </thead>\n",
       "  <tbody>\n",
       "    <tr>\n",
       "      <th>C101_200121</th>\n",
       "      <td>0.291235</td>\n",
       "      <td>0.108485</td>\n",
       "    </tr>\n",
       "    <tr>\n",
       "      <th>C212_2705</th>\n",
       "      <td>0.250000</td>\n",
       "      <td>0.000000</td>\n",
       "    </tr>\n",
       "    <tr>\n",
       "      <th>C193_2605</th>\n",
       "      <td>0.476190</td>\n",
       "      <td>0.064935</td>\n",
       "    </tr>\n",
       "    <tr>\n",
       "      <th>C40_0105</th>\n",
       "      <td>0.000000</td>\n",
       "      <td>0.250000</td>\n",
       "    </tr>\n",
       "    <tr>\n",
       "      <th>C140_300420</th>\n",
       "      <td>0.061207</td>\n",
       "      <td>0.053472</td>\n",
       "    </tr>\n",
       "    <tr>\n",
       "      <th>...</th>\n",
       "      <td>...</td>\n",
       "      <td>...</td>\n",
       "    </tr>\n",
       "    <tr>\n",
       "      <th>C137_190121</th>\n",
       "      <td>0.063333</td>\n",
       "      <td>0.069444</td>\n",
       "    </tr>\n",
       "    <tr>\n",
       "      <th>C140_300121</th>\n",
       "      <td>0.046394</td>\n",
       "      <td>0.041828</td>\n",
       "    </tr>\n",
       "    <tr>\n",
       "      <th>C106_2204</th>\n",
       "      <td>0.083333</td>\n",
       "      <td>0.000000</td>\n",
       "    </tr>\n",
       "    <tr>\n",
       "      <th>C128_1105</th>\n",
       "      <td>0.144009</td>\n",
       "      <td>0.122312</td>\n",
       "    </tr>\n",
       "    <tr>\n",
       "      <th>C127_1105</th>\n",
       "      <td>0.096552</td>\n",
       "      <td>0.025862</td>\n",
       "    </tr>\n",
       "  </tbody>\n",
       "</table>\n",
       "<p>187 rows × 2 columns</p>\n",
       "</div>"
      ],
      "text/plain": [
       "             clone_network_cluster_size_gini  clone_network_vertex_size_gini\n",
       "C101_200121                         0.291235                        0.108485\n",
       "C212_2705                           0.250000                        0.000000\n",
       "C193_2605                           0.476190                        0.064935\n",
       "C40_0105                            0.000000                        0.250000\n",
       "C140_300420                         0.061207                        0.053472\n",
       "...                                      ...                             ...\n",
       "C137_190121                         0.063333                        0.069444\n",
       "C140_300121                         0.046394                        0.041828\n",
       "C106_2204                           0.083333                        0.000000\n",
       "C128_1105                           0.144009                        0.122312\n",
       "C127_1105                           0.096552                        0.025862\n",
       "\n",
       "[187 rows x 2 columns]"
      ]
     },
     "execution_count": 23,
     "metadata": {},
     "output_type": "execute_result"
    }
   ],
   "source": [
    "results2 = pd.concat(result_df2)\n",
    "results2.index = [x[0] for x in results2.index]\n",
    "results2"
   ]
  },
  {
   "cell_type": "code",
   "execution_count": 24,
   "id": "da28dd82",
   "metadata": {},
   "outputs": [
    {
     "data": {
      "text/html": [
       "<div>\n",
       "<style scoped>\n",
       "    .dataframe tbody tr th:only-of-type {\n",
       "        vertical-align: middle;\n",
       "    }\n",
       "\n",
       "    .dataframe tbody tr th {\n",
       "        vertical-align: top;\n",
       "    }\n",
       "\n",
       "    .dataframe thead th {\n",
       "        text-align: right;\n",
       "    }\n",
       "</style>\n",
       "<table border=\"1\" class=\"dataframe\">\n",
       "  <thead>\n",
       "    <tr style=\"text-align: right;\">\n",
       "      <th></th>\n",
       "      <th>clone_size_gini</th>\n",
       "      <th>clone_centrality_gini</th>\n",
       "    </tr>\n",
       "  </thead>\n",
       "  <tbody>\n",
       "    <tr>\n",
       "      <th>C101_200121</th>\n",
       "      <td>0.126297</td>\n",
       "      <td>0.611111</td>\n",
       "    </tr>\n",
       "    <tr>\n",
       "      <th>C212_2705</th>\n",
       "      <td>0.060890</td>\n",
       "      <td>0.000000</td>\n",
       "    </tr>\n",
       "    <tr>\n",
       "      <th>C193_2605</th>\n",
       "      <td>0.040710</td>\n",
       "      <td>0.214286</td>\n",
       "    </tr>\n",
       "    <tr>\n",
       "      <th>C40_0105</th>\n",
       "      <td>0.010949</td>\n",
       "      <td>0.000000</td>\n",
       "    </tr>\n",
       "    <tr>\n",
       "      <th>C140_300420</th>\n",
       "      <td>0.061128</td>\n",
       "      <td>0.350000</td>\n",
       "    </tr>\n",
       "    <tr>\n",
       "      <th>...</th>\n",
       "      <td>...</td>\n",
       "      <td>...</td>\n",
       "    </tr>\n",
       "    <tr>\n",
       "      <th>C137_190121</th>\n",
       "      <td>0.045464</td>\n",
       "      <td>0.400000</td>\n",
       "    </tr>\n",
       "    <tr>\n",
       "      <th>C140_300121</th>\n",
       "      <td>0.092574</td>\n",
       "      <td>0.372587</td>\n",
       "    </tr>\n",
       "    <tr>\n",
       "      <th>C106_2204</th>\n",
       "      <td>0.044440</td>\n",
       "      <td>0.000000</td>\n",
       "    </tr>\n",
       "    <tr>\n",
       "      <th>C128_1105</th>\n",
       "      <td>0.137144</td>\n",
       "      <td>0.408602</td>\n",
       "    </tr>\n",
       "    <tr>\n",
       "      <th>C127_1105</th>\n",
       "      <td>0.044031</td>\n",
       "      <td>0.396552</td>\n",
       "    </tr>\n",
       "  </tbody>\n",
       "</table>\n",
       "<p>187 rows × 2 columns</p>\n",
       "</div>"
      ],
      "text/plain": [
       "             clone_size_gini  clone_centrality_gini\n",
       "C101_200121         0.126297               0.611111\n",
       "C212_2705           0.060890               0.000000\n",
       "C193_2605           0.040710               0.214286\n",
       "C40_0105            0.010949               0.000000\n",
       "C140_300420         0.061128               0.350000\n",
       "...                      ...                    ...\n",
       "C137_190121         0.045464               0.400000\n",
       "C140_300121         0.092574               0.372587\n",
       "C106_2204           0.044440               0.000000\n",
       "C128_1105           0.137144               0.408602\n",
       "C127_1105           0.044031               0.396552\n",
       "\n",
       "[187 rows x 2 columns]"
      ]
     },
     "execution_count": 24,
     "metadata": {},
     "output_type": "execute_result"
    }
   ],
   "source": [
    "results3 = pd.concat(result_df3)\n",
    "results3.index = [x[0] for x in results3.index]\n",
    "results3"
   ]
  },
  {
   "cell_type": "code",
   "execution_count": 25,
   "id": "e2c14eae",
   "metadata": {},
   "outputs": [
    {
     "data": {
      "text/html": [
       "<div>\n",
       "<style scoped>\n",
       "    .dataframe tbody tr th:only-of-type {\n",
       "        vertical-align: middle;\n",
       "    }\n",
       "\n",
       "    .dataframe tbody tr th {\n",
       "        vertical-align: top;\n",
       "    }\n",
       "\n",
       "    .dataframe thead th {\n",
       "        text-align: right;\n",
       "    }\n",
       "</style>\n",
       "<table border=\"1\" class=\"dataframe\">\n",
       "  <thead>\n",
       "    <tr style=\"text-align: right;\">\n",
       "      <th></th>\n",
       "      <th>cell_counts</th>\n",
       "    </tr>\n",
       "  </thead>\n",
       "  <tbody>\n",
       "    <tr>\n",
       "      <th>C101_200121</th>\n",
       "      <td>317</td>\n",
       "    </tr>\n",
       "    <tr>\n",
       "      <th>C212_2705</th>\n",
       "      <td>63</td>\n",
       "    </tr>\n",
       "    <tr>\n",
       "      <th>C193_2605</th>\n",
       "      <td>146</td>\n",
       "    </tr>\n",
       "    <tr>\n",
       "      <th>C40_0105</th>\n",
       "      <td>273</td>\n",
       "    </tr>\n",
       "    <tr>\n",
       "      <th>C140_300420</th>\n",
       "      <td>989</td>\n",
       "    </tr>\n",
       "    <tr>\n",
       "      <th>...</th>\n",
       "      <td>...</td>\n",
       "    </tr>\n",
       "    <tr>\n",
       "      <th>C137_190121</th>\n",
       "      <td>675</td>\n",
       "    </tr>\n",
       "    <tr>\n",
       "      <th>C140_300121</th>\n",
       "      <td>1329</td>\n",
       "    </tr>\n",
       "    <tr>\n",
       "      <th>C106_2204</th>\n",
       "      <td>259</td>\n",
       "    </tr>\n",
       "    <tr>\n",
       "      <th>C128_1105</th>\n",
       "      <td>235</td>\n",
       "    </tr>\n",
       "    <tr>\n",
       "      <th>C127_1105</th>\n",
       "      <td>350</td>\n",
       "    </tr>\n",
       "  </tbody>\n",
       "</table>\n",
       "<p>187 rows × 1 columns</p>\n",
       "</div>"
      ],
      "text/plain": [
       "             cell_counts\n",
       "C101_200121          317\n",
       "C212_2705             63\n",
       "C193_2605            146\n",
       "C40_0105             273\n",
       "C140_300420          989\n",
       "...                  ...\n",
       "C137_190121          675\n",
       "C140_300121         1329\n",
       "C106_2204            259\n",
       "C128_1105            235\n",
       "C127_1105            350\n",
       "\n",
       "[187 rows x 1 columns]"
      ]
     },
     "execution_count": 25,
     "metadata": {},
     "output_type": "execute_result"
    }
   ],
   "source": [
    "cell_counts = {}\n",
    "for x in result_df:\n",
    "    cell_counts[x] = vdjs[x].metadata.shape[0]\n",
    "cell_counts = pd.DataFrame(cell_counts, index = ['cell_counts']).T\n",
    "cell_counts"
   ]
  },
  {
   "cell_type": "code",
   "execution_count": 33,
   "id": "d7f6f5d7",
   "metadata": {},
   "outputs": [
    {
     "data": {
      "text/html": [
       "<div>\n",
       "<style scoped>\n",
       "    .dataframe tbody tr th:only-of-type {\n",
       "        vertical-align: middle;\n",
       "    }\n",
       "\n",
       "    .dataframe tbody tr th {\n",
       "        vertical-align: top;\n",
       "    }\n",
       "\n",
       "    .dataframe thead th {\n",
       "        text-align: right;\n",
       "    }\n",
       "</style>\n",
       "<table border=\"1\" class=\"dataframe\">\n",
       "  <thead>\n",
       "    <tr style=\"text-align: right;\">\n",
       "      <th></th>\n",
       "      <th>cell_counts</th>\n",
       "    </tr>\n",
       "  </thead>\n",
       "  <tbody>\n",
       "    <tr>\n",
       "      <th>C101_200121</th>\n",
       "      <td>63</td>\n",
       "    </tr>\n",
       "    <tr>\n",
       "      <th>C212_2705</th>\n",
       "      <td>6</td>\n",
       "    </tr>\n",
       "    <tr>\n",
       "      <th>C193_2605</th>\n",
       "      <td>7</td>\n",
       "    </tr>\n",
       "    <tr>\n",
       "      <th>C40_0105</th>\n",
       "      <td>3</td>\n",
       "    </tr>\n",
       "    <tr>\n",
       "      <th>C140_300420</th>\n",
       "      <td>120</td>\n",
       "    </tr>\n",
       "    <tr>\n",
       "      <th>...</th>\n",
       "      <td>...</td>\n",
       "    </tr>\n",
       "    <tr>\n",
       "      <th>C137_190121</th>\n",
       "      <td>60</td>\n",
       "    </tr>\n",
       "    <tr>\n",
       "      <th>C140_300121</th>\n",
       "      <td>259</td>\n",
       "    </tr>\n",
       "    <tr>\n",
       "      <th>C106_2204</th>\n",
       "      <td>22</td>\n",
       "    </tr>\n",
       "    <tr>\n",
       "      <th>C128_1105</th>\n",
       "      <td>62</td>\n",
       "    </tr>\n",
       "    <tr>\n",
       "      <th>C127_1105</th>\n",
       "      <td>29</td>\n",
       "    </tr>\n",
       "  </tbody>\n",
       "</table>\n",
       "<p>187 rows × 1 columns</p>\n",
       "</div>"
      ],
      "text/plain": [
       "             cell_counts\n",
       "C101_200121           63\n",
       "C212_2705              6\n",
       "C193_2605              7\n",
       "C40_0105               3\n",
       "C140_300420          120\n",
       "...                  ...\n",
       "C137_190121           60\n",
       "C140_300121          259\n",
       "C106_2204             22\n",
       "C128_1105             62\n",
       "C127_1105             29\n",
       "\n",
       "[187 rows x 1 columns]"
      ]
     },
     "execution_count": 33,
     "metadata": {},
     "output_type": "execute_result"
    }
   ],
   "source": [
    "cell_counts2 = {}\n",
    "for x in result_df:\n",
    "    cell_counts2[x] = len(vdjs[x].graph[1])\n",
    "cell_counts2 = pd.DataFrame(cell_counts2, index = ['cell_counts']).T\n",
    "cell_counts2"
   ]
  },
  {
   "cell_type": "code",
   "execution_count": 34,
   "id": "e771bacd",
   "metadata": {},
   "outputs": [
    {
     "data": {
      "text/html": [
       "<div>\n",
       "<style scoped>\n",
       "    .dataframe tbody tr th:only-of-type {\n",
       "        vertical-align: middle;\n",
       "    }\n",
       "\n",
       "    .dataframe tbody tr th {\n",
       "        vertical-align: top;\n",
       "    }\n",
       "\n",
       "    .dataframe thead th {\n",
       "        text-align: right;\n",
       "    }\n",
       "</style>\n",
       "<table border=\"1\" class=\"dataframe\">\n",
       "  <thead>\n",
       "    <tr style=\"text-align: right;\">\n",
       "      <th></th>\n",
       "      <th>clone_network_cluster_size_gini</th>\n",
       "      <th>clone_network_vertex_size_gini</th>\n",
       "      <th>cell_counts</th>\n",
       "    </tr>\n",
       "  </thead>\n",
       "  <tbody>\n",
       "    <tr>\n",
       "      <th>C101_200121</th>\n",
       "      <td>0.701514</td>\n",
       "      <td>0.108485</td>\n",
       "      <td>317</td>\n",
       "    </tr>\n",
       "    <tr>\n",
       "      <th>C212_2705</th>\n",
       "      <td>0.250000</td>\n",
       "      <td>0.000000</td>\n",
       "      <td>63</td>\n",
       "    </tr>\n",
       "    <tr>\n",
       "      <th>C193_2605</th>\n",
       "      <td>0.606061</td>\n",
       "      <td>0.064935</td>\n",
       "      <td>146</td>\n",
       "    </tr>\n",
       "    <tr>\n",
       "      <th>C40_0105</th>\n",
       "      <td>0.000000</td>\n",
       "      <td>0.250000</td>\n",
       "      <td>273</td>\n",
       "    </tr>\n",
       "    <tr>\n",
       "      <th>C140_300420</th>\n",
       "      <td>0.177833</td>\n",
       "      <td>0.053472</td>\n",
       "      <td>989</td>\n",
       "    </tr>\n",
       "    <tr>\n",
       "      <th>...</th>\n",
       "      <td>...</td>\n",
       "      <td>...</td>\n",
       "      <td>...</td>\n",
       "    </tr>\n",
       "    <tr>\n",
       "      <th>C137_190121</th>\n",
       "      <td>0.206306</td>\n",
       "      <td>0.069444</td>\n",
       "      <td>675</td>\n",
       "    </tr>\n",
       "    <tr>\n",
       "      <th>C140_300121</th>\n",
       "      <td>0.152865</td>\n",
       "      <td>0.041828</td>\n",
       "      <td>1329</td>\n",
       "    </tr>\n",
       "    <tr>\n",
       "      <th>C106_2204</th>\n",
       "      <td>0.083333</td>\n",
       "      <td>0.000000</td>\n",
       "      <td>259</td>\n",
       "    </tr>\n",
       "    <tr>\n",
       "      <th>C128_1105</th>\n",
       "      <td>0.232143</td>\n",
       "      <td>0.122312</td>\n",
       "      <td>235</td>\n",
       "    </tr>\n",
       "    <tr>\n",
       "      <th>C127_1105</th>\n",
       "      <td>0.175000</td>\n",
       "      <td>0.025862</td>\n",
       "      <td>350</td>\n",
       "    </tr>\n",
       "  </tbody>\n",
       "</table>\n",
       "<p>187 rows × 3 columns</p>\n",
       "</div>"
      ],
      "text/plain": [
       "             clone_network_cluster_size_gini  clone_network_vertex_size_gini  \\\n",
       "C101_200121                         0.701514                        0.108485   \n",
       "C212_2705                           0.250000                        0.000000   \n",
       "C193_2605                           0.606061                        0.064935   \n",
       "C40_0105                            0.000000                        0.250000   \n",
       "C140_300420                         0.177833                        0.053472   \n",
       "...                                      ...                             ...   \n",
       "C137_190121                         0.206306                        0.069444   \n",
       "C140_300121                         0.152865                        0.041828   \n",
       "C106_2204                           0.083333                        0.000000   \n",
       "C128_1105                           0.232143                        0.122312   \n",
       "C127_1105                           0.175000                        0.025862   \n",
       "\n",
       "             cell_counts  \n",
       "C101_200121          317  \n",
       "C212_2705             63  \n",
       "C193_2605            146  \n",
       "C40_0105             273  \n",
       "C140_300420          989  \n",
       "...                  ...  \n",
       "C137_190121          675  \n",
       "C140_300121         1329  \n",
       "C106_2204            259  \n",
       "C128_1105            235  \n",
       "C127_1105            350  \n",
       "\n",
       "[187 rows x 3 columns]"
      ]
     },
     "execution_count": 34,
     "metadata": {},
     "output_type": "execute_result"
    }
   ],
   "source": [
    "results1['cell_counts'] = cell_counts\n",
    "results1"
   ]
  },
  {
   "cell_type": "code",
   "execution_count": 35,
   "id": "bdd1cd8c",
   "metadata": {},
   "outputs": [
    {
     "data": {
      "text/html": [
       "<div>\n",
       "<style scoped>\n",
       "    .dataframe tbody tr th:only-of-type {\n",
       "        vertical-align: middle;\n",
       "    }\n",
       "\n",
       "    .dataframe tbody tr th {\n",
       "        vertical-align: top;\n",
       "    }\n",
       "\n",
       "    .dataframe thead th {\n",
       "        text-align: right;\n",
       "    }\n",
       "</style>\n",
       "<table border=\"1\" class=\"dataframe\">\n",
       "  <thead>\n",
       "    <tr style=\"text-align: right;\">\n",
       "      <th></th>\n",
       "      <th>clone_network_cluster_size_gini</th>\n",
       "      <th>clone_network_vertex_size_gini</th>\n",
       "      <th>cell_counts</th>\n",
       "    </tr>\n",
       "  </thead>\n",
       "  <tbody>\n",
       "    <tr>\n",
       "      <th>C101_200121</th>\n",
       "      <td>0.291235</td>\n",
       "      <td>0.108485</td>\n",
       "      <td>317</td>\n",
       "    </tr>\n",
       "    <tr>\n",
       "      <th>C212_2705</th>\n",
       "      <td>0.250000</td>\n",
       "      <td>0.000000</td>\n",
       "      <td>63</td>\n",
       "    </tr>\n",
       "    <tr>\n",
       "      <th>C193_2605</th>\n",
       "      <td>0.476190</td>\n",
       "      <td>0.064935</td>\n",
       "      <td>146</td>\n",
       "    </tr>\n",
       "    <tr>\n",
       "      <th>C40_0105</th>\n",
       "      <td>0.000000</td>\n",
       "      <td>0.250000</td>\n",
       "      <td>273</td>\n",
       "    </tr>\n",
       "    <tr>\n",
       "      <th>C140_300420</th>\n",
       "      <td>0.061207</td>\n",
       "      <td>0.053472</td>\n",
       "      <td>989</td>\n",
       "    </tr>\n",
       "    <tr>\n",
       "      <th>...</th>\n",
       "      <td>...</td>\n",
       "      <td>...</td>\n",
       "      <td>...</td>\n",
       "    </tr>\n",
       "    <tr>\n",
       "      <th>C137_190121</th>\n",
       "      <td>0.063333</td>\n",
       "      <td>0.069444</td>\n",
       "      <td>675</td>\n",
       "    </tr>\n",
       "    <tr>\n",
       "      <th>C140_300121</th>\n",
       "      <td>0.046394</td>\n",
       "      <td>0.041828</td>\n",
       "      <td>1329</td>\n",
       "    </tr>\n",
       "    <tr>\n",
       "      <th>C106_2204</th>\n",
       "      <td>0.083333</td>\n",
       "      <td>0.000000</td>\n",
       "      <td>259</td>\n",
       "    </tr>\n",
       "    <tr>\n",
       "      <th>C128_1105</th>\n",
       "      <td>0.144009</td>\n",
       "      <td>0.122312</td>\n",
       "      <td>235</td>\n",
       "    </tr>\n",
       "    <tr>\n",
       "      <th>C127_1105</th>\n",
       "      <td>0.096552</td>\n",
       "      <td>0.025862</td>\n",
       "      <td>350</td>\n",
       "    </tr>\n",
       "  </tbody>\n",
       "</table>\n",
       "<p>187 rows × 3 columns</p>\n",
       "</div>"
      ],
      "text/plain": [
       "             clone_network_cluster_size_gini  clone_network_vertex_size_gini  \\\n",
       "C101_200121                         0.291235                        0.108485   \n",
       "C212_2705                           0.250000                        0.000000   \n",
       "C193_2605                           0.476190                        0.064935   \n",
       "C40_0105                            0.000000                        0.250000   \n",
       "C140_300420                         0.061207                        0.053472   \n",
       "...                                      ...                             ...   \n",
       "C137_190121                         0.063333                        0.069444   \n",
       "C140_300121                         0.046394                        0.041828   \n",
       "C106_2204                           0.083333                        0.000000   \n",
       "C128_1105                           0.144009                        0.122312   \n",
       "C127_1105                           0.096552                        0.025862   \n",
       "\n",
       "             cell_counts  \n",
       "C101_200121          317  \n",
       "C212_2705             63  \n",
       "C193_2605            146  \n",
       "C40_0105             273  \n",
       "C140_300420          989  \n",
       "...                  ...  \n",
       "C137_190121          675  \n",
       "C140_300121         1329  \n",
       "C106_2204            259  \n",
       "C128_1105            235  \n",
       "C127_1105            350  \n",
       "\n",
       "[187 rows x 3 columns]"
      ]
     },
     "execution_count": 35,
     "metadata": {},
     "output_type": "execute_result"
    }
   ],
   "source": [
    "results2['cell_counts'] = cell_counts\n",
    "results2"
   ]
  },
  {
   "cell_type": "code",
   "execution_count": 36,
   "id": "4266f2e3",
   "metadata": {},
   "outputs": [
    {
     "data": {
      "text/html": [
       "<div>\n",
       "<style scoped>\n",
       "    .dataframe tbody tr th:only-of-type {\n",
       "        vertical-align: middle;\n",
       "    }\n",
       "\n",
       "    .dataframe tbody tr th {\n",
       "        vertical-align: top;\n",
       "    }\n",
       "\n",
       "    .dataframe thead th {\n",
       "        text-align: right;\n",
       "    }\n",
       "</style>\n",
       "<table border=\"1\" class=\"dataframe\">\n",
       "  <thead>\n",
       "    <tr style=\"text-align: right;\">\n",
       "      <th></th>\n",
       "      <th>clone_size_gini</th>\n",
       "      <th>clone_centrality_gini</th>\n",
       "      <th>cell_counts</th>\n",
       "    </tr>\n",
       "  </thead>\n",
       "  <tbody>\n",
       "    <tr>\n",
       "      <th>C101_200121</th>\n",
       "      <td>0.126297</td>\n",
       "      <td>0.611111</td>\n",
       "      <td>317</td>\n",
       "    </tr>\n",
       "    <tr>\n",
       "      <th>C212_2705</th>\n",
       "      <td>0.060890</td>\n",
       "      <td>0.000000</td>\n",
       "      <td>63</td>\n",
       "    </tr>\n",
       "    <tr>\n",
       "      <th>C193_2605</th>\n",
       "      <td>0.040710</td>\n",
       "      <td>0.214286</td>\n",
       "      <td>146</td>\n",
       "    </tr>\n",
       "    <tr>\n",
       "      <th>C40_0105</th>\n",
       "      <td>0.010949</td>\n",
       "      <td>0.000000</td>\n",
       "      <td>273</td>\n",
       "    </tr>\n",
       "    <tr>\n",
       "      <th>C140_300420</th>\n",
       "      <td>0.061128</td>\n",
       "      <td>0.350000</td>\n",
       "      <td>989</td>\n",
       "    </tr>\n",
       "    <tr>\n",
       "      <th>...</th>\n",
       "      <td>...</td>\n",
       "      <td>...</td>\n",
       "      <td>...</td>\n",
       "    </tr>\n",
       "    <tr>\n",
       "      <th>C137_190121</th>\n",
       "      <td>0.045464</td>\n",
       "      <td>0.400000</td>\n",
       "      <td>675</td>\n",
       "    </tr>\n",
       "    <tr>\n",
       "      <th>C140_300121</th>\n",
       "      <td>0.092574</td>\n",
       "      <td>0.372587</td>\n",
       "      <td>1329</td>\n",
       "    </tr>\n",
       "    <tr>\n",
       "      <th>C106_2204</th>\n",
       "      <td>0.044440</td>\n",
       "      <td>0.000000</td>\n",
       "      <td>259</td>\n",
       "    </tr>\n",
       "    <tr>\n",
       "      <th>C128_1105</th>\n",
       "      <td>0.137144</td>\n",
       "      <td>0.408602</td>\n",
       "      <td>235</td>\n",
       "    </tr>\n",
       "    <tr>\n",
       "      <th>C127_1105</th>\n",
       "      <td>0.044031</td>\n",
       "      <td>0.396552</td>\n",
       "      <td>350</td>\n",
       "    </tr>\n",
       "  </tbody>\n",
       "</table>\n",
       "<p>187 rows × 3 columns</p>\n",
       "</div>"
      ],
      "text/plain": [
       "             clone_size_gini  clone_centrality_gini  cell_counts\n",
       "C101_200121         0.126297               0.611111          317\n",
       "C212_2705           0.060890               0.000000           63\n",
       "C193_2605           0.040710               0.214286          146\n",
       "C40_0105            0.010949               0.000000          273\n",
       "C140_300420         0.061128               0.350000          989\n",
       "...                      ...                    ...          ...\n",
       "C137_190121         0.045464               0.400000          675\n",
       "C140_300121         0.092574               0.372587         1329\n",
       "C106_2204           0.044440               0.000000          259\n",
       "C128_1105           0.137144               0.408602          235\n",
       "C127_1105           0.044031               0.396552          350\n",
       "\n",
       "[187 rows x 3 columns]"
      ]
     },
     "execution_count": 36,
     "metadata": {},
     "output_type": "execute_result"
    }
   ],
   "source": [
    "results3['cell_counts'] = cell_counts\n",
    "results3"
   ]
  },
  {
   "cell_type": "code",
   "execution_count": 37,
   "id": "66e7f57f",
   "metadata": {},
   "outputs": [
    {
     "data": {
      "text/html": [
       "<div>\n",
       "<style scoped>\n",
       "    .dataframe tbody tr th:only-of-type {\n",
       "        vertical-align: middle;\n",
       "    }\n",
       "\n",
       "    .dataframe tbody tr th {\n",
       "        vertical-align: top;\n",
       "    }\n",
       "\n",
       "    .dataframe thead th {\n",
       "        text-align: right;\n",
       "    }\n",
       "</style>\n",
       "<table border=\"1\" class=\"dataframe\">\n",
       "  <thead>\n",
       "    <tr style=\"text-align: right;\">\n",
       "      <th></th>\n",
       "      <th>clone_network_cluster_size_gini</th>\n",
       "      <th>clone_network_vertex_size_gini</th>\n",
       "      <th>cell_counts</th>\n",
       "      <th>cell_counts_expanded</th>\n",
       "    </tr>\n",
       "  </thead>\n",
       "  <tbody>\n",
       "    <tr>\n",
       "      <th>C101_200121</th>\n",
       "      <td>0.701514</td>\n",
       "      <td>0.108485</td>\n",
       "      <td>317</td>\n",
       "      <td>63</td>\n",
       "    </tr>\n",
       "    <tr>\n",
       "      <th>C212_2705</th>\n",
       "      <td>0.250000</td>\n",
       "      <td>0.000000</td>\n",
       "      <td>63</td>\n",
       "      <td>6</td>\n",
       "    </tr>\n",
       "    <tr>\n",
       "      <th>C193_2605</th>\n",
       "      <td>0.606061</td>\n",
       "      <td>0.064935</td>\n",
       "      <td>146</td>\n",
       "      <td>7</td>\n",
       "    </tr>\n",
       "    <tr>\n",
       "      <th>C40_0105</th>\n",
       "      <td>0.000000</td>\n",
       "      <td>0.250000</td>\n",
       "      <td>273</td>\n",
       "      <td>3</td>\n",
       "    </tr>\n",
       "    <tr>\n",
       "      <th>C140_300420</th>\n",
       "      <td>0.177833</td>\n",
       "      <td>0.053472</td>\n",
       "      <td>989</td>\n",
       "      <td>120</td>\n",
       "    </tr>\n",
       "    <tr>\n",
       "      <th>...</th>\n",
       "      <td>...</td>\n",
       "      <td>...</td>\n",
       "      <td>...</td>\n",
       "      <td>...</td>\n",
       "    </tr>\n",
       "    <tr>\n",
       "      <th>C137_190121</th>\n",
       "      <td>0.206306</td>\n",
       "      <td>0.069444</td>\n",
       "      <td>675</td>\n",
       "      <td>60</td>\n",
       "    </tr>\n",
       "    <tr>\n",
       "      <th>C140_300121</th>\n",
       "      <td>0.152865</td>\n",
       "      <td>0.041828</td>\n",
       "      <td>1329</td>\n",
       "      <td>259</td>\n",
       "    </tr>\n",
       "    <tr>\n",
       "      <th>C106_2204</th>\n",
       "      <td>0.083333</td>\n",
       "      <td>0.000000</td>\n",
       "      <td>259</td>\n",
       "      <td>22</td>\n",
       "    </tr>\n",
       "    <tr>\n",
       "      <th>C128_1105</th>\n",
       "      <td>0.232143</td>\n",
       "      <td>0.122312</td>\n",
       "      <td>235</td>\n",
       "      <td>62</td>\n",
       "    </tr>\n",
       "    <tr>\n",
       "      <th>C127_1105</th>\n",
       "      <td>0.175000</td>\n",
       "      <td>0.025862</td>\n",
       "      <td>350</td>\n",
       "      <td>29</td>\n",
       "    </tr>\n",
       "  </tbody>\n",
       "</table>\n",
       "<p>187 rows × 4 columns</p>\n",
       "</div>"
      ],
      "text/plain": [
       "             clone_network_cluster_size_gini  clone_network_vertex_size_gini  \\\n",
       "C101_200121                         0.701514                        0.108485   \n",
       "C212_2705                           0.250000                        0.000000   \n",
       "C193_2605                           0.606061                        0.064935   \n",
       "C40_0105                            0.000000                        0.250000   \n",
       "C140_300420                         0.177833                        0.053472   \n",
       "...                                      ...                             ...   \n",
       "C137_190121                         0.206306                        0.069444   \n",
       "C140_300121                         0.152865                        0.041828   \n",
       "C106_2204                           0.083333                        0.000000   \n",
       "C128_1105                           0.232143                        0.122312   \n",
       "C127_1105                           0.175000                        0.025862   \n",
       "\n",
       "             cell_counts  cell_counts_expanded  \n",
       "C101_200121          317                    63  \n",
       "C212_2705             63                     6  \n",
       "C193_2605            146                     7  \n",
       "C40_0105             273                     3  \n",
       "C140_300420          989                   120  \n",
       "...                  ...                   ...  \n",
       "C137_190121          675                    60  \n",
       "C140_300121         1329                   259  \n",
       "C106_2204            259                    22  \n",
       "C128_1105            235                    62  \n",
       "C127_1105            350                    29  \n",
       "\n",
       "[187 rows x 4 columns]"
      ]
     },
     "execution_count": 37,
     "metadata": {},
     "output_type": "execute_result"
    }
   ],
   "source": [
    "results1['cell_counts_expanded'] = cell_counts2\n",
    "results1"
   ]
  },
  {
   "cell_type": "code",
   "execution_count": 38,
   "id": "71a8170e",
   "metadata": {},
   "outputs": [
    {
     "data": {
      "text/html": [
       "<div>\n",
       "<style scoped>\n",
       "    .dataframe tbody tr th:only-of-type {\n",
       "        vertical-align: middle;\n",
       "    }\n",
       "\n",
       "    .dataframe tbody tr th {\n",
       "        vertical-align: top;\n",
       "    }\n",
       "\n",
       "    .dataframe thead th {\n",
       "        text-align: right;\n",
       "    }\n",
       "</style>\n",
       "<table border=\"1\" class=\"dataframe\">\n",
       "  <thead>\n",
       "    <tr style=\"text-align: right;\">\n",
       "      <th></th>\n",
       "      <th>clone_network_cluster_size_gini</th>\n",
       "      <th>clone_network_vertex_size_gini</th>\n",
       "      <th>cell_counts</th>\n",
       "      <th>cell_counts_expanded</th>\n",
       "    </tr>\n",
       "  </thead>\n",
       "  <tbody>\n",
       "    <tr>\n",
       "      <th>C101_200121</th>\n",
       "      <td>0.291235</td>\n",
       "      <td>0.108485</td>\n",
       "      <td>317</td>\n",
       "      <td>63</td>\n",
       "    </tr>\n",
       "    <tr>\n",
       "      <th>C212_2705</th>\n",
       "      <td>0.250000</td>\n",
       "      <td>0.000000</td>\n",
       "      <td>63</td>\n",
       "      <td>6</td>\n",
       "    </tr>\n",
       "    <tr>\n",
       "      <th>C193_2605</th>\n",
       "      <td>0.476190</td>\n",
       "      <td>0.064935</td>\n",
       "      <td>146</td>\n",
       "      <td>7</td>\n",
       "    </tr>\n",
       "    <tr>\n",
       "      <th>C40_0105</th>\n",
       "      <td>0.000000</td>\n",
       "      <td>0.250000</td>\n",
       "      <td>273</td>\n",
       "      <td>3</td>\n",
       "    </tr>\n",
       "    <tr>\n",
       "      <th>C140_300420</th>\n",
       "      <td>0.061207</td>\n",
       "      <td>0.053472</td>\n",
       "      <td>989</td>\n",
       "      <td>120</td>\n",
       "    </tr>\n",
       "    <tr>\n",
       "      <th>...</th>\n",
       "      <td>...</td>\n",
       "      <td>...</td>\n",
       "      <td>...</td>\n",
       "      <td>...</td>\n",
       "    </tr>\n",
       "    <tr>\n",
       "      <th>C137_190121</th>\n",
       "      <td>0.063333</td>\n",
       "      <td>0.069444</td>\n",
       "      <td>675</td>\n",
       "      <td>60</td>\n",
       "    </tr>\n",
       "    <tr>\n",
       "      <th>C140_300121</th>\n",
       "      <td>0.046394</td>\n",
       "      <td>0.041828</td>\n",
       "      <td>1329</td>\n",
       "      <td>259</td>\n",
       "    </tr>\n",
       "    <tr>\n",
       "      <th>C106_2204</th>\n",
       "      <td>0.083333</td>\n",
       "      <td>0.000000</td>\n",
       "      <td>259</td>\n",
       "      <td>22</td>\n",
       "    </tr>\n",
       "    <tr>\n",
       "      <th>C128_1105</th>\n",
       "      <td>0.144009</td>\n",
       "      <td>0.122312</td>\n",
       "      <td>235</td>\n",
       "      <td>62</td>\n",
       "    </tr>\n",
       "    <tr>\n",
       "      <th>C127_1105</th>\n",
       "      <td>0.096552</td>\n",
       "      <td>0.025862</td>\n",
       "      <td>350</td>\n",
       "      <td>29</td>\n",
       "    </tr>\n",
       "  </tbody>\n",
       "</table>\n",
       "<p>187 rows × 4 columns</p>\n",
       "</div>"
      ],
      "text/plain": [
       "             clone_network_cluster_size_gini  clone_network_vertex_size_gini  \\\n",
       "C101_200121                         0.291235                        0.108485   \n",
       "C212_2705                           0.250000                        0.000000   \n",
       "C193_2605                           0.476190                        0.064935   \n",
       "C40_0105                            0.000000                        0.250000   \n",
       "C140_300420                         0.061207                        0.053472   \n",
       "...                                      ...                             ...   \n",
       "C137_190121                         0.063333                        0.069444   \n",
       "C140_300121                         0.046394                        0.041828   \n",
       "C106_2204                           0.083333                        0.000000   \n",
       "C128_1105                           0.144009                        0.122312   \n",
       "C127_1105                           0.096552                        0.025862   \n",
       "\n",
       "             cell_counts  cell_counts_expanded  \n",
       "C101_200121          317                    63  \n",
       "C212_2705             63                     6  \n",
       "C193_2605            146                     7  \n",
       "C40_0105             273                     3  \n",
       "C140_300420          989                   120  \n",
       "...                  ...                   ...  \n",
       "C137_190121          675                    60  \n",
       "C140_300121         1329                   259  \n",
       "C106_2204            259                    22  \n",
       "C128_1105            235                    62  \n",
       "C127_1105            350                    29  \n",
       "\n",
       "[187 rows x 4 columns]"
      ]
     },
     "execution_count": 38,
     "metadata": {},
     "output_type": "execute_result"
    }
   ],
   "source": [
    "results2['cell_counts_expanded'] = cell_counts2\n",
    "results2"
   ]
  },
  {
   "cell_type": "code",
   "execution_count": 39,
   "id": "59547878",
   "metadata": {},
   "outputs": [
    {
     "data": {
      "text/html": [
       "<div>\n",
       "<style scoped>\n",
       "    .dataframe tbody tr th:only-of-type {\n",
       "        vertical-align: middle;\n",
       "    }\n",
       "\n",
       "    .dataframe tbody tr th {\n",
       "        vertical-align: top;\n",
       "    }\n",
       "\n",
       "    .dataframe thead th {\n",
       "        text-align: right;\n",
       "    }\n",
       "</style>\n",
       "<table border=\"1\" class=\"dataframe\">\n",
       "  <thead>\n",
       "    <tr style=\"text-align: right;\">\n",
       "      <th></th>\n",
       "      <th>clone_size_gini</th>\n",
       "      <th>clone_centrality_gini</th>\n",
       "      <th>cell_counts</th>\n",
       "      <th>cell_counts_expanded</th>\n",
       "    </tr>\n",
       "  </thead>\n",
       "  <tbody>\n",
       "    <tr>\n",
       "      <th>C101_200121</th>\n",
       "      <td>0.126297</td>\n",
       "      <td>0.611111</td>\n",
       "      <td>317</td>\n",
       "      <td>63</td>\n",
       "    </tr>\n",
       "    <tr>\n",
       "      <th>C212_2705</th>\n",
       "      <td>0.060890</td>\n",
       "      <td>0.000000</td>\n",
       "      <td>63</td>\n",
       "      <td>6</td>\n",
       "    </tr>\n",
       "    <tr>\n",
       "      <th>C193_2605</th>\n",
       "      <td>0.040710</td>\n",
       "      <td>0.214286</td>\n",
       "      <td>146</td>\n",
       "      <td>7</td>\n",
       "    </tr>\n",
       "    <tr>\n",
       "      <th>C40_0105</th>\n",
       "      <td>0.010949</td>\n",
       "      <td>0.000000</td>\n",
       "      <td>273</td>\n",
       "      <td>3</td>\n",
       "    </tr>\n",
       "    <tr>\n",
       "      <th>C140_300420</th>\n",
       "      <td>0.061128</td>\n",
       "      <td>0.350000</td>\n",
       "      <td>989</td>\n",
       "      <td>120</td>\n",
       "    </tr>\n",
       "    <tr>\n",
       "      <th>...</th>\n",
       "      <td>...</td>\n",
       "      <td>...</td>\n",
       "      <td>...</td>\n",
       "      <td>...</td>\n",
       "    </tr>\n",
       "    <tr>\n",
       "      <th>C137_190121</th>\n",
       "      <td>0.045464</td>\n",
       "      <td>0.400000</td>\n",
       "      <td>675</td>\n",
       "      <td>60</td>\n",
       "    </tr>\n",
       "    <tr>\n",
       "      <th>C140_300121</th>\n",
       "      <td>0.092574</td>\n",
       "      <td>0.372587</td>\n",
       "      <td>1329</td>\n",
       "      <td>259</td>\n",
       "    </tr>\n",
       "    <tr>\n",
       "      <th>C106_2204</th>\n",
       "      <td>0.044440</td>\n",
       "      <td>0.000000</td>\n",
       "      <td>259</td>\n",
       "      <td>22</td>\n",
       "    </tr>\n",
       "    <tr>\n",
       "      <th>C128_1105</th>\n",
       "      <td>0.137144</td>\n",
       "      <td>0.408602</td>\n",
       "      <td>235</td>\n",
       "      <td>62</td>\n",
       "    </tr>\n",
       "    <tr>\n",
       "      <th>C127_1105</th>\n",
       "      <td>0.044031</td>\n",
       "      <td>0.396552</td>\n",
       "      <td>350</td>\n",
       "      <td>29</td>\n",
       "    </tr>\n",
       "  </tbody>\n",
       "</table>\n",
       "<p>187 rows × 4 columns</p>\n",
       "</div>"
      ],
      "text/plain": [
       "             clone_size_gini  clone_centrality_gini  cell_counts  \\\n",
       "C101_200121         0.126297               0.611111          317   \n",
       "C212_2705           0.060890               0.000000           63   \n",
       "C193_2605           0.040710               0.214286          146   \n",
       "C40_0105            0.010949               0.000000          273   \n",
       "C140_300420         0.061128               0.350000          989   \n",
       "...                      ...                    ...          ...   \n",
       "C137_190121         0.045464               0.400000          675   \n",
       "C140_300121         0.092574               0.372587         1329   \n",
       "C106_2204           0.044440               0.000000          259   \n",
       "C128_1105           0.137144               0.408602          235   \n",
       "C127_1105           0.044031               0.396552          350   \n",
       "\n",
       "             cell_counts_expanded  \n",
       "C101_200121                    63  \n",
       "C212_2705                       6  \n",
       "C193_2605                       7  \n",
       "C40_0105                        3  \n",
       "C140_300420                   120  \n",
       "...                           ...  \n",
       "C137_190121                    60  \n",
       "C140_300121                   259  \n",
       "C106_2204                      22  \n",
       "C128_1105                      62  \n",
       "C127_1105                      29  \n",
       "\n",
       "[187 rows x 4 columns]"
      ]
     },
     "execution_count": 39,
     "metadata": {},
     "output_type": "execute_result"
    }
   ],
   "source": [
    "results3['cell_counts_expanded'] = cell_counts2\n",
    "results3"
   ]
  },
  {
   "cell_type": "code",
   "execution_count": 40,
   "id": "78fd8996",
   "metadata": {},
   "outputs": [],
   "source": [
    "results1.to_csv('h5ddl/network_gini.csv')"
   ]
  },
  {
   "cell_type": "code",
   "execution_count": 41,
   "id": "f85fc18c",
   "metadata": {},
   "outputs": [],
   "source": [
    "results2.to_csv('h5ddl/network_gini_not_contracted.csv')"
   ]
  },
  {
   "cell_type": "code",
   "execution_count": 42,
   "id": "8c8e5a4f",
   "metadata": {},
   "outputs": [],
   "source": [
    "results3.to_csv('h5ddl/network_gini_centrality.csv')"
   ]
  },
  {
   "cell_type": "code",
   "execution_count": null,
   "id": "681946b5",
   "metadata": {},
   "outputs": [],
   "source": []
  }
 ],
 "metadata": {
  "kernelspec": {
   "display_name": "Python 3",
   "language": "python",
   "name": "python3"
  },
  "language_info": {
   "codemirror_mode": {
    "name": "ipython",
    "version": 3
   },
   "file_extension": ".py",
   "mimetype": "text/x-python",
   "name": "python",
   "nbconvert_exporter": "python",
   "pygments_lexer": "ipython3",
   "version": "3.8.12"
  }
 },
 "nbformat": 4,
 "nbformat_minor": 5
}
