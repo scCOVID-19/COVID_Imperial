{
 "cells": [
  {
   "cell_type": "code",
   "execution_count": 1,
   "id": "c919b46d",
   "metadata": {},
   "outputs": [],
   "source": [
    "setwd('/lustre/scratch117/cellgen/team297/kt16/COVID_imperial_renal/')\n",
    "source('scripts/glmm_functions.R')"
   ]
  },
  {
   "cell_type": "code",
   "execution_count": 2,
   "id": "66c0d0b6",
   "metadata": {},
   "outputs": [],
   "source": [
    "# Basic parameters to use.\n",
    "min_cells = 10\n",
    "ncpus = 10"
   ]
  },
  {
   "cell_type": "markdown",
   "id": "88b41ddd",
   "metadata": {},
   "source": [
    "### All memory"
   ]
  },
  {
   "cell_type": "code",
   "execution_count": 3,
   "id": "e2baf84c",
   "metadata": {},
   "outputs": [],
   "source": [
    "sce <- readRDS('h5ad/df.fil3_gex_bcells_vdj_sce_B_ASC_all.RDS')\n",
    "counts(sce) <- assays(sce)[['X']] # because i'm saving from a h5ad object with anndata2ri\n",
    "sce$case_control <- factor(sce$case_control, levels = c('NEGATIVE', 'POSITIVE', 'RECOVERY'))\n",
    "sce$WHO_temp_severity <- factor(sce$WHO_temp_severity, levels = c('NA', 'mild', 'moderate', 'severe', 'critical'))\n",
    "sce$WHO_temp_severity_group <- factor(sce$WHO_temp_severity, levels = c('NA', 'mild', 'moderate', 'severe', 'critical'), labels = c('NA', 'mild_moderate', 'mild_moderate', 'severe_critical', 'severe_critical'))\n",
    "sce$WHO_severity_group <- factor(sce$WHO_severity, levels = c('NA', 'mild', 'moderate', 'severe', 'critical'), labels = c('NA', 'mild_moderate', 'mild_moderate', 'severe_critical', 'severe_critical')) # interpreted as peak severity\n",
    "sce$grouped_temp_severity <- ifelse(sce$WHO_temp_severity %in% c(\"mild\", \"moderate\"), \"mild_moderate\", \"severe_critical\")\n",
    "sce$grouped_severity <- ifelse(sce$WHO_severity %in% c(\"mild\", \"moderate\"), \"mild_moderate\", \"severe_critical\")\n",
    "sce$age_scaled <- scale(sce$calc_age) # scale age"
   ]
  },
  {
   "cell_type": "code",
   "execution_count": 4,
   "id": "ddac4e65",
   "metadata": {},
   "outputs": [
    {
     "data": {
      "text/plain": [
       "                 \n",
       "                  C20 C21 C23 C33 C34 C36 C40 C42 C58 C60 C63 C65 C93 C101 C123\n",
       "  mild_moderate     3   1   3   0   1   2   2   2   2   2   1   1   2    1    1\n",
       "  severe_critical   0   2   0   2   0   0   1   0   0   0   0   2   0    1    2\n",
       "                 \n",
       "                  C124 C126 C127 C128 C132 C137 C138 C141 C147 C170 C187 C190\n",
       "  mild_moderate      3    3    3    3    3    2    1    1    0    1    1    3\n",
       "  severe_critical    0    0    0    0    0    0    0    1    3    0    0    0"
      ]
     },
     "metadata": {},
     "output_type": "display_data"
    },
    {
     "data": {
      "text/plain": [
       "                 \n",
       "                  Cambridge NCL\n",
       "  mild_moderate          12  36\n",
       "  severe_critical         7   7"
      ]
     },
     "metadata": {},
     "output_type": "display_data"
    },
    {
     "data": {
      "text/plain": [
       "                 \n",
       "                   F  M\n",
       "  mild_moderate   15 33\n",
       "  severe_critical  0 14"
      ]
     },
     "metadata": {},
     "output_type": "display_data"
    },
    {
     "data": {
      "text/plain": [
       "                 \n",
       "                  asian black other white\n",
       "  mild_moderate      26     4     4    14\n",
       "  severe_critical     8     2     0     4"
      ]
     },
     "metadata": {},
     "output_type": "display_data"
    },
    {
     "name": "stdout",
     "output_type": "stream",
     "text": [
      "\n",
      "n = 62 samples, 27 individuals\n",
      "Time difference of 3.792599 mins\n",
      "\n",
      "q_grouped_temp_severity\n",
      "-----------------------\n",
      "Not Significant     Significant \n",
      "           3805            4651 \n",
      "\n",
      "q_sex\n",
      "-----\n",
      "Not Significant     Significant \n",
      "           6939            1517 \n",
      "\n",
      "q_ethnicity\n",
      "-----------\n",
      "Not Significant     Significant \n",
      "           7377            1079 \n",
      "\n",
      "q_age_scaled\n",
      "------------\n",
      "Not Significant     Significant \n",
      "           7584             872 \n",
      "\n",
      "q_centre\n",
      "--------\n",
      "Not Significant     Significant \n",
      "             44            8412 \n"
     ]
    }
   ],
   "source": [
    "# Remove samples with less than 10 cells\n",
    "nCells <- table(sce$sample_id)\n",
    "rmSamples <- names(nCells[nCells < min_cells])\n",
    "sce1 <- sce[, !sce$sample_id %in% rmSamples]\n",
    "# Summarize Counts\n",
    "smrzd <- aggregateAcrossCells(sce1, id = as.character(colData(sce1)[, c(\"sample_id\")]))\n",
    "y <- DGEList(counts = counts(smrzd), samples = colData(smrzd))\n",
    "\n",
    "y1 <- setupDGElist(y, \"WHO_temp_severity_group\", remove = \"NA\") # use grouped_temp_severity later\n",
    "# sanity check\n",
    "table(y1$samples$grouped_temp_severity, y1$samples$individual_id)\n",
    "table(y1$samples$grouped_temp_severity, y1$samples$centre)\n",
    "table(y1$samples$grouped_temp_severity, y1$samples$sex)\n",
    "table(y1$samples$grouped_temp_severity, y1$samples$ethnicity)\n",
    "\n",
    "res1 <- testDGElist(y1,\n",
    "            formula = as.formula(\"~ grouped_temp_severity + sex + ethnicity + age_scaled + centre + (1|individual_id)\"),\n",
    "            individual_id = \"individual_id\",\n",
    "            ncores = ncpus)\n",
    "# print(colnames(res1@stats))\n",
    "results1 <- degTable(res1, contrast = 'grouped_temp_severity', group = 'severe_critical')"
   ]
  },
  {
   "cell_type": "markdown",
   "id": "45ca27f0",
   "metadata": {},
   "source": [
    "### Comparison 2: deg from the interaction between WHO (peak) severity groups and time from infection (time from first symptoms)"
   ]
  },
  {
   "cell_type": "code",
   "execution_count": 5,
   "id": "115be8d7",
   "metadata": {},
   "outputs": [
    {
     "data": {
      "text/plain": [
       "                 \n",
       "                  C20 C21 C23 C33 C34 C36 C40 C42 C58 C60 C63 C65 C93 C101 C123\n",
       "  mild_moderate     0   0   3   0   1   2   0   2   2   0   1   0   2    0    0\n",
       "  severe_critical   3   3   0   2   0   0   3   0   0   2   0   3   0    2    3\n",
       "                 \n",
       "                  C124 C126 C127 C128 C132 C137 C138 C141 C147 C170 C187 C190\n",
       "  mild_moderate      3    3    3    3    3    2    1    0    0    1    1    3\n",
       "  severe_critical    0    0    0    0    0    0    0    2    3    0    0    0"
      ]
     },
     "metadata": {},
     "output_type": "display_data"
    },
    {
     "data": {
      "text/plain": [
       "                 \n",
       "                  Cambridge NCL\n",
       "  mild_moderate          10  26\n",
       "  severe_critical         9  17"
      ]
     },
     "metadata": {},
     "output_type": "display_data"
    },
    {
     "data": {
      "text/plain": [
       "                 \n",
       "                   F  M\n",
       "  mild_moderate   15 21\n",
       "  severe_critical  0 26"
      ]
     },
     "metadata": {},
     "output_type": "display_data"
    },
    {
     "data": {
      "text/plain": [
       "                 \n",
       "                  asian black other white\n",
       "  mild_moderate      21     1     4    10\n",
       "  severe_critical    13     5     0     8"
      ]
     },
     "metadata": {},
     "output_type": "display_data"
    },
    {
     "name": "stdout",
     "output_type": "stream",
     "text": [
      "\n",
      "n = 62 samples, 27 individuals\n",
      "Time difference of 5.233879 mins\n",
      "\n",
      "q_splines::bs(time_from_infection, degree = 2)\n",
      "----------------------------------------------\n",
      "Not Significant     Significant \n",
      "           6115            1577 \n",
      "\n",
      "q_grouped_severity\n",
      "------------------\n",
      "Not Significant     Significant \n",
      "           6735             957 \n",
      "\n",
      "q_sex\n",
      "-----\n",
      "Not Significant     Significant \n",
      "           6747             945 \n",
      "\n",
      "q_ethnicity\n",
      "-----------\n",
      "Not Significant     Significant \n",
      "           6774             918 \n",
      "\n",
      "q_age_scaled\n",
      "------------\n",
      "Not Significant     Significant \n",
      "           6885             807 \n",
      "\n",
      "q_centre\n",
      "--------\n",
      "Not Significant     Significant \n",
      "             25            7667 \n",
      "\n",
      "q_splines::bs(time_from_infection, degree = 2):grouped_severity\n",
      "---------------------------------------------------------------\n",
      "Not Significant     Significant \n",
      "           1075            6617 \n"
     ]
    }
   ],
   "source": [
    "# remove samples >21 days\n",
    "sce2 <- sce[,sce$time_from_infection <= 21] # prevent issues with spline\n",
    "nCells <- table(sce2$sample_id)\n",
    "rmSamples <- names(nCells[nCells < min_cells])\n",
    "sce2 <- sce2[, !sce2$sample_id %in% rmSamples]\n",
    "# Summarize Counts\n",
    "smrzd <- aggregateAcrossCells(sce2, id = as.character(colData(sce2)[, c(\"sample_id\")]))\n",
    "y <- DGEList(counts = counts(smrzd), samples = colData(smrzd))\n",
    "y2 <- setupDGElist(y, \"WHO_severity_group\", remove = \"NA\") # use grouped_severity later\n",
    "# sanity check\n",
    "table(y2$samples$grouped_severity, y2$samples$individual_id)\n",
    "table(y2$samples$grouped_severity, y2$samples$centre)\n",
    "table(y2$samples$grouped_severity, y2$samples$sex)\n",
    "table(y2$samples$grouped_severity, y2$samples$ethnicity)\n",
    "\n",
    "res2 <- testDGElist(y2,\n",
    "            formula = as.formula(\"~ splines::bs(time_from_infection, degree = 2) * grouped_severity + sex + ethnicity + age_scaled + centre + (1|individual_id)\"),\n",
    "            individual_id = \"individual_id\",\n",
    "            modified = TRUE,\n",
    "            ncores = ncpus)\n",
    "# print(colnames(res2$stats))\n",
    "results2 <- degTable(res2, contrast = 'splines::bs(time_from_infection, degree = 2):grouped_severity', 'severe_critical', modified = TRUE)"
   ]
  },
  {
   "cell_type": "markdown",
   "id": "cdef8215",
   "metadata": {},
   "source": [
    "### Comparison 3: just wave 1, deg from positive vs negative"
   ]
  },
  {
   "cell_type": "code",
   "execution_count": 6,
   "id": "dca449b9",
   "metadata": {
    "scrolled": true
   },
   "outputs": [
    {
     "data": {
      "text/plain": [
       "          \n",
       "           C20 C21 C23 C34 C36 C40 C42 C60 C63 C65 C69 C85 C93 C103 C104 C106\n",
       "  NEGATIVE   0   0   0   0   0   0   0   0   0   0   1   1   0    1    1    1\n",
       "  POSITIVE   3   3   3   1   2   3   2   2   1   3   0   0   2    0    0    0\n",
       "          \n",
       "           C123 C124 C126 C127 C128 C132 C142 C152 C161 C164 C167 C193 C195\n",
       "  NEGATIVE    0    0    0    0    0    0    1    1    1    1    1    1    1\n",
       "  POSITIVE    3    3    3    3    3    3    0    0    0    0    0    0    0\n",
       "          \n",
       "           C197 C214 C238\n",
       "  NEGATIVE    1    1    1\n",
       "  POSITIVE    0    0    0"
      ]
     },
     "metadata": {},
     "output_type": "display_data"
    },
    {
     "data": {
      "text/plain": [
       "          \n",
       "            F  M\n",
       "  NEGATIVE  5 10\n",
       "  POSITIVE 10 33"
      ]
     },
     "metadata": {},
     "output_type": "display_data"
    },
    {
     "data": {
      "text/plain": [
       "          \n",
       "           asian black other white\n",
       "  NEGATIVE     5     2     4     4\n",
       "  POSITIVE    23     4     3    13"
      ]
     },
     "metadata": {},
     "output_type": "display_data"
    },
    {
     "name": "stdout",
     "output_type": "stream",
     "text": [
      "\n",
      "n = 58 samples, 32 individuals\n",
      "Time difference of 3.150984 mins\n",
      "\n",
      "q_case_control\n",
      "--------------\n",
      "Not Significant     Significant \n",
      "           1549            7008 \n",
      "\n",
      "q_sex\n",
      "-----\n",
      "Not Significant     Significant \n",
      "           8434             123 \n",
      "\n",
      "q_ethnicity\n",
      "-----------\n",
      "Not Significant     Significant \n",
      "           8407             150 \n",
      "\n",
      "q_age_scaled\n",
      "------------\n",
      "Not Significant     Significant \n",
      "           8425             132 \n"
     ]
    }
   ],
   "source": [
    "sce3 <- sce[, sce$centre == 'NCL']\n",
    "# Remove samples with less than MIN\n",
    "nCells <- table(sce3$sample_id)\n",
    "rmSamples <- names(nCells[nCells < min_cells])\n",
    "sce3 <- sce3[,!sce3$sample_id %in% rmSamples]\n",
    "# Summarize Counts\n",
    "smrzd <- aggregateAcrossCells(sce3, id=as.character(colData(sce3)[,c(\"sample_id\")]))\n",
    "y <- DGEList(counts=counts(smrzd), samples=colData(smrzd))\n",
    "y3 <- setupDGElist(y, 'case_control')\n",
    "# sanity check\n",
    "table(y3$samples$case_control, y3$samples$individual_id)\n",
    "table(y3$samples$case_control, y3$samples$sex)\n",
    "table(y3$samples$case_control, y3$samples$ethnicity)\n",
    "\n",
    "res3 <- testDGElist(y3, \n",
    "            formula = as.formula(\"~ case_control + sex + ethnicity + age_scaled + (1|individual_id)\"), \n",
    "            individual_id = 'individual_id',\n",
    "            ncores = ncpus\n",
    "           )\n",
    "# print(colnames(res3@stats))\n",
    "results3 <- degTable(res3, contrast = 'case_control', group = 'POSITIVE')"
   ]
  },
  {
   "cell_type": "markdown",
   "id": "57fbd3ef",
   "metadata": {},
   "source": [
    "### Comparison 4: just patients that were negative in wave 1 but positive in wave 2, deg from recovery vs negative"
   ]
  },
  {
   "cell_type": "code",
   "execution_count": 7,
   "id": "ff00d5d5",
   "metadata": {},
   "outputs": [
    {
     "name": "stderr",
     "output_type": "stream",
     "text": [
      "Warning message in min(lib.size):\n",
      "“no non-missing arguments to min; returning Inf”\n",
      "Warning message in min(norm.factors):\n",
      "“no non-missing arguments to min; returning Inf”\n",
      "Warning message in min(n[n > 0L]):\n",
      "“no non-missing arguments to min; returning Inf”\n"
     ]
    },
    {
     "data": {
      "text/plain": [
       "< table of extent 0 x 0 >"
      ]
     },
     "metadata": {},
     "output_type": "display_data"
    },
    {
     "data": {
      "text/plain": [
       "< table of extent 0 x 0 >"
      ]
     },
     "metadata": {},
     "output_type": "display_data"
    },
    {
     "data": {
      "text/plain": [
       "< table of extent 0 x 0 >"
      ]
     },
     "metadata": {},
     "output_type": "display_data"
    },
    {
     "ename": "ERROR",
     "evalue": "Error in estimateDisp.default(y = y$counts, design = design, group = group, : object 'prior.n' not found\n",
     "output_type": "error",
     "traceback": [
      "Error in estimateDisp.default(y = y$counts, design = design, group = group, : object 'prior.n' not found\nTraceback:\n",
      "1. testDGElist(y4, formula = as.formula(\"~ case_control + sex + ethnicity + age_scaled + (1|individual_id)\"), \n .     individual_id = \"individual_id\", ncores = ncpus)",
      "2. suppressMessages(setNames(edgeR::estimateDisp(dgelist)$tagwise.dispersion, \n .     rownames(dgelist)))",
      "3. withCallingHandlers(expr, message = function(c) if (inherits(c, \n .     classes)) tryInvokeRestart(\"muffleMessage\"))",
      "4. setNames(edgeR::estimateDisp(dgelist)$tagwise.dispersion, rownames(dgelist))",
      "5. edgeR::estimateDisp(dgelist)",
      "6. estimateDisp.DGEList(dgelist)",
      "7. estimateDisp(y = y$counts, design = design, group = group, lib.size = lib.size, \n .     offset = getOffset(y), prior.df = prior.df, trend.method = trend.method, \n .     tagwise = tagwise, span = span, min.row.sum = min.row.sum, \n .     grid.length = grid.length, grid.range = grid.range, robust = robust, \n .     winsor.tail.p = winsor.tail.p, tol = tol, weights = y$weights, \n .     ...)",
      "8. estimateDisp.default(y = y$counts, design = design, group = group, \n .     lib.size = lib.size, offset = getOffset(y), prior.df = prior.df, \n .     trend.method = trend.method, tagwise = tagwise, span = span, \n .     min.row.sum = min.row.sum, grid.length = grid.length, grid.range = grid.range, \n .     robust = robust, winsor.tail.p = winsor.tail.p, tol = tol, \n .     weights = y$weights, ...)"
     ]
    }
   ],
   "source": [
    "sce4 <- sce[, sce$individual_id %in% c('C101', 'C108', 'C137', 'C138', 'C140', \n",
    "                                       'C141', 'C145', 'C146', 'C147', 'C168',\n",
    "                                        'C169', 'C170', 'C187', 'C190', 'C33')]\n",
    "# Remove samples with less than MIN\n",
    "nCells <- table(sce4$sample_id)\n",
    "rmSamples <- names(nCells[nCells < min_cells])\n",
    "sce4 <- sce4[,!sce4$sample_id %in% rmSamples]\n",
    "# remove non-complete data (all have positive), 1 = negative, 3 = recovery\n",
    "df <- table(sce4$individual_id, sce4$case_control)\n",
    "keep_ids <- row.names(df)[which(df[,1] != 0 & df[,3] != 0)]\n",
    "sce4 <- sce4[, sce4$individual_id %in% keep_ids]\n",
    "# Summarize Counts\n",
    "smrzd <- aggregateAcrossCells(sce4, id=as.character(colData(sce4)[,c(\"sample_id\")]))\n",
    "y <- DGEList(counts=counts(smrzd), samples=colData(smrzd))\n",
    "y4 <- setupDGElist(y, 'case_control', remove = 'POSITIVE')\n",
    "# sanity check\n",
    "table(y4$samples$case_control, y4$samples$individual_id)\n",
    "table(y4$samples$case_control, y4$samples$sex)\n",
    "table(y4$samples$case_control, y4$samples$ethnicity)\n",
    "\n",
    "res4 <- testDGElist(y4, \n",
    "            formula = as.formula(\"~ case_control + sex + ethnicity + age_scaled + (1|individual_id)\"), \n",
    "            individual_id = 'individual_id',\n",
    "            ncores = ncpus\n",
    "           )\n",
    "# print(colnames(res4@stats))\n",
    "results4 <- degTable(res4, contrast = 'case_control', group = 'RECOVERY')"
   ]
  },
  {
   "cell_type": "code",
   "execution_count": 11,
   "id": "589c44aa",
   "metadata": {},
   "outputs": [
    {
     "data": {
      "text/plain": [
       "class: SingleCellExperiment \n",
       "dim: 32913 1075 \n",
       "metadata(10): WHO_temp_severity_colors case_control_colors ...\n",
       "  initial_cluster_B_colors seurat_clusters_colors\n",
       "assays(2): X counts\n",
       "rownames(32913): MIR1302-2HG FAM138A ... AC213203.1 FAM231C\n",
       "rowData names(6): vst.mean vst.variance ... vst.variable GEX\n",
       "colnames(1075): UK-CIC10690315+UK-CIC10690507_AACCGCGCACTCTGTC-1\n",
       "  UK-CIC10690315+UK-CIC10690507_CAAGATCGTGGTTTCA-1 ...\n",
       "  UK-CIC10690384+UK-CIC10690576_TTTCCTCTCATGTCCC-1\n",
       "  UK-CIC10690384+UK-CIC10690576_TTTGGTTGTTGTCTTT-1\n",
       "colData names(72): orig.ident nCount_RNA ... grouped_severity\n",
       "  age_scaled\n",
       "reducedDimNames(5): X_harmony_rna X_pca_rna UMAP X_umapafterharmony_rna\n",
       "  X_umapbeforeharmony_rna\n",
       "altExpNames(0):"
      ]
     },
     "metadata": {},
     "output_type": "display_data"
    }
   ],
   "source": [
    "sce4 <- sce[, sce$individual_id %in% c('C101', 'C108', 'C137', 'C138', 'C140', \n",
    "                                       'C141', 'C145', 'C146', 'C147', 'C168',\n",
    "                                        'C169', 'C170', 'C187', 'C190', 'C33')]\n",
    "sce4"
   ]
  },
  {
   "cell_type": "markdown",
   "id": "1aee3887",
   "metadata": {},
   "source": [
    "### Comparison 5: just patients that were negative in wave 1 but positive in wave 2, deg from positive vs negative"
   ]
  },
  {
   "cell_type": "code",
   "execution_count": 8,
   "id": "da6be5e8",
   "metadata": {},
   "outputs": [
    {
     "name": "stderr",
     "output_type": "stream",
     "text": [
      "Warning message in min(lib.size):\n",
      "“no non-missing arguments to min; returning Inf”\n",
      "Warning message in min(norm.factors):\n",
      "“no non-missing arguments to min; returning Inf”\n",
      "Warning message in min(n[n > 0L]):\n",
      "“no non-missing arguments to min; returning Inf”\n"
     ]
    },
    {
     "data": {
      "text/plain": [
       "< table of extent 0 x 0 >"
      ]
     },
     "metadata": {},
     "output_type": "display_data"
    },
    {
     "data": {
      "text/plain": [
       "< table of extent 0 x 0 >"
      ]
     },
     "metadata": {},
     "output_type": "display_data"
    },
    {
     "data": {
      "text/plain": [
       "< table of extent 0 x 0 >"
      ]
     },
     "metadata": {},
     "output_type": "display_data"
    },
    {
     "ename": "ERROR",
     "evalue": "Error in estimateDisp.default(y = y$counts, design = design, group = group, : object 'prior.n' not found\n",
     "output_type": "error",
     "traceback": [
      "Error in estimateDisp.default(y = y$counts, design = design, group = group, : object 'prior.n' not found\nTraceback:\n",
      "1. testDGElist(y5, formula = as.formula(\"~ case_control + sex + ethnicity + age_scaled + (1|individual_id)\"), \n .     individual_id = \"individual_id\", ncores = ncpus)",
      "2. suppressMessages(setNames(edgeR::estimateDisp(dgelist)$tagwise.dispersion, \n .     rownames(dgelist)))",
      "3. withCallingHandlers(expr, message = function(c) if (inherits(c, \n .     classes)) tryInvokeRestart(\"muffleMessage\"))",
      "4. setNames(edgeR::estimateDisp(dgelist)$tagwise.dispersion, rownames(dgelist))",
      "5. edgeR::estimateDisp(dgelist)",
      "6. estimateDisp.DGEList(dgelist)",
      "7. estimateDisp(y = y$counts, design = design, group = group, lib.size = lib.size, \n .     offset = getOffset(y), prior.df = prior.df, trend.method = trend.method, \n .     tagwise = tagwise, span = span, min.row.sum = min.row.sum, \n .     grid.length = grid.length, grid.range = grid.range, robust = robust, \n .     winsor.tail.p = winsor.tail.p, tol = tol, weights = y$weights, \n .     ...)",
      "8. estimateDisp.default(y = y$counts, design = design, group = group, \n .     lib.size = lib.size, offset = getOffset(y), prior.df = prior.df, \n .     trend.method = trend.method, tagwise = tagwise, span = span, \n .     min.row.sum = min.row.sum, grid.length = grid.length, grid.range = grid.range, \n .     robust = robust, winsor.tail.p = winsor.tail.p, tol = tol, \n .     weights = y$weights, ...)"
     ]
    }
   ],
   "source": [
    "sce5 <- sce[, sce$individual_id %in% c('C101', 'C108', 'C137', 'C138', 'C140', \n",
    "                                       'C141', 'C145', 'C146', 'C147', 'C168',\n",
    "                                        'C169', 'C170', 'C187', 'C190', 'C33')]\n",
    "# Remove samples with less than MIN\n",
    "nCells <- table(sce5$sample_id)\n",
    "rmSamples <- names(nCells[nCells < min_cells])\n",
    "sce5 <- sce5[,!sce5$sample_id %in% rmSamples]\n",
    "# remove non-complete data (all have positive), 1 = negative, 2 = positive\n",
    "df <- table(sce5$individual_id, sce5$case_control)\n",
    "keep_ids <- row.names(df)[which(df[,1] != 0 & df[,2] != 0)]\n",
    "sce5 <- sce5[, sce5$individual_id %in% keep_ids]\n",
    "# Summarize Counts\n",
    "smrzd <- aggregateAcrossCells(sce5, id=as.character(colData(sce5)[,c(\"sample_id\")]))\n",
    "y <- DGEList(counts=counts(smrzd), samples=colData(smrzd))\n",
    "y5 <- setupDGElist(y, 'case_control', remove = 'RECOVERY')\n",
    "# sanity check\n",
    "table(y5$samples$case_control, y5$samples$individual_id)\n",
    "table(y5$samples$case_control, y5$samples$sex)\n",
    "table(y5$samples$case_control, y5$samples$ethnicity)\n",
    "\n",
    "res5 <- testDGElist(y5, \n",
    "            formula = as.formula(\"~ case_control + sex + ethnicity + age_scaled + (1|individual_id)\"), \n",
    "            individual_id = 'individual_id',\n",
    "            ncores = ncpus\n",
    "           )\n",
    "# print(colnames(res5@stats))\n",
    "results5 <- degTable(res5, contrast = 'case_control', group = 'POSITIVE')"
   ]
  },
  {
   "cell_type": "code",
   "execution_count": 12,
   "id": "9bdc5058",
   "metadata": {},
   "outputs": [],
   "source": [
    "save(res1, res2, res3, results1, results2, results3, file = 'h5ad/df.fil3_gex_bcells_vdj_sce_ASC_all_deg.RData')"
   ]
  },
  {
   "cell_type": "code",
   "execution_count": null,
   "id": "55c6216e",
   "metadata": {},
   "outputs": [],
   "source": []
  }
 ],
 "metadata": {
  "kernelspec": {
   "display_name": "R",
   "language": "R",
   "name": "ir"
  },
  "language_info": {
   "codemirror_mode": "r",
   "file_extension": ".r",
   "mimetype": "text/x-r-source",
   "name": "R",
   "pygments_lexer": "r",
   "version": "4.0.3"
  }
 },
 "nbformat": 4,
 "nbformat_minor": 5
}
