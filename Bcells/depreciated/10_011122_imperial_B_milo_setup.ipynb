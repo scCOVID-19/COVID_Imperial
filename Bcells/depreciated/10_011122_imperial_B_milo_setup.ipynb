{
 "cells": [
  {
   "cell_type": "code",
   "execution_count": 1,
   "metadata": {
    "jupyter": {
     "outputs_hidden": false
    }
   },
   "outputs": [
    {
     "name": "stdout",
     "output_type": "stream",
     "text": [
      "scanpy==1.8.1 anndata==0.7.6 umap==0.5.1 numpy==1.20.2 scipy==1.6.2 pandas==1.2.4 scikit-learn==0.24.2 statsmodels==0.12.2 python-igraph==0.9.1 pynndescent==0.5.2\n"
     ]
    }
   ],
   "source": [
    "import os\n",
    "import tools\n",
    "import numpy as np\n",
    "import pandas as pd\n",
    "import scanpy as sc\n",
    "\n",
    "sc.logging.print_header()"
   ]
  },
  {
   "cell_type": "code",
   "execution_count": 2,
   "metadata": {},
   "outputs": [],
   "source": [
    "os.chdir('/lustre/scratch117/cellgen/team297/kt16/COVID_imperial_renal')"
   ]
  },
  {
   "cell_type": "code",
   "execution_count": 3,
   "metadata": {},
   "outputs": [
    {
     "data": {
      "text/plain": [
       "AnnData object with n_obs × n_vars = 75683 × 385\n",
       "    obs: 'orig.ident', 'nCount_RNA', 'nFeature_RNA', 'nCount_ADT', 'nFeature_ADT', 'nCount_ADT_raw', 'nFeature_ADT_raw', 'nCount_RNA_raw', 'nFeature_RNA_raw', 'soupxOnAdt', 'soupxOnRna', 'percentMito', 'exclude', 'centre', 'pool', 'tcrId', 'bcrId', 'celltypist_broad_predLabel', 'celltypist_broad_maxPredProb', 'haniffa_broad_predLabel', 'haniffa_broad_maxPredProb', 'yoshida_broad_predLabel', 'yoshida_broad_maxPredProb', 'celltypist_detailed_predLabel', 'celltypist_detailed_maxPredProb', 'yoshida_detailed_predLabel', 'yoshida_detailed_maxPredProb', 'seurat_clusters', 'RNA_sequencing_saturation', 'pool_factor', 'RNA_readsConfidentlyOnTranscriptome', 'RNA_readsConfidentlyOnGenome', 'RNA_readsOnGenome', 'RNA_Q30readsBarcode', 'RNA_Q30readsRead', 'RNA_Q30readsUmi', 'rna_snn_res.4', 'rna_snn_res.0.5', 'rna_snn_res.0.1', 'harmony_snn_res.4', 'yoshida_broad_predLabel_majorVote', 'harmony_snn_res.0.5', 'harmony_snn_res.0.1', 'cell_type_compartment', 'pool_number', 'merged_souporcell_cluster', 'merged_souporcell_status', 'patient_id', 'sample_id', 'multi_chain_bcr', 'IR_VJ_1_locus_bcr', 'IR_VJ_2_locus_bcr', 'IR_VDJ_1_locus_bcr', 'IR_VDJ_2_locus_bcr', 'IR_VJ_1_cdr3_bcr', 'IR_VJ_2_cdr3_bcr', 'IR_VDJ_1_cdr3_bcr', 'IR_VDJ_2_cdr3_bcr', 'IR_VJ_1_cdr3_nt_bcr', 'IR_VJ_2_cdr3_nt_bcr', 'IR_VDJ_1_cdr3_nt_bcr', 'IR_VDJ_2_cdr3_nt_bcr', 'IR_VJ_1_expr_bcr', 'IR_VJ_2_expr_bcr', 'IR_VDJ_1_expr_bcr', 'IR_VDJ_2_expr_bcr', 'IR_VJ_1_expr_raw_bcr', 'IR_VJ_2_expr_raw_bcr', 'IR_VDJ_1_expr_raw_bcr', 'IR_VDJ_2_expr_raw_bcr', 'IR_VJ_1_v_gene_bcr', 'IR_VJ_2_v_gene_bcr', 'IR_VDJ_1_v_gene_bcr', 'IR_VDJ_2_v_gene_bcr', 'IR_VJ_1_d_gene_bcr', 'IR_VJ_2_d_gene_bcr', 'IR_VDJ_1_d_gene_bcr', 'IR_VDJ_2_d_gene_bcr', 'IR_VJ_1_j_gene_bcr', 'IR_VJ_2_j_gene_bcr', 'IR_VDJ_1_j_gene_bcr', 'IR_VDJ_2_j_gene_bcr', 'IR_VJ_1_c_gene_bcr', 'IR_VJ_2_c_gene_bcr', 'IR_VDJ_1_c_gene_bcr', 'IR_VDJ_2_c_gene_bcr', 'IR_VJ_1_junction_ins_bcr', 'IR_VJ_2_junction_ins_bcr', 'IR_VDJ_1_junction_ins_bcr', 'IR_VDJ_2_junction_ins_bcr', 'has_ir_bcr', 'multi_chain_tcr', 'IR_VJ_1_locus_tcr', 'IR_VJ_2_locus_tcr', 'IR_VDJ_1_locus_tcr', 'IR_VDJ_2_locus_tcr', 'IR_VJ_1_cdr3_tcr', 'IR_VJ_2_cdr3_tcr', 'IR_VDJ_1_cdr3_tcr', 'IR_VDJ_2_cdr3_tcr', 'IR_VJ_1_cdr3_nt_tcr', 'IR_VJ_2_cdr3_nt_tcr', 'IR_VDJ_1_cdr3_nt_tcr', 'IR_VDJ_2_cdr3_nt_tcr', 'IR_VJ_1_expr_tcr', 'IR_VJ_2_expr_tcr', 'IR_VDJ_1_expr_tcr', 'IR_VDJ_2_expr_tcr', 'IR_VJ_1_expr_raw_tcr', 'IR_VJ_2_expr_raw_tcr', 'IR_VDJ_1_expr_raw_tcr', 'IR_VDJ_2_expr_raw_tcr', 'IR_VJ_1_v_gene_tcr', 'IR_VJ_2_v_gene_tcr', 'IR_VDJ_1_v_gene_tcr', 'IR_VDJ_2_v_gene_tcr', 'IR_VJ_1_d_gene_tcr', 'IR_VJ_2_d_gene_tcr', 'IR_VDJ_1_d_gene_tcr', 'IR_VDJ_2_d_gene_tcr', 'IR_VJ_1_j_gene_tcr', 'IR_VJ_2_j_gene_tcr', 'IR_VDJ_1_j_gene_tcr', 'IR_VDJ_2_j_gene_tcr', 'IR_VJ_1_c_gene_tcr', 'IR_VJ_2_c_gene_tcr', 'IR_VDJ_1_c_gene_tcr', 'IR_VDJ_2_c_gene_tcr', 'IR_VJ_1_junction_ins_tcr', 'IR_VJ_2_junction_ins_tcr', 'IR_VDJ_1_junction_ins_tcr', 'IR_VDJ_2_junction_ins_tcr', 'has_ir_tcr', 'ethnicity', 'sex', 'calc_age', 'ihd', 'previous_vte', 'copd', 'diabetes', 'smoking', 'cause_eskd', 'renal_status', 'WHO_severity', 'admission_date', 'discharge_date', 'fatal_disease', 'case_control', 'date_positive_swab', 'date_first_symptoms', 'radiology_evidence_covid', 'sample_date', 'temp_WCC', 'temp_neut', 'temp_mono', 'temp_lymph', 'temp_CRP', 'temp_ddimer', 'temp_ferritin', 'temp_trop', 'WHO_temp_severity', 'individual_id', 'initial_cluster_B', 'n_genes_by_counts', 'total_counts', 'total_counts_mt', 'pct_counts_mt', 'leiden_B', 'Naive B cells_score', 'Non-switched memory B cells_score', 'Exhausted B cells_score', 'Switched memory B cells_score', 'Plasmablasts_score', 'gmm_pct_b_scores', 'filter_rna', 'has_contig', 'filter_contig_quality', 'filter_contig_VDJ', 'filter_contig_VJ', 'contig_QC_pass', 'filter_contig', 'clone_id', 'clone_id_by_size', 'locus_VDJ', 'locus_VJ', 'productive_VDJ', 'productive_VJ', 'v_call_genotyped_VDJ', 'v_call_genotyped_VJ', 'd_call_VDJ', 'j_call_VDJ', 'j_call_VJ', 'c_call_VDJ', 'c_call_VJ', 'duplicate_count_VDJ', 'duplicate_count_VJ', 'duplicate_count_VDJ_1', 'duplicate_count_VJ_1', 'duplicate_count_VDJ_2', 'duplicate_count_VDJ_3', 'duplicate_count_VDJ_4', 'junction_aa_VDJ', 'junction_aa_VJ', 'status', 'status_summary', 'productive', 'productive_summary', 'isotype', 'isotype_summary', 'vdj_status', 'vdj_status_summary', 'constant_status_summary', 'celltype_B', 'celltype_B_corrected'\n",
       "    var: 'vst.mean', 'vst.variance', 'vst.variance.expected', 'vst.variance.standardized', 'vst.variable', 'mt', 'n_cells_by_counts', 'mean_counts', 'pct_dropout_by_counts', 'total_counts', 'highly_variable', 'means', 'dispersions', 'dispersions_norm', 'mean', 'std'\n",
       "    uns: 'WHO_temp_severity_colors', 'case_control_colors', 'celltype_B_colors', 'celltype_B_corrected_colors', 'centre_colors', 'contig_QC_pass_colors', 'dendrogram_leiden_B', 'gmm_pct_b_scores_colors', 'haniffa_broad_predLabel_colors', 'harmony_snn_res.0.5_colors', 'hvg', 'individual_id_colors', 'initial_cluster_B_colors', 'leiden', 'leiden_B_colors', 'merged_souporcell_status_colors', 'neighbors', 'pca', 'rank_genes_groups', 'seurat_clusters_colors', 'umap', 'yoshida_broad_predLabel_colors', 'yoshida_detailed_predLabel_colors'\n",
       "    obsm: 'X_harmony_rna', 'X_pca', 'X_pca_rna', 'X_umap', 'X_umapafterharmony_rna', 'X_umapbeforeharmony_rna'\n",
       "    varm: 'PCs'\n",
       "    layers: 'counts'\n",
       "    obsp: 'connectivities', 'distances'"
      ]
     },
     "execution_count": 3,
     "metadata": {},
     "output_type": "execute_result"
    }
   ],
   "source": [
    "bdata = sc.read_h5ad('h5ad/df.fil3_gex_bcells_vdj.h5ad')\n",
    "bdata"
   ]
  },
  {
   "cell_type": "code",
   "execution_count": 4,
   "metadata": {},
   "outputs": [
    {
     "data": {
      "text/plain": [
       "66689"
      ]
     },
     "execution_count": 4,
     "metadata": {},
     "output_type": "execute_result"
    }
   ],
   "source": [
    "# trimm the columns\n",
    "bdata.obs = bdata.obs[['orig.ident', 'nCount_RNA', 'nFeature_RNA', 'nCount_ADT', 'nFeature_ADT', 'nCount_ADT_raw', 'nFeature_ADT_raw', 'nCount_RNA_raw', 'nFeature_RNA_raw', 'soupxOnAdt', 'soupxOnRna', 'percentMito', 'exclude', 'centre', 'pool', 'tcrId', 'bcrId', 'celltypist_broad_predLabel', 'celltypist_broad_maxPredProb', 'haniffa_broad_predLabel', 'haniffa_broad_maxPredProb', 'yoshida_broad_predLabel', 'yoshida_broad_maxPredProb', 'celltypist_detailed_predLabel', 'celltypist_detailed_maxPredProb', 'yoshida_detailed_predLabel', 'yoshida_detailed_maxPredProb', 'seurat_clusters', 'RNA_sequencing_saturation', 'pool_factor', 'merged_souporcell_status', 'patient_id', 'sample_id', 'ethnicity', 'sex', 'calc_age', 'ihd', 'previous_vte', 'copd', 'diabetes', 'smoking', 'cause_eskd', 'renal_status', 'WHO_severity', 'admission_date', 'discharge_date', 'fatal_disease', 'case_control', 'date_positive_swab', 'date_first_symptoms', 'radiology_evidence_covid', 'sample_date', 'temp_WCC', 'temp_neut', 'temp_mono', 'temp_lymph', 'temp_CRP', 'temp_ddimer', 'temp_ferritin', 'temp_trop', 'WHO_temp_severity', 'individual_id', 'celltype_B_corrected']]\n",
    "# remove doublets\n",
    "bdata = bdata[bdata.obs['merged_souporcell_status'] == 'singlet'].copy()\n",
    "# remove the unannotated samples\n",
    "bdata = bdata[(bdata.obs['sample_id'] != 'NA') & (~bdata.obs['patient_id'].isin(['NULL', 'unresolved'])) & (bdata.obs['case_control'] != 'NA')].copy()\n",
    "bdata.n_obs"
   ]
  },
  {
   "cell_type": "code",
   "execution_count": 5,
   "metadata": {},
   "outputs": [
    {
     "name": "stderr",
     "output_type": "stream",
     "text": [
      "/nfs/users/nfs_k/kt16/miniconda2/envs/dandelion/lib/python3.8/site-packages/pandas/core/series.py:4463: SettingWithCopyWarning: modifications to a property of a datetimelike object are not supported and are discarded. Change values on the original.\n",
      "  return super().fillna(\n"
     ]
    }
   ],
   "source": [
    "# calculate days to sampling, days to admission, days to first symptoms, days to discharge from positive swab\n",
    "tmp = bdata.copy()\n",
    "tmp.obs['sample_date'] = tmp.obs['sample_date'].astype('object')\n",
    "tmp.obs['admission_date'] = tmp.obs['admission_date'].astype('object')\n",
    "tmp.obs['date_positive_swab'] = tmp.obs['date_positive_swab'].astype('object')\n",
    "tmp.obs['discharge_date'] = tmp.obs['discharge_date'].astype('object')\n",
    "tmp.obs['date_first_symptoms'] = tmp.obs['date_first_symptoms'].astype('object')\n",
    "tmp.obs['date_first_symptoms'].replace({'NA':np.nan}, inplace = True)\n",
    "tmp.obs['admission_date'].replace({'NA':np.nan}, inplace = True)\n",
    "tmp.obs['date_positive_swab'].replace({'NA':np.nan}, inplace = True)\n",
    "tmp.obs['discharge_date'].replace({'NA':np.nan}, inplace = True)\n",
    "days_to_sampling = pd.to_datetime(tmp.obs['sample_date'], format='%d/%m/%Y') - pd.to_datetime(tmp.obs['date_positive_swab'], format='%d/%m/%Y')\n",
    "days_to_admission = pd.to_datetime(tmp.obs['admission_date'], format='%d/%m/%Y') - pd.to_datetime(tmp.obs['date_positive_swab'], format='%d/%m/%Y')\n",
    "days_to_firstsymptoms = pd.to_datetime(tmp.obs['date_first_symptoms'], format='%d/%m/%Y') - pd.to_datetime(tmp.obs['date_positive_swab'], format='%d/%m/%Y')\n",
    "days_to_discharge = pd.to_datetime(tmp.obs['discharge_date'], format='%d/%m/%Y') - pd.to_datetime(tmp.obs['date_positive_swab'], format='%d/%m/%Y')\n",
    "days_to_sampling = days_to_sampling.dt.days\n",
    "days_to_admission = days_to_admission.dt.days\n",
    "days_to_firstsymptoms = days_to_firstsymptoms.dt.days\n",
    "days_to_discharge = days_to_discharge.dt.days\n",
    "days_to_sampling.fillna(0, inplace = True)\n",
    "days_to_admission.fillna(0, inplace = True)\n",
    "days_to_firstsymptoms.fillna(0, inplace = True)\n",
    "days_to_discharge.fillna(0, inplace = True)\n",
    "bdata.obs['days_to_sampling'] = days_to_sampling\n",
    "bdata.obs['days_to_admission'] = days_to_admission\n",
    "bdata.obs['days_to_firstsymptoms'] = days_to_firstsymptoms\n",
    "bdata.obs['days_to_discharge'] = days_to_discharge"
   ]
  },
  {
   "cell_type": "code",
   "execution_count": 6,
   "metadata": {},
   "outputs": [],
   "source": [
    "bdata.write('h5ad/df.fil3_gex_bcells_vdj_trimmed.h5ad', compression = 'gzip')"
   ]
  },
  {
   "cell_type": "markdown",
   "metadata": {},
   "source": [
    "### Setup for milo"
   ]
  },
  {
   "cell_type": "markdown",
   "metadata": {},
   "source": [
    "anndata2ri converter doesn't seem to like converting anndata objects storing the KNN graph in the adata.obsp slot, probably because there is no dedicated slot in the SingleCellExperiment object. Because of this, we will first make a copy of our anndata without KNN graph for conversion."
   ]
  },
  {
   "cell_type": "code",
   "execution_count": 7,
   "metadata": {
    "scrolled": true
   },
   "outputs": [],
   "source": [
    "# store the neighborhood graph separately\n",
    "adata_no_knnx = bdata.copy()\n",
    "adata_no_knnx.obsp = None\n",
    "adata_no_knnx.uns.pop(\"neighbors\")\n",
    "\n",
    "## Save the binary connectivity matrix\n",
    "knn_adjacencyx = bdata.obsp[\"connectivities\"]"
   ]
  },
  {
   "cell_type": "markdown",
   "metadata": {},
   "source": [
    "use the anndata2ri package to allow conversion between anndata and SingleCellExperiment objects"
   ]
  },
  {
   "cell_type": "code",
   "execution_count": 8,
   "metadata": {},
   "outputs": [],
   "source": [
    "import anndata2ri\n",
    "import rpy2.rinterface_lib.callbacks\n",
    "import logging"
   ]
  },
  {
   "cell_type": "code",
   "execution_count": 9,
   "metadata": {},
   "outputs": [],
   "source": [
    "rpy2.rinterface_lib.callbacks.logger.setLevel(logging.ERROR)"
   ]
  },
  {
   "cell_type": "code",
   "execution_count": 10,
   "metadata": {},
   "outputs": [],
   "source": [
    "anndata2ri.activate()"
   ]
  },
  {
   "cell_type": "code",
   "execution_count": 11,
   "metadata": {},
   "outputs": [],
   "source": [
    "%load_ext rpy2.ipython"
   ]
  },
  {
   "cell_type": "code",
   "execution_count": 12,
   "metadata": {},
   "outputs": [],
   "source": [
    "%%R\n",
    "## Count cells in neighbourhoods\n",
    "countCells_ <- function(x, samples, meta.data=NULL){\n",
    "\n",
    "    # cast dplyr objects to data.frame\n",
    "    if(!is.data.frame(meta.data) & !is.null(meta.data)){\n",
    "        meta.data <- as.data.frame(meta.data)\n",
    "    }\n",
    "\n",
    "    if(length(samples) > 1 & !is.null(meta.data)){\n",
    "        stop(\"Multiple sample columns provided, please specify a unique column name\")\n",
    "    } else if(is.null(meta.data) & length(samples) != ncol(x)){\n",
    "        stop(paste0(\"Length of vector does not match dimensions of object. Length:\",\n",
    "                    length(samples), \" Dimensions: \", ncol(x)))\n",
    "    }\n",
    "\n",
    "    # check the nhoods slot is populated\n",
    "    if(ncol(nhoods(x)) == 1 & nrow(nhoods(x)) == 1){\n",
    "        stop(\"No neighbourhoods found. Please run makeNhoods() first.\")\n",
    "    }\n",
    "\n",
    "    message(\"Checking meta.data validity\")\n",
    "    if(!is.null(meta.data)){\n",
    "        samp.ids <- unique(as.character(meta.data[, samples]))\n",
    "    } else {\n",
    "        samp.ids <- unique(as.character(samples))\n",
    "    }\n",
    "\n",
    "    num.hoods <- ncol(nhoods(x))\n",
    "\n",
    "    ## Convert meta data to binary dummies in sparse matrix\n",
    "    dummy.meta.data <- Matrix(data=0, nrow=nrow(meta.data), ncol = length(samp.ids), sparse = TRUE)\n",
    "    colnames(dummy.meta.data) <- samp.ids\n",
    "    rownames(dummy.meta.data) <- rownames(meta.data)\n",
    "    for (s in seq_along(samp.ids)){\n",
    "        i.s <- samp.ids[s]\n",
    "        s.ixs <- which(meta.data[samples]==i.s)\n",
    "        dummy.meta.data[s.ixs, as.character(i.s)] <- 1\n",
    "    }\n",
    "\n",
    "    message(\"Counting cells in neighbourhoods\")\n",
    "    count.matrix <- Matrix::t(nhoods(x)) %*% dummy.meta.data\n",
    "\n",
    "    # add to the object\n",
    "    rownames(count.matrix) <- c(1:num.hoods)\n",
    "    nhoodCounts(x) <- count.matrix\n",
    "\n",
    "    return(x)\n",
    "}"
   ]
  },
  {
   "cell_type": "code",
   "execution_count": 13,
   "metadata": {},
   "outputs": [],
   "source": [
    "%%R -i adata_no_knnx -i knn_adjacencyx\n",
    "save(countCells_, adata_no_knnx, knn_adjacencyx, file = 'h5ad/df.fil3_gex_bcells_vdj_trimmed_milo_prep.RData')"
   ]
  },
  {
   "cell_type": "code",
   "execution_count": null,
   "metadata": {},
   "outputs": [],
   "source": []
  }
 ],
 "metadata": {
  "kernelspec": {
   "display_name": "Python 3",
   "language": "python",
   "name": "python3"
  },
  "language_info": {
   "codemirror_mode": {
    "name": "ipython",
    "version": 3
   },
   "file_extension": ".py",
   "mimetype": "text/x-python",
   "name": "python",
   "nbconvert_exporter": "python",
   "pygments_lexer": "ipython3",
   "version": "3.8.10"
  }
 },
 "nbformat": 4,
 "nbformat_minor": 4
}
