{
 "cells": [
  {
   "cell_type": "code",
   "execution_count": 1,
   "id": "c919b46d",
   "metadata": {},
   "outputs": [
    {
     "name": "stderr",
     "output_type": "stream",
     "text": [
      "Registered S3 methods overwritten by 'lme4':\n",
      "  method                          from\n",
      "  cooks.distance.influence.merMod car \n",
      "  influence.merMod                car \n",
      "  dfbeta.influence.merMod         car \n",
      "  dfbetas.influence.merMod        car \n",
      "\n"
     ]
    }
   ],
   "source": [
    "library(glmmSeq)\n",
    "setwd('/lustre/scratch117/cellgen/team297/kt16/COVID_imperial_renal/')"
   ]
  },
  {
   "cell_type": "code",
   "execution_count": 2,
   "id": "e2baf84c",
   "metadata": {},
   "outputs": [
    {
     "data": {
      "text/html": [
       "<style>\n",
       ".list-inline {list-style: none; margin:0; padding: 0}\n",
       ".list-inline>li {display: inline-block}\n",
       ".list-inline>li:not(:last-child)::after {content: \"\\00b7\"; padding: 0 .5ex}\n",
       "</style>\n",
       "<ol class=list-inline><li>'res1'</li><li>'results1'</li></ol>\n"
      ],
      "text/latex": [
       "\\begin{enumerate*}\n",
       "\\item 'res1'\n",
       "\\item 'results1'\n",
       "\\end{enumerate*}\n"
      ],
      "text/markdown": [
       "1. 'res1'\n",
       "2. 'results1'\n",
       "\n",
       "\n"
      ],
      "text/plain": [
       "[1] \"res1\"     \"results1\""
      ]
     },
     "metadata": {},
     "output_type": "display_data"
    }
   ],
   "source": [
    "load('h5ad/df.fil3_gex_bcells_vdj_sce_B_ASC_all_deg_270622.RData')\n",
    "ls()"
   ]
  },
  {
   "cell_type": "code",
   "execution_count": 3,
   "id": "1541a80a",
   "metadata": {
    "scrolled": true
   },
   "outputs": [
    {
     "name": "stderr",
     "output_type": "stream",
     "text": [
      "\n",
      "Attaching package: ‘dplyr’\n",
      "\n",
      "\n",
      "The following objects are masked from ‘package:stats’:\n",
      "\n",
      "    filter, lag\n",
      "\n",
      "\n",
      "The following objects are masked from ‘package:base’:\n",
      "\n",
      "    intersect, setdiff, setequal, union\n",
      "\n",
      "\n"
     ]
    }
   ],
   "source": [
    "library(dplyr)\n",
    "makeGeneList <- function(gl, beta_column='beta'){\n",
    "    y <- grepl('^RPS|^RPL|^MT-', row.names(gl))\n",
    "    gl <- gl[!y, ]\n",
    "    rank <- -log10(gl$pval) * sign(gl[,beta_column])\n",
    "    rank[which(rank == Inf)] <- 300\n",
    "    rank[which(rank == -Inf)] <- 300\n",
    "    names(rank) <- row.names(gl)\n",
    "    rank <- rev(sort(rank))\n",
    "    gl <- rank\n",
    "    return(gl)\n",
    "}"
   ]
  },
  {
   "cell_type": "code",
   "execution_count": 4,
   "id": "fb289ea0",
   "metadata": {},
   "outputs": [
    {
     "data": {
      "text/html": [
       "<table class=\"dataframe\">\n",
       "<caption>A data.frame: 6 × 5</caption>\n",
       "<thead>\n",
       "\t<tr><th></th><th scope=col>beta</th><th scope=col>pval</th><th scope=col>qval</th><th scope=col>Singular</th><th scope=col>Conv</th></tr>\n",
       "\t<tr><th></th><th scope=col>&lt;dbl&gt;</th><th scope=col>&lt;dbl&gt;</th><th scope=col>&lt;dbl&gt;</th><th scope=col>&lt;dbl&gt;</th><th scope=col>&lt;dbl&gt;</th></tr>\n",
       "</thead>\n",
       "<tbody>\n",
       "\t<tr><th scope=row>UBE2C</th><td>1.3599104</td><td>0.01114958</td><td>0.2580127</td><td>0</td><td>0</td></tr>\n",
       "\t<tr><th scope=row>RUNX1</th><td>1.2004406</td><td>0.02537407</td><td>0.3393090</td><td>0</td><td>0</td></tr>\n",
       "\t<tr><th scope=row>PTP4A3</th><td>1.1080332</td><td>0.01658830</td><td>0.2961064</td><td>0</td><td>0</td></tr>\n",
       "\t<tr><th scope=row>MGST2</th><td>0.9943895</td><td>0.00974617</td><td>0.2460908</td><td>0</td><td>0</td></tr>\n",
       "\t<tr><th scope=row>IFIT1</th><td>0.9105578</td><td>0.07787539</td><td>0.4668555</td><td>0</td><td>0</td></tr>\n",
       "\t<tr><th scope=row>PCLAF</th><td>0.8726297</td><td>0.01289210</td><td>0.2739095</td><td>0</td><td>0</td></tr>\n",
       "</tbody>\n",
       "</table>\n"
      ],
      "text/latex": [
       "A data.frame: 6 × 5\n",
       "\\begin{tabular}{r|lllll}\n",
       "  & beta & pval & qval & Singular & Conv\\\\\n",
       "  & <dbl> & <dbl> & <dbl> & <dbl> & <dbl>\\\\\n",
       "\\hline\n",
       "\tUBE2C & 1.3599104 & 0.01114958 & 0.2580127 & 0 & 0\\\\\n",
       "\tRUNX1 & 1.2004406 & 0.02537407 & 0.3393090 & 0 & 0\\\\\n",
       "\tPTP4A3 & 1.1080332 & 0.01658830 & 0.2961064 & 0 & 0\\\\\n",
       "\tMGST2 & 0.9943895 & 0.00974617 & 0.2460908 & 0 & 0\\\\\n",
       "\tIFIT1 & 0.9105578 & 0.07787539 & 0.4668555 & 0 & 0\\\\\n",
       "\tPCLAF & 0.8726297 & 0.01289210 & 0.2739095 & 0 & 0\\\\\n",
       "\\end{tabular}\n"
      ],
      "text/markdown": [
       "\n",
       "A data.frame: 6 × 5\n",
       "\n",
       "| <!--/--> | beta &lt;dbl&gt; | pval &lt;dbl&gt; | qval &lt;dbl&gt; | Singular &lt;dbl&gt; | Conv &lt;dbl&gt; |\n",
       "|---|---|---|---|---|---|\n",
       "| UBE2C | 1.3599104 | 0.01114958 | 0.2580127 | 0 | 0 |\n",
       "| RUNX1 | 1.2004406 | 0.02537407 | 0.3393090 | 0 | 0 |\n",
       "| PTP4A3 | 1.1080332 | 0.01658830 | 0.2961064 | 0 | 0 |\n",
       "| MGST2 | 0.9943895 | 0.00974617 | 0.2460908 | 0 | 0 |\n",
       "| IFIT1 | 0.9105578 | 0.07787539 | 0.4668555 | 0 | 0 |\n",
       "| PCLAF | 0.8726297 | 0.01289210 | 0.2739095 | 0 | 0 |\n",
       "\n"
      ],
      "text/plain": [
       "       beta      pval       qval      Singular Conv\n",
       "UBE2C  1.3599104 0.01114958 0.2580127 0        0   \n",
       "RUNX1  1.2004406 0.02537407 0.3393090 0        0   \n",
       "PTP4A3 1.1080332 0.01658830 0.2961064 0        0   \n",
       "MGST2  0.9943895 0.00974617 0.2460908 0        0   \n",
       "IFIT1  0.9105578 0.07787539 0.4668555 0        0   \n",
       "PCLAF  0.8726297 0.01289210 0.2739095 0        0   "
      ]
     },
     "metadata": {},
     "output_type": "display_data"
    },
    {
     "data": {
      "text/html": [
       "<style>\n",
       ".list-inline {list-style: none; margin:0; padding: 0}\n",
       ".list-inline>li {display: inline-block}\n",
       ".list-inline>li:not(:last-child)::after {content: \"\\00b7\"; padding: 0 .5ex}\n",
       "</style>\n",
       "<ol class=list-inline><li>1241</li><li>5</li></ol>\n"
      ],
      "text/latex": [
       "\\begin{enumerate*}\n",
       "\\item 1241\n",
       "\\item 5\n",
       "\\end{enumerate*}\n"
      ],
      "text/markdown": [
       "1. 1241\n",
       "2. 5\n",
       "\n",
       "\n"
      ],
      "text/plain": [
       "[1] 1241    5"
      ]
     },
     "metadata": {},
     "output_type": "display_data"
    }
   ],
   "source": [
    "head(results1)\n",
    "dim(results1)"
   ]
  },
  {
   "cell_type": "code",
   "execution_count": 5,
   "id": "922f7c63",
   "metadata": {},
   "outputs": [],
   "source": [
    "# head(results2)\n",
    "# dim(results2)"
   ]
  },
  {
   "cell_type": "code",
   "execution_count": 6,
   "id": "892bd724",
   "metadata": {},
   "outputs": [],
   "source": [
    "# head(results3)\n",
    "# dim(results3)"
   ]
  },
  {
   "cell_type": "code",
   "execution_count": 7,
   "id": "42dc30f5",
   "metadata": {},
   "outputs": [],
   "source": [
    "library(fgsea)\n",
    "library(msigdbr)"
   ]
  },
  {
   "cell_type": "code",
   "execution_count": 8,
   "id": "900eae83",
   "metadata": {},
   "outputs": [],
   "source": [
    "h <- data.frame(msigdbr::msigdbr(category = \"H\", species = 'Homo sapiens'))\n",
    "h <- split(h, h$gs_name)\n",
    "h <- lapply(h, function(x) x %>% dplyr::select(gene_symbol) %>% unlist %>% as.character)"
   ]
  },
  {
   "cell_type": "code",
   "execution_count": 9,
   "id": "74176acf",
   "metadata": {},
   "outputs": [],
   "source": [
    "plotGSEA_Hallmark <- function(gsea, fdr_cutoff = 0.25, cols = NULL, xlim = NULL, newlabels = NULL, keep_significant_only = TRUE, jitter = FALSE) {\n",
    "    require(ggplot2)\n",
    "    gsea$NES[which(is.na(gsea$NES))] <- 0\n",
    "    gsea$pval[which(is.na(gsea$pval))] <- 1\n",
    "    gsea$padj[which(is.na(gsea$padj))] <- 1\n",
    "    gsea$ranking[which(is.na(gsea$ranking))] <- 0\n",
    "    gsea <- gsea[order(gsea$ranking),]\n",
    "    \n",
    "    if (keep_significant_only){\n",
    "        gseax <- split(gsea, gsea$pathway)\n",
    "        for (i in 1:length(gseax)){\n",
    "            if (all(gseax[[i]]$pval >= 0.05)|all(gseax[[i]]$padj >=fdr_cutoff)){\n",
    "                gseax[[i]] <- NA        \n",
    "            }\n",
    "        }\n",
    "        gseax <- gseax[!is.na(gseax)]\n",
    "        gsea <- do.call(rbind, gseax)        \n",
    "    }\n",
    "    if (!is.null(gsea)){\n",
    "        gsea <- gsea[order(gsea$ranking), ]\n",
    "        gsea$pathway <- gsub(\"HALLMARK_|\", \"\", gsea$pathway)\n",
    "\n",
    "        if (!is.null(xlim)){\n",
    "            x_lim_min = -xlim\n",
    "            x_lim_max = xlim\n",
    "        } else {\n",
    "            x_lim_min <- abs(ceiling(min(-log10(gsea$padj))))\n",
    "            x_lim_max <- abs(ceiling(max(-log10(gsea$padj))))\n",
    "        }\n",
    "        \n",
    "        if(x_lim_min > x_lim_max){\n",
    "            xval1 <- x_lim_min * -1\n",
    "            xval2 <- x_lim_min\n",
    "        } else {\n",
    "            xval1 <- x_lim_max * -1\n",
    "            xval2 <- x_lim_max\n",
    "        }\n",
    "\n",
    "        if(!is.null(cols)){\n",
    "            gg_color_hue <- function(n) {\n",
    "                hues = seq(15, 375, length = n + 1)\n",
    "                hcl(h = hues, l = 65, c = 100)[1:n]\n",
    "            }\n",
    "            cols. = gg_color_hue(dplyr::n_distinct(gsea$group, na.rm = TRUE))\n",
    "        } else {\n",
    "            cols. = cols\n",
    "        }    \n",
    "    \n",
    "        g <- ggplot(gsea, aes(x = -log10(padj)*sign(NES), y = reorder(pathway, ranking), col = -log10(padj)*sign(NES), size = abs(NES)))\n",
    "        if (jitter){\n",
    "            g <- g + geom_point(position = 'jitter')\n",
    "        }else{\n",
    "            g <- g + geom_point()\n",
    "        }\n",
    "        g <- g + theme_bw() +\n",
    "            labs(x = expression(paste(\"Signed\", \" -log\" [\"10\"], \"adjusted pval\")), y = \"Hallmarks\") +\n",
    "            geom_vline(xintercept = 0) +\n",
    "            geom_vline(xintercept = -log10(fdr_cutoff)) +\n",
    "            geom_vline(xintercept = -log10(fdr_cutoff)*-1) +\n",
    "            scale_x_continuous(limits = c(xval1, xval2), oob = scales::squish) +\n",
    "            scale_size_area(oob = scales::squish, max_size = 3, limits = c(0,2)) +\n",
    "            theme(panel.grid.major = element_blank(), \n",
    "                panel.grid.minor = element_blank(), \n",
    "                panel.background = element_blank(), \n",
    "                axis.line = element_blank(), \n",
    "                axis.ticks = element_blank(),\n",
    "                axis.text = element_text(color = 'black'),\n",
    "                axis.title = element_text(color = 'black'))\n",
    "        \n",
    "        return(g)\n",
    "    }\n",
    "}"
   ]
  },
  {
   "cell_type": "code",
   "execution_count": 10,
   "id": "6597031d",
   "metadata": {},
   "outputs": [
    {
     "name": "stderr",
     "output_type": "stream",
     "text": [
      "Loading required package: ggplot2\n",
      "\n"
     ]
    },
    {
     "data": {
      "image/png": "[encoded data removed]",
      "text/plain": [
       "plot without title"
      ]
     },
     "metadata": {
      "image/png": {
       "height": 420,
       "width": 420
      }
     },
     "output_type": "display_data"
    }
   ],
   "source": [
    "gl1 <- makeGeneList(results1)\n",
    "res1gsea <- fgsea(pathways = h, stats = gl1, minSize = 0, maxSize =1000)\n",
    "res1gsea$ranking <- -log10(res1gsea$pval) * sign(res1gsea$NES)\n",
    "plotGSEA_Hallmark(res1gsea)"
   ]
  },
  {
   "cell_type": "code",
   "execution_count": 11,
   "id": "9bdc5058",
   "metadata": {},
   "outputs": [],
   "source": [
    "# gl2 <- makeGeneList(results2)\n",
    "# res2gsea <- fgsea(pathways = h, stats = gl2, minSize = 0, maxSize =1000)\n",
    "# res2gsea$ranking <- -log10(res2gsea$pval) * sign(res2gsea$NES)\n",
    "# plotGSEA_Hallmark(res2gsea)"
   ]
  },
  {
   "cell_type": "code",
   "execution_count": 12,
   "id": "714a8b19",
   "metadata": {},
   "outputs": [],
   "source": [
    "# gl3 <- makeGeneList(results3)\n",
    "# res3gsea <- fgsea(pathways = h, stats = gl3, minSize = 0, maxSize =1000)\n",
    "# res3gsea$ranking <- -log10(res3gsea$pval) * sign(res3gsea$NES)\n",
    "# plotGSEA_Hallmark(res3gsea)"
   ]
  },
  {
   "cell_type": "code",
   "execution_count": null,
   "id": "88d81119",
   "metadata": {},
   "outputs": [],
   "source": []
  }
 ],
 "metadata": {
  "kernelspec": {
   "display_name": "R",
   "language": "R",
   "name": "ir"
  },
  "language_info": {
   "codemirror_mode": "r",
   "file_extension": ".r",
   "mimetype": "text/x-r-source",
   "name": "R",
   "pygments_lexer": "r",
   "version": "4.0.3"
  }
 },
 "nbformat": 4,
 "nbformat_minor": 5
}
