{
 "cells": [
  {
   "cell_type": "code",
   "execution_count": 1,
   "id": "c919b46d",
   "metadata": {},
   "outputs": [
    {
     "name": "stderr",
     "output_type": "stream",
     "text": [
      "Registered S3 methods overwritten by 'lme4':\n",
      "  method                          from\n",
      "  cooks.distance.influence.merMod car \n",
      "  influence.merMod                car \n",
      "  dfbeta.influence.merMod         car \n",
      "  dfbetas.influence.merMod        car \n",
      "\n"
     ]
    }
   ],
   "source": [
    "library(glmmSeq)\n",
    "setwd('/lustre/scratch117/cellgen/team297/kt16/COVID_imperial_renal/')"
   ]
  },
  {
   "cell_type": "code",
   "execution_count": 2,
   "id": "e2baf84c",
   "metadata": {},
   "outputs": [
    {
     "data": {
      "text/html": [
       "<style>\n",
       ".list-inline {list-style: none; margin:0; padding: 0}\n",
       ".list-inline>li {display: inline-block}\n",
       ".list-inline>li:not(:last-child)::after {content: \"\\00b7\"; padding: 0 .5ex}\n",
       "</style>\n",
       "<ol class=list-inline><li>'res1'</li><li>'res2'</li><li>'res3'</li><li>'res4'</li><li>'res5'</li><li>'results1'</li><li>'results2'</li><li>'results3'</li><li>'results4'</li><li>'results5'</li></ol>\n"
      ],
      "text/latex": [
       "\\begin{enumerate*}\n",
       "\\item 'res1'\n",
       "\\item 'res2'\n",
       "\\item 'res3'\n",
       "\\item 'res4'\n",
       "\\item 'res5'\n",
       "\\item 'results1'\n",
       "\\item 'results2'\n",
       "\\item 'results3'\n",
       "\\item 'results4'\n",
       "\\item 'results5'\n",
       "\\end{enumerate*}\n"
      ],
      "text/markdown": [
       "1. 'res1'\n",
       "2. 'res2'\n",
       "3. 'res3'\n",
       "4. 'res4'\n",
       "5. 'res5'\n",
       "6. 'results1'\n",
       "7. 'results2'\n",
       "8. 'results3'\n",
       "9. 'results4'\n",
       "10. 'results5'\n",
       "\n",
       "\n"
      ],
      "text/plain": [
       " [1] \"res1\"     \"res2\"     \"res3\"     \"res4\"     \"res5\"     \"results1\"\n",
       " [7] \"results2\" \"results3\" \"results4\" \"results5\""
      ]
     },
     "metadata": {},
     "output_type": "display_data"
    }
   ],
   "source": [
    "load('h5ad/df.fil3_gex_bcells_vdj_sce_B_switched_mem_deg.RData')\n",
    "ls()"
   ]
  },
  {
   "cell_type": "code",
   "execution_count": 3,
   "id": "1541a80a",
   "metadata": {
    "scrolled": true
   },
   "outputs": [
    {
     "name": "stderr",
     "output_type": "stream",
     "text": [
      "\n",
      "Attaching package: ‘dplyr’\n",
      "\n",
      "\n",
      "The following objects are masked from ‘package:stats’:\n",
      "\n",
      "    filter, lag\n",
      "\n",
      "\n",
      "The following objects are masked from ‘package:base’:\n",
      "\n",
      "    intersect, setdiff, setequal, union\n",
      "\n",
      "\n"
     ]
    }
   ],
   "source": [
    "library(dplyr)\n",
    "makeGeneList <- function(gl, beta_column='LFC'){\n",
    "    y <- grepl('^RPS|^RPL|^MT-', row.names(gl))\n",
    "    gl <- gl[!y, ]\n",
    "    rank <- -log10(gl$pval) * sign(gl[,beta_column])\n",
    "    rank[which(rank == Inf)] <- 300\n",
    "    rank[which(rank == -Inf)] <- 300\n",
    "    names(rank) <- row.names(gl)\n",
    "    rank <- rev(sort(rank))\n",
    "    gl <- rank\n",
    "    return(gl)\n",
    "}"
   ]
  },
  {
   "cell_type": "code",
   "execution_count": 4,
   "id": "42dc30f5",
   "metadata": {},
   "outputs": [],
   "source": [
    "library(fgsea)\n",
    "library(msigdbr)"
   ]
  },
  {
   "cell_type": "code",
   "execution_count": 5,
   "id": "900eae83",
   "metadata": {},
   "outputs": [],
   "source": [
    "h <- data.frame(msigdbr::msigdbr(category = \"C2\", species = 'Homo sapiens', subcategory = 'CP:KEGG'))\n",
    "h <- split(h, h$gs_name)\n",
    "h <- lapply(h, function(x) x %>% dplyr::select(gene_symbol) %>% unlist %>% as.character)"
   ]
  },
  {
   "cell_type": "code",
   "execution_count": 8,
   "id": "74176acf",
   "metadata": {},
   "outputs": [],
   "source": [
    "plotGSEA_Hallmark <- function(gsea, fdr_cutoff = 0.05, cols = NULL, xlim = NULL, newlabels = NULL, keep_significant_only = TRUE, jitter = FALSE) {\n",
    "    require(ggplot2)\n",
    "    gsea$NES[which(is.na(gsea$NES))] <- 0\n",
    "    gsea$pval[which(is.na(gsea$pval))] <- 1\n",
    "    gsea$padj[which(is.na(gsea$padj))] <- 1\n",
    "    gsea$ranking[which(is.na(gsea$ranking))] <- 0\n",
    "    gsea <- gsea[order(gsea$ranking),]\n",
    "    \n",
    "    if (keep_significant_only){\n",
    "        gseax <- split(gsea, gsea$pathway)\n",
    "        for (i in 1:length(gseax)){\n",
    "            if (all(gseax[[i]]$pval >= 0.05)|all(gseax[[i]]$padj >=fdr_cutoff)){\n",
    "                gseax[[i]] <- NA        \n",
    "            }\n",
    "        }\n",
    "        gseax <- gseax[!is.na(gseax)]\n",
    "        gsea <- do.call(rbind, gseax)        \n",
    "    }\n",
    "    if (!is.null(gsea)){\n",
    "        gsea <- gsea[order(gsea$ranking), ]\n",
    "        gsea$pathway <- gsub(\"GOBP_|\", \"\", gsea$pathway)\n",
    "\n",
    "        if (!is.null(xlim)){\n",
    "            x_lim_min = -xlim\n",
    "            x_lim_max = xlim\n",
    "        } else {\n",
    "            x_lim_min <- abs(ceiling(min(-log10(gsea$padj))))\n",
    "            x_lim_max <- abs(ceiling(max(-log10(gsea$padj))))\n",
    "        }\n",
    "        \n",
    "        if(x_lim_min > x_lim_max){\n",
    "            xval1 <- x_lim_min * -1\n",
    "            xval2 <- x_lim_min\n",
    "        } else {\n",
    "            xval1 <- x_lim_max * -1\n",
    "            xval2 <- x_lim_max\n",
    "        }\n",
    "\n",
    "        if(!is.null(cols)){\n",
    "            gg_color_hue <- function(n) {\n",
    "                hues = seq(15, 375, length = n + 1)\n",
    "                hcl(h = hues, l = 65, c = 100)[1:n]\n",
    "            }\n",
    "            cols. = gg_color_hue(dplyr::n_distinct(gsea$group, na.rm = TRUE))\n",
    "        } else {\n",
    "            cols. = cols\n",
    "        }    \n",
    "    \n",
    "        g <- ggplot(gsea, aes(x = -log10(padj)*sign(NES), y = reorder(pathway, ranking), col = -log10(padj)*sign(NES), size = abs(NES)))\n",
    "        if (jitter){\n",
    "            g <- g + geom_point(position = 'jitter')\n",
    "        }else{\n",
    "            g <- g + geom_point()\n",
    "        }\n",
    "        g <- g + theme_bw() +\n",
    "            labs(x = expression(paste(\"Signed\", \" -log\" [\"10\"], \"adjusted pval\")), y = \"Hallmarks\") +\n",
    "            scale_color_gradient2(low = '#2166ac', mid = '#f7f7f7', high = '#b2182b', na.value = NA, limits = c(-2,2), oob = scales::squish) +\n",
    "            geom_vline(xintercept = 0) +\n",
    "            geom_vline(xintercept = -log10(fdr_cutoff), colour = '#ff7f0e') +\n",
    "            geom_vline(xintercept = -log10(fdr_cutoff)*-1, colour = '#ff7f0e') +\n",
    "            scale_x_continuous(limits = c(xval1, xval2), oob = scales::squish) +\n",
    "            scale_size_area(oob = scales::squish, max_size = 3, limits = c(0,2)) +\n",
    "            theme(panel.grid.major = element_blank(), \n",
    "                panel.grid.minor = element_blank(), \n",
    "                panel.background = element_blank(), \n",
    "                axis.line = element_blank(), \n",
    "                axis.ticks = element_blank(),\n",
    "                axis.text = element_text(color = 'black'),\n",
    "                axis.title = element_text(color = 'black'),\n",
    "                legend.direction = \"vertical\", legend.box = \"horizontal\"\n",
    "                )\n",
    "        \n",
    "        return(g)\n",
    "    }\n",
    "}"
   ]
  },
  {
   "cell_type": "code",
   "execution_count": 9,
   "id": "6597031d",
   "metadata": {},
   "outputs": [],
   "source": [
    "options(repr.plot.height = 7)\n",
    "gl1 <- makeGeneList(results1)\n",
    "res1gsea <- fgsea(pathways = h, stats = gl1, minSize = 0, maxSize =1000)\n",
    "res1gsea$ranking <- -log10(res1gsea$pval) * sign(res1gsea$NES)\n",
    "plotGSEA_Hallmark(res1gsea)"
   ]
  },
  {
   "cell_type": "code",
   "execution_count": 12,
   "id": "e9e39436",
   "metadata": {},
   "outputs": [
    {
     "data": {
      "text/html": [
       "FALSE"
      ],
      "text/latex": [
       "FALSE"
      ],
      "text/markdown": [
       "FALSE"
      ],
      "text/plain": [
       "[1] FALSE"
      ]
     },
     "metadata": {},
     "output_type": "display_data"
    }
   ],
   "source": [
    "any(res1gsea$padj < 0.05)"
   ]
  },
  {
   "cell_type": "code",
   "execution_count": 66,
   "id": "9bdc5058",
   "metadata": {},
   "outputs": [],
   "source": [
    "# gl2 <- makeGeneList(results2, 'fixed-effects estimates_linear')\n",
    "# res2gsea <- fgsea(pathways = h, stats = gl2, minSize = 0, maxSize =1000)\n",
    "# res2gsea$ranking <- -log10(res2gsea$pval) * sign(res2gsea$NES)\n",
    "# plotGSEA_Hallmark(res2gsea)"
   ]
  },
  {
   "cell_type": "code",
   "execution_count": 67,
   "id": "64e8d303",
   "metadata": {},
   "outputs": [],
   "source": [
    "# gl2 <- makeGeneList(results2, 'fixed-effects estimates_quadratic')\n",
    "# res2gsea <- fgsea(pathways = h, stats = gl2, minSize = 0, maxSize =1000)\n",
    "# res2gsea$ranking <- -log10(res2gsea$pval) * sign(res2gsea$NES)\n",
    "# plotGSEA_Hallmark(res2gsea)"
   ]
  },
  {
   "cell_type": "code",
   "execution_count": 13,
   "id": "714a8b19",
   "metadata": {},
   "outputs": [
    {
     "name": "stderr",
     "output_type": "stream",
     "text": [
      "Warning message in fgseaMultilevel(...):\n",
      "“There were 3 pathways for which P-values were not calculated properly due to unbalanced (positive and negative) gene-level statistic values. For such pathways pval, padj, NES, log2err are set to NA. You can try to increase the value of the argument nPermSimple (for example set it nPermSimple = 10000)”\n"
     ]
    }
   ],
   "source": [
    "options(repr.plot.height = 3)\n",
    "gl3 <- makeGeneList(results3)\n",
    "res3gsea <- fgsea(pathways = h, stats = gl3, minSize = 0, maxSize =1000)\n",
    "res3gsea$ranking <- -log10(res3gsea$pval) * sign(res3gsea$NES)\n",
    "plotGSEA_Hallmark(res3gsea)"
   ]
  },
  {
   "cell_type": "code",
   "execution_count": 16,
   "id": "2c8f2716",
   "metadata": {},
   "outputs": [
    {
     "data": {
      "image/png": "[encoded data removed]",
      "text/plain": [
       "plot without title"
      ]
     },
     "metadata": {
      "image/png": {
       "height": 240,
       "width": 600
      }
     },
     "output_type": "display_data"
    }
   ],
   "source": [
    "options(repr.plot.height = 4, repr.plot.width = 10)\n",
    "gl4 <- makeGeneList(results4)\n",
    "res4gsea <- fgsea(pathways = h, stats = gl4, minSize = 0, maxSize =1000)\n",
    "res4gsea$ranking <- -log10(res4gsea$pval) * sign(res4gsea$NES)\n",
    "plotGSEA_Hallmark(res4gsea)"
   ]
  },
  {
   "cell_type": "code",
   "execution_count": 18,
   "id": "b585fc31",
   "metadata": {},
   "outputs": [
    {
     "data": {
      "text/html": [
       "<table class=\"dataframe\">\n",
       "<caption>A data.table: 2 × 9</caption>\n",
       "<thead>\n",
       "\t<tr><th scope=col>pathway</th><th scope=col>pval</th><th scope=col>padj</th><th scope=col>log2err</th><th scope=col>ES</th><th scope=col>NES</th><th scope=col>size</th><th scope=col>leadingEdge</th><th scope=col>ranking</th></tr>\n",
       "\t<tr><th scope=col>&lt;chr&gt;</th><th scope=col>&lt;dbl&gt;</th><th scope=col>&lt;dbl&gt;</th><th scope=col>&lt;dbl&gt;</th><th scope=col>&lt;dbl&gt;</th><th scope=col>&lt;dbl&gt;</th><th scope=col>&lt;int&gt;</th><th scope=col>&lt;list&gt;</th><th scope=col>&lt;dbl&gt;</th></tr>\n",
       "</thead>\n",
       "<tbody>\n",
       "\t<tr><td>KEGG_ANTIGEN_PROCESSING_AND_PRESENTATION</td><td>5.173314e-06</td><td>0.0009415431</td><td>0.6105269</td><td>0.8071231</td><td>1.982500</td><td>29</td><td>HSP90AB1, CD74    , HLA-B   , B2M     , HLA-DRA , HLA-DPA1, HLA-C   , TAPBP   , HLA-DQA1, PSME1   , RFX5    , CALR    , HLA-DRB1, HLA-DMA , HSP90AA1, HLA-DRB5, TAP1    </td><td>5.286231</td></tr>\n",
       "\t<tr><td>KEGG_GRAFT_VERSUS_HOST_DISEASE          </td><td>1.096057e-03</td><td>0.0498705927</td><td>0.4550599</td><td>0.7950799</td><td>1.712214</td><td>13</td><td>HLA-B   , HLA-DRA , HLA-DPA1, HLA-C   , HLA-DQA1, HLA-DRB1, HLA-DMA , HLA-DRB5</td><td>2.960167</td></tr>\n",
       "</tbody>\n",
       "</table>\n"
      ],
      "text/latex": [
       "A data.table: 2 × 9\n",
       "\\begin{tabular}{lllllllll}\n",
       " pathway & pval & padj & log2err & ES & NES & size & leadingEdge & ranking\\\\\n",
       " <chr> & <dbl> & <dbl> & <dbl> & <dbl> & <dbl> & <int> & <list> & <dbl>\\\\\n",
       "\\hline\n",
       "\t KEGG\\_ANTIGEN\\_PROCESSING\\_AND\\_PRESENTATION & 5.173314e-06 & 0.0009415431 & 0.6105269 & 0.8071231 & 1.982500 & 29 & HSP90AB1, CD74    , HLA-B   , B2M     , HLA-DRA , HLA-DPA1, HLA-C   , TAPBP   , HLA-DQA1, PSME1   , RFX5    , CALR    , HLA-DRB1, HLA-DMA , HSP90AA1, HLA-DRB5, TAP1     & 5.286231\\\\\n",
       "\t KEGG\\_GRAFT\\_VERSUS\\_HOST\\_DISEASE           & 1.096057e-03 & 0.0498705927 & 0.4550599 & 0.7950799 & 1.712214 & 13 & HLA-B   , HLA-DRA , HLA-DPA1, HLA-C   , HLA-DQA1, HLA-DRB1, HLA-DMA , HLA-DRB5 & 2.960167\\\\\n",
       "\\end{tabular}\n"
      ],
      "text/markdown": [
       "\n",
       "A data.table: 2 × 9\n",
       "\n",
       "| pathway &lt;chr&gt; | pval &lt;dbl&gt; | padj &lt;dbl&gt; | log2err &lt;dbl&gt; | ES &lt;dbl&gt; | NES &lt;dbl&gt; | size &lt;int&gt; | leadingEdge &lt;list&gt; | ranking &lt;dbl&gt; |\n",
       "|---|---|---|---|---|---|---|---|---|\n",
       "| KEGG_ANTIGEN_PROCESSING_AND_PRESENTATION | 5.173314e-06 | 0.0009415431 | 0.6105269 | 0.8071231 | 1.982500 | 29 | HSP90AB1, CD74    , HLA-B   , B2M     , HLA-DRA , HLA-DPA1, HLA-C   , TAPBP   , HLA-DQA1, PSME1   , RFX5    , CALR    , HLA-DRB1, HLA-DMA , HSP90AA1, HLA-DRB5, TAP1     | 5.286231 |\n",
       "| KEGG_GRAFT_VERSUS_HOST_DISEASE           | 1.096057e-03 | 0.0498705927 | 0.4550599 | 0.7950799 | 1.712214 | 13 | HLA-B   , HLA-DRA , HLA-DPA1, HLA-C   , HLA-DQA1, HLA-DRB1, HLA-DMA , HLA-DRB5 | 2.960167 |\n",
       "\n"
      ],
      "text/plain": [
       "  pathway                                  pval         padj         log2err  \n",
       "1 KEGG_ANTIGEN_PROCESSING_AND_PRESENTATION 5.173314e-06 0.0009415431 0.6105269\n",
       "2 KEGG_GRAFT_VERSUS_HOST_DISEASE           1.096057e-03 0.0498705927 0.4550599\n",
       "  ES        NES      size\n",
       "1 0.8071231 1.982500 29  \n",
       "2 0.7950799 1.712214 13  \n",
       "  leadingEdge                                                                                                                                                             \n",
       "1 HSP90AB1, CD74    , HLA-B   , B2M     , HLA-DRA , HLA-DPA1, HLA-C   , TAPBP   , HLA-DQA1, PSME1   , RFX5    , CALR    , HLA-DRB1, HLA-DMA , HSP90AA1, HLA-DRB5, TAP1    \n",
       "2 HLA-B   , HLA-DRA , HLA-DPA1, HLA-C   , HLA-DQA1, HLA-DRB1, HLA-DMA , HLA-DRB5                                                                                          \n",
       "  ranking \n",
       "1 5.286231\n",
       "2 2.960167"
      ]
     },
     "metadata": {},
     "output_type": "display_data"
    }
   ],
   "source": [
    "res4gsea %>% filter(pathway %in% c('KEGG_ANTIGEN_PROCESSING_AND_PRESENTATION', 'KEGG_GRAFT_VERSUS_HOST_DISEASE'))"
   ]
  },
  {
   "cell_type": "code",
   "execution_count": 15,
   "id": "b3b28f43",
   "metadata": {},
   "outputs": [],
   "source": [
    "options(repr.plot.height = 3)\n",
    "gl5 <- makeGeneList(results5)\n",
    "res5gsea <- fgsea(pathways = h, stats = gl5, minSize = 0, maxSize =1000)\n",
    "res5gsea$ranking <- -log10(res5gsea$pval) * sign(res5gsea$NES)\n",
    "plotGSEA_Hallmark(res5gsea)"
   ]
  },
  {
   "cell_type": "code",
   "execution_count": null,
   "id": "88d81119",
   "metadata": {},
   "outputs": [],
   "source": []
  }
 ],
 "metadata": {
  "kernelspec": {
   "display_name": "R",
   "language": "R",
   "name": "ir"
  },
  "language_info": {
   "codemirror_mode": "r",
   "file_extension": ".r",
   "mimetype": "text/x-r-source",
   "name": "R",
   "pygments_lexer": "r",
   "version": "4.0.3"
  }
 },
 "nbformat": 4,
 "nbformat_minor": 5
}
