{
 "cells": [
  {
   "cell_type": "code",
   "execution_count": 20,
   "id": "db140014",
   "metadata": {},
   "outputs": [],
   "source": [
    "options(warn=-1)\n",
    "suppressPackageStartupMessages(library(SingleCellExperiment))\n",
    "suppressPackageStartupMessages(library(SummarizedExperiment))\n",
    "suppressPackageStartupMessages(library(variancePartition))\n",
    "suppressPackageStartupMessages(library(limma))\n",
    "suppressPackageStartupMessages(library(edgeR))\n",
    "suppressPackageStartupMessages(library(scran))\n",
    "suppressPackageStartupMessages(library(scater))\n",
    "suppressPackageStartupMessages(library(glmmSeq))\n",
    "suppressPackageStartupMessages(library(lmerTest))\n",
    "suppressPackageStartupMessages(library(pbmcapply))\n",
    "# suppressPackageStartupMessages(library(optparse))"
   ]
  },
  {
   "cell_type": "code",
   "execution_count": null,
   "id": "11d4ea84",
   "metadata": {},
   "outputs": [],
   "source": []
  },
  {
   "cell_type": "code",
   "execution_count": 21,
   "id": "8638b479",
   "metadata": {},
   "outputs": [
    {
     "data": {
      "text/plain": [
       "class: SingleCellExperiment \n",
       "dim: 32913 15093 \n",
       "metadata(10): WHO_temp_severity_colors case_control_colors ...\n",
       "  initial_cluster_B_colors seurat_clusters_colors\n",
       "assays(2): X counts\n",
       "rownames(32913): MIR1302-2HG FAM138A ... AC213203.1 FAM231C\n",
       "rowData names(6): vst.mean vst.variance ... vst.variable GEX\n",
       "colnames(15093): UK-CIC10689738+UK-CIC10690026_AACCATGCAGTCACTA-1\n",
       "  UK-CIC10689738+UK-CIC10690026_AACCGCGAGTCTCCTC-1 ...\n",
       "  UK-CIC10690384+UK-CIC10690576_TTTACTGAGGTGGGTT-1\n",
       "  UK-CIC10690384+UK-CIC10690576_TTTATGCTCCTCAATT-1\n",
       "colData names(67): orig.ident nCount_RNA ... time_from_positive_swab\n",
       "  time_from_infection\n",
       "reducedDimNames(5): X_harmony_rna X_pca_rna UMAP X_umapafterharmony_rna\n",
       "  X_umapbeforeharmony_rna\n",
       "altExpNames(0):"
      ]
     },
     "metadata": {},
     "output_type": "display_data"
    }
   ],
   "source": [
    "# read in the sce object\n",
    "setwd('/lustre/scratch117/cellgen/team297/kt16/COVID_imperial_renal/')\n",
    "source('scripts/glmm_functions.R')\n",
    "sce <- readRDS('h5ad/df.fil3_gex_bcells_vdj_sce_B_mem_all.RDS')\n",
    "sce"
   ]
  },
  {
   "cell_type": "code",
   "execution_count": 22,
   "id": "e3e3af07",
   "metadata": {},
   "outputs": [],
   "source": [
    "counts(sce) <- assays(sce)[['X']] # because i'm saving from a h5ad object with anndata2ri\n",
    "sce$case_control <- factor(sce$case_control, levels = c('NEGATIVE', 'POSITIVE', 'RECOVERY'))\n",
    "sce$WHO_temp_severity <- factor(sce$WHO_temp_severity, levels = c('NA', 'mild', 'moderate', 'severe', 'critical'))\n",
    "sce$WHO_severity_group <- factor(sce$WHO_temp_severity, levels = c('NA', 'mild', 'moderate', 'severe', 'critical'), labels = c('NA', 'mild_moderate', 'mild_moderate', 'severe_critical', 'severe_critical'))\n",
    "sce$grouped_severity <- ifelse(sce$WHO_temp_severity %in% c(\"mild\", \"moderate\"), \"mild_moderate\", \"severe_critical\")\n",
    "sce$age_scaled <- scale(sce$calc_age) # scale age"
   ]
  },
  {
   "cell_type": "code",
   "execution_count": 16,
   "id": "2d89c9a5",
   "metadata": {},
   "outputs": [],
   "source": [
    "# counts(sce) <- assays(sce)[['X']] # because i'm saving from a h5ad object with anndata2ri\n",
    "# sce$case_control <- factor(sce$case_control, levels = c('NEGATIVE', 'POSITIVE', 'RECOVERY'))\n",
    "# sce$WHO_temp_severity <- factor(sce$WHO_temp_severity, levels = c('NA', 'mild', 'moderate', 'severe', 'critical'))\n",
    "# sce$WHO_severity_group <- factor(sce$WHO_temp_severity, levels = c('NA', 'mild', 'moderate', 'severe', 'critical'), labels = c('NA', 'mild_moderate', 'mild_moderate', 'severe_critical', 'severe_critical'))\n",
    "# sce$grouped_severity <- ifelse(sce$WHO_temp_severity %in% c(\"mild\"), \"mild\", \"moderate_severe_critical\")\n",
    "# sce$age_scaled <- scale(sce$calc_age) # scale age"
   ]
  },
  {
   "cell_type": "code",
   "execution_count": 23,
   "id": "9beb0ecd",
   "metadata": {},
   "outputs": [],
   "source": [
    "min_cells = 10\n",
    "ncpus = 10"
   ]
  },
  {
   "cell_type": "code",
   "execution_count": 24,
   "id": "738e13d0",
   "metadata": {},
   "outputs": [],
   "source": [
    "# Comparison 1: deg from ordered WHO temp severity Remove samples with less than MIN\n",
    "nCells <- table(sce$sample_id)\n",
    "rmSamples <- names(nCells[nCells < min_cells])\n",
    "sce1 <- sce[, !sce$sample_id %in% rmSamples]\n",
    "# drop unused levels\n",
    "sce1$individual_id <- droplevels(sce1$individual_id)\n",
    "sce1$sample_id <- droplevels(sce1$sample_id)\n",
    "sce1$case_control <- droplevels(sce1$case_control)\n",
    "sce1$ethnicity <- droplevels(sce1$ethnicity)\n",
    "sce1$sex <- droplevels(sce1$sex)\n",
    "# Summarize Counts\n",
    "smrzd <- aggregateAcrossCells(sce1, id = as.character(colData(sce1)[, c(\"sample_id\")]))\n",
    "y <- DGEList(counts = counts(smrzd), samples = colData(smrzd))\n",
    "y <- setupDGElist(y, \"WHO_severity_group\", ordered = TRUE, remove = \"NA\") # use grouped_severity later"
   ]
  },
  {
   "cell_type": "code",
   "execution_count": 25,
   "id": "47f3c68d",
   "metadata": {},
   "outputs": [
    {
     "name": "stdout",
     "output_type": "stream",
     "text": [
      "\n",
      "n = 138 samples, 37 individuals\n",
      "Time difference of 3.5525 mins\n"
     ]
    }
   ],
   "source": [
    "res1 <- testDGElist(y,\n",
    "            formula = as.formula(\"~ grouped_severity + sex + ethnicity + age_scaled + centre + (1|individual_id)\"),\n",
    "            individual_id = \"individual_id\",\n",
    "            ncores = ncpus)"
   ]
  },
  {
   "cell_type": "code",
   "execution_count": 26,
   "id": "f4a2f32d",
   "metadata": {},
   "outputs": [
    {
     "name": "stdout",
     "output_type": "stream",
     "text": [
      "\n",
      "q_grouped_severity\n",
      "------------------\n",
      "Not Significant     Significant \n",
      "           7050             485 \n",
      "\n",
      "q_sex\n",
      "-----\n",
      "Not Significant     Significant \n",
      "           7058             477 \n",
      "\n",
      "q_ethnicity\n",
      "-----------\n",
      "Not Significant     Significant \n",
      "           6877             658 \n",
      "\n",
      "q_age_scaled\n",
      "------------\n",
      "Not Significant     Significant \n",
      "           7033             502 \n",
      "\n",
      "q_centre\n",
      "--------\n",
      "Not Significant     Significant \n",
      "             50            7485 \n"
     ]
    }
   ],
   "source": [
    "res1 <- glmmQvals(res1, pi0=1)"
   ]
  },
  {
   "cell_type": "code",
   "execution_count": 10,
   "id": "048fb913",
   "metadata": {},
   "outputs": [],
   "source": [
    "# Comparison 1: deg from ordered WHO temp severity\n",
    "# Remove samples with less than MIN\n",
    "nCells <- table(sce$sample_id)\n",
    "rmSamples <- names(nCells[nCells<5])\n",
    "sce1 <- sce[,!sce$sample_id %in% rmSamples]\n",
    "# drop unused levels\n",
    "sce1$individual_id <- droplevels(sce1$individual_id)\n",
    "sce1$sample_id <- droplevels(sce1$sample_id)\n",
    "sce1$case_control <- droplevels(sce1$case_control)\n",
    "sce1$ethnicity <- droplevels(sce1$ethnicity)\n",
    "sce1$sex <- droplevels(sce1$sex)\n",
    "# Summarize Counts\n",
    "smrzd <- aggregateAcrossCells(sce1, id=as.character(colData(sce1)[,c(\"sample_id\")]))\n",
    "y <- DGEList(counts=counts(smrzd), samples=colData(smrzd))\n",
    "y <- setupDGElist(y, 'WHO_temp_severity', ordered = TRUE, remove = \"NA\")"
   ]
  },
  {
   "cell_type": "code",
   "execution_count": 6,
   "id": "ad9bb740",
   "metadata": {},
   "outputs": [],
   "source": [
    "res1a <- testDGElist(y, \n",
    "            formula = as.formula(\"~ WHO_temp_severity + sex + ethnicity + age_scaled + centre + (1|individual_id)\"), \n",
    "            individual_id = 'individual_id',\n",
    "            designMatrix = model.matrix(as.formula(\"~ WHO_temp_severity + sex + ethnicity + age_scaled + centre\"), data=y$samples)\n",
    "           )"
   ]
  },
  {
   "cell_type": "code",
   "execution_count": 7,
   "id": "c06d4a9b",
   "metadata": {},
   "outputs": [
    {
     "name": "stdout",
     "output_type": "stream",
     "text": [
      "\n",
      "n = 27 samples, 19 individuals\n",
      "Time difference of 17.13443 mins\n",
      "Errors in 17 gene(s):CD52, TENT5C, RPL37A, IRF4, HIST1H3G, GLCCI1, AHNAK, RNF213, LINC01480, MT-CO1, MT-CO2, MT-ATP8, MT-ATP6, MT-CO3, MT-ND4L, MT-ND4, MT-ND6"
     ]
    }
   ],
   "source": [
    "res1b <- testDGElist(y, \n",
    "            formula = as.formula(\"~ WHO_temp_severity + sex + ethnicity + calc_age + centre + (1|individual_id)\"), \n",
    "            individual_id = 'individual_id',\n",
    "            designMatrix = model.matrix(as.formula(\"~ WHO_temp_severity + sex + ethnicity + calc_age + centre\"), data=y$samples)\n",
    "           )"
   ]
  },
  {
   "cell_type": "code",
   "execution_count": 11,
   "id": "434a8dcb",
   "metadata": {},
   "outputs": [
    {
     "name": "stdout",
     "output_type": "stream",
     "text": [
      "\n",
      "n = 27 samples, 19 individuals\n",
      "Time difference of 10.68638 mins\n",
      "Errors in 17 gene(s):CD52, TENT5C, RPL37A, IRF4, HIST1H3G, GLCCI1, AHNAK, RNF213, LINC01480, MT-CO1, MT-CO2, MT-ATP8, MT-ATP6, MT-CO3, MT-ND4L, MT-ND4, MT-ND6"
     ]
    }
   ],
   "source": [
    "res1c <- testDGElist(y, \n",
    "            formula = as.formula(\"~ WHO_temp_severity + sex + ethnicity + age_centered + centre + (1|individual_id)\"), \n",
    "            individual_id = 'individual_id',\n",
    "            designMatrix = model.matrix(as.formula(\"~ WHO_temp_severity + sex + ethnicity + age_centered + centre\"), data=y$samples)\n",
    "           )"
   ]
  },
  {
   "cell_type": "code",
   "execution_count": 8,
   "id": "2840d040",
   "metadata": {},
   "outputs": [
    {
     "name": "stdout",
     "output_type": "stream",
     "text": [
      "\n",
      "q_WHO_temp_severity\n",
      "-------------------\n",
      "Not Significant     Significant \n",
      "            212            4272 \n",
      "\n",
      "q_sex\n",
      "-----\n",
      "Not Significant     Significant \n",
      "           4073             411 \n",
      "\n",
      "q_ethnicity\n",
      "-----------\n",
      "Not Significant     Significant \n",
      "           3650             834 \n",
      "\n",
      "q_calc_age\n",
      "----------\n",
      "Not Significant     Significant \n",
      "           4156             328 \n",
      "\n",
      "q_centre\n",
      "--------\n",
      "Not Significant     Significant \n",
      "            744            3740 \n"
     ]
    }
   ],
   "source": [
    "res1b <- glmmQvals(res1b, pi0=1)"
   ]
  },
  {
   "cell_type": "code",
   "execution_count": 13,
   "id": "33e16cbe",
   "metadata": {},
   "outputs": [
    {
     "name": "stdout",
     "output_type": "stream",
     "text": [
      "\n",
      "n = 27 samples, 19 individuals\n",
      "Time difference of 10.22492 mins\n",
      "Errors in 7 gene(s):GLCCI1, ITGB1, CCL3, UPF1, LINC01480, MT-ND4, MT-ND5"
     ]
    }
   ],
   "source": [
    "res1d <- testDGElist(y, \n",
    "            formula = as.formula(\"~ WHO_temp_severity + sex + ethnicity + age_centered + (1|individual_id)\"), \n",
    "            individual_id = 'individual_id',\n",
    "            designMatrix = model.matrix(as.formula(\"~ WHO_temp_severity + sex + ethnicity + age_centered \"), data=y$samples)\n",
    "           )"
   ]
  },
  {
   "cell_type": "code",
   "execution_count": 12,
   "id": "646f2875",
   "metadata": {},
   "outputs": [
    {
     "name": "stdout",
     "output_type": "stream",
     "text": [
      "\n",
      "q_WHO_temp_severity\n",
      "-------------------\n",
      "Not Significant     Significant \n",
      "            195            4289 \n",
      "\n",
      "q_sex\n",
      "-----\n",
      "Not Significant     Significant \n",
      "           3784             700 \n",
      "\n",
      "q_ethnicity\n",
      "-----------\n",
      "Not Significant     Significant \n",
      "           3279            1205 \n",
      "\n",
      "q_age_centered\n",
      "--------------\n",
      "Not Significant     Significant \n",
      "           4361             123 \n",
      "\n",
      "q_centre\n",
      "--------\n",
      "Not Significant     Significant \n",
      "            688            3796 \n"
     ]
    }
   ],
   "source": [
    "res1c <- glmmQvals(res1c, pi0=1)"
   ]
  },
  {
   "cell_type": "code",
   "execution_count": 14,
   "id": "1dd509cb",
   "metadata": {},
   "outputs": [
    {
     "name": "stdout",
     "output_type": "stream",
     "text": [
      "\n",
      "q_WHO_temp_severity\n",
      "-------------------\n",
      "Not Significant     Significant \n",
      "            169            4325 \n",
      "\n",
      "q_sex\n",
      "-----\n",
      "Not Significant     Significant \n",
      "           3800             694 \n",
      "\n",
      "q_ethnicity\n",
      "-----------\n",
      "Not Significant     Significant \n",
      "           3694             800 \n",
      "\n",
      "q_age_centered\n",
      "--------------\n",
      "Not Significant     Significant \n",
      "           4422              72 \n"
     ]
    }
   ],
   "source": [
    "res1d <- glmmQvals(res1d, pi0=1)"
   ]
  },
  {
   "cell_type": "code",
   "execution_count": 75,
   "id": "85db8477",
   "metadata": {
    "scrolled": true
   },
   "outputs": [],
   "source": [
    "ordered_contrast = 'WHO_temp_severity'\n",
    "results1 <- res1@stats\n",
    "ordered_contrasts = c(paste0(ordered_contrast, c('.L', '.Q')),paste0(c('P_', 'q_'), ordered_contrast))\n",
    "results1 <- results1[,colnames(results1) %in% ordered_contrasts]"
   ]
  },
  {
   "cell_type": "code",
   "execution_count": 76,
   "id": "d956df36",
   "metadata": {},
   "outputs": [],
   "source": [
    "# Comparison 2: deg from ordered WHO temp severity\n",
    "# Remove samples with less than MIN\n",
    "nCells <- table(sce$sample_id)\n",
    "rmSamples <- names(nCells[nCells<5])\n",
    "sce1 <- sce[,!sce$sample_id %in% rmSamples]\n",
    "# drop unused levels\n",
    "sce1$individual_id <- droplevels(sce1$individual_id)\n",
    "sce1$sample_id <- droplevels(sce1$sample_id)\n",
    "sce1$case_control <- droplevels(sce1$case_control)\n",
    "sce1$ethnicity <- droplevels(sce1$ethnicity)\n",
    "sce1$sex <- droplevels(sce1$sex)\n",
    "# Summarize Counts\n",
    "smrzd <- aggregateAcrossCells(sce1, id=as.character(colData(sce1)[,c(\"sample_id\")]))\n",
    "y <- DGEList(counts=counts(smrzd), samples=colData(smrzd))\n",
    "y <- setupDGElist(y, 'WHO_severity_group', ordered = TRUE, remove = \"NA\")\n",
    "y$samples$grouped_severity <- ifelse(y$samples$WHO_severity %in% c(\"mild\", \"moderate\"), \"mild_moderate\", \"severe_critical\")"
   ]
  },
  {
   "cell_type": "code",
   "execution_count": 43,
   "id": "12c9a335",
   "metadata": {},
   "outputs": [],
   "source": [
    "#     reducedVars <- rownames(attr(terms(reducedFormula), \"factors\"))\n",
    "#     varLevels <- lapply(reducedVars, function(x) {\n",
    "#       if (is.factor(metadata[, x])) {\n",
    "#         return(levels(subsetMetadata[, x]))\n",
    "#       } else {sort(unique(subsetMetadata[, x]))}\n",
    "#     })\n",
    "#     modelData <- expand.grid(varLevels)\n",
    "#     colnames(modelData) <- reducedVars"
   ]
  },
  {
   "cell_type": "code",
   "execution_count": 98,
   "id": "e1028a00",
   "metadata": {},
   "outputs": [
    {
     "data": {
      "text/plain": [
       "~splines::bs(days_to_sampling, degree = 2) * grouped_severity + \n",
       "    sex + ethnicity + age_scaled + centre + (1 | individual_id)"
      ]
     },
     "metadata": {},
     "output_type": "display_data"
    }
   ],
   "source": [
    "modelFormula <- as.formula(\"~ splines::bs(days_to_sampling, degree = 2) * grouped_severity + sex + ethnicity + age_scaled + centre + (1|individual_id)\")\n",
    "modelFormula"
   ]
  },
  {
   "cell_type": "code",
   "execution_count": 103,
   "id": "e734e7ab",
   "metadata": {},
   "outputs": [
    {
     "data": {
      "text/plain": [
       "~splines::bs(days_to_sampling, degree = 2) * grouped_severity + \n",
       "    sex + ethnicity + age_scaled + centre + (1 + individual_id)"
      ]
     },
     "metadata": {},
     "output_type": "display_data"
    }
   ],
   "source": [
    "nonRandomFormula <- subbars(modelFormula)\n",
    "nonRandomFormula"
   ]
  },
  {
   "cell_type": "code",
   "execution_count": 93,
   "id": "1624862a",
   "metadata": {
    "scrolled": true
   },
   "outputs": [],
   "source": [
    "library(pbmcapply)\n",
    "glmmSeq_interaction <- function(modelFormula,\n",
    "                    countdata,\n",
    "                    metadata,\n",
    "                    id,\n",
    "                    dispersion,\n",
    "                    sizeFactors = NULL,\n",
    "                    reducedFormula = \"\",\n",
    "                    modelData = NULL,\n",
    "                    designMatrix = NULL,\n",
    "                    control = glmerControl(optimizer = \"bobyqa\"),\n",
    "                    cores = 1,\n",
    "                    zeroCount = 0.125,\n",
    "                    verbose = TRUE,\n",
    "                    returnList = FALSE, \n",
    "                    progress = TRUE,\n",
    "                    ...) {\n",
    "  \n",
    "  # Catch errors\n",
    "  if (length(findbars(modelFormula)) == 0) {\n",
    "    stop(\"No random effects terms specified in formula\")\n",
    "  }\n",
    "  if (ncol(countdata) != nrow(metadata)) {\n",
    "    stop(\"countdata columns different size to metadata rows\")\n",
    "  }\n",
    "  if (!is.null(sizeFactors) & ncol(countdata) != length(sizeFactors)) {\n",
    "    stop(\"Different sizeFactors length\")\n",
    "  }\n",
    "  if (! is.numeric(zeroCount)) stop(\"zeroCount must be numeric\")\n",
    "  if (zeroCount < 0) stop(\"zeroCount must be > = 0\")\n",
    "  if (zeroCount > 0) countdata[countdata == 0] <- zeroCount\n",
    "  \n",
    "  # Manipulate formulae\n",
    "  fullFormula <- update.formula(modelFormula, count ~ ., simplify = FALSE)\n",
    "  nonRandomFormula <- subbars(modelFormula)\n",
    "  variables <- rownames(attr(terms(nonRandomFormula), \"factors\"))\n",
    "  ids <- as.character(metadata[, id])\n",
    "  \n",
    "  # Check numbers and alignment\n",
    "  if (! all(rownames(countdata) %in% names(dispersion), nrow(countdata))) {\n",
    "    stop(\"Dispersion length must match nrow in countdata\")\n",
    "  }\n",
    "  \n",
    "  if (!is.null(sizeFactors)) offset <- log(sizeFactors) else offset <- NULL\n",
    "  if (verbose) cat(paste0(\"\\nn = \", length(ids), \" samples, \", length(unique(ids)), \" individuals\\n\"))\n",
    "  \n",
    "  # setup model prediction\n",
    "  if (reducedFormula == \"\") reducedFormula <- nobars(modelFormula)\n",
    "  \n",
    "  if (is.null(designMatrix)){\n",
    "    designMatrix <- model.matrix(reducedFormula, modelData)\n",
    "  } \n",
    "  \n",
    "  start <- Sys.time()\n",
    "  fullList <- lapply(rownames(countdata), function(i) {\n",
    "    list(y = countdata[i, ], dispersion = dispersion[i])\n",
    "  })\n",
    "  \n",
    "  # For each gene perform a fit\n",
    "  if (progress) {\n",
    "      resultList <- pbmclapply(fullList, function(geneList) {\n",
    "        glmerApply_interaction(geneList, fullFormula = fullFormula, data = metadata,\n",
    "                   control = control, offset = offset,\n",
    "                    ...)\n",
    "      }, mc.cores = cores)\n",
    "      if (\"value\" %in% names(resultList)) resultList <- resultList$value\n",
    "    } else {\n",
    "      resultList <- mclapply(fullList, function(geneList) {\n",
    "        glmerApply_interaction(geneList, fullFormula = fullFormula, data = metadata,\n",
    "                   control = control, offset = offset,\n",
    "                    ...)\n",
    "      }, mc.cores = cores)\n",
    "    }\n",
    "  if(returnList) return(resultList)\n",
    "  \n",
    "  # Print timing if verbose\n",
    "  end <- Sys.time()\n",
    "  if (verbose) print(end - start)\n",
    "  \n",
    "  # Output\n",
    "  names(resultList) <- rownames(countdata)\n",
    "  noErr <- vapply(resultList, function(x) x$tryErrors == \"\", FUN.VALUE = TRUE)\n",
    "  if (length(which(noErr)) == 0) { \n",
    "    stop(\"All genes returned an error. Check sufficient data in each group\")\n",
    "  }\n",
    "    \n",
    "  if (sum(!noErr) != 0) {\n",
    "    if (verbose) cat(paste0(\"Errors in \", sum(!noErr), \" gene(s):\",\n",
    "                            paste0(names(noErr)[! noErr], collapse = \", \")))\n",
    "    outputErrors <- vapply(resultList[!noErr], function(x) {x$tryErrors},\n",
    "                           FUN.VALUE = c(\"test\"))\n",
    "  } else {outputErrors <- c(\"No errors\")}\n",
    "  \n",
    "  optInfo <- t(vapply(resultList[noErr], function(x) {\n",
    "    setNames(x$optinfo, c(\"Singular\", \"Conv\"))\n",
    "  }, FUN.VALUE = c(1, 1)))\n",
    "  \n",
    "  nCheat <- resultList[noErr][[1]]$stats\n",
    "  s <- t(vapply(resultList[noErr], function(x) {x$stats}, FUN.VALUE = rep(1, length(nCheat))))\n",
    "  f <- t(vapply(resultList[noErr], function(x) {x$fit}, FUN.VALUE = rep(1, length(nCheat))))\n",
    "  \n",
    "  # Create GlmmSeq object with results\n",
    "  new(\"GlmmSeq\",\n",
    "      formula = fullFormula,\n",
    "      stats = s,\n",
    "      fit = f,\n",
    "      reducedFormula = reducedFormula,\n",
    "      countdata = countdata,\n",
    "      metadata = subsetMetadata,\n",
    "      optInfo = optInfo,\n",
    "      errors = outputErrors,\n",
    "      variables = id\n",
    "  )\n",
    "}\n",
    "\n",
    "glmerApply_interaction <- function(geneList,\n",
    "                       fullFormula,\n",
    "                       data,\n",
    "                       control,\n",
    "                       offset,\n",
    "                       ...) {\n",
    "  data[, \"count\"] <- as.numeric(geneList$y)\n",
    "  fit <- try(suppressMessages(suppressWarnings(\n",
    "    lme4::glmer(fullFormula, data = data, control = control, offset = offset, family = MASS::negative.binomial(theta = 1/geneList$dispersion)), ...)), silent = TRUE)\n",
    "  \n",
    "  if (class(fit) != \"try-error\") {\n",
    "    # intercept dropped genes\n",
    "    if (length(attr(fit@pp$X, \"msgRankdrop\")) > 0)  {\n",
    "      return( list(stats = NA, predict = NA, optinfo = NA,\n",
    "                   tryErrors = attr(fit@pp$X, \"msgRankdrop\")) )\n",
    "    }\n",
    "    stats <- setNames(c(geneList$dispersion, AIC(fit),\n",
    "                        as.numeric(logLik(fit))),\n",
    "                      c(\"Dispersion\", \"AIC\", \"logLik\"))\n",
    "    fixedEffects <- fixef(fit)\n",
    "    wald <- car::Anova(fit)\n",
    "    waldtest <- setNames(c(wald[, \"Chisq\"], wald[, \"Pr(>Chisq)\"]),\n",
    "                         c(paste0(\"Chisq_\", rownames(wald)),\n",
    "                           paste0(\"P_\", rownames(wald))))\n",
    "    singular <- as.numeric(isSingular(fit))\n",
    "    conv <- length(slot(fit, \"optinfo\")$conv$lme4$messages)\n",
    "    # rm(fit, data)\n",
    "    return(list(stats = c(stats, fixedEffects, waldtest),\n",
    "                fit = fit,\n",
    "                optinfo = c(singular, conv),\n",
    "                tryErrors = \"\") )\n",
    "  } else {\n",
    "    return(list(stats = NA, predict = NA, optinfo = NA, tryErrors = fit[1]))\n",
    "  }\n",
    "}\n",
    "\n",
    "testDGElist_interaction <- function(dgelist, formula, individual_id, designMatrix = NULL, ncores = NULL) {\n",
    "    if (is.null(ncores)){\n",
    "        NCORES <- parallel::detectCores()-1\n",
    "    } else {\n",
    "        NCORES <- ncores\n",
    "    }\n",
    "    # Estimate Dispersion\n",
    "    disp  <- suppressMessages(setNames(edgeR::estimateDisp(dgelist)$tagwise.dispersion, rownames(dgelist)))\n",
    "    # Norm\n",
    "    sizeFactors <- calcNormFactors(dgelist$counts)\n",
    "    results <- glmmSeq_interaction(formula,\n",
    "                id = individual_id,\n",
    "                countdata = dgelist$counts,\n",
    "                metadata = dgelist$samples,\n",
    "                dispersion = disp,\n",
    "                sizeFactors = sizeFactors,\n",
    "                removeDuplicatedMeasures = FALSE,\n",
    "                designMatrix = designMatrix,\n",
    "                removeSingles = FALSE,\n",
    "                progress = TRUE, cores = NCORES)\n",
    "    return(results)\n",
    "}"
   ]
  },
  {
   "cell_type": "code",
   "execution_count": 107,
   "id": "4c274f8b",
   "metadata": {},
   "outputs": [],
   "source": [
    "glmm_interaction <- function(dgeList,\n",
    "                             modelFormula,\n",
    "                             id,\n",
    "                             control = glmerControl(optimizer=\"bobyqa\",optCtrl=list(maxfun=2e5)),\n",
    "                             cores = 1,\n",
    "                             verbose = TRUE, ...){\n",
    "  require(pbmcapply)\n",
    "  require(lmerTest)\n",
    "  metadata <- dgeList$samples\n",
    "  countdata <- dgeList$counts\n",
    "  dispersion <- suppressMessages(setNames(edgeR::estimateDisp(dgeList)$tagwise.dispersion, rownames(dgeList)))\n",
    "  sizeFactors <- calcNormFactors(dgeList$counts)\n",
    "\n",
    "  # Manipulate formulae\n",
    "  reducedFormula <- nobars(modelFormula)\n",
    "  designMatrix <- model.matrix(reducedFormula, data=dgeList$samples)\n",
    "  fullFormula <- update.formula(modelFormula, count ~ ., simplify = FALSE)\n",
    "  nonRandomFormula <- subbars(modelFormula)\n",
    "  variables <- rownames(attr(terms(nonRandomFormula), \"factors\"))\n",
    "  ids <- as.character(metadata[, id])\n",
    "  # Check numbers and alignment\n",
    "  if (! all(rownames(countdata) %in% names(dispersion), nrow(countdata))) {\n",
    "    stop(\"Dispersion length must match nrow in countdata\")\n",
    "  }\n",
    "\n",
    "  if (!is.null(sizeFactors)) offset <- log(sizeFactors) else offset <- NULL\n",
    "  if (verbose) cat(paste0(\"\\nn = \", length(ids), \" samples, \", length(unique(ids)), \" individuals\\n\"))\n",
    "\n",
    "  start <- Sys.time()\n",
    "  fullList <- lapply(rownames(countdata), function(i) {\n",
    "    list(y = countdata[i, ], dispersion = dispersion[i])\n",
    "  })\n",
    "\n",
    "  resultList <- pbmclapply(fullList, function(geneList) {\n",
    "    run_glmm(geneList, fullFormula = fullFormula, data = metadata, control = control, offset = offset, ...)\n",
    "  }, mc.cores = cores)\n",
    "\n",
    "  # Print timing if verbose\n",
    "  end <- Sys.time()\n",
    "  if (verbose) print(end - start)\n",
    "\n",
    "  # Output\n",
    "  names(resultList) <- rownames(countdata)\n",
    "  noErr <- vapply(resultList, function(x) x$tryErrors == \"\", FUN.VALUE = TRUE)\n",
    "  if (length(which(noErr)) == 0) { \n",
    "    stop(\"All genes returned an error. Check sufficient data in each group\")\n",
    "  }\n",
    "    \n",
    "  if (sum(!noErr) != 0) {\n",
    "    if (verbose) cat(paste0(\"Errors in \", sum(!noErr), \" gene(s):\",\n",
    "                            paste0(names(noErr)[! noErr], collapse = \", \")))\n",
    "    outputErrors <- vapply(resultList[!noErr], function(x) {x$tryErrors},\n",
    "                           FUN.VALUE = c(\"test\"))\n",
    "  } else {outputErrors <- c(\"No errors\")}\n",
    "  \n",
    "  optInfo <- t(vapply(resultList[noErr], function(x) {\n",
    "    setNames(x$optinfo, c(\"Singular\", \"Conv\"))\n",
    "  }, FUN.VALUE = c(1, 1)))\n",
    "  \n",
    "  nCheat <- resultList[noErr][[1]]$stats\n",
    "  s <- t(vapply(resultList[noErr], function(x) {x$stats}, FUN.VALUE = rep(1, length(nCheat))))\n",
    "  f <- t(vapply(resultList[noErr], function(x) {x$fit}, FUN.VALUE = rep(1, length(nCheat))))\n",
    "\n",
    "  return(resultList)\n",
    "}\n",
    "\n",
    "run_glmm <- function(data, geneList, fullFormula, control, offset, ...){\n",
    "  data[, \"count\"] <- as.numeric(geneList$y)\n",
    "  fit <- lme4::glmer(fullFormula,\n",
    "                     data = data,\n",
    "                     control = control,\n",
    "                     offset = offset,\n",
    "                     family = MASS::negative.binomial(theta = 1/fullList[[1]]$dispersion),\n",
    "                     ...)\n",
    "  if (class(fit) != \"try-error\") {\n",
    "    stats <- setNames(c(geneList$dispersion, AIC(fit), as.numeric(logLik(fit))), c(\"Dispersion\", \"AIC\", \"logLik\"))\n",
    "    fixedEffects <- fixef(fit)\n",
    "    wald <- car::Anova(fit)\n",
    "    waldtest <- setNames(c(wald[, \"Chisq\"], wald[, \"Pr(>Chisq)\"]),\n",
    "                         c(paste0(\"Chisq_\", rownames(wald)),\n",
    "                           paste0(\"P_\", rownames(wald))))\n",
    "    singular <- as.numeric(isSingular(fit))\n",
    "    conv <- length(slot(fit, \"optinfo\")$conv$lme4$messages)\n",
    "    return(list(stats = c(stats, fixedEffects, waldtest),\n",
    "                fit = fit,\n",
    "                optinfo = c(singular, conv),\n",
    "                tryErrors = \"\") )\n",
    "  } else {\n",
    "   return(list(stats = NA, predict = NA, optinfo = NA, tryErrors = fit[1]))\n",
    "  }\n",
    "\n",
    "}"
   ]
  },
  {
   "cell_type": "code",
   "execution_count": 108,
   "id": "34013e20",
   "metadata": {},
   "outputs": [],
   "source": [
    "# Comparison 2: deg from the interaction between WHO temp severity groups and time\n",
    "res2 <- glmm_interaction(y, \n",
    "            modelFormula = as.formula(\"~ splines::bs(days_to_sampling, degree = 2) * grouped_severity + sex + ethnicity + calc_age + centre + (1|individual_id)\"), \n",
    "            id = 'individual_id')"
   ]
  },
  {
   "cell_type": "code",
   "execution_count": 45,
   "id": "db35e3c1",
   "metadata": {
    "scrolled": true
   },
   "outputs": [
    {
     "name": "stdout",
     "output_type": "stream",
     "text": [
      "\n",
      "n = 27 samples, 19 individuals\n"
     ]
    }
   ],
   "source": [
    "  verbose = TRUE\n",
    "  modelFormula <- as.formula(\"~ splines::bs(days_to_sampling, degree = 2) * grouped_severity + sex + ethnicity + age_scaled + centre + (1|individual_id)\")\n",
    "  reducedFormula <- nobars(modelFormula)\n",
    "  metadata <- y$samples\n",
    "  id <- 'individual_id'\n",
    "  countdata <- y$counts\n",
    "  dispersion <- suppressMessages(setNames(edgeR::estimateDisp(y)$tagwise.dispersion, rownames(y)))\n",
    "  sizeFactors <- calcNormFactors(y$counts)\n",
    "  designMatrix <- model.matrix(as.formula(\"~ splines::bs(days_to_sampling, degree = 2) * grouped_severity + sex + ethnicity + age_scaled + centre\"), data=y$samples)\n",
    "  # Manipulate formulae\n",
    "  fullFormula <- update.formula(modelFormula, count ~ ., simplify = FALSE)\n",
    "  nonRandomFormula <- subbars(modelFormula)\n",
    "  variables <- rownames(attr(terms(nonRandomFormula), \"factors\"))\n",
    "  ids <- as.character(metadata[, id])\n",
    "  \n",
    "  # Check numbers and alignment\n",
    "  if (! all(rownames(countdata) %in% names(dispersion), nrow(countdata))) {\n",
    "    stop(\"Dispersion length must match nrow in countdata\")\n",
    "  }\n",
    "  \n",
    "  if (!is.null(sizeFactors)) offset <- log(sizeFactors) else offset <- NULL\n",
    "  if (verbose) cat(paste0(\"\\nn = \", length(ids), \" samples, \", length(unique(ids)), \" individuals\\n\"))\n",
    "  \n",
    "  # setup model prediction\n",
    "  if (reducedFormula == \"\") reducedFormula <- nobars(modelFormula)\n",
    "  \n",
    "  if (is.null(designMatrix)){\n",
    "    designMatrix <- model.matrix(reducedFormula, modelData)\n",
    "  } \n",
    "  \n",
    "  start <- Sys.time()\n",
    "  fullList <- lapply(rownames(countdata), function(i) {\n",
    "    list(y = countdata[i, ], dispersion = dispersion[i])\n",
    "  })"
   ]
  },
  {
   "cell_type": "code",
   "execution_count": 96,
   "id": "c293b232",
   "metadata": {},
   "outputs": [],
   "source": [
    "resultList <- pbmclapply(fullList, function(geneList) {\n",
    "    glmerApply_interaction(geneList, fullFormula = fullFormula, data = metadata, control = control, offset = offset)    \n",
    "},mc.cores = 32)"
   ]
  },
  {
   "cell_type": "code",
   "execution_count": 95,
   "id": "95a47690",
   "metadata": {},
   "outputs": [
    {
     "data": {
      "text/plain": [
       "[1] \"Error in solve.default(L %*% V %*% t(L)) : \\n  system is computationally singular: reciprocal condition number = 6.00415e-17\\n\"\n",
       "attr(,\"class\")\n",
       "[1] \"try-error\"\n",
       "attr(,\"condition\")\n",
       "<simpleError in solve.default(L %*% V %*% t(L)): system is computationally singular: reciprocal condition number = 6.00415e-17>"
      ]
     },
     "metadata": {},
     "output_type": "display_data"
    }
   ],
   "source": [
    "resultList[[1]]"
   ]
  },
  {
   "cell_type": "code",
   "execution_count": 45,
   "id": "b67b2504",
   "metadata": {},
   "outputs": [],
   "source": [
    "# library(lmerTest)\n",
    "# control = glmerControl(optimizer = \"bobyqa\", optCtrl=list(maxfun=100000))\n",
    "# test <- glmerApply_interaction(fullList[[1]], fullFormula = fullFormula, data = metadata, control = control, offset = offset)"
   ]
  },
  {
   "cell_type": "code",
   "execution_count": 47,
   "id": "23803a48",
   "metadata": {},
   "outputs": [],
   "source": [
    "data <- metadata\n",
    "data[, \"count\"] <- as.numeric(fullList[[1]]$y)"
   ]
  },
  {
   "cell_type": "code",
   "execution_count": 48,
   "id": "d9c4e034",
   "metadata": {},
   "outputs": [],
   "source": [
    "library(lmerTest)\n",
    "\n",
    "control = glmerControl(optimizer=\"bobyqa\",optCtrl=list(maxfun=2e5))\n",
    "data <- metadata\n",
    "data[, \"count\"] <- as.numeric(fullList[[1]]$y)\n",
    "fit <- lme4::glmer(fullFormula, data = data, control = control, offset = offset, family = MASS::negative.binomial(theta = 1/fullList[[1]]$dispersion))"
   ]
  },
  {
   "cell_type": "code",
   "execution_count": 51,
   "id": "d32326e1",
   "metadata": {},
   "outputs": [
    {
     "data": {
      "text/html": [
       "<table class=\"dataframe\">\n",
       "<caption>A anova: 7 × 3</caption>\n",
       "<thead>\n",
       "\t<tr><th></th><th scope=col>Chisq</th><th scope=col>Df</th><th scope=col>Pr(&gt;Chisq)</th></tr>\n",
       "\t<tr><th></th><th scope=col>&lt;dbl&gt;</th><th scope=col>&lt;dbl&gt;</th><th scope=col>&lt;dbl&gt;</th></tr>\n",
       "</thead>\n",
       "<tbody>\n",
       "\t<tr><th scope=row>splines::bs(days_to_sampling, degree = 2)</th><td>18.29843053</td><td>2</td><td>1.063032e-04</td></tr>\n",
       "\t<tr><th scope=row>grouped_severity</th><td> 0.91862478</td><td>1</td><td>3.378363e-01</td></tr>\n",
       "\t<tr><th scope=row>sex</th><td> 0.07713824</td><td>1</td><td>7.812137e-01</td></tr>\n",
       "\t<tr><th scope=row>ethnicity</th><td> 4.77870119</td><td>3</td><td>1.887377e-01</td></tr>\n",
       "\t<tr><th scope=row>age_scaled</th><td> 3.11336182</td><td>1</td><td>7.765253e-02</td></tr>\n",
       "\t<tr><th scope=row>centre</th><td> 3.18729702</td><td>1</td><td>7.421263e-02</td></tr>\n",
       "\t<tr><th scope=row>splines::bs(days_to_sampling, degree = 2):grouped_severity</th><td>38.76357385</td><td>2</td><td>3.824696e-09</td></tr>\n",
       "</tbody>\n",
       "</table>\n"
      ],
      "text/latex": [
       "A anova: 7 × 3\n",
       "\\begin{tabular}{r|lll}\n",
       "  & Chisq & Df & Pr(>Chisq)\\\\\n",
       "  & <dbl> & <dbl> & <dbl>\\\\\n",
       "\\hline\n",
       "\tsplines::bs(days\\_to\\_sampling, degree = 2) & 18.29843053 & 2 & 1.063032e-04\\\\\n",
       "\tgrouped\\_severity &  0.91862478 & 1 & 3.378363e-01\\\\\n",
       "\tsex &  0.07713824 & 1 & 7.812137e-01\\\\\n",
       "\tethnicity &  4.77870119 & 3 & 1.887377e-01\\\\\n",
       "\tage\\_scaled &  3.11336182 & 1 & 7.765253e-02\\\\\n",
       "\tcentre &  3.18729702 & 1 & 7.421263e-02\\\\\n",
       "\tsplines::bs(days\\_to\\_sampling, degree = 2):grouped\\_severity & 38.76357385 & 2 & 3.824696e-09\\\\\n",
       "\\end{tabular}\n"
      ],
      "text/markdown": [
       "\n",
       "A anova: 7 × 3\n",
       "\n",
       "| <!--/--> | Chisq &lt;dbl&gt; | Df &lt;dbl&gt; | Pr(&gt;Chisq) &lt;dbl&gt; |\n",
       "|---|---|---|---|\n",
       "| splines::bs(days_to_sampling, degree = 2) | 18.29843053 | 2 | 1.063032e-04 |\n",
       "| grouped_severity |  0.91862478 | 1 | 3.378363e-01 |\n",
       "| sex |  0.07713824 | 1 | 7.812137e-01 |\n",
       "| ethnicity |  4.77870119 | 3 | 1.887377e-01 |\n",
       "| age_scaled |  3.11336182 | 1 | 7.765253e-02 |\n",
       "| centre |  3.18729702 | 1 | 7.421263e-02 |\n",
       "| splines::bs(days_to_sampling, degree = 2):grouped_severity | 38.76357385 | 2 | 3.824696e-09 |\n",
       "\n"
      ],
      "text/plain": [
       "                                                           Chisq       Df\n",
       "splines::bs(days_to_sampling, degree = 2)                  18.29843053 2 \n",
       "grouped_severity                                            0.91862478 1 \n",
       "sex                                                         0.07713824 1 \n",
       "ethnicity                                                   4.77870119 3 \n",
       "age_scaled                                                  3.11336182 1 \n",
       "centre                                                      3.18729702 1 \n",
       "splines::bs(days_to_sampling, degree = 2):grouped_severity 38.76357385 2 \n",
       "                                                           Pr(>Chisq)  \n",
       "splines::bs(days_to_sampling, degree = 2)                  1.063032e-04\n",
       "grouped_severity                                           3.378363e-01\n",
       "sex                                                        7.812137e-01\n",
       "ethnicity                                                  1.887377e-01\n",
       "age_scaled                                                 7.765253e-02\n",
       "centre                                                     7.421263e-02\n",
       "splines::bs(days_to_sampling, degree = 2):grouped_severity 3.824696e-09"
      ]
     },
     "metadata": {},
     "output_type": "display_data"
    }
   ],
   "source": [
    "car::Anova(fit)"
   ]
  },
  {
   "cell_type": "code",
   "execution_count": 63,
   "id": "fdba04cb",
   "metadata": {},
   "outputs": [
    {
     "data": {
      "text/html": [
       "<style>\n",
       ".list-inline {list-style: none; margin:0; padding: 0}\n",
       ".list-inline>li {display: inline-block}\n",
       ".list-inline>li:not(:last-child)::after {content: \"\\00b7\"; padding: 0 .5ex}\n",
       "</style>\n",
       "<ol class=list-inline><li>'Dispersion'</li><li>'AIC'</li><li>'logLik'</li><li>'(Intercept)'</li><li>'WHO_temp_severity.L'</li><li>'WHO_temp_severity.Q'</li><li>'WHO_temp_severity.C'</li><li>'sexM'</li><li>'ethnicityblack'</li><li>'ethnicityother'</li><li>'ethnicitywhite'</li><li>'age_scaled'</li><li>'centreNCL'</li><li>'Chisq_WHO_temp_severity'</li><li>'Chisq_sex'</li><li>'Chisq_ethnicity'</li><li>'Chisq_age_scaled'</li><li>'Chisq_centre'</li><li>'P_WHO_temp_severity'</li><li>'P_sex'</li><li>'P_ethnicity'</li><li>'P_age_scaled'</li><li>'P_centre'</li><li>'q_WHO_temp_severity'</li><li>'q_sex'</li><li>'q_ethnicity'</li><li>'q_age_scaled'</li><li>'q_centre'</li></ol>\n"
      ],
      "text/latex": [
       "\\begin{enumerate*}\n",
       "\\item 'Dispersion'\n",
       "\\item 'AIC'\n",
       "\\item 'logLik'\n",
       "\\item '(Intercept)'\n",
       "\\item 'WHO\\_temp\\_severity.L'\n",
       "\\item 'WHO\\_temp\\_severity.Q'\n",
       "\\item 'WHO\\_temp\\_severity.C'\n",
       "\\item 'sexM'\n",
       "\\item 'ethnicityblack'\n",
       "\\item 'ethnicityother'\n",
       "\\item 'ethnicitywhite'\n",
       "\\item 'age\\_scaled'\n",
       "\\item 'centreNCL'\n",
       "\\item 'Chisq\\_WHO\\_temp\\_severity'\n",
       "\\item 'Chisq\\_sex'\n",
       "\\item 'Chisq\\_ethnicity'\n",
       "\\item 'Chisq\\_age\\_scaled'\n",
       "\\item 'Chisq\\_centre'\n",
       "\\item 'P\\_WHO\\_temp\\_severity'\n",
       "\\item 'P\\_sex'\n",
       "\\item 'P\\_ethnicity'\n",
       "\\item 'P\\_age\\_scaled'\n",
       "\\item 'P\\_centre'\n",
       "\\item 'q\\_WHO\\_temp\\_severity'\n",
       "\\item 'q\\_sex'\n",
       "\\item 'q\\_ethnicity'\n",
       "\\item 'q\\_age\\_scaled'\n",
       "\\item 'q\\_centre'\n",
       "\\end{enumerate*}\n"
      ],
      "text/markdown": [
       "1. 'Dispersion'\n",
       "2. 'AIC'\n",
       "3. 'logLik'\n",
       "4. '(Intercept)'\n",
       "5. 'WHO_temp_severity.L'\n",
       "6. 'WHO_temp_severity.Q'\n",
       "7. 'WHO_temp_severity.C'\n",
       "8. 'sexM'\n",
       "9. 'ethnicityblack'\n",
       "10. 'ethnicityother'\n",
       "11. 'ethnicitywhite'\n",
       "12. 'age_scaled'\n",
       "13. 'centreNCL'\n",
       "14. 'Chisq_WHO_temp_severity'\n",
       "15. 'Chisq_sex'\n",
       "16. 'Chisq_ethnicity'\n",
       "17. 'Chisq_age_scaled'\n",
       "18. 'Chisq_centre'\n",
       "19. 'P_WHO_temp_severity'\n",
       "20. 'P_sex'\n",
       "21. 'P_ethnicity'\n",
       "22. 'P_age_scaled'\n",
       "23. 'P_centre'\n",
       "24. 'q_WHO_temp_severity'\n",
       "25. 'q_sex'\n",
       "26. 'q_ethnicity'\n",
       "27. 'q_age_scaled'\n",
       "28. 'q_centre'\n",
       "\n",
       "\n"
      ],
      "text/plain": [
       " [1] \"Dispersion\"              \"AIC\"                    \n",
       " [3] \"logLik\"                  \"(Intercept)\"            \n",
       " [5] \"WHO_temp_severity.L\"     \"WHO_temp_severity.Q\"    \n",
       " [7] \"WHO_temp_severity.C\"     \"sexM\"                   \n",
       " [9] \"ethnicityblack\"          \"ethnicityother\"         \n",
       "[11] \"ethnicitywhite\"          \"age_scaled\"             \n",
       "[13] \"centreNCL\"               \"Chisq_WHO_temp_severity\"\n",
       "[15] \"Chisq_sex\"               \"Chisq_ethnicity\"        \n",
       "[17] \"Chisq_age_scaled\"        \"Chisq_centre\"           \n",
       "[19] \"P_WHO_temp_severity\"     \"P_sex\"                  \n",
       "[21] \"P_ethnicity\"             \"P_age_scaled\"           \n",
       "[23] \"P_centre\"                \"q_WHO_temp_severity\"    \n",
       "[25] \"q_sex\"                   \"q_ethnicity\"            \n",
       "[27] \"q_age_scaled\"            \"q_centre\"               "
      ]
     },
     "metadata": {},
     "output_type": "display_data"
    }
   ],
   "source": [
    "colnames(res1@stats)"
   ]
  },
  {
   "cell_type": "code",
   "execution_count": 53,
   "id": "47d3fde5",
   "metadata": {},
   "outputs": [
    {
     "data": {
      "text/plain": [
       "Generalized linear mixed model fit by maximum likelihood (Laplace\n",
       "  Approximation) [glmerMod]\n",
       " Family: Negative Binomial(29.248)  ( log )\n",
       "Formula: \n",
       "count ~ splines::bs(days_to_sampling, degree = 2) + grouped_severity +  \n",
       "    sex + ethnicity + age_scaled + centre + (1 | individual_id) +  \n",
       "    splines::bs(days_to_sampling, degree = 2):grouped_severity\n",
       "   Data: data\n",
       " Offset: offset\n",
       "Control: control\n",
       "\n",
       "     AIC      BIC   logLik deviance df.resid \n",
       "   190.5    208.6    -81.2    162.5       13 \n",
       "\n",
       "Scaled residuals: \n",
       "     Min       1Q   Median       3Q      Max \n",
       "-1.79119 -0.73883 -0.07322  0.60667  2.46539 \n",
       "\n",
       "Random effects:\n",
       " Groups        Name        Variance Std.Dev.\n",
       " individual_id (Intercept) 0.6931   0.8325  \n",
       "Number of obs: 27, groups:  individual_id, 19\n",
       "\n",
       "Fixed effects:\n",
       "                                                                           Estimate\n",
       "(Intercept)                                                                -2.42417\n",
       "splines::bs(days_to_sampling, degree = 2)1                                  2.92558\n",
       "splines::bs(days_to_sampling, degree = 2)2                                  3.35529\n",
       "grouped_severitysevere_critical                                            -3.29374\n",
       "sexM                                                                        0.24754\n",
       "ethnicityblack                                                              1.82825\n",
       "ethnicityother                                                              0.04565\n",
       "ethnicitywhite                                                              1.60032\n",
       "age_scaled                                                                 -0.66630\n",
       "centreNCL                                                                   1.25163\n",
       "splines::bs(days_to_sampling, degree = 2)1:grouped_severitysevere_critical  7.55772\n",
       "splines::bs(days_to_sampling, degree = 2)2:grouped_severitysevere_critical -1.77206\n",
       "                                                                           Std. Error\n",
       "(Intercept)                                                                   1.76663\n",
       "splines::bs(days_to_sampling, degree = 2)1                                    2.67661\n",
       "splines::bs(days_to_sampling, degree = 2)2                                    1.90616\n",
       "grouped_severitysevere_critical                                               1.61080\n",
       "sexM                                                                          0.89129\n",
       "ethnicityblack                                                                1.33538\n",
       "ethnicityother                                                                1.48902\n",
       "ethnicitywhite                                                                0.82185\n",
       "age_scaled                                                                    0.37762\n",
       "centreNCL                                                                     0.70108\n",
       "splines::bs(days_to_sampling, degree = 2)1:grouped_severitysevere_critical    3.05772\n",
       "splines::bs(days_to_sampling, degree = 2)2:grouped_severitysevere_critical    2.07786\n",
       "                                                                           z value\n",
       "(Intercept)                                                                 -1.372\n",
       "splines::bs(days_to_sampling, degree = 2)1                                   1.093\n",
       "splines::bs(days_to_sampling, degree = 2)2                                   1.760\n",
       "grouped_severitysevere_critical                                             -2.045\n",
       "sexM                                                                         0.278\n",
       "ethnicityblack                                                               1.369\n",
       "ethnicityother                                                               0.031\n",
       "ethnicitywhite                                                               1.947\n",
       "age_scaled                                                                  -1.764\n",
       "centreNCL                                                                    1.785\n",
       "splines::bs(days_to_sampling, degree = 2)1:grouped_severitysevere_critical   2.472\n",
       "splines::bs(days_to_sampling, degree = 2)2:grouped_severitysevere_critical  -0.853\n",
       "                                                                           Pr(>|z|)\n",
       "(Intercept)                                                                  0.1700\n",
       "splines::bs(days_to_sampling, degree = 2)1                                   0.2744\n",
       "splines::bs(days_to_sampling, degree = 2)2                                   0.0784\n",
       "grouped_severitysevere_critical                                              0.0409\n",
       "sexM                                                                         0.7812\n",
       "ethnicityblack                                                               0.1710\n",
       "ethnicityother                                                               0.9755\n",
       "ethnicitywhite                                                               0.0515\n",
       "age_scaled                                                                   0.0777\n",
       "centreNCL                                                                    0.0742\n",
       "splines::bs(days_to_sampling, degree = 2)1:grouped_severitysevere_critical   0.0134\n",
       "splines::bs(days_to_sampling, degree = 2)2:grouped_severitysevere_critical   0.3938\n",
       "                                                                            \n",
       "(Intercept)                                                                 \n",
       "splines::bs(days_to_sampling, degree = 2)1                                  \n",
       "splines::bs(days_to_sampling, degree = 2)2                                 .\n",
       "grouped_severitysevere_critical                                            *\n",
       "sexM                                                                        \n",
       "ethnicityblack                                                              \n",
       "ethnicityother                                                              \n",
       "ethnicitywhite                                                             .\n",
       "age_scaled                                                                 .\n",
       "centreNCL                                                                  .\n",
       "splines::bs(days_to_sampling, degree = 2)1:grouped_severitysevere_critical *\n",
       "splines::bs(days_to_sampling, degree = 2)2:grouped_severitysevere_critical  \n",
       "---\n",
       "Signif. codes:  0 ‘***’ 0.001 ‘**’ 0.01 ‘*’ 0.05 ‘.’ 0.1 ‘ ’ 1\n",
       "\n",
       "Correlation of Fixed Effects:\n",
       "              (Intr) sp::(__,d=2)1 sp::(__,d=2)2 grpd__ sexM   ethnctyb\n",
       "sp::(__,d=2)1 -0.876                                                   \n",
       "sp::(__,d=2)2 -0.893  0.946                                            \n",
       "grpd_svrty_   -0.696  0.763         0.759                              \n",
       "sexM          -0.464  0.226         0.278         0.017                \n",
       "ethnctyblck   -0.343  0.277         0.272         0.227 -0.120         \n",
       "ethnictythr    0.268 -0.405        -0.390        -0.203 -0.358  0.094  \n",
       "ethnictywht   -0.621  0.721         0.727         0.550  0.042  0.247  \n",
       "age_scaled     0.593 -0.615        -0.613        -0.569  0.152 -0.504  \n",
       "centreNCL      0.154 -0.431        -0.445        -0.295 -0.198  0.240  \n",
       "s::(__,d=2)1:  0.755 -0.871        -0.825        -0.914 -0.198 -0.243  \n",
       "s::(__,d=2)2:  0.819 -0.878        -0.928        -0.835 -0.260 -0.258  \n",
       "              ethnctyt ethnctyw ag_scl cntNCL s::(__,d=2)1:\n",
       "sp::(__,d=2)1                                              \n",
       "sp::(__,d=2)2                                              \n",
       "grpd_svrty_                                                \n",
       "sexM                                                       \n",
       "ethnctyblck                                                \n",
       "ethnictythr                                                \n",
       "ethnictywht   -0.247                                       \n",
       "age_scaled     0.054   -0.398                              \n",
       "centreNCL      0.501   -0.450    0.013                     \n",
       "s::(__,d=2)1:  0.362   -0.621    0.534  0.396              \n",
       "s::(__,d=2)2:  0.375   -0.673    0.565  0.442  0.855       "
      ]
     },
     "metadata": {},
     "output_type": "display_data"
    }
   ],
   "source": [
    "summaryfit <- summary(fit)\n",
    "summaryfit"
   ]
  },
  {
   "cell_type": "code",
   "execution_count": 56,
   "id": "3a5b518c",
   "metadata": {},
   "outputs": [
    {
     "data": {
      "text/html": [
       "<table class=\"dataframe\">\n",
       "<caption>A matrix: 12 × 4 of type dbl</caption>\n",
       "<thead>\n",
       "\t<tr><th></th><th scope=col>Estimate</th><th scope=col>Std. Error</th><th scope=col>z value</th><th scope=col>Pr(&gt;|z|)</th></tr>\n",
       "</thead>\n",
       "<tbody>\n",
       "\t<tr><th scope=row>(Intercept)</th><td>-2.42416692</td><td>1.7666255</td><td>-1.3722020</td><td>0.17000058</td></tr>\n",
       "\t<tr><th scope=row>splines::bs(days_to_sampling, degree = 2)1</th><td> 2.92557616</td><td>2.6766122</td><td> 1.0930146</td><td>0.27438740</td></tr>\n",
       "\t<tr><th scope=row>splines::bs(days_to_sampling, degree = 2)2</th><td> 3.35528689</td><td>1.9061574</td><td> 1.7602360</td><td>0.07836780</td></tr>\n",
       "\t<tr><th scope=row>grouped_severitysevere_critical</th><td>-3.29374450</td><td>1.6107963</td><td>-2.0447927</td><td>0.04087530</td></tr>\n",
       "\t<tr><th scope=row>sexM</th><td> 0.24754455</td><td>0.8912889</td><td> 0.2777377</td><td>0.78121370</td></tr>\n",
       "\t<tr><th scope=row>ethnicityblack</th><td> 1.82824790</td><td>1.3353814</td><td> 1.3690830</td><td>0.17097334</td></tr>\n",
       "\t<tr><th scope=row>ethnicityother</th><td> 0.04564763</td><td>1.4890182</td><td> 0.0306562</td><td>0.97554373</td></tr>\n",
       "\t<tr><th scope=row>ethnicitywhite</th><td> 1.60031861</td><td>0.8218516</td><td> 1.9472111</td><td>0.05150943</td></tr>\n",
       "\t<tr><th scope=row>age_scaled</th><td>-0.66630195</td><td>0.3776211</td><td>-1.7644721</td><td>0.07765253</td></tr>\n",
       "\t<tr><th scope=row>centreNCL</th><td> 1.25163427</td><td>0.7010777</td><td> 1.7853003</td><td>0.07421263</td></tr>\n",
       "\t<tr><th scope=row>splines::bs(days_to_sampling, degree = 2)1:grouped_severitysevere_critical</th><td> 7.55771952</td><td>3.0577197</td><td> 2.4716849</td><td>0.01344780</td></tr>\n",
       "\t<tr><th scope=row>splines::bs(days_to_sampling, degree = 2)2:grouped_severitysevere_critical</th><td>-1.77206058</td><td>2.0778640</td><td>-0.8528280</td><td>0.39375469</td></tr>\n",
       "</tbody>\n",
       "</table>\n"
      ],
      "text/latex": [
       "A matrix: 12 × 4 of type dbl\n",
       "\\begin{tabular}{r|llll}\n",
       "  & Estimate & Std. Error & z value & Pr(>\\textbar{}z\\textbar{})\\\\\n",
       "\\hline\n",
       "\t(Intercept) & -2.42416692 & 1.7666255 & -1.3722020 & 0.17000058\\\\\n",
       "\tsplines::bs(days\\_to\\_sampling, degree = 2)1 &  2.92557616 & 2.6766122 &  1.0930146 & 0.27438740\\\\\n",
       "\tsplines::bs(days\\_to\\_sampling, degree = 2)2 &  3.35528689 & 1.9061574 &  1.7602360 & 0.07836780\\\\\n",
       "\tgrouped\\_severitysevere\\_critical & -3.29374450 & 1.6107963 & -2.0447927 & 0.04087530\\\\\n",
       "\tsexM &  0.24754455 & 0.8912889 &  0.2777377 & 0.78121370\\\\\n",
       "\tethnicityblack &  1.82824790 & 1.3353814 &  1.3690830 & 0.17097334\\\\\n",
       "\tethnicityother &  0.04564763 & 1.4890182 &  0.0306562 & 0.97554373\\\\\n",
       "\tethnicitywhite &  1.60031861 & 0.8218516 &  1.9472111 & 0.05150943\\\\\n",
       "\tage\\_scaled & -0.66630195 & 0.3776211 & -1.7644721 & 0.07765253\\\\\n",
       "\tcentreNCL &  1.25163427 & 0.7010777 &  1.7853003 & 0.07421263\\\\\n",
       "\tsplines::bs(days\\_to\\_sampling, degree = 2)1:grouped\\_severitysevere\\_critical &  7.55771952 & 3.0577197 &  2.4716849 & 0.01344780\\\\\n",
       "\tsplines::bs(days\\_to\\_sampling, degree = 2)2:grouped\\_severitysevere\\_critical & -1.77206058 & 2.0778640 & -0.8528280 & 0.39375469\\\\\n",
       "\\end{tabular}\n"
      ],
      "text/markdown": [
       "\n",
       "A matrix: 12 × 4 of type dbl\n",
       "\n",
       "| <!--/--> | Estimate | Std. Error | z value | Pr(&gt;|z|) |\n",
       "|---|---|---|---|---|\n",
       "| (Intercept) | -2.42416692 | 1.7666255 | -1.3722020 | 0.17000058 |\n",
       "| splines::bs(days_to_sampling, degree = 2)1 |  2.92557616 | 2.6766122 |  1.0930146 | 0.27438740 |\n",
       "| splines::bs(days_to_sampling, degree = 2)2 |  3.35528689 | 1.9061574 |  1.7602360 | 0.07836780 |\n",
       "| grouped_severitysevere_critical | -3.29374450 | 1.6107963 | -2.0447927 | 0.04087530 |\n",
       "| sexM |  0.24754455 | 0.8912889 |  0.2777377 | 0.78121370 |\n",
       "| ethnicityblack |  1.82824790 | 1.3353814 |  1.3690830 | 0.17097334 |\n",
       "| ethnicityother |  0.04564763 | 1.4890182 |  0.0306562 | 0.97554373 |\n",
       "| ethnicitywhite |  1.60031861 | 0.8218516 |  1.9472111 | 0.05150943 |\n",
       "| age_scaled | -0.66630195 | 0.3776211 | -1.7644721 | 0.07765253 |\n",
       "| centreNCL |  1.25163427 | 0.7010777 |  1.7853003 | 0.07421263 |\n",
       "| splines::bs(days_to_sampling, degree = 2)1:grouped_severitysevere_critical |  7.55771952 | 3.0577197 |  2.4716849 | 0.01344780 |\n",
       "| splines::bs(days_to_sampling, degree = 2)2:grouped_severitysevere_critical | -1.77206058 | 2.0778640 | -0.8528280 | 0.39375469 |\n",
       "\n"
      ],
      "text/plain": [
       "                                                                           Estimate   \n",
       "(Intercept)                                                                -2.42416692\n",
       "splines::bs(days_to_sampling, degree = 2)1                                  2.92557616\n",
       "splines::bs(days_to_sampling, degree = 2)2                                  3.35528689\n",
       "grouped_severitysevere_critical                                            -3.29374450\n",
       "sexM                                                                        0.24754455\n",
       "ethnicityblack                                                              1.82824790\n",
       "ethnicityother                                                              0.04564763\n",
       "ethnicitywhite                                                              1.60031861\n",
       "age_scaled                                                                 -0.66630195\n",
       "centreNCL                                                                   1.25163427\n",
       "splines::bs(days_to_sampling, degree = 2)1:grouped_severitysevere_critical  7.55771952\n",
       "splines::bs(days_to_sampling, degree = 2)2:grouped_severitysevere_critical -1.77206058\n",
       "                                                                           Std. Error\n",
       "(Intercept)                                                                1.7666255 \n",
       "splines::bs(days_to_sampling, degree = 2)1                                 2.6766122 \n",
       "splines::bs(days_to_sampling, degree = 2)2                                 1.9061574 \n",
       "grouped_severitysevere_critical                                            1.6107963 \n",
       "sexM                                                                       0.8912889 \n",
       "ethnicityblack                                                             1.3353814 \n",
       "ethnicityother                                                             1.4890182 \n",
       "ethnicitywhite                                                             0.8218516 \n",
       "age_scaled                                                                 0.3776211 \n",
       "centreNCL                                                                  0.7010777 \n",
       "splines::bs(days_to_sampling, degree = 2)1:grouped_severitysevere_critical 3.0577197 \n",
       "splines::bs(days_to_sampling, degree = 2)2:grouped_severitysevere_critical 2.0778640 \n",
       "                                                                           z value   \n",
       "(Intercept)                                                                -1.3722020\n",
       "splines::bs(days_to_sampling, degree = 2)1                                  1.0930146\n",
       "splines::bs(days_to_sampling, degree = 2)2                                  1.7602360\n",
       "grouped_severitysevere_critical                                            -2.0447927\n",
       "sexM                                                                        0.2777377\n",
       "ethnicityblack                                                              1.3690830\n",
       "ethnicityother                                                              0.0306562\n",
       "ethnicitywhite                                                              1.9472111\n",
       "age_scaled                                                                 -1.7644721\n",
       "centreNCL                                                                   1.7853003\n",
       "splines::bs(days_to_sampling, degree = 2)1:grouped_severitysevere_critical  2.4716849\n",
       "splines::bs(days_to_sampling, degree = 2)2:grouped_severitysevere_critical -0.8528280\n",
       "                                                                           Pr(>|z|)  \n",
       "(Intercept)                                                                0.17000058\n",
       "splines::bs(days_to_sampling, degree = 2)1                                 0.27438740\n",
       "splines::bs(days_to_sampling, degree = 2)2                                 0.07836780\n",
       "grouped_severitysevere_critical                                            0.04087530\n",
       "sexM                                                                       0.78121370\n",
       "ethnicityblack                                                             0.17097334\n",
       "ethnicityother                                                             0.97554373\n",
       "ethnicitywhite                                                             0.05150943\n",
       "age_scaled                                                                 0.07765253\n",
       "centreNCL                                                                  0.07421263\n",
       "splines::bs(days_to_sampling, degree = 2)1:grouped_severitysevere_critical 0.01344780\n",
       "splines::bs(days_to_sampling, degree = 2)2:grouped_severitysevere_critical 0.39375469"
      ]
     },
     "metadata": {},
     "output_type": "display_data"
    }
   ],
   "source": [
    "summaryfit$coefficients"
   ]
  },
  {
   "cell_type": "code",
   "execution_count": 64,
   "id": "e2577473",
   "metadata": {},
   "outputs": [
    {
     "data": {
      "text/html": [
       "<style>\n",
       ".dl-inline {width: auto; margin:0; padding: 0}\n",
       ".dl-inline>dt, .dl-inline>dd {float: none; width: auto; display: inline-block}\n",
       ".dl-inline>dt::after {content: \":\\0020\"; padding-right: .5ex}\n",
       ".dl-inline>dt:not(:first-of-type) {padding-left: .5ex}\n",
       "</style><dl class=dl-inline><dt>P_(Intercept)</dt><dd>0.17000057612795</dd><dt>P_splines::bs(days_to_sampling, degree = 2)1</dt><dd>0.274387400446706</dd><dt>P_splines::bs(days_to_sampling, degree = 2)2</dt><dd>0.0783677977309944</dd><dt>P_grouped_severitysevere_critical</dt><dd>0.0408752992911562</dd><dt>P_sexM</dt><dd>0.781213701780994</dd><dt>P_ethnicityblack</dt><dd>0.170973337471109</dd><dt>P_ethnicityother</dt><dd>0.975543725483533</dd><dt>P_ethnicitywhite</dt><dd>0.0515094333381885</dd><dt>P_age_scaled</dt><dd>0.0776525271456502</dd><dt>P_centreNCL</dt><dd>0.0742126267310445</dd><dt>P_splines::bs(days_to_sampling, degree = 2)1:grouped_severitysevere_critical</dt><dd>0.0134477994538773</dd><dt>P_splines::bs(days_to_sampling, degree = 2)2:grouped_severitysevere_critical</dt><dd>0.393754690900731</dd></dl>\n"
      ],
      "text/latex": [
       "\\begin{description*}\n",
       "\\item[P\\textbackslash{}\\_(Intercept)] 0.17000057612795\n",
       "\\item[P\\textbackslash{}\\_splines::bs(days\\textbackslash{}\\_to\\textbackslash{}\\_sampling, degree = 2)1] 0.274387400446706\n",
       "\\item[P\\textbackslash{}\\_splines::bs(days\\textbackslash{}\\_to\\textbackslash{}\\_sampling, degree = 2)2] 0.0783677977309944\n",
       "\\item[P\\textbackslash{}\\_grouped\\textbackslash{}\\_severitysevere\\textbackslash{}\\_critical] 0.0408752992911562\n",
       "\\item[P\\textbackslash{}\\_sexM] 0.781213701780994\n",
       "\\item[P\\textbackslash{}\\_ethnicityblack] 0.170973337471109\n",
       "\\item[P\\textbackslash{}\\_ethnicityother] 0.975543725483533\n",
       "\\item[P\\textbackslash{}\\_ethnicitywhite] 0.0515094333381885\n",
       "\\item[P\\textbackslash{}\\_age\\textbackslash{}\\_scaled] 0.0776525271456502\n",
       "\\item[P\\textbackslash{}\\_centreNCL] 0.0742126267310445\n",
       "\\item[P\\textbackslash{}\\_splines::bs(days\\textbackslash{}\\_to\\textbackslash{}\\_sampling, degree = 2)1:grouped\\textbackslash{}\\_severitysevere\\textbackslash{}\\_critical] 0.0134477994538773\n",
       "\\item[P\\textbackslash{}\\_splines::bs(days\\textbackslash{}\\_to\\textbackslash{}\\_sampling, degree = 2)2:grouped\\textbackslash{}\\_severitysevere\\textbackslash{}\\_critical] 0.393754690900731\n",
       "\\end{description*}\n"
      ],
      "text/markdown": [
       "P_(Intercept)\n",
       ":   0.17000057612795P_splines::bs(days_to_sampling, degree = 2)1\n",
       ":   0.274387400446706P_splines::bs(days_to_sampling, degree = 2)2\n",
       ":   0.0783677977309944P_grouped_severitysevere_critical\n",
       ":   0.0408752992911562P_sexM\n",
       ":   0.781213701780994P_ethnicityblack\n",
       ":   0.170973337471109P_ethnicityother\n",
       ":   0.975543725483533P_ethnicitywhite\n",
       ":   0.0515094333381885P_age_scaled\n",
       ":   0.0776525271456502P_centreNCL\n",
       ":   0.0742126267310445P_splines::bs(days_to_sampling, degree = 2)1:grouped_severitysevere_critical\n",
       ":   0.0134477994538773P_splines::bs(days_to_sampling, degree = 2)2:grouped_severitysevere_critical\n",
       ":   0.393754690900731\n",
       "\n"
      ],
      "text/plain": [
       "                                                               P_(Intercept) \n",
       "                                                                  0.17000058 \n",
       "                                P_splines::bs(days_to_sampling, degree = 2)1 \n",
       "                                                                  0.27438740 \n",
       "                                P_splines::bs(days_to_sampling, degree = 2)2 \n",
       "                                                                  0.07836780 \n",
       "                                           P_grouped_severitysevere_critical \n",
       "                                                                  0.04087530 \n",
       "                                                                      P_sexM \n",
       "                                                                  0.78121370 \n",
       "                                                            P_ethnicityblack \n",
       "                                                                  0.17097334 \n",
       "                                                            P_ethnicityother \n",
       "                                                                  0.97554373 \n",
       "                                                            P_ethnicitywhite \n",
       "                                                                  0.05150943 \n",
       "                                                                P_age_scaled \n",
       "                                                                  0.07765253 \n",
       "                                                                 P_centreNCL \n",
       "                                                                  0.07421263 \n",
       "P_splines::bs(days_to_sampling, degree = 2)1:grouped_severitysevere_critical \n",
       "                                                                  0.01344780 \n",
       "P_splines::bs(days_to_sampling, degree = 2)2:grouped_severitysevere_critical \n",
       "                                                                  0.39375469 "
      ]
     },
     "metadata": {},
     "output_type": "display_data"
    }
   ],
   "source": [
    "test <- setNames(c(summaryfit$coefficients[, \"Pr(>|z|)\"]), c(paste0(\"P_\", rownames(summaryfit$coefficients))))\n",
    "test"
   ]
  },
  {
   "cell_type": "code",
   "execution_count": 62,
   "id": "dbb793a1",
   "metadata": {},
   "outputs": [
    {
     "data": {
      "text/html": [
       "<style>\n",
       ".dl-inline {width: auto; margin:0; padding: 0}\n",
       ".dl-inline>dt, .dl-inline>dd {float: none; width: auto; display: inline-block}\n",
       ".dl-inline>dt::after {content: \":\\0020\"; padding-right: .5ex}\n",
       ".dl-inline>dt:not(:first-of-type) {padding-left: .5ex}\n",
       "</style><dl class=dl-inline><dt>P_(Intercept)</dt><dd>0.17000057612795</dd><dt>P_splines::bs(days_to_sampling, degree = 2)1</dt><dd>0.274387400446706</dd><dt>P_splines::bs(days_to_sampling, degree = 2)2</dt><dd>0.0783677977309944</dd><dt>P_grouped_severitysevere_critical</dt><dd>0.0408752992911562</dd><dt>P_sexM</dt><dd>0.781213701780994</dd><dt>P_ethnicityblack</dt><dd>0.170973337471109</dd><dt>P_ethnicityother</dt><dd>0.975543725483533</dd><dt>P_ethnicitywhite</dt><dd>0.0515094333381885</dd><dt>P_age_scaled</dt><dd>0.0776525271456502</dd><dt>P_centreNCL</dt><dd>0.0742126267310445</dd><dt>P_splines::bs(days_to_sampling, degree = 2)1:grouped_severitysevere_critical</dt><dd>0.0134477994538773</dd><dt>P_splines::bs(days_to_sampling, degree = 2)2:grouped_severitysevere_critical</dt><dd>0.393754690900731</dd></dl>\n"
      ],
      "text/latex": [
       "\\begin{description*}\n",
       "\\item[P\\textbackslash{}\\_(Intercept)] 0.17000057612795\n",
       "\\item[P\\textbackslash{}\\_splines::bs(days\\textbackslash{}\\_to\\textbackslash{}\\_sampling, degree = 2)1] 0.274387400446706\n",
       "\\item[P\\textbackslash{}\\_splines::bs(days\\textbackslash{}\\_to\\textbackslash{}\\_sampling, degree = 2)2] 0.0783677977309944\n",
       "\\item[P\\textbackslash{}\\_grouped\\textbackslash{}\\_severitysevere\\textbackslash{}\\_critical] 0.0408752992911562\n",
       "\\item[P\\textbackslash{}\\_sexM] 0.781213701780994\n",
       "\\item[P\\textbackslash{}\\_ethnicityblack] 0.170973337471109\n",
       "\\item[P\\textbackslash{}\\_ethnicityother] 0.975543725483533\n",
       "\\item[P\\textbackslash{}\\_ethnicitywhite] 0.0515094333381885\n",
       "\\item[P\\textbackslash{}\\_age\\textbackslash{}\\_scaled] 0.0776525271456502\n",
       "\\item[P\\textbackslash{}\\_centreNCL] 0.0742126267310445\n",
       "\\item[P\\textbackslash{}\\_splines::bs(days\\textbackslash{}\\_to\\textbackslash{}\\_sampling, degree = 2)1:grouped\\textbackslash{}\\_severitysevere\\textbackslash{}\\_critical] 0.0134477994538773\n",
       "\\item[P\\textbackslash{}\\_splines::bs(days\\textbackslash{}\\_to\\textbackslash{}\\_sampling, degree = 2)2:grouped\\textbackslash{}\\_severitysevere\\textbackslash{}\\_critical] 0.393754690900731\n",
       "\\end{description*}\n"
      ],
      "text/markdown": [
       "P_(Intercept)\n",
       ":   0.17000057612795P_splines::bs(days_to_sampling, degree = 2)1\n",
       ":   0.274387400446706P_splines::bs(days_to_sampling, degree = 2)2\n",
       ":   0.0783677977309944P_grouped_severitysevere_critical\n",
       ":   0.0408752992911562P_sexM\n",
       ":   0.781213701780994P_ethnicityblack\n",
       ":   0.170973337471109P_ethnicityother\n",
       ":   0.975543725483533P_ethnicitywhite\n",
       ":   0.0515094333381885P_age_scaled\n",
       ":   0.0776525271456502P_centreNCL\n",
       ":   0.0742126267310445P_splines::bs(days_to_sampling, degree = 2)1:grouped_severitysevere_critical\n",
       ":   0.0134477994538773P_splines::bs(days_to_sampling, degree = 2)2:grouped_severitysevere_critical\n",
       ":   0.393754690900731\n",
       "\n"
      ],
      "text/plain": [
       "                                                               P_(Intercept) \n",
       "                                                                  0.17000058 \n",
       "                                P_splines::bs(days_to_sampling, degree = 2)1 \n",
       "                                                                  0.27438740 \n",
       "                                P_splines::bs(days_to_sampling, degree = 2)2 \n",
       "                                                                  0.07836780 \n",
       "                                           P_grouped_severitysevere_critical \n",
       "                                                                  0.04087530 \n",
       "                                                                      P_sexM \n",
       "                                                                  0.78121370 \n",
       "                                                            P_ethnicityblack \n",
       "                                                                  0.17097334 \n",
       "                                                            P_ethnicityother \n",
       "                                                                  0.97554373 \n",
       "                                                            P_ethnicitywhite \n",
       "                                                                  0.05150943 \n",
       "                                                                P_age_scaled \n",
       "                                                                  0.07765253 \n",
       "                                                                 P_centreNCL \n",
       "                                                                  0.07421263 \n",
       "P_splines::bs(days_to_sampling, degree = 2)1:grouped_severitysevere_critical \n",
       "                                                                  0.01344780 \n",
       "P_splines::bs(days_to_sampling, degree = 2)2:grouped_severitysevere_critical \n",
       "                                                                  0.39375469 "
      ]
     },
     "metadata": {},
     "output_type": "display_data"
    }
   ],
   "source": [
    "test"
   ]
  },
  {
   "cell_type": "code",
   "execution_count": 10,
   "id": "4cd8acc0",
   "metadata": {},
   "outputs": [],
   "source": [
    "# save.image('for_jack.RData')"
   ]
  },
  {
   "cell_type": "code",
   "execution_count": 12,
   "id": "360cfcea",
   "metadata": {},
   "outputs": [],
   "source": [
    "library(emmeans)"
   ]
  },
  {
   "cell_type": "code",
   "execution_count": 13,
   "id": "d8d893b4",
   "metadata": {},
   "outputs": [
    {
     "data": {
      "image/png": "[encoded data removed]",
      "text/plain": [
       "plot without title"
      ]
     },
     "metadata": {
      "image/png": {
       "height": 420,
       "width": 420
      }
     },
     "output_type": "display_data"
    },
    {
     "data": {
      "image/png": "[encoded data removed]",
      "text/plain": [
       "plot without title"
      ]
     },
     "metadata": {
      "image/png": {
       "height": 420,
       "width": 420
      }
     },
     "output_type": "display_data"
    },
    {
     "data": {
      "image/png": "[encoded data removed]",
      "text/plain": [
       "plot without title"
      ]
     },
     "metadata": {
      "image/png": {
       "height": 420,
       "width": 420
      }
     },
     "output_type": "display_data"
    }
   ],
   "source": [
    "x = emmeans(fit, ~ days_to_sampling | grouped_severity, at = list(days_to_sampling = 0:21))\n",
    "\n",
    "library(ggplot2)\n",
    "library(ggpubr)\n",
    "\n",
    "theme_set(theme_pubr())\n",
    "\n",
    "ggplot(data.frame(x), aes(days_to_sampling, emmean, group = grouped_severity, fill = grouped_severity)) +\n",
    "    geom_line(aes(colour = grouped_severity), size = 1.7) +\n",
    "    geom_ribbon(aes(ymin = asymp.LCL, ymax = asymp.UCL), alpha = 0.055) +\n",
    "    scale_color_manual(values = c(\"#2C7BB6\", \"#D7191C\")) +\n",
    "    scale_fill_manual(values = c(\"#2C7BB6\", \"#D7191C\"))\n",
    "\n",
    "ggplot(data, aes(days_to_sampling, count, col = grouped_severity)) +\n",
    "    geom_point(alpha = 0.7, size = 0.7) +\n",
    "    geom_line(aes(group = individual_id), alpha = 0.7, size = 0.8) +\n",
    "    scale_color_manual(values = c(\"#2C7BB6\", \"#D7191C\")) +\n",
    "    facet_wrap(~grouped_severity) +\n",
    "    theme(strip.background = element_blank(), strip.text.x = element_blank(), strip.text.y = element_blank())\n",
    "\n",
    "ggplot(data, aes(days_to_sampling, log(count), col = grouped_severity)) +\n",
    "    geom_point(alpha = 0.7, size = 0.7) +\n",
    "    geom_line(aes(group = individual_id), alpha = 0.7, size = 0.8) +\n",
    "    scale_color_manual(values = c(\"#2C7BB6\", \"#D7191C\")) +\n",
    "    facet_wrap(~grouped_severity) +\n",
    "    theme(strip.background = element_blank(), strip.text.x = element_blank(), strip.text.y = element_blank())"
   ]
  },
  {
   "cell_type": "code",
   "execution_count": 29,
   "id": "c72479ab",
   "metadata": {},
   "outputs": [
    {
     "data": {
      "text/plain": [
       " int_2 emmean    SE  df asymp.LCL asymp.UCL\n",
       " 0.186   1.47 0.621 Inf      0.25      2.68\n",
       "\n",
       "Results are averaged over the levels of: grouped_severitysevere_critical, sex, ethnicity, centre \n",
       "Results are given on the log (not the response) scale. \n",
       "Confidence level used: 0.95 "
      ]
     },
     "metadata": {},
     "output_type": "display_data"
    }
   ],
   "source": [
    "emmeans(fit, specs = c(\"int_2\"))"
   ]
  },
  {
   "cell_type": "code",
   "execution_count": 32,
   "id": "e1fd73ab",
   "metadata": {},
   "outputs": [
    {
     "data": {
      "text/html": [
       "<style>\n",
       ".dl-inline {width: auto; margin:0; padding: 0}\n",
       ".dl-inline>dt, .dl-inline>dd {float: none; width: auto; display: inline-block}\n",
       ".dl-inline>dt::after {content: \":\\0020\"; padding-right: .5ex}\n",
       ".dl-inline>dt:not(:first-of-type) {padding-left: .5ex}\n",
       "</style><dl class=dl-inline><dt>C101_180121</dt><dd>0.57263692974068</dd><dt>C101_200121</dt><dd>0.477346682606498</dd><dt>C123_2404</dt><dd>0.991554484905522</dd><dt>C123_2904</dt><dd>1.89472147320888</dd><dt>C124_2404</dt><dd>0.632927902905956</dd><dt>C128_0405</dt><dd>2.3875288858604</dd><dt>C128_1105</dt><dd>2.92356441248254</dd><dt>C132_0205</dt><dd>1.30318496006424</dd><dt>C132_1105</dt><dd>2.43897941551787</dd><dt>C138_020221</dt><dd>-0.446689901861109</dd><dt>C141_260121</dt><dd>1.21633647073386</dd><dt>C147_260121</dt><dd>1.34872473171905</dd><dt>C147_280121</dt><dd>1.12423335987265</dd><dt>C170_020221</dt><dd>-2.87820036547759</dd><dt>C187_230121</dt><dd>0.592010748278846</dd><dt>C190_010221</dt><dd>1.07480489547197</dd><dt>C20_1004</dt><dd>2.03977552881119</dd><dt>C20_1404</dt><dd>2.38682650953091</dd><dt>C21_1004</dt><dd>2.89910283402884</dd><dt>C21_1704</dt><dd>4.66526757039273</dd><dt>C21_2504</dt><dd>1.41581279590007</dd><dt>C23_2204</dt><dd>1.781535263495</dd><dt>C33_260121</dt><dd>0.0274549397186398</dd><dt>C36_1504</dt><dd>1.05214346629806</dd><dt>C42_1504</dt><dd>2.80702782515249</dd><dt>C60_2504</dt><dd>1.14101726976728</dd><dt>C65_1704</dt><dd>1.87943470754344</dd></dl>\n"
      ],
      "text/latex": [
       "\\begin{description*}\n",
       "\\item[C101\\textbackslash{}\\_180121] 0.57263692974068\n",
       "\\item[C101\\textbackslash{}\\_200121] 0.477346682606498\n",
       "\\item[C123\\textbackslash{}\\_2404] 0.991554484905522\n",
       "\\item[C123\\textbackslash{}\\_2904] 1.89472147320888\n",
       "\\item[C124\\textbackslash{}\\_2404] 0.632927902905956\n",
       "\\item[C128\\textbackslash{}\\_0405] 2.3875288858604\n",
       "\\item[C128\\textbackslash{}\\_1105] 2.92356441248254\n",
       "\\item[C132\\textbackslash{}\\_0205] 1.30318496006424\n",
       "\\item[C132\\textbackslash{}\\_1105] 2.43897941551787\n",
       "\\item[C138\\textbackslash{}\\_020221] -0.446689901861109\n",
       "\\item[C141\\textbackslash{}\\_260121] 1.21633647073386\n",
       "\\item[C147\\textbackslash{}\\_260121] 1.34872473171905\n",
       "\\item[C147\\textbackslash{}\\_280121] 1.12423335987265\n",
       "\\item[C170\\textbackslash{}\\_020221] -2.87820036547759\n",
       "\\item[C187\\textbackslash{}\\_230121] 0.592010748278846\n",
       "\\item[C190\\textbackslash{}\\_010221] 1.07480489547197\n",
       "\\item[C20\\textbackslash{}\\_1004] 2.03977552881119\n",
       "\\item[C20\\textbackslash{}\\_1404] 2.38682650953091\n",
       "\\item[C21\\textbackslash{}\\_1004] 2.89910283402884\n",
       "\\item[C21\\textbackslash{}\\_1704] 4.66526757039273\n",
       "\\item[C21\\textbackslash{}\\_2504] 1.41581279590007\n",
       "\\item[C23\\textbackslash{}\\_2204] 1.781535263495\n",
       "\\item[C33\\textbackslash{}\\_260121] 0.0274549397186398\n",
       "\\item[C36\\textbackslash{}\\_1504] 1.05214346629806\n",
       "\\item[C42\\textbackslash{}\\_1504] 2.80702782515249\n",
       "\\item[C60\\textbackslash{}\\_2504] 1.14101726976728\n",
       "\\item[C65\\textbackslash{}\\_1704] 1.87943470754344\n",
       "\\end{description*}\n"
      ],
      "text/markdown": [
       "C101_180121\n",
       ":   0.57263692974068C101_200121\n",
       ":   0.477346682606498C123_2404\n",
       ":   0.991554484905522C123_2904\n",
       ":   1.89472147320888C124_2404\n",
       ":   0.632927902905956C128_0405\n",
       ":   2.3875288858604C128_1105\n",
       ":   2.92356441248254C132_0205\n",
       ":   1.30318496006424C132_1105\n",
       ":   2.43897941551787C138_020221\n",
       ":   -0.446689901861109C141_260121\n",
       ":   1.21633647073386C147_260121\n",
       ":   1.34872473171905C147_280121\n",
       ":   1.12423335987265C170_020221\n",
       ":   -2.87820036547759C187_230121\n",
       ":   0.592010748278846C190_010221\n",
       ":   1.07480489547197C20_1004\n",
       ":   2.03977552881119C20_1404\n",
       ":   2.38682650953091C21_1004\n",
       ":   2.89910283402884C21_1704\n",
       ":   4.66526757039273C21_2504\n",
       ":   1.41581279590007C23_2204\n",
       ":   1.781535263495C33_260121\n",
       ":   0.0274549397186398C36_1504\n",
       ":   1.05214346629806C42_1504\n",
       ":   2.80702782515249C60_2504\n",
       ":   1.14101726976728C65_1704\n",
       ":   1.87943470754344\n",
       "\n"
      ],
      "text/plain": [
       "C101_180121 C101_200121   C123_2404   C123_2904   C124_2404   C128_0405 \n",
       " 0.57263693  0.47734668  0.99155448  1.89472147  0.63292790  2.38752889 \n",
       "  C128_1105   C132_0205   C132_1105 C138_020221 C141_260121 C147_260121 \n",
       " 2.92356441  1.30318496  2.43897942 -0.44668990  1.21633647  1.34872473 \n",
       "C147_280121 C170_020221 C187_230121 C190_010221    C20_1004    C20_1404 \n",
       " 1.12423336 -2.87820037  0.59201075  1.07480490  2.03977553  2.38682651 \n",
       "   C21_1004    C21_1704    C21_2504    C23_2204  C33_260121    C36_1504 \n",
       " 2.89910283  4.66526757  1.41581280  1.78153526  0.02745494  1.05214347 \n",
       "   C42_1504    C60_2504    C65_1704 \n",
       " 2.80702783  1.14101727  1.87943471 "
      ]
     },
     "metadata": {},
     "output_type": "display_data"
    }
   ],
   "source": [
    "predict(fit)"
   ]
  },
  {
   "cell_type": "code",
   "execution_count": 190,
   "id": "950a8f56",
   "metadata": {},
   "outputs": [],
   "source": [
    "library(ggeffects)"
   ]
  },
  {
   "cell_type": "code",
   "execution_count": 30,
   "id": "03862a15",
   "metadata": {
    "scrolled": true
   },
   "outputs": [
    {
     "data": {
      "text/html": [
       "<table class=\"dataframe\">\n",
       "<caption>A data.frame: 9 × 7</caption>\n",
       "<thead>\n",
       "\t<tr><th></th><th scope=col>npar</th><th scope=col>Sum.Sq</th><th scope=col>Mean.Sq</th><th scope=col>F.value</th><th scope=col>Chisq</th><th scope=col>Df</th><th scope=col>Pr..Chisq.</th></tr>\n",
       "\t<tr><th></th><th scope=col>&lt;int&gt;</th><th scope=col>&lt;dbl&gt;</th><th scope=col>&lt;dbl&gt;</th><th scope=col>&lt;dbl&gt;</th><th scope=col>&lt;dbl&gt;</th><th scope=col>&lt;dbl&gt;</th><th scope=col>&lt;dbl&gt;</th></tr>\n",
       "</thead>\n",
       "<tbody>\n",
       "\t<tr><th scope=row>time_1</th><td>1</td><td> 3.0676924</td><td> 3.0676924</td><td> 3.0676924</td><td>1.19493671</td><td>1</td><td>0.27433602</td></tr>\n",
       "\t<tr><th scope=row>time_2</th><td>1</td><td> 5.0601928</td><td> 5.0601928</td><td> 5.0601928</td><td>3.09897647</td><td>1</td><td>0.07834153</td></tr>\n",
       "\t<tr><th scope=row>grouped_severitysevere_critical</th><td>1</td><td> 0.5107818</td><td> 0.5107818</td><td> 0.5107818</td><td>4.18196512</td><td>1</td><td>0.04085630</td></tr>\n",
       "\t<tr><th scope=row>int_1</th><td>1</td><td>42.6214238</td><td>42.6214238</td><td>42.6214238</td><td>6.11062526</td><td>1</td><td>0.01343716</td></tr>\n",
       "\t<tr><th scope=row>int_2</th><td>1</td><td> 0.6699020</td><td> 0.6699020</td><td> 0.6699020</td><td>0.72745144</td><td>1</td><td>0.39371052</td></tr>\n",
       "\t<tr><th scope=row>sex</th><td>1</td><td> 0.4699251</td><td> 0.4699251</td><td> 0.4699251</td><td>0.07713939</td><td>1</td><td>0.78121211</td></tr>\n",
       "\t<tr><th scope=row>ethnicity</th><td>3</td><td> 7.5022338</td><td> 2.5007446</td><td> 2.5007446</td><td>4.77909783</td><td>3</td><td>0.18870598</td></tr>\n",
       "\t<tr><th scope=row>age_scaled</th><td>1</td><td> 3.3432012</td><td> 3.3432012</td><td> 3.3432012</td><td>3.11360062</td><td>1</td><td>0.07764114</td></tr>\n",
       "\t<tr><th scope=row>centre</th><td>1</td><td> 3.1882570</td><td> 3.1882570</td><td> 3.1882570</td><td>3.18744628</td><td>1</td><td>0.07420585</td></tr>\n",
       "</tbody>\n",
       "</table>\n"
      ],
      "text/latex": [
       "A data.frame: 9 × 7\n",
       "\\begin{tabular}{r|lllllll}\n",
       "  & npar & Sum.Sq & Mean.Sq & F.value & Chisq & Df & Pr..Chisq.\\\\\n",
       "  & <int> & <dbl> & <dbl> & <dbl> & <dbl> & <dbl> & <dbl>\\\\\n",
       "\\hline\n",
       "\ttime\\_1 & 1 &  3.0676924 &  3.0676924 &  3.0676924 & 1.19493671 & 1 & 0.27433602\\\\\n",
       "\ttime\\_2 & 1 &  5.0601928 &  5.0601928 &  5.0601928 & 3.09897647 & 1 & 0.07834153\\\\\n",
       "\tgrouped\\_severitysevere\\_critical & 1 &  0.5107818 &  0.5107818 &  0.5107818 & 4.18196512 & 1 & 0.04085630\\\\\n",
       "\tint\\_1 & 1 & 42.6214238 & 42.6214238 & 42.6214238 & 6.11062526 & 1 & 0.01343716\\\\\n",
       "\tint\\_2 & 1 &  0.6699020 &  0.6699020 &  0.6699020 & 0.72745144 & 1 & 0.39371052\\\\\n",
       "\tsex & 1 &  0.4699251 &  0.4699251 &  0.4699251 & 0.07713939 & 1 & 0.78121211\\\\\n",
       "\tethnicity & 3 &  7.5022338 &  2.5007446 &  2.5007446 & 4.77909783 & 3 & 0.18870598\\\\\n",
       "\tage\\_scaled & 1 &  3.3432012 &  3.3432012 &  3.3432012 & 3.11360062 & 1 & 0.07764114\\\\\n",
       "\tcentre & 1 &  3.1882570 &  3.1882570 &  3.1882570 & 3.18744628 & 1 & 0.07420585\\\\\n",
       "\\end{tabular}\n"
      ],
      "text/markdown": [
       "\n",
       "A data.frame: 9 × 7\n",
       "\n",
       "| <!--/--> | npar &lt;int&gt; | Sum.Sq &lt;dbl&gt; | Mean.Sq &lt;dbl&gt; | F.value &lt;dbl&gt; | Chisq &lt;dbl&gt; | Df &lt;dbl&gt; | Pr..Chisq. &lt;dbl&gt; |\n",
       "|---|---|---|---|---|---|---|---|\n",
       "| time_1 | 1 |  3.0676924 |  3.0676924 |  3.0676924 | 1.19493671 | 1 | 0.27433602 |\n",
       "| time_2 | 1 |  5.0601928 |  5.0601928 |  5.0601928 | 3.09897647 | 1 | 0.07834153 |\n",
       "| grouped_severitysevere_critical | 1 |  0.5107818 |  0.5107818 |  0.5107818 | 4.18196512 | 1 | 0.04085630 |\n",
       "| int_1 | 1 | 42.6214238 | 42.6214238 | 42.6214238 | 6.11062526 | 1 | 0.01343716 |\n",
       "| int_2 | 1 |  0.6699020 |  0.6699020 |  0.6699020 | 0.72745144 | 1 | 0.39371052 |\n",
       "| sex | 1 |  0.4699251 |  0.4699251 |  0.4699251 | 0.07713939 | 1 | 0.78121211 |\n",
       "| ethnicity | 3 |  7.5022338 |  2.5007446 |  2.5007446 | 4.77909783 | 3 | 0.18870598 |\n",
       "| age_scaled | 1 |  3.3432012 |  3.3432012 |  3.3432012 | 3.11360062 | 1 | 0.07764114 |\n",
       "| centre | 1 |  3.1882570 |  3.1882570 |  3.1882570 | 3.18744628 | 1 | 0.07420585 |\n",
       "\n"
      ],
      "text/plain": [
       "                                npar Sum.Sq     Mean.Sq    F.value   \n",
       "time_1                          1     3.0676924  3.0676924  3.0676924\n",
       "time_2                          1     5.0601928  5.0601928  5.0601928\n",
       "grouped_severitysevere_critical 1     0.5107818  0.5107818  0.5107818\n",
       "int_1                           1    42.6214238 42.6214238 42.6214238\n",
       "int_2                           1     0.6699020  0.6699020  0.6699020\n",
       "sex                             1     0.4699251  0.4699251  0.4699251\n",
       "ethnicity                       3     7.5022338  2.5007446  2.5007446\n",
       "age_scaled                      1     3.3432012  3.3432012  3.3432012\n",
       "centre                          1     3.1882570  3.1882570  3.1882570\n",
       "                                Chisq      Df Pr..Chisq.\n",
       "time_1                          1.19493671 1  0.27433602\n",
       "time_2                          3.09897647 1  0.07834153\n",
       "grouped_severitysevere_critical 4.18196512 1  0.04085630\n",
       "int_1                           6.11062526 1  0.01343716\n",
       "int_2                           0.72745144 1  0.39371052\n",
       "sex                             0.07713939 1  0.78121211\n",
       "ethnicity                       4.77909783 3  0.18870598\n",
       "age_scaled                      3.11360062 1  0.07764114\n",
       "centre                          3.18744628 1  0.07420585"
      ]
     },
     "metadata": {},
     "output_type": "display_data"
    }
   ],
   "source": [
    "longt_anova <- cbind(data.frame(anova(fit)),data.frame(car::Anova(fit)))\n",
    "longt_anova"
   ]
  },
  {
   "cell_type": "code",
   "execution_count": 247,
   "id": "b4fe700d",
   "metadata": {},
   "outputs": [],
   "source": [
    "# reducedVars <- rownames(attr(terms(modelFormula), \"factors\"))\n",
    "reducedVars <- c('grouped_severity', 'sex', 'ethnicity', 'scale(calc_age)','centre')"
   ]
  },
  {
   "cell_type": "code",
   "execution_count": 248,
   "id": "3ef84dba",
   "metadata": {},
   "outputs": [
    {
     "ename": "ERROR",
     "evalue": "Error in `[.data.frame`(metadata, , x): undefined columns selected\n",
     "output_type": "error",
     "traceback": [
      "Error in `[.data.frame`(metadata, , x): undefined columns selected\nTraceback:\n",
      "1. lapply(reducedVars, function(x) {\n .     if (is.factor(metadata[, x])) {\n .         return(levels(metadata[, x]))\n .     }\n .     else {\n .         sort(unique(metadata[, x]))\n .     }\n . })",
      "2. lapply(reducedVars, function(x) {\n .     if (is.factor(metadata[, x])) {\n .         return(levels(metadata[, x]))\n .     }\n .     else {\n .         sort(unique(metadata[, x]))\n .     }\n . })",
      "3. FUN(X[[i]], ...)",
      "4. is.factor(metadata[, x])   # at line 2-4 of file <text>",
      "5. metadata[, x]   # at line 2-4 of file <text>",
      "6. `[.data.frame`(metadata, , x)   # at line 2-4 of file <text>",
      "7. stop(\"undefined columns selected\")"
     ]
    }
   ],
   "source": [
    "varLevels <- lapply(reducedVars, function(x) {\n",
    "      if (is.factor(metadata[, x])) {\n",
    "        return(levels(metadata[, x]))\n",
    "      } else {sort(unique(metadata[, x]))}\n",
    "    })\n",
    "modelData <- expand.grid(varLevels)\n",
    "modelData"
   ]
  },
  {
   "cell_type": "code",
   "execution_count": 23,
   "id": "2c877bf5",
   "metadata": {},
   "outputs": [
    {
     "ename": "ERROR",
     "evalue": "Error in insight::model_info(fit): object 'fit' not found\n",
     "output_type": "error",
     "traceback": [
      "Error in insight::model_info(fit): object 'fit' not found\nTraceback:\n",
      "1. insight::model_info(fit)"
     ]
    }
   ],
   "source": [
    "faminfo <- insight::model_info(fit)"
   ]
  },
  {
   "cell_type": "code",
   "execution_count": 234,
   "id": "6eeaf7c0",
   "metadata": {},
   "outputs": [
    {
     "ename": "ERROR",
     "evalue": "Error in h(simpleError(msg, call)): error in evaluating the argument 'x' in selecting a method for function 'levels': object 'x' not found\n",
     "output_type": "error",
     "traceback": [
      "Error in h(simpleError(msg, call)): error in evaluating the argument 'x' in selecting a method for function 'levels': object 'x' not found\nTraceback:\n",
      "1. levels(designMatrix[, x])",
      "2. .handleSimpleError(function (cond) \n . .Internal(C_tryCatchHelper(addr, 1L, cond)), \"object 'x' not found\", \n .     base::quote(levels(designMatrix[, x])))",
      "3. h(simpleError(msg, call))"
     ]
    }
   ],
   "source": [
    "levels(designMatrix[, x])"
   ]
  },
  {
   "cell_type": "code",
   "execution_count": 24,
   "id": "5d30de9f",
   "metadata": {},
   "outputs": [],
   "source": [
    "# modelData"
   ]
  },
  {
   "cell_type": "code",
   "execution_count": 25,
   "id": "393a0781",
   "metadata": {},
   "outputs": [],
   "source": [
    "# designMatrix"
   ]
  },
  {
   "cell_type": "code",
   "execution_count": 26,
   "id": "6008a5c0",
   "metadata": {},
   "outputs": [
    {
     "ename": "ERROR",
     "evalue": "Error in eval(expr, envir, enclos): object 'fit' not found\n",
     "output_type": "error",
     "traceback": [
      "Error in eval(expr, envir, enclos): object 'fit' not found\nTraceback:\n"
     ]
    }
   ],
   "source": [
    "fit"
   ]
  },
  {
   "cell_type": "code",
   "execution_count": 212,
   "id": "c86b58c0",
   "metadata": {},
   "outputs": [
    {
     "ename": "ERROR",
     "evalue": "Error in `[.data.frame`(md, , needed.vars, drop = FALSE): undefined columns selected\n",
     "output_type": "error",
     "traceback": [
      "Error in `[.data.frame`(md, , needed.vars, drop = FALSE): undefined columns selected\nTraceback:\n",
      "1. ggemmeans(fit)",
      "2. insight::get_data(model)",
      "3. get_data.merMod(model)",
      "4. .prepare_get_data(x, mf, effects, verbose = verbose)",
      "5. md[, needed.vars, drop = FALSE]",
      "6. `[.data.frame`(md, , needed.vars, drop = FALSE)",
      "7. stop(\"undefined columns selected\")"
     ]
    }
   ],
   "source": [
    "predictions <- ggemmeans(fit)"
   ]
  },
  {
   "cell_type": "code",
   "execution_count": 221,
   "id": "f16ef553",
   "metadata": {
    "scrolled": true
   },
   "outputs": [
    {
     "data": {
      "text/html": [
       "<table class=\"dataframe\">\n",
       "<caption>A ggeffects: 35 × 6</caption>\n",
       "<thead>\n",
       "\t<tr><th scope=col>x</th><th scope=col>predicted</th><th scope=col>std.error</th><th scope=col>conf.low</th><th scope=col>conf.high</th><th scope=col>group</th></tr>\n",
       "\t<tr><th scope=col>&lt;dbl&gt;</th><th scope=col>&lt;dbl&gt;</th><th scope=col>&lt;dbl&gt;</th><th scope=col>&lt;dbl&gt;</th><th scope=col>&lt;dbl&gt;</th><th scope=col>&lt;fct&gt;</th></tr>\n",
       "</thead>\n",
       "<tbody>\n",
       "\t<tr><td>  0</td><td>75.07243</td><td>1.0766338</td><td>72.95933</td><td>77.18553</td><td>1</td></tr>\n",
       "\t<tr><td>  5</td><td>73.84301</td><td>1.0240953</td><td>71.83302</td><td>75.85299</td><td>1</td></tr>\n",
       "\t<tr><td> 10</td><td>72.61358</td><td>0.9758897</td><td>70.69821</td><td>74.52895</td><td>1</td></tr>\n",
       "\t<tr><td> 15</td><td>71.38416</td><td>0.9326891</td><td>69.55358</td><td>73.21474</td><td>1</td></tr>\n",
       "\t<tr><td> 20</td><td>70.15474</td><td>0.8952182</td><td>68.39770</td><td>71.91178</td><td>1</td></tr>\n",
       "\t<tr><td> 25</td><td>68.92532</td><td>0.8642228</td><td>67.22911</td><td>70.62152</td><td>1</td></tr>\n",
       "\t<tr><td> 30</td><td>67.69590</td><td>0.8404196</td><td>66.04641</td><td>69.34538</td><td>1</td></tr>\n",
       "\t<tr><td> 35</td><td>66.46647</td><td>0.8244319</td><td>64.84837</td><td>68.08458</td><td>1</td></tr>\n",
       "\t<tr><td> 40</td><td>65.23705</td><td>0.8167186</td><td>63.63408</td><td>66.84002</td><td>1</td></tr>\n",
       "\t<tr><td> 45</td><td>64.00763</td><td>0.8175141</td><td>62.40310</td><td>65.61216</td><td>1</td></tr>\n",
       "\t<tr><td> 50</td><td>62.77821</td><td>0.8267938</td><td>61.15547</td><td>64.40095</td><td>1</td></tr>\n",
       "\t<tr><td> 55</td><td>61.54878</td><td>0.8442780</td><td>59.89173</td><td>63.20584</td><td>1</td></tr>\n",
       "\t<tr><td> 60</td><td>60.31936</td><td>0.8694719</td><td>58.61286</td><td>62.02587</td><td>1</td></tr>\n",
       "\t<tr><td> 65</td><td>59.08994</td><td>0.9017295</td><td>57.32012</td><td>60.85976</td><td>1</td></tr>\n",
       "\t<tr><td> 70</td><td>57.86052</td><td>0.9403240</td><td>56.01495</td><td>59.70608</td><td>1</td></tr>\n",
       "\t<tr><td> 75</td><td>56.63110</td><td>0.9845107</td><td>54.69881</td><td>58.56339</td><td>1</td></tr>\n",
       "\t<tr><td> 80</td><td>55.40167</td><td>1.0335724</td><td>53.37309</td><td>57.43026</td><td>1</td></tr>\n",
       "\t<tr><td> 85</td><td>54.17225</td><td>1.0868492</td><td>52.03910</td><td>56.30540</td><td>1</td></tr>\n",
       "\t<tr><td> 90</td><td>52.94283</td><td>1.1437521</td><td>50.69800</td><td>55.18766</td><td>1</td></tr>\n",
       "\t<tr><td> 95</td><td>51.71341</td><td>1.2037672</td><td>49.35078</td><td>54.07603</td><td>1</td></tr>\n",
       "\t<tr><td>100</td><td>50.48398</td><td>1.2664520</td><td>47.99833</td><td>52.96964</td><td>1</td></tr>\n",
       "\t<tr><td>105</td><td>49.25456</td><td>1.3314295</td><td>46.64138</td><td>51.86775</td><td>1</td></tr>\n",
       "\t<tr><td>110</td><td>48.02514</td><td>1.3983802</td><td>45.28055</td><td>50.76973</td><td>1</td></tr>\n",
       "\t<tr><td>115</td><td>46.79572</td><td>1.4670338</td><td>43.91638</td><td>49.67505</td><td>1</td></tr>\n",
       "\t<tr><td>120</td><td>45.56630</td><td>1.5371623</td><td>42.54932</td><td>48.58327</td><td>1</td></tr>\n",
       "\t<tr><td>125</td><td>44.33687</td><td>1.6085728</td><td>41.17974</td><td>47.49401</td><td>1</td></tr>\n",
       "\t<tr><td>130</td><td>43.10745</td><td>1.6811019</td><td>39.80797</td><td>46.40694</td><td>1</td></tr>\n",
       "\t<tr><td>135</td><td>41.87803</td><td>1.7546109</td><td>38.43427</td><td>45.32179</td><td>1</td></tr>\n",
       "\t<tr><td>140</td><td>40.64861</td><td>1.8289816</td><td>37.05888</td><td>44.23833</td><td>1</td></tr>\n",
       "\t<tr><td>145</td><td>39.41919</td><td>1.9041131</td><td>35.68200</td><td>43.15637</td><td>1</td></tr>\n",
       "\t<tr><td>150</td><td>38.18976</td><td>1.9799188</td><td>34.30379</td><td>42.07573</td><td>1</td></tr>\n",
       "\t<tr><td>155</td><td>36.96034</td><td>2.0563241</td><td>32.92441</td><td>40.99627</td><td>1</td></tr>\n",
       "\t<tr><td>160</td><td>35.73092</td><td>2.1332646</td><td>31.54398</td><td>39.91786</td><td>1</td></tr>\n",
       "\t<tr><td>165</td><td>34.50150</td><td>2.2106844</td><td>30.16261</td><td>38.84039</td><td>1</td></tr>\n",
       "\t<tr><td>170</td><td>33.27207</td><td>2.2885348</td><td>28.78039</td><td>37.76376</td><td>1</td></tr>\n",
       "</tbody>\n",
       "</table>\n"
      ],
      "text/latex": [
       "A ggeffects: 35 × 6\n",
       "\\begin{tabular}{llllll}\n",
       " x & predicted & std.error & conf.low & conf.high & group\\\\\n",
       " <dbl> & <dbl> & <dbl> & <dbl> & <dbl> & <fct>\\\\\n",
       "\\hline\n",
       "\t   0 & 75.07243 & 1.0766338 & 72.95933 & 77.18553 & 1\\\\\n",
       "\t   5 & 73.84301 & 1.0240953 & 71.83302 & 75.85299 & 1\\\\\n",
       "\t  10 & 72.61358 & 0.9758897 & 70.69821 & 74.52895 & 1\\\\\n",
       "\t  15 & 71.38416 & 0.9326891 & 69.55358 & 73.21474 & 1\\\\\n",
       "\t  20 & 70.15474 & 0.8952182 & 68.39770 & 71.91178 & 1\\\\\n",
       "\t  25 & 68.92532 & 0.8642228 & 67.22911 & 70.62152 & 1\\\\\n",
       "\t  30 & 67.69590 & 0.8404196 & 66.04641 & 69.34538 & 1\\\\\n",
       "\t  35 & 66.46647 & 0.8244319 & 64.84837 & 68.08458 & 1\\\\\n",
       "\t  40 & 65.23705 & 0.8167186 & 63.63408 & 66.84002 & 1\\\\\n",
       "\t  45 & 64.00763 & 0.8175141 & 62.40310 & 65.61216 & 1\\\\\n",
       "\t  50 & 62.77821 & 0.8267938 & 61.15547 & 64.40095 & 1\\\\\n",
       "\t  55 & 61.54878 & 0.8442780 & 59.89173 & 63.20584 & 1\\\\\n",
       "\t  60 & 60.31936 & 0.8694719 & 58.61286 & 62.02587 & 1\\\\\n",
       "\t  65 & 59.08994 & 0.9017295 & 57.32012 & 60.85976 & 1\\\\\n",
       "\t  70 & 57.86052 & 0.9403240 & 56.01495 & 59.70608 & 1\\\\\n",
       "\t  75 & 56.63110 & 0.9845107 & 54.69881 & 58.56339 & 1\\\\\n",
       "\t  80 & 55.40167 & 1.0335724 & 53.37309 & 57.43026 & 1\\\\\n",
       "\t  85 & 54.17225 & 1.0868492 & 52.03910 & 56.30540 & 1\\\\\n",
       "\t  90 & 52.94283 & 1.1437521 & 50.69800 & 55.18766 & 1\\\\\n",
       "\t  95 & 51.71341 & 1.2037672 & 49.35078 & 54.07603 & 1\\\\\n",
       "\t 100 & 50.48398 & 1.2664520 & 47.99833 & 52.96964 & 1\\\\\n",
       "\t 105 & 49.25456 & 1.3314295 & 46.64138 & 51.86775 & 1\\\\\n",
       "\t 110 & 48.02514 & 1.3983802 & 45.28055 & 50.76973 & 1\\\\\n",
       "\t 115 & 46.79572 & 1.4670338 & 43.91638 & 49.67505 & 1\\\\\n",
       "\t 120 & 45.56630 & 1.5371623 & 42.54932 & 48.58327 & 1\\\\\n",
       "\t 125 & 44.33687 & 1.6085728 & 41.17974 & 47.49401 & 1\\\\\n",
       "\t 130 & 43.10745 & 1.6811019 & 39.80797 & 46.40694 & 1\\\\\n",
       "\t 135 & 41.87803 & 1.7546109 & 38.43427 & 45.32179 & 1\\\\\n",
       "\t 140 & 40.64861 & 1.8289816 & 37.05888 & 44.23833 & 1\\\\\n",
       "\t 145 & 39.41919 & 1.9041131 & 35.68200 & 43.15637 & 1\\\\\n",
       "\t 150 & 38.18976 & 1.9799188 & 34.30379 & 42.07573 & 1\\\\\n",
       "\t 155 & 36.96034 & 2.0563241 & 32.92441 & 40.99627 & 1\\\\\n",
       "\t 160 & 35.73092 & 2.1332646 & 31.54398 & 39.91786 & 1\\\\\n",
       "\t 165 & 34.50150 & 2.2106844 & 30.16261 & 38.84039 & 1\\\\\n",
       "\t 170 & 33.27207 & 2.2885348 & 28.78039 & 37.76376 & 1\\\\\n",
       "\\end{tabular}\n"
      ],
      "text/markdown": [
       "\n",
       "A ggeffects: 35 × 6\n",
       "\n",
       "| x &lt;dbl&gt; | predicted &lt;dbl&gt; | std.error &lt;dbl&gt; | conf.low &lt;dbl&gt; | conf.high &lt;dbl&gt; | group &lt;fct&gt; |\n",
       "|---|---|---|---|---|---|\n",
       "|   0 | 75.07243 | 1.0766338 | 72.95933 | 77.18553 | 1 |\n",
       "|   5 | 73.84301 | 1.0240953 | 71.83302 | 75.85299 | 1 |\n",
       "|  10 | 72.61358 | 0.9758897 | 70.69821 | 74.52895 | 1 |\n",
       "|  15 | 71.38416 | 0.9326891 | 69.55358 | 73.21474 | 1 |\n",
       "|  20 | 70.15474 | 0.8952182 | 68.39770 | 71.91178 | 1 |\n",
       "|  25 | 68.92532 | 0.8642228 | 67.22911 | 70.62152 | 1 |\n",
       "|  30 | 67.69590 | 0.8404196 | 66.04641 | 69.34538 | 1 |\n",
       "|  35 | 66.46647 | 0.8244319 | 64.84837 | 68.08458 | 1 |\n",
       "|  40 | 65.23705 | 0.8167186 | 63.63408 | 66.84002 | 1 |\n",
       "|  45 | 64.00763 | 0.8175141 | 62.40310 | 65.61216 | 1 |\n",
       "|  50 | 62.77821 | 0.8267938 | 61.15547 | 64.40095 | 1 |\n",
       "|  55 | 61.54878 | 0.8442780 | 59.89173 | 63.20584 | 1 |\n",
       "|  60 | 60.31936 | 0.8694719 | 58.61286 | 62.02587 | 1 |\n",
       "|  65 | 59.08994 | 0.9017295 | 57.32012 | 60.85976 | 1 |\n",
       "|  70 | 57.86052 | 0.9403240 | 56.01495 | 59.70608 | 1 |\n",
       "|  75 | 56.63110 | 0.9845107 | 54.69881 | 58.56339 | 1 |\n",
       "|  80 | 55.40167 | 1.0335724 | 53.37309 | 57.43026 | 1 |\n",
       "|  85 | 54.17225 | 1.0868492 | 52.03910 | 56.30540 | 1 |\n",
       "|  90 | 52.94283 | 1.1437521 | 50.69800 | 55.18766 | 1 |\n",
       "|  95 | 51.71341 | 1.2037672 | 49.35078 | 54.07603 | 1 |\n",
       "| 100 | 50.48398 | 1.2664520 | 47.99833 | 52.96964 | 1 |\n",
       "| 105 | 49.25456 | 1.3314295 | 46.64138 | 51.86775 | 1 |\n",
       "| 110 | 48.02514 | 1.3983802 | 45.28055 | 50.76973 | 1 |\n",
       "| 115 | 46.79572 | 1.4670338 | 43.91638 | 49.67505 | 1 |\n",
       "| 120 | 45.56630 | 1.5371623 | 42.54932 | 48.58327 | 1 |\n",
       "| 125 | 44.33687 | 1.6085728 | 41.17974 | 47.49401 | 1 |\n",
       "| 130 | 43.10745 | 1.6811019 | 39.80797 | 46.40694 | 1 |\n",
       "| 135 | 41.87803 | 1.7546109 | 38.43427 | 45.32179 | 1 |\n",
       "| 140 | 40.64861 | 1.8289816 | 37.05888 | 44.23833 | 1 |\n",
       "| 145 | 39.41919 | 1.9041131 | 35.68200 | 43.15637 | 1 |\n",
       "| 150 | 38.18976 | 1.9799188 | 34.30379 | 42.07573 | 1 |\n",
       "| 155 | 36.96034 | 2.0563241 | 32.92441 | 40.99627 | 1 |\n",
       "| 160 | 35.73092 | 2.1332646 | 31.54398 | 39.91786 | 1 |\n",
       "| 165 | 34.50150 | 2.2106844 | 30.16261 | 38.84039 | 1 |\n",
       "| 170 | 33.27207 | 2.2885348 | 28.78039 | 37.76376 | 1 |\n",
       "\n"
      ],
      "text/plain": [
       "   x   predicted std.error conf.low conf.high group\n",
       "1    0 75.07243  1.0766338 72.95933 77.18553  1    \n",
       "2    5 73.84301  1.0240953 71.83302 75.85299  1    \n",
       "3   10 72.61358  0.9758897 70.69821 74.52895  1    \n",
       "4   15 71.38416  0.9326891 69.55358 73.21474  1    \n",
       "5   20 70.15474  0.8952182 68.39770 71.91178  1    \n",
       "6   25 68.92532  0.8642228 67.22911 70.62152  1    \n",
       "7   30 67.69590  0.8404196 66.04641 69.34538  1    \n",
       "8   35 66.46647  0.8244319 64.84837 68.08458  1    \n",
       "9   40 65.23705  0.8167186 63.63408 66.84002  1    \n",
       "10  45 64.00763  0.8175141 62.40310 65.61216  1    \n",
       "11  50 62.77821  0.8267938 61.15547 64.40095  1    \n",
       "12  55 61.54878  0.8442780 59.89173 63.20584  1    \n",
       "13  60 60.31936  0.8694719 58.61286 62.02587  1    \n",
       "14  65 59.08994  0.9017295 57.32012 60.85976  1    \n",
       "15  70 57.86052  0.9403240 56.01495 59.70608  1    \n",
       "16  75 56.63110  0.9845107 54.69881 58.56339  1    \n",
       "17  80 55.40167  1.0335724 53.37309 57.43026  1    \n",
       "18  85 54.17225  1.0868492 52.03910 56.30540  1    \n",
       "19  90 52.94283  1.1437521 50.69800 55.18766  1    \n",
       "20  95 51.71341  1.2037672 49.35078 54.07603  1    \n",
       "21 100 50.48398  1.2664520 47.99833 52.96964  1    \n",
       "22 105 49.25456  1.3314295 46.64138 51.86775  1    \n",
       "23 110 48.02514  1.3983802 45.28055 50.76973  1    \n",
       "24 115 46.79572  1.4670338 43.91638 49.67505  1    \n",
       "25 120 45.56630  1.5371623 42.54932 48.58327  1    \n",
       "26 125 44.33687  1.6085728 41.17974 47.49401  1    \n",
       "27 130 43.10745  1.6811019 39.80797 46.40694  1    \n",
       "28 135 41.87803  1.7546109 38.43427 45.32179  1    \n",
       "29 140 40.64861  1.8289816 37.05888 44.23833  1    \n",
       "30 145 39.41919  1.9041131 35.68200 43.15637  1    \n",
       "31 150 38.18976  1.9799188 34.30379 42.07573  1    \n",
       "32 155 36.96034  2.0563241 32.92441 40.99627  1    \n",
       "33 160 35.73092  2.1332646 31.54398 39.91786  1    \n",
       "34 165 34.50150  2.2106844 30.16261 38.84039  1    \n",
       "35 170 33.27207  2.2885348 28.78039 37.76376  1    "
      ]
     },
     "metadata": {},
     "output_type": "display_data"
    }
   ],
   "source": [
    "data(efc)\n",
    "fit2 <- lm(barthtot ~ c12hour + neg_c_7, data = efc)\n",
    "\n",
    "ggemmeans(fit2, terms = \"c12hour\")"
   ]
  },
  {
   "cell_type": "code",
   "execution_count": 223,
   "id": "98c14bee",
   "metadata": {},
   "outputs": [
    {
     "data": {
      "text/html": [
       "<table class=\"dataframe\">\n",
       "<caption>A data.frame: 908 × 28</caption>\n",
       "<thead>\n",
       "\t<tr><th scope=col>c12hour</th><th scope=col>e15relat</th><th scope=col>e16sex</th><th scope=col>e17age</th><th scope=col>e42dep</th><th scope=col>c82cop1</th><th scope=col>c83cop2</th><th scope=col>c84cop3</th><th scope=col>c85cop4</th><th scope=col>c86cop5</th><th scope=col>⋯</th><th scope=col>barthtot</th><th scope=col>neg_c_7</th><th scope=col>pos_v_4</th><th scope=col>quol_5</th><th scope=col>resttotn</th><th scope=col>tot_sc_e</th><th scope=col>n4pstu</th><th scope=col>nur_pst</th><th scope=col>grp</th><th scope=col>negc7d</th></tr>\n",
       "\t<tr><th scope=col>&lt;dbl&gt;</th><th scope=col>&lt;dbl&gt;</th><th scope=col>&lt;dbl&gt;</th><th scope=col>&lt;dbl&gt;</th><th scope=col>&lt;dbl&gt;</th><th scope=col>&lt;dbl&gt;</th><th scope=col>&lt;dbl&gt;</th><th scope=col>&lt;dbl&gt;</th><th scope=col>&lt;dbl&gt;</th><th scope=col>&lt;dbl&gt;</th><th scope=col>⋯</th><th scope=col>&lt;dbl&gt;</th><th scope=col>&lt;dbl&gt;</th><th scope=col>&lt;dbl&gt;</th><th scope=col>&lt;dbl&gt;</th><th scope=col>&lt;dbl&gt;</th><th scope=col>&lt;dbl&gt;</th><th scope=col>&lt;dbl&gt;</th><th scope=col>&lt;dbl&gt;</th><th scope=col>&lt;fct&gt;</th><th scope=col>&lt;fct&gt;</th></tr>\n",
       "</thead>\n",
       "<tbody>\n",
       "\t<tr><td> 16</td><td>2</td><td>2</td><td>83</td><td>3</td><td>3</td><td>2</td><td>2</td><td> 2</td><td>1</td><td>⋯</td><td>75</td><td>12</td><td>12</td><td>14</td><td>0</td><td>4</td><td>0</td><td>NA</td><td>child                  </td><td>1 </td></tr>\n",
       "\t<tr><td>148</td><td>2</td><td>2</td><td>88</td><td>3</td><td>3</td><td>3</td><td>3</td><td> 3</td><td>4</td><td>⋯</td><td>75</td><td>20</td><td>11</td><td>10</td><td>4</td><td>0</td><td>0</td><td>NA</td><td>child                  </td><td>1 </td></tr>\n",
       "\t<tr><td> 70</td><td>1</td><td>2</td><td>82</td><td>3</td><td>2</td><td>2</td><td>1</td><td> 4</td><td>1</td><td>⋯</td><td>35</td><td>11</td><td>13</td><td> 7</td><td>0</td><td>1</td><td>2</td><td> 2</td><td>spouse/partner         </td><td>0 </td></tr>\n",
       "\t<tr><td>168</td><td>1</td><td>2</td><td>67</td><td>4</td><td>4</td><td>1</td><td>3</td><td> 1</td><td>1</td><td>⋯</td><td> 0</td><td>10</td><td>15</td><td>12</td><td>2</td><td>0</td><td>3</td><td> 3</td><td>spouse/partner         </td><td>0 </td></tr>\n",
       "\t<tr><td>168</td><td>2</td><td>2</td><td>84</td><td>4</td><td>3</td><td>2</td><td>1</td><td> 2</td><td>2</td><td>⋯</td><td>25</td><td>12</td><td>15</td><td>19</td><td>2</td><td>1</td><td>2</td><td> 2</td><td>child                  </td><td>1 </td></tr>\n",
       "\t<tr><td> 16</td><td>2</td><td>2</td><td>85</td><td>4</td><td>2</td><td>2</td><td>3</td><td> 3</td><td>3</td><td>⋯</td><td>60</td><td>19</td><td> 9</td><td> 8</td><td>1</td><td>3</td><td>2</td><td> 2</td><td>child                  </td><td>1 </td></tr>\n",
       "\t<tr><td>161</td><td>1</td><td>1</td><td>74</td><td>4</td><td>4</td><td>2</td><td>4</td><td> 1</td><td>1</td><td>⋯</td><td> 5</td><td>15</td><td>13</td><td>20</td><td>0</td><td>0</td><td>3</td><td> 3</td><td>spouse/partner         </td><td>1 </td></tr>\n",
       "\t<tr><td>110</td><td>4</td><td>2</td><td>87</td><td>4</td><td>3</td><td>2</td><td>2</td><td> 1</td><td>1</td><td>⋯</td><td>35</td><td>11</td><td>14</td><td>20</td><td>0</td><td>1</td><td>1</td><td> 1</td><td>daughter or son -in-law</td><td>0 </td></tr>\n",
       "\t<tr><td> 28</td><td>2</td><td>2</td><td>79</td><td>4</td><td>3</td><td>2</td><td>3</td><td> 2</td><td>2</td><td>⋯</td><td>15</td><td>15</td><td>13</td><td> 8</td><td>0</td><td>2</td><td>3</td><td> 3</td><td>child                  </td><td>1 </td></tr>\n",
       "\t<tr><td> 40</td><td>2</td><td>2</td><td>83</td><td>4</td><td>3</td><td>2</td><td>1</td><td> 2</td><td>1</td><td>⋯</td><td> 0</td><td>10</td><td>13</td><td>15</td><td>1</td><td>1</td><td>3</td><td> 3</td><td>child                  </td><td>0 </td></tr>\n",
       "\t<tr><td>100</td><td>1</td><td>1</td><td>68</td><td>4</td><td>3</td><td>4</td><td>4</td><td> 4</td><td>4</td><td>⋯</td><td>25</td><td>28</td><td> 9</td><td> 1</td><td>1</td><td>1</td><td>3</td><td> 3</td><td>spouse/partner         </td><td>1 </td></tr>\n",
       "\t<tr><td> 25</td><td>8</td><td>2</td><td>97</td><td>3</td><td>3</td><td>3</td><td>3</td><td> 1</td><td>3</td><td>⋯</td><td>85</td><td>18</td><td> 8</td><td>19</td><td>1</td><td>1</td><td>1</td><td> 1</td><td>other, specify         </td><td>1 </td></tr>\n",
       "\t<tr><td> 25</td><td>2</td><td>2</td><td>80</td><td>4</td><td>3</td><td>2</td><td>2</td><td> 2</td><td>2</td><td>⋯</td><td>15</td><td>13</td><td>14</td><td>12</td><td>0</td><td>3</td><td>3</td><td> 3</td><td>child                  </td><td>1 </td></tr>\n",
       "\t<tr><td> 24</td><td>1</td><td>2</td><td>75</td><td>3</td><td>3</td><td>2</td><td>4</td><td> 4</td><td>1</td><td>⋯</td><td>70</td><td>18</td><td>14</td><td> 8</td><td>0</td><td>0</td><td>1</td><td> 1</td><td>spouse/partner         </td><td>1 </td></tr>\n",
       "\t<tr><td> 56</td><td>2</td><td>2</td><td>82</td><td>3</td><td>2</td><td>3</td><td>3</td><td> 3</td><td>2</td><td>⋯</td><td>NA</td><td>16</td><td> 9</td><td> 8</td><td>3</td><td>3</td><td>0</td><td>NA</td><td>child                  </td><td>1 </td></tr>\n",
       "\t<tr><td> 20</td><td>2</td><td>2</td><td>89</td><td>3</td><td>4</td><td>2</td><td>1</td><td> 3</td><td>3</td><td>⋯</td><td> 0</td><td>13</td><td>14</td><td> 6</td><td>0</td><td>2</td><td>0</td><td>NA</td><td>child                  </td><td>1 </td></tr>\n",
       "\t<tr><td> 25</td><td>1</td><td>1</td><td>80</td><td>1</td><td>3</td><td>2</td><td>1</td><td> 2</td><td>1</td><td>⋯</td><td>95</td><td>11</td><td>15</td><td>16</td><td>0</td><td>2</td><td>0</td><td>NA</td><td>spouse/partner         </td><td>0 </td></tr>\n",
       "\t<tr><td>126</td><td>1</td><td>1</td><td>72</td><td>3</td><td>4</td><td>2</td><td>1</td><td> 2</td><td>1</td><td>⋯</td><td>55</td><td>11</td><td>13</td><td>14</td><td>0</td><td>0</td><td>2</td><td> 2</td><td>spouse/partner         </td><td>0 </td></tr>\n",
       "\t<tr><td>168</td><td>2</td><td>1</td><td>94</td><td>3</td><td>3</td><td>2</td><td>1</td><td> 2</td><td>2</td><td>⋯</td><td>55</td><td>13</td><td>13</td><td>15</td><td>3</td><td>1</td><td>1</td><td> 1</td><td>child                  </td><td>1 </td></tr>\n",
       "\t<tr><td>118</td><td>1</td><td>1</td><td>79</td><td>4</td><td>3</td><td>2</td><td>4</td><td> 2</td><td>1</td><td>⋯</td><td>45</td><td>17</td><td>12</td><td>10</td><td>0</td><td>7</td><td>2</td><td> 2</td><td>spouse/partner         </td><td>1 </td></tr>\n",
       "\t<tr><td>150</td><td>2</td><td>2</td><td>89</td><td>4</td><td>3</td><td>2</td><td>3</td><td> 2</td><td>1</td><td>⋯</td><td> 0</td><td>11</td><td>11</td><td>15</td><td>1</td><td>1</td><td>4</td><td> 3</td><td>child                  </td><td>0 </td></tr>\n",
       "\t<tr><td> 50</td><td>1</td><td>1</td><td>67</td><td>3</td><td>4</td><td>1</td><td>2</td><td> 1</td><td>1</td><td>⋯</td><td>70</td><td> 9</td><td>12</td><td>21</td><td>0</td><td>0</td><td>1</td><td> 1</td><td>spouse/partner         </td><td>0 </td></tr>\n",
       "\t<tr><td> 18</td><td>2</td><td>2</td><td>94</td><td>4</td><td>3</td><td>1</td><td>1</td><td> 1</td><td>1</td><td>⋯</td><td>20</td><td> 8</td><td>15</td><td>18</td><td>1</td><td>0</td><td>2</td><td> 2</td><td>child                  </td><td>0 </td></tr>\n",
       "\t<tr><td>168</td><td>2</td><td>2</td><td>83</td><td>4</td><td>3</td><td>2</td><td>2</td><td> 4</td><td>1</td><td>⋯</td><td> 0</td><td>14</td><td>15</td><td>15</td><td>1</td><td>1</td><td>3</td><td> 3</td><td>child                  </td><td>1 </td></tr>\n",
       "\t<tr><td> 15</td><td>2</td><td>2</td><td>85</td><td>3</td><td>3</td><td>2</td><td>1</td><td> 2</td><td>1</td><td>⋯</td><td>95</td><td>11</td><td>14</td><td>16</td><td>0</td><td>2</td><td>1</td><td> 1</td><td>child                  </td><td>0 </td></tr>\n",
       "\t<tr><td>168</td><td>1</td><td>1</td><td>80</td><td>4</td><td>2</td><td>3</td><td>4</td><td> 4</td><td>3</td><td>⋯</td><td>10</td><td>23</td><td>12</td><td> 0</td><td>1</td><td>1</td><td>2</td><td> 2</td><td>spouse/partner         </td><td>1 </td></tr>\n",
       "\t<tr><td> 12</td><td>2</td><td>2</td><td>88</td><td>4</td><td>2</td><td>3</td><td>3</td><td>NA</td><td>1</td><td>⋯</td><td>75</td><td>NA</td><td>10</td><td>10</td><td>0</td><td>5</td><td>2</td><td> 2</td><td>child                  </td><td>NA</td></tr>\n",
       "\t<tr><td>  7</td><td>1</td><td>1</td><td>76</td><td>2</td><td>2</td><td>2</td><td>2</td><td> 2</td><td>1</td><td>⋯</td><td>90</td><td>11</td><td> 9</td><td>14</td><td>0</td><td>2</td><td>0</td><td>NA</td><td>spouse/partner         </td><td>0 </td></tr>\n",
       "\t<tr><td> 35</td><td>2</td><td>2</td><td>84</td><td>3</td><td>3</td><td>2</td><td>2</td><td> 2</td><td>4</td><td>⋯</td><td>60</td><td>15</td><td>11</td><td> 4</td><td>0</td><td>2</td><td>2</td><td> 2</td><td>child                  </td><td>1 </td></tr>\n",
       "\t<tr><td>168</td><td>2</td><td>2</td><td>95</td><td>4</td><td>2</td><td>2</td><td>1</td><td> 2</td><td>1</td><td>⋯</td><td>20</td><td>11</td><td>NA</td><td>15</td><td>0</td><td>0</td><td>3</td><td> 3</td><td>child                  </td><td>0 </td></tr>\n",
       "\t<tr><td>⋮</td><td>⋮</td><td>⋮</td><td>⋮</td><td>⋮</td><td>⋮</td><td>⋮</td><td>⋮</td><td>⋮</td><td>⋮</td><td>⋱</td><td>⋮</td><td>⋮</td><td>⋮</td><td>⋮</td><td>⋮</td><td>⋮</td><td>⋮</td><td>⋮</td><td>⋮</td><td>⋮</td></tr>\n",
       "\t<tr><td> 35</td><td> 1</td><td> 2</td><td>73</td><td> 4</td><td> 3</td><td> 3</td><td> 4</td><td> 4</td><td> 2</td><td>⋯</td><td> 50</td><td>24</td><td> 9</td><td>11</td><td>0</td><td>1</td><td> 0</td><td>NA</td><td>spouse/partner         </td><td>1 </td></tr>\n",
       "\t<tr><td> 10</td><td> 2</td><td> 2</td><td>78</td><td> 2</td><td> 3</td><td> 2</td><td> 1</td><td> 1</td><td> 1</td><td>⋯</td><td>100</td><td> 8</td><td>11</td><td>16</td><td>0</td><td>1</td><td> 0</td><td>NA</td><td>child                  </td><td>0 </td></tr>\n",
       "\t<tr><td>100</td><td> 2</td><td> 2</td><td>83</td><td> 3</td><td> 3</td><td> 2</td><td> 1</td><td> 1</td><td> 1</td><td>⋯</td><td>100</td><td> 9</td><td>10</td><td>14</td><td>0</td><td>0</td><td> 0</td><td>NA</td><td>child                  </td><td>0 </td></tr>\n",
       "\t<tr><td>  8</td><td> 2</td><td> 2</td><td>74</td><td> 1</td><td> 3</td><td> 1</td><td> 1</td><td> 1</td><td> 1</td><td>⋯</td><td>100</td><td> 7</td><td>11</td><td>15</td><td>0</td><td>1</td><td> 0</td><td>NA</td><td>child                  </td><td>0 </td></tr>\n",
       "\t<tr><td> 10</td><td> 2</td><td> 2</td><td>81</td><td> 2</td><td> 3</td><td> 2</td><td> 1</td><td> 1</td><td> 1</td><td>⋯</td><td>100</td><td>10</td><td>10</td><td>13</td><td>0</td><td>1</td><td> 2</td><td> 2</td><td>child                  </td><td>0 </td></tr>\n",
       "\t<tr><td> 20</td><td> 4</td><td> 1</td><td>87</td><td> 3</td><td> 2</td><td> 3</td><td> 2</td><td> 2</td><td> 2</td><td>⋯</td><td> 35</td><td>15</td><td> 9</td><td>11</td><td>0</td><td>1</td><td>NA</td><td>NA</td><td>daughter or son -in-law</td><td>1 </td></tr>\n",
       "\t<tr><td> 40</td><td> 2</td><td> 2</td><td>67</td><td> 3</td><td> 2</td><td> 3</td><td> 2</td><td> 2</td><td> 3</td><td>⋯</td><td> 55</td><td>18</td><td>10</td><td> 8</td><td>0</td><td>1</td><td> 2</td><td> 2</td><td>child                  </td><td>1 </td></tr>\n",
       "\t<tr><td> 40</td><td> 1</td><td> 1</td><td>79</td><td> 2</td><td> 3</td><td> 3</td><td> 4</td><td> 3</td><td> 3</td><td>⋯</td><td> 65</td><td>22</td><td>13</td><td>12</td><td>0</td><td>0</td><td> 0</td><td>NA</td><td>spouse/partner         </td><td>1 </td></tr>\n",
       "\t<tr><td> 40</td><td> 3</td><td> 1</td><td>81</td><td> 4</td><td> 1</td><td> 3</td><td> 2</td><td> 1</td><td> 3</td><td>⋯</td><td> 10</td><td>18</td><td>10</td><td> 6</td><td>0</td><td>1</td><td> 0</td><td>NA</td><td>sibling                </td><td>1 </td></tr>\n",
       "\t<tr><td>  6</td><td> 2</td><td> 1</td><td>70</td><td> 3</td><td> 3</td><td> 2</td><td> 1</td><td> 1</td><td> 1</td><td>⋯</td><td> 60</td><td> 9</td><td>14</td><td>16</td><td>0</td><td>0</td><td> 0</td><td>NA</td><td>child                  </td><td>0 </td></tr>\n",
       "\t<tr><td> 30</td><td> 1</td><td> 1</td><td>65</td><td> 3</td><td> 4</td><td> 2</td><td> 1</td><td> 2</td><td> 1</td><td>⋯</td><td> 85</td><td>11</td><td>13</td><td>14</td><td>0</td><td>0</td><td> 0</td><td>NA</td><td>spouse/partner         </td><td>0 </td></tr>\n",
       "\t<tr><td> 28</td><td> 2</td><td> 2</td><td>93</td><td> 2</td><td> 3</td><td> 2</td><td> 1</td><td> 2</td><td> 2</td><td>⋯</td><td> 85</td><td>14</td><td>10</td><td> 5</td><td>0</td><td>0</td><td> 2</td><td> 2</td><td>child                  </td><td>1 </td></tr>\n",
       "\t<tr><td> 20</td><td> 2</td><td> 1</td><td>74</td><td> 2</td><td> 4</td><td> 1</td><td> 1</td><td> 1</td><td> 1</td><td>⋯</td><td> 85</td><td> 7</td><td>16</td><td>11</td><td>0</td><td>2</td><td> 2</td><td> 2</td><td>child                  </td><td>0 </td></tr>\n",
       "\t<tr><td> 25</td><td> 2</td><td> 2</td><td>77</td><td> 3</td><td> 3</td><td> 2</td><td> 1</td><td> 2</td><td> 1</td><td>⋯</td><td> 70</td><td> 9</td><td>12</td><td>15</td><td>0</td><td>1</td><td> 0</td><td>NA</td><td>child                  </td><td>0 </td></tr>\n",
       "\t<tr><td> 30</td><td> 2</td><td> 2</td><td>75</td><td> 3</td><td> 4</td><td> 2</td><td> 3</td><td> 3</td><td> 3</td><td>⋯</td><td> 55</td><td>17</td><td>15</td><td>11</td><td>0</td><td>2</td><td> 3</td><td> 3</td><td>child                  </td><td>1 </td></tr>\n",
       "\t<tr><td> 50</td><td> 2</td><td> 2</td><td>90</td><td> 3</td><td> 3</td><td> 3</td><td> 4</td><td> 3</td><td> 3</td><td>⋯</td><td> 50</td><td>23</td><td>11</td><td> 8</td><td>0</td><td>1</td><td> 0</td><td>NA</td><td>child                  </td><td>1 </td></tr>\n",
       "\t<tr><td> 20</td><td> 2</td><td> 2</td><td>91</td><td> 4</td><td> 3</td><td> 2</td><td> 1</td><td> 1</td><td> 2</td><td>⋯</td><td> 70</td><td>12</td><td> 9</td><td>11</td><td>2</td><td>2</td><td>NA</td><td>NA</td><td>child                  </td><td>1 </td></tr>\n",
       "\t<tr><td> 15</td><td> 4</td><td> 2</td><td>86</td><td> 2</td><td> 3</td><td> 2</td><td> 1</td><td> 2</td><td> 2</td><td>⋯</td><td>100</td><td>13</td><td>10</td><td>12</td><td>0</td><td>2</td><td> 0</td><td>NA</td><td>daughter or son -in-law</td><td>1 </td></tr>\n",
       "\t<tr><td>110</td><td> 2</td><td> 2</td><td>65</td><td> 4</td><td> 2</td><td> 3</td><td> 1</td><td> 2</td><td> 1</td><td>⋯</td><td> 35</td><td>15</td><td>11</td><td>12</td><td>0</td><td>1</td><td> 2</td><td> 2</td><td>child                  </td><td>1 </td></tr>\n",
       "\t<tr><td> 28</td><td> 8</td><td> 2</td><td>82</td><td> 3</td><td> 4</td><td> 1</td><td> 1</td><td> 2</td><td> 1</td><td>⋯</td><td> 80</td><td> 8</td><td>16</td><td>20</td><td>0</td><td>1</td><td> 1</td><td> 1</td><td>other, specify         </td><td>0 </td></tr>\n",
       "\t<tr><td> 85</td><td> 2</td><td> 2</td><td>80</td><td> 3</td><td> 3</td><td> 1</td><td> 1</td><td> 1</td><td> 1</td><td>⋯</td><td> 70</td><td> 8</td><td>13</td><td>15</td><td>2</td><td>2</td><td> 2</td><td> 2</td><td>child                  </td><td>0 </td></tr>\n",
       "\t<tr><td>160</td><td> 1</td><td> 1</td><td>74</td><td> 4</td><td> 3</td><td> 2</td><td> 1</td><td> 4</td><td> 1</td><td>⋯</td><td> 25</td><td>14</td><td>14</td><td>15</td><td>2</td><td>4</td><td> 2</td><td> 2</td><td>spouse/partner         </td><td>1 </td></tr>\n",
       "\t<tr><td> 10</td><td> 2</td><td> 2</td><td>65</td><td> 1</td><td> 3</td><td> 1</td><td> 1</td><td> 1</td><td> 2</td><td>⋯</td><td>100</td><td>10</td><td>14</td><td>16</td><td>2</td><td>2</td><td> 0</td><td>NA</td><td>child                  </td><td>0 </td></tr>\n",
       "\t<tr><td>  8</td><td> 2</td><td> 2</td><td>67</td><td> 2</td><td> 3</td><td> 1</td><td> 1</td><td> 1</td><td> 2</td><td>⋯</td><td> 85</td><td>10</td><td>13</td><td>16</td><td>1</td><td>0</td><td> 0</td><td>NA</td><td>child                  </td><td>0 </td></tr>\n",
       "\t<tr><td> NA</td><td>NA</td><td>NA</td><td>NA</td><td>NA</td><td>NA</td><td>NA</td><td>NA</td><td>NA</td><td>NA</td><td>⋯</td><td> NA</td><td>NA</td><td>NA</td><td>NA</td><td>1</td><td>4</td><td> 2</td><td> 2</td><td>NA                     </td><td>NA</td></tr>\n",
       "\t<tr><td> NA</td><td>NA</td><td>NA</td><td>NA</td><td>NA</td><td>NA</td><td>NA</td><td>NA</td><td>NA</td><td>NA</td><td>⋯</td><td> NA</td><td>NA</td><td>NA</td><td>NA</td><td>0</td><td>1</td><td> 2</td><td> 2</td><td>NA                     </td><td>NA</td></tr>\n",
       "\t<tr><td> NA</td><td>NA</td><td>NA</td><td>NA</td><td>NA</td><td>NA</td><td>NA</td><td>NA</td><td>NA</td><td>NA</td><td>⋯</td><td> NA</td><td>NA</td><td>NA</td><td>NA</td><td>0</td><td>1</td><td> 1</td><td> 1</td><td>NA                     </td><td>NA</td></tr>\n",
       "\t<tr><td> NA</td><td>NA</td><td>NA</td><td>NA</td><td>NA</td><td>NA</td><td>NA</td><td>NA</td><td>NA</td><td>NA</td><td>⋯</td><td> NA</td><td>NA</td><td>NA</td><td>NA</td><td>0</td><td>1</td><td> 2</td><td> 2</td><td>NA                     </td><td>NA</td></tr>\n",
       "\t<tr><td> NA</td><td>NA</td><td>NA</td><td>NA</td><td>NA</td><td>NA</td><td>NA</td><td>NA</td><td>NA</td><td>NA</td><td>⋯</td><td> NA</td><td>NA</td><td>NA</td><td>NA</td><td>0</td><td>0</td><td> 0</td><td>NA</td><td>NA                     </td><td>NA</td></tr>\n",
       "\t<tr><td> NA</td><td>NA</td><td>NA</td><td>NA</td><td>NA</td><td>NA</td><td>NA</td><td>NA</td><td>NA</td><td>NA</td><td>⋯</td><td> NA</td><td>NA</td><td>NA</td><td>NA</td><td>0</td><td>0</td><td> 0</td><td>NA</td><td>NA                     </td><td>NA</td></tr>\n",
       "</tbody>\n",
       "</table>\n"
      ],
      "text/latex": [
       "A data.frame: 908 × 28\n",
       "\\begin{tabular}{lllllllllllllllllllll}\n",
       " c12hour & e15relat & e16sex & e17age & e42dep & c82cop1 & c83cop2 & c84cop3 & c85cop4 & c86cop5 & ⋯ & barthtot & neg\\_c\\_7 & pos\\_v\\_4 & quol\\_5 & resttotn & tot\\_sc\\_e & n4pstu & nur\\_pst & grp & negc7d\\\\\n",
       " <dbl> & <dbl> & <dbl> & <dbl> & <dbl> & <dbl> & <dbl> & <dbl> & <dbl> & <dbl> & ⋯ & <dbl> & <dbl> & <dbl> & <dbl> & <dbl> & <dbl> & <dbl> & <dbl> & <fct> & <fct>\\\\\n",
       "\\hline\n",
       "\t  16 & 2 & 2 & 83 & 3 & 3 & 2 & 2 &  2 & 1 & ⋯ & 75 & 12 & 12 & 14 & 0 & 4 & 0 & NA & child                   & 1 \\\\\n",
       "\t 148 & 2 & 2 & 88 & 3 & 3 & 3 & 3 &  3 & 4 & ⋯ & 75 & 20 & 11 & 10 & 4 & 0 & 0 & NA & child                   & 1 \\\\\n",
       "\t  70 & 1 & 2 & 82 & 3 & 2 & 2 & 1 &  4 & 1 & ⋯ & 35 & 11 & 13 &  7 & 0 & 1 & 2 &  2 & spouse/partner          & 0 \\\\\n",
       "\t 168 & 1 & 2 & 67 & 4 & 4 & 1 & 3 &  1 & 1 & ⋯ &  0 & 10 & 15 & 12 & 2 & 0 & 3 &  3 & spouse/partner          & 0 \\\\\n",
       "\t 168 & 2 & 2 & 84 & 4 & 3 & 2 & 1 &  2 & 2 & ⋯ & 25 & 12 & 15 & 19 & 2 & 1 & 2 &  2 & child                   & 1 \\\\\n",
       "\t  16 & 2 & 2 & 85 & 4 & 2 & 2 & 3 &  3 & 3 & ⋯ & 60 & 19 &  9 &  8 & 1 & 3 & 2 &  2 & child                   & 1 \\\\\n",
       "\t 161 & 1 & 1 & 74 & 4 & 4 & 2 & 4 &  1 & 1 & ⋯ &  5 & 15 & 13 & 20 & 0 & 0 & 3 &  3 & spouse/partner          & 1 \\\\\n",
       "\t 110 & 4 & 2 & 87 & 4 & 3 & 2 & 2 &  1 & 1 & ⋯ & 35 & 11 & 14 & 20 & 0 & 1 & 1 &  1 & daughter or son -in-law & 0 \\\\\n",
       "\t  28 & 2 & 2 & 79 & 4 & 3 & 2 & 3 &  2 & 2 & ⋯ & 15 & 15 & 13 &  8 & 0 & 2 & 3 &  3 & child                   & 1 \\\\\n",
       "\t  40 & 2 & 2 & 83 & 4 & 3 & 2 & 1 &  2 & 1 & ⋯ &  0 & 10 & 13 & 15 & 1 & 1 & 3 &  3 & child                   & 0 \\\\\n",
       "\t 100 & 1 & 1 & 68 & 4 & 3 & 4 & 4 &  4 & 4 & ⋯ & 25 & 28 &  9 &  1 & 1 & 1 & 3 &  3 & spouse/partner          & 1 \\\\\n",
       "\t  25 & 8 & 2 & 97 & 3 & 3 & 3 & 3 &  1 & 3 & ⋯ & 85 & 18 &  8 & 19 & 1 & 1 & 1 &  1 & other, specify          & 1 \\\\\n",
       "\t  25 & 2 & 2 & 80 & 4 & 3 & 2 & 2 &  2 & 2 & ⋯ & 15 & 13 & 14 & 12 & 0 & 3 & 3 &  3 & child                   & 1 \\\\\n",
       "\t  24 & 1 & 2 & 75 & 3 & 3 & 2 & 4 &  4 & 1 & ⋯ & 70 & 18 & 14 &  8 & 0 & 0 & 1 &  1 & spouse/partner          & 1 \\\\\n",
       "\t  56 & 2 & 2 & 82 & 3 & 2 & 3 & 3 &  3 & 2 & ⋯ & NA & 16 &  9 &  8 & 3 & 3 & 0 & NA & child                   & 1 \\\\\n",
       "\t  20 & 2 & 2 & 89 & 3 & 4 & 2 & 1 &  3 & 3 & ⋯ &  0 & 13 & 14 &  6 & 0 & 2 & 0 & NA & child                   & 1 \\\\\n",
       "\t  25 & 1 & 1 & 80 & 1 & 3 & 2 & 1 &  2 & 1 & ⋯ & 95 & 11 & 15 & 16 & 0 & 2 & 0 & NA & spouse/partner          & 0 \\\\\n",
       "\t 126 & 1 & 1 & 72 & 3 & 4 & 2 & 1 &  2 & 1 & ⋯ & 55 & 11 & 13 & 14 & 0 & 0 & 2 &  2 & spouse/partner          & 0 \\\\\n",
       "\t 168 & 2 & 1 & 94 & 3 & 3 & 2 & 1 &  2 & 2 & ⋯ & 55 & 13 & 13 & 15 & 3 & 1 & 1 &  1 & child                   & 1 \\\\\n",
       "\t 118 & 1 & 1 & 79 & 4 & 3 & 2 & 4 &  2 & 1 & ⋯ & 45 & 17 & 12 & 10 & 0 & 7 & 2 &  2 & spouse/partner          & 1 \\\\\n",
       "\t 150 & 2 & 2 & 89 & 4 & 3 & 2 & 3 &  2 & 1 & ⋯ &  0 & 11 & 11 & 15 & 1 & 1 & 4 &  3 & child                   & 0 \\\\\n",
       "\t  50 & 1 & 1 & 67 & 3 & 4 & 1 & 2 &  1 & 1 & ⋯ & 70 &  9 & 12 & 21 & 0 & 0 & 1 &  1 & spouse/partner          & 0 \\\\\n",
       "\t  18 & 2 & 2 & 94 & 4 & 3 & 1 & 1 &  1 & 1 & ⋯ & 20 &  8 & 15 & 18 & 1 & 0 & 2 &  2 & child                   & 0 \\\\\n",
       "\t 168 & 2 & 2 & 83 & 4 & 3 & 2 & 2 &  4 & 1 & ⋯ &  0 & 14 & 15 & 15 & 1 & 1 & 3 &  3 & child                   & 1 \\\\\n",
       "\t  15 & 2 & 2 & 85 & 3 & 3 & 2 & 1 &  2 & 1 & ⋯ & 95 & 11 & 14 & 16 & 0 & 2 & 1 &  1 & child                   & 0 \\\\\n",
       "\t 168 & 1 & 1 & 80 & 4 & 2 & 3 & 4 &  4 & 3 & ⋯ & 10 & 23 & 12 &  0 & 1 & 1 & 2 &  2 & spouse/partner          & 1 \\\\\n",
       "\t  12 & 2 & 2 & 88 & 4 & 2 & 3 & 3 & NA & 1 & ⋯ & 75 & NA & 10 & 10 & 0 & 5 & 2 &  2 & child                   & NA\\\\\n",
       "\t   7 & 1 & 1 & 76 & 2 & 2 & 2 & 2 &  2 & 1 & ⋯ & 90 & 11 &  9 & 14 & 0 & 2 & 0 & NA & spouse/partner          & 0 \\\\\n",
       "\t  35 & 2 & 2 & 84 & 3 & 3 & 2 & 2 &  2 & 4 & ⋯ & 60 & 15 & 11 &  4 & 0 & 2 & 2 &  2 & child                   & 1 \\\\\n",
       "\t 168 & 2 & 2 & 95 & 4 & 2 & 2 & 1 &  2 & 1 & ⋯ & 20 & 11 & NA & 15 & 0 & 0 & 3 &  3 & child                   & 0 \\\\\n",
       "\t ⋮ & ⋮ & ⋮ & ⋮ & ⋮ & ⋮ & ⋮ & ⋮ & ⋮ & ⋮ & ⋱ & ⋮ & ⋮ & ⋮ & ⋮ & ⋮ & ⋮ & ⋮ & ⋮ & ⋮ & ⋮\\\\\n",
       "\t  35 &  1 &  2 & 73 &  4 &  3 &  3 &  4 &  4 &  2 & ⋯ &  50 & 24 &  9 & 11 & 0 & 1 &  0 & NA & spouse/partner          & 1 \\\\\n",
       "\t  10 &  2 &  2 & 78 &  2 &  3 &  2 &  1 &  1 &  1 & ⋯ & 100 &  8 & 11 & 16 & 0 & 1 &  0 & NA & child                   & 0 \\\\\n",
       "\t 100 &  2 &  2 & 83 &  3 &  3 &  2 &  1 &  1 &  1 & ⋯ & 100 &  9 & 10 & 14 & 0 & 0 &  0 & NA & child                   & 0 \\\\\n",
       "\t   8 &  2 &  2 & 74 &  1 &  3 &  1 &  1 &  1 &  1 & ⋯ & 100 &  7 & 11 & 15 & 0 & 1 &  0 & NA & child                   & 0 \\\\\n",
       "\t  10 &  2 &  2 & 81 &  2 &  3 &  2 &  1 &  1 &  1 & ⋯ & 100 & 10 & 10 & 13 & 0 & 1 &  2 &  2 & child                   & 0 \\\\\n",
       "\t  20 &  4 &  1 & 87 &  3 &  2 &  3 &  2 &  2 &  2 & ⋯ &  35 & 15 &  9 & 11 & 0 & 1 & NA & NA & daughter or son -in-law & 1 \\\\\n",
       "\t  40 &  2 &  2 & 67 &  3 &  2 &  3 &  2 &  2 &  3 & ⋯ &  55 & 18 & 10 &  8 & 0 & 1 &  2 &  2 & child                   & 1 \\\\\n",
       "\t  40 &  1 &  1 & 79 &  2 &  3 &  3 &  4 &  3 &  3 & ⋯ &  65 & 22 & 13 & 12 & 0 & 0 &  0 & NA & spouse/partner          & 1 \\\\\n",
       "\t  40 &  3 &  1 & 81 &  4 &  1 &  3 &  2 &  1 &  3 & ⋯ &  10 & 18 & 10 &  6 & 0 & 1 &  0 & NA & sibling                 & 1 \\\\\n",
       "\t   6 &  2 &  1 & 70 &  3 &  3 &  2 &  1 &  1 &  1 & ⋯ &  60 &  9 & 14 & 16 & 0 & 0 &  0 & NA & child                   & 0 \\\\\n",
       "\t  30 &  1 &  1 & 65 &  3 &  4 &  2 &  1 &  2 &  1 & ⋯ &  85 & 11 & 13 & 14 & 0 & 0 &  0 & NA & spouse/partner          & 0 \\\\\n",
       "\t  28 &  2 &  2 & 93 &  2 &  3 &  2 &  1 &  2 &  2 & ⋯ &  85 & 14 & 10 &  5 & 0 & 0 &  2 &  2 & child                   & 1 \\\\\n",
       "\t  20 &  2 &  1 & 74 &  2 &  4 &  1 &  1 &  1 &  1 & ⋯ &  85 &  7 & 16 & 11 & 0 & 2 &  2 &  2 & child                   & 0 \\\\\n",
       "\t  25 &  2 &  2 & 77 &  3 &  3 &  2 &  1 &  2 &  1 & ⋯ &  70 &  9 & 12 & 15 & 0 & 1 &  0 & NA & child                   & 0 \\\\\n",
       "\t  30 &  2 &  2 & 75 &  3 &  4 &  2 &  3 &  3 &  3 & ⋯ &  55 & 17 & 15 & 11 & 0 & 2 &  3 &  3 & child                   & 1 \\\\\n",
       "\t  50 &  2 &  2 & 90 &  3 &  3 &  3 &  4 &  3 &  3 & ⋯ &  50 & 23 & 11 &  8 & 0 & 1 &  0 & NA & child                   & 1 \\\\\n",
       "\t  20 &  2 &  2 & 91 &  4 &  3 &  2 &  1 &  1 &  2 & ⋯ &  70 & 12 &  9 & 11 & 2 & 2 & NA & NA & child                   & 1 \\\\\n",
       "\t  15 &  4 &  2 & 86 &  2 &  3 &  2 &  1 &  2 &  2 & ⋯ & 100 & 13 & 10 & 12 & 0 & 2 &  0 & NA & daughter or son -in-law & 1 \\\\\n",
       "\t 110 &  2 &  2 & 65 &  4 &  2 &  3 &  1 &  2 &  1 & ⋯ &  35 & 15 & 11 & 12 & 0 & 1 &  2 &  2 & child                   & 1 \\\\\n",
       "\t  28 &  8 &  2 & 82 &  3 &  4 &  1 &  1 &  2 &  1 & ⋯ &  80 &  8 & 16 & 20 & 0 & 1 &  1 &  1 & other, specify          & 0 \\\\\n",
       "\t  85 &  2 &  2 & 80 &  3 &  3 &  1 &  1 &  1 &  1 & ⋯ &  70 &  8 & 13 & 15 & 2 & 2 &  2 &  2 & child                   & 0 \\\\\n",
       "\t 160 &  1 &  1 & 74 &  4 &  3 &  2 &  1 &  4 &  1 & ⋯ &  25 & 14 & 14 & 15 & 2 & 4 &  2 &  2 & spouse/partner          & 1 \\\\\n",
       "\t  10 &  2 &  2 & 65 &  1 &  3 &  1 &  1 &  1 &  2 & ⋯ & 100 & 10 & 14 & 16 & 2 & 2 &  0 & NA & child                   & 0 \\\\\n",
       "\t   8 &  2 &  2 & 67 &  2 &  3 &  1 &  1 &  1 &  2 & ⋯ &  85 & 10 & 13 & 16 & 1 & 0 &  0 & NA & child                   & 0 \\\\\n",
       "\t  NA & NA & NA & NA & NA & NA & NA & NA & NA & NA & ⋯ &  NA & NA & NA & NA & 1 & 4 &  2 &  2 & NA                      & NA\\\\\n",
       "\t  NA & NA & NA & NA & NA & NA & NA & NA & NA & NA & ⋯ &  NA & NA & NA & NA & 0 & 1 &  2 &  2 & NA                      & NA\\\\\n",
       "\t  NA & NA & NA & NA & NA & NA & NA & NA & NA & NA & ⋯ &  NA & NA & NA & NA & 0 & 1 &  1 &  1 & NA                      & NA\\\\\n",
       "\t  NA & NA & NA & NA & NA & NA & NA & NA & NA & NA & ⋯ &  NA & NA & NA & NA & 0 & 1 &  2 &  2 & NA                      & NA\\\\\n",
       "\t  NA & NA & NA & NA & NA & NA & NA & NA & NA & NA & ⋯ &  NA & NA & NA & NA & 0 & 0 &  0 & NA & NA                      & NA\\\\\n",
       "\t  NA & NA & NA & NA & NA & NA & NA & NA & NA & NA & ⋯ &  NA & NA & NA & NA & 0 & 0 &  0 & NA & NA                      & NA\\\\\n",
       "\\end{tabular}\n"
      ],
      "text/markdown": [
       "\n",
       "A data.frame: 908 × 28\n",
       "\n",
       "| c12hour &lt;dbl&gt; | e15relat &lt;dbl&gt; | e16sex &lt;dbl&gt; | e17age &lt;dbl&gt; | e42dep &lt;dbl&gt; | c82cop1 &lt;dbl&gt; | c83cop2 &lt;dbl&gt; | c84cop3 &lt;dbl&gt; | c85cop4 &lt;dbl&gt; | c86cop5 &lt;dbl&gt; | ⋯ ⋯ | barthtot &lt;dbl&gt; | neg_c_7 &lt;dbl&gt; | pos_v_4 &lt;dbl&gt; | quol_5 &lt;dbl&gt; | resttotn &lt;dbl&gt; | tot_sc_e &lt;dbl&gt; | n4pstu &lt;dbl&gt; | nur_pst &lt;dbl&gt; | grp &lt;fct&gt; | negc7d &lt;fct&gt; |\n",
       "|---|---|---|---|---|---|---|---|---|---|---|---|---|---|---|---|---|---|---|---|---|\n",
       "|  16 | 2 | 2 | 83 | 3 | 3 | 2 | 2 |  2 | 1 | ⋯ | 75 | 12 | 12 | 14 | 0 | 4 | 0 | NA | child                   | 1  |\n",
       "| 148 | 2 | 2 | 88 | 3 | 3 | 3 | 3 |  3 | 4 | ⋯ | 75 | 20 | 11 | 10 | 4 | 0 | 0 | NA | child                   | 1  |\n",
       "|  70 | 1 | 2 | 82 | 3 | 2 | 2 | 1 |  4 | 1 | ⋯ | 35 | 11 | 13 |  7 | 0 | 1 | 2 |  2 | spouse/partner          | 0  |\n",
       "| 168 | 1 | 2 | 67 | 4 | 4 | 1 | 3 |  1 | 1 | ⋯ |  0 | 10 | 15 | 12 | 2 | 0 | 3 |  3 | spouse/partner          | 0  |\n",
       "| 168 | 2 | 2 | 84 | 4 | 3 | 2 | 1 |  2 | 2 | ⋯ | 25 | 12 | 15 | 19 | 2 | 1 | 2 |  2 | child                   | 1  |\n",
       "|  16 | 2 | 2 | 85 | 4 | 2 | 2 | 3 |  3 | 3 | ⋯ | 60 | 19 |  9 |  8 | 1 | 3 | 2 |  2 | child                   | 1  |\n",
       "| 161 | 1 | 1 | 74 | 4 | 4 | 2 | 4 |  1 | 1 | ⋯ |  5 | 15 | 13 | 20 | 0 | 0 | 3 |  3 | spouse/partner          | 1  |\n",
       "| 110 | 4 | 2 | 87 | 4 | 3 | 2 | 2 |  1 | 1 | ⋯ | 35 | 11 | 14 | 20 | 0 | 1 | 1 |  1 | daughter or son -in-law | 0  |\n",
       "|  28 | 2 | 2 | 79 | 4 | 3 | 2 | 3 |  2 | 2 | ⋯ | 15 | 15 | 13 |  8 | 0 | 2 | 3 |  3 | child                   | 1  |\n",
       "|  40 | 2 | 2 | 83 | 4 | 3 | 2 | 1 |  2 | 1 | ⋯ |  0 | 10 | 13 | 15 | 1 | 1 | 3 |  3 | child                   | 0  |\n",
       "| 100 | 1 | 1 | 68 | 4 | 3 | 4 | 4 |  4 | 4 | ⋯ | 25 | 28 |  9 |  1 | 1 | 1 | 3 |  3 | spouse/partner          | 1  |\n",
       "|  25 | 8 | 2 | 97 | 3 | 3 | 3 | 3 |  1 | 3 | ⋯ | 85 | 18 |  8 | 19 | 1 | 1 | 1 |  1 | other, specify          | 1  |\n",
       "|  25 | 2 | 2 | 80 | 4 | 3 | 2 | 2 |  2 | 2 | ⋯ | 15 | 13 | 14 | 12 | 0 | 3 | 3 |  3 | child                   | 1  |\n",
       "|  24 | 1 | 2 | 75 | 3 | 3 | 2 | 4 |  4 | 1 | ⋯ | 70 | 18 | 14 |  8 | 0 | 0 | 1 |  1 | spouse/partner          | 1  |\n",
       "|  56 | 2 | 2 | 82 | 3 | 2 | 3 | 3 |  3 | 2 | ⋯ | NA | 16 |  9 |  8 | 3 | 3 | 0 | NA | child                   | 1  |\n",
       "|  20 | 2 | 2 | 89 | 3 | 4 | 2 | 1 |  3 | 3 | ⋯ |  0 | 13 | 14 |  6 | 0 | 2 | 0 | NA | child                   | 1  |\n",
       "|  25 | 1 | 1 | 80 | 1 | 3 | 2 | 1 |  2 | 1 | ⋯ | 95 | 11 | 15 | 16 | 0 | 2 | 0 | NA | spouse/partner          | 0  |\n",
       "| 126 | 1 | 1 | 72 | 3 | 4 | 2 | 1 |  2 | 1 | ⋯ | 55 | 11 | 13 | 14 | 0 | 0 | 2 |  2 | spouse/partner          | 0  |\n",
       "| 168 | 2 | 1 | 94 | 3 | 3 | 2 | 1 |  2 | 2 | ⋯ | 55 | 13 | 13 | 15 | 3 | 1 | 1 |  1 | child                   | 1  |\n",
       "| 118 | 1 | 1 | 79 | 4 | 3 | 2 | 4 |  2 | 1 | ⋯ | 45 | 17 | 12 | 10 | 0 | 7 | 2 |  2 | spouse/partner          | 1  |\n",
       "| 150 | 2 | 2 | 89 | 4 | 3 | 2 | 3 |  2 | 1 | ⋯ |  0 | 11 | 11 | 15 | 1 | 1 | 4 |  3 | child                   | 0  |\n",
       "|  50 | 1 | 1 | 67 | 3 | 4 | 1 | 2 |  1 | 1 | ⋯ | 70 |  9 | 12 | 21 | 0 | 0 | 1 |  1 | spouse/partner          | 0  |\n",
       "|  18 | 2 | 2 | 94 | 4 | 3 | 1 | 1 |  1 | 1 | ⋯ | 20 |  8 | 15 | 18 | 1 | 0 | 2 |  2 | child                   | 0  |\n",
       "| 168 | 2 | 2 | 83 | 4 | 3 | 2 | 2 |  4 | 1 | ⋯ |  0 | 14 | 15 | 15 | 1 | 1 | 3 |  3 | child                   | 1  |\n",
       "|  15 | 2 | 2 | 85 | 3 | 3 | 2 | 1 |  2 | 1 | ⋯ | 95 | 11 | 14 | 16 | 0 | 2 | 1 |  1 | child                   | 0  |\n",
       "| 168 | 1 | 1 | 80 | 4 | 2 | 3 | 4 |  4 | 3 | ⋯ | 10 | 23 | 12 |  0 | 1 | 1 | 2 |  2 | spouse/partner          | 1  |\n",
       "|  12 | 2 | 2 | 88 | 4 | 2 | 3 | 3 | NA | 1 | ⋯ | 75 | NA | 10 | 10 | 0 | 5 | 2 |  2 | child                   | NA |\n",
       "|   7 | 1 | 1 | 76 | 2 | 2 | 2 | 2 |  2 | 1 | ⋯ | 90 | 11 |  9 | 14 | 0 | 2 | 0 | NA | spouse/partner          | 0  |\n",
       "|  35 | 2 | 2 | 84 | 3 | 3 | 2 | 2 |  2 | 4 | ⋯ | 60 | 15 | 11 |  4 | 0 | 2 | 2 |  2 | child                   | 1  |\n",
       "| 168 | 2 | 2 | 95 | 4 | 2 | 2 | 1 |  2 | 1 | ⋯ | 20 | 11 | NA | 15 | 0 | 0 | 3 |  3 | child                   | 0  |\n",
       "| ⋮ | ⋮ | ⋮ | ⋮ | ⋮ | ⋮ | ⋮ | ⋮ | ⋮ | ⋮ | ⋱ | ⋮ | ⋮ | ⋮ | ⋮ | ⋮ | ⋮ | ⋮ | ⋮ | ⋮ | ⋮ |\n",
       "|  35 |  1 |  2 | 73 |  4 |  3 |  3 |  4 |  4 |  2 | ⋯ |  50 | 24 |  9 | 11 | 0 | 1 |  0 | NA | spouse/partner          | 1  |\n",
       "|  10 |  2 |  2 | 78 |  2 |  3 |  2 |  1 |  1 |  1 | ⋯ | 100 |  8 | 11 | 16 | 0 | 1 |  0 | NA | child                   | 0  |\n",
       "| 100 |  2 |  2 | 83 |  3 |  3 |  2 |  1 |  1 |  1 | ⋯ | 100 |  9 | 10 | 14 | 0 | 0 |  0 | NA | child                   | 0  |\n",
       "|   8 |  2 |  2 | 74 |  1 |  3 |  1 |  1 |  1 |  1 | ⋯ | 100 |  7 | 11 | 15 | 0 | 1 |  0 | NA | child                   | 0  |\n",
       "|  10 |  2 |  2 | 81 |  2 |  3 |  2 |  1 |  1 |  1 | ⋯ | 100 | 10 | 10 | 13 | 0 | 1 |  2 |  2 | child                   | 0  |\n",
       "|  20 |  4 |  1 | 87 |  3 |  2 |  3 |  2 |  2 |  2 | ⋯ |  35 | 15 |  9 | 11 | 0 | 1 | NA | NA | daughter or son -in-law | 1  |\n",
       "|  40 |  2 |  2 | 67 |  3 |  2 |  3 |  2 |  2 |  3 | ⋯ |  55 | 18 | 10 |  8 | 0 | 1 |  2 |  2 | child                   | 1  |\n",
       "|  40 |  1 |  1 | 79 |  2 |  3 |  3 |  4 |  3 |  3 | ⋯ |  65 | 22 | 13 | 12 | 0 | 0 |  0 | NA | spouse/partner          | 1  |\n",
       "|  40 |  3 |  1 | 81 |  4 |  1 |  3 |  2 |  1 |  3 | ⋯ |  10 | 18 | 10 |  6 | 0 | 1 |  0 | NA | sibling                 | 1  |\n",
       "|   6 |  2 |  1 | 70 |  3 |  3 |  2 |  1 |  1 |  1 | ⋯ |  60 |  9 | 14 | 16 | 0 | 0 |  0 | NA | child                   | 0  |\n",
       "|  30 |  1 |  1 | 65 |  3 |  4 |  2 |  1 |  2 |  1 | ⋯ |  85 | 11 | 13 | 14 | 0 | 0 |  0 | NA | spouse/partner          | 0  |\n",
       "|  28 |  2 |  2 | 93 |  2 |  3 |  2 |  1 |  2 |  2 | ⋯ |  85 | 14 | 10 |  5 | 0 | 0 |  2 |  2 | child                   | 1  |\n",
       "|  20 |  2 |  1 | 74 |  2 |  4 |  1 |  1 |  1 |  1 | ⋯ |  85 |  7 | 16 | 11 | 0 | 2 |  2 |  2 | child                   | 0  |\n",
       "|  25 |  2 |  2 | 77 |  3 |  3 |  2 |  1 |  2 |  1 | ⋯ |  70 |  9 | 12 | 15 | 0 | 1 |  0 | NA | child                   | 0  |\n",
       "|  30 |  2 |  2 | 75 |  3 |  4 |  2 |  3 |  3 |  3 | ⋯ |  55 | 17 | 15 | 11 | 0 | 2 |  3 |  3 | child                   | 1  |\n",
       "|  50 |  2 |  2 | 90 |  3 |  3 |  3 |  4 |  3 |  3 | ⋯ |  50 | 23 | 11 |  8 | 0 | 1 |  0 | NA | child                   | 1  |\n",
       "|  20 |  2 |  2 | 91 |  4 |  3 |  2 |  1 |  1 |  2 | ⋯ |  70 | 12 |  9 | 11 | 2 | 2 | NA | NA | child                   | 1  |\n",
       "|  15 |  4 |  2 | 86 |  2 |  3 |  2 |  1 |  2 |  2 | ⋯ | 100 | 13 | 10 | 12 | 0 | 2 |  0 | NA | daughter or son -in-law | 1  |\n",
       "| 110 |  2 |  2 | 65 |  4 |  2 |  3 |  1 |  2 |  1 | ⋯ |  35 | 15 | 11 | 12 | 0 | 1 |  2 |  2 | child                   | 1  |\n",
       "|  28 |  8 |  2 | 82 |  3 |  4 |  1 |  1 |  2 |  1 | ⋯ |  80 |  8 | 16 | 20 | 0 | 1 |  1 |  1 | other, specify          | 0  |\n",
       "|  85 |  2 |  2 | 80 |  3 |  3 |  1 |  1 |  1 |  1 | ⋯ |  70 |  8 | 13 | 15 | 2 | 2 |  2 |  2 | child                   | 0  |\n",
       "| 160 |  1 |  1 | 74 |  4 |  3 |  2 |  1 |  4 |  1 | ⋯ |  25 | 14 | 14 | 15 | 2 | 4 |  2 |  2 | spouse/partner          | 1  |\n",
       "|  10 |  2 |  2 | 65 |  1 |  3 |  1 |  1 |  1 |  2 | ⋯ | 100 | 10 | 14 | 16 | 2 | 2 |  0 | NA | child                   | 0  |\n",
       "|   8 |  2 |  2 | 67 |  2 |  3 |  1 |  1 |  1 |  2 | ⋯ |  85 | 10 | 13 | 16 | 1 | 0 |  0 | NA | child                   | 0  |\n",
       "|  NA | NA | NA | NA | NA | NA | NA | NA | NA | NA | ⋯ |  NA | NA | NA | NA | 1 | 4 |  2 |  2 | NA                      | NA |\n",
       "|  NA | NA | NA | NA | NA | NA | NA | NA | NA | NA | ⋯ |  NA | NA | NA | NA | 0 | 1 |  2 |  2 | NA                      | NA |\n",
       "|  NA | NA | NA | NA | NA | NA | NA | NA | NA | NA | ⋯ |  NA | NA | NA | NA | 0 | 1 |  1 |  1 | NA                      | NA |\n",
       "|  NA | NA | NA | NA | NA | NA | NA | NA | NA | NA | ⋯ |  NA | NA | NA | NA | 0 | 1 |  2 |  2 | NA                      | NA |\n",
       "|  NA | NA | NA | NA | NA | NA | NA | NA | NA | NA | ⋯ |  NA | NA | NA | NA | 0 | 0 |  0 | NA | NA                      | NA |\n",
       "|  NA | NA | NA | NA | NA | NA | NA | NA | NA | NA | ⋯ |  NA | NA | NA | NA | 0 | 0 |  0 | NA | NA                      | NA |\n",
       "\n"
      ],
      "text/plain": [
       "    c12hour e15relat e16sex e17age e42dep c82cop1 c83cop2 c84cop3 c85cop4\n",
       "1    16     2        2      83     3      3       2       2        2     \n",
       "2   148     2        2      88     3      3       3       3        3     \n",
       "3    70     1        2      82     3      2       2       1        4     \n",
       "4   168     1        2      67     4      4       1       3        1     \n",
       "5   168     2        2      84     4      3       2       1        2     \n",
       "6    16     2        2      85     4      2       2       3        3     \n",
       "7   161     1        1      74     4      4       2       4        1     \n",
       "8   110     4        2      87     4      3       2       2        1     \n",
       "9    28     2        2      79     4      3       2       3        2     \n",
       "10   40     2        2      83     4      3       2       1        2     \n",
       "11  100     1        1      68     4      3       4       4        4     \n",
       "12   25     8        2      97     3      3       3       3        1     \n",
       "13   25     2        2      80     4      3       2       2        2     \n",
       "14   24     1        2      75     3      3       2       4        4     \n",
       "15   56     2        2      82     3      2       3       3        3     \n",
       "16   20     2        2      89     3      4       2       1        3     \n",
       "17   25     1        1      80     1      3       2       1        2     \n",
       "18  126     1        1      72     3      4       2       1        2     \n",
       "19  168     2        1      94     3      3       2       1        2     \n",
       "20  118     1        1      79     4      3       2       4        2     \n",
       "21  150     2        2      89     4      3       2       3        2     \n",
       "22   50     1        1      67     3      4       1       2        1     \n",
       "23   18     2        2      94     4      3       1       1        1     \n",
       "24  168     2        2      83     4      3       2       2        4     \n",
       "25   15     2        2      85     3      3       2       1        2     \n",
       "26  168     1        1      80     4      2       3       4        4     \n",
       "27   12     2        2      88     4      2       3       3       NA     \n",
       "28    7     1        1      76     2      2       2       2        2     \n",
       "29   35     2        2      84     3      3       2       2        2     \n",
       "30  168     2        2      95     4      2       2       1        2     \n",
       "⋮   ⋮       ⋮        ⋮      ⋮      ⋮      ⋮       ⋮       ⋮       ⋮      \n",
       "879  35      1        2     73      4      3       3       4       4     \n",
       "880  10      2        2     78      2      3       2       1       1     \n",
       "881 100      2        2     83      3      3       2       1       1     \n",
       "882   8      2        2     74      1      3       1       1       1     \n",
       "883  10      2        2     81      2      3       2       1       1     \n",
       "884  20      4        1     87      3      2       3       2       2     \n",
       "885  40      2        2     67      3      2       3       2       2     \n",
       "886  40      1        1     79      2      3       3       4       3     \n",
       "887  40      3        1     81      4      1       3       2       1     \n",
       "888   6      2        1     70      3      3       2       1       1     \n",
       "889  30      1        1     65      3      4       2       1       2     \n",
       "890  28      2        2     93      2      3       2       1       2     \n",
       "891  20      2        1     74      2      4       1       1       1     \n",
       "892  25      2        2     77      3      3       2       1       2     \n",
       "893  30      2        2     75      3      4       2       3       3     \n",
       "894  50      2        2     90      3      3       3       4       3     \n",
       "895  20      2        2     91      4      3       2       1       1     \n",
       "896  15      4        2     86      2      3       2       1       2     \n",
       "897 110      2        2     65      4      2       3       1       2     \n",
       "898  28      8        2     82      3      4       1       1       2     \n",
       "899  85      2        2     80      3      3       1       1       1     \n",
       "900 160      1        1     74      4      3       2       1       4     \n",
       "901  10      2        2     65      1      3       1       1       1     \n",
       "902   8      2        2     67      2      3       1       1       1     \n",
       "903  NA     NA       NA     NA     NA     NA      NA      NA      NA     \n",
       "904  NA     NA       NA     NA     NA     NA      NA      NA      NA     \n",
       "905  NA     NA       NA     NA     NA     NA      NA      NA      NA     \n",
       "906  NA     NA       NA     NA     NA     NA      NA      NA      NA     \n",
       "907  NA     NA       NA     NA     NA     NA      NA      NA      NA     \n",
       "908  NA     NA       NA     NA     NA     NA      NA      NA      NA     \n",
       "    c86cop5 ⋯ barthtot neg_c_7 pos_v_4 quol_5 resttotn tot_sc_e n4pstu nur_pst\n",
       "1   1       ⋯ 75       12      12      14     0        4        0      NA     \n",
       "2   4       ⋯ 75       20      11      10     4        0        0      NA     \n",
       "3   1       ⋯ 35       11      13       7     0        1        2       2     \n",
       "4   1       ⋯  0       10      15      12     2        0        3       3     \n",
       "5   2       ⋯ 25       12      15      19     2        1        2       2     \n",
       "6   3       ⋯ 60       19       9       8     1        3        2       2     \n",
       "7   1       ⋯  5       15      13      20     0        0        3       3     \n",
       "8   1       ⋯ 35       11      14      20     0        1        1       1     \n",
       "9   2       ⋯ 15       15      13       8     0        2        3       3     \n",
       "10  1       ⋯  0       10      13      15     1        1        3       3     \n",
       "11  4       ⋯ 25       28       9       1     1        1        3       3     \n",
       "12  3       ⋯ 85       18       8      19     1        1        1       1     \n",
       "13  2       ⋯ 15       13      14      12     0        3        3       3     \n",
       "14  1       ⋯ 70       18      14       8     0        0        1       1     \n",
       "15  2       ⋯ NA       16       9       8     3        3        0      NA     \n",
       "16  3       ⋯  0       13      14       6     0        2        0      NA     \n",
       "17  1       ⋯ 95       11      15      16     0        2        0      NA     \n",
       "18  1       ⋯ 55       11      13      14     0        0        2       2     \n",
       "19  2       ⋯ 55       13      13      15     3        1        1       1     \n",
       "20  1       ⋯ 45       17      12      10     0        7        2       2     \n",
       "21  1       ⋯  0       11      11      15     1        1        4       3     \n",
       "22  1       ⋯ 70        9      12      21     0        0        1       1     \n",
       "23  1       ⋯ 20        8      15      18     1        0        2       2     \n",
       "24  1       ⋯  0       14      15      15     1        1        3       3     \n",
       "25  1       ⋯ 95       11      14      16     0        2        1       1     \n",
       "26  3       ⋯ 10       23      12       0     1        1        2       2     \n",
       "27  1       ⋯ 75       NA      10      10     0        5        2       2     \n",
       "28  1       ⋯ 90       11       9      14     0        2        0      NA     \n",
       "29  4       ⋯ 60       15      11       4     0        2        2       2     \n",
       "30  1       ⋯ 20       11      NA      15     0        0        3       3     \n",
       "⋮   ⋮       ⋱ ⋮        ⋮       ⋮       ⋮      ⋮        ⋮        ⋮      ⋮      \n",
       "879  2      ⋯  50      24       9      11     0        1         0     NA     \n",
       "880  1      ⋯ 100       8      11      16     0        1         0     NA     \n",
       "881  1      ⋯ 100       9      10      14     0        0         0     NA     \n",
       "882  1      ⋯ 100       7      11      15     0        1         0     NA     \n",
       "883  1      ⋯ 100      10      10      13     0        1         2      2     \n",
       "884  2      ⋯  35      15       9      11     0        1        NA     NA     \n",
       "885  3      ⋯  55      18      10       8     0        1         2      2     \n",
       "886  3      ⋯  65      22      13      12     0        0         0     NA     \n",
       "887  3      ⋯  10      18      10       6     0        1         0     NA     \n",
       "888  1      ⋯  60       9      14      16     0        0         0     NA     \n",
       "889  1      ⋯  85      11      13      14     0        0         0     NA     \n",
       "890  2      ⋯  85      14      10       5     0        0         2      2     \n",
       "891  1      ⋯  85       7      16      11     0        2         2      2     \n",
       "892  1      ⋯  70       9      12      15     0        1         0     NA     \n",
       "893  3      ⋯  55      17      15      11     0        2         3      3     \n",
       "894  3      ⋯  50      23      11       8     0        1         0     NA     \n",
       "895  2      ⋯  70      12       9      11     2        2        NA     NA     \n",
       "896  2      ⋯ 100      13      10      12     0        2         0     NA     \n",
       "897  1      ⋯  35      15      11      12     0        1         2      2     \n",
       "898  1      ⋯  80       8      16      20     0        1         1      1     \n",
       "899  1      ⋯  70       8      13      15     2        2         2      2     \n",
       "900  1      ⋯  25      14      14      15     2        4         2      2     \n",
       "901  2      ⋯ 100      10      14      16     2        2         0     NA     \n",
       "902  2      ⋯  85      10      13      16     1        0         0     NA     \n",
       "903 NA      ⋯  NA      NA      NA      NA     1        4         2      2     \n",
       "904 NA      ⋯  NA      NA      NA      NA     0        1         2      2     \n",
       "905 NA      ⋯  NA      NA      NA      NA     0        1         1      1     \n",
       "906 NA      ⋯  NA      NA      NA      NA     0        1         2      2     \n",
       "907 NA      ⋯  NA      NA      NA      NA     0        0         0     NA     \n",
       "908 NA      ⋯  NA      NA      NA      NA     0        0         0     NA     \n",
       "    grp                     negc7d\n",
       "1   child                   1     \n",
       "2   child                   1     \n",
       "3   spouse/partner          0     \n",
       "4   spouse/partner          0     \n",
       "5   child                   1     \n",
       "6   child                   1     \n",
       "7   spouse/partner          1     \n",
       "8   daughter or son -in-law 0     \n",
       "9   child                   1     \n",
       "10  child                   0     \n",
       "11  spouse/partner          1     \n",
       "12  other, specify          1     \n",
       "13  child                   1     \n",
       "14  spouse/partner          1     \n",
       "15  child                   1     \n",
       "16  child                   1     \n",
       "17  spouse/partner          0     \n",
       "18  spouse/partner          0     \n",
       "19  child                   1     \n",
       "20  spouse/partner          1     \n",
       "21  child                   0     \n",
       "22  spouse/partner          0     \n",
       "23  child                   0     \n",
       "24  child                   1     \n",
       "25  child                   0     \n",
       "26  spouse/partner          1     \n",
       "27  child                   NA    \n",
       "28  spouse/partner          0     \n",
       "29  child                   1     \n",
       "30  child                   0     \n",
       "⋮   ⋮                       ⋮     \n",
       "879 spouse/partner          1     \n",
       "880 child                   0     \n",
       "881 child                   0     \n",
       "882 child                   0     \n",
       "883 child                   0     \n",
       "884 daughter or son -in-law 1     \n",
       "885 child                   1     \n",
       "886 spouse/partner          1     \n",
       "887 sibling                 1     \n",
       "888 child                   0     \n",
       "889 spouse/partner          0     \n",
       "890 child                   1     \n",
       "891 child                   0     \n",
       "892 child                   0     \n",
       "893 child                   1     \n",
       "894 child                   1     \n",
       "895 child                   1     \n",
       "896 daughter or son -in-law 1     \n",
       "897 child                   1     \n",
       "898 other, specify          0     \n",
       "899 child                   0     \n",
       "900 spouse/partner          1     \n",
       "901 child                   0     \n",
       "902 child                   0     \n",
       "903 NA                      NA    \n",
       "904 NA                      NA    \n",
       "905 NA                      NA    \n",
       "906 NA                      NA    \n",
       "907 NA                      NA    \n",
       "908 NA                      NA    "
      ]
     },
     "metadata": {},
     "output_type": "display_data"
    }
   ],
   "source": [
    "efc"
   ]
  },
  {
   "cell_type": "code",
   "execution_count": 225,
   "id": "f9a34c58",
   "metadata": {},
   "outputs": [
    {
     "data": {
      "text/plain": [
       "Generalized linear mixed model fit by maximum likelihood (Laplace\n",
       "  Approximation) [glmerMod]\n",
       " Family: Negative Binomial(29.248)  ( log )\n",
       "Formula: \n",
       "count ~ splines::bs(days_to_sampling, degree = 2) + grouped_severity +  \n",
       "    sex + ethnicity + scale(calc_age) + centre + (1 | individual_id) +  \n",
       "    splines::bs(days_to_sampling, degree = 2):grouped_severity\n",
       "   Data: data\n",
       " Offset: offset\n",
       "     AIC      BIC   logLik deviance df.resid \n",
       "190.4709 208.6126 -81.2354 162.4709       13 \n",
       "Random effects:\n",
       " Groups        Name        Std.Dev.\n",
       " individual_id (Intercept) 0.8325  \n",
       "Number of obs: 27, groups:  individual_id, 19\n",
       "Fixed Effects:\n",
       "                                                               (Intercept)  \n",
       "                                                                  -2.29075  \n",
       "                                splines::bs(days_to_sampling, degree = 2)1  \n",
       "                                                                   2.92559  \n",
       "                                splines::bs(days_to_sampling, degree = 2)2  \n",
       "                                                                   3.35530  \n",
       "                                           grouped_severitysevere_critical  \n",
       "                                                                  -3.29374  \n",
       "                                                                      sexM  \n",
       "                                                                   0.24754  \n",
       "                                                            ethnicityblack  \n",
       "                                                                   1.82825  \n",
       "                                                            ethnicityother  \n",
       "                                                                   0.04564  \n",
       "                                                            ethnicitywhite  \n",
       "                                                                   1.60032  \n",
       "                                                           scale(calc_age)  \n",
       "                                                                  -0.63125  \n",
       "                                                                 centreNCL  \n",
       "                                                                   1.25163  \n",
       "splines::bs(days_to_sampling, degree = 2)1:grouped_severitysevere_critical  \n",
       "                                                                   7.55770  \n",
       "splines::bs(days_to_sampling, degree = 2)2:grouped_severitysevere_critical  \n",
       "                                                                  -1.77207  "
      ]
     },
     "metadata": {},
     "output_type": "display_data"
    }
   ],
   "source": [
    "fit"
   ]
  },
  {
   "cell_type": "code",
   "execution_count": 220,
   "id": "57311180",
   "metadata": {},
   "outputs": [
    {
     "ename": "ERROR",
     "evalue": "Error in `[.data.frame`(md, , needed.vars, drop = FALSE): undefined columns selected\n",
     "output_type": "error",
     "traceback": [
      "Error in `[.data.frame`(md, , needed.vars, drop = FALSE): undefined columns selected\nTraceback:\n",
      "1. ggemmeans(fit, terms = \"splines::bs(days_to_sampling, degree = 2):grouped_severity\")",
      "2. insight::get_data(model)",
      "3. get_data.merMod(model)",
      "4. .prepare_get_data(x, mf, effects, verbose = verbose)",
      "5. md[, needed.vars, drop = FALSE]",
      "6. `[.data.frame`(md, , needed.vars, drop = FALSE)",
      "7. stop(\"undefined columns selected\")"
     ]
    }
   ],
   "source": [
    "predictions <- ggemmeans(fit, terms = \"splines::bs(days_to_sampling, degree = 2):grouped_severity\")"
   ]
  },
  {
   "cell_type": "code",
   "execution_count": 203,
   "id": "40f0efc1",
   "metadata": {},
   "outputs": [
    {
     "ename": "ERROR",
     "evalue": "Error in `[.data.frame`(md, , needed.vars, drop = FALSE): undefined columns selected\n",
     "output_type": "error",
     "traceback": [
      "Error in `[.data.frame`(md, , needed.vars, drop = FALSE): undefined columns selected\nTraceback:\n",
      "1. insight::get_data(fit, effects = \"all\")",
      "2. get_data.merMod(fit, effects = \"all\")",
      "3. .prepare_get_data(x, mf, effects, verbose = verbose)",
      "4. md[, needed.vars, drop = FALSE]",
      "5. `[.data.frame`(md, , needed.vars, drop = FALSE)",
      "6. stop(\"undefined columns selected\")"
     ]
    }
   ],
   "source": [
    "insight::get_data(fit, effects = 'all')"
   ]
  },
  {
   "cell_type": "code",
   "execution_count": 196,
   "id": "fe2575b0",
   "metadata": {},
   "outputs": [
    {
     "ename": "ERROR",
     "evalue": "Error in data.frame(module = \"gene\", inter_p = longt_anova$Pr..Chisq.[7], : arguments imply differing number of rows: 1, 0\n",
     "output_type": "error",
     "traceback": [
      "Error in data.frame(module = \"gene\", inter_p = longt_anova$Pr..Chisq.[7], : arguments imply differing number of rows: 1, 0\nTraceback:\n",
      "1. rbind(longt_anova, data.frame(module = \"gene\", inter_p = longt_anova$Pr..Chisq.[7], \n .     time_p = longt_anova$Pr..Chisq.[1], sev_p = longt_anova$Pr..Chisq.[2], \n .     sev_beta = data.frame(summary(fit)$coefficients)$Estimate[4], \n .     wave_p = longt_anova$Pr..F.[6], wave_beta = data.frame(summary(fit)$coefficients)$Estimate[10]))",
      "2. standardGeneric(\"rbind\")",
      "3. eval(quote(list(...)), env)",
      "4. eval(quote(list(...)), env)",
      "5. eval(quote(list(...)), env)",
      "6. data.frame(module = \"gene\", inter_p = longt_anova$Pr..Chisq.[7], \n .     time_p = longt_anova$Pr..Chisq.[1], sev_p = longt_anova$Pr..Chisq.[2], \n .     sev_beta = data.frame(summary(fit)$coefficients)$Estimate[4], \n .     wave_p = longt_anova$Pr..F.[6], wave_beta = data.frame(summary(fit)$coefficients)$Estimate[10])",
      "7. stop(gettextf(\"arguments imply differing number of rows: %s\", \n .     paste(unique(nrows), collapse = \", \")), domain = NA)"
     ]
    }
   ],
   "source": [
    "longt_results <- rbind(longt_anova, data.frame(\n",
    "            module = 'gene',\n",
    "            inter_p = longt_anova$Pr..Chisq.[7],\n",
    "            time_p = longt_anova$Pr..Chisq.[1],\n",
    "            sev_p = longt_anova$Pr..Chisq.[2],\n",
    "            sev_beta = data.frame(summary(fit)$coefficients)$Estimate[4],\n",
    "            wave_p = longt_anova$Pr..F.[6],\n",
    "            wave_beta = data.frame(summary(fit)$coefficients)$Estimate[10]\n",
    "        ))"
   ]
  },
  {
   "cell_type": "code",
   "execution_count": 191,
   "id": "d3ef3407",
   "metadata": {},
   "outputs": [
    {
     "name": "stderr",
     "output_type": "stream",
     "text": [
      "Loading required namespace: emmeans\n",
      "\n"
     ]
    },
    {
     "ename": "ERROR",
     "evalue": "Error: Package `emmeans` required to compute marginal effects with `ggemmeans()`.\n",
     "output_type": "error",
     "traceback": [
      "Error: Package `emmeans` required to compute marginal effects with `ggemmeans()`.\nTraceback:\n",
      "1. ggemmeans(fit)",
      "2. stop(\"Package `emmeans` required to compute marginal effects with `ggemmeans()`.\", \n .     call. = FALSE)"
     ]
    }
   ],
   "source": [
    "predictions <- ggemmeans(fit)"
   ]
  },
  {
   "cell_type": "code",
   "execution_count": 163,
   "id": "03b1997e",
   "metadata": {},
   "outputs": [
    {
     "data": {
      "text/plain": [
       "chisq =  10.52362  with df =  4  p =  0.03247318 "
      ]
     },
     "metadata": {},
     "output_type": "display_data"
    }
   ],
   "source": [
    "metap::sumlog(c(0.01304820, 0.39744248))"
   ]
  },
  {
   "cell_type": "code",
   "execution_count": 164,
   "id": "fe0282cf",
   "metadata": {},
   "outputs": [
    {
     "data": {
      "text/plain": [
       "sumz =  1.756981 p =  0.0394605 "
      ]
     },
     "metadata": {},
     "output_type": "display_data"
    }
   ],
   "source": [
    "metap::sumz(c(0.01304820, 0.39744248))"
   ]
  },
  {
   "cell_type": "code",
   "execution_count": 60,
   "id": "ff1a37b8",
   "metadata": {},
   "outputs": [
    {
     "ename": "ERROR",
     "evalue": "Error in lmerTest::as_lmerModLmerTest(fit): model not of class 'lmerMod': cannot coerce to class 'lmerModLmerTest\n",
     "output_type": "error",
     "traceback": [
      "Error in lmerTest::as_lmerModLmerTest(fit): model not of class 'lmerMod': cannot coerce to class 'lmerModLmerTest\nTraceback:\n",
      "1. lmerTest::as_lmerModLmerTest(fit)",
      "2. stop(\"model not of class 'lmerMod': cannot coerce to class 'lmerModLmerTest\")"
     ]
    }
   ],
   "source": [
    "lmerTest::as_lmerModLmerTest(fit)"
   ]
  },
  {
   "cell_type": "code",
   "execution_count": 168,
   "id": "b92d8c1a",
   "metadata": {},
   "outputs": [
    {
     "data": {
      "text/plain": [
       "Generalized linear mixed model fit by maximum likelihood (Laplace\n",
       "  Approximation) [glmerMod]\n",
       " Family: Negative Binomial(29.248)  ( log )\n",
       "Formula: \n",
       "count ~ splines::bs(days_to_sampling, degree = 2) + grouped_severity +  \n",
       "    sex + ethnicity + calc_age + centre + (1 | individual_id) +  \n",
       "    splines::bs(days_to_sampling, degree = 2):grouped_severity\n",
       "   Data: data\n",
       " Offset: offset\n",
       "Control: control\n",
       "\n",
       "     AIC      BIC   logLik deviance df.resid \n",
       "   190.5    208.6    -81.2    162.5       13 \n",
       "\n",
       "Scaled residuals: \n",
       "     Min       1Q   Median       3Q      Max \n",
       "-1.79161 -0.73923 -0.07422  0.60582  2.46513 \n",
       "\n",
       "Random effects:\n",
       " Groups        Name        Variance Std.Dev.\n",
       " individual_id (Intercept) 0.6924   0.8321  \n",
       "Number of obs: 27, groups:  individual_id, 19\n",
       "\n",
       "Fixed effects:\n",
       "                                                                           Estimate\n",
       "(Intercept)                                                                 1.67023\n",
       "splines::bs(days_to_sampling, degree = 2)1                                  2.90425\n",
       "splines::bs(days_to_sampling, degree = 2)2                                  3.34038\n",
       "grouped_severitysevere_critical                                            -3.30569\n",
       "sexM                                                                        0.24627\n",
       "ethnicityblack                                                              1.82442\n",
       "ethnicityother                                                              0.05065\n",
       "ethnicitywhite                                                              1.59546\n",
       "calc_age                                                                   -0.05662\n",
       "centreNCL                                                                   1.25373\n",
       "splines::bs(days_to_sampling, degree = 2)1:grouped_severitysevere_critical  7.58141\n",
       "splines::bs(days_to_sampling, degree = 2)2:grouped_severitysevere_critical -1.75578\n",
       "                                                                           Std. Error\n",
       "(Intercept)                                                                   1.90766\n",
       "splines::bs(days_to_sampling, degree = 2)1                                    2.67207\n",
       "splines::bs(days_to_sampling, degree = 2)2                                    1.90289\n",
       "grouped_severitysevere_critical                                               1.60880\n",
       "sexM                                                                          0.89085\n",
       "ethnicityblack                                                                1.33438\n",
       "ethnicityother                                                                1.48838\n",
       "ethnicitywhite                                                                0.82091\n",
       "calc_age                                                                      0.03213\n",
       "centreNCL                                                                     0.70081\n",
       "splines::bs(days_to_sampling, degree = 2)1:grouped_severitysevere_critical    3.05400\n",
       "splines::bs(days_to_sampling, degree = 2)2:grouped_severitysevere_critical    2.07491\n",
       "                                                                           z value\n",
       "(Intercept)                                                                  0.876\n",
       "splines::bs(days_to_sampling, degree = 2)1                                   1.087\n",
       "splines::bs(days_to_sampling, degree = 2)2                                   1.755\n",
       "grouped_severitysevere_critical                                             -2.055\n",
       "sexM                                                                         0.276\n",
       "ethnicityblack                                                               1.367\n",
       "ethnicityother                                                               0.034\n",
       "ethnicitywhite                                                               1.944\n",
       "calc_age                                                                    -1.762\n",
       "centreNCL                                                                    1.789\n",
       "splines::bs(days_to_sampling, degree = 2)1:grouped_severitysevere_critical   2.482\n",
       "splines::bs(days_to_sampling, degree = 2)2:grouped_severitysevere_critical  -0.846\n",
       "                                                                           Pr(>|z|)\n",
       "(Intercept)                                                                  0.3813\n",
       "splines::bs(days_to_sampling, degree = 2)1                                   0.2771\n",
       "splines::bs(days_to_sampling, degree = 2)2                                   0.0792\n",
       "grouped_severitysevere_critical                                              0.0399\n",
       "sexM                                                                         0.7822\n",
       "ethnicityblack                                                               0.1716\n",
       "ethnicityother                                                               0.9729\n",
       "ethnicitywhite                                                               0.0520\n",
       "calc_age                                                                     0.0781\n",
       "centreNCL                                                                    0.0736\n",
       "splines::bs(days_to_sampling, degree = 2)1:grouped_severitysevere_critical   0.0130\n",
       "splines::bs(days_to_sampling, degree = 2)2:grouped_severitysevere_critical   0.3974\n",
       "                                                                            \n",
       "(Intercept)                                                                 \n",
       "splines::bs(days_to_sampling, degree = 2)1                                  \n",
       "splines::bs(days_to_sampling, degree = 2)2                                 .\n",
       "grouped_severitysevere_critical                                            *\n",
       "sexM                                                                        \n",
       "ethnicityblack                                                              \n",
       "ethnicityother                                                              \n",
       "ethnicitywhite                                                             .\n",
       "calc_age                                                                   .\n",
       "centreNCL                                                                  .\n",
       "splines::bs(days_to_sampling, degree = 2)1:grouped_severitysevere_critical *\n",
       "splines::bs(days_to_sampling, degree = 2)2:grouped_severitysevere_critical  \n",
       "---\n",
       "Signif. codes:  0 ‘***’ 0.001 ‘**’ 0.01 ‘*’ 0.05 ‘.’ 0.1 ‘ ’ 1\n",
       "\n",
       "Correlation of Fixed Effects:\n",
       "              (Intr) sp::(__,d=2)1 sp::(__,d=2)2 grpd__ sexM   ethnctyb\n",
       "sp::(__,d=2)1 -0.064                                                   \n",
       "sp::(__,d=2)2 -0.081  0.946                                            \n",
       "grpd_svrty_    0.047  0.763         0.758                              \n",
       "sexM          -0.614  0.226         0.278         0.017                \n",
       "ethnctyblck    0.295  0.276         0.271         0.226 -0.120         \n",
       "ethnictythr    0.182 -0.405        -0.390        -0.202 -0.358  0.095  \n",
       "ethnictywht   -0.092  0.720         0.727         0.549  0.042  0.246  \n",
       "calc_age      -0.667 -0.614        -0.612        -0.568  0.152 -0.503  \n",
       "centreNCL      0.127 -0.431        -0.445        -0.296 -0.198  0.240  \n",
       "s::(__,d=2)1:  0.051 -0.870        -0.824        -0.914 -0.198 -0.242  \n",
       "s::(__,d=2)2:  0.072 -0.878        -0.928        -0.835 -0.260 -0.257  \n",
       "              ethnctyt ethnctyw calc_g cntNCL s::(__,d=2)1:\n",
       "sp::(__,d=2)1                                              \n",
       "sp::(__,d=2)2                                              \n",
       "grpd_svrty_                                                \n",
       "sexM                                                       \n",
       "ethnctyblck                                                \n",
       "ethnictythr                                                \n",
       "ethnictywht   -0.247                                       \n",
       "calc_age       0.054   -0.397                              \n",
       "centreNCL      0.501   -0.450    0.013                     \n",
       "s::(__,d=2)1:  0.362   -0.621    0.532  0.396              \n",
       "s::(__,d=2)2:  0.374   -0.672    0.564  0.442  0.854       \n",
       "optimizer (bobyqa) convergence code: 1 (bobyqa -- maximum number of function evaluations exceeded)\n",
       "Model failed to converge with max|grad| = 0.0028511 (tol = 0.002, component 1)\n",
       "Model is nearly unidentifiable: large eigenvalue ratio\n",
       " - Rescale variables?\n"
      ]
     },
     "metadata": {},
     "output_type": "display_data"
    }
   ],
   "source": [
    "summary(fit)"
   ]
  },
  {
   "cell_type": "code",
   "execution_count": 167,
   "id": "d90280bd",
   "metadata": {},
   "outputs": [
    {
     "data": {
      "text/plain": [
       "Generalized linear mixed model fit by maximum likelihood (Laplace\n",
       "  Approximation) [glmerMod]\n",
       " Family: Negative Binomial(29.248)  ( log )\n",
       "Formula: \n",
       "count ~ splines::bs(days_to_sampling, degree = 2) + grouped_severity +  \n",
       "    sex + ethnicity + calc_age + centre + (1 | individual_id) +  \n",
       "    splines::bs(days_to_sampling, degree = 2):grouped_severity\n",
       "   Data: data\n",
       " Offset: offset\n",
       "     AIC      BIC   logLik deviance df.resid \n",
       "190.4710 208.6127 -81.2355 162.4710       13 \n",
       "Random effects:\n",
       " Groups        Name        Std.Dev.\n",
       " individual_id (Intercept) 0.8321  \n",
       "Number of obs: 27, groups:  individual_id, 19\n",
       "Fixed Effects:\n",
       "                                                               (Intercept)  \n",
       "                                                                   1.67023  \n",
       "                                splines::bs(days_to_sampling, degree = 2)1  \n",
       "                                                                   2.90425  \n",
       "                                splines::bs(days_to_sampling, degree = 2)2  \n",
       "                                                                   3.34038  \n",
       "                                           grouped_severitysevere_critical  \n",
       "                                                                  -3.30569  \n",
       "                                                                      sexM  \n",
       "                                                                   0.24627  \n",
       "                                                            ethnicityblack  \n",
       "                                                                   1.82442  \n",
       "                                                            ethnicityother  \n",
       "                                                                   0.05065  \n",
       "                                                            ethnicitywhite  \n",
       "                                                                   1.59546  \n",
       "                                                                  calc_age  \n",
       "                                                                  -0.05662  \n",
       "                                                                 centreNCL  \n",
       "                                                                   1.25373  \n",
       "splines::bs(days_to_sampling, degree = 2)1:grouped_severitysevere_critical  \n",
       "                                                                   7.58141  \n",
       "splines::bs(days_to_sampling, degree = 2)2:grouped_severitysevere_critical  \n",
       "                                                                  -1.75578  \n",
       "optimizer (bobyqa) convergence code: 1 (bobyqa -- maximum number of function evaluations exceeded) ; 0 optimizer warnings; 2 lme4 warnings "
      ]
     },
     "metadata": {},
     "output_type": "display_data"
    }
   ],
   "source": [
    "fit"
   ]
  },
  {
   "cell_type": "code",
   "execution_count": 70,
   "id": "d2624dc0",
   "metadata": {},
   "outputs": [
    {
     "data": {
      "text/html": [
       "<table class=\"dataframe\">\n",
       "<caption>A anova: 8 × 3</caption>\n",
       "<thead>\n",
       "\t<tr><th></th><th scope=col>Chisq</th><th scope=col>Df</th><th scope=col>Pr(&gt;Chisq)</th></tr>\n",
       "\t<tr><th></th><th scope=col>&lt;dbl&gt;</th><th scope=col>&lt;dbl&gt;</th><th scope=col>&lt;dbl&gt;</th></tr>\n",
       "</thead>\n",
       "<tbody>\n",
       "\t<tr><th scope=row>(Intercept)</th><td> 0.76656707</td><td>1</td><td>3.812812e-01</td></tr>\n",
       "\t<tr><th scope=row>splines::bs(days_to_sampling, degree = 2)</th><td> 6.21063178</td><td>2</td><td>4.481036e-02</td></tr>\n",
       "\t<tr><th scope=row>grouped_severity</th><td> 4.22201005</td><td>1</td><td>3.990286e-02</td></tr>\n",
       "\t<tr><th scope=row>sex</th><td> 0.07642318</td><td>1</td><td>7.822044e-01</td></tr>\n",
       "\t<tr><th scope=row>ethnicity</th><td> 4.76696667</td><td>3</td><td>1.896782e-01</td></tr>\n",
       "\t<tr><th scope=row>calc_age</th><td> 3.10478964</td><td>1</td><td>7.806232e-02</td></tr>\n",
       "\t<tr><th scope=row>centre</th><td> 3.20043565</td><td>1</td><td>7.361866e-02</td></tr>\n",
       "\t<tr><th scope=row>splines::bs(days_to_sampling, degree = 2):grouped_severity</th><td>38.77572779</td><td>2</td><td>3.801524e-09</td></tr>\n",
       "</tbody>\n",
       "</table>\n"
      ],
      "text/latex": [
       "A anova: 8 × 3\n",
       "\\begin{tabular}{r|lll}\n",
       "  & Chisq & Df & Pr(>Chisq)\\\\\n",
       "  & <dbl> & <dbl> & <dbl>\\\\\n",
       "\\hline\n",
       "\t(Intercept) &  0.76656707 & 1 & 3.812812e-01\\\\\n",
       "\tsplines::bs(days\\_to\\_sampling, degree = 2) &  6.21063178 & 2 & 4.481036e-02\\\\\n",
       "\tgrouped\\_severity &  4.22201005 & 1 & 3.990286e-02\\\\\n",
       "\tsex &  0.07642318 & 1 & 7.822044e-01\\\\\n",
       "\tethnicity &  4.76696667 & 3 & 1.896782e-01\\\\\n",
       "\tcalc\\_age &  3.10478964 & 1 & 7.806232e-02\\\\\n",
       "\tcentre &  3.20043565 & 1 & 7.361866e-02\\\\\n",
       "\tsplines::bs(days\\_to\\_sampling, degree = 2):grouped\\_severity & 38.77572779 & 2 & 3.801524e-09\\\\\n",
       "\\end{tabular}\n"
      ],
      "text/markdown": [
       "\n",
       "A anova: 8 × 3\n",
       "\n",
       "| <!--/--> | Chisq &lt;dbl&gt; | Df &lt;dbl&gt; | Pr(&gt;Chisq) &lt;dbl&gt; |\n",
       "|---|---|---|---|\n",
       "| (Intercept) |  0.76656707 | 1 | 3.812812e-01 |\n",
       "| splines::bs(days_to_sampling, degree = 2) |  6.21063178 | 2 | 4.481036e-02 |\n",
       "| grouped_severity |  4.22201005 | 1 | 3.990286e-02 |\n",
       "| sex |  0.07642318 | 1 | 7.822044e-01 |\n",
       "| ethnicity |  4.76696667 | 3 | 1.896782e-01 |\n",
       "| calc_age |  3.10478964 | 1 | 7.806232e-02 |\n",
       "| centre |  3.20043565 | 1 | 7.361866e-02 |\n",
       "| splines::bs(days_to_sampling, degree = 2):grouped_severity | 38.77572779 | 2 | 3.801524e-09 |\n",
       "\n"
      ],
      "text/plain": [
       "                                                           Chisq       Df\n",
       "(Intercept)                                                 0.76656707 1 \n",
       "splines::bs(days_to_sampling, degree = 2)                   6.21063178 2 \n",
       "grouped_severity                                            4.22201005 1 \n",
       "sex                                                         0.07642318 1 \n",
       "ethnicity                                                   4.76696667 3 \n",
       "calc_age                                                    3.10478964 1 \n",
       "centre                                                      3.20043565 1 \n",
       "splines::bs(days_to_sampling, degree = 2):grouped_severity 38.77572779 2 \n",
       "                                                           Pr(>Chisq)  \n",
       "(Intercept)                                                3.812812e-01\n",
       "splines::bs(days_to_sampling, degree = 2)                  4.481036e-02\n",
       "grouped_severity                                           3.990286e-02\n",
       "sex                                                        7.822044e-01\n",
       "ethnicity                                                  1.896782e-01\n",
       "calc_age                                                   7.806232e-02\n",
       "centre                                                     7.361866e-02\n",
       "splines::bs(days_to_sampling, degree = 2):grouped_severity 3.801524e-09"
      ]
     },
     "metadata": {},
     "output_type": "display_data"
    }
   ],
   "source": [
    "car::Anova(fit, type = 3)"
   ]
  },
  {
   "cell_type": "code",
   "execution_count": 56,
   "id": "1a33d76d",
   "metadata": {},
   "outputs": [
    {
     "name": "stderr",
     "output_type": "stream",
     "text": [
      "Computing profile confidence intervals ...\n",
      "\n"
     ]
    }
   ],
   "source": []
  },
  {
   "cell_type": "code",
   "execution_count": 29,
   "id": "8fd17d14",
   "metadata": {},
   "outputs": [
    {
     "data": {
      "text/plain": [
       "$stats\n",
       "                                                                Dispersion \n",
       "                                                              3.419036e-02 \n",
       "                                                                       AIC \n",
       "                                                              1.904710e+02 \n",
       "                                                                    logLik \n",
       "                                                             -8.123548e+01 \n",
       "                                                               (Intercept) \n",
       "                                                              1.670228e+00 \n",
       "                                splines::bs(days_to_sampling, degree = 2)1 \n",
       "                                                              2.904249e+00 \n",
       "                                splines::bs(days_to_sampling, degree = 2)2 \n",
       "                                                              3.340376e+00 \n",
       "                                           grouped_severitysevere_critical \n",
       "                                                             -3.305689e+00 \n",
       "                                                                      sexM \n",
       "                                                              2.462743e-01 \n",
       "                                                            ethnicityblack \n",
       "                                                              1.824415e+00 \n",
       "                                                            ethnicityother \n",
       "                                                              5.064979e-02 \n",
       "                                                            ethnicitywhite \n",
       "                                                              1.595463e+00 \n",
       "                                                                  calc_age \n",
       "                                                             -5.661729e-02 \n",
       "                                                                 centreNCL \n",
       "                                                              1.253731e+00 \n",
       "splines::bs(days_to_sampling, degree = 2)1:grouped_severitysevere_critical \n",
       "                                                              7.581408e+00 \n",
       "splines::bs(days_to_sampling, degree = 2)2:grouped_severitysevere_critical \n",
       "                                                             -1.755785e+00 \n",
       "                           Chisq_splines::bs(days_to_sampling, degree = 2) \n",
       "                                                              1.829320e+01 \n",
       "                                                    Chisq_grouped_severity \n",
       "                                                              9.203349e-01 \n",
       "                                                                 Chisq_sex \n",
       "                                                              7.642318e-02 \n",
       "                                                           Chisq_ethnicity \n",
       "                                                              4.766967e+00 \n",
       "                                                            Chisq_calc_age \n",
       "                                                              3.104790e+00 \n",
       "                                                              Chisq_centre \n",
       "                                                              3.200436e+00 \n",
       "          Chisq_splines::bs(days_to_sampling, degree = 2):grouped_severity \n",
       "                                                              3.877573e+01 \n",
       "                               P_splines::bs(days_to_sampling, degree = 2) \n",
       "                                                              1.065814e-04 \n",
       "                                                        P_grouped_severity \n",
       "                                                              3.373870e-01 \n",
       "                                                                     P_sex \n",
       "                                                              7.822044e-01 \n",
       "                                                               P_ethnicity \n",
       "                                                              1.896782e-01 \n",
       "                                                                P_calc_age \n",
       "                                                              7.806232e-02 \n",
       "                                                                  P_centre \n",
       "                                                              7.361866e-02 \n",
       "              P_splines::bs(days_to_sampling, degree = 2):grouped_severity \n",
       "                                                              3.801524e-09 \n",
       "\n",
       "$fit\n",
       "Generalized linear mixed model fit by maximum likelihood (Laplace\n",
       "  Approximation) [glmerMod]\n",
       " Family: Negative Binomial(29.248)  ( log )\n",
       "Formula: \n",
       "count ~ splines::bs(days_to_sampling, degree = 2) + grouped_severity +  \n",
       "    sex + ethnicity + calc_age + centre + (1 | individual_id) +  \n",
       "    splines::bs(days_to_sampling, degree = 2):grouped_severity\n",
       "   Data: data\n",
       " Offset: offset\n",
       "     AIC      BIC   logLik deviance df.resid \n",
       "190.4710 208.6127 -81.2355 162.4710       13 \n",
       "Random effects:\n",
       " Groups        Name        Std.Dev.\n",
       " individual_id (Intercept) 0.8321  \n",
       "Number of obs: 27, groups:  individual_id, 19\n",
       "Fixed Effects:\n",
       "                                                               (Intercept)  \n",
       "                                                                   1.67023  \n",
       "                                splines::bs(days_to_sampling, degree = 2)1  \n",
       "                                                                   2.90425  \n",
       "                                splines::bs(days_to_sampling, degree = 2)2  \n",
       "                                                                   3.34038  \n",
       "                                           grouped_severitysevere_critical  \n",
       "                                                                  -3.30569  \n",
       "                                                                      sexM  \n",
       "                                                                   0.24627  \n",
       "                                                            ethnicityblack  \n",
       "                                                                   1.82442  \n",
       "                                                            ethnicityother  \n",
       "                                                                   0.05065  \n",
       "                                                            ethnicitywhite  \n",
       "                                                                   1.59546  \n",
       "                                                                  calc_age  \n",
       "                                                                  -0.05662  \n",
       "                                                                 centreNCL  \n",
       "                                                                   1.25373  \n",
       "splines::bs(days_to_sampling, degree = 2)1:grouped_severitysevere_critical  \n",
       "                                                                   7.58141  \n",
       "splines::bs(days_to_sampling, degree = 2)2:grouped_severitysevere_critical  \n",
       "                                                                  -1.75578  \n",
       "optimizer (bobyqa) convergence code: 1 (bobyqa -- maximum number of function evaluations exceeded) ; 0 optimizer warnings; 2 lme4 warnings \n",
       "\n",
       "$optinfo\n",
       "[1] 0 2\n",
       "\n",
       "$tryErrors\n",
       "[1] \"\"\n"
      ]
     },
     "metadata": {},
     "output_type": "display_data"
    }
   ],
   "source": [
    "test"
   ]
  },
  {
   "cell_type": "code",
   "execution_count": 30,
   "id": "c81d62ab",
   "metadata": {},
   "outputs": [
    {
     "data": {
      "text/html": [
       "<table class=\"dataframe\">\n",
       "<caption>A tibble: 7 × 5</caption>\n",
       "<thead>\n",
       "\t<tr><th scope=col>term</th><th scope=col>npar</th><th scope=col>sumsq</th><th scope=col>meansq</th><th scope=col>statistic</th></tr>\n",
       "\t<tr><th scope=col>&lt;chr&gt;</th><th scope=col>&lt;int&gt;</th><th scope=col>&lt;dbl&gt;</th><th scope=col>&lt;dbl&gt;</th><th scope=col>&lt;dbl&gt;</th></tr>\n",
       "</thead>\n",
       "<tbody>\n",
       "\t<tr><td>splines::bs(days_to_sampling, degree = 2)                 </td><td>2</td><td> 8.1205937</td><td> 4.0602969</td><td> 4.0602969</td></tr>\n",
       "\t<tr><td>grouped_severity                                          </td><td>1</td><td> 0.5109861</td><td> 0.5109861</td><td> 0.5109861</td></tr>\n",
       "\t<tr><td>sex                                                       </td><td>1</td><td> 0.8547432</td><td> 0.8547432</td><td> 0.8547432</td></tr>\n",
       "\t<tr><td>ethnicity                                                 </td><td>3</td><td>11.8845165</td><td> 3.9615055</td><td> 3.9615055</td></tr>\n",
       "\t<tr><td>calc_age                                                  </td><td>1</td><td> 3.0330279</td><td> 3.0330279</td><td> 3.0330279</td></tr>\n",
       "\t<tr><td>centre                                                    </td><td>1</td><td> 4.7035553</td><td> 4.7035553</td><td> 4.7035553</td></tr>\n",
       "\t<tr><td>splines::bs(days_to_sampling, degree = 2):grouped_severity</td><td>2</td><td>37.3371846</td><td>18.6685923</td><td>18.6685923</td></tr>\n",
       "</tbody>\n",
       "</table>\n"
      ],
      "text/latex": [
       "A tibble: 7 × 5\n",
       "\\begin{tabular}{lllll}\n",
       " term & npar & sumsq & meansq & statistic\\\\\n",
       " <chr> & <int> & <dbl> & <dbl> & <dbl>\\\\\n",
       "\\hline\n",
       "\t splines::bs(days\\_to\\_sampling, degree = 2)                  & 2 &  8.1205937 &  4.0602969 &  4.0602969\\\\\n",
       "\t grouped\\_severity                                           & 1 &  0.5109861 &  0.5109861 &  0.5109861\\\\\n",
       "\t sex                                                        & 1 &  0.8547432 &  0.8547432 &  0.8547432\\\\\n",
       "\t ethnicity                                                  & 3 & 11.8845165 &  3.9615055 &  3.9615055\\\\\n",
       "\t calc\\_age                                                   & 1 &  3.0330279 &  3.0330279 &  3.0330279\\\\\n",
       "\t centre                                                     & 1 &  4.7035553 &  4.7035553 &  4.7035553\\\\\n",
       "\t splines::bs(days\\_to\\_sampling, degree = 2):grouped\\_severity & 2 & 37.3371846 & 18.6685923 & 18.6685923\\\\\n",
       "\\end{tabular}\n"
      ],
      "text/markdown": [
       "\n",
       "A tibble: 7 × 5\n",
       "\n",
       "| term &lt;chr&gt; | npar &lt;int&gt; | sumsq &lt;dbl&gt; | meansq &lt;dbl&gt; | statistic &lt;dbl&gt; |\n",
       "|---|---|---|---|---|\n",
       "| splines::bs(days_to_sampling, degree = 2)                  | 2 |  8.1205937 |  4.0602969 |  4.0602969 |\n",
       "| grouped_severity                                           | 1 |  0.5109861 |  0.5109861 |  0.5109861 |\n",
       "| sex                                                        | 1 |  0.8547432 |  0.8547432 |  0.8547432 |\n",
       "| ethnicity                                                  | 3 | 11.8845165 |  3.9615055 |  3.9615055 |\n",
       "| calc_age                                                   | 1 |  3.0330279 |  3.0330279 |  3.0330279 |\n",
       "| centre                                                     | 1 |  4.7035553 |  4.7035553 |  4.7035553 |\n",
       "| splines::bs(days_to_sampling, degree = 2):grouped_severity | 2 | 37.3371846 | 18.6685923 | 18.6685923 |\n",
       "\n"
      ],
      "text/plain": [
       "  term                                                       npar sumsq     \n",
       "1 splines::bs(days_to_sampling, degree = 2)                  2     8.1205937\n",
       "2 grouped_severity                                           1     0.5109861\n",
       "3 sex                                                        1     0.8547432\n",
       "4 ethnicity                                                  3    11.8845165\n",
       "5 calc_age                                                   1     3.0330279\n",
       "6 centre                                                     1     4.7035553\n",
       "7 splines::bs(days_to_sampling, degree = 2):grouped_severity 2    37.3371846\n",
       "  meansq     statistic \n",
       "1  4.0602969  4.0602969\n",
       "2  0.5109861  0.5109861\n",
       "3  0.8547432  0.8547432\n",
       "4  3.9615055  3.9615055\n",
       "5  3.0330279  3.0330279\n",
       "6  4.7035553  4.7035553\n",
       "7 18.6685923 18.6685923"
      ]
     },
     "metadata": {},
     "output_type": "display_data"
    }
   ],
   "source": [
    "generics::tidy(anova(test$fit, ddf=\"Satterthwaite\", type=3))"
   ]
  },
  {
   "cell_type": "code",
   "execution_count": 97,
   "id": "78ccb750",
   "metadata": {},
   "outputs": [],
   "source": []
  },
  {
   "cell_type": "code",
   "execution_count": 98,
   "id": "e87afcaf",
   "metadata": {},
   "outputs": [],
   "source": [
    "glmerModLmerTest <-\n",
    "  setClass(\"glmerModLmerTest\",\n",
    "           contains = c(\"glmerMod\"),\n",
    "           representation = representation(vcov_varpar = \"matrix\",\n",
    "                                           Jac_list = \"list\",\n",
    "                                           vcov_beta = \"matrix\",\n",
    "                                           sigma = \"numeric\"))"
   ]
  },
  {
   "cell_type": "code",
   "execution_count": 99,
   "id": "6d2979f2",
   "metadata": {},
   "outputs": [],
   "source": []
  },
  {
   "cell_type": "code",
   "execution_count": 156,
   "id": "1ee34502",
   "metadata": {},
   "outputs": [],
   "source": []
  },
  {
   "cell_type": "code",
   "execution_count": 157,
   "id": "ce555ea1",
   "metadata": {},
   "outputs": [],
   "source": [
    "fit2 <- as_glmerModLmerTest(fit)"
   ]
  },
  {
   "cell_type": "code",
   "execution_count": 158,
   "id": "86e07a87",
   "metadata": {},
   "outputs": [],
   "source": [
    "single_anova(fit2)"
   ]
  },
  {
   "cell_type": "code",
   "execution_count": 71,
   "id": "80c03850",
   "metadata": {},
   "outputs": [
    {
     "ename": "ERROR",
     "evalue": "Error in show_tests.default(anova(test$fit)): 'object' does not have an 'hypotheses' attribute\n",
     "output_type": "error",
     "traceback": [
      "Error in show_tests.default(anova(test$fit)): 'object' does not have an 'hypotheses' attribute\nTraceback:\n",
      "1. show_tests(anova(test$fit))",
      "2. show_tests.anova(anova(test$fit))",
      "3. NextMethod()",
      "4. show_tests.default(anova(test$fit))",
      "5. stop(\"'object' does not have an 'hypotheses' attribute\")"
     ]
    }
   ],
   "source": [
    "show_tests(anova(test$fit))"
   ]
  },
  {
   "cell_type": "code",
   "execution_count": 131,
   "id": "ff88fd6f",
   "metadata": {},
   "outputs": [],
   "source": [
    "  model <- fit\n",
    "  mc <- getCall(model)\n",
    "  args <- c(as.list(mc), devFunOnly=TRUE)\n",
    "  Call <- as.call(c(list(quote(lme4::glmer)), args[-1]))\n",
    "  ff <- environment(formula(model))\n",
    "  pf <- parent.frame()  ## save parent frame in case we need it\n",
    "  sf <- sys.frames()[[1]]\n",
    "  ff2 <- environment(model)\n",
    "  devfun <- tryCatch(eval(Call, envir=pf),\n",
    "                     error=function(e) {\n",
    "                       tryCatch(eval(Call, envir=ff),\n",
    "                                error=function(e) {\n",
    "                                  tryCatch(eval(Call, envir=ff2),\n",
    "                                           error=function(e) {\n",
    "                                             tryCatch(eval(Call, envir=sf),\n",
    "                                                      error=function(e) {\n",
    "                                                        \"error\" })})})})"
   ]
  },
  {
   "cell_type": "code",
   "execution_count": 132,
   "id": "aac1af44",
   "metadata": {},
   "outputs": [],
   "source": [
    "if((is.character(devfun) && devfun == \"error\") || !is.function(devfun))\n",
    "    stop(\"Unable to extract deviance function from model fit\")"
   ]
  },
  {
   "cell_type": "code",
   "execution_count": 133,
   "id": "1a12eb03",
   "metadata": {},
   "outputs": [
    {
     "ename": "ERROR",
     "evalue": "Error in as(model, \"lmerModLmerTest\"): no method or default for coercing “glmerMod” to “lmerModLmerTest”\n",
     "output_type": "error",
     "traceback": [
      "Error in as(model, \"lmerModLmerTest\"): no method or default for coercing “glmerMod” to “lmerModLmerTest”\nTraceback:\n",
      "1. as_glmerModLT(model, devfun, tol = tol)",
      "2. as(model, \"lmerModLmerTest\")   # at line 36 of file <text>",
      "3. stop(gettextf(\"no method or default for coercing %s to %s\", dQuote(thisClass), \n .     dQuote(Class)), domain = NA)"
     ]
    }
   ],
   "source": [
    "as_glmerModLT(model, devfun, tol=tol)"
   ]
  },
  {
   "cell_type": "code",
   "execution_count": 128,
   "id": "27c12fca",
   "metadata": {},
   "outputs": [
    {
     "data": {
      "text/plain": [
       "lme4::lmer(formula = count ~ splines::bs(days_to_sampling, degree = 2) + \n",
       "    grouped_severity + sex + ethnicity + calc_age + centre + \n",
       "    (1 | individual_id) + splines::bs(days_to_sampling, degree = 2):grouped_severity, \n",
       "    data = data, family = MASS::negative.binomial(theta = 1/fullList[[1]]$dispersion), \n",
       "    control = control, offset = offset, devFunOnly = FALSE)"
      ]
     },
     "metadata": {},
     "output_type": "display_data"
    }
   ],
   "source": [
    "Call"
   ]
  },
  {
   "cell_type": "code",
   "execution_count": 121,
   "id": "02681f01",
   "metadata": {},
   "outputs": [
    {
     "data": {
      "text/html": [
       "<pre class=language-r><code>function (pars) \n",
       "{\n",
       "<span style=white-space:pre-wrap>    resp$setOffset(baseOffset)</span>\n",
       "<span style=white-space:pre-wrap>    resp$updateMu(lp0)</span>\n",
       "<span style=white-space:pre-wrap>    pp$setTheta(as.double(pars[dpars]))</span>\n",
       "<span style=white-space:pre-wrap>    spars &lt;- as.numeric(pars[-dpars])</span>\n",
       "<span style=white-space:pre-wrap>    offset &lt;- if (length(spars) == 0) </span>\n",
       "<span style=white-space:pre-wrap>        baseOffset</span>\n",
       "<span style=white-space:pre-wrap>    else baseOffset + pp$X %*% spars</span>\n",
       "<span style=white-space:pre-wrap>    resp$setOffset(offset)</span>\n",
       "<span style=white-space:pre-wrap>    p &lt;- pwrssUpdate(pp, resp, tol = tolPwrss, GQmat = GQmat, </span>\n",
       "<span style=white-space:pre-wrap>        compDev = compDev, grpFac = fac, maxit = maxit, verbose = verbose)</span>\n",
       "<span style=white-space:pre-wrap>    resp$updateWts()</span>\n",
       "<span style=white-space:pre-wrap>    p</span>\n",
       "}</code></pre>"
      ],
      "text/latex": [
       "\\begin{minted}{r}\n",
       "function (pars) \n",
       "\\{\n",
       "    resp\\$setOffset(baseOffset)\n",
       "    resp\\$updateMu(lp0)\n",
       "    pp\\$setTheta(as.double(pars{[}dpars{]}))\n",
       "    spars <- as.numeric(pars{[}-dpars{]})\n",
       "    offset <- if (length(spars) == 0) \n",
       "        baseOffset\n",
       "    else baseOffset + pp\\$X \\%*\\% spars\n",
       "    resp\\$setOffset(offset)\n",
       "    p <- pwrssUpdate(pp, resp, tol = tolPwrss, GQmat = GQmat, \n",
       "        compDev = compDev, grpFac = fac, maxit = maxit, verbose = verbose)\n",
       "    resp\\$updateWts()\n",
       "    p\n",
       "\\}\n",
       "\\end{minted}"
      ],
      "text/markdown": [
       "```r\n",
       "function (pars) \n",
       "{\n",
       "    resp$setOffset(baseOffset)\n",
       "    resp$updateMu(lp0)\n",
       "    pp$setTheta(as.double(pars[dpars]))\n",
       "    spars <- as.numeric(pars[-dpars])\n",
       "    offset <- if (length(spars) == 0) \n",
       "        baseOffset\n",
       "    else baseOffset + pp$X %*% spars\n",
       "    resp$setOffset(offset)\n",
       "    p <- pwrssUpdate(pp, resp, tol = tolPwrss, GQmat = GQmat, \n",
       "        compDev = compDev, grpFac = fac, maxit = maxit, verbose = verbose)\n",
       "    resp$updateWts()\n",
       "    p\n",
       "}\n",
       "```"
      ],
      "text/plain": [
       "function (pars) \n",
       "{\n",
       "    resp$setOffset(baseOffset)\n",
       "    resp$updateMu(lp0)\n",
       "    pp$setTheta(as.double(pars[dpars]))\n",
       "    spars <- as.numeric(pars[-dpars])\n",
       "    offset <- if (length(spars) == 0) \n",
       "        baseOffset\n",
       "    else baseOffset + pp$X %*% spars\n",
       "    resp$setOffset(offset)\n",
       "    p <- pwrssUpdate(pp, resp, tol = tolPwrss, GQmat = GQmat, \n",
       "        compDev = compDev, grpFac = fac, maxit = maxit, verbose = verbose)\n",
       "    resp$updateWts()\n",
       "    p\n",
       "}\n",
       "<environment: 0x5609bf1d6fb0>"
      ]
     },
     "metadata": {},
     "output_type": "display_data"
    }
   ],
   "source": [
    "devfun"
   ]
  },
  {
   "cell_type": "code",
   "execution_count": 33,
   "id": "35a61696",
   "metadata": {},
   "outputs": [],
   "source": [
    "# Comparison 3: just wave 1, deg from positive vs negative\n",
    "sce2 <- sce[, sce$centre == 'NCL']\n",
    "# Remove samples with less than MIN\n",
    "nCells <- table(sce2$sample_id)\n",
    "rmSamples <- names(nCells[nCells<5])\n",
    "sce1 <- sce2[,!sce2$sample_id %in% rmSamples]\n",
    "# drop unused levels\n",
    "sce1$individual_id <- droplevels(sce1$individual_id)\n",
    "sce1$sample_id <- droplevels(sce1$sample_id)\n",
    "sce1$case_control <- droplevels(sce1$case_control)\n",
    "sce1$ethnicity <- droplevels(sce1$ethnicity)\n",
    "sce1$sex <- droplevels(sce1$sex)\n",
    "# Summarize Counts\n",
    "smrzd <- aggregateAcrossCells(sce1, id=as.character(colData(sce1)[,c(\"sample_id\")]))\n",
    "y <- DGEList(counts=counts(smrzd), samples=colData(smrzd))\n",
    "y <- setupDGElist(y, 'case_control')"
   ]
  },
  {
   "cell_type": "code",
   "execution_count": null,
   "id": "c3c52dd5",
   "metadata": {},
   "outputs": [],
   "source": [
    "res2 <- testDGElist(y, \n",
    "            formula = as.formula(\"~ case_control + sex + ethnicity + calc_age + (1|individual_id)\"), \n",
    "            individual_id = 'individual_id',\n",
    "            designMatrix = model.matrix(as.formula(\"~ case_control + sex + ethnicity + calc_age\"), data=y$samples)\n",
    "           )"
   ]
  },
  {
   "cell_type": "code",
   "execution_count": 9,
   "id": "a200400f",
   "metadata": {},
   "outputs": [],
   "source": [
    "# Comparison 4: just patients that were negative in wave 1 but positive in wave 2, deg from recovery vs negative\n",
    "sce2 <- sce[, sce$individual_id %in% c('C101', 'C108', 'C137', 'C138', 'C140', 'C141', 'C145', 'C146', 'C147', 'C168', 'C169', 'C170', 'C187', 'C190', 'C33')]\n",
    "# Remove samples with less than MIN\n",
    "nCells <- table(sce2$sample_id)\n",
    "rmSamples <- names(nCells[nCells<5])\n",
    "sce3 <- sce2[,!sce2$sample_id %in% rmSamples]\n",
    "# remove non-complete data (all have positive), 1 = negative, 3 = recovery\n",
    "df = table(sce3$individual_id, sce3$case_control)\n",
    "keep_ids = row.names(df)[which(df[,1] != 0 & df[,3] != 0)]\n",
    "sce1 <- sce3[, sce3$individual_id %in% keep_ids]\n",
    "# drop unused levels\n",
    "sce1$individual_id <- droplevels(sce1$individual_id)\n",
    "sce1$sample_id <- droplevels(sce1$sample_id)\n",
    "sce1$case_control <- droplevels(sce1$case_control)\n",
    "sce1$ethnicity <- droplevels(sce1$ethnicity)\n",
    "sce1$sex <- droplevels(sce1$sex)\n",
    "# Summarize Counts\n",
    "smrzd <- aggregateAcrossCells(sce1, id=as.character(colData(sce1)[,c(\"sample_id\")]))\n",
    "y <- DGEList(counts=counts(smrzd), samples=colData(smrzd))\n",
    "y <- setupDGElist(y, 'case_control', remove = 'POSITIVE')"
   ]
  },
  {
   "cell_type": "code",
   "execution_count": 12,
   "id": "ff1933a7",
   "metadata": {},
   "outputs": [
    {
     "name": "stdout",
     "output_type": "stream",
     "text": [
      "\n",
      "n = 16 samples, 8 individuals\n",
      "Time difference of 1.628746 mins\n"
     ]
    }
   ],
   "source": [
    "res2 <- testDGElist(y, \n",
    "            formula = as.formula(\"~ case_control + sex + ethnicity + calc_age + (1|individual_id)\"), \n",
    "            individual_id = 'individual_id'\n",
    "           )"
   ]
  },
  {
   "cell_type": "code",
   "execution_count": 10,
   "id": "701f01ae",
   "metadata": {},
   "outputs": [
    {
     "data": {
      "text/html": [
       "<table class=\"dataframe\">\n",
       "<caption>A matrix: 27 × 7 of type dbl</caption>\n",
       "<thead>\n",
       "\t<tr><th></th><th scope=col>(Intercept)</th><th scope=col>case_controlPOSITIVE</th><th scope=col>sexM</th><th scope=col>ethnicityblack</th><th scope=col>ethnicityother</th><th scope=col>ethnicitywhite</th><th scope=col>calc_age</th></tr>\n",
       "</thead>\n",
       "<tbody>\n",
       "\t<tr><th scope=row>C101_180121</th><td>1</td><td>1</td><td>1</td><td>0</td><td>0</td><td>0</td><td>61</td></tr>\n",
       "\t<tr><th scope=row>C101_200121</th><td>1</td><td>1</td><td>1</td><td>0</td><td>0</td><td>0</td><td>61</td></tr>\n",
       "\t<tr><th scope=row>C123_2404</th><td>1</td><td>1</td><td>1</td><td>0</td><td>0</td><td>0</td><td>66</td></tr>\n",
       "\t<tr><th scope=row>C123_2904</th><td>1</td><td>1</td><td>1</td><td>0</td><td>0</td><td>0</td><td>66</td></tr>\n",
       "\t<tr><th scope=row>C124_2404</th><td>1</td><td>1</td><td>1</td><td>0</td><td>0</td><td>0</td><td>81</td></tr>\n",
       "\t<tr><th scope=row>C128_0405</th><td>1</td><td>1</td><td>1</td><td>0</td><td>0</td><td>0</td><td>72</td></tr>\n",
       "\t<tr><th scope=row>C128_1105</th><td>1</td><td>1</td><td>1</td><td>0</td><td>0</td><td>0</td><td>72</td></tr>\n",
       "\t<tr><th scope=row>C132_0205</th><td>1</td><td>1</td><td>0</td><td>0</td><td>0</td><td>0</td><td>77</td></tr>\n",
       "\t<tr><th scope=row>C132_1105</th><td>1</td><td>1</td><td>0</td><td>0</td><td>0</td><td>0</td><td>77</td></tr>\n",
       "\t<tr><th scope=row>C138_020221</th><td>1</td><td>1</td><td>0</td><td>0</td><td>0</td><td>0</td><td>77</td></tr>\n",
       "\t<tr><th scope=row>C141_260121</th><td>1</td><td>1</td><td>1</td><td>1</td><td>0</td><td>0</td><td>85</td></tr>\n",
       "\t<tr><th scope=row>C147_260121</th><td>1</td><td>1</td><td>1</td><td>0</td><td>0</td><td>0</td><td>53</td></tr>\n",
       "\t<tr><th scope=row>C147_280121</th><td>1</td><td>1</td><td>1</td><td>0</td><td>0</td><td>0</td><td>53</td></tr>\n",
       "\t<tr><th scope=row>C170_020221</th><td>1</td><td>1</td><td>1</td><td>0</td><td>0</td><td>0</td><td>82</td></tr>\n",
       "\t<tr><th scope=row>C187_230121</th><td>1</td><td>1</td><td>1</td><td>0</td><td>1</td><td>0</td><td>70</td></tr>\n",
       "\t<tr><th scope=row>C190_010221</th><td>1</td><td>1</td><td>1</td><td>0</td><td>0</td><td>1</td><td>54</td></tr>\n",
       "\t<tr><th scope=row>C20_1004</th><td>1</td><td>1</td><td>1</td><td>0</td><td>0</td><td>0</td><td>62</td></tr>\n",
       "\t<tr><th scope=row>C20_1404</th><td>1</td><td>1</td><td>1</td><td>0</td><td>0</td><td>0</td><td>62</td></tr>\n",
       "\t<tr><th scope=row>C21_1004</th><td>1</td><td>1</td><td>1</td><td>0</td><td>0</td><td>1</td><td>80</td></tr>\n",
       "\t<tr><th scope=row>C21_1704</th><td>1</td><td>1</td><td>1</td><td>0</td><td>0</td><td>1</td><td>80</td></tr>\n",
       "\t<tr><th scope=row>C21_2504</th><td>1</td><td>1</td><td>1</td><td>0</td><td>0</td><td>1</td><td>80</td></tr>\n",
       "\t<tr><th scope=row>C23_2204</th><td>1</td><td>1</td><td>0</td><td>0</td><td>0</td><td>0</td><td>78</td></tr>\n",
       "\t<tr><th scope=row>C33_260121</th><td>1</td><td>1</td><td>1</td><td>0</td><td>0</td><td>0</td><td>75</td></tr>\n",
       "\t<tr><th scope=row>C36_1504</th><td>1</td><td>1</td><td>1</td><td>0</td><td>0</td><td>0</td><td>66</td></tr>\n",
       "\t<tr><th scope=row>C42_1504</th><td>1</td><td>1</td><td>1</td><td>0</td><td>0</td><td>1</td><td>40</td></tr>\n",
       "\t<tr><th scope=row>C60_2504</th><td>1</td><td>1</td><td>1</td><td>0</td><td>0</td><td>1</td><td>80</td></tr>\n",
       "\t<tr><th scope=row>C65_1704</th><td>1</td><td>1</td><td>1</td><td>0</td><td>0</td><td>1</td><td>73</td></tr>\n",
       "</tbody>\n",
       "</table>\n"
      ],
      "text/latex": [
       "A matrix: 27 × 7 of type dbl\n",
       "\\begin{tabular}{r|lllllll}\n",
       "  & (Intercept) & case\\_controlPOSITIVE & sexM & ethnicityblack & ethnicityother & ethnicitywhite & calc\\_age\\\\\n",
       "\\hline\n",
       "\tC101\\_180121 & 1 & 1 & 1 & 0 & 0 & 0 & 61\\\\\n",
       "\tC101\\_200121 & 1 & 1 & 1 & 0 & 0 & 0 & 61\\\\\n",
       "\tC123\\_2404 & 1 & 1 & 1 & 0 & 0 & 0 & 66\\\\\n",
       "\tC123\\_2904 & 1 & 1 & 1 & 0 & 0 & 0 & 66\\\\\n",
       "\tC124\\_2404 & 1 & 1 & 1 & 0 & 0 & 0 & 81\\\\\n",
       "\tC128\\_0405 & 1 & 1 & 1 & 0 & 0 & 0 & 72\\\\\n",
       "\tC128\\_1105 & 1 & 1 & 1 & 0 & 0 & 0 & 72\\\\\n",
       "\tC132\\_0205 & 1 & 1 & 0 & 0 & 0 & 0 & 77\\\\\n",
       "\tC132\\_1105 & 1 & 1 & 0 & 0 & 0 & 0 & 77\\\\\n",
       "\tC138\\_020221 & 1 & 1 & 0 & 0 & 0 & 0 & 77\\\\\n",
       "\tC141\\_260121 & 1 & 1 & 1 & 1 & 0 & 0 & 85\\\\\n",
       "\tC147\\_260121 & 1 & 1 & 1 & 0 & 0 & 0 & 53\\\\\n",
       "\tC147\\_280121 & 1 & 1 & 1 & 0 & 0 & 0 & 53\\\\\n",
       "\tC170\\_020221 & 1 & 1 & 1 & 0 & 0 & 0 & 82\\\\\n",
       "\tC187\\_230121 & 1 & 1 & 1 & 0 & 1 & 0 & 70\\\\\n",
       "\tC190\\_010221 & 1 & 1 & 1 & 0 & 0 & 1 & 54\\\\\n",
       "\tC20\\_1004 & 1 & 1 & 1 & 0 & 0 & 0 & 62\\\\\n",
       "\tC20\\_1404 & 1 & 1 & 1 & 0 & 0 & 0 & 62\\\\\n",
       "\tC21\\_1004 & 1 & 1 & 1 & 0 & 0 & 1 & 80\\\\\n",
       "\tC21\\_1704 & 1 & 1 & 1 & 0 & 0 & 1 & 80\\\\\n",
       "\tC21\\_2504 & 1 & 1 & 1 & 0 & 0 & 1 & 80\\\\\n",
       "\tC23\\_2204 & 1 & 1 & 0 & 0 & 0 & 0 & 78\\\\\n",
       "\tC33\\_260121 & 1 & 1 & 1 & 0 & 0 & 0 & 75\\\\\n",
       "\tC36\\_1504 & 1 & 1 & 1 & 0 & 0 & 0 & 66\\\\\n",
       "\tC42\\_1504 & 1 & 1 & 1 & 0 & 0 & 1 & 40\\\\\n",
       "\tC60\\_2504 & 1 & 1 & 1 & 0 & 0 & 1 & 80\\\\\n",
       "\tC65\\_1704 & 1 & 1 & 1 & 0 & 0 & 1 & 73\\\\\n",
       "\\end{tabular}\n"
      ],
      "text/markdown": [
       "\n",
       "A matrix: 27 × 7 of type dbl\n",
       "\n",
       "| <!--/--> | (Intercept) | case_controlPOSITIVE | sexM | ethnicityblack | ethnicityother | ethnicitywhite | calc_age |\n",
       "|---|---|---|---|---|---|---|---|\n",
       "| C101_180121 | 1 | 1 | 1 | 0 | 0 | 0 | 61 |\n",
       "| C101_200121 | 1 | 1 | 1 | 0 | 0 | 0 | 61 |\n",
       "| C123_2404 | 1 | 1 | 1 | 0 | 0 | 0 | 66 |\n",
       "| C123_2904 | 1 | 1 | 1 | 0 | 0 | 0 | 66 |\n",
       "| C124_2404 | 1 | 1 | 1 | 0 | 0 | 0 | 81 |\n",
       "| C128_0405 | 1 | 1 | 1 | 0 | 0 | 0 | 72 |\n",
       "| C128_1105 | 1 | 1 | 1 | 0 | 0 | 0 | 72 |\n",
       "| C132_0205 | 1 | 1 | 0 | 0 | 0 | 0 | 77 |\n",
       "| C132_1105 | 1 | 1 | 0 | 0 | 0 | 0 | 77 |\n",
       "| C138_020221 | 1 | 1 | 0 | 0 | 0 | 0 | 77 |\n",
       "| C141_260121 | 1 | 1 | 1 | 1 | 0 | 0 | 85 |\n",
       "| C147_260121 | 1 | 1 | 1 | 0 | 0 | 0 | 53 |\n",
       "| C147_280121 | 1 | 1 | 1 | 0 | 0 | 0 | 53 |\n",
       "| C170_020221 | 1 | 1 | 1 | 0 | 0 | 0 | 82 |\n",
       "| C187_230121 | 1 | 1 | 1 | 0 | 1 | 0 | 70 |\n",
       "| C190_010221 | 1 | 1 | 1 | 0 | 0 | 1 | 54 |\n",
       "| C20_1004 | 1 | 1 | 1 | 0 | 0 | 0 | 62 |\n",
       "| C20_1404 | 1 | 1 | 1 | 0 | 0 | 0 | 62 |\n",
       "| C21_1004 | 1 | 1 | 1 | 0 | 0 | 1 | 80 |\n",
       "| C21_1704 | 1 | 1 | 1 | 0 | 0 | 1 | 80 |\n",
       "| C21_2504 | 1 | 1 | 1 | 0 | 0 | 1 | 80 |\n",
       "| C23_2204 | 1 | 1 | 0 | 0 | 0 | 0 | 78 |\n",
       "| C33_260121 | 1 | 1 | 1 | 0 | 0 | 0 | 75 |\n",
       "| C36_1504 | 1 | 1 | 1 | 0 | 0 | 0 | 66 |\n",
       "| C42_1504 | 1 | 1 | 1 | 0 | 0 | 1 | 40 |\n",
       "| C60_2504 | 1 | 1 | 1 | 0 | 0 | 1 | 80 |\n",
       "| C65_1704 | 1 | 1 | 1 | 0 | 0 | 1 | 73 |\n",
       "\n"
      ],
      "text/plain": [
       "            (Intercept) case_controlPOSITIVE sexM ethnicityblack ethnicityother\n",
       "C101_180121 1           1                    1    0              0             \n",
       "C101_200121 1           1                    1    0              0             \n",
       "C123_2404   1           1                    1    0              0             \n",
       "C123_2904   1           1                    1    0              0             \n",
       "C124_2404   1           1                    1    0              0             \n",
       "C128_0405   1           1                    1    0              0             \n",
       "C128_1105   1           1                    1    0              0             \n",
       "C132_0205   1           1                    0    0              0             \n",
       "C132_1105   1           1                    0    0              0             \n",
       "C138_020221 1           1                    0    0              0             \n",
       "C141_260121 1           1                    1    1              0             \n",
       "C147_260121 1           1                    1    0              0             \n",
       "C147_280121 1           1                    1    0              0             \n",
       "C170_020221 1           1                    1    0              0             \n",
       "C187_230121 1           1                    1    0              1             \n",
       "C190_010221 1           1                    1    0              0             \n",
       "C20_1004    1           1                    1    0              0             \n",
       "C20_1404    1           1                    1    0              0             \n",
       "C21_1004    1           1                    1    0              0             \n",
       "C21_1704    1           1                    1    0              0             \n",
       "C21_2504    1           1                    1    0              0             \n",
       "C23_2204    1           1                    0    0              0             \n",
       "C33_260121  1           1                    1    0              0             \n",
       "C36_1504    1           1                    1    0              0             \n",
       "C42_1504    1           1                    1    0              0             \n",
       "C60_2504    1           1                    1    0              0             \n",
       "C65_1704    1           1                    1    0              0             \n",
       "            ethnicitywhite calc_age\n",
       "C101_180121 0              61      \n",
       "C101_200121 0              61      \n",
       "C123_2404   0              66      \n",
       "C123_2904   0              66      \n",
       "C124_2404   0              81      \n",
       "C128_0405   0              72      \n",
       "C128_1105   0              72      \n",
       "C132_0205   0              77      \n",
       "C132_1105   0              77      \n",
       "C138_020221 0              77      \n",
       "C141_260121 0              85      \n",
       "C147_260121 0              53      \n",
       "C147_280121 0              53      \n",
       "C170_020221 0              82      \n",
       "C187_230121 0              70      \n",
       "C190_010221 1              54      \n",
       "C20_1004    0              62      \n",
       "C20_1404    0              62      \n",
       "C21_1004    1              80      \n",
       "C21_1704    1              80      \n",
       "C21_2504    1              80      \n",
       "C23_2204    0              78      \n",
       "C33_260121  0              75      \n",
       "C36_1504    0              66      \n",
       "C42_1504    1              40      \n",
       "C60_2504    1              80      \n",
       "C65_1704    1              73      "
      ]
     },
     "metadata": {},
     "output_type": "display_data"
    }
   ],
   "source": [
    "model.matrix(as.formula(\"~ case_control + sex + ethnicity + calc_age\"), data = y$samples)"
   ]
  },
  {
   "cell_type": "code",
   "execution_count": null,
   "id": "aea08aa8",
   "metadata": {},
   "outputs": [],
   "source": []
  }
 ],
 "metadata": {
  "kernelspec": {
   "display_name": "R",
   "language": "R",
   "name": "ir"
  },
  "language_info": {
   "codemirror_mode": "r",
   "file_extension": ".r",
   "mimetype": "text/x-r-source",
   "name": "R",
   "pygments_lexer": "r",
   "version": "4.0.3"
  }
 },
 "nbformat": 4,
 "nbformat_minor": 5
}
