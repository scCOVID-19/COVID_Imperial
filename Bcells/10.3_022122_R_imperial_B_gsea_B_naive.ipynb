{
 "cells": [
  {
   "cell_type": "code",
   "execution_count": 1,
   "id": "c919b46d",
   "metadata": {},
   "outputs": [
    {
     "name": "stderr",
     "output_type": "stream",
     "text": [
      "Registered S3 methods overwritten by 'lme4':\n",
      "  method                          from\n",
      "  cooks.distance.influence.merMod car \n",
      "  influence.merMod                car \n",
      "  dfbeta.influence.merMod         car \n",
      "  dfbetas.influence.merMod        car \n",
      "\n"
     ]
    }
   ],
   "source": [
    "library(glmmSeq)\n",
    "setwd('/lustre/scratch117/cellgen/team297/kt16/COVID_imperial_renal/')"
   ]
  },
  {
   "cell_type": "code",
   "execution_count": 2,
   "id": "e2baf84c",
   "metadata": {},
   "outputs": [
    {
     "data": {
      "text/html": [
       "<style>\n",
       ".list-inline {list-style: none; margin:0; padding: 0}\n",
       ".list-inline>li {display: inline-block}\n",
       ".list-inline>li:not(:last-child)::after {content: \"\\00b7\"; padding: 0 .5ex}\n",
       "</style>\n",
       "<ol class=list-inline><li>'res1'</li><li>'res2'</li><li>'res3'</li><li>'res4'</li><li>'res5'</li><li>'results1'</li><li>'results2'</li><li>'results3'</li><li>'results4'</li><li>'results5'</li></ol>\n"
      ],
      "text/latex": [
       "\\begin{enumerate*}\n",
       "\\item 'res1'\n",
       "\\item 'res2'\n",
       "\\item 'res3'\n",
       "\\item 'res4'\n",
       "\\item 'res5'\n",
       "\\item 'results1'\n",
       "\\item 'results2'\n",
       "\\item 'results3'\n",
       "\\item 'results4'\n",
       "\\item 'results5'\n",
       "\\end{enumerate*}\n"
      ],
      "text/markdown": [
       "1. 'res1'\n",
       "2. 'res2'\n",
       "3. 'res3'\n",
       "4. 'res4'\n",
       "5. 'res5'\n",
       "6. 'results1'\n",
       "7. 'results2'\n",
       "8. 'results3'\n",
       "9. 'results4'\n",
       "10. 'results5'\n",
       "\n",
       "\n"
      ],
      "text/plain": [
       " [1] \"res1\"     \"res2\"     \"res3\"     \"res4\"     \"res5\"     \"results1\"\n",
       " [7] \"results2\" \"results3\" \"results4\" \"results5\""
      ]
     },
     "metadata": {},
     "output_type": "display_data"
    }
   ],
   "source": [
    "load('h5ad/df.fil3_gex_bcells_vdj_sce_B_naive_deg.RData')\n",
    "ls()"
   ]
  },
  {
   "cell_type": "code",
   "execution_count": 3,
   "id": "1541a80a",
   "metadata": {
    "scrolled": true
   },
   "outputs": [
    {
     "name": "stderr",
     "output_type": "stream",
     "text": [
      "\n",
      "Attaching package: ‘dplyr’\n",
      "\n",
      "\n",
      "The following objects are masked from ‘package:stats’:\n",
      "\n",
      "    filter, lag\n",
      "\n",
      "\n",
      "The following objects are masked from ‘package:base’:\n",
      "\n",
      "    intersect, setdiff, setequal, union\n",
      "\n",
      "\n"
     ]
    }
   ],
   "source": [
    "library(dplyr)\n",
    "makeGeneList <- function(gl, beta_column='LFC'){\n",
    "    y <- grepl('^RPS|^RPL|^MT-', row.names(gl))\n",
    "    gl <- gl[!y, ]\n",
    "    rank <- -log10(gl$pval) * sign(gl[,beta_column])\n",
    "    rank[which(rank == Inf)] <- 300\n",
    "    rank[which(rank == -Inf)] <- 300\n",
    "    names(rank) <- row.names(gl)\n",
    "    rank <- rev(sort(rank))\n",
    "    gl <- rank\n",
    "    return(gl)\n",
    "}"
   ]
  },
  {
   "cell_type": "code",
   "execution_count": 4,
   "id": "fb289ea0",
   "metadata": {},
   "outputs": [
    {
     "data": {
      "text/html": [
       "<table class=\"dataframe\">\n",
       "<caption>A data.frame: 6 × 6</caption>\n",
       "<thead>\n",
       "\t<tr><th></th><th scope=col>fixed-effects estimates</th><th scope=col>pval</th><th scope=col>qval</th><th scope=col>LFC</th><th scope=col>Singular</th><th scope=col>Conv</th></tr>\n",
       "\t<tr><th></th><th scope=col>&lt;dbl&gt;</th><th scope=col>&lt;dbl&gt;</th><th scope=col>&lt;dbl&gt;</th><th scope=col>&lt;dbl&gt;</th><th scope=col>&lt;dbl&gt;</th><th scope=col>&lt;dbl&gt;</th></tr>\n",
       "</thead>\n",
       "<tbody>\n",
       "\t<tr><th scope=row>FKBP5</th><td>0.7781192</td><td>0.004126302</td><td>0.04838653</td><td>1.0156121</td><td>0</td><td>0</td></tr>\n",
       "\t<tr><th scope=row>IL7R</th><td>0.7509679</td><td>0.012881958</td><td>0.11768518</td><td>0.8924060</td><td>0</td><td>0</td></tr>\n",
       "\t<tr><th scope=row>TNFSF9</th><td>0.7325408</td><td>0.051208514</td><td>0.28589894</td><td>0.7420129</td><td>0</td><td>0</td></tr>\n",
       "\t<tr><th scope=row>IFIT1</th><td>0.7135821</td><td>0.177829903</td><td>0.52409513</td><td>0.9407787</td><td>0</td><td>0</td></tr>\n",
       "\t<tr><th scope=row>CPT1A</th><td>0.6554450</td><td>0.002964296</td><td>0.03597060</td><td>0.8388903</td><td>0</td><td>0</td></tr>\n",
       "\t<tr><th scope=row>UACA</th><td>0.6348857</td><td>0.010508109</td><td>0.10119556</td><td>0.8090985</td><td>0</td><td>0</td></tr>\n",
       "</tbody>\n",
       "</table>\n"
      ],
      "text/latex": [
       "A data.frame: 6 × 6\n",
       "\\begin{tabular}{r|llllll}\n",
       "  & fixed-effects estimates & pval & qval & LFC & Singular & Conv\\\\\n",
       "  & <dbl> & <dbl> & <dbl> & <dbl> & <dbl> & <dbl>\\\\\n",
       "\\hline\n",
       "\tFKBP5 & 0.7781192 & 0.004126302 & 0.04838653 & 1.0156121 & 0 & 0\\\\\n",
       "\tIL7R & 0.7509679 & 0.012881958 & 0.11768518 & 0.8924060 & 0 & 0\\\\\n",
       "\tTNFSF9 & 0.7325408 & 0.051208514 & 0.28589894 & 0.7420129 & 0 & 0\\\\\n",
       "\tIFIT1 & 0.7135821 & 0.177829903 & 0.52409513 & 0.9407787 & 0 & 0\\\\\n",
       "\tCPT1A & 0.6554450 & 0.002964296 & 0.03597060 & 0.8388903 & 0 & 0\\\\\n",
       "\tUACA & 0.6348857 & 0.010508109 & 0.10119556 & 0.8090985 & 0 & 0\\\\\n",
       "\\end{tabular}\n"
      ],
      "text/markdown": [
       "\n",
       "A data.frame: 6 × 6\n",
       "\n",
       "| <!--/--> | fixed-effects estimates &lt;dbl&gt; | pval &lt;dbl&gt; | qval &lt;dbl&gt; | LFC &lt;dbl&gt; | Singular &lt;dbl&gt; | Conv &lt;dbl&gt; |\n",
       "|---|---|---|---|---|---|---|\n",
       "| FKBP5 | 0.7781192 | 0.004126302 | 0.04838653 | 1.0156121 | 0 | 0 |\n",
       "| IL7R | 0.7509679 | 0.012881958 | 0.11768518 | 0.8924060 | 0 | 0 |\n",
       "| TNFSF9 | 0.7325408 | 0.051208514 | 0.28589894 | 0.7420129 | 0 | 0 |\n",
       "| IFIT1 | 0.7135821 | 0.177829903 | 0.52409513 | 0.9407787 | 0 | 0 |\n",
       "| CPT1A | 0.6554450 | 0.002964296 | 0.03597060 | 0.8388903 | 0 | 0 |\n",
       "| UACA | 0.6348857 | 0.010508109 | 0.10119556 | 0.8090985 | 0 | 0 |\n",
       "\n"
      ],
      "text/plain": [
       "       fixed-effects estimates pval        qval       LFC       Singular Conv\n",
       "FKBP5  0.7781192               0.004126302 0.04838653 1.0156121 0        0   \n",
       "IL7R   0.7509679               0.012881958 0.11768518 0.8924060 0        0   \n",
       "TNFSF9 0.7325408               0.051208514 0.28589894 0.7420129 0        0   \n",
       "IFIT1  0.7135821               0.177829903 0.52409513 0.9407787 0        0   \n",
       "CPT1A  0.6554450               0.002964296 0.03597060 0.8388903 0        0   \n",
       "UACA   0.6348857               0.010508109 0.10119556 0.8090985 0        0   "
      ]
     },
     "metadata": {},
     "output_type": "display_data"
    },
    {
     "data": {
      "text/html": [
       "<style>\n",
       ".list-inline {list-style: none; margin:0; padding: 0}\n",
       ".list-inline>li {display: inline-block}\n",
       ".list-inline>li:not(:last-child)::after {content: \"\\00b7\"; padding: 0 .5ex}\n",
       "</style>\n",
       "<ol class=list-inline><li>8671</li><li>6</li></ol>\n"
      ],
      "text/latex": [
       "\\begin{enumerate*}\n",
       "\\item 8671\n",
       "\\item 6\n",
       "\\end{enumerate*}\n"
      ],
      "text/markdown": [
       "1. 8671\n",
       "2. 6\n",
       "\n",
       "\n"
      ],
      "text/plain": [
       "[1] 8671    6"
      ]
     },
     "metadata": {},
     "output_type": "display_data"
    }
   ],
   "source": [
    "head(results1)\n",
    "dim(results1)"
   ]
  },
  {
   "cell_type": "code",
   "execution_count": 5,
   "id": "922f7c63",
   "metadata": {},
   "outputs": [
    {
     "data": {
      "text/html": [
       "<table class=\"dataframe\">\n",
       "<caption>A data.frame: 6 × 6</caption>\n",
       "<thead>\n",
       "\t<tr><th></th><th scope=col>fixed-effects estimates_linear</th><th scope=col>fixed-effects estimates_quadratic</th><th scope=col>pval</th><th scope=col>qval</th><th scope=col>Singular</th><th scope=col>Conv</th></tr>\n",
       "\t<tr><th></th><th scope=col>&lt;dbl&gt;</th><th scope=col>&lt;dbl&gt;</th><th scope=col>&lt;dbl&gt;</th><th scope=col>&lt;dbl&gt;</th><th scope=col>&lt;dbl&gt;</th><th scope=col>&lt;dbl&gt;</th></tr>\n",
       "</thead>\n",
       "<tbody>\n",
       "\t<tr><th scope=row>SCARB1</th><td>-0.2297640</td><td>1.279857</td><td>0.04571106</td><td>0.16200538</td><td>0</td><td>0</td></tr>\n",
       "\t<tr><th scope=row>FAM111B</th><td> 1.9492013</td><td>1.267743</td><td>0.33955010</td><td>0.57437521</td><td>0</td><td>0</td></tr>\n",
       "\t<tr><th scope=row>CPT1A</th><td> 1.0596729</td><td>1.244703</td><td>0.10205995</td><td>0.27848126</td><td>0</td><td>0</td></tr>\n",
       "\t<tr><th scope=row>SPAG16</th><td>-0.9719379</td><td>1.193210</td><td>0.01189632</td><td>0.05781642</td><td>0</td><td>0</td></tr>\n",
       "\t<tr><th scope=row>XIST</th><td> 1.4971372</td><td>1.184375</td><td>0.67037094</td><td>0.81802226</td><td>0</td><td>0</td></tr>\n",
       "\t<tr><th scope=row>CKS2</th><td> 2.2589233</td><td>1.175909</td><td>0.04566221</td><td>0.16193748</td><td>0</td><td>0</td></tr>\n",
       "</tbody>\n",
       "</table>\n"
      ],
      "text/latex": [
       "A data.frame: 6 × 6\n",
       "\\begin{tabular}{r|llllll}\n",
       "  & fixed-effects estimates\\_linear & fixed-effects estimates\\_quadratic & pval & qval & Singular & Conv\\\\\n",
       "  & <dbl> & <dbl> & <dbl> & <dbl> & <dbl> & <dbl>\\\\\n",
       "\\hline\n",
       "\tSCARB1 & -0.2297640 & 1.279857 & 0.04571106 & 0.16200538 & 0 & 0\\\\\n",
       "\tFAM111B &  1.9492013 & 1.267743 & 0.33955010 & 0.57437521 & 0 & 0\\\\\n",
       "\tCPT1A &  1.0596729 & 1.244703 & 0.10205995 & 0.27848126 & 0 & 0\\\\\n",
       "\tSPAG16 & -0.9719379 & 1.193210 & 0.01189632 & 0.05781642 & 0 & 0\\\\\n",
       "\tXIST &  1.4971372 & 1.184375 & 0.67037094 & 0.81802226 & 0 & 0\\\\\n",
       "\tCKS2 &  2.2589233 & 1.175909 & 0.04566221 & 0.16193748 & 0 & 0\\\\\n",
       "\\end{tabular}\n"
      ],
      "text/markdown": [
       "\n",
       "A data.frame: 6 × 6\n",
       "\n",
       "| <!--/--> | fixed-effects estimates_linear &lt;dbl&gt; | fixed-effects estimates_quadratic &lt;dbl&gt; | pval &lt;dbl&gt; | qval &lt;dbl&gt; | Singular &lt;dbl&gt; | Conv &lt;dbl&gt; |\n",
       "|---|---|---|---|---|---|---|\n",
       "| SCARB1 | -0.2297640 | 1.279857 | 0.04571106 | 0.16200538 | 0 | 0 |\n",
       "| FAM111B |  1.9492013 | 1.267743 | 0.33955010 | 0.57437521 | 0 | 0 |\n",
       "| CPT1A |  1.0596729 | 1.244703 | 0.10205995 | 0.27848126 | 0 | 0 |\n",
       "| SPAG16 | -0.9719379 | 1.193210 | 0.01189632 | 0.05781642 | 0 | 0 |\n",
       "| XIST |  1.4971372 | 1.184375 | 0.67037094 | 0.81802226 | 0 | 0 |\n",
       "| CKS2 |  2.2589233 | 1.175909 | 0.04566221 | 0.16193748 | 0 | 0 |\n",
       "\n"
      ],
      "text/plain": [
       "        fixed-effects estimates_linear fixed-effects estimates_quadratic\n",
       "SCARB1  -0.2297640                     1.279857                         \n",
       "FAM111B  1.9492013                     1.267743                         \n",
       "CPT1A    1.0596729                     1.244703                         \n",
       "SPAG16  -0.9719379                     1.193210                         \n",
       "XIST     1.4971372                     1.184375                         \n",
       "CKS2     2.2589233                     1.175909                         \n",
       "        pval       qval       Singular Conv\n",
       "SCARB1  0.04571106 0.16200538 0        0   \n",
       "FAM111B 0.33955010 0.57437521 0        0   \n",
       "CPT1A   0.10205995 0.27848126 0        0   \n",
       "SPAG16  0.01189632 0.05781642 0        0   \n",
       "XIST    0.67037094 0.81802226 0        0   \n",
       "CKS2    0.04566221 0.16193748 0        0   "
      ]
     },
     "metadata": {},
     "output_type": "display_data"
    },
    {
     "data": {
      "text/html": [
       "<style>\n",
       ".list-inline {list-style: none; margin:0; padding: 0}\n",
       ".list-inline>li {display: inline-block}\n",
       ".list-inline>li:not(:last-child)::after {content: \"\\00b7\"; padding: 0 .5ex}\n",
       "</style>\n",
       "<ol class=list-inline><li>6424</li><li>6</li></ol>\n"
      ],
      "text/latex": [
       "\\begin{enumerate*}\n",
       "\\item 6424\n",
       "\\item 6\n",
       "\\end{enumerate*}\n"
      ],
      "text/markdown": [
       "1. 6424\n",
       "2. 6\n",
       "\n",
       "\n"
      ],
      "text/plain": [
       "[1] 6424    6"
      ]
     },
     "metadata": {},
     "output_type": "display_data"
    }
   ],
   "source": [
    "head(results2)\n",
    "dim(results2)"
   ]
  },
  {
   "cell_type": "code",
   "execution_count": 6,
   "id": "892bd724",
   "metadata": {},
   "outputs": [
    {
     "data": {
      "text/html": [
       "<table class=\"dataframe\">\n",
       "<caption>A data.frame: 6 × 6</caption>\n",
       "<thead>\n",
       "\t<tr><th></th><th scope=col>fixed-effects estimates</th><th scope=col>pval</th><th scope=col>qval</th><th scope=col>LFC</th><th scope=col>Singular</th><th scope=col>Conv</th></tr>\n",
       "\t<tr><th></th><th scope=col>&lt;dbl&gt;</th><th scope=col>&lt;dbl&gt;</th><th scope=col>&lt;dbl&gt;</th><th scope=col>&lt;dbl&gt;</th><th scope=col>&lt;dbl&gt;</th><th scope=col>&lt;dbl&gt;</th></tr>\n",
       "</thead>\n",
       "<tbody>\n",
       "\t<tr><th scope=row>IFIT1</th><td>2.296720</td><td>9.924496e-05</td><td>0.007137633</td><td>2.388642</td><td>0</td><td>0</td></tr>\n",
       "\t<tr><th scope=row>USP18</th><td>1.869896</td><td>2.975542e-04</td><td>0.020894399</td><td>1.944549</td><td>0</td><td>0</td></tr>\n",
       "\t<tr><th scope=row>IFI44L</th><td>1.565686</td><td>8.500801e-04</td><td>0.058315498</td><td>2.169493</td><td>0</td><td>0</td></tr>\n",
       "\t<tr><th scope=row>OAS3</th><td>1.481316</td><td>1.988509e-03</td><td>0.130393526</td><td>1.730105</td><td>0</td><td>0</td></tr>\n",
       "\t<tr><th scope=row>RSAD2</th><td>1.472741</td><td>3.107544e-03</td><td>0.197950564</td><td>1.466231</td><td>0</td><td>0</td></tr>\n",
       "\t<tr><th scope=row>OASL</th><td>1.385387</td><td>1.761591e-02</td><td>0.729708749</td><td>1.210466</td><td>0</td><td>0</td></tr>\n",
       "</tbody>\n",
       "</table>\n"
      ],
      "text/latex": [
       "A data.frame: 6 × 6\n",
       "\\begin{tabular}{r|llllll}\n",
       "  & fixed-effects estimates & pval & qval & LFC & Singular & Conv\\\\\n",
       "  & <dbl> & <dbl> & <dbl> & <dbl> & <dbl> & <dbl>\\\\\n",
       "\\hline\n",
       "\tIFIT1 & 2.296720 & 9.924496e-05 & 0.007137633 & 2.388642 & 0 & 0\\\\\n",
       "\tUSP18 & 1.869896 & 2.975542e-04 & 0.020894399 & 1.944549 & 0 & 0\\\\\n",
       "\tIFI44L & 1.565686 & 8.500801e-04 & 0.058315498 & 2.169493 & 0 & 0\\\\\n",
       "\tOAS3 & 1.481316 & 1.988509e-03 & 0.130393526 & 1.730105 & 0 & 0\\\\\n",
       "\tRSAD2 & 1.472741 & 3.107544e-03 & 0.197950564 & 1.466231 & 0 & 0\\\\\n",
       "\tOASL & 1.385387 & 1.761591e-02 & 0.729708749 & 1.210466 & 0 & 0\\\\\n",
       "\\end{tabular}\n"
      ],
      "text/markdown": [
       "\n",
       "A data.frame: 6 × 6\n",
       "\n",
       "| <!--/--> | fixed-effects estimates &lt;dbl&gt; | pval &lt;dbl&gt; | qval &lt;dbl&gt; | LFC &lt;dbl&gt; | Singular &lt;dbl&gt; | Conv &lt;dbl&gt; |\n",
       "|---|---|---|---|---|---|---|\n",
       "| IFIT1 | 2.296720 | 9.924496e-05 | 0.007137633 | 2.388642 | 0 | 0 |\n",
       "| USP18 | 1.869896 | 2.975542e-04 | 0.020894399 | 1.944549 | 0 | 0 |\n",
       "| IFI44L | 1.565686 | 8.500801e-04 | 0.058315498 | 2.169493 | 0 | 0 |\n",
       "| OAS3 | 1.481316 | 1.988509e-03 | 0.130393526 | 1.730105 | 0 | 0 |\n",
       "| RSAD2 | 1.472741 | 3.107544e-03 | 0.197950564 | 1.466231 | 0 | 0 |\n",
       "| OASL | 1.385387 | 1.761591e-02 | 0.729708749 | 1.210466 | 0 | 0 |\n",
       "\n"
      ],
      "text/plain": [
       "       fixed-effects estimates pval         qval        LFC      Singular Conv\n",
       "IFIT1  2.296720                9.924496e-05 0.007137633 2.388642 0        0   \n",
       "USP18  1.869896                2.975542e-04 0.020894399 1.944549 0        0   \n",
       "IFI44L 1.565686                8.500801e-04 0.058315498 2.169493 0        0   \n",
       "OAS3   1.481316                1.988509e-03 0.130393526 1.730105 0        0   \n",
       "RSAD2  1.472741                3.107544e-03 0.197950564 1.466231 0        0   \n",
       "OASL   1.385387                1.761591e-02 0.729708749 1.210466 0        0   "
      ]
     },
     "metadata": {},
     "output_type": "display_data"
    },
    {
     "data": {
      "text/html": [
       "<style>\n",
       ".list-inline {list-style: none; margin:0; padding: 0}\n",
       ".list-inline>li {display: inline-block}\n",
       ".list-inline>li:not(:last-child)::after {content: \"\\00b7\"; padding: 0 .5ex}\n",
       "</style>\n",
       "<ol class=list-inline><li>8720</li><li>6</li></ol>\n"
      ],
      "text/latex": [
       "\\begin{enumerate*}\n",
       "\\item 8720\n",
       "\\item 6\n",
       "\\end{enumerate*}\n"
      ],
      "text/markdown": [
       "1. 8720\n",
       "2. 6\n",
       "\n",
       "\n"
      ],
      "text/plain": [
       "[1] 8720    6"
      ]
     },
     "metadata": {},
     "output_type": "display_data"
    }
   ],
   "source": [
    "head(results3)\n",
    "dim(results3)"
   ]
  },
  {
   "cell_type": "code",
   "execution_count": 7,
   "id": "6178da28",
   "metadata": {},
   "outputs": [
    {
     "data": {
      "text/html": [
       "<table class=\"dataframe\">\n",
       "<caption>A data.frame: 6 × 6</caption>\n",
       "<thead>\n",
       "\t<tr><th></th><th scope=col>fixed-effects estimates</th><th scope=col>pval</th><th scope=col>qval</th><th scope=col>LFC</th><th scope=col>Singular</th><th scope=col>Conv</th></tr>\n",
       "\t<tr><th></th><th scope=col>&lt;dbl&gt;</th><th scope=col>&lt;dbl&gt;</th><th scope=col>&lt;dbl&gt;</th><th scope=col>&lt;dbl&gt;</th><th scope=col>&lt;dbl&gt;</th><th scope=col>&lt;dbl&gt;</th></tr>\n",
       "</thead>\n",
       "<tbody>\n",
       "\t<tr><th scope=row>DSP</th><td>1.0796280</td><td>0.0107412612</td><td>0.032528011</td><td>1.3542152</td><td>0</td><td>0</td></tr>\n",
       "\t<tr><th scope=row>CNTNAP2</th><td>0.9242893</td><td>0.0095356203</td><td>0.029904630</td><td>1.2340652</td><td>0</td><td>0</td></tr>\n",
       "\t<tr><th scope=row>IGHG3</th><td>0.8891763</td><td>0.0518854348</td><td>0.103577123</td><td>1.0495421</td><td>0</td><td>0</td></tr>\n",
       "\t<tr><th scope=row>NETO1</th><td>0.8680128</td><td>0.0631007345</td><td>0.119764447</td><td>0.9286125</td><td>0</td><td>0</td></tr>\n",
       "\t<tr><th scope=row>TXNDC5</th><td>0.7979857</td><td>0.0029580199</td><td>0.012360793</td><td>1.0726148</td><td>0</td><td>0</td></tr>\n",
       "\t<tr><th scope=row>MXI1</th><td>0.7812591</td><td>0.0001180712</td><td>0.001100946</td><td>1.0908005</td><td>0</td><td>0</td></tr>\n",
       "</tbody>\n",
       "</table>\n"
      ],
      "text/latex": [
       "A data.frame: 6 × 6\n",
       "\\begin{tabular}{r|llllll}\n",
       "  & fixed-effects estimates & pval & qval & LFC & Singular & Conv\\\\\n",
       "  & <dbl> & <dbl> & <dbl> & <dbl> & <dbl> & <dbl>\\\\\n",
       "\\hline\n",
       "\tDSP & 1.0796280 & 0.0107412612 & 0.032528011 & 1.3542152 & 0 & 0\\\\\n",
       "\tCNTNAP2 & 0.9242893 & 0.0095356203 & 0.029904630 & 1.2340652 & 0 & 0\\\\\n",
       "\tIGHG3 & 0.8891763 & 0.0518854348 & 0.103577123 & 1.0495421 & 0 & 0\\\\\n",
       "\tNETO1 & 0.8680128 & 0.0631007345 & 0.119764447 & 0.9286125 & 0 & 0\\\\\n",
       "\tTXNDC5 & 0.7979857 & 0.0029580199 & 0.012360793 & 1.0726148 & 0 & 0\\\\\n",
       "\tMXI1 & 0.7812591 & 0.0001180712 & 0.001100946 & 1.0908005 & 0 & 0\\\\\n",
       "\\end{tabular}\n"
      ],
      "text/markdown": [
       "\n",
       "A data.frame: 6 × 6\n",
       "\n",
       "| <!--/--> | fixed-effects estimates &lt;dbl&gt; | pval &lt;dbl&gt; | qval &lt;dbl&gt; | LFC &lt;dbl&gt; | Singular &lt;dbl&gt; | Conv &lt;dbl&gt; |\n",
       "|---|---|---|---|---|---|---|\n",
       "| DSP | 1.0796280 | 0.0107412612 | 0.032528011 | 1.3542152 | 0 | 0 |\n",
       "| CNTNAP2 | 0.9242893 | 0.0095356203 | 0.029904630 | 1.2340652 | 0 | 0 |\n",
       "| IGHG3 | 0.8891763 | 0.0518854348 | 0.103577123 | 1.0495421 | 0 | 0 |\n",
       "| NETO1 | 0.8680128 | 0.0631007345 | 0.119764447 | 0.9286125 | 0 | 0 |\n",
       "| TXNDC5 | 0.7979857 | 0.0029580199 | 0.012360793 | 1.0726148 | 0 | 0 |\n",
       "| MXI1 | 0.7812591 | 0.0001180712 | 0.001100946 | 1.0908005 | 0 | 0 |\n",
       "\n"
      ],
      "text/plain": [
       "        fixed-effects estimates pval         qval        LFC       Singular\n",
       "DSP     1.0796280               0.0107412612 0.032528011 1.3542152 0       \n",
       "CNTNAP2 0.9242893               0.0095356203 0.029904630 1.2340652 0       \n",
       "IGHG3   0.8891763               0.0518854348 0.103577123 1.0495421 0       \n",
       "NETO1   0.8680128               0.0631007345 0.119764447 0.9286125 0       \n",
       "TXNDC5  0.7979857               0.0029580199 0.012360793 1.0726148 0       \n",
       "MXI1    0.7812591               0.0001180712 0.001100946 1.0908005 0       \n",
       "        Conv\n",
       "DSP     0   \n",
       "CNTNAP2 0   \n",
       "IGHG3   0   \n",
       "NETO1   0   \n",
       "TXNDC5  0   \n",
       "MXI1    0   "
      ]
     },
     "metadata": {},
     "output_type": "display_data"
    },
    {
     "data": {
      "text/html": [
       "<style>\n",
       ".list-inline {list-style: none; margin:0; padding: 0}\n",
       ".list-inline>li {display: inline-block}\n",
       ".list-inline>li:not(:last-child)::after {content: \"\\00b7\"; padding: 0 .5ex}\n",
       "</style>\n",
       "<ol class=list-inline><li>102</li><li>6</li></ol>\n"
      ],
      "text/latex": [
       "\\begin{enumerate*}\n",
       "\\item 102\n",
       "\\item 6\n",
       "\\end{enumerate*}\n"
      ],
      "text/markdown": [
       "1. 102\n",
       "2. 6\n",
       "\n",
       "\n"
      ],
      "text/plain": [
       "[1] 102   6"
      ]
     },
     "metadata": {},
     "output_type": "display_data"
    }
   ],
   "source": [
    "head(results4)\n",
    "dim(results4)"
   ]
  },
  {
   "cell_type": "code",
   "execution_count": 8,
   "id": "fa6dda32",
   "metadata": {},
   "outputs": [
    {
     "data": {
      "text/html": [
       "<table class=\"dataframe\">\n",
       "<caption>A data.frame: 6 × 6</caption>\n",
       "<thead>\n",
       "\t<tr><th></th><th scope=col>fixed-effects estimates</th><th scope=col>pval</th><th scope=col>qval</th><th scope=col>LFC</th><th scope=col>Singular</th><th scope=col>Conv</th></tr>\n",
       "\t<tr><th></th><th scope=col>&lt;dbl&gt;</th><th scope=col>&lt;dbl&gt;</th><th scope=col>&lt;dbl&gt;</th><th scope=col>&lt;dbl&gt;</th><th scope=col>&lt;dbl&gt;</th><th scope=col>&lt;dbl&gt;</th></tr>\n",
       "</thead>\n",
       "<tbody>\n",
       "\t<tr><th scope=row>EIF2AK2</th><td>1.874257</td><td>6.916549e-10</td><td>6.830901e-09</td><td>2.611070</td><td>0</td><td>0</td></tr>\n",
       "\t<tr><th scope=row>IFIT2</th><td>1.667143</td><td>2.321399e-05</td><td>6.609324e-05</td><td>2.112843</td><td>0</td><td>0</td></tr>\n",
       "\t<tr><th scope=row>LY6E-DT</th><td>1.635279</td><td>9.652144e-05</td><td>2.299557e-04</td><td>1.593480</td><td>0</td><td>0</td></tr>\n",
       "\t<tr><th scope=row>PARP9</th><td>1.553918</td><td>2.330054e-07</td><td>1.146760e-06</td><td>2.099018</td><td>0</td><td>0</td></tr>\n",
       "\t<tr><th scope=row>AC116407.2</th><td>1.451315</td><td>2.338666e-04</td><td>4.984379e-04</td><td>1.524453</td><td>0</td><td>0</td></tr>\n",
       "\t<tr><th scope=row>RASL11A</th><td>1.432831</td><td>3.089570e-03</td><td>4.914401e-03</td><td>1.088521</td><td>0</td><td>0</td></tr>\n",
       "</tbody>\n",
       "</table>\n"
      ],
      "text/latex": [
       "A data.frame: 6 × 6\n",
       "\\begin{tabular}{r|llllll}\n",
       "  & fixed-effects estimates & pval & qval & LFC & Singular & Conv\\\\\n",
       "  & <dbl> & <dbl> & <dbl> & <dbl> & <dbl> & <dbl>\\\\\n",
       "\\hline\n",
       "\tEIF2AK2 & 1.874257 & 6.916549e-10 & 6.830901e-09 & 2.611070 & 0 & 0\\\\\n",
       "\tIFIT2 & 1.667143 & 2.321399e-05 & 6.609324e-05 & 2.112843 & 0 & 0\\\\\n",
       "\tLY6E-DT & 1.635279 & 9.652144e-05 & 2.299557e-04 & 1.593480 & 0 & 0\\\\\n",
       "\tPARP9 & 1.553918 & 2.330054e-07 & 1.146760e-06 & 2.099018 & 0 & 0\\\\\n",
       "\tAC116407.2 & 1.451315 & 2.338666e-04 & 4.984379e-04 & 1.524453 & 0 & 0\\\\\n",
       "\tRASL11A & 1.432831 & 3.089570e-03 & 4.914401e-03 & 1.088521 & 0 & 0\\\\\n",
       "\\end{tabular}\n"
      ],
      "text/markdown": [
       "\n",
       "A data.frame: 6 × 6\n",
       "\n",
       "| <!--/--> | fixed-effects estimates &lt;dbl&gt; | pval &lt;dbl&gt; | qval &lt;dbl&gt; | LFC &lt;dbl&gt; | Singular &lt;dbl&gt; | Conv &lt;dbl&gt; |\n",
       "|---|---|---|---|---|---|---|\n",
       "| EIF2AK2 | 1.874257 | 6.916549e-10 | 6.830901e-09 | 2.611070 | 0 | 0 |\n",
       "| IFIT2 | 1.667143 | 2.321399e-05 | 6.609324e-05 | 2.112843 | 0 | 0 |\n",
       "| LY6E-DT | 1.635279 | 9.652144e-05 | 2.299557e-04 | 1.593480 | 0 | 0 |\n",
       "| PARP9 | 1.553918 | 2.330054e-07 | 1.146760e-06 | 2.099018 | 0 | 0 |\n",
       "| AC116407.2 | 1.451315 | 2.338666e-04 | 4.984379e-04 | 1.524453 | 0 | 0 |\n",
       "| RASL11A | 1.432831 | 3.089570e-03 | 4.914401e-03 | 1.088521 | 0 | 0 |\n",
       "\n"
      ],
      "text/plain": [
       "           fixed-effects estimates pval         qval         LFC      Singular\n",
       "EIF2AK2    1.874257                6.916549e-10 6.830901e-09 2.611070 0       \n",
       "IFIT2      1.667143                2.321399e-05 6.609324e-05 2.112843 0       \n",
       "LY6E-DT    1.635279                9.652144e-05 2.299557e-04 1.593480 0       \n",
       "PARP9      1.553918                2.330054e-07 1.146760e-06 2.099018 0       \n",
       "AC116407.2 1.451315                2.338666e-04 4.984379e-04 1.524453 0       \n",
       "RASL11A    1.432831                3.089570e-03 4.914401e-03 1.088521 0       \n",
       "           Conv\n",
       "EIF2AK2    0   \n",
       "IFIT2      0   \n",
       "LY6E-DT    0   \n",
       "PARP9      0   \n",
       "AC116407.2 0   \n",
       "RASL11A    0   "
      ]
     },
     "metadata": {},
     "output_type": "display_data"
    },
    {
     "data": {
      "text/html": [
       "<style>\n",
       ".list-inline {list-style: none; margin:0; padding: 0}\n",
       ".list-inline>li {display: inline-block}\n",
       ".list-inline>li:not(:last-child)::after {content: \"\\00b7\"; padding: 0 .5ex}\n",
       "</style>\n",
       "<ol class=list-inline><li>7640</li><li>6</li></ol>\n"
      ],
      "text/latex": [
       "\\begin{enumerate*}\n",
       "\\item 7640\n",
       "\\item 6\n",
       "\\end{enumerate*}\n"
      ],
      "text/markdown": [
       "1. 7640\n",
       "2. 6\n",
       "\n",
       "\n"
      ],
      "text/plain": [
       "[1] 7640    6"
      ]
     },
     "metadata": {},
     "output_type": "display_data"
    }
   ],
   "source": [
    "head(results5)\n",
    "dim(results5)"
   ]
  },
  {
   "cell_type": "code",
   "execution_count": 9,
   "id": "42dc30f5",
   "metadata": {},
   "outputs": [],
   "source": [
    "library(fgsea)\n",
    "library(msigdbr)"
   ]
  },
  {
   "cell_type": "code",
   "execution_count": 10,
   "id": "900eae83",
   "metadata": {},
   "outputs": [],
   "source": [
    "h <- data.frame(msigdbr::msigdbr(category = \"H\", species = 'Homo sapiens'))\n",
    "h <- split(h, h$gs_name)\n",
    "h <- lapply(h, function(x) x %>% dplyr::select(gene_symbol) %>% unlist %>% as.character)"
   ]
  },
  {
   "cell_type": "code",
   "execution_count": 32,
   "id": "74176acf",
   "metadata": {},
   "outputs": [],
   "source": [
    "plotGSEA_Hallmark <- function(gsea, fdr_cutoff = 0.05, cols = NULL, xlim = NULL, newlabels = NULL, keep_significant_only = TRUE, jitter = FALSE) {\n",
    "    require(ggplot2)\n",
    "    gsea$NES[which(is.na(gsea$NES))] <- 0\n",
    "    gsea$pval[which(is.na(gsea$pval))] <- 1\n",
    "    gsea$padj[which(is.na(gsea$padj))] <- 1\n",
    "    gsea$ranking[which(is.na(gsea$ranking))] <- 0\n",
    "    gsea <- gsea[order(gsea$ranking),]\n",
    "    \n",
    "    if (keep_significant_only){\n",
    "        gseax <- split(gsea, gsea$pathway)\n",
    "        for (i in 1:length(gseax)){\n",
    "            if (all(gseax[[i]]$pval >= 0.05)|all(gseax[[i]]$padj >=fdr_cutoff)){\n",
    "                gseax[[i]] <- NA        \n",
    "            }\n",
    "        }\n",
    "        gseax <- gseax[!is.na(gseax)]\n",
    "        gsea <- do.call(rbind, gseax)        \n",
    "    }\n",
    "    if (!is.null(gsea)){\n",
    "        gsea <- gsea[order(gsea$ranking), ]\n",
    "        gsea$pathway <- gsub(\"HALLMARK_|\", \"\", gsea$pathway)\n",
    "\n",
    "        if (!is.null(xlim)){\n",
    "            x_lim_min = -xlim\n",
    "            x_lim_max = xlim\n",
    "        } else {\n",
    "            x_lim_min <- abs(ceiling(min(-log10(gsea$padj))))\n",
    "            x_lim_max <- abs(ceiling(max(-log10(gsea$padj))))\n",
    "        }\n",
    "        \n",
    "        if(x_lim_min > x_lim_max){\n",
    "            xval1 <- x_lim_min * -1\n",
    "            xval2 <- x_lim_min\n",
    "        } else {\n",
    "            xval1 <- x_lim_max * -1\n",
    "            xval2 <- x_lim_max\n",
    "        }\n",
    "\n",
    "        if(!is.null(cols)){\n",
    "            gg_color_hue <- function(n) {\n",
    "                hues = seq(15, 375, length = n + 1)\n",
    "                hcl(h = hues, l = 65, c = 100)[1:n]\n",
    "            }\n",
    "            cols. = gg_color_hue(dplyr::n_distinct(gsea$group, na.rm = TRUE))\n",
    "        } else {\n",
    "            cols. = cols\n",
    "        }    \n",
    "    \n",
    "        g <- ggplot(gsea, aes(x = -log10(padj)*sign(NES), y = reorder(pathway, ranking), col = -log10(padj)*sign(NES), size = abs(NES)))\n",
    "        if (jitter){\n",
    "            g <- g + geom_point(position = 'jitter')\n",
    "        }else{\n",
    "            g <- g + geom_point()\n",
    "        }\n",
    "        g <- g + theme_bw() +\n",
    "            labs(x = expression(paste(\"Signed\", \" -log\" [\"10\"], \"adjusted pval\")), y = \"Hallmarks\") +\n",
    "            scale_color_gradient2(low = '#2166ac', mid = '#f7f7f7', high = '#b2182b', na.value = NA, limits = c(-2,2), oob = scales::squish) +\n",
    "            geom_vline(xintercept = 0) +\n",
    "            geom_vline(xintercept = -log10(fdr_cutoff), colour = '#ff7f0e') +\n",
    "            geom_vline(xintercept = -log10(fdr_cutoff)*-1, colour = '#ff7f0e') +\n",
    "            scale_x_continuous(limits = c(xval1, xval2), oob = scales::squish) +\n",
    "            scale_size_area(oob = scales::squish, max_size = 3, limits = c(0,2)) +\n",
    "            theme(panel.grid.major = element_blank(), \n",
    "                panel.grid.minor = element_blank(), \n",
    "                panel.background = element_blank(), \n",
    "                axis.line = element_blank(), \n",
    "                axis.ticks = element_blank(),\n",
    "                axis.text = element_text(color = 'black'),\n",
    "                axis.title = element_text(color = 'black'),\n",
    "                legend.direction = \"vertical\", legend.box = \"horizontal\"\n",
    "                )\n",
    "        \n",
    "        return(g)\n",
    "    }\n",
    "}"
   ]
  },
  {
   "cell_type": "code",
   "execution_count": 33,
   "id": "6597031d",
   "metadata": {},
   "outputs": [
    {
     "name": "stderr",
     "output_type": "stream",
     "text": [
      "Warning message in fgseaMultilevel(...):\n",
      "“There were 2 pathways for which P-values were not calculated properly due to unbalanced (positive and negative) gene-level statistic values. For such pathways pval, padj, NES, log2err are set to NA. You can try to increase the value of the argument nPermSimple (for example set it nPermSimple = 10000)”\n"
     ]
    },
    {
     "data": {
      "image/png": "[encoded data removed]",
      "text/plain": [
       "plot without title"
      ]
     },
     "metadata": {
      "image/png": {
       "height": 180,
       "width": 420
      }
     },
     "output_type": "display_data"
    }
   ],
   "source": [
    "options(repr.plot.height = 3)\n",
    "gl1 <- makeGeneList(results1)\n",
    "res1gsea <- fgsea(pathways = h, stats = gl1, minSize = 0, maxSize =1000)\n",
    "res1gsea$ranking <- -log10(res1gsea$pval) * sign(res1gsea$NES)\n",
    "plotGSEA_Hallmark(res1gsea)"
   ]
  },
  {
   "cell_type": "code",
   "execution_count": 34,
   "id": "9bdc5058",
   "metadata": {},
   "outputs": [],
   "source": [
    "# gl2 <- makeGeneList(results2, 'fixed-effects estimates_linear')\n",
    "# res2gsea <- fgsea(pathways = h, stats = gl2, minSize = 0, maxSize =1000)\n",
    "# res2gsea$ranking <- -log10(res2gsea$pval) * sign(res2gsea$NES)\n",
    "# plotGSEA_Hallmark(res2gsea)"
   ]
  },
  {
   "cell_type": "code",
   "execution_count": 35,
   "id": "64e8d303",
   "metadata": {},
   "outputs": [],
   "source": [
    "# gl2 <- makeGeneList(results2, 'fixed-effects estimates_quadratic')\n",
    "# res2gsea <- fgsea(pathways = h, stats = gl2, minSize = 0, maxSize =1000)\n",
    "# res2gsea$ranking <- -log10(res2gsea$pval) * sign(res2gsea$NES)\n",
    "# plotGSEA_Hallmark(res2gsea)"
   ]
  },
  {
   "cell_type": "code",
   "execution_count": 36,
   "id": "714a8b19",
   "metadata": {},
   "outputs": [
    {
     "name": "stderr",
     "output_type": "stream",
     "text": [
      "Warning message in fgseaMultilevel(...):\n",
      "“There were 1 pathways for which P-values were not calculated properly due to unbalanced (positive and negative) gene-level statistic values. For such pathways pval, padj, NES, log2err are set to NA. You can try to increase the value of the argument nPermSimple (for example set it nPermSimple = 10000)”\n",
      "Warning message in fgseaMultilevel(...):\n",
      "“For some pathways, in reality P-values are less than 1e-10. You can set the `eps` argument to zero for better estimation.”\n"
     ]
    },
    {
     "data": {
      "image/png": "[encoded data removed]",
      "text/plain": [
       "plot without title"
      ]
     },
     "metadata": {
      "image/png": {
       "height": 180,
       "width": 420
      }
     },
     "output_type": "display_data"
    }
   ],
   "source": [
    "options(repr.plot.height = 3)\n",
    "gl3 <- makeGeneList(results3)\n",
    "res3gsea <- fgsea(pathways = h, stats = gl3, minSize = 0, maxSize =1000)\n",
    "res3gsea$ranking <- -log10(res3gsea$pval) * sign(res3gsea$NES)\n",
    "plotGSEA_Hallmark(res3gsea)"
   ]
  },
  {
   "cell_type": "code",
   "execution_count": 37,
   "id": "2c8f2716",
   "metadata": {},
   "outputs": [
    {
     "name": "stderr",
     "output_type": "stream",
     "text": [
      "Warning message in preparePathwaysAndStats(pathways, stats, minSize, maxSize, gseaParam, :\n",
      "“All values in the stats vector are greater than zero and scoreType is \"std\", maybe you should switch to scoreType = \"pos\".”\n"
     ]
    }
   ],
   "source": [
    "options(repr.plot.height = 4)\n",
    "gl4 <- makeGeneList(results4)\n",
    "res4gsea <- fgsea(pathways = h, stats = gl4, minSize = 0, maxSize =1000)\n",
    "res4gsea$ranking <- -log10(res4gsea$pval) * sign(res4gsea$NES)\n",
    "plotGSEA_Hallmark(res4gsea)"
   ]
  },
  {
   "cell_type": "code",
   "execution_count": 38,
   "id": "b3b28f43",
   "metadata": {},
   "outputs": [
    {
     "name": "stderr",
     "output_type": "stream",
     "text": [
      "Warning message in fgseaMultilevel(...):\n",
      "“There were 1 pathways for which P-values were not calculated properly due to unbalanced (positive and negative) gene-level statistic values. For such pathways pval, padj, NES, log2err are set to NA. You can try to increase the value of the argument nPermSimple (for example set it nPermSimple = 10000)”\n",
      "Warning message in fgseaMultilevel(...):\n",
      "“For some pathways, in reality P-values are less than 1e-10. You can set the `eps` argument to zero for better estimation.”\n"
     ]
    },
    {
     "data": {
      "image/png": "[encoded data removed]",
      "text/plain": [
       "plot without title"
      ]
     },
     "metadata": {
      "image/png": {
       "height": 180,
       "width": 420
      }
     },
     "output_type": "display_data"
    }
   ],
   "source": [
    "options(repr.plot.height = 3)\n",
    "gl5 <- makeGeneList(results5)\n",
    "res5gsea <- fgsea(pathways = h, stats = gl5, minSize = 0, maxSize =1000)\n",
    "res5gsea$ranking <- -log10(res5gsea$pval) * sign(res5gsea$NES)\n",
    "plotGSEA_Hallmark(res5gsea)"
   ]
  },
  {
   "cell_type": "code",
   "execution_count": null,
   "id": "88d81119",
   "metadata": {},
   "outputs": [],
   "source": []
  }
 ],
 "metadata": {
  "kernelspec": {
   "display_name": "R",
   "language": "R",
   "name": "ir"
  },
  "language_info": {
   "codemirror_mode": "r",
   "file_extension": ".r",
   "mimetype": "text/x-r-source",
   "name": "R",
   "pygments_lexer": "r",
   "version": "4.0.3"
  }
 },
 "nbformat": 4,
 "nbformat_minor": 5
}
