{
 "cells": [
  {
   "cell_type": "code",
   "execution_count": 1,
   "id": "c7d5e4c8",
   "metadata": {},
   "outputs": [
    {
     "name": "stdout",
     "output_type": "stream",
     "text": [
      "scanpy==1.8.1 anndata==0.7.6 umap==0.5.1 numpy==1.22.4 scipy==1.6.2 pandas==1.2.4 scikit-learn==0.24.2 statsmodels==0.12.2 python-igraph==0.9.1 pynndescent==0.5.2\n"
     ]
    }
   ],
   "source": [
    "import os\n",
    "import tools\n",
    "import numpy as np\n",
    "import pandas as pd\n",
    "import scanpy as sc\n",
    "\n",
    "sc.logging.print_header()"
   ]
  },
  {
   "cell_type": "code",
   "execution_count": 2,
   "id": "67bce2f7",
   "metadata": {},
   "outputs": [],
   "source": [
    "os.chdir('/lustre/scratch117/cellgen/team297/kt16/COVID_imperial_renal')"
   ]
  },
  {
   "cell_type": "code",
   "execution_count": 3,
   "id": "02e2e3cf",
   "metadata": {},
   "outputs": [
    {
     "data": {
      "text/plain": [
       "AnnData object with n_obs × n_vars = 68683 × 330\n",
       "    obs: 'orig.ident', 'nCount_RNA', 'nFeature_RNA', 'nCount_ADT', 'nFeature_ADT', 'nCount_ADT_raw', 'nFeature_ADT_raw', 'nCount_RNA_raw', 'nFeature_RNA_raw', 'soupxOnAdt', 'soupxOnRna', 'percentMito', 'exclude', 'centre', 'pool', 'tcrId', 'bcrId', 'celltypist_broad_predLabel', 'celltypist_broad_maxPredProb', 'haniffa_broad_predLabel', 'haniffa_broad_maxPredProb', 'yoshida_broad_predLabel', 'yoshida_broad_maxPredProb', 'celltypist_detailed_predLabel', 'celltypist_detailed_maxPredProb', 'yoshida_detailed_predLabel', 'yoshida_detailed_maxPredProb', 'seurat_clusters', 'RNA_sequencing_saturation', 'pool_factor', 'RNA_readsConfidentlyOnTranscriptome', 'RNA_readsConfidentlyOnGenome', 'RNA_readsOnGenome', 'RNA_Q30readsBarcode', 'RNA_Q30readsRead', 'RNA_Q30readsUmi', 'rna_snn_res.4', 'rna_snn_res.0.5', 'rna_snn_res.0.1', 'harmony_snn_res.4', 'yoshida_broad_predLabel_majorVote', 'harmony_snn_res.0.5', 'harmony_snn_res.0.1', 'cell_type_compartment', 'pool_number', 'merged_souporcell_cluster', 'merged_souporcell_status', 'patient_id', 'sample_id', 'multi_chain_bcr', 'IR_VJ_1_locus_bcr', 'IR_VJ_2_locus_bcr', 'IR_VDJ_1_locus_bcr', 'IR_VDJ_2_locus_bcr', 'IR_VJ_1_cdr3_bcr', 'IR_VJ_2_cdr3_bcr', 'IR_VDJ_1_cdr3_bcr', 'IR_VDJ_2_cdr3_bcr', 'IR_VJ_1_cdr3_nt_bcr', 'IR_VJ_2_cdr3_nt_bcr', 'IR_VDJ_1_cdr3_nt_bcr', 'IR_VDJ_2_cdr3_nt_bcr', 'IR_VJ_1_expr_bcr', 'IR_VJ_2_expr_bcr', 'IR_VDJ_1_expr_bcr', 'IR_VDJ_2_expr_bcr', 'IR_VJ_1_expr_raw_bcr', 'IR_VJ_2_expr_raw_bcr', 'IR_VDJ_1_expr_raw_bcr', 'IR_VDJ_2_expr_raw_bcr', 'IR_VJ_1_v_gene_bcr', 'IR_VJ_2_v_gene_bcr', 'IR_VDJ_1_v_gene_bcr', 'IR_VDJ_2_v_gene_bcr', 'IR_VJ_1_d_gene_bcr', 'IR_VJ_2_d_gene_bcr', 'IR_VDJ_1_d_gene_bcr', 'IR_VDJ_2_d_gene_bcr', 'IR_VJ_1_j_gene_bcr', 'IR_VJ_2_j_gene_bcr', 'IR_VDJ_1_j_gene_bcr', 'IR_VDJ_2_j_gene_bcr', 'IR_VJ_1_c_gene_bcr', 'IR_VJ_2_c_gene_bcr', 'IR_VDJ_1_c_gene_bcr', 'IR_VDJ_2_c_gene_bcr', 'IR_VJ_1_junction_ins_bcr', 'IR_VJ_2_junction_ins_bcr', 'IR_VDJ_1_junction_ins_bcr', 'IR_VDJ_2_junction_ins_bcr', 'has_ir_bcr', 'multi_chain_tcr', 'IR_VJ_1_locus_tcr', 'IR_VJ_2_locus_tcr', 'IR_VDJ_1_locus_tcr', 'IR_VDJ_2_locus_tcr', 'IR_VJ_1_cdr3_tcr', 'IR_VJ_2_cdr3_tcr', 'IR_VDJ_1_cdr3_tcr', 'IR_VDJ_2_cdr3_tcr', 'IR_VJ_1_cdr3_nt_tcr', 'IR_VJ_2_cdr3_nt_tcr', 'IR_VDJ_1_cdr3_nt_tcr', 'IR_VDJ_2_cdr3_nt_tcr', 'IR_VJ_1_expr_tcr', 'IR_VJ_2_expr_tcr', 'IR_VDJ_1_expr_tcr', 'IR_VDJ_2_expr_tcr', 'IR_VJ_1_expr_raw_tcr', 'IR_VJ_2_expr_raw_tcr', 'IR_VDJ_1_expr_raw_tcr', 'IR_VDJ_2_expr_raw_tcr', 'IR_VJ_1_v_gene_tcr', 'IR_VJ_2_v_gene_tcr', 'IR_VDJ_1_v_gene_tcr', 'IR_VDJ_2_v_gene_tcr', 'IR_VJ_1_d_gene_tcr', 'IR_VJ_2_d_gene_tcr', 'IR_VDJ_1_d_gene_tcr', 'IR_VDJ_2_d_gene_tcr', 'IR_VJ_1_j_gene_tcr', 'IR_VJ_2_j_gene_tcr', 'IR_VDJ_1_j_gene_tcr', 'IR_VDJ_2_j_gene_tcr', 'IR_VJ_1_c_gene_tcr', 'IR_VJ_2_c_gene_tcr', 'IR_VDJ_1_c_gene_tcr', 'IR_VDJ_2_c_gene_tcr', 'IR_VJ_1_junction_ins_tcr', 'IR_VJ_2_junction_ins_tcr', 'IR_VDJ_1_junction_ins_tcr', 'IR_VDJ_2_junction_ins_tcr', 'has_ir_tcr', 'ethnicity', 'sex', 'calc_age', 'ihd', 'previous_vte', 'copd', 'diabetes', 'smoking', 'cause_eskd', 'renal_status', 'WHO_severity', 'admission_date', 'discharge_date', 'fatal_disease', 'case_control', 'date_positive_swab', 'date_first_symptoms', 'radiology_evidence_covid', 'sample_date', 'temp_WCC', 'temp_neut', 'temp_mono', 'temp_lymph', 'temp_CRP', 'temp_ddimer', 'temp_ferritin', 'temp_trop', 'WHO_temp_severity', 'individual_id', 'initial_cluster_B', '_scvi_batch', '_scvi_labels', 'leiden_B', 'leiden_B_soc', 'Naive B cells_score', 'Non-switched memory B cells_score', 'Exhausted B cells_score', 'Switched memory B cells_score', 'Plasmablasts_score', 'gmm_pct_b_scores', 'celltype_B', 'filter_rna', 'has_contig', 'filter_contig_quality', 'filter_contig_VDJ', 'filter_contig_VJ', 'contig_QC_pass', 'filter_contig', 'clone_id', 'clone_id_by_size', 'locus_VDJ', 'locus_VJ', 'productive_VDJ', 'productive_VJ', 'v_call_genotyped_VDJ', 'v_call_genotyped_VJ', 'd_call_VDJ', 'j_call_VDJ', 'j_call_VJ', 'c_call_VDJ', 'c_call_VJ', 'duplicate_count_VDJ', 'duplicate_count_VJ', 'duplicate_count_VDJ_1', 'duplicate_count_VJ_1', 'duplicate_count_VDJ_2', 'duplicate_count_VDJ_3', 'duplicate_count_VDJ_4', 'junction_VDJ', 'junction_VJ', 'junction_aa_VDJ', 'junction_aa_VJ', 'isotype', 'isotype_status', 'locus_status', 'productive_status', 'rearrangement_VDJ_status', 'rearrangement_VJ_status', 'constant_VDJ_status', 'constant_VJ_status', 'celltype_B_corrected', 'Interferon_score', 'Interferon_zscore', 'Interferon_group', 'celltype_B_corrected_IFN', 'corrected_ethnicity', 'PC1_nonafricanVsAfrican', 'PC2_asianVsEuropean'\n",
       "    var: 'vst.mean', 'vst.variance', 'vst.variance.expected', 'vst.variance.standardized', 'vst.variable', 'highly_variable', 'means', 'dispersions', 'dispersions_norm'\n",
       "    uns: 'Interferon_group_colors', 'WHO_temp_severity_colors', '_scvi', 'case_control_colors', 'celltype_B_colors', 'celltype_B_corrected_IFN_colors', 'celltype_B_corrected_colors', 'centre_colors', 'contig_QC_pass_colors', 'corrected_ethnicity_colors', 'ethnicity_colors', 'gmm_pct_b_scores_colors', 'haniffa_broad_predLabel_colors', 'harmony_snn_res.0.5_colors', 'hvg', 'individual_id_colors', 'isotype_status_colors', 'leiden', 'leiden_B_colors', 'merged_souporcell_status_colors', 'neighbors', 'rank_genes_groups', 'seurat_clusters_colors', 'umap'\n",
       "    obsm: 'X_harmony_rna', 'X_pca_rna', 'X_scVI', 'X_umap', 'X_umapafterharmony_rna', 'X_umapbeforeharmony_rna', '_scvi_extra_continuous'\n",
       "    layers: 'counts'\n",
       "    obsp: 'connectivities', 'distances'"
      ]
     },
     "execution_count": 3,
     "metadata": {},
     "output_type": "execute_result"
    }
   ],
   "source": [
    "bdata = sc.read_h5ad('h5ad/df.fil3_gex_bcells_no_CLL_vdj_230622.h5ad')\n",
    "bdata"
   ]
  },
  {
   "cell_type": "code",
   "execution_count": 4,
   "id": "09d5cc60",
   "metadata": {},
   "outputs": [],
   "source": [
    "adata = sc.read_h5ad('h5ad/df.fil3_gex_kt_230622.h5ad')\n",
    "adata = adata[adata.obs_names.isin(bdata.obs_names)]"
   ]
  },
  {
   "cell_type": "code",
   "execution_count": 5,
   "id": "c0a10b47",
   "metadata": {},
   "outputs": [],
   "source": [
    "assert all(adata.obs.index == bdata.obs.index)"
   ]
  },
  {
   "cell_type": "code",
   "execution_count": 6,
   "id": "bffc633d",
   "metadata": {},
   "outputs": [
    {
     "data": {
      "text/plain": [
       "AnnData object with n_obs × n_vars = 68683 × 33559\n",
       "    obs: 'orig.ident', 'nCount_RNA', 'nFeature_RNA', 'nCount_ADT', 'nFeature_ADT', 'nCount_ADT_raw', 'nFeature_ADT_raw', 'nCount_RNA_raw', 'nFeature_RNA_raw', 'soupxOnAdt', 'soupxOnRna', 'percentMito', 'exclude', 'centre', 'pool', 'tcrId', 'bcrId', 'celltypist_broad_predLabel', 'celltypist_broad_maxPredProb', 'haniffa_broad_predLabel', 'haniffa_broad_maxPredProb', 'yoshida_broad_predLabel', 'yoshida_broad_maxPredProb', 'celltypist_detailed_predLabel', 'celltypist_detailed_maxPredProb', 'yoshida_detailed_predLabel', 'yoshida_detailed_maxPredProb', 'seurat_clusters', 'RNA_sequencing_saturation', 'pool_factor', 'merged_souporcell_status', 'patient_id', 'sample_id', 'ethnicity', 'sex', 'calc_age', 'ihd', 'previous_vte', 'copd', 'diabetes', 'smoking', 'cause_eskd', 'renal_status', 'WHO_severity', 'admission_date', 'discharge_date', 'fatal_disease', 'case_control', 'date_positive_swab', 'date_first_symptoms', 'radiology_evidence_covid', 'sample_date', 'temp_WCC', 'temp_neut', 'temp_mono', 'temp_lymph', 'temp_CRP', 'temp_ddimer', 'temp_ferritin', 'temp_trop', 'WHO_temp_severity', 'individual_id', 'celltype_B_corrected', 'celltype_B_corrected_IFN', 'corrected_ethnicity', 'PC1_nonafricanVsAfrican', 'PC2_asianVsEuropean'\n",
       "    var: 'vst.mean', 'vst.variance', 'vst.variance.expected', 'vst.variance.standardized', 'vst.variable'\n",
       "    uns: 'WHO_temp_severity_colors', 'case_control_colors', 'celltype_B_colors', 'celltype_B_corrected_colors', 'centre_colors', 'haniffa_broad_predLabel_colors', 'harmony_snn_res.0.5_colors', 'individual_id_colors', 'initial_cluster_B_colors', 'seurat_clusters_colors'\n",
       "    obsm: 'X_harmony_rna', 'X_pca_rna', 'X_umap', 'X_umapafterharmony_rna', 'X_umapbeforeharmony_rna'\n",
       "    layers: 'counts'"
      ]
     },
     "execution_count": 6,
     "metadata": {},
     "output_type": "execute_result"
    }
   ],
   "source": [
    "adata.obs = bdata.obs.copy()\n",
    "adata.obs = adata.obs[['orig.ident', 'nCount_RNA', 'nFeature_RNA', 'nCount_ADT', 'nFeature_ADT', 'nCount_ADT_raw', 'nFeature_ADT_raw', 'nCount_RNA_raw', 'nFeature_RNA_raw', 'soupxOnAdt', 'soupxOnRna', 'percentMito', 'exclude', 'centre', 'pool', 'tcrId', 'bcrId', 'celltypist_broad_predLabel', 'celltypist_broad_maxPredProb', 'haniffa_broad_predLabel', 'haniffa_broad_maxPredProb', 'yoshida_broad_predLabel', 'yoshida_broad_maxPredProb', 'celltypist_detailed_predLabel', 'celltypist_detailed_maxPredProb', 'yoshida_detailed_predLabel', 'yoshida_detailed_maxPredProb', 'seurat_clusters', 'RNA_sequencing_saturation', 'pool_factor', 'merged_souporcell_status', 'patient_id', 'sample_id', 'ethnicity', 'sex', 'calc_age', 'ihd', 'previous_vte', 'copd', 'diabetes', 'smoking', 'cause_eskd', 'renal_status', 'WHO_severity', 'admission_date', 'discharge_date', 'fatal_disease', 'case_control', 'date_positive_swab', 'date_first_symptoms', 'radiology_evidence_covid', 'sample_date', 'temp_WCC', 'temp_neut', 'temp_mono', 'temp_lymph', 'temp_CRP', 'temp_ddimer', 'temp_ferritin', 'temp_trop', 'WHO_temp_severity', 'individual_id', 'celltype_B_corrected', 'celltype_B_corrected_IFN', 'corrected_ethnicity', 'PC1_nonafricanVsAfrican', 'PC2_asianVsEuropean']]\n",
    "adata"
   ]
  },
  {
   "cell_type": "code",
   "execution_count": 7,
   "id": "a459c87c",
   "metadata": {},
   "outputs": [],
   "source": [
    "import anndata2ri\n",
    "anndata2ri.activate()\n",
    "%load_ext rpy2.ipython"
   ]
  },
  {
   "cell_type": "code",
   "execution_count": 8,
   "id": "ba954a46",
   "metadata": {},
   "outputs": [
    {
     "data": {
      "text/plain": [
       "AnnData object with n_obs × n_vars = 59553 × 33559\n",
       "    obs: 'orig.ident', 'nCount_RNA', 'nFeature_RNA', 'nCount_ADT', 'nFeature_ADT', 'nCount_ADT_raw', 'nFeature_ADT_raw', 'nCount_RNA_raw', 'nFeature_RNA_raw', 'soupxOnAdt', 'soupxOnRna', 'percentMito', 'exclude', 'centre', 'pool', 'tcrId', 'bcrId', 'celltypist_broad_predLabel', 'celltypist_broad_maxPredProb', 'haniffa_broad_predLabel', 'haniffa_broad_maxPredProb', 'yoshida_broad_predLabel', 'yoshida_broad_maxPredProb', 'celltypist_detailed_predLabel', 'celltypist_detailed_maxPredProb', 'yoshida_detailed_predLabel', 'yoshida_detailed_maxPredProb', 'seurat_clusters', 'RNA_sequencing_saturation', 'pool_factor', 'merged_souporcell_status', 'patient_id', 'sample_id', 'ethnicity', 'sex', 'calc_age', 'ihd', 'previous_vte', 'copd', 'diabetes', 'smoking', 'cause_eskd', 'renal_status', 'WHO_severity', 'admission_date', 'discharge_date', 'fatal_disease', 'case_control', 'date_positive_swab', 'date_first_symptoms', 'radiology_evidence_covid', 'sample_date', 'temp_WCC', 'temp_neut', 'temp_mono', 'temp_lymph', 'temp_CRP', 'temp_ddimer', 'temp_ferritin', 'temp_trop', 'WHO_temp_severity', 'individual_id', 'celltype_B_corrected', 'celltype_B_corrected_IFN', 'corrected_ethnicity', 'PC1_nonafricanVsAfrican', 'PC2_asianVsEuropean'\n",
       "    var: 'vst.mean', 'vst.variance', 'vst.variance.expected', 'vst.variance.standardized', 'vst.variable'\n",
       "    uns: 'WHO_temp_severity_colors', 'case_control_colors', 'celltype_B_colors', 'celltype_B_corrected_colors', 'centre_colors', 'haniffa_broad_predLabel_colors', 'harmony_snn_res.0.5_colors', 'individual_id_colors', 'initial_cluster_B_colors', 'seurat_clusters_colors'\n",
       "    obsm: 'X_harmony_rna', 'X_pca_rna', 'X_umap', 'X_umapafterharmony_rna', 'X_umapbeforeharmony_rna'\n",
       "    layers: 'counts'"
      ]
     },
     "execution_count": 8,
     "metadata": {},
     "output_type": "execute_result"
    }
   ],
   "source": [
    "# remove doublets\n",
    "adata = adata[(adata.obs['merged_souporcell_status'] == 'singlet') & (adata.obs['celltype_B_corrected'] != 'doublet')].copy()\n",
    "# remove the unannotated samples\n",
    "adata = adata[(adata.obs['sample_id'] != 'NA') & (~adata.obs['patient_id'].isin(['NULL', 'unresolved'])) & (adata.obs['case_control'] != 'NA')].copy()\n",
    "# remove patient C141 recovery because C141 was unwell at the time the “recovery sample” was taken (high CRP and hypoxia). They died a few days after.\n",
    "adata = adata[(adata.obs['sample_id'] != 'C141_0903')].copy()\n",
    "adata"
   ]
  },
  {
   "cell_type": "code",
   "execution_count": 9,
   "id": "5cecc75b",
   "metadata": {},
   "outputs": [
    {
     "name": "stderr",
     "output_type": "stream",
     "text": [
      "/nfs/users/nfs_k/kt16/miniconda2/envs/dandelion/lib/python3.8/site-packages/pandas/core/series.py:4463: SettingWithCopyWarning: modifications to a property of a datetimelike object are not supported and are discarded. Change values on the original.\n",
      "  return super().fillna(\n"
     ]
    }
   ],
   "source": [
    "# calculate days to sampling, days to admission, days to first symptoms, days to discharge from positive swab\n",
    "tmp = adata.copy()\n",
    "tmp.obs['sample_date'] = tmp.obs['sample_date'].astype('object')\n",
    "tmp.obs['date_first_symptoms'] = tmp.obs['date_first_symptoms'].astype('object')\n",
    "tmp.obs['date_positive_swab'] = tmp.obs['date_positive_swab'].astype('object')\n",
    "tmp.obs['date_first_symptoms'].replace({'NA':np.nan}, inplace = True)\n",
    "tmp.obs['date_positive_swab'].replace({'NA':np.nan}, inplace = True)\n",
    "time_from_first_symptoms = pd.to_datetime(tmp.obs['sample_date'], format='%d/%m/%Y') - pd.to_datetime(tmp.obs['date_first_symptoms'], format='%d/%m/%Y')\n",
    "time_from_positive_swab = pd.to_datetime(tmp.obs['sample_date'], format='%d/%m/%Y') - pd.to_datetime(tmp.obs['date_positive_swab'], format='%d/%m/%Y')\n",
    "days_from_first_symptoms = time_from_first_symptoms.dt.days\n",
    "days_from_positive_swab = time_from_positive_swab.dt.days\n",
    "days_from_first_symptoms.fillna(0, inplace = True)\n",
    "days_from_positive_swab.fillna(0, inplace = True)"
   ]
  },
  {
   "cell_type": "code",
   "execution_count": 10,
   "id": "1bc0862b",
   "metadata": {},
   "outputs": [
    {
     "data": {
      "text/plain": [
       "-9.0"
      ]
     },
     "execution_count": 10,
     "metadata": {},
     "output_type": "execute_result"
    }
   ],
   "source": [
    "min(days_from_first_symptoms)"
   ]
  },
  {
   "cell_type": "code",
   "execution_count": 11,
   "id": "59ccc26f",
   "metadata": {},
   "outputs": [
    {
     "data": {
      "text/plain": [
       "0.0"
      ]
     },
     "execution_count": 11,
     "metadata": {},
     "output_type": "execute_result"
    }
   ],
   "source": [
    "min(days_from_positive_swab)"
   ]
  },
  {
   "cell_type": "code",
   "execution_count": 12,
   "id": "e3561c57",
   "metadata": {},
   "outputs": [],
   "source": [
    "days_from_infection = [max(a,b) for a,b in zip(days_from_first_symptoms, days_from_positive_swab)]"
   ]
  },
  {
   "cell_type": "code",
   "execution_count": 13,
   "id": "5885eecf",
   "metadata": {
    "scrolled": true
   },
   "outputs": [
    {
     "data": {
      "text/plain": [
       "0.0"
      ]
     },
     "execution_count": 13,
     "metadata": {},
     "output_type": "execute_result"
    }
   ],
   "source": [
    "min(days_from_infection)"
   ]
  },
  {
   "cell_type": "code",
   "execution_count": 14,
   "id": "0604b557",
   "metadata": {},
   "outputs": [],
   "source": [
    "adata.obs['time_from_first_symptoms'] = days_from_first_symptoms\n",
    "adata.obs['time_from_positive_swab'] = days_from_positive_swab\n",
    "adata.obs['time_from_infection'] = days_from_infection"
   ]
  },
  {
   "cell_type": "markdown",
   "id": "58afe13e",
   "metadata": {},
   "source": [
    "### replace counts"
   ]
  },
  {
   "cell_type": "code",
   "execution_count": 15,
   "id": "6efaf365",
   "metadata": {},
   "outputs": [
    {
     "data": {
      "text/plain": [
       "AnnData object with n_obs × n_vars = 59553 × 33559\n",
       "    obs: 'orig.ident', 'nCount_RNA', 'nFeature_RNA', 'nCount_ADT', 'nFeature_ADT', 'nCount_ADT_raw', 'nFeature_ADT_raw', 'nCount_RNA_raw', 'nFeature_RNA_raw', 'soupxOnAdt', 'soupxOnRna', 'percentMito', 'exclude', 'centre', 'pool', 'tcrId', 'bcrId', 'celltypist_broad_predLabel', 'celltypist_broad_maxPredProb', 'haniffa_broad_predLabel', 'haniffa_broad_maxPredProb', 'yoshida_broad_predLabel', 'yoshida_broad_maxPredProb', 'celltypist_detailed_predLabel', 'celltypist_detailed_maxPredProb', 'yoshida_detailed_predLabel', 'yoshida_detailed_maxPredProb', 'seurat_clusters', 'RNA_sequencing_saturation', 'pool_factor', 'merged_souporcell_status', 'patient_id', 'sample_id', 'ethnicity', 'sex', 'calc_age', 'ihd', 'previous_vte', 'copd', 'diabetes', 'smoking', 'cause_eskd', 'renal_status', 'WHO_severity', 'admission_date', 'discharge_date', 'fatal_disease', 'case_control', 'date_positive_swab', 'date_first_symptoms', 'radiology_evidence_covid', 'sample_date', 'temp_WCC', 'temp_neut', 'temp_mono', 'temp_lymph', 'temp_CRP', 'temp_ddimer', 'temp_ferritin', 'temp_trop', 'WHO_temp_severity', 'individual_id', 'celltype_B_corrected', 'celltype_B_corrected_IFN', 'corrected_ethnicity', 'PC1_nonafricanVsAfrican', 'PC2_asianVsEuropean', 'time_from_first_symptoms', 'time_from_positive_swab', 'time_from_infection'\n",
       "    var: 'vst.mean', 'vst.variance', 'vst.variance.expected', 'vst.variance.standardized', 'vst.variable'\n",
       "    uns: 'WHO_temp_severity_colors', 'case_control_colors', 'celltype_B_colors', 'celltype_B_corrected_colors', 'centre_colors', 'haniffa_broad_predLabel_colors', 'harmony_snn_res.0.5_colors', 'individual_id_colors', 'initial_cluster_B_colors', 'seurat_clusters_colors'\n",
       "    obsm: 'X_harmony_rna', 'X_pca_rna', 'X_umap', 'X_umapafterharmony_rna', 'X_umapbeforeharmony_rna'\n",
       "    layers: 'counts'"
      ]
     },
     "execution_count": 15,
     "metadata": {},
     "output_type": "execute_result"
    }
   ],
   "source": [
    "adata.X = adata.layers['counts'].copy()\n",
    "adata"
   ]
  },
  {
   "cell_type": "markdown",
   "id": "d4e5f111",
   "metadata": {},
   "source": [
    "### remove the viral and VDJ features"
   ]
  },
  {
   "cell_type": "code",
   "execution_count": 16,
   "id": "64aaf698",
   "metadata": {},
   "outputs": [
    {
     "data": {
      "text/plain": [
       "View of AnnData object with n_obs × n_vars = 59553 × 32913\n",
       "    obs: 'orig.ident', 'nCount_RNA', 'nFeature_RNA', 'nCount_ADT', 'nFeature_ADT', 'nCount_ADT_raw', 'nFeature_ADT_raw', 'nCount_RNA_raw', 'nFeature_RNA_raw', 'soupxOnAdt', 'soupxOnRna', 'percentMito', 'exclude', 'centre', 'pool', 'tcrId', 'bcrId', 'celltypist_broad_predLabel', 'celltypist_broad_maxPredProb', 'haniffa_broad_predLabel', 'haniffa_broad_maxPredProb', 'yoshida_broad_predLabel', 'yoshida_broad_maxPredProb', 'celltypist_detailed_predLabel', 'celltypist_detailed_maxPredProb', 'yoshida_detailed_predLabel', 'yoshida_detailed_maxPredProb', 'seurat_clusters', 'RNA_sequencing_saturation', 'pool_factor', 'merged_souporcell_status', 'patient_id', 'sample_id', 'ethnicity', 'sex', 'calc_age', 'ihd', 'previous_vte', 'copd', 'diabetes', 'smoking', 'cause_eskd', 'renal_status', 'WHO_severity', 'admission_date', 'discharge_date', 'fatal_disease', 'case_control', 'date_positive_swab', 'date_first_symptoms', 'radiology_evidence_covid', 'sample_date', 'temp_WCC', 'temp_neut', 'temp_mono', 'temp_lymph', 'temp_CRP', 'temp_ddimer', 'temp_ferritin', 'temp_trop', 'WHO_temp_severity', 'individual_id', 'celltype_B_corrected', 'celltype_B_corrected_IFN', 'corrected_ethnicity', 'PC1_nonafricanVsAfrican', 'PC2_asianVsEuropean', 'time_from_first_symptoms', 'time_from_positive_swab', 'time_from_infection'\n",
       "    var: 'vst.mean', 'vst.variance', 'vst.variance.expected', 'vst.variance.standardized', 'vst.variable', 'GEX'\n",
       "    uns: 'WHO_temp_severity_colors', 'case_control_colors', 'celltype_B_colors', 'celltype_B_corrected_colors', 'centre_colors', 'haniffa_broad_predLabel_colors', 'harmony_snn_res.0.5_colors', 'individual_id_colors', 'initial_cluster_B_colors', 'seurat_clusters_colors'\n",
       "    obsm: 'X_harmony_rna', 'X_pca_rna', 'X_umap', 'X_umapafterharmony_rna', 'X_umapbeforeharmony_rna'\n",
       "    layers: 'counts'"
      ]
     },
     "execution_count": 16,
     "metadata": {},
     "output_type": "execute_result"
    }
   ],
   "source": [
    "import re\n",
    "adata.var['GEX'] = [False if re.search('VIRAL|^IG[HKL][VDJC]|^TR[ABDG][VDJ]', i) else True for i in adata.var.index]\n",
    "adata = adata[:,adata.var.GEX]\n",
    "adata"
   ]
  },
  {
   "cell_type": "markdown",
   "id": "7a1f7a56",
   "metadata": {},
   "source": [
    "### Split this object to each celltype of interest. "
   ]
  },
  {
   "cell_type": "code",
   "execution_count": 17,
   "id": "483f6767",
   "metadata": {},
   "outputs": [],
   "source": [
    "adatas = {}\n",
    "\n",
    "for x in sorted(list(set(adata.obs['celltype_B_corrected']))):\n",
    "    adatas[x] = adata[adata.obs['celltype_B_corrected'] == x]"
   ]
  },
  {
   "cell_type": "code",
   "execution_count": 18,
   "id": "204d99bb",
   "metadata": {},
   "outputs": [
    {
     "name": "stdout",
     "output_type": "stream",
     "text": [
      "B_ASC_IgA\n",
      "2862\n",
      "B_ASC_IgG\n",
      "1460\n",
      "B_ASC_IgM\n",
      "564\n",
      "B_ASC_dividing\n",
      "1516\n",
      "B_ASC_other\n",
      "38\n",
      "B_CD11c\n",
      "1889\n",
      "B_naive\n",
      "38412\n",
      "B_non-switched_mem\n",
      "3316\n",
      "B_switched_mem\n",
      "9496\n"
     ]
    }
   ],
   "source": [
    "# check the size\n",
    "for x in adatas:\n",
    "    print(x)\n",
    "    print(adatas[x].n_obs)"
   ]
  },
  {
   "cell_type": "code",
   "execution_count": 19,
   "id": "3b98eb13",
   "metadata": {},
   "outputs": [],
   "source": [
    "B_ASC_IgG = adatas['B_ASC_IgG']\n",
    "B_ASC_IgM = adatas['B_ASC_IgM']\n",
    "B_ASC_IgA = adatas['B_ASC_IgA']\n",
    "B_ASC_dividing = adatas['B_ASC_dividing']\n",
    "B_switched_mem = adatas['B_switched_mem']\n",
    "B_nonswitched_mem = adatas['B_non-switched_mem']\n",
    "B_naive = adatas['B_naive']\n",
    "B_CD11c = adatas['B_CD11c']"
   ]
  },
  {
   "cell_type": "code",
   "execution_count": 20,
   "id": "ae02ddf0",
   "metadata": {},
   "outputs": [],
   "source": [
    "# group all ASCs together\n",
    "B_ASC = adata[adata.obs['celltype_B_corrected'].isin(['B_ASC_IgG', 'B_ASC_IgM', 'B_ASC_IgA', 'B_ASC_other'])]\n",
    "# group all mems together\n",
    "B_mem = adata[adata.obs['celltype_B_corrected'].isin(['B_switched_mem', 'B_non-switched_mem'])]\n",
    "# group switched ASCs together\n",
    "B_ASC_s = adata[adata.obs['celltype_B_corrected'].isin(['B_ASC_IgG', 'B_ASC_IgA'])]"
   ]
  },
  {
   "cell_type": "code",
   "execution_count": 21,
   "id": "cea0441b",
   "metadata": {},
   "outputs": [],
   "source": [
    "%%R -i B_ASC_IgG\n",
    "saveRDS(B_ASC_IgG, 'h5ad/df.fil3_gex_bcells_vdj_sce_B_ASC_IgG_230622.RDS')"
   ]
  },
  {
   "cell_type": "code",
   "execution_count": 22,
   "id": "4dd10baf",
   "metadata": {},
   "outputs": [],
   "source": [
    "%%R -i B_ASC_IgA\n",
    "saveRDS(B_ASC_IgA, 'h5ad/df.fil3_gex_bcells_vdj_sce_B_ASC_IgA_230622.RDS')"
   ]
  },
  {
   "cell_type": "code",
   "execution_count": 23,
   "id": "2d449c08",
   "metadata": {},
   "outputs": [],
   "source": [
    "%%R -i B_ASC_IgM\n",
    "saveRDS(B_ASC_IgM, 'h5ad/df.fil3_gex_bcells_vdj_sce_B_ASC_IgM_230622.RDS')"
   ]
  },
  {
   "cell_type": "code",
   "execution_count": 24,
   "id": "125d8c11",
   "metadata": {},
   "outputs": [],
   "source": [
    "%%R -i B_ASC_dividing\n",
    "saveRDS(B_ASC_dividing, 'h5ad/df.fil3_gex_bcells_vdj_sce_B_ASC_dividing_230622.RDS')"
   ]
  },
  {
   "cell_type": "code",
   "execution_count": 25,
   "id": "27870db0",
   "metadata": {},
   "outputs": [],
   "source": [
    "%%R -i B_switched_mem\n",
    "saveRDS(B_switched_mem, 'h5ad/df.fil3_gex_bcells_vdj_sce_B_switched_mem_230622.RDS')"
   ]
  },
  {
   "cell_type": "code",
   "execution_count": 26,
   "id": "aa8aa2c5",
   "metadata": {},
   "outputs": [],
   "source": [
    "%%R -i B_nonswitched_mem\n",
    "saveRDS(B_nonswitched_mem, 'h5ad/df.fil3_gex_bcells_vdj_sce_B_nonswitched_mem_230622.RDS')"
   ]
  },
  {
   "cell_type": "code",
   "execution_count": 27,
   "id": "5e224ffc",
   "metadata": {},
   "outputs": [],
   "source": [
    "%%R -i B_naive\n",
    "saveRDS(B_naive, 'h5ad/df.fil3_gex_bcells_vdj_sce_B_naive_230622.RDS')"
   ]
  },
  {
   "cell_type": "code",
   "execution_count": 28,
   "id": "7e17dc04",
   "metadata": {},
   "outputs": [],
   "source": [
    "%%R -i B_CD11c\n",
    "saveRDS(B_CD11c, 'h5ad/df.fil3_gex_bcells_vdj_sce_B_CD11c_230622.RDS')"
   ]
  },
  {
   "cell_type": "code",
   "execution_count": 29,
   "id": "a2d4c259",
   "metadata": {},
   "outputs": [],
   "source": [
    "%%R -i B_ASC\n",
    "saveRDS(B_ASC, 'h5ad/df.fil3_gex_bcells_vdj_sce_B_ASC_all_230622.RDS')"
   ]
  },
  {
   "cell_type": "code",
   "execution_count": 30,
   "id": "b94d2199",
   "metadata": {},
   "outputs": [],
   "source": [
    "%%R -i B_mem\n",
    "saveRDS(B_mem, 'h5ad/df.fil3_gex_bcells_vdj_sce_B_mem_all_230622.RDS')"
   ]
  },
  {
   "cell_type": "code",
   "execution_count": 31,
   "id": "42da9d33",
   "metadata": {},
   "outputs": [],
   "source": [
    "%%R -i B_ASC_s\n",
    "saveRDS(B_ASC_s, 'h5ad/df.fil3_gex_bcells_vdj_sce_B_ASC_switched_230622.RDS')"
   ]
  },
  {
   "cell_type": "code",
   "execution_count": null,
   "id": "371e6bd8",
   "metadata": {},
   "outputs": [],
   "source": []
  }
 ],
 "metadata": {
  "kernelspec": {
   "display_name": "Python 3",
   "language": "python",
   "name": "python3"
  },
  "language_info": {
   "codemirror_mode": {
    "name": "ipython",
    "version": 3
   },
   "file_extension": ".py",
   "mimetype": "text/x-python",
   "name": "python",
   "nbconvert_exporter": "python",
   "pygments_lexer": "ipython3",
   "version": "3.8.13"
  }
 },
 "nbformat": 4,
 "nbformat_minor": 5
}
