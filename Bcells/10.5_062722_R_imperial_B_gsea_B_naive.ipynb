{
 "cells": [
  {
   "cell_type": "code",
   "execution_count": 1,
   "id": "c919b46d",
   "metadata": {},
   "outputs": [
    {
     "name": "stderr",
     "output_type": "stream",
     "text": [
      "Registered S3 methods overwritten by 'lme4':\n",
      "  method                          from\n",
      "  cooks.distance.influence.merMod car \n",
      "  influence.merMod                car \n",
      "  dfbeta.influence.merMod         car \n",
      "  dfbetas.influence.merMod        car \n",
      "\n"
     ]
    }
   ],
   "source": [
    "library(glmmSeq)\n",
    "setwd('/lustre/scratch117/cellgen/team297/kt16/COVID_imperial_renal/')"
   ]
  },
  {
   "cell_type": "code",
   "execution_count": 2,
   "id": "e2baf84c",
   "metadata": {},
   "outputs": [
    {
     "data": {
      "text/html": [
       "<style>\n",
       ".list-inline {list-style: none; margin:0; padding: 0}\n",
       ".list-inline>li {display: inline-block}\n",
       ".list-inline>li:not(:last-child)::after {content: \"\\00b7\"; padding: 0 .5ex}\n",
       "</style>\n",
       "<ol class=list-inline><li>'res1'</li><li>'res2'</li><li>'res3'</li><li>'results1'</li><li>'results2'</li><li>'results3'</li></ol>\n"
      ],
      "text/latex": [
       "\\begin{enumerate*}\n",
       "\\item 'res1'\n",
       "\\item 'res2'\n",
       "\\item 'res3'\n",
       "\\item 'results1'\n",
       "\\item 'results2'\n",
       "\\item 'results3'\n",
       "\\end{enumerate*}\n"
      ],
      "text/markdown": [
       "1. 'res1'\n",
       "2. 'res2'\n",
       "3. 'res3'\n",
       "4. 'results1'\n",
       "5. 'results2'\n",
       "6. 'results3'\n",
       "\n",
       "\n"
      ],
      "text/plain": [
       "[1] \"res1\"     \"res2\"     \"res3\"     \"results1\" \"results2\" \"results3\""
      ]
     },
     "metadata": {},
     "output_type": "display_data"
    }
   ],
   "source": [
    "load('h5ad/df.fil3_gex_bcells_vdj_sce_B_naive_deg_270622.RData')\n",
    "ls()"
   ]
  },
  {
   "cell_type": "code",
   "execution_count": 3,
   "id": "1541a80a",
   "metadata": {
    "scrolled": true
   },
   "outputs": [
    {
     "name": "stderr",
     "output_type": "stream",
     "text": [
      "\n",
      "Attaching package: ‘dplyr’\n",
      "\n",
      "\n",
      "The following objects are masked from ‘package:stats’:\n",
      "\n",
      "    filter, lag\n",
      "\n",
      "\n",
      "The following objects are masked from ‘package:base’:\n",
      "\n",
      "    intersect, setdiff, setequal, union\n",
      "\n",
      "\n"
     ]
    }
   ],
   "source": [
    "library(dplyr)\n",
    "makeGeneList <- function(gl, beta_column='beta'){\n",
    "    y <- grepl('^RPS|^RPL|^MT-', row.names(gl))\n",
    "    gl <- gl[!y, ]\n",
    "    rank <- -log10(gl$pval) * sign(gl[,beta_column])\n",
    "    rank[which(rank == Inf)] <- 300\n",
    "    rank[which(rank == -Inf)] <- 300\n",
    "    names(rank) <- row.names(gl)\n",
    "    rank <- rev(sort(rank))\n",
    "    gl <- rank\n",
    "    return(gl)\n",
    "}"
   ]
  },
  {
   "cell_type": "code",
   "execution_count": 4,
   "id": "fb289ea0",
   "metadata": {},
   "outputs": [
    {
     "data": {
      "text/html": [
       "<table class=\"dataframe\">\n",
       "<caption>A data.frame: 6 × 5</caption>\n",
       "<thead>\n",
       "\t<tr><th></th><th scope=col>beta</th><th scope=col>pval</th><th scope=col>qval</th><th scope=col>Singular</th><th scope=col>Conv</th></tr>\n",
       "\t<tr><th></th><th scope=col>&lt;dbl&gt;</th><th scope=col>&lt;dbl&gt;</th><th scope=col>&lt;dbl&gt;</th><th scope=col>&lt;dbl&gt;</th><th scope=col>&lt;dbl&gt;</th></tr>\n",
       "</thead>\n",
       "<tbody>\n",
       "\t<tr><th scope=row>OAS3</th><td>1.2055572</td><td> 4.023017e-03</td><td> 5.466498e-02</td><td>0</td><td>0</td></tr>\n",
       "\t<tr><th scope=row>IFITM1</th><td>1.0383256</td><td> 1.637275e-04</td><td> 7.973427e-03</td><td>0</td><td>0</td></tr>\n",
       "\t<tr><th scope=row>ISG15</th><td>1.0235896</td><td>2.638356e-117</td><td>1.560675e-114</td><td>0</td><td>0</td></tr>\n",
       "\t<tr><th scope=row>PLSCR1</th><td>0.9513371</td><td> 2.809819e-04</td><td> 1.103165e-02</td><td>0</td><td>0</td></tr>\n",
       "\t<tr><th scope=row>IFI6</th><td>0.9235465</td><td> 1.295231e-03</td><td> 2.774954e-02</td><td>0</td><td>0</td></tr>\n",
       "\t<tr><th scope=row>MX1</th><td>0.9032629</td><td> 5.404594e-05</td><td> 3.699826e-03</td><td>0</td><td>0</td></tr>\n",
       "</tbody>\n",
       "</table>\n"
      ],
      "text/latex": [
       "A data.frame: 6 × 5\n",
       "\\begin{tabular}{r|lllll}\n",
       "  & beta & pval & qval & Singular & Conv\\\\\n",
       "  & <dbl> & <dbl> & <dbl> & <dbl> & <dbl>\\\\\n",
       "\\hline\n",
       "\tOAS3 & 1.2055572 &  4.023017e-03 &  5.466498e-02 & 0 & 0\\\\\n",
       "\tIFITM1 & 1.0383256 &  1.637275e-04 &  7.973427e-03 & 0 & 0\\\\\n",
       "\tISG15 & 1.0235896 & 2.638356e-117 & 1.560675e-114 & 0 & 0\\\\\n",
       "\tPLSCR1 & 0.9513371 &  2.809819e-04 &  1.103165e-02 & 0 & 0\\\\\n",
       "\tIFI6 & 0.9235465 &  1.295231e-03 &  2.774954e-02 & 0 & 0\\\\\n",
       "\tMX1 & 0.9032629 &  5.404594e-05 &  3.699826e-03 & 0 & 0\\\\\n",
       "\\end{tabular}\n"
      ],
      "text/markdown": [
       "\n",
       "A data.frame: 6 × 5\n",
       "\n",
       "| <!--/--> | beta &lt;dbl&gt; | pval &lt;dbl&gt; | qval &lt;dbl&gt; | Singular &lt;dbl&gt; | Conv &lt;dbl&gt; |\n",
       "|---|---|---|---|---|---|\n",
       "| OAS3 | 1.2055572 |  4.023017e-03 |  5.466498e-02 | 0 | 0 |\n",
       "| IFITM1 | 1.0383256 |  1.637275e-04 |  7.973427e-03 | 0 | 0 |\n",
       "| ISG15 | 1.0235896 | 2.638356e-117 | 1.560675e-114 | 0 | 0 |\n",
       "| PLSCR1 | 0.9513371 |  2.809819e-04 |  1.103165e-02 | 0 | 0 |\n",
       "| IFI6 | 0.9235465 |  1.295231e-03 |  2.774954e-02 | 0 | 0 |\n",
       "| MX1 | 0.9032629 |  5.404594e-05 |  3.699826e-03 | 0 | 0 |\n",
       "\n"
      ],
      "text/plain": [
       "       beta      pval          qval          Singular Conv\n",
       "OAS3   1.2055572  4.023017e-03  5.466498e-02 0        0   \n",
       "IFITM1 1.0383256  1.637275e-04  7.973427e-03 0        0   \n",
       "ISG15  1.0235896 2.638356e-117 1.560675e-114 0        0   \n",
       "PLSCR1 0.9513371  2.809819e-04  1.103165e-02 0        0   \n",
       "IFI6   0.9235465  1.295231e-03  2.774954e-02 0        0   \n",
       "MX1    0.9032629  5.404594e-05  3.699826e-03 0        0   "
      ]
     },
     "metadata": {},
     "output_type": "display_data"
    },
    {
     "data": {
      "text/html": [
       "<style>\n",
       ".list-inline {list-style: none; margin:0; padding: 0}\n",
       ".list-inline>li {display: inline-block}\n",
       ".list-inline>li:not(:last-child)::after {content: \"\\00b7\"; padding: 0 .5ex}\n",
       "</style>\n",
       "<ol class=list-inline><li>684</li><li>5</li></ol>\n"
      ],
      "text/latex": [
       "\\begin{enumerate*}\n",
       "\\item 684\n",
       "\\item 5\n",
       "\\end{enumerate*}\n"
      ],
      "text/markdown": [
       "1. 684\n",
       "2. 5\n",
       "\n",
       "\n"
      ],
      "text/plain": [
       "[1] 684   5"
      ]
     },
     "metadata": {},
     "output_type": "display_data"
    }
   ],
   "source": [
    "head(results1)\n",
    "dim(results1)"
   ]
  },
  {
   "cell_type": "code",
   "execution_count": 5,
   "id": "922f7c63",
   "metadata": {},
   "outputs": [
    {
     "data": {
      "text/html": [
       "<table class=\"dataframe\">\n",
       "<caption>A data.frame: 6 × 5</caption>\n",
       "<thead>\n",
       "\t<tr><th></th><th scope=col>beta</th><th scope=col>pval</th><th scope=col>qval</th><th scope=col>Singular</th><th scope=col>Conv</th></tr>\n",
       "\t<tr><th></th><th scope=col>&lt;dbl&gt;</th><th scope=col>&lt;dbl&gt;</th><th scope=col>&lt;dbl&gt;</th><th scope=col>&lt;dbl&gt;</th><th scope=col>&lt;dbl&gt;</th></tr>\n",
       "</thead>\n",
       "<tbody>\n",
       "\t<tr><th scope=row>ZBTB16</th><td>1.0262606</td><td>0.011145672</td><td>0.9537032</td><td>0</td><td>0</td></tr>\n",
       "\t<tr><th scope=row>TP53INP1</th><td>0.6436870</td><td>0.004711302</td><td>0.9537032</td><td>0</td><td>0</td></tr>\n",
       "\t<tr><th scope=row>SLC38A11</th><td>0.5934729</td><td>0.098416686</td><td>0.9537032</td><td>0</td><td>0</td></tr>\n",
       "\t<tr><th scope=row>FOS</th><td>0.5476384</td><td>0.019798029</td><td>0.9537032</td><td>0</td><td>0</td></tr>\n",
       "\t<tr><th scope=row>AC083798.2</th><td>0.4629536</td><td>0.224022606</td><td>0.9537032</td><td>0</td><td>0</td></tr>\n",
       "\t<tr><th scope=row>IER5</th><td>0.3309322</td><td>0.134447023</td><td>0.9537032</td><td>0</td><td>0</td></tr>\n",
       "</tbody>\n",
       "</table>\n"
      ],
      "text/latex": [
       "A data.frame: 6 × 5\n",
       "\\begin{tabular}{r|lllll}\n",
       "  & beta & pval & qval & Singular & Conv\\\\\n",
       "  & <dbl> & <dbl> & <dbl> & <dbl> & <dbl>\\\\\n",
       "\\hline\n",
       "\tZBTB16 & 1.0262606 & 0.011145672 & 0.9537032 & 0 & 0\\\\\n",
       "\tTP53INP1 & 0.6436870 & 0.004711302 & 0.9537032 & 0 & 0\\\\\n",
       "\tSLC38A11 & 0.5934729 & 0.098416686 & 0.9537032 & 0 & 0\\\\\n",
       "\tFOS & 0.5476384 & 0.019798029 & 0.9537032 & 0 & 0\\\\\n",
       "\tAC083798.2 & 0.4629536 & 0.224022606 & 0.9537032 & 0 & 0\\\\\n",
       "\tIER5 & 0.3309322 & 0.134447023 & 0.9537032 & 0 & 0\\\\\n",
       "\\end{tabular}\n"
      ],
      "text/markdown": [
       "\n",
       "A data.frame: 6 × 5\n",
       "\n",
       "| <!--/--> | beta &lt;dbl&gt; | pval &lt;dbl&gt; | qval &lt;dbl&gt; | Singular &lt;dbl&gt; | Conv &lt;dbl&gt; |\n",
       "|---|---|---|---|---|---|\n",
       "| ZBTB16 | 1.0262606 | 0.011145672 | 0.9537032 | 0 | 0 |\n",
       "| TP53INP1 | 0.6436870 | 0.004711302 | 0.9537032 | 0 | 0 |\n",
       "| SLC38A11 | 0.5934729 | 0.098416686 | 0.9537032 | 0 | 0 |\n",
       "| FOS | 0.5476384 | 0.019798029 | 0.9537032 | 0 | 0 |\n",
       "| AC083798.2 | 0.4629536 | 0.224022606 | 0.9537032 | 0 | 0 |\n",
       "| IER5 | 0.3309322 | 0.134447023 | 0.9537032 | 0 | 0 |\n",
       "\n"
      ],
      "text/plain": [
       "           beta      pval        qval      Singular Conv\n",
       "ZBTB16     1.0262606 0.011145672 0.9537032 0        0   \n",
       "TP53INP1   0.6436870 0.004711302 0.9537032 0        0   \n",
       "SLC38A11   0.5934729 0.098416686 0.9537032 0        0   \n",
       "FOS        0.5476384 0.019798029 0.9537032 0        0   \n",
       "AC083798.2 0.4629536 0.224022606 0.9537032 0        0   \n",
       "IER5       0.3309322 0.134447023 0.9537032 0        0   "
      ]
     },
     "metadata": {},
     "output_type": "display_data"
    },
    {
     "data": {
      "text/html": [
       "<style>\n",
       ".list-inline {list-style: none; margin:0; padding: 0}\n",
       ".list-inline>li {display: inline-block}\n",
       ".list-inline>li:not(:last-child)::after {content: \"\\00b7\"; padding: 0 .5ex}\n",
       "</style>\n",
       "<ol class=list-inline><li>30</li><li>5</li></ol>\n"
      ],
      "text/latex": [
       "\\begin{enumerate*}\n",
       "\\item 30\n",
       "\\item 5\n",
       "\\end{enumerate*}\n"
      ],
      "text/markdown": [
       "1. 30\n",
       "2. 5\n",
       "\n",
       "\n"
      ],
      "text/plain": [
       "[1] 30  5"
      ]
     },
     "metadata": {},
     "output_type": "display_data"
    }
   ],
   "source": [
    "head(results2)\n",
    "dim(results2)"
   ]
  },
  {
   "cell_type": "code",
   "execution_count": 6,
   "id": "892bd724",
   "metadata": {},
   "outputs": [
    {
     "data": {
      "text/html": [
       "<table class=\"dataframe\">\n",
       "<caption>A data.frame: 6 × 5</caption>\n",
       "<thead>\n",
       "\t<tr><th></th><th scope=col>beta</th><th scope=col>pval</th><th scope=col>qval</th><th scope=col>Singular</th><th scope=col>Conv</th></tr>\n",
       "\t<tr><th></th><th scope=col>&lt;dbl&gt;</th><th scope=col>&lt;dbl&gt;</th><th scope=col>&lt;dbl&gt;</th><th scope=col>&lt;dbl&gt;</th><th scope=col>&lt;dbl&gt;</th></tr>\n",
       "</thead>\n",
       "<tbody>\n",
       "\t<tr><th scope=row>IFIT3</th><td>1.9846905</td><td>2.128704e-04</td><td>0.067399160</td><td>0</td><td>0</td></tr>\n",
       "\t<tr><th scope=row>IFI44L</th><td>1.8378711</td><td>4.675253e-06</td><td>0.002683011</td><td>0</td><td>0</td></tr>\n",
       "\t<tr><th scope=row>SOBP</th><td>0.8231762</td><td>2.692863e-02</td><td>0.709080581</td><td>0</td><td>0</td></tr>\n",
       "\t<tr><th scope=row>STAG3</th><td>0.6893476</td><td>3.622353e-02</td><td>0.739120998</td><td>0</td><td>0</td></tr>\n",
       "\t<tr><th scope=row>BACE2</th><td>0.6380273</td><td>6.301804e-03</td><td>0.483203026</td><td>0</td><td>0</td></tr>\n",
       "\t<tr><th scope=row>IGHE</th><td>0.6371717</td><td>2.415974e-01</td><td>0.941880694</td><td>0</td><td>0</td></tr>\n",
       "</tbody>\n",
       "</table>\n"
      ],
      "text/latex": [
       "A data.frame: 6 × 5\n",
       "\\begin{tabular}{r|lllll}\n",
       "  & beta & pval & qval & Singular & Conv\\\\\n",
       "  & <dbl> & <dbl> & <dbl> & <dbl> & <dbl>\\\\\n",
       "\\hline\n",
       "\tIFIT3 & 1.9846905 & 2.128704e-04 & 0.067399160 & 0 & 0\\\\\n",
       "\tIFI44L & 1.8378711 & 4.675253e-06 & 0.002683011 & 0 & 0\\\\\n",
       "\tSOBP & 0.8231762 & 2.692863e-02 & 0.709080581 & 0 & 0\\\\\n",
       "\tSTAG3 & 0.6893476 & 3.622353e-02 & 0.739120998 & 0 & 0\\\\\n",
       "\tBACE2 & 0.6380273 & 6.301804e-03 & 0.483203026 & 0 & 0\\\\\n",
       "\tIGHE & 0.6371717 & 2.415974e-01 & 0.941880694 & 0 & 0\\\\\n",
       "\\end{tabular}\n"
      ],
      "text/markdown": [
       "\n",
       "A data.frame: 6 × 5\n",
       "\n",
       "| <!--/--> | beta &lt;dbl&gt; | pval &lt;dbl&gt; | qval &lt;dbl&gt; | Singular &lt;dbl&gt; | Conv &lt;dbl&gt; |\n",
       "|---|---|---|---|---|---|\n",
       "| IFIT3 | 1.9846905 | 2.128704e-04 | 0.067399160 | 0 | 0 |\n",
       "| IFI44L | 1.8378711 | 4.675253e-06 | 0.002683011 | 0 | 0 |\n",
       "| SOBP | 0.8231762 | 2.692863e-02 | 0.709080581 | 0 | 0 |\n",
       "| STAG3 | 0.6893476 | 3.622353e-02 | 0.739120998 | 0 | 0 |\n",
       "| BACE2 | 0.6380273 | 6.301804e-03 | 0.483203026 | 0 | 0 |\n",
       "| IGHE | 0.6371717 | 2.415974e-01 | 0.941880694 | 0 | 0 |\n",
       "\n"
      ],
      "text/plain": [
       "       beta      pval         qval        Singular Conv\n",
       "IFIT3  1.9846905 2.128704e-04 0.067399160 0        0   \n",
       "IFI44L 1.8378711 4.675253e-06 0.002683011 0        0   \n",
       "SOBP   0.8231762 2.692863e-02 0.709080581 0        0   \n",
       "STAG3  0.6893476 3.622353e-02 0.739120998 0        0   \n",
       "BACE2  0.6380273 6.301804e-03 0.483203026 0        0   \n",
       "IGHE   0.6371717 2.415974e-01 0.941880694 0        0   "
      ]
     },
     "metadata": {},
     "output_type": "display_data"
    },
    {
     "data": {
      "text/html": [
       "<style>\n",
       ".list-inline {list-style: none; margin:0; padding: 0}\n",
       ".list-inline>li {display: inline-block}\n",
       ".list-inline>li:not(:last-child)::after {content: \"\\00b7\"; padding: 0 .5ex}\n",
       "</style>\n",
       "<ol class=list-inline><li>223</li><li>5</li></ol>\n"
      ],
      "text/latex": [
       "\\begin{enumerate*}\n",
       "\\item 223\n",
       "\\item 5\n",
       "\\end{enumerate*}\n"
      ],
      "text/markdown": [
       "1. 223\n",
       "2. 5\n",
       "\n",
       "\n"
      ],
      "text/plain": [
       "[1] 223   5"
      ]
     },
     "metadata": {},
     "output_type": "display_data"
    }
   ],
   "source": [
    "head(results3)\n",
    "dim(results3)"
   ]
  },
  {
   "cell_type": "code",
   "execution_count": 7,
   "id": "42dc30f5",
   "metadata": {},
   "outputs": [],
   "source": [
    "library(fgsea)\n",
    "library(msigdbr)"
   ]
  },
  {
   "cell_type": "code",
   "execution_count": 8,
   "id": "900eae83",
   "metadata": {},
   "outputs": [],
   "source": [
    "h <- data.frame(msigdbr::msigdbr(category = \"H\", species = 'Homo sapiens'))\n",
    "h <- split(h, h$gs_name)\n",
    "h <- lapply(h, function(x) x %>% dplyr::select(gene_symbol) %>% unlist %>% as.character)"
   ]
  },
  {
   "cell_type": "code",
   "execution_count": 9,
   "id": "74176acf",
   "metadata": {},
   "outputs": [],
   "source": [
    "plotGSEA_Hallmark <- function(gsea, fdr_cutoff = 0.25, cols = NULL, xlim = NULL, newlabels = NULL, keep_significant_only = TRUE, jitter = FALSE) {\n",
    "    require(ggplot2)\n",
    "    gsea$NES[which(is.na(gsea$NES))] <- 0\n",
    "    gsea$pval[which(is.na(gsea$pval))] <- 1\n",
    "    gsea$padj[which(is.na(gsea$padj))] <- 1\n",
    "    gsea$ranking[which(is.na(gsea$ranking))] <- 0\n",
    "    gsea <- gsea[order(gsea$ranking),]\n",
    "    \n",
    "    if (keep_significant_only){\n",
    "        gseax <- split(gsea, gsea$pathway)\n",
    "        for (i in 1:length(gseax)){\n",
    "            if (all(gseax[[i]]$pval >= 0.05)|all(gseax[[i]]$padj >=fdr_cutoff)){\n",
    "                gseax[[i]] <- NA        \n",
    "            }\n",
    "        }\n",
    "        gseax <- gseax[!is.na(gseax)]\n",
    "        gsea <- do.call(rbind, gseax)        \n",
    "    }\n",
    "    if (!is.null(gsea)){\n",
    "        gsea <- gsea[order(gsea$ranking), ]\n",
    "        gsea$pathway <- gsub(\"HALLMARK_|\", \"\", gsea$pathway)\n",
    "\n",
    "        if (!is.null(xlim)){\n",
    "            x_lim_min = -xlim\n",
    "            x_lim_max = xlim\n",
    "        } else {\n",
    "            x_lim_min <- abs(ceiling(min(-log10(gsea$padj))))\n",
    "            x_lim_max <- abs(ceiling(max(-log10(gsea$padj))))\n",
    "        }\n",
    "        \n",
    "        if(x_lim_min > x_lim_max){\n",
    "            xval1 <- x_lim_min * -1\n",
    "            xval2 <- x_lim_min\n",
    "        } else {\n",
    "            xval1 <- x_lim_max * -1\n",
    "            xval2 <- x_lim_max\n",
    "        }\n",
    "\n",
    "        if(!is.null(cols)){\n",
    "            gg_color_hue <- function(n) {\n",
    "                hues = seq(15, 375, length = n + 1)\n",
    "                hcl(h = hues, l = 65, c = 100)[1:n]\n",
    "            }\n",
    "            cols. = gg_color_hue(dplyr::n_distinct(gsea$group, na.rm = TRUE))\n",
    "        } else {\n",
    "            cols. = cols\n",
    "        }    \n",
    "    \n",
    "        g <- ggplot(gsea, aes(x = -log10(padj)*sign(NES), y = reorder(pathway, ranking), col = -log10(padj)*sign(NES), size = abs(NES)))\n",
    "        if (jitter){\n",
    "            g <- g + geom_point(position = 'jitter')\n",
    "        }else{\n",
    "            g <- g + geom_point()\n",
    "        }\n",
    "        g <- g + theme_bw() +\n",
    "            labs(x = expression(paste(\"Signed\", \" -log\" [\"10\"], \"adjusted pval\")), y = \"Hallmarks\") +\n",
    "            geom_vline(xintercept = 0) +\n",
    "            geom_vline(xintercept = -log10(fdr_cutoff)) +\n",
    "            geom_vline(xintercept = -log10(fdr_cutoff)*-1) +\n",
    "            scale_x_continuous(limits = c(xval1, xval2), oob = scales::squish) +\n",
    "            scale_size_area(oob = scales::squish, max_size = 3, limits = c(0,2)) +\n",
    "            theme(panel.grid.major = element_blank(), \n",
    "                panel.grid.minor = element_blank(), \n",
    "                panel.background = element_blank(), \n",
    "                axis.line = element_blank(), \n",
    "                axis.ticks = element_blank(),\n",
    "                axis.text = element_text(color = 'black'),\n",
    "                axis.title = element_text(color = 'black'))\n",
    "        \n",
    "        return(g)\n",
    "    }\n",
    "}"
   ]
  },
  {
   "cell_type": "code",
   "execution_count": 10,
   "id": "6597031d",
   "metadata": {},
   "outputs": [
    {
     "name": "stderr",
     "output_type": "stream",
     "text": [
      "Loading required package: ggplot2\n",
      "\n"
     ]
    },
    {
     "data": {
      "image/png": "[encoded data removed]",
      "text/plain": [
       "plot without title"
      ]
     },
     "metadata": {
      "image/png": {
       "height": 420,
       "width": 420
      }
     },
     "output_type": "display_data"
    }
   ],
   "source": [
    "gl1 <- makeGeneList(results1)\n",
    "res1gsea <- fgsea(pathways = h, stats = gl1, minSize = 0, maxSize =1000)\n",
    "res1gsea$ranking <- -log10(res1gsea$pval) * sign(res1gsea$NES)\n",
    "plotGSEA_Hallmark(res1gsea)"
   ]
  },
  {
   "cell_type": "code",
   "execution_count": 11,
   "id": "9bdc5058",
   "metadata": {},
   "outputs": [],
   "source": [
    "gl2 <- makeGeneList(results2)\n",
    "res2gsea <- fgsea(pathways = h, stats = gl2, minSize = 0, maxSize =1000)\n",
    "res2gsea$ranking <- -log10(res2gsea$pval) * sign(res2gsea$NES)\n",
    "plotGSEA_Hallmark(res2gsea)"
   ]
  },
  {
   "cell_type": "code",
   "execution_count": 12,
   "id": "714a8b19",
   "metadata": {},
   "outputs": [
    {
     "data": {
      "image/png": "[encoded data removed]",
      "text/plain": [
       "plot without title"
      ]
     },
     "metadata": {
      "image/png": {
       "height": 420,
       "width": 420
      }
     },
     "output_type": "display_data"
    }
   ],
   "source": [
    "gl3 <- makeGeneList(results3)\n",
    "res3gsea <- fgsea(pathways = h, stats = gl3, minSize = 0, maxSize =1000)\n",
    "res3gsea$ranking <- -log10(res3gsea$pval) * sign(res3gsea$NES)\n",
    "plotGSEA_Hallmark(res3gsea)"
   ]
  },
  {
   "cell_type": "code",
   "execution_count": null,
   "id": "88d81119",
   "metadata": {},
   "outputs": [],
   "source": []
  }
 ],
 "metadata": {
  "kernelspec": {
   "display_name": "R",
   "language": "R",
   "name": "ir"
  },
  "language_info": {
   "codemirror_mode": "r",
   "file_extension": ".r",
   "mimetype": "text/x-r-source",
   "name": "R",
   "pygments_lexer": "r",
   "version": "4.0.3"
  }
 },
 "nbformat": 4,
 "nbformat_minor": 5
}
