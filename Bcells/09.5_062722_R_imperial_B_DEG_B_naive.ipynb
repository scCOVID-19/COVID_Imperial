{
 "cells": [
  {
   "cell_type": "code",
   "execution_count": 1,
   "id": "c919b46d",
   "metadata": {},
   "outputs": [],
   "source": [
    "setwd('/lustre/scratch117/cellgen/team297/kt16/COVID_imperial_renal/')\n",
    "source('scripts/glmm_functions.R')"
   ]
  },
  {
   "cell_type": "code",
   "execution_count": 2,
   "id": "66c0d0b6",
   "metadata": {},
   "outputs": [],
   "source": [
    "# Basic parameters to use.\n",
    "min_cells = 10\n",
    "# ncpus = 10\n",
    "BPPARAM = MulticoreParam(workers = 10, progress = TRUE)"
   ]
  },
  {
   "cell_type": "code",
   "execution_count": 3,
   "id": "e2baf84c",
   "metadata": {},
   "outputs": [],
   "source": [
    "sce <- readRDS('h5ad/df.fil3_gex_bcells_vdj_sce_B_naive_230622.RDS')\n",
    "counts(sce) <- assays(sce)[['X']] # because i'm saving from a h5ad object with anndata2ri\n",
    "sce$case_control <- factor(sce$case_control, levels = c('NEGATIVE', 'POSITIVE', 'RECOVERY'))\n",
    "sce$WHO_temp_severity <- factor(sce$WHO_temp_severity, levels = c('NA', 'mild', 'moderate', 'severe', 'critical'))\n",
    "sce$WHO_temp_severity_group <- factor(sce$WHO_temp_severity, levels = c('NA', 'mild', 'moderate', 'severe', 'critical'), labels = c('NA', 'mild_moderate', 'mild_moderate', 'severe_critical', 'severe_critical'))\n",
    "sce$WHO_severity_group <- factor(sce$WHO_severity, levels = c('NA', 'mild', 'moderate', 'severe', 'critical'), labels = c('NA', 'mild_moderate', 'mild_moderate', 'severe_critical', 'severe_critical')) # interpreted as peak severity\n",
    "sce$grouped_temp_severity <- ifelse(sce$WHO_temp_severity %in% c(\"mild\", \"moderate\"), \"mild_moderate\", \"severe_critical\")\n",
    "sce$grouped_severity <- ifelse(sce$WHO_severity %in% c(\"mild\", \"moderate\"), \"mild_moderate\", \"severe_critical\")\n",
    "sce$age_scaled <- scale(sce$calc_age) # scale age"
   ]
  },
  {
   "cell_type": "code",
   "execution_count": 4,
   "id": "6a257d4e",
   "metadata": {},
   "outputs": [
    {
     "data": {
      "text/html": [
       "<style>\n",
       ".list-inline {list-style: none; margin:0; padding: 0}\n",
       ".list-inline>li {display: inline-block}\n",
       ".list-inline>li:not(:last-child)::after {content: \"\\00b7\"; padding: 0 .5ex}\n",
       "</style>\n",
       "<ol class=list-inline><li>'orig.ident'</li><li>'nCount_RNA'</li><li>'nFeature_RNA'</li><li>'nCount_ADT'</li><li>'nFeature_ADT'</li><li>'nCount_ADT_raw'</li><li>'nFeature_ADT_raw'</li><li>'nCount_RNA_raw'</li><li>'nFeature_RNA_raw'</li><li>'soupxOnAdt'</li><li>'soupxOnRna'</li><li>'percentMito'</li><li>'exclude'</li><li>'centre'</li><li>'pool'</li><li>'tcrId'</li><li>'bcrId'</li><li>'celltypist_broad_predLabel'</li><li>'celltypist_broad_maxPredProb'</li><li>'haniffa_broad_predLabel'</li><li>'haniffa_broad_maxPredProb'</li><li>'yoshida_broad_predLabel'</li><li>'yoshida_broad_maxPredProb'</li><li>'celltypist_detailed_predLabel'</li><li>'celltypist_detailed_maxPredProb'</li><li>'yoshida_detailed_predLabel'</li><li>'yoshida_detailed_maxPredProb'</li><li>'seurat_clusters'</li><li>'RNA_sequencing_saturation'</li><li>'pool_factor'</li><li>'merged_souporcell_status'</li><li>'patient_id'</li><li>'sample_id'</li><li>'ethnicity'</li><li>'sex'</li><li>'calc_age'</li><li>'ihd'</li><li>'previous_vte'</li><li>'copd'</li><li>'diabetes'</li><li>'smoking'</li><li>'cause_eskd'</li><li>'renal_status'</li><li>'WHO_severity'</li><li>'admission_date'</li><li>'discharge_date'</li><li>'fatal_disease'</li><li>'case_control'</li><li>'date_positive_swab'</li><li>'date_first_symptoms'</li><li>'radiology_evidence_covid'</li><li>'sample_date'</li><li>'temp_WCC'</li><li>'temp_neut'</li><li>'temp_mono'</li><li>'temp_lymph'</li><li>'temp_CRP'</li><li>'temp_ddimer'</li><li>'temp_ferritin'</li><li>'temp_trop'</li><li>'WHO_temp_severity'</li><li>'individual_id'</li><li>'celltype_B_corrected'</li><li>'celltype_B_corrected_IFN'</li><li>'corrected_ethnicity'</li><li>'PC1_nonafricanVsAfrican'</li><li>'PC2_asianVsEuropean'</li><li>'time_from_first_symptoms'</li><li>'time_from_positive_swab'</li><li>'time_from_infection'</li><li>'WHO_temp_severity_group'</li><li>'WHO_severity_group'</li><li>'grouped_temp_severity'</li><li>'grouped_severity'</li><li>'age_scaled'</li></ol>\n"
      ],
      "text/latex": [
       "\\begin{enumerate*}\n",
       "\\item 'orig.ident'\n",
       "\\item 'nCount\\_RNA'\n",
       "\\item 'nFeature\\_RNA'\n",
       "\\item 'nCount\\_ADT'\n",
       "\\item 'nFeature\\_ADT'\n",
       "\\item 'nCount\\_ADT\\_raw'\n",
       "\\item 'nFeature\\_ADT\\_raw'\n",
       "\\item 'nCount\\_RNA\\_raw'\n",
       "\\item 'nFeature\\_RNA\\_raw'\n",
       "\\item 'soupxOnAdt'\n",
       "\\item 'soupxOnRna'\n",
       "\\item 'percentMito'\n",
       "\\item 'exclude'\n",
       "\\item 'centre'\n",
       "\\item 'pool'\n",
       "\\item 'tcrId'\n",
       "\\item 'bcrId'\n",
       "\\item 'celltypist\\_broad\\_predLabel'\n",
       "\\item 'celltypist\\_broad\\_maxPredProb'\n",
       "\\item 'haniffa\\_broad\\_predLabel'\n",
       "\\item 'haniffa\\_broad\\_maxPredProb'\n",
       "\\item 'yoshida\\_broad\\_predLabel'\n",
       "\\item 'yoshida\\_broad\\_maxPredProb'\n",
       "\\item 'celltypist\\_detailed\\_predLabel'\n",
       "\\item 'celltypist\\_detailed\\_maxPredProb'\n",
       "\\item 'yoshida\\_detailed\\_predLabel'\n",
       "\\item 'yoshida\\_detailed\\_maxPredProb'\n",
       "\\item 'seurat\\_clusters'\n",
       "\\item 'RNA\\_sequencing\\_saturation'\n",
       "\\item 'pool\\_factor'\n",
       "\\item 'merged\\_souporcell\\_status'\n",
       "\\item 'patient\\_id'\n",
       "\\item 'sample\\_id'\n",
       "\\item 'ethnicity'\n",
       "\\item 'sex'\n",
       "\\item 'calc\\_age'\n",
       "\\item 'ihd'\n",
       "\\item 'previous\\_vte'\n",
       "\\item 'copd'\n",
       "\\item 'diabetes'\n",
       "\\item 'smoking'\n",
       "\\item 'cause\\_eskd'\n",
       "\\item 'renal\\_status'\n",
       "\\item 'WHO\\_severity'\n",
       "\\item 'admission\\_date'\n",
       "\\item 'discharge\\_date'\n",
       "\\item 'fatal\\_disease'\n",
       "\\item 'case\\_control'\n",
       "\\item 'date\\_positive\\_swab'\n",
       "\\item 'date\\_first\\_symptoms'\n",
       "\\item 'radiology\\_evidence\\_covid'\n",
       "\\item 'sample\\_date'\n",
       "\\item 'temp\\_WCC'\n",
       "\\item 'temp\\_neut'\n",
       "\\item 'temp\\_mono'\n",
       "\\item 'temp\\_lymph'\n",
       "\\item 'temp\\_CRP'\n",
       "\\item 'temp\\_ddimer'\n",
       "\\item 'temp\\_ferritin'\n",
       "\\item 'temp\\_trop'\n",
       "\\item 'WHO\\_temp\\_severity'\n",
       "\\item 'individual\\_id'\n",
       "\\item 'celltype\\_B\\_corrected'\n",
       "\\item 'celltype\\_B\\_corrected\\_IFN'\n",
       "\\item 'corrected\\_ethnicity'\n",
       "\\item 'PC1\\_nonafricanVsAfrican'\n",
       "\\item 'PC2\\_asianVsEuropean'\n",
       "\\item 'time\\_from\\_first\\_symptoms'\n",
       "\\item 'time\\_from\\_positive\\_swab'\n",
       "\\item 'time\\_from\\_infection'\n",
       "\\item 'WHO\\_temp\\_severity\\_group'\n",
       "\\item 'WHO\\_severity\\_group'\n",
       "\\item 'grouped\\_temp\\_severity'\n",
       "\\item 'grouped\\_severity'\n",
       "\\item 'age\\_scaled'\n",
       "\\end{enumerate*}\n"
      ],
      "text/markdown": [
       "1. 'orig.ident'\n",
       "2. 'nCount_RNA'\n",
       "3. 'nFeature_RNA'\n",
       "4. 'nCount_ADT'\n",
       "5. 'nFeature_ADT'\n",
       "6. 'nCount_ADT_raw'\n",
       "7. 'nFeature_ADT_raw'\n",
       "8. 'nCount_RNA_raw'\n",
       "9. 'nFeature_RNA_raw'\n",
       "10. 'soupxOnAdt'\n",
       "11. 'soupxOnRna'\n",
       "12. 'percentMito'\n",
       "13. 'exclude'\n",
       "14. 'centre'\n",
       "15. 'pool'\n",
       "16. 'tcrId'\n",
       "17. 'bcrId'\n",
       "18. 'celltypist_broad_predLabel'\n",
       "19. 'celltypist_broad_maxPredProb'\n",
       "20. 'haniffa_broad_predLabel'\n",
       "21. 'haniffa_broad_maxPredProb'\n",
       "22. 'yoshida_broad_predLabel'\n",
       "23. 'yoshida_broad_maxPredProb'\n",
       "24. 'celltypist_detailed_predLabel'\n",
       "25. 'celltypist_detailed_maxPredProb'\n",
       "26. 'yoshida_detailed_predLabel'\n",
       "27. 'yoshida_detailed_maxPredProb'\n",
       "28. 'seurat_clusters'\n",
       "29. 'RNA_sequencing_saturation'\n",
       "30. 'pool_factor'\n",
       "31. 'merged_souporcell_status'\n",
       "32. 'patient_id'\n",
       "33. 'sample_id'\n",
       "34. 'ethnicity'\n",
       "35. 'sex'\n",
       "36. 'calc_age'\n",
       "37. 'ihd'\n",
       "38. 'previous_vte'\n",
       "39. 'copd'\n",
       "40. 'diabetes'\n",
       "41. 'smoking'\n",
       "42. 'cause_eskd'\n",
       "43. 'renal_status'\n",
       "44. 'WHO_severity'\n",
       "45. 'admission_date'\n",
       "46. 'discharge_date'\n",
       "47. 'fatal_disease'\n",
       "48. 'case_control'\n",
       "49. 'date_positive_swab'\n",
       "50. 'date_first_symptoms'\n",
       "51. 'radiology_evidence_covid'\n",
       "52. 'sample_date'\n",
       "53. 'temp_WCC'\n",
       "54. 'temp_neut'\n",
       "55. 'temp_mono'\n",
       "56. 'temp_lymph'\n",
       "57. 'temp_CRP'\n",
       "58. 'temp_ddimer'\n",
       "59. 'temp_ferritin'\n",
       "60. 'temp_trop'\n",
       "61. 'WHO_temp_severity'\n",
       "62. 'individual_id'\n",
       "63. 'celltype_B_corrected'\n",
       "64. 'celltype_B_corrected_IFN'\n",
       "65. 'corrected_ethnicity'\n",
       "66. 'PC1_nonafricanVsAfrican'\n",
       "67. 'PC2_asianVsEuropean'\n",
       "68. 'time_from_first_symptoms'\n",
       "69. 'time_from_positive_swab'\n",
       "70. 'time_from_infection'\n",
       "71. 'WHO_temp_severity_group'\n",
       "72. 'WHO_severity_group'\n",
       "73. 'grouped_temp_severity'\n",
       "74. 'grouped_severity'\n",
       "75. 'age_scaled'\n",
       "\n",
       "\n"
      ],
      "text/plain": [
       " [1] \"orig.ident\"                      \"nCount_RNA\"                     \n",
       " [3] \"nFeature_RNA\"                    \"nCount_ADT\"                     \n",
       " [5] \"nFeature_ADT\"                    \"nCount_ADT_raw\"                 \n",
       " [7] \"nFeature_ADT_raw\"                \"nCount_RNA_raw\"                 \n",
       " [9] \"nFeature_RNA_raw\"                \"soupxOnAdt\"                     \n",
       "[11] \"soupxOnRna\"                      \"percentMito\"                    \n",
       "[13] \"exclude\"                         \"centre\"                         \n",
       "[15] \"pool\"                            \"tcrId\"                          \n",
       "[17] \"bcrId\"                           \"celltypist_broad_predLabel\"     \n",
       "[19] \"celltypist_broad_maxPredProb\"    \"haniffa_broad_predLabel\"        \n",
       "[21] \"haniffa_broad_maxPredProb\"       \"yoshida_broad_predLabel\"        \n",
       "[23] \"yoshida_broad_maxPredProb\"       \"celltypist_detailed_predLabel\"  \n",
       "[25] \"celltypist_detailed_maxPredProb\" \"yoshida_detailed_predLabel\"     \n",
       "[27] \"yoshida_detailed_maxPredProb\"    \"seurat_clusters\"                \n",
       "[29] \"RNA_sequencing_saturation\"       \"pool_factor\"                    \n",
       "[31] \"merged_souporcell_status\"        \"patient_id\"                     \n",
       "[33] \"sample_id\"                       \"ethnicity\"                      \n",
       "[35] \"sex\"                             \"calc_age\"                       \n",
       "[37] \"ihd\"                             \"previous_vte\"                   \n",
       "[39] \"copd\"                            \"diabetes\"                       \n",
       "[41] \"smoking\"                         \"cause_eskd\"                     \n",
       "[43] \"renal_status\"                    \"WHO_severity\"                   \n",
       "[45] \"admission_date\"                  \"discharge_date\"                 \n",
       "[47] \"fatal_disease\"                   \"case_control\"                   \n",
       "[49] \"date_positive_swab\"              \"date_first_symptoms\"            \n",
       "[51] \"radiology_evidence_covid\"        \"sample_date\"                    \n",
       "[53] \"temp_WCC\"                        \"temp_neut\"                      \n",
       "[55] \"temp_mono\"                       \"temp_lymph\"                     \n",
       "[57] \"temp_CRP\"                        \"temp_ddimer\"                    \n",
       "[59] \"temp_ferritin\"                   \"temp_trop\"                      \n",
       "[61] \"WHO_temp_severity\"               \"individual_id\"                  \n",
       "[63] \"celltype_B_corrected\"            \"celltype_B_corrected_IFN\"       \n",
       "[65] \"corrected_ethnicity\"             \"PC1_nonafricanVsAfrican\"        \n",
       "[67] \"PC2_asianVsEuropean\"             \"time_from_first_symptoms\"       \n",
       "[69] \"time_from_positive_swab\"         \"time_from_infection\"            \n",
       "[71] \"WHO_temp_severity_group\"         \"WHO_severity_group\"             \n",
       "[73] \"grouped_temp_severity\"           \"grouped_severity\"               \n",
       "[75] \"age_scaled\"                     "
      ]
     },
     "metadata": {},
     "output_type": "display_data"
    }
   ],
   "source": [
    "colnames(colData(sce))"
   ]
  },
  {
   "cell_type": "markdown",
   "id": "cdef8215",
   "metadata": {},
   "source": [
    "### Comparison 1: just wave 1, deg from positive vs negative"
   ]
  },
  {
   "cell_type": "code",
   "execution_count": 5,
   "id": "dca449b9",
   "metadata": {
    "scrolled": true
   },
   "outputs": [
    {
     "data": {
      "text/plain": [
       "          \n",
       "           C20 C21 C23 C31 C34 C36 C40 C42 C60 C63 C65 C69 C73 C82 C85 C93 C103\n",
       "  NEGATIVE   0   0   0   0   0   0   0   0   0   0   0   1   0   0   1   0    1\n",
       "  POSITIVE   3   3   3   3   3   3   3   3   3   3   2   0   1   1   0   3    0\n",
       "          \n",
       "           C104 C106 C113 C123 C124 C126 C127 C128 C132 C134 C142 C161 C164\n",
       "  NEGATIVE    1    1    0    0    0    0    0    0    0    1    1    1    1\n",
       "  POSITIVE    0    0    3    3    3    3    3    3    3    0    0    0    0\n",
       "          \n",
       "           C167 C193 C195 C196 C197 C212 C214 C224 C234 C237 C238 C240 C251\n",
       "  NEGATIVE    1    1    1    1    1    1    1    1    1    1    1    1    1\n",
       "  POSITIVE    0    0    0    0    0    0    0    0    0    0    0    0    0"
      ]
     },
     "metadata": {},
     "output_type": "display_data"
    },
    {
     "data": {
      "text/plain": [
       "          \n",
       "            F  M\n",
       "  NEGATIVE  7 15\n",
       "  POSITIVE 19 39"
      ]
     },
     "metadata": {},
     "output_type": "display_data"
    },
    {
     "data": {
      "text/plain": [
       "          \n",
       "           African Asian European\n",
       "  NEGATIVE       4    10        8\n",
       "  POSITIVE       9    29       20"
      ]
     },
     "metadata": {},
     "output_type": "display_data"
    },
    {
     "name": "stdout",
     "output_type": "stream",
     "text": [
      "\n",
      "n = 80 samples, 43 individuals\n",
      "  |======================================================================| 100%\n",
      "\n",
      "Time difference of 1.926623 mins\n",
      "\n",
      "q_case_control\n",
      "--------------\n",
      "Not Significant     Significant \n",
      "           8270             603 \n",
      "\n",
      "q_sex\n",
      "-----\n",
      "Not Significant     Significant \n",
      "           8792              81 \n",
      "\n",
      "q_PC1_nonafricanVsAfrican\n",
      "-------------------------\n",
      "Not Significant     Significant \n",
      "           8867               6 \n",
      "\n",
      "q_PC2_asianVsEuropean\n",
      "---------------------\n",
      "Not Significant     Significant \n",
      "           8870               3 \n",
      "\n",
      "q_age_scaled\n",
      "------------\n",
      "Not Significant     Significant \n",
      "           8820              53 \n"
     ]
    }
   ],
   "source": [
    "sce1 <- sce[, sce$centre == 'NCL']\n",
    "# Remove samples with less than MIN\n",
    "nCells <- table(sce1$sample_id)\n",
    "rmSamples <- names(nCells[nCells < min_cells])\n",
    "sce1 <- sce1[,!sce1$sample_id %in% rmSamples]\n",
    "# Summarize Counts\n",
    "smrzd <- aggregateAcrossCells(sce1, id=as.character(colData(sce1)[,c(\"sample_id\")]))\n",
    "y <- DGEList(counts=counts(smrzd), samples=colData(smrzd))\n",
    "y1 <- setupDGElist(y, 'case_control')\n",
    "# sanity check\n",
    "table(y1$samples$case_control, y1$samples$individual_id)\n",
    "table(y1$samples$case_control, y1$samples$sex)\n",
    "table(y1$samples$case_control, y1$samples$corrected_ethnicity)\n",
    "\n",
    "res1 <- testDGElist(y1, \n",
    "            formula = as.formula(\"~ case_control + sex + PC1_nonafricanVsAfrican + PC2_asianVsEuropean + age_scaled + (1|individual_id)\"), \n",
    "            individual_id = 'individual_id',\n",
    "            modified = TRUE,\n",
    "            BPPARAM = BPPARAM,\n",
    "           )"
   ]
  },
  {
   "cell_type": "code",
   "execution_count": 6,
   "id": "9e6ab7ab",
   "metadata": {},
   "outputs": [],
   "source": [
    "results1 <- degTable_modified(res1, contrast = 'case_control', group = 'POSITIVE')"
   ]
  },
  {
   "cell_type": "markdown",
   "id": "57fbd3ef",
   "metadata": {},
   "source": [
    "### Comparison 2: just patients that were negative in wave 1 but positive in wave 2, deg from recovery vs negative"
   ]
  },
  {
   "cell_type": "code",
   "execution_count": 7,
   "id": "ff00d5d5",
   "metadata": {},
   "outputs": [
    {
     "data": {
      "text/plain": [
       "          \n",
       "           C137 C140 C146 C168 C169 C187 C190\n",
       "  NEGATIVE    1    1    1    1    1    1    1\n",
       "  RECOVERY    1    1    1    1    1    1    1"
      ]
     },
     "metadata": {},
     "output_type": "display_data"
    },
    {
     "data": {
      "text/plain": [
       "          \n",
       "           F M\n",
       "  NEGATIVE 3 4\n",
       "  RECOVERY 3 4"
      ]
     },
     "metadata": {},
     "output_type": "display_data"
    },
    {
     "data": {
      "text/plain": [
       "          \n",
       "           African Asian European\n",
       "  NEGATIVE       0     5        2\n",
       "  RECOVERY       0     5        2"
      ]
     },
     "metadata": {},
     "output_type": "display_data"
    },
    {
     "name": "stdout",
     "output_type": "stream",
     "text": [
      "\n",
      "n = 14 samples, 7 individuals\n",
      "  |======================================================================| 100%\n",
      "\n",
      "Time difference of 2.063569 mins\n",
      "\n",
      "q_case_control\n",
      "--------------\n",
      "Not Significant     Significant \n",
      "           8317               2 \n",
      "\n",
      "q_sex\n",
      "-----\n",
      "Not Significant     Significant \n",
      "           8316               3 \n",
      "\n",
      "q_PC1_nonafricanVsAfrican\n",
      "-------------------------\n",
      "Not Significant     Significant \n",
      "           8317               2 \n",
      "\n",
      "q_PC2_asianVsEuropean\n",
      "---------------------\n",
      "Not Significant \n",
      "           8319 \n",
      "\n",
      "q_age_scaled\n",
      "------------\n",
      "Not Significant     Significant \n",
      "           8317               2 \n"
     ]
    }
   ],
   "source": [
    "sce2 <- sce[, sce$individual_id %in% c('C101', 'C108', 'C137', 'C138', 'C140', \n",
    "                                       'C145', 'C146', 'C147', 'C168', # C141 remove beause of infection in receovery sample\n",
    "                                        'C169', 'C170', 'C187', 'C190', 'C33')]\n",
    "# Remove samples with less than MIN\n",
    "nCells <- table(sce2$sample_id)\n",
    "rmSamples <- names(nCells[nCells < min_cells])\n",
    "sce2 <- sce2[,!sce2$sample_id %in% rmSamples]\n",
    "# remove non-complete data (all have positive), 1 = negative, 3 = recovery\n",
    "df <- table(sce2$individual_id, sce2$case_control)\n",
    "keep_ids <- row.names(df)[which(df[,1] != 0 & df[,3] != 0)]\n",
    "sce2 <- sce2[, sce2$individual_id %in% keep_ids]\n",
    "# Summarize Counts\n",
    "smrzd <- aggregateAcrossCells(sce2, id=as.character(colData(sce2)[,c(\"sample_id\")]))\n",
    "y <- DGEList(counts=counts(smrzd), samples=colData(smrzd))\n",
    "y2 <- setupDGElist(y, 'case_control', remove = 'POSITIVE')\n",
    "# sanity check\n",
    "table(y2$samples$case_control, y2$samples$individual_id)\n",
    "table(y2$samples$case_control, y2$samples$sex)\n",
    "table(y2$samples$case_control, y2$samples$corrected_ethnicity)\n",
    "\n",
    "res2 <- testDGElist(y2, \n",
    "            formula = as.formula(\"~ case_control + sex + PC1_nonafricanVsAfrican + PC2_asianVsEuropean + age_scaled + (1|individual_id)\"), \n",
    "            individual_id = 'individual_id',\n",
    "            modified = TRUE,\n",
    "            BPPARAM = BPPARAM\n",
    "           )"
   ]
  },
  {
   "cell_type": "code",
   "execution_count": 8,
   "id": "58672fd6",
   "metadata": {},
   "outputs": [],
   "source": [
    "results2 <- degTable_modified(res2, contrast = 'case_control', group = 'RECOVERY')"
   ]
  },
  {
   "cell_type": "markdown",
   "id": "1aee3887",
   "metadata": {},
   "source": [
    "### Comparison 3: just patients that were negative in wave 1 but positive in wave 2, deg from positive vs negative"
   ]
  },
  {
   "cell_type": "code",
   "execution_count": 9,
   "id": "da6be5e8",
   "metadata": {},
   "outputs": [
    {
     "data": {
      "text/plain": [
       "          \n",
       "           C137 C138 C140 C145 C146 C147 C168 C169 C187 C190\n",
       "  NEGATIVE    1    1    1    1    1    1    1    1    1    1\n",
       "  POSITIVE    2    6    6    5    6    5    4    5    3    6"
      ]
     },
     "metadata": {},
     "output_type": "display_data"
    },
    {
     "data": {
      "text/plain": [
       "          \n",
       "            F  M\n",
       "  NEGATIVE  5  5\n",
       "  POSITIVE 24 24"
      ]
     },
     "metadata": {},
     "output_type": "display_data"
    },
    {
     "data": {
      "text/plain": [
       "          \n",
       "           African Asian European\n",
       "  NEGATIVE       0     8        2\n",
       "  POSITIVE       0    39        9"
      ]
     },
     "metadata": {},
     "output_type": "display_data"
    },
    {
     "name": "stdout",
     "output_type": "stream",
     "text": [
      "\n",
      "n = 58 samples, 10 individuals\n",
      "  |======================================================================| 100%\n",
      "\n",
      "Time difference of 3.13898 mins\n",
      "\n",
      "q_case_control\n",
      "--------------\n",
      "Not Significant     Significant \n",
      "           9155              27 \n",
      "\n",
      "q_sex\n",
      "-----\n",
      "Not Significant     Significant \n",
      "           9148              34 \n",
      "\n",
      "q_PC1_nonafricanVsAfrican\n",
      "-------------------------\n",
      "Not Significant     Significant \n",
      "           9181               1 \n",
      "\n",
      "q_PC2_asianVsEuropean\n",
      "---------------------\n",
      "Not Significant     Significant \n",
      "           9178               4 \n",
      "\n",
      "q_age_scaled\n",
      "------------\n",
      "Not Significant     Significant \n",
      "           9174               8 \n"
     ]
    }
   ],
   "source": [
    "sce3 <- sce[, sce$individual_id %in% c('C101', 'C108', 'C137', 'C138', 'C140', \n",
    "                                       'C145', 'C146', 'C147', 'C168', \n",
    "                                        'C169', 'C170', 'C187', 'C190', 'C33')]\n",
    "# Remove samples with less than MIN\n",
    "nCells <- table(sce3$sample_id)\n",
    "rmSamples <- names(nCells[nCells < min_cells])\n",
    "sce3 <- sce3[,!sce3$sample_id %in% rmSamples]\n",
    "# remove non-complete data (all have positive), 1 = negative, 2 = positive\n",
    "df <- table(sce3$individual_id, sce3$case_control)\n",
    "keep_ids <- row.names(df)[which(df[,1] != 0 & df[,2] != 0)]\n",
    "sce3 <- sce3[, sce3$individual_id %in% keep_ids]\n",
    "# Summarize Counts\n",
    "smrzd <- aggregateAcrossCells(sce3, id=as.character(colData(sce3)[,c(\"sample_id\")]))\n",
    "y <- DGEList(counts=counts(smrzd), samples=colData(smrzd))\n",
    "y3 <- setupDGElist(y, 'case_control', remove = 'RECOVERY')\n",
    "# sanity check\n",
    "table(y3$samples$case_control, y3$samples$individual_id)\n",
    "table(y3$samples$case_control, y3$samples$sex)\n",
    "table(y3$samples$case_control, y3$samples$corrected_ethnicity)\n",
    "\n",
    "res3 <- testDGElist(y3, \n",
    "            formula = as.formula(\"~ case_control + sex + PC1_nonafricanVsAfrican + PC2_asianVsEuropean + age_scaled + (1|individual_id)\"), \n",
    "            individual_id = 'individual_id',\n",
    "            modified = TRUE,\n",
    "            BPPARAM = BPPARAM,\n",
    "           )"
   ]
  },
  {
   "cell_type": "code",
   "execution_count": 10,
   "id": "240c8604",
   "metadata": {},
   "outputs": [],
   "source": [
    "results3 <- degTable_modified(res3, contrast = 'case_control', group = 'POSITIVE')"
   ]
  },
  {
   "cell_type": "code",
   "execution_count": 11,
   "id": "50b1472e",
   "metadata": {},
   "outputs": [],
   "source": [
    "save(res1, res2, res3, results1, results2, results3, file = 'h5ad/df.fil3_gex_bcells_vdj_sce_B_naive_deg_270622.RData')"
   ]
  },
  {
   "cell_type": "code",
   "execution_count": null,
   "id": "ff8ea3f4",
   "metadata": {},
   "outputs": [],
   "source": []
  }
 ],
 "metadata": {
  "kernelspec": {
   "display_name": "R",
   "language": "R",
   "name": "ir"
  },
  "language_info": {
   "codemirror_mode": "r",
   "file_extension": ".r",
   "mimetype": "text/x-r-source",
   "name": "R",
   "pygments_lexer": "r",
   "version": "4.0.3"
  }
 },
 "nbformat": 4,
 "nbformat_minor": 5
}
