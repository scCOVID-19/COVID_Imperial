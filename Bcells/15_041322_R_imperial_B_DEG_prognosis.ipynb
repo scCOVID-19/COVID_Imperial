{
 "cells": [
  {
   "cell_type": "code",
   "execution_count": 1,
   "id": "c919b46d",
   "metadata": {},
   "outputs": [],
   "source": [
    "setwd('/lustre/scratch117/cellgen/team297/kt16/COVID_imperial_renal/')\n",
    "source('scripts/glmm_functions.R')"
   ]
  },
  {
   "cell_type": "code",
   "execution_count": 2,
   "id": "43af0f73",
   "metadata": {},
   "outputs": [],
   "source": [
    "testDGElist_edger <- function(y, model) {\n",
    "    # Norm\n",
    "    y <- calcNormFactors(y)\n",
    "    # Estimate Dispersion\n",
    "    y <- estimateDisp(y, model)\n",
    "    # Fit Model\n",
    "    fit <- glmQLFit(y, mdl, robust=TRUE)\n",
    "    return(fit)\n",
    "}\n",
    "\n",
    "prep_sce <- function(sce, min_cells = 10){\n",
    "    counts(sce) <- assays(sce)[['X']] # because i'm saving from a h5ad object with anndata2ri\n",
    "    sce$case_control <- factor(sce$case_control, levels = c('NEGATIVE', 'POSITIVE', 'RECOVERY'))\n",
    "    sce$WHO_temp_severity <- factor(sce$WHO_temp_severity, levels = c('NA', 'mild', 'moderate', 'severe', 'critical'))\n",
    "    sce$WHO_temp_severity_group <- factor(sce$WHO_temp_severity, levels = c('NA', 'mild', 'moderate', 'severe', 'critical'), labels = c('NA', 'mild_moderate', 'mild_moderate', 'severe_critical', 'severe_critical'))\n",
    "    sce$WHO_severity_group <- factor(sce$WHO_severity, levels = c('NA', 'mild', 'moderate', 'severe', 'critical'), labels = c('NA', 'mild_moderate', 'mild_moderate', 'severe_critical', 'severe_critical')) # interpreted as peak severity\n",
    "    sce$grouped_temp_severity <- ifelse(sce$WHO_temp_severity %in% c(\"mild\", \"moderate\"), \"mild_moderate\", \"severe_critical\")\n",
    "    sce$grouped_severity <- ifelse(sce$WHO_severity %in% c(\"mild\", \"moderate\"), \"mild_moderate\", \"severe_critical\")\n",
    "    sce$prognosis <- factor(sce$prognosis, levels = c('stable_disease', 'will_improve', 'will_worsen'))\n",
    "    sce$age_scaled <- scale(sce$calc_age) # scale age\n",
    "    # Remove samples with less than 10 cells\n",
    "    nCells <- table(sce$sample_id)\n",
    "    rmSamples <- names(nCells[nCells < min_cells])\n",
    "    sce1 <- sce[, !sce$sample_id %in% rmSamples]\n",
    "    # Summarize Counts\n",
    "    smrzd <- aggregateAcrossCells(sce1, id = as.character(colData(sce1)[, c(\"sample_id\")]))\n",
    "    y <- DGEList(counts = counts(smrzd), samples = colData(smrzd))\n",
    "    y1 <- setupDGElist(y, \"prognosis\") # use grouped_temp_severity later\n",
    "    # sanity check\n",
    "    # table(y1$samples$prognosis, y1$samples$individual_id)\n",
    "    # table(y1$samples$prognosis, y1$samples$centre)\n",
    "    # table(y1$samples$prognosis, y1$samples$sex)\n",
    "    # table(y1$samples$prognosis, y1$samples$ethnicity)\n",
    "    # table(y1$samples$prognosis, y1$samples$WHO_severity)\n",
    "    # table(y1$samples$prognosis, y1$samples$WHO_temp_severity)\n",
    "    return(y1)\n",
    "}"
   ]
  },
  {
   "cell_type": "markdown",
   "id": "2ff2b0f3",
   "metadata": {},
   "source": [
    "### Naive"
   ]
  },
  {
   "cell_type": "code",
   "execution_count": 3,
   "id": "b5c098ba",
   "metadata": {},
   "outputs": [],
   "source": [
    "sce <- readRDS('h5ad/df.fil3_gex_bcells_vdj_sce_B_naive_prog.RDS')\n",
    "y <- prep_sce(sce)"
   ]
  },
  {
   "cell_type": "code",
   "execution_count": 4,
   "id": "b9ac0159",
   "metadata": {
    "scrolled": false
   },
   "outputs": [
    {
     "name": "stdout",
     "output_type": "stream",
     "text": [
      "[1] \"prognosiswill_improve\"\n",
      "[1] \"prognosiswill_worsen\"\n"
     ]
    }
   ],
   "source": [
    "mdl <- model.matrix(~ prognosis + sex + ethnicity + age_scaled + centre, data=y$samples)\n",
    "fit <- testDGElist_edger(y, mdl)\n",
    "res1 <- glmQLFTest(fit, coef='prognosiswill_improve')\n",
    "res2 <- glmQLFTest(fit, coef='prognosiswill_worsen')\n",
    "print('prognosiswill_improve')\n",
    "if(any(topTags(res1,n=nrow(y))$table$FDR < 0.05)){\n",
    "    topTags(res1,n=nrow(y))$table[topTags(res1,n=nrow(y))$table$FDR < 0.05, ]\n",
    "}\n",
    "print('prognosiswill_worsen')\n",
    "if(any(topTags(res2,n=nrow(y))$table$FDR < 0.05)){\n",
    "    topTags(res2,n=nrow(y))$table[topTags(res2,n=nrow(y))$table$FDR < 0.05, ]\n",
    "}"
   ]
  },
  {
   "cell_type": "markdown",
   "id": "70b5d5ff",
   "metadata": {},
   "source": [
    "### Switched memory"
   ]
  },
  {
   "cell_type": "code",
   "execution_count": 5,
   "id": "25fd4a71",
   "metadata": {},
   "outputs": [],
   "source": [
    "sce <- readRDS('h5ad/df.fil3_gex_bcells_vdj_sce_B_switched_mem_prog.RDS')\n",
    "y <- prep_sce(sce)"
   ]
  },
  {
   "cell_type": "code",
   "execution_count": 6,
   "id": "89ee349f",
   "metadata": {},
   "outputs": [
    {
     "name": "stdout",
     "output_type": "stream",
     "text": [
      "[1] \"prognosiswill_improve\"\n",
      "[1] \"prognosiswill_worsen\"\n"
     ]
    },
    {
     "data": {
      "text/html": [
       "<table class=\"dataframe\">\n",
       "<caption>A data.frame: 1 × 5</caption>\n",
       "<thead>\n",
       "\t<tr><th></th><th scope=col>logFC</th><th scope=col>logCPM</th><th scope=col>F</th><th scope=col>PValue</th><th scope=col>FDR</th></tr>\n",
       "\t<tr><th></th><th scope=col>&lt;dbl&gt;</th><th scope=col>&lt;dbl&gt;</th><th scope=col>&lt;dbl&gt;</th><th scope=col>&lt;dbl&gt;</th><th scope=col>&lt;dbl&gt;</th></tr>\n",
       "</thead>\n",
       "<tbody>\n",
       "\t<tr><th scope=row>APOL6</th><td>2.662733</td><td>5.245481</td><td>26.21959</td><td>3.543012e-06</td><td>0.0214494</td></tr>\n",
       "</tbody>\n",
       "</table>\n"
      ],
      "text/latex": [
       "A data.frame: 1 × 5\n",
       "\\begin{tabular}{r|lllll}\n",
       "  & logFC & logCPM & F & PValue & FDR\\\\\n",
       "  & <dbl> & <dbl> & <dbl> & <dbl> & <dbl>\\\\\n",
       "\\hline\n",
       "\tAPOL6 & 2.662733 & 5.245481 & 26.21959 & 3.543012e-06 & 0.0214494\\\\\n",
       "\\end{tabular}\n"
      ],
      "text/markdown": [
       "\n",
       "A data.frame: 1 × 5\n",
       "\n",
       "| <!--/--> | logFC &lt;dbl&gt; | logCPM &lt;dbl&gt; | F &lt;dbl&gt; | PValue &lt;dbl&gt; | FDR &lt;dbl&gt; |\n",
       "|---|---|---|---|---|---|\n",
       "| APOL6 | 2.662733 | 5.245481 | 26.21959 | 3.543012e-06 | 0.0214494 |\n",
       "\n"
      ],
      "text/plain": [
       "      logFC    logCPM   F        PValue       FDR      \n",
       "APOL6 2.662733 5.245481 26.21959 3.543012e-06 0.0214494"
      ]
     },
     "metadata": {},
     "output_type": "display_data"
    }
   ],
   "source": [
    "mdl <- model.matrix(~ prognosis + sex + ethnicity + age_scaled + centre, data=y$samples)\n",
    "fit <- testDGElist_edger(y, mdl)\n",
    "res1 <- glmQLFTest(fit, coef='prognosiswill_improve')\n",
    "res2 <- glmQLFTest(fit, coef='prognosiswill_worsen')\n",
    "print('prognosiswill_improve')\n",
    "if(any(topTags(res1,n=nrow(y))$table$FDR < 0.05)){\n",
    "    topTags(res1,n=nrow(y))$table[topTags(res1,n=nrow(y))$table$FDR < 0.05, ]\n",
    "}\n",
    "print('prognosiswill_worsen')\n",
    "if(any(topTags(res2,n=nrow(y))$table$FDR < 0.05)){\n",
    "    topTags(res2,n=nrow(y))$table[topTags(res2,n=nrow(y))$table$FDR < 0.05, ]\n",
    "}"
   ]
  },
  {
   "cell_type": "markdown",
   "id": "6b1cabcb",
   "metadata": {},
   "source": [
    "### Non-switched memory"
   ]
  },
  {
   "cell_type": "code",
   "execution_count": 7,
   "id": "c43f58ec",
   "metadata": {},
   "outputs": [],
   "source": [
    "sce <- readRDS('h5ad/df.fil3_gex_bcells_vdj_sce_B_nonswitched_mem_prog.RDS')\n",
    "y <- prep_sce(sce)"
   ]
  },
  {
   "cell_type": "code",
   "execution_count": 8,
   "id": "6ddf06d5",
   "metadata": {
    "scrolled": false
   },
   "outputs": [
    {
     "name": "stdout",
     "output_type": "stream",
     "text": [
      "[1] \"prognosiswill_improve\"\n"
     ]
    },
    {
     "data": {
      "text/html": [
       "<table class=\"dataframe\">\n",
       "<caption>A data.frame: 7 × 5</caption>\n",
       "<thead>\n",
       "\t<tr><th></th><th scope=col>logFC</th><th scope=col>logCPM</th><th scope=col>F</th><th scope=col>PValue</th><th scope=col>FDR</th></tr>\n",
       "\t<tr><th></th><th scope=col>&lt;dbl&gt;</th><th scope=col>&lt;dbl&gt;</th><th scope=col>&lt;dbl&gt;</th><th scope=col>&lt;dbl&gt;</th><th scope=col>&lt;dbl&gt;</th></tr>\n",
       "</thead>\n",
       "<tbody>\n",
       "\t<tr><th scope=row>HLA-DQA2</th><td> 5.406810</td><td> 6.926207</td><td>33.56970</td><td>7.234374e-09</td><td>4.541740e-05</td></tr>\n",
       "\t<tr><th scope=row>HIST1H4C</th><td>-5.442753</td><td> 7.965718</td><td>32.12441</td><td>1.524458e-08</td><td>4.785274e-05</td></tr>\n",
       "\t<tr><th scope=row>IFI44L</th><td> 3.674687</td><td> 7.329106</td><td>29.55245</td><td>5.544136e-08</td><td>1.160203e-04</td></tr>\n",
       "\t<tr><th scope=row>XAF1</th><td> 2.847235</td><td> 7.407392</td><td>21.21707</td><td>4.141275e-06</td><td>6.499731e-03</td></tr>\n",
       "\t<tr><th scope=row>DDIT4</th><td> 2.421620</td><td> 6.784179</td><td>18.34552</td><td>1.856224e-05</td><td>2.330675e-02</td></tr>\n",
       "\t<tr><th scope=row>MT-CO1</th><td>-1.510628</td><td>13.227611</td><td>17.44501</td><td>2.977373e-05</td><td>3.001956e-02</td></tr>\n",
       "\t<tr><th scope=row>IFI27</th><td> 6.811807</td><td> 5.794524</td><td>17.22220</td><td>3.347196e-05</td><td>3.001956e-02</td></tr>\n",
       "</tbody>\n",
       "</table>\n"
      ],
      "text/latex": [
       "A data.frame: 7 × 5\n",
       "\\begin{tabular}{r|lllll}\n",
       "  & logFC & logCPM & F & PValue & FDR\\\\\n",
       "  & <dbl> & <dbl> & <dbl> & <dbl> & <dbl>\\\\\n",
       "\\hline\n",
       "\tHLA-DQA2 &  5.406810 &  6.926207 & 33.56970 & 7.234374e-09 & 4.541740e-05\\\\\n",
       "\tHIST1H4C & -5.442753 &  7.965718 & 32.12441 & 1.524458e-08 & 4.785274e-05\\\\\n",
       "\tIFI44L &  3.674687 &  7.329106 & 29.55245 & 5.544136e-08 & 1.160203e-04\\\\\n",
       "\tXAF1 &  2.847235 &  7.407392 & 21.21707 & 4.141275e-06 & 6.499731e-03\\\\\n",
       "\tDDIT4 &  2.421620 &  6.784179 & 18.34552 & 1.856224e-05 & 2.330675e-02\\\\\n",
       "\tMT-CO1 & -1.510628 & 13.227611 & 17.44501 & 2.977373e-05 & 3.001956e-02\\\\\n",
       "\tIFI27 &  6.811807 &  5.794524 & 17.22220 & 3.347196e-05 & 3.001956e-02\\\\\n",
       "\\end{tabular}\n"
      ],
      "text/markdown": [
       "\n",
       "A data.frame: 7 × 5\n",
       "\n",
       "| <!--/--> | logFC &lt;dbl&gt; | logCPM &lt;dbl&gt; | F &lt;dbl&gt; | PValue &lt;dbl&gt; | FDR &lt;dbl&gt; |\n",
       "|---|---|---|---|---|---|\n",
       "| HLA-DQA2 |  5.406810 |  6.926207 | 33.56970 | 7.234374e-09 | 4.541740e-05 |\n",
       "| HIST1H4C | -5.442753 |  7.965718 | 32.12441 | 1.524458e-08 | 4.785274e-05 |\n",
       "| IFI44L |  3.674687 |  7.329106 | 29.55245 | 5.544136e-08 | 1.160203e-04 |\n",
       "| XAF1 |  2.847235 |  7.407392 | 21.21707 | 4.141275e-06 | 6.499731e-03 |\n",
       "| DDIT4 |  2.421620 |  6.784179 | 18.34552 | 1.856224e-05 | 2.330675e-02 |\n",
       "| MT-CO1 | -1.510628 | 13.227611 | 17.44501 | 2.977373e-05 | 3.001956e-02 |\n",
       "| IFI27 |  6.811807 |  5.794524 | 17.22220 | 3.347196e-05 | 3.001956e-02 |\n",
       "\n"
      ],
      "text/plain": [
       "         logFC     logCPM    F        PValue       FDR         \n",
       "HLA-DQA2  5.406810  6.926207 33.56970 7.234374e-09 4.541740e-05\n",
       "HIST1H4C -5.442753  7.965718 32.12441 1.524458e-08 4.785274e-05\n",
       "IFI44L    3.674687  7.329106 29.55245 5.544136e-08 1.160203e-04\n",
       "XAF1      2.847235  7.407392 21.21707 4.141275e-06 6.499731e-03\n",
       "DDIT4     2.421620  6.784179 18.34552 1.856224e-05 2.330675e-02\n",
       "MT-CO1   -1.510628 13.227611 17.44501 2.977373e-05 3.001956e-02\n",
       "IFI27     6.811807  5.794524 17.22220 3.347196e-05 3.001956e-02"
      ]
     },
     "metadata": {},
     "output_type": "display_data"
    },
    {
     "name": "stdout",
     "output_type": "stream",
     "text": [
      "[1] \"prognosiswill_worsen\"\n"
     ]
    },
    {
     "data": {
      "text/html": [
       "<table class=\"dataframe\">\n",
       "<caption>A data.frame: 8 × 5</caption>\n",
       "<thead>\n",
       "\t<tr><th></th><th scope=col>logFC</th><th scope=col>logCPM</th><th scope=col>F</th><th scope=col>PValue</th><th scope=col>FDR</th></tr>\n",
       "\t<tr><th></th><th scope=col>&lt;dbl&gt;</th><th scope=col>&lt;dbl&gt;</th><th scope=col>&lt;dbl&gt;</th><th scope=col>&lt;dbl&gt;</th><th scope=col>&lt;dbl&gt;</th></tr>\n",
       "</thead>\n",
       "<tbody>\n",
       "\t<tr><th scope=row>HLA-DQA2</th><td> 32.122450</td><td>6.926207</td><td>64.61085</td><td>1.095550e-15</td><td>6.877863e-12</td></tr>\n",
       "\t<tr><th scope=row>IFI44L</th><td> 15.310838</td><td>7.329106</td><td>32.53857</td><td>1.194881e-08</td><td>3.750733e-05</td></tr>\n",
       "\t<tr><th scope=row>CD1C</th><td>-16.569929</td><td>7.643386</td><td>22.61363</td><td>2.002761e-06</td><td>4.191110e-03</td></tr>\n",
       "\t<tr><th scope=row>DDIT4</th><td> 10.320847</td><td>6.784179</td><td>18.99759</td><td>1.319242e-05</td><td>1.937076e-02</td></tr>\n",
       "\t<tr><th scope=row>IFITM1</th><td>  8.926336</td><td>9.470880</td><td>19.35001</td><td>1.542749e-05</td><td>1.937076e-02</td></tr>\n",
       "\t<tr><th scope=row>IFI27</th><td> 32.005993</td><td>5.794524</td><td>17.58081</td><td>2.772413e-05</td><td>2.564488e-02</td></tr>\n",
       "\t<tr><th scope=row>XAF1</th><td>  9.963111</td><td>7.407392</td><td>17.52197</td><td>2.859416e-05</td><td>2.564488e-02</td></tr>\n",
       "\t<tr><th scope=row>HIST1H4C</th><td>-16.770996</td><td>7.965718</td><td>17.20274</td><td>3.413407e-05</td><td>2.678671e-02</td></tr>\n",
       "</tbody>\n",
       "</table>\n"
      ],
      "text/latex": [
       "A data.frame: 8 × 5\n",
       "\\begin{tabular}{r|lllll}\n",
       "  & logFC & logCPM & F & PValue & FDR\\\\\n",
       "  & <dbl> & <dbl> & <dbl> & <dbl> & <dbl>\\\\\n",
       "\\hline\n",
       "\tHLA-DQA2 &  32.122450 & 6.926207 & 64.61085 & 1.095550e-15 & 6.877863e-12\\\\\n",
       "\tIFI44L &  15.310838 & 7.329106 & 32.53857 & 1.194881e-08 & 3.750733e-05\\\\\n",
       "\tCD1C & -16.569929 & 7.643386 & 22.61363 & 2.002761e-06 & 4.191110e-03\\\\\n",
       "\tDDIT4 &  10.320847 & 6.784179 & 18.99759 & 1.319242e-05 & 1.937076e-02\\\\\n",
       "\tIFITM1 &   8.926336 & 9.470880 & 19.35001 & 1.542749e-05 & 1.937076e-02\\\\\n",
       "\tIFI27 &  32.005993 & 5.794524 & 17.58081 & 2.772413e-05 & 2.564488e-02\\\\\n",
       "\tXAF1 &   9.963111 & 7.407392 & 17.52197 & 2.859416e-05 & 2.564488e-02\\\\\n",
       "\tHIST1H4C & -16.770996 & 7.965718 & 17.20274 & 3.413407e-05 & 2.678671e-02\\\\\n",
       "\\end{tabular}\n"
      ],
      "text/markdown": [
       "\n",
       "A data.frame: 8 × 5\n",
       "\n",
       "| <!--/--> | logFC &lt;dbl&gt; | logCPM &lt;dbl&gt; | F &lt;dbl&gt; | PValue &lt;dbl&gt; | FDR &lt;dbl&gt; |\n",
       "|---|---|---|---|---|---|\n",
       "| HLA-DQA2 |  32.122450 | 6.926207 | 64.61085 | 1.095550e-15 | 6.877863e-12 |\n",
       "| IFI44L |  15.310838 | 7.329106 | 32.53857 | 1.194881e-08 | 3.750733e-05 |\n",
       "| CD1C | -16.569929 | 7.643386 | 22.61363 | 2.002761e-06 | 4.191110e-03 |\n",
       "| DDIT4 |  10.320847 | 6.784179 | 18.99759 | 1.319242e-05 | 1.937076e-02 |\n",
       "| IFITM1 |   8.926336 | 9.470880 | 19.35001 | 1.542749e-05 | 1.937076e-02 |\n",
       "| IFI27 |  32.005993 | 5.794524 | 17.58081 | 2.772413e-05 | 2.564488e-02 |\n",
       "| XAF1 |   9.963111 | 7.407392 | 17.52197 | 2.859416e-05 | 2.564488e-02 |\n",
       "| HIST1H4C | -16.770996 | 7.965718 | 17.20274 | 3.413407e-05 | 2.678671e-02 |\n",
       "\n"
      ],
      "text/plain": [
       "         logFC      logCPM   F        PValue       FDR         \n",
       "HLA-DQA2  32.122450 6.926207 64.61085 1.095550e-15 6.877863e-12\n",
       "IFI44L    15.310838 7.329106 32.53857 1.194881e-08 3.750733e-05\n",
       "CD1C     -16.569929 7.643386 22.61363 2.002761e-06 4.191110e-03\n",
       "DDIT4     10.320847 6.784179 18.99759 1.319242e-05 1.937076e-02\n",
       "IFITM1     8.926336 9.470880 19.35001 1.542749e-05 1.937076e-02\n",
       "IFI27     32.005993 5.794524 17.58081 2.772413e-05 2.564488e-02\n",
       "XAF1       9.963111 7.407392 17.52197 2.859416e-05 2.564488e-02\n",
       "HIST1H4C -16.770996 7.965718 17.20274 3.413407e-05 2.678671e-02"
      ]
     },
     "metadata": {},
     "output_type": "display_data"
    }
   ],
   "source": [
    "mdl <- model.matrix(~ prognosis + sex + ethnicity + age_scaled + centre, data=y$samples)\n",
    "fit <- testDGElist_edger(y, mdl)\n",
    "res1 <- glmQLFTest(fit, coef='prognosiswill_improve')\n",
    "res2 <- glmQLFTest(fit, coef='prognosiswill_worsen')\n",
    "print('prognosiswill_improve')\n",
    "if(any(topTags(res1,n=nrow(y))$table$FDR < 0.05)){\n",
    "    topTags(res1,n=nrow(y))$table[topTags(res1,n=nrow(y))$table$FDR < 0.05, ]\n",
    "}\n",
    "print('prognosiswill_worsen')\n",
    "if(any(topTags(res2,n=nrow(y))$table$FDR < 0.05)){\n",
    "    topTags(res2,n=nrow(y))$table[topTags(res2,n=nrow(y))$table$FDR < 0.05, ]\n",
    "}"
   ]
  },
  {
   "cell_type": "markdown",
   "id": "5225989f",
   "metadata": {},
   "source": [
    "### CD11c"
   ]
  },
  {
   "cell_type": "code",
   "execution_count": 10,
   "id": "f22189f6",
   "metadata": {},
   "outputs": [],
   "source": [
    "sce <- readRDS('h5ad/df.fil3_gex_bcells_vdj_sce_B_CD11c_prog.RDS')\n",
    "y <- prep_sce(sce)"
   ]
  },
  {
   "cell_type": "code",
   "execution_count": 11,
   "id": "1d158516",
   "metadata": {
    "scrolled": false
   },
   "outputs": [
    {
     "name": "stdout",
     "output_type": "stream",
     "text": [
      "[1] \"prognosiswill_improve\"\n"
     ]
    },
    {
     "data": {
      "text/html": [
       "<table class=\"dataframe\">\n",
       "<caption>A data.frame: 2 × 5</caption>\n",
       "<thead>\n",
       "\t<tr><th></th><th scope=col>logFC</th><th scope=col>logCPM</th><th scope=col>F</th><th scope=col>PValue</th><th scope=col>FDR</th></tr>\n",
       "\t<tr><th></th><th scope=col>&lt;dbl&gt;</th><th scope=col>&lt;dbl&gt;</th><th scope=col>&lt;dbl&gt;</th><th scope=col>&lt;dbl&gt;</th><th scope=col>&lt;dbl&gt;</th></tr>\n",
       "</thead>\n",
       "<tbody>\n",
       "\t<tr><th scope=row>RPS28</th><td>-1.613656</td><td>12.305087</td><td>23.45563</td><td>3.613437e-06</td><td>0.01515475</td></tr>\n",
       "\t<tr><th scope=row>PCIF1</th><td>-6.316215</td><td> 6.939713</td><td>19.37047</td><td>2.242169e-05</td><td>0.04701829</td></tr>\n",
       "</tbody>\n",
       "</table>\n"
      ],
      "text/latex": [
       "A data.frame: 2 × 5\n",
       "\\begin{tabular}{r|lllll}\n",
       "  & logFC & logCPM & F & PValue & FDR\\\\\n",
       "  & <dbl> & <dbl> & <dbl> & <dbl> & <dbl>\\\\\n",
       "\\hline\n",
       "\tRPS28 & -1.613656 & 12.305087 & 23.45563 & 3.613437e-06 & 0.01515475\\\\\n",
       "\tPCIF1 & -6.316215 &  6.939713 & 19.37047 & 2.242169e-05 & 0.04701829\\\\\n",
       "\\end{tabular}\n"
      ],
      "text/markdown": [
       "\n",
       "A data.frame: 2 × 5\n",
       "\n",
       "| <!--/--> | logFC &lt;dbl&gt; | logCPM &lt;dbl&gt; | F &lt;dbl&gt; | PValue &lt;dbl&gt; | FDR &lt;dbl&gt; |\n",
       "|---|---|---|---|---|---|\n",
       "| RPS28 | -1.613656 | 12.305087 | 23.45563 | 3.613437e-06 | 0.01515475 |\n",
       "| PCIF1 | -6.316215 |  6.939713 | 19.37047 | 2.242169e-05 | 0.04701829 |\n",
       "\n"
      ],
      "text/plain": [
       "      logFC     logCPM    F        PValue       FDR       \n",
       "RPS28 -1.613656 12.305087 23.45563 3.613437e-06 0.01515475\n",
       "PCIF1 -6.316215  6.939713 19.37047 2.242169e-05 0.04701829"
      ]
     },
     "metadata": {},
     "output_type": "display_data"
    },
    {
     "name": "stdout",
     "output_type": "stream",
     "text": [
      "[1] \"prognosiswill_worsen\"\n"
     ]
    },
    {
     "data": {
      "text/html": [
       "<table class=\"dataframe\">\n",
       "<caption>A data.frame: 1 × 5</caption>\n",
       "<thead>\n",
       "\t<tr><th></th><th scope=col>logFC</th><th scope=col>logCPM</th><th scope=col>F</th><th scope=col>PValue</th><th scope=col>FDR</th></tr>\n",
       "\t<tr><th></th><th scope=col>&lt;dbl&gt;</th><th scope=col>&lt;dbl&gt;</th><th scope=col>&lt;dbl&gt;</th><th scope=col>&lt;dbl&gt;</th><th scope=col>&lt;dbl&gt;</th></tr>\n",
       "</thead>\n",
       "<tbody>\n",
       "\t<tr><th scope=row>JUND</th><td>-5.441748</td><td>10.64338</td><td>47.23986</td><td>4.352746e-09</td><td>1.825542e-05</td></tr>\n",
       "</tbody>\n",
       "</table>\n"
      ],
      "text/latex": [
       "A data.frame: 1 × 5\n",
       "\\begin{tabular}{r|lllll}\n",
       "  & logFC & logCPM & F & PValue & FDR\\\\\n",
       "  & <dbl> & <dbl> & <dbl> & <dbl> & <dbl>\\\\\n",
       "\\hline\n",
       "\tJUND & -5.441748 & 10.64338 & 47.23986 & 4.352746e-09 & 1.825542e-05\\\\\n",
       "\\end{tabular}\n"
      ],
      "text/markdown": [
       "\n",
       "A data.frame: 1 × 5\n",
       "\n",
       "| <!--/--> | logFC &lt;dbl&gt; | logCPM &lt;dbl&gt; | F &lt;dbl&gt; | PValue &lt;dbl&gt; | FDR &lt;dbl&gt; |\n",
       "|---|---|---|---|---|---|\n",
       "| JUND | -5.441748 | 10.64338 | 47.23986 | 4.352746e-09 | 1.825542e-05 |\n",
       "\n"
      ],
      "text/plain": [
       "     logFC     logCPM   F        PValue       FDR         \n",
       "JUND -5.441748 10.64338 47.23986 4.352746e-09 1.825542e-05"
      ]
     },
     "metadata": {},
     "output_type": "display_data"
    }
   ],
   "source": [
    "mdl <- model.matrix(~ prognosis + sex + ethnicity + age_scaled + centre, data=y$samples)\n",
    "fit <- testDGElist_edger(y, mdl)\n",
    "res1 <- glmQLFTest(fit, coef='prognosiswill_improve')\n",
    "res2 <- glmQLFTest(fit, coef='prognosiswill_worsen')\n",
    "print('prognosiswill_improve')\n",
    "if(any(topTags(res1,n=nrow(y))$table$FDR < 0.05)){\n",
    "    topTags(res1,n=nrow(y))$table[topTags(res1,n=nrow(y))$table$FDR < 0.05, ]\n",
    "}\n",
    "print('prognosiswill_worsen')\n",
    "if(any(topTags(res2,n=nrow(y))$table$FDR < 0.05)){\n",
    "    topTags(res2,n=nrow(y))$table[topTags(res2,n=nrow(y))$table$FDR < 0.05, ]\n",
    "}"
   ]
  },
  {
   "cell_type": "markdown",
   "id": "4cac30b6",
   "metadata": {},
   "source": [
    "### All memory"
   ]
  },
  {
   "cell_type": "code",
   "execution_count": 12,
   "id": "8d2efa22",
   "metadata": {},
   "outputs": [],
   "source": [
    "sce <- readRDS('h5ad/df.fil3_gex_bcells_vdj_sce_B_mem_all_prog.RDS')\n",
    "y <- prep_sce(sce)"
   ]
  },
  {
   "cell_type": "code",
   "execution_count": 13,
   "id": "edb809d1",
   "metadata": {
    "scrolled": false
   },
   "outputs": [
    {
     "name": "stdout",
     "output_type": "stream",
     "text": [
      "[1] \"prognosiswill_improve\"\n"
     ]
    },
    {
     "data": {
      "text/html": [
       "<table class=\"dataframe\">\n",
       "<caption>A data.frame: 1 × 5</caption>\n",
       "<thead>\n",
       "\t<tr><th></th><th scope=col>logFC</th><th scope=col>logCPM</th><th scope=col>F</th><th scope=col>PValue</th><th scope=col>FDR</th></tr>\n",
       "\t<tr><th></th><th scope=col>&lt;dbl&gt;</th><th scope=col>&lt;dbl&gt;</th><th scope=col>&lt;dbl&gt;</th><th scope=col>&lt;dbl&gt;</th><th scope=col>&lt;dbl&gt;</th></tr>\n",
       "</thead>\n",
       "<tbody>\n",
       "\t<tr><th scope=row>NR4A2</th><td>-1.52748</td><td>5.940416</td><td>26.87522</td><td>1.438281e-06</td><td>0.00817519</td></tr>\n",
       "</tbody>\n",
       "</table>\n"
      ],
      "text/latex": [
       "A data.frame: 1 × 5\n",
       "\\begin{tabular}{r|lllll}\n",
       "  & logFC & logCPM & F & PValue & FDR\\\\\n",
       "  & <dbl> & <dbl> & <dbl> & <dbl> & <dbl>\\\\\n",
       "\\hline\n",
       "\tNR4A2 & -1.52748 & 5.940416 & 26.87522 & 1.438281e-06 & 0.00817519\\\\\n",
       "\\end{tabular}\n"
      ],
      "text/markdown": [
       "\n",
       "A data.frame: 1 × 5\n",
       "\n",
       "| <!--/--> | logFC &lt;dbl&gt; | logCPM &lt;dbl&gt; | F &lt;dbl&gt; | PValue &lt;dbl&gt; | FDR &lt;dbl&gt; |\n",
       "|---|---|---|---|---|---|\n",
       "| NR4A2 | -1.52748 | 5.940416 | 26.87522 | 1.438281e-06 | 0.00817519 |\n",
       "\n"
      ],
      "text/plain": [
       "      logFC    logCPM   F        PValue       FDR       \n",
       "NR4A2 -1.52748 5.940416 26.87522 1.438281e-06 0.00817519"
      ]
     },
     "metadata": {},
     "output_type": "display_data"
    },
    {
     "name": "stdout",
     "output_type": "stream",
     "text": [
      "[1] \"prognosiswill_worsen\"\n"
     ]
    }
   ],
   "source": [
    "mdl <- model.matrix(~ prognosis + sex + ethnicity + age_scaled + centre, data=y$samples)\n",
    "fit <- testDGElist_edger(y, mdl)\n",
    "res1 <- glmQLFTest(fit, coef='prognosiswill_improve')\n",
    "res2 <- glmQLFTest(fit, coef='prognosiswill_worsen')\n",
    "print('prognosiswill_improve')\n",
    "if(any(topTags(res1,n=nrow(y))$table$FDR < 0.05)){\n",
    "    topTags(res1,n=nrow(y))$table[topTags(res1,n=nrow(y))$table$FDR < 0.05, ]\n",
    "}\n",
    "print('prognosiswill_worsen')\n",
    "if(any(topTags(res2,n=nrow(y))$table$FDR < 0.05)){\n",
    "    topTags(res2,n=nrow(y))$table[topTags(res2,n=nrow(y))$table$FDR < 0.05, ]\n",
    "}"
   ]
  },
  {
   "cell_type": "markdown",
   "id": "93622605",
   "metadata": {},
   "source": [
    "### All ASCs"
   ]
  },
  {
   "cell_type": "code",
   "execution_count": 14,
   "id": "09242553",
   "metadata": {},
   "outputs": [],
   "source": [
    "sce <- readRDS('h5ad/df.fil3_gex_bcells_vdj_sce_B_ASC_all_prog.RDS')\n",
    "y <- prep_sce(sce)"
   ]
  },
  {
   "cell_type": "code",
   "execution_count": 15,
   "id": "25f7b410",
   "metadata": {
    "scrolled": false
   },
   "outputs": [
    {
     "name": "stdout",
     "output_type": "stream",
     "text": [
      "[1] \"prognosiswill_improve\"\n",
      "[1] \"prognosiswill_worsen\"\n"
     ]
    },
    {
     "data": {
      "text/html": [
       "<table class=\"dataframe\">\n",
       "<caption>A data.frame: 4 × 5</caption>\n",
       "<thead>\n",
       "\t<tr><th></th><th scope=col>logFC</th><th scope=col>logCPM</th><th scope=col>F</th><th scope=col>PValue</th><th scope=col>FDR</th></tr>\n",
       "\t<tr><th></th><th scope=col>&lt;dbl&gt;</th><th scope=col>&lt;dbl&gt;</th><th scope=col>&lt;dbl&gt;</th><th scope=col>&lt;dbl&gt;</th><th scope=col>&lt;dbl&gt;</th></tr>\n",
       "</thead>\n",
       "<tbody>\n",
       "\t<tr><th scope=row>CCL3</th><td>13.324431</td><td>4.368481</td><td>79.18446</td><td>8.997033e-10</td><td>8.542683e-06</td></tr>\n",
       "\t<tr><th scope=row>HIST1H2AI</th><td>11.719482</td><td>4.313584</td><td>60.01764</td><td>1.566622e-08</td><td>7.437539e-05</td></tr>\n",
       "\t<tr><th scope=row>U62317.5</th><td> 7.116824</td><td>4.322021</td><td>35.32142</td><td>1.889886e-06</td><td>5.981490e-03</td></tr>\n",
       "\t<tr><th scope=row>HIST1H2AH</th><td> 6.946506</td><td>4.315641</td><td>29.59523</td><td>7.560228e-06</td><td>1.794609e-02</td></tr>\n",
       "</tbody>\n",
       "</table>\n"
      ],
      "text/latex": [
       "A data.frame: 4 × 5\n",
       "\\begin{tabular}{r|lllll}\n",
       "  & logFC & logCPM & F & PValue & FDR\\\\\n",
       "  & <dbl> & <dbl> & <dbl> & <dbl> & <dbl>\\\\\n",
       "\\hline\n",
       "\tCCL3 & 13.324431 & 4.368481 & 79.18446 & 8.997033e-10 & 8.542683e-06\\\\\n",
       "\tHIST1H2AI & 11.719482 & 4.313584 & 60.01764 & 1.566622e-08 & 7.437539e-05\\\\\n",
       "\tU62317.5 &  7.116824 & 4.322021 & 35.32142 & 1.889886e-06 & 5.981490e-03\\\\\n",
       "\tHIST1H2AH &  6.946506 & 4.315641 & 29.59523 & 7.560228e-06 & 1.794609e-02\\\\\n",
       "\\end{tabular}\n"
      ],
      "text/markdown": [
       "\n",
       "A data.frame: 4 × 5\n",
       "\n",
       "| <!--/--> | logFC &lt;dbl&gt; | logCPM &lt;dbl&gt; | F &lt;dbl&gt; | PValue &lt;dbl&gt; | FDR &lt;dbl&gt; |\n",
       "|---|---|---|---|---|---|\n",
       "| CCL3 | 13.324431 | 4.368481 | 79.18446 | 8.997033e-10 | 8.542683e-06 |\n",
       "| HIST1H2AI | 11.719482 | 4.313584 | 60.01764 | 1.566622e-08 | 7.437539e-05 |\n",
       "| U62317.5 |  7.116824 | 4.322021 | 35.32142 | 1.889886e-06 | 5.981490e-03 |\n",
       "| HIST1H2AH |  6.946506 | 4.315641 | 29.59523 | 7.560228e-06 | 1.794609e-02 |\n",
       "\n"
      ],
      "text/plain": [
       "          logFC     logCPM   F        PValue       FDR         \n",
       "CCL3      13.324431 4.368481 79.18446 8.997033e-10 8.542683e-06\n",
       "HIST1H2AI 11.719482 4.313584 60.01764 1.566622e-08 7.437539e-05\n",
       "U62317.5   7.116824 4.322021 35.32142 1.889886e-06 5.981490e-03\n",
       "HIST1H2AH  6.946506 4.315641 29.59523 7.560228e-06 1.794609e-02"
      ]
     },
     "metadata": {},
     "output_type": "display_data"
    }
   ],
   "source": [
    "mdl <- model.matrix(~ prognosis + sex + ethnicity + age_scaled + centre, data=y$samples)\n",
    "fit <- testDGElist_edger(y, mdl)\n",
    "res1 <- glmQLFTest(fit, coef='prognosiswill_improve')\n",
    "res2 <- glmQLFTest(fit, coef='prognosiswill_worsen')\n",
    "print('prognosiswill_improve')\n",
    "if(any(topTags(res1,n=nrow(y))$table$FDR < 0.05)){\n",
    "    topTags(res1,n=nrow(y))$table[topTags(res1,n=nrow(y))$table$FDR < 0.05, ]\n",
    "}\n",
    "print('prognosiswill_worsen')\n",
    "if(any(topTags(res2,n=nrow(y))$table$FDR < 0.05)){\n",
    "    topTags(res2,n=nrow(y))$table[topTags(res2,n=nrow(y))$table$FDR < 0.05, ]\n",
    "}"
   ]
  },
  {
   "cell_type": "markdown",
   "id": "db65f34a",
   "metadata": {},
   "source": [
    "### Switched ASCs"
   ]
  },
  {
   "cell_type": "code",
   "execution_count": 16,
   "id": "fff83c91",
   "metadata": {},
   "outputs": [],
   "source": [
    "sce <- readRDS('h5ad/df.fil3_gex_bcells_vdj_sce_B_ASC_switched_prog.RDS')\n",
    "y <- prep_sce(sce)"
   ]
  },
  {
   "cell_type": "code",
   "execution_count": 17,
   "id": "a525cc9c",
   "metadata": {
    "scrolled": false
   },
   "outputs": [
    {
     "name": "stdout",
     "output_type": "stream",
     "text": [
      "[1] \"prognosiswill_improve\"\n",
      "[1] \"prognosiswill_worsen\"\n"
     ]
    },
    {
     "data": {
      "text/html": [
       "<table class=\"dataframe\">\n",
       "<caption>A data.frame: 2 × 5</caption>\n",
       "<thead>\n",
       "\t<tr><th></th><th scope=col>logFC</th><th scope=col>logCPM</th><th scope=col>F</th><th scope=col>PValue</th><th scope=col>FDR</th></tr>\n",
       "\t<tr><th></th><th scope=col>&lt;dbl&gt;</th><th scope=col>&lt;dbl&gt;</th><th scope=col>&lt;dbl&gt;</th><th scope=col>&lt;dbl&gt;</th><th scope=col>&lt;dbl&gt;</th></tr>\n",
       "</thead>\n",
       "<tbody>\n",
       "\t<tr><th scope=row>U62317.5</th><td> 7.408952</td><td>4.360205</td><td>36.41026</td><td>2.032139e-06</td><td>0.01811449</td></tr>\n",
       "\t<tr><th scope=row>HIST1H2AI</th><td>11.741972</td><td>4.393400</td><td>39.24294</td><td>5.162387e-06</td><td>0.02300876</td></tr>\n",
       "</tbody>\n",
       "</table>\n"
      ],
      "text/latex": [
       "A data.frame: 2 × 5\n",
       "\\begin{tabular}{r|lllll}\n",
       "  & logFC & logCPM & F & PValue & FDR\\\\\n",
       "  & <dbl> & <dbl> & <dbl> & <dbl> & <dbl>\\\\\n",
       "\\hline\n",
       "\tU62317.5 &  7.408952 & 4.360205 & 36.41026 & 2.032139e-06 & 0.01811449\\\\\n",
       "\tHIST1H2AI & 11.741972 & 4.393400 & 39.24294 & 5.162387e-06 & 0.02300876\\\\\n",
       "\\end{tabular}\n"
      ],
      "text/markdown": [
       "\n",
       "A data.frame: 2 × 5\n",
       "\n",
       "| <!--/--> | logFC &lt;dbl&gt; | logCPM &lt;dbl&gt; | F &lt;dbl&gt; | PValue &lt;dbl&gt; | FDR &lt;dbl&gt; |\n",
       "|---|---|---|---|---|---|\n",
       "| U62317.5 |  7.408952 | 4.360205 | 36.41026 | 2.032139e-06 | 0.01811449 |\n",
       "| HIST1H2AI | 11.741972 | 4.393400 | 39.24294 | 5.162387e-06 | 0.02300876 |\n",
       "\n"
      ],
      "text/plain": [
       "          logFC     logCPM   F        PValue       FDR       \n",
       "U62317.5   7.408952 4.360205 36.41026 2.032139e-06 0.01811449\n",
       "HIST1H2AI 11.741972 4.393400 39.24294 5.162387e-06 0.02300876"
      ]
     },
     "metadata": {},
     "output_type": "display_data"
    }
   ],
   "source": [
    "mdl <- model.matrix(~ prognosis + sex + ethnicity + age_scaled + centre, data=y$samples)\n",
    "fit <- testDGElist_edger(y, mdl)\n",
    "res1 <- glmQLFTest(fit, coef='prognosiswill_improve')\n",
    "res2 <- glmQLFTest(fit, coef='prognosiswill_worsen')\n",
    "print('prognosiswill_improve')\n",
    "if(any(topTags(res1,n=nrow(y))$table$FDR < 0.05)){\n",
    "    topTags(res1,n=nrow(y))$table[topTags(res1,n=nrow(y))$table$FDR < 0.05, ]\n",
    "}\n",
    "print('prognosiswill_worsen')\n",
    "if(any(topTags(res2,n=nrow(y))$table$FDR < 0.05)){\n",
    "    topTags(res2,n=nrow(y))$table[topTags(res2,n=nrow(y))$table$FDR < 0.05, ]\n",
    "}"
   ]
  },
  {
   "cell_type": "code",
   "execution_count": null,
   "id": "55c6216e",
   "metadata": {},
   "outputs": [],
   "source": []
  }
 ],
 "metadata": {
  "kernelspec": {
   "display_name": "R",
   "language": "R",
   "name": "ir"
  },
  "language_info": {
   "codemirror_mode": "r",
   "file_extension": ".r",
   "mimetype": "text/x-r-source",
   "name": "R",
   "pygments_lexer": "r",
   "version": "4.0.3"
  }
 },
 "nbformat": 4,
 "nbformat_minor": 5
}
