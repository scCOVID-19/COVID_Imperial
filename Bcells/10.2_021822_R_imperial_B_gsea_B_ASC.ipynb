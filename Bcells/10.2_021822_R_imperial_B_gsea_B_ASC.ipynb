{
 "cells": [
  {
   "cell_type": "code",
   "execution_count": 1,
   "id": "c919b46d",
   "metadata": {},
   "outputs": [
    {
     "name": "stderr",
     "output_type": "stream",
     "text": [
      "Registered S3 methods overwritten by 'lme4':\n",
      "  method                          from\n",
      "  cooks.distance.influence.merMod car \n",
      "  influence.merMod                car \n",
      "  dfbeta.influence.merMod         car \n",
      "  dfbetas.influence.merMod        car \n",
      "\n"
     ]
    }
   ],
   "source": [
    "library(glmmSeq)\n",
    "setwd('/lustre/scratch117/cellgen/team297/kt16/COVID_imperial_renal/')"
   ]
  },
  {
   "cell_type": "code",
   "execution_count": 3,
   "id": "e2baf84c",
   "metadata": {},
   "outputs": [
    {
     "data": {
      "text/html": [
       "<style>\n",
       ".list-inline {list-style: none; margin:0; padding: 0}\n",
       ".list-inline>li {display: inline-block}\n",
       ".list-inline>li:not(:last-child)::after {content: \"\\00b7\"; padding: 0 .5ex}\n",
       "</style>\n",
       "<ol class=list-inline><li>'res1'</li><li>'res2'</li><li>'res3'</li><li>'results1'</li><li>'results2'</li><li>'results3'</li></ol>\n"
      ],
      "text/latex": [
       "\\begin{enumerate*}\n",
       "\\item 'res1'\n",
       "\\item 'res2'\n",
       "\\item 'res3'\n",
       "\\item 'results1'\n",
       "\\item 'results2'\n",
       "\\item 'results3'\n",
       "\\end{enumerate*}\n"
      ],
      "text/markdown": [
       "1. 'res1'\n",
       "2. 'res2'\n",
       "3. 'res3'\n",
       "4. 'results1'\n",
       "5. 'results2'\n",
       "6. 'results3'\n",
       "\n",
       "\n"
      ],
      "text/plain": [
       "[1] \"res1\"     \"res2\"     \"res3\"     \"results1\" \"results2\" \"results3\""
      ]
     },
     "metadata": {},
     "output_type": "display_data"
    }
   ],
   "source": [
    "load('h5ad/df.fil3_gex_bcells_vdj_sce_ASC_all_deg.RData')\n",
    "ls()"
   ]
  },
  {
   "cell_type": "code",
   "execution_count": 4,
   "id": "1541a80a",
   "metadata": {
    "scrolled": true
   },
   "outputs": [
    {
     "name": "stderr",
     "output_type": "stream",
     "text": [
      "\n",
      "Attaching package: ‘dplyr’\n",
      "\n",
      "\n",
      "The following objects are masked from ‘package:stats’:\n",
      "\n",
      "    filter, lag\n",
      "\n",
      "\n",
      "The following objects are masked from ‘package:base’:\n",
      "\n",
      "    intersect, setdiff, setequal, union\n",
      "\n",
      "\n"
     ]
    }
   ],
   "source": [
    "library(dplyr)\n",
    "makeGeneList <- function(gl, beta_column='LFC'){\n",
    "    y <- grepl('^RPS|^RPL|^MT-', row.names(gl))\n",
    "    gl <- gl[!y, ]\n",
    "    rank <- -log10(gl$pval) * sign(gl[,beta_column])\n",
    "    rank[which(rank == Inf)] <- 300\n",
    "    rank[which(rank == -Inf)] <- 300\n",
    "    names(rank) <- row.names(gl)\n",
    "    rank <- rev(sort(rank))\n",
    "    gl <- rank\n",
    "    return(gl)\n",
    "}"
   ]
  },
  {
   "cell_type": "code",
   "execution_count": 5,
   "id": "10e3686f",
   "metadata": {},
   "outputs": [
    {
     "data": {
      "text/html": [
       "<table class=\"dataframe\">\n",
       "<caption>A data.frame: 6 × 6</caption>\n",
       "<thead>\n",
       "\t<tr><th></th><th scope=col>fixed-effects estimates</th><th scope=col>pval</th><th scope=col>qval</th><th scope=col>LFC</th><th scope=col>Singular</th><th scope=col>Conv</th></tr>\n",
       "\t<tr><th></th><th scope=col>&lt;dbl&gt;</th><th scope=col>&lt;dbl&gt;</th><th scope=col>&lt;dbl&gt;</th><th scope=col>&lt;dbl&gt;</th><th scope=col>&lt;dbl&gt;</th><th scope=col>&lt;dbl&gt;</th></tr>\n",
       "</thead>\n",
       "<tbody>\n",
       "\t<tr><th scope=row>FAM92B</th><td>1.669524</td><td> 1.153432e-04</td><td> 5.224113e-04</td><td>1.854373</td><td>0</td><td>0</td></tr>\n",
       "\t<tr><th scope=row>AC233755.1</th><td>1.523223</td><td>1.807601e-148</td><td>1.416596e-147</td><td>2.195236</td><td>0</td><td>0</td></tr>\n",
       "\t<tr><th scope=row>TUBB6</th><td>1.300332</td><td> 6.135999e-02</td><td> 9.375578e-02</td><td>1.346146</td><td>0</td><td>0</td></tr>\n",
       "\t<tr><th scope=row>COL24A1</th><td>1.275764</td><td> 1.776391e-03</td><td> 5.569583e-03</td><td>1.428700</td><td>0</td><td>0</td></tr>\n",
       "\t<tr><th scope=row>SMOX</th><td>1.236528</td><td> 4.365311e-04</td><td> 1.687069e-03</td><td>1.649244</td><td>0</td><td>0</td></tr>\n",
       "\t<tr><th scope=row>FAM78A</th><td>1.232011</td><td> 8.071723e-07</td><td> 4.889290e-06</td><td>1.464194</td><td>0</td><td>0</td></tr>\n",
       "</tbody>\n",
       "</table>\n"
      ],
      "text/latex": [
       "A data.frame: 6 × 6\n",
       "\\begin{tabular}{r|llllll}\n",
       "  & fixed-effects estimates & pval & qval & LFC & Singular & Conv\\\\\n",
       "  & <dbl> & <dbl> & <dbl> & <dbl> & <dbl> & <dbl>\\\\\n",
       "\\hline\n",
       "\tFAM92B & 1.669524 &  1.153432e-04 &  5.224113e-04 & 1.854373 & 0 & 0\\\\\n",
       "\tAC233755.1 & 1.523223 & 1.807601e-148 & 1.416596e-147 & 2.195236 & 0 & 0\\\\\n",
       "\tTUBB6 & 1.300332 &  6.135999e-02 &  9.375578e-02 & 1.346146 & 0 & 0\\\\\n",
       "\tCOL24A1 & 1.275764 &  1.776391e-03 &  5.569583e-03 & 1.428700 & 0 & 0\\\\\n",
       "\tSMOX & 1.236528 &  4.365311e-04 &  1.687069e-03 & 1.649244 & 0 & 0\\\\\n",
       "\tFAM78A & 1.232011 &  8.071723e-07 &  4.889290e-06 & 1.464194 & 0 & 0\\\\\n",
       "\\end{tabular}\n"
      ],
      "text/markdown": [
       "\n",
       "A data.frame: 6 × 6\n",
       "\n",
       "| <!--/--> | fixed-effects estimates &lt;dbl&gt; | pval &lt;dbl&gt; | qval &lt;dbl&gt; | LFC &lt;dbl&gt; | Singular &lt;dbl&gt; | Conv &lt;dbl&gt; |\n",
       "|---|---|---|---|---|---|---|\n",
       "| FAM92B | 1.669524 |  1.153432e-04 |  5.224113e-04 | 1.854373 | 0 | 0 |\n",
       "| AC233755.1 | 1.523223 | 1.807601e-148 | 1.416596e-147 | 2.195236 | 0 | 0 |\n",
       "| TUBB6 | 1.300332 |  6.135999e-02 |  9.375578e-02 | 1.346146 | 0 | 0 |\n",
       "| COL24A1 | 1.275764 |  1.776391e-03 |  5.569583e-03 | 1.428700 | 0 | 0 |\n",
       "| SMOX | 1.236528 |  4.365311e-04 |  1.687069e-03 | 1.649244 | 0 | 0 |\n",
       "| FAM78A | 1.232011 |  8.071723e-07 |  4.889290e-06 | 1.464194 | 0 | 0 |\n",
       "\n"
      ],
      "text/plain": [
       "           fixed-effects estimates pval          qval          LFC     \n",
       "FAM92B     1.669524                 1.153432e-04  5.224113e-04 1.854373\n",
       "AC233755.1 1.523223                1.807601e-148 1.416596e-147 2.195236\n",
       "TUBB6      1.300332                 6.135999e-02  9.375578e-02 1.346146\n",
       "COL24A1    1.275764                 1.776391e-03  5.569583e-03 1.428700\n",
       "SMOX       1.236528                 4.365311e-04  1.687069e-03 1.649244\n",
       "FAM78A     1.232011                 8.071723e-07  4.889290e-06 1.464194\n",
       "           Singular Conv\n",
       "FAM92B     0        0   \n",
       "AC233755.1 0        0   \n",
       "TUBB6      0        0   \n",
       "COL24A1    0        0   \n",
       "SMOX       0        0   \n",
       "FAM78A     0        0   "
      ]
     },
     "metadata": {},
     "output_type": "display_data"
    },
    {
     "data": {
      "text/html": [
       "<style>\n",
       ".list-inline {list-style: none; margin:0; padding: 0}\n",
       ".list-inline>li {display: inline-block}\n",
       ".list-inline>li:not(:last-child)::after {content: \"\\00b7\"; padding: 0 .5ex}\n",
       "</style>\n",
       "<ol class=list-inline><li>6289</li><li>6</li></ol>\n"
      ],
      "text/latex": [
       "\\begin{enumerate*}\n",
       "\\item 6289\n",
       "\\item 6\n",
       "\\end{enumerate*}\n"
      ],
      "text/markdown": [
       "1. 6289\n",
       "2. 6\n",
       "\n",
       "\n"
      ],
      "text/plain": [
       "[1] 6289    6"
      ]
     },
     "metadata": {},
     "output_type": "display_data"
    }
   ],
   "source": [
    "head(results1)\n",
    "dim(results1)"
   ]
  },
  {
   "cell_type": "code",
   "execution_count": 6,
   "id": "f89f2dfb",
   "metadata": {},
   "outputs": [
    {
     "data": {
      "text/html": [
       "<table class=\"dataframe\">\n",
       "<caption>A data.frame: 6 × 6</caption>\n",
       "<thead>\n",
       "\t<tr><th></th><th scope=col>fixed-effects estimates_linear</th><th scope=col>fixed-effects estimates_quadratic</th><th scope=col>pval</th><th scope=col>qval</th><th scope=col>Singular</th><th scope=col>Conv</th></tr>\n",
       "\t<tr><th></th><th scope=col>&lt;dbl&gt;</th><th scope=col>&lt;dbl&gt;</th><th scope=col>&lt;dbl&gt;</th><th scope=col>&lt;dbl&gt;</th><th scope=col>&lt;dbl&gt;</th><th scope=col>&lt;dbl&gt;</th></tr>\n",
       "</thead>\n",
       "<tbody>\n",
       "\t<tr><th scope=row>SYT1</th><td>13.231420</td><td>6.694806</td><td>9.314935e-05</td><td>1.760454e-04</td><td>0</td><td>0</td></tr>\n",
       "\t<tr><th scope=row>SLAMF1</th><td>11.261660</td><td>5.310984</td><td>4.910854e-07</td><td>1.433015e-06</td><td>0</td><td>0</td></tr>\n",
       "\t<tr><th scope=row>RECQL5</th><td>12.882421</td><td>5.228561</td><td>3.225524e-07</td><td>9.802739e-07</td><td>0</td><td>0</td></tr>\n",
       "\t<tr><th scope=row>POFUT1</th><td> 8.798114</td><td>4.762513</td><td>1.671598e-05</td><td>3.632185e-05</td><td>0</td><td>0</td></tr>\n",
       "\t<tr><th scope=row>MGA</th><td> 9.468402</td><td>4.463263</td><td>1.455255e-06</td><td>3.880008e-06</td><td>0</td><td>0</td></tr>\n",
       "\t<tr><th scope=row>FXR2</th><td>11.256019</td><td>4.443824</td><td>8.838819e-12</td><td>5.028712e-11</td><td>0</td><td>0</td></tr>\n",
       "</tbody>\n",
       "</table>\n"
      ],
      "text/latex": [
       "A data.frame: 6 × 6\n",
       "\\begin{tabular}{r|llllll}\n",
       "  & fixed-effects estimates\\_linear & fixed-effects estimates\\_quadratic & pval & qval & Singular & Conv\\\\\n",
       "  & <dbl> & <dbl> & <dbl> & <dbl> & <dbl> & <dbl>\\\\\n",
       "\\hline\n",
       "\tSYT1 & 13.231420 & 6.694806 & 9.314935e-05 & 1.760454e-04 & 0 & 0\\\\\n",
       "\tSLAMF1 & 11.261660 & 5.310984 & 4.910854e-07 & 1.433015e-06 & 0 & 0\\\\\n",
       "\tRECQL5 & 12.882421 & 5.228561 & 3.225524e-07 & 9.802739e-07 & 0 & 0\\\\\n",
       "\tPOFUT1 &  8.798114 & 4.762513 & 1.671598e-05 & 3.632185e-05 & 0 & 0\\\\\n",
       "\tMGA &  9.468402 & 4.463263 & 1.455255e-06 & 3.880008e-06 & 0 & 0\\\\\n",
       "\tFXR2 & 11.256019 & 4.443824 & 8.838819e-12 & 5.028712e-11 & 0 & 0\\\\\n",
       "\\end{tabular}\n"
      ],
      "text/markdown": [
       "\n",
       "A data.frame: 6 × 6\n",
       "\n",
       "| <!--/--> | fixed-effects estimates_linear &lt;dbl&gt; | fixed-effects estimates_quadratic &lt;dbl&gt; | pval &lt;dbl&gt; | qval &lt;dbl&gt; | Singular &lt;dbl&gt; | Conv &lt;dbl&gt; |\n",
       "|---|---|---|---|---|---|---|\n",
       "| SYT1 | 13.231420 | 6.694806 | 9.314935e-05 | 1.760454e-04 | 0 | 0 |\n",
       "| SLAMF1 | 11.261660 | 5.310984 | 4.910854e-07 | 1.433015e-06 | 0 | 0 |\n",
       "| RECQL5 | 12.882421 | 5.228561 | 3.225524e-07 | 9.802739e-07 | 0 | 0 |\n",
       "| POFUT1 |  8.798114 | 4.762513 | 1.671598e-05 | 3.632185e-05 | 0 | 0 |\n",
       "| MGA |  9.468402 | 4.463263 | 1.455255e-06 | 3.880008e-06 | 0 | 0 |\n",
       "| FXR2 | 11.256019 | 4.443824 | 8.838819e-12 | 5.028712e-11 | 0 | 0 |\n",
       "\n"
      ],
      "text/plain": [
       "       fixed-effects estimates_linear fixed-effects estimates_quadratic\n",
       "SYT1   13.231420                      6.694806                         \n",
       "SLAMF1 11.261660                      5.310984                         \n",
       "RECQL5 12.882421                      5.228561                         \n",
       "POFUT1  8.798114                      4.762513                         \n",
       "MGA     9.468402                      4.463263                         \n",
       "FXR2   11.256019                      4.443824                         \n",
       "       pval         qval         Singular Conv\n",
       "SYT1   9.314935e-05 1.760454e-04 0        0   \n",
       "SLAMF1 4.910854e-07 1.433015e-06 0        0   \n",
       "RECQL5 3.225524e-07 9.802739e-07 0        0   \n",
       "POFUT1 1.671598e-05 3.632185e-05 0        0   \n",
       "MGA    1.455255e-06 3.880008e-06 0        0   \n",
       "FXR2   8.838819e-12 5.028712e-11 0        0   "
      ]
     },
     "metadata": {},
     "output_type": "display_data"
    },
    {
     "data": {
      "text/html": [
       "<style>\n",
       ".list-inline {list-style: none; margin:0; padding: 0}\n",
       ".list-inline>li {display: inline-block}\n",
       ".list-inline>li:not(:last-child)::after {content: \"\\00b7\"; padding: 0 .5ex}\n",
       "</style>\n",
       "<ol class=list-inline><li>5593</li><li>6</li></ol>\n"
      ],
      "text/latex": [
       "\\begin{enumerate*}\n",
       "\\item 5593\n",
       "\\item 6\n",
       "\\end{enumerate*}\n"
      ],
      "text/markdown": [
       "1. 5593\n",
       "2. 6\n",
       "\n",
       "\n"
      ],
      "text/plain": [
       "[1] 5593    6"
      ]
     },
     "metadata": {},
     "output_type": "display_data"
    }
   ],
   "source": [
    "head(results2)\n",
    "dim(results2)"
   ]
  },
  {
   "cell_type": "code",
   "execution_count": 8,
   "id": "b9348f2c",
   "metadata": {},
   "outputs": [
    {
     "data": {
      "text/html": [
       "<table class=\"dataframe\">\n",
       "<caption>A data.frame: 6 × 6</caption>\n",
       "<thead>\n",
       "\t<tr><th></th><th scope=col>fixed-effects estimates</th><th scope=col>pval</th><th scope=col>qval</th><th scope=col>LFC</th><th scope=col>Singular</th><th scope=col>Conv</th></tr>\n",
       "\t<tr><th></th><th scope=col>&lt;dbl&gt;</th><th scope=col>&lt;dbl&gt;</th><th scope=col>&lt;dbl&gt;</th><th scope=col>&lt;dbl&gt;</th><th scope=col>&lt;dbl&gt;</th><th scope=col>&lt;dbl&gt;</th></tr>\n",
       "</thead>\n",
       "<tbody>\n",
       "\t<tr><th scope=row>FAM92B</th><td>2.132402</td><td>8.321060e-04</td><td>0.017375137</td><td>1.996935</td><td>0</td><td>0</td></tr>\n",
       "\t<tr><th scope=row>BFSP2</th><td>2.029216</td><td>4.210484e-05</td><td>0.002977612</td><td>1.861237</td><td>0</td><td>0</td></tr>\n",
       "\t<tr><th scope=row>IGHE</th><td>2.026011</td><td>8.420661e-02</td><td>0.091767186</td><td>2.201329</td><td>0</td><td>0</td></tr>\n",
       "\t<tr><th scope=row>IGHG1</th><td>2.019252</td><td>8.169906e-05</td><td>0.005461710</td><td>2.911088</td><td>0</td><td>0</td></tr>\n",
       "\t<tr><th scope=row>TCL1A</th><td>1.968036</td><td>2.934106e-04</td><td>0.013104536</td><td>1.896371</td><td>0</td><td>0</td></tr>\n",
       "\t<tr><th scope=row>ACOXL</th><td>1.860094</td><td>1.362752e-03</td><td>0.017375137</td><td>1.772690</td><td>0</td><td>0</td></tr>\n",
       "</tbody>\n",
       "</table>\n"
      ],
      "text/latex": [
       "A data.frame: 6 × 6\n",
       "\\begin{tabular}{r|llllll}\n",
       "  & fixed-effects estimates & pval & qval & LFC & Singular & Conv\\\\\n",
       "  & <dbl> & <dbl> & <dbl> & <dbl> & <dbl> & <dbl>\\\\\n",
       "\\hline\n",
       "\tFAM92B & 2.132402 & 8.321060e-04 & 0.017375137 & 1.996935 & 0 & 0\\\\\n",
       "\tBFSP2 & 2.029216 & 4.210484e-05 & 0.002977612 & 1.861237 & 0 & 0\\\\\n",
       "\tIGHE & 2.026011 & 8.420661e-02 & 0.091767186 & 2.201329 & 0 & 0\\\\\n",
       "\tIGHG1 & 2.019252 & 8.169906e-05 & 0.005461710 & 2.911088 & 0 & 0\\\\\n",
       "\tTCL1A & 1.968036 & 2.934106e-04 & 0.013104536 & 1.896371 & 0 & 0\\\\\n",
       "\tACOXL & 1.860094 & 1.362752e-03 & 0.017375137 & 1.772690 & 0 & 0\\\\\n",
       "\\end{tabular}\n"
      ],
      "text/markdown": [
       "\n",
       "A data.frame: 6 × 6\n",
       "\n",
       "| <!--/--> | fixed-effects estimates &lt;dbl&gt; | pval &lt;dbl&gt; | qval &lt;dbl&gt; | LFC &lt;dbl&gt; | Singular &lt;dbl&gt; | Conv &lt;dbl&gt; |\n",
       "|---|---|---|---|---|---|---|\n",
       "| FAM92B | 2.132402 | 8.321060e-04 | 0.017375137 | 1.996935 | 0 | 0 |\n",
       "| BFSP2 | 2.029216 | 4.210484e-05 | 0.002977612 | 1.861237 | 0 | 0 |\n",
       "| IGHE | 2.026011 | 8.420661e-02 | 0.091767186 | 2.201329 | 0 | 0 |\n",
       "| IGHG1 | 2.019252 | 8.169906e-05 | 0.005461710 | 2.911088 | 0 | 0 |\n",
       "| TCL1A | 1.968036 | 2.934106e-04 | 0.013104536 | 1.896371 | 0 | 0 |\n",
       "| ACOXL | 1.860094 | 1.362752e-03 | 0.017375137 | 1.772690 | 0 | 0 |\n",
       "\n"
      ],
      "text/plain": [
       "       fixed-effects estimates pval         qval        LFC      Singular Conv\n",
       "FAM92B 2.132402                8.321060e-04 0.017375137 1.996935 0        0   \n",
       "BFSP2  2.029216                4.210484e-05 0.002977612 1.861237 0        0   \n",
       "IGHE   2.026011                8.420661e-02 0.091767186 2.201329 0        0   \n",
       "IGHG1  2.019252                8.169906e-05 0.005461710 2.911088 0        0   \n",
       "TCL1A  1.968036                2.934106e-04 0.013104536 1.896371 0        0   \n",
       "ACOXL  1.860094                1.362752e-03 0.017375137 1.772690 0        0   "
      ]
     },
     "metadata": {},
     "output_type": "display_data"
    },
    {
     "data": {
      "text/html": [
       "<style>\n",
       ".list-inline {list-style: none; margin:0; padding: 0}\n",
       ".list-inline>li {display: inline-block}\n",
       ".list-inline>li:not(:last-child)::after {content: \"\\00b7\"; padding: 0 .5ex}\n",
       "</style>\n",
       "<ol class=list-inline><li>8361</li><li>6</li></ol>\n"
      ],
      "text/latex": [
       "\\begin{enumerate*}\n",
       "\\item 8361\n",
       "\\item 6\n",
       "\\end{enumerate*}\n"
      ],
      "text/markdown": [
       "1. 8361\n",
       "2. 6\n",
       "\n",
       "\n"
      ],
      "text/plain": [
       "[1] 8361    6"
      ]
     },
     "metadata": {},
     "output_type": "display_data"
    }
   ],
   "source": [
    "head(results3)\n",
    "dim(results3)"
   ]
  },
  {
   "cell_type": "code",
   "execution_count": 9,
   "id": "6711295e",
   "metadata": {},
   "outputs": [],
   "source": [
    "# head(results4)\n",
    "# dim(results4)"
   ]
  },
  {
   "cell_type": "code",
   "execution_count": 10,
   "id": "78156f97",
   "metadata": {},
   "outputs": [],
   "source": [
    "# head(results5)\n",
    "# dim(results5)"
   ]
  },
  {
   "cell_type": "code",
   "execution_count": 11,
   "id": "42dc30f5",
   "metadata": {},
   "outputs": [],
   "source": [
    "library(fgsea)\n",
    "library(msigdbr)"
   ]
  },
  {
   "cell_type": "code",
   "execution_count": 12,
   "id": "900eae83",
   "metadata": {},
   "outputs": [],
   "source": [
    "h <- data.frame(msigdbr::msigdbr(category = \"H\", species = 'Homo sapiens'))\n",
    "h <- split(h, h$gs_name)\n",
    "h <- lapply(h, function(x) x %>% dplyr::select(gene_symbol) %>% unlist %>% as.character)"
   ]
  },
  {
   "cell_type": "code",
   "execution_count": 13,
   "id": "74176acf",
   "metadata": {},
   "outputs": [],
   "source": [
    "plotGSEA_Hallmark <- function(gsea, fdr_cutoff = 0.05, cols = NULL, xlim = NULL, newlabels = NULL, keep_significant_only = TRUE, jitter = FALSE) {\n",
    "    require(ggplot2)\n",
    "    gsea$NES[which(is.na(gsea$NES))] <- 0\n",
    "    gsea$pval[which(is.na(gsea$pval))] <- 1\n",
    "    gsea$padj[which(is.na(gsea$padj))] <- 1\n",
    "    gsea$ranking[which(is.na(gsea$ranking))] <- 0\n",
    "    gsea <- gsea[order(gsea$ranking),]\n",
    "    \n",
    "    if (keep_significant_only){\n",
    "        gseax <- split(gsea, gsea$pathway)\n",
    "        for (i in 1:length(gseax)){\n",
    "            if (all(gseax[[i]]$pval >= 0.05)|all(gseax[[i]]$padj >=fdr_cutoff)){\n",
    "                gseax[[i]] <- NA        \n",
    "            }\n",
    "        }\n",
    "        gseax <- gseax[!is.na(gseax)]\n",
    "        gsea <- do.call(rbind, gseax)        \n",
    "    }\n",
    "    if (!is.null(gsea)){\n",
    "        gsea <- gsea[order(gsea$ranking), ]\n",
    "        gsea$pathway <- gsub(\"HALLMARK_|\", \"\", gsea$pathway)\n",
    "\n",
    "        if (!is.null(xlim)){\n",
    "            x_lim_min = -xlim\n",
    "            x_lim_max = xlim\n",
    "        } else {\n",
    "            x_lim_min <- abs(ceiling(min(-log10(gsea$padj))))\n",
    "            x_lim_max <- abs(ceiling(max(-log10(gsea$padj))))\n",
    "        }\n",
    "        \n",
    "        if(x_lim_min > x_lim_max){\n",
    "            xval1 <- x_lim_min * -1\n",
    "            xval2 <- x_lim_min\n",
    "        } else {\n",
    "            xval1 <- x_lim_max * -1\n",
    "            xval2 <- x_lim_max\n",
    "        }\n",
    "\n",
    "        if(!is.null(cols)){\n",
    "            gg_color_hue <- function(n) {\n",
    "                hues = seq(15, 375, length = n + 1)\n",
    "                hcl(h = hues, l = 65, c = 100)[1:n]\n",
    "            }\n",
    "            cols. = gg_color_hue(dplyr::n_distinct(gsea$group, na.rm = TRUE))\n",
    "        } else {\n",
    "            cols. = cols\n",
    "        }    \n",
    "    \n",
    "        g <- ggplot(gsea, aes(x = -log10(padj)*sign(NES), y = reorder(pathway, ranking), col = -log10(padj)*sign(NES), size = abs(NES)))\n",
    "        if (jitter){\n",
    "            g <- g + geom_point(position = 'jitter')\n",
    "        }else{\n",
    "            g <- g + geom_point()\n",
    "        }\n",
    "        g <- g + theme_bw() +\n",
    "            labs(x = expression(paste(\"Signed\", \" -log\" [\"10\"], \"adjusted pval\")), y = \"Hallmarks\") +\n",
    "            geom_vline(xintercept = 0) +\n",
    "            geom_vline(xintercept = -log10(fdr_cutoff)) +\n",
    "            geom_vline(xintercept = -log10(fdr_cutoff)*-1) +\n",
    "            scale_x_continuous(limits = c(xval1, xval2), oob = scales::squish) +\n",
    "            scale_size_area(oob = scales::squish, max_size = 3, limits = c(0,2)) +\n",
    "            theme(panel.grid.major = element_blank(), \n",
    "                panel.grid.minor = element_blank(), \n",
    "                panel.background = element_blank(), \n",
    "                axis.line = element_blank(), \n",
    "                axis.ticks = element_blank(),\n",
    "                axis.text = element_text(color = 'black'),\n",
    "                axis.title = element_text(color = 'black'))\n",
    "        \n",
    "        return(g)\n",
    "    }\n",
    "}"
   ]
  },
  {
   "cell_type": "code",
   "execution_count": 14,
   "id": "6597031d",
   "metadata": {},
   "outputs": [
    {
     "name": "stderr",
     "output_type": "stream",
     "text": [
      "Warning message in fgseaMultilevel(...):\n",
      "“There were 4 pathways for which P-values were not calculated properly due to unbalanced (positive and negative) gene-level statistic values. For such pathways pval, padj, NES, log2err are set to NA. You can try to increase the value of the argument nPermSimple (for example set it nPermSimple = 10000)”\n",
      "Loading required package: ggplot2\n",
      "\n"
     ]
    }
   ],
   "source": [
    "gl1 <- makeGeneList(results1)\n",
    "res1gsea <- fgsea(pathways = h, stats = gl1, minSize = 0, maxSize =1000)\n",
    "res1gsea$ranking <- -log10(res1gsea$pval) * sign(res1gsea$NES)\n",
    "plotGSEA_Hallmark(res1gsea)"
   ]
  },
  {
   "cell_type": "code",
   "execution_count": 15,
   "id": "9bdc5058",
   "metadata": {},
   "outputs": [
    {
     "name": "stderr",
     "output_type": "stream",
     "text": [
      "Warning message in fgseaMultilevel(...):\n",
      "“There were 3 pathways for which P-values were not calculated properly due to unbalanced (positive and negative) gene-level statistic values. For such pathways pval, padj, NES, log2err are set to NA. You can try to increase the value of the argument nPermSimple (for example set it nPermSimple = 10000)”\n"
     ]
    },
    {
     "data": {
      "image/png": "[encoded data removed]",
      "text/plain": [
       "plot without title"
      ]
     },
     "metadata": {
      "image/png": {
       "height": 420,
       "width": 420
      }
     },
     "output_type": "display_data"
    }
   ],
   "source": [
    "gl2 <- makeGeneList(results2, 'fixed-effects estimates_linear')\n",
    "res2gsea <- fgsea(pathways = h, stats = gl2, minSize = 0, maxSize =1000)\n",
    "res2gsea$ranking <- -log10(res2gsea$pval) * sign(res2gsea$NES)\n",
    "plotGSEA_Hallmark(res2gsea)"
   ]
  },
  {
   "cell_type": "code",
   "execution_count": 16,
   "id": "9e025d76",
   "metadata": {},
   "outputs": [
    {
     "name": "stderr",
     "output_type": "stream",
     "text": [
      "Warning message in fgseaMultilevel(...):\n",
      "“There were 4 pathways for which P-values were not calculated properly due to unbalanced (positive and negative) gene-level statistic values. For such pathways pval, padj, NES, log2err are set to NA. You can try to increase the value of the argument nPermSimple (for example set it nPermSimple = 10000)”\n"
     ]
    },
    {
     "data": {
      "image/png": "[encoded data removed]",
      "text/plain": [
       "plot without title"
      ]
     },
     "metadata": {
      "image/png": {
       "height": 420,
       "width": 420
      }
     },
     "output_type": "display_data"
    }
   ],
   "source": [
    "gl2 <- makeGeneList(results2, 'fixed-effects estimates_quadratic')\n",
    "res2gsea <- fgsea(pathways = h, stats = gl2, minSize = 0, maxSize =1000)\n",
    "res2gsea$ranking <- -log10(res2gsea$pval) * sign(res2gsea$NES)\n",
    "plotGSEA_Hallmark(res2gsea)"
   ]
  },
  {
   "cell_type": "code",
   "execution_count": 17,
   "id": "6df265e1",
   "metadata": {},
   "outputs": [
    {
     "name": "stderr",
     "output_type": "stream",
     "text": [
      "Warning message in fgseaMultilevel(...):\n",
      "“There were 2 pathways for which P-values were not calculated properly due to unbalanced (positive and negative) gene-level statistic values. For such pathways pval, padj, NES, log2err are set to NA. You can try to increase the value of the argument nPermSimple (for example set it nPermSimple = 10000)”\n"
     ]
    },
    {
     "data": {
      "image/png": "[encoded data removed]",
      "text/plain": [
       "plot without title"
      ]
     },
     "metadata": {
      "image/png": {
       "height": 420,
       "width": 420
      }
     },
     "output_type": "display_data"
    }
   ],
   "source": [
    "gl3 <- makeGeneList(results3)\n",
    "res3gsea <- fgsea(pathways = h, stats = gl3, minSize = 0, maxSize =1000)\n",
    "res3gsea$ranking <- -log10(res3gsea$pval) * sign(res3gsea$NES)\n",
    "plotGSEA_Hallmark(res3gsea)"
   ]
  },
  {
   "cell_type": "code",
   "execution_count": 18,
   "id": "d58f7f71",
   "metadata": {},
   "outputs": [],
   "source": [
    "# gl4 <- makeGeneList(results4)\n",
    "# res4gsea <- fgsea(pathways = h, stats = gl4, minSize = 0, maxSize =1000)\n",
    "# res4gsea$ranking <- -log10(res4gsea$pval) * sign(res4gsea$NES)\n",
    "# plotGSEA_Hallmark(res4gsea)"
   ]
  },
  {
   "cell_type": "code",
   "execution_count": 19,
   "id": "e1052808",
   "metadata": {},
   "outputs": [],
   "source": [
    "# res4gsea"
   ]
  },
  {
   "cell_type": "code",
   "execution_count": 20,
   "id": "dc65db50",
   "metadata": {},
   "outputs": [],
   "source": [
    "# res4gsea[res4gsea$pathway %in% c('HALLMARK_TNFA_SIGNALING_VIA_NFKB', 'HALLMARK_HYPOXIA', 'HALLMARK_INTERFERON_GAMMA_RESPONSE', 'HALLMARK_INFLAMMATORY_RESPONSE'),'leadingEdge']"
   ]
  },
  {
   "cell_type": "code",
   "execution_count": 21,
   "id": "1390bc7f",
   "metadata": {},
   "outputs": [],
   "source": [
    "# gl5 <- makeGeneList(results5)\n",
    "# res5gsea <- fgsea(pathways = h, stats = gl5, minSize = 0, maxSize =1000)\n",
    "# res5gsea$ranking <- -log10(res5gsea$pval) * sign(res5gsea$NES)\n",
    "# plotGSEA_Hallmark(res5gsea)"
   ]
  },
  {
   "cell_type": "code",
   "execution_count": null,
   "id": "328d67a8",
   "metadata": {},
   "outputs": [],
   "source": []
  }
 ],
 "metadata": {
  "kernelspec": {
   "display_name": "R",
   "language": "R",
   "name": "ir"
  },
  "language_info": {
   "codemirror_mode": "r",
   "file_extension": ".r",
   "mimetype": "text/x-r-source",
   "name": "R",
   "pygments_lexer": "r",
   "version": "4.0.3"
  }
 },
 "nbformat": 4,
 "nbformat_minor": 5
}
