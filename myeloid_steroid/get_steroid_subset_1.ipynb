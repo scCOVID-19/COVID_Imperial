{
 "cells": [
  {
   "cell_type": "code",
   "execution_count": 1,
   "id": "scientific-capability",
   "metadata": {},
   "outputs": [
    {
     "name": "stdout",
     "output_type": "stream",
     "text": [
      "scanpy==1.8.2 anndata==0.8.0 umap==0.5.2 numpy==1.21.0 scipy==1.8.0 pandas==1.4.2 scikit-learn==0.24.2 statsmodels==0.13.2 python-igraph==0.9.9 pynndescent==0.5.6\n"
     ]
    }
   ],
   "source": [
    "import matplotlib.pyplot as plt\n",
    "import matplotlib.image as mpimg\n",
    "import scanpy as sc\n",
    "import numpy as np\n",
    "import pandas as pd\n",
    "from matplotlib.pyplot import rc_context\n",
    "import pandas as pd\n",
    "import matplotlib.pyplot as plt\n",
    "pd.set_option('display.max_rows', 200)\n",
    "#sc.logging.print_versions() \n",
    "sc.logging.print_header()\n",
    "sc.settings.verbosity = 3  \n",
    "sc.settings.set_figure_params(dpi=120, color_map='viridis')"
   ]
  },
  {
   "cell_type": "code",
   "execution_count": 2,
   "id": "inappropriate-twenty",
   "metadata": {},
   "outputs": [],
   "source": [
    "adata = sc.read('/home/jovyan/mounting_point/renal_covid_19_gex_myeloid_soupX_QC_orig.ident_annotated_levle23.h5ad',cache=True) #annotated data"
   ]
  },
  {
   "cell_type": "code",
   "execution_count": null,
   "id": "irish-shape",
   "metadata": {},
   "outputs": [],
   "source": [
    "sc.pl.umap(adata,neighbors_key='X_pca_harmony_orig.ident',color=['annot4'], legend_fontsize = 7,legend_loc='on data')"
   ]
  },
  {
   "cell_type": "code",
   "execution_count": null,
   "id": "inside-primary",
   "metadata": {},
   "outputs": [],
   "source": [
    "list(adata.obs['annot4'].unique())"
   ]
  },
  {
   "cell_type": "code",
   "execution_count": null,
   "id": "polyphonic-session",
   "metadata": {},
   "outputs": [],
   "source": [
    "'C139' in list(adata.obs['sample_id_broad'].unique())"
   ]
  },
  {
   "cell_type": "code",
   "execution_count": null,
   "id": "eleven-communist",
   "metadata": {},
   "outputs": [],
   "source": [
    "'C116' in list(adata.obs['sample_id_broad'].unique())"
   ]
  },
  {
   "cell_type": "code",
   "execution_count": null,
   "id": "helpful-conversation",
   "metadata": {},
   "outputs": [],
   "source": [
    "'C141' in list(adata.obs['sample_id_broad'].unique())"
   ]
  },
  {
   "cell_type": "code",
   "execution_count": null,
   "id": "fancy-norway",
   "metadata": {},
   "outputs": [],
   "source": [
    "#remove C141 from the samples\n",
    "adata = adata[~adata.obs['sample_id_broad'].isin(['C141'])]"
   ]
  },
  {
   "cell_type": "code",
   "execution_count": null,
   "id": "ancient-broadway",
   "metadata": {},
   "outputs": [],
   "source": [
    "'C141' in list(adata.obs['sample_id_broad'].unique())"
   ]
  },
  {
   "cell_type": "code",
   "execution_count": null,
   "id": "selected-hunger",
   "metadata": {},
   "outputs": [],
   "source": [
    "#get monocyte only\n",
    "monocyte = adata[adata.obs['annot4'].isin(['CD14mono_activated','CD16mono','CD14mono','Int.mono','CD16mono_C1','CD16mono_IFN','CD14mono_IFN','CD14mono_anti_inflammatory'])]"
   ]
  },
  {
   "cell_type": "code",
   "execution_count": null,
   "id": "alone-religion",
   "metadata": {},
   "outputs": [],
   "source": [
    "list(monocyte.obs['annot4'].unique())"
   ]
  },
  {
   "cell_type": "code",
   "execution_count": null,
   "id": "systematic-overall",
   "metadata": {},
   "outputs": [],
   "source": [
    "list(monocyte.obs['case_control'].unique())"
   ]
  },
  {
   "cell_type": "code",
   "execution_count": null,
   "id": "entitled-clone",
   "metadata": {},
   "outputs": [],
   "source": [
    "#remove 'nan' from case_control\n",
    "monocyte = monocyte[monocyte.obs['case_control']!='nan']"
   ]
  },
  {
   "cell_type": "code",
   "execution_count": null,
   "id": "encouraging-collapse",
   "metadata": {},
   "outputs": [],
   "source": [
    "list(monocyte.obs['case_control'].unique())"
   ]
  },
  {
   "cell_type": "code",
   "execution_count": null,
   "id": "accredited-enzyme",
   "metadata": {},
   "outputs": [],
   "source": [
    "#getting p,n,r in wave 1 and wave 2\n",
    "\n",
    "monocyte.obs['wave_case_control']='nan'\n",
    "monocyte.obs.loc[(monocyte.obs[\"centre\"]=='NCL') &(monocyte.obs[\"case_control\"]=='POSITIVE'), \"wave_case_control\"] = 'wave1_positive'\n",
    "monocyte.obs.loc[(monocyte.obs[\"centre\"]=='NCL') &(monocyte.obs[\"case_control\"]=='NEGATIVE'), \"wave_case_control\"] = 'wave1_negative'\n",
    "monocyte.obs.loc[(monocyte.obs[\"centre\"]=='NCL') &(monocyte.obs[\"case_control\"]=='RECOVERY'), \"wave_case_control\"] = 'wave1_recovery'\n",
    "\n",
    "monocyte.obs.loc[(monocyte.obs[\"centre\"]=='Cambridge') &(monocyte.obs[\"case_control\"]=='POSITIVE'), \"wave_case_control\"] = 'wave2_positive'\n",
    "monocyte.obs.loc[(monocyte.obs[\"centre\"]=='Cambridge') &(monocyte.obs[\"case_control\"]=='NEGATIVE'), \"wave_case_control\"] = 'wave2_negative'\n",
    "monocyte.obs.loc[(monocyte.obs[\"centre\"]=='Cambridge') &(monocyte.obs[\"case_control\"]=='RECOVERY'), \"wave_case_control\"] = 'wave2_recovery'"
   ]
  },
  {
   "cell_type": "code",
   "execution_count": null,
   "id": "monetary-begin",
   "metadata": {},
   "outputs": [],
   "source": [
    "list(monocyte.obs['wave_case_control'].unique()) #wave 1 doesn't have recovery samples"
   ]
  },
  {
   "cell_type": "code",
   "execution_count": null,
   "id": "sharp-inspiration",
   "metadata": {},
   "outputs": [],
   "source": [
    "#test = monocyte[monocyte.obs['wave_case_control']=='wave2_recovery']\n",
    "#print (list(test.obs['case_control'].unique()))\n",
    "#print (list(test.obs['centre'].unique()))"
   ]
  },
  {
   "cell_type": "code",
   "execution_count": null,
   "id": "referenced-eagle",
   "metadata": {},
   "outputs": [],
   "source": [
    "df = pd.crosstab(monocyte.obs['wave_case_control'],monocyte.obs['annot4'])\n",
    "df"
   ]
  },
  {
   "cell_type": "code",
   "execution_count": null,
   "id": "cognitive-tonight",
   "metadata": {},
   "outputs": [],
   "source": [
    "df.columns = df.columns.add_categories(['wave'])\n",
    "df['wave'] = df.index # making index into column\n",
    "df"
   ]
  },
  {
   "cell_type": "code",
   "execution_count": null,
   "id": "contained-serum",
   "metadata": {},
   "outputs": [],
   "source": [
    "p1=df.plot(x='wave', kind='bar', stacked=True,\n",
    "        title='distribution of monocytes in Wave 1 and Wave 2')\n",
    "p1.set_ylabel(\"num of cells\")\n",
    "p1.set_xlabel(\" \")\n",
    "plt.grid(False)\n",
    "plt.legend(loc='center left', bbox_to_anchor=(1, 0.5))\n",
    "for p in p1.patches:\n",
    "        width, height = p.get_width(), p.get_height()\n",
    "        x, y = p.get_xy() \n",
    "        p1.text(x+width/2, \n",
    "            y+height/2, \n",
    "            '{:.0f}'.format(height), \n",
    "            horizontalalignment='center', \n",
    "            verticalalignment='center',rotation=0,size=7)  "
   ]
  },
  {
   "cell_type": "code",
   "execution_count": null,
   "id": "egyptian-cleaning",
   "metadata": {},
   "outputs": [],
   "source": [
    "#getting percentage\n",
    "cols = list(df.columns)\n",
    "cols = cols[:-1]\n",
    "df[cols] = df[cols].div(df[cols].sum(axis=1), axis=0).multiply(100)"
   ]
  },
  {
   "cell_type": "code",
   "execution_count": null,
   "id": "requested-prospect",
   "metadata": {},
   "outputs": [],
   "source": [
    "df"
   ]
  },
  {
   "cell_type": "code",
   "execution_count": null,
   "id": "moderate-iraqi",
   "metadata": {},
   "outputs": [],
   "source": [
    "df.sum(axis=1)"
   ]
  },
  {
   "cell_type": "code",
   "execution_count": null,
   "id": "thrown-princeton",
   "metadata": {},
   "outputs": [],
   "source": [
    "monocyte.obs['wave_case_control'].value_counts()"
   ]
  },
  {
   "cell_type": "code",
   "execution_count": null,
   "id": "successful-apple",
   "metadata": {},
   "outputs": [],
   "source": [
    "p2 = df.plot(x='wave', kind='bar', stacked=True,\n",
    "        title='distribution of monocytes in Wave1 and Wave2',figsize=(5,5))\n",
    "p2.set_ylabel('percentage')\n",
    "p2.set_xlabel('')\n",
    "plt.grid(False)\n",
    "plt.legend(loc='center left', bbox_to_anchor=(1, 0.5))\n",
    "for p in p2.patches:\n",
    "        width, height = p.get_width(), p.get_height()\n",
    "        x, y = p.get_xy() \n",
    "        p2.text(x+width/2, \n",
    "            y+height/2, \n",
    "            '{:.1f}'.format(height), \n",
    "            horizontalalignment='center', \n",
    "            verticalalignment='center',rotation=0,size=7)  \n",
    "\n",
    "\n",
    "\n",
    "\n",
    "p2.text(-0.2,101,'23749',fontsize=9)\n",
    "p2.text(0.8,101,'22846',fontsize=9)\n",
    "p2.text(1.8,101,'5364',fontsize=9)\n",
    "p2.text(2.8,101,'34215',fontsize=9)\n",
    "p2.text(3.8,101,'6008',fontsize=9)"
   ]
  },
  {
   "cell_type": "markdown",
   "id": "overall-basket",
   "metadata": {},
   "source": [
    "# Getting wave 2 only "
   ]
  },
  {
   "cell_type": "code",
   "execution_count": null,
   "id": "recent-variance",
   "metadata": {},
   "outputs": [],
   "source": [
    "monocyte_wave1 = monocyte[monocyte.obs['centre']=='NCL']\n",
    "monocyte_wave2 = monocyte[monocyte.obs['centre']=='Cambridge']"
   ]
  },
  {
   "cell_type": "code",
   "execution_count": null,
   "id": "referenced-pound",
   "metadata": {},
   "outputs": [],
   "source": [
    "monocyte_wave2.obs['case_control'].unique()"
   ]
  },
  {
   "cell_type": "code",
   "execution_count": null,
   "id": "close-citation",
   "metadata": {},
   "outputs": [],
   "source": [
    "# adding steroid status and case_control conditions\n",
    "\n",
    "monocyte_wave2.obs['steroid_status']='nan'\n",
    "\n",
    "monocyte_wave2.obs.loc[(monocyte_wave2.obs[\"sample_id_broad\"].isin(['C146',\n",
    "'C139',\n",
    "'C147',\n",
    "'C145',\n",
    "'C138',\n",
    "'C33',\n",
    "'C101',\n",
    "'C141'])) &(monocyte_wave2.obs['case_control']=='POSITIVE'), \"steroid_status\"] = 'steroid_positive'\n",
    "\n",
    "monocyte_wave2.obs.loc[(monocyte_wave2.obs[\"sample_id_broad\"].isin(['C146',\n",
    "'C139',\n",
    "'C147',\n",
    "'C145',\n",
    "'C138',\n",
    "'C33',\n",
    "'C101',\n",
    "'C141'])) &(monocyte_wave2.obs['case_control']=='NEGATIVE'), \"steroid_status\"] = 'steroid_negative'\n",
    "\n",
    "monocyte_wave2.obs.loc[(monocyte_wave2.obs[\"sample_id_broad\"].isin(['C146',\n",
    "'C139',\n",
    "'C147',\n",
    "'C145',\n",
    "'C138',\n",
    "'C33',\n",
    "'C101',\n",
    "'C141'])) &(monocyte_wave2.obs['case_control']=='RECOVERY'), \"steroid_status\"] = 'steroid_recovery'\n",
    "\n",
    "#####################\n",
    "\n",
    "monocyte_wave2.obs.loc[(monocyte_wave2.obs[\"sample_id_broad\"].isin(['C169',\n",
    "'C170',\n",
    "'C168',\n",
    "'C108',\n",
    "'C58',\n",
    "'C140',\n",
    "'C137',\n",
    "'C187',\n",
    "'C190']))&(monocyte_wave2.obs['case_control']=='POSITIVE'), \"steroid_status\"] = 'no_steroid_positive'\n",
    "\n",
    "monocyte_wave2.obs.loc[(monocyte_wave2.obs[\"sample_id_broad\"].isin(['C169',\n",
    "'C170',\n",
    "'C168',\n",
    "'C108',\n",
    "'C58',\n",
    "'C140',\n",
    "'C137',\n",
    "'C187',\n",
    "'C190']))&(monocyte_wave2.obs['case_control']=='NEGATIVE'), \"steroid_status\"] = 'no_steroid_negative'\n",
    "\n",
    "\n",
    "monocyte_wave2.obs.loc[(monocyte_wave2.obs[\"sample_id_broad\"].isin(['C169',\n",
    "'C170',\n",
    "'C168',\n",
    "'C108',\n",
    "'C58',\n",
    "'C140',\n",
    "'C137',\n",
    "'C187',\n",
    "'C190']))&(monocyte_wave2.obs['case_control']=='RECOVERY'), \"steroid_status\"] = 'no_steroid_recovery'\n",
    "\n"
   ]
  },
  {
   "cell_type": "code",
   "execution_count": null,
   "id": "human-rolling",
   "metadata": {},
   "outputs": [],
   "source": [
    "list(monocyte_wave2.obs['steroid_status'].unique())"
   ]
  },
  {
   "cell_type": "code",
   "execution_count": null,
   "id": "infinite-mapping",
   "metadata": {},
   "outputs": [],
   "source": [
    "#test = monocyte_wave2[monocyte_wave2.obs['steroid_status']=='steroid_negative']\n",
    "#print (test.obs['case_control'].unique())"
   ]
  },
  {
   "cell_type": "code",
   "execution_count": null,
   "id": "brave-demand",
   "metadata": {},
   "outputs": [],
   "source": [
    "df = pd.crosstab(monocyte_wave2.obs['steroid_status'],monocyte_wave2.obs['annot4'])\n",
    "df"
   ]
  },
  {
   "cell_type": "code",
   "execution_count": null,
   "id": "intellectual-civilian",
   "metadata": {},
   "outputs": [],
   "source": [
    "df.columns = df.columns.add_categories(['steroid_status'])\n",
    "df['steroid_status'] = df.index # making index into column\n",
    "df"
   ]
  },
  {
   "cell_type": "code",
   "execution_count": null,
   "id": "friendly-companion",
   "metadata": {},
   "outputs": [],
   "source": [
    "p1=df.plot(x='steroid_status', kind='bar', stacked=True,\n",
    "        title='distribution of monocytes in different steroid status')\n",
    "p1.set_xlabel('')\n",
    "p1.set_ylabel('number of cells')\n",
    "\n",
    "plt.grid(False)\n",
    "plt.legend(loc='center left', bbox_to_anchor=(1, 0.5))\n",
    "for p in p1.patches:\n",
    "        width, height = p.get_width(), p.get_height()\n",
    "        x, y = p.get_xy() \n",
    "        p1.text(x+width/2, \n",
    "            y+height/2, \n",
    "            '{:.0f}'.format(height), \n",
    "            horizontalalignment='center', \n",
    "            verticalalignment='center',rotation=0,size=7)  "
   ]
  },
  {
   "cell_type": "code",
   "execution_count": null,
   "id": "sexual-commerce",
   "metadata": {},
   "outputs": [],
   "source": [
    "cols = list(df.columns)\n",
    "cols = cols[:-1]\n",
    "df[cols] = df[cols].div(df[cols].sum(axis=1), axis=0).multiply(100)"
   ]
  },
  {
   "cell_type": "code",
   "execution_count": null,
   "id": "thrown-adjustment",
   "metadata": {},
   "outputs": [],
   "source": [
    "df.sum(axis=1)"
   ]
  },
  {
   "cell_type": "code",
   "execution_count": null,
   "id": "superb-relationship",
   "metadata": {},
   "outputs": [],
   "source": [
    "monocyte_wave2.obs['steroid_status'].value_counts()"
   ]
  },
  {
   "cell_type": "code",
   "execution_count": null,
   "id": "juvenile-subdivision",
   "metadata": {},
   "outputs": [],
   "source": [
    "p2 = df.plot(x='steroid_status', kind='bar', stacked=True,\n",
    "        title='distribution of monocytes in different steroid status',figsize=(5,5))\n",
    "plt.grid(False)\n",
    "plt.legend(loc='center left', bbox_to_anchor=(1, 0.5))\n",
    "p2.set_xlabel('')\n",
    "p2.set_ylabel('percentage')\n",
    "for p in p2.patches:\n",
    "        width, height = p.get_width(), p.get_height()\n",
    "        x, y = p.get_xy() \n",
    "        p2.text(x+width/2, \n",
    "            y+height/2, \n",
    "            '{:.1f}'.format(height), \n",
    "            horizontalalignment='center', \n",
    "            verticalalignment='center',rotation=0,size=7)  \n",
    "\n",
    "\n",
    "p2.text(-0.2,101,'4107',fontsize=9)\n",
    "p2.text(0.8,101,'21413',fontsize=9)\n",
    "p2.text(1.8,101,'5033',fontsize=9)\n",
    "p2.text(2.8,101,'1257',fontsize=9)\n",
    "p2.text(3.8,101,'12802',fontsize=9)\n",
    "p2.text(4.8,101,'975',fontsize=9)"
   ]
  },
  {
   "cell_type": "markdown",
   "id": "declared-collective",
   "metadata": {},
   "source": [
    "# steroid only"
   ]
  },
  {
   "cell_type": "code",
   "execution_count": null,
   "id": "atlantic-decline",
   "metadata": {},
   "outputs": [],
   "source": [
    "# to get sub-samples who got steroid \n",
    "steroid = monocyte_wave2[monocyte_wave2.obs['sample_id_broad'].isin(['C146',\n",
    "'C139',\n",
    "'C147',\n",
    "'C145',\n",
    "'C138',\n",
    "'C33',\n",
    "'C101',\n",
    "'C141'])]\n",
    "\n",
    "\n",
    "no_steroid = monocyte_wave2[monocyte_wave2.obs['sample_id_broad'].isin(['C169',\n",
    "'C170',\n",
    "'C168',\n",
    "'C108',\n",
    "'C58',\n",
    "'C140',\n",
    "'C137',\n",
    "'C187',\n",
    "'C190'])]\n"
   ]
  },
  {
   "cell_type": "code",
   "execution_count": null,
   "id": "seven-qualification",
   "metadata": {},
   "outputs": [],
   "source": [
    "(list(steroid.obs['case_control'].unique()))"
   ]
  },
  {
   "cell_type": "code",
   "execution_count": null,
   "id": "through-detroit",
   "metadata": {},
   "outputs": [],
   "source": [
    "# adding metdata about before and after steroid samples based on date of steroid injection\n",
    "steroid.obs['steroid_timeline']='nan'\n",
    "\n",
    "steroid.obs.loc[(steroid.obs[\"sample_id\"].isin(['C138_230121','C138_280121','C138_260121','C101_060121',\n",
    "                                                                     'C141_020221','C141_200121','C141_300121','C141_220121',\n",
    "                                                                      'C141_260121','C146_120121','C146_160121','C146_140121',\n",
    "                                                                      'C146_190121','C147_140121','C33_140121','C33_190121','C33_160121']))&(steroid.obs['case_control']=='POSITIVE'), \"steroid_timeline\"] = 'before_steroid_pos'\n",
    "steroid.obs.loc[(steroid.obs[\"sample_id\"].isin(['C138_230121','C138_280121','C138_260121','C101_060121',\n",
    "                                                                     'C141_020221','C141_200121','C141_300121','C141_220121',\n",
    "                                                                      'C141_260121','C146_120121','C146_160121','C146_140121',\n",
    "                                                                      'C146_190121','C147_140121','C33_140121','C33_190121','C33_160121']))&(steroid.obs['case_control']=='NEGATIVE'), \"steroid_timeline\"] = 'before_steroid_neg'\n",
    "steroid.obs.loc[(steroid.obs[\"sample_id\"].isin(['C138_230121','C138_280121','C138_260121','C101_060121',\n",
    "                                                                     'C141_020221','C141_200121','C141_300121','C141_220121',\n",
    "                                                                      'C141_260121','C146_120121','C146_160121','C146_140121',\n",
    "                                                                      'C146_190121','C147_140121','C33_140121','C33_190121','C33_160121']))&(steroid.obs['case_control']=='RECOVERY'), \"steroid_timeline\"] = 'before_steroid_rec'\n",
    "\n",
    "##########################\n",
    "\n",
    "steroid.obs.loc[(steroid.obs[\"sample_id\"].isin(['C138_040221','C138_020221','C138_300121','C138_300420',\n",
    "                                                                    'C101_110121','C101_250221','C101_200121','C101_130121',\n",
    "                                                                    'C101_180121','C141_090321','C145_230121','C145_190121',\n",
    "                                                                    'C145_070121','C145_140121','C145_120121','C145_300420','C146_250221','C146_270121',\n",
    "                                                                     'C146_230121','C146_300420','C147_280121','C147_260121','C147_190121','C147_230121','C147_300420',\n",
    "                                                                     'C33_260121']))&(steroid.obs['case_control']=='POSITIVE'), \"steroid_timeline\"] = 'after_steroid_pos'\n",
    "steroid.obs.loc[(steroid.obs[\"sample_id\"].isin(['C138_040221','C138_020221','C138_300121','C138_300420',\n",
    "                                                                    'C101_110121','C101_250221','C101_200121','C101_130121',\n",
    "                                                                    'C101_180121','C141_090321','C145_230121','C145_190121',\n",
    "                                                                    'C145_070121','C145_140121','C145_120121','C145_300420','C146_250221','C146_270121',\n",
    "                                                                     'C146_230121','C146_300420','C147_280121','C147_260121','C147_190121','C147_230121','C147_300420',\n",
    "                                                                     'C33_260121']))&(steroid.obs['case_control']=='NEGATIVE'), \"steroid_timeline\"] = 'after_steroid_neg'\n",
    "\n",
    "steroid.obs.loc[(steroid.obs[\"sample_id\"].isin(['C138_040221','C138_020221','C138_300121','C138_300420',\n",
    "                                                                    'C101_110121','C101_250221','C101_200121','C101_130121',\n",
    "                                                                    'C101_180121','C141_090321','C145_230121','C145_190121',\n",
    "                                                                    'C145_070121','C145_140121','C145_120121','C145_300420','C146_250221','C146_270121',\n",
    "                                                                     'C146_230121','C146_300420','C147_280121','C147_260121','C147_190121','C147_230121','C147_300420',\n",
    "                                                                     'C33_260121']))&(steroid.obs['case_control']=='RECOVERY'), \"steroid_timeline\"] = 'after_steroid_rec'\n",
    "\n",
    "\n",
    "\n",
    "\n"
   ]
  },
  {
   "cell_type": "code",
   "execution_count": null,
   "id": "middle-remove",
   "metadata": {},
   "outputs": [],
   "source": [
    "steroid.obs['steroid_timeline'].unique()"
   ]
  },
  {
   "cell_type": "code",
   "execution_count": null,
   "id": "widespread-definition",
   "metadata": {},
   "outputs": [],
   "source": [
    "#test = steroid[steroid.obs['steroid_timeline']=='after_steroid_neg']\n",
    "#print(test.obs['case_control'].unique())"
   ]
  },
  {
   "cell_type": "code",
   "execution_count": null,
   "id": "brown-luxury",
   "metadata": {},
   "outputs": [],
   "source": [
    "df = pd.crosstab(steroid.obs['steroid_timeline'],steroid.obs['annot4'])\n",
    "df"
   ]
  },
  {
   "cell_type": "code",
   "execution_count": null,
   "id": "suited-russell",
   "metadata": {},
   "outputs": [],
   "source": [
    "df.columns = df.columns.add_categories(['steroid_timeline'])\n",
    "df['steroid_timeline'] = df.index # making index into column"
   ]
  },
  {
   "cell_type": "code",
   "execution_count": null,
   "id": "alert-background",
   "metadata": {},
   "outputs": [],
   "source": [
    "df"
   ]
  },
  {
   "cell_type": "code",
   "execution_count": null,
   "id": "bearing-alias",
   "metadata": {},
   "outputs": [],
   "source": [
    "df=df.reindex([\"before_steroid_pos\", \"after_steroid_pos\", \"after_steroid_rec\",'after_steroid_neg'])\n",
    "df"
   ]
  },
  {
   "cell_type": "code",
   "execution_count": null,
   "id": "honey-reggae",
   "metadata": {},
   "outputs": [],
   "source": [
    "p1=df.plot(x='steroid_timeline', kind='bar', stacked=True,\n",
    "        title='distribution of monocytes before and after steroid')\n",
    "p1.set_ylabel('num of cells')\n",
    "p1.set_xlabel('')\n",
    "\n",
    "plt.grid(False)\n",
    "plt.legend(loc='center left', bbox_to_anchor=(1, 0.5))\n",
    "for p in p1.patches:\n",
    "        width, height = p.get_width(), p.get_height()\n",
    "        x, y = p.get_xy() \n",
    "        p1.text(x+width/2, \n",
    "            y+height/2, \n",
    "            '{:.0f}'.format(height), \n",
    "            horizontalalignment='center', \n",
    "            verticalalignment='center',rotation=0,size=7) "
   ]
  },
  {
   "cell_type": "code",
   "execution_count": null,
   "id": "tight-bracket",
   "metadata": {},
   "outputs": [],
   "source": [
    "cols = list(df.columns)\n",
    "cols = cols[:-1]\n",
    "df[cols] = df[cols].div(df[cols].sum(axis=1), axis=0).multiply(100)"
   ]
  },
  {
   "cell_type": "code",
   "execution_count": null,
   "id": "structural-photographer",
   "metadata": {},
   "outputs": [],
   "source": [
    "steroid.obs['steroid_timeline'].value_counts()"
   ]
  },
  {
   "cell_type": "code",
   "execution_count": null,
   "id": "tough-samuel",
   "metadata": {},
   "outputs": [],
   "source": [
    "p2 = df.plot(x='steroid_timeline', kind='bar', stacked=True,\n",
    "        title='distribution of monocytes before and after steroid',figsize=(5,5))\n",
    "p2.set_xlabel('')\n",
    "p2.set_ylabel('percentage')\n",
    "plt.grid(False)\n",
    "plt.legend(loc='center left', bbox_to_anchor=(1, 0.5))\n",
    "for p in p2.patches:\n",
    "        width, height = p.get_width(), p.get_height()\n",
    "        x, y = p.get_xy() \n",
    "        p2.text(x+width/2, \n",
    "            y+height/2, \n",
    "            '{:.1f}'.format(height), \n",
    "            horizontalalignment='center', \n",
    "            verticalalignment='center',rotation=0,size=7) \n",
    "\n",
    "\n",
    "\n",
    "p2.text(-0.2,101,'4879',fontsize=9)\n",
    "p2.text(0.8,101,'7923',fontsize=9)\n",
    "p2.text(1.8,101,'975',fontsize=9)\n",
    "p2.text(2.8,101,'1257',fontsize=9)"
   ]
  },
  {
   "cell_type": "markdown",
   "id": "delayed-butterfly",
   "metadata": {},
   "source": [
    "# adding metadata"
   ]
  },
  {
   "cell_type": "code",
   "execution_count": null,
   "id": "experienced-globe",
   "metadata": {},
   "outputs": [],
   "source": [
    "meta_obs=pd.read_csv('/home/jovyan/data/covid_19_renal/obs_myeloid.csv')"
   ]
  },
  {
   "cell_type": "code",
   "execution_count": null,
   "id": "stylish-vehicle",
   "metadata": {},
   "outputs": [],
   "source": [
    "mdata = sc.read('/home/jovyan/data/covid_19_renal/renal_covid_19_gex_myeloid_soupX_QC.h5ad',cache=True)"
   ]
  },
  {
   "cell_type": "code",
   "execution_count": null,
   "id": "built-credits",
   "metadata": {},
   "outputs": [],
   "source": [
    "mdata.obs['WHO_temp_severity'] = meta_obs['WHO_temp_severity'].values.astype(\"str\") \n",
    "mdata.obs['WHO_temp_severity'] = mdata.obs['WHO_temp_severity'].astype('category')"
   ]
  },
  {
   "cell_type": "code",
   "execution_count": null,
   "id": "three-situation",
   "metadata": {},
   "outputs": [],
   "source": [
    "steroid.obs['WHO_temp_severity'] = steroid.obs['sex'].astype('object')"
   ]
  },
  {
   "cell_type": "code",
   "execution_count": null,
   "id": "computational-plain",
   "metadata": {},
   "outputs": [],
   "source": [
    "steroid.obs['WHO_temp_severity'].update(pd.Series(mdata.obs['WHO_temp_severity'].astype('object')))"
   ]
  },
  {
   "cell_type": "code",
   "execution_count": null,
   "id": "valued-bible",
   "metadata": {},
   "outputs": [],
   "source": [
    "steroid.obs['WHO_temp_severity'] = steroid.obs['WHO_temp_severity'].astype('category')"
   ]
  },
  {
   "cell_type": "code",
   "execution_count": null,
   "id": "welsh-germany",
   "metadata": {},
   "outputs": [],
   "source": [
    "steroid.obs['WHO_temp_severity'].unique()"
   ]
  },
  {
   "cell_type": "markdown",
   "id": "spiritual-ottawa",
   "metadata": {},
   "source": [
    "#  steroid with positive case only -divided into 4 severity "
   ]
  },
  {
   "cell_type": "code",
   "execution_count": null,
   "id": "worthy-strengthening",
   "metadata": {},
   "outputs": [],
   "source": [
    "steroid.obs['steroid_timeline'].unique()"
   ]
  },
  {
   "cell_type": "code",
   "execution_count": null,
   "id": "fleet-wages",
   "metadata": {},
   "outputs": [],
   "source": [
    "steroid_pos_only = steroid[steroid.obs['steroid_timeline'].isin(['before_steroid_pos','after_steroid_pos'])]"
   ]
  },
  {
   "cell_type": "code",
   "execution_count": null,
   "id": "eastern-continent",
   "metadata": {},
   "outputs": [],
   "source": [
    "steroid_pos_only.obs['WHO_temp_severity'].unique()"
   ]
  },
  {
   "cell_type": "code",
   "execution_count": null,
   "id": "frozen-ending",
   "metadata": {},
   "outputs": [],
   "source": [
    "# adding severity and steroid meta\n",
    "steroid_pos_only.obs['steroid_severity']='nan'\n",
    "\n",
    "steroid_pos_only.obs.loc[(steroid_pos_only.obs[\"steroid_timeline\"]=='before_steroid_pos')&(steroid_pos_only.obs['WHO_temp_severity']=='mild'), \"steroid_severity\"] = 'before_steroid_pos_mild'\n",
    "steroid_pos_only.obs.loc[(steroid_pos_only.obs[\"steroid_timeline\"]=='before_steroid_pos')&(steroid_pos_only.obs['WHO_temp_severity']=='moderate'), \"steroid_severity\"] = 'before_steroid_pos_moderate'\n",
    "steroid_pos_only.obs.loc[(steroid_pos_only.obs[\"steroid_timeline\"]=='before_steroid_pos')&(steroid_pos_only.obs['WHO_temp_severity']=='severe'), \"steroid_severity\"] = 'before_steroid_pos_severe'\n",
    "steroid_pos_only.obs.loc[(steroid_pos_only.obs[\"steroid_timeline\"]=='before_steroid_pos')&(steroid_pos_only.obs['WHO_temp_severity']=='critical'), \"steroid_severity\"] = 'before_steroid_pos_critical'\n",
    "\n",
    "steroid_pos_only.obs.loc[(steroid_pos_only.obs[\"steroid_timeline\"]=='after_steroid_pos')&(steroid_pos_only.obs['WHO_temp_severity']=='mild'), \"steroid_severity\"] = 'after_steroid_pos_mild'\n",
    "steroid_pos_only.obs.loc[(steroid_pos_only.obs[\"steroid_timeline\"]=='after_steroid_pos')&(steroid_pos_only.obs['WHO_temp_severity']=='moderate'), \"steroid_severity\"] = 'after_steroid_pos_moderate'\n",
    "steroid_pos_only.obs.loc[(steroid_pos_only.obs[\"steroid_timeline\"]=='after_steroid_pos')&(steroid_pos_only.obs['WHO_temp_severity']=='severe'), \"steroid_severity\"] = 'after_steroid_pos_severe'\n",
    "steroid_pos_only.obs.loc[(steroid_pos_only.obs[\"steroid_timeline\"]=='after_steroid_pos')&(steroid_pos_only.obs['WHO_temp_severity']=='critical'), \"steroid_severity\"] = 'after_steroid_pos_critical'\n"
   ]
  },
  {
   "cell_type": "code",
   "execution_count": null,
   "id": "sophisticated-tracy",
   "metadata": {},
   "outputs": [],
   "source": [
    "steroid_pos_only.obs['steroid_severity'].unique()"
   ]
  },
  {
   "cell_type": "code",
   "execution_count": null,
   "id": "explicit-keyboard",
   "metadata": {},
   "outputs": [],
   "source": [
    "#test = steroid_pos_only[steroid_pos_only.obs['steroid_severity']=='after_steroid_pos_severe']\n",
    "#print(test.obs['case_control'].unique())\n",
    "#print(test.obs['WHO_temp_severity'].unique())"
   ]
  },
  {
   "cell_type": "code",
   "execution_count": null,
   "id": "frank-disabled",
   "metadata": {},
   "outputs": [],
   "source": [
    "df = pd.crosstab(steroid_pos_only.obs['steroid_severity'],steroid_pos_only.obs['annot4'])\n",
    "df"
   ]
  },
  {
   "cell_type": "code",
   "execution_count": null,
   "id": "supreme-province",
   "metadata": {},
   "outputs": [],
   "source": [
    "df.columns = df.columns.add_categories(['steroid_severity'])\n",
    "df['steroid_severity'] = df.index \n",
    "df"
   ]
  },
  {
   "cell_type": "code",
   "execution_count": null,
   "id": "fatty-silicon",
   "metadata": {},
   "outputs": [],
   "source": [
    "df=df.reindex([\"before_steroid_pos_mild\", \"after_steroid_pos_mild\", \"before_steroid_pos_moderate\",'after_steroid_pos_moderate','before_steroid_pos_severe','after_steroid_pos_severe',\n",
    "              'after_steroid_pos_critical'])\n",
    "df"
   ]
  },
  {
   "cell_type": "code",
   "execution_count": null,
   "id": "employed-impossible",
   "metadata": {},
   "outputs": [],
   "source": [
    "p1=df.plot(x='steroid_severity', kind='bar', stacked=True,\n",
    "        title='distribution of monocytes before and after steroid and severity')\n",
    "p1.set_ylabel('num of cells')\n",
    "p1.set_xlabel('')\n",
    "\n",
    "plt.grid(False)\n",
    "plt.legend(loc='center left', bbox_to_anchor=(1, 0.5))\n",
    "for p in p1.patches:\n",
    "        width, height = p.get_width(), p.get_height()\n",
    "        x, y = p.get_xy() \n",
    "        p1.text(x+width/2, \n",
    "            y+height/2, \n",
    "            '{:.0f}'.format(height), \n",
    "            horizontalalignment='center', \n",
    "            verticalalignment='center',rotation=0,size=7) "
   ]
  },
  {
   "cell_type": "code",
   "execution_count": null,
   "id": "seventh-static",
   "metadata": {},
   "outputs": [],
   "source": [
    "cols = list(df.columns)\n",
    "cols = cols[:-1]\n",
    "df[cols] = df[cols].div(df[cols].sum(axis=1), axis=0).multiply(100)"
   ]
  },
  {
   "cell_type": "code",
   "execution_count": null,
   "id": "operational-girlfriend",
   "metadata": {},
   "outputs": [],
   "source": [
    "df"
   ]
  },
  {
   "cell_type": "code",
   "execution_count": null,
   "id": "appointed-arabic",
   "metadata": {},
   "outputs": [],
   "source": [
    "steroid_pos_only.obs['steroid_severity'].value_counts()"
   ]
  },
  {
   "cell_type": "code",
   "execution_count": null,
   "id": "potential-chess",
   "metadata": {},
   "outputs": [],
   "source": [
    "p2 = df.plot(x='steroid_severity', kind='bar', stacked=True,\n",
    "        title='distribution of monocytes before and after steroid and severity',figsize=(5,5))\n",
    "p2.set_xlabel('')\n",
    "p2.set_ylabel('percentage')\n",
    "plt.grid(False)\n",
    "plt.legend(loc='center left', bbox_to_anchor=(1, 0.5))\n",
    "for p in p2.patches:\n",
    "        width, height = p.get_width(), p.get_height()\n",
    "        x, y = p.get_xy() \n",
    "        p2.text(x+width/2, \n",
    "            y+height/2, \n",
    "            '{:.1f}'.format(height), \n",
    "            horizontalalignment='center', \n",
    "            verticalalignment='center',rotation=0,size=7) \n",
    "\n",
    "\n",
    "\n",
    "p2.text(-0.2,101,'2678',fontsize=9)\n",
    "p2.text(0.8,101,'1811',fontsize=9)\n",
    "p2.text(1.8,101,'1911',fontsize=9)\n",
    "p2.text(2.8,101,'2146',fontsize=9)\n",
    "p2.text(3.8,101,'290',fontsize=9)\n",
    "p2.text(4.8,101,'1226',fontsize=9)\n",
    "p2.text(5.8,101,'2740',fontsize=9)"
   ]
  },
  {
   "cell_type": "code",
   "execution_count": null,
   "id": "planned-vacuum",
   "metadata": {},
   "outputs": [],
   "source": [
    "save_file = '/home/jovyan/scripts/renal_covid_19/steroid_pipeline/steroid_pos_only.h5ad'\n",
    "steroid_pos_only.write_h5ad(save_file)"
   ]
  },
  {
   "cell_type": "code",
   "execution_count": null,
   "id": "popular-slide",
   "metadata": {},
   "outputs": [],
   "source": []
  }
 ],
 "metadata": {
  "kernelspec": {
   "display_name": "Py_env2",
   "language": "python",
   "name": "py_env2"
  },
  "language_info": {
   "codemirror_mode": {
    "name": "ipython",
    "version": 3
   },
   "file_extension": ".py",
   "mimetype": "text/x-python",
   "name": "python",
   "nbconvert_exporter": "python",
   "pygments_lexer": "ipython3",
   "version": "3.8.13"
  }
 },
 "nbformat": 4,
 "nbformat_minor": 5
}
