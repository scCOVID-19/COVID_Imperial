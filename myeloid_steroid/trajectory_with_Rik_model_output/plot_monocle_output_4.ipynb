{
 "cells": [
  {
   "cell_type": "code",
   "execution_count": 3,
   "id": "neutral-match",
   "metadata": {},
   "outputs": [],
   "source": [
    "library(rlang)\n",
    "library(monocle3)\n",
    "library(shiny)\n",
    "library(ggplot2)\n",
    "library(dplyr)\n",
    "library(garnett)\n",
    "library(Matrix)\n",
    "library(irlba)\n",
    "library(ComplexHeatmap)\n",
    "library(ggplot2)\n",
    "library(dplyr)\n",
    "library(RColorBrewer)\n",
    "library(circlize)"
   ]
  },
  {
   "cell_type": "markdown",
   "id": "dominican-emergency",
   "metadata": {},
   "source": [
    "# loading modulated genes and cds"
   ]
  },
  {
   "cell_type": "code",
   "execution_count": 4,
   "id": "celtic-summit",
   "metadata": {},
   "outputs": [],
   "source": [
    "modulated_genes=readRDS('/home/jovyan/scripts/renal_covid_19/steroid_pipeline/trajectory_with_Rik_model_output/allCD14_wave2_steroid_2021_modulated_genes.rds')"
   ]
  },
  {
   "cell_type": "code",
   "execution_count": 5,
   "id": "terminal-graph",
   "metadata": {},
   "outputs": [],
   "source": [
    "cds = readRDS('/home/jovyan/scripts/renal_covid_19/steroid_pipeline/trajectory_with_Rik_model_output/allCD14_wave2_steroid_2021_cds.rds')"
   ]
  },
  {
   "cell_type": "code",
   "execution_count": 6,
   "id": "interracial-influence",
   "metadata": {},
   "outputs": [
    {
     "data": {
      "text/html": [
       "<style>\n",
       ".list-inline {list-style: none; margin:0; padding: 0}\n",
       ".list-inline>li {display: inline-block}\n",
       ".list-inline>li:not(:last-child)::after {content: \"\\00b7\"; padding: 0 .5ex}\n",
       "</style>\n",
       "<ol class=list-inline><li>C33</li><li>C101</li><li>C146</li><li>C138</li><li>C145</li><li>C147</li></ol>\n",
       "\n",
       "<details>\n",
       "\t<summary style=display:list-item;cursor:pointer>\n",
       "\t\t<strong>Levels</strong>:\n",
       "\t</summary>\n",
       "\t<style>\n",
       "\t.list-inline {list-style: none; margin:0; padding: 0}\n",
       "\t.list-inline>li {display: inline-block}\n",
       "\t.list-inline>li:not(:last-child)::after {content: \"\\00b7\"; padding: 0 .5ex}\n",
       "\t</style>\n",
       "\t<ol class=list-inline><li>'C101'</li><li>'C138'</li><li>'C145'</li><li>'C146'</li><li>'C147'</li><li>'C33'</li></ol>\n",
       "</details>"
      ],
      "text/latex": [
       "\\begin{enumerate*}\n",
       "\\item C33\n",
       "\\item C101\n",
       "\\item C146\n",
       "\\item C138\n",
       "\\item C145\n",
       "\\item C147\n",
       "\\end{enumerate*}\n",
       "\n",
       "\\emph{Levels}: \\begin{enumerate*}\n",
       "\\item 'C101'\n",
       "\\item 'C138'\n",
       "\\item 'C145'\n",
       "\\item 'C146'\n",
       "\\item 'C147'\n",
       "\\item 'C33'\n",
       "\\end{enumerate*}\n"
      ],
      "text/markdown": [
       "1. C33\n",
       "2. C101\n",
       "3. C146\n",
       "4. C138\n",
       "5. C145\n",
       "6. C147\n",
       "\n",
       "\n",
       "\n",
       "**Levels**: 1. 'C101'\n",
       "2. 'C138'\n",
       "3. 'C145'\n",
       "4. 'C146'\n",
       "5. 'C147'\n",
       "6. 'C33'\n",
       "\n",
       "\n"
      ],
      "text/plain": [
       "[1] C33  C101 C146 C138 C145 C147\n",
       "Levels: C101 C138 C145 C146 C147 C33"
      ]
     },
     "metadata": {},
     "output_type": "display_data"
    }
   ],
   "source": [
    "unique(cds$individual_id)"
   ]
  },
  {
   "cell_type": "markdown",
   "id": "thorough-programming",
   "metadata": {},
   "source": [
    "# selected sig genes"
   ]
  },
  {
   "cell_type": "code",
   "execution_count": 7,
   "id": "based-coast",
   "metadata": {},
   "outputs": [
    {
     "data": {
      "text/html": [
       "282"
      ],
      "text/latex": [
       "282"
      ],
      "text/markdown": [
       "282"
      ],
      "text/plain": [
       "[1] 282"
      ]
     },
     "metadata": {},
     "output_type": "display_data"
    }
   ],
   "source": [
    "genes <- row.names(subset(modulated_genes, q_value <0.05 & morans_I > 0.1 ))#& morans_I > 0.2\n",
    "length(genes)"
   ]
  },
  {
   "cell_type": "code",
   "execution_count": 8,
   "id": "particular-laptop",
   "metadata": {},
   "outputs": [
    {
     "data": {
      "text/html": [
       "203"
      ],
      "text/latex": [
       "203"
      ],
      "text/markdown": [
       "203"
      ],
      "text/plain": [
       "[1] 203"
      ]
     },
     "metadata": {},
     "output_type": "display_data"
    }
   ],
   "source": [
    "# remove mito and ribo genes\n",
    "genes <-genes[!grepl(paste0('^RPL', collapse = \"|\"), genes)]\n",
    "genes <-genes[!grepl(paste0('^RPS', collapse = \"|\"), genes)]\n",
    "genes <-genes[!grepl(paste0('^MT-', collapse = \"|\"), genes)]\n",
    "\n",
    "length(genes)"
   ]
  },
  {
   "cell_type": "markdown",
   "id": "gothic-launch",
   "metadata": {},
   "source": [
    "# get count matrix for sig genes in pseudo time order"
   ]
  },
  {
   "cell_type": "code",
   "execution_count": 9,
   "id": "toxic-frame",
   "metadata": {},
   "outputs": [],
   "source": [
    "pt.matrix <- as.matrix(cds@assays@data$counts[match(genes,rownames(rowData(cds))),order(cds$pseudotime_GPLVM)]) # order by pseudotime_GPLVM"
   ]
  },
  {
   "cell_type": "code",
   "execution_count": 10,
   "id": "interracial-following",
   "metadata": {},
   "outputs": [],
   "source": [
    "cellname <-colnames(pt.matrix)"
   ]
  },
  {
   "cell_type": "markdown",
   "id": "difficult-center",
   "metadata": {},
   "source": [
    "# smoothening"
   ]
  },
  {
   "cell_type": "code",
   "execution_count": 11,
   "id": "golden-edinburgh",
   "metadata": {},
   "outputs": [],
   "source": [
    "pt.matrix <- t(apply(pt.matrix,1,function(x){smooth.spline(x,df=3)$y}))\n",
    "pt.matrix <- t(apply(pt.matrix,1,function(x){(x-mean(x))/sd(x)}))"
   ]
  },
  {
   "cell_type": "code",
   "execution_count": 12,
   "id": "national-display",
   "metadata": {},
   "outputs": [],
   "source": [
    "rownames(pt.matrix) <- genes;"
   ]
  },
  {
   "cell_type": "code",
   "execution_count": 13,
   "id": "falling-beauty",
   "metadata": {},
   "outputs": [],
   "source": [
    "colnames(pt.matrix) <- cellname;"
   ]
  },
  {
   "cell_type": "markdown",
   "id": "altered-region",
   "metadata": {},
   "source": [
    "# getting cluster bars"
   ]
  },
  {
   "cell_type": "code",
   "execution_count": 14,
   "id": "greater-government",
   "metadata": {},
   "outputs": [
    {
     "data": {
      "text/html": [
       "<style>\n",
       ".list-inline {list-style: none; margin:0; padding: 0}\n",
       ".list-inline>li {display: inline-block}\n",
       ".list-inline>li:not(:last-child)::after {content: \"\\00b7\"; padding: 0 .5ex}\n",
       "</style>\n",
       "<ol class=list-inline><li>critical</li><li>nan</li><li>mild</li><li>severe</li><li>moderate</li></ol>\n",
       "\n",
       "<details>\n",
       "\t<summary style=display:list-item;cursor:pointer>\n",
       "\t\t<strong>Levels</strong>:\n",
       "\t</summary>\n",
       "\t<style>\n",
       "\t.list-inline {list-style: none; margin:0; padding: 0}\n",
       "\t.list-inline>li {display: inline-block}\n",
       "\t.list-inline>li:not(:last-child)::after {content: \"\\00b7\"; padding: 0 .5ex}\n",
       "\t</style>\n",
       "\t<ol class=list-inline><li>'critical'</li><li>'mild'</li><li>'moderate'</li><li>'nan'</li><li>'severe'</li></ol>\n",
       "</details>"
      ],
      "text/latex": [
       "\\begin{enumerate*}\n",
       "\\item critical\n",
       "\\item nan\n",
       "\\item mild\n",
       "\\item severe\n",
       "\\item moderate\n",
       "\\end{enumerate*}\n",
       "\n",
       "\\emph{Levels}: \\begin{enumerate*}\n",
       "\\item 'critical'\n",
       "\\item 'mild'\n",
       "\\item 'moderate'\n",
       "\\item 'nan'\n",
       "\\item 'severe'\n",
       "\\end{enumerate*}\n"
      ],
      "text/markdown": [
       "1. critical\n",
       "2. nan\n",
       "3. mild\n",
       "4. severe\n",
       "5. moderate\n",
       "\n",
       "\n",
       "\n",
       "**Levels**: 1. 'critical'\n",
       "2. 'mild'\n",
       "3. 'moderate'\n",
       "4. 'nan'\n",
       "5. 'severe'\n",
       "\n",
       "\n"
      ],
      "text/plain": [
       "[1] critical nan      mild     severe   moderate\n",
       "Levels: critical mild moderate nan severe"
      ]
     },
     "metadata": {},
     "output_type": "display_data"
    }
   ],
   "source": [
    "unique(cds$WHO_temp_severity) #checking clusters"
   ]
  },
  {
   "cell_type": "code",
   "execution_count": 15,
   "id": "basic-puzzle",
   "metadata": {},
   "outputs": [
    {
     "data": {
      "text/html": [
       "<style>\n",
       ".list-inline {list-style: none; margin:0; padding: 0}\n",
       ".list-inline>li {display: inline-block}\n",
       ".list-inline>li:not(:last-child)::after {content: \"\\00b7\"; padding: 0 .5ex}\n",
       "</style>\n",
       "<ol class=list-inline><li>POSITIVE</li><li>RECOVERY</li></ol>\n",
       "\n",
       "<details>\n",
       "\t<summary style=display:list-item;cursor:pointer>\n",
       "\t\t<strong>Levels</strong>:\n",
       "\t</summary>\n",
       "\t<style>\n",
       "\t.list-inline {list-style: none; margin:0; padding: 0}\n",
       "\t.list-inline>li {display: inline-block}\n",
       "\t.list-inline>li:not(:last-child)::after {content: \"\\00b7\"; padding: 0 .5ex}\n",
       "\t</style>\n",
       "\t<ol class=list-inline><li>'POSITIVE'</li><li>'RECOVERY'</li></ol>\n",
       "</details>"
      ],
      "text/latex": [
       "\\begin{enumerate*}\n",
       "\\item POSITIVE\n",
       "\\item RECOVERY\n",
       "\\end{enumerate*}\n",
       "\n",
       "\\emph{Levels}: \\begin{enumerate*}\n",
       "\\item 'POSITIVE'\n",
       "\\item 'RECOVERY'\n",
       "\\end{enumerate*}\n"
      ],
      "text/markdown": [
       "1. POSITIVE\n",
       "2. RECOVERY\n",
       "\n",
       "\n",
       "\n",
       "**Levels**: 1. 'POSITIVE'\n",
       "2. 'RECOVERY'\n",
       "\n",
       "\n"
      ],
      "text/plain": [
       "[1] POSITIVE RECOVERY\n",
       "Levels: POSITIVE RECOVERY"
      ]
     },
     "metadata": {},
     "output_type": "display_data"
    }
   ],
   "source": [
    "unique(cds$case_control)"
   ]
  },
  {
   "cell_type": "code",
   "execution_count": 17,
   "id": "criminal-aurora",
   "metadata": {},
   "outputs": [],
   "source": [
    "cds$WHO_temp_severity_correct <- factor(cds$WHO_temp_severity, levels = c('nan','mild', 'moderate','severe','critical'), labels = c('recovery','mild','moderate','severe','critical'))"
   ]
  },
  {
   "cell_type": "code",
   "execution_count": 18,
   "id": "russian-nebraska",
   "metadata": {},
   "outputs": [
    {
     "data": {
      "text/html": [
       "<style>\n",
       ".list-inline {list-style: none; margin:0; padding: 0}\n",
       ".list-inline>li {display: inline-block}\n",
       ".list-inline>li:not(:last-child)::after {content: \"\\00b7\"; padding: 0 .5ex}\n",
       "</style>\n",
       "<ol class=list-inline><li>critical</li><li>recovery</li><li>mild</li><li>severe</li><li>moderate</li></ol>\n",
       "\n",
       "<details>\n",
       "\t<summary style=display:list-item;cursor:pointer>\n",
       "\t\t<strong>Levels</strong>:\n",
       "\t</summary>\n",
       "\t<style>\n",
       "\t.list-inline {list-style: none; margin:0; padding: 0}\n",
       "\t.list-inline>li {display: inline-block}\n",
       "\t.list-inline>li:not(:last-child)::after {content: \"\\00b7\"; padding: 0 .5ex}\n",
       "\t</style>\n",
       "\t<ol class=list-inline><li>'recovery'</li><li>'mild'</li><li>'moderate'</li><li>'severe'</li><li>'critical'</li></ol>\n",
       "</details>"
      ],
      "text/latex": [
       "\\begin{enumerate*}\n",
       "\\item critical\n",
       "\\item recovery\n",
       "\\item mild\n",
       "\\item severe\n",
       "\\item moderate\n",
       "\\end{enumerate*}\n",
       "\n",
       "\\emph{Levels}: \\begin{enumerate*}\n",
       "\\item 'recovery'\n",
       "\\item 'mild'\n",
       "\\item 'moderate'\n",
       "\\item 'severe'\n",
       "\\item 'critical'\n",
       "\\end{enumerate*}\n"
      ],
      "text/markdown": [
       "1. critical\n",
       "2. recovery\n",
       "3. mild\n",
       "4. severe\n",
       "5. moderate\n",
       "\n",
       "\n",
       "\n",
       "**Levels**: 1. 'recovery'\n",
       "2. 'mild'\n",
       "3. 'moderate'\n",
       "4. 'severe'\n",
       "5. 'critical'\n",
       "\n",
       "\n"
      ],
      "text/plain": [
       "[1] critical recovery mild     severe   moderate\n",
       "Levels: recovery mild moderate severe critical"
      ]
     },
     "metadata": {},
     "output_type": "display_data"
    }
   ],
   "source": [
    "unique(cds$WHO_temp_severity_correct)"
   ]
  },
  {
   "cell_type": "code",
   "execution_count": 19,
   "id": "blind-pharmacology",
   "metadata": {},
   "outputs": [
    {
     "name": "stdout",
     "output_type": "stream",
     "text": [
      "                                                 pseudo_time\n",
      "UK-CIC10690366+UK-CIC10690558_AACTTTCCAAGTCATC-1   10.308260\n",
      "UK-CIC10690366+UK-CIC10690558_TATTACCAGAGTAATC-1   11.813688\n",
      "UK-CIC10690367+UK-CIC10690559_TTGGCAAGTATATGGA-1   14.100141\n",
      "UK-CIC10690325+UK-CIC10690517_GCGCGATCACCCAGTG-1   14.992196\n",
      "UK-CIC10690319+UK-CIC10690511_GCTTGAAAGATCCCAT-1   11.940785\n",
      "UK-CIC10690373+UK-CIC10690565_CTCGTCACAGCGTCCA-1    9.990809\n"
     ]
    }
   ],
   "source": [
    "pseudo_time <-pseudotime(cds)\n",
    "pseudo_time <- as.data.frame(pseudo_time)\n",
    "#print (head(pseudo_time))"
   ]
  },
  {
   "cell_type": "code",
   "execution_count": 20,
   "id": "sorted-responsibility",
   "metadata": {},
   "outputs": [],
   "source": [
    "day_from_steroid <-(colData(cds)[, \"days_from_steroid\"])\n",
    "day_from_steroid <- as.data.frame(day_from_steroid)\n",
    "#tail(day_from_steroid)"
   ]
  },
  {
   "cell_type": "code",
   "execution_count": 21,
   "id": "false-combine",
   "metadata": {},
   "outputs": [],
   "source": [
    "pseudotime_GPLVM <-(colData(cds)[, \"pseudotime_GPLVM\"])\n",
    "pseudotime_GPLVM <- as.data.frame(pseudotime_GPLVM)\n",
    "#tail(pseudotime_GPLVM)"
   ]
  },
  {
   "cell_type": "code",
   "execution_count": 22,
   "id": "vulnerable-borough",
   "metadata": {},
   "outputs": [],
   "source": [
    "sev <-(colData(cds)[, \"WHO_temp_severity_correct\"])\n",
    "df_sev <- as.data.frame(sev)\n",
    "#tail(df_sev)"
   ]
  },
  {
   "cell_type": "code",
   "execution_count": 23,
   "id": "enhanced-aside",
   "metadata": {},
   "outputs": [],
   "source": [
    "case_control <-(colData(cds)[, \"case_control\"])\n",
    "case_control <- as.data.frame(case_control)\n",
    "#tail(case_control)"
   ]
  },
  {
   "cell_type": "code",
   "execution_count": 24,
   "id": "minor-worst",
   "metadata": {},
   "outputs": [],
   "source": [
    "time_from_first_symptoms<-(colData(cds)[, \"time_from_first_symptoms\"])\n",
    "time_from_first_symptoms <- as.data.frame(time_from_first_symptoms)\n",
    "#tail(time_from_first_symptoms)"
   ]
  },
  {
   "cell_type": "code",
   "execution_count": 25,
   "id": "unique-looking",
   "metadata": {},
   "outputs": [],
   "source": [
    "time_from_pos_swab<-(colData(cds)[, \"time_from_positive_swab\"])\n",
    "time_from_pos_swab <- as.data.frame(time_from_pos_swab)\n",
    "#tail(time_from_pos_swab)"
   ]
  },
  {
   "cell_type": "code",
   "execution_count": 26,
   "id": "unavailable-result",
   "metadata": {},
   "outputs": [],
   "source": [
    "time_from_inf <-(colData(cds)[, \"time_from_infection\"])\n",
    "time_from_inf <- as.data.frame(time_from_inf)\n",
    "#tail(time_from_inf)"
   ]
  },
  {
   "cell_type": "code",
   "execution_count": 27,
   "id": "mature-emission",
   "metadata": {},
   "outputs": [],
   "source": [
    "top_anno <- cbind(case_control,time_from_inf,pseudotime_GPLVM,df_sev,pseudo_time,time_from_pos_swab,time_from_first_symptoms,day_from_steroid)"
   ]
  },
  {
   "cell_type": "code",
   "execution_count": 28,
   "id": "characteristic-amendment",
   "metadata": {
    "collapsed": true,
    "jupyter": {
     "outputs_hidden": true
    },
    "tags": []
   },
   "outputs": [
    {
     "data": {
      "text/html": [
       "<table class=\"dataframe\">\n",
       "<caption>A data.frame: 6 × 8</caption>\n",
       "<thead>\n",
       "\t<tr><th></th><th scope=col>case_control</th><th scope=col>time_from_inf</th><th scope=col>pseudotime_GPLVM</th><th scope=col>sev</th><th scope=col>pseudo_time</th><th scope=col>time_from_pos_swab</th><th scope=col>time_from_first_symptoms</th><th scope=col>day_from_steroid</th></tr>\n",
       "\t<tr><th></th><th scope=col>&lt;fct&gt;</th><th scope=col>&lt;int&gt;</th><th scope=col>&lt;dbl&gt;</th><th scope=col>&lt;fct&gt;</th><th scope=col>&lt;dbl&gt;</th><th scope=col>&lt;int&gt;</th><th scope=col>&lt;int&gt;</th><th scope=col>&lt;int&gt;</th></tr>\n",
       "</thead>\n",
       "<tbody>\n",
       "\t<tr><th scope=row>UK-CIC10690338+UK-CIC10690530_ACACCGGCAAGCGAGT-1</th><td>POSITIVE</td><td>2</td><td>-0.25155908</td><td>mild</td><td>0.1202932</td><td>2</td><td>0</td><td>-3</td></tr>\n",
       "\t<tr><th scope=row>UK-CIC10690356+UK-CIC10690548_TGCGGGTTCAAGATCC-1</th><td>POSITIVE</td><td>2</td><td>-0.17931786</td><td>mild</td><td>1.4055118</td><td>2</td><td>0</td><td>-6</td></tr>\n",
       "\t<tr><th scope=row>UK-CIC10690340+UK-CIC10690532_GTGCAGCGTTATCCGA-1</th><td>POSITIVE</td><td>2</td><td>-0.14722562</td><td>mild</td><td>1.6164945</td><td>2</td><td>0</td><td>-3</td></tr>\n",
       "\t<tr><th scope=row>UK-CIC10690337+UK-CIC10690529_AACACGTTCGTTTGCC-1</th><td>POSITIVE</td><td>2</td><td>-0.11153327</td><td>mild</td><td>4.2132714</td><td>2</td><td>0</td><td>-3</td></tr>\n",
       "\t<tr><th scope=row>UK-CIC10690335+UK-CIC10690527_TGATTTCCAAGGACTG-1</th><td>POSITIVE</td><td>2</td><td>-0.09948054</td><td>mild</td><td>6.2093626</td><td>2</td><td>2</td><td> 2</td></tr>\n",
       "\t<tr><th scope=row>UK-CIC10690355+UK-CIC10690547_CGATGGCCATGCGCAC-1</th><td>POSITIVE</td><td>2</td><td>-0.09696293</td><td>mild</td><td>7.2415613</td><td>2</td><td>0</td><td>-6</td></tr>\n",
       "</tbody>\n",
       "</table>\n"
      ],
      "text/latex": [
       "A data.frame: 6 × 8\n",
       "\\begin{tabular}{r|llllllll}\n",
       "  & case\\_control & time\\_from\\_inf & pseudotime\\_GPLVM & sev & pseudo\\_time & time\\_from\\_pos\\_swab & time\\_from\\_first\\_symptoms & day\\_from\\_steroid\\\\\n",
       "  & <fct> & <int> & <dbl> & <fct> & <dbl> & <int> & <int> & <int>\\\\\n",
       "\\hline\n",
       "\tUK-CIC10690338+UK-CIC10690530\\_ACACCGGCAAGCGAGT-1 & POSITIVE & 2 & -0.25155908 & mild & 0.1202932 & 2 & 0 & -3\\\\\n",
       "\tUK-CIC10690356+UK-CIC10690548\\_TGCGGGTTCAAGATCC-1 & POSITIVE & 2 & -0.17931786 & mild & 1.4055118 & 2 & 0 & -6\\\\\n",
       "\tUK-CIC10690340+UK-CIC10690532\\_GTGCAGCGTTATCCGA-1 & POSITIVE & 2 & -0.14722562 & mild & 1.6164945 & 2 & 0 & -3\\\\\n",
       "\tUK-CIC10690337+UK-CIC10690529\\_AACACGTTCGTTTGCC-1 & POSITIVE & 2 & -0.11153327 & mild & 4.2132714 & 2 & 0 & -3\\\\\n",
       "\tUK-CIC10690335+UK-CIC10690527\\_TGATTTCCAAGGACTG-1 & POSITIVE & 2 & -0.09948054 & mild & 6.2093626 & 2 & 2 &  2\\\\\n",
       "\tUK-CIC10690355+UK-CIC10690547\\_CGATGGCCATGCGCAC-1 & POSITIVE & 2 & -0.09696293 & mild & 7.2415613 & 2 & 0 & -6\\\\\n",
       "\\end{tabular}\n"
      ],
      "text/markdown": [
       "\n",
       "A data.frame: 6 × 8\n",
       "\n",
       "| <!--/--> | case_control &lt;fct&gt; | time_from_inf &lt;int&gt; | pseudotime_GPLVM &lt;dbl&gt; | sev &lt;fct&gt; | pseudo_time &lt;dbl&gt; | time_from_pos_swab &lt;int&gt; | time_from_first_symptoms &lt;int&gt; | day_from_steroid &lt;int&gt; |\n",
       "|---|---|---|---|---|---|---|---|---|\n",
       "| UK-CIC10690338+UK-CIC10690530_ACACCGGCAAGCGAGT-1 | POSITIVE | 2 | -0.25155908 | mild | 0.1202932 | 2 | 0 | -3 |\n",
       "| UK-CIC10690356+UK-CIC10690548_TGCGGGTTCAAGATCC-1 | POSITIVE | 2 | -0.17931786 | mild | 1.4055118 | 2 | 0 | -6 |\n",
       "| UK-CIC10690340+UK-CIC10690532_GTGCAGCGTTATCCGA-1 | POSITIVE | 2 | -0.14722562 | mild | 1.6164945 | 2 | 0 | -3 |\n",
       "| UK-CIC10690337+UK-CIC10690529_AACACGTTCGTTTGCC-1 | POSITIVE | 2 | -0.11153327 | mild | 4.2132714 | 2 | 0 | -3 |\n",
       "| UK-CIC10690335+UK-CIC10690527_TGATTTCCAAGGACTG-1 | POSITIVE | 2 | -0.09948054 | mild | 6.2093626 | 2 | 2 |  2 |\n",
       "| UK-CIC10690355+UK-CIC10690547_CGATGGCCATGCGCAC-1 | POSITIVE | 2 | -0.09696293 | mild | 7.2415613 | 2 | 0 | -6 |\n",
       "\n"
      ],
      "text/plain": [
       "                                                 case_control time_from_inf\n",
       "UK-CIC10690338+UK-CIC10690530_ACACCGGCAAGCGAGT-1 POSITIVE     2            \n",
       "UK-CIC10690356+UK-CIC10690548_TGCGGGTTCAAGATCC-1 POSITIVE     2            \n",
       "UK-CIC10690340+UK-CIC10690532_GTGCAGCGTTATCCGA-1 POSITIVE     2            \n",
       "UK-CIC10690337+UK-CIC10690529_AACACGTTCGTTTGCC-1 POSITIVE     2            \n",
       "UK-CIC10690335+UK-CIC10690527_TGATTTCCAAGGACTG-1 POSITIVE     2            \n",
       "UK-CIC10690355+UK-CIC10690547_CGATGGCCATGCGCAC-1 POSITIVE     2            \n",
       "                                                 pseudotime_GPLVM sev \n",
       "UK-CIC10690338+UK-CIC10690530_ACACCGGCAAGCGAGT-1 -0.25155908      mild\n",
       "UK-CIC10690356+UK-CIC10690548_TGCGGGTTCAAGATCC-1 -0.17931786      mild\n",
       "UK-CIC10690340+UK-CIC10690532_GTGCAGCGTTATCCGA-1 -0.14722562      mild\n",
       "UK-CIC10690337+UK-CIC10690529_AACACGTTCGTTTGCC-1 -0.11153327      mild\n",
       "UK-CIC10690335+UK-CIC10690527_TGATTTCCAAGGACTG-1 -0.09948054      mild\n",
       "UK-CIC10690355+UK-CIC10690547_CGATGGCCATGCGCAC-1 -0.09696293      mild\n",
       "                                                 pseudo_time time_from_pos_swab\n",
       "UK-CIC10690338+UK-CIC10690530_ACACCGGCAAGCGAGT-1 0.1202932   2                 \n",
       "UK-CIC10690356+UK-CIC10690548_TGCGGGTTCAAGATCC-1 1.4055118   2                 \n",
       "UK-CIC10690340+UK-CIC10690532_GTGCAGCGTTATCCGA-1 1.6164945   2                 \n",
       "UK-CIC10690337+UK-CIC10690529_AACACGTTCGTTTGCC-1 4.2132714   2                 \n",
       "UK-CIC10690335+UK-CIC10690527_TGATTTCCAAGGACTG-1 6.2093626   2                 \n",
       "UK-CIC10690355+UK-CIC10690547_CGATGGCCATGCGCAC-1 7.2415613   2                 \n",
       "                                                 time_from_first_symptoms\n",
       "UK-CIC10690338+UK-CIC10690530_ACACCGGCAAGCGAGT-1 0                       \n",
       "UK-CIC10690356+UK-CIC10690548_TGCGGGTTCAAGATCC-1 0                       \n",
       "UK-CIC10690340+UK-CIC10690532_GTGCAGCGTTATCCGA-1 0                       \n",
       "UK-CIC10690337+UK-CIC10690529_AACACGTTCGTTTGCC-1 0                       \n",
       "UK-CIC10690335+UK-CIC10690527_TGATTTCCAAGGACTG-1 2                       \n",
       "UK-CIC10690355+UK-CIC10690547_CGATGGCCATGCGCAC-1 0                       \n",
       "                                                 day_from_steroid\n",
       "UK-CIC10690338+UK-CIC10690530_ACACCGGCAAGCGAGT-1 -3              \n",
       "UK-CIC10690356+UK-CIC10690548_TGCGGGTTCAAGATCC-1 -6              \n",
       "UK-CIC10690340+UK-CIC10690532_GTGCAGCGTTATCCGA-1 -3              \n",
       "UK-CIC10690337+UK-CIC10690529_AACACGTTCGTTTGCC-1 -3              \n",
       "UK-CIC10690335+UK-CIC10690527_TGATTTCCAAGGACTG-1  2              \n",
       "UK-CIC10690355+UK-CIC10690547_CGATGGCCATGCGCAC-1 -6              "
      ]
     },
     "metadata": {},
     "output_type": "display_data"
    }
   ],
   "source": [
    "top_anno <-top_anno[order(top_anno$pseudotime_GPLVM),]\n",
    "head(top_anno)"
   ]
  },
  {
   "cell_type": "markdown",
   "id": "quick-frost",
   "metadata": {},
   "source": [
    "# get colann and plot heatmap"
   ]
  },
  {
   "cell_type": "code",
   "execution_count": 30,
   "id": "superb-india",
   "metadata": {},
   "outputs": [],
   "source": [
    "library(ComplexHeatmap)\n",
    "library(ggplot2)\n",
    "library(dplyr)\n",
    "library(RColorBrewer)\n",
    "library(circlize)\n",
    "\n",
    "ann <- data.frame(top_anno$sev,top_anno$pseudotime_GPLVM, top_anno$case_control,top_anno$time_from_inf,top_anno$pseudo_time,top_anno$time_from_pos_swab,top_anno$time_from_first_symptoms,top_anno$day_from_steroid)#top_anno$day_from_steroid,\n",
    "colnames(ann) <- c('sev','pseudotime_GPLVM', 'case_control','time_from_inf','pseudotime','time_from_pos_swab','time_from_first_symptoms','day_from_steroid')#,\n",
    "colours <- list('sev' = c('recovery'='green','mild' = 'gold','moderate' ='red','severe' = 'royalblue','critical'='black'),            \n",
    "  'case_control' = c('POSITIVE' = 'limegreen','RECOVERY'='purple'),#, 'RECOVERY' = 'gold'\n",
    "    'time_from_inf' = colorRamp2(c(min(top_anno$time_from_inf), max(top_anno$time_from_inf)), c(\"white\", \"blue\")),\n",
    "                'day_from_steroid' = colorRamp2(c(min(top_anno$day_from_steroid), max(top_anno$day_from_steroid)), c(\"white\", \"red\")),\n",
    "                'time_from_pos_swab' = colorRamp2(c(min(top_anno$time_from_pos_swab), max(top_anno$time_from_pos_swab)), c(\"white\", \"green\")),\n",
    "                'time_from_first_symptoms' = colorRamp2(c(min(top_anno$time_from_first_symptoms), max(top_anno$time_from_first_symptoms)), c(\"white\", \"black\"))\n",
    "        )\n",
    "colAnn <- HeatmapAnnotation(df = ann,\n",
    "  which = 'col',\n",
    "  col = colours,\n",
    "  annotation_width = unit(c(1, 4), 'cm'),\n",
    "  gap = unit(1, 'mm'))"
   ]
  },
  {
   "cell_type": "code",
   "execution_count": 39,
   "id": "deluxe-swimming",
   "metadata": {},
   "outputs": [
    {
     "name": "stderr",
     "output_type": "stream",
     "text": [
      "`use_raster` is automatically set to TRUE for a matrix with more than\n",
      "2000 columns You can control `use_raster` argument by explicitly\n",
      "setting TRUE/FALSE to it.\n",
      "\n",
      "Set `ht_opt$message = FALSE` to turn off this message.\n",
      "\n",
      "'magick' package is suggested to install to give better rasterization.\n",
      "\n",
      "Set `ht_opt$message = FALSE` to turn off this message.\n",
      "\n"
     ]
    },
    {
     "data": {
      "text/html": [
       "<strong>png:</strong> 3"
      ],
      "text/latex": [
       "\\textbf{png:} 3"
      ],
      "text/markdown": [
       "**png:** 3"
      ],
      "text/plain": [
       "png \n",
       "  3 "
      ]
     },
     "metadata": {},
     "output_type": "display_data"
    },
    {
     "data": {
      "text/html": [
       "<strong>png:</strong> 2"
      ],
      "text/latex": [
       "\\textbf{png:} 2"
      ],
      "text/markdown": [
       "**png:** 2"
      ],
      "text/plain": [
       "png \n",
       "  2 "
      ]
     },
     "metadata": {},
     "output_type": "display_data"
    },
    {
     "data": {
      "image/png": "[encoded data removed]",
      "text/plain": [
       "plot without title"
      ]
     },
     "metadata": {
      "image/png": {
       "height": 420,
       "width": 420
      }
     },
     "output_type": "display_data"
    }
   ],
   "source": [
    "\n",
    "hthc <- ComplexHeatmap::Heatmap(\n",
    "pt.matrix,\n",
    "  name                         = \"z-score\",\n",
    "  col                          = colorRamp2(seq(from=-2,to=2,length=11),rev(brewer.pal(11, \"Spectral\"))),\n",
    "  show_row_names               = FALSE,\n",
    "  show_column_names            = FALSE,\n",
    "  row_names_gp                 = gpar(fontsize = 12),\n",
    "  clustering_method_rows = \"ward.D2\",\n",
    "  clustering_method_columns = \"ward.D2\",\n",
    "  row_title_rot                = 0,\n",
    "  cluster_rows                 = TRUE,\n",
    "  cluster_row_slices           = FALSE,\n",
    "  cluster_columns              = FALSE,\n",
    "  width = unit(12.8, \"cm\"), height = unit(25, \"cm\"),\n",
    "  top_annotation = colAnn)\n",
    " # bottom_annotation = ba)\n",
    "print(hthc)\n",
    "\n",
    "\n",
    "file =paste0(\"/home/jovyan/scripts/renal_covid_19/steroid_pipeline/trajectory_with_Rik_model_output/\")\n",
    "dev.copy(png,filename=paste0(file,'allCD14_wave2_steroid_2021_norow1.png'),width=1200, height=2500);\n",
    "dev.off ();"
   ]
  },
  {
   "cell_type": "code",
   "execution_count": null,
   "id": "anticipated-temple",
   "metadata": {},
   "outputs": [],
   "source": []
  }
 ],
 "metadata": {
  "kernelspec": {
   "display_name": "R 4.1.2",
   "language": "R",
   "name": "ir412"
  },
  "language_info": {
   "codemirror_mode": "r",
   "file_extension": ".r",
   "mimetype": "text/x-r-source",
   "name": "R",
   "pygments_lexer": "r",
   "version": "4.1.2"
  }
 },
 "nbformat": 4,
 "nbformat_minor": 5
}
