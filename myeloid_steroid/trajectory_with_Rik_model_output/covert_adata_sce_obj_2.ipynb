{
 "cells": [
  {
   "cell_type": "code",
   "execution_count": 1,
   "id": "packed-hollywood",
   "metadata": {},
   "outputs": [
    {
     "name": "stdout",
     "output_type": "stream",
     "text": [
      "scanpy==1.8.2 anndata==0.8.0 umap==0.5.2 numpy==1.21.0 scipy==1.8.0 pandas==1.4.2 scikit-learn==0.24.2 statsmodels==0.13.2 python-igraph==0.9.9 pynndescent==0.5.6\n"
     ]
    }
   ],
   "source": [
    "import os\n",
    "#import tools\n",
    "import numpy as np\n",
    "import pandas as pd\n",
    "import scanpy as sc\n",
    "\n",
    "sc.logging.print_header()"
   ]
  },
  {
   "cell_type": "code",
   "execution_count": 2,
   "id": "adjustable-representation",
   "metadata": {},
   "outputs": [],
   "source": [
    "adata = sc.read('/home/jovyan/mounting_point/renal_covid_19_gex_myeloid_soupX_QC_orig.ident_annotated.h5ad',cache=True) #inlcude all myeloid annoted"
   ]
  },
  {
   "cell_type": "code",
   "execution_count": 3,
   "id": "collectible-radio",
   "metadata": {},
   "outputs": [
    {
     "data": {
      "text/plain": [
       "AnnData object with n_obs × n_vars = 220907 × 33559"
      ]
     },
     "execution_count": 3,
     "metadata": {},
     "output_type": "execute_result"
    }
   ],
   "source": [
    "mdata = sc.read('/home/jovyan/data/covid_19_renal/renal_covid_19_gex_myeloid_soupX_QC.h5ad') # raw data\n",
    "mdata"
   ]
  },
  {
   "cell_type": "code",
   "execution_count": 4,
   "id": "federal-drive",
   "metadata": {},
   "outputs": [
    {
     "data": {
      "text/plain": [
       "AnnData object with n_obs × n_vars = 220907 × 1232\n",
       "    obs: 'n_genes', 'n_genes_by_counts', 'total_counts', 'total_counts_mt', 'pct_counts_mt', 'centre', 'sample_id', 'sample_id_broad', 'sample_date', 'sample_date_yr', 'pool', 'pool_broad', 'haniffa_broad_predLabel', 'orig.ident', 'merged_souporcell_cluster', 'merged_souporcell_status', 'patient_id', 'case_control', 'leiden_1', 'annotation', 'annotation1_ES', 'annotation2_ES', 'annotation3A_ES', 'annotation3C_ES', 'annotation4_ES', 'annotation5_ES', 'annotation6_ES', 'annotation3C_updated_ES', 'annotation4_updated_ES', 'annotation5_updated_ES', 'annotation7_ES', 'annotation8_ES', 'annotation9_ES', 'annotation10_ES', 'annotation11_ES', 'annotation12_ES', 'annotation13_ES', 'annotation14_ES', 'annotation15_ES', 'annotation16_ES', 'annotation17_ES', 'annotation18_ES', 'annotation19_ES', 'annotation20_ES', 'annotation21_ES', 'annotation22_ES', 'annotation23_ES', 'annotation24_ES', 'annot3', 'annot2', 'annot1', 'annot4'\n",
       "    var: 'mt', 'n_cells_by_counts', 'mean_counts', 'pct_dropout_by_counts', 'total_counts', 'highly_variable', 'means', 'dispersions', 'dispersions_norm', 'mean', 'std'\n",
       "    uns: 'X_pca_harmony_orig.ident', 'annot1_colors', 'annot2_colors', 'annot3_colors', 'annot4_colors', 'annotation10_ES_colors', 'annotation13_ES_colors', 'annotation14_ES_colors', 'annotation15_ES_colors', 'annotation16_ES_colors', 'annotation17_ES_colors', 'annotation18_ES_colors', 'annotation19_ES_colors', 'annotation1_ES_colors', 'annotation20_ES_colors', 'annotation21_ES_colors', 'annotation22_ES_colors', 'annotation23_ES_colors', 'annotation24_ES_colors', 'annotation2_ES_colors', 'annotation3A_ES_colors', 'annotation3C_ES_colors', 'annotation3C_updated_ES_colors', 'annotation4_ES_colors', 'annotation5_ES_colors', 'annotation5_updated_ES_colors', 'annotation6_ES_colors', 'annotation7_ES_colors', 'annotation8_ES_colors', 'annotation9_ES_colors', 'bf_bc', 'case_control_colors', 'centre_colors', 'dendrogram_leiden_1', 'haniffa_broad_predLabel_colors', 'hvg', 'leiden', 'leiden_1_colors', 'leiden_1_t', 'leiden_1_wilcoxon', 'merged_souporcell_cluster_colors', 'merged_souporcell_status_colors', 'pca', 'rank_genes_groups', 'sample_date_yr_colors', 'sample_id_broad_colors', 'umap'\n",
       "    obsm: 'X_pca', 'X_pca_harmony_orig.ident', 'X_umap'\n",
       "    varm: 'PCs'\n",
       "    obsp: 'X_pca_harmony_orig.ident_connectivities', 'X_pca_harmony_orig.ident_distances', 'bf_bc_connectivities', 'bf_bc_distances'"
      ]
     },
     "execution_count": 4,
     "metadata": {},
     "output_type": "execute_result"
    }
   ],
   "source": [
    "adata"
   ]
  },
  {
   "cell_type": "code",
   "execution_count": 5,
   "id": "still-apache",
   "metadata": {},
   "outputs": [],
   "source": [
    "mdata.obs['annot4']= adata.obs['annot4'].astype('category')"
   ]
  },
  {
   "cell_type": "code",
   "execution_count": 6,
   "id": "separated-cricket",
   "metadata": {},
   "outputs": [
    {
     "name": "stderr",
     "output_type": "stream",
     "text": [
      "/tmp/ipykernel_4005/4236884049.py:1: DtypeWarning: Columns (54,58,62,74,78,82,86,144,145,146,147,149,150,151,161) have mixed types. Specify dtype option on import or set low_memory=False.\n",
      "  meta_obs=pd.read_csv('/home/jovyan/data/covid_19_renal/obs_myeloid.csv')\n"
     ]
    }
   ],
   "source": [
    "meta_obs=pd.read_csv('/home/jovyan/data/covid_19_renal/obs_myeloid.csv')"
   ]
  },
  {
   "cell_type": "code",
   "execution_count": 7,
   "id": "helpful-quality",
   "metadata": {},
   "outputs": [],
   "source": [
    "mdata.obs['centre'] = meta_obs['centre'].values.astype(\"str\") \n",
    "mdata.obs['centre'] = mdata.obs['centre'].astype('category')"
   ]
  },
  {
   "cell_type": "code",
   "execution_count": 8,
   "id": "assisted-inventory",
   "metadata": {},
   "outputs": [],
   "source": [
    "mdata.obs['sample_id']=meta_obs['sample_id'].values.astype(\"str\")\n",
    "mdata.obs['sample_id'] = mdata.obs['sample_id'].astype('category')"
   ]
  },
  {
   "cell_type": "code",
   "execution_count": 9,
   "id": "powered-billy",
   "metadata": {},
   "outputs": [],
   "source": [
    "mdata.obs['sample_id_broad'] = [x.split('_')[0] for x in mdata.obs['sample_id']]"
   ]
  },
  {
   "cell_type": "code",
   "execution_count": 10,
   "id": "addressed-secretariat",
   "metadata": {},
   "outputs": [],
   "source": [
    "mdata.obs['sample_date']=meta_obs['sample_date'].values.astype(\"str\") \n",
    "mdata.obs['sample_date'] = mdata.obs['sample_date'].astype('category')"
   ]
  },
  {
   "cell_type": "code",
   "execution_count": 11,
   "id": "massive-mongolia",
   "metadata": {},
   "outputs": [],
   "source": [
    "mdata.obs['sample_date_yr'] = [x.split('/')[-1] for x in mdata.obs['sample_date']]"
   ]
  },
  {
   "cell_type": "code",
   "execution_count": 12,
   "id": "american-drill",
   "metadata": {},
   "outputs": [],
   "source": [
    "mdata.obs['pool']=meta_obs['pool'].values.astype(\"str\") \n",
    "mdata.obs['pool'] = mdata.obs['pool'].astype('category')"
   ]
  },
  {
   "cell_type": "code",
   "execution_count": 13,
   "id": "comfortable-standard",
   "metadata": {},
   "outputs": [],
   "source": [
    "mdata.obs['pool_broad'] = [x.split('_')[0] for x in mdata.obs['pool']]"
   ]
  },
  {
   "cell_type": "code",
   "execution_count": 14,
   "id": "heard-parade",
   "metadata": {},
   "outputs": [],
   "source": [
    "mdata.obs['haniffa_broad_predLabel'] = \\\n",
    "meta_obs['haniffa_broad_predLabel'].values.astype(\"str\")\n",
    "mdata.obs['haniffa_broad_predLabel'] = mdata.obs['haniffa_broad_predLabel'].astype('category')"
   ]
  },
  {
   "cell_type": "code",
   "execution_count": 15,
   "id": "changed-excuse",
   "metadata": {},
   "outputs": [],
   "source": [
    "mdata.obs['orig.ident'] = meta_obs['orig.ident'].values.astype(\"str\") \n",
    "mdata.obs['orig.ident'] = mdata.obs['orig.ident'].astype('category')"
   ]
  },
  {
   "cell_type": "code",
   "execution_count": 16,
   "id": "collect-assistant",
   "metadata": {},
   "outputs": [],
   "source": [
    "mdata.obs['merged_souporcell_cluster'] = meta_obs['merged_souporcell_cluster'].values.astype(\"str\") \n",
    "mdata.obs['merged_souporcell_status'] = meta_obs['merged_souporcell_status'].values.astype(\"str\") \n",
    "mdata.obs['patient_id'] = meta_obs['patient_id'].values.astype(\"str\") \n",
    "mdata.obs['case_control'] = meta_obs['case_control'].values.astype(\"str\") \n",
    "\n",
    "mdata.obs['merged_souporcell_cluster'] = mdata.obs['merged_souporcell_cluster'].astype('category')\n",
    "mdata.obs['merged_souporcell_status'] = mdata.obs['merged_souporcell_status'].astype('category')\n",
    "mdata.obs['patient_id'] = mdata.obs['patient_id'].astype('category')\n",
    "mdata.obs['case_control'] = mdata.obs['case_control'].astype('category')\n"
   ]
  },
  {
   "cell_type": "code",
   "execution_count": 17,
   "id": "advanced-registration",
   "metadata": {},
   "outputs": [],
   "source": [
    "mdata.obs['WHO_severity'] = meta_obs['WHO_severity'].values.astype(\"str\") \n",
    "mdata.obs['WHO_severity'] = mdata.obs['WHO_severity'].astype('category')"
   ]
  },
  {
   "cell_type": "code",
   "execution_count": 18,
   "id": "wicked-comedy",
   "metadata": {},
   "outputs": [],
   "source": [
    "mdata.obs['WHO_temp_severity'] = meta_obs['WHO_temp_severity'].values.astype(\"str\") \n",
    "mdata.obs['WHO_temp_severity'] = mdata.obs['WHO_temp_severity'].astype('category')"
   ]
  },
  {
   "cell_type": "code",
   "execution_count": 19,
   "id": "suburban-lafayette",
   "metadata": {},
   "outputs": [],
   "source": [
    "mdata.obs['sex'] = meta_obs['sex'].values.astype(\"str\") \n",
    "mdata.obs['sex'] = mdata.obs['sex'].astype('category')\n",
    "\n",
    "mdata.obs['calc_age'] = meta_obs['calc_age'].values.astype(\"float\") "
   ]
  },
  {
   "cell_type": "code",
   "execution_count": 20,
   "id": "comic-deviation",
   "metadata": {},
   "outputs": [],
   "source": [
    "mdata.obs['discharge_date'] = meta_obs['discharge_date'].values.astype(\"str\") \n",
    "mdata.obs['discharge_date'] = mdata.obs['discharge_date'].astype('category')"
   ]
  },
  {
   "cell_type": "code",
   "execution_count": 21,
   "id": "attempted-activation",
   "metadata": {},
   "outputs": [],
   "source": [
    "mdata.obs['date_positive_swab'] = meta_obs['date_positive_swab'].values.astype(\"str\") \n",
    "mdata.obs['date_positive_swab'] = mdata.obs['date_positive_swab'].astype('category')"
   ]
  },
  {
   "cell_type": "code",
   "execution_count": 22,
   "id": "dress-dodge",
   "metadata": {},
   "outputs": [],
   "source": [
    "mdata.obs['date_first_symptoms'] = meta_obs['date_first_symptoms'].values.astype(\"str\") \n",
    "mdata.obs['date_first_symptoms'] = mdata.obs['date_first_symptoms'].astype('category')"
   ]
  },
  {
   "cell_type": "code",
   "execution_count": 23,
   "id": "identified-above",
   "metadata": {},
   "outputs": [],
   "source": [
    "mdata.obs['admission_date'] = meta_obs['admission_date'].values.astype(\"str\") \n",
    "mdata.obs['admission_date'] = mdata.obs['admission_date'].astype('category')"
   ]
  },
  {
   "cell_type": "code",
   "execution_count": 24,
   "id": "lined-promise",
   "metadata": {},
   "outputs": [],
   "source": [
    "mdata.obs['ethnicity'] = meta_obs['ethnicity'].values.astype(\"str\") \n",
    "mdata.obs['ethnicity'] = mdata.obs['ethnicity'].astype('category')"
   ]
  },
  {
   "cell_type": "code",
   "execution_count": 25,
   "id": "acquired-coffee",
   "metadata": {},
   "outputs": [],
   "source": [
    "mdata.obs['individual_id'] = [x.split('_')[0] for x in mdata.obs['sample_id']]\n",
    "mdata.obs['individual_id'] = mdata.obs['individual_id'].astype('category')"
   ]
  },
  {
   "cell_type": "code",
   "execution_count": 26,
   "id": "prime-perry",
   "metadata": {},
   "outputs": [],
   "source": [
    "#correction ##########\n",
    "mdata.obs['discharge_date'] = mdata.obs['discharge_date'].astype('str')\n",
    "mdata.obs.loc[mdata.obs[\"patient_id\"] == \"C65\", \"discharge_date\"] = '10/06/2020'\n",
    "mdata.obs['discharge_date'] = mdata.obs['discharge_date'].astype('category')"
   ]
  },
  {
   "cell_type": "code",
   "execution_count": 27,
   "id": "several-beverage",
   "metadata": {},
   "outputs": [
    {
     "data": {
      "text/plain": [
       "['C116_doublet',\n",
       " 'CD14mono_activated',\n",
       " 'CD16mono',\n",
       " 'pDC',\n",
       " 'doublet',\n",
       " 'CD14mono',\n",
       " 'Int.mono',\n",
       " 'CD16mono_C1',\n",
       " 'CD16mono_IFN',\n",
       " 'CD14mono_IFN',\n",
       " 'RBC',\n",
       " 'DC2',\n",
       " 'Platelet',\n",
       " 'CD14mono_anti_inflammatory',\n",
       " 'HSPC',\n",
       " 'DC3',\n",
       " 'DC1',\n",
       " 'DC3_IFN',\n",
       " 'ASDC',\n",
       " 'C139_doublet']"
      ]
     },
     "execution_count": 27,
     "metadata": {},
     "output_type": "execute_result"
    }
   ],
   "source": [
    "list(mdata.obs['annot4'].unique())"
   ]
  },
  {
   "cell_type": "code",
   "execution_count": 28,
   "id": "concerned-gross",
   "metadata": {},
   "outputs": [
    {
     "data": {
      "text/plain": [
       "AnnData object with n_obs × n_vars = 220907 × 33559\n",
       "    obs: 'annot4', 'centre', 'sample_id', 'sample_id_broad', 'sample_date', 'sample_date_yr', 'pool', 'pool_broad', 'haniffa_broad_predLabel', 'orig.ident', 'merged_souporcell_cluster', 'merged_souporcell_status', 'patient_id', 'case_control', 'WHO_severity', 'WHO_temp_severity', 'sex', 'calc_age', 'discharge_date', 'date_positive_swab', 'date_first_symptoms', 'admission_date', 'ethnicity', 'individual_id'"
      ]
     },
     "execution_count": 28,
     "metadata": {},
     "output_type": "execute_result"
    }
   ],
   "source": [
    "mdata"
   ]
  },
  {
   "cell_type": "code",
   "execution_count": 29,
   "id": "applicable-france",
   "metadata": {},
   "outputs": [],
   "source": [
    "myeloid_GPLVM = sc.read('/home/jovyan/scripts/renal_covid_19/steroid_pipeline/trajectory_with_Rik_model_output/myeloid_for_GPLVM.h5ad')"
   ]
  },
  {
   "cell_type": "code",
   "execution_count": 30,
   "id": "numerous-shirt",
   "metadata": {},
   "outputs": [],
   "source": [
    "mdata = mdata[mdata.obs_names.isin(myeloid_GPLVM.obs_names)]"
   ]
  },
  {
   "cell_type": "code",
   "execution_count": 31,
   "id": "passing-rebound",
   "metadata": {},
   "outputs": [
    {
     "data": {
      "text/plain": [
       "False"
      ]
     },
     "execution_count": 31,
     "metadata": {},
     "output_type": "execute_result"
    }
   ],
   "source": [
    "'C141' in list(mdata.obs['sample_id_broad'].unique())"
   ]
  },
  {
   "cell_type": "code",
   "execution_count": 32,
   "id": "soviet-somalia",
   "metadata": {},
   "outputs": [
    {
     "name": "stderr",
     "output_type": "stream",
     "text": [
      "/tmp/ipykernel_4005/1586193122.py:1: ImplicitModificationWarning: Trying to modify attribute `.obs` of view, initializing view as actual.\n",
      "  mdata.obs['pseudotime_GPLVM'] = mdata.obs['calc_age']\n",
      "/home/jovyan/my-conda-envs/Py_env2/lib/python3.8/contextlib.py:120: FutureWarning: X.dtype being converted to np.float32 from float64. In the next version of anndata (0.9) conversion will not be automatic. Pass dtype explicitly to avoid this warning. Pass `AnnData(X, dtype=X.dtype, ...)` to get the future behavour.\n",
      "  next(self.gen)\n"
     ]
    }
   ],
   "source": [
    "mdata.obs['pseudotime_GPLVM'] = mdata.obs['calc_age']\n",
    "mdata.obs['pseudotime_GPLVM'].update(pd.Series(myeloid_GPLVM.obs['pseudotime_GPLVM']))"
   ]
  },
  {
   "cell_type": "code",
   "execution_count": 33,
   "id": "partial-melissa",
   "metadata": {},
   "outputs": [],
   "source": [
    "mdata.obs['pseudobatch_GPLVM'] = mdata.obs['calc_age']\n",
    "mdata.obs['pseudobatch_GPLVM'].update(pd.Series(myeloid_GPLVM.obs['pseudobatch_GPLVM']))"
   ]
  },
  {
   "cell_type": "markdown",
   "id": "comprehensive-adapter",
   "metadata": {},
   "source": [
    "# steroid in wave 2 population (2021 only)"
   ]
  },
  {
   "cell_type": "code",
   "execution_count": 35,
   "id": "labeled-vienna",
   "metadata": {},
   "outputs": [
    {
     "data": {
      "text/plain": [
       "['NCL', 'Cambridge']\n",
       "Categories (2, object): ['Cambridge', 'NCL']"
      ]
     },
     "execution_count": 35,
     "metadata": {},
     "output_type": "execute_result"
    }
   ],
   "source": [
    "mdata.obs['centre'].unique()"
   ]
  },
  {
   "cell_type": "code",
   "execution_count": 36,
   "id": "settled-passion",
   "metadata": {},
   "outputs": [],
   "source": [
    "mdata = mdata[mdata.obs['centre'].isin(['Cambridge'])]"
   ]
  },
  {
   "cell_type": "code",
   "execution_count": 37,
   "id": "detailed-auction",
   "metadata": {},
   "outputs": [
    {
     "data": {
      "text/plain": [
       "['POSITIVE', 'NEGATIVE', 'RECOVERY']\n",
       "Categories (3, object): ['NEGATIVE', 'POSITIVE', 'RECOVERY']"
      ]
     },
     "execution_count": 37,
     "metadata": {},
     "output_type": "execute_result"
    }
   ],
   "source": [
    "mdata.obs['case_control'].unique()"
   ]
  },
  {
   "cell_type": "code",
   "execution_count": 38,
   "id": "fallen-writing",
   "metadata": {},
   "outputs": [],
   "source": [
    "#steroid\n",
    "mdata = mdata[mdata.obs['individual_id'].isin(['C146',\n",
    "'C139',\n",
    "'C147',\n",
    "'C145',\n",
    "'C138',\n",
    "'C33',\n",
    "'C101',\n",
    "'C141'])]"
   ]
  },
  {
   "cell_type": "code",
   "execution_count": 39,
   "id": "comparable-patent",
   "metadata": {},
   "outputs": [
    {
     "data": {
      "text/plain": [
       "\"\\n#no steroid\\nmdata = mdata[mdata.obs['individual_id'].isin(['C169',\\n'C170',\\n'C168',\\n'C108',\\n'C58',\\n'C140',\\n'C137',\\n'C187',\\n'C190'])]\\n\""
      ]
     },
     "execution_count": 39,
     "metadata": {},
     "output_type": "execute_result"
    }
   ],
   "source": [
    "'''\n",
    "#no steroid\n",
    "mdata = mdata[mdata.obs['individual_id'].isin(['C169',\n",
    "'C170',\n",
    "'C168',\n",
    "'C108',\n",
    "'C58',\n",
    "'C140',\n",
    "'C137',\n",
    "'C187',\n",
    "'C190'])]\n",
    "'''"
   ]
  },
  {
   "cell_type": "code",
   "execution_count": 40,
   "id": "generic-confirmation",
   "metadata": {},
   "outputs": [
    {
     "data": {
      "text/plain": [
       "['C101', 'C138', 'C145', 'C146', 'C147', 'C33']\n",
       "Categories (6, object): ['C101', 'C138', 'C145', 'C146', 'C147', 'C33']"
      ]
     },
     "execution_count": 40,
     "metadata": {},
     "output_type": "execute_result"
    }
   ],
   "source": [
    "mdata.obs['individual_id'].unique()"
   ]
  },
  {
   "cell_type": "code",
   "execution_count": 41,
   "id": "applied-intermediate",
   "metadata": {},
   "outputs": [],
   "source": [
    "mdata = mdata[mdata.obs['sample_date_yr'].isin(['2021'])]"
   ]
  },
  {
   "cell_type": "code",
   "execution_count": 42,
   "id": "aggregate-salmon",
   "metadata": {},
   "outputs": [
    {
     "data": {
      "text/plain": [
       "array(['2021'], dtype=object)"
      ]
     },
     "execution_count": 42,
     "metadata": {},
     "output_type": "execute_result"
    }
   ],
   "source": [
    "mdata.obs['sample_date_yr'].unique()"
   ]
  },
  {
   "cell_type": "code",
   "execution_count": 43,
   "id": "played-cathedral",
   "metadata": {},
   "outputs": [
    {
     "name": "stderr",
     "output_type": "stream",
     "text": [
      "/tmp/ipykernel_4005/1939575042.py:1: ImplicitModificationWarning: Trying to modify attribute `.obs` of view, initializing view as actual.\n",
      "  mdata.obs['steroid_date'] = 'nan'\n"
     ]
    }
   ],
   "source": [
    "mdata.obs['steroid_date'] = 'nan'\n",
    "mdata.obs.loc[mdata.obs[\"patient_id\"] == \"C146\", \"steroid_date\"] = '22/01/2021'\n",
    "mdata.obs.loc[mdata.obs[\"patient_id\"] == \"C139\", \"steroid_date\"] = '07/02/2021'\n",
    "mdata.obs.loc[mdata.obs[\"patient_id\"] == \"C147\", \"steroid_date\"] = '17/01/2021'\n",
    "mdata.obs.loc[mdata.obs[\"patient_id\"] == \"C145\", \"steroid_date\"] = '05/01/2021'\n",
    "mdata.obs.loc[mdata.obs[\"patient_id\"] == \"C138\", \"steroid_date\"] = '28/01/2021'\n",
    "mdata.obs.loc[mdata.obs[\"patient_id\"] == \"C33\", \"steroid_date\"] = '20/01/2021'\n",
    "mdata.obs.loc[mdata.obs[\"patient_id\"] == \"C101\", \"steroid_date\"] = '07/01/2021'\n",
    "mdata.obs.loc[mdata.obs[\"patient_id\"] == \"C141\", \"steroid_date\"] = '02/02/2021'"
   ]
  },
  {
   "cell_type": "code",
   "execution_count": 44,
   "id": "framed-concentrate",
   "metadata": {},
   "outputs": [
    {
     "data": {
      "text/plain": [
       "['07/01/2021',\n",
       " '28/01/2021',\n",
       " '05/01/2021',\n",
       " '22/01/2021',\n",
       " '17/01/2021',\n",
       " '20/01/2021']"
      ]
     },
     "execution_count": 44,
     "metadata": {},
     "output_type": "execute_result"
    }
   ],
   "source": [
    "list(mdata.obs['steroid_date'].unique())"
   ]
  },
  {
   "cell_type": "code",
   "execution_count": 45,
   "id": "prime-metallic",
   "metadata": {},
   "outputs": [],
   "source": [
    "tmp = mdata.copy()\n",
    "tmp.obs['sample_date'] = tmp.obs['sample_date'].astype('object')\n",
    "time_from_steroid = pd.to_datetime(tmp.obs['sample_date'], format='%d/%m/%Y') - pd.to_datetime(tmp.obs['steroid_date'], format='%d/%m/%Y')"
   ]
  },
  {
   "cell_type": "code",
   "execution_count": 46,
   "id": "expected-founder",
   "metadata": {},
   "outputs": [],
   "source": [
    "days_from_steroid = time_from_steroid.dt.days"
   ]
  },
  {
   "cell_type": "code",
   "execution_count": 47,
   "id": "secondary-management",
   "metadata": {},
   "outputs": [
    {
     "data": {
      "text/plain": [
       "-10"
      ]
     },
     "execution_count": 47,
     "metadata": {},
     "output_type": "execute_result"
    }
   ],
   "source": [
    "days_from_steroid.min()"
   ]
  },
  {
   "cell_type": "code",
   "execution_count": 48,
   "id": "pleasant-kidney",
   "metadata": {},
   "outputs": [],
   "source": [
    "mdata.obs['days_from_steroid'] = days_from_steroid"
   ]
  },
  {
   "cell_type": "code",
   "execution_count": 49,
   "id": "signal-least",
   "metadata": {},
   "outputs": [
    {
     "data": {
      "text/html": [
       "<div>\n",
       "<style scoped>\n",
       "    .dataframe tbody tr th:only-of-type {\n",
       "        vertical-align: middle;\n",
       "    }\n",
       "\n",
       "    .dataframe tbody tr th {\n",
       "        vertical-align: top;\n",
       "    }\n",
       "\n",
       "    .dataframe thead th {\n",
       "        text-align: right;\n",
       "    }\n",
       "</style>\n",
       "<table border=\"1\" class=\"dataframe\">\n",
       "  <thead>\n",
       "    <tr style=\"text-align: right;\">\n",
       "      <th>days_from_steroid</th>\n",
       "      <th>-10</th>\n",
       "      <th>-8</th>\n",
       "      <th>-6</th>\n",
       "      <th>-5</th>\n",
       "      <th>-4</th>\n",
       "      <th>-3</th>\n",
       "      <th>-2</th>\n",
       "      <th>-1</th>\n",
       "      <th>0</th>\n",
       "      <th>1</th>\n",
       "      <th>...</th>\n",
       "      <th>5</th>\n",
       "      <th>6</th>\n",
       "      <th>7</th>\n",
       "      <th>9</th>\n",
       "      <th>11</th>\n",
       "      <th>13</th>\n",
       "      <th>14</th>\n",
       "      <th>18</th>\n",
       "      <th>34</th>\n",
       "      <th>49</th>\n",
       "    </tr>\n",
       "    <tr>\n",
       "      <th>individual_id</th>\n",
       "      <th></th>\n",
       "      <th></th>\n",
       "      <th></th>\n",
       "      <th></th>\n",
       "      <th></th>\n",
       "      <th></th>\n",
       "      <th></th>\n",
       "      <th></th>\n",
       "      <th></th>\n",
       "      <th></th>\n",
       "      <th></th>\n",
       "      <th></th>\n",
       "      <th></th>\n",
       "      <th></th>\n",
       "      <th></th>\n",
       "      <th></th>\n",
       "      <th></th>\n",
       "      <th></th>\n",
       "      <th></th>\n",
       "      <th></th>\n",
       "      <th></th>\n",
       "    </tr>\n",
       "  </thead>\n",
       "  <tbody>\n",
       "    <tr>\n",
       "      <th>C101</th>\n",
       "      <td>0</td>\n",
       "      <td>0</td>\n",
       "      <td>0</td>\n",
       "      <td>0</td>\n",
       "      <td>0</td>\n",
       "      <td>0</td>\n",
       "      <td>0</td>\n",
       "      <td>79</td>\n",
       "      <td>0</td>\n",
       "      <td>0</td>\n",
       "      <td>...</td>\n",
       "      <td>0</td>\n",
       "      <td>1170</td>\n",
       "      <td>0</td>\n",
       "      <td>0</td>\n",
       "      <td>356</td>\n",
       "      <td>556</td>\n",
       "      <td>0</td>\n",
       "      <td>0</td>\n",
       "      <td>0</td>\n",
       "      <td>268</td>\n",
       "    </tr>\n",
       "    <tr>\n",
       "      <th>C138</th>\n",
       "      <td>0</td>\n",
       "      <td>0</td>\n",
       "      <td>0</td>\n",
       "      <td>241</td>\n",
       "      <td>0</td>\n",
       "      <td>0</td>\n",
       "      <td>1608</td>\n",
       "      <td>0</td>\n",
       "      <td>404</td>\n",
       "      <td>0</td>\n",
       "      <td>...</td>\n",
       "      <td>1624</td>\n",
       "      <td>0</td>\n",
       "      <td>188</td>\n",
       "      <td>0</td>\n",
       "      <td>0</td>\n",
       "      <td>0</td>\n",
       "      <td>0</td>\n",
       "      <td>0</td>\n",
       "      <td>0</td>\n",
       "      <td>0</td>\n",
       "    </tr>\n",
       "    <tr>\n",
       "      <th>C145</th>\n",
       "      <td>0</td>\n",
       "      <td>0</td>\n",
       "      <td>0</td>\n",
       "      <td>0</td>\n",
       "      <td>0</td>\n",
       "      <td>0</td>\n",
       "      <td>0</td>\n",
       "      <td>0</td>\n",
       "      <td>0</td>\n",
       "      <td>0</td>\n",
       "      <td>...</td>\n",
       "      <td>0</td>\n",
       "      <td>0</td>\n",
       "      <td>33</td>\n",
       "      <td>285</td>\n",
       "      <td>0</td>\n",
       "      <td>0</td>\n",
       "      <td>312</td>\n",
       "      <td>127</td>\n",
       "      <td>0</td>\n",
       "      <td>0</td>\n",
       "    </tr>\n",
       "    <tr>\n",
       "      <th>C146</th>\n",
       "      <td>868</td>\n",
       "      <td>313</td>\n",
       "      <td>42</td>\n",
       "      <td>0</td>\n",
       "      <td>0</td>\n",
       "      <td>238</td>\n",
       "      <td>0</td>\n",
       "      <td>0</td>\n",
       "      <td>0</td>\n",
       "      <td>94</td>\n",
       "      <td>...</td>\n",
       "      <td>392</td>\n",
       "      <td>0</td>\n",
       "      <td>0</td>\n",
       "      <td>0</td>\n",
       "      <td>0</td>\n",
       "      <td>0</td>\n",
       "      <td>0</td>\n",
       "      <td>0</td>\n",
       "      <td>893</td>\n",
       "      <td>0</td>\n",
       "    </tr>\n",
       "    <tr>\n",
       "      <th>C147</th>\n",
       "      <td>0</td>\n",
       "      <td>0</td>\n",
       "      <td>0</td>\n",
       "      <td>0</td>\n",
       "      <td>0</td>\n",
       "      <td>1236</td>\n",
       "      <td>0</td>\n",
       "      <td>0</td>\n",
       "      <td>0</td>\n",
       "      <td>0</td>\n",
       "      <td>...</td>\n",
       "      <td>0</td>\n",
       "      <td>404</td>\n",
       "      <td>0</td>\n",
       "      <td>1172</td>\n",
       "      <td>1361</td>\n",
       "      <td>0</td>\n",
       "      <td>0</td>\n",
       "      <td>0</td>\n",
       "      <td>0</td>\n",
       "      <td>0</td>\n",
       "    </tr>\n",
       "    <tr>\n",
       "      <th>C33</th>\n",
       "      <td>0</td>\n",
       "      <td>0</td>\n",
       "      <td>516</td>\n",
       "      <td>0</td>\n",
       "      <td>85</td>\n",
       "      <td>0</td>\n",
       "      <td>0</td>\n",
       "      <td>283</td>\n",
       "      <td>0</td>\n",
       "      <td>0</td>\n",
       "      <td>...</td>\n",
       "      <td>0</td>\n",
       "      <td>683</td>\n",
       "      <td>0</td>\n",
       "      <td>0</td>\n",
       "      <td>0</td>\n",
       "      <td>0</td>\n",
       "      <td>0</td>\n",
       "      <td>0</td>\n",
       "      <td>0</td>\n",
       "      <td>0</td>\n",
       "    </tr>\n",
       "  </tbody>\n",
       "</table>\n",
       "<p>6 rows × 22 columns</p>\n",
       "</div>"
      ],
      "text/plain": [
       "days_from_steroid  -10  -8   -6   -5   -4    -3    -2   -1    0    1   ...  \\\n",
       "individual_id                                                          ...   \n",
       "C101                 0    0    0    0    0     0     0   79    0    0  ...   \n",
       "C138                 0    0    0  241    0     0  1608    0  404    0  ...   \n",
       "C145                 0    0    0    0    0     0     0    0    0    0  ...   \n",
       "C146               868  313   42    0    0   238     0    0    0   94  ...   \n",
       "C147                 0    0    0    0    0  1236     0    0    0    0  ...   \n",
       "C33                  0    0  516    0   85     0     0  283    0    0  ...   \n",
       "\n",
       "days_from_steroid    5     6    7     9     11   13   14   18   34   49  \n",
       "individual_id                                                            \n",
       "C101                  0  1170    0     0   356  556    0    0    0  268  \n",
       "C138               1624     0  188     0     0    0    0    0    0    0  \n",
       "C145                  0     0   33   285     0    0  312  127    0    0  \n",
       "C146                392     0    0     0     0    0    0    0  893    0  \n",
       "C147                  0   404    0  1172  1361    0    0    0    0    0  \n",
       "C33                   0   683    0     0     0    0    0    0    0    0  \n",
       "\n",
       "[6 rows x 22 columns]"
      ]
     },
     "execution_count": 49,
     "metadata": {},
     "output_type": "execute_result"
    }
   ],
   "source": [
    "df =pd.crosstab(mdata.obs['individual_id'],mdata.obs['days_from_steroid'])\n",
    "df"
   ]
  },
  {
   "cell_type": "code",
   "execution_count": 52,
   "id": "radical-afghanistan",
   "metadata": {},
   "outputs": [],
   "source": [
    "import anndata2ri\n",
    "anndata2ri.activate()\n",
    "%load_ext rpy2.ipython"
   ]
  },
  {
   "cell_type": "code",
   "execution_count": 53,
   "id": "continental-system",
   "metadata": {},
   "outputs": [
    {
     "data": {
      "text/plain": [
       "['singlet']\n",
       "Categories (1, object): ['singlet']"
      ]
     },
     "execution_count": 53,
     "metadata": {},
     "output_type": "execute_result"
    }
   ],
   "source": [
    "mdata.obs['merged_souporcell_status'].unique()"
   ]
  },
  {
   "cell_type": "code",
   "execution_count": 54,
   "id": "native-finger",
   "metadata": {},
   "outputs": [
    {
     "data": {
      "text/plain": [
       "['singlet']\n",
       "Categories (1, object): ['singlet']"
      ]
     },
     "execution_count": 54,
     "metadata": {},
     "output_type": "execute_result"
    }
   ],
   "source": [
    "# remove doublets\n",
    "mdata = mdata[(mdata.obs['merged_souporcell_status'] == 'singlet')].copy()\n",
    "mdata.obs['merged_souporcell_status'].unique()\n"
   ]
  },
  {
   "cell_type": "code",
   "execution_count": 55,
   "id": "first-recycling",
   "metadata": {},
   "outputs": [
    {
     "name": "stdout",
     "output_type": "stream",
     "text": [
      "33\n",
      "6\n",
      "['POSITIVE', 'RECOVERY']\n",
      "Categories (2, object): ['POSITIVE', 'RECOVERY']\n"
     ]
    },
    {
     "data": {
      "text/plain": [
       "AnnData object with n_obs × n_vars = 17256 × 33559\n",
       "    obs: 'annot4', 'centre', 'sample_id', 'sample_id_broad', 'sample_date', 'sample_date_yr', 'pool', 'pool_broad', 'haniffa_broad_predLabel', 'orig.ident', 'merged_souporcell_cluster', 'merged_souporcell_status', 'patient_id', 'case_control', 'WHO_severity', 'WHO_temp_severity', 'sex', 'calc_age', 'discharge_date', 'date_positive_swab', 'date_first_symptoms', 'admission_date', 'ethnicity', 'individual_id', 'pseudotime_GPLVM', 'pseudobatch_GPLVM', 'steroid_date', 'days_from_steroid'"
      ]
     },
     "execution_count": 55,
     "metadata": {},
     "output_type": "execute_result"
    }
   ],
   "source": [
    "print(len(mdata.obs['sample_id'].unique()))\n",
    "print(len(mdata.obs['patient_id'].unique()))\n",
    "print(mdata.obs['case_control'].unique())\n",
    "# remove the unannotated samples\n",
    "mdata = mdata[(mdata.obs['sample_id'] != 'NA') & (~mdata.obs['patient_id'].isin(['NULL', 'unresolved'])) & (mdata.obs['case_control'] != 'NA')].copy()\n",
    "mdata\n"
   ]
  },
  {
   "cell_type": "code",
   "execution_count": 56,
   "id": "accepted-package",
   "metadata": {},
   "outputs": [
    {
     "name": "stdout",
     "output_type": "stream",
     "text": [
      "33\n",
      "6\n",
      "['POSITIVE', 'RECOVERY']\n",
      "Categories (2, object): ['POSITIVE', 'RECOVERY']\n"
     ]
    }
   ],
   "source": [
    "print(len(mdata.obs['sample_id'].unique()))\n",
    "print(len(mdata.obs['patient_id'].unique()))\n",
    "print(mdata.obs['case_control'].unique())"
   ]
  },
  {
   "cell_type": "code",
   "execution_count": 57,
   "id": "swiss-evanescence",
   "metadata": {},
   "outputs": [
    {
     "name": "stderr",
     "output_type": "stream",
     "text": [
      "/tmp/ipykernel_4005/2167180621.py:12: SettingWithCopyWarning: modifications to a property of a datetimelike object are not supported and are discarded. Change values on the original.\n",
      "  days_from_first_symptoms.fillna(0, inplace = True)\n",
      "/tmp/ipykernel_4005/2167180621.py:13: SettingWithCopyWarning: modifications to a property of a datetimelike object are not supported and are discarded. Change values on the original.\n",
      "  days_from_positive_swab.fillna(0, inplace = True)\n"
     ]
    }
   ],
   "source": [
    "# calculate days to sampling, days to admission, days to first symptoms, days to discharge from positive swab\n",
    "tmp = mdata.copy()\n",
    "tmp.obs['sample_date'] = tmp.obs['sample_date'].astype('object')\n",
    "tmp.obs['date_first_symptoms'] = tmp.obs['date_first_symptoms'].astype('object')\n",
    "tmp.obs['date_positive_swab'] = tmp.obs['date_positive_swab'].astype('object')\n",
    "tmp.obs['date_first_symptoms'].replace({'NA':np.nan}, inplace = True)\n",
    "tmp.obs['date_positive_swab'].replace({'NA':np.nan}, inplace = True)\n",
    "time_from_first_symptoms = pd.to_datetime(tmp.obs['sample_date'], format='%d/%m/%Y') - pd.to_datetime(tmp.obs['date_first_symptoms'], format='%d/%m/%Y')\n",
    "time_from_positive_swab = pd.to_datetime(tmp.obs['sample_date'], format='%d/%m/%Y') - pd.to_datetime(tmp.obs['date_positive_swab'], format='%d/%m/%Y')\n",
    "days_from_first_symptoms = time_from_first_symptoms.dt.days\n",
    "days_from_positive_swab = time_from_positive_swab.dt.days\n",
    "days_from_first_symptoms.fillna(0, inplace = True)\n",
    "days_from_positive_swab.fillna(0, inplace = True)"
   ]
  },
  {
   "cell_type": "code",
   "execution_count": 58,
   "id": "tribal-flashing",
   "metadata": {},
   "outputs": [
    {
     "data": {
      "text/plain": [
       "50"
      ]
     },
     "execution_count": 58,
     "metadata": {},
     "output_type": "execute_result"
    }
   ],
   "source": [
    "max(days_from_first_symptoms)\n"
   ]
  },
  {
   "cell_type": "code",
   "execution_count": 59,
   "id": "spiritual-walter",
   "metadata": {},
   "outputs": [
    {
     "data": {
      "text/plain": [
       "2"
      ]
     },
     "execution_count": 59,
     "metadata": {},
     "output_type": "execute_result"
    }
   ],
   "source": [
    "min(days_from_positive_swab)\n"
   ]
  },
  {
   "cell_type": "code",
   "execution_count": 60,
   "id": "addressed-sessions",
   "metadata": {},
   "outputs": [],
   "source": [
    "days_from_infection = [max(a,b) for a,b in zip(days_from_first_symptoms, days_from_positive_swab)]\n"
   ]
  },
  {
   "cell_type": "code",
   "execution_count": 61,
   "id": "smooth-observer",
   "metadata": {},
   "outputs": [
    {
     "data": {
      "text/plain": [
       "54"
      ]
     },
     "execution_count": 61,
     "metadata": {},
     "output_type": "execute_result"
    }
   ],
   "source": [
    "max(days_from_infection)\n"
   ]
  },
  {
   "cell_type": "code",
   "execution_count": 62,
   "id": "written-latin",
   "metadata": {},
   "outputs": [],
   "source": [
    "mdata.obs['time_from_first_symptoms'] = days_from_first_symptoms\n",
    "mdata.obs['time_from_positive_swab'] = days_from_positive_swab\n",
    "mdata.obs['time_from_infection'] = days_from_infection"
   ]
  },
  {
   "cell_type": "markdown",
   "id": "incorrect-egypt",
   "metadata": {},
   "source": [
    "### remove the viral and VDJ features"
   ]
  },
  {
   "cell_type": "code",
   "execution_count": 63,
   "id": "defined-sight",
   "metadata": {},
   "outputs": [
    {
     "data": {
      "text/plain": [
       "View of AnnData object with n_obs × n_vars = 17256 × 32913\n",
       "    obs: 'annot4', 'centre', 'sample_id', 'sample_id_broad', 'sample_date', 'sample_date_yr', 'pool', 'pool_broad', 'haniffa_broad_predLabel', 'orig.ident', 'merged_souporcell_cluster', 'merged_souporcell_status', 'patient_id', 'case_control', 'WHO_severity', 'WHO_temp_severity', 'sex', 'calc_age', 'discharge_date', 'date_positive_swab', 'date_first_symptoms', 'admission_date', 'ethnicity', 'individual_id', 'pseudotime_GPLVM', 'pseudobatch_GPLVM', 'steroid_date', 'days_from_steroid', 'time_from_first_symptoms', 'time_from_positive_swab', 'time_from_infection'\n",
       "    var: 'GEX'"
      ]
     },
     "execution_count": 63,
     "metadata": {},
     "output_type": "execute_result"
    }
   ],
   "source": [
    "import re\n",
    "mdata.var['GEX'] = [False if re.search('VIRAL|^IG[HKL][VDJC]|^TR[ABDG][VDJ]', i) else True for i in mdata.var.index]\n",
    "mdata = mdata[:,mdata.var.GEX]\n",
    "mdata\n"
   ]
  },
  {
   "cell_type": "code",
   "execution_count": 64,
   "id": "seven-soldier",
   "metadata": {},
   "outputs": [
    {
     "name": "stdout",
     "output_type": "stream",
     "text": [
      "17256\n",
      "17256\n"
     ]
    }
   ],
   "source": [
    "print (len(mdata.obs))\n",
    "mdata_sub=sc.pp.subsample(mdata, fraction=None, n_obs=len(mdata.obs), random_state=0, copy=True)\n",
    "print(len(mdata_sub.obs))\n",
    "mdata_sub.X=mdata_sub.X.A\n"
   ]
  },
  {
   "cell_type": "code",
   "execution_count": 65,
   "id": "sought-stake",
   "metadata": {},
   "outputs": [
    {
     "name": "stderr",
     "output_type": "stream",
     "text": [
      "/home/jovyan/my-conda-envs/Py_env2/lib/python3.8/site-packages/anndata2ri/r2py.py:102: FutureWarning: X.dtype being converted to np.float32 from float64. In the next version of anndata (0.9) conversion will not be automatic. Pass dtype explicitly to avoid this warning. Pass `AnnData(X, dtype=X.dtype, ...)` to get the future behavour.\n",
      "  return AnnData(exprs, obs, var, uns, obsm or None, layers=layers)\n"
     ]
    }
   ],
   "source": [
    "%%R -i mdata_sub\n",
    "saveRDS(mdata_sub, '/home/jovyan/scripts/renal_covid_19/steroid_pipeline/trajectory_with_Rik_model_output/wave2_steroid_2021_covid_GPLVM.RDS')"
   ]
  },
  {
   "cell_type": "code",
   "execution_count": 66,
   "id": "extraordinary-insulin",
   "metadata": {},
   "outputs": [],
   "source": [
    "save_file = '/home/jovyan/scripts/renal_covid_19/steroid_pipeline/trajectory_with_Rik_model_output/wave2_steroid_2021_covid_GPLVM.h5ad'\n",
    "mdata_sub.write_h5ad(save_file)"
   ]
  },
  {
   "cell_type": "code",
   "execution_count": null,
   "id": "enhanced-flower",
   "metadata": {},
   "outputs": [],
   "source": []
  }
 ],
 "metadata": {
  "kernelspec": {
   "display_name": "Py_env2",
   "language": "python",
   "name": "py_env2"
  },
  "language_info": {
   "codemirror_mode": {
    "name": "ipython",
    "version": 3
   },
   "file_extension": ".py",
   "mimetype": "text/x-python",
   "name": "python",
   "nbconvert_exporter": "python",
   "pygments_lexer": "ipython3",
   "version": "3.8.13"
  }
 },
 "nbformat": 4,
 "nbformat_minor": 5
}
