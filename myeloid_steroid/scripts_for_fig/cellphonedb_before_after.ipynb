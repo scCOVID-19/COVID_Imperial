{
 "cells": [
  {
   "cell_type": "code",
   "execution_count": 1,
   "id": "seventh-merit",
   "metadata": {},
   "outputs": [],
   "source": [
    "#https://github.com/ventolab/CellphoneDB/tree/master/notebooks\n",
    "##conda activate cpdb\n",
    "#cellphonedb method statistical_analysis covid_CD16mono_platelet_meta.txt covid_CD16mono_platelet_count.txt --counts-data=gene_name#\n",
    "#cellphonedb plot dot_plot --rows in/rows.txt --columns in/columns.txt"
   ]
  },
  {
   "cell_type": "code",
   "execution_count": 2,
   "id": "incorporated-utility",
   "metadata": {},
   "outputs": [],
   "source": [
    "import pandas as pd\n",
    "import scanpy as sc\n",
    "\n",
    "# data after filtering and normalising\n",
    "adata = sc.read('/home/jovyan/scripts/renal_covid_19/steroid_pipeline/trajectory_with_Rik_model_output/wave2_steroid_2021_covid_GPLVM.h5ad') #inlcude all myeloid annoted\n",
    "\n"
   ]
  },
  {
   "cell_type": "code",
   "execution_count": 3,
   "id": "laden-saskatchewan",
   "metadata": {},
   "outputs": [],
   "source": [
    "raw= sc.read('/home/jovyan/data/covid_19_renal/renal_covid_19_gex_myeloid_soupX_QC.h5ad')"
   ]
  },
  {
   "cell_type": "code",
   "execution_count": 4,
   "id": "duplicate-space",
   "metadata": {},
   "outputs": [],
   "source": [
    "mdata = raw[raw.obs.index.isin(adata.obs.index)]"
   ]
  },
  {
   "cell_type": "code",
   "execution_count": 5,
   "id": "potential-character",
   "metadata": {},
   "outputs": [
    {
     "data": {
      "text/plain": [
       "View of AnnData object with n_obs × n_vars = 17256 × 33559"
      ]
     },
     "execution_count": 5,
     "metadata": {},
     "output_type": "execute_result"
    }
   ],
   "source": [
    "mdata"
   ]
  },
  {
   "cell_type": "code",
   "execution_count": 6,
   "id": "leading-parish",
   "metadata": {},
   "outputs": [
    {
     "data": {
      "text/plain": [
       "AnnData object with n_obs × n_vars = 17256 × 32913\n",
       "    obs: 'annot4', 'centre', 'sample_id', 'sample_id_broad', 'sample_date', 'sample_date_yr', 'pool', 'pool_broad', 'haniffa_broad_predLabel', 'orig.ident', 'merged_souporcell_cluster', 'merged_souporcell_status', 'patient_id', 'case_control', 'WHO_severity', 'WHO_temp_severity', 'sex', 'calc_age', 'discharge_date', 'date_positive_swab', 'date_first_symptoms', 'admission_date', 'ethnicity', 'individual_id', 'pseudotime_GPLVM', 'pseudobatch_GPLVM', 'steroid_date', 'days_from_steroid', 'time_from_first_symptoms', 'time_from_positive_swab', 'time_from_infection'\n",
       "    var: 'GEX'"
      ]
     },
     "execution_count": 6,
     "metadata": {},
     "output_type": "execute_result"
    }
   ],
   "source": [
    "adata"
   ]
  },
  {
   "cell_type": "code",
   "execution_count": 7,
   "id": "temporal-startup",
   "metadata": {},
   "outputs": [
    {
     "data": {
      "text/plain": [
       "AnnData object with n_obs × n_vars = 220907 × 33559"
      ]
     },
     "execution_count": 7,
     "metadata": {},
     "output_type": "execute_result"
    }
   ],
   "source": [
    "raw"
   ]
  },
  {
   "cell_type": "code",
   "execution_count": 8,
   "id": "iraqi-differential",
   "metadata": {},
   "outputs": [
    {
     "name": "stderr",
     "output_type": "stream",
     "text": [
      "/tmp/ipykernel_3720/3235744017.py:1: ImplicitModificationWarning: Trying to modify attribute `.obs` of view, initializing view as actual.\n",
      "  mdata.obs['annot4'] = adata.obs['annot4']\n",
      "/home/jovyan/my-conda-envs/Py_env2/lib/python3.8/contextlib.py:120: FutureWarning: X.dtype being converted to np.float32 from float64. In the next version of anndata (0.9) conversion will not be automatic. Pass dtype explicitly to avoid this warning. Pass `AnnData(X, dtype=X.dtype, ...)` to get the future behavour.\n",
      "  next(self.gen)\n"
     ]
    }
   ],
   "source": [
    "mdata.obs['annot4'] = adata.obs['annot4']\n",
    "mdata.obs['centre'] = adata.obs['centre']\n",
    "mdata.obs['case_control'] = adata.obs['case_control']\n",
    "mdata.obs['WHO_severity'] = adata.obs['WHO_severity']\n",
    "mdata.obs['steroid_date'] = adata.obs['steroid_date']\n",
    "mdata.obs['days_from_steroid'] = adata.obs['days_from_steroid']"
   ]
  },
  {
   "cell_type": "code",
   "execution_count": 9,
   "id": "ecological-twelve",
   "metadata": {},
   "outputs": [
    {
     "data": {
      "text/plain": [
       "['pDC', 'CD14mono_anti_inflammatory', 'RBC', 'CD16mono', 'CD14mono', ..., 'Int.mono', 'CD14mono_activated', 'DC1', 'DC3_IFN', 'ASDC']\n",
       "Length: 17\n",
       "Categories (17, object): ['ASDC', 'CD14mono', 'CD14mono_IFN', 'CD14mono_activated', ..., 'Int.mono', 'Platelet', 'RBC', 'pDC']"
      ]
     },
     "execution_count": 9,
     "metadata": {},
     "output_type": "execute_result"
    }
   ],
   "source": [
    "mdata.obs['annot4'].unique()"
   ]
  },
  {
   "cell_type": "code",
   "execution_count": 10,
   "id": "liberal-opening",
   "metadata": {},
   "outputs": [],
   "source": [
    "#sc.pp.subsample(adata, fraction=None, n_obs=100, random_state=0, copy=False)#subsample"
   ]
  },
  {
   "cell_type": "code",
   "execution_count": 11,
   "id": "swiss-triangle",
   "metadata": {},
   "outputs": [],
   "source": [
    "mdata.obs['annot4'] = mdata.obs['annot4'].str.replace('CD14mono_activated','CD14mono')\n",
    "mdata.obs['annot4'] = mdata.obs['annot4'].str.replace('CD14mono_anti_inflammatory','CD14mono_alt_act')"
   ]
  },
  {
   "cell_type": "code",
   "execution_count": 12,
   "id": "abstract-ambassador",
   "metadata": {},
   "outputs": [
    {
     "data": {
      "text/plain": [
       "['pDC',\n",
       " 'CD14mono_alt_act',\n",
       " 'RBC',\n",
       " 'CD16mono',\n",
       " 'CD14mono',\n",
       " 'CD14mono_IFN',\n",
       " 'DC2',\n",
       " 'DC3',\n",
       " 'Platelet',\n",
       " 'CD16mono_IFN',\n",
       " 'HSPC',\n",
       " 'CD16mono_C1',\n",
       " 'Int.mono',\n",
       " 'DC1',\n",
       " 'DC3_IFN',\n",
       " 'ASDC']"
      ]
     },
     "execution_count": 12,
     "metadata": {},
     "output_type": "execute_result"
    }
   ],
   "source": [
    "list(mdata.obs['annot4'].unique())"
   ]
  },
  {
   "cell_type": "code",
   "execution_count": 13,
   "id": "oriental-description",
   "metadata": {},
   "outputs": [],
   "source": [
    "cell_interested=['CD14mono_alt_act','CD16mono','CD16mono_IFN',\n",
    "                 'CD16mono_C1','CD14mono','CD14mono_IFN','Int.mono','Platelet']\n",
    "sub_set=mdata[mdata.obs['annot4'].isin(cell_interested)]\n"
   ]
  },
  {
   "cell_type": "code",
   "execution_count": 14,
   "id": "guilty-assistant",
   "metadata": {},
   "outputs": [
    {
     "data": {
      "text/plain": [
       "['CD14mono_alt_act',\n",
       " 'CD16mono',\n",
       " 'CD14mono',\n",
       " 'CD14mono_IFN',\n",
       " 'Platelet',\n",
       " 'CD16mono_IFN',\n",
       " 'CD16mono_C1',\n",
       " 'Int.mono']"
      ]
     },
     "execution_count": 14,
     "metadata": {},
     "output_type": "execute_result"
    }
   ],
   "source": [
    "list(sub_set.obs['annot4'].unique())"
   ]
  },
  {
   "cell_type": "code",
   "execution_count": 15,
   "id": "characteristic-hostel",
   "metadata": {},
   "outputs": [
    {
     "data": {
      "text/plain": [
       "['Cambridge']\n",
       "Categories (1, object): ['Cambridge']"
      ]
     },
     "execution_count": 15,
     "metadata": {},
     "output_type": "execute_result"
    }
   ],
   "source": [
    "sub_set.obs['centre'].unique()"
   ]
  },
  {
   "cell_type": "code",
   "execution_count": 16,
   "id": "czech-browse",
   "metadata": {},
   "outputs": [
    {
     "data": {
      "text/plain": [
       "['POSITIVE', 'RECOVERY']\n",
       "Categories (2, object): ['POSITIVE', 'RECOVERY']"
      ]
     },
     "execution_count": 16,
     "metadata": {},
     "output_type": "execute_result"
    }
   ],
   "source": [
    "sub_set.obs['case_control'].unique()"
   ]
  },
  {
   "cell_type": "code",
   "execution_count": 17,
   "id": "domestic-harrison",
   "metadata": {},
   "outputs": [],
   "source": [
    "sub_set = sub_set[sub_set.obs['case_control']=='POSITIVE']"
   ]
  },
  {
   "cell_type": "code",
   "execution_count": 18,
   "id": "composite-sellers",
   "metadata": {},
   "outputs": [
    {
     "data": {
      "text/plain": [
       "['POSITIVE']\n",
       "Categories (1, object): ['POSITIVE']"
      ]
     },
     "execution_count": 18,
     "metadata": {},
     "output_type": "execute_result"
    }
   ],
   "source": [
    "sub_set.obs['case_control'].unique()"
   ]
  },
  {
   "cell_type": "code",
   "execution_count": 19,
   "id": "ideal-device",
   "metadata": {},
   "outputs": [
    {
     "data": {
      "text/plain": [
       "['moderate', 'severe', 'critical']\n",
       "Categories (3, object): ['critical', 'moderate', 'severe']"
      ]
     },
     "execution_count": 19,
     "metadata": {},
     "output_type": "execute_result"
    }
   ],
   "source": [
    "sub_set.obs['WHO_severity'].unique()"
   ]
  },
  {
   "cell_type": "code",
   "execution_count": 20,
   "id": "speaking-karen",
   "metadata": {},
   "outputs": [
    {
     "data": {
      "text/plain": [
       "array([  7,  -1,   5,   2,  18,  14,  -5,  11, -10,   9,  -3,   1,  -6,\n",
       "         6,   4,  -4,   0,  13,  -2,  -8])"
      ]
     },
     "execution_count": 20,
     "metadata": {},
     "output_type": "execute_result"
    }
   ],
   "source": [
    "sub_set.obs['days_from_steroid'].unique()"
   ]
  },
  {
   "cell_type": "code",
   "execution_count": 21,
   "id": "criminal-prophet",
   "metadata": {},
   "outputs": [],
   "source": [
    "sub_set = sub_set[sub_set.obs['days_from_steroid']>0] # for before steroid"
   ]
  },
  {
   "cell_type": "code",
   "execution_count": 22,
   "id": "novel-german",
   "metadata": {},
   "outputs": [
    {
     "data": {
      "text/plain": [
       "View of AnnData object with n_obs × n_vars = 8657 × 33559\n",
       "    obs: 'annot4', 'centre', 'case_control', 'WHO_severity', 'steroid_date', 'days_from_steroid'"
      ]
     },
     "execution_count": 22,
     "metadata": {},
     "output_type": "execute_result"
    }
   ],
   "source": [
    "sub_set"
   ]
  },
  {
   "cell_type": "code",
   "execution_count": 23,
   "id": "occasional-deployment",
   "metadata": {},
   "outputs": [
    {
     "data": {
      "text/plain": [
       "array([ 7,  5,  2, 18, 14, 11,  9,  1,  6,  4, 13])"
      ]
     },
     "execution_count": 23,
     "metadata": {},
     "output_type": "execute_result"
    }
   ],
   "source": [
    "sub_set.obs['days_from_steroid'].unique()"
   ]
  },
  {
   "cell_type": "code",
   "execution_count": 24,
   "id": "communist-sphere",
   "metadata": {},
   "outputs": [
    {
     "name": "stderr",
     "output_type": "stream",
     "text": [
      "/home/jovyan/.local/lib/python3.8/site-packages/scanpy-1.9.1-py3.8.egg/scanpy/preprocessing/_normalization.py:170: UserWarning: Received a view of an AnnData. Making a copy.\n",
      "  view_to_actual(adata)\n"
     ]
    }
   ],
   "source": [
    "sc.pp.normalize_total(sub_set, target_sum=1e4)"
   ]
  },
  {
   "cell_type": "code",
   "execution_count": 25,
   "id": "compatible-battery",
   "metadata": {},
   "outputs": [],
   "source": [
    "sc.pp.log1p(sub_set)"
   ]
  },
  {
   "cell_type": "code",
   "execution_count": 26,
   "id": "cardiovascular-nomination",
   "metadata": {},
   "outputs": [],
   "source": [
    "sub_set1=sub_set"
   ]
  },
  {
   "cell_type": "code",
   "execution_count": 27,
   "id": "collectible-owner",
   "metadata": {},
   "outputs": [
    {
     "data": {
      "text/plain": [
       "AnnData object with n_obs × n_vars = 8657 × 33559\n",
       "    obs: 'annot4', 'centre', 'case_control', 'WHO_severity', 'steroid_date', 'days_from_steroid'\n",
       "    uns: 'log1p'"
      ]
     },
     "execution_count": 27,
     "metadata": {},
     "output_type": "execute_result"
    }
   ],
   "source": [
    "sub_set1"
   ]
  },
  {
   "cell_type": "code",
   "execution_count": 28,
   "id": "compatible-thomas",
   "metadata": {},
   "outputs": [],
   "source": [
    "# remove vdj and light chain constant genes from highly variable genes, and also the viral reads\n",
    "import re\n",
    "for i in sub_set1.var.index:\n",
    "    if re.search('^IG[HKL][VDJC]|VIRAL', i):\n",
    "        sub_set1.var.at[i, 'highly_variable'] = False\n",
    "#sc.pl.highly_variable_genes(sub_set1)"
   ]
  },
  {
   "cell_type": "code",
   "execution_count": 29,
   "id": "lesser-valentine",
   "metadata": {},
   "outputs": [
    {
     "data": {
      "text/plain": [
       "View of AnnData object with n_obs × n_vars = 8657 × 33141\n",
       "    obs: 'annot4', 'centre', 'case_control', 'WHO_severity', 'steroid_date', 'days_from_steroid'\n",
       "    var: 'highly_variable'\n",
       "    uns: 'log1p'"
      ]
     },
     "execution_count": 29,
     "metadata": {},
     "output_type": "execute_result"
    }
   ],
   "source": [
    "sub_set1 = sub_set1[:, sub_set1.var.highly_variable!=False]\n",
    "sub_set1"
   ]
  },
  {
   "cell_type": "code",
   "execution_count": 30,
   "id": "later-windows",
   "metadata": {},
   "outputs": [
    {
     "data": {
      "text/html": [
       "<div>\n",
       "<style scoped>\n",
       "    .dataframe tbody tr th:only-of-type {\n",
       "        vertical-align: middle;\n",
       "    }\n",
       "\n",
       "    .dataframe tbody tr th {\n",
       "        vertical-align: top;\n",
       "    }\n",
       "\n",
       "    .dataframe thead th {\n",
       "        text-align: right;\n",
       "    }\n",
       "</style>\n",
       "<table border=\"1\" class=\"dataframe\">\n",
       "  <thead>\n",
       "    <tr style=\"text-align: right;\">\n",
       "      <th></th>\n",
       "      <th>highly_variable</th>\n",
       "    </tr>\n",
       "  </thead>\n",
       "  <tbody>\n",
       "    <tr>\n",
       "      <th>MIR1302-2HG</th>\n",
       "      <td>NaN</td>\n",
       "    </tr>\n",
       "    <tr>\n",
       "      <th>FAM138A</th>\n",
       "      <td>NaN</td>\n",
       "    </tr>\n",
       "    <tr>\n",
       "      <th>OR4F5</th>\n",
       "      <td>NaN</td>\n",
       "    </tr>\n",
       "    <tr>\n",
       "      <th>AL627309.1</th>\n",
       "      <td>NaN</td>\n",
       "    </tr>\n",
       "    <tr>\n",
       "      <th>AL627309.3</th>\n",
       "      <td>NaN</td>\n",
       "    </tr>\n",
       "    <tr>\n",
       "      <th>...</th>\n",
       "      <td>...</td>\n",
       "    </tr>\n",
       "    <tr>\n",
       "      <th>AC233755.2</th>\n",
       "      <td>NaN</td>\n",
       "    </tr>\n",
       "    <tr>\n",
       "      <th>AC233755.1</th>\n",
       "      <td>NaN</td>\n",
       "    </tr>\n",
       "    <tr>\n",
       "      <th>AC240274.1</th>\n",
       "      <td>NaN</td>\n",
       "    </tr>\n",
       "    <tr>\n",
       "      <th>AC213203.1</th>\n",
       "      <td>NaN</td>\n",
       "    </tr>\n",
       "    <tr>\n",
       "      <th>FAM231C</th>\n",
       "      <td>NaN</td>\n",
       "    </tr>\n",
       "  </tbody>\n",
       "</table>\n",
       "<p>33141 rows × 1 columns</p>\n",
       "</div>"
      ],
      "text/plain": [
       "            highly_variable\n",
       "MIR1302-2HG             NaN\n",
       "FAM138A                 NaN\n",
       "OR4F5                   NaN\n",
       "AL627309.1              NaN\n",
       "AL627309.3              NaN\n",
       "...                     ...\n",
       "AC233755.2              NaN\n",
       "AC233755.1              NaN\n",
       "AC240274.1              NaN\n",
       "AC213203.1              NaN\n",
       "FAM231C                 NaN\n",
       "\n",
       "[33141 rows x 1 columns]"
      ]
     },
     "execution_count": 30,
     "metadata": {},
     "output_type": "execute_result"
    }
   ],
   "source": [
    "sub_set1.var"
   ]
  },
  {
   "cell_type": "code",
   "execution_count": 31,
   "id": "verbal-terrorism",
   "metadata": {},
   "outputs": [],
   "source": [
    "df_expr_matrix = sub_set1.X.T ####? should be raw.X???"
   ]
  },
  {
   "cell_type": "code",
   "execution_count": 32,
   "id": "pending-shoot",
   "metadata": {},
   "outputs": [
    {
     "data": {
      "text/plain": [
       "(33141, 8657)"
      ]
     },
     "execution_count": 32,
     "metadata": {},
     "output_type": "execute_result"
    }
   ],
   "source": [
    "df_expr_matrix.shape"
   ]
  },
  {
   "cell_type": "code",
   "execution_count": 33,
   "id": "accessible-associate",
   "metadata": {},
   "outputs": [],
   "source": [
    "df_expr_matrix = pd.DataFrame(df_expr_matrix.toarray())"
   ]
  },
  {
   "cell_type": "code",
   "execution_count": 34,
   "id": "small-china",
   "metadata": {},
   "outputs": [
    {
     "data": {
      "text/html": [
       "<div>\n",
       "<style scoped>\n",
       "    .dataframe tbody tr th:only-of-type {\n",
       "        vertical-align: middle;\n",
       "    }\n",
       "\n",
       "    .dataframe tbody tr th {\n",
       "        vertical-align: top;\n",
       "    }\n",
       "\n",
       "    .dataframe thead th {\n",
       "        text-align: right;\n",
       "    }\n",
       "</style>\n",
       "<table border=\"1\" class=\"dataframe\">\n",
       "  <thead>\n",
       "    <tr style=\"text-align: right;\">\n",
       "      <th></th>\n",
       "      <th>0</th>\n",
       "      <th>1</th>\n",
       "      <th>2</th>\n",
       "      <th>3</th>\n",
       "      <th>4</th>\n",
       "      <th>5</th>\n",
       "      <th>6</th>\n",
       "      <th>7</th>\n",
       "      <th>8</th>\n",
       "      <th>9</th>\n",
       "      <th>...</th>\n",
       "      <th>8647</th>\n",
       "      <th>8648</th>\n",
       "      <th>8649</th>\n",
       "      <th>8650</th>\n",
       "      <th>8651</th>\n",
       "      <th>8652</th>\n",
       "      <th>8653</th>\n",
       "      <th>8654</th>\n",
       "      <th>8655</th>\n",
       "      <th>8656</th>\n",
       "    </tr>\n",
       "  </thead>\n",
       "  <tbody>\n",
       "    <tr>\n",
       "      <th>0</th>\n",
       "      <td>0.0</td>\n",
       "      <td>0.0</td>\n",
       "      <td>0.0</td>\n",
       "      <td>0.0</td>\n",
       "      <td>0.0</td>\n",
       "      <td>0.0</td>\n",
       "      <td>0.0</td>\n",
       "      <td>0.0</td>\n",
       "      <td>0.0</td>\n",
       "      <td>0.0</td>\n",
       "      <td>...</td>\n",
       "      <td>0.0</td>\n",
       "      <td>0.0</td>\n",
       "      <td>0.0</td>\n",
       "      <td>0.0</td>\n",
       "      <td>0.0</td>\n",
       "      <td>0.0</td>\n",
       "      <td>0.0</td>\n",
       "      <td>0.0</td>\n",
       "      <td>0.0</td>\n",
       "      <td>0.0</td>\n",
       "    </tr>\n",
       "    <tr>\n",
       "      <th>1</th>\n",
       "      <td>0.0</td>\n",
       "      <td>0.0</td>\n",
       "      <td>0.0</td>\n",
       "      <td>0.0</td>\n",
       "      <td>0.0</td>\n",
       "      <td>0.0</td>\n",
       "      <td>0.0</td>\n",
       "      <td>0.0</td>\n",
       "      <td>0.0</td>\n",
       "      <td>0.0</td>\n",
       "      <td>...</td>\n",
       "      <td>0.0</td>\n",
       "      <td>0.0</td>\n",
       "      <td>0.0</td>\n",
       "      <td>0.0</td>\n",
       "      <td>0.0</td>\n",
       "      <td>0.0</td>\n",
       "      <td>0.0</td>\n",
       "      <td>0.0</td>\n",
       "      <td>0.0</td>\n",
       "      <td>0.0</td>\n",
       "    </tr>\n",
       "    <tr>\n",
       "      <th>2</th>\n",
       "      <td>0.0</td>\n",
       "      <td>0.0</td>\n",
       "      <td>0.0</td>\n",
       "      <td>0.0</td>\n",
       "      <td>0.0</td>\n",
       "      <td>0.0</td>\n",
       "      <td>0.0</td>\n",
       "      <td>0.0</td>\n",
       "      <td>0.0</td>\n",
       "      <td>0.0</td>\n",
       "      <td>...</td>\n",
       "      <td>0.0</td>\n",
       "      <td>0.0</td>\n",
       "      <td>0.0</td>\n",
       "      <td>0.0</td>\n",
       "      <td>0.0</td>\n",
       "      <td>0.0</td>\n",
       "      <td>0.0</td>\n",
       "      <td>0.0</td>\n",
       "      <td>0.0</td>\n",
       "      <td>0.0</td>\n",
       "    </tr>\n",
       "    <tr>\n",
       "      <th>3</th>\n",
       "      <td>0.0</td>\n",
       "      <td>0.0</td>\n",
       "      <td>0.0</td>\n",
       "      <td>0.0</td>\n",
       "      <td>0.0</td>\n",
       "      <td>0.0</td>\n",
       "      <td>0.0</td>\n",
       "      <td>0.0</td>\n",
       "      <td>0.0</td>\n",
       "      <td>0.0</td>\n",
       "      <td>...</td>\n",
       "      <td>0.0</td>\n",
       "      <td>0.0</td>\n",
       "      <td>0.0</td>\n",
       "      <td>0.0</td>\n",
       "      <td>0.0</td>\n",
       "      <td>0.0</td>\n",
       "      <td>0.0</td>\n",
       "      <td>0.0</td>\n",
       "      <td>0.0</td>\n",
       "      <td>0.0</td>\n",
       "    </tr>\n",
       "    <tr>\n",
       "      <th>4</th>\n",
       "      <td>0.0</td>\n",
       "      <td>0.0</td>\n",
       "      <td>0.0</td>\n",
       "      <td>0.0</td>\n",
       "      <td>0.0</td>\n",
       "      <td>0.0</td>\n",
       "      <td>0.0</td>\n",
       "      <td>0.0</td>\n",
       "      <td>0.0</td>\n",
       "      <td>0.0</td>\n",
       "      <td>...</td>\n",
       "      <td>0.0</td>\n",
       "      <td>0.0</td>\n",
       "      <td>0.0</td>\n",
       "      <td>0.0</td>\n",
       "      <td>0.0</td>\n",
       "      <td>0.0</td>\n",
       "      <td>0.0</td>\n",
       "      <td>0.0</td>\n",
       "      <td>0.0</td>\n",
       "      <td>0.0</td>\n",
       "    </tr>\n",
       "  </tbody>\n",
       "</table>\n",
       "<p>5 rows × 8657 columns</p>\n",
       "</div>"
      ],
      "text/plain": [
       "   0     1     2     3     4     5     6     7     8     9     ...  8647  \\\n",
       "0   0.0   0.0   0.0   0.0   0.0   0.0   0.0   0.0   0.0   0.0  ...   0.0   \n",
       "1   0.0   0.0   0.0   0.0   0.0   0.0   0.0   0.0   0.0   0.0  ...   0.0   \n",
       "2   0.0   0.0   0.0   0.0   0.0   0.0   0.0   0.0   0.0   0.0  ...   0.0   \n",
       "3   0.0   0.0   0.0   0.0   0.0   0.0   0.0   0.0   0.0   0.0  ...   0.0   \n",
       "4   0.0   0.0   0.0   0.0   0.0   0.0   0.0   0.0   0.0   0.0  ...   0.0   \n",
       "\n",
       "   8648  8649  8650  8651  8652  8653  8654  8655  8656  \n",
       "0   0.0   0.0   0.0   0.0   0.0   0.0   0.0   0.0   0.0  \n",
       "1   0.0   0.0   0.0   0.0   0.0   0.0   0.0   0.0   0.0  \n",
       "2   0.0   0.0   0.0   0.0   0.0   0.0   0.0   0.0   0.0  \n",
       "3   0.0   0.0   0.0   0.0   0.0   0.0   0.0   0.0   0.0  \n",
       "4   0.0   0.0   0.0   0.0   0.0   0.0   0.0   0.0   0.0  \n",
       "\n",
       "[5 rows x 8657 columns]"
      ]
     },
     "execution_count": 34,
     "metadata": {},
     "output_type": "execute_result"
    }
   ],
   "source": [
    "df_expr_matrix.head()"
   ]
  },
  {
   "cell_type": "code",
   "execution_count": 35,
   "id": "talented-equipment",
   "metadata": {},
   "outputs": [],
   "source": [
    "df_expr_matrix.columns = sub_set1.obs.index"
   ]
  },
  {
   "cell_type": "code",
   "execution_count": 36,
   "id": "fresh-investigator",
   "metadata": {},
   "outputs": [
    {
     "data": {
      "text/html": [
       "<div>\n",
       "<style scoped>\n",
       "    .dataframe tbody tr th:only-of-type {\n",
       "        vertical-align: middle;\n",
       "    }\n",
       "\n",
       "    .dataframe tbody tr th {\n",
       "        vertical-align: top;\n",
       "    }\n",
       "\n",
       "    .dataframe thead th {\n",
       "        text-align: right;\n",
       "    }\n",
       "</style>\n",
       "<table border=\"1\" class=\"dataframe\">\n",
       "  <thead>\n",
       "    <tr style=\"text-align: right;\">\n",
       "      <th></th>\n",
       "      <th>UK-CIC10690315+UK-CIC10690507_AAATGCCAGGCACATG-1</th>\n",
       "      <th>UK-CIC10690315+UK-CIC10690507_AACTCTTCACTATCTT-1</th>\n",
       "      <th>UK-CIC10690315+UK-CIC10690507_ACGAGCCCAAAGTCAA-1</th>\n",
       "      <th>UK-CIC10690315+UK-CIC10690507_ACTTTCAGTCTGATTG-1</th>\n",
       "      <th>UK-CIC10690315+UK-CIC10690507_AGCATACGTGTAATGA-1</th>\n",
       "      <th>UK-CIC10690315+UK-CIC10690507_AGCGGTCAGTCTCCTC-1</th>\n",
       "      <th>UK-CIC10690315+UK-CIC10690507_AGCGTATAGATTACCC-1</th>\n",
       "      <th>UK-CIC10690315+UK-CIC10690507_AGCTCCTGTGTAAGTA-1</th>\n",
       "      <th>UK-CIC10690315+UK-CIC10690507_AGGCCGTGTCGTGGCT-1</th>\n",
       "      <th>UK-CIC10690315+UK-CIC10690507_AGTGAGGGTCATACTG-1</th>\n",
       "      <th>...</th>\n",
       "      <th>UK-CIC10690384+UK-CIC10690576_TCAGGATGTCTGGAGA-1</th>\n",
       "      <th>UK-CIC10690384+UK-CIC10690576_TCCACACTCGGAAACG-1</th>\n",
       "      <th>UK-CIC10690384+UK-CIC10690576_TCTTCGGGTATGAAAC-1</th>\n",
       "      <th>UK-CIC10690384+UK-CIC10690576_TGCTGCTAGTTAGCGG-1</th>\n",
       "      <th>UK-CIC10690384+UK-CIC10690576_TGGTTCCAGCGATAGC-1</th>\n",
       "      <th>UK-CIC10690384+UK-CIC10690576_TTAGGCATCCATGAGT-1</th>\n",
       "      <th>UK-CIC10690384+UK-CIC10690576_TTAGTTCGTTCACCTC-1</th>\n",
       "      <th>UK-CIC10690384+UK-CIC10690576_TTCTCAAAGCGCTTAT-1</th>\n",
       "      <th>UK-CIC10690384+UK-CIC10690576_TTGCGTCAGTGGTAAT-1</th>\n",
       "      <th>UK-CIC10690384+UK-CIC10690576_TTTCCTCCACCAGCAC-1</th>\n",
       "    </tr>\n",
       "  </thead>\n",
       "  <tbody>\n",
       "    <tr>\n",
       "      <th>0</th>\n",
       "      <td>0.0</td>\n",
       "      <td>0.0</td>\n",
       "      <td>0.0</td>\n",
       "      <td>0.0</td>\n",
       "      <td>0.0</td>\n",
       "      <td>0.0</td>\n",
       "      <td>0.0</td>\n",
       "      <td>0.0</td>\n",
       "      <td>0.0</td>\n",
       "      <td>0.0</td>\n",
       "      <td>...</td>\n",
       "      <td>0.0</td>\n",
       "      <td>0.0</td>\n",
       "      <td>0.0</td>\n",
       "      <td>0.0</td>\n",
       "      <td>0.0</td>\n",
       "      <td>0.0</td>\n",
       "      <td>0.0</td>\n",
       "      <td>0.0</td>\n",
       "      <td>0.0</td>\n",
       "      <td>0.0</td>\n",
       "    </tr>\n",
       "    <tr>\n",
       "      <th>1</th>\n",
       "      <td>0.0</td>\n",
       "      <td>0.0</td>\n",
       "      <td>0.0</td>\n",
       "      <td>0.0</td>\n",
       "      <td>0.0</td>\n",
       "      <td>0.0</td>\n",
       "      <td>0.0</td>\n",
       "      <td>0.0</td>\n",
       "      <td>0.0</td>\n",
       "      <td>0.0</td>\n",
       "      <td>...</td>\n",
       "      <td>0.0</td>\n",
       "      <td>0.0</td>\n",
       "      <td>0.0</td>\n",
       "      <td>0.0</td>\n",
       "      <td>0.0</td>\n",
       "      <td>0.0</td>\n",
       "      <td>0.0</td>\n",
       "      <td>0.0</td>\n",
       "      <td>0.0</td>\n",
       "      <td>0.0</td>\n",
       "    </tr>\n",
       "    <tr>\n",
       "      <th>2</th>\n",
       "      <td>0.0</td>\n",
       "      <td>0.0</td>\n",
       "      <td>0.0</td>\n",
       "      <td>0.0</td>\n",
       "      <td>0.0</td>\n",
       "      <td>0.0</td>\n",
       "      <td>0.0</td>\n",
       "      <td>0.0</td>\n",
       "      <td>0.0</td>\n",
       "      <td>0.0</td>\n",
       "      <td>...</td>\n",
       "      <td>0.0</td>\n",
       "      <td>0.0</td>\n",
       "      <td>0.0</td>\n",
       "      <td>0.0</td>\n",
       "      <td>0.0</td>\n",
       "      <td>0.0</td>\n",
       "      <td>0.0</td>\n",
       "      <td>0.0</td>\n",
       "      <td>0.0</td>\n",
       "      <td>0.0</td>\n",
       "    </tr>\n",
       "    <tr>\n",
       "      <th>3</th>\n",
       "      <td>0.0</td>\n",
       "      <td>0.0</td>\n",
       "      <td>0.0</td>\n",
       "      <td>0.0</td>\n",
       "      <td>0.0</td>\n",
       "      <td>0.0</td>\n",
       "      <td>0.0</td>\n",
       "      <td>0.0</td>\n",
       "      <td>0.0</td>\n",
       "      <td>0.0</td>\n",
       "      <td>...</td>\n",
       "      <td>0.0</td>\n",
       "      <td>0.0</td>\n",
       "      <td>0.0</td>\n",
       "      <td>0.0</td>\n",
       "      <td>0.0</td>\n",
       "      <td>0.0</td>\n",
       "      <td>0.0</td>\n",
       "      <td>0.0</td>\n",
       "      <td>0.0</td>\n",
       "      <td>0.0</td>\n",
       "    </tr>\n",
       "    <tr>\n",
       "      <th>4</th>\n",
       "      <td>0.0</td>\n",
       "      <td>0.0</td>\n",
       "      <td>0.0</td>\n",
       "      <td>0.0</td>\n",
       "      <td>0.0</td>\n",
       "      <td>0.0</td>\n",
       "      <td>0.0</td>\n",
       "      <td>0.0</td>\n",
       "      <td>0.0</td>\n",
       "      <td>0.0</td>\n",
       "      <td>...</td>\n",
       "      <td>0.0</td>\n",
       "      <td>0.0</td>\n",
       "      <td>0.0</td>\n",
       "      <td>0.0</td>\n",
       "      <td>0.0</td>\n",
       "      <td>0.0</td>\n",
       "      <td>0.0</td>\n",
       "      <td>0.0</td>\n",
       "      <td>0.0</td>\n",
       "      <td>0.0</td>\n",
       "    </tr>\n",
       "  </tbody>\n",
       "</table>\n",
       "<p>5 rows × 8657 columns</p>\n",
       "</div>"
      ],
      "text/plain": [
       "   UK-CIC10690315+UK-CIC10690507_AAATGCCAGGCACATG-1  \\\n",
       "0                                               0.0   \n",
       "1                                               0.0   \n",
       "2                                               0.0   \n",
       "3                                               0.0   \n",
       "4                                               0.0   \n",
       "\n",
       "   UK-CIC10690315+UK-CIC10690507_AACTCTTCACTATCTT-1  \\\n",
       "0                                               0.0   \n",
       "1                                               0.0   \n",
       "2                                               0.0   \n",
       "3                                               0.0   \n",
       "4                                               0.0   \n",
       "\n",
       "   UK-CIC10690315+UK-CIC10690507_ACGAGCCCAAAGTCAA-1  \\\n",
       "0                                               0.0   \n",
       "1                                               0.0   \n",
       "2                                               0.0   \n",
       "3                                               0.0   \n",
       "4                                               0.0   \n",
       "\n",
       "   UK-CIC10690315+UK-CIC10690507_ACTTTCAGTCTGATTG-1  \\\n",
       "0                                               0.0   \n",
       "1                                               0.0   \n",
       "2                                               0.0   \n",
       "3                                               0.0   \n",
       "4                                               0.0   \n",
       "\n",
       "   UK-CIC10690315+UK-CIC10690507_AGCATACGTGTAATGA-1  \\\n",
       "0                                               0.0   \n",
       "1                                               0.0   \n",
       "2                                               0.0   \n",
       "3                                               0.0   \n",
       "4                                               0.0   \n",
       "\n",
       "   UK-CIC10690315+UK-CIC10690507_AGCGGTCAGTCTCCTC-1  \\\n",
       "0                                               0.0   \n",
       "1                                               0.0   \n",
       "2                                               0.0   \n",
       "3                                               0.0   \n",
       "4                                               0.0   \n",
       "\n",
       "   UK-CIC10690315+UK-CIC10690507_AGCGTATAGATTACCC-1  \\\n",
       "0                                               0.0   \n",
       "1                                               0.0   \n",
       "2                                               0.0   \n",
       "3                                               0.0   \n",
       "4                                               0.0   \n",
       "\n",
       "   UK-CIC10690315+UK-CIC10690507_AGCTCCTGTGTAAGTA-1  \\\n",
       "0                                               0.0   \n",
       "1                                               0.0   \n",
       "2                                               0.0   \n",
       "3                                               0.0   \n",
       "4                                               0.0   \n",
       "\n",
       "   UK-CIC10690315+UK-CIC10690507_AGGCCGTGTCGTGGCT-1  \\\n",
       "0                                               0.0   \n",
       "1                                               0.0   \n",
       "2                                               0.0   \n",
       "3                                               0.0   \n",
       "4                                               0.0   \n",
       "\n",
       "   UK-CIC10690315+UK-CIC10690507_AGTGAGGGTCATACTG-1  ...  \\\n",
       "0                                               0.0  ...   \n",
       "1                                               0.0  ...   \n",
       "2                                               0.0  ...   \n",
       "3                                               0.0  ...   \n",
       "4                                               0.0  ...   \n",
       "\n",
       "   UK-CIC10690384+UK-CIC10690576_TCAGGATGTCTGGAGA-1  \\\n",
       "0                                               0.0   \n",
       "1                                               0.0   \n",
       "2                                               0.0   \n",
       "3                                               0.0   \n",
       "4                                               0.0   \n",
       "\n",
       "   UK-CIC10690384+UK-CIC10690576_TCCACACTCGGAAACG-1  \\\n",
       "0                                               0.0   \n",
       "1                                               0.0   \n",
       "2                                               0.0   \n",
       "3                                               0.0   \n",
       "4                                               0.0   \n",
       "\n",
       "   UK-CIC10690384+UK-CIC10690576_TCTTCGGGTATGAAAC-1  \\\n",
       "0                                               0.0   \n",
       "1                                               0.0   \n",
       "2                                               0.0   \n",
       "3                                               0.0   \n",
       "4                                               0.0   \n",
       "\n",
       "   UK-CIC10690384+UK-CIC10690576_TGCTGCTAGTTAGCGG-1  \\\n",
       "0                                               0.0   \n",
       "1                                               0.0   \n",
       "2                                               0.0   \n",
       "3                                               0.0   \n",
       "4                                               0.0   \n",
       "\n",
       "   UK-CIC10690384+UK-CIC10690576_TGGTTCCAGCGATAGC-1  \\\n",
       "0                                               0.0   \n",
       "1                                               0.0   \n",
       "2                                               0.0   \n",
       "3                                               0.0   \n",
       "4                                               0.0   \n",
       "\n",
       "   UK-CIC10690384+UK-CIC10690576_TTAGGCATCCATGAGT-1  \\\n",
       "0                                               0.0   \n",
       "1                                               0.0   \n",
       "2                                               0.0   \n",
       "3                                               0.0   \n",
       "4                                               0.0   \n",
       "\n",
       "   UK-CIC10690384+UK-CIC10690576_TTAGTTCGTTCACCTC-1  \\\n",
       "0                                               0.0   \n",
       "1                                               0.0   \n",
       "2                                               0.0   \n",
       "3                                               0.0   \n",
       "4                                               0.0   \n",
       "\n",
       "   UK-CIC10690384+UK-CIC10690576_TTCTCAAAGCGCTTAT-1  \\\n",
       "0                                               0.0   \n",
       "1                                               0.0   \n",
       "2                                               0.0   \n",
       "3                                               0.0   \n",
       "4                                               0.0   \n",
       "\n",
       "   UK-CIC10690384+UK-CIC10690576_TTGCGTCAGTGGTAAT-1  \\\n",
       "0                                               0.0   \n",
       "1                                               0.0   \n",
       "2                                               0.0   \n",
       "3                                               0.0   \n",
       "4                                               0.0   \n",
       "\n",
       "   UK-CIC10690384+UK-CIC10690576_TTTCCTCCACCAGCAC-1  \n",
       "0                                               0.0  \n",
       "1                                               0.0  \n",
       "2                                               0.0  \n",
       "3                                               0.0  \n",
       "4                                               0.0  \n",
       "\n",
       "[5 rows x 8657 columns]"
      ]
     },
     "execution_count": 36,
     "metadata": {},
     "output_type": "execute_result"
    }
   ],
   "source": [
    "df_expr_matrix.head()"
   ]
  },
  {
   "cell_type": "code",
   "execution_count": 37,
   "id": "colonial-johns",
   "metadata": {},
   "outputs": [
    {
     "data": {
      "text/html": [
       "<div>\n",
       "<style scoped>\n",
       "    .dataframe tbody tr th:only-of-type {\n",
       "        vertical-align: middle;\n",
       "    }\n",
       "\n",
       "    .dataframe tbody tr th {\n",
       "        vertical-align: top;\n",
       "    }\n",
       "\n",
       "    .dataframe thead th {\n",
       "        text-align: right;\n",
       "    }\n",
       "</style>\n",
       "<table border=\"1\" class=\"dataframe\">\n",
       "  <thead>\n",
       "    <tr style=\"text-align: right;\">\n",
       "      <th></th>\n",
       "      <th>highly_variable</th>\n",
       "    </tr>\n",
       "  </thead>\n",
       "  <tbody>\n",
       "    <tr>\n",
       "      <th>MIR1302-2HG</th>\n",
       "      <td>NaN</td>\n",
       "    </tr>\n",
       "    <tr>\n",
       "      <th>FAM138A</th>\n",
       "      <td>NaN</td>\n",
       "    </tr>\n",
       "    <tr>\n",
       "      <th>OR4F5</th>\n",
       "      <td>NaN</td>\n",
       "    </tr>\n",
       "    <tr>\n",
       "      <th>AL627309.1</th>\n",
       "      <td>NaN</td>\n",
       "    </tr>\n",
       "    <tr>\n",
       "      <th>AL627309.3</th>\n",
       "      <td>NaN</td>\n",
       "    </tr>\n",
       "    <tr>\n",
       "      <th>...</th>\n",
       "      <td>...</td>\n",
       "    </tr>\n",
       "    <tr>\n",
       "      <th>AC233755.2</th>\n",
       "      <td>NaN</td>\n",
       "    </tr>\n",
       "    <tr>\n",
       "      <th>AC233755.1</th>\n",
       "      <td>NaN</td>\n",
       "    </tr>\n",
       "    <tr>\n",
       "      <th>AC240274.1</th>\n",
       "      <td>NaN</td>\n",
       "    </tr>\n",
       "    <tr>\n",
       "      <th>AC213203.1</th>\n",
       "      <td>NaN</td>\n",
       "    </tr>\n",
       "    <tr>\n",
       "      <th>FAM231C</th>\n",
       "      <td>NaN</td>\n",
       "    </tr>\n",
       "  </tbody>\n",
       "</table>\n",
       "<p>33141 rows × 1 columns</p>\n",
       "</div>"
      ],
      "text/plain": [
       "            highly_variable\n",
       "MIR1302-2HG             NaN\n",
       "FAM138A                 NaN\n",
       "OR4F5                   NaN\n",
       "AL627309.1              NaN\n",
       "AL627309.3              NaN\n",
       "...                     ...\n",
       "AC233755.2              NaN\n",
       "AC233755.1              NaN\n",
       "AC240274.1              NaN\n",
       "AC213203.1              NaN\n",
       "FAM231C                 NaN\n",
       "\n",
       "[33141 rows x 1 columns]"
      ]
     },
     "execution_count": 37,
     "metadata": {},
     "output_type": "execute_result"
    }
   ],
   "source": [
    "sub_set1.var"
   ]
  },
  {
   "cell_type": "code",
   "execution_count": 38,
   "id": "tested-installation",
   "metadata": {},
   "outputs": [],
   "source": [
    "#sub_set1.var.set_index('gene_ids',inplace=True)\n"
   ]
  },
  {
   "cell_type": "code",
   "execution_count": 39,
   "id": "urban-blogger",
   "metadata": {},
   "outputs": [],
   "source": [
    "df_expr_matrix.set_index(sub_set1.var.index, inplace=True) "
   ]
  },
  {
   "cell_type": "code",
   "execution_count": 40,
   "id": "vital-liver",
   "metadata": {},
   "outputs": [
    {
     "data": {
      "text/html": [
       "<div>\n",
       "<style scoped>\n",
       "    .dataframe tbody tr th:only-of-type {\n",
       "        vertical-align: middle;\n",
       "    }\n",
       "\n",
       "    .dataframe tbody tr th {\n",
       "        vertical-align: top;\n",
       "    }\n",
       "\n",
       "    .dataframe thead th {\n",
       "        text-align: right;\n",
       "    }\n",
       "</style>\n",
       "<table border=\"1\" class=\"dataframe\">\n",
       "  <thead>\n",
       "    <tr style=\"text-align: right;\">\n",
       "      <th></th>\n",
       "      <th>UK-CIC10690315+UK-CIC10690507_AAATGCCAGGCACATG-1</th>\n",
       "      <th>UK-CIC10690315+UK-CIC10690507_AACTCTTCACTATCTT-1</th>\n",
       "      <th>UK-CIC10690315+UK-CIC10690507_ACGAGCCCAAAGTCAA-1</th>\n",
       "      <th>UK-CIC10690315+UK-CIC10690507_ACTTTCAGTCTGATTG-1</th>\n",
       "      <th>UK-CIC10690315+UK-CIC10690507_AGCATACGTGTAATGA-1</th>\n",
       "      <th>UK-CIC10690315+UK-CIC10690507_AGCGGTCAGTCTCCTC-1</th>\n",
       "      <th>UK-CIC10690315+UK-CIC10690507_AGCGTATAGATTACCC-1</th>\n",
       "      <th>UK-CIC10690315+UK-CIC10690507_AGCTCCTGTGTAAGTA-1</th>\n",
       "      <th>UK-CIC10690315+UK-CIC10690507_AGGCCGTGTCGTGGCT-1</th>\n",
       "      <th>UK-CIC10690315+UK-CIC10690507_AGTGAGGGTCATACTG-1</th>\n",
       "      <th>...</th>\n",
       "      <th>UK-CIC10690384+UK-CIC10690576_TCAGGATGTCTGGAGA-1</th>\n",
       "      <th>UK-CIC10690384+UK-CIC10690576_TCCACACTCGGAAACG-1</th>\n",
       "      <th>UK-CIC10690384+UK-CIC10690576_TCTTCGGGTATGAAAC-1</th>\n",
       "      <th>UK-CIC10690384+UK-CIC10690576_TGCTGCTAGTTAGCGG-1</th>\n",
       "      <th>UK-CIC10690384+UK-CIC10690576_TGGTTCCAGCGATAGC-1</th>\n",
       "      <th>UK-CIC10690384+UK-CIC10690576_TTAGGCATCCATGAGT-1</th>\n",
       "      <th>UK-CIC10690384+UK-CIC10690576_TTAGTTCGTTCACCTC-1</th>\n",
       "      <th>UK-CIC10690384+UK-CIC10690576_TTCTCAAAGCGCTTAT-1</th>\n",
       "      <th>UK-CIC10690384+UK-CIC10690576_TTGCGTCAGTGGTAAT-1</th>\n",
       "      <th>UK-CIC10690384+UK-CIC10690576_TTTCCTCCACCAGCAC-1</th>\n",
       "    </tr>\n",
       "  </thead>\n",
       "  <tbody>\n",
       "    <tr>\n",
       "      <th>MIR1302-2HG</th>\n",
       "      <td>0.0</td>\n",
       "      <td>0.0</td>\n",
       "      <td>0.0</td>\n",
       "      <td>0.0</td>\n",
       "      <td>0.0</td>\n",
       "      <td>0.0</td>\n",
       "      <td>0.0</td>\n",
       "      <td>0.0</td>\n",
       "      <td>0.0</td>\n",
       "      <td>0.0</td>\n",
       "      <td>...</td>\n",
       "      <td>0.0</td>\n",
       "      <td>0.0</td>\n",
       "      <td>0.0</td>\n",
       "      <td>0.0</td>\n",
       "      <td>0.0</td>\n",
       "      <td>0.0</td>\n",
       "      <td>0.0</td>\n",
       "      <td>0.0</td>\n",
       "      <td>0.0</td>\n",
       "      <td>0.0</td>\n",
       "    </tr>\n",
       "    <tr>\n",
       "      <th>FAM138A</th>\n",
       "      <td>0.0</td>\n",
       "      <td>0.0</td>\n",
       "      <td>0.0</td>\n",
       "      <td>0.0</td>\n",
       "      <td>0.0</td>\n",
       "      <td>0.0</td>\n",
       "      <td>0.0</td>\n",
       "      <td>0.0</td>\n",
       "      <td>0.0</td>\n",
       "      <td>0.0</td>\n",
       "      <td>...</td>\n",
       "      <td>0.0</td>\n",
       "      <td>0.0</td>\n",
       "      <td>0.0</td>\n",
       "      <td>0.0</td>\n",
       "      <td>0.0</td>\n",
       "      <td>0.0</td>\n",
       "      <td>0.0</td>\n",
       "      <td>0.0</td>\n",
       "      <td>0.0</td>\n",
       "      <td>0.0</td>\n",
       "    </tr>\n",
       "    <tr>\n",
       "      <th>OR4F5</th>\n",
       "      <td>0.0</td>\n",
       "      <td>0.0</td>\n",
       "      <td>0.0</td>\n",
       "      <td>0.0</td>\n",
       "      <td>0.0</td>\n",
       "      <td>0.0</td>\n",
       "      <td>0.0</td>\n",
       "      <td>0.0</td>\n",
       "      <td>0.0</td>\n",
       "      <td>0.0</td>\n",
       "      <td>...</td>\n",
       "      <td>0.0</td>\n",
       "      <td>0.0</td>\n",
       "      <td>0.0</td>\n",
       "      <td>0.0</td>\n",
       "      <td>0.0</td>\n",
       "      <td>0.0</td>\n",
       "      <td>0.0</td>\n",
       "      <td>0.0</td>\n",
       "      <td>0.0</td>\n",
       "      <td>0.0</td>\n",
       "    </tr>\n",
       "    <tr>\n",
       "      <th>AL627309.1</th>\n",
       "      <td>0.0</td>\n",
       "      <td>0.0</td>\n",
       "      <td>0.0</td>\n",
       "      <td>0.0</td>\n",
       "      <td>0.0</td>\n",
       "      <td>0.0</td>\n",
       "      <td>0.0</td>\n",
       "      <td>0.0</td>\n",
       "      <td>0.0</td>\n",
       "      <td>0.0</td>\n",
       "      <td>...</td>\n",
       "      <td>0.0</td>\n",
       "      <td>0.0</td>\n",
       "      <td>0.0</td>\n",
       "      <td>0.0</td>\n",
       "      <td>0.0</td>\n",
       "      <td>0.0</td>\n",
       "      <td>0.0</td>\n",
       "      <td>0.0</td>\n",
       "      <td>0.0</td>\n",
       "      <td>0.0</td>\n",
       "    </tr>\n",
       "    <tr>\n",
       "      <th>AL627309.3</th>\n",
       "      <td>0.0</td>\n",
       "      <td>0.0</td>\n",
       "      <td>0.0</td>\n",
       "      <td>0.0</td>\n",
       "      <td>0.0</td>\n",
       "      <td>0.0</td>\n",
       "      <td>0.0</td>\n",
       "      <td>0.0</td>\n",
       "      <td>0.0</td>\n",
       "      <td>0.0</td>\n",
       "      <td>...</td>\n",
       "      <td>0.0</td>\n",
       "      <td>0.0</td>\n",
       "      <td>0.0</td>\n",
       "      <td>0.0</td>\n",
       "      <td>0.0</td>\n",
       "      <td>0.0</td>\n",
       "      <td>0.0</td>\n",
       "      <td>0.0</td>\n",
       "      <td>0.0</td>\n",
       "      <td>0.0</td>\n",
       "    </tr>\n",
       "  </tbody>\n",
       "</table>\n",
       "<p>5 rows × 8657 columns</p>\n",
       "</div>"
      ],
      "text/plain": [
       "             UK-CIC10690315+UK-CIC10690507_AAATGCCAGGCACATG-1  \\\n",
       "MIR1302-2HG                                               0.0   \n",
       "FAM138A                                                   0.0   \n",
       "OR4F5                                                     0.0   \n",
       "AL627309.1                                                0.0   \n",
       "AL627309.3                                                0.0   \n",
       "\n",
       "             UK-CIC10690315+UK-CIC10690507_AACTCTTCACTATCTT-1  \\\n",
       "MIR1302-2HG                                               0.0   \n",
       "FAM138A                                                   0.0   \n",
       "OR4F5                                                     0.0   \n",
       "AL627309.1                                                0.0   \n",
       "AL627309.3                                                0.0   \n",
       "\n",
       "             UK-CIC10690315+UK-CIC10690507_ACGAGCCCAAAGTCAA-1  \\\n",
       "MIR1302-2HG                                               0.0   \n",
       "FAM138A                                                   0.0   \n",
       "OR4F5                                                     0.0   \n",
       "AL627309.1                                                0.0   \n",
       "AL627309.3                                                0.0   \n",
       "\n",
       "             UK-CIC10690315+UK-CIC10690507_ACTTTCAGTCTGATTG-1  \\\n",
       "MIR1302-2HG                                               0.0   \n",
       "FAM138A                                                   0.0   \n",
       "OR4F5                                                     0.0   \n",
       "AL627309.1                                                0.0   \n",
       "AL627309.3                                                0.0   \n",
       "\n",
       "             UK-CIC10690315+UK-CIC10690507_AGCATACGTGTAATGA-1  \\\n",
       "MIR1302-2HG                                               0.0   \n",
       "FAM138A                                                   0.0   \n",
       "OR4F5                                                     0.0   \n",
       "AL627309.1                                                0.0   \n",
       "AL627309.3                                                0.0   \n",
       "\n",
       "             UK-CIC10690315+UK-CIC10690507_AGCGGTCAGTCTCCTC-1  \\\n",
       "MIR1302-2HG                                               0.0   \n",
       "FAM138A                                                   0.0   \n",
       "OR4F5                                                     0.0   \n",
       "AL627309.1                                                0.0   \n",
       "AL627309.3                                                0.0   \n",
       "\n",
       "             UK-CIC10690315+UK-CIC10690507_AGCGTATAGATTACCC-1  \\\n",
       "MIR1302-2HG                                               0.0   \n",
       "FAM138A                                                   0.0   \n",
       "OR4F5                                                     0.0   \n",
       "AL627309.1                                                0.0   \n",
       "AL627309.3                                                0.0   \n",
       "\n",
       "             UK-CIC10690315+UK-CIC10690507_AGCTCCTGTGTAAGTA-1  \\\n",
       "MIR1302-2HG                                               0.0   \n",
       "FAM138A                                                   0.0   \n",
       "OR4F5                                                     0.0   \n",
       "AL627309.1                                                0.0   \n",
       "AL627309.3                                                0.0   \n",
       "\n",
       "             UK-CIC10690315+UK-CIC10690507_AGGCCGTGTCGTGGCT-1  \\\n",
       "MIR1302-2HG                                               0.0   \n",
       "FAM138A                                                   0.0   \n",
       "OR4F5                                                     0.0   \n",
       "AL627309.1                                                0.0   \n",
       "AL627309.3                                                0.0   \n",
       "\n",
       "             UK-CIC10690315+UK-CIC10690507_AGTGAGGGTCATACTG-1  ...  \\\n",
       "MIR1302-2HG                                               0.0  ...   \n",
       "FAM138A                                                   0.0  ...   \n",
       "OR4F5                                                     0.0  ...   \n",
       "AL627309.1                                                0.0  ...   \n",
       "AL627309.3                                                0.0  ...   \n",
       "\n",
       "             UK-CIC10690384+UK-CIC10690576_TCAGGATGTCTGGAGA-1  \\\n",
       "MIR1302-2HG                                               0.0   \n",
       "FAM138A                                                   0.0   \n",
       "OR4F5                                                     0.0   \n",
       "AL627309.1                                                0.0   \n",
       "AL627309.3                                                0.0   \n",
       "\n",
       "             UK-CIC10690384+UK-CIC10690576_TCCACACTCGGAAACG-1  \\\n",
       "MIR1302-2HG                                               0.0   \n",
       "FAM138A                                                   0.0   \n",
       "OR4F5                                                     0.0   \n",
       "AL627309.1                                                0.0   \n",
       "AL627309.3                                                0.0   \n",
       "\n",
       "             UK-CIC10690384+UK-CIC10690576_TCTTCGGGTATGAAAC-1  \\\n",
       "MIR1302-2HG                                               0.0   \n",
       "FAM138A                                                   0.0   \n",
       "OR4F5                                                     0.0   \n",
       "AL627309.1                                                0.0   \n",
       "AL627309.3                                                0.0   \n",
       "\n",
       "             UK-CIC10690384+UK-CIC10690576_TGCTGCTAGTTAGCGG-1  \\\n",
       "MIR1302-2HG                                               0.0   \n",
       "FAM138A                                                   0.0   \n",
       "OR4F5                                                     0.0   \n",
       "AL627309.1                                                0.0   \n",
       "AL627309.3                                                0.0   \n",
       "\n",
       "             UK-CIC10690384+UK-CIC10690576_TGGTTCCAGCGATAGC-1  \\\n",
       "MIR1302-2HG                                               0.0   \n",
       "FAM138A                                                   0.0   \n",
       "OR4F5                                                     0.0   \n",
       "AL627309.1                                                0.0   \n",
       "AL627309.3                                                0.0   \n",
       "\n",
       "             UK-CIC10690384+UK-CIC10690576_TTAGGCATCCATGAGT-1  \\\n",
       "MIR1302-2HG                                               0.0   \n",
       "FAM138A                                                   0.0   \n",
       "OR4F5                                                     0.0   \n",
       "AL627309.1                                                0.0   \n",
       "AL627309.3                                                0.0   \n",
       "\n",
       "             UK-CIC10690384+UK-CIC10690576_TTAGTTCGTTCACCTC-1  \\\n",
       "MIR1302-2HG                                               0.0   \n",
       "FAM138A                                                   0.0   \n",
       "OR4F5                                                     0.0   \n",
       "AL627309.1                                                0.0   \n",
       "AL627309.3                                                0.0   \n",
       "\n",
       "             UK-CIC10690384+UK-CIC10690576_TTCTCAAAGCGCTTAT-1  \\\n",
       "MIR1302-2HG                                               0.0   \n",
       "FAM138A                                                   0.0   \n",
       "OR4F5                                                     0.0   \n",
       "AL627309.1                                                0.0   \n",
       "AL627309.3                                                0.0   \n",
       "\n",
       "             UK-CIC10690384+UK-CIC10690576_TTGCGTCAGTGGTAAT-1  \\\n",
       "MIR1302-2HG                                               0.0   \n",
       "FAM138A                                                   0.0   \n",
       "OR4F5                                                     0.0   \n",
       "AL627309.1                                                0.0   \n",
       "AL627309.3                                                0.0   \n",
       "\n",
       "             UK-CIC10690384+UK-CIC10690576_TTTCCTCCACCAGCAC-1  \n",
       "MIR1302-2HG                                               0.0  \n",
       "FAM138A                                                   0.0  \n",
       "OR4F5                                                     0.0  \n",
       "AL627309.1                                                0.0  \n",
       "AL627309.3                                                0.0  \n",
       "\n",
       "[5 rows x 8657 columns]"
      ]
     },
     "execution_count": 40,
     "metadata": {},
     "output_type": "execute_result"
    }
   ],
   "source": [
    "df_expr_matrix.head()"
   ]
  },
  {
   "cell_type": "code",
   "execution_count": 41,
   "id": "balanced-schema",
   "metadata": {},
   "outputs": [
    {
     "data": {
      "text/plain": [
       "(33141, 8657)"
      ]
     },
     "execution_count": 41,
     "metadata": {},
     "output_type": "execute_result"
    }
   ],
   "source": [
    "df_expr_matrix.shape"
   ]
  },
  {
   "cell_type": "code",
   "execution_count": 42,
   "id": "amber-antigua",
   "metadata": {},
   "outputs": [],
   "source": [
    "#df_expr_matrix=df_expr_matrix.loc[~(df_expr_matrix==0).all(axis=1)]"
   ]
  },
  {
   "cell_type": "code",
   "execution_count": 43,
   "id": "removable-dominant",
   "metadata": {},
   "outputs": [
    {
     "data": {
      "text/plain": [
       "(33141, 8657)"
      ]
     },
     "execution_count": 43,
     "metadata": {},
     "output_type": "execute_result"
    }
   ],
   "source": [
    "df_expr_matrix.shape"
   ]
  },
  {
   "cell_type": "code",
   "execution_count": 44,
   "id": "meaning-belgium",
   "metadata": {},
   "outputs": [],
   "source": [
    "df_expr_matrix.to_csv('/home/jovyan/mounting_point/cellphoneDB_output/allmono_platelet_wave2_pos_steroid_count_after.txt',sep='\\t')"
   ]
  },
  {
   "cell_type": "code",
   "execution_count": 45,
   "id": "welcome-consent",
   "metadata": {},
   "outputs": [
    {
     "data": {
      "text/html": [
       "<div>\n",
       "<style scoped>\n",
       "    .dataframe tbody tr th:only-of-type {\n",
       "        vertical-align: middle;\n",
       "    }\n",
       "\n",
       "    .dataframe tbody tr th {\n",
       "        vertical-align: top;\n",
       "    }\n",
       "\n",
       "    .dataframe thead th {\n",
       "        text-align: right;\n",
       "    }\n",
       "</style>\n",
       "<table border=\"1\" class=\"dataframe\">\n",
       "  <thead>\n",
       "    <tr style=\"text-align: right;\">\n",
       "      <th></th>\n",
       "      <th>annot4</th>\n",
       "      <th>centre</th>\n",
       "      <th>case_control</th>\n",
       "      <th>WHO_severity</th>\n",
       "      <th>steroid_date</th>\n",
       "      <th>days_from_steroid</th>\n",
       "    </tr>\n",
       "  </thead>\n",
       "  <tbody>\n",
       "    <tr>\n",
       "      <th>UK-CIC10690315+UK-CIC10690507_AAATGCCAGGCACATG-1</th>\n",
       "      <td>CD14mono_alt_act</td>\n",
       "      <td>Cambridge</td>\n",
       "      <td>POSITIVE</td>\n",
       "      <td>moderate</td>\n",
       "      <td>28/01/2021</td>\n",
       "      <td>7</td>\n",
       "    </tr>\n",
       "    <tr>\n",
       "      <th>UK-CIC10690315+UK-CIC10690507_AACTCTTCACTATCTT-1</th>\n",
       "      <td>CD16mono</td>\n",
       "      <td>Cambridge</td>\n",
       "      <td>POSITIVE</td>\n",
       "      <td>moderate</td>\n",
       "      <td>28/01/2021</td>\n",
       "      <td>7</td>\n",
       "    </tr>\n",
       "    <tr>\n",
       "      <th>UK-CIC10690315+UK-CIC10690507_ACGAGCCCAAAGTCAA-1</th>\n",
       "      <td>CD14mono</td>\n",
       "      <td>Cambridge</td>\n",
       "      <td>POSITIVE</td>\n",
       "      <td>moderate</td>\n",
       "      <td>28/01/2021</td>\n",
       "      <td>7</td>\n",
       "    </tr>\n",
       "    <tr>\n",
       "      <th>UK-CIC10690315+UK-CIC10690507_ACTTTCAGTCTGATTG-1</th>\n",
       "      <td>CD14mono</td>\n",
       "      <td>Cambridge</td>\n",
       "      <td>POSITIVE</td>\n",
       "      <td>moderate</td>\n",
       "      <td>28/01/2021</td>\n",
       "      <td>7</td>\n",
       "    </tr>\n",
       "    <tr>\n",
       "      <th>UK-CIC10690315+UK-CIC10690507_AGCATACGTGTAATGA-1</th>\n",
       "      <td>CD14mono_alt_act</td>\n",
       "      <td>Cambridge</td>\n",
       "      <td>POSITIVE</td>\n",
       "      <td>moderate</td>\n",
       "      <td>28/01/2021</td>\n",
       "      <td>7</td>\n",
       "    </tr>\n",
       "    <tr>\n",
       "      <th>...</th>\n",
       "      <td>...</td>\n",
       "      <td>...</td>\n",
       "      <td>...</td>\n",
       "      <td>...</td>\n",
       "      <td>...</td>\n",
       "      <td>...</td>\n",
       "    </tr>\n",
       "    <tr>\n",
       "      <th>UK-CIC10690384+UK-CIC10690576_TTAGGCATCCATGAGT-1</th>\n",
       "      <td>CD14mono</td>\n",
       "      <td>Cambridge</td>\n",
       "      <td>POSITIVE</td>\n",
       "      <td>severe</td>\n",
       "      <td>07/01/2021</td>\n",
       "      <td>11</td>\n",
       "    </tr>\n",
       "    <tr>\n",
       "      <th>UK-CIC10690384+UK-CIC10690576_TTAGTTCGTTCACCTC-1</th>\n",
       "      <td>CD14mono</td>\n",
       "      <td>Cambridge</td>\n",
       "      <td>POSITIVE</td>\n",
       "      <td>severe</td>\n",
       "      <td>07/01/2021</td>\n",
       "      <td>11</td>\n",
       "    </tr>\n",
       "    <tr>\n",
       "      <th>UK-CIC10690384+UK-CIC10690576_TTCTCAAAGCGCTTAT-1</th>\n",
       "      <td>CD14mono_IFN</td>\n",
       "      <td>Cambridge</td>\n",
       "      <td>POSITIVE</td>\n",
       "      <td>severe</td>\n",
       "      <td>07/01/2021</td>\n",
       "      <td>11</td>\n",
       "    </tr>\n",
       "    <tr>\n",
       "      <th>UK-CIC10690384+UK-CIC10690576_TTGCGTCAGTGGTAAT-1</th>\n",
       "      <td>CD14mono</td>\n",
       "      <td>Cambridge</td>\n",
       "      <td>POSITIVE</td>\n",
       "      <td>severe</td>\n",
       "      <td>07/01/2021</td>\n",
       "      <td>11</td>\n",
       "    </tr>\n",
       "    <tr>\n",
       "      <th>UK-CIC10690384+UK-CIC10690576_TTTCCTCCACCAGCAC-1</th>\n",
       "      <td>CD14mono</td>\n",
       "      <td>Cambridge</td>\n",
       "      <td>POSITIVE</td>\n",
       "      <td>severe</td>\n",
       "      <td>07/01/2021</td>\n",
       "      <td>11</td>\n",
       "    </tr>\n",
       "  </tbody>\n",
       "</table>\n",
       "<p>8657 rows × 6 columns</p>\n",
       "</div>"
      ],
      "text/plain": [
       "                                                            annot4     centre  \\\n",
       "UK-CIC10690315+UK-CIC10690507_AAATGCCAGGCACATG-1  CD14mono_alt_act  Cambridge   \n",
       "UK-CIC10690315+UK-CIC10690507_AACTCTTCACTATCTT-1          CD16mono  Cambridge   \n",
       "UK-CIC10690315+UK-CIC10690507_ACGAGCCCAAAGTCAA-1          CD14mono  Cambridge   \n",
       "UK-CIC10690315+UK-CIC10690507_ACTTTCAGTCTGATTG-1          CD14mono  Cambridge   \n",
       "UK-CIC10690315+UK-CIC10690507_AGCATACGTGTAATGA-1  CD14mono_alt_act  Cambridge   \n",
       "...                                                            ...        ...   \n",
       "UK-CIC10690384+UK-CIC10690576_TTAGGCATCCATGAGT-1          CD14mono  Cambridge   \n",
       "UK-CIC10690384+UK-CIC10690576_TTAGTTCGTTCACCTC-1          CD14mono  Cambridge   \n",
       "UK-CIC10690384+UK-CIC10690576_TTCTCAAAGCGCTTAT-1      CD14mono_IFN  Cambridge   \n",
       "UK-CIC10690384+UK-CIC10690576_TTGCGTCAGTGGTAAT-1          CD14mono  Cambridge   \n",
       "UK-CIC10690384+UK-CIC10690576_TTTCCTCCACCAGCAC-1          CD14mono  Cambridge   \n",
       "\n",
       "                                                 case_control WHO_severity  \\\n",
       "UK-CIC10690315+UK-CIC10690507_AAATGCCAGGCACATG-1     POSITIVE     moderate   \n",
       "UK-CIC10690315+UK-CIC10690507_AACTCTTCACTATCTT-1     POSITIVE     moderate   \n",
       "UK-CIC10690315+UK-CIC10690507_ACGAGCCCAAAGTCAA-1     POSITIVE     moderate   \n",
       "UK-CIC10690315+UK-CIC10690507_ACTTTCAGTCTGATTG-1     POSITIVE     moderate   \n",
       "UK-CIC10690315+UK-CIC10690507_AGCATACGTGTAATGA-1     POSITIVE     moderate   \n",
       "...                                                       ...          ...   \n",
       "UK-CIC10690384+UK-CIC10690576_TTAGGCATCCATGAGT-1     POSITIVE       severe   \n",
       "UK-CIC10690384+UK-CIC10690576_TTAGTTCGTTCACCTC-1     POSITIVE       severe   \n",
       "UK-CIC10690384+UK-CIC10690576_TTCTCAAAGCGCTTAT-1     POSITIVE       severe   \n",
       "UK-CIC10690384+UK-CIC10690576_TTGCGTCAGTGGTAAT-1     POSITIVE       severe   \n",
       "UK-CIC10690384+UK-CIC10690576_TTTCCTCCACCAGCAC-1     POSITIVE       severe   \n",
       "\n",
       "                                                 steroid_date  \\\n",
       "UK-CIC10690315+UK-CIC10690507_AAATGCCAGGCACATG-1   28/01/2021   \n",
       "UK-CIC10690315+UK-CIC10690507_AACTCTTCACTATCTT-1   28/01/2021   \n",
       "UK-CIC10690315+UK-CIC10690507_ACGAGCCCAAAGTCAA-1   28/01/2021   \n",
       "UK-CIC10690315+UK-CIC10690507_ACTTTCAGTCTGATTG-1   28/01/2021   \n",
       "UK-CIC10690315+UK-CIC10690507_AGCATACGTGTAATGA-1   28/01/2021   \n",
       "...                                                       ...   \n",
       "UK-CIC10690384+UK-CIC10690576_TTAGGCATCCATGAGT-1   07/01/2021   \n",
       "UK-CIC10690384+UK-CIC10690576_TTAGTTCGTTCACCTC-1   07/01/2021   \n",
       "UK-CIC10690384+UK-CIC10690576_TTCTCAAAGCGCTTAT-1   07/01/2021   \n",
       "UK-CIC10690384+UK-CIC10690576_TTGCGTCAGTGGTAAT-1   07/01/2021   \n",
       "UK-CIC10690384+UK-CIC10690576_TTTCCTCCACCAGCAC-1   07/01/2021   \n",
       "\n",
       "                                                  days_from_steroid  \n",
       "UK-CIC10690315+UK-CIC10690507_AAATGCCAGGCACATG-1                  7  \n",
       "UK-CIC10690315+UK-CIC10690507_AACTCTTCACTATCTT-1                  7  \n",
       "UK-CIC10690315+UK-CIC10690507_ACGAGCCCAAAGTCAA-1                  7  \n",
       "UK-CIC10690315+UK-CIC10690507_ACTTTCAGTCTGATTG-1                  7  \n",
       "UK-CIC10690315+UK-CIC10690507_AGCATACGTGTAATGA-1                  7  \n",
       "...                                                             ...  \n",
       "UK-CIC10690384+UK-CIC10690576_TTAGGCATCCATGAGT-1                 11  \n",
       "UK-CIC10690384+UK-CIC10690576_TTAGTTCGTTCACCTC-1                 11  \n",
       "UK-CIC10690384+UK-CIC10690576_TTCTCAAAGCGCTTAT-1                 11  \n",
       "UK-CIC10690384+UK-CIC10690576_TTGCGTCAGTGGTAAT-1                 11  \n",
       "UK-CIC10690384+UK-CIC10690576_TTTCCTCCACCAGCAC-1                 11  \n",
       "\n",
       "[8657 rows x 6 columns]"
      ]
     },
     "execution_count": 45,
     "metadata": {},
     "output_type": "execute_result"
    }
   ],
   "source": [
    "sub_set1.obs"
   ]
  },
  {
   "cell_type": "code",
   "execution_count": 46,
   "id": "organizational-simple",
   "metadata": {},
   "outputs": [],
   "source": [
    "sub_set1.obs.reset_index(inplace=True)"
   ]
  },
  {
   "cell_type": "code",
   "execution_count": 47,
   "id": "insured-logic",
   "metadata": {},
   "outputs": [
    {
     "data": {
      "text/html": [
       "<div>\n",
       "<style scoped>\n",
       "    .dataframe tbody tr th:only-of-type {\n",
       "        vertical-align: middle;\n",
       "    }\n",
       "\n",
       "    .dataframe tbody tr th {\n",
       "        vertical-align: top;\n",
       "    }\n",
       "\n",
       "    .dataframe thead th {\n",
       "        text-align: right;\n",
       "    }\n",
       "</style>\n",
       "<table border=\"1\" class=\"dataframe\">\n",
       "  <thead>\n",
       "    <tr style=\"text-align: right;\">\n",
       "      <th></th>\n",
       "      <th>index</th>\n",
       "      <th>annot4</th>\n",
       "      <th>centre</th>\n",
       "      <th>case_control</th>\n",
       "      <th>WHO_severity</th>\n",
       "      <th>steroid_date</th>\n",
       "      <th>days_from_steroid</th>\n",
       "    </tr>\n",
       "  </thead>\n",
       "  <tbody>\n",
       "    <tr>\n",
       "      <th>0</th>\n",
       "      <td>UK-CIC10690315+UK-CIC10690507_AAATGCCAGGCACATG-1</td>\n",
       "      <td>CD14mono_alt_act</td>\n",
       "      <td>Cambridge</td>\n",
       "      <td>POSITIVE</td>\n",
       "      <td>moderate</td>\n",
       "      <td>28/01/2021</td>\n",
       "      <td>7</td>\n",
       "    </tr>\n",
       "    <tr>\n",
       "      <th>1</th>\n",
       "      <td>UK-CIC10690315+UK-CIC10690507_AACTCTTCACTATCTT-1</td>\n",
       "      <td>CD16mono</td>\n",
       "      <td>Cambridge</td>\n",
       "      <td>POSITIVE</td>\n",
       "      <td>moderate</td>\n",
       "      <td>28/01/2021</td>\n",
       "      <td>7</td>\n",
       "    </tr>\n",
       "    <tr>\n",
       "      <th>2</th>\n",
       "      <td>UK-CIC10690315+UK-CIC10690507_ACGAGCCCAAAGTCAA-1</td>\n",
       "      <td>CD14mono</td>\n",
       "      <td>Cambridge</td>\n",
       "      <td>POSITIVE</td>\n",
       "      <td>moderate</td>\n",
       "      <td>28/01/2021</td>\n",
       "      <td>7</td>\n",
       "    </tr>\n",
       "    <tr>\n",
       "      <th>3</th>\n",
       "      <td>UK-CIC10690315+UK-CIC10690507_ACTTTCAGTCTGATTG-1</td>\n",
       "      <td>CD14mono</td>\n",
       "      <td>Cambridge</td>\n",
       "      <td>POSITIVE</td>\n",
       "      <td>moderate</td>\n",
       "      <td>28/01/2021</td>\n",
       "      <td>7</td>\n",
       "    </tr>\n",
       "    <tr>\n",
       "      <th>4</th>\n",
       "      <td>UK-CIC10690315+UK-CIC10690507_AGCATACGTGTAATGA-1</td>\n",
       "      <td>CD14mono_alt_act</td>\n",
       "      <td>Cambridge</td>\n",
       "      <td>POSITIVE</td>\n",
       "      <td>moderate</td>\n",
       "      <td>28/01/2021</td>\n",
       "      <td>7</td>\n",
       "    </tr>\n",
       "  </tbody>\n",
       "</table>\n",
       "</div>"
      ],
      "text/plain": [
       "                                              index            annot4  \\\n",
       "0  UK-CIC10690315+UK-CIC10690507_AAATGCCAGGCACATG-1  CD14mono_alt_act   \n",
       "1  UK-CIC10690315+UK-CIC10690507_AACTCTTCACTATCTT-1          CD16mono   \n",
       "2  UK-CIC10690315+UK-CIC10690507_ACGAGCCCAAAGTCAA-1          CD14mono   \n",
       "3  UK-CIC10690315+UK-CIC10690507_ACTTTCAGTCTGATTG-1          CD14mono   \n",
       "4  UK-CIC10690315+UK-CIC10690507_AGCATACGTGTAATGA-1  CD14mono_alt_act   \n",
       "\n",
       "      centre case_control WHO_severity steroid_date  days_from_steroid  \n",
       "0  Cambridge     POSITIVE     moderate   28/01/2021                  7  \n",
       "1  Cambridge     POSITIVE     moderate   28/01/2021                  7  \n",
       "2  Cambridge     POSITIVE     moderate   28/01/2021                  7  \n",
       "3  Cambridge     POSITIVE     moderate   28/01/2021                  7  \n",
       "4  Cambridge     POSITIVE     moderate   28/01/2021                  7  "
      ]
     },
     "execution_count": 47,
     "metadata": {},
     "output_type": "execute_result"
    }
   ],
   "source": [
    "sub_set1.obs.head()"
   ]
  },
  {
   "cell_type": "code",
   "execution_count": 48,
   "id": "hindu-salem",
   "metadata": {},
   "outputs": [],
   "source": [
    "df_meta = pd.DataFrame(data={'Cell': list(sub_set1.obs['index']), \n",
    "                             'cell_type': list(sub_set1.obs['annot4'])})"
   ]
  },
  {
   "cell_type": "code",
   "execution_count": 49,
   "id": "piano-selling",
   "metadata": {},
   "outputs": [
    {
     "data": {
      "text/html": [
       "<div>\n",
       "<style scoped>\n",
       "    .dataframe tbody tr th:only-of-type {\n",
       "        vertical-align: middle;\n",
       "    }\n",
       "\n",
       "    .dataframe tbody tr th {\n",
       "        vertical-align: top;\n",
       "    }\n",
       "\n",
       "    .dataframe thead th {\n",
       "        text-align: right;\n",
       "    }\n",
       "</style>\n",
       "<table border=\"1\" class=\"dataframe\">\n",
       "  <thead>\n",
       "    <tr style=\"text-align: right;\">\n",
       "      <th></th>\n",
       "      <th>Cell</th>\n",
       "      <th>cell_type</th>\n",
       "    </tr>\n",
       "  </thead>\n",
       "  <tbody>\n",
       "    <tr>\n",
       "      <th>0</th>\n",
       "      <td>UK-CIC10690315+UK-CIC10690507_AAATGCCAGGCACATG-1</td>\n",
       "      <td>CD14mono_alt_act</td>\n",
       "    </tr>\n",
       "    <tr>\n",
       "      <th>1</th>\n",
       "      <td>UK-CIC10690315+UK-CIC10690507_AACTCTTCACTATCTT-1</td>\n",
       "      <td>CD16mono</td>\n",
       "    </tr>\n",
       "    <tr>\n",
       "      <th>2</th>\n",
       "      <td>UK-CIC10690315+UK-CIC10690507_ACGAGCCCAAAGTCAA-1</td>\n",
       "      <td>CD14mono</td>\n",
       "    </tr>\n",
       "    <tr>\n",
       "      <th>3</th>\n",
       "      <td>UK-CIC10690315+UK-CIC10690507_ACTTTCAGTCTGATTG-1</td>\n",
       "      <td>CD14mono</td>\n",
       "    </tr>\n",
       "    <tr>\n",
       "      <th>4</th>\n",
       "      <td>UK-CIC10690315+UK-CIC10690507_AGCATACGTGTAATGA-1</td>\n",
       "      <td>CD14mono_alt_act</td>\n",
       "    </tr>\n",
       "  </tbody>\n",
       "</table>\n",
       "</div>"
      ],
      "text/plain": [
       "                                               Cell         cell_type\n",
       "0  UK-CIC10690315+UK-CIC10690507_AAATGCCAGGCACATG-1  CD14mono_alt_act\n",
       "1  UK-CIC10690315+UK-CIC10690507_AACTCTTCACTATCTT-1          CD16mono\n",
       "2  UK-CIC10690315+UK-CIC10690507_ACGAGCCCAAAGTCAA-1          CD14mono\n",
       "3  UK-CIC10690315+UK-CIC10690507_ACTTTCAGTCTGATTG-1          CD14mono\n",
       "4  UK-CIC10690315+UK-CIC10690507_AGCATACGTGTAATGA-1  CD14mono_alt_act"
      ]
     },
     "execution_count": 49,
     "metadata": {},
     "output_type": "execute_result"
    }
   ],
   "source": [
    "df_meta.head()"
   ]
  },
  {
   "cell_type": "code",
   "execution_count": 50,
   "id": "bibliographic-milwaukee",
   "metadata": {},
   "outputs": [],
   "source": [
    "df_meta.set_index('Cell',inplace=True)\n",
    "df_meta.to_csv('/home/jovyan/mounting_point/cellphoneDB_output/allmono_platelet_wave2_pos_steroid_meta_after.txt', sep='\\t')"
   ]
  },
  {
   "cell_type": "code",
   "execution_count": null,
   "id": "recent-guyana",
   "metadata": {},
   "outputs": [],
   "source": []
  }
 ],
 "metadata": {
  "kernelspec": {
   "display_name": "Py_env2",
   "language": "python",
   "name": "py_env2"
  },
  "language_info": {
   "codemirror_mode": {
    "name": "ipython",
    "version": 3
   },
   "file_extension": ".py",
   "mimetype": "text/x-python",
   "name": "python",
   "nbconvert_exporter": "python",
   "pygments_lexer": "ipython3",
   "version": "3.8.13"
  }
 },
 "nbformat": 4,
 "nbformat_minor": 5
}
