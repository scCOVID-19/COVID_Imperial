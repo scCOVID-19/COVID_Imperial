{
 "cells": [
  {
   "cell_type": "code",
   "execution_count": 1,
   "id": "sustainable-jefferson",
   "metadata": {},
   "outputs": [],
   "source": [
    "#https://github.com/ventolab/CellphoneDB/tree/master/notebooks\n",
    "##conda activate cpdb\n",
    "#cellphonedb method statistical_analysis covid_CD16mono_platelet_meta.txt covid_CD16mono_platelet_count.txt --counts-data=gene_name#\n",
    "#cellphonedb plot dot_plot --rows in/rows.txt --columns in/columns.txt"
   ]
  },
  {
   "cell_type": "code",
   "execution_count": 2,
   "id": "czech-approach",
   "metadata": {},
   "outputs": [],
   "source": [
    "import pandas as pd\n",
    "import scanpy as sc\n",
    "\n",
    "# data after filtering and normalising\n",
    "adata = sc.read('/home/jovyan/mounting_point/renal_covid_19_gex_myeloid_soupX_QC_orig.ident_annotated_levle23.h5ad')\n"
   ]
  },
  {
   "cell_type": "code",
   "execution_count": 3,
   "id": "sexual-riverside",
   "metadata": {},
   "outputs": [],
   "source": [
    "raw= sc.read('/home/jovyan/data/covid_19_renal/renal_covid_19_gex_myeloid_soupX_QC.h5ad')"
   ]
  },
  {
   "cell_type": "code",
   "execution_count": 4,
   "id": "physical-service",
   "metadata": {},
   "outputs": [],
   "source": [
    "mdata = raw[raw.obs.index.isin(adata.obs.index)]"
   ]
  },
  {
   "cell_type": "code",
   "execution_count": 5,
   "id": "saving-inside",
   "metadata": {},
   "outputs": [
    {
     "data": {
      "text/plain": [
       "View of AnnData object with n_obs × n_vars = 126622 × 33559"
      ]
     },
     "execution_count": 5,
     "metadata": {},
     "output_type": "execute_result"
    }
   ],
   "source": [
    "mdata"
   ]
  },
  {
   "cell_type": "code",
   "execution_count": 6,
   "id": "rolled-ready",
   "metadata": {},
   "outputs": [
    {
     "data": {
      "text/plain": [
       "AnnData object with n_obs × n_vars = 126622 × 1215\n",
       "    obs: 'annotation22_ES', 'centre', 'sample_id', 'sample_id_broad', 'sample_date', 'sample_date_yr', 'pool', 'pool_broad', 'haniffa_broad_predLabel', 'orig.ident', 'merged_souporcell_cluster', 'merged_souporcell_status', 'patient_id', 'case_control', 'WHO_severity', 'sex', 'calc_age', 'discharge_date', 'date_positive_swab', 'date_first_symptoms', 'admission_date', 'ethnicity', 'n_genes_by_counts', 'total_counts', 'total_counts_mt', 'pct_counts_mt', 'leiden_0.8', '5_subcluster', '9_subcluster', 'annotation', 'annotation23_ES', 'annotation24_ES', 'annot3', 'annot2', 'annot1', 'leiden_0.5', 'annot4'\n",
       "    var: 'mt', 'n_cells_by_counts', 'mean_counts', 'pct_dropout_by_counts', 'total_counts', 'highly_variable', 'means', 'dispersions', 'dispersions_norm', 'mean', 'std'\n",
       "    uns: '5_subcluster_colors', '9_subcluster', '9_subcluster_colors', 'WHO_severity_colors', 'X_pca_harmony_orig.ident', 'annot1_colors', 'annot2_colors', 'annot3_colors', 'annot4_colors', 'annotation22_ES_colors', 'annotation23_ES_colors', 'annotation24_ES_colors', 'hvg', 'leiden', 'leiden_0.5', 'leiden_0.5_colors', 'leiden_0.8_colors', 'merged_souporcell_status_colors', 'pca', 'umap'\n",
       "    obsm: 'X_pca', 'X_pca_harmony_orig.ident', 'X_umap'\n",
       "    varm: 'PCs'\n",
       "    obsp: 'X_pca_harmony_orig.ident_connectivities', 'X_pca_harmony_orig.ident_distances'"
      ]
     },
     "execution_count": 6,
     "metadata": {},
     "output_type": "execute_result"
    }
   ],
   "source": [
    "adata"
   ]
  },
  {
   "cell_type": "code",
   "execution_count": 7,
   "id": "latest-spectacular",
   "metadata": {},
   "outputs": [
    {
     "data": {
      "text/plain": [
       "AnnData object with n_obs × n_vars = 220907 × 33559"
      ]
     },
     "execution_count": 7,
     "metadata": {},
     "output_type": "execute_result"
    }
   ],
   "source": [
    "raw"
   ]
  },
  {
   "cell_type": "code",
   "execution_count": 8,
   "id": "otherwise-pontiac",
   "metadata": {},
   "outputs": [
    {
     "name": "stderr",
     "output_type": "stream",
     "text": [
      "/tmp/ipykernel_11561/1601135058.py:1: ImplicitModificationWarning: Trying to modify attribute `.obs` of view, initializing view as actual.\n",
      "  mdata.obs['annot4'] = adata.obs['annot4']\n",
      "/home/jovyan/my-conda-envs/Py_env2/lib/python3.8/contextlib.py:120: FutureWarning: X.dtype being converted to np.float32 from float64. In the next version of anndata (0.9) conversion will not be automatic. Pass dtype explicitly to avoid this warning. Pass `AnnData(X, dtype=X.dtype, ...)` to get the future behavour.\n",
      "  next(self.gen)\n"
     ]
    }
   ],
   "source": [
    "mdata.obs['annot4'] = adata.obs['annot4']\n",
    "mdata.obs['centre'] = adata.obs['centre']\n",
    "mdata.obs['case_control'] = adata.obs['case_control']\n",
    "mdata.obs['WHO_severity'] = adata.obs['WHO_severity']\n",
    "mdata.obs['patient_id'] = adata.obs['patient_id']\n",
    "mdata.obs['sample_id'] = adata.obs['sample_id']"
   ]
  },
  {
   "cell_type": "code",
   "execution_count": 9,
   "id": "turkish-screening",
   "metadata": {},
   "outputs": [
    {
     "data": {
      "text/plain": [
       "['CD14mono_activated', 'CD16mono', 'pDC', 'CD14mono', 'Int.mono', ..., 'HSPC', 'DC3', 'DC1', 'DC3_IFN', 'ASDC']\n",
       "Length: 17\n",
       "Categories (17, object): ['ASDC', 'CD14mono', 'CD14mono_IFN', 'CD14mono_activated', ..., 'Int.mono', 'Platelet', 'RBC', 'pDC']"
      ]
     },
     "execution_count": 9,
     "metadata": {},
     "output_type": "execute_result"
    }
   ],
   "source": [
    "mdata.obs['annot4'].unique()"
   ]
  },
  {
   "cell_type": "code",
   "execution_count": 10,
   "id": "unlike-agreement",
   "metadata": {},
   "outputs": [],
   "source": [
    "#sc.pp.subsample(adata, fraction=None, n_obs=100, random_state=0, copy=False)#subsample"
   ]
  },
  {
   "cell_type": "code",
   "execution_count": 11,
   "id": "significant-identifier",
   "metadata": {},
   "outputs": [],
   "source": [
    "mdata.obs['annot4'] = mdata.obs['annot4'].str.replace('CD14mono_activated','CD14mono')\n",
    "mdata.obs['annot4'] = mdata.obs['annot4'].str.replace('CD14mono_anti_inflammatory','CD14mono_alt_act')"
   ]
  },
  {
   "cell_type": "code",
   "execution_count": 12,
   "id": "olive-princeton",
   "metadata": {},
   "outputs": [
    {
     "data": {
      "text/plain": [
       "['CD14mono',\n",
       " 'CD16mono',\n",
       " 'pDC',\n",
       " 'Int.mono',\n",
       " 'CD16mono_C1',\n",
       " 'CD16mono_IFN',\n",
       " 'CD14mono_IFN',\n",
       " 'RBC',\n",
       " 'DC2',\n",
       " 'Platelet',\n",
       " 'CD14mono_alt_act',\n",
       " 'HSPC',\n",
       " 'DC3',\n",
       " 'DC1',\n",
       " 'DC3_IFN',\n",
       " 'ASDC']"
      ]
     },
     "execution_count": 12,
     "metadata": {},
     "output_type": "execute_result"
    }
   ],
   "source": [
    "list(mdata.obs['annot4'].unique())"
   ]
  },
  {
   "cell_type": "code",
   "execution_count": 13,
   "id": "frank-exclusive",
   "metadata": {},
   "outputs": [],
   "source": [
    "cell_interested=['CD14mono_alt_act','CD16mono','CD16mono_IFN',\n",
    "                 'CD16mono_C1','CD14mono','CD14mono_IFN','Int.mono','Platelet']\n",
    "sub_set=mdata[mdata.obs['annot4'].isin(cell_interested)]\n"
   ]
  },
  {
   "cell_type": "code",
   "execution_count": 14,
   "id": "solved-humanitarian",
   "metadata": {},
   "outputs": [
    {
     "data": {
      "text/plain": [
       "['CD14mono',\n",
       " 'CD16mono',\n",
       " 'Int.mono',\n",
       " 'CD16mono_C1',\n",
       " 'CD16mono_IFN',\n",
       " 'CD14mono_IFN',\n",
       " 'Platelet',\n",
       " 'CD14mono_alt_act']"
      ]
     },
     "execution_count": 14,
     "metadata": {},
     "output_type": "execute_result"
    }
   ],
   "source": [
    "list(sub_set.obs['annot4'].unique())"
   ]
  },
  {
   "cell_type": "code",
   "execution_count": 15,
   "id": "changed-rebate",
   "metadata": {},
   "outputs": [
    {
     "data": {
      "text/plain": [
       "True"
      ]
     },
     "execution_count": 15,
     "metadata": {},
     "output_type": "execute_result"
    }
   ],
   "source": [
    "'C141' in sub_set.obs['patient_id'].unique()"
   ]
  },
  {
   "cell_type": "code",
   "execution_count": 16,
   "id": "technical-scroll",
   "metadata": {},
   "outputs": [
    {
     "data": {
      "text/plain": [
       "False"
      ]
     },
     "execution_count": 16,
     "metadata": {},
     "output_type": "execute_result"
    }
   ],
   "source": [
    "'C139' in sub_set.obs['patient_id'].unique()"
   ]
  },
  {
   "cell_type": "code",
   "execution_count": 17,
   "id": "another-invalid",
   "metadata": {},
   "outputs": [
    {
     "data": {
      "text/plain": [
       "False"
      ]
     },
     "execution_count": 17,
     "metadata": {},
     "output_type": "execute_result"
    }
   ],
   "source": [
    "'C116' in sub_set.obs['patient_id'].unique()"
   ]
  },
  {
   "cell_type": "code",
   "execution_count": 19,
   "id": "ceramic-quilt",
   "metadata": {},
   "outputs": [],
   "source": [
    "# removing recover samples of C141\n",
    "C141 = sub_set[sub_set.obs['patient_id']=='C141']"
   ]
  },
  {
   "cell_type": "code",
   "execution_count": 20,
   "id": "controlled-arabic",
   "metadata": {},
   "outputs": [
    {
     "data": {
      "text/plain": [
       "['C141_090321', 'C141_020221', 'C141_200121', 'C141_300121', 'C141_220121', 'C141_260121']\n",
       "Categories (6, object): ['C141_020221', 'C141_090321', 'C141_200121', 'C141_220121', 'C141_260121', 'C141_300121']"
      ]
     },
     "execution_count": 20,
     "metadata": {},
     "output_type": "execute_result"
    }
   ],
   "source": [
    "C141.obs['sample_id'].unique()"
   ]
  },
  {
   "cell_type": "code",
   "execution_count": 21,
   "id": "removable-baker",
   "metadata": {},
   "outputs": [],
   "source": [
    "C141_rec = C141[C141.obs['sample_id']=='C141_090321']"
   ]
  },
  {
   "cell_type": "code",
   "execution_count": 22,
   "id": "golden-editor",
   "metadata": {},
   "outputs": [
    {
     "data": {
      "text/plain": [
       "['RECOVERY']\n",
       "Categories (1, object): ['RECOVERY']"
      ]
     },
     "execution_count": 22,
     "metadata": {},
     "output_type": "execute_result"
    }
   ],
   "source": [
    "C141_rec.obs['case_control'].unique()"
   ]
  },
  {
   "cell_type": "code",
   "execution_count": 23,
   "id": "objective-quality",
   "metadata": {},
   "outputs": [
    {
     "data": {
      "text/plain": [
       "View of AnnData object with n_obs × n_vars = 104673 × 33559\n",
       "    obs: 'annot4', 'centre', 'case_control', 'WHO_severity', 'patient_id', 'sample_id'"
      ]
     },
     "execution_count": 23,
     "metadata": {},
     "output_type": "execute_result"
    }
   ],
   "source": [
    "sub_set"
   ]
  },
  {
   "cell_type": "code",
   "execution_count": 24,
   "id": "planned-stroke",
   "metadata": {},
   "outputs": [],
   "source": [
    "sub_set = sub_set[sub_set.obs['sample_id']!='C141_090321']"
   ]
  },
  {
   "cell_type": "code",
   "execution_count": 25,
   "id": "worth-point",
   "metadata": {},
   "outputs": [
    {
     "data": {
      "text/plain": [
       "View of AnnData object with n_obs × n_vars = 104347 × 33559\n",
       "    obs: 'annot4', 'centre', 'case_control', 'WHO_severity', 'patient_id', 'sample_id'"
      ]
     },
     "execution_count": 25,
     "metadata": {},
     "output_type": "execute_result"
    }
   ],
   "source": [
    "sub_set"
   ]
  },
  {
   "cell_type": "markdown",
   "id": "collect-reset",
   "metadata": {},
   "source": [
    "# geosketch NR"
   ]
  },
  {
   "cell_type": "code",
   "execution_count": 26,
   "id": "unsigned-disposition",
   "metadata": {},
   "outputs": [
    {
     "data": {
      "text/plain": [
       "CD14mono            47175\n",
       "CD16mono            21269\n",
       "CD14mono_IFN        12965\n",
       "CD16mono_IFN         6772\n",
       "Int.mono             6126\n",
       "CD16mono_C1          3522\n",
       "Platelet             3522\n",
       "CD14mono_alt_act     2996\n",
       "Name: annot4, dtype: int64"
      ]
     },
     "execution_count": 26,
     "metadata": {},
     "output_type": "execute_result"
    }
   ],
   "source": [
    "sub_set.obs['annot4'].value_counts()"
   ]
  },
  {
   "cell_type": "code",
   "execution_count": 27,
   "id": "professional-humor",
   "metadata": {},
   "outputs": [],
   "source": [
    "adata_scaled = sub_set[:]"
   ]
  },
  {
   "cell_type": "code",
   "execution_count": 28,
   "id": "cellular-hanging",
   "metadata": {},
   "outputs": [
    {
     "name": "stderr",
     "output_type": "stream",
     "text": [
      "/home/jovyan/.local/lib/python3.8/site-packages/scanpy-1.9.1-py3.8.egg/scanpy/preprocessing/_normalization.py:170: UserWarning: Received a view of an AnnData. Making a copy.\n",
      "  view_to_actual(adata)\n"
     ]
    }
   ],
   "source": [
    "sc.pp.normalize_total(adata_scaled, target_sum=1e4)\n",
    "sc.pp.log1p(adata_scaled)\n",
    "sc.pp.scale(adata_scaled, max_value=10)"
   ]
  },
  {
   "cell_type": "code",
   "execution_count": 29,
   "id": "little-workplace",
   "metadata": {},
   "outputs": [],
   "source": [
    "from geosketch import gs\n",
    "# subsample adata to 30k with geosketch\n",
    "# use the scaled values from adata_filter to do the subsetting\n",
    "X = adata_scaled.X\n",
    "# Compute PCs.\n",
    "from fbpca import pca\n",
    "U, s, Vt = pca(X, k=100) # E.g., 100 PCs.\n",
    "X_dimred = U[:, :100] * s[:100]\n",
    "N = 20000 # Number of samples to obtain from the data set.\n"
   ]
  },
  {
   "cell_type": "code",
   "execution_count": 30,
   "id": "ongoing-myanmar",
   "metadata": {},
   "outputs": [],
   "source": [
    "sketch_index = gs(X_dimred, N, replace=False)\n",
    "#adata_filter_30k = adata_scaled[sketch_index]\n",
    "#sc.pl.umap(adata_filter_30k, color = ['timeline'], ncols=2)\n",
    "# now to subsample the actual adata and save it\n",
    "adata_30k =  sub_set[sketch_index]\n",
    "# save the file\n",
    "#resultFile30k = '/home/jovyan/Tom/GSE134809_adata_30k.h5ad'\n",
    "#adata_30k.write(resultFile30k)"
   ]
  },
  {
   "cell_type": "code",
   "execution_count": 31,
   "id": "taken-subdivision",
   "metadata": {},
   "outputs": [],
   "source": [
    "#Create a subsample to save on re sampling - only 40% of dataset to run faster\n",
    "#grouped = adata.obs.groupby('timeline')\n",
    "#df = grouped.apply(lambda x: x.sample(frac=0.05))#0.4\n",
    "#df = df.droplevel('timeline')\n",
    "#keep = df.index\n",
    "#adata = adata[adata.obs.index.isin(keep)]"
   ]
  },
  {
   "cell_type": "code",
   "execution_count": 32,
   "id": "orange-cathedral",
   "metadata": {},
   "outputs": [],
   "source": [
    "sub_set= adata_30k"
   ]
  },
  {
   "cell_type": "code",
   "execution_count": 33,
   "id": "proper-slovak",
   "metadata": {},
   "outputs": [
    {
     "data": {
      "text/plain": [
       "View of AnnData object with n_obs × n_vars = 20000 × 33559\n",
       "    obs: 'annot4', 'centre', 'case_control', 'WHO_severity', 'patient_id', 'sample_id'"
      ]
     },
     "execution_count": 33,
     "metadata": {},
     "output_type": "execute_result"
    }
   ],
   "source": [
    "sub_set"
   ]
  },
  {
   "cell_type": "markdown",
   "id": "nutritional-possession",
   "metadata": {},
   "source": [
    "# end"
   ]
  },
  {
   "cell_type": "code",
   "execution_count": 34,
   "id": "arranged-suicide",
   "metadata": {},
   "outputs": [
    {
     "name": "stderr",
     "output_type": "stream",
     "text": [
      "/home/jovyan/.local/lib/python3.8/site-packages/scanpy-1.9.1-py3.8.egg/scanpy/preprocessing/_normalization.py:170: UserWarning: Received a view of an AnnData. Making a copy.\n",
      "  view_to_actual(adata)\n"
     ]
    }
   ],
   "source": [
    "sc.pp.normalize_total(sub_set, target_sum=1e4)"
   ]
  },
  {
   "cell_type": "code",
   "execution_count": 35,
   "id": "tender-nevada",
   "metadata": {},
   "outputs": [],
   "source": [
    "sc.pp.log1p(sub_set)"
   ]
  },
  {
   "cell_type": "code",
   "execution_count": null,
   "id": "passing-intervention",
   "metadata": {},
   "outputs": [],
   "source": [
    "gene_interested=[]\n",
    "\n",
    "sub_set1=sub_set[:, gene_interested]"
   ]
  },
  {
   "cell_type": "code",
   "execution_count": null,
   "id": "fatty-bristol",
   "metadata": {},
   "outputs": [],
   "source": [
    "sub_set"
   ]
  },
  {
   "cell_type": "code",
   "execution_count": 36,
   "id": "collectible-feature",
   "metadata": {},
   "outputs": [],
   "source": [
    "sub_set1=sub_set"
   ]
  },
  {
   "cell_type": "code",
   "execution_count": 37,
   "id": "homeless-conservative",
   "metadata": {},
   "outputs": [
    {
     "data": {
      "text/plain": [
       "AnnData object with n_obs × n_vars = 20000 × 33559\n",
       "    obs: 'annot4', 'centre', 'case_control', 'WHO_severity', 'patient_id', 'sample_id'\n",
       "    uns: 'log1p'"
      ]
     },
     "execution_count": 37,
     "metadata": {},
     "output_type": "execute_result"
    }
   ],
   "source": [
    "sub_set1"
   ]
  },
  {
   "cell_type": "code",
   "execution_count": 38,
   "id": "veterinary-cleveland",
   "metadata": {},
   "outputs": [],
   "source": [
    "# remove vdj and light chain constant genes from highly variable genes, and also the viral reads\n",
    "import re\n",
    "for i in sub_set1.var.index:\n",
    "    if re.search('^IG[HKL][VDJC]|VIRAL', i):\n",
    "        sub_set1.var.at[i, 'highly_variable'] = False\n",
    "#sc.pl.highly_variable_genes(sub_set1)"
   ]
  },
  {
   "cell_type": "code",
   "execution_count": 39,
   "id": "alternative-omega",
   "metadata": {},
   "outputs": [
    {
     "data": {
      "text/plain": [
       "View of AnnData object with n_obs × n_vars = 20000 × 33141\n",
       "    obs: 'annot4', 'centre', 'case_control', 'WHO_severity', 'patient_id', 'sample_id'\n",
       "    var: 'highly_variable'\n",
       "    uns: 'log1p'"
      ]
     },
     "execution_count": 39,
     "metadata": {},
     "output_type": "execute_result"
    }
   ],
   "source": [
    "sub_set1 = sub_set1[:, sub_set1.var.highly_variable!=False]\n",
    "sub_set1"
   ]
  },
  {
   "cell_type": "code",
   "execution_count": 40,
   "id": "afraid-export",
   "metadata": {},
   "outputs": [
    {
     "data": {
      "text/html": [
       "<div>\n",
       "<style scoped>\n",
       "    .dataframe tbody tr th:only-of-type {\n",
       "        vertical-align: middle;\n",
       "    }\n",
       "\n",
       "    .dataframe tbody tr th {\n",
       "        vertical-align: top;\n",
       "    }\n",
       "\n",
       "    .dataframe thead th {\n",
       "        text-align: right;\n",
       "    }\n",
       "</style>\n",
       "<table border=\"1\" class=\"dataframe\">\n",
       "  <thead>\n",
       "    <tr style=\"text-align: right;\">\n",
       "      <th></th>\n",
       "      <th>highly_variable</th>\n",
       "    </tr>\n",
       "  </thead>\n",
       "  <tbody>\n",
       "    <tr>\n",
       "      <th>MIR1302-2HG</th>\n",
       "      <td>NaN</td>\n",
       "    </tr>\n",
       "    <tr>\n",
       "      <th>FAM138A</th>\n",
       "      <td>NaN</td>\n",
       "    </tr>\n",
       "    <tr>\n",
       "      <th>OR4F5</th>\n",
       "      <td>NaN</td>\n",
       "    </tr>\n",
       "    <tr>\n",
       "      <th>AL627309.1</th>\n",
       "      <td>NaN</td>\n",
       "    </tr>\n",
       "    <tr>\n",
       "      <th>AL627309.3</th>\n",
       "      <td>NaN</td>\n",
       "    </tr>\n",
       "    <tr>\n",
       "      <th>...</th>\n",
       "      <td>...</td>\n",
       "    </tr>\n",
       "    <tr>\n",
       "      <th>AC233755.2</th>\n",
       "      <td>NaN</td>\n",
       "    </tr>\n",
       "    <tr>\n",
       "      <th>AC233755.1</th>\n",
       "      <td>NaN</td>\n",
       "    </tr>\n",
       "    <tr>\n",
       "      <th>AC240274.1</th>\n",
       "      <td>NaN</td>\n",
       "    </tr>\n",
       "    <tr>\n",
       "      <th>AC213203.1</th>\n",
       "      <td>NaN</td>\n",
       "    </tr>\n",
       "    <tr>\n",
       "      <th>FAM231C</th>\n",
       "      <td>NaN</td>\n",
       "    </tr>\n",
       "  </tbody>\n",
       "</table>\n",
       "<p>33141 rows × 1 columns</p>\n",
       "</div>"
      ],
      "text/plain": [
       "            highly_variable\n",
       "MIR1302-2HG             NaN\n",
       "FAM138A                 NaN\n",
       "OR4F5                   NaN\n",
       "AL627309.1              NaN\n",
       "AL627309.3              NaN\n",
       "...                     ...\n",
       "AC233755.2              NaN\n",
       "AC233755.1              NaN\n",
       "AC240274.1              NaN\n",
       "AC213203.1              NaN\n",
       "FAM231C                 NaN\n",
       "\n",
       "[33141 rows x 1 columns]"
      ]
     },
     "execution_count": 40,
     "metadata": {},
     "output_type": "execute_result"
    }
   ],
   "source": [
    "sub_set1.var"
   ]
  },
  {
   "cell_type": "code",
   "execution_count": 41,
   "id": "crazy-stupid",
   "metadata": {},
   "outputs": [],
   "source": [
    "df_expr_matrix = sub_set1.X.T ####? should be raw.X???"
   ]
  },
  {
   "cell_type": "code",
   "execution_count": 42,
   "id": "moral-tyler",
   "metadata": {},
   "outputs": [
    {
     "data": {
      "text/plain": [
       "(33141, 20000)"
      ]
     },
     "execution_count": 42,
     "metadata": {},
     "output_type": "execute_result"
    }
   ],
   "source": [
    "df_expr_matrix.shape"
   ]
  },
  {
   "cell_type": "code",
   "execution_count": 43,
   "id": "harmful-invention",
   "metadata": {},
   "outputs": [],
   "source": [
    "df_expr_matrix = pd.DataFrame(df_expr_matrix.toarray())"
   ]
  },
  {
   "cell_type": "code",
   "execution_count": 44,
   "id": "leading-compact",
   "metadata": {},
   "outputs": [
    {
     "data": {
      "text/html": [
       "<div>\n",
       "<style scoped>\n",
       "    .dataframe tbody tr th:only-of-type {\n",
       "        vertical-align: middle;\n",
       "    }\n",
       "\n",
       "    .dataframe tbody tr th {\n",
       "        vertical-align: top;\n",
       "    }\n",
       "\n",
       "    .dataframe thead th {\n",
       "        text-align: right;\n",
       "    }\n",
       "</style>\n",
       "<table border=\"1\" class=\"dataframe\">\n",
       "  <thead>\n",
       "    <tr style=\"text-align: right;\">\n",
       "      <th></th>\n",
       "      <th>0</th>\n",
       "      <th>1</th>\n",
       "      <th>2</th>\n",
       "      <th>3</th>\n",
       "      <th>4</th>\n",
       "      <th>5</th>\n",
       "      <th>6</th>\n",
       "      <th>7</th>\n",
       "      <th>8</th>\n",
       "      <th>9</th>\n",
       "      <th>...</th>\n",
       "      <th>19990</th>\n",
       "      <th>19991</th>\n",
       "      <th>19992</th>\n",
       "      <th>19993</th>\n",
       "      <th>19994</th>\n",
       "      <th>19995</th>\n",
       "      <th>19996</th>\n",
       "      <th>19997</th>\n",
       "      <th>19998</th>\n",
       "      <th>19999</th>\n",
       "    </tr>\n",
       "  </thead>\n",
       "  <tbody>\n",
       "    <tr>\n",
       "      <th>0</th>\n",
       "      <td>0.0</td>\n",
       "      <td>0.0</td>\n",
       "      <td>0.0</td>\n",
       "      <td>0.0</td>\n",
       "      <td>0.0</td>\n",
       "      <td>0.0</td>\n",
       "      <td>0.0</td>\n",
       "      <td>0.0</td>\n",
       "      <td>0.0</td>\n",
       "      <td>0.0</td>\n",
       "      <td>...</td>\n",
       "      <td>0.0</td>\n",
       "      <td>0.0</td>\n",
       "      <td>0.0</td>\n",
       "      <td>0.0</td>\n",
       "      <td>0.0</td>\n",
       "      <td>0.0</td>\n",
       "      <td>0.0</td>\n",
       "      <td>0.0</td>\n",
       "      <td>0.0</td>\n",
       "      <td>0.0</td>\n",
       "    </tr>\n",
       "    <tr>\n",
       "      <th>1</th>\n",
       "      <td>0.0</td>\n",
       "      <td>0.0</td>\n",
       "      <td>0.0</td>\n",
       "      <td>0.0</td>\n",
       "      <td>0.0</td>\n",
       "      <td>0.0</td>\n",
       "      <td>0.0</td>\n",
       "      <td>0.0</td>\n",
       "      <td>0.0</td>\n",
       "      <td>0.0</td>\n",
       "      <td>...</td>\n",
       "      <td>0.0</td>\n",
       "      <td>0.0</td>\n",
       "      <td>0.0</td>\n",
       "      <td>0.0</td>\n",
       "      <td>0.0</td>\n",
       "      <td>0.0</td>\n",
       "      <td>0.0</td>\n",
       "      <td>0.0</td>\n",
       "      <td>0.0</td>\n",
       "      <td>0.0</td>\n",
       "    </tr>\n",
       "    <tr>\n",
       "      <th>2</th>\n",
       "      <td>0.0</td>\n",
       "      <td>0.0</td>\n",
       "      <td>0.0</td>\n",
       "      <td>0.0</td>\n",
       "      <td>0.0</td>\n",
       "      <td>0.0</td>\n",
       "      <td>0.0</td>\n",
       "      <td>0.0</td>\n",
       "      <td>0.0</td>\n",
       "      <td>0.0</td>\n",
       "      <td>...</td>\n",
       "      <td>0.0</td>\n",
       "      <td>0.0</td>\n",
       "      <td>0.0</td>\n",
       "      <td>0.0</td>\n",
       "      <td>0.0</td>\n",
       "      <td>0.0</td>\n",
       "      <td>0.0</td>\n",
       "      <td>0.0</td>\n",
       "      <td>0.0</td>\n",
       "      <td>0.0</td>\n",
       "    </tr>\n",
       "    <tr>\n",
       "      <th>3</th>\n",
       "      <td>0.0</td>\n",
       "      <td>0.0</td>\n",
       "      <td>0.0</td>\n",
       "      <td>0.0</td>\n",
       "      <td>0.0</td>\n",
       "      <td>0.0</td>\n",
       "      <td>0.0</td>\n",
       "      <td>0.0</td>\n",
       "      <td>0.0</td>\n",
       "      <td>0.0</td>\n",
       "      <td>...</td>\n",
       "      <td>0.0</td>\n",
       "      <td>0.0</td>\n",
       "      <td>0.0</td>\n",
       "      <td>0.0</td>\n",
       "      <td>0.0</td>\n",
       "      <td>0.0</td>\n",
       "      <td>0.0</td>\n",
       "      <td>0.0</td>\n",
       "      <td>0.0</td>\n",
       "      <td>0.0</td>\n",
       "    </tr>\n",
       "    <tr>\n",
       "      <th>4</th>\n",
       "      <td>0.0</td>\n",
       "      <td>0.0</td>\n",
       "      <td>0.0</td>\n",
       "      <td>0.0</td>\n",
       "      <td>0.0</td>\n",
       "      <td>0.0</td>\n",
       "      <td>0.0</td>\n",
       "      <td>0.0</td>\n",
       "      <td>0.0</td>\n",
       "      <td>0.0</td>\n",
       "      <td>...</td>\n",
       "      <td>0.0</td>\n",
       "      <td>0.0</td>\n",
       "      <td>0.0</td>\n",
       "      <td>0.0</td>\n",
       "      <td>0.0</td>\n",
       "      <td>0.0</td>\n",
       "      <td>0.0</td>\n",
       "      <td>0.0</td>\n",
       "      <td>0.0</td>\n",
       "      <td>0.0</td>\n",
       "    </tr>\n",
       "  </tbody>\n",
       "</table>\n",
       "<p>5 rows × 20000 columns</p>\n",
       "</div>"
      ],
      "text/plain": [
       "   0      1      2      3      4      5      6      7      8      9      ...  \\\n",
       "0    0.0    0.0    0.0    0.0    0.0    0.0    0.0    0.0    0.0    0.0  ...   \n",
       "1    0.0    0.0    0.0    0.0    0.0    0.0    0.0    0.0    0.0    0.0  ...   \n",
       "2    0.0    0.0    0.0    0.0    0.0    0.0    0.0    0.0    0.0    0.0  ...   \n",
       "3    0.0    0.0    0.0    0.0    0.0    0.0    0.0    0.0    0.0    0.0  ...   \n",
       "4    0.0    0.0    0.0    0.0    0.0    0.0    0.0    0.0    0.0    0.0  ...   \n",
       "\n",
       "   19990  19991  19992  19993  19994  19995  19996  19997  19998  19999  \n",
       "0    0.0    0.0    0.0    0.0    0.0    0.0    0.0    0.0    0.0    0.0  \n",
       "1    0.0    0.0    0.0    0.0    0.0    0.0    0.0    0.0    0.0    0.0  \n",
       "2    0.0    0.0    0.0    0.0    0.0    0.0    0.0    0.0    0.0    0.0  \n",
       "3    0.0    0.0    0.0    0.0    0.0    0.0    0.0    0.0    0.0    0.0  \n",
       "4    0.0    0.0    0.0    0.0    0.0    0.0    0.0    0.0    0.0    0.0  \n",
       "\n",
       "[5 rows x 20000 columns]"
      ]
     },
     "execution_count": 44,
     "metadata": {},
     "output_type": "execute_result"
    }
   ],
   "source": [
    "df_expr_matrix.head()"
   ]
  },
  {
   "cell_type": "code",
   "execution_count": 45,
   "id": "tired-ecology",
   "metadata": {},
   "outputs": [],
   "source": [
    "df_expr_matrix.columns = sub_set1.obs.index"
   ]
  },
  {
   "cell_type": "code",
   "execution_count": 46,
   "id": "confident-trader",
   "metadata": {},
   "outputs": [
    {
     "data": {
      "text/html": [
       "<div>\n",
       "<style scoped>\n",
       "    .dataframe tbody tr th:only-of-type {\n",
       "        vertical-align: middle;\n",
       "    }\n",
       "\n",
       "    .dataframe tbody tr th {\n",
       "        vertical-align: top;\n",
       "    }\n",
       "\n",
       "    .dataframe thead th {\n",
       "        text-align: right;\n",
       "    }\n",
       "</style>\n",
       "<table border=\"1\" class=\"dataframe\">\n",
       "  <thead>\n",
       "    <tr style=\"text-align: right;\">\n",
       "      <th></th>\n",
       "      <th>UK-CIC10689738+UK-CIC10690026_AAACCTGAGGCAATTA-1</th>\n",
       "      <th>UK-CIC10689738+UK-CIC10690026_AAACCTGCATCCCACT-1</th>\n",
       "      <th>UK-CIC10689738+UK-CIC10690026_AAACGGGCAAGTACCT-1</th>\n",
       "      <th>UK-CIC10689738+UK-CIC10690026_AAACGGGCATTGCGGC-1</th>\n",
       "      <th>UK-CIC10689738+UK-CIC10690026_AAAGATGGTAGCGCAA-1</th>\n",
       "      <th>UK-CIC10689738+UK-CIC10690026_AAAGCAAGTACTTCTT-1</th>\n",
       "      <th>UK-CIC10689738+UK-CIC10690026_AAAGTAGTCAGTTCGA-1</th>\n",
       "      <th>UK-CIC10689738+UK-CIC10690026_AACACGTTCGTAGGTT-1</th>\n",
       "      <th>UK-CIC10689738+UK-CIC10690026_AACCATGAGTCACGCC-1</th>\n",
       "      <th>UK-CIC10689738+UK-CIC10690026_AACCGCGGTTCAACCA-1</th>\n",
       "      <th>...</th>\n",
       "      <th>UK-CIC10690384+UK-CIC10690576_TGTTCCGGTGTTCGAT-1</th>\n",
       "      <th>UK-CIC10690384+UK-CIC10690576_TTAGTTCGTAAGTTCC-1</th>\n",
       "      <th>UK-CIC10690384+UK-CIC10690576_TTAGTTCGTTCACCTC-1</th>\n",
       "      <th>UK-CIC10690384+UK-CIC10690576_TTCTCAAAGATAGGAG-1</th>\n",
       "      <th>UK-CIC10690384+UK-CIC10690576_TTCTCCTCATGACGGA-1</th>\n",
       "      <th>UK-CIC10690384+UK-CIC10690576_TTCTCCTGTCTAGGTT-1</th>\n",
       "      <th>UK-CIC10690384+UK-CIC10690576_TTCTTAGTCAATAAGG-1</th>\n",
       "      <th>UK-CIC10690384+UK-CIC10690576_TTGACTTAGAAACGCC-1</th>\n",
       "      <th>UK-CIC10690384+UK-CIC10690576_TTGTAGGGTTACCGAT-1</th>\n",
       "      <th>UK-CIC10690384+UK-CIC10690576_TTTACTGTCTGCAAGT-1</th>\n",
       "    </tr>\n",
       "  </thead>\n",
       "  <tbody>\n",
       "    <tr>\n",
       "      <th>0</th>\n",
       "      <td>0.0</td>\n",
       "      <td>0.0</td>\n",
       "      <td>0.0</td>\n",
       "      <td>0.0</td>\n",
       "      <td>0.0</td>\n",
       "      <td>0.0</td>\n",
       "      <td>0.0</td>\n",
       "      <td>0.0</td>\n",
       "      <td>0.0</td>\n",
       "      <td>0.0</td>\n",
       "      <td>...</td>\n",
       "      <td>0.0</td>\n",
       "      <td>0.0</td>\n",
       "      <td>0.0</td>\n",
       "      <td>0.0</td>\n",
       "      <td>0.0</td>\n",
       "      <td>0.0</td>\n",
       "      <td>0.0</td>\n",
       "      <td>0.0</td>\n",
       "      <td>0.0</td>\n",
       "      <td>0.0</td>\n",
       "    </tr>\n",
       "    <tr>\n",
       "      <th>1</th>\n",
       "      <td>0.0</td>\n",
       "      <td>0.0</td>\n",
       "      <td>0.0</td>\n",
       "      <td>0.0</td>\n",
       "      <td>0.0</td>\n",
       "      <td>0.0</td>\n",
       "      <td>0.0</td>\n",
       "      <td>0.0</td>\n",
       "      <td>0.0</td>\n",
       "      <td>0.0</td>\n",
       "      <td>...</td>\n",
       "      <td>0.0</td>\n",
       "      <td>0.0</td>\n",
       "      <td>0.0</td>\n",
       "      <td>0.0</td>\n",
       "      <td>0.0</td>\n",
       "      <td>0.0</td>\n",
       "      <td>0.0</td>\n",
       "      <td>0.0</td>\n",
       "      <td>0.0</td>\n",
       "      <td>0.0</td>\n",
       "    </tr>\n",
       "    <tr>\n",
       "      <th>2</th>\n",
       "      <td>0.0</td>\n",
       "      <td>0.0</td>\n",
       "      <td>0.0</td>\n",
       "      <td>0.0</td>\n",
       "      <td>0.0</td>\n",
       "      <td>0.0</td>\n",
       "      <td>0.0</td>\n",
       "      <td>0.0</td>\n",
       "      <td>0.0</td>\n",
       "      <td>0.0</td>\n",
       "      <td>...</td>\n",
       "      <td>0.0</td>\n",
       "      <td>0.0</td>\n",
       "      <td>0.0</td>\n",
       "      <td>0.0</td>\n",
       "      <td>0.0</td>\n",
       "      <td>0.0</td>\n",
       "      <td>0.0</td>\n",
       "      <td>0.0</td>\n",
       "      <td>0.0</td>\n",
       "      <td>0.0</td>\n",
       "    </tr>\n",
       "    <tr>\n",
       "      <th>3</th>\n",
       "      <td>0.0</td>\n",
       "      <td>0.0</td>\n",
       "      <td>0.0</td>\n",
       "      <td>0.0</td>\n",
       "      <td>0.0</td>\n",
       "      <td>0.0</td>\n",
       "      <td>0.0</td>\n",
       "      <td>0.0</td>\n",
       "      <td>0.0</td>\n",
       "      <td>0.0</td>\n",
       "      <td>...</td>\n",
       "      <td>0.0</td>\n",
       "      <td>0.0</td>\n",
       "      <td>0.0</td>\n",
       "      <td>0.0</td>\n",
       "      <td>0.0</td>\n",
       "      <td>0.0</td>\n",
       "      <td>0.0</td>\n",
       "      <td>0.0</td>\n",
       "      <td>0.0</td>\n",
       "      <td>0.0</td>\n",
       "    </tr>\n",
       "    <tr>\n",
       "      <th>4</th>\n",
       "      <td>0.0</td>\n",
       "      <td>0.0</td>\n",
       "      <td>0.0</td>\n",
       "      <td>0.0</td>\n",
       "      <td>0.0</td>\n",
       "      <td>0.0</td>\n",
       "      <td>0.0</td>\n",
       "      <td>0.0</td>\n",
       "      <td>0.0</td>\n",
       "      <td>0.0</td>\n",
       "      <td>...</td>\n",
       "      <td>0.0</td>\n",
       "      <td>0.0</td>\n",
       "      <td>0.0</td>\n",
       "      <td>0.0</td>\n",
       "      <td>0.0</td>\n",
       "      <td>0.0</td>\n",
       "      <td>0.0</td>\n",
       "      <td>0.0</td>\n",
       "      <td>0.0</td>\n",
       "      <td>0.0</td>\n",
       "    </tr>\n",
       "  </tbody>\n",
       "</table>\n",
       "<p>5 rows × 20000 columns</p>\n",
       "</div>"
      ],
      "text/plain": [
       "   UK-CIC10689738+UK-CIC10690026_AAACCTGAGGCAATTA-1  \\\n",
       "0                                               0.0   \n",
       "1                                               0.0   \n",
       "2                                               0.0   \n",
       "3                                               0.0   \n",
       "4                                               0.0   \n",
       "\n",
       "   UK-CIC10689738+UK-CIC10690026_AAACCTGCATCCCACT-1  \\\n",
       "0                                               0.0   \n",
       "1                                               0.0   \n",
       "2                                               0.0   \n",
       "3                                               0.0   \n",
       "4                                               0.0   \n",
       "\n",
       "   UK-CIC10689738+UK-CIC10690026_AAACGGGCAAGTACCT-1  \\\n",
       "0                                               0.0   \n",
       "1                                               0.0   \n",
       "2                                               0.0   \n",
       "3                                               0.0   \n",
       "4                                               0.0   \n",
       "\n",
       "   UK-CIC10689738+UK-CIC10690026_AAACGGGCATTGCGGC-1  \\\n",
       "0                                               0.0   \n",
       "1                                               0.0   \n",
       "2                                               0.0   \n",
       "3                                               0.0   \n",
       "4                                               0.0   \n",
       "\n",
       "   UK-CIC10689738+UK-CIC10690026_AAAGATGGTAGCGCAA-1  \\\n",
       "0                                               0.0   \n",
       "1                                               0.0   \n",
       "2                                               0.0   \n",
       "3                                               0.0   \n",
       "4                                               0.0   \n",
       "\n",
       "   UK-CIC10689738+UK-CIC10690026_AAAGCAAGTACTTCTT-1  \\\n",
       "0                                               0.0   \n",
       "1                                               0.0   \n",
       "2                                               0.0   \n",
       "3                                               0.0   \n",
       "4                                               0.0   \n",
       "\n",
       "   UK-CIC10689738+UK-CIC10690026_AAAGTAGTCAGTTCGA-1  \\\n",
       "0                                               0.0   \n",
       "1                                               0.0   \n",
       "2                                               0.0   \n",
       "3                                               0.0   \n",
       "4                                               0.0   \n",
       "\n",
       "   UK-CIC10689738+UK-CIC10690026_AACACGTTCGTAGGTT-1  \\\n",
       "0                                               0.0   \n",
       "1                                               0.0   \n",
       "2                                               0.0   \n",
       "3                                               0.0   \n",
       "4                                               0.0   \n",
       "\n",
       "   UK-CIC10689738+UK-CIC10690026_AACCATGAGTCACGCC-1  \\\n",
       "0                                               0.0   \n",
       "1                                               0.0   \n",
       "2                                               0.0   \n",
       "3                                               0.0   \n",
       "4                                               0.0   \n",
       "\n",
       "   UK-CIC10689738+UK-CIC10690026_AACCGCGGTTCAACCA-1  ...  \\\n",
       "0                                               0.0  ...   \n",
       "1                                               0.0  ...   \n",
       "2                                               0.0  ...   \n",
       "3                                               0.0  ...   \n",
       "4                                               0.0  ...   \n",
       "\n",
       "   UK-CIC10690384+UK-CIC10690576_TGTTCCGGTGTTCGAT-1  \\\n",
       "0                                               0.0   \n",
       "1                                               0.0   \n",
       "2                                               0.0   \n",
       "3                                               0.0   \n",
       "4                                               0.0   \n",
       "\n",
       "   UK-CIC10690384+UK-CIC10690576_TTAGTTCGTAAGTTCC-1  \\\n",
       "0                                               0.0   \n",
       "1                                               0.0   \n",
       "2                                               0.0   \n",
       "3                                               0.0   \n",
       "4                                               0.0   \n",
       "\n",
       "   UK-CIC10690384+UK-CIC10690576_TTAGTTCGTTCACCTC-1  \\\n",
       "0                                               0.0   \n",
       "1                                               0.0   \n",
       "2                                               0.0   \n",
       "3                                               0.0   \n",
       "4                                               0.0   \n",
       "\n",
       "   UK-CIC10690384+UK-CIC10690576_TTCTCAAAGATAGGAG-1  \\\n",
       "0                                               0.0   \n",
       "1                                               0.0   \n",
       "2                                               0.0   \n",
       "3                                               0.0   \n",
       "4                                               0.0   \n",
       "\n",
       "   UK-CIC10690384+UK-CIC10690576_TTCTCCTCATGACGGA-1  \\\n",
       "0                                               0.0   \n",
       "1                                               0.0   \n",
       "2                                               0.0   \n",
       "3                                               0.0   \n",
       "4                                               0.0   \n",
       "\n",
       "   UK-CIC10690384+UK-CIC10690576_TTCTCCTGTCTAGGTT-1  \\\n",
       "0                                               0.0   \n",
       "1                                               0.0   \n",
       "2                                               0.0   \n",
       "3                                               0.0   \n",
       "4                                               0.0   \n",
       "\n",
       "   UK-CIC10690384+UK-CIC10690576_TTCTTAGTCAATAAGG-1  \\\n",
       "0                                               0.0   \n",
       "1                                               0.0   \n",
       "2                                               0.0   \n",
       "3                                               0.0   \n",
       "4                                               0.0   \n",
       "\n",
       "   UK-CIC10690384+UK-CIC10690576_TTGACTTAGAAACGCC-1  \\\n",
       "0                                               0.0   \n",
       "1                                               0.0   \n",
       "2                                               0.0   \n",
       "3                                               0.0   \n",
       "4                                               0.0   \n",
       "\n",
       "   UK-CIC10690384+UK-CIC10690576_TTGTAGGGTTACCGAT-1  \\\n",
       "0                                               0.0   \n",
       "1                                               0.0   \n",
       "2                                               0.0   \n",
       "3                                               0.0   \n",
       "4                                               0.0   \n",
       "\n",
       "   UK-CIC10690384+UK-CIC10690576_TTTACTGTCTGCAAGT-1  \n",
       "0                                               0.0  \n",
       "1                                               0.0  \n",
       "2                                               0.0  \n",
       "3                                               0.0  \n",
       "4                                               0.0  \n",
       "\n",
       "[5 rows x 20000 columns]"
      ]
     },
     "execution_count": 46,
     "metadata": {},
     "output_type": "execute_result"
    }
   ],
   "source": [
    "df_expr_matrix.head()"
   ]
  },
  {
   "cell_type": "code",
   "execution_count": 47,
   "id": "noble-reaction",
   "metadata": {},
   "outputs": [
    {
     "data": {
      "text/html": [
       "<div>\n",
       "<style scoped>\n",
       "    .dataframe tbody tr th:only-of-type {\n",
       "        vertical-align: middle;\n",
       "    }\n",
       "\n",
       "    .dataframe tbody tr th {\n",
       "        vertical-align: top;\n",
       "    }\n",
       "\n",
       "    .dataframe thead th {\n",
       "        text-align: right;\n",
       "    }\n",
       "</style>\n",
       "<table border=\"1\" class=\"dataframe\">\n",
       "  <thead>\n",
       "    <tr style=\"text-align: right;\">\n",
       "      <th></th>\n",
       "      <th>highly_variable</th>\n",
       "    </tr>\n",
       "  </thead>\n",
       "  <tbody>\n",
       "    <tr>\n",
       "      <th>MIR1302-2HG</th>\n",
       "      <td>NaN</td>\n",
       "    </tr>\n",
       "    <tr>\n",
       "      <th>FAM138A</th>\n",
       "      <td>NaN</td>\n",
       "    </tr>\n",
       "    <tr>\n",
       "      <th>OR4F5</th>\n",
       "      <td>NaN</td>\n",
       "    </tr>\n",
       "    <tr>\n",
       "      <th>AL627309.1</th>\n",
       "      <td>NaN</td>\n",
       "    </tr>\n",
       "    <tr>\n",
       "      <th>AL627309.3</th>\n",
       "      <td>NaN</td>\n",
       "    </tr>\n",
       "    <tr>\n",
       "      <th>...</th>\n",
       "      <td>...</td>\n",
       "    </tr>\n",
       "    <tr>\n",
       "      <th>AC233755.2</th>\n",
       "      <td>NaN</td>\n",
       "    </tr>\n",
       "    <tr>\n",
       "      <th>AC233755.1</th>\n",
       "      <td>NaN</td>\n",
       "    </tr>\n",
       "    <tr>\n",
       "      <th>AC240274.1</th>\n",
       "      <td>NaN</td>\n",
       "    </tr>\n",
       "    <tr>\n",
       "      <th>AC213203.1</th>\n",
       "      <td>NaN</td>\n",
       "    </tr>\n",
       "    <tr>\n",
       "      <th>FAM231C</th>\n",
       "      <td>NaN</td>\n",
       "    </tr>\n",
       "  </tbody>\n",
       "</table>\n",
       "<p>33141 rows × 1 columns</p>\n",
       "</div>"
      ],
      "text/plain": [
       "            highly_variable\n",
       "MIR1302-2HG             NaN\n",
       "FAM138A                 NaN\n",
       "OR4F5                   NaN\n",
       "AL627309.1              NaN\n",
       "AL627309.3              NaN\n",
       "...                     ...\n",
       "AC233755.2              NaN\n",
       "AC233755.1              NaN\n",
       "AC240274.1              NaN\n",
       "AC213203.1              NaN\n",
       "FAM231C                 NaN\n",
       "\n",
       "[33141 rows x 1 columns]"
      ]
     },
     "execution_count": 47,
     "metadata": {},
     "output_type": "execute_result"
    }
   ],
   "source": [
    "sub_set1.var"
   ]
  },
  {
   "cell_type": "code",
   "execution_count": 48,
   "id": "amber-protein",
   "metadata": {},
   "outputs": [],
   "source": [
    "#sub_set1.var.set_index('gene_ids',inplace=True)\n"
   ]
  },
  {
   "cell_type": "code",
   "execution_count": 49,
   "id": "absolute-checkout",
   "metadata": {},
   "outputs": [],
   "source": [
    "df_expr_matrix.set_index(sub_set1.var.index, inplace=True) "
   ]
  },
  {
   "cell_type": "code",
   "execution_count": 50,
   "id": "interesting-distinction",
   "metadata": {},
   "outputs": [
    {
     "data": {
      "text/html": [
       "<div>\n",
       "<style scoped>\n",
       "    .dataframe tbody tr th:only-of-type {\n",
       "        vertical-align: middle;\n",
       "    }\n",
       "\n",
       "    .dataframe tbody tr th {\n",
       "        vertical-align: top;\n",
       "    }\n",
       "\n",
       "    .dataframe thead th {\n",
       "        text-align: right;\n",
       "    }\n",
       "</style>\n",
       "<table border=\"1\" class=\"dataframe\">\n",
       "  <thead>\n",
       "    <tr style=\"text-align: right;\">\n",
       "      <th></th>\n",
       "      <th>UK-CIC10689738+UK-CIC10690026_AAACCTGAGGCAATTA-1</th>\n",
       "      <th>UK-CIC10689738+UK-CIC10690026_AAACCTGCATCCCACT-1</th>\n",
       "      <th>UK-CIC10689738+UK-CIC10690026_AAACGGGCAAGTACCT-1</th>\n",
       "      <th>UK-CIC10689738+UK-CIC10690026_AAACGGGCATTGCGGC-1</th>\n",
       "      <th>UK-CIC10689738+UK-CIC10690026_AAAGATGGTAGCGCAA-1</th>\n",
       "      <th>UK-CIC10689738+UK-CIC10690026_AAAGCAAGTACTTCTT-1</th>\n",
       "      <th>UK-CIC10689738+UK-CIC10690026_AAAGTAGTCAGTTCGA-1</th>\n",
       "      <th>UK-CIC10689738+UK-CIC10690026_AACACGTTCGTAGGTT-1</th>\n",
       "      <th>UK-CIC10689738+UK-CIC10690026_AACCATGAGTCACGCC-1</th>\n",
       "      <th>UK-CIC10689738+UK-CIC10690026_AACCGCGGTTCAACCA-1</th>\n",
       "      <th>...</th>\n",
       "      <th>UK-CIC10690384+UK-CIC10690576_TGTTCCGGTGTTCGAT-1</th>\n",
       "      <th>UK-CIC10690384+UK-CIC10690576_TTAGTTCGTAAGTTCC-1</th>\n",
       "      <th>UK-CIC10690384+UK-CIC10690576_TTAGTTCGTTCACCTC-1</th>\n",
       "      <th>UK-CIC10690384+UK-CIC10690576_TTCTCAAAGATAGGAG-1</th>\n",
       "      <th>UK-CIC10690384+UK-CIC10690576_TTCTCCTCATGACGGA-1</th>\n",
       "      <th>UK-CIC10690384+UK-CIC10690576_TTCTCCTGTCTAGGTT-1</th>\n",
       "      <th>UK-CIC10690384+UK-CIC10690576_TTCTTAGTCAATAAGG-1</th>\n",
       "      <th>UK-CIC10690384+UK-CIC10690576_TTGACTTAGAAACGCC-1</th>\n",
       "      <th>UK-CIC10690384+UK-CIC10690576_TTGTAGGGTTACCGAT-1</th>\n",
       "      <th>UK-CIC10690384+UK-CIC10690576_TTTACTGTCTGCAAGT-1</th>\n",
       "    </tr>\n",
       "  </thead>\n",
       "  <tbody>\n",
       "    <tr>\n",
       "      <th>MIR1302-2HG</th>\n",
       "      <td>0.0</td>\n",
       "      <td>0.0</td>\n",
       "      <td>0.0</td>\n",
       "      <td>0.0</td>\n",
       "      <td>0.0</td>\n",
       "      <td>0.0</td>\n",
       "      <td>0.0</td>\n",
       "      <td>0.0</td>\n",
       "      <td>0.0</td>\n",
       "      <td>0.0</td>\n",
       "      <td>...</td>\n",
       "      <td>0.0</td>\n",
       "      <td>0.0</td>\n",
       "      <td>0.0</td>\n",
       "      <td>0.0</td>\n",
       "      <td>0.0</td>\n",
       "      <td>0.0</td>\n",
       "      <td>0.0</td>\n",
       "      <td>0.0</td>\n",
       "      <td>0.0</td>\n",
       "      <td>0.0</td>\n",
       "    </tr>\n",
       "    <tr>\n",
       "      <th>FAM138A</th>\n",
       "      <td>0.0</td>\n",
       "      <td>0.0</td>\n",
       "      <td>0.0</td>\n",
       "      <td>0.0</td>\n",
       "      <td>0.0</td>\n",
       "      <td>0.0</td>\n",
       "      <td>0.0</td>\n",
       "      <td>0.0</td>\n",
       "      <td>0.0</td>\n",
       "      <td>0.0</td>\n",
       "      <td>...</td>\n",
       "      <td>0.0</td>\n",
       "      <td>0.0</td>\n",
       "      <td>0.0</td>\n",
       "      <td>0.0</td>\n",
       "      <td>0.0</td>\n",
       "      <td>0.0</td>\n",
       "      <td>0.0</td>\n",
       "      <td>0.0</td>\n",
       "      <td>0.0</td>\n",
       "      <td>0.0</td>\n",
       "    </tr>\n",
       "    <tr>\n",
       "      <th>OR4F5</th>\n",
       "      <td>0.0</td>\n",
       "      <td>0.0</td>\n",
       "      <td>0.0</td>\n",
       "      <td>0.0</td>\n",
       "      <td>0.0</td>\n",
       "      <td>0.0</td>\n",
       "      <td>0.0</td>\n",
       "      <td>0.0</td>\n",
       "      <td>0.0</td>\n",
       "      <td>0.0</td>\n",
       "      <td>...</td>\n",
       "      <td>0.0</td>\n",
       "      <td>0.0</td>\n",
       "      <td>0.0</td>\n",
       "      <td>0.0</td>\n",
       "      <td>0.0</td>\n",
       "      <td>0.0</td>\n",
       "      <td>0.0</td>\n",
       "      <td>0.0</td>\n",
       "      <td>0.0</td>\n",
       "      <td>0.0</td>\n",
       "    </tr>\n",
       "    <tr>\n",
       "      <th>AL627309.1</th>\n",
       "      <td>0.0</td>\n",
       "      <td>0.0</td>\n",
       "      <td>0.0</td>\n",
       "      <td>0.0</td>\n",
       "      <td>0.0</td>\n",
       "      <td>0.0</td>\n",
       "      <td>0.0</td>\n",
       "      <td>0.0</td>\n",
       "      <td>0.0</td>\n",
       "      <td>0.0</td>\n",
       "      <td>...</td>\n",
       "      <td>0.0</td>\n",
       "      <td>0.0</td>\n",
       "      <td>0.0</td>\n",
       "      <td>0.0</td>\n",
       "      <td>0.0</td>\n",
       "      <td>0.0</td>\n",
       "      <td>0.0</td>\n",
       "      <td>0.0</td>\n",
       "      <td>0.0</td>\n",
       "      <td>0.0</td>\n",
       "    </tr>\n",
       "    <tr>\n",
       "      <th>AL627309.3</th>\n",
       "      <td>0.0</td>\n",
       "      <td>0.0</td>\n",
       "      <td>0.0</td>\n",
       "      <td>0.0</td>\n",
       "      <td>0.0</td>\n",
       "      <td>0.0</td>\n",
       "      <td>0.0</td>\n",
       "      <td>0.0</td>\n",
       "      <td>0.0</td>\n",
       "      <td>0.0</td>\n",
       "      <td>...</td>\n",
       "      <td>0.0</td>\n",
       "      <td>0.0</td>\n",
       "      <td>0.0</td>\n",
       "      <td>0.0</td>\n",
       "      <td>0.0</td>\n",
       "      <td>0.0</td>\n",
       "      <td>0.0</td>\n",
       "      <td>0.0</td>\n",
       "      <td>0.0</td>\n",
       "      <td>0.0</td>\n",
       "    </tr>\n",
       "  </tbody>\n",
       "</table>\n",
       "<p>5 rows × 20000 columns</p>\n",
       "</div>"
      ],
      "text/plain": [
       "             UK-CIC10689738+UK-CIC10690026_AAACCTGAGGCAATTA-1  \\\n",
       "MIR1302-2HG                                               0.0   \n",
       "FAM138A                                                   0.0   \n",
       "OR4F5                                                     0.0   \n",
       "AL627309.1                                                0.0   \n",
       "AL627309.3                                                0.0   \n",
       "\n",
       "             UK-CIC10689738+UK-CIC10690026_AAACCTGCATCCCACT-1  \\\n",
       "MIR1302-2HG                                               0.0   \n",
       "FAM138A                                                   0.0   \n",
       "OR4F5                                                     0.0   \n",
       "AL627309.1                                                0.0   \n",
       "AL627309.3                                                0.0   \n",
       "\n",
       "             UK-CIC10689738+UK-CIC10690026_AAACGGGCAAGTACCT-1  \\\n",
       "MIR1302-2HG                                               0.0   \n",
       "FAM138A                                                   0.0   \n",
       "OR4F5                                                     0.0   \n",
       "AL627309.1                                                0.0   \n",
       "AL627309.3                                                0.0   \n",
       "\n",
       "             UK-CIC10689738+UK-CIC10690026_AAACGGGCATTGCGGC-1  \\\n",
       "MIR1302-2HG                                               0.0   \n",
       "FAM138A                                                   0.0   \n",
       "OR4F5                                                     0.0   \n",
       "AL627309.1                                                0.0   \n",
       "AL627309.3                                                0.0   \n",
       "\n",
       "             UK-CIC10689738+UK-CIC10690026_AAAGATGGTAGCGCAA-1  \\\n",
       "MIR1302-2HG                                               0.0   \n",
       "FAM138A                                                   0.0   \n",
       "OR4F5                                                     0.0   \n",
       "AL627309.1                                                0.0   \n",
       "AL627309.3                                                0.0   \n",
       "\n",
       "             UK-CIC10689738+UK-CIC10690026_AAAGCAAGTACTTCTT-1  \\\n",
       "MIR1302-2HG                                               0.0   \n",
       "FAM138A                                                   0.0   \n",
       "OR4F5                                                     0.0   \n",
       "AL627309.1                                                0.0   \n",
       "AL627309.3                                                0.0   \n",
       "\n",
       "             UK-CIC10689738+UK-CIC10690026_AAAGTAGTCAGTTCGA-1  \\\n",
       "MIR1302-2HG                                               0.0   \n",
       "FAM138A                                                   0.0   \n",
       "OR4F5                                                     0.0   \n",
       "AL627309.1                                                0.0   \n",
       "AL627309.3                                                0.0   \n",
       "\n",
       "             UK-CIC10689738+UK-CIC10690026_AACACGTTCGTAGGTT-1  \\\n",
       "MIR1302-2HG                                               0.0   \n",
       "FAM138A                                                   0.0   \n",
       "OR4F5                                                     0.0   \n",
       "AL627309.1                                                0.0   \n",
       "AL627309.3                                                0.0   \n",
       "\n",
       "             UK-CIC10689738+UK-CIC10690026_AACCATGAGTCACGCC-1  \\\n",
       "MIR1302-2HG                                               0.0   \n",
       "FAM138A                                                   0.0   \n",
       "OR4F5                                                     0.0   \n",
       "AL627309.1                                                0.0   \n",
       "AL627309.3                                                0.0   \n",
       "\n",
       "             UK-CIC10689738+UK-CIC10690026_AACCGCGGTTCAACCA-1  ...  \\\n",
       "MIR1302-2HG                                               0.0  ...   \n",
       "FAM138A                                                   0.0  ...   \n",
       "OR4F5                                                     0.0  ...   \n",
       "AL627309.1                                                0.0  ...   \n",
       "AL627309.3                                                0.0  ...   \n",
       "\n",
       "             UK-CIC10690384+UK-CIC10690576_TGTTCCGGTGTTCGAT-1  \\\n",
       "MIR1302-2HG                                               0.0   \n",
       "FAM138A                                                   0.0   \n",
       "OR4F5                                                     0.0   \n",
       "AL627309.1                                                0.0   \n",
       "AL627309.3                                                0.0   \n",
       "\n",
       "             UK-CIC10690384+UK-CIC10690576_TTAGTTCGTAAGTTCC-1  \\\n",
       "MIR1302-2HG                                               0.0   \n",
       "FAM138A                                                   0.0   \n",
       "OR4F5                                                     0.0   \n",
       "AL627309.1                                                0.0   \n",
       "AL627309.3                                                0.0   \n",
       "\n",
       "             UK-CIC10690384+UK-CIC10690576_TTAGTTCGTTCACCTC-1  \\\n",
       "MIR1302-2HG                                               0.0   \n",
       "FAM138A                                                   0.0   \n",
       "OR4F5                                                     0.0   \n",
       "AL627309.1                                                0.0   \n",
       "AL627309.3                                                0.0   \n",
       "\n",
       "             UK-CIC10690384+UK-CIC10690576_TTCTCAAAGATAGGAG-1  \\\n",
       "MIR1302-2HG                                               0.0   \n",
       "FAM138A                                                   0.0   \n",
       "OR4F5                                                     0.0   \n",
       "AL627309.1                                                0.0   \n",
       "AL627309.3                                                0.0   \n",
       "\n",
       "             UK-CIC10690384+UK-CIC10690576_TTCTCCTCATGACGGA-1  \\\n",
       "MIR1302-2HG                                               0.0   \n",
       "FAM138A                                                   0.0   \n",
       "OR4F5                                                     0.0   \n",
       "AL627309.1                                                0.0   \n",
       "AL627309.3                                                0.0   \n",
       "\n",
       "             UK-CIC10690384+UK-CIC10690576_TTCTCCTGTCTAGGTT-1  \\\n",
       "MIR1302-2HG                                               0.0   \n",
       "FAM138A                                                   0.0   \n",
       "OR4F5                                                     0.0   \n",
       "AL627309.1                                                0.0   \n",
       "AL627309.3                                                0.0   \n",
       "\n",
       "             UK-CIC10690384+UK-CIC10690576_TTCTTAGTCAATAAGG-1  \\\n",
       "MIR1302-2HG                                               0.0   \n",
       "FAM138A                                                   0.0   \n",
       "OR4F5                                                     0.0   \n",
       "AL627309.1                                                0.0   \n",
       "AL627309.3                                                0.0   \n",
       "\n",
       "             UK-CIC10690384+UK-CIC10690576_TTGACTTAGAAACGCC-1  \\\n",
       "MIR1302-2HG                                               0.0   \n",
       "FAM138A                                                   0.0   \n",
       "OR4F5                                                     0.0   \n",
       "AL627309.1                                                0.0   \n",
       "AL627309.3                                                0.0   \n",
       "\n",
       "             UK-CIC10690384+UK-CIC10690576_TTGTAGGGTTACCGAT-1  \\\n",
       "MIR1302-2HG                                               0.0   \n",
       "FAM138A                                                   0.0   \n",
       "OR4F5                                                     0.0   \n",
       "AL627309.1                                                0.0   \n",
       "AL627309.3                                                0.0   \n",
       "\n",
       "             UK-CIC10690384+UK-CIC10690576_TTTACTGTCTGCAAGT-1  \n",
       "MIR1302-2HG                                               0.0  \n",
       "FAM138A                                                   0.0  \n",
       "OR4F5                                                     0.0  \n",
       "AL627309.1                                                0.0  \n",
       "AL627309.3                                                0.0  \n",
       "\n",
       "[5 rows x 20000 columns]"
      ]
     },
     "execution_count": 50,
     "metadata": {},
     "output_type": "execute_result"
    }
   ],
   "source": [
    "df_expr_matrix.head()"
   ]
  },
  {
   "cell_type": "code",
   "execution_count": 51,
   "id": "surgical-black",
   "metadata": {},
   "outputs": [
    {
     "data": {
      "text/plain": [
       "(33141, 20000)"
      ]
     },
     "execution_count": 51,
     "metadata": {},
     "output_type": "execute_result"
    }
   ],
   "source": [
    "df_expr_matrix.shape"
   ]
  },
  {
   "cell_type": "code",
   "execution_count": 52,
   "id": "central-cylinder",
   "metadata": {},
   "outputs": [],
   "source": [
    "#df_expr_matrix=df_expr_matrix.loc[~(df_expr_matrix==0).all(axis=1)]"
   ]
  },
  {
   "cell_type": "code",
   "execution_count": 53,
   "id": "searching-enlargement",
   "metadata": {},
   "outputs": [
    {
     "data": {
      "text/plain": [
       "(33141, 20000)"
      ]
     },
     "execution_count": 53,
     "metadata": {},
     "output_type": "execute_result"
    }
   ],
   "source": [
    "df_expr_matrix.shape"
   ]
  },
  {
   "cell_type": "code",
   "execution_count": 56,
   "id": "union-accommodation",
   "metadata": {},
   "outputs": [
    {
     "data": {
      "text/plain": [
       "['NEGATIVE', 'POSITIVE', 'nan', 'RECOVERY']\n",
       "Categories (4, object): ['NEGATIVE', 'POSITIVE', 'RECOVERY', 'nan']"
      ]
     },
     "execution_count": 56,
     "metadata": {},
     "output_type": "execute_result"
    }
   ],
   "source": [
    "sub_set.obs['case_control'].unique()"
   ]
  },
  {
   "cell_type": "code",
   "execution_count": 57,
   "id": "sharing-lawrence",
   "metadata": {},
   "outputs": [],
   "source": [
    "df_expr_matrix.to_csv('/home/jovyan/mounting_point/cellphoneDB_output/allmono_platelet_bothwave_allcase_count.txt',sep='\\t')"
   ]
  },
  {
   "cell_type": "code",
   "execution_count": 58,
   "id": "empty-hunger",
   "metadata": {},
   "outputs": [
    {
     "data": {
      "text/html": [
       "<div>\n",
       "<style scoped>\n",
       "    .dataframe tbody tr th:only-of-type {\n",
       "        vertical-align: middle;\n",
       "    }\n",
       "\n",
       "    .dataframe tbody tr th {\n",
       "        vertical-align: top;\n",
       "    }\n",
       "\n",
       "    .dataframe thead th {\n",
       "        text-align: right;\n",
       "    }\n",
       "</style>\n",
       "<table border=\"1\" class=\"dataframe\">\n",
       "  <thead>\n",
       "    <tr style=\"text-align: right;\">\n",
       "      <th></th>\n",
       "      <th>annot4</th>\n",
       "      <th>centre</th>\n",
       "      <th>case_control</th>\n",
       "      <th>WHO_severity</th>\n",
       "      <th>patient_id</th>\n",
       "      <th>sample_id</th>\n",
       "    </tr>\n",
       "  </thead>\n",
       "  <tbody>\n",
       "    <tr>\n",
       "      <th>UK-CIC10689738+UK-CIC10690026_AAACCTGAGGCAATTA-1</th>\n",
       "      <td>CD14mono</td>\n",
       "      <td>NCL</td>\n",
       "      <td>NEGATIVE</td>\n",
       "      <td>nan</td>\n",
       "      <td>C103</td>\n",
       "      <td>C103_2204</td>\n",
       "    </tr>\n",
       "    <tr>\n",
       "      <th>UK-CIC10689738+UK-CIC10690026_AAACCTGCATCCCACT-1</th>\n",
       "      <td>CD16mono</td>\n",
       "      <td>NCL</td>\n",
       "      <td>NEGATIVE</td>\n",
       "      <td>nan</td>\n",
       "      <td>C103</td>\n",
       "      <td>C103_2204</td>\n",
       "    </tr>\n",
       "    <tr>\n",
       "      <th>UK-CIC10689738+UK-CIC10690026_AAACGGGCAAGTACCT-1</th>\n",
       "      <td>CD16mono</td>\n",
       "      <td>NCL</td>\n",
       "      <td>NEGATIVE</td>\n",
       "      <td>nan</td>\n",
       "      <td>C103</td>\n",
       "      <td>C103_2204</td>\n",
       "    </tr>\n",
       "    <tr>\n",
       "      <th>UK-CIC10689738+UK-CIC10690026_AAACGGGCATTGCGGC-1</th>\n",
       "      <td>CD14mono</td>\n",
       "      <td>NCL</td>\n",
       "      <td>NEGATIVE</td>\n",
       "      <td>nan</td>\n",
       "      <td>C103</td>\n",
       "      <td>C103_2204</td>\n",
       "    </tr>\n",
       "    <tr>\n",
       "      <th>UK-CIC10689738+UK-CIC10690026_AAAGATGGTAGCGCAA-1</th>\n",
       "      <td>Int.mono</td>\n",
       "      <td>NCL</td>\n",
       "      <td>NEGATIVE</td>\n",
       "      <td>nan</td>\n",
       "      <td>C103</td>\n",
       "      <td>C103_2204</td>\n",
       "    </tr>\n",
       "    <tr>\n",
       "      <th>...</th>\n",
       "      <td>...</td>\n",
       "      <td>...</td>\n",
       "      <td>...</td>\n",
       "      <td>...</td>\n",
       "      <td>...</td>\n",
       "      <td>...</td>\n",
       "    </tr>\n",
       "    <tr>\n",
       "      <th>UK-CIC10690384+UK-CIC10690576_TTCTCCTGTCTAGGTT-1</th>\n",
       "      <td>Int.mono</td>\n",
       "      <td>Cambridge</td>\n",
       "      <td>POSITIVE</td>\n",
       "      <td>mild</td>\n",
       "      <td>C170</td>\n",
       "      <td>C170_020221</td>\n",
       "    </tr>\n",
       "    <tr>\n",
       "      <th>UK-CIC10690384+UK-CIC10690576_TTCTTAGTCAATAAGG-1</th>\n",
       "      <td>CD16mono</td>\n",
       "      <td>Cambridge</td>\n",
       "      <td>nan</td>\n",
       "      <td>nan</td>\n",
       "      <td>unresolved</td>\n",
       "      <td>nan</td>\n",
       "    </tr>\n",
       "    <tr>\n",
       "      <th>UK-CIC10690384+UK-CIC10690576_TTGACTTAGAAACGCC-1</th>\n",
       "      <td>Int.mono</td>\n",
       "      <td>Cambridge</td>\n",
       "      <td>POSITIVE</td>\n",
       "      <td>mild</td>\n",
       "      <td>C190</td>\n",
       "      <td>C190_010221</td>\n",
       "    </tr>\n",
       "    <tr>\n",
       "      <th>UK-CIC10690384+UK-CIC10690576_TTGTAGGGTTACCGAT-1</th>\n",
       "      <td>CD14mono</td>\n",
       "      <td>Cambridge</td>\n",
       "      <td>POSITIVE</td>\n",
       "      <td>mild</td>\n",
       "      <td>C170</td>\n",
       "      <td>C170_020221</td>\n",
       "    </tr>\n",
       "    <tr>\n",
       "      <th>UK-CIC10690384+UK-CIC10690576_TTTACTGTCTGCAAGT-1</th>\n",
       "      <td>CD14mono</td>\n",
       "      <td>Cambridge</td>\n",
       "      <td>POSITIVE</td>\n",
       "      <td>mild</td>\n",
       "      <td>C190</td>\n",
       "      <td>C190_010221</td>\n",
       "    </tr>\n",
       "  </tbody>\n",
       "</table>\n",
       "<p>20000 rows × 6 columns</p>\n",
       "</div>"
      ],
      "text/plain": [
       "                                                    annot4     centre  \\\n",
       "UK-CIC10689738+UK-CIC10690026_AAACCTGAGGCAATTA-1  CD14mono        NCL   \n",
       "UK-CIC10689738+UK-CIC10690026_AAACCTGCATCCCACT-1  CD16mono        NCL   \n",
       "UK-CIC10689738+UK-CIC10690026_AAACGGGCAAGTACCT-1  CD16mono        NCL   \n",
       "UK-CIC10689738+UK-CIC10690026_AAACGGGCATTGCGGC-1  CD14mono        NCL   \n",
       "UK-CIC10689738+UK-CIC10690026_AAAGATGGTAGCGCAA-1  Int.mono        NCL   \n",
       "...                                                    ...        ...   \n",
       "UK-CIC10690384+UK-CIC10690576_TTCTCCTGTCTAGGTT-1  Int.mono  Cambridge   \n",
       "UK-CIC10690384+UK-CIC10690576_TTCTTAGTCAATAAGG-1  CD16mono  Cambridge   \n",
       "UK-CIC10690384+UK-CIC10690576_TTGACTTAGAAACGCC-1  Int.mono  Cambridge   \n",
       "UK-CIC10690384+UK-CIC10690576_TTGTAGGGTTACCGAT-1  CD14mono  Cambridge   \n",
       "UK-CIC10690384+UK-CIC10690576_TTTACTGTCTGCAAGT-1  CD14mono  Cambridge   \n",
       "\n",
       "                                                 case_control WHO_severity  \\\n",
       "UK-CIC10689738+UK-CIC10690026_AAACCTGAGGCAATTA-1     NEGATIVE          nan   \n",
       "UK-CIC10689738+UK-CIC10690026_AAACCTGCATCCCACT-1     NEGATIVE          nan   \n",
       "UK-CIC10689738+UK-CIC10690026_AAACGGGCAAGTACCT-1     NEGATIVE          nan   \n",
       "UK-CIC10689738+UK-CIC10690026_AAACGGGCATTGCGGC-1     NEGATIVE          nan   \n",
       "UK-CIC10689738+UK-CIC10690026_AAAGATGGTAGCGCAA-1     NEGATIVE          nan   \n",
       "...                                                       ...          ...   \n",
       "UK-CIC10690384+UK-CIC10690576_TTCTCCTGTCTAGGTT-1     POSITIVE         mild   \n",
       "UK-CIC10690384+UK-CIC10690576_TTCTTAGTCAATAAGG-1          nan          nan   \n",
       "UK-CIC10690384+UK-CIC10690576_TTGACTTAGAAACGCC-1     POSITIVE         mild   \n",
       "UK-CIC10690384+UK-CIC10690576_TTGTAGGGTTACCGAT-1     POSITIVE         mild   \n",
       "UK-CIC10690384+UK-CIC10690576_TTTACTGTCTGCAAGT-1     POSITIVE         mild   \n",
       "\n",
       "                                                  patient_id    sample_id  \n",
       "UK-CIC10689738+UK-CIC10690026_AAACCTGAGGCAATTA-1        C103    C103_2204  \n",
       "UK-CIC10689738+UK-CIC10690026_AAACCTGCATCCCACT-1        C103    C103_2204  \n",
       "UK-CIC10689738+UK-CIC10690026_AAACGGGCAAGTACCT-1        C103    C103_2204  \n",
       "UK-CIC10689738+UK-CIC10690026_AAACGGGCATTGCGGC-1        C103    C103_2204  \n",
       "UK-CIC10689738+UK-CIC10690026_AAAGATGGTAGCGCAA-1        C103    C103_2204  \n",
       "...                                                      ...          ...  \n",
       "UK-CIC10690384+UK-CIC10690576_TTCTCCTGTCTAGGTT-1        C170  C170_020221  \n",
       "UK-CIC10690384+UK-CIC10690576_TTCTTAGTCAATAAGG-1  unresolved          nan  \n",
       "UK-CIC10690384+UK-CIC10690576_TTGACTTAGAAACGCC-1        C190  C190_010221  \n",
       "UK-CIC10690384+UK-CIC10690576_TTGTAGGGTTACCGAT-1        C170  C170_020221  \n",
       "UK-CIC10690384+UK-CIC10690576_TTTACTGTCTGCAAGT-1        C190  C190_010221  \n",
       "\n",
       "[20000 rows x 6 columns]"
      ]
     },
     "execution_count": 58,
     "metadata": {},
     "output_type": "execute_result"
    }
   ],
   "source": [
    "sub_set1.obs"
   ]
  },
  {
   "cell_type": "code",
   "execution_count": 59,
   "id": "regular-ratio",
   "metadata": {},
   "outputs": [],
   "source": [
    "sub_set1.obs.reset_index(inplace=True)"
   ]
  },
  {
   "cell_type": "code",
   "execution_count": 60,
   "id": "collaborative-terrorism",
   "metadata": {},
   "outputs": [
    {
     "data": {
      "text/html": [
       "<div>\n",
       "<style scoped>\n",
       "    .dataframe tbody tr th:only-of-type {\n",
       "        vertical-align: middle;\n",
       "    }\n",
       "\n",
       "    .dataframe tbody tr th {\n",
       "        vertical-align: top;\n",
       "    }\n",
       "\n",
       "    .dataframe thead th {\n",
       "        text-align: right;\n",
       "    }\n",
       "</style>\n",
       "<table border=\"1\" class=\"dataframe\">\n",
       "  <thead>\n",
       "    <tr style=\"text-align: right;\">\n",
       "      <th></th>\n",
       "      <th>index</th>\n",
       "      <th>annot4</th>\n",
       "      <th>centre</th>\n",
       "      <th>case_control</th>\n",
       "      <th>WHO_severity</th>\n",
       "      <th>patient_id</th>\n",
       "      <th>sample_id</th>\n",
       "    </tr>\n",
       "  </thead>\n",
       "  <tbody>\n",
       "    <tr>\n",
       "      <th>0</th>\n",
       "      <td>UK-CIC10689738+UK-CIC10690026_AAACCTGAGGCAATTA-1</td>\n",
       "      <td>CD14mono</td>\n",
       "      <td>NCL</td>\n",
       "      <td>NEGATIVE</td>\n",
       "      <td>nan</td>\n",
       "      <td>C103</td>\n",
       "      <td>C103_2204</td>\n",
       "    </tr>\n",
       "    <tr>\n",
       "      <th>1</th>\n",
       "      <td>UK-CIC10689738+UK-CIC10690026_AAACCTGCATCCCACT-1</td>\n",
       "      <td>CD16mono</td>\n",
       "      <td>NCL</td>\n",
       "      <td>NEGATIVE</td>\n",
       "      <td>nan</td>\n",
       "      <td>C103</td>\n",
       "      <td>C103_2204</td>\n",
       "    </tr>\n",
       "    <tr>\n",
       "      <th>2</th>\n",
       "      <td>UK-CIC10689738+UK-CIC10690026_AAACGGGCAAGTACCT-1</td>\n",
       "      <td>CD16mono</td>\n",
       "      <td>NCL</td>\n",
       "      <td>NEGATIVE</td>\n",
       "      <td>nan</td>\n",
       "      <td>C103</td>\n",
       "      <td>C103_2204</td>\n",
       "    </tr>\n",
       "    <tr>\n",
       "      <th>3</th>\n",
       "      <td>UK-CIC10689738+UK-CIC10690026_AAACGGGCATTGCGGC-1</td>\n",
       "      <td>CD14mono</td>\n",
       "      <td>NCL</td>\n",
       "      <td>NEGATIVE</td>\n",
       "      <td>nan</td>\n",
       "      <td>C103</td>\n",
       "      <td>C103_2204</td>\n",
       "    </tr>\n",
       "    <tr>\n",
       "      <th>4</th>\n",
       "      <td>UK-CIC10689738+UK-CIC10690026_AAAGATGGTAGCGCAA-1</td>\n",
       "      <td>Int.mono</td>\n",
       "      <td>NCL</td>\n",
       "      <td>NEGATIVE</td>\n",
       "      <td>nan</td>\n",
       "      <td>C103</td>\n",
       "      <td>C103_2204</td>\n",
       "    </tr>\n",
       "  </tbody>\n",
       "</table>\n",
       "</div>"
      ],
      "text/plain": [
       "                                              index    annot4 centre  \\\n",
       "0  UK-CIC10689738+UK-CIC10690026_AAACCTGAGGCAATTA-1  CD14mono    NCL   \n",
       "1  UK-CIC10689738+UK-CIC10690026_AAACCTGCATCCCACT-1  CD16mono    NCL   \n",
       "2  UK-CIC10689738+UK-CIC10690026_AAACGGGCAAGTACCT-1  CD16mono    NCL   \n",
       "3  UK-CIC10689738+UK-CIC10690026_AAACGGGCATTGCGGC-1  CD14mono    NCL   \n",
       "4  UK-CIC10689738+UK-CIC10690026_AAAGATGGTAGCGCAA-1  Int.mono    NCL   \n",
       "\n",
       "  case_control WHO_severity patient_id  sample_id  \n",
       "0     NEGATIVE          nan       C103  C103_2204  \n",
       "1     NEGATIVE          nan       C103  C103_2204  \n",
       "2     NEGATIVE          nan       C103  C103_2204  \n",
       "3     NEGATIVE          nan       C103  C103_2204  \n",
       "4     NEGATIVE          nan       C103  C103_2204  "
      ]
     },
     "execution_count": 60,
     "metadata": {},
     "output_type": "execute_result"
    }
   ],
   "source": [
    "sub_set1.obs.head()"
   ]
  },
  {
   "cell_type": "code",
   "execution_count": 61,
   "id": "comic-switch",
   "metadata": {},
   "outputs": [],
   "source": [
    "df_meta = pd.DataFrame(data={'Cell': list(sub_set1.obs['index']), \n",
    "                             'cell_type': list(sub_set1.obs['annot4'])})"
   ]
  },
  {
   "cell_type": "code",
   "execution_count": 62,
   "id": "fitted-custody",
   "metadata": {},
   "outputs": [
    {
     "data": {
      "text/html": [
       "<div>\n",
       "<style scoped>\n",
       "    .dataframe tbody tr th:only-of-type {\n",
       "        vertical-align: middle;\n",
       "    }\n",
       "\n",
       "    .dataframe tbody tr th {\n",
       "        vertical-align: top;\n",
       "    }\n",
       "\n",
       "    .dataframe thead th {\n",
       "        text-align: right;\n",
       "    }\n",
       "</style>\n",
       "<table border=\"1\" class=\"dataframe\">\n",
       "  <thead>\n",
       "    <tr style=\"text-align: right;\">\n",
       "      <th></th>\n",
       "      <th>Cell</th>\n",
       "      <th>cell_type</th>\n",
       "    </tr>\n",
       "  </thead>\n",
       "  <tbody>\n",
       "    <tr>\n",
       "      <th>0</th>\n",
       "      <td>UK-CIC10689738+UK-CIC10690026_AAACCTGAGGCAATTA-1</td>\n",
       "      <td>CD14mono</td>\n",
       "    </tr>\n",
       "    <tr>\n",
       "      <th>1</th>\n",
       "      <td>UK-CIC10689738+UK-CIC10690026_AAACCTGCATCCCACT-1</td>\n",
       "      <td>CD16mono</td>\n",
       "    </tr>\n",
       "    <tr>\n",
       "      <th>2</th>\n",
       "      <td>UK-CIC10689738+UK-CIC10690026_AAACGGGCAAGTACCT-1</td>\n",
       "      <td>CD16mono</td>\n",
       "    </tr>\n",
       "    <tr>\n",
       "      <th>3</th>\n",
       "      <td>UK-CIC10689738+UK-CIC10690026_AAACGGGCATTGCGGC-1</td>\n",
       "      <td>CD14mono</td>\n",
       "    </tr>\n",
       "    <tr>\n",
       "      <th>4</th>\n",
       "      <td>UK-CIC10689738+UK-CIC10690026_AAAGATGGTAGCGCAA-1</td>\n",
       "      <td>Int.mono</td>\n",
       "    </tr>\n",
       "  </tbody>\n",
       "</table>\n",
       "</div>"
      ],
      "text/plain": [
       "                                               Cell cell_type\n",
       "0  UK-CIC10689738+UK-CIC10690026_AAACCTGAGGCAATTA-1  CD14mono\n",
       "1  UK-CIC10689738+UK-CIC10690026_AAACCTGCATCCCACT-1  CD16mono\n",
       "2  UK-CIC10689738+UK-CIC10690026_AAACGGGCAAGTACCT-1  CD16mono\n",
       "3  UK-CIC10689738+UK-CIC10690026_AAACGGGCATTGCGGC-1  CD14mono\n",
       "4  UK-CIC10689738+UK-CIC10690026_AAAGATGGTAGCGCAA-1  Int.mono"
      ]
     },
     "execution_count": 62,
     "metadata": {},
     "output_type": "execute_result"
    }
   ],
   "source": [
    "df_meta.head()"
   ]
  },
  {
   "cell_type": "code",
   "execution_count": 63,
   "id": "steady-arkansas",
   "metadata": {},
   "outputs": [],
   "source": [
    "df_meta.set_index('Cell',inplace=True)\n",
    "df_meta.to_csv('/home/jovyan/mounting_point/cellphoneDB_output/allmono_platelet_bothwave_allcase_meta.txt', sep='\\t')"
   ]
  },
  {
   "cell_type": "code",
   "execution_count": null,
   "id": "acute-tuesday",
   "metadata": {},
   "outputs": [],
   "source": [
    "# end"
   ]
  },
  {
   "cell_type": "code",
   "execution_count": null,
   "id": "swedish-warehouse",
   "metadata": {},
   "outputs": [],
   "source": []
  },
  {
   "cell_type": "code",
   "execution_count": null,
   "id": "initial-genealogy",
   "metadata": {},
   "outputs": [],
   "source": []
  }
 ],
 "metadata": {
  "kernelspec": {
   "display_name": "Py_env2",
   "language": "python",
   "name": "py_env2"
  },
  "language_info": {
   "codemirror_mode": {
    "name": "ipython",
    "version": 3
   },
   "file_extension": ".py",
   "mimetype": "text/x-python",
   "name": "python",
   "nbconvert_exporter": "python",
   "pygments_lexer": "ipython3",
   "version": "3.8.13"
  }
 },
 "nbformat": 4,
 "nbformat_minor": 5
}
