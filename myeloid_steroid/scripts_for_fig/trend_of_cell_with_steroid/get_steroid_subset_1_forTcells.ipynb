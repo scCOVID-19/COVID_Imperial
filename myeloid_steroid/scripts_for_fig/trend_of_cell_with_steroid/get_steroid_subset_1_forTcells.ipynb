{
 "cells": [
  {
   "cell_type": "code",
   "execution_count": 1,
   "id": "informative-round",
   "metadata": {},
   "outputs": [
    {
     "name": "stdout",
     "output_type": "stream",
     "text": [
      "scanpy==1.9.1 anndata==0.8.0 umap==0.5.3 numpy==1.23.4 scipy==1.9.3 pandas==1.5.1 scikit-learn==1.1.3 statsmodels==0.13.5 python-igraph==0.10.2 pynndescent==0.5.8\n"
     ]
    }
   ],
   "source": [
    "import matplotlib.pyplot as plt\n",
    "import matplotlib.image as mpimg\n",
    "import scanpy as sc\n",
    "import numpy as np\n",
    "import pandas as pd\n",
    "from matplotlib.pyplot import rc_context\n",
    "import pandas as pd\n",
    "import matplotlib.pyplot as plt\n",
    "pd.set_option('display.max_rows', 200)\n",
    "#sc.logging.print_versions() \n",
    "sc.logging.print_header()\n",
    "sc.settings.verbosity = 3  \n",
    "sc.settings.set_figure_params(dpi=120, color_map='viridis')"
   ]
  },
  {
   "cell_type": "code",
   "execution_count": 2,
   "id": "passive-allah",
   "metadata": {},
   "outputs": [],
   "source": [
    "adata_gex=sc.read('/home/jovyan/data/covid_19_renal/renal_covid_19_gex.h5ad')"
   ]
  },
  {
   "cell_type": "code",
   "execution_count": 3,
   "id": "selected-anger",
   "metadata": {},
   "outputs": [],
   "source": [
    "tcell= pd.read_csv('/nfs/team205/ld21/renal/T_NK_compartment_annotation_updated.csv', index_col=0)"
   ]
  },
  {
   "cell_type": "code",
   "execution_count": 4,
   "id": "actual-ownership",
   "metadata": {},
   "outputs": [],
   "source": [
    "adata = adata_gex[(adata_gex.obs.index.isin(tcell.index))]"
   ]
  },
  {
   "cell_type": "code",
   "execution_count": 5,
   "id": "social-differential",
   "metadata": {},
   "outputs": [
    {
     "name": "stderr",
     "output_type": "stream",
     "text": [
      "/tmp/ipykernel_5599/501034239.py:1: ImplicitModificationWarning: Trying to modify attribute `.obs` of view, initializing view as actual.\n",
      "  adata.obs['final_anno']='uk'\n"
     ]
    }
   ],
   "source": [
    "adata.obs['final_anno']='uk'\n",
    "adata.obs['final_anno']=adata.obs['final_anno'].astype('object')"
   ]
  },
  {
   "cell_type": "code",
   "execution_count": 6,
   "id": "physical-dependence",
   "metadata": {},
   "outputs": [],
   "source": [
    "adata.obs['final_anno'].update(pd.Series(tcell['level_2'].astype('object')))"
   ]
  },
  {
   "cell_type": "code",
   "execution_count": 7,
   "id": "first-preservation",
   "metadata": {},
   "outputs": [
    {
     "data": {
      "text/plain": [
       "array(['T reg', 'T CD4 Naive', 'T CD4 Helper', 'NK', 'doublets',\n",
       "       'T CD8 CTL', 'T CD4 CTL', 'NK CD56 bright', 'T CD8 Mem', 'NKT',\n",
       "       'T CD4 cycling', 'T CD8 Naive', 'MAIT', 'T g/d', 'T CD8 EMRA',\n",
       "       'ILC'], dtype=object)"
      ]
     },
     "execution_count": 7,
     "metadata": {},
     "output_type": "execute_result"
    }
   ],
   "source": [
    "adata.obs['final_anno'].unique()"
   ]
  },
  {
   "cell_type": "code",
   "execution_count": 8,
   "id": "indirect-signature",
   "metadata": {},
   "outputs": [],
   "source": [
    "adata=adata[~adata.obs['final_anno'].isin(['doublets'])]"
   ]
  },
  {
   "cell_type": "code",
   "execution_count": 9,
   "id": "married-python",
   "metadata": {},
   "outputs": [
    {
     "data": {
      "text/plain": [
       "['T reg',\n",
       " 'T CD4 Naive',\n",
       " 'T CD4 Helper',\n",
       " 'NK',\n",
       " 'T CD8 CTL',\n",
       " 'T CD4 CTL',\n",
       " 'NK CD56 bright',\n",
       " 'T CD8 Mem',\n",
       " 'NKT',\n",
       " 'T CD4 cycling',\n",
       " 'T CD8 Naive',\n",
       " 'MAIT',\n",
       " 'T g/d',\n",
       " 'T CD8 EMRA',\n",
       " 'ILC']"
      ]
     },
     "execution_count": 9,
     "metadata": {},
     "output_type": "execute_result"
    }
   ],
   "source": [
    "list(adata.obs['final_anno'].unique())"
   ]
  },
  {
   "cell_type": "code",
   "execution_count": 10,
   "id": "ideal-liabilities",
   "metadata": {},
   "outputs": [
    {
     "data": {
      "text/plain": [
       "True"
      ]
     },
     "execution_count": 10,
     "metadata": {},
     "output_type": "execute_result"
    }
   ],
   "source": [
    "'C139' in list(adata.obs['patient_id'].unique())"
   ]
  },
  {
   "cell_type": "code",
   "execution_count": 11,
   "id": "turned-trauma",
   "metadata": {},
   "outputs": [
    {
     "data": {
      "text/plain": [
       "True"
      ]
     },
     "execution_count": 11,
     "metadata": {},
     "output_type": "execute_result"
    }
   ],
   "source": [
    "'C116' in list(adata.obs['patient_id'].unique())"
   ]
  },
  {
   "cell_type": "code",
   "execution_count": 12,
   "id": "subtle-official",
   "metadata": {},
   "outputs": [
    {
     "data": {
      "text/plain": [
       "True"
      ]
     },
     "execution_count": 12,
     "metadata": {},
     "output_type": "execute_result"
    }
   ],
   "source": [
    "'C141' in list(adata.obs['patient_id'].unique())"
   ]
  },
  {
   "cell_type": "code",
   "execution_count": 13,
   "id": "impressive-latin",
   "metadata": {},
   "outputs": [],
   "source": [
    "#remove C141 from the samples\n",
    "adata = adata[~adata.obs['patient_id'].isin(['C141','C139','C116'])]"
   ]
  },
  {
   "cell_type": "code",
   "execution_count": 14,
   "id": "hundred-prescription",
   "metadata": {},
   "outputs": [
    {
     "data": {
      "text/plain": [
       "False"
      ]
     },
     "execution_count": 14,
     "metadata": {},
     "output_type": "execute_result"
    }
   ],
   "source": [
    "'C141' in list(adata.obs['patient_id'].unique())"
   ]
  },
  {
   "cell_type": "code",
   "execution_count": 15,
   "id": "recovered-onion",
   "metadata": {},
   "outputs": [
    {
     "data": {
      "text/plain": [
       "False"
      ]
     },
     "execution_count": 15,
     "metadata": {},
     "output_type": "execute_result"
    }
   ],
   "source": [
    "'C139' in list(adata.obs['patient_id'].unique())"
   ]
  },
  {
   "cell_type": "code",
   "execution_count": 16,
   "id": "decreased-store",
   "metadata": {},
   "outputs": [
    {
     "data": {
      "text/plain": [
       "False"
      ]
     },
     "execution_count": 16,
     "metadata": {},
     "output_type": "execute_result"
    }
   ],
   "source": [
    "'C116' in list(adata.obs['patient_id'].unique())"
   ]
  },
  {
   "cell_type": "code",
   "execution_count": 18,
   "id": "historical-operator",
   "metadata": {},
   "outputs": [],
   "source": [
    "# get all - not only monocyte\n",
    "monocyte = adata[:]"
   ]
  },
  {
   "cell_type": "code",
   "execution_count": 19,
   "id": "demanding-average",
   "metadata": {},
   "outputs": [
    {
     "data": {
      "text/plain": [
       "['T reg',\n",
       " 'T CD4 Naive',\n",
       " 'NK',\n",
       " 'T CD4 Helper',\n",
       " 'T CD8 CTL',\n",
       " 'T CD4 CTL',\n",
       " 'NK CD56 bright',\n",
       " 'T CD4 cycling',\n",
       " 'T CD8 Naive',\n",
       " 'MAIT',\n",
       " 'T g/d',\n",
       " 'NKT',\n",
       " 'T CD8 Mem',\n",
       " 'T CD8 EMRA',\n",
       " 'ILC']"
      ]
     },
     "execution_count": 19,
     "metadata": {},
     "output_type": "execute_result"
    }
   ],
   "source": [
    "list(monocyte.obs['final_anno'].unique())"
   ]
  },
  {
   "cell_type": "code",
   "execution_count": 20,
   "id": "duplicate-spokesman",
   "metadata": {},
   "outputs": [
    {
     "data": {
      "text/plain": [
       "['NEGATIVE', 'POSITIVE', 'NA', 'RECOVERY']"
      ]
     },
     "execution_count": 20,
     "metadata": {},
     "output_type": "execute_result"
    }
   ],
   "source": [
    "list(monocyte.obs['case_control'].unique())"
   ]
  },
  {
   "cell_type": "code",
   "execution_count": 21,
   "id": "heard-particle",
   "metadata": {},
   "outputs": [],
   "source": [
    "#remove 'nan' from case_control\n",
    "monocyte = monocyte[monocyte.obs['case_control']!='NA']"
   ]
  },
  {
   "cell_type": "code",
   "execution_count": 22,
   "id": "coastal-relay",
   "metadata": {},
   "outputs": [
    {
     "data": {
      "text/plain": [
       "['NEGATIVE', 'POSITIVE', 'RECOVERY']"
      ]
     },
     "execution_count": 22,
     "metadata": {},
     "output_type": "execute_result"
    }
   ],
   "source": [
    "list(monocyte.obs['case_control'].unique())"
   ]
  },
  {
   "cell_type": "code",
   "execution_count": 23,
   "id": "agricultural-stamp",
   "metadata": {},
   "outputs": [
    {
     "name": "stderr",
     "output_type": "stream",
     "text": [
      "/tmp/ipykernel_5599/279369363.py:3: ImplicitModificationWarning: Trying to modify attribute `.obs` of view, initializing view as actual.\n",
      "  monocyte.obs['wave_case_control']='nan'\n"
     ]
    }
   ],
   "source": [
    "#getting p,n,r in wave 1 and wave 2\n",
    "\n",
    "monocyte.obs['wave_case_control']='nan'\n",
    "monocyte.obs.loc[(monocyte.obs[\"centre\"]=='NCL') &(monocyte.obs[\"case_control\"]=='POSITIVE'), \"wave_case_control\"] = 'wave1_positive'\n",
    "monocyte.obs.loc[(monocyte.obs[\"centre\"]=='NCL') &(monocyte.obs[\"case_control\"]=='NEGATIVE'), \"wave_case_control\"] = 'wave1_negative'\n",
    "monocyte.obs.loc[(monocyte.obs[\"centre\"]=='NCL') &(monocyte.obs[\"case_control\"]=='RECOVERY'), \"wave_case_control\"] = 'wave1_recovery'\n",
    "\n",
    "monocyte.obs.loc[(monocyte.obs[\"centre\"]=='Cambridge') &(monocyte.obs[\"case_control\"]=='POSITIVE'), \"wave_case_control\"] = 'wave2_positive'\n",
    "monocyte.obs.loc[(monocyte.obs[\"centre\"]=='Cambridge') &(monocyte.obs[\"case_control\"]=='NEGATIVE'), \"wave_case_control\"] = 'wave2_negative'\n",
    "monocyte.obs.loc[(monocyte.obs[\"centre\"]=='Cambridge') &(monocyte.obs[\"case_control\"]=='RECOVERY'), \"wave_case_control\"] = 'wave2_recovery'"
   ]
  },
  {
   "cell_type": "code",
   "execution_count": 24,
   "id": "increased-wallpaper",
   "metadata": {},
   "outputs": [
    {
     "data": {
      "text/plain": [
       "['wave1_negative',\n",
       " 'wave1_positive',\n",
       " 'wave2_positive',\n",
       " 'wave2_negative',\n",
       " 'wave2_recovery']"
      ]
     },
     "execution_count": 24,
     "metadata": {},
     "output_type": "execute_result"
    }
   ],
   "source": [
    "list(monocyte.obs['wave_case_control'].unique()) #wave 1 doesn't have recovery samples"
   ]
  },
  {
   "cell_type": "code",
   "execution_count": null,
   "id": "bound-terrorist",
   "metadata": {},
   "outputs": [],
   "source": [
    "test = monocyte[monocyte.obs['wave_case_control']=='wave2_recovery']\n",
    "print (list(test.obs['case_control'].unique()))\n",
    "print (list(test.obs['centre'].unique()))\n",
    "print (list(test.obs['sample_date'].unique()))"
   ]
  },
  {
   "cell_type": "code",
   "execution_count": null,
   "id": "western-procedure",
   "metadata": {},
   "outputs": [],
   "source": [
    "df = pd.crosstab(monocyte.obs['wave_case_control'],monocyte.obs['final_anno'])\n",
    "df"
   ]
  },
  {
   "cell_type": "code",
   "execution_count": null,
   "id": "excessive-loading",
   "metadata": {},
   "outputs": [],
   "source": [
    "#df.columns = df.columns.add_categories(['wave_case_control'])\n",
    "df['wave_case_control'] = df.index # making index into column\n",
    "df"
   ]
  },
  {
   "cell_type": "code",
   "execution_count": null,
   "id": "published-judges",
   "metadata": {},
   "outputs": [],
   "source": [
    "p1=df.plot(x='wave_case_control', kind='bar', stacked=True,\n",
    "        title='distribution of monocytes in Wave 1 and Wave 2')\n",
    "p1.set_ylabel(\"num of cells\")\n",
    "p1.set_xlabel(\" \")\n",
    "plt.grid(False)\n",
    "plt.legend(loc='center left', bbox_to_anchor=(1, 0.5))\n",
    "for p in p1.patches:\n",
    "        width, height = p.get_width(), p.get_height()\n",
    "        x, y = p.get_xy() \n",
    "        p1.text(x+width/2, \n",
    "            y+height/2, \n",
    "            '{:.0f}'.format(height), \n",
    "            horizontalalignment='center', \n",
    "            verticalalignment='center',rotation=0,size=7)  "
   ]
  },
  {
   "cell_type": "code",
   "execution_count": null,
   "id": "liable-terry",
   "metadata": {},
   "outputs": [],
   "source": [
    "#getting percentage\n",
    "cols = list(df.columns)\n",
    "cols = cols[:-1]\n",
    "df[cols] = df[cols].div(df[cols].sum(axis=1), axis=0).multiply(100)"
   ]
  },
  {
   "cell_type": "code",
   "execution_count": null,
   "id": "domestic-wesley",
   "metadata": {},
   "outputs": [],
   "source": [
    "df"
   ]
  },
  {
   "cell_type": "code",
   "execution_count": null,
   "id": "unique-despite",
   "metadata": {},
   "outputs": [],
   "source": [
    "df.sum(axis=1)"
   ]
  },
  {
   "cell_type": "code",
   "execution_count": null,
   "id": "unsigned-smile",
   "metadata": {},
   "outputs": [],
   "source": [
    "monocyte.obs['wave_case_control'].value_counts()"
   ]
  },
  {
   "cell_type": "code",
   "execution_count": null,
   "id": "killing-rally",
   "metadata": {},
   "outputs": [],
   "source": [
    "p2 = df.plot(x='wave_case_control', kind='bar', stacked=True,\n",
    "        title='distribution of monocytes in Wave1 and Wave2',figsize=(5,5))\n",
    "p2.set_ylabel('percentage')\n",
    "p2.set_xlabel('')\n",
    "plt.grid(False)\n",
    "plt.legend(loc='center left', bbox_to_anchor=(1, 0.5))\n",
    "for p in p2.patches:\n",
    "        width, height = p.get_width(), p.get_height()\n",
    "        x, y = p.get_xy() \n",
    "        p2.text(x+width/2, \n",
    "            y+height/2, \n",
    "            '{:.1f}'.format(height), \n",
    "            horizontalalignment='center', \n",
    "            verticalalignment='center',rotation=0,size=7)  \n",
    "\n",
    "\n",
    "\n",
    "\n",
    "p2.text(-0.2,101,'23749',fontsize=9)\n",
    "p2.text(0.8,101,'22846',fontsize=9)\n",
    "p2.text(1.8,101,'5364',fontsize=9)\n",
    "p2.text(2.8,101,'34215',fontsize=9)\n",
    "p2.text(3.8,101,'6008',fontsize=9)"
   ]
  },
  {
   "cell_type": "markdown",
   "id": "continent-thompson",
   "metadata": {},
   "source": [
    "# Getting wave 2 only "
   ]
  },
  {
   "cell_type": "code",
   "execution_count": 25,
   "id": "furnished-stations",
   "metadata": {},
   "outputs": [],
   "source": [
    "monocyte_wave1 = monocyte[monocyte.obs['centre']=='NCL']\n",
    "monocyte_wave2 = monocyte[monocyte.obs['centre']=='Cambridge']"
   ]
  },
  {
   "cell_type": "code",
   "execution_count": 26,
   "id": "important-advocate",
   "metadata": {},
   "outputs": [
    {
     "data": {
      "text/plain": [
       "['POSITIVE', 'NEGATIVE', 'RECOVERY']\n",
       "Categories (3, object): ['NEGATIVE', 'POSITIVE', 'RECOVERY']"
      ]
     },
     "execution_count": 26,
     "metadata": {},
     "output_type": "execute_result"
    }
   ],
   "source": [
    "monocyte_wave2.obs['case_control'].unique()"
   ]
  },
  {
   "cell_type": "code",
   "execution_count": 27,
   "id": "accessory-airport",
   "metadata": {},
   "outputs": [
    {
     "name": "stderr",
     "output_type": "stream",
     "text": [
      "/tmp/ipykernel_5599/948781802.py:3: ImplicitModificationWarning: Trying to modify attribute `.obs` of view, initializing view as actual.\n",
      "  monocyte_wave2.obs['steroid_status']='nan'\n"
     ]
    }
   ],
   "source": [
    "# adding steroid status and case_control conditions\n",
    "\n",
    "monocyte_wave2.obs['steroid_status']='nan'\n",
    "\n",
    "monocyte_wave2.obs.loc[(monocyte_wave2.obs[\"patient_id\"].isin(['C146',\n",
    "'C139',\n",
    "'C147',\n",
    "'C145',\n",
    "'C138',\n",
    "'C33',\n",
    "'C101',\n",
    "'C141'])) &(monocyte_wave2.obs['case_control']=='POSITIVE'), \"steroid_status\"] = 'steroid_positive'\n",
    "\n",
    "monocyte_wave2.obs.loc[(monocyte_wave2.obs[\"patient_id\"].isin(['C146',\n",
    "'C139',\n",
    "'C147',\n",
    "'C145',\n",
    "'C138',\n",
    "'C33',\n",
    "'C101',\n",
    "'C141'])) &(monocyte_wave2.obs['case_control']=='NEGATIVE'), \"steroid_status\"] = 'steroid_negative'\n",
    "\n",
    "monocyte_wave2.obs.loc[(monocyte_wave2.obs[\"patient_id\"].isin(['C146',\n",
    "'C139',\n",
    "'C147',\n",
    "'C145',\n",
    "'C138',\n",
    "'C33',\n",
    "'C101',\n",
    "'C141'])) &(monocyte_wave2.obs['case_control']=='RECOVERY'), \"steroid_status\"] = 'steroid_recovery'\n",
    "\n",
    "#####################\n",
    "\n",
    "monocyte_wave2.obs.loc[(monocyte_wave2.obs[\"patient_id\"].isin(['C169',\n",
    "'C170',\n",
    "'C168',\n",
    "'C108',\n",
    "'C58',\n",
    "'C140',\n",
    "'C137',\n",
    "'C187',\n",
    "'C190']))&(monocyte_wave2.obs['case_control']=='POSITIVE'), \"steroid_status\"] = 'no_steroid_positive'\n",
    "\n",
    "monocyte_wave2.obs.loc[(monocyte_wave2.obs[\"patient_id\"].isin(['C169',\n",
    "'C170',\n",
    "'C168',\n",
    "'C108',\n",
    "'C58',\n",
    "'C140',\n",
    "'C137',\n",
    "'C187',\n",
    "'C190']))&(monocyte_wave2.obs['case_control']=='NEGATIVE'), \"steroid_status\"] = 'no_steroid_negative'\n",
    "\n",
    "\n",
    "monocyte_wave2.obs.loc[(monocyte_wave2.obs[\"patient_id\"].isin(['C169',\n",
    "'C170',\n",
    "'C168',\n",
    "'C108',\n",
    "'C58',\n",
    "'C140',\n",
    "'C137',\n",
    "'C187',\n",
    "'C190']))&(monocyte_wave2.obs['case_control']=='RECOVERY'), \"steroid_status\"] = 'no_steroid_recovery'\n",
    "\n"
   ]
  },
  {
   "cell_type": "code",
   "execution_count": 28,
   "id": "conditional-judges",
   "metadata": {},
   "outputs": [
    {
     "data": {
      "text/plain": [
       "['no_steroid_positive',\n",
       " 'no_steroid_negative',\n",
       " 'steroid_positive',\n",
       " 'no_steroid_recovery',\n",
       " 'steroid_recovery',\n",
       " 'steroid_negative']"
      ]
     },
     "execution_count": 28,
     "metadata": {},
     "output_type": "execute_result"
    }
   ],
   "source": [
    "list(monocyte_wave2.obs['steroid_status'].unique())"
   ]
  },
  {
   "cell_type": "code",
   "execution_count": null,
   "id": "integrated-moisture",
   "metadata": {},
   "outputs": [],
   "source": [
    "print (list(monocyte_wave2.obs['sample_date'].unique()))"
   ]
  },
  {
   "cell_type": "code",
   "execution_count": null,
   "id": "disturbed-following",
   "metadata": {},
   "outputs": [],
   "source": [
    "test = monocyte_wave2[monocyte_wave2.obs['steroid_status']=='no_steroid_negative']\n",
    "print (test.obs['case_control'].unique())\n",
    "print (test.obs['sample_date'].unique())"
   ]
  },
  {
   "cell_type": "code",
   "execution_count": null,
   "id": "romance-locator",
   "metadata": {},
   "outputs": [],
   "source": [
    "test = monocyte_wave2[monocyte_wave2.obs['steroid_status']=='steroid_recovery']\n",
    "print (test.obs['case_control'].unique())\n",
    "print (test.obs['sample_date'].unique())\n",
    "print(test.obs['sample_id_broad'].unique())"
   ]
  },
  {
   "cell_type": "code",
   "execution_count": null,
   "id": "distinct-investing",
   "metadata": {},
   "outputs": [],
   "source": [
    "df = pd.crosstab(monocyte_wave2.obs['steroid_status'],monocyte_wave2.obs['annot4'])\n",
    "df"
   ]
  },
  {
   "cell_type": "code",
   "execution_count": null,
   "id": "second-silver",
   "metadata": {},
   "outputs": [],
   "source": [
    "#df.columns = df.columns.add_categories(['steroid_status'])\n",
    "df['steroid_status'] = df.index # making index into column\n",
    "df"
   ]
  },
  {
   "cell_type": "code",
   "execution_count": null,
   "id": "pressed-mercy",
   "metadata": {},
   "outputs": [],
   "source": [
    "p1=df.plot(x='steroid_status', kind='bar', stacked=True,\n",
    "        title='distribution of monocytes in different steroid status')\n",
    "p1.set_xlabel('')\n",
    "p1.set_ylabel('number of cells')\n",
    "\n",
    "plt.grid(False)\n",
    "plt.legend(loc='center left', bbox_to_anchor=(1, 0.5))\n",
    "for p in p1.patches:\n",
    "        width, height = p.get_width(), p.get_height()\n",
    "        x, y = p.get_xy() \n",
    "        p1.text(x+width/2, \n",
    "            y+height/2, \n",
    "            '{:.0f}'.format(height), \n",
    "            horizontalalignment='center', \n",
    "            verticalalignment='center',rotation=0,size=7)  "
   ]
  },
  {
   "cell_type": "code",
   "execution_count": null,
   "id": "frequent-genome",
   "metadata": {},
   "outputs": [],
   "source": [
    "cols = list(df.columns)\n",
    "cols = cols[:-1]\n",
    "df[cols] = df[cols].div(df[cols].sum(axis=1), axis=0).multiply(100)"
   ]
  },
  {
   "cell_type": "code",
   "execution_count": null,
   "id": "alone-minutes",
   "metadata": {},
   "outputs": [],
   "source": [
    "df.sum(axis=1)"
   ]
  },
  {
   "cell_type": "code",
   "execution_count": null,
   "id": "southwest-sharing",
   "metadata": {},
   "outputs": [],
   "source": [
    "monocyte_wave2.obs['steroid_status'].value_counts()"
   ]
  },
  {
   "cell_type": "code",
   "execution_count": null,
   "id": "attempted-lawsuit",
   "metadata": {},
   "outputs": [],
   "source": [
    "p2 = df.plot(x='steroid_status', kind='bar', stacked=True,\n",
    "        title='distribution of monocytes in different steroid status',figsize=(5,5))\n",
    "plt.grid(False)\n",
    "plt.legend(loc='center left', bbox_to_anchor=(1, 0.5))\n",
    "p2.set_xlabel('')\n",
    "p2.set_ylabel('percentage')\n",
    "for p in p2.patches:\n",
    "        width, height = p.get_width(), p.get_height()\n",
    "        x, y = p.get_xy() \n",
    "        p2.text(x+width/2, \n",
    "            y+height/2, \n",
    "            '{:.1f}'.format(height), \n",
    "            horizontalalignment='center', \n",
    "            verticalalignment='center',rotation=0,size=7)  \n",
    "\n",
    "\n",
    "p2.text(-0.2,101,'4107',fontsize=9)\n",
    "p2.text(0.8,101,'21413',fontsize=9)\n",
    "p2.text(1.8,101,'5033',fontsize=9)\n",
    "p2.text(2.8,101,'1257',fontsize=9)\n",
    "p2.text(3.8,101,'12802',fontsize=9)\n",
    "p2.text(4.8,101,'975',fontsize=9)"
   ]
  },
  {
   "cell_type": "markdown",
   "id": "minus-leader",
   "metadata": {},
   "source": [
    "# steroid only"
   ]
  },
  {
   "cell_type": "code",
   "execution_count": 29,
   "id": "ceramic-newfoundland",
   "metadata": {},
   "outputs": [],
   "source": [
    "# to get sub-samples who got steroid \n",
    "steroid = monocyte_wave2[monocyte_wave2.obs['patient_id'].isin(['C146',\n",
    "'C139',\n",
    "'C147',\n",
    "'C145',\n",
    "'C138',\n",
    "'C33',\n",
    "'C101',\n",
    "'C141'])]\n",
    "\n",
    "\n",
    "no_steroid = monocyte_wave2[monocyte_wave2.obs['patient_id'].isin(['C169',\n",
    "'C170',\n",
    "'C168',\n",
    "'C108',\n",
    "'C58',\n",
    "'C140',\n",
    "'C137',\n",
    "'C187',\n",
    "'C190'])]\n"
   ]
  },
  {
   "cell_type": "code",
   "execution_count": 30,
   "id": "realistic-begin",
   "metadata": {},
   "outputs": [
    {
     "data": {
      "text/plain": [
       "['POSITIVE', 'RECOVERY', 'NEGATIVE']"
      ]
     },
     "execution_count": 30,
     "metadata": {},
     "output_type": "execute_result"
    }
   ],
   "source": [
    "(list(steroid.obs['case_control'].unique()))"
   ]
  },
  {
   "cell_type": "code",
   "execution_count": 31,
   "id": "sound-bangladesh",
   "metadata": {},
   "outputs": [
    {
     "data": {
      "text/plain": [
       "['C101', 'C138', 'C145', 'C146', 'C147', 'C33']"
      ]
     },
     "execution_count": 31,
     "metadata": {},
     "output_type": "execute_result"
    }
   ],
   "source": [
    "(list(steroid.obs['patient_id'].unique()))"
   ]
  },
  {
   "cell_type": "code",
   "execution_count": 32,
   "id": "minute-rugby",
   "metadata": {},
   "outputs": [
    {
     "data": {
      "text/plain": [
       "['21/01/2021', '03/02/2021', '25/01/2021', '26/01/2021', 'NA', '03/06/2021', '11/02/2021']\n",
       "Categories (7, object): ['03/02/2021', '03/06/2021', '11/02/2021', '21/01/2021', '25/01/2021', '26/01/2021', 'NA']"
      ]
     },
     "execution_count": 32,
     "metadata": {},
     "output_type": "execute_result"
    }
   ],
   "source": [
    "steroid.obs['discharge_date'].unique()"
   ]
  },
  {
   "cell_type": "code",
   "execution_count": 33,
   "id": "prime-fruit",
   "metadata": {},
   "outputs": [
    {
     "name": "stderr",
     "output_type": "stream",
     "text": [
      "/tmp/ipykernel_5599/590398472.py:2: ImplicitModificationWarning: Trying to modify attribute `.obs` of view, initializing view as actual.\n",
      "  steroid.obs['discharge_date'] = steroid.obs['discharge_date'].astype('str')\n"
     ]
    }
   ],
   "source": [
    "#correction ##########\n",
    "steroid.obs['discharge_date'] = steroid.obs['discharge_date'].astype('str')\n",
    "steroid.obs.loc[steroid.obs[\"patient_id\"] == \"C65\", \"discharge_date\"] = '10/06/2020'\n",
    "steroid.obs['discharge_date'] = steroid.obs['discharge_date'].astype('category')"
   ]
  },
  {
   "cell_type": "code",
   "execution_count": 34,
   "id": "monetary-homework",
   "metadata": {},
   "outputs": [],
   "source": [
    "tmp = steroid.copy()\n",
    "tmp.obs['sample_date'] = tmp.obs['sample_date'].astype('object')\n",
    "tmp.obs['date_first_symptoms'] = tmp.obs['date_first_symptoms'].astype('object')\n",
    "tmp.obs['date_positive_swab'] = tmp.obs['date_positive_swab'].astype('object')\n",
    "\n"
   ]
  },
  {
   "cell_type": "code",
   "execution_count": 35,
   "id": "consistent-bankruptcy",
   "metadata": {},
   "outputs": [
    {
     "data": {
      "text/plain": [
       "array(['02/01/2021', '16/01/2021', '05/01/2021', '09/01/2021', 'NA',\n",
       "       '12/01/2021'], dtype=object)"
      ]
     },
     "execution_count": 35,
     "metadata": {},
     "output_type": "execute_result"
    }
   ],
   "source": [
    "tmp.obs['date_positive_swab'].unique()"
   ]
  },
  {
   "cell_type": "code",
   "execution_count": 36,
   "id": "sufficient-dividend",
   "metadata": {},
   "outputs": [],
   "source": [
    "tmp.obs['date_first_symptoms'].replace({'NA':np.nan}, inplace = True)\n",
    "tmp.obs['date_positive_swab'].replace({'NA':np.nan}, inplace = True)"
   ]
  },
  {
   "cell_type": "code",
   "execution_count": 37,
   "id": "mineral-rates",
   "metadata": {},
   "outputs": [
    {
     "data": {
      "text/plain": [
       "array(['06/01/2021', '21/01/2021', '05/01/2021', nan, '14/01/2021'],\n",
       "      dtype=object)"
      ]
     },
     "execution_count": 37,
     "metadata": {},
     "output_type": "execute_result"
    }
   ],
   "source": [
    "tmp.obs['date_first_symptoms'].unique()"
   ]
  },
  {
   "cell_type": "code",
   "execution_count": 38,
   "id": "monthly-indication",
   "metadata": {},
   "outputs": [],
   "source": [
    "time_from_first_symptoms = pd.to_datetime(tmp.obs['sample_date'], format='%d/%m/%Y') - pd.to_datetime(tmp.obs['date_first_symptoms'], format='%d/%m/%Y')\n",
    "time_from_positive_swab = pd.to_datetime(tmp.obs['sample_date'], format='%d/%m/%Y') - pd.to_datetime(tmp.obs['date_positive_swab'], format='%d/%m/%Y')"
   ]
  },
  {
   "cell_type": "code",
   "execution_count": 39,
   "id": "electric-auckland",
   "metadata": {},
   "outputs": [
    {
     "data": {
      "text/plain": [
       "array([ 345600000000000, 1641600000000000, 1468800000000000,\n",
       "       1555200000000000, 1209600000000000, 4060800000000000,\n",
       "        604800000000000,            'NaT', 1382400000000000,\n",
       "        259200000000000,  172800000000000,  777600000000000,\n",
       "        864000000000000,  950400000000000, 4665600000000000,\n",
       "       1036800000000000,  432000000000000], dtype='timedelta64[ns]')"
      ]
     },
     "execution_count": 39,
     "metadata": {},
     "output_type": "execute_result"
    }
   ],
   "source": [
    "time_from_positive_swab.unique()"
   ]
  },
  {
   "cell_type": "code",
   "execution_count": 40,
   "id": "dental-venice",
   "metadata": {},
   "outputs": [],
   "source": [
    "days_from_first_symptoms = time_from_first_symptoms.dt.days\n",
    "days_from_positive_swab = time_from_positive_swab.dt.days"
   ]
  },
  {
   "cell_type": "code",
   "execution_count": 41,
   "id": "progressive-straight",
   "metadata": {},
   "outputs": [
    {
     "data": {
      "text/plain": [
       "array([ 4., 19., 17., 18., 14., 47.,  7., nan, 16.,  3.,  2.,  9., 10.,\n",
       "       11., 54., 12.,  5.])"
      ]
     },
     "execution_count": 41,
     "metadata": {},
     "output_type": "execute_result"
    }
   ],
   "source": [
    "days_from_positive_swab.unique()"
   ]
  },
  {
   "cell_type": "code",
   "execution_count": 42,
   "id": "humanitarian-seminar",
   "metadata": {},
   "outputs": [
    {
     "name": "stderr",
     "output_type": "stream",
     "text": [
      "/tmp/ipykernel_5599/315576265.py:1: SettingWithCopyWarning: modifications to a property of a datetimelike object are not supported and are discarded. Change values on the original.\n",
      "  days_from_first_symptoms.fillna(0, inplace = True)\n",
      "/tmp/ipykernel_5599/315576265.py:2: SettingWithCopyWarning: modifications to a property of a datetimelike object are not supported and are discarded. Change values on the original.\n",
      "  days_from_positive_swab.fillna(0, inplace = True)\n"
     ]
    }
   ],
   "source": [
    "days_from_first_symptoms.fillna(0, inplace = True)\n",
    "days_from_positive_swab.fillna(0, inplace = True)"
   ]
  },
  {
   "cell_type": "code",
   "execution_count": 43,
   "id": "optional-distribution",
   "metadata": {},
   "outputs": [
    {
     "data": {
      "text/plain": [
       "array([ 4., 19., 17., 18., 14., 47.,  7.,  0., 16.,  3.,  2.,  9., 10.,\n",
       "       11., 54., 12.,  5.])"
      ]
     },
     "execution_count": 43,
     "metadata": {},
     "output_type": "execute_result"
    }
   ],
   "source": [
    "days_from_positive_swab.unique()"
   ]
  },
  {
   "cell_type": "code",
   "execution_count": 44,
   "id": "tired-amazon",
   "metadata": {},
   "outputs": [
    {
     "data": {
      "text/plain": [
       "50.0"
      ]
     },
     "execution_count": 44,
     "metadata": {},
     "output_type": "execute_result"
    }
   ],
   "source": [
    "max(days_from_first_symptoms)\n"
   ]
  },
  {
   "cell_type": "code",
   "execution_count": 45,
   "id": "worthy-experiment",
   "metadata": {},
   "outputs": [
    {
     "data": {
      "text/plain": [
       "0.0"
      ]
     },
     "execution_count": 45,
     "metadata": {},
     "output_type": "execute_result"
    }
   ],
   "source": [
    "min(days_from_positive_swab)\n"
   ]
  },
  {
   "cell_type": "code",
   "execution_count": 46,
   "id": "military-crest",
   "metadata": {},
   "outputs": [],
   "source": [
    "days_from_infection = [max(a,b) for a,b in zip(days_from_first_symptoms, days_from_positive_swab)]\n"
   ]
  },
  {
   "cell_type": "code",
   "execution_count": 47,
   "id": "soviet-sheriff",
   "metadata": {},
   "outputs": [
    {
     "data": {
      "text/plain": [
       "54.0"
      ]
     },
     "execution_count": 47,
     "metadata": {},
     "output_type": "execute_result"
    }
   ],
   "source": [
    "max(days_from_infection)\n"
   ]
  },
  {
   "cell_type": "code",
   "execution_count": 48,
   "id": "dominican-feeling",
   "metadata": {},
   "outputs": [],
   "source": [
    "steroid.obs['time_from_first_symptoms'] = days_from_first_symptoms\n",
    "steroid.obs['time_from_positive_swab'] = days_from_positive_swab\n",
    "steroid.obs['time_from_infection'] = days_from_infection"
   ]
  },
  {
   "cell_type": "code",
   "execution_count": 49,
   "id": "recovered-graphics",
   "metadata": {},
   "outputs": [
    {
     "data": {
      "text/plain": [
       "array(['T CD8 Mem', 'T CD4 Helper', 'T CD4 CTL', 'T CD8 CTL',\n",
       "       'NK CD56 bright', 'NK', 'T CD4 Naive', 'T g/d', 'MAIT', 'T reg',\n",
       "       'NKT', 'ILC', 'T CD8 Naive', 'T CD8 EMRA'], dtype=object)"
      ]
     },
     "execution_count": 49,
     "metadata": {},
     "output_type": "execute_result"
    }
   ],
   "source": [
    "steroid.obs['final_anno'].unique()"
   ]
  },
  {
   "cell_type": "code",
   "execution_count": 50,
   "id": "beneficial-norfolk",
   "metadata": {},
   "outputs": [],
   "source": [
    "# adding dates of steroid inj for each patient\n",
    "steroid.obs['steroid_date'] = 'nan'\n",
    "steroid.obs.loc[steroid.obs[\"patient_id\"] == \"C146\", \"steroid_date\"] = '22/01/2021'\n",
    "steroid.obs.loc[steroid.obs[\"patient_id\"] == \"C139\", \"steroid_date\"] = '07/02/2021'\n",
    "steroid.obs.loc[steroid.obs[\"patient_id\"] == \"C147\", \"steroid_date\"] = '17/01/2021'\n",
    "steroid.obs.loc[steroid.obs[\"patient_id\"] == \"C145\", \"steroid_date\"] = '05/01/2021'\n",
    "steroid.obs.loc[steroid.obs[\"patient_id\"] == \"C138\", \"steroid_date\"] = '28/01/2021'\n",
    "steroid.obs.loc[steroid.obs[\"patient_id\"] == \"C33\", \"steroid_date\"] = '20/01/2021'\n",
    "steroid.obs.loc[steroid.obs[\"patient_id\"] == \"C101\", \"steroid_date\"] = '07/01/2021'\n",
    "steroid.obs.loc[steroid.obs[\"patient_id\"] == \"C141\", \"steroid_date\"] = '02/02/2021'\n",
    "\n"
   ]
  },
  {
   "cell_type": "code",
   "execution_count": 51,
   "id": "challenging-transmission",
   "metadata": {},
   "outputs": [
    {
     "data": {
      "text/plain": [
       "['07/01/2021',\n",
       " '28/01/2021',\n",
       " '05/01/2021',\n",
       " '22/01/2021',\n",
       " '17/01/2021',\n",
       " '20/01/2021']"
      ]
     },
     "execution_count": 51,
     "metadata": {},
     "output_type": "execute_result"
    }
   ],
   "source": [
    "list(steroid.obs['steroid_date'].unique())"
   ]
  },
  {
   "cell_type": "code",
   "execution_count": 52,
   "id": "hourly-thirty",
   "metadata": {},
   "outputs": [],
   "source": [
    "tmp = steroid.copy()\n",
    "tmp.obs['sample_date'] = tmp.obs['sample_date'].astype('object')\n",
    "time_from_steroid = pd.to_datetime(tmp.obs['sample_date'], format='%d/%m/%Y') - pd.to_datetime(tmp.obs['steroid_date'], format='%d/%m/%Y')\n"
   ]
  },
  {
   "cell_type": "code",
   "execution_count": 53,
   "id": "conditional-tunisia",
   "metadata": {},
   "outputs": [],
   "source": [
    "days_from_steroid = time_from_steroid.dt.days"
   ]
  },
  {
   "cell_type": "code",
   "execution_count": 54,
   "id": "deadly-sculpture",
   "metadata": {},
   "outputs": [
    {
     "data": {
      "text/plain": [
       "49"
      ]
     },
     "execution_count": 54,
     "metadata": {},
     "output_type": "execute_result"
    }
   ],
   "source": [
    "days_from_steroid.max()"
   ]
  },
  {
   "cell_type": "code",
   "execution_count": 55,
   "id": "coordinated-borough",
   "metadata": {},
   "outputs": [
    {
     "data": {
      "text/plain": [
       "array([  -1,    7,    5,   18,    2,   34,   -5,   14, -273,   11,  -10,\n",
       "          9,   -3,    1,   -6, -250,    6, -267, -262,    4,   49,   -4,\n",
       "         13,    0,   -2,   -8])"
      ]
     },
     "execution_count": 55,
     "metadata": {},
     "output_type": "execute_result"
    }
   ],
   "source": [
    "days_from_steroid.unique()"
   ]
  },
  {
   "cell_type": "code",
   "execution_count": 56,
   "id": "independent-consumer",
   "metadata": {},
   "outputs": [],
   "source": [
    "steroid.obs['days_from_steroid'] = days_from_steroid"
   ]
  },
  {
   "cell_type": "code",
   "execution_count": 57,
   "id": "pacific-springer",
   "metadata": {},
   "outputs": [
    {
     "data": {
      "text/plain": [
       "array([  -1,    7,    5,   18,    2,   34,   -5,   14, -273,   11,  -10,\n",
       "          9,   -3,    1,   -6, -250,    6, -267, -262,    4,   49,   -4,\n",
       "         13,    0,   -2,   -8])"
      ]
     },
     "execution_count": 57,
     "metadata": {},
     "output_type": "execute_result"
    }
   ],
   "source": [
    "steroid.obs['days_from_steroid'].unique()"
   ]
  },
  {
   "cell_type": "code",
   "execution_count": 58,
   "id": "diverse-philosophy",
   "metadata": {},
   "outputs": [],
   "source": [
    "# adding metdata about before and after steroid samples based on date of steroid injection\n",
    "steroid.obs['steroid_timeline']='nan'\n",
    "\n",
    "steroid.obs.loc[(steroid.obs[\"days_from_steroid\"]<=0)&(steroid.obs['case_control']=='POSITIVE'), \"steroid_timeline\"] = 'before_steroid_pos'\n",
    "steroid.obs.loc[(steroid.obs[\"days_from_steroid\"]<=0)&(steroid.obs['case_control']=='NEGATIVE'), \"steroid_timeline\"] = 'before_steroid_neg'\n",
    "steroid.obs.loc[(steroid.obs[\"days_from_steroid\"]<=0)&(steroid.obs['case_control']=='RECOVERY'), \"steroid_timeline\"] = 'before_steroid_rec'\n",
    "\n",
    "##########################\n",
    "\n",
    "steroid.obs.loc[(steroid.obs[\"days_from_steroid\"]>0)&(steroid.obs['case_control']=='POSITIVE'), \"steroid_timeline\"] = 'after_steroid_pos'\n",
    "steroid.obs.loc[(steroid.obs[\"days_from_steroid\"]>0)&(steroid.obs['case_control']=='NEGATIVE'), \"steroid_timeline\"] = 'after_steroid_neg'\n",
    "\n",
    "steroid.obs.loc[(steroid.obs[\"days_from_steroid\"]>0)&(steroid.obs['case_control']=='RECOVERY'), \"steroid_timeline\"] = 'after_steroid_rec'\n",
    "\n",
    "steroid.obs['steroid_timeline']=steroid.obs['steroid_timeline'].astype('category')\n",
    "\n",
    "\n"
   ]
  },
  {
   "cell_type": "code",
   "execution_count": 59,
   "id": "located-egypt",
   "metadata": {},
   "outputs": [
    {
     "data": {
      "text/plain": [
       "['before_steroid_pos', 'after_steroid_pos', 'after_steroid_rec', 'before_steroid_neg']\n",
       "Categories (4, object): ['after_steroid_pos', 'after_steroid_rec', 'before_steroid_neg', 'before_steroid_pos']"
      ]
     },
     "execution_count": 59,
     "metadata": {},
     "output_type": "execute_result"
    }
   ],
   "source": [
    "steroid.obs['steroid_timeline'].unique()"
   ]
  },
  {
   "cell_type": "code",
   "execution_count": null,
   "id": "alert-watch",
   "metadata": {},
   "outputs": [],
   "source": [
    "#test = steroid[steroid.obs['steroid_timeline']=='after_steroid_neg']\n",
    "#print(test.obs['case_control'].unique())"
   ]
  },
  {
   "cell_type": "code",
   "execution_count": null,
   "id": "technological-executive",
   "metadata": {},
   "outputs": [],
   "source": [
    "df = pd.crosstab(steroid.obs['steroid_timeline'],steroid.obs['annot4'])\n",
    "df"
   ]
  },
  {
   "cell_type": "code",
   "execution_count": null,
   "id": "exceptional-tension",
   "metadata": {},
   "outputs": [],
   "source": [
    "#df.columns = df.columns.add_categories(['steroid_timeline'])\n",
    "df['steroid_timeline'] = df.index # making index into column"
   ]
  },
  {
   "cell_type": "code",
   "execution_count": null,
   "id": "integral-advantage",
   "metadata": {},
   "outputs": [],
   "source": [
    "df"
   ]
  },
  {
   "cell_type": "code",
   "execution_count": null,
   "id": "flexible-estimate",
   "metadata": {},
   "outputs": [],
   "source": [
    "df=df.reindex(['before_steroid_neg', \"before_steroid_pos\", \"after_steroid_pos\", \"after_steroid_rec\"])\n",
    "df"
   ]
  },
  {
   "cell_type": "code",
   "execution_count": null,
   "id": "instrumental-antenna",
   "metadata": {},
   "outputs": [],
   "source": [
    "p1=df.plot(x='steroid_timeline', kind='bar', stacked=True,\n",
    "        title='distribution of monocytes before and after steroid')\n",
    "p1.set_ylabel('num of cells')\n",
    "p1.set_xlabel('')\n",
    "\n",
    "plt.grid(False)\n",
    "plt.legend(loc='center left', bbox_to_anchor=(1, 0.5))\n",
    "for p in p1.patches:\n",
    "        width, height = p.get_width(), p.get_height()\n",
    "        x, y = p.get_xy() \n",
    "        p1.text(x+width/2, \n",
    "            y+height/2, \n",
    "            '{:.0f}'.format(height), \n",
    "            horizontalalignment='center', \n",
    "            verticalalignment='center',rotation=0,size=7) "
   ]
  },
  {
   "cell_type": "code",
   "execution_count": null,
   "id": "fifteen-browser",
   "metadata": {},
   "outputs": [],
   "source": [
    "cols = list(df.columns)\n",
    "cols = cols[:-1]\n",
    "df[cols] = df[cols].div(df[cols].sum(axis=1), axis=0).multiply(100)"
   ]
  },
  {
   "cell_type": "code",
   "execution_count": null,
   "id": "steady-provincial",
   "metadata": {},
   "outputs": [],
   "source": [
    "steroid.obs['steroid_timeline'].value_counts()"
   ]
  },
  {
   "cell_type": "code",
   "execution_count": null,
   "id": "played-priority",
   "metadata": {},
   "outputs": [],
   "source": [
    "p2 = df.plot(x='steroid_timeline', kind='bar', stacked=True,\n",
    "        title='distribution of monocytes before and after steroid',figsize=(3,3))\n",
    "p2.set_xlabel('')\n",
    "p2.set_ylabel('percentage')\n",
    "plt.grid(False)\n",
    "plt.legend(loc='center left', bbox_to_anchor=(1, 0.5))\n",
    "for p in p2.patches:\n",
    "        width, height = p.get_width(), p.get_height()\n",
    "        x, y = p.get_xy() \n",
    "        p2.text(x+width/2, \n",
    "            y+height/2, \n",
    "            '{:.1f}'.format(height), \n",
    "            horizontalalignment='center', \n",
    "            verticalalignment='center',rotation=0,size=7) \n",
    "\n",
    "\n",
    "'''\n",
    "p2.text(-0.2,101,'1257',fontsize=9)\n",
    "p2.text(0.8,101,'4879',fontsize=9)\n",
    "p2.text(1.8,101,'7923',fontsize=9)\n",
    "p2.text(2.8,101,'975',fontsize=9)\n",
    "'''"
   ]
  },
  {
   "cell_type": "markdown",
   "id": "cutting-suite",
   "metadata": {},
   "source": [
    "#  steroid with positive case only -divided into 4 severity "
   ]
  },
  {
   "cell_type": "code",
   "execution_count": 60,
   "id": "attractive-involvement",
   "metadata": {},
   "outputs": [
    {
     "data": {
      "text/plain": [
       "['before_steroid_pos', 'after_steroid_pos', 'after_steroid_rec', 'before_steroid_neg']\n",
       "Categories (4, object): ['after_steroid_pos', 'after_steroid_rec', 'before_steroid_neg', 'before_steroid_pos']"
      ]
     },
     "execution_count": 60,
     "metadata": {},
     "output_type": "execute_result"
    }
   ],
   "source": [
    "steroid.obs['steroid_timeline'].unique()"
   ]
  },
  {
   "cell_type": "code",
   "execution_count": 61,
   "id": "domestic-armenia",
   "metadata": {},
   "outputs": [],
   "source": [
    "steroid_pos_only = steroid[steroid.obs['steroid_timeline'].isin(['before_steroid_pos','after_steroid_pos'])]"
   ]
  },
  {
   "cell_type": "code",
   "execution_count": 62,
   "id": "portuguese-timer",
   "metadata": {},
   "outputs": [
    {
     "data": {
      "text/plain": [
       "['severe', 'mild', 'moderate', 'critical']\n",
       "Categories (4, object): ['critical', 'mild', 'moderate', 'severe']"
      ]
     },
     "execution_count": 62,
     "metadata": {},
     "output_type": "execute_result"
    }
   ],
   "source": [
    "steroid_pos_only.obs['WHO_temp_severity'].unique()"
   ]
  },
  {
   "cell_type": "code",
   "execution_count": 63,
   "id": "imperial-mercy",
   "metadata": {},
   "outputs": [
    {
     "name": "stderr",
     "output_type": "stream",
     "text": [
      "/tmp/ipykernel_5599/1759539440.py:2: ImplicitModificationWarning: Trying to modify attribute `.obs` of view, initializing view as actual.\n",
      "  steroid_pos_only.obs['steroid_severity']='nan'\n"
     ]
    }
   ],
   "source": [
    "# adding severity and steroid meta\n",
    "steroid_pos_only.obs['steroid_severity']='nan'\n",
    "\n",
    "steroid_pos_only.obs.loc[(steroid_pos_only.obs[\"steroid_timeline\"]=='before_steroid_pos')&(steroid_pos_only.obs['WHO_temp_severity']=='mild'), \"steroid_severity\"] = 'before_steroid_pos_mild'\n",
    "steroid_pos_only.obs.loc[(steroid_pos_only.obs[\"steroid_timeline\"]=='before_steroid_pos')&(steroid_pos_only.obs['WHO_temp_severity']=='moderate'), \"steroid_severity\"] = 'before_steroid_pos_moderate'\n",
    "steroid_pos_only.obs.loc[(steroid_pos_only.obs[\"steroid_timeline\"]=='before_steroid_pos')&(steroid_pos_only.obs['WHO_temp_severity']=='severe'), \"steroid_severity\"] = 'before_steroid_pos_severe'\n",
    "steroid_pos_only.obs.loc[(steroid_pos_only.obs[\"steroid_timeline\"]=='before_steroid_pos')&(steroid_pos_only.obs['WHO_temp_severity']=='critical'), \"steroid_severity\"] = 'before_steroid_pos_critical'\n",
    "\n",
    "steroid_pos_only.obs.loc[(steroid_pos_only.obs[\"steroid_timeline\"]=='after_steroid_pos')&(steroid_pos_only.obs['WHO_temp_severity']=='mild'), \"steroid_severity\"] = 'after_steroid_pos_mild'\n",
    "steroid_pos_only.obs.loc[(steroid_pos_only.obs[\"steroid_timeline\"]=='after_steroid_pos')&(steroid_pos_only.obs['WHO_temp_severity']=='moderate'), \"steroid_severity\"] = 'after_steroid_pos_moderate'\n",
    "steroid_pos_only.obs.loc[(steroid_pos_only.obs[\"steroid_timeline\"]=='after_steroid_pos')&(steroid_pos_only.obs['WHO_temp_severity']=='severe'), \"steroid_severity\"] = 'after_steroid_pos_severe'\n",
    "steroid_pos_only.obs.loc[(steroid_pos_only.obs[\"steroid_timeline\"]=='after_steroid_pos')&(steroid_pos_only.obs['WHO_temp_severity']=='critical'), \"steroid_severity\"] = 'after_steroid_pos_critical'\n"
   ]
  },
  {
   "cell_type": "code",
   "execution_count": 64,
   "id": "endless-newspaper",
   "metadata": {},
   "outputs": [
    {
     "data": {
      "text/plain": [
       "array(['before_steroid_pos_severe', 'after_steroid_pos_mild',\n",
       "       'after_steroid_pos_moderate', 'before_steroid_pos_moderate',\n",
       "       'after_steroid_pos_critical', 'before_steroid_pos_mild',\n",
       "       'after_steroid_pos_severe'], dtype=object)"
      ]
     },
     "execution_count": 64,
     "metadata": {},
     "output_type": "execute_result"
    }
   ],
   "source": [
    "steroid_pos_only.obs['steroid_severity'].unique()"
   ]
  },
  {
   "cell_type": "code",
   "execution_count": null,
   "id": "harmful-operations",
   "metadata": {},
   "outputs": [],
   "source": [
    "#test = steroid_pos_only[steroid_pos_only.obs['steroid_severity']=='after_steroid_pos_severe']\n",
    "#print(test.obs['case_control'].unique())\n",
    "#print(test.obs['WHO_temp_severity'].unique())"
   ]
  },
  {
   "cell_type": "code",
   "execution_count": null,
   "id": "double-column",
   "metadata": {},
   "outputs": [],
   "source": [
    "df = pd.crosstab(steroid_pos_only.obs['steroid_severity'],steroid_pos_only.obs['annot4'])\n",
    "df"
   ]
  },
  {
   "cell_type": "code",
   "execution_count": null,
   "id": "mental-positive",
   "metadata": {},
   "outputs": [],
   "source": [
    "df.columns = df.columns.add_categories(['steroid_severity'])\n",
    "df['steroid_severity'] = df.index \n",
    "df"
   ]
  },
  {
   "cell_type": "code",
   "execution_count": null,
   "id": "modified-combine",
   "metadata": {},
   "outputs": [],
   "source": [
    "df=df.reindex([\"before_steroid_pos_mild\", \"after_steroid_pos_mild\", \"before_steroid_pos_moderate\",'after_steroid_pos_moderate','before_steroid_pos_severe','after_steroid_pos_severe',\n",
    "              'after_steroid_pos_critical'])\n",
    "df"
   ]
  },
  {
   "cell_type": "code",
   "execution_count": null,
   "id": "incorrect-perth",
   "metadata": {},
   "outputs": [],
   "source": [
    "p1=df.plot(x='steroid_severity', kind='bar', stacked=True,\n",
    "        title='distribution of monocytes before and after steroid and severity')\n",
    "p1.set_ylabel('num of cells')\n",
    "p1.set_xlabel('')\n",
    "\n",
    "plt.grid(False)\n",
    "plt.legend(loc='center left', bbox_to_anchor=(1, 0.5))\n",
    "for p in p1.patches:\n",
    "        width, height = p.get_width(), p.get_height()\n",
    "        x, y = p.get_xy() \n",
    "        p1.text(x+width/2, \n",
    "            y+height/2, \n",
    "            '{:.0f}'.format(height), \n",
    "            horizontalalignment='center', \n",
    "            verticalalignment='center',rotation=0,size=7) "
   ]
  },
  {
   "cell_type": "code",
   "execution_count": null,
   "id": "cordless-fighter",
   "metadata": {},
   "outputs": [],
   "source": [
    "cols = list(df.columns)\n",
    "cols = cols[:-1]\n",
    "df[cols] = df[cols].div(df[cols].sum(axis=1), axis=0).multiply(100)"
   ]
  },
  {
   "cell_type": "code",
   "execution_count": null,
   "id": "bronze-sunrise",
   "metadata": {},
   "outputs": [],
   "source": [
    "df"
   ]
  },
  {
   "cell_type": "code",
   "execution_count": null,
   "id": "patient-oxygen",
   "metadata": {},
   "outputs": [],
   "source": [
    "steroid_pos_only.obs['steroid_severity'].value_counts()"
   ]
  },
  {
   "cell_type": "code",
   "execution_count": null,
   "id": "quality-butterfly",
   "metadata": {},
   "outputs": [],
   "source": [
    "p2 = df.plot(x='steroid_severity', kind='bar', stacked=True,\n",
    "        title='distribution of monocytes before and after steroid and severity',figsize=(5,5))\n",
    "p2.set_xlabel('')\n",
    "p2.set_ylabel('percentage')\n",
    "plt.grid(False)\n",
    "plt.legend(loc='center left', bbox_to_anchor=(1, 0.5))\n",
    "for p in p2.patches:\n",
    "        width, height = p.get_width(), p.get_height()\n",
    "        x, y = p.get_xy() \n",
    "        p2.text(x+width/2, \n",
    "            y+height/2, \n",
    "            '{:.1f}'.format(height), \n",
    "            horizontalalignment='center', \n",
    "            verticalalignment='center',rotation=0,size=7) \n",
    "\n",
    "\n",
    "\n",
    "p2.text(-0.2,101,'2678',fontsize=9)\n",
    "p2.text(0.8,101,'1811',fontsize=9)\n",
    "p2.text(1.8,101,'1911',fontsize=9)\n",
    "p2.text(2.8,101,'2146',fontsize=9)\n",
    "p2.text(3.8,101,'290',fontsize=9)\n",
    "p2.text(4.8,101,'1226',fontsize=9)\n",
    "p2.text(5.8,101,'2740',fontsize=9)"
   ]
  },
  {
   "cell_type": "code",
   "execution_count": 65,
   "id": "located-excerpt",
   "metadata": {},
   "outputs": [],
   "source": [
    "save_file = '/home/jovyan/scripts/renal_covid_19/scripts_for_publication/trend_of_cell_with_steroid/steroid_pos_only_all_T.h5ad'\n",
    "steroid_pos_only.write_h5ad(save_file)"
   ]
  },
  {
   "cell_type": "code",
   "execution_count": 69,
   "id": "sixth-possession",
   "metadata": {},
   "outputs": [
    {
     "data": {
      "text/plain": [
       "['steroid_positive']"
      ]
     },
     "execution_count": 69,
     "metadata": {},
     "output_type": "execute_result"
    }
   ],
   "source": [
    "list(steroid_pos_only.obs['steroid_status'].unique())"
   ]
  },
  {
   "cell_type": "code",
   "execution_count": null,
   "id": "focal-edward",
   "metadata": {},
   "outputs": [],
   "source": []
  }
 ],
 "metadata": {
  "kernelspec": {
   "display_name": "Py_env2",
   "language": "python",
   "name": "py_env2"
  },
  "language_info": {
   "codemirror_mode": {
    "name": "ipython",
    "version": 3
   },
   "file_extension": ".py",
   "mimetype": "text/x-python",
   "name": "python",
   "nbconvert_exporter": "python",
   "pygments_lexer": "ipython3",
   "version": "3.8.13"
  }
 },
 "nbformat": 4,
 "nbformat_minor": 5
}
