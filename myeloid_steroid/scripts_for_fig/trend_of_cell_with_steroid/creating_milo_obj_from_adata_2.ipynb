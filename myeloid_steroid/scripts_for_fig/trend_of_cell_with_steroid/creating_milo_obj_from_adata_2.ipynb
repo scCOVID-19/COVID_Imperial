{
 "cells": [
  {
   "cell_type": "code",
   "execution_count": 1,
   "id": "portuguese-administrator",
   "metadata": {},
   "outputs": [
    {
     "name": "stdout",
     "output_type": "stream",
     "text": [
      "scanpy==1.9.1 anndata==0.8.0 umap==0.5.3 numpy==1.23.4 scipy==1.9.3 pandas==1.5.1 scikit-learn==1.1.3 statsmodels==0.13.5 python-igraph==0.10.2 pynndescent==0.5.8\n"
     ]
    }
   ],
   "source": [
    "import matplotlib.pyplot as plt\n",
    "import matplotlib.image as mpimg\n",
    "import scanpy as sc\n",
    "import numpy as np\n",
    "import pandas as pd\n",
    "from matplotlib.pyplot import rc_context\n",
    "pd.set_option('display.max_rows', 200)\n",
    "#sc.logging.print_versions()\n",
    "sc.logging.print_header()\n",
    "sc.settings.verbosity = 3  \n",
    "sc.settings.set_figure_params(dpi=120, color_map='viridis')"
   ]
  },
  {
   "cell_type": "code",
   "execution_count": 2,
   "id": "powerful-horse",
   "metadata": {},
   "outputs": [
    {
     "data": {
      "text/plain": [
       "AnnData object with n_obs × n_vars = 12802 × 1215\n",
       "    obs: 'annotation22_ES', 'centre', 'sample_id', 'sample_id_broad', 'sample_date', 'sample_date_yr', 'pool', 'pool_broad', 'haniffa_broad_predLabel', 'orig.ident', 'merged_souporcell_cluster', 'merged_souporcell_status', 'patient_id', 'case_control', 'WHO_severity', 'sex', 'calc_age', 'discharge_date', 'date_positive_swab', 'date_first_symptoms', 'admission_date', 'ethnicity', 'n_genes_by_counts', 'total_counts', 'total_counts_mt', 'pct_counts_mt', 'leiden_0.8', '5_subcluster', '9_subcluster', 'annotation', 'annotation23_ES', 'annotation24_ES', 'annot3', 'annot2', 'annot1', 'leiden_0.5', 'annot4', 'wave_case_control', 'steroid_status', 'time_from_first_symptoms', 'time_from_positive_swab', 'time_from_infection', 'steroid_date', 'days_from_steroid', 'steroid_timeline', 'WHO_temp_severity', 'steroid_severity'\n",
       "    var: 'mt', 'n_cells_by_counts', 'mean_counts', 'pct_dropout_by_counts', 'total_counts', 'highly_variable', 'means', 'dispersions', 'dispersions_norm', 'mean', 'std'\n",
       "    uns: '5_subcluster_colors', '9_subcluster', '9_subcluster_colors', 'WHO_severity_colors', 'X_pca_harmony_orig.ident', 'annot2_colors', 'annot4_colors', 'annotation22_ES_colors', 'annotation23_ES_colors', 'annotation24_ES_colors', 'hvg', 'leiden', 'leiden_0.5', 'leiden_0.5_colors', 'leiden_0.8_colors', 'merged_souporcell_status_colors', 'pca', 'umap'\n",
       "    obsm: 'X_pca', 'X_pca_harmony_orig.ident', 'X_umap'\n",
       "    varm: 'PCs'\n",
       "    obsp: 'X_pca_harmony_orig.ident_connectivities', 'X_pca_harmony_orig.ident_distances'"
      ]
     },
     "execution_count": 2,
     "metadata": {},
     "output_type": "execute_result"
    }
   ],
   "source": [
    "steroid_pos_only = sc.read('/home/jovyan/scripts/renal_covid_19/scripts_for_publication/trend_of_cell_with_steroid/steroid_pos_only_all_monocyte.h5ad') #include only the patients in wave 2 who got steroid and only pos cases\n",
    "steroid_pos_only"
   ]
  },
  {
   "cell_type": "code",
   "execution_count": 3,
   "id": "other-chuck",
   "metadata": {},
   "outputs": [
    {
     "data": {
      "text/plain": [
       "['CD14mono_anti_inflammatory',\n",
       " 'CD16mono',\n",
       " 'CD14mono',\n",
       " 'CD14mono_IFN',\n",
       " 'CD16mono_IFN',\n",
       " 'CD16mono_C1',\n",
       " 'Int.mono',\n",
       " 'CD14mono_activated']"
      ]
     },
     "execution_count": 3,
     "metadata": {},
     "output_type": "execute_result"
    }
   ],
   "source": [
    "list(steroid_pos_only.obs['annot4'].unique())"
   ]
  },
  {
   "cell_type": "code",
   "execution_count": 4,
   "id": "quiet-vessel",
   "metadata": {},
   "outputs": [
    {
     "data": {
      "text/plain": [
       "['C138', 'C101', 'C145', 'C147', 'C146', 'C33']\n",
       "Categories (6, object): ['C101', 'C138', 'C145', 'C146', 'C147', 'C33']"
      ]
     },
     "execution_count": 4,
     "metadata": {},
     "output_type": "execute_result"
    }
   ],
   "source": [
    "steroid_pos_only.obs['patient_id'].unique()"
   ]
  },
  {
   "cell_type": "code",
   "execution_count": 5,
   "id": "binding-tyler",
   "metadata": {},
   "outputs": [
    {
     "data": {
      "text/plain": [
       "['POSITIVE']\n",
       "Categories (1, object): ['POSITIVE']"
      ]
     },
     "execution_count": 5,
     "metadata": {},
     "output_type": "execute_result"
    }
   ],
   "source": [
    "steroid_pos_only.obs['case_control'].unique()"
   ]
  },
  {
   "cell_type": "code",
   "execution_count": 6,
   "id": "danish-aircraft",
   "metadata": {},
   "outputs": [],
   "source": [
    "steroid_pos_only.obs['annot4'] = steroid_pos_only.obs['annot4'].str.replace('CD14mono_activated','CD14mono')\n",
    "steroid_pos_only.obs['annot4'] = steroid_pos_only.obs['annot4'].str.replace('CD14mono_anti_inflammatory','CD14mono_alt_act')"
   ]
  },
  {
   "cell_type": "code",
   "execution_count": 7,
   "id": "precise-comparative",
   "metadata": {},
   "outputs": [
    {
     "data": {
      "text/plain": [
       "['CD14mono_alt_act',\n",
       " 'CD16mono',\n",
       " 'CD14mono',\n",
       " 'CD14mono_IFN',\n",
       " 'CD16mono_IFN',\n",
       " 'CD16mono_C1',\n",
       " 'Int.mono']"
      ]
     },
     "execution_count": 7,
     "metadata": {},
     "output_type": "execute_result"
    }
   ],
   "source": [
    "list(steroid_pos_only.obs['annot4'].unique())"
   ]
  },
  {
   "cell_type": "code",
   "execution_count": 8,
   "id": "exciting-audience",
   "metadata": {},
   "outputs": [],
   "source": [
    "steroid_pos_only.obs['steroid_timeline_new']='nan'\n",
    "\n",
    "steroid_pos_only.obs.loc[(steroid_pos_only.obs[\"steroid_timeline\"]=='before_steroid_pos'), \"steroid_timeline_new\"] = 'groupA_before_steroid_pos'\n",
    "steroid_pos_only.obs.loc[(steroid_pos_only.obs[\"steroid_timeline\"]=='after_steroid_pos'), \"steroid_timeline_new\"] = 'groupB_after_steroid_pos'"
   ]
  },
  {
   "cell_type": "code",
   "execution_count": 9,
   "id": "foster-remove",
   "metadata": {},
   "outputs": [
    {
     "data": {
      "text/plain": [
       "['POSITIVE']\n",
       "Categories (1, object): ['POSITIVE']"
      ]
     },
     "execution_count": 9,
     "metadata": {},
     "output_type": "execute_result"
    }
   ],
   "source": [
    "steroid_pos_only.obs['case_control'].unique()"
   ]
  },
  {
   "cell_type": "code",
   "execution_count": 10,
   "id": "mexican-thing",
   "metadata": {},
   "outputs": [
    {
     "data": {
      "text/plain": [
       "['mild', 'severe', 'moderate', 'critical']\n",
       "Categories (4, object): ['critical', 'mild', 'moderate', 'severe']"
      ]
     },
     "execution_count": 10,
     "metadata": {},
     "output_type": "execute_result"
    }
   ],
   "source": [
    "steroid_pos_only.obs['WHO_temp_severity'].unique()"
   ]
  },
  {
   "cell_type": "code",
   "execution_count": 11,
   "id": "negative-musician",
   "metadata": {},
   "outputs": [],
   "source": [
    "import anndata2ri\n",
    "anndata2ri.activate()\n",
    "%load_ext rpy2.ipython"
   ]
  },
  {
   "cell_type": "code",
   "execution_count": 12,
   "id": "dominant-opinion",
   "metadata": {},
   "outputs": [],
   "source": [
    "%%R\n",
    "## Count cells in neighbourhoods\n",
    "countCells_ <- function(x, samples, meta.data=NULL){\n",
    "\n",
    "    # cast dplyr objects to data.frame\n",
    "    if(!is.data.frame(meta.data) & !is.null(meta.data)){\n",
    "        meta.data <- as.data.frame(meta.data)\n",
    "    }\n",
    "\n",
    "    if(length(samples) > 1 & !is.null(meta.data)){\n",
    "        stop(\"Multiple sample columns provided, please specify a unique column name\")\n",
    "    } else if(is.null(meta.data) & length(samples) != ncol(x)){\n",
    "        stop(paste0(\"Length of vector does not match dimensions of object. Length:\",\n",
    "                    length(samples), \" Dimensions: \", ncol(x)))\n",
    "    }\n",
    "\n",
    "    # check the nhoods slot is populated\n",
    "    if(ncol(nhoods(x)) == 1 & nrow(nhoods(x)) == 1){\n",
    "        stop(\"No neighbourhoods found. Please run makeNhoods() first.\")\n",
    "    }\n",
    "\n",
    "    message(\"Checking meta.data validity\")\n",
    "    if(!is.null(meta.data)){\n",
    "        samp.ids <- unique(as.character(meta.data[, samples]))\n",
    "    } else {\n",
    "        samp.ids <- unique(as.character(samples))\n",
    "    }\n",
    "\n",
    "    num.hoods <- ncol(nhoods(x))\n",
    "\n",
    "    ## Convert meta data to binary dummies in sparse matrix\n",
    "    dummy.meta.data <- Matrix(data=0, nrow=nrow(meta.data), ncol = length(samp.ids), sparse = TRUE)\n",
    "    colnames(dummy.meta.data) <- samp.ids\n",
    "    rownames(dummy.meta.data) <- rownames(meta.data)\n",
    "    for (s in seq_along(samp.ids)){\n",
    "        i.s <- samp.ids[s]\n",
    "        s.ixs <- which(meta.data[samples]==i.s)\n",
    "        dummy.meta.data[s.ixs, as.character(i.s)] <- 1\n",
    "    }\n",
    "\n",
    "    message(\"Counting cells in neighbourhoods\")\n",
    "    count.matrix <- Matrix::t(nhoods(x)) %*% dummy.meta.data\n",
    "\n",
    "    # add to the object\n",
    "    rownames(count.matrix) <- c(1:num.hoods)\n",
    "    nhoodCounts(x) <- count.matrix\n",
    "\n",
    "    return(x)\n",
    "}"
   ]
  },
  {
   "cell_type": "code",
   "execution_count": 13,
   "id": "naval-miami",
   "metadata": {},
   "outputs": [],
   "source": [
    "# store the neighborhood graph separately\n",
    "steroid_pos_only_no_knnx = steroid_pos_only.copy()\n"
   ]
  },
  {
   "cell_type": "code",
   "execution_count": 14,
   "id": "guided-retirement",
   "metadata": {},
   "outputs": [
    {
     "name": "stdout",
     "output_type": "stream",
     "text": [
      "computing neighbors\n",
      "    finished: added to `.uns['neighbors']`\n",
      "    `.obsp['distances']`, distances for each pair of neighbors\n",
      "    `.obsp['connectivities']`, weighted adjacency matrix (0:00:19)\n"
     ]
    }
   ],
   "source": [
    "# recompute the neighborhood\n",
    "sc.pp.neighbors(steroid_pos_only_no_knnx, use_rep=\"X_pca_harmony_orig.ident\")"
   ]
  },
  {
   "cell_type": "code",
   "execution_count": 15,
   "id": "funded-parade",
   "metadata": {},
   "outputs": [],
   "source": [
    "# Save the connectivity matrix\n",
    "knn_adjacencyx = steroid_pos_only_no_knnx.obsp[\"connectivities\"]"
   ]
  },
  {
   "cell_type": "code",
   "execution_count": 16,
   "id": "adjacent-century",
   "metadata": {},
   "outputs": [],
   "source": [
    "steroid_pos_only_no_knnx.uns.pop(\"X_pca_harmony_orig.ident\")\n",
    "steroid_pos_only_no_knnx.uns.pop(\"neighbors\")\n",
    "#steroid_pos_only_no_knnx.obsm.pop(\"_scvi_extra_categoricals\")\n",
    "#steroid_pos_only_no_knnx.obsm.pop(\"_scvi_extra_continuous\")\n",
    "steroid_pos_only_no_knnx.obsp = None\n"
   ]
  },
  {
   "cell_type": "code",
   "execution_count": 17,
   "id": "second-fraction",
   "metadata": {},
   "outputs": [],
   "source": [
    "knn_adjacencyx = knn_adjacencyx.A"
   ]
  },
  {
   "cell_type": "code",
   "execution_count": 18,
   "id": "cardiac-baghdad",
   "metadata": {},
   "outputs": [
    {
     "name": "stderr",
     "output_type": "stream",
     "text": [
      "/home/jovyan/my-conda-envs/Py_env2/lib/python3.8/site-packages/anndata2ri/r2py.py:102: FutureWarning: X.dtype being converted to np.float32 from float64. In the next version of anndata (0.9) conversion will not be automatic. Pass dtype explicitly to avoid this warning. Pass `AnnData(X, dtype=X.dtype, ...)` to get the future behavour.\n",
      "  return AnnData(exprs, obs, var, uns, obsm or None, layers=layers)\n"
     ]
    }
   ],
   "source": [
    "%%R -i steroid_pos_only_no_knnx -i knn_adjacencyx\n",
    "setwd('/home/jovyan/scripts/renal_covid_19/scripts_for_publication/trend_of_cell_with_steroid/')\n",
    "getwd()\n",
    "save(countCells_, steroid_pos_only_no_knnx, knn_adjacencyx, file = 'steroid_pos_only.RData')"
   ]
  },
  {
   "cell_type": "code",
   "execution_count": 19,
   "id": "associate-rainbow",
   "metadata": {},
   "outputs": [
    {
     "data": {
      "text/plain": [
       "array(['CD14mono_alt_act', 'CD16mono', 'CD14mono', 'CD14mono_IFN',\n",
       "       'CD16mono_IFN', 'CD16mono_C1', 'Int.mono'], dtype=object)"
      ]
     },
     "execution_count": 19,
     "metadata": {},
     "output_type": "execute_result"
    }
   ],
   "source": [
    "steroid_pos_only_no_knnx.obs['annot4'].unique()"
   ]
  },
  {
   "cell_type": "code",
   "execution_count": 20,
   "id": "committed-material",
   "metadata": {},
   "outputs": [
    {
     "data": {
      "text/plain": [
       "False"
      ]
     },
     "execution_count": 20,
     "metadata": {},
     "output_type": "execute_result"
    }
   ],
   "source": [
    "'C141' in list(steroid_pos_only_no_knnx.obs['sample_id_broad'].unique())"
   ]
  },
  {
   "cell_type": "code",
   "execution_count": null,
   "id": "reduced-england",
   "metadata": {},
   "outputs": [],
   "source": []
  }
 ],
 "metadata": {
  "kernelspec": {
   "display_name": "Py_env2",
   "language": "python",
   "name": "py_env2"
  },
  "language_info": {
   "codemirror_mode": {
    "name": "ipython",
    "version": 3
   },
   "file_extension": ".py",
   "mimetype": "text/x-python",
   "name": "python",
   "nbconvert_exporter": "python",
   "pygments_lexer": "ipython3",
   "version": "3.8.13"
  }
 },
 "nbformat": 4,
 "nbformat_minor": 5
}
