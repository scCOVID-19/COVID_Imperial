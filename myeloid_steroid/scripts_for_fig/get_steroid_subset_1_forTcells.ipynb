{
 "cells": [
  {
   "cell_type": "code",
   "execution_count": 1,
   "id": "adjustable-mechanism",
   "metadata": {},
   "outputs": [
    {
     "name": "stdout",
     "output_type": "stream",
     "text": [
      "scanpy==1.9.1 anndata==0.8.0 umap==0.5.3 numpy==1.23.4 scipy==1.9.3 pandas==1.5.1 scikit-learn==1.1.3 statsmodels==0.13.5 python-igraph==0.10.2 pynndescent==0.5.8\n"
     ]
    }
   ],
   "source": [
    "import matplotlib.pyplot as plt\n",
    "import matplotlib.image as mpimg\n",
    "import scanpy as sc\n",
    "import numpy as np\n",
    "import pandas as pd\n",
    "from matplotlib.pyplot import rc_context\n",
    "import pandas as pd\n",
    "import matplotlib.pyplot as plt\n",
    "pd.set_option('display.max_rows', 200)\n",
    "#sc.logging.print_versions() \n",
    "sc.logging.print_header()\n",
    "sc.settings.verbosity = 3  \n",
    "sc.settings.set_figure_params(dpi=120, color_map='viridis')"
   ]
  },
  {
   "cell_type": "code",
   "execution_count": 2,
   "id": "express-reflection",
   "metadata": {},
   "outputs": [],
   "source": [
    "adata_gex=sc.read('/home/jovyan/data/covid_19_renal/renal_covid_19_gex.h5ad')"
   ]
  },
  {
   "cell_type": "code",
   "execution_count": 4,
   "id": "thrown-humanity",
   "metadata": {},
   "outputs": [],
   "source": [
    "tcell= pd.read_csv('/nfs/team205/ld21/renal/T_NK_compartment_annotation_updated.csv', index_col=0)"
   ]
  },
  {
   "cell_type": "code",
   "execution_count": 6,
   "id": "choice-footwear",
   "metadata": {},
   "outputs": [],
   "source": [
    "adata = adata_gex[(adata_gex.obs.index.isin(tcell.index))]"
   ]
  },
  {
   "cell_type": "code",
   "execution_count": 7,
   "id": "driven-suffering",
   "metadata": {},
   "outputs": [
    {
     "name": "stderr",
     "output_type": "stream",
     "text": [
      "/tmp/ipykernel_1517/501034239.py:1: ImplicitModificationWarning: Trying to modify attribute `.obs` of view, initializing view as actual.\n",
      "  adata.obs['final_anno']='uk'\n"
     ]
    }
   ],
   "source": [
    "adata.obs['final_anno']='uk'\n",
    "adata.obs['final_anno']=adata.obs['final_anno'].astype('object')"
   ]
  },
  {
   "cell_type": "code",
   "execution_count": 8,
   "id": "following-depression",
   "metadata": {},
   "outputs": [],
   "source": [
    "adata.obs['final_anno'].update(pd.Series(tcell['level_2'].astype('object')))"
   ]
  },
  {
   "cell_type": "code",
   "execution_count": 10,
   "id": "formal-interaction",
   "metadata": {},
   "outputs": [
    {
     "data": {
      "text/plain": [
       "array(['T reg', 'T CD4 Naive', 'T CD4 Helper', 'NK', 'doublets',\n",
       "       'T CD8 CTL', 'T CD4 CTL', 'NK CD56 bright', 'T CD8 Mem', 'NKT',\n",
       "       'T CD4 cycling', 'T CD8 Naive', 'MAIT', 'T g/d', 'T CD8 EMRA',\n",
       "       'ILC'], dtype=object)"
      ]
     },
     "execution_count": 10,
     "metadata": {},
     "output_type": "execute_result"
    }
   ],
   "source": [
    "adata.obs['final_anno'].unique()"
   ]
  },
  {
   "cell_type": "code",
   "execution_count": 11,
   "id": "written-lancaster",
   "metadata": {},
   "outputs": [],
   "source": [
    "adata=adata[~adata.obs['final_anno'].isin(['doublets'])]"
   ]
  },
  {
   "cell_type": "code",
   "execution_count": 12,
   "id": "surface-worthy",
   "metadata": {},
   "outputs": [
    {
     "data": {
      "text/plain": [
       "['T reg',\n",
       " 'T CD4 Naive',\n",
       " 'T CD4 Helper',\n",
       " 'NK',\n",
       " 'T CD8 CTL',\n",
       " 'T CD4 CTL',\n",
       " 'NK CD56 bright',\n",
       " 'T CD8 Mem',\n",
       " 'NKT',\n",
       " 'T CD4 cycling',\n",
       " 'T CD8 Naive',\n",
       " 'MAIT',\n",
       " 'T g/d',\n",
       " 'T CD8 EMRA',\n",
       " 'ILC']"
      ]
     },
     "execution_count": 12,
     "metadata": {},
     "output_type": "execute_result"
    }
   ],
   "source": [
    "list(adata.obs['final_anno'].unique())"
   ]
  },
  {
   "cell_type": "code",
   "execution_count": 14,
   "id": "satisfied-giving",
   "metadata": {},
   "outputs": [
    {
     "data": {
      "text/plain": [
       "True"
      ]
     },
     "execution_count": 14,
     "metadata": {},
     "output_type": "execute_result"
    }
   ],
   "source": [
    "'C139' in list(adata.obs['patient_id'].unique())"
   ]
  },
  {
   "cell_type": "code",
   "execution_count": 15,
   "id": "effective-weight",
   "metadata": {},
   "outputs": [
    {
     "data": {
      "text/plain": [
       "True"
      ]
     },
     "execution_count": 15,
     "metadata": {},
     "output_type": "execute_result"
    }
   ],
   "source": [
    "'C116' in list(adata.obs['patient_id'].unique())"
   ]
  },
  {
   "cell_type": "code",
   "execution_count": 16,
   "id": "celtic-mercy",
   "metadata": {},
   "outputs": [
    {
     "data": {
      "text/plain": [
       "True"
      ]
     },
     "execution_count": 16,
     "metadata": {},
     "output_type": "execute_result"
    }
   ],
   "source": [
    "'C141' in list(adata.obs['patient_id'].unique())"
   ]
  },
  {
   "cell_type": "code",
   "execution_count": 18,
   "id": "irish-employee",
   "metadata": {},
   "outputs": [],
   "source": [
    "#remove C141 from the samples\n",
    "adata = adata[~adata.obs['patient_id'].isin(['C141','C139','C116'])]"
   ]
  },
  {
   "cell_type": "code",
   "execution_count": 20,
   "id": "engaging-liquid",
   "metadata": {},
   "outputs": [
    {
     "data": {
      "text/plain": [
       "False"
      ]
     },
     "execution_count": 20,
     "metadata": {},
     "output_type": "execute_result"
    }
   ],
   "source": [
    "'C141' in list(adata.obs['patient_id'].unique())"
   ]
  },
  {
   "cell_type": "code",
   "execution_count": 21,
   "id": "likely-strengthening",
   "metadata": {},
   "outputs": [
    {
     "data": {
      "text/plain": [
       "False"
      ]
     },
     "execution_count": 21,
     "metadata": {},
     "output_type": "execute_result"
    }
   ],
   "source": [
    "'C139' in list(adata.obs['patient_id'].unique())"
   ]
  },
  {
   "cell_type": "code",
   "execution_count": 22,
   "id": "developing-bangladesh",
   "metadata": {},
   "outputs": [
    {
     "data": {
      "text/plain": [
       "False"
      ]
     },
     "execution_count": 22,
     "metadata": {},
     "output_type": "execute_result"
    }
   ],
   "source": [
    "'C116' in list(adata.obs['patient_id'].unique())"
   ]
  },
  {
   "cell_type": "code",
   "execution_count": null,
   "id": "assisted-injection",
   "metadata": {},
   "outputs": [],
   "source": [
    "#get monocyte only\n",
    "#monocyte = adata[adata.obs['annot4'].isin(['CD14mono_activated','CD16mono','CD14mono','Int.mono','CD16mono_C1','CD16mono_IFN','CD14mono_IFN','CD14mono_anti_inflammatory'])]"
   ]
  },
  {
   "cell_type": "code",
   "execution_count": 23,
   "id": "tracked-comparison",
   "metadata": {},
   "outputs": [],
   "source": [
    "# get all - not only monocyte\n",
    "monocyte = adata[:]"
   ]
  },
  {
   "cell_type": "code",
   "execution_count": 24,
   "id": "greatest-edinburgh",
   "metadata": {},
   "outputs": [
    {
     "data": {
      "text/plain": [
       "['T reg',\n",
       " 'T CD4 Naive',\n",
       " 'NK',\n",
       " 'T CD4 Helper',\n",
       " 'T CD8 CTL',\n",
       " 'T CD4 CTL',\n",
       " 'NK CD56 bright',\n",
       " 'T CD4 cycling',\n",
       " 'T CD8 Naive',\n",
       " 'MAIT',\n",
       " 'T g/d',\n",
       " 'NKT',\n",
       " 'T CD8 Mem',\n",
       " 'T CD8 EMRA',\n",
       " 'ILC']"
      ]
     },
     "execution_count": 24,
     "metadata": {},
     "output_type": "execute_result"
    }
   ],
   "source": [
    "list(monocyte.obs['final_anno'].unique())"
   ]
  },
  {
   "cell_type": "code",
   "execution_count": 25,
   "id": "valid-membrane",
   "metadata": {},
   "outputs": [
    {
     "data": {
      "text/plain": [
       "['NEGATIVE', 'POSITIVE', 'NA', 'RECOVERY']"
      ]
     },
     "execution_count": 25,
     "metadata": {},
     "output_type": "execute_result"
    }
   ],
   "source": [
    "list(monocyte.obs['case_control'].unique())"
   ]
  },
  {
   "cell_type": "code",
   "execution_count": 28,
   "id": "vanilla-ready",
   "metadata": {},
   "outputs": [],
   "source": [
    "#remove 'nan' from case_control\n",
    "monocyte = monocyte[monocyte.obs['case_control']!='NA']"
   ]
  },
  {
   "cell_type": "code",
   "execution_count": 29,
   "id": "compound-maine",
   "metadata": {},
   "outputs": [
    {
     "data": {
      "text/plain": [
       "['NEGATIVE', 'POSITIVE', 'RECOVERY']"
      ]
     },
     "execution_count": 29,
     "metadata": {},
     "output_type": "execute_result"
    }
   ],
   "source": [
    "list(monocyte.obs['case_control'].unique())"
   ]
  },
  {
   "cell_type": "code",
   "execution_count": 30,
   "id": "danish-blame",
   "metadata": {},
   "outputs": [
    {
     "name": "stderr",
     "output_type": "stream",
     "text": [
      "/tmp/ipykernel_1517/279369363.py:3: ImplicitModificationWarning: Trying to modify attribute `.obs` of view, initializing view as actual.\n",
      "  monocyte.obs['wave_case_control']='nan'\n"
     ]
    }
   ],
   "source": [
    "#getting p,n,r in wave 1 and wave 2\n",
    "\n",
    "monocyte.obs['wave_case_control']='nan'\n",
    "monocyte.obs.loc[(monocyte.obs[\"centre\"]=='NCL') &(monocyte.obs[\"case_control\"]=='POSITIVE'), \"wave_case_control\"] = 'wave1_positive'\n",
    "monocyte.obs.loc[(monocyte.obs[\"centre\"]=='NCL') &(monocyte.obs[\"case_control\"]=='NEGATIVE'), \"wave_case_control\"] = 'wave1_negative'\n",
    "monocyte.obs.loc[(monocyte.obs[\"centre\"]=='NCL') &(monocyte.obs[\"case_control\"]=='RECOVERY'), \"wave_case_control\"] = 'wave1_recovery'\n",
    "\n",
    "monocyte.obs.loc[(monocyte.obs[\"centre\"]=='Cambridge') &(monocyte.obs[\"case_control\"]=='POSITIVE'), \"wave_case_control\"] = 'wave2_positive'\n",
    "monocyte.obs.loc[(monocyte.obs[\"centre\"]=='Cambridge') &(monocyte.obs[\"case_control\"]=='NEGATIVE'), \"wave_case_control\"] = 'wave2_negative'\n",
    "monocyte.obs.loc[(monocyte.obs[\"centre\"]=='Cambridge') &(monocyte.obs[\"case_control\"]=='RECOVERY'), \"wave_case_control\"] = 'wave2_recovery'"
   ]
  },
  {
   "cell_type": "code",
   "execution_count": 31,
   "id": "compatible-column",
   "metadata": {},
   "outputs": [
    {
     "data": {
      "text/plain": [
       "['wave1_negative',\n",
       " 'wave1_positive',\n",
       " 'wave2_positive',\n",
       " 'wave2_negative',\n",
       " 'wave2_recovery']"
      ]
     },
     "execution_count": 31,
     "metadata": {},
     "output_type": "execute_result"
    }
   ],
   "source": [
    "list(monocyte.obs['wave_case_control'].unique()) #wave 1 doesn't have recovery samples"
   ]
  },
  {
   "cell_type": "code",
   "execution_count": 32,
   "id": "fixed-bronze",
   "metadata": {},
   "outputs": [
    {
     "name": "stdout",
     "output_type": "stream",
     "text": [
      "['RECOVERY']\n",
      "['Cambridge']\n",
      "['11/03/2021', '25/02/2021', '04/03/2021', '09/03/2021', '10/03/2021']\n"
     ]
    }
   ],
   "source": [
    "test = monocyte[monocyte.obs['wave_case_control']=='wave2_recovery']\n",
    "print (list(test.obs['case_control'].unique()))\n",
    "print (list(test.obs['centre'].unique()))\n",
    "print (list(test.obs['sample_date'].unique()))"
   ]
  },
  {
   "cell_type": "code",
   "execution_count": 33,
   "id": "fossil-problem",
   "metadata": {},
   "outputs": [
    {
     "data": {
      "text/html": [
       "<div>\n",
       "<style scoped>\n",
       "    .dataframe tbody tr th:only-of-type {\n",
       "        vertical-align: middle;\n",
       "    }\n",
       "\n",
       "    .dataframe tbody tr th {\n",
       "        vertical-align: top;\n",
       "    }\n",
       "\n",
       "    .dataframe thead th {\n",
       "        text-align: right;\n",
       "    }\n",
       "</style>\n",
       "<table border=\"1\" class=\"dataframe\">\n",
       "  <thead>\n",
       "    <tr style=\"text-align: right;\">\n",
       "      <th>final_anno</th>\n",
       "      <th>ILC</th>\n",
       "      <th>MAIT</th>\n",
       "      <th>NK</th>\n",
       "      <th>NK CD56 bright</th>\n",
       "      <th>NKT</th>\n",
       "      <th>T CD4 CTL</th>\n",
       "      <th>T CD4 Helper</th>\n",
       "      <th>T CD4 Naive</th>\n",
       "      <th>T CD4 cycling</th>\n",
       "      <th>T CD8 CTL</th>\n",
       "      <th>T CD8 EMRA</th>\n",
       "      <th>T CD8 Mem</th>\n",
       "      <th>T CD8 Naive</th>\n",
       "      <th>T g/d</th>\n",
       "      <th>T reg</th>\n",
       "    </tr>\n",
       "    <tr>\n",
       "      <th>wave_case_control</th>\n",
       "      <th></th>\n",
       "      <th></th>\n",
       "      <th></th>\n",
       "      <th></th>\n",
       "      <th></th>\n",
       "      <th></th>\n",
       "      <th></th>\n",
       "      <th></th>\n",
       "      <th></th>\n",
       "      <th></th>\n",
       "      <th></th>\n",
       "      <th></th>\n",
       "      <th></th>\n",
       "      <th></th>\n",
       "      <th></th>\n",
       "    </tr>\n",
       "  </thead>\n",
       "  <tbody>\n",
       "    <tr>\n",
       "      <th>wave1_negative</th>\n",
       "      <td>41</td>\n",
       "      <td>638</td>\n",
       "      <td>17338</td>\n",
       "      <td>1497</td>\n",
       "      <td>1252</td>\n",
       "      <td>4809</td>\n",
       "      <td>24351</td>\n",
       "      <td>12985</td>\n",
       "      <td>61</td>\n",
       "      <td>19981</td>\n",
       "      <td>220</td>\n",
       "      <td>6624</td>\n",
       "      <td>4912</td>\n",
       "      <td>1183</td>\n",
       "      <td>3090</td>\n",
       "    </tr>\n",
       "    <tr>\n",
       "      <th>wave1_positive</th>\n",
       "      <td>56</td>\n",
       "      <td>979</td>\n",
       "      <td>26524</td>\n",
       "      <td>2947</td>\n",
       "      <td>1452</td>\n",
       "      <td>5273</td>\n",
       "      <td>58529</td>\n",
       "      <td>41168</td>\n",
       "      <td>432</td>\n",
       "      <td>20783</td>\n",
       "      <td>115</td>\n",
       "      <td>7256</td>\n",
       "      <td>11534</td>\n",
       "      <td>1655</td>\n",
       "      <td>6886</td>\n",
       "    </tr>\n",
       "    <tr>\n",
       "      <th>wave2_negative</th>\n",
       "      <td>12</td>\n",
       "      <td>107</td>\n",
       "      <td>3758</td>\n",
       "      <td>736</td>\n",
       "      <td>224</td>\n",
       "      <td>1406</td>\n",
       "      <td>1886</td>\n",
       "      <td>816</td>\n",
       "      <td>0</td>\n",
       "      <td>4169</td>\n",
       "      <td>6</td>\n",
       "      <td>1622</td>\n",
       "      <td>498</td>\n",
       "      <td>260</td>\n",
       "      <td>45</td>\n",
       "    </tr>\n",
       "    <tr>\n",
       "      <th>wave2_positive</th>\n",
       "      <td>49</td>\n",
       "      <td>239</td>\n",
       "      <td>28865</td>\n",
       "      <td>3245</td>\n",
       "      <td>1695</td>\n",
       "      <td>5338</td>\n",
       "      <td>5370</td>\n",
       "      <td>2277</td>\n",
       "      <td>1</td>\n",
       "      <td>22656</td>\n",
       "      <td>52</td>\n",
       "      <td>4836</td>\n",
       "      <td>1108</td>\n",
       "      <td>781</td>\n",
       "      <td>195</td>\n",
       "    </tr>\n",
       "    <tr>\n",
       "      <th>wave2_recovery</th>\n",
       "      <td>5</td>\n",
       "      <td>116</td>\n",
       "      <td>5949</td>\n",
       "      <td>762</td>\n",
       "      <td>365</td>\n",
       "      <td>1507</td>\n",
       "      <td>2620</td>\n",
       "      <td>922</td>\n",
       "      <td>2</td>\n",
       "      <td>6032</td>\n",
       "      <td>15</td>\n",
       "      <td>2555</td>\n",
       "      <td>712</td>\n",
       "      <td>256</td>\n",
       "      <td>128</td>\n",
       "    </tr>\n",
       "  </tbody>\n",
       "</table>\n",
       "</div>"
      ],
      "text/plain": [
       "final_anno         ILC  MAIT     NK  NK CD56 bright   NKT  T CD4 CTL  \\\n",
       "wave_case_control                                                      \n",
       "wave1_negative      41   638  17338            1497  1252       4809   \n",
       "wave1_positive      56   979  26524            2947  1452       5273   \n",
       "wave2_negative      12   107   3758             736   224       1406   \n",
       "wave2_positive      49   239  28865            3245  1695       5338   \n",
       "wave2_recovery       5   116   5949             762   365       1507   \n",
       "\n",
       "final_anno         T CD4 Helper  T CD4 Naive  T CD4 cycling  T CD8 CTL  \\\n",
       "wave_case_control                                                        \n",
       "wave1_negative            24351        12985             61      19981   \n",
       "wave1_positive            58529        41168            432      20783   \n",
       "wave2_negative             1886          816              0       4169   \n",
       "wave2_positive             5370         2277              1      22656   \n",
       "wave2_recovery             2620          922              2       6032   \n",
       "\n",
       "final_anno         T CD8 EMRA  T CD8 Mem  T CD8 Naive  T g/d  T reg  \n",
       "wave_case_control                                                    \n",
       "wave1_negative            220       6624         4912   1183   3090  \n",
       "wave1_positive            115       7256        11534   1655   6886  \n",
       "wave2_negative              6       1622          498    260     45  \n",
       "wave2_positive             52       4836         1108    781    195  \n",
       "wave2_recovery             15       2555          712    256    128  "
      ]
     },
     "execution_count": 33,
     "metadata": {},
     "output_type": "execute_result"
    }
   ],
   "source": [
    "df = pd.crosstab(monocyte.obs['wave_case_control'],monocyte.obs['final_anno'])\n",
    "df"
   ]
  },
  {
   "cell_type": "code",
   "execution_count": null,
   "id": "frank-tract",
   "metadata": {},
   "outputs": [],
   "source": [
    "#df.columns = df.columns.add_categories(['wave_case_control'])\n",
    "df['wave_case_control'] = df.index # making index into column\n",
    "df"
   ]
  },
  {
   "cell_type": "code",
   "execution_count": null,
   "id": "trained-butler",
   "metadata": {},
   "outputs": [],
   "source": [
    "p1=df.plot(x='wave_case_control', kind='bar', stacked=True,\n",
    "        title='distribution of monocytes in Wave 1 and Wave 2')\n",
    "p1.set_ylabel(\"num of cells\")\n",
    "p1.set_xlabel(\" \")\n",
    "plt.grid(False)\n",
    "plt.legend(loc='center left', bbox_to_anchor=(1, 0.5))\n",
    "for p in p1.patches:\n",
    "        width, height = p.get_width(), p.get_height()\n",
    "        x, y = p.get_xy() \n",
    "        p1.text(x+width/2, \n",
    "            y+height/2, \n",
    "            '{:.0f}'.format(height), \n",
    "            horizontalalignment='center', \n",
    "            verticalalignment='center',rotation=0,size=7)  "
   ]
  },
  {
   "cell_type": "code",
   "execution_count": null,
   "id": "contemporary-safety",
   "metadata": {},
   "outputs": [],
   "source": [
    "#getting percentage\n",
    "cols = list(df.columns)\n",
    "cols = cols[:-1]\n",
    "df[cols] = df[cols].div(df[cols].sum(axis=1), axis=0).multiply(100)"
   ]
  },
  {
   "cell_type": "code",
   "execution_count": null,
   "id": "classical-malawi",
   "metadata": {},
   "outputs": [],
   "source": [
    "df"
   ]
  },
  {
   "cell_type": "code",
   "execution_count": null,
   "id": "spectacular-opera",
   "metadata": {},
   "outputs": [],
   "source": [
    "df.sum(axis=1)"
   ]
  },
  {
   "cell_type": "code",
   "execution_count": null,
   "id": "awful-preference",
   "metadata": {},
   "outputs": [],
   "source": [
    "monocyte.obs['wave_case_control'].value_counts()"
   ]
  },
  {
   "cell_type": "code",
   "execution_count": null,
   "id": "subjective-ozone",
   "metadata": {},
   "outputs": [],
   "source": [
    "p2 = df.plot(x='wave_case_control', kind='bar', stacked=True,\n",
    "        title='distribution of monocytes in Wave1 and Wave2',figsize=(5,5))\n",
    "p2.set_ylabel('percentage')\n",
    "p2.set_xlabel('')\n",
    "plt.grid(False)\n",
    "plt.legend(loc='center left', bbox_to_anchor=(1, 0.5))\n",
    "for p in p2.patches:\n",
    "        width, height = p.get_width(), p.get_height()\n",
    "        x, y = p.get_xy() \n",
    "        p2.text(x+width/2, \n",
    "            y+height/2, \n",
    "            '{:.1f}'.format(height), \n",
    "            horizontalalignment='center', \n",
    "            verticalalignment='center',rotation=0,size=7)  \n",
    "\n",
    "\n",
    "\n",
    "\n",
    "p2.text(-0.2,101,'23749',fontsize=9)\n",
    "p2.text(0.8,101,'22846',fontsize=9)\n",
    "p2.text(1.8,101,'5364',fontsize=9)\n",
    "p2.text(2.8,101,'34215',fontsize=9)\n",
    "p2.text(3.8,101,'6008',fontsize=9)"
   ]
  },
  {
   "cell_type": "markdown",
   "id": "expanded-bahamas",
   "metadata": {},
   "source": [
    "# Getting wave 2 only "
   ]
  },
  {
   "cell_type": "code",
   "execution_count": 34,
   "id": "surgical-passenger",
   "metadata": {},
   "outputs": [],
   "source": [
    "monocyte_wave1 = monocyte[monocyte.obs['centre']=='NCL']\n",
    "monocyte_wave2 = monocyte[monocyte.obs['centre']=='Cambridge']"
   ]
  },
  {
   "cell_type": "code",
   "execution_count": 35,
   "id": "raising-shipping",
   "metadata": {},
   "outputs": [
    {
     "data": {
      "text/plain": [
       "['POSITIVE', 'NEGATIVE', 'RECOVERY']\n",
       "Categories (3, object): ['NEGATIVE', 'POSITIVE', 'RECOVERY']"
      ]
     },
     "execution_count": 35,
     "metadata": {},
     "output_type": "execute_result"
    }
   ],
   "source": [
    "monocyte_wave2.obs['case_control'].unique()"
   ]
  },
  {
   "cell_type": "code",
   "execution_count": 37,
   "id": "gentle-polish",
   "metadata": {},
   "outputs": [],
   "source": [
    "# adding steroid status and case_control conditions\n",
    "\n",
    "monocyte_wave2.obs['steroid_status']='nan'\n",
    "\n",
    "monocyte_wave2.obs.loc[(monocyte_wave2.obs[\"patient_id\"].isin(['C146',\n",
    "'C139',\n",
    "'C147',\n",
    "'C145',\n",
    "'C138',\n",
    "'C33',\n",
    "'C101',\n",
    "'C141'])) &(monocyte_wave2.obs['case_control']=='POSITIVE'), \"steroid_status\"] = 'steroid_positive'\n",
    "\n",
    "monocyte_wave2.obs.loc[(monocyte_wave2.obs[\"patient_id\"].isin(['C146',\n",
    "'C139',\n",
    "'C147',\n",
    "'C145',\n",
    "'C138',\n",
    "'C33',\n",
    "'C101',\n",
    "'C141'])) &(monocyte_wave2.obs['case_control']=='NEGATIVE'), \"steroid_status\"] = 'steroid_negative'\n",
    "\n",
    "monocyte_wave2.obs.loc[(monocyte_wave2.obs[\"patient_id\"].isin(['C146',\n",
    "'C139',\n",
    "'C147',\n",
    "'C145',\n",
    "'C138',\n",
    "'C33',\n",
    "'C101',\n",
    "'C141'])) &(monocyte_wave2.obs['case_control']=='RECOVERY'), \"steroid_status\"] = 'steroid_recovery'\n",
    "\n",
    "#####################\n",
    "\n",
    "monocyte_wave2.obs.loc[(monocyte_wave2.obs[\"patient_id\"].isin(['C169',\n",
    "'C170',\n",
    "'C168',\n",
    "'C108',\n",
    "'C58',\n",
    "'C140',\n",
    "'C137',\n",
    "'C187',\n",
    "'C190']))&(monocyte_wave2.obs['case_control']=='POSITIVE'), \"steroid_status\"] = 'no_steroid_positive'\n",
    "\n",
    "monocyte_wave2.obs.loc[(monocyte_wave2.obs[\"patient_id\"].isin(['C169',\n",
    "'C170',\n",
    "'C168',\n",
    "'C108',\n",
    "'C58',\n",
    "'C140',\n",
    "'C137',\n",
    "'C187',\n",
    "'C190']))&(monocyte_wave2.obs['case_control']=='NEGATIVE'), \"steroid_status\"] = 'no_steroid_negative'\n",
    "\n",
    "\n",
    "monocyte_wave2.obs.loc[(monocyte_wave2.obs[\"patient_id\"].isin(['C169',\n",
    "'C170',\n",
    "'C168',\n",
    "'C108',\n",
    "'C58',\n",
    "'C140',\n",
    "'C137',\n",
    "'C187',\n",
    "'C190']))&(monocyte_wave2.obs['case_control']=='RECOVERY'), \"steroid_status\"] = 'no_steroid_recovery'\n",
    "\n"
   ]
  },
  {
   "cell_type": "code",
   "execution_count": 38,
   "id": "reliable-routine",
   "metadata": {},
   "outputs": [
    {
     "data": {
      "text/plain": [
       "['no_steroid_positive',\n",
       " 'no_steroid_negative',\n",
       " 'steroid_positive',\n",
       " 'no_steroid_recovery',\n",
       " 'steroid_recovery',\n",
       " 'steroid_negative']"
      ]
     },
     "execution_count": 38,
     "metadata": {},
     "output_type": "execute_result"
    }
   ],
   "source": [
    "list(monocyte_wave2.obs['steroid_status'].unique())"
   ]
  },
  {
   "cell_type": "code",
   "execution_count": 39,
   "id": "legitimate-truck",
   "metadata": {},
   "outputs": [
    {
     "name": "stdout",
     "output_type": "stream",
     "text": [
      "['28/01/2021', '22/01/2021', '16/04/2020', '06/01/2021', '04/02/2021', '02/02/2021', '15/01/2021', '30/01/2021', '11/03/2021', '25/02/2021', '23/01/2021', '22/04/2020', '30/04/2020', '19/01/2021', '27/01/2021', '09/02/2021', '04/03/2021', '12/01/2021', '07/01/2021', '26/01/2021', '20/01/2021', '14/01/2021', '16/01/2021', '09/03/2021', '29/01/2021', '10/02/2021', '12/05/2020', '10/03/2021', '03/02/2021', '11/01/2021', '18/01/2021', '08/02/2021', '01/02/2021', '05/02/2021', '25/01/2021', '26/05/2020', '13/01/2021', '06/02/2021']\n"
     ]
    }
   ],
   "source": [
    "print (list(monocyte_wave2.obs['sample_date'].unique()))"
   ]
  },
  {
   "cell_type": "code",
   "execution_count": 40,
   "id": "cathedral-david",
   "metadata": {},
   "outputs": [
    {
     "name": "stdout",
     "output_type": "stream",
     "text": [
      "['NEGATIVE']\n",
      "Categories (1, object): ['NEGATIVE']\n",
      "['16/04/2020', '22/04/2020', '30/04/2020', '12/05/2020', '26/05/2020']\n",
      "Categories (5, object): ['12/05/2020', '16/04/2020', '22/04/2020', '26/05/2020', '30/04/2020']\n"
     ]
    }
   ],
   "source": [
    "test = monocyte_wave2[monocyte_wave2.obs['steroid_status']=='no_steroid_negative']\n",
    "print (test.obs['case_control'].unique())\n",
    "print (test.obs['sample_date'].unique())"
   ]
  },
  {
   "cell_type": "code",
   "execution_count": null,
   "id": "careful-grain",
   "metadata": {},
   "outputs": [],
   "source": [
    "test = monocyte_wave2[monocyte_wave2.obs['steroid_status']=='steroid_recovery']\n",
    "print (test.obs['case_control'].unique())\n",
    "print (test.obs['sample_date'].unique())\n",
    "print(test.obs['sample_id_broad'].unique())"
   ]
  },
  {
   "cell_type": "code",
   "execution_count": null,
   "id": "macro-proposal",
   "metadata": {},
   "outputs": [],
   "source": [
    "df = pd.crosstab(monocyte_wave2.obs['steroid_status'],monocyte_wave2.obs['annot4'])\n",
    "df"
   ]
  },
  {
   "cell_type": "code",
   "execution_count": null,
   "id": "selected-saint",
   "metadata": {},
   "outputs": [],
   "source": [
    "#df.columns = df.columns.add_categories(['steroid_status'])\n",
    "df['steroid_status'] = df.index # making index into column\n",
    "df"
   ]
  },
  {
   "cell_type": "code",
   "execution_count": null,
   "id": "attended-hungarian",
   "metadata": {},
   "outputs": [],
   "source": [
    "p1=df.plot(x='steroid_status', kind='bar', stacked=True,\n",
    "        title='distribution of monocytes in different steroid status')\n",
    "p1.set_xlabel('')\n",
    "p1.set_ylabel('number of cells')\n",
    "\n",
    "plt.grid(False)\n",
    "plt.legend(loc='center left', bbox_to_anchor=(1, 0.5))\n",
    "for p in p1.patches:\n",
    "        width, height = p.get_width(), p.get_height()\n",
    "        x, y = p.get_xy() \n",
    "        p1.text(x+width/2, \n",
    "            y+height/2, \n",
    "            '{:.0f}'.format(height), \n",
    "            horizontalalignment='center', \n",
    "            verticalalignment='center',rotation=0,size=7)  "
   ]
  },
  {
   "cell_type": "code",
   "execution_count": null,
   "id": "mental-payroll",
   "metadata": {},
   "outputs": [],
   "source": [
    "cols = list(df.columns)\n",
    "cols = cols[:-1]\n",
    "df[cols] = df[cols].div(df[cols].sum(axis=1), axis=0).multiply(100)"
   ]
  },
  {
   "cell_type": "code",
   "execution_count": null,
   "id": "regional-angle",
   "metadata": {},
   "outputs": [],
   "source": [
    "df.sum(axis=1)"
   ]
  },
  {
   "cell_type": "code",
   "execution_count": null,
   "id": "modified-connecticut",
   "metadata": {},
   "outputs": [],
   "source": [
    "monocyte_wave2.obs['steroid_status'].value_counts()"
   ]
  },
  {
   "cell_type": "code",
   "execution_count": null,
   "id": "czech-martial",
   "metadata": {},
   "outputs": [],
   "source": [
    "p2 = df.plot(x='steroid_status', kind='bar', stacked=True,\n",
    "        title='distribution of monocytes in different steroid status',figsize=(5,5))\n",
    "plt.grid(False)\n",
    "plt.legend(loc='center left', bbox_to_anchor=(1, 0.5))\n",
    "p2.set_xlabel('')\n",
    "p2.set_ylabel('percentage')\n",
    "for p in p2.patches:\n",
    "        width, height = p.get_width(), p.get_height()\n",
    "        x, y = p.get_xy() \n",
    "        p2.text(x+width/2, \n",
    "            y+height/2, \n",
    "            '{:.1f}'.format(height), \n",
    "            horizontalalignment='center', \n",
    "            verticalalignment='center',rotation=0,size=7)  \n",
    "\n",
    "\n",
    "p2.text(-0.2,101,'4107',fontsize=9)\n",
    "p2.text(0.8,101,'21413',fontsize=9)\n",
    "p2.text(1.8,101,'5033',fontsize=9)\n",
    "p2.text(2.8,101,'1257',fontsize=9)\n",
    "p2.text(3.8,101,'12802',fontsize=9)\n",
    "p2.text(4.8,101,'975',fontsize=9)"
   ]
  },
  {
   "cell_type": "markdown",
   "id": "adequate-leave",
   "metadata": {},
   "source": [
    "# steroid only"
   ]
  },
  {
   "cell_type": "code",
   "execution_count": 42,
   "id": "computational-scene",
   "metadata": {},
   "outputs": [],
   "source": [
    "# to get sub-samples who got steroid \n",
    "steroid = monocyte_wave2[monocyte_wave2.obs['patient_id'].isin(['C146',\n",
    "'C139',\n",
    "'C147',\n",
    "'C145',\n",
    "'C138',\n",
    "'C33',\n",
    "'C101',\n",
    "'C141'])]\n",
    "\n",
    "\n",
    "no_steroid = monocyte_wave2[monocyte_wave2.obs['patient_id'].isin(['C169',\n",
    "'C170',\n",
    "'C168',\n",
    "'C108',\n",
    "'C58',\n",
    "'C140',\n",
    "'C137',\n",
    "'C187',\n",
    "'C190'])]\n"
   ]
  },
  {
   "cell_type": "code",
   "execution_count": 43,
   "id": "hidden-shooting",
   "metadata": {},
   "outputs": [
    {
     "data": {
      "text/plain": [
       "['POSITIVE', 'RECOVERY', 'NEGATIVE']"
      ]
     },
     "execution_count": 43,
     "metadata": {},
     "output_type": "execute_result"
    }
   ],
   "source": [
    "(list(steroid.obs['case_control'].unique()))"
   ]
  },
  {
   "cell_type": "code",
   "execution_count": 45,
   "id": "opposite-fitting",
   "metadata": {},
   "outputs": [
    {
     "data": {
      "text/plain": [
       "['C101', 'C138', 'C145', 'C146', 'C147', 'C33']"
      ]
     },
     "execution_count": 45,
     "metadata": {},
     "output_type": "execute_result"
    }
   ],
   "source": [
    "(list(steroid.obs['patient_id'].unique()))"
   ]
  },
  {
   "cell_type": "code",
   "execution_count": 46,
   "id": "operating-georgia",
   "metadata": {},
   "outputs": [
    {
     "data": {
      "text/plain": [
       "['21/01/2021', '03/02/2021', '25/01/2021', '26/01/2021', 'NA', '03/06/2021', '11/02/2021']\n",
       "Categories (7, object): ['03/02/2021', '03/06/2021', '11/02/2021', '21/01/2021', '25/01/2021', '26/01/2021', 'NA']"
      ]
     },
     "execution_count": 46,
     "metadata": {},
     "output_type": "execute_result"
    }
   ],
   "source": [
    "steroid.obs['discharge_date'].unique()"
   ]
  },
  {
   "cell_type": "code",
   "execution_count": 47,
   "id": "comprehensive-dutch",
   "metadata": {},
   "outputs": [
    {
     "name": "stderr",
     "output_type": "stream",
     "text": [
      "/tmp/ipykernel_1517/590398472.py:2: ImplicitModificationWarning: Trying to modify attribute `.obs` of view, initializing view as actual.\n",
      "  steroid.obs['discharge_date'] = steroid.obs['discharge_date'].astype('str')\n"
     ]
    }
   ],
   "source": [
    "#correction ##########\n",
    "steroid.obs['discharge_date'] = steroid.obs['discharge_date'].astype('str')\n",
    "steroid.obs.loc[steroid.obs[\"patient_id\"] == \"C65\", \"discharge_date\"] = '10/06/2020'\n",
    "steroid.obs['discharge_date'] = steroid.obs['discharge_date'].astype('category')"
   ]
  },
  {
   "cell_type": "code",
   "execution_count": 48,
   "id": "upset-grove",
   "metadata": {},
   "outputs": [],
   "source": [
    "tmp = steroid.copy()\n",
    "tmp.obs['sample_date'] = tmp.obs['sample_date'].astype('object')\n",
    "tmp.obs['date_first_symptoms'] = tmp.obs['date_first_symptoms'].astype('object')\n",
    "tmp.obs['date_positive_swab'] = tmp.obs['date_positive_swab'].astype('object')\n",
    "\n"
   ]
  },
  {
   "cell_type": "code",
   "execution_count": 49,
   "id": "streaming-fabric",
   "metadata": {},
   "outputs": [
    {
     "data": {
      "text/plain": [
       "array(['02/01/2021', '16/01/2021', '05/01/2021', '09/01/2021', 'NA',\n",
       "       '12/01/2021'], dtype=object)"
      ]
     },
     "execution_count": 49,
     "metadata": {},
     "output_type": "execute_result"
    }
   ],
   "source": [
    "tmp.obs['date_positive_swab'].unique()"
   ]
  },
  {
   "cell_type": "code",
   "execution_count": 50,
   "id": "lucky-sunday",
   "metadata": {},
   "outputs": [],
   "source": [
    "tmp.obs['date_first_symptoms'].replace({'NA':np.nan}, inplace = True)\n",
    "tmp.obs['date_positive_swab'].replace({'NA':np.nan}, inplace = True)"
   ]
  },
  {
   "cell_type": "code",
   "execution_count": 51,
   "id": "experimental-pleasure",
   "metadata": {},
   "outputs": [
    {
     "data": {
      "text/plain": [
       "array(['06/01/2021', '21/01/2021', '05/01/2021', nan, '14/01/2021'],\n",
       "      dtype=object)"
      ]
     },
     "execution_count": 51,
     "metadata": {},
     "output_type": "execute_result"
    }
   ],
   "source": [
    "tmp.obs['date_first_symptoms'].unique()"
   ]
  },
  {
   "cell_type": "code",
   "execution_count": 52,
   "id": "moderate-tactics",
   "metadata": {},
   "outputs": [],
   "source": [
    "time_from_first_symptoms = pd.to_datetime(tmp.obs['sample_date'], format='%d/%m/%Y') - pd.to_datetime(tmp.obs['date_first_symptoms'], format='%d/%m/%Y')\n",
    "time_from_positive_swab = pd.to_datetime(tmp.obs['sample_date'], format='%d/%m/%Y') - pd.to_datetime(tmp.obs['date_positive_swab'], format='%d/%m/%Y')"
   ]
  },
  {
   "cell_type": "code",
   "execution_count": 53,
   "id": "surgical-fault",
   "metadata": {},
   "outputs": [
    {
     "data": {
      "text/plain": [
       "array([ 345600000000000, 1641600000000000, 1468800000000000,\n",
       "       1555200000000000, 1209600000000000, 4060800000000000,\n",
       "        604800000000000,            'NaT', 1382400000000000,\n",
       "        259200000000000,  172800000000000,  777600000000000,\n",
       "        864000000000000,  950400000000000, 4665600000000000,\n",
       "       1036800000000000,  432000000000000], dtype='timedelta64[ns]')"
      ]
     },
     "execution_count": 53,
     "metadata": {},
     "output_type": "execute_result"
    }
   ],
   "source": [
    "time_from_positive_swab.unique()"
   ]
  },
  {
   "cell_type": "code",
   "execution_count": 54,
   "id": "modified-plenty",
   "metadata": {},
   "outputs": [],
   "source": [
    "days_from_first_symptoms = time_from_first_symptoms.dt.days\n",
    "days_from_positive_swab = time_from_positive_swab.dt.days"
   ]
  },
  {
   "cell_type": "code",
   "execution_count": 55,
   "id": "accurate-compromise",
   "metadata": {},
   "outputs": [
    {
     "data": {
      "text/plain": [
       "array([ 4., 19., 17., 18., 14., 47.,  7., nan, 16.,  3.,  2.,  9., 10.,\n",
       "       11., 54., 12.,  5.])"
      ]
     },
     "execution_count": 55,
     "metadata": {},
     "output_type": "execute_result"
    }
   ],
   "source": [
    "days_from_positive_swab.unique()"
   ]
  },
  {
   "cell_type": "code",
   "execution_count": 56,
   "id": "assured-professor",
   "metadata": {},
   "outputs": [
    {
     "name": "stderr",
     "output_type": "stream",
     "text": [
      "/tmp/ipykernel_1517/315576265.py:1: SettingWithCopyWarning: modifications to a property of a datetimelike object are not supported and are discarded. Change values on the original.\n",
      "  days_from_first_symptoms.fillna(0, inplace = True)\n",
      "/tmp/ipykernel_1517/315576265.py:2: SettingWithCopyWarning: modifications to a property of a datetimelike object are not supported and are discarded. Change values on the original.\n",
      "  days_from_positive_swab.fillna(0, inplace = True)\n"
     ]
    }
   ],
   "source": [
    "days_from_first_symptoms.fillna(0, inplace = True)\n",
    "days_from_positive_swab.fillna(0, inplace = True)"
   ]
  },
  {
   "cell_type": "code",
   "execution_count": 57,
   "id": "higher-virginia",
   "metadata": {},
   "outputs": [
    {
     "data": {
      "text/plain": [
       "array([ 4., 19., 17., 18., 14., 47.,  7.,  0., 16.,  3.,  2.,  9., 10.,\n",
       "       11., 54., 12.,  5.])"
      ]
     },
     "execution_count": 57,
     "metadata": {},
     "output_type": "execute_result"
    }
   ],
   "source": [
    "days_from_positive_swab.unique()"
   ]
  },
  {
   "cell_type": "code",
   "execution_count": 58,
   "id": "efficient-maintenance",
   "metadata": {},
   "outputs": [
    {
     "data": {
      "text/plain": [
       "50.0"
      ]
     },
     "execution_count": 58,
     "metadata": {},
     "output_type": "execute_result"
    }
   ],
   "source": [
    "max(days_from_first_symptoms)\n"
   ]
  },
  {
   "cell_type": "code",
   "execution_count": 59,
   "id": "alternate-cinema",
   "metadata": {},
   "outputs": [
    {
     "data": {
      "text/plain": [
       "0.0"
      ]
     },
     "execution_count": 59,
     "metadata": {},
     "output_type": "execute_result"
    }
   ],
   "source": [
    "min(days_from_positive_swab)\n"
   ]
  },
  {
   "cell_type": "code",
   "execution_count": 60,
   "id": "minus-pride",
   "metadata": {},
   "outputs": [],
   "source": [
    "days_from_infection = [max(a,b) for a,b in zip(days_from_first_symptoms, days_from_positive_swab)]\n"
   ]
  },
  {
   "cell_type": "code",
   "execution_count": 61,
   "id": "invalid-neighbor",
   "metadata": {},
   "outputs": [
    {
     "data": {
      "text/plain": [
       "54.0"
      ]
     },
     "execution_count": 61,
     "metadata": {},
     "output_type": "execute_result"
    }
   ],
   "source": [
    "max(days_from_infection)\n"
   ]
  },
  {
   "cell_type": "code",
   "execution_count": 62,
   "id": "premier-drinking",
   "metadata": {},
   "outputs": [],
   "source": [
    "steroid.obs['time_from_first_symptoms'] = days_from_first_symptoms\n",
    "steroid.obs['time_from_positive_swab'] = days_from_positive_swab\n",
    "steroid.obs['time_from_infection'] = days_from_infection"
   ]
  },
  {
   "cell_type": "code",
   "execution_count": 64,
   "id": "threatened-brief",
   "metadata": {},
   "outputs": [
    {
     "data": {
      "text/plain": [
       "array(['T CD8 Mem', 'T CD4 Helper', 'T CD4 CTL', 'T CD8 CTL',\n",
       "       'NK CD56 bright', 'NK', 'T CD4 Naive', 'T g/d', 'MAIT', 'T reg',\n",
       "       'NKT', 'ILC', 'T CD8 Naive', 'T CD8 EMRA'], dtype=object)"
      ]
     },
     "execution_count": 64,
     "metadata": {},
     "output_type": "execute_result"
    }
   ],
   "source": [
    "steroid.obs['final_anno'].unique()"
   ]
  },
  {
   "cell_type": "code",
   "execution_count": 65,
   "id": "consecutive-exemption",
   "metadata": {},
   "outputs": [],
   "source": [
    "# adding dates of steroid inj for each patient\n",
    "steroid.obs['steroid_date'] = 'nan'\n",
    "steroid.obs.loc[steroid.obs[\"patient_id\"] == \"C146\", \"steroid_date\"] = '22/01/2021'\n",
    "steroid.obs.loc[steroid.obs[\"patient_id\"] == \"C139\", \"steroid_date\"] = '07/02/2021'\n",
    "steroid.obs.loc[steroid.obs[\"patient_id\"] == \"C147\", \"steroid_date\"] = '17/01/2021'\n",
    "steroid.obs.loc[steroid.obs[\"patient_id\"] == \"C145\", \"steroid_date\"] = '05/01/2021'\n",
    "steroid.obs.loc[steroid.obs[\"patient_id\"] == \"C138\", \"steroid_date\"] = '28/01/2021'\n",
    "steroid.obs.loc[steroid.obs[\"patient_id\"] == \"C33\", \"steroid_date\"] = '20/01/2021'\n",
    "steroid.obs.loc[steroid.obs[\"patient_id\"] == \"C101\", \"steroid_date\"] = '07/01/2021'\n",
    "steroid.obs.loc[steroid.obs[\"patient_id\"] == \"C141\", \"steroid_date\"] = '02/02/2021'\n",
    "\n"
   ]
  },
  {
   "cell_type": "code",
   "execution_count": 66,
   "id": "simple-grain",
   "metadata": {},
   "outputs": [
    {
     "data": {
      "text/plain": [
       "['07/01/2021',\n",
       " '28/01/2021',\n",
       " '05/01/2021',\n",
       " '22/01/2021',\n",
       " '17/01/2021',\n",
       " '20/01/2021']"
      ]
     },
     "execution_count": 66,
     "metadata": {},
     "output_type": "execute_result"
    }
   ],
   "source": [
    "list(steroid.obs['steroid_date'].unique())"
   ]
  },
  {
   "cell_type": "code",
   "execution_count": 67,
   "id": "collective-deficit",
   "metadata": {},
   "outputs": [],
   "source": [
    "tmp = steroid.copy()\n",
    "tmp.obs['sample_date'] = tmp.obs['sample_date'].astype('object')\n",
    "time_from_steroid = pd.to_datetime(tmp.obs['sample_date'], format='%d/%m/%Y') - pd.to_datetime(tmp.obs['steroid_date'], format='%d/%m/%Y')\n"
   ]
  },
  {
   "cell_type": "code",
   "execution_count": 68,
   "id": "atmospheric-discretion",
   "metadata": {},
   "outputs": [],
   "source": [
    "days_from_steroid = time_from_steroid.dt.days"
   ]
  },
  {
   "cell_type": "code",
   "execution_count": 69,
   "id": "addressed-potter",
   "metadata": {},
   "outputs": [
    {
     "data": {
      "text/plain": [
       "49"
      ]
     },
     "execution_count": 69,
     "metadata": {},
     "output_type": "execute_result"
    }
   ],
   "source": [
    "days_from_steroid.max()"
   ]
  },
  {
   "cell_type": "code",
   "execution_count": 70,
   "id": "cultural-excellence",
   "metadata": {},
   "outputs": [
    {
     "data": {
      "text/plain": [
       "array([  -1,    7,    5,   18,    2,   34,   -5,   14, -273,   11,  -10,\n",
       "          9,   -3,    1,   -6, -250,    6, -267, -262,    4,   49,   -4,\n",
       "         13,    0,   -2,   -8])"
      ]
     },
     "execution_count": 70,
     "metadata": {},
     "output_type": "execute_result"
    }
   ],
   "source": [
    "days_from_steroid.unique()"
   ]
  },
  {
   "cell_type": "code",
   "execution_count": 71,
   "id": "lucky-antibody",
   "metadata": {},
   "outputs": [],
   "source": [
    "steroid.obs['days_from_steroid'] = days_from_steroid"
   ]
  },
  {
   "cell_type": "code",
   "execution_count": 72,
   "id": "south-master",
   "metadata": {},
   "outputs": [
    {
     "data": {
      "text/plain": [
       "array([  -1,    7,    5,   18,    2,   34,   -5,   14, -273,   11,  -10,\n",
       "          9,   -3,    1,   -6, -250,    6, -267, -262,    4,   49,   -4,\n",
       "         13,    0,   -2,   -8])"
      ]
     },
     "execution_count": 72,
     "metadata": {},
     "output_type": "execute_result"
    }
   ],
   "source": [
    "steroid.obs['days_from_steroid'].unique()"
   ]
  },
  {
   "cell_type": "code",
   "execution_count": 73,
   "id": "informative-folks",
   "metadata": {},
   "outputs": [],
   "source": [
    "# adding metdata about before and after steroid samples based on date of steroid injection\n",
    "steroid.obs['steroid_timeline']='nan'\n",
    "\n",
    "steroid.obs.loc[(steroid.obs[\"days_from_steroid\"]<=0)&(steroid.obs['case_control']=='POSITIVE'), \"steroid_timeline\"] = 'before_steroid_pos'\n",
    "steroid.obs.loc[(steroid.obs[\"days_from_steroid\"]<=0)&(steroid.obs['case_control']=='NEGATIVE'), \"steroid_timeline\"] = 'before_steroid_neg'\n",
    "steroid.obs.loc[(steroid.obs[\"days_from_steroid\"]<=0)&(steroid.obs['case_control']=='RECOVERY'), \"steroid_timeline\"] = 'before_steroid_rec'\n",
    "\n",
    "##########################\n",
    "\n",
    "steroid.obs.loc[(steroid.obs[\"days_from_steroid\"]>0)&(steroid.obs['case_control']=='POSITIVE'), \"steroid_timeline\"] = 'after_steroid_pos'\n",
    "steroid.obs.loc[(steroid.obs[\"days_from_steroid\"]>0)&(steroid.obs['case_control']=='NEGATIVE'), \"steroid_timeline\"] = 'after_steroid_neg'\n",
    "\n",
    "steroid.obs.loc[(steroid.obs[\"days_from_steroid\"]>0)&(steroid.obs['case_control']=='RECOVERY'), \"steroid_timeline\"] = 'after_steroid_rec'\n",
    "\n",
    "steroid.obs['steroid_timeline']=steroid.obs['steroid_timeline'].astype('category')\n",
    "\n",
    "\n"
   ]
  },
  {
   "cell_type": "code",
   "execution_count": 74,
   "id": "recorded-uruguay",
   "metadata": {},
   "outputs": [
    {
     "data": {
      "text/plain": [
       "['before_steroid_pos', 'after_steroid_pos', 'after_steroid_rec', 'before_steroid_neg']\n",
       "Categories (4, object): ['after_steroid_pos', 'after_steroid_rec', 'before_steroid_neg', 'before_steroid_pos']"
      ]
     },
     "execution_count": 74,
     "metadata": {},
     "output_type": "execute_result"
    }
   ],
   "source": [
    "steroid.obs['steroid_timeline'].unique()"
   ]
  },
  {
   "cell_type": "code",
   "execution_count": null,
   "id": "copyrighted-federation",
   "metadata": {},
   "outputs": [],
   "source": [
    "'''\n",
    "# adding metdata about before and after steroid samples based on date of steroid injection\n",
    "steroid.obs['steroid_timeline1']='nan'\n",
    "\n",
    "steroid.obs.loc[(steroid.obs[\"sample_id\"].isin(['C138_230121','C138_280121','C138_260121','C101_060121',\n",
    "                                                                     'C141_020221','C141_200121','C141_300121','C141_220121',\n",
    "                                                                      'C141_260121','C146_120121','C146_160121','C146_140121',\n",
    "                                                                      'C146_190121','C147_140121','C33_140121','C33_190121','C33_160121']))&(steroid.obs['case_control']=='POSITIVE'), \"steroid_timeline1\"] = 'before_steroid_pos'\n",
    "steroid.obs.loc[(steroid.obs[\"sample_id\"].isin(['C138_230121','C138_280121','C138_260121','C101_060121',\n",
    "                                                                     'C141_020221','C141_200121','C141_300121','C141_220121',\n",
    "                                                                      'C141_260121','C146_120121','C146_160121','C146_140121',\n",
    "                                                                      'C146_190121','C147_140121','C33_140121','C33_190121','C33_160121']))&(steroid.obs['case_control']=='NEGATIVE'), \"steroid_timeline1\"] = 'before_steroid_neg'\n",
    "steroid.obs.loc[(steroid.obs[\"sample_id\"].isin(['C138_230121','C138_280121','C138_260121','C101_060121',\n",
    "                                                                     'C141_020221','C141_200121','C141_300121','C141_220121',\n",
    "                                                                      'C141_260121','C146_120121','C146_160121','C146_140121',\n",
    "                                                                      'C146_190121','C147_140121','C33_140121','C33_190121','C33_160121']))&(steroid.obs['case_control']=='RECOVERY'), \"steroid_timeline1\"] = 'before_steroid_rec'\n",
    "\n",
    "##########################\n",
    "\n",
    "steroid.obs.loc[(steroid.obs[\"sample_id\"].isin(['C138_040221','C138_020221','C138_300121','C138_300420',\n",
    "                                                                    'C101_110121','C101_250221','C101_200121','C101_130121',\n",
    "                                                                    'C101_180121','C141_090321','C145_230121','C145_190121',\n",
    "                                                                    'C145_070121','C145_140121','C145_120121','C145_300420','C146_250221','C146_270121',\n",
    "                                                                     'C146_230121','C146_300420','C147_280121','C147_260121','C147_190121','C147_230121','C147_300420',\n",
    "                                                                     'C33_260121']))&(steroid.obs['case_control']=='POSITIVE'), \"steroid_timeline1\"] = 'after_steroid_pos'\n",
    "steroid.obs.loc[(steroid.obs[\"sample_id\"].isin(['C138_040221','C138_020221','C138_300121','C138_300420',\n",
    "                                                                    'C101_110121','C101_250221','C101_200121','C101_130121',\n",
    "                                                                    'C101_180121','C141_090321','C145_230121','C145_190121',\n",
    "                                                                    'C145_070121','C145_140121','C145_120121','C145_300420','C146_250221','C146_270121',\n",
    "                                                                     'C146_230121','C146_300420','C147_280121','C147_260121','C147_190121','C147_230121','C147_300420',\n",
    "                                                                     'C33_260121']))&(steroid.obs['case_control']=='NEGATIVE'), \"steroid_timeline1\"] = 'after_steroid_neg'\n",
    "\n",
    "steroid.obs.loc[(steroid.obs[\"sample_id\"].isin(['C138_040221','C138_020221','C138_300121','C138_300420',\n",
    "                                                                    'C101_110121','C101_250221','C101_200121','C101_130121',\n",
    "                                                                    'C101_180121','C141_090321','C145_230121','C145_190121',\n",
    "                                                                    'C145_070121','C145_140121','C145_120121','C145_300420','C146_250221','C146_270121',\n",
    "                                                                     'C146_230121','C146_300420','C147_280121','C147_260121','C147_190121','C147_230121','C147_300420',\n",
    "                                                                     'C33_260121']))&(steroid.obs['case_control']=='RECOVERY'), \"steroid_timeline1\"] = 'after_steroid_rec'\n",
    "\n",
    "\n",
    "\n",
    "\n",
    "'''"
   ]
  },
  {
   "cell_type": "code",
   "execution_count": null,
   "id": "alert-simpson",
   "metadata": {},
   "outputs": [],
   "source": [
    "#test = steroid[steroid.obs['steroid_timeline']=='after_steroid_neg']\n",
    "#print(test.obs['case_control'].unique())"
   ]
  },
  {
   "cell_type": "code",
   "execution_count": null,
   "id": "adjustable-weather",
   "metadata": {},
   "outputs": [],
   "source": [
    "df = pd.crosstab(steroid.obs['steroid_timeline'],steroid.obs['annot4'])\n",
    "df"
   ]
  },
  {
   "cell_type": "code",
   "execution_count": null,
   "id": "acoustic-flashing",
   "metadata": {},
   "outputs": [],
   "source": [
    "#df.columns = df.columns.add_categories(['steroid_timeline'])\n",
    "df['steroid_timeline'] = df.index # making index into column"
   ]
  },
  {
   "cell_type": "code",
   "execution_count": null,
   "id": "further-orlando",
   "metadata": {},
   "outputs": [],
   "source": [
    "df"
   ]
  },
  {
   "cell_type": "code",
   "execution_count": null,
   "id": "enhanced-producer",
   "metadata": {},
   "outputs": [],
   "source": [
    "df=df.reindex(['before_steroid_neg', \"before_steroid_pos\", \"after_steroid_pos\", \"after_steroid_rec\"])\n",
    "df"
   ]
  },
  {
   "cell_type": "code",
   "execution_count": null,
   "id": "inappropriate-search",
   "metadata": {},
   "outputs": [],
   "source": [
    "p1=df.plot(x='steroid_timeline', kind='bar', stacked=True,\n",
    "        title='distribution of monocytes before and after steroid')\n",
    "p1.set_ylabel('num of cells')\n",
    "p1.set_xlabel('')\n",
    "\n",
    "plt.grid(False)\n",
    "plt.legend(loc='center left', bbox_to_anchor=(1, 0.5))\n",
    "for p in p1.patches:\n",
    "        width, height = p.get_width(), p.get_height()\n",
    "        x, y = p.get_xy() \n",
    "        p1.text(x+width/2, \n",
    "            y+height/2, \n",
    "            '{:.0f}'.format(height), \n",
    "            horizontalalignment='center', \n",
    "            verticalalignment='center',rotation=0,size=7) "
   ]
  },
  {
   "cell_type": "code",
   "execution_count": null,
   "id": "waiting-rolling",
   "metadata": {},
   "outputs": [],
   "source": [
    "cols = list(df.columns)\n",
    "cols = cols[:-1]\n",
    "df[cols] = df[cols].div(df[cols].sum(axis=1), axis=0).multiply(100)"
   ]
  },
  {
   "cell_type": "code",
   "execution_count": null,
   "id": "rolled-mortgage",
   "metadata": {},
   "outputs": [],
   "source": [
    "steroid.obs['steroid_timeline'].value_counts()"
   ]
  },
  {
   "cell_type": "code",
   "execution_count": null,
   "id": "worse-catch",
   "metadata": {},
   "outputs": [],
   "source": [
    "p2 = df.plot(x='steroid_timeline', kind='bar', stacked=True,\n",
    "        title='distribution of monocytes before and after steroid',figsize=(3,3))\n",
    "p2.set_xlabel('')\n",
    "p2.set_ylabel('percentage')\n",
    "plt.grid(False)\n",
    "plt.legend(loc='center left', bbox_to_anchor=(1, 0.5))\n",
    "for p in p2.patches:\n",
    "        width, height = p.get_width(), p.get_height()\n",
    "        x, y = p.get_xy() \n",
    "        p2.text(x+width/2, \n",
    "            y+height/2, \n",
    "            '{:.1f}'.format(height), \n",
    "            horizontalalignment='center', \n",
    "            verticalalignment='center',rotation=0,size=7) \n",
    "\n",
    "\n",
    "'''\n",
    "p2.text(-0.2,101,'1257',fontsize=9)\n",
    "p2.text(0.8,101,'4879',fontsize=9)\n",
    "p2.text(1.8,101,'7923',fontsize=9)\n",
    "p2.text(2.8,101,'975',fontsize=9)\n",
    "'''"
   ]
  },
  {
   "cell_type": "markdown",
   "id": "pressed-branch",
   "metadata": {},
   "source": [
    "# adding metadata"
   ]
  },
  {
   "cell_type": "code",
   "execution_count": null,
   "id": "genetic-underground",
   "metadata": {},
   "outputs": [],
   "source": [
    "meta_obs=pd.read_csv('/home/jovyan/data/covid_19_renal/obs_myeloid.csv')"
   ]
  },
  {
   "cell_type": "code",
   "execution_count": null,
   "id": "polar-function",
   "metadata": {},
   "outputs": [],
   "source": [
    "mdata = sc.read('/home/jovyan/data/covid_19_renal/renal_covid_19_gex_myeloid_soupX_QC.h5ad',cache=True)"
   ]
  },
  {
   "cell_type": "code",
   "execution_count": null,
   "id": "weekly-lightweight",
   "metadata": {},
   "outputs": [],
   "source": [
    "mdata.obs['WHO_temp_severity'] = meta_obs['WHO_temp_severity'].values.astype(\"str\") \n",
    "mdata.obs['WHO_temp_severity'] = mdata.obs['WHO_temp_severity'].astype('category')"
   ]
  },
  {
   "cell_type": "code",
   "execution_count": null,
   "id": "unnecessary-domestic",
   "metadata": {},
   "outputs": [],
   "source": [
    "steroid.obs['WHO_temp_severity'] = steroid.obs['sex'].astype('object')"
   ]
  },
  {
   "cell_type": "code",
   "execution_count": null,
   "id": "strange-domestic",
   "metadata": {},
   "outputs": [],
   "source": [
    "steroid.obs['WHO_temp_severity'].update(pd.Series(mdata.obs['WHO_temp_severity'].astype('object')))"
   ]
  },
  {
   "cell_type": "code",
   "execution_count": null,
   "id": "early-illinois",
   "metadata": {},
   "outputs": [],
   "source": [
    "steroid.obs['WHO_temp_severity'] = steroid.obs['WHO_temp_severity'].astype('category')"
   ]
  },
  {
   "cell_type": "code",
   "execution_count": null,
   "id": "novel-cowboy",
   "metadata": {},
   "outputs": [],
   "source": [
    "steroid.obs['WHO_temp_severity'].unique()"
   ]
  },
  {
   "cell_type": "markdown",
   "id": "theoretical-conjunction",
   "metadata": {},
   "source": [
    "#  steroid with positive case only -divided into 4 severity "
   ]
  },
  {
   "cell_type": "code",
   "execution_count": 75,
   "id": "excited-bahamas",
   "metadata": {},
   "outputs": [
    {
     "data": {
      "text/plain": [
       "['before_steroid_pos', 'after_steroid_pos', 'after_steroid_rec', 'before_steroid_neg']\n",
       "Categories (4, object): ['after_steroid_pos', 'after_steroid_rec', 'before_steroid_neg', 'before_steroid_pos']"
      ]
     },
     "execution_count": 75,
     "metadata": {},
     "output_type": "execute_result"
    }
   ],
   "source": [
    "steroid.obs['steroid_timeline'].unique()"
   ]
  },
  {
   "cell_type": "code",
   "execution_count": 76,
   "id": "orange-travel",
   "metadata": {},
   "outputs": [],
   "source": [
    "steroid_pos_only = steroid[steroid.obs['steroid_timeline'].isin(['before_steroid_pos','after_steroid_pos'])]"
   ]
  },
  {
   "cell_type": "code",
   "execution_count": 77,
   "id": "supreme-laugh",
   "metadata": {},
   "outputs": [
    {
     "data": {
      "text/plain": [
       "['severe', 'mild', 'moderate', 'critical']\n",
       "Categories (4, object): ['critical', 'mild', 'moderate', 'severe']"
      ]
     },
     "execution_count": 77,
     "metadata": {},
     "output_type": "execute_result"
    }
   ],
   "source": [
    "steroid_pos_only.obs['WHO_temp_severity'].unique()"
   ]
  },
  {
   "cell_type": "code",
   "execution_count": 78,
   "id": "altered-wrapping",
   "metadata": {},
   "outputs": [
    {
     "name": "stderr",
     "output_type": "stream",
     "text": [
      "/tmp/ipykernel_1517/1759539440.py:2: ImplicitModificationWarning: Trying to modify attribute `.obs` of view, initializing view as actual.\n",
      "  steroid_pos_only.obs['steroid_severity']='nan'\n"
     ]
    }
   ],
   "source": [
    "# adding severity and steroid meta\n",
    "steroid_pos_only.obs['steroid_severity']='nan'\n",
    "\n",
    "steroid_pos_only.obs.loc[(steroid_pos_only.obs[\"steroid_timeline\"]=='before_steroid_pos')&(steroid_pos_only.obs['WHO_temp_severity']=='mild'), \"steroid_severity\"] = 'before_steroid_pos_mild'\n",
    "steroid_pos_only.obs.loc[(steroid_pos_only.obs[\"steroid_timeline\"]=='before_steroid_pos')&(steroid_pos_only.obs['WHO_temp_severity']=='moderate'), \"steroid_severity\"] = 'before_steroid_pos_moderate'\n",
    "steroid_pos_only.obs.loc[(steroid_pos_only.obs[\"steroid_timeline\"]=='before_steroid_pos')&(steroid_pos_only.obs['WHO_temp_severity']=='severe'), \"steroid_severity\"] = 'before_steroid_pos_severe'\n",
    "steroid_pos_only.obs.loc[(steroid_pos_only.obs[\"steroid_timeline\"]=='before_steroid_pos')&(steroid_pos_only.obs['WHO_temp_severity']=='critical'), \"steroid_severity\"] = 'before_steroid_pos_critical'\n",
    "\n",
    "steroid_pos_only.obs.loc[(steroid_pos_only.obs[\"steroid_timeline\"]=='after_steroid_pos')&(steroid_pos_only.obs['WHO_temp_severity']=='mild'), \"steroid_severity\"] = 'after_steroid_pos_mild'\n",
    "steroid_pos_only.obs.loc[(steroid_pos_only.obs[\"steroid_timeline\"]=='after_steroid_pos')&(steroid_pos_only.obs['WHO_temp_severity']=='moderate'), \"steroid_severity\"] = 'after_steroid_pos_moderate'\n",
    "steroid_pos_only.obs.loc[(steroid_pos_only.obs[\"steroid_timeline\"]=='after_steroid_pos')&(steroid_pos_only.obs['WHO_temp_severity']=='severe'), \"steroid_severity\"] = 'after_steroid_pos_severe'\n",
    "steroid_pos_only.obs.loc[(steroid_pos_only.obs[\"steroid_timeline\"]=='after_steroid_pos')&(steroid_pos_only.obs['WHO_temp_severity']=='critical'), \"steroid_severity\"] = 'after_steroid_pos_critical'\n"
   ]
  },
  {
   "cell_type": "code",
   "execution_count": 79,
   "id": "suspended-terminal",
   "metadata": {},
   "outputs": [
    {
     "data": {
      "text/plain": [
       "array(['before_steroid_pos_severe', 'after_steroid_pos_mild',\n",
       "       'after_steroid_pos_moderate', 'before_steroid_pos_moderate',\n",
       "       'after_steroid_pos_critical', 'before_steroid_pos_mild',\n",
       "       'after_steroid_pos_severe'], dtype=object)"
      ]
     },
     "execution_count": 79,
     "metadata": {},
     "output_type": "execute_result"
    }
   ],
   "source": [
    "steroid_pos_only.obs['steroid_severity'].unique()"
   ]
  },
  {
   "cell_type": "code",
   "execution_count": null,
   "id": "advanced-launch",
   "metadata": {},
   "outputs": [],
   "source": [
    "#test = steroid_pos_only[steroid_pos_only.obs['steroid_severity']=='after_steroid_pos_severe']\n",
    "#print(test.obs['case_control'].unique())\n",
    "#print(test.obs['WHO_temp_severity'].unique())"
   ]
  },
  {
   "cell_type": "code",
   "execution_count": null,
   "id": "behavioral-boxing",
   "metadata": {},
   "outputs": [],
   "source": [
    "df = pd.crosstab(steroid_pos_only.obs['steroid_severity'],steroid_pos_only.obs['annot4'])\n",
    "df"
   ]
  },
  {
   "cell_type": "code",
   "execution_count": null,
   "id": "increased-switzerland",
   "metadata": {},
   "outputs": [],
   "source": [
    "df.columns = df.columns.add_categories(['steroid_severity'])\n",
    "df['steroid_severity'] = df.index \n",
    "df"
   ]
  },
  {
   "cell_type": "code",
   "execution_count": null,
   "id": "remarkable-drama",
   "metadata": {},
   "outputs": [],
   "source": [
    "df=df.reindex([\"before_steroid_pos_mild\", \"after_steroid_pos_mild\", \"before_steroid_pos_moderate\",'after_steroid_pos_moderate','before_steroid_pos_severe','after_steroid_pos_severe',\n",
    "              'after_steroid_pos_critical'])\n",
    "df"
   ]
  },
  {
   "cell_type": "code",
   "execution_count": null,
   "id": "legitimate-exposure",
   "metadata": {},
   "outputs": [],
   "source": [
    "p1=df.plot(x='steroid_severity', kind='bar', stacked=True,\n",
    "        title='distribution of monocytes before and after steroid and severity')\n",
    "p1.set_ylabel('num of cells')\n",
    "p1.set_xlabel('')\n",
    "\n",
    "plt.grid(False)\n",
    "plt.legend(loc='center left', bbox_to_anchor=(1, 0.5))\n",
    "for p in p1.patches:\n",
    "        width, height = p.get_width(), p.get_height()\n",
    "        x, y = p.get_xy() \n",
    "        p1.text(x+width/2, \n",
    "            y+height/2, \n",
    "            '{:.0f}'.format(height), \n",
    "            horizontalalignment='center', \n",
    "            verticalalignment='center',rotation=0,size=7) "
   ]
  },
  {
   "cell_type": "code",
   "execution_count": null,
   "id": "latter-solution",
   "metadata": {},
   "outputs": [],
   "source": [
    "cols = list(df.columns)\n",
    "cols = cols[:-1]\n",
    "df[cols] = df[cols].div(df[cols].sum(axis=1), axis=0).multiply(100)"
   ]
  },
  {
   "cell_type": "code",
   "execution_count": null,
   "id": "express-moderator",
   "metadata": {},
   "outputs": [],
   "source": [
    "df"
   ]
  },
  {
   "cell_type": "code",
   "execution_count": null,
   "id": "distinct-advertiser",
   "metadata": {},
   "outputs": [],
   "source": [
    "steroid_pos_only.obs['steroid_severity'].value_counts()"
   ]
  },
  {
   "cell_type": "code",
   "execution_count": null,
   "id": "instant-manhattan",
   "metadata": {},
   "outputs": [],
   "source": [
    "p2 = df.plot(x='steroid_severity', kind='bar', stacked=True,\n",
    "        title='distribution of monocytes before and after steroid and severity',figsize=(5,5))\n",
    "p2.set_xlabel('')\n",
    "p2.set_ylabel('percentage')\n",
    "plt.grid(False)\n",
    "plt.legend(loc='center left', bbox_to_anchor=(1, 0.5))\n",
    "for p in p2.patches:\n",
    "        width, height = p.get_width(), p.get_height()\n",
    "        x, y = p.get_xy() \n",
    "        p2.text(x+width/2, \n",
    "            y+height/2, \n",
    "            '{:.1f}'.format(height), \n",
    "            horizontalalignment='center', \n",
    "            verticalalignment='center',rotation=0,size=7) \n",
    "\n",
    "\n",
    "\n",
    "p2.text(-0.2,101,'2678',fontsize=9)\n",
    "p2.text(0.8,101,'1811',fontsize=9)\n",
    "p2.text(1.8,101,'1911',fontsize=9)\n",
    "p2.text(2.8,101,'2146',fontsize=9)\n",
    "p2.text(3.8,101,'290',fontsize=9)\n",
    "p2.text(4.8,101,'1226',fontsize=9)\n",
    "p2.text(5.8,101,'2740',fontsize=9)"
   ]
  },
  {
   "cell_type": "code",
   "execution_count": 80,
   "id": "convenient-cookie",
   "metadata": {},
   "outputs": [],
   "source": [
    "save_file = '/home/jovyan/scripts/renal_covid_19/steroid_pipeline_corrected/steroid_pos_only_all_T.h5ad'\n",
    "steroid_pos_only.write_h5ad(save_file)"
   ]
  },
  {
   "cell_type": "code",
   "execution_count": 85,
   "id": "expected-violence",
   "metadata": {},
   "outputs": [
    {
     "data": {
      "text/plain": [
       "['T CD8 Mem',\n",
       " 'T CD4 Helper',\n",
       " 'T CD4 CTL',\n",
       " 'T CD8 CTL',\n",
       " 'NK CD56 bright',\n",
       " 'NK',\n",
       " 'T CD4 Naive',\n",
       " 'T g/d',\n",
       " 'MAIT',\n",
       " 'T reg',\n",
       " 'NKT',\n",
       " 'ILC',\n",
       " 'T CD8 Naive',\n",
       " 'T CD8 EMRA']"
      ]
     },
     "execution_count": 85,
     "metadata": {},
     "output_type": "execute_result"
    }
   ],
   "source": [
    "list(steroid_pos_only.obs['final_anno'].unique())"
   ]
  },
  {
   "cell_type": "markdown",
   "id": "express-frederick",
   "metadata": {},
   "source": [
    "# two cat only "
   ]
  },
  {
   "cell_type": "code",
   "execution_count": null,
   "id": "environmental-bleeding",
   "metadata": {},
   "outputs": [],
   "source": [
    "# adding severity and steroid meta\n",
    "steroid_pos_only.obs['steroid_severity1']='nan'\n",
    "\n",
    "steroid_pos_only.obs.loc[(steroid_pos_only.obs[\"steroid_timeline\"]=='before_steroid_pos')&(steroid_pos_only.obs['WHO_temp_severity']=='mild'), \"steroid_severity1\"] = 'before_steroid_pos_mild/mod'\n",
    "steroid_pos_only.obs.loc[(steroid_pos_only.obs[\"steroid_timeline\"]=='before_steroid_pos')&(steroid_pos_only.obs['WHO_temp_severity']=='moderate'), \"steroid_severity1\"] = 'before_steroid_pos_mild/mod'\n",
    "steroid_pos_only.obs.loc[(steroid_pos_only.obs[\"steroid_timeline\"]=='before_steroid_pos')&(steroid_pos_only.obs['WHO_temp_severity']=='severe'), \"steroid_severity1\"] = 'before_steroid_pos_sev/crit'\n",
    "steroid_pos_only.obs.loc[(steroid_pos_only.obs[\"steroid_timeline\"]=='before_steroid_pos')&(steroid_pos_only.obs['WHO_temp_severity']=='critical'), \"steroid_severity1\"] = 'before_steroid_pos_sev/crit'\n",
    "\n",
    "steroid_pos_only.obs.loc[(steroid_pos_only.obs[\"steroid_timeline\"]=='after_steroid_pos')&(steroid_pos_only.obs['WHO_temp_severity']=='mild'), \"steroid_severity1\"] = 'after_steroid_pos_mild/mod'\n",
    "steroid_pos_only.obs.loc[(steroid_pos_only.obs[\"steroid_timeline\"]=='after_steroid_pos')&(steroid_pos_only.obs['WHO_temp_severity']=='moderate'), \"steroid_severity1\"] = 'after_steroid_pos_mild/mod'\n",
    "steroid_pos_only.obs.loc[(steroid_pos_only.obs[\"steroid_timeline\"]=='after_steroid_pos')&(steroid_pos_only.obs['WHO_temp_severity']=='severe'), \"steroid_severity1\"] = 'after_steroid_pos_sev/crit'\n",
    "steroid_pos_only.obs.loc[(steroid_pos_only.obs[\"steroid_timeline\"]=='after_steroid_pos')&(steroid_pos_only.obs['WHO_temp_severity']=='critical'), \"steroid_severity1\"] = 'after_steroid_pos_sev/crit'\n"
   ]
  },
  {
   "cell_type": "code",
   "execution_count": null,
   "id": "medium-triple",
   "metadata": {},
   "outputs": [],
   "source": [
    "steroid_pos_only.obs['steroid_severity1'].unique()"
   ]
  },
  {
   "cell_type": "code",
   "execution_count": null,
   "id": "refined-crystal",
   "metadata": {},
   "outputs": [],
   "source": [
    "#test = steroid_pos_only[steroid_pos_only.obs['steroid_severity']=='after_steroid_pos_severe']\n",
    "#print(test.obs['case_control'].unique())\n",
    "#print(test.obs['WHO_temp_severity'].unique())"
   ]
  },
  {
   "cell_type": "code",
   "execution_count": null,
   "id": "accompanied-review",
   "metadata": {},
   "outputs": [],
   "source": [
    "df = pd.crosstab(steroid_pos_only.obs['steroid_severity1'],steroid_pos_only.obs['annot4'])\n",
    "df"
   ]
  },
  {
   "cell_type": "code",
   "execution_count": null,
   "id": "distinct-evidence",
   "metadata": {},
   "outputs": [],
   "source": [
    "df.columns = df.columns.add_categories(['steroid_severity1'])\n",
    "df['steroid_severity1'] = df.index \n",
    "df"
   ]
  },
  {
   "cell_type": "code",
   "execution_count": null,
   "id": "tender-exposure",
   "metadata": {},
   "outputs": [],
   "source": [
    "df=df.reindex([\"before_steroid_pos_mild/mod\", \"after_steroid_pos_mild/mod\",'before_steroid_pos_sev/crit',\n",
    "              'after_steroid_pos_sev/crit'])\n",
    "df"
   ]
  },
  {
   "cell_type": "code",
   "execution_count": null,
   "id": "dominant-accent",
   "metadata": {},
   "outputs": [],
   "source": [
    "p1=df.plot(x='steroid_severity1', kind='bar', stacked=True,\n",
    "        title='distribution of monocytes before and after steroid and severity')\n",
    "p1.set_ylabel('num of cells')\n",
    "p1.set_xlabel('')\n",
    "\n",
    "plt.grid(False)\n",
    "plt.legend(loc='center left', bbox_to_anchor=(1, 0.5))\n",
    "for p in p1.patches:\n",
    "        width, height = p.get_width(), p.get_height()\n",
    "        x, y = p.get_xy() \n",
    "        p1.text(x+width/2, \n",
    "            y+height/2, \n",
    "            '{:.0f}'.format(height), \n",
    "            horizontalalignment='center', \n",
    "            verticalalignment='center',rotation=0,size=7) "
   ]
  },
  {
   "cell_type": "code",
   "execution_count": null,
   "id": "square-international",
   "metadata": {},
   "outputs": [],
   "source": [
    "cols = list(df.columns)\n",
    "cols = cols[:-1]\n",
    "df[cols] = df[cols].div(df[cols].sum(axis=1), axis=0).multiply(100)"
   ]
  },
  {
   "cell_type": "code",
   "execution_count": null,
   "id": "pharmaceutical-zealand",
   "metadata": {},
   "outputs": [],
   "source": [
    "df"
   ]
  },
  {
   "cell_type": "code",
   "execution_count": null,
   "id": "acknowledged-paragraph",
   "metadata": {},
   "outputs": [],
   "source": [
    "steroid_pos_only.obs['steroid_severity1'].value_counts()"
   ]
  },
  {
   "cell_type": "code",
   "execution_count": null,
   "id": "verbal-cardiff",
   "metadata": {},
   "outputs": [],
   "source": [
    "p2 = df.plot(x='steroid_severity1', kind='bar', stacked=True,\n",
    "        title='distribution of monocytes before and after steroid and severity',figsize=(5,5))\n",
    "p2.set_xlabel('')\n",
    "p2.set_ylabel('percentage')\n",
    "plt.grid(False)\n",
    "plt.legend(loc='center left', bbox_to_anchor=(1, 0.5))\n",
    "for p in p2.patches:\n",
    "        width, height = p.get_width(), p.get_height()\n",
    "        x, y = p.get_xy() \n",
    "        p2.text(x+width/2, \n",
    "            y+height/2, \n",
    "            '{:.1f}'.format(height), \n",
    "            horizontalalignment='center', \n",
    "            verticalalignment='center',rotation=0,size=7) \n",
    "\n",
    "\n",
    "\n",
    "p2.text(-0.2,101,'2678',fontsize=9)\n",
    "p2.text(0.8,101,'1811',fontsize=9)\n",
    "p2.text(1.8,101,'1911',fontsize=9)\n",
    "p2.text(2.8,101,'2146',fontsize=9)\n",
    "p2.text(3.8,101,'290',fontsize=9)\n",
    "p2.text(4.8,101,'1226',fontsize=9)\n",
    "p2.text(5.8,101,'2740',fontsize=9)"
   ]
  },
  {
   "cell_type": "code",
   "execution_count": null,
   "id": "pending-conditioning",
   "metadata": {},
   "outputs": [],
   "source": [
    "save_file = '/home/jovyan/scripts/renal_covid_19/steroid_pipeline_corrected/steroid_pipeline/steroid_pos_only.h5ad'\n",
    "steroid_pos_only.write_h5ad(save_file)"
   ]
  },
  {
   "cell_type": "markdown",
   "id": "inappropriate-preparation",
   "metadata": {},
   "source": [
    "# steroid_pos_rec only"
   ]
  },
  {
   "cell_type": "code",
   "execution_count": null,
   "id": "cardiovascular-switzerland",
   "metadata": {},
   "outputs": [],
   "source": [
    "steroid.obs['steroid_timeline'].unique()"
   ]
  },
  {
   "cell_type": "code",
   "execution_count": null,
   "id": "valued-moisture",
   "metadata": {},
   "outputs": [],
   "source": [
    "steroid_pos_rec_only = steroid[steroid.obs['steroid_timeline'].isin(['before_steroid_pos','after_steroid_pos','after_steroid_rec'])]"
   ]
  },
  {
   "cell_type": "code",
   "execution_count": null,
   "id": "activated-butterfly",
   "metadata": {},
   "outputs": [],
   "source": [
    "steroid_pos_rec_only.obs['steroid_timeline'].unique()"
   ]
  },
  {
   "cell_type": "code",
   "execution_count": null,
   "id": "adult-influence",
   "metadata": {},
   "outputs": [],
   "source": [
    "steroid_pos_rec_only.obs['patient_id'].unique()"
   ]
  },
  {
   "cell_type": "code",
   "execution_count": null,
   "id": "planned-fiber",
   "metadata": {},
   "outputs": [],
   "source": [
    "steroid_pos_rec_paired_only = steroid_pos_rec_only[steroid_pos_rec_only.obs['patient_id']!='C145']"
   ]
  },
  {
   "cell_type": "code",
   "execution_count": null,
   "id": "similar-clock",
   "metadata": {},
   "outputs": [],
   "source": [
    "steroid_pos_rec_paired_only.obs['patient_id'].unique()"
   ]
  },
  {
   "cell_type": "code",
   "execution_count": null,
   "id": "revised-colon",
   "metadata": {},
   "outputs": [],
   "source": [
    "save_file = '/home/jovyan/scripts/renal_covid_19/steroid_pipeline_corrected/steroid_pipeline/steroid_pos_rec_only.h5ad'\n",
    "steroid_pos_rec_only.write_h5ad(save_file)"
   ]
  },
  {
   "cell_type": "code",
   "execution_count": null,
   "id": "unknown-radar",
   "metadata": {},
   "outputs": [],
   "source": [
    "save_file = '/home/jovyan/scripts/renal_covid_19/steroid_pipeline_corrected/steroid_pipeline/steroid_pos_rec_paired_only.h5ad'\n",
    "steroid_pos_rec_paired_only.write_h5ad(save_file)"
   ]
  },
  {
   "cell_type": "code",
   "execution_count": null,
   "id": "wrong-quebec",
   "metadata": {},
   "outputs": [],
   "source": []
  }
 ],
 "metadata": {
  "kernelspec": {
   "display_name": "Py_env2",
   "language": "python",
   "name": "py_env2"
  },
  "language_info": {
   "codemirror_mode": {
    "name": "ipython",
    "version": 3
   },
   "file_extension": ".py",
   "mimetype": "text/x-python",
   "name": "python",
   "nbconvert_exporter": "python",
   "pygments_lexer": "ipython3",
   "version": "3.8.13"
  }
 },
 "nbformat": 4,
 "nbformat_minor": 5
}
