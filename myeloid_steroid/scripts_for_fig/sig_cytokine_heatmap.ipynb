{
 "cells": [
  {
   "cell_type": "markdown",
   "id": "suburban-phone",
   "metadata": {},
   "source": [
    "# Load the functions"
   ]
  },
  {
   "cell_type": "code",
   "execution_count": 1,
   "id": "medium-africa",
   "metadata": {},
   "outputs": [
    {
     "name": "stderr",
     "output_type": "stream",
     "text": [
      "Loading required package: grid\n",
      "\n",
      "========================================\n",
      "ComplexHeatmap version 2.13.2\n",
      "Bioconductor page: http://bioconductor.org/packages/ComplexHeatmap/\n",
      "Github page: https://github.com/jokergoo/ComplexHeatmap\n",
      "Documentation: http://jokergoo.github.io/ComplexHeatmap-reference\n",
      "\n",
      "If you use it in published research, please cite either one:\n",
      "- Gu, Z. Complex heatmaps reveal patterns and correlations in multidimensional \n",
      "    genomic data. Bioinformatics 2016.\n",
      "- Gu, Z. Complex Heatmap Visualization. iMeta 2022.\n",
      "\n",
      "\n",
      "The new InteractiveComplexHeatmap package can directly export static \n",
      "complex heatmaps into an interactive Shiny app with zero effort. Have a try!\n",
      "\n",
      "This message can be suppressed by:\n",
      "  suppressPackageStartupMessages(library(ComplexHeatmap))\n",
      "========================================\n",
      "\n",
      "\n",
      "\n",
      "Attaching package: ‘dplyr’\n",
      "\n",
      "\n",
      "The following objects are masked from ‘package:stats’:\n",
      "\n",
      "    filter, lag\n",
      "\n",
      "\n",
      "The following objects are masked from ‘package:base’:\n",
      "\n",
      "    intersect, setdiff, setequal, union\n",
      "\n",
      "\n",
      "========================================\n",
      "circlize version 0.4.15\n",
      "CRAN page: https://cran.r-project.org/package=circlize\n",
      "Github page: https://github.com/jokergoo/circlize\n",
      "Documentation: https://jokergoo.github.io/circlize_book/book/\n",
      "\n",
      "If you use it in published research, please cite:\n",
      "Gu, Z. circlize implements and enhances circular visualization\n",
      "  in R. Bioinformatics 2014.\n",
      "\n",
      "This message can be suppressed by:\n",
      "  suppressPackageStartupMessages(library(circlize))\n",
      "========================================\n",
      "\n",
      "\n",
      "Loading required package: pkgmaker\n",
      "\n",
      "Loading required package: registry\n",
      "\n",
      "Loading required package: rngtools\n",
      "\n",
      "Loading required package: cluster\n",
      "\n",
      "NMF - BioConductor layer [OK] | Shared memory capabilities [NO: synchronicity] | Cores 25/26\n",
      "\n",
      "  To enable shared memory capabilities, try: install.extras('\n",
      "NMF\n",
      "')\n",
      "\n",
      "\n",
      "Attaching package: ‘gplots’\n",
      "\n",
      "\n",
      "The following object is masked from ‘package:stats’:\n",
      "\n",
      "    lowess\n",
      "\n",
      "\n"
     ]
    }
   ],
   "source": [
    "library(ComplexHeatmap)\n",
    "library(ggplot2)\n",
    "library(dplyr)\n",
    "library(RColorBrewer)\n",
    "library(circlize)\n",
    "library(NMF)\n",
    "library(\"gplots\")"
   ]
  },
  {
   "cell_type": "code",
   "execution_count": 2,
   "id": "alpine-delhi",
   "metadata": {},
   "outputs": [],
   "source": [
    "to_plot <- read.csv('/home/jovyan/scripts/renal_covid_19/sig_gene_plot/gene_score_to_plot_allmono_bothwave_pos.csv',row.names = 1)"
   ]
  },
  {
   "cell_type": "code",
   "execution_count": 3,
   "id": "rubber-general",
   "metadata": {},
   "outputs": [
    {
     "data": {
      "text/html": [
       "<table class=\"dataframe\">\n",
       "<caption>A data.frame: 6 × 7</caption>\n",
       "<thead>\n",
       "\t<tr><th></th><th scope=col>CD14mono</th><th scope=col>CD14mono_IFN</th><th scope=col>CD14mono_alt_act</th><th scope=col>CD16mono</th><th scope=col>CD16mono_C1</th><th scope=col>CD16mono_IFN</th><th scope=col>Int.mono</th></tr>\n",
       "\t<tr><th></th><th scope=col>&lt;dbl&gt;</th><th scope=col>&lt;dbl&gt;</th><th scope=col>&lt;dbl&gt;</th><th scope=col>&lt;dbl&gt;</th><th scope=col>&lt;dbl&gt;</th><th scope=col>&lt;dbl&gt;</th><th scope=col>&lt;dbl&gt;</th></tr>\n",
       "</thead>\n",
       "<tbody>\n",
       "\t<tr><th scope=row>upLPS</th><td>-1.2081330</td><td>0.05384968</td><td>-1.0617146</td><td> 0.6025635</td><td> 0.67534618</td><td>1.506131</td><td>-0.5680424</td></tr>\n",
       "\t<tr><th scope=row>sLPS</th><td>-0.4635026</td><td>0.71211078</td><td>-1.3394129</td><td> 0.4359371</td><td>-0.08005483</td><td>1.595779</td><td>-0.8608570</td></tr>\n",
       "\t<tr><th scope=row>sLPS_IFNg</th><td>-0.9892550</td><td>0.07383850</td><td>-1.3794471</td><td> 0.2470734</td><td> 0.70072567</td><td>1.582844</td><td>-0.2357793</td></tr>\n",
       "\t<tr><th scope=row>IFNg</th><td>-1.1212026</td><td>0.44761216</td><td>-1.1789375</td><td>-0.3664610</td><td> 0.82449132</td><td>1.523766</td><td>-0.1292688</td></tr>\n",
       "\t<tr><th scope=row>IFNg_TNF</th><td>-0.9969437</td><td>0.76601176</td><td>-0.9996725</td><td>-0.7070260</td><td> 0.77343390</td><td>1.488802</td><td>-0.3246049</td></tr>\n",
       "\t<tr><th scope=row>TNF</th><td>-1.0502465</td><td>1.29336454</td><td>-0.4525567</td><td>-0.7935499</td><td> 0.43072500</td><td>1.296180</td><td>-0.7239163</td></tr>\n",
       "</tbody>\n",
       "</table>\n"
      ],
      "text/latex": [
       "A data.frame: 6 × 7\n",
       "\\begin{tabular}{r|lllllll}\n",
       "  & CD14mono & CD14mono\\_IFN & CD14mono\\_alt\\_act & CD16mono & CD16mono\\_C1 & CD16mono\\_IFN & Int.mono\\\\\n",
       "  & <dbl> & <dbl> & <dbl> & <dbl> & <dbl> & <dbl> & <dbl>\\\\\n",
       "\\hline\n",
       "\tupLPS & -1.2081330 & 0.05384968 & -1.0617146 &  0.6025635 &  0.67534618 & 1.506131 & -0.5680424\\\\\n",
       "\tsLPS & -0.4635026 & 0.71211078 & -1.3394129 &  0.4359371 & -0.08005483 & 1.595779 & -0.8608570\\\\\n",
       "\tsLPS\\_IFNg & -0.9892550 & 0.07383850 & -1.3794471 &  0.2470734 &  0.70072567 & 1.582844 & -0.2357793\\\\\n",
       "\tIFNg & -1.1212026 & 0.44761216 & -1.1789375 & -0.3664610 &  0.82449132 & 1.523766 & -0.1292688\\\\\n",
       "\tIFNg\\_TNF & -0.9969437 & 0.76601176 & -0.9996725 & -0.7070260 &  0.77343390 & 1.488802 & -0.3246049\\\\\n",
       "\tTNF & -1.0502465 & 1.29336454 & -0.4525567 & -0.7935499 &  0.43072500 & 1.296180 & -0.7239163\\\\\n",
       "\\end{tabular}\n"
      ],
      "text/markdown": [
       "\n",
       "A data.frame: 6 × 7\n",
       "\n",
       "| <!--/--> | CD14mono &lt;dbl&gt; | CD14mono_IFN &lt;dbl&gt; | CD14mono_alt_act &lt;dbl&gt; | CD16mono &lt;dbl&gt; | CD16mono_C1 &lt;dbl&gt; | CD16mono_IFN &lt;dbl&gt; | Int.mono &lt;dbl&gt; |\n",
       "|---|---|---|---|---|---|---|---|\n",
       "| upLPS | -1.2081330 | 0.05384968 | -1.0617146 |  0.6025635 |  0.67534618 | 1.506131 | -0.5680424 |\n",
       "| sLPS | -0.4635026 | 0.71211078 | -1.3394129 |  0.4359371 | -0.08005483 | 1.595779 | -0.8608570 |\n",
       "| sLPS_IFNg | -0.9892550 | 0.07383850 | -1.3794471 |  0.2470734 |  0.70072567 | 1.582844 | -0.2357793 |\n",
       "| IFNg | -1.1212026 | 0.44761216 | -1.1789375 | -0.3664610 |  0.82449132 | 1.523766 | -0.1292688 |\n",
       "| IFNg_TNF | -0.9969437 | 0.76601176 | -0.9996725 | -0.7070260 |  0.77343390 | 1.488802 | -0.3246049 |\n",
       "| TNF | -1.0502465 | 1.29336454 | -0.4525567 | -0.7935499 |  0.43072500 | 1.296180 | -0.7239163 |\n",
       "\n"
      ],
      "text/plain": [
       "          CD14mono   CD14mono_IFN CD14mono_alt_act CD16mono   CD16mono_C1\n",
       "upLPS     -1.2081330 0.05384968   -1.0617146        0.6025635  0.67534618\n",
       "sLPS      -0.4635026 0.71211078   -1.3394129        0.4359371 -0.08005483\n",
       "sLPS_IFNg -0.9892550 0.07383850   -1.3794471        0.2470734  0.70072567\n",
       "IFNg      -1.1212026 0.44761216   -1.1789375       -0.3664610  0.82449132\n",
       "IFNg_TNF  -0.9969437 0.76601176   -0.9996725       -0.7070260  0.77343390\n",
       "TNF       -1.0502465 1.29336454   -0.4525567       -0.7935499  0.43072500\n",
       "          CD16mono_IFN Int.mono  \n",
       "upLPS     1.506131     -0.5680424\n",
       "sLPS      1.595779     -0.8608570\n",
       "sLPS_IFNg 1.582844     -0.2357793\n",
       "IFNg      1.523766     -0.1292688\n",
       "IFNg_TNF  1.488802     -0.3246049\n",
       "TNF       1.296180     -0.7239163"
      ]
     },
     "metadata": {},
     "output_type": "display_data"
    }
   ],
   "source": [
    "head(to_plot)"
   ]
  },
  {
   "cell_type": "code",
   "execution_count": 4,
   "id": "canadian-detection",
   "metadata": {},
   "outputs": [
    {
     "data": {
      "text/html": [
       "<table class=\"dataframe\">\n",
       "<caption>A matrix: 6 × 7 of type dbl</caption>\n",
       "<thead>\n",
       "\t<tr><th></th><th scope=col>CD14mono</th><th scope=col>CD14mono_IFN</th><th scope=col>CD14mono_alt_act</th><th scope=col>CD16mono</th><th scope=col>CD16mono_C1</th><th scope=col>CD16mono_IFN</th><th scope=col>Int.mono</th></tr>\n",
       "</thead>\n",
       "<tbody>\n",
       "\t<tr><th scope=row>upLPS</th><td>-1.2081330</td><td>0.05384968</td><td>-1.0617146</td><td> 0.6025635</td><td> 0.67534618</td><td>1.506131</td><td>-0.5680424</td></tr>\n",
       "\t<tr><th scope=row>sLPS</th><td>-0.4635026</td><td>0.71211078</td><td>-1.3394129</td><td> 0.4359371</td><td>-0.08005483</td><td>1.595779</td><td>-0.8608570</td></tr>\n",
       "\t<tr><th scope=row>sLPS_IFNg</th><td>-0.9892550</td><td>0.07383850</td><td>-1.3794471</td><td> 0.2470734</td><td> 0.70072567</td><td>1.582844</td><td>-0.2357793</td></tr>\n",
       "\t<tr><th scope=row>IFNg</th><td>-1.1212026</td><td>0.44761216</td><td>-1.1789375</td><td>-0.3664610</td><td> 0.82449132</td><td>1.523766</td><td>-0.1292688</td></tr>\n",
       "\t<tr><th scope=row>IFNg_TNF</th><td>-0.9969437</td><td>0.76601176</td><td>-0.9996725</td><td>-0.7070260</td><td> 0.77343390</td><td>1.488802</td><td>-0.3246049</td></tr>\n",
       "\t<tr><th scope=row>TNF</th><td>-1.0502465</td><td>1.29336454</td><td>-0.4525567</td><td>-0.7935499</td><td> 0.43072500</td><td>1.296180</td><td>-0.7239163</td></tr>\n",
       "</tbody>\n",
       "</table>\n"
      ],
      "text/latex": [
       "A matrix: 6 × 7 of type dbl\n",
       "\\begin{tabular}{r|lllllll}\n",
       "  & CD14mono & CD14mono\\_IFN & CD14mono\\_alt\\_act & CD16mono & CD16mono\\_C1 & CD16mono\\_IFN & Int.mono\\\\\n",
       "\\hline\n",
       "\tupLPS & -1.2081330 & 0.05384968 & -1.0617146 &  0.6025635 &  0.67534618 & 1.506131 & -0.5680424\\\\\n",
       "\tsLPS & -0.4635026 & 0.71211078 & -1.3394129 &  0.4359371 & -0.08005483 & 1.595779 & -0.8608570\\\\\n",
       "\tsLPS\\_IFNg & -0.9892550 & 0.07383850 & -1.3794471 &  0.2470734 &  0.70072567 & 1.582844 & -0.2357793\\\\\n",
       "\tIFNg & -1.1212026 & 0.44761216 & -1.1789375 & -0.3664610 &  0.82449132 & 1.523766 & -0.1292688\\\\\n",
       "\tIFNg\\_TNF & -0.9969437 & 0.76601176 & -0.9996725 & -0.7070260 &  0.77343390 & 1.488802 & -0.3246049\\\\\n",
       "\tTNF & -1.0502465 & 1.29336454 & -0.4525567 & -0.7935499 &  0.43072500 & 1.296180 & -0.7239163\\\\\n",
       "\\end{tabular}\n"
      ],
      "text/markdown": [
       "\n",
       "A matrix: 6 × 7 of type dbl\n",
       "\n",
       "| <!--/--> | CD14mono | CD14mono_IFN | CD14mono_alt_act | CD16mono | CD16mono_C1 | CD16mono_IFN | Int.mono |\n",
       "|---|---|---|---|---|---|---|---|\n",
       "| upLPS | -1.2081330 | 0.05384968 | -1.0617146 |  0.6025635 |  0.67534618 | 1.506131 | -0.5680424 |\n",
       "| sLPS | -0.4635026 | 0.71211078 | -1.3394129 |  0.4359371 | -0.08005483 | 1.595779 | -0.8608570 |\n",
       "| sLPS_IFNg | -0.9892550 | 0.07383850 | -1.3794471 |  0.2470734 |  0.70072567 | 1.582844 | -0.2357793 |\n",
       "| IFNg | -1.1212026 | 0.44761216 | -1.1789375 | -0.3664610 |  0.82449132 | 1.523766 | -0.1292688 |\n",
       "| IFNg_TNF | -0.9969437 | 0.76601176 | -0.9996725 | -0.7070260 |  0.77343390 | 1.488802 | -0.3246049 |\n",
       "| TNF | -1.0502465 | 1.29336454 | -0.4525567 | -0.7935499 |  0.43072500 | 1.296180 | -0.7239163 |\n",
       "\n"
      ],
      "text/plain": [
       "          CD14mono   CD14mono_IFN CD14mono_alt_act CD16mono   CD16mono_C1\n",
       "upLPS     -1.2081330 0.05384968   -1.0617146        0.6025635  0.67534618\n",
       "sLPS      -0.4635026 0.71211078   -1.3394129        0.4359371 -0.08005483\n",
       "sLPS_IFNg -0.9892550 0.07383850   -1.3794471        0.2470734  0.70072567\n",
       "IFNg      -1.1212026 0.44761216   -1.1789375       -0.3664610  0.82449132\n",
       "IFNg_TNF  -0.9969437 0.76601176   -0.9996725       -0.7070260  0.77343390\n",
       "TNF       -1.0502465 1.29336454   -0.4525567       -0.7935499  0.43072500\n",
       "          CD16mono_IFN Int.mono  \n",
       "upLPS     1.506131     -0.5680424\n",
       "sLPS      1.595779     -0.8608570\n",
       "sLPS_IFNg 1.582844     -0.2357793\n",
       "IFNg      1.523766     -0.1292688\n",
       "IFNg_TNF  1.488802     -0.3246049\n",
       "TNF       1.296180     -0.7239163"
      ]
     },
     "metadata": {},
     "output_type": "display_data"
    }
   ],
   "source": [
    "to_plot <- as.matrix(to_plot)\n",
    "head(to_plot)"
   ]
  },
  {
   "cell_type": "code",
   "execution_count": 5,
   "id": "compact-moscow",
   "metadata": {},
   "outputs": [],
   "source": [
    "grouping <- read.csv('/home/jovyan/scripts/stat3/downstream_analysis/gene_scores/cytokine_grouping1.csv',row.names=\"X\")"
   ]
  },
  {
   "cell_type": "code",
   "execution_count": 6,
   "id": "approved-elephant",
   "metadata": {},
   "outputs": [
    {
     "data": {
      "text/html": [
       "<table class=\"dataframe\">\n",
       "<caption>A data.frame: 10 × 2</caption>\n",
       "<thead>\n",
       "\t<tr><th></th><th scope=col>group</th><th scope=col>cell_type</th></tr>\n",
       "\t<tr><th></th><th scope=col>&lt;chr&gt;</th><th scope=col>&lt;chr&gt;</th></tr>\n",
       "</thead>\n",
       "<tbody>\n",
       "\t<tr><th scope=row>upLPS </th><td>INFG_stimulated</td><td>M1</td></tr>\n",
       "\t<tr><th scope=row>sLPS</th><td>INFG_stimulated</td><td>M1</td></tr>\n",
       "\t<tr><th scope=row>sLPS_IFNg</th><td>INFG_stimulated</td><td>M1</td></tr>\n",
       "\t<tr><th scope=row>IFNg</th><td>INFG_stimulated</td><td>M1</td></tr>\n",
       "\t<tr><th scope=row>IFNg_TNF</th><td>INFG_stimulated</td><td>M1</td></tr>\n",
       "\t<tr><th scope=row>TNF</th><td>INFG_stimulated</td><td>M1</td></tr>\n",
       "\t<tr><th scope=row>IL13</th><td>IL4_stimulated </td><td>M2</td></tr>\n",
       "\t<tr><th scope=row>IL4</th><td>IL4_stimulated </td><td>M2</td></tr>\n",
       "\t<tr><th scope=row>IL4_upLPS</th><td>IL4_stimulated </td><td>M2</td></tr>\n",
       "\t<tr><th scope=row>sLPS_IC</th><td>IL4_stimulated </td><td>M2</td></tr>\n",
       "</tbody>\n",
       "</table>\n"
      ],
      "text/latex": [
       "A data.frame: 10 × 2\n",
       "\\begin{tabular}{r|ll}\n",
       "  & group & cell\\_type\\\\\n",
       "  & <chr> & <chr>\\\\\n",
       "\\hline\n",
       "\tupLPS  & INFG\\_stimulated & M1\\\\\n",
       "\tsLPS & INFG\\_stimulated & M1\\\\\n",
       "\tsLPS\\_IFNg & INFG\\_stimulated & M1\\\\\n",
       "\tIFNg & INFG\\_stimulated & M1\\\\\n",
       "\tIFNg\\_TNF & INFG\\_stimulated & M1\\\\\n",
       "\tTNF & INFG\\_stimulated & M1\\\\\n",
       "\tIL13 & IL4\\_stimulated  & M2\\\\\n",
       "\tIL4 & IL4\\_stimulated  & M2\\\\\n",
       "\tIL4\\_upLPS & IL4\\_stimulated  & M2\\\\\n",
       "\tsLPS\\_IC & IL4\\_stimulated  & M2\\\\\n",
       "\\end{tabular}\n"
      ],
      "text/markdown": [
       "\n",
       "A data.frame: 10 × 2\n",
       "\n",
       "| <!--/--> | group &lt;chr&gt; | cell_type &lt;chr&gt; |\n",
       "|---|---|---|\n",
       "| upLPS  | INFG_stimulated | M1 |\n",
       "| sLPS | INFG_stimulated | M1 |\n",
       "| sLPS_IFNg | INFG_stimulated | M1 |\n",
       "| IFNg | INFG_stimulated | M1 |\n",
       "| IFNg_TNF | INFG_stimulated | M1 |\n",
       "| TNF | INFG_stimulated | M1 |\n",
       "| IL13 | IL4_stimulated  | M2 |\n",
       "| IL4 | IL4_stimulated  | M2 |\n",
       "| IL4_upLPS | IL4_stimulated  | M2 |\n",
       "| sLPS_IC | IL4_stimulated  | M2 |\n",
       "\n"
      ],
      "text/plain": [
       "          group           cell_type\n",
       "upLPS     INFG_stimulated M1       \n",
       "sLPS      INFG_stimulated M1       \n",
       "sLPS_IFNg INFG_stimulated M1       \n",
       "IFNg      INFG_stimulated M1       \n",
       "IFNg_TNF  INFG_stimulated M1       \n",
       "TNF       INFG_stimulated M1       \n",
       "IL13      IL4_stimulated  M2       \n",
       "IL4       IL4_stimulated  M2       \n",
       "IL4_upLPS IL4_stimulated  M2       \n",
       "sLPS_IC   IL4_stimulated  M2       "
      ]
     },
     "metadata": {},
     "output_type": "display_data"
    }
   ],
   "source": [
    "head(grouping,n=10)"
   ]
  },
  {
   "cell_type": "code",
   "execution_count": 7,
   "id": "hindu-restoration",
   "metadata": {},
   "outputs": [
    {
     "data": {
      "text/html": [
       "<dl>\n",
       "\t<dt>$cell_type</dt>\n",
       "\t\t<dd><style>\n",
       ".dl-inline {width: auto; margin:0; padding: 0}\n",
       ".dl-inline>dt, .dl-inline>dd {float: none; width: auto; display: inline-block}\n",
       ".dl-inline>dt::after {content: \":\\0020\"; padding-right: .5ex}\n",
       ".dl-inline>dt:not(:first-of-type) {padding-left: .5ex}\n",
       "</style><dl class=dl-inline><dt>M1</dt><dd>'blue'</dd><dt>M2</dt><dd>'#056608'</dd><dt>mixed</dt><dd>'black'</dd><dt>other</dt><dd>'red'</dd></dl>\n",
       "</dd>\n",
       "\t<dt>$group</dt>\n",
       "\t\t<dd><style>\n",
       ".dl-inline {width: auto; margin:0; padding: 0}\n",
       ".dl-inline>dt, .dl-inline>dd {float: none; width: auto; display: inline-block}\n",
       ".dl-inline>dt::after {content: \":\\0020\"; padding-right: .5ex}\n",
       ".dl-inline>dt:not(:first-of-type) {padding-left: .5ex}\n",
       "</style><dl class=dl-inline><dt>INFG_stimulated</dt><dd>'blue'</dd><dt>IL4_stimulated</dt><dd>'#056608'</dd><dt>mixed</dt><dd>'black'</dd><dt>other</dt><dd>'red'</dd></dl>\n",
       "</dd>\n",
       "</dl>\n"
      ],
      "text/latex": [
       "\\begin{description}\n",
       "\\item[\\$cell\\_type] \\begin{description*}\n",
       "\\item[M1] 'blue'\n",
       "\\item[M2] '\\#056608'\n",
       "\\item[mixed] 'black'\n",
       "\\item[other] 'red'\n",
       "\\end{description*}\n",
       "\n",
       "\\item[\\$group] \\begin{description*}\n",
       "\\item[INFG\\textbackslash{}\\_stimulated] 'blue'\n",
       "\\item[IL4\\textbackslash{}\\_stimulated] '\\#056608'\n",
       "\\item[mixed] 'black'\n",
       "\\item[other] 'red'\n",
       "\\end{description*}\n",
       "\n",
       "\\end{description}\n"
      ],
      "text/markdown": [
       "$cell_type\n",
       ":   M1\n",
       ":   'blue'M2\n",
       ":   '#056608'mixed\n",
       ":   'black'other\n",
       ":   'red'\n",
       "\n",
       "\n",
       "$group\n",
       ":   INFG_stimulated\n",
       ":   'blue'IL4_stimulated\n",
       ":   '#056608'mixed\n",
       ":   'black'other\n",
       ":   'red'\n",
       "\n",
       "\n",
       "\n",
       "\n"
      ],
      "text/plain": [
       "$cell_type\n",
       "       M1        M2     mixed     other \n",
       "   \"blue\" \"#056608\"   \"black\"     \"red\" \n",
       "\n",
       "$group\n",
       "INFG_stimulated  IL4_stimulated           mixed           other \n",
       "         \"blue\"       \"#056608\"         \"black\"           \"red\" \n"
      ]
     },
     "metadata": {},
     "output_type": "display_data"
    }
   ],
   "source": [
    "ann_colors = list(\n",
    "    cell_type =c(M1 ='blue',M2 ='#056608',mixed = 'black',other = 'red'),\n",
    "  group = c( INFG_stimulated=\"blue\",IL4_stimulated=\"#056608\",mixed ='black',other ='red'))\n",
    "ann_colors"
   ]
  },
  {
   "cell_type": "code",
   "execution_count": 8,
   "id": "unable-boring",
   "metadata": {},
   "outputs": [],
   "source": [
    "save_pheatmap_pdf <- function(x, filename, width=9, height=12) {\n",
    "   stopifnot(!missing(x))\n",
    "   stopifnot(!missing(filename))\n",
    "   pdf(filename, width=width, height=height)\n",
    "   grid::grid.newpage()\n",
    "   grid::grid.draw(x$gtable)\n",
    "   dev.off()\n",
    "}"
   ]
  },
  {
   "cell_type": "code",
   "execution_count": 9,
   "id": "neither-swimming",
   "metadata": {},
   "outputs": [
    {
     "data": {
      "text/html": [
       "<style>\n",
       ".list-inline {list-style: none; margin:0; padding: 0}\n",
       ".list-inline>li {display: inline-block}\n",
       ".list-inline>li:not(:last-child)::after {content: \"\\00b7\"; padding: 0 .5ex}\n",
       "</style>\n",
       "<ol class=list-inline><li>28</li><li>7</li></ol>\n"
      ],
      "text/latex": [
       "\\begin{enumerate*}\n",
       "\\item 28\n",
       "\\item 7\n",
       "\\end{enumerate*}\n"
      ],
      "text/markdown": [
       "1. 28\n",
       "2. 7\n",
       "\n",
       "\n"
      ],
      "text/plain": [
       "[1] 28  7"
      ]
     },
     "metadata": {},
     "output_type": "display_data"
    }
   ],
   "source": [
    "dim(to_plot)"
   ]
  },
  {
   "cell_type": "code",
   "execution_count": 10,
   "id": "computational-recognition",
   "metadata": {},
   "outputs": [
    {
     "data": {
      "text/html": [
       "<style>\n",
       ".list-inline {list-style: none; margin:0; padding: 0}\n",
       ".list-inline>li {display: inline-block}\n",
       ".list-inline>li:not(:last-child)::after {content: \"\\00b7\"; padding: 0 .5ex}\n",
       "</style>\n",
       "<ol class=list-inline><li>28</li><li>2</li></ol>\n"
      ],
      "text/latex": [
       "\\begin{enumerate*}\n",
       "\\item 28\n",
       "\\item 2\n",
       "\\end{enumerate*}\n"
      ],
      "text/markdown": [
       "1. 28\n",
       "2. 2\n",
       "\n",
       "\n"
      ],
      "text/plain": [
       "[1] 28  2"
      ]
     },
     "metadata": {},
     "output_type": "display_data"
    }
   ],
   "source": [
    "dim(grouping)"
   ]
  },
  {
   "cell_type": "code",
   "execution_count": 11,
   "id": "greenhouse-preliminary",
   "metadata": {},
   "outputs": [
    {
     "name": "stderr",
     "output_type": "stream",
     "text": [
      "\n",
      "Attaching package: ‘pheatmap’\n",
      "\n",
      "\n",
      "The following object is masked from ‘package:ComplexHeatmap’:\n",
      "\n",
      "    pheatmap\n",
      "\n",
      "\n",
      "Loading required package: viridisLite\n",
      "\n"
     ]
    },
    {
     "data": {
      "text/html": [
       "<strong>png:</strong> 2"
      ],
      "text/latex": [
       "\\textbf{png:} 2"
      ],
      "text/markdown": [
       "**png:** 2"
      ],
      "text/plain": [
       "png \n",
       "  2 "
      ]
     },
     "metadata": {},
     "output_type": "display_data"
    },
    {
     "data": {
      "image/png": "[encoded data removed]",
      "text/plain": [
       "plot without title"
      ]
     },
     "metadata": {
      "image/png": {
       "height": 420,
       "width": 420
      }
     },
     "output_type": "display_data"
    }
   ],
   "source": [
    "library(pheatmap)\n",
    "library(ggplot2)\n",
    "library(cowplot)\n",
    "library(viridis)\n",
    "p<-pheatmap(to_plot,scale = 'row' ,fontsize = 15, show_rownames=T,cluster_row =F,cluster_col=F,show_colnames=T,annotation_row=grouping, annotation_colors = ann_colors,border_color=NA)\n",
    "save_pheatmap_pdf(p,'/home/jovyan/scripts/renal_covid_19/sig_gene_plot/allmono_wave2_pos_steroid.pdf')"
   ]
  },
  {
   "cell_type": "code",
   "execution_count": null,
   "id": "destroyed-memorial",
   "metadata": {},
   "outputs": [],
   "source": []
  },
  {
   "cell_type": "code",
   "execution_count": null,
   "id": "determined-recommendation",
   "metadata": {},
   "outputs": [],
   "source": []
  }
 ],
 "metadata": {
  "kernelspec": {
   "display_name": "R 4.1.2",
   "language": "R",
   "name": "ir412"
  },
  "language_info": {
   "codemirror_mode": "r",
   "file_extension": ".r",
   "mimetype": "text/x-r-source",
   "name": "R",
   "pygments_lexer": "r",
   "version": "4.1.2"
  }
 },
 "nbformat": 4,
 "nbformat_minor": 5
}
