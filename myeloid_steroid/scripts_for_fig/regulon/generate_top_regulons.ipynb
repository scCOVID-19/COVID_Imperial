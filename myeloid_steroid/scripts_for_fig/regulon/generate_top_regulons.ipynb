{
 "cells": [
  {
   "cell_type": "code",
   "execution_count": 1,
   "id": "confirmed-israeli",
   "metadata": {},
   "outputs": [],
   "source": [
    "import os\n",
    "import glob\n",
    "import pickle\n",
    "import pandas as pd\n",
    "import numpy as np\n",
    "from dask.diagnostics import ProgressBar\n",
    "from arboreto.utils import load_tf_names\n",
    "from arboreto.algo import grnboost2\n",
    "from ctxcore.rnkdb import FeatherRankingDatabase as RankingDatabase\n",
    "from pyscenic.utils import modules_from_adjacencies, load_motifs\n",
    "from pyscenic.prune import prune2df, df2regulons\n",
    "from pyscenic.aucell import aucell\n",
    "import seaborn as sns\n",
    "import scanpy as sc\n",
    "from pyscenic.rss import regulon_specificity_scores"
   ]
  },
  {
   "cell_type": "markdown",
   "id": "pressed-commerce",
   "metadata": {},
   "source": [
    "# load adata for count matrix"
   ]
  },
  {
   "cell_type": "code",
   "execution_count": 2,
   "id": "infectious-general",
   "metadata": {},
   "outputs": [],
   "source": [
    "adata = sc.read('/home/jovyan/scripts/renal_covid_19/steroid_pipeline/trajectory_with_Rik_model_output/wave2_steroid_2021_covid_GPLVM.h5ad')"
   ]
  },
  {
   "cell_type": "code",
   "execution_count": 3,
   "id": "blond-industry",
   "metadata": {},
   "outputs": [
    {
     "data": {
      "text/plain": [
       "AnnData object with n_obs × n_vars = 17256 × 32913\n",
       "    obs: 'annot4', 'centre', 'sample_id', 'sample_id_broad', 'sample_date', 'sample_date_yr', 'pool', 'pool_broad', 'haniffa_broad_predLabel', 'orig.ident', 'merged_souporcell_cluster', 'merged_souporcell_status', 'patient_id', 'case_control', 'WHO_severity', 'WHO_temp_severity', 'sex', 'calc_age', 'discharge_date', 'date_positive_swab', 'date_first_symptoms', 'admission_date', 'ethnicity', 'individual_id', 'pseudotime_GPLVM', 'pseudobatch_GPLVM', 'steroid_date', 'days_from_steroid', 'time_from_first_symptoms', 'time_from_positive_swab', 'time_from_infection'\n",
       "    var: 'GEX'"
      ]
     },
     "execution_count": 3,
     "metadata": {},
     "output_type": "execute_result"
    }
   ],
   "source": [
    "adata"
   ]
  },
  {
   "cell_type": "code",
   "execution_count": 4,
   "id": "handled-tracy",
   "metadata": {},
   "outputs": [
    {
     "data": {
      "text/plain": [
       "False"
      ]
     },
     "execution_count": 4,
     "metadata": {},
     "output_type": "execute_result"
    }
   ],
   "source": [
    "'C141' in list(adata.obs['sample_id_broad'].unique())"
   ]
  },
  {
   "cell_type": "code",
   "execution_count": 5,
   "id": "surprising-accent",
   "metadata": {},
   "outputs": [],
   "source": [
    "adata.obs['days_from_steroid']=adata.obs['days_from_steroid'].astype(float)"
   ]
  },
  {
   "cell_type": "code",
   "execution_count": 6,
   "id": "cellular-bernard",
   "metadata": {},
   "outputs": [],
   "source": [
    "adata.obs['steroid_timeline']='unknown'\n",
    "adata.obs.loc[adata.obs[\"days_from_steroid\"]<=0, \"steroid_timeline\"] = 'before_steroid'\n",
    "adata.obs.loc[adata.obs[\"days_from_steroid\"]>0, \"steroid_timeline\"] = 'after_steroid'"
   ]
  },
  {
   "cell_type": "code",
   "execution_count": 7,
   "id": "automated-oregon",
   "metadata": {},
   "outputs": [],
   "source": [
    "adata.obs['steroid_timeline']=adata.obs['steroid_timeline'].astype('category')"
   ]
  },
  {
   "cell_type": "code",
   "execution_count": 8,
   "id": "downtown-chick",
   "metadata": {},
   "outputs": [
    {
     "data": {
      "text/plain": [
       "['after_steroid', 'before_steroid']\n",
       "Categories (2, object): ['after_steroid', 'before_steroid']"
      ]
     },
     "execution_count": 8,
     "metadata": {},
     "output_type": "execute_result"
    }
   ],
   "source": [
    "adata.obs['steroid_timeline'].unique()"
   ]
  },
  {
   "cell_type": "code",
   "execution_count": 9,
   "id": "starting-player",
   "metadata": {},
   "outputs": [
    {
     "data": {
      "text/plain": [
       "['HSPC',\n",
       " 'Platelet',\n",
       " 'RBC',\n",
       " 'CD14mono',\n",
       " 'CD16mono',\n",
       " 'Int.mono',\n",
       " 'CD14mono_anti_inflammatory',\n",
       " 'CD14mono_IFN',\n",
       " 'CD14mono_activated',\n",
       " 'CD16mono_IFN',\n",
       " 'CD16mono_C1',\n",
       " 'DC3_IFN',\n",
       " 'DC2',\n",
       " 'pDC',\n",
       " 'DC3',\n",
       " 'DC1',\n",
       " 'ASDC']"
      ]
     },
     "execution_count": 9,
     "metadata": {},
     "output_type": "execute_result"
    }
   ],
   "source": [
    "list(adata.obs['annot4'].unique())"
   ]
  },
  {
   "cell_type": "code",
   "execution_count": 10,
   "id": "smaller-estonia",
   "metadata": {},
   "outputs": [],
   "source": [
    "adata = adata[adata.obs['annot4'].isin(['CD14mono','CD14mono_IFN','CD14mono_activated','CD14mono_anti_inflammatory'])] #'CD14mono','CD14mono_IFN','CD14mono_activated',"
   ]
  },
  {
   "cell_type": "code",
   "execution_count": 11,
   "id": "convertible-laundry",
   "metadata": {},
   "outputs": [
    {
     "data": {
      "text/plain": [
       "['CD14mono', 'CD14mono_anti_inflammatory', 'CD14mono_IFN', 'CD14mono_activated']\n",
       "Categories (4, object): ['CD14mono', 'CD14mono_IFN', 'CD14mono_activated', 'CD14mono_anti_inflammatory']"
      ]
     },
     "execution_count": 11,
     "metadata": {},
     "output_type": "execute_result"
    }
   ],
   "source": [
    "adata.obs['annot4'].unique()"
   ]
  },
  {
   "cell_type": "code",
   "execution_count": 12,
   "id": "modern-treasurer",
   "metadata": {},
   "outputs": [],
   "source": [
    "#gettting count matrix\n",
    "ex_matrix = pd.DataFrame(adata.X.toarray())\n",
    "ex_matrix.columns = adata.var.index\n",
    "ex_matrix.index = adata.obs.index"
   ]
  },
  {
   "cell_type": "code",
   "execution_count": 13,
   "id": "reflected-address",
   "metadata": {},
   "outputs": [],
   "source": [
    "# define data folder and files\n",
    "DATA_FOLDER=\"/home/jovyan/scripts/renal_covid_19/steroid_pipeline/regulon_analysis/\"\n",
    "RESOURCES_FOLDER=\"/lustre/scratch117/cellgen/team298/win/regulon_own_data/\"\n",
    "DATABASES_GLOB = os.path.join(RESOURCES_FOLDER, \"hg38__refseq-r80__10kb_up_and_down_tss.mc9nr.feather\")#from https://resources.aertslab.org/cistarget/\n",
    "MOTIF_ANNOTATIONS_FNAME = os.path.join(RESOURCES_FOLDER, \"motifs-v9-nr.hgnc-m0.001-o0.0.tbl\") #from https://resources.aertslab.org/cistarget/\n",
    "MM_TFS_FNAME = os.path.join(RESOURCES_FOLDER, 'lambert2018.txt') # from https://github.com/aertslab/pySCENIC/blob/master/resources/lambert2018.txt\n",
    "REGULONS_FNAME = os.path.join(DATA_FOLDER, \"CD14_wave2_steroid_2021.p\") #CD14_wave2_steroid_2021.p\n",
    "MOTIFS_FNAME = os.path.join(DATA_FOLDER, \"CD14_wave2_steroid_2021.csv\")\n"
   ]
  },
  {
   "cell_type": "code",
   "execution_count": null,
   "id": "postal-stereo",
   "metadata": {},
   "outputs": [],
   "source": [
    "DATABASES_GLOB"
   ]
  },
  {
   "cell_type": "code",
   "execution_count": null,
   "id": "injured-garden",
   "metadata": {},
   "outputs": [],
   "source": [
    "ex_matrix.head()"
   ]
  },
  {
   "cell_type": "markdown",
   "id": "offensive-discharge",
   "metadata": {},
   "source": [
    "# calculate adjacencies - co expression genes and TF"
   ]
  },
  {
   "cell_type": "code",
   "execution_count": null,
   "id": "appreciated-yeast",
   "metadata": {},
   "outputs": [],
   "source": [
    "tf_names = load_tf_names(MM_TFS_FNAME)"
   ]
  },
  {
   "cell_type": "code",
   "execution_count": null,
   "id": "expensive-destination",
   "metadata": {},
   "outputs": [],
   "source": [
    "db_fnames = glob.glob(DATABASES_GLOB)\n",
    "def name(fname):\n",
    "    return os.path.splitext(os.path.basename(fname))[0]\n",
    "dbs = [RankingDatabase(fname=fname, name=name(fname)) for fname in db_fnames]\n",
    "dbs"
   ]
  },
  {
   "cell_type": "code",
   "execution_count": null,
   "id": "intensive-plant",
   "metadata": {
    "tags": []
   },
   "outputs": [],
   "source": [
    "adjacencies = grnboost2(ex_matrix, tf_names=tf_names, verbose=True)\n"
   ]
  },
  {
   "cell_type": "code",
   "execution_count": null,
   "id": "lovely-amazon",
   "metadata": {},
   "outputs": [],
   "source": [
    "adjacencies"
   ]
  },
  {
   "cell_type": "code",
   "execution_count": null,
   "id": "superior-slave",
   "metadata": {},
   "outputs": [],
   "source": [
    "adjacencies.to_csv('/home/jovyan/scripts/renal_covid_19/steroid_pipeline/regulon_analysis/adjacencies_CD14_wave2_steroid_2021.csv')"
   ]
  },
  {
   "cell_type": "code",
   "execution_count": null,
   "id": "charming-settle",
   "metadata": {},
   "outputs": [],
   "source": [
    "# Derive modules from adjacencies\n",
    "modules = list(modules_from_adjacencies(adjacencies, ex_matrix))"
   ]
  },
  {
   "cell_type": "markdown",
   "id": "veterinary-clearing",
   "metadata": {},
   "source": [
    "# pruning for enriched motif"
   ]
  },
  {
   "cell_type": "code",
   "execution_count": null,
   "id": "driven-diesel",
   "metadata": {
    "tags": []
   },
   "outputs": [],
   "source": [
    "# Calculate a list of enriched motifs and the corresponding target genes for all modules.\n",
    "with ProgressBar():\n",
    "    df = prune2df(dbs, modules, MOTIF_ANNOTATIONS_FNAME)\n",
    "# Create regulons from this table of enriched motifs.\n",
    "regulons = df2regulons(df)"
   ]
  },
  {
   "cell_type": "code",
   "execution_count": null,
   "id": "social-touch",
   "metadata": {},
   "outputs": [],
   "source": [
    "df.shape"
   ]
  },
  {
   "cell_type": "code",
   "execution_count": null,
   "id": "controversial-parameter",
   "metadata": {},
   "outputs": [],
   "source": [
    "df.to_csv(MOTIFS_FNAME)\n",
    "with open(REGULONS_FNAME, \"wb\") as f:\n",
    "    pickle.dump(regulons, f)\n"
   ]
  },
  {
   "cell_type": "markdown",
   "id": "british-reconstruction",
   "metadata": {},
   "source": [
    "# for stringDB analysis"
   ]
  },
  {
   "cell_type": "code",
   "execution_count": null,
   "id": "retired-harvard",
   "metadata": {},
   "outputs": [],
   "source": [
    "# getting high var"
   ]
  },
  {
   "cell_type": "code",
   "execution_count": null,
   "id": "pleased-happiness",
   "metadata": {},
   "outputs": [],
   "source": [
    "adata"
   ]
  },
  {
   "cell_type": "code",
   "execution_count": 14,
   "id": "private-diary",
   "metadata": {},
   "outputs": [
    {
     "data": {
      "text/plain": [
       "['CD14mono', 'CD14mono_anti_inflammatory', 'CD14mono_IFN', 'CD14mono_activated']\n",
       "Categories (4, object): ['CD14mono', 'CD14mono_IFN', 'CD14mono_activated', 'CD14mono_anti_inflammatory']"
      ]
     },
     "execution_count": 14,
     "metadata": {},
     "output_type": "execute_result"
    }
   ],
   "source": [
    "adata.obs['annot4'].unique()"
   ]
  },
  {
   "cell_type": "code",
   "execution_count": null,
   "id": "indoor-wages",
   "metadata": {},
   "outputs": [],
   "source": [
    "sc.pp.normalize_total(adata, target_sum=1e4)"
   ]
  },
  {
   "cell_type": "code",
   "execution_count": null,
   "id": "standard-tracker",
   "metadata": {},
   "outputs": [],
   "source": [
    "sc.pp.log1p(adata)"
   ]
  },
  {
   "cell_type": "code",
   "execution_count": null,
   "id": "rubber-boating",
   "metadata": {},
   "outputs": [],
   "source": [
    "# find highly variable genes\n",
    "sc.pp.highly_variable_genes(adata, min_mean=0.0125, max_mean=3, min_disp=0.5,n_top_genes=2000)\n",
    "sc.pl.highly_variable_genes(adata)"
   ]
  },
  {
   "cell_type": "code",
   "execution_count": null,
   "id": "patent-living",
   "metadata": {
    "tags": []
   },
   "outputs": [],
   "source": [
    "# remove vdj and light chain constant genes from highly variable genes, and also the viral reads\n",
    "import re\n",
    "for i in adata.var.index:\n",
    "    if re.search('^IG[HKL][VDJC]|VIRAL', i):\n",
    "        adata.var.at[i, 'highly_variable'] = False\n",
    "sc.pl.highly_variable_genes(adata)"
   ]
  },
  {
   "cell_type": "code",
   "execution_count": null,
   "id": "oriental-generator",
   "metadata": {},
   "outputs": [],
   "source": [
    "adata"
   ]
  },
  {
   "cell_type": "code",
   "execution_count": null,
   "id": "billion-documentary",
   "metadata": {},
   "outputs": [],
   "source": [
    "# transfer to .raw slot\n",
    "adata.raw = adata"
   ]
  },
  {
   "cell_type": "code",
   "execution_count": null,
   "id": "broad-slide",
   "metadata": {},
   "outputs": [],
   "source": [
    "adata = adata[:, adata.var.highly_variable].copy()\n",
    "adata"
   ]
  },
  {
   "cell_type": "code",
   "execution_count": null,
   "id": "pleased-dating",
   "metadata": {},
   "outputs": [],
   "source": [
    "highvar= (list(adata.var.index))"
   ]
  },
  {
   "cell_type": "code",
   "execution_count": 15,
   "id": "dietary-valuation",
   "metadata": {},
   "outputs": [],
   "source": [
    "with open(REGULONS_FNAME,'rb') as f:\n",
    "    data = pickle.load(f)"
   ]
  },
  {
   "cell_type": "code",
   "execution_count": null,
   "id": "wrong-pontiac",
   "metadata": {},
   "outputs": [],
   "source": [
    "#data[0]"
   ]
  },
  {
   "cell_type": "code",
   "execution_count": null,
   "id": "latter-mistress",
   "metadata": {
    "tags": []
   },
   "outputs": [],
   "source": [
    "data"
   ]
  },
  {
   "cell_type": "code",
   "execution_count": 72,
   "id": "after-heather",
   "metadata": {},
   "outputs": [],
   "source": [
    "genes = {}\n",
    "for i in range(0, len(data)):\n",
    "    if data[i].name in ['MAZ(+)']:\n",
    "        genes[data[i].name] = list(data[i].gene2weight.keys())"
   ]
  },
  {
   "cell_type": "code",
   "execution_count": 73,
   "id": "widespread-interval",
   "metadata": {
    "tags": []
   },
   "outputs": [
    {
     "data": {
      "text/plain": [
       "{'MAZ(+)': ['BAG6',\n",
       "  'EPN1',\n",
       "  'NOSIP',\n",
       "  'CAP1',\n",
       "  'UQCRQ',\n",
       "  'ARPC3',\n",
       "  'ROMO1',\n",
       "  'NDUFS3',\n",
       "  'SEC24C',\n",
       "  'COX5B',\n",
       "  'RPL27A',\n",
       "  'UBL5',\n",
       "  'WDR83OS',\n",
       "  'RPS19',\n",
       "  'COG3',\n",
       "  'CIB1',\n",
       "  'EIF3I',\n",
       "  'SLC35C2',\n",
       "  'CDC123',\n",
       "  'POLDIP2',\n",
       "  'UQCRH',\n",
       "  'LMAN2',\n",
       "  'ABHD17A',\n",
       "  'SF3B4',\n",
       "  'ANAPC15',\n",
       "  'PATL1',\n",
       "  'SRP14',\n",
       "  'RAB11A',\n",
       "  'SNRPE',\n",
       "  'URM1',\n",
       "  'KAT5',\n",
       "  'TADA3',\n",
       "  'CHMP2A',\n",
       "  'EIF3L',\n",
       "  'NOC3L',\n",
       "  'NIPBL',\n",
       "  'MARK2',\n",
       "  'RPL37',\n",
       "  'MRPL3',\n",
       "  'SART1',\n",
       "  'DR1',\n",
       "  'C11orf24',\n",
       "  'PDAP1',\n",
       "  'AP1M1',\n",
       "  'GNAI2',\n",
       "  'RPL32',\n",
       "  'DHX36',\n",
       "  'RPS21',\n",
       "  'SNRPD1',\n",
       "  'CHCHD5',\n",
       "  'FKBP2',\n",
       "  'STARD3',\n",
       "  'BANF1',\n",
       "  'EIF1AD',\n",
       "  'EIF3M',\n",
       "  'GABARAPL2',\n",
       "  'PUF60',\n",
       "  'RPS14',\n",
       "  'SLC30A7',\n",
       "  'NORAD',\n",
       "  'UBALD1',\n",
       "  'LSM1',\n",
       "  'ACTB',\n",
       "  'HINT1',\n",
       "  'VMA21',\n",
       "  'WDR45',\n",
       "  'ELK3',\n",
       "  'LARP4',\n",
       "  'PET100',\n",
       "  'SCNM1',\n",
       "  'GSPT1',\n",
       "  'HSP90AB1',\n",
       "  'RPL6',\n",
       "  'CFL1',\n",
       "  'C14orf119',\n",
       "  'EIF6',\n",
       "  'UBR1',\n",
       "  'CELF1',\n",
       "  'SLC35A4',\n",
       "  'RPL7L1',\n",
       "  'TINF2',\n",
       "  'UFC1',\n",
       "  'MRPS21',\n",
       "  'SNRPB',\n",
       "  'RPS6',\n",
       "  'PEX16',\n",
       "  'PHB2',\n",
       "  'SPG21',\n",
       "  'EIF3K',\n",
       "  'HSP90B1',\n",
       "  'BFAR',\n",
       "  'CCDC137',\n",
       "  'MRPL33',\n",
       "  'SNIP1',\n",
       "  'PAIP2',\n",
       "  'PDCD6',\n",
       "  'MRPL52',\n",
       "  'RAPH1',\n",
       "  'RPS18',\n",
       "  'CSK',\n",
       "  'TOMM70',\n",
       "  'ITFG1',\n",
       "  'RPL38',\n",
       "  'EIF5A2',\n",
       "  'PFDN6',\n",
       "  'COX8A',\n",
       "  'SUB1',\n",
       "  'NUDC',\n",
       "  'ZSCAN16-AS1',\n",
       "  'FIS1',\n",
       "  'CSNK1G2',\n",
       "  'CARHSP1',\n",
       "  'RPL26',\n",
       "  'XAB2',\n",
       "  'RACK1',\n",
       "  'SLU7',\n",
       "  'ACTR2',\n",
       "  'FAM129B',\n",
       "  'UTP3',\n",
       "  'RPL31',\n",
       "  'SRPRA',\n",
       "  'VEZF1',\n",
       "  'CYB5R4',\n",
       "  'MRPS34',\n",
       "  'SET',\n",
       "  'CYB561D2',\n",
       "  'STX10',\n",
       "  'GATAD2B',\n",
       "  'IMP3',\n",
       "  'CDK9',\n",
       "  'EEF1B2',\n",
       "  'TPGS1',\n",
       "  'RNF25',\n",
       "  'P4HB',\n",
       "  'RSL24D1',\n",
       "  'SASH3',\n",
       "  'RPL19',\n",
       "  'SH3BP1',\n",
       "  'WDR1',\n",
       "  'HAT1',\n",
       "  'CCT7',\n",
       "  'TPM3',\n",
       "  'UVRAG',\n",
       "  'ARID4A',\n",
       "  'CSNK1A1',\n",
       "  'HSPD1',\n",
       "  'UBFD1',\n",
       "  'KMT2E',\n",
       "  'SRSF3',\n",
       "  'AMD1',\n",
       "  'CIRBP',\n",
       "  'CTCF',\n",
       "  'SLAIN2',\n",
       "  'CCNL1',\n",
       "  'HNRNPK',\n",
       "  'EIF4G2',\n",
       "  'RPL18A',\n",
       "  'HSF1',\n",
       "  'MAP2K5',\n",
       "  'RBM3',\n",
       "  'RNF26',\n",
       "  'GNAS',\n",
       "  'GAPDH',\n",
       "  'EEF2',\n",
       "  'ILF3',\n",
       "  'ARF1',\n",
       "  'SYNCRIP',\n",
       "  'RAB22A',\n",
       "  'AHNAK',\n",
       "  'GCHFR',\n",
       "  'TRAK1',\n",
       "  'DHX15',\n",
       "  'RPL17',\n",
       "  'TRPV2',\n",
       "  'PPP1CC',\n",
       "  'BSN',\n",
       "  'TSC22D3',\n",
       "  'SMC4',\n",
       "  'ACTG1',\n",
       "  'RAF1',\n",
       "  'YWHAZ',\n",
       "  'SMC3',\n",
       "  'UBA52',\n",
       "  'ANKRD30BL',\n",
       "  'EIF2S2',\n",
       "  'BPTF',\n",
       "  'SMAD4',\n",
       "  'RPS29',\n",
       "  'NCOR2',\n",
       "  'PTAFR',\n",
       "  'STARD7',\n",
       "  'SKIL',\n",
       "  'MARVELD1',\n",
       "  'RHBDF2',\n",
       "  'MAZ',\n",
       "  'EIF3A',\n",
       "  'SREBF2',\n",
       "  'CLINT1',\n",
       "  'USP8',\n",
       "  'PRPF38B',\n",
       "  'RPS27',\n",
       "  'RAB13',\n",
       "  'UBE2Q1',\n",
       "  'CREB1',\n",
       "  'TUBA1A',\n",
       "  'S100A10',\n",
       "  'PITRM1',\n",
       "  'ANXA2',\n",
       "  'LGALS1',\n",
       "  'PIGM',\n",
       "  'FOXH1',\n",
       "  'PDZD11',\n",
       "  'TSR1',\n",
       "  'MAP3K7',\n",
       "  'MN1',\n",
       "  'FAM228B',\n",
       "  'GPAA1',\n",
       "  'BRF2',\n",
       "  'C2orf76',\n",
       "  'HEATR1',\n",
       "  'GTF3C5',\n",
       "  'METTL5',\n",
       "  'ZNF503',\n",
       "  'ING2',\n",
       "  'CNOT6',\n",
       "  'NAA15',\n",
       "  'SH3PXD2A',\n",
       "  'IKZF5',\n",
       "  'WIZ',\n",
       "  'RBM19',\n",
       "  'DGCR2',\n",
       "  'THAP1',\n",
       "  'PPP1R26',\n",
       "  'SPRED1',\n",
       "  'GFPT1',\n",
       "  'KPTN',\n",
       "  'ZBED5',\n",
       "  'NEK1',\n",
       "  'FEM1A']}"
      ]
     },
     "execution_count": 73,
     "metadata": {},
     "output_type": "execute_result"
    }
   ],
   "source": [
    "genes"
   ]
  },
  {
   "cell_type": "code",
   "execution_count": 74,
   "id": "joined-opportunity",
   "metadata": {},
   "outputs": [],
   "source": [
    "allgenes = []\n",
    "for k, r in genes.items():\n",
    "    for rr in r:\n",
    "        allgenes.append(rr)\n",
    "allgenes = list(set(allgenes))"
   ]
  },
  {
   "cell_type": "code",
   "execution_count": 75,
   "id": "confidential-stocks",
   "metadata": {},
   "outputs": [
    {
     "data": {
      "text/plain": [
       "239"
      ]
     },
     "execution_count": 75,
     "metadata": {},
     "output_type": "execute_result"
    }
   ],
   "source": [
    "len(allgenes)"
   ]
  },
  {
   "cell_type": "code",
   "execution_count": 76,
   "id": "olympic-affair",
   "metadata": {},
   "outputs": [
    {
     "data": {
      "text/plain": [
       "239"
      ]
     },
     "execution_count": 76,
     "metadata": {},
     "output_type": "execute_result"
    }
   ],
   "source": [
    "len(allgenes)"
   ]
  },
  {
   "cell_type": "code",
   "execution_count": 77,
   "id": "entire-aruba",
   "metadata": {},
   "outputs": [],
   "source": [
    "import csv\n",
    "newfilePath = '/home/jovyan/scripts/renal_covid_19/steroid_pipeline_corrected/steroid_pipeline/regulon_analysis/target_genes1.csv'\n",
    "with open(newfilePath, \"w\") as f:\n",
    "    writer = csv.writer(f)\n",
    "    writer.writerow(allgenes)"
   ]
  },
  {
   "cell_type": "code",
   "execution_count": null,
   "id": "intermediate-public",
   "metadata": {},
   "outputs": [],
   "source": [
    "len(allgenes)"
   ]
  },
  {
   "cell_type": "code",
   "execution_count": null,
   "id": "operational-mauritius",
   "metadata": {},
   "outputs": [],
   "source": [
    "d = [allgenes,highvar]"
   ]
  },
  {
   "cell_type": "code",
   "execution_count": null,
   "id": "boolean-casino",
   "metadata": {},
   "outputs": [],
   "source": [
    "selected = set.intersection(*map(set,d))"
   ]
  },
  {
   "cell_type": "code",
   "execution_count": null,
   "id": "suspected-checkout",
   "metadata": {},
   "outputs": [],
   "source": [
    "len(list(selected))"
   ]
  },
  {
   "cell_type": "code",
   "execution_count": null,
   "id": "ideal-bulgarian",
   "metadata": {},
   "outputs": [],
   "source": [
    "to_plot = list(selected)"
   ]
  },
  {
   "cell_type": "code",
   "execution_count": null,
   "id": "disturbed-deputy",
   "metadata": {
    "tags": []
   },
   "outputs": [],
   "source": [
    "len(to_plot)"
   ]
  },
  {
   "cell_type": "code",
   "execution_count": null,
   "id": "equipped-monitoring",
   "metadata": {},
   "outputs": [],
   "source": [
    "to_plot_YY1 = allgenes"
   ]
  },
  {
   "cell_type": "code",
   "execution_count": null,
   "id": "irish-dairy",
   "metadata": {
    "tags": []
   },
   "outputs": [],
   "source": [
    "to_plot_YY1"
   ]
  },
  {
   "cell_type": "code",
   "execution_count": null,
   "id": "understood-mitchell",
   "metadata": {},
   "outputs": [],
   "source": [
    "to_plot_AHR = to_plot"
   ]
  },
  {
   "cell_type": "code",
   "execution_count": null,
   "id": "temporal-detail",
   "metadata": {},
   "outputs": [],
   "source": [
    "to_plot_ATF4 = to_plot"
   ]
  },
  {
   "cell_type": "code",
   "execution_count": null,
   "id": "manufactured-driver",
   "metadata": {},
   "outputs": [],
   "source": [
    "to_plot_STAT1 = allgenes"
   ]
  },
  {
   "cell_type": "code",
   "execution_count": null,
   "id": "going-newark",
   "metadata": {},
   "outputs": [],
   "source": [
    "to_plot_STAT2 = allgenes"
   ]
  },
  {
   "cell_type": "code",
   "execution_count": null,
   "id": "hybrid-radius",
   "metadata": {},
   "outputs": [],
   "source": [
    "to_plot_IRF7 = allgenes"
   ]
  },
  {
   "cell_type": "code",
   "execution_count": null,
   "id": "opponent-depression",
   "metadata": {},
   "outputs": [],
   "source": [
    "final = to_plot_STAT1 + to_plot_YY1"
   ]
  },
  {
   "cell_type": "code",
   "execution_count": null,
   "id": "extra-gauge",
   "metadata": {},
   "outputs": [],
   "source": [
    "to_plot_STAT1[1:300]"
   ]
  },
  {
   "cell_type": "code",
   "execution_count": null,
   "id": "retired-wellington",
   "metadata": {},
   "outputs": [],
   "source": [
    "all_nonYY1 =to_plot_STAT1+to_plot_STAT2+to_plot_IRF7"
   ]
  },
  {
   "cell_type": "code",
   "execution_count": null,
   "id": "happy-rolling",
   "metadata": {},
   "outputs": [],
   "source": [
    "s1y =list(set.intersection(*map(set,[all_nonYY1,to_plot_YY1])))"
   ]
  },
  {
   "cell_type": "code",
   "execution_count": null,
   "id": "occupied-edmonton",
   "metadata": {},
   "outputs": [],
   "source": [
    "(s1y)"
   ]
  },
  {
   "cell_type": "code",
   "execution_count": null,
   "id": "consistent-dialogue",
   "metadata": {
    "tags": []
   },
   "outputs": [],
   "source": [
    "len(all_nonYY1)"
   ]
  },
  {
   "cell_type": "code",
   "execution_count": null,
   "id": "referenced-ebony",
   "metadata": {},
   "outputs": [],
   "source": [
    "len(to_plot_STAT1+to_plot_STAT2+to_plot_IRF7)"
   ]
  },
  {
   "cell_type": "code",
   "execution_count": null,
   "id": "extreme-neighbor",
   "metadata": {},
   "outputs": [],
   "source": [
    "s2y =list(set.intersection(*map(set,[to_plot_STAT2,to_plot_YY1])))"
   ]
  },
  {
   "cell_type": "code",
   "execution_count": null,
   "id": "historical-backing",
   "metadata": {
    "tags": []
   },
   "outputs": [],
   "source": [
    "s2y"
   ]
  },
  {
   "cell_type": "code",
   "execution_count": null,
   "id": "cellular-composite",
   "metadata": {},
   "outputs": [],
   "source": [
    "i7y =list(set.intersection(*map(set,[to_plot_IRF7,to_plot_YY1])))"
   ]
  },
  {
   "cell_type": "code",
   "execution_count": null,
   "id": "colored-bubble",
   "metadata": {},
   "outputs": [],
   "source": [
    "(i7y)"
   ]
  },
  {
   "cell_type": "code",
   "execution_count": null,
   "id": "durable-amino",
   "metadata": {},
   "outputs": [],
   "source": [
    "list_to_check =['CORO1A',\n",
    "'ACTR3',\n",
    "'EFHD2',\n",
    "'ARPC2',\n",
    "'ARPC3',\n",
    "'RCSD1',\n",
    "'CAPZA1',\n",
    "'DBNL',\n",
    "'CAP1',\n",
    "'CFL1',\n",
    "'CORO1C',\n",
    "'VASP',\n",
    "'PFN1',\n",
    "'MYH9',\n",
    "'ACTB',\n",
    "'DYNC1H1',\n",
    "'CBX5',\n",
    "'H3F3A',\n",
    "'CDK13',\n",
    "'SMARCA2',\n",
    "'POLR2A',\n",
    "'CHD1',\n",
    "'SUPT4H1',\n",
    "'STK24',\n",
    "'MST4',\n",
    "'ARF1',\n",
    "'RAB11A',\n",
    "'GDI2',\n",
    "'ATP6V0E1',\n",
    "'SUPT16H',\n",
    "'PRPSAP1',\n",
    "'PRPS1',\n",
    "'SF3B2',\n",
    "'SRRM1',\n",
    "'LSM1',\n",
    "'PPIG',\n",
    "'PRPF6',\n",
    "'RBM25',\n",
    "'PRPF4B',\n",
    "'SF3B6',\n",
    "'SNRPE',\n",
    "'LSM3',\n",
    "'SLU7',\n",
    "'MAGOH',\n",
    "'ZMAT2',\n",
    "'SF3B4',\n",
    "'SEPT7',\n",
    "'CDC42EP4',\n",
    "'SEPT6',\n",
    "'SEPT9',\n",
    "'ATP6V1D',\n",
    "'ATP6V1A',\n",
    "'RAB7A',\n",
    "'MON1B',\n",
    "'SMARCA5',\n",
    "'BAZ2A',\n",
    "'RAB2A',\n",
    "'RCOR1',\n",
    "'PHF21A',\n",
    "'OSBPL1A',\n",
    "'FUBP3',\n",
    "'SYNCRIP',\n",
    "'FUS',\n",
    "'HNRNPA3',\n",
    "'HNRNPD',\n",
    "'HNRNPM',\n",
    "'HNRNPK',\n",
    "'QKI',\n",
    "'STAG2',\n",
    "'RAD21',\n",
    "'LPXN',\n",
    "'TCF3',\n",
    "'ID2',\n",
    "'RALY',\n",
    "'HNRNPL',\n",
    "'LSM14A',\n",
    "'HNRNPF',\n",
    "'PABPC1',\n",
    "'EIF4E',\n",
    "'HNRNPUL1',\n",
    "'COX6A1',\n",
    "'UQCRC2',\n",
    "'NDUFS2',\n",
    "'COX8A',\n",
    "'COX5B',\n",
    "'NDUFS4',\n",
    "'CALM1',\n",
    "'PPP3CA',\n",
    "'LARP4B',\n",
    "'ERP44',\n",
    "'PRDX4',\n",
    "'KHDRBS1',\n",
    "'RBM15',\n",
    "'PTK2B',\n",
    "'MEF2C',\n",
    "'GAB2',\n",
    "'GRB2',\n",
    "'PIK3CA',\n",
    "'SRC',\n",
    "'ADAM15',\n",
    "'CBL',\n",
    "'BTK',\n",
    "'YWHAB',\n",
    "'NEDD9',\n",
    "'RBBP6',\n",
    "'C20orf27',\n",
    "'PPP1CC',\n",
    "'ERBB2IP',\n",
    "'TGFBR1',\n",
    "'SMAD3',\n",
    "'FOXO3',\n",
    "'GTF2I',\n",
    "'GNB2L1',\n",
    "'EIF3C',\n",
    "'EIF3I',\n",
    "'RPS21',\n",
    "'RPS7',\n",
    "'RPS12',\n",
    "'RPS14',\n",
    "'PLEC',\n",
    "'TRMT112',\n",
    "'VDAC1',\n",
    "'IMP3',\n",
    "'HEATR1',\n",
    "'BTF3',\n",
    "'RPL28',\n",
    "'RPL29',\n",
    "'RPL23',\n",
    "'SRPR',\n",
    "'MRPL27',\n",
    "'EIF6',\n",
    "'NSA2',\n",
    "'UBC',\n",
    "'USP46',\n",
    "'TP53BP1',\n",
    "'AZI2',\n",
    "'TAX1BP1',\n",
    "'JOSD2',\n",
    "'UBL7',\n",
    "'OTUB1',\n",
    "'UBE2D3',\n",
    "'RNF185',\n",
    "'USP3',\n",
    "'MYCBP2',\n",
    "'PSMA3',\n",
    "'XIAP',\n",
    "'RNF4',\n",
    "'HTRA2',\n",
    "'POMP',\n",
    "'IRAK1',\n",
    "'TAB2',\n",
    "'PSMB3',\n",
    "'PSMB7',\n",
    "'EIF1',\n",
    "'PTPN1',\n",
    "'PTPRE'\n",
    "\n",
    "\n",
    "]"
   ]
  },
  {
   "cell_type": "code",
   "execution_count": null,
   "id": "statistical-letter",
   "metadata": {},
   "outputs": [],
   "source": [
    "for i in range (0,len(s1y)):\n",
    "    print ('gene name is',s1y[i])\n",
    "    print ('STAT1',s1y[i] in to_plot_STAT1)\n",
    "    #print ('STAT2',s1y[i] in to_plot_STAT2)\n",
    "    #print ('IRF7',s1y[i] in to_plot_IRF7)\n",
    "    print ('YY1',s1y[i] in to_plot_YY1)\n",
    "   # print ('ATF4',s1y[i] in to_plot_ATF4)\n",
    "    #print ('AHR',s1y[i] in to_plot_AHR)\n",
    "    print ('=====================')"
   ]
  },
  {
   "cell_type": "code",
   "execution_count": null,
   "id": "circular-morning",
   "metadata": {},
   "outputs": [],
   "source": [
    "list1 = [to_plot_STAT1,to_plot_YY1]"
   ]
  },
  {
   "cell_type": "code",
   "execution_count": null,
   "id": "boolean-observer",
   "metadata": {},
   "outputs": [],
   "source": [
    "list2 = [to_plot_STAT1,to_plot_ATF4]"
   ]
  },
  {
   "cell_type": "code",
   "execution_count": null,
   "id": "promising-weapon",
   "metadata": {},
   "outputs": [],
   "source": [
    "list3 = [to_plot_STAT1,to_plot_AHR]"
   ]
  },
  {
   "cell_type": "code",
   "execution_count": null,
   "id": "right-mumbai",
   "metadata": {},
   "outputs": [],
   "source": [
    "list4 = [to_plot_STAT2,to_plot_YY1]"
   ]
  },
  {
   "cell_type": "code",
   "execution_count": null,
   "id": "preliminary-sleeve",
   "metadata": {},
   "outputs": [],
   "source": [
    "list5 = [to_plot_STAT2,to_plot_ATF4]"
   ]
  },
  {
   "cell_type": "code",
   "execution_count": null,
   "id": "everyday-dispute",
   "metadata": {},
   "outputs": [],
   "source": [
    "list6 = [to_plot_STAT2,to_plot_AHR]"
   ]
  },
  {
   "cell_type": "code",
   "execution_count": null,
   "id": "steady-overhead",
   "metadata": {},
   "outputs": [],
   "source": [
    "list7 = [to_plot_IRF7,to_plot_YY1]"
   ]
  },
  {
   "cell_type": "code",
   "execution_count": null,
   "id": "corporate-offer",
   "metadata": {},
   "outputs": [],
   "source": [
    "list8 = [to_plot_IRF7,to_plot_ATF4]"
   ]
  },
  {
   "cell_type": "code",
   "execution_count": null,
   "id": "indoor-tuesday",
   "metadata": {},
   "outputs": [],
   "source": [
    "list9 = [to_plot_IRF7,to_plot_AHR]"
   ]
  },
  {
   "cell_type": "code",
   "execution_count": null,
   "id": "stuffed-insider",
   "metadata": {},
   "outputs": [],
   "source": [
    "list_to_intersect1 =list(set.intersection(*map(set,list1)))"
   ]
  },
  {
   "cell_type": "code",
   "execution_count": null,
   "id": "banned-observer",
   "metadata": {
    "tags": []
   },
   "outputs": [],
   "source": [
    "list_to_intersect2 =list(set.intersection(*map(set,list2)))"
   ]
  },
  {
   "cell_type": "code",
   "execution_count": null,
   "id": "sought-invalid",
   "metadata": {},
   "outputs": [],
   "source": [
    "list_to_intersect3 =list(set.intersection(*map(set,list3)))"
   ]
  },
  {
   "cell_type": "code",
   "execution_count": null,
   "id": "threatened-exposure",
   "metadata": {},
   "outputs": [],
   "source": [
    "list_to_intersect4 =list(set.intersection(*map(set,list4)))"
   ]
  },
  {
   "cell_type": "code",
   "execution_count": null,
   "id": "aging-europe",
   "metadata": {},
   "outputs": [],
   "source": [
    "list_to_intersect5 =list(set.intersection(*map(set,list5)))"
   ]
  },
  {
   "cell_type": "code",
   "execution_count": null,
   "id": "further-festival",
   "metadata": {},
   "outputs": [],
   "source": [
    "list_to_intersect6 =list(set.intersection(*map(set,list6)))"
   ]
  },
  {
   "cell_type": "code",
   "execution_count": null,
   "id": "suspended-baltimore",
   "metadata": {},
   "outputs": [],
   "source": [
    "list_to_intersect7 =list(set.intersection(*map(set,list7)))"
   ]
  },
  {
   "cell_type": "code",
   "execution_count": null,
   "id": "sexual-advice",
   "metadata": {},
   "outputs": [],
   "source": [
    "list_to_intersect8 =list(set.intersection(*map(set,list8)))"
   ]
  },
  {
   "cell_type": "code",
   "execution_count": null,
   "id": "bottom-petroleum",
   "metadata": {},
   "outputs": [],
   "source": [
    "list_to_intersect9 =list(set.intersection(*map(set,list9)))"
   ]
  },
  {
   "cell_type": "code",
   "execution_count": null,
   "id": "bridal-least",
   "metadata": {},
   "outputs": [],
   "source": [
    "len(list_to_intersect9)"
   ]
  },
  {
   "cell_type": "code",
   "execution_count": null,
   "id": "affecting-exemption",
   "metadata": {},
   "outputs": [],
   "source": [
    "final_to_plot = list_to_intersect1 +list_to_intersect2+list_to_intersect3+list_to_intersect4 +list_to_intersect5 +list_to_intersect6 +list_to_intersect7 +list_to_intersect8 +list_to_intersect9"
   ]
  },
  {
   "cell_type": "code",
   "execution_count": null,
   "id": "classical-ready",
   "metadata": {},
   "outputs": [],
   "source": [
    "final_plot = list(set(final_to_plot))"
   ]
  },
  {
   "cell_type": "code",
   "execution_count": null,
   "id": "protective-mouse",
   "metadata": {
    "tags": []
   },
   "outputs": [],
   "source": [
    "len(final_plot)"
   ]
  },
  {
   "cell_type": "code",
   "execution_count": null,
   "id": "blessed-banks",
   "metadata": {
    "tags": []
   },
   "outputs": [],
   "source": [
    "final_plot"
   ]
  },
  {
   "cell_type": "code",
   "execution_count": null,
   "id": "confidential-purse",
   "metadata": {},
   "outputs": [],
   "source": [
    "name = 'CORO1A'"
   ]
  },
  {
   "cell_type": "code",
   "execution_count": null,
   "id": "operating-sullivan",
   "metadata": {},
   "outputs": [],
   "source": [
    "name in to_plot_YY1"
   ]
  },
  {
   "cell_type": "code",
   "execution_count": null,
   "id": "according-treasurer",
   "metadata": {},
   "outputs": [],
   "source": [
    "name in to_plot_ATF4"
   ]
  },
  {
   "cell_type": "code",
   "execution_count": null,
   "id": "fabulous-moses",
   "metadata": {},
   "outputs": [],
   "source": [
    "name in to_plot_AHR"
   ]
  },
  {
   "cell_type": "code",
   "execution_count": null,
   "id": "vertical-dynamics",
   "metadata": {},
   "outputs": [],
   "source": [
    "%%%%%%%%%%%%%%%%%%%%%%%"
   ]
  },
  {
   "cell_type": "code",
   "execution_count": null,
   "id": "norwegian-wagon",
   "metadata": {},
   "outputs": [],
   "source": [
    "name in to_plot_STAT1"
   ]
  },
  {
   "cell_type": "code",
   "execution_count": null,
   "id": "aquatic-mauritius",
   "metadata": {},
   "outputs": [],
   "source": [
    "name in to_plot_STAT2"
   ]
  },
  {
   "cell_type": "code",
   "execution_count": null,
   "id": "built-hammer",
   "metadata": {},
   "outputs": [],
   "source": [
    "name in to_plot_IRF7"
   ]
  },
  {
   "cell_type": "code",
   "execution_count": null,
   "id": "opposed-dutch",
   "metadata": {},
   "outputs": [],
   "source": []
  },
  {
   "cell_type": "code",
   "execution_count": null,
   "id": "alike-version",
   "metadata": {},
   "outputs": [],
   "source": []
  },
  {
   "cell_type": "code",
   "execution_count": null,
   "id": "featured-monthly",
   "metadata": {},
   "outputs": [],
   "source": []
  },
  {
   "cell_type": "code",
   "execution_count": null,
   "id": "electoral-trauma",
   "metadata": {},
   "outputs": [],
   "source": []
  },
  {
   "cell_type": "code",
   "execution_count": null,
   "id": "chinese-spokesman",
   "metadata": {},
   "outputs": [],
   "source": []
  },
  {
   "cell_type": "code",
   "execution_count": null,
   "id": "bulgarian-receptor",
   "metadata": {},
   "outputs": [],
   "source": [
    "to_check = [final_plot,highvar1 ]"
   ]
  },
  {
   "cell_type": "code",
   "execution_count": null,
   "id": "ranking-classroom",
   "metadata": {},
   "outputs": [],
   "source": [
    "to_check1 =list(set.intersection(*map(set,to_check)))"
   ]
  },
  {
   "cell_type": "code",
   "execution_count": null,
   "id": "green-designation",
   "metadata": {},
   "outputs": [],
   "source": [
    "to_check1"
   ]
  },
  {
   "cell_type": "code",
   "execution_count": null,
   "id": "extra-advantage",
   "metadata": {},
   "outputs": [],
   "source": [
    "tosave = list(set(aaaa))"
   ]
  },
  {
   "cell_type": "code",
   "execution_count": null,
   "id": "finite-jacket",
   "metadata": {
    "tags": []
   },
   "outputs": [],
   "source": [
    "len(tosave)"
   ]
  },
  {
   "cell_type": "code",
   "execution_count": null,
   "id": "whole-batman",
   "metadata": {},
   "outputs": [],
   "source": [
    "import csv\n",
    "\n",
    "with open('/home/jovyan/scripts/renal_covid_19/steroid_pipeline/strem_DB.csv', 'w') as myfile:\n",
    "    wr = csv.writer(myfile, quoting=csv.QUOTE_ALL)\n",
    "    wr.writerow(list(aaaa))"
   ]
  },
  {
   "cell_type": "code",
   "execution_count": null,
   "id": "higher-major",
   "metadata": {},
   "outputs": [],
   "source": []
  },
  {
   "cell_type": "markdown",
   "id": "chief-bankruptcy",
   "metadata": {},
   "source": [
    "# calculate AUC - regulon for individual cells"
   ]
  },
  {
   "cell_type": "code",
   "execution_count": null,
   "id": "governmental-system",
   "metadata": {},
   "outputs": [],
   "source": [
    "# Enrichment of a regulon is measured as the Area Under the recovery Curve (AUC) of the genes that define this regulon.\n",
    "auc_mtx = aucell(ex_matrix, regulons, num_workers=4)\n",
    "\n"
   ]
  },
  {
   "cell_type": "code",
   "execution_count": null,
   "id": "ancient-hotel",
   "metadata": {},
   "outputs": [],
   "source": [
    "# Save regulon enrichment to csv \n",
    "auc_mtx.to_csv('/home/jovyan/scripts/renal_covid_19/steroid_pipeline/regulon_analysis/CD14_wave2_steroid_2021_auc_mtx.csv')"
   ]
  },
  {
   "cell_type": "code",
   "execution_count": null,
   "id": "devoted-jimmy",
   "metadata": {},
   "outputs": [],
   "source": [
    "#sns.clustermap(auc_mtx, figsize=(16,16))"
   ]
  },
  {
   "cell_type": "code",
   "execution_count": null,
   "id": "periodic-authorization",
   "metadata": {},
   "outputs": [],
   "source": [
    "adata"
   ]
  },
  {
   "cell_type": "code",
   "execution_count": null,
   "id": "incorporated-irrigation",
   "metadata": {},
   "outputs": [],
   "source": [
    "auc_mtx.shape"
   ]
  },
  {
   "cell_type": "markdown",
   "id": "higher-possibility",
   "metadata": {},
   "source": [
    "# post scenic"
   ]
  },
  {
   "cell_type": "markdown",
   "id": "alleged-secondary",
   "metadata": {},
   "source": [
    "# RSS"
   ]
  },
  {
   "cell_type": "code",
   "execution_count": null,
   "id": "genetic-thumbnail",
   "metadata": {},
   "outputs": [],
   "source": [
    "#reload saved auc_mtx\n",
    "auc_mtx = pd.read_csv('/home/jovyan/scripts/renal_covid_19/steroid_pipeline/regulon_analysis/CD14_wave2_steroid_2021_auc_mtx.csv')"
   ]
  },
  {
   "cell_type": "code",
   "execution_count": null,
   "id": "musical-projector",
   "metadata": {},
   "outputs": [],
   "source": [
    "auc_mtx"
   ]
  },
  {
   "cell_type": "code",
   "execution_count": null,
   "id": "intensive-motorcycle",
   "metadata": {},
   "outputs": [],
   "source": [
    "auc_mtx.set_index('Cell',inplace=True)\n",
    "auc_mtx.head()"
   ]
  },
  {
   "cell_type": "code",
   "execution_count": 2,
   "id": "technological-pension",
   "metadata": {},
   "outputs": [],
   "source": [
    "adata = sc.read('/home/jovyan/scripts/renal_covid_19/steroid_pipeline/regulon_analysis/adata_CD14_wave2_steroid_2021_auc_mtx.h5ad')"
   ]
  },
  {
   "cell_type": "code",
   "execution_count": 3,
   "id": "available-serum",
   "metadata": {},
   "outputs": [
    {
     "data": {
      "text/plain": [
       "['POSITIVE', 'RECOVERY']\n",
       "Categories (2, object): ['POSITIVE', 'RECOVERY']"
      ]
     },
     "execution_count": 3,
     "metadata": {},
     "output_type": "execute_result"
    }
   ],
   "source": [
    "adata.obs['case_control'].unique()"
   ]
  },
  {
   "cell_type": "code",
   "execution_count": null,
   "id": "green-grant",
   "metadata": {},
   "outputs": [],
   "source": [
    "# Calculate regulon Specificity Score\n",
    "rss_cellType = regulon_specificity_scores(auc_mtx, adata.obs['steroid_timeline'])\n",
    "rss_cellType"
   ]
  },
  {
   "cell_type": "code",
   "execution_count": null,
   "id": "clear-blend",
   "metadata": {},
   "outputs": [],
   "source": [
    "#rss_cellType.to_csv('/lustre/scratch117/cellgen/team298/win/for_lisa/regulons_before_after_steroid.csv')"
   ]
  },
  {
   "cell_type": "code",
   "execution_count": null,
   "id": "double-stock",
   "metadata": {},
   "outputs": [],
   "source": [
    "adata.obs['annot4'].unique()"
   ]
  },
  {
   "cell_type": "code",
   "execution_count": null,
   "id": "collect-observer",
   "metadata": {},
   "outputs": [],
   "source": [
    "import matplotlib.pyplot as plt\n",
    "from adjustText import adjust_text\n",
    "from pyscenic.plotting import plot_rss\n",
    "# RSS panel plot with all cell types\n",
    "plt.rcParams.update({'font.size': 18})\n",
    "cats = sorted(list(set(adata.obs['steroid_timeline'])))\n",
    "\n",
    "fig = plt.figure(figsize=(8, 8))\n",
    "for c,num in zip(cats, range(1,len(cats)+1)):\n",
    "    x=rss_cellType.T[c]\n",
    "\n",
    "    ax = fig.add_subplot(1,2,num)\n",
    "    plot_rss(rss_cellType, c, top_n=5, max_n=None, ax=ax)\n",
    "    ax.set_ylim( x.min()-(x.max()-x.min())*0.05 , x.max()+(x.max()-x.min())*0.05 )\n",
    "    for t in ax.texts:\n",
    "        t.set_fontsize(12)\n",
    "    ax.set_ylabel('')\n",
    "    ax.set_xlabel('')\n",
    "    adjust_text(ax.texts, autoalign='xy', ha='right', va='bottom', arrowprops=dict(arrowstyle='-',color='lightgrey'), precision=0.001 )\n",
    " \n",
    "fig.text(0.5, 0.0, 'Regulon', ha='center', va='center', size='x-large')\n",
    "fig.text(0.00, 0.5, 'Regulon specificity score (RSS)', ha='center', va='center', rotation='vertical', size='x-large')\n",
    "plt.tight_layout()\n",
    "plt.rcParams.update({\n",
    "    'figure.autolayout': True,\n",
    "        'figure.titlesize': 'large' ,\n",
    "        'axes.labelsize': 'large',\n",
    "        'axes.titlesize':'large',\n",
    "        'xtick.labelsize':'large',\n",
    "        'ytick.labelsize':'large'\n",
    "        })\n",
    "\n",
    "#plt.show()\n",
    "plt.savefig('regulon_poster.pdf',bbox_inches=\"tight\",dpi=300)"
   ]
  },
  {
   "cell_type": "markdown",
   "id": "written-wales",
   "metadata": {},
   "source": [
    "# customised plot"
   ]
  },
  {
   "cell_type": "code",
   "execution_count": null,
   "id": "divided-slovenia",
   "metadata": {},
   "outputs": [],
   "source": [
    "T_rss_cellType = rss_cellType.T\n",
    "T_rss_cellType.head()"
   ]
  },
  {
   "cell_type": "code",
   "execution_count": null,
   "id": "metric-delay",
   "metadata": {},
   "outputs": [],
   "source": [
    "before_top =T_rss_cellType.sort_values('before_steroid',ascending=False)\n",
    "before_top.head(n=10)"
   ]
  },
  {
   "cell_type": "code",
   "execution_count": null,
   "id": "large-basis",
   "metadata": {},
   "outputs": [],
   "source": [
    "before_top.index[0:10]"
   ]
  },
  {
   "cell_type": "code",
   "execution_count": null,
   "id": "veterinary-immune",
   "metadata": {},
   "outputs": [],
   "source": [
    "after_top =T_rss_cellType.sort_values('after_steroid',ascending=False)\n",
    "after_top.head(n=10)"
   ]
  },
  {
   "cell_type": "code",
   "execution_count": null,
   "id": "exceptional-gothic",
   "metadata": {},
   "outputs": [],
   "source": [
    "after_top['row_num'] = np.arange(len(after_top))\n",
    "after_top"
   ]
  },
  {
   "cell_type": "code",
   "execution_count": null,
   "id": "northern-finland",
   "metadata": {},
   "outputs": [],
   "source": [
    "after_top['row_names']=after_top.index"
   ]
  },
  {
   "cell_type": "code",
   "execution_count": null,
   "id": "experimental-photographer",
   "metadata": {},
   "outputs": [],
   "source": [
    "after_top.set_index('row_num',inplace=True)\n"
   ]
  },
  {
   "cell_type": "code",
   "execution_count": null,
   "id": "experimental-plaza",
   "metadata": {},
   "outputs": [],
   "source": [
    "ind =[]\n",
    "for l in list(before_top.index[0:5]):\n",
    "    ind.append(after_top.index[after_top.row_names == l][0])\n",
    "    "
   ]
  },
  {
   "cell_type": "code",
   "execution_count": null,
   "id": "invalid-works",
   "metadata": {},
   "outputs": [],
   "source": [
    "ind"
   ]
  },
  {
   "cell_type": "code",
   "execution_count": null,
   "id": "adaptive-weekend",
   "metadata": {},
   "outputs": [],
   "source": [
    "additional_plot=list(before_top.index[0:5])"
   ]
  },
  {
   "cell_type": "code",
   "execution_count": null,
   "id": "outer-salem",
   "metadata": {},
   "outputs": [],
   "source": [
    "import matplotlib.pyplot as plt\n",
    "from adjustText import adjust_text\n",
    "from pyscenic.plotting import plot_rss\n",
    "# RSS panel plot with all cell types\n",
    "plt.rcParams.update({'font.size': 18})\n",
    "cats = ['after_steroid']\n",
    "\n",
    "fig = plt.figure(figsize=(8, 8))\n",
    "for c,num in zip(cats, range(1,len(cats)+1)):\n",
    "    \n",
    "    x=rss_cellType.T[c]\n",
    "    \n",
    "    ax = fig.add_subplot(1,2,num)\n",
    "    plot_rss1(rss_cellType, c,ind,additional_plot, top_n=5, max_n=None, ax=ax)\n",
    "    ax.set_ylim( x.min()-(x.max()-x.min())*0.05 , x.max()+(x.max()-x.min())*0.05 )\n",
    "    for t in ax.texts:\n",
    "        t.set_fontsize(12)\n",
    "    ax.set_ylabel('')\n",
    "    ax.set_xlabel('')\n",
    "    adjust_text(ax.texts, autoalign='xy', ha='right', va='bottom', arrowprops=dict(arrowstyle='-',color='lightgrey'), precision=0.001 )\n",
    " \n",
    "fig.text(0.5, 0.0, 'Regulon', ha='center', va='center', size='x-large')\n",
    "fig.text(0.00, 0.5, 'Regulon specificity score (RSS)', ha='center', va='center', rotation='vertical', size='x-large')\n",
    "plt.tight_layout()\n",
    "plt.rcParams.update({\n",
    "    'figure.autolayout': True,\n",
    "        'figure.titlesize': 'large' ,\n",
    "        'axes.labelsize': 'large',\n",
    "        'axes.titlesize':'large',\n",
    "        'xtick.labelsize':'medium',\n",
    "        'ytick.labelsize':'medium'\n",
    "        })\n",
    "\n",
    "\n",
    "plt.savefig('regulon_combined.pdf',bbox_inches=\"tight\",dpi=300)"
   ]
  },
  {
   "cell_type": "code",
   "execution_count": null,
   "id": "municipal-toolbox",
   "metadata": {},
   "outputs": [],
   "source": [
    "import matplotlib.pyplot as plt\n",
    "import seaborn as sns\n",
    "import numpy as np\n",
    "import pandas as pd\n",
    "from math import ceil, floor\n",
    "def plot_rss1(rss, cell_type,ind,list_to_plot,top_n=5, max_n=None, ax=None):\n",
    "    if ax is None:\n",
    "        _, ax = plt.subplots(1, 1, figsize=(4, 4))\n",
    "    if max_n is None:\n",
    "        max_n = rss.shape[1]\n",
    "    data = rss.T[cell_type].sort_values(ascending=False)[0:max_n]\n",
    "    ax.plot(np.arange(len(data)), data, '.')\n",
    "    ax.set_ylim([floor(data.min() * 100.0) / 100.0, ceil(data.max() * 100.0) / 100.0])\n",
    "    ax.set_ylabel('RSS')\n",
    "    ax.set_xlabel('Regulon')\n",
    "    ax.set_title(cell_type)\n",
    "    ax.set_xticklabels([])\n",
    "\n",
    "    font = {\n",
    "        'color': 'red',\n",
    "        'weight': 'normal',\n",
    "        'size': 2,\n",
    "    }\n",
    "    \n",
    "    for idx, (regulon_name, rss_val) in enumerate(zip(data[0:top_n].index, data[0:top_n].values)):\n",
    "        ax.plot([idx, idx], [rss_val, rss_val], 'r.')\n",
    "        ax.text(\n",
    "            idx + (max_n / 25),\n",
    "            rss_val,\n",
    "            regulon_name,\n",
    "            fontdict=font,\n",
    "            horizontalalignment='left',\n",
    "            verticalalignment='center',\n",
    "        )\n",
    "    \n",
    "    font1 = {\n",
    "        'color': 'green',\n",
    "        'weight': 'normal',\n",
    "        'size': 1,\n",
    "    }\n",
    "    #ind = [138, 132, 134, 122, 129, 96, 118, 95, 146, 99]\n",
    "    num=0\n",
    "    for idx, (regulon_name, rss_val) in enumerate(zip(data[list_to_plot].index, data[list_to_plot].values)):\n",
    "        idx =ind[num]\n",
    "        ax.plot([idx, idx], [rss_val, rss_val], 'r.')\n",
    "        \n",
    "        num=num+1\n",
    "        ax.text(\n",
    "            idx + (max_n / 25),\n",
    "            rss_val,\n",
    "            regulon_name,\n",
    "            fontdict=font1,\n",
    "            horizontalalignment='left',\n",
    "            verticalalignment='center',\n",
    "        )"
   ]
  },
  {
   "cell_type": "markdown",
   "id": "amber-iraqi",
   "metadata": {},
   "source": [
    "# heatmap"
   ]
  },
  {
   "cell_type": "code",
   "execution_count": null,
   "id": "north-probability",
   "metadata": {},
   "outputs": [],
   "source": [
    "# Select top 5 regulons per cell type \n",
    "topreg = []\n",
    "for i,c in enumerate(cats):\n",
    "    topreg.extend(\n",
    "        list(rss_cellType.T[c].sort_values(ascending=False)[:5].index)\n",
    "    )\n",
    "topreg = list(set(topreg))"
   ]
  },
  {
   "cell_type": "code",
   "execution_count": null,
   "id": "introductory-impossible",
   "metadata": {
    "tags": []
   },
   "outputs": [],
   "source": [
    "# Generate a Z-score for each regulon to enable comparison between regulons\n",
    "auc_mtx_Z = pd.DataFrame( index=auc_mtx.index )\n",
    "for col in list(auc_mtx.columns):\n",
    "    auc_mtx_Z[ col ] = ( auc_mtx[col] - auc_mtx[col].mean()) / auc_mtx[col].std(ddof=0)\n",
    "#auc_mtx_Z.sort_index(inplace=True)"
   ]
  },
  {
   "cell_type": "code",
   "execution_count": null,
   "id": "respective-locking",
   "metadata": {},
   "outputs": [],
   "source": [
    "# Generate heatmap\n",
    "def palplot(pal, names, colors=None, size=1):\n",
    "    n = len(pal)\n",
    "    f, ax = plt.subplots(1, 1, figsize=(n * size, size))\n",
    "    ax.imshow(np.arange(n).reshape(1, n),\n",
    "              cmap=mpl.colors.ListedColormap(list(pal)),\n",
    "              interpolation=\"nearest\", aspect=\"auto\")\n",
    "    ax.set_xticks(np.arange(n) - .5)\n",
    "    ax.set_yticks([-.5, .5])\n",
    "    ax.set_xticklabels([])\n",
    "    ax.set_yticklabels([])\n",
    "    colors = n * ['k'] if colors is None else colors\n",
    "    for idx, (name, color) in enumerate(zip(names, colors)):\n",
    "        ax.text(0.0+idx, 0.0, name, color=color, horizontalalignment='center', verticalalignment='center')\n",
    "    return f"
   ]
  },
  {
   "cell_type": "code",
   "execution_count": null,
   "id": "miniature-center",
   "metadata": {},
   "outputs": [],
   "source": [
    "colors = sns.color_palette('bright',n_colors=len(cats) )\n",
    "colorsd = dict( zip( cats, colors ))\n",
    "colormap = [ colorsd[x] for x in adata.obs['steroid_timeline'] ]"
   ]
  },
  {
   "cell_type": "code",
   "execution_count": null,
   "id": "narrative-witch",
   "metadata": {},
   "outputs": [],
   "source": [
    "import matplotlib as mpl\n",
    "sns.set()\n",
    "sns.set(font_scale=0.8)\n",
    "fig = palplot( colors, cats, size=1.0)"
   ]
  },
  {
   "cell_type": "code",
   "execution_count": null,
   "id": "caring-canyon",
   "metadata": {},
   "outputs": [],
   "source": [
    "sns.set(font_scale=1.2)\n",
    "g = sns.clustermap(auc_mtx_Z[topreg], annot=False,  square=False,  linecolor='gray',\n",
    "    yticklabels=False, xticklabels=True, vmin=-2, vmax=6, row_colors=colormap,row_cluster=True,\n",
    "    cmap=\"YlGnBu\", figsize=(21,16) )\n",
    "g.cax.set_visible(True)\n",
    "g.ax_heatmap.set_ylabel('')\n",
    "g.ax_heatmap.set_xlabel('')"
   ]
  },
  {
   "cell_type": "markdown",
   "id": "indirect-amsterdam",
   "metadata": {},
   "source": [
    "# display motif"
   ]
  },
  {
   "cell_type": "code",
   "execution_count": null,
   "id": "allied-choice",
   "metadata": {},
   "outputs": [],
   "source": [
    "BASE_URL = \"http://motifcollections.aertslab.org/v9/logos/\"\n",
    "def display_logos(df: pd.DataFrame, top_target_genes: int = 3, base_url: str = BASE_URL):\n",
    "    \"\"\"\n",
    "    :param df:\n",
    "    :param base_url:\n",
    "    \"\"\"\n",
    "    # Make sure the original dataframe is not altered.\n",
    "    df = df.copy()\n",
    "    \n",
    "    # Add column with URLs to sequence logo.\n",
    "    def create_url(motif_id):\n",
    "        return '<img src=\"{}{}.png\" style=\"max-height:124px;\"></img>'.format(base_url, motif_id)\n",
    "    df[(\"Enrichment\", COLUMN_NAME_LOGO)] = list(map(create_url, df.index.get_level_values(COLUMN_NAME_MOTIF_ID)))\n",
    "    \n",
    "    # Truncate TargetGenes.\n",
    "    def truncate(col_val):\n",
    "        return sorted(col_val, key=op.itemgetter(1))[:top_target_genes]\n",
    "    df[(\"Enrichment\", COLUMN_NAME_TARGETS)] = list(map(truncate, df[(\"Enrichment\", COLUMN_NAME_TARGETS)]))\n",
    "    \n",
    "    MAX_COL_WIDTH = pd.get_option('display.max_colwidth')\n",
    "    pd.set_option('display.max_colwidth', -1)\n",
    "    display(HTML(df.head().to_html(escape=False)))\n",
    "    pd.set_option('display.max_colwidth', MAX_COL_WIDTH)"
   ]
  },
  {
   "cell_type": "code",
   "execution_count": null,
   "id": "young-springer",
   "metadata": {},
   "outputs": [],
   "source": [
    "#BASE_URL = \"http://motifcollections.aertslab.org/v9/logos/\"\n",
    "def fetch_logo(regulon, base_url = BASE_URL):\n",
    "    for elem in regulon.context:\n",
    "        if elem.endswith('.png'):\n",
    "            return '<img src=\"{}{}\" style=\"max-height:124px;\"></img>'.format(base_url, elem)\n",
    "    return \"\""
   ]
  },
  {
   "cell_type": "code",
   "execution_count": null,
   "id": "mounted-nowhere",
   "metadata": {},
   "outputs": [],
   "source": [
    "with open(REGULONS_FNAME,'rb') as f:\n",
    "    regulons = pickle.load(f)"
   ]
  },
  {
   "cell_type": "code",
   "execution_count": null,
   "id": "fitted-ancient",
   "metadata": {},
   "outputs": [],
   "source": [
    "import operator as op\n",
    "df_regulons = pd.DataFrame(data=[list(map(op.attrgetter('name'), regulons)),\n",
    "                                 list(map(len, regulons)),\n",
    "                                 list(map(fetch_logo, regulons))], index=['name', 'count', 'logo']).T"
   ]
  },
  {
   "cell_type": "code",
   "execution_count": null,
   "id": "synthetic-evanescence",
   "metadata": {},
   "outputs": [],
   "source": [
    "df_regulons.head(10)"
   ]
  },
  {
   "cell_type": "code",
   "execution_count": null,
   "id": "excess-company",
   "metadata": {},
   "outputs": [],
   "source": [
    "df_regulon_to_plot = df_regulons[df_regulons['name'].isin(['STAT1(+)','STAT2(+)','IRF7(+)','YY1(+)','AHR(+)','ATF4(+)','IRF9(+)'])]"
   ]
  },
  {
   "cell_type": "code",
   "execution_count": null,
   "id": "robust-currency",
   "metadata": {},
   "outputs": [],
   "source": [
    "df_regulon_to_plot"
   ]
  },
  {
   "cell_type": "code",
   "execution_count": null,
   "id": "monetary-facial",
   "metadata": {},
   "outputs": [],
   "source": [
    "from IPython.display import HTML, display\n",
    "MAX_COL_WIDTH = pd.get_option('display.max_colwidth')\n",
    "pd.set_option('display.max_colwidth', -1)\n",
    "display(HTML(df_regulon_to_plot.to_html(escape=False)))\n",
    "pd.set_option('display.max_colwidth', MAX_COL_WIDTH)"
   ]
  },
  {
   "cell_type": "markdown",
   "id": "frequent-puzzle",
   "metadata": {},
   "source": [
    "# AUC and density"
   ]
  },
  {
   "cell_type": "code",
   "execution_count": null,
   "id": "recovered-entertainment",
   "metadata": {},
   "outputs": [],
   "source": [
    "from pyscenic.binarization import binarize\n",
    "binary_mtx, auc_thresholds = binarize( auc_mtx, num_workers=25 )\n",
    "binary_mtx.head()"
   ]
  },
  {
   "cell_type": "code",
   "execution_count": null,
   "id": "previous-administration",
   "metadata": {
    "tags": []
   },
   "outputs": [],
   "source": [
    "# select regulons:\n",
    "import matplotlib.pyplot as plt\n",
    "r = [ 'STAT1(+)', 'STAT2(+)', 'AHR(+)' ]\n",
    "\n",
    "fig, axs = plt.subplots(1, 3, figsize=(12, 4), dpi=150, sharey=False)\n",
    "for i,ax in enumerate(axs):\n",
    "    sns.distplot(auc_mtx[ r[i] ], ax=ax, norm_hist=True, bins=100)\n",
    "    ax.plot( [ auc_thresholds[ r[i] ] ]*2, ax.get_ylim(), 'r:')\n",
    "    ax.title.set_text( r[i] )\n",
    "    ax.set_xlabel('')\n",
    "    \n",
    "fig.text(-0.01, 0.5, 'Frequency', ha='center', va='center', rotation='vertical', size='large')\n",
    "fig.text(0.5, -0.01, 'AUC', ha='center', va='center', rotation='horizontal', size='large')\n",
    "\n",
    "fig.tight_layout()\n",
    "fig.savefig('/home/jovyan/scripts/renal_covid_19/steroid_pipeline/regulon_analysis/auc_CD14_wave2_steroid_2021_auc_mtx.png', dpi=600, bbox_inches='tight')"
   ]
  },
  {
   "cell_type": "code",
   "execution_count": null,
   "id": "blank-minneapolis",
   "metadata": {},
   "outputs": [],
   "source": [
    "type(auc_mtx)"
   ]
  },
  {
   "cell_type": "code",
   "execution_count": null,
   "id": "sound-template",
   "metadata": {},
   "outputs": [],
   "source": [
    "adata.obs['steroid_timeline'].unique()"
   ]
  },
  {
   "cell_type": "code",
   "execution_count": null,
   "id": "confused-mauritius",
   "metadata": {},
   "outputs": [],
   "source": [
    "before = adata[adata.obs['steroid_timeline']=='before_steroid']"
   ]
  },
  {
   "cell_type": "code",
   "execution_count": null,
   "id": "greenhouse-communist",
   "metadata": {},
   "outputs": [],
   "source": [
    "after = adata[adata.obs['steroid_timeline']=='after_steroid']"
   ]
  },
  {
   "cell_type": "code",
   "execution_count": null,
   "id": "serial-danish",
   "metadata": {},
   "outputs": [],
   "source": [
    "auc_mtx_before = auc_mtx[auc_mtx.index.isin(before.obs.index)]"
   ]
  },
  {
   "cell_type": "code",
   "execution_count": null,
   "id": "uniform-rehabilitation",
   "metadata": {},
   "outputs": [],
   "source": [
    "auc_mtx_before.shape"
   ]
  },
  {
   "cell_type": "code",
   "execution_count": null,
   "id": "painted-nebraska",
   "metadata": {},
   "outputs": [],
   "source": [
    "auc_mtx_after = auc_mtx[auc_mtx.index.isin(after.obs.index)]"
   ]
  },
  {
   "cell_type": "code",
   "execution_count": null,
   "id": "common-species",
   "metadata": {},
   "outputs": [],
   "source": [
    "auc_mtx_after.shape"
   ]
  },
  {
   "cell_type": "code",
   "execution_count": null,
   "id": "electrical-refrigerator",
   "metadata": {},
   "outputs": [],
   "source": [
    "auc_mtx.shape"
   ]
  },
  {
   "cell_type": "code",
   "execution_count": null,
   "id": "affected-subsection",
   "metadata": {},
   "outputs": [],
   "source": [
    "binary_mtx_before, auc_thresholds_before = binarize( auc_mtx_before, num_workers=25 )\n",
    "binary_mtx_before.head()"
   ]
  },
  {
   "cell_type": "code",
   "execution_count": null,
   "id": "expensive-committee",
   "metadata": {},
   "outputs": [],
   "source": [
    "binary_mtx_after, auc_thresholds_after = binarize( auc_mtx_after, num_workers=25 )\n",
    "binary_mtx_after.head()"
   ]
  },
  {
   "cell_type": "code",
   "execution_count": null,
   "id": "spanish-silver",
   "metadata": {},
   "outputs": [],
   "source": [
    "# select regulons:\n",
    "import matplotlib.pyplot as plt\n",
    "r = ['STAT1(+)', 'STAT2(+)', 'IRF7(+)','YY1(+)','ATF4(+)','AHR(+)'  ]\n",
    "\n",
    "fig, axs = plt.subplots(1, 6, figsize=(12, 4), dpi=150, sharey=False)\n",
    "for i,ax in enumerate(axs):\n",
    "    sns.distplot(auc_mtx_before[ r[i] ], ax=ax, norm_hist=True, bins=100)\n",
    "    ax.plot( [ auc_thresholds_before[ r[i] ] ]*2, ax.get_ylim(), 'r:')\n",
    "    ax.title.set_text( r[i] )\n",
    "    ax.set_xlabel('')\n",
    "    \n",
    "fig.text(-0.01, 0.5, 'Frequency', ha='center', va='center', rotation='vertical', size='large')\n",
    "fig.text(0.5, -0.01, 'AUC', ha='center', va='center', rotation='horizontal', size='large')"
   ]
  },
  {
   "cell_type": "code",
   "execution_count": null,
   "id": "lined-crisis",
   "metadata": {},
   "outputs": [],
   "source": [
    "# select regulons:\n",
    "import matplotlib.pyplot as plt\n",
    "r = [ 'STAT1(+)', 'STAT2(+)', 'IRF7(+)','YY1(+)','ATF4(+)','AHR(+)' ]\n",
    "\n",
    "fig, axs = plt.subplots(1, 6, figsize=(12, 4), dpi=150, sharey=False)\n",
    "for i,ax in enumerate(axs):\n",
    "    sns.distplot(auc_mtx_after[ r[i] ], ax=ax, norm_hist=True, bins=100)\n",
    "    ax.plot( [ auc_thresholds_after[ r[i] ] ]*2, ax.get_ylim(), 'r:')\n",
    "    ax.title.set_text( r[i] )\n",
    "    ax.set_xlabel('')\n",
    "    \n",
    "fig.text(-0.01, 0.5, 'Frequency', ha='center', va='center', rotation='vertical', size='large')\n",
    "fig.text(0.5, -0.01, 'AUC', ha='center', va='center', rotation='horizontal', size='large')"
   ]
  },
  {
   "cell_type": "code",
   "execution_count": null,
   "id": "further-sunglasses",
   "metadata": {},
   "outputs": [],
   "source": [
    "auc_thresholds_after"
   ]
  },
  {
   "cell_type": "code",
   "execution_count": null,
   "id": "young-jackson",
   "metadata": {},
   "outputs": [],
   "source": [
    "# select regulons:\n",
    "plt.rcParams.update({'font.size': 12})\n",
    "import matplotlib.pyplot as plt\n",
    "r = [ 'STAT1(+)', 'STAT2(+)', 'IRF7(+)','YY1(+)' ]\n",
    "\n",
    "fig, axs = plt.subplots(1, 4, figsize=(12, 4), dpi=150, sharey=False)\n",
    "for i,ax in enumerate(axs):\n",
    "    sns.distplot(auc_mtx_before[ r[i] ], ax=ax, norm_hist=True, bins=100,color='green',label='before')\n",
    "    sns.distplot(auc_mtx_after[ r[i] ], ax=ax, norm_hist=True, bins=100,color='red',label='after')\n",
    "    \n",
    "    #ax.plot( [ auc_thresholds_after[ r[i] ] ]*2, ax.get_ylim(), 'r:')\n",
    "    ax.title.set_text( r[i] )\n",
    "    ax.set_xlabel('')\n",
    "    ax.legend()\n",
    "    \n",
    "fig.text(-0.01, 0.5, 'Frequency', ha='center', va='center', rotation='vertical', size='large')\n",
    "fig.text(0.5, -0.01, 'AUC', ha='center', va='center', rotation='horizontal', size='large')\n",
    "plt.savefig('regulon_auc.pdf',bbox_inches=\"tight\",dpi=300)"
   ]
  },
  {
   "cell_type": "code",
   "execution_count": null,
   "id": "southwest-carry",
   "metadata": {},
   "outputs": [],
   "source": []
  },
  {
   "cell_type": "code",
   "execution_count": null,
   "id": "sensitive-powder",
   "metadata": {},
   "outputs": [],
   "source": []
  }
 ],
 "metadata": {
  "kernelspec": {
   "display_name": "Py_env2",
   "language": "python",
   "name": "py_env2"
  },
  "language_info": {
   "codemirror_mode": {
    "name": "ipython",
    "version": 3
   },
   "file_extension": ".py",
   "mimetype": "text/x-python",
   "name": "python",
   "nbconvert_exporter": "python",
   "pygments_lexer": "ipython3",
   "version": "3.8.13"
  }
 },
 "nbformat": 4,
 "nbformat_minor": 5
}
