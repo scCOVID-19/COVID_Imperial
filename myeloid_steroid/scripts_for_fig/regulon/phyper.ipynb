{
 "cells": [
  {
   "cell_type": "code",
   "execution_count": 10,
   "id": "optional-marketplace",
   "metadata": {},
   "outputs": [
    {
     "data": {
      "text/html": [
       "5.02955756429607e-98"
      ],
      "text/latex": [
       "5.02955756429607e-98"
      ],
      "text/markdown": [
       "5.02955756429607e-98"
      ],
      "text/plain": [
       "[1] 5.029558e-98"
      ]
     },
     "metadata": {},
     "output_type": "display_data"
    }
   ],
   "source": [
    "#yy1 with other 3\n",
    "phyper(406,1075,(32913-1075),4275,lower.tail=FALSE)"
   ]
  },
  {
   "cell_type": "code",
   "execution_count": 6,
   "id": "beginning-dylan",
   "metadata": {},
   "outputs": [
    {
     "data": {
      "text/html": [
       "2.10488740200869e-142"
      ],
      "text/latex": [
       "2.10488740200869e-142"
      ],
      "text/markdown": [
       "2.10488740200869e-142"
      ],
      "text/plain": [
       "[1] 2.104887e-142"
      ]
     },
     "metadata": {},
     "output_type": "display_data"
    }
   ],
   "source": [
    "#yy1 with stat1\n",
    "phyper(327,1075,(32913-1075),2008,lower.tail=FALSE)"
   ]
  },
  {
   "cell_type": "code",
   "execution_count": 7,
   "id": "enhanced-attraction",
   "metadata": {},
   "outputs": [
    {
     "data": {
      "text/html": [
       "1.69327588253274e-49"
      ],
      "text/latex": [
       "1.69327588253274e-49"
      ],
      "text/markdown": [
       "1.69327588253274e-49"
      ],
      "text/plain": [
       "[1] 1.693276e-49"
      ]
     },
     "metadata": {},
     "output_type": "display_data"
    }
   ],
   "source": [
    "#yy1 with stat2\n",
    "phyper(135,1075,(32913-1075),939,lower.tail=FALSE)"
   ]
  },
  {
   "cell_type": "code",
   "execution_count": 8,
   "id": "thick-crazy",
   "metadata": {},
   "outputs": [
    {
     "data": {
      "text/html": [
       "9.92998351804093e-67"
      ],
      "text/latex": [
       "9.92998351804093e-67"
      ],
      "text/markdown": [
       "9.92998351804093e-67"
      ],
      "text/plain": [
       "[1] 9.929984e-67"
      ]
     },
     "metadata": {},
     "output_type": "display_data"
    }
   ],
   "source": [
    "#yy1 with irf7\n",
    "phyper(186,1075,(32913-1075),1328,lower.tail=FALSE)"
   ]
  },
  {
   "cell_type": "code",
   "execution_count": null,
   "id": "orange-station",
   "metadata": {},
   "outputs": [],
   "source": []
  }
 ],
 "metadata": {
  "kernelspec": {
   "display_name": "R 4.1.2",
   "language": "R",
   "name": "ir412"
  },
  "language_info": {
   "codemirror_mode": "r",
   "file_extension": ".r",
   "mimetype": "text/x-r-source",
   "name": "R",
   "pygments_lexer": "r",
   "version": "4.1.2"
  }
 },
 "nbformat": 4,
 "nbformat_minor": 5
}
