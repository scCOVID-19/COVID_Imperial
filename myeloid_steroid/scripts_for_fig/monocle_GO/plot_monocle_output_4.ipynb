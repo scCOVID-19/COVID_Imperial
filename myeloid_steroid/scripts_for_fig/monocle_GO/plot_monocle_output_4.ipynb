{
 "cells": [
  {
   "cell_type": "code",
   "execution_count": 1,
   "id": "promotional-latest",
   "metadata": {},
   "outputs": [
    {
     "name": "stderr",
     "output_type": "stream",
     "text": [
      "Loading required package: Biobase\n",
      "\n",
      "Loading required package: BiocGenerics\n",
      "\n",
      "\n",
      "Attaching package: ‘BiocGenerics’\n",
      "\n",
      "\n",
      "The following objects are masked from ‘package:stats’:\n",
      "\n",
      "    IQR, mad, sd, var, xtabs\n",
      "\n",
      "\n",
      "The following objects are masked from ‘package:base’:\n",
      "\n",
      "    anyDuplicated, append, as.data.frame, basename, cbind, colnames,\n",
      "    dirname, do.call, duplicated, eval, evalq, Filter, Find, get, grep,\n",
      "    grepl, intersect, is.unsorted, lapply, Map, mapply, match, mget,\n",
      "    order, paste, pmax, pmax.int, pmin, pmin.int, Position, rank,\n",
      "    rbind, Reduce, rownames, sapply, setdiff, sort, table, tapply,\n",
      "    union, unique, unsplit, which.max, which.min\n",
      "\n",
      "\n",
      "Welcome to Bioconductor\n",
      "\n",
      "    Vignettes contain introductory material; view with\n",
      "    'browseVignettes()'. To cite Bioconductor, see\n",
      "    'citation(\"Biobase\")', and for packages 'citation(\"pkgname\")'.\n",
      "\n",
      "\n",
      "\n",
      "Attaching package: ‘Biobase’\n",
      "\n",
      "\n",
      "The following object is masked from ‘package:rlang’:\n",
      "\n",
      "    exprs\n",
      "\n",
      "\n",
      "Loading required package: SingleCellExperiment\n",
      "\n",
      "Loading required package: SummarizedExperiment\n",
      "\n",
      "Loading required package: MatrixGenerics\n",
      "\n",
      "Loading required package: matrixStats\n",
      "\n",
      "\n",
      "Attaching package: ‘matrixStats’\n",
      "\n",
      "\n",
      "The following objects are masked from ‘package:Biobase’:\n",
      "\n",
      "    anyMissing, rowMedians\n",
      "\n",
      "\n",
      "\n",
      "Attaching package: ‘MatrixGenerics’\n",
      "\n",
      "\n",
      "The following objects are masked from ‘package:matrixStats’:\n",
      "\n",
      "    colAlls, colAnyNAs, colAnys, colAvgsPerRowSet, colCollapse,\n",
      "    colCounts, colCummaxs, colCummins, colCumprods, colCumsums,\n",
      "    colDiffs, colIQRDiffs, colIQRs, colLogSumExps, colMadDiffs,\n",
      "    colMads, colMaxs, colMeans2, colMedians, colMins, colOrderStats,\n",
      "    colProds, colQuantiles, colRanges, colRanks, colSdDiffs, colSds,\n",
      "    colSums2, colTabulates, colVarDiffs, colVars, colWeightedMads,\n",
      "    colWeightedMeans, colWeightedMedians, colWeightedSds,\n",
      "    colWeightedVars, rowAlls, rowAnyNAs, rowAnys, rowAvgsPerColSet,\n",
      "    rowCollapse, rowCounts, rowCummaxs, rowCummins, rowCumprods,\n",
      "    rowCumsums, rowDiffs, rowIQRDiffs, rowIQRs, rowLogSumExps,\n",
      "    rowMadDiffs, rowMads, rowMaxs, rowMeans2, rowMedians, rowMins,\n",
      "    rowOrderStats, rowProds, rowQuantiles, rowRanges, rowRanks,\n",
      "    rowSdDiffs, rowSds, rowSums2, rowTabulates, rowVarDiffs, rowVars,\n",
      "    rowWeightedMads, rowWeightedMeans, rowWeightedMedians,\n",
      "    rowWeightedSds, rowWeightedVars\n",
      "\n",
      "\n",
      "The following object is masked from ‘package:Biobase’:\n",
      "\n",
      "    rowMedians\n",
      "\n",
      "\n",
      "Loading required package: GenomicRanges\n",
      "\n",
      "Loading required package: stats4\n",
      "\n",
      "Loading required package: S4Vectors\n",
      "\n",
      "\n",
      "Attaching package: ‘S4Vectors’\n",
      "\n",
      "\n",
      "The following objects are masked from ‘package:base’:\n",
      "\n",
      "    expand.grid, I, unname\n",
      "\n",
      "\n",
      "Loading required package: IRanges\n",
      "\n",
      "Loading required package: GenomeInfoDb\n",
      "\n",
      "\n",
      "Attaching package: ‘monocle3’\n",
      "\n",
      "\n",
      "The following objects are masked from ‘package:Biobase’:\n",
      "\n",
      "    exprs, fData, fData<-, pData, pData<-\n",
      "\n",
      "\n",
      "The following object is masked from ‘package:rlang’:\n",
      "\n",
      "    exprs\n",
      "\n",
      "\n",
      "\n",
      "Attaching package: ‘dplyr’\n",
      "\n",
      "\n",
      "The following objects are masked from ‘package:GenomicRanges’:\n",
      "\n",
      "    intersect, setdiff, union\n",
      "\n",
      "\n",
      "The following object is masked from ‘package:GenomeInfoDb’:\n",
      "\n",
      "    intersect\n",
      "\n",
      "\n",
      "The following objects are masked from ‘package:IRanges’:\n",
      "\n",
      "    collapse, desc, intersect, setdiff, slice, union\n",
      "\n",
      "\n",
      "The following objects are masked from ‘package:S4Vectors’:\n",
      "\n",
      "    first, intersect, rename, setdiff, setequal, union\n",
      "\n",
      "\n",
      "The following object is masked from ‘package:matrixStats’:\n",
      "\n",
      "    count\n",
      "\n",
      "\n",
      "The following object is masked from ‘package:Biobase’:\n",
      "\n",
      "    combine\n",
      "\n",
      "\n",
      "The following objects are masked from ‘package:BiocGenerics’:\n",
      "\n",
      "    combine, intersect, setdiff, union\n",
      "\n",
      "\n",
      "The following objects are masked from ‘package:stats’:\n",
      "\n",
      "    filter, lag\n",
      "\n",
      "\n",
      "The following objects are masked from ‘package:base’:\n",
      "\n",
      "    intersect, setdiff, setequal, union\n",
      "\n",
      "\n",
      "\n",
      "Attaching package: ‘Matrix’\n",
      "\n",
      "\n",
      "The following object is masked from ‘package:S4Vectors’:\n",
      "\n",
      "    expand\n",
      "\n",
      "\n",
      "Loading required package: grid\n",
      "\n",
      "========================================\n",
      "ComplexHeatmap version 2.13.2\n",
      "Bioconductor page: http://bioconductor.org/packages/ComplexHeatmap/\n",
      "Github page: https://github.com/jokergoo/ComplexHeatmap\n",
      "Documentation: http://jokergoo.github.io/ComplexHeatmap-reference\n",
      "\n",
      "If you use it in published research, please cite either one:\n",
      "- Gu, Z. Complex heatmaps reveal patterns and correlations in multidimensional \n",
      "    genomic data. Bioinformatics 2016.\n",
      "- Gu, Z. Complex Heatmap Visualization. iMeta 2022.\n",
      "\n",
      "\n",
      "The new InteractiveComplexHeatmap package can directly export static \n",
      "complex heatmaps into an interactive Shiny app with zero effort. Have a try!\n",
      "\n",
      "This message can be suppressed by:\n",
      "  suppressPackageStartupMessages(library(ComplexHeatmap))\n",
      "========================================\n",
      "\n",
      "\n",
      "========================================\n",
      "circlize version 0.4.15\n",
      "CRAN page: https://cran.r-project.org/package=circlize\n",
      "Github page: https://github.com/jokergoo/circlize\n",
      "Documentation: https://jokergoo.github.io/circlize_book/book/\n",
      "\n",
      "If you use it in published research, please cite:\n",
      "Gu, Z. circlize implements and enhances circular visualization\n",
      "  in R. Bioinformatics 2014.\n",
      "\n",
      "This message can be suppressed by:\n",
      "  suppressPackageStartupMessages(library(circlize))\n",
      "========================================\n",
      "\n",
      "\n"
     ]
    }
   ],
   "source": [
    "library(rlang)\n",
    "library(monocle3)\n",
    "library(shiny)\n",
    "library(ggplot2)\n",
    "library(dplyr)\n",
    "library(garnett)\n",
    "library(Matrix)\n",
    "library(irlba)\n",
    "library(ComplexHeatmap)\n",
    "library(ggplot2)\n",
    "library(dplyr)\n",
    "library(RColorBrewer)\n",
    "library(circlize)"
   ]
  },
  {
   "cell_type": "markdown",
   "id": "centered-permission",
   "metadata": {},
   "source": [
    "# loading modulated genes and cds"
   ]
  },
  {
   "cell_type": "code",
   "execution_count": 2,
   "id": "opposite-latino",
   "metadata": {},
   "outputs": [],
   "source": [
    "modulated_genes=readRDS('/home/jovyan/scripts/renal_covid_19/scripts_for_publication/monocle_GO/allCD14_wave2_steroid_2021_modulated_genes.rds')"
   ]
  },
  {
   "cell_type": "code",
   "execution_count": 3,
   "id": "induced-ordinance",
   "metadata": {},
   "outputs": [],
   "source": [
    "cds = readRDS('/home/jovyan/scripts/renal_covid_19/scripts_for_publication/monocle_GO/allCD14_wave2_steroid_2021_cds.rds')"
   ]
  },
  {
   "cell_type": "code",
   "execution_count": 4,
   "id": "printable-dragon",
   "metadata": {},
   "outputs": [
    {
     "data": {
      "text/html": [
       "<style>\n",
       ".list-inline {list-style: none; margin:0; padding: 0}\n",
       ".list-inline>li {display: inline-block}\n",
       ".list-inline>li:not(:last-child)::after {content: \"\\00b7\"; padding: 0 .5ex}\n",
       "</style>\n",
       "<ol class=list-inline><li>C33</li><li>C101</li><li>C146</li><li>C138</li><li>C145</li><li>C147</li></ol>\n",
       "\n",
       "<details>\n",
       "\t<summary style=display:list-item;cursor:pointer>\n",
       "\t\t<strong>Levels</strong>:\n",
       "\t</summary>\n",
       "\t<style>\n",
       "\t.list-inline {list-style: none; margin:0; padding: 0}\n",
       "\t.list-inline>li {display: inline-block}\n",
       "\t.list-inline>li:not(:last-child)::after {content: \"\\00b7\"; padding: 0 .5ex}\n",
       "\t</style>\n",
       "\t<ol class=list-inline><li>'C101'</li><li>'C138'</li><li>'C145'</li><li>'C146'</li><li>'C147'</li><li>'C33'</li></ol>\n",
       "</details>"
      ],
      "text/latex": [
       "\\begin{enumerate*}\n",
       "\\item C33\n",
       "\\item C101\n",
       "\\item C146\n",
       "\\item C138\n",
       "\\item C145\n",
       "\\item C147\n",
       "\\end{enumerate*}\n",
       "\n",
       "\\emph{Levels}: \\begin{enumerate*}\n",
       "\\item 'C101'\n",
       "\\item 'C138'\n",
       "\\item 'C145'\n",
       "\\item 'C146'\n",
       "\\item 'C147'\n",
       "\\item 'C33'\n",
       "\\end{enumerate*}\n"
      ],
      "text/markdown": [
       "1. C33\n",
       "2. C101\n",
       "3. C146\n",
       "4. C138\n",
       "5. C145\n",
       "6. C147\n",
       "\n",
       "\n",
       "\n",
       "**Levels**: 1. 'C101'\n",
       "2. 'C138'\n",
       "3. 'C145'\n",
       "4. 'C146'\n",
       "5. 'C147'\n",
       "6. 'C33'\n",
       "\n",
       "\n"
      ],
      "text/plain": [
       "[1] C33  C101 C146 C138 C145 C147\n",
       "Levels: C101 C138 C145 C146 C147 C33"
      ]
     },
     "metadata": {},
     "output_type": "display_data"
    }
   ],
   "source": [
    "unique(cds$individual_id)"
   ]
  },
  {
   "cell_type": "markdown",
   "id": "entitled-appearance",
   "metadata": {},
   "source": [
    "# selected sig genes"
   ]
  },
  {
   "cell_type": "code",
   "execution_count": 5,
   "id": "growing-christianity",
   "metadata": {},
   "outputs": [
    {
     "data": {
      "text/html": [
       "102"
      ],
      "text/latex": [
       "102"
      ],
      "text/markdown": [
       "102"
      ],
      "text/plain": [
       "[1] 102"
      ]
     },
     "metadata": {},
     "output_type": "display_data"
    }
   ],
   "source": [
    "genes <- row.names(subset(modulated_genes, q_value <0.05 & morans_I > 0.2 ))#& morans_I > 0.2\n",
    "length(genes)"
   ]
  },
  {
   "cell_type": "code",
   "execution_count": 6,
   "id": "removed-police",
   "metadata": {},
   "outputs": [
    {
     "data": {
      "text/html": [
       "58"
      ],
      "text/latex": [
       "58"
      ],
      "text/markdown": [
       "58"
      ],
      "text/plain": [
       "[1] 58"
      ]
     },
     "metadata": {},
     "output_type": "display_data"
    }
   ],
   "source": [
    "# remove mito and ribo genes\n",
    "genes <-genes[!grepl(paste0('^RPL', collapse = \"|\"), genes)]\n",
    "genes <-genes[!grepl(paste0('^RPS', collapse = \"|\"), genes)]\n",
    "genes <-genes[!grepl(paste0('^MT-', collapse = \"|\"), genes)]\n",
    "\n",
    "length(genes)"
   ]
  },
  {
   "cell_type": "markdown",
   "id": "attempted-louisville",
   "metadata": {},
   "source": [
    "# get count matrix for sig genes in pseudo time order"
   ]
  },
  {
   "cell_type": "code",
   "execution_count": 7,
   "id": "capable-header",
   "metadata": {},
   "outputs": [
    {
     "data": {
      "text/html": [
       "<style>\n",
       ".list-inline {list-style: none; margin:0; padding: 0}\n",
       ".list-inline>li {display: inline-block}\n",
       ".list-inline>li:not(:last-child)::after {content: \"\\00b7\"; padding: 0 .5ex}\n",
       "</style>\n",
       "<ol class=list-inline><li>6</li><li>49</li><li>34</li><li>5</li><li>13</li><li>-6</li><li>1</li><li>14</li><li>-10</li><li>11</li><li>2</li><li>-3</li><li>4</li><li>-1</li><li>9</li><li>7</li><li>-2</li><li>0</li><li>-4</li><li>18</li><li>-8</li><li>-5</li></ol>\n"
      ],
      "text/latex": [
       "\\begin{enumerate*}\n",
       "\\item 6\n",
       "\\item 49\n",
       "\\item 34\n",
       "\\item 5\n",
       "\\item 13\n",
       "\\item -6\n",
       "\\item 1\n",
       "\\item 14\n",
       "\\item -10\n",
       "\\item 11\n",
       "\\item 2\n",
       "\\item -3\n",
       "\\item 4\n",
       "\\item -1\n",
       "\\item 9\n",
       "\\item 7\n",
       "\\item -2\n",
       "\\item 0\n",
       "\\item -4\n",
       "\\item 18\n",
       "\\item -8\n",
       "\\item -5\n",
       "\\end{enumerate*}\n"
      ],
      "text/markdown": [
       "1. 6\n",
       "2. 49\n",
       "3. 34\n",
       "4. 5\n",
       "5. 13\n",
       "6. -6\n",
       "7. 1\n",
       "8. 14\n",
       "9. -10\n",
       "10. 11\n",
       "11. 2\n",
       "12. -3\n",
       "13. 4\n",
       "14. -1\n",
       "15. 9\n",
       "16. 7\n",
       "17. -2\n",
       "18. 0\n",
       "19. -4\n",
       "20. 18\n",
       "21. -8\n",
       "22. -5\n",
       "\n",
       "\n"
      ],
      "text/plain": [
       " [1]   6  49  34   5  13  -6   1  14 -10  11   2  -3   4  -1   9   7  -2   0  -4\n",
       "[20]  18  -8  -5"
      ]
     },
     "metadata": {},
     "output_type": "display_data"
    }
   ],
   "source": [
    "unique((cds$days_from_steroid))"
   ]
  },
  {
   "cell_type": "code",
   "execution_count": 8,
   "id": "regular-solomon",
   "metadata": {},
   "outputs": [],
   "source": [
    "pt.matrix <- as.matrix(cds@assays@data$counts[match(genes,rownames(rowData(cds))),order(cds$days_from_steroid)]) # order by pseudotime_GPLVM"
   ]
  },
  {
   "cell_type": "code",
   "execution_count": 9,
   "id": "adjacent-tonight",
   "metadata": {},
   "outputs": [],
   "source": [
    "cellname <-colnames(pt.matrix)"
   ]
  },
  {
   "cell_type": "markdown",
   "id": "eligible-wayne",
   "metadata": {},
   "source": [
    "# smoothening"
   ]
  },
  {
   "cell_type": "code",
   "execution_count": 10,
   "id": "responsible-joining",
   "metadata": {},
   "outputs": [],
   "source": [
    "pt.matrix <- t(apply(pt.matrix,1,function(x){smooth.spline(x,df=3)$y}))\n",
    "pt.matrix <- t(apply(pt.matrix,1,function(x){(x-mean(x))/sd(x)}))"
   ]
  },
  {
   "cell_type": "code",
   "execution_count": 11,
   "id": "declared-scout",
   "metadata": {},
   "outputs": [],
   "source": [
    "rownames(pt.matrix) <- genes;"
   ]
  },
  {
   "cell_type": "code",
   "execution_count": 12,
   "id": "typical-therapist",
   "metadata": {},
   "outputs": [],
   "source": [
    "colnames(pt.matrix) <- cellname;"
   ]
  },
  {
   "cell_type": "markdown",
   "id": "annoying-killing",
   "metadata": {},
   "source": [
    "# getting cluster bars"
   ]
  },
  {
   "cell_type": "code",
   "execution_count": 13,
   "id": "aware-battle",
   "metadata": {},
   "outputs": [
    {
     "data": {
      "text/html": [
       "<style>\n",
       ".list-inline {list-style: none; margin:0; padding: 0}\n",
       ".list-inline>li {display: inline-block}\n",
       ".list-inline>li:not(:last-child)::after {content: \"\\00b7\"; padding: 0 .5ex}\n",
       "</style>\n",
       "<ol class=list-inline><li>critical</li><li>nan</li><li>mild</li><li>severe</li><li>moderate</li></ol>\n",
       "\n",
       "<details>\n",
       "\t<summary style=display:list-item;cursor:pointer>\n",
       "\t\t<strong>Levels</strong>:\n",
       "\t</summary>\n",
       "\t<style>\n",
       "\t.list-inline {list-style: none; margin:0; padding: 0}\n",
       "\t.list-inline>li {display: inline-block}\n",
       "\t.list-inline>li:not(:last-child)::after {content: \"\\00b7\"; padding: 0 .5ex}\n",
       "\t</style>\n",
       "\t<ol class=list-inline><li>'critical'</li><li>'mild'</li><li>'moderate'</li><li>'nan'</li><li>'severe'</li></ol>\n",
       "</details>"
      ],
      "text/latex": [
       "\\begin{enumerate*}\n",
       "\\item critical\n",
       "\\item nan\n",
       "\\item mild\n",
       "\\item severe\n",
       "\\item moderate\n",
       "\\end{enumerate*}\n",
       "\n",
       "\\emph{Levels}: \\begin{enumerate*}\n",
       "\\item 'critical'\n",
       "\\item 'mild'\n",
       "\\item 'moderate'\n",
       "\\item 'nan'\n",
       "\\item 'severe'\n",
       "\\end{enumerate*}\n"
      ],
      "text/markdown": [
       "1. critical\n",
       "2. nan\n",
       "3. mild\n",
       "4. severe\n",
       "5. moderate\n",
       "\n",
       "\n",
       "\n",
       "**Levels**: 1. 'critical'\n",
       "2. 'mild'\n",
       "3. 'moderate'\n",
       "4. 'nan'\n",
       "5. 'severe'\n",
       "\n",
       "\n"
      ],
      "text/plain": [
       "[1] critical nan      mild     severe   moderate\n",
       "Levels: critical mild moderate nan severe"
      ]
     },
     "metadata": {},
     "output_type": "display_data"
    }
   ],
   "source": [
    "unique(cds$WHO_temp_severity) #checking clusters"
   ]
  },
  {
   "cell_type": "code",
   "execution_count": 14,
   "id": "becoming-haiti",
   "metadata": {},
   "outputs": [
    {
     "data": {
      "text/html": [
       "<style>\n",
       ".list-inline {list-style: none; margin:0; padding: 0}\n",
       ".list-inline>li {display: inline-block}\n",
       ".list-inline>li:not(:last-child)::after {content: \"\\00b7\"; padding: 0 .5ex}\n",
       "</style>\n",
       "<ol class=list-inline><li>POSITIVE</li><li>RECOVERY</li></ol>\n",
       "\n",
       "<details>\n",
       "\t<summary style=display:list-item;cursor:pointer>\n",
       "\t\t<strong>Levels</strong>:\n",
       "\t</summary>\n",
       "\t<style>\n",
       "\t.list-inline {list-style: none; margin:0; padding: 0}\n",
       "\t.list-inline>li {display: inline-block}\n",
       "\t.list-inline>li:not(:last-child)::after {content: \"\\00b7\"; padding: 0 .5ex}\n",
       "\t</style>\n",
       "\t<ol class=list-inline><li>'POSITIVE'</li><li>'RECOVERY'</li></ol>\n",
       "</details>"
      ],
      "text/latex": [
       "\\begin{enumerate*}\n",
       "\\item POSITIVE\n",
       "\\item RECOVERY\n",
       "\\end{enumerate*}\n",
       "\n",
       "\\emph{Levels}: \\begin{enumerate*}\n",
       "\\item 'POSITIVE'\n",
       "\\item 'RECOVERY'\n",
       "\\end{enumerate*}\n"
      ],
      "text/markdown": [
       "1. POSITIVE\n",
       "2. RECOVERY\n",
       "\n",
       "\n",
       "\n",
       "**Levels**: 1. 'POSITIVE'\n",
       "2. 'RECOVERY'\n",
       "\n",
       "\n"
      ],
      "text/plain": [
       "[1] POSITIVE RECOVERY\n",
       "Levels: POSITIVE RECOVERY"
      ]
     },
     "metadata": {},
     "output_type": "display_data"
    }
   ],
   "source": [
    "unique(cds$case_control)"
   ]
  },
  {
   "cell_type": "code",
   "execution_count": 15,
   "id": "wicked-mechanics",
   "metadata": {},
   "outputs": [],
   "source": [
    "cds$WHO_temp_severity_correct <- factor(cds$WHO_temp_severity, levels = c('nan','mild', 'moderate','severe','critical'), labels = c('recovery','mild','moderate','severe','critical'))"
   ]
  },
  {
   "cell_type": "code",
   "execution_count": 16,
   "id": "later-anchor",
   "metadata": {},
   "outputs": [
    {
     "data": {
      "text/html": [
       "<style>\n",
       ".list-inline {list-style: none; margin:0; padding: 0}\n",
       ".list-inline>li {display: inline-block}\n",
       ".list-inline>li:not(:last-child)::after {content: \"\\00b7\"; padding: 0 .5ex}\n",
       "</style>\n",
       "<ol class=list-inline><li>critical</li><li>recovery</li><li>mild</li><li>severe</li><li>moderate</li></ol>\n",
       "\n",
       "<details>\n",
       "\t<summary style=display:list-item;cursor:pointer>\n",
       "\t\t<strong>Levels</strong>:\n",
       "\t</summary>\n",
       "\t<style>\n",
       "\t.list-inline {list-style: none; margin:0; padding: 0}\n",
       "\t.list-inline>li {display: inline-block}\n",
       "\t.list-inline>li:not(:last-child)::after {content: \"\\00b7\"; padding: 0 .5ex}\n",
       "\t</style>\n",
       "\t<ol class=list-inline><li>'recovery'</li><li>'mild'</li><li>'moderate'</li><li>'severe'</li><li>'critical'</li></ol>\n",
       "</details>"
      ],
      "text/latex": [
       "\\begin{enumerate*}\n",
       "\\item critical\n",
       "\\item recovery\n",
       "\\item mild\n",
       "\\item severe\n",
       "\\item moderate\n",
       "\\end{enumerate*}\n",
       "\n",
       "\\emph{Levels}: \\begin{enumerate*}\n",
       "\\item 'recovery'\n",
       "\\item 'mild'\n",
       "\\item 'moderate'\n",
       "\\item 'severe'\n",
       "\\item 'critical'\n",
       "\\end{enumerate*}\n"
      ],
      "text/markdown": [
       "1. critical\n",
       "2. recovery\n",
       "3. mild\n",
       "4. severe\n",
       "5. moderate\n",
       "\n",
       "\n",
       "\n",
       "**Levels**: 1. 'recovery'\n",
       "2. 'mild'\n",
       "3. 'moderate'\n",
       "4. 'severe'\n",
       "5. 'critical'\n",
       "\n",
       "\n"
      ],
      "text/plain": [
       "[1] critical recovery mild     severe   moderate\n",
       "Levels: recovery mild moderate severe critical"
      ]
     },
     "metadata": {},
     "output_type": "display_data"
    }
   ],
   "source": [
    "unique(cds$WHO_temp_severity_correct)"
   ]
  },
  {
   "cell_type": "code",
   "execution_count": 17,
   "id": "certain-stadium",
   "metadata": {},
   "outputs": [],
   "source": [
    "pseudo_time <-pseudotime(cds)\n",
    "pseudo_time <- as.data.frame(pseudo_time)\n",
    "#print (head(pseudo_time))"
   ]
  },
  {
   "cell_type": "code",
   "execution_count": 18,
   "id": "entire-colony",
   "metadata": {},
   "outputs": [],
   "source": [
    "day_from_steroid <-(colData(cds)[, \"days_from_steroid\"])\n",
    "day_from_steroid <- as.data.frame(day_from_steroid)\n",
    "#tail(day_from_steroid)"
   ]
  },
  {
   "cell_type": "code",
   "execution_count": 19,
   "id": "latter-campbell",
   "metadata": {},
   "outputs": [],
   "source": [
    "pseudotime_GPLVM <-(colData(cds)[, \"pseudotime_GPLVM\"])\n",
    "pseudotime_GPLVM <- as.data.frame(pseudotime_GPLVM)\n",
    "#tail(pseudotime_GPLVM)"
   ]
  },
  {
   "cell_type": "code",
   "execution_count": 20,
   "id": "informational-counter",
   "metadata": {},
   "outputs": [],
   "source": [
    "sev <-(colData(cds)[, \"WHO_temp_severity_correct\"])\n",
    "df_sev <- as.data.frame(sev)\n",
    "#tail(df_sev)"
   ]
  },
  {
   "cell_type": "code",
   "execution_count": 21,
   "id": "heavy-doctrine",
   "metadata": {},
   "outputs": [],
   "source": [
    "positive_recovery <-(colData(cds)[, \"case_control\"])\n",
    "positive_recovery <- as.data.frame(positive_recovery)\n",
    "#tail(case_control)"
   ]
  },
  {
   "cell_type": "code",
   "execution_count": 22,
   "id": "eight-conference",
   "metadata": {},
   "outputs": [],
   "source": [
    "time_from_first_symptoms<-(colData(cds)[, \"time_from_first_symptoms\"])\n",
    "time_from_first_symptoms <- as.data.frame(time_from_first_symptoms)\n",
    "#tail(time_from_first_symptoms)"
   ]
  },
  {
   "cell_type": "code",
   "execution_count": 23,
   "id": "ordinary-content",
   "metadata": {},
   "outputs": [],
   "source": [
    "time_from_pos_swab<-(colData(cds)[, \"time_from_positive_swab\"])\n",
    "time_from_pos_swab <- as.data.frame(time_from_pos_swab)\n",
    "#tail(time_from_pos_swab)"
   ]
  },
  {
   "cell_type": "code",
   "execution_count": 24,
   "id": "desirable-cycle",
   "metadata": {},
   "outputs": [],
   "source": [
    "time_from_inf <-(colData(cds)[, \"time_from_infection\"])\n",
    "time_from_inf <- as.data.frame(time_from_inf)\n",
    "#tail(time_from_inf)"
   ]
  },
  {
   "cell_type": "code",
   "execution_count": 25,
   "id": "basic-slovakia",
   "metadata": {},
   "outputs": [],
   "source": [
    "top_anno <- cbind(positive_recovery,time_from_inf,pseudotime_GPLVM,df_sev,pseudo_time,time_from_pos_swab,time_from_first_symptoms,day_from_steroid)"
   ]
  },
  {
   "cell_type": "code",
   "execution_count": 26,
   "id": "dental-prior",
   "metadata": {
    "tags": []
   },
   "outputs": [
    {
     "data": {
      "text/html": [
       "<table class=\"dataframe\">\n",
       "<caption>A data.frame: 6 × 8</caption>\n",
       "<thead>\n",
       "\t<tr><th></th><th scope=col>positive_recovery</th><th scope=col>time_from_inf</th><th scope=col>pseudotime_GPLVM</th><th scope=col>sev</th><th scope=col>pseudo_time</th><th scope=col>time_from_pos_swab</th><th scope=col>time_from_first_symptoms</th><th scope=col>day_from_steroid</th></tr>\n",
       "\t<tr><th></th><th scope=col>&lt;fct&gt;</th><th scope=col>&lt;int&gt;</th><th scope=col>&lt;dbl&gt;</th><th scope=col>&lt;fct&gt;</th><th scope=col>&lt;dbl&gt;</th><th scope=col>&lt;int&gt;</th><th scope=col>&lt;int&gt;</th><th scope=col>&lt;int&gt;</th></tr>\n",
       "</thead>\n",
       "<tbody>\n",
       "\t<tr><th scope=row>UK-CIC10690336+UK-CIC10690528_TTTGGTTAGCGTGTCC-1</th><td>POSITIVE</td><td>3</td><td>0.3541150</td><td>mild</td><td>13.6374608</td><td>3</td><td>-9</td><td>-10</td></tr>\n",
       "\t<tr><th scope=row>UK-CIC10690333+UK-CIC10690525_GGACGTCTCAACACTG-1</th><td>POSITIVE</td><td>3</td><td>0.4538487</td><td>mild</td><td>13.6374614</td><td>3</td><td>-9</td><td>-10</td></tr>\n",
       "\t<tr><th scope=row>UK-CIC10690334+UK-CIC10690526_GGACGTCTCGACAGCC-1</th><td>POSITIVE</td><td>3</td><td>0.4898367</td><td>mild</td><td> 0.5490350</td><td>3</td><td>-9</td><td>-10</td></tr>\n",
       "\t<tr><th scope=row>UK-CIC10690335+UK-CIC10690527_GAAACTCTCGATGAGG-1</th><td>POSITIVE</td><td>3</td><td>0.4843546</td><td>mild</td><td> 0.5490353</td><td>3</td><td>-9</td><td>-10</td></tr>\n",
       "\t<tr><th scope=row>UK-CIC10690335+UK-CIC10690527_TCGTACCTCAACACCA-1</th><td>POSITIVE</td><td>3</td><td>0.3387644</td><td>mild</td><td> 0.5490356</td><td>3</td><td>-9</td><td>-10</td></tr>\n",
       "\t<tr><th scope=row>UK-CIC10690336+UK-CIC10690528_AGGCCACAGCGATAGC-1</th><td>POSITIVE</td><td>3</td><td>0.5235588</td><td>mild</td><td> 1.8175063</td><td>3</td><td>-9</td><td>-10</td></tr>\n",
       "</tbody>\n",
       "</table>\n"
      ],
      "text/latex": [
       "A data.frame: 6 × 8\n",
       "\\begin{tabular}{r|llllllll}\n",
       "  & positive\\_recovery & time\\_from\\_inf & pseudotime\\_GPLVM & sev & pseudo\\_time & time\\_from\\_pos\\_swab & time\\_from\\_first\\_symptoms & day\\_from\\_steroid\\\\\n",
       "  & <fct> & <int> & <dbl> & <fct> & <dbl> & <int> & <int> & <int>\\\\\n",
       "\\hline\n",
       "\tUK-CIC10690336+UK-CIC10690528\\_TTTGGTTAGCGTGTCC-1 & POSITIVE & 3 & 0.3541150 & mild & 13.6374608 & 3 & -9 & -10\\\\\n",
       "\tUK-CIC10690333+UK-CIC10690525\\_GGACGTCTCAACACTG-1 & POSITIVE & 3 & 0.4538487 & mild & 13.6374614 & 3 & -9 & -10\\\\\n",
       "\tUK-CIC10690334+UK-CIC10690526\\_GGACGTCTCGACAGCC-1 & POSITIVE & 3 & 0.4898367 & mild &  0.5490350 & 3 & -9 & -10\\\\\n",
       "\tUK-CIC10690335+UK-CIC10690527\\_GAAACTCTCGATGAGG-1 & POSITIVE & 3 & 0.4843546 & mild &  0.5490353 & 3 & -9 & -10\\\\\n",
       "\tUK-CIC10690335+UK-CIC10690527\\_TCGTACCTCAACACCA-1 & POSITIVE & 3 & 0.3387644 & mild &  0.5490356 & 3 & -9 & -10\\\\\n",
       "\tUK-CIC10690336+UK-CIC10690528\\_AGGCCACAGCGATAGC-1 & POSITIVE & 3 & 0.5235588 & mild &  1.8175063 & 3 & -9 & -10\\\\\n",
       "\\end{tabular}\n"
      ],
      "text/markdown": [
       "\n",
       "A data.frame: 6 × 8\n",
       "\n",
       "| <!--/--> | positive_recovery &lt;fct&gt; | time_from_inf &lt;int&gt; | pseudotime_GPLVM &lt;dbl&gt; | sev &lt;fct&gt; | pseudo_time &lt;dbl&gt; | time_from_pos_swab &lt;int&gt; | time_from_first_symptoms &lt;int&gt; | day_from_steroid &lt;int&gt; |\n",
       "|---|---|---|---|---|---|---|---|---|\n",
       "| UK-CIC10690336+UK-CIC10690528_TTTGGTTAGCGTGTCC-1 | POSITIVE | 3 | 0.3541150 | mild | 13.6374608 | 3 | -9 | -10 |\n",
       "| UK-CIC10690333+UK-CIC10690525_GGACGTCTCAACACTG-1 | POSITIVE | 3 | 0.4538487 | mild | 13.6374614 | 3 | -9 | -10 |\n",
       "| UK-CIC10690334+UK-CIC10690526_GGACGTCTCGACAGCC-1 | POSITIVE | 3 | 0.4898367 | mild |  0.5490350 | 3 | -9 | -10 |\n",
       "| UK-CIC10690335+UK-CIC10690527_GAAACTCTCGATGAGG-1 | POSITIVE | 3 | 0.4843546 | mild |  0.5490353 | 3 | -9 | -10 |\n",
       "| UK-CIC10690335+UK-CIC10690527_TCGTACCTCAACACCA-1 | POSITIVE | 3 | 0.3387644 | mild |  0.5490356 | 3 | -9 | -10 |\n",
       "| UK-CIC10690336+UK-CIC10690528_AGGCCACAGCGATAGC-1 | POSITIVE | 3 | 0.5235588 | mild |  1.8175063 | 3 | -9 | -10 |\n",
       "\n"
      ],
      "text/plain": [
       "                                                 positive_recovery\n",
       "UK-CIC10690336+UK-CIC10690528_TTTGGTTAGCGTGTCC-1 POSITIVE         \n",
       "UK-CIC10690333+UK-CIC10690525_GGACGTCTCAACACTG-1 POSITIVE         \n",
       "UK-CIC10690334+UK-CIC10690526_GGACGTCTCGACAGCC-1 POSITIVE         \n",
       "UK-CIC10690335+UK-CIC10690527_GAAACTCTCGATGAGG-1 POSITIVE         \n",
       "UK-CIC10690335+UK-CIC10690527_TCGTACCTCAACACCA-1 POSITIVE         \n",
       "UK-CIC10690336+UK-CIC10690528_AGGCCACAGCGATAGC-1 POSITIVE         \n",
       "                                                 time_from_inf pseudotime_GPLVM\n",
       "UK-CIC10690336+UK-CIC10690528_TTTGGTTAGCGTGTCC-1 3             0.3541150       \n",
       "UK-CIC10690333+UK-CIC10690525_GGACGTCTCAACACTG-1 3             0.4538487       \n",
       "UK-CIC10690334+UK-CIC10690526_GGACGTCTCGACAGCC-1 3             0.4898367       \n",
       "UK-CIC10690335+UK-CIC10690527_GAAACTCTCGATGAGG-1 3             0.4843546       \n",
       "UK-CIC10690335+UK-CIC10690527_TCGTACCTCAACACCA-1 3             0.3387644       \n",
       "UK-CIC10690336+UK-CIC10690528_AGGCCACAGCGATAGC-1 3             0.5235588       \n",
       "                                                 sev  pseudo_time\n",
       "UK-CIC10690336+UK-CIC10690528_TTTGGTTAGCGTGTCC-1 mild 13.6374608 \n",
       "UK-CIC10690333+UK-CIC10690525_GGACGTCTCAACACTG-1 mild 13.6374614 \n",
       "UK-CIC10690334+UK-CIC10690526_GGACGTCTCGACAGCC-1 mild  0.5490350 \n",
       "UK-CIC10690335+UK-CIC10690527_GAAACTCTCGATGAGG-1 mild  0.5490353 \n",
       "UK-CIC10690335+UK-CIC10690527_TCGTACCTCAACACCA-1 mild  0.5490356 \n",
       "UK-CIC10690336+UK-CIC10690528_AGGCCACAGCGATAGC-1 mild  1.8175063 \n",
       "                                                 time_from_pos_swab\n",
       "UK-CIC10690336+UK-CIC10690528_TTTGGTTAGCGTGTCC-1 3                 \n",
       "UK-CIC10690333+UK-CIC10690525_GGACGTCTCAACACTG-1 3                 \n",
       "UK-CIC10690334+UK-CIC10690526_GGACGTCTCGACAGCC-1 3                 \n",
       "UK-CIC10690335+UK-CIC10690527_GAAACTCTCGATGAGG-1 3                 \n",
       "UK-CIC10690335+UK-CIC10690527_TCGTACCTCAACACCA-1 3                 \n",
       "UK-CIC10690336+UK-CIC10690528_AGGCCACAGCGATAGC-1 3                 \n",
       "                                                 time_from_first_symptoms\n",
       "UK-CIC10690336+UK-CIC10690528_TTTGGTTAGCGTGTCC-1 -9                      \n",
       "UK-CIC10690333+UK-CIC10690525_GGACGTCTCAACACTG-1 -9                      \n",
       "UK-CIC10690334+UK-CIC10690526_GGACGTCTCGACAGCC-1 -9                      \n",
       "UK-CIC10690335+UK-CIC10690527_GAAACTCTCGATGAGG-1 -9                      \n",
       "UK-CIC10690335+UK-CIC10690527_TCGTACCTCAACACCA-1 -9                      \n",
       "UK-CIC10690336+UK-CIC10690528_AGGCCACAGCGATAGC-1 -9                      \n",
       "                                                 day_from_steroid\n",
       "UK-CIC10690336+UK-CIC10690528_TTTGGTTAGCGTGTCC-1 -10             \n",
       "UK-CIC10690333+UK-CIC10690525_GGACGTCTCAACACTG-1 -10             \n",
       "UK-CIC10690334+UK-CIC10690526_GGACGTCTCGACAGCC-1 -10             \n",
       "UK-CIC10690335+UK-CIC10690527_GAAACTCTCGATGAGG-1 -10             \n",
       "UK-CIC10690335+UK-CIC10690527_TCGTACCTCAACACCA-1 -10             \n",
       "UK-CIC10690336+UK-CIC10690528_AGGCCACAGCGATAGC-1 -10             "
      ]
     },
     "metadata": {},
     "output_type": "display_data"
    }
   ],
   "source": [
    "top_anno <-top_anno[order(top_anno$day_from_steroid),]\n",
    "head(top_anno)"
   ]
  },
  {
   "cell_type": "markdown",
   "id": "false-mapping",
   "metadata": {},
   "source": [
    "# get colann and plot heatmap"
   ]
  },
  {
   "cell_type": "code",
   "execution_count": null,
   "id": "historic-evidence",
   "metadata": {},
   "outputs": [],
   "source": [
    "library(ComplexHeatmap)\n",
    "library(ggplot2)\n",
    "library(dplyr)\n",
    "library(RColorBrewer)\n",
    "library(circlize)\n",
    "\n",
    "ann <- data.frame(top_anno$sev,top_anno$pseudotime_GPLVM, top_anno$positive_recovery,top_anno$time_from_inf,top_anno$pseudo_time,top_anno$time_from_pos_swab,top_anno$time_from_first_symptoms,top_anno$day_from_steroid)#top_anno$day_from_steroid,\n",
    "colnames(ann) <- c('sev','pseudotime_GPLVM', 'positive_recovery','time_from_inf','pseudotime','time_from_pos_swab','time_from_first_symptoms','day_from_steroid')#,\n",
    "colours <- list('sev' = c('recovery'='green','mild' = 'gold','moderate' ='red','severe' = 'royalblue','critical'='black'),            \n",
    "  'positive_recovery' = c('POSITIVE' = 'limegreen','RECOVERY'='purple'),#, 'RECOVERY' = 'gold'\n",
    "    'time_from_inf' = colorRamp2(c(min(top_anno$time_from_inf), max(top_anno$time_from_inf)), c(\"white\", \"blue\")),\n",
    "                'day_from_steroid' = colorRamp2(c(min(top_anno$day_from_steroid), max(top_anno$day_from_steroid)), c(\"white\", \"red\")),\n",
    "                'time_from_pos_swab' = colorRamp2(c(min(top_anno$time_from_pos_swab), max(top_anno$time_from_pos_swab)), c(\"white\", \"green\")),\n",
    "                'time_from_first_symptoms' = colorRamp2(c(min(top_anno$time_from_first_symptoms), max(top_anno$time_from_first_symptoms)), c(\"white\", \"black\"))\n",
    "        )\n",
    "colAnn <- HeatmapAnnotation(df = ann,\n",
    "  which = 'col',\n",
    "  col = colours,\n",
    "  annotation_width = unit(c(1, 4), 'cm'),\n",
    "  gap = unit(1, 'mm'))"
   ]
  },
  {
   "cell_type": "code",
   "execution_count": null,
   "id": "falling-explanation",
   "metadata": {},
   "outputs": [],
   "source": [
    "pdf(\"/home/jovyan/scripts/renal_covid_19/steroid_pipeline_corrected/trajectory_with_actual_timeline/heatmap_actual_steroid_timeline.pdf\", \n",
    "    height=15, width=10)\n",
    "hthc <- ComplexHeatmap::Heatmap(\n",
    "pt.matrix,\n",
    "  name                         = \"z-score\",\n",
    "  col                          = colorRamp2(seq(from=-2,to=2,length=11),rev(brewer.pal(11, \"Spectral\"))),\n",
    "  show_row_names               = FALSE,\n",
    "  show_column_names            = FALSE,\n",
    "  row_names_gp                 = gpar(fontsize = 12),\n",
    "  clustering_method_rows = \"ward.D2\",\n",
    "  clustering_method_columns = \"ward.D2\",\n",
    "  row_title_rot                = 0,\n",
    "  cluster_rows                 = TRUE,\n",
    "  cluster_row_slices           = FALSE,\n",
    "  cluster_columns              = FALSE,\n",
    "  width = unit(12.8, \"cm\"), height = unit(25, \"cm\"),\n",
    "  top_annotation = colAnn)\n",
    " # bottom_annotation = ba)\n",
    "print(hthc)\n",
    "\n",
    "\n",
    "#file =paste0(\"/home/jovyan/scripts/renal_covid_19/steroid_pipeline_corrected/steroid_pipeline/trajectory_with_Rik_model_output/\")\n",
    "#dev.copy(pdf,filename=paste0(file,'allCD14_wave2_steroid_2021_norow_test.pdf'),width=1200, height=2500);\n",
    "dev.off ();"
   ]
  },
  {
   "cell_type": "code",
   "execution_count": null,
   "id": "ceramic-question",
   "metadata": {},
   "outputs": [],
   "source": [
    "#write.csv(x=top_anno, file=\"/home/jovyan/scripts/renal_covid_19/steroid_pipeline/trajectory_with_Rik_model_output/ordered_cells.csv\")"
   ]
  },
  {
   "cell_type": "code",
   "execution_count": null,
   "id": "flush-brooklyn",
   "metadata": {},
   "outputs": [],
   "source": [
    "#write.csv(x=pt.matrix, file=\"/home/jovyan/scripts/renal_covid_19/steroid_pipeline/trajectory_with_Rik_model_output/genes_along_trajectory_pseudotimeGPLVM.csv\")"
   ]
  },
  {
   "cell_type": "code",
   "execution_count": 27,
   "id": "piano-cassette",
   "metadata": {},
   "outputs": [],
   "source": [
    "library(ComplexHeatmap)\n",
    "library(ggplot2)\n",
    "library(dplyr)\n",
    "library(RColorBrewer)\n",
    "library(circlize)\n",
    "\n",
    "ann <- data.frame(top_anno$positive_recovery,top_anno$day_from_steroid)#top_anno$day_from_steroid,\n",
    "colnames(ann) <- c('positive_recovery','day_from_steroid')#,\n",
    "colours <- list(            \n",
    "'positive_recovery' = c('POSITIVE' = 'limegreen','RECOVERY'='purple'),#, 'RECOVERY' = 'gold'\n",
    "'day_from_steroid' = colorRamp2(c(min(top_anno$day_from_steroid), max(top_anno$day_from_steroid)), c(\"gray\", \"red\"))\n",
    ")\n",
    "colAnn <- HeatmapAnnotation(df = ann,\n",
    "  which = 'col',\n",
    "  col = colours,\n",
    "  annotation_width = unit(c(1, 4), 'cm'),\n",
    "  gap = unit(1, 'mm'))"
   ]
  },
  {
   "cell_type": "code",
   "execution_count": 28,
   "id": "stylish-oriental",
   "metadata": {},
   "outputs": [
    {
     "name": "stderr",
     "output_type": "stream",
     "text": [
      "`use_raster` is automatically set to TRUE for a matrix with more than\n",
      "2000 columns You can control `use_raster` argument by explicitly\n",
      "setting TRUE/FALSE to it.\n",
      "\n",
      "Set `ht_opt$message = FALSE` to turn off this message.\n",
      "\n",
      "'magick' package is suggested to install to give better rasterization.\n",
      "\n",
      "Set `ht_opt$message = FALSE` to turn off this message.\n",
      "\n"
     ]
    },
    {
     "data": {
      "text/html": [
       "<strong>png:</strong> 2"
      ],
      "text/latex": [
       "\\textbf{png:} 2"
      ],
      "text/markdown": [
       "**png:** 2"
      ],
      "text/plain": [
       "png \n",
       "  2 "
      ]
     },
     "metadata": {},
     "output_type": "display_data"
    }
   ],
   "source": [
    "pdf(\"/home/jovyan/scripts/renal_covid_19/scripts_for_publication/monocle_GO/heatmap_actual_steroid_timeline1.pdf\", \n",
    "    height=15, width=10,)\n",
    "hthc <- ComplexHeatmap::Heatmap(\n",
    "pt.matrix,\n",
    "  name                         = \"z-score\",\n",
    "  col                          = colorRamp2(seq(from=-2,to=2,length=11),rev(brewer.pal(11, \"Spectral\"))),\n",
    "  show_row_names               = TRUE,\n",
    "  show_column_names            = FALSE,\n",
    "  row_names_gp                 = gpar(fontsize = 12),\n",
    "  clustering_method_rows = \"ward.D2\",\n",
    "  clustering_method_columns = \"ward.D2\",\n",
    "  row_title_rot                = 0,\n",
    "  cluster_rows                 = TRUE,\n",
    "  cluster_row_slices           = FALSE,\n",
    "  cluster_columns              = FALSE,\n",
    "  width = unit(12.8, \"cm\"), height = unit(25, \"cm\"),\n",
    "  top_annotation = colAnn)\n",
    " # bottom_annotation = ba)\n",
    "\n",
    "print(hthc)\n",
    "\n",
    "dev.off ();"
   ]
  },
  {
   "cell_type": "code",
   "execution_count": 29,
   "id": "living-decade",
   "metadata": {},
   "outputs": [
    {
     "data": {
      "text/html": [
       "<style>\n",
       ".list-inline {list-style: none; margin:0; padding: 0}\n",
       ".list-inline>li {display: inline-block}\n",
       ".list-inline>li:not(:last-child)::after {content: \"\\00b7\"; padding: 0 .5ex}\n",
       "</style>\n",
       "<ol class=list-inline><li>3</li><li>5</li><li>2</li><li>7</li><li>4</li><li>10</li><li>12</li><li>14</li><li>9</li><li>17</li><li>18</li><li>11</li><li>19</li><li>16</li><li>47</li><li>54</li></ol>\n"
      ],
      "text/latex": [
       "\\begin{enumerate*}\n",
       "\\item 3\n",
       "\\item 5\n",
       "\\item 2\n",
       "\\item 7\n",
       "\\item 4\n",
       "\\item 10\n",
       "\\item 12\n",
       "\\item 14\n",
       "\\item 9\n",
       "\\item 17\n",
       "\\item 18\n",
       "\\item 11\n",
       "\\item 19\n",
       "\\item 16\n",
       "\\item 47\n",
       "\\item 54\n",
       "\\end{enumerate*}\n"
      ],
      "text/markdown": [
       "1. 3\n",
       "2. 5\n",
       "3. 2\n",
       "4. 7\n",
       "5. 4\n",
       "6. 10\n",
       "7. 12\n",
       "8. 14\n",
       "9. 9\n",
       "10. 17\n",
       "11. 18\n",
       "12. 11\n",
       "13. 19\n",
       "14. 16\n",
       "15. 47\n",
       "16. 54\n",
       "\n",
       "\n"
      ],
      "text/plain": [
       " [1]  3  5  2  7  4 10 12 14  9 17 18 11 19 16 47 54"
      ]
     },
     "metadata": {},
     "output_type": "display_data"
    }
   ],
   "source": [
    "unique(top_anno$time_from_inf)"
   ]
  },
  {
   "cell_type": "code",
   "execution_count": 30,
   "id": "august-solomon",
   "metadata": {},
   "outputs": [
    {
     "data": {
      "text/html": [
       "<style>\n",
       ".list-inline {list-style: none; margin:0; padding: 0}\n",
       ".list-inline>li {display: inline-block}\n",
       ".list-inline>li:not(:last-child)::after {content: \"\\00b7\"; padding: 0 .5ex}\n",
       "</style>\n",
       "<ol class=list-inline><li>3</li><li>5</li><li>2</li><li>7</li><li>4</li><li>10</li><li>12</li><li>14</li><li>9</li><li>17</li><li>18</li><li>11</li><li>19</li><li>16</li><li>47</li><li>54</li></ol>\n"
      ],
      "text/latex": [
       "\\begin{enumerate*}\n",
       "\\item 3\n",
       "\\item 5\n",
       "\\item 2\n",
       "\\item 7\n",
       "\\item 4\n",
       "\\item 10\n",
       "\\item 12\n",
       "\\item 14\n",
       "\\item 9\n",
       "\\item 17\n",
       "\\item 18\n",
       "\\item 11\n",
       "\\item 19\n",
       "\\item 16\n",
       "\\item 47\n",
       "\\item 54\n",
       "\\end{enumerate*}\n"
      ],
      "text/markdown": [
       "1. 3\n",
       "2. 5\n",
       "3. 2\n",
       "4. 7\n",
       "5. 4\n",
       "6. 10\n",
       "7. 12\n",
       "8. 14\n",
       "9. 9\n",
       "10. 17\n",
       "11. 18\n",
       "12. 11\n",
       "13. 19\n",
       "14. 16\n",
       "15. 47\n",
       "16. 54\n",
       "\n",
       "\n"
      ],
      "text/plain": [
       " [1]  3  5  2  7  4 10 12 14  9 17 18 11 19 16 47 54"
      ]
     },
     "metadata": {},
     "output_type": "display_data"
    }
   ],
   "source": [
    "unique(top_anno$time_from_pos_swab)"
   ]
  },
  {
   "cell_type": "code",
   "execution_count": 31,
   "id": "latter-graduation",
   "metadata": {},
   "outputs": [
    {
     "data": {
      "text/html": [
       "<style>\n",
       ".list-inline {list-style: none; margin:0; padding: 0}\n",
       ".list-inline>li {display: inline-block}\n",
       ".list-inline>li:not(:last-child)::after {content: \"\\00b7\"; padding: 0 .5ex}\n",
       "</style>\n",
       "<ol class=list-inline><li>-9</li><li>-7</li><li>0</li><li>-5</li><li>2</li><li>-2</li><li>5</li><li>7</li><li>9</li><li>12</li><li>6</li><li>14</li><li>18</li><li>35</li><li>50</li></ol>\n"
      ],
      "text/latex": [
       "\\begin{enumerate*}\n",
       "\\item -9\n",
       "\\item -7\n",
       "\\item 0\n",
       "\\item -5\n",
       "\\item 2\n",
       "\\item -2\n",
       "\\item 5\n",
       "\\item 7\n",
       "\\item 9\n",
       "\\item 12\n",
       "\\item 6\n",
       "\\item 14\n",
       "\\item 18\n",
       "\\item 35\n",
       "\\item 50\n",
       "\\end{enumerate*}\n"
      ],
      "text/markdown": [
       "1. -9\n",
       "2. -7\n",
       "3. 0\n",
       "4. -5\n",
       "5. 2\n",
       "6. -2\n",
       "7. 5\n",
       "8. 7\n",
       "9. 9\n",
       "10. 12\n",
       "11. 6\n",
       "12. 14\n",
       "13. 18\n",
       "14. 35\n",
       "15. 50\n",
       "\n",
       "\n"
      ],
      "text/plain": [
       " [1] -9 -7  0 -5  2 -2  5  7  9 12  6 14 18 35 50"
      ]
     },
     "metadata": {},
     "output_type": "display_data"
    }
   ],
   "source": [
    "unique(top_anno$time_from_first_symptoms)"
   ]
  },
  {
   "cell_type": "code",
   "execution_count": 32,
   "id": "black-mandate",
   "metadata": {},
   "outputs": [
    {
     "data": {
      "text/html": [
       "<style>\n",
       ".list-inline {list-style: none; margin:0; padding: 0}\n",
       ".list-inline>li {display: inline-block}\n",
       ".list-inline>li:not(:last-child)::after {content: \"\\00b7\"; padding: 0 .5ex}\n",
       "</style>\n",
       "<ol class=list-inline><li>-10</li><li>-8</li><li>-6</li><li>-5</li><li>-4</li><li>-3</li><li>-2</li><li>-1</li><li>0</li><li>1</li><li>2</li><li>4</li><li>5</li><li>6</li><li>7</li><li>9</li><li>11</li><li>13</li><li>14</li><li>18</li><li>34</li><li>49</li></ol>\n"
      ],
      "text/latex": [
       "\\begin{enumerate*}\n",
       "\\item -10\n",
       "\\item -8\n",
       "\\item -6\n",
       "\\item -5\n",
       "\\item -4\n",
       "\\item -3\n",
       "\\item -2\n",
       "\\item -1\n",
       "\\item 0\n",
       "\\item 1\n",
       "\\item 2\n",
       "\\item 4\n",
       "\\item 5\n",
       "\\item 6\n",
       "\\item 7\n",
       "\\item 9\n",
       "\\item 11\n",
       "\\item 13\n",
       "\\item 14\n",
       "\\item 18\n",
       "\\item 34\n",
       "\\item 49\n",
       "\\end{enumerate*}\n"
      ],
      "text/markdown": [
       "1. -10\n",
       "2. -8\n",
       "3. -6\n",
       "4. -5\n",
       "5. -4\n",
       "6. -3\n",
       "7. -2\n",
       "8. -1\n",
       "9. 0\n",
       "10. 1\n",
       "11. 2\n",
       "12. 4\n",
       "13. 5\n",
       "14. 6\n",
       "15. 7\n",
       "16. 9\n",
       "17. 11\n",
       "18. 13\n",
       "19. 14\n",
       "20. 18\n",
       "21. 34\n",
       "22. 49\n",
       "\n",
       "\n"
      ],
      "text/plain": [
       " [1] -10  -8  -6  -5  -4  -3  -2  -1   0   1   2   4   5   6   7   9  11  13  14\n",
       "[20]  18  34  49"
      ]
     },
     "metadata": {},
     "output_type": "display_data"
    }
   ],
   "source": [
    "unique(top_anno$day_from_steroid)"
   ]
  },
  {
   "cell_type": "code",
   "execution_count": null,
   "id": "agreed-bangkok",
   "metadata": {},
   "outputs": [],
   "source": []
  }
 ],
 "metadata": {
  "kernelspec": {
   "display_name": "R 4.1.2",
   "language": "R",
   "name": "ir412"
  },
  "language_info": {
   "codemirror_mode": "r",
   "file_extension": ".r",
   "mimetype": "text/x-r-source",
   "name": "R",
   "pygments_lexer": "r",
   "version": "4.1.2"
  }
 },
 "nbformat": 4,
 "nbformat_minor": 5
}
