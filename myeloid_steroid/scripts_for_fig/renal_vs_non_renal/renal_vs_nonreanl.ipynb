{
 "cells": [
  {
   "cell_type": "code",
   "execution_count": 1,
   "id": "incorporated-madagascar",
   "metadata": {},
   "outputs": [],
   "source": [
    "import pandas as pd\n",
    "import gseapy as gp\n",
    "import matplotlib.pyplot as plt\n",
    "import scanpy as sc\n",
    "import glob\n",
    "from gseapy.plot import barplot, dotplot\n",
    "#sc.logging.print_versions() #print version of package"
   ]
  },
  {
   "cell_type": "code",
   "execution_count": null,
   "id": "seven-express",
   "metadata": {},
   "outputs": [],
   "source": [
    "#names = gp.get_library_name()\n",
    "#names"
   ]
  },
  {
   "cell_type": "markdown",
   "id": "banned-ozone",
   "metadata": {},
   "source": [
    "# indivicual cell type"
   ]
  },
  {
   "cell_type": "code",
   "execution_count": null,
   "id": "important-management",
   "metadata": {},
   "outputs": [],
   "source": [
    "filename ='/home/jovyan/scripts/renal_covid_19/scripts_for_publication/renal_vs_non_renal/ESKD_DEG_compartment.xlsx'"
   ]
  },
  {
   "cell_type": "code",
   "execution_count": null,
   "id": "cheap-silly",
   "metadata": {},
   "outputs": [],
   "source": [
    "filename"
   ]
  },
  {
   "cell_type": "code",
   "execution_count": null,
   "id": "assumed-history",
   "metadata": {},
   "outputs": [],
   "source": [
    "xl = pd.ExcelFile(filename)\n",
    "(xl.sheet_names)  # see all sheet names"
   ]
  },
  {
   "cell_type": "code",
   "execution_count": null,
   "id": "acoustic-roulette",
   "metadata": {},
   "outputs": [],
   "source": [
    "select_sheet =5"
   ]
  },
  {
   "cell_type": "code",
   "execution_count": null,
   "id": "saving-extraction",
   "metadata": {},
   "outputs": [],
   "source": [
    "xl.sheet_names[select_sheet]"
   ]
  },
  {
   "cell_type": "code",
   "execution_count": null,
   "id": "burning-guyana",
   "metadata": {},
   "outputs": [],
   "source": [
    "DE = pd.read_excel(filename,sheet_name=xl.sheet_names[select_sheet])"
   ]
  },
  {
   "cell_type": "code",
   "execution_count": null,
   "id": "naked-comment",
   "metadata": {},
   "outputs": [],
   "source": [
    "DE['is_de_fdr_0.01'].unique()"
   ]
  },
  {
   "cell_type": "code",
   "execution_count": null,
   "id": "alone-highlight",
   "metadata": {},
   "outputs": [],
   "source": [
    "DE.tail()"
   ]
  },
  {
   "cell_type": "markdown",
   "id": "transsexual-cause",
   "metadata": {},
   "source": [
    "# all T cell"
   ]
  },
  {
   "cell_type": "code",
   "execution_count": null,
   "id": "strong-toner",
   "metadata": {},
   "outputs": [],
   "source": [
    "#DE = pd.read_csv('/home/jovyan/scripts/renal_covid_19/renal_vs_non_renal/scVI_DE_all_T_cells.csv')"
   ]
  },
  {
   "cell_type": "markdown",
   "id": "representative-austin",
   "metadata": {},
   "source": [
    "# end"
   ]
  },
  {
   "cell_type": "code",
   "execution_count": null,
   "id": "undefined-nashville",
   "metadata": {},
   "outputs": [],
   "source": [
    "DE.rename(columns={\"Unnamed: 0\": \"de_gene\"},inplace=True)"
   ]
  },
  {
   "cell_type": "code",
   "execution_count": null,
   "id": "regional-yacht",
   "metadata": {},
   "outputs": [],
   "source": [
    "DE.head()"
   ]
  },
  {
   "cell_type": "code",
   "execution_count": null,
   "id": "ceramic-defensive",
   "metadata": {},
   "outputs": [],
   "source": [
    "DE['is_de_fdr_0.01'].unique()"
   ]
  },
  {
   "cell_type": "code",
   "execution_count": null,
   "id": "hungry-pattern",
   "metadata": {},
   "outputs": [],
   "source": [
    "DE_up = DE[(DE['lfc_mean']>0) & (DE['is_de_fdr_0.01']==True)]"
   ]
  },
  {
   "cell_type": "code",
   "execution_count": null,
   "id": "frank-chick",
   "metadata": {},
   "outputs": [],
   "source": [
    "DE_up.shape"
   ]
  },
  {
   "cell_type": "code",
   "execution_count": null,
   "id": "terminal-armor",
   "metadata": {},
   "outputs": [],
   "source": [
    "DE_up.tail()"
   ]
  },
  {
   "cell_type": "code",
   "execution_count": null,
   "id": "overall-associate",
   "metadata": {},
   "outputs": [],
   "source": [
    "DE_down = DE[(DE['lfc_mean']<0)& (DE['is_de_fdr_0.01']==True)]"
   ]
  },
  {
   "cell_type": "code",
   "execution_count": null,
   "id": "careful-general",
   "metadata": {},
   "outputs": [],
   "source": [
    "DE_down.shape"
   ]
  },
  {
   "cell_type": "code",
   "execution_count": null,
   "id": "patent-translator",
   "metadata": {},
   "outputs": [],
   "source": [
    "DE_down.head()"
   ]
  },
  {
   "cell_type": "code",
   "execution_count": null,
   "id": "electoral-recipe",
   "metadata": {},
   "outputs": [],
   "source": [
    "DE_down['is_de_fdr_0.01'].unique()"
   ]
  },
  {
   "cell_type": "code",
   "execution_count": null,
   "id": "sudden-prison",
   "metadata": {},
   "outputs": [],
   "source": [
    "DE_up['is_de_fdr_0.01'].unique()"
   ]
  },
  {
   "cell_type": "markdown",
   "id": "psychological-impression",
   "metadata": {},
   "source": [
    "# for venn"
   ]
  },
  {
   "cell_type": "code",
   "execution_count": null,
   "id": "buried-disclosure",
   "metadata": {},
   "outputs": [],
   "source": [
    "DE_down = DE_down['de_gene'].to_list()"
   ]
  },
  {
   "cell_type": "code",
   "execution_count": null,
   "id": "unique-diabetes",
   "metadata": {},
   "outputs": [],
   "source": [
    "DE_down"
   ]
  },
  {
   "cell_type": "code",
   "execution_count": null,
   "id": "generous-sewing",
   "metadata": {},
   "outputs": [],
   "source": [
    "DE_up = DE_up['de_gene'].to_list()"
   ]
  },
  {
   "cell_type": "code",
   "execution_count": null,
   "id": "ceramic-simpson",
   "metadata": {},
   "outputs": [],
   "source": [
    "DE_up"
   ]
  },
  {
   "cell_type": "markdown",
   "id": "empirical-comfort",
   "metadata": {},
   "source": [
    "# Tcells overlap"
   ]
  },
  {
   "cell_type": "code",
   "execution_count": null,
   "id": "extraordinary-ownership",
   "metadata": {},
   "outputs": [],
   "source": [
    "#19 elements included exclusively in \"DE_down_covid\":\n",
    "DE_down_covid =['MGST1',\n",
    "'SERPINA1',\n",
    "'TREM1',\n",
    "'FPR1',\n",
    "'PLBD1',\n",
    "'FCGR1A',\n",
    "'MARCO',\n",
    "'RNASE2',\n",
    "'CSTA',\n",
    "'SCO2',\n",
    "'MNDA',\n",
    "'ABCF2',\n",
    "'GTF2H4',\n",
    "'ASGR2',\n",
    "'RAD51',\n",
    "'FCGR1B',\n",
    "'ARMH4',\n",
    "'RPS10-NUDT3',\n",
    "'FPR2']\n"
   ]
  },
  {
   "cell_type": "code",
   "execution_count": null,
   "id": "dated-jenny",
   "metadata": {},
   "outputs": [],
   "source": [
    "#16 elements included exclusively in \"DE_up_covid\":\n",
    "    \n",
    "DE_up_covid=[\n",
    "'TMEM250',\n",
    "'UQCRHL',\n",
    "'ZBTB12',\n",
    "'ADCK2',\n",
    "'CITED4',\n",
    "'FXR2',\n",
    "'CLEC2L',\n",
    "'ETS1',\n",
    "'MMP24',\n",
    "'ABCB10',\n",
    "'IFFO2',\n",
    "'TSPAN33',\n",
    "'CTXN2',\n",
    "'RAB15',\n",
    "'LARP4B',\n",
    "'REXO1']\n"
   ]
  },
  {
   "cell_type": "markdown",
   "id": "capital-equipment",
   "metadata": {},
   "source": [
    "# Bcells overlap"
   ]
  },
  {
   "cell_type": "code",
   "execution_count": null,
   "id": "speaking-movie",
   "metadata": {},
   "outputs": [],
   "source": [
    "#2 elements included exclusively in \"covid_down\":\n",
    "DE_down_covid =['ABCF2',\n",
    "'ATXN7']\n"
   ]
  },
  {
   "cell_type": "code",
   "execution_count": null,
   "id": "tropical-mother",
   "metadata": {},
   "outputs": [],
   "source": [
    "#2 elements included exclusively in \"cvoid_up\":\n",
    "DE_up_covid=['E2F5',\n",
    "'PLEKHO1']\n"
   ]
  },
  {
   "cell_type": "code",
   "execution_count": null,
   "id": "prerequisite-bridal",
   "metadata": {},
   "outputs": [],
   "source": []
  },
  {
   "cell_type": "markdown",
   "id": "independent-requirement",
   "metadata": {},
   "source": [
    "# myeloid overlap"
   ]
  },
  {
   "cell_type": "code",
   "execution_count": 2,
   "id": "aggressive-burton",
   "metadata": {},
   "outputs": [],
   "source": [
    "#56 elements included exclusively in \"covid_up\":\n",
    "DE_up_covid=['TPRG1L',\n",
    "'ENTR1',\n",
    "'ANKRD16',\n",
    "'RCAN1',\n",
    "'THAP11',\n",
    "'TERF2',\n",
    "'RNF220',\n",
    "'BOD1',\n",
    "'UBTD2',\n",
    "'EGLN1',\n",
    "'ADCY2',\n",
    "'TMEM65',\n",
    "'MMP24',\n",
    "'TIGD5',\n",
    "'DRD4',\n",
    "'CHST14',\n",
    "'USP6',\n",
    "'CHPT1',\n",
    "'ZNRF3',\n",
    "'LDB1',\n",
    "'COL6A3',\n",
    "'ENO3',\n",
    "'C17orf67',\n",
    "'CASD1',\n",
    "'HCN2',\n",
    "'FAM220A',\n",
    "'SIAH2',\n",
    "'GKAP1',\n",
    "'TTLL11',\n",
    "'E2F5',\n",
    "'MGAT4B',\n",
    "'SMAD4',\n",
    "'ZDHHC2',\n",
    "'KHDRBS1',\n",
    "'THAP2',\n",
    "'MBLAC1',\n",
    "'GAN',\n",
    "'WRNIP1',\n",
    "'TPGS1',\n",
    "'SIRT1',\n",
    "'DHRS11',\n",
    "'TFDP1',\n",
    "'RHEX',\n",
    "'YBX3',\n",
    "'LYL1',\n",
    "'FRAT2',\n",
    "'IRF2BP1',\n",
    "'JMJD8',\n",
    "'ZBTB12',\n",
    "'CCDC38',\n",
    "'GALR3',\n",
    "'MALT1',\n",
    "'TRPC1',\n",
    "'MDFIC',\n",
    "'SUZ12',\n",
    "'SNF8']\n"
   ]
  },
  {
   "cell_type": "code",
   "execution_count": null,
   "id": "sunrise-jimmy",
   "metadata": {},
   "outputs": [],
   "source": [
    "#3 elements included exclusively in \"covid_down\":\n",
    "DE_down_covid=['HIGD1A',\n",
    "'RPS10-NUDT3',\n",
    "'PLGLB2']\n"
   ]
  },
  {
   "cell_type": "code",
   "execution_count": null,
   "id": "impressed-bobby",
   "metadata": {},
   "outputs": [],
   "source": []
  },
  {
   "cell_type": "code",
   "execution_count": 3,
   "id": "japanese-carrier",
   "metadata": {},
   "outputs": [],
   "source": [
    "newlist2 = DE_up_covid"
   ]
  },
  {
   "cell_type": "markdown",
   "id": "dutch-combining",
   "metadata": {},
   "source": [
    "# downregulated"
   ]
  },
  {
   "cell_type": "code",
   "execution_count": 4,
   "id": "trained-segment",
   "metadata": {},
   "outputs": [],
   "source": [
    "#glist_down=list(DE_down['de_gene'])"
   ]
  },
  {
   "cell_type": "code",
   "execution_count": 5,
   "id": "engaged-batch",
   "metadata": {},
   "outputs": [],
   "source": [
    "#len(glist_down)"
   ]
  },
  {
   "cell_type": "code",
   "execution_count": 6,
   "id": "boxed-internet",
   "metadata": {},
   "outputs": [],
   "source": [
    "#remove MT and Ribo gene\n",
    "#newlist = [x for x in glist_down if not x.startswith('MT-')]\n",
    "#newlist1 = [x for x in newlist if not x.startswith('RPL')]\n",
    "#newlist2 = [x for x in newlist1 if not x.startswith('RPS')]"
   ]
  },
  {
   "cell_type": "code",
   "execution_count": 7,
   "id": "administrative-cooperation",
   "metadata": {},
   "outputs": [
    {
     "data": {
      "text/plain": [
       "56"
      ]
     },
     "execution_count": 7,
     "metadata": {},
     "output_type": "execute_result"
    }
   ],
   "source": [
    "len(newlist2)"
   ]
  },
  {
   "cell_type": "code",
   "execution_count": 8,
   "id": "union-miniature",
   "metadata": {},
   "outputs": [
    {
     "name": "stderr",
     "output_type": "stream",
     "text": [
      "/home/jovyan/my-conda-envs/Py_env2/lib/python3.8/site-packages/gseapy/enrichr.py:427: FutureWarning: The frame.append method is deprecated and will be removed from pandas in a future version. Use pandas.concat instead.\n",
      "  self.results = self.results.append(res, ignore_index=True)\n",
      "/home/jovyan/my-conda-envs/Py_env2/lib/python3.8/site-packages/gseapy/enrichr.py:427: FutureWarning: The frame.append method is deprecated and will be removed from pandas in a future version. Use pandas.concat instead.\n",
      "  self.results = self.results.append(res, ignore_index=True)\n",
      "/home/jovyan/my-conda-envs/Py_env2/lib/python3.8/site-packages/gseapy/enrichr.py:427: FutureWarning: The frame.append method is deprecated and will be removed from pandas in a future version. Use pandas.concat instead.\n",
      "  self.results = self.results.append(res, ignore_index=True)\n",
      "/home/jovyan/my-conda-envs/Py_env2/lib/python3.8/site-packages/gseapy/enrichr.py:427: FutureWarning: The frame.append method is deprecated and will be removed from pandas in a future version. Use pandas.concat instead.\n",
      "  self.results = self.results.append(res, ignore_index=True)\n"
     ]
    }
   ],
   "source": [
    "# run enrichr\n",
    "# if you are only intrested in dataframe that enrichr returned, please set no_plot=True\n",
    "\n",
    "# list, dataframe, series inputs are supported\n",
    "enr_go = gp.enrichr(gene_list=newlist2,\n",
    "                 gene_sets=['GO_Biological_Process_2021'],\n",
    "                 organism='Human', # don't forget to set organism to the one you desired! e.g. Yeast\n",
    "                 #background='hsapiens_gene_ensembl',\n",
    "                 description='test_name',\n",
    "                 outdir='gsea_output/',\n",
    "                 no_plot=True,\n",
    "                 cutoff=0.5 # test dataset, use lower value from range(0,1)\n",
    "                )\n",
    "\n",
    "enr_kegg = gp.enrichr(gene_list=newlist2,\n",
    "                 gene_sets=['KEGG_2021_Human'],\n",
    "                 organism='Human', # don't forget to set organism to the one you desired! e.g. Yeast\n",
    "                 #background='hsapiens_gene_ensembl',\n",
    "                 description='test_name',\n",
    "                 outdir='gsea_output/',\n",
    "                 no_plot=True,\n",
    "                 cutoff=0.5 # test dataset, use lower value from range(0,1)\n",
    "                )\n",
    "\n",
    "enr_hm = gp.enrichr(gene_list=newlist2,\n",
    "                 gene_sets=['MSigDB_Hallmark_2020'],\n",
    "                 organism='Human', # don't forget to set organism to the one you desired! e.g. Yeast\n",
    "                 #background='hsapiens_gene_ensembl',\n",
    "                 description='test_name',\n",
    "                 outdir='gsea_output/',\n",
    "                 no_plot=True,\n",
    "                 cutoff=0.5 # test dataset, use lower value from range(0,1)\n",
    "                )\n",
    "\n",
    "enr_rt = gp.enrichr(gene_list=newlist2,\n",
    "                 gene_sets=['Reactome_2022'],\n",
    "                 organism='Human', # don't forget to set organism to the one you desired! e.g. Yeast\n",
    "                 #background='hsapiens_gene_ensembl',\n",
    "                 description='test_name',\n",
    "                 outdir='gsea_output/',\n",
    "                 no_plot=True,\n",
    "                 cutoff=0.5 # test dataset, use lower value from range(0,1)\n",
    "                )"
   ]
  },
  {
   "cell_type": "code",
   "execution_count": 9,
   "id": "analyzed-secretariat",
   "metadata": {},
   "outputs": [
    {
     "data": {
      "text/plain": [
       "'Warning: No enrich terms when cutoff = 0.05'"
      ]
     },
     "execution_count": 9,
     "metadata": {},
     "output_type": "execute_result"
    }
   ],
   "source": [
    "gp.dotplot(enr_kegg.res2d, title='KEGG_2021_Human',cmap='viridis_r', top_term=25)"
   ]
  },
  {
   "cell_type": "code",
   "execution_count": 10,
   "id": "elegant-first",
   "metadata": {},
   "outputs": [
    {
     "data": {
      "text/plain": [
       "'Warning: No enrich terms when cutoff = 0.05'"
      ]
     },
     "execution_count": 10,
     "metadata": {},
     "output_type": "execute_result"
    }
   ],
   "source": [
    "gp.dotplot(enr_go.res2d, title='GO_Biological_Process_2021',cmap='viridis_r', top_term=25,cutoff=0.05)"
   ]
  },
  {
   "cell_type": "code",
   "execution_count": 11,
   "id": "worth-slovakia",
   "metadata": {},
   "outputs": [
    {
     "data": {
      "text/plain": [
       "'Warning: No enrich terms when cutoff = 0.05'"
      ]
     },
     "execution_count": 11,
     "metadata": {},
     "output_type": "execute_result"
    }
   ],
   "source": [
    "gp.dotplot(enr_hm.res2d, title='MSigDB_Hallmark_2020',cmap='viridis_r', top_term=25,cutoff=0.05)"
   ]
  },
  {
   "cell_type": "code",
   "execution_count": 12,
   "id": "premium-bracket",
   "metadata": {},
   "outputs": [
    {
     "data": {
      "text/plain": [
       "<AxesSubplot: title={'center': 'Reactome_2022'}, xlabel='-log$_{10}$(Adjusted P-value)'>"
      ]
     },
     "execution_count": 12,
     "metadata": {},
     "output_type": "execute_result"
    },
    {
     "data": {
      "image/png": "[encoded data removed]",
      "text/plain": [
       "<Figure size 432x396 with 2 Axes>"
      ]
     },
     "metadata": {
      "needs_background": "light"
     },
     "output_type": "display_data"
    }
   ],
   "source": [
    "gp.dotplot(enr_rt.res2d, title='Reactome_2022',cmap='viridis_r', top_term=25,cutoff=0.05)"
   ]
  },
  {
   "cell_type": "code",
   "execution_count": 13,
   "id": "cheap-coupon",
   "metadata": {
    "tags": []
   },
   "outputs": [
    {
     "name": "stdout",
     "output_type": "stream",
     "text": [
      "0\n",
      "Empty DataFrame\n",
      "Columns: [Gene_set, Term, Overlap, P-value, Adjusted P-value, Old P-value, Old Adjusted P-value, Odds Ratio, Combined Score, Genes]\n",
      "Index: []\n"
     ]
    }
   ],
   "source": [
    "df_down =enr_go.res2d[enr_go.res2d['Adjusted P-value']<0.05]\n",
    "print(len(df_down))\n",
    "with pd.option_context('display.max_rows', None, 'display.max_columns', None):  # more options can be specified also\n",
    "    print(df_down)"
   ]
  },
  {
   "cell_type": "markdown",
   "id": "lonely-gateway",
   "metadata": {},
   "source": [
    "# selected"
   ]
  },
  {
   "cell_type": "code",
   "execution_count": null,
   "id": "rubber-corpus",
   "metadata": {},
   "outputs": [],
   "source": [
    "#df1 = enr_go.res2d[(enr_go.res2d['Term'].str.match('inflammatory response')) | (enr_go.res2d['Term'].str.match('pattern recognition receptor signaling pathway'))\n",
    "                #  | (enr_go.res2d['Term'].str.match('positive regulation of cell activation'))]"
   ]
  },
  {
   "cell_type": "code",
   "execution_count": null,
   "id": "published-bradford",
   "metadata": {},
   "outputs": [],
   "source": [
    "#enr_go.res2d.iloc[[2, 3, 4]]"
   ]
  },
  {
   "cell_type": "code",
   "execution_count": null,
   "id": "million-narrative",
   "metadata": {},
   "outputs": [],
   "source": [
    "index =[3,7,8,15,16,17,18,26,27,29,32,40,41,43,47,49]\n",
    "df1 = enr_go.res2d.iloc[index]\n",
    "df1"
   ]
  },
  {
   "cell_type": "code",
   "execution_count": null,
   "id": "expensive-tragedy",
   "metadata": {},
   "outputs": [],
   "source": [
    "#df2 = enr_hm.res2d[(enr_hm.res2d['Term'].str.contains('IL-6')) ]\n",
    "#df2"
   ]
  },
  {
   "cell_type": "code",
   "execution_count": null,
   "id": "vocational-promise",
   "metadata": {},
   "outputs": [],
   "source": [
    "#df2 =enr_hm.res2d"
   ]
  },
  {
   "cell_type": "code",
   "execution_count": null,
   "id": "flush-teens",
   "metadata": {},
   "outputs": [],
   "source": [
    "#df2=enr_hm.res2d[0:1]\n",
    "#df2"
   ]
  },
  {
   "cell_type": "code",
   "execution_count": null,
   "id": "latin-windsor",
   "metadata": {},
   "outputs": [],
   "source": [
    "#df = pd.concat([df1,df2 ])\n",
    "#df"
   ]
  },
  {
   "cell_type": "code",
   "execution_count": null,
   "id": "designed-influence",
   "metadata": {},
   "outputs": [],
   "source": [
    "df1['Term']"
   ]
  },
  {
   "cell_type": "code",
   "execution_count": null,
   "id": "continuous-eagle",
   "metadata": {},
   "outputs": [],
   "source": [
    "import re \n",
    "df1['Term'] = df1['Term'].str.replace(r\"\\(.*?\\)\", \"\", regex=True)"
   ]
  },
  {
   "cell_type": "code",
   "execution_count": null,
   "id": "royal-pierce",
   "metadata": {},
   "outputs": [],
   "source": [
    "gp.barplot(df1, title='T cell compartment',cmap='viridis_r', top_term=25,cutoff=0.05,figsize=(5, 3),)"
   ]
  },
  {
   "cell_type": "code",
   "execution_count": null,
   "id": "opposite-genetics",
   "metadata": {},
   "outputs": [],
   "source": [
    "gp.dotplot(df1, title='T cell compartment',cmap='viridis_r', top_term=25,cutoff=1,figsize=(5, 10.5),ofname='Tcell compartment.pdf')"
   ]
  },
  {
   "cell_type": "code",
   "execution_count": null,
   "id": "vocal-center",
   "metadata": {},
   "outputs": [],
   "source": [
    "df.to_csv('/home/jovyan/scripts/renal_covid_19/renal_vs_non_renal/for_fig2/CD14mono_selected_gesa.csv')"
   ]
  },
  {
   "cell_type": "markdown",
   "id": "satisfied-obligation",
   "metadata": {},
   "source": [
    "# upregulated"
   ]
  },
  {
   "cell_type": "code",
   "execution_count": null,
   "id": "functional-mouth",
   "metadata": {},
   "outputs": [],
   "source": [
    "glist_up=list(DE_up['de_gene'])"
   ]
  },
  {
   "cell_type": "code",
   "execution_count": null,
   "id": "acute-ecuador",
   "metadata": {},
   "outputs": [],
   "source": [
    "len(glist_up)"
   ]
  },
  {
   "cell_type": "code",
   "execution_count": null,
   "id": "fatty-fashion",
   "metadata": {},
   "outputs": [],
   "source": [
    "#remove MT and Ribo gene\n",
    "newlist = [x for x in glist_up if not x.startswith('MT-')]\n",
    "newlist1 = [x for x in newlist if not x.startswith('RPL')]\n",
    "newlist2 = [x for x in newlist1 if not x.startswith('RPS')]"
   ]
  },
  {
   "cell_type": "code",
   "execution_count": null,
   "id": "exposed-humor",
   "metadata": {},
   "outputs": [],
   "source": [
    "len(newlist2)"
   ]
  },
  {
   "cell_type": "code",
   "execution_count": null,
   "id": "enabling-amber",
   "metadata": {},
   "outputs": [],
   "source": [
    "# run enrichr\n",
    "# if you are only intrested in dataframe that enrichr returned, please set no_plot=True\n",
    "\n",
    "# list, dataframe, series inputs are supported\n",
    "enr_go = gp.enrichr(gene_list=newlist2,\n",
    "                 gene_sets=['GO_Biological_Process_2021'],\n",
    "                 organism='Human', # don't forget to set organism to the one you desired! e.g. Yeast\n",
    "                 #background='hsapiens_gene_ensembl',\n",
    "                 description='test_name',\n",
    "                 outdir='gsea_output/',\n",
    "                 no_plot=True,\n",
    "                 cutoff=0.5 # test dataset, use lower value from range(0,1)\n",
    "                )\n",
    "\n",
    "enr_kegg = gp.enrichr(gene_list=newlist2,\n",
    "                 gene_sets=['KEGG_2021_Human'],\n",
    "                 organism='Human', # don't forget to set organism to the one you desired! e.g. Yeast\n",
    "                 #background='hsapiens_gene_ensembl',\n",
    "                 description='test_name',\n",
    "                 outdir='gsea_output/',\n",
    "                 no_plot=True,\n",
    "                 cutoff=0.5 # test dataset, use lower value from range(0,1)\n",
    "                )\n",
    "\n",
    "enr_hm = gp.enrichr(gene_list=newlist2,\n",
    "                 gene_sets=['MSigDB_Hallmark_2020'],\n",
    "                 organism='Human', # don't forget to set organism to the one you desired! e.g. Yeast\n",
    "                 #background='hsapiens_gene_ensembl',\n",
    "                 description='test_name',\n",
    "                 outdir='gsea_output/',\n",
    "                 no_plot=True,\n",
    "                 cutoff=0.5 # test dataset, use lower value from range(0,1)\n",
    "                )"
   ]
  },
  {
   "cell_type": "code",
   "execution_count": null,
   "id": "altered-hepatitis",
   "metadata": {},
   "outputs": [],
   "source": [
    "gp.dotplot(enr_kegg.res2d, title='KEGG_2021_Human',cmap='viridis_r', top_term=25)"
   ]
  },
  {
   "cell_type": "code",
   "execution_count": null,
   "id": "exempt-thermal",
   "metadata": {},
   "outputs": [],
   "source": [
    "gp.dotplot(enr_go.res2d, title='GO_Biological_Process_2021',cmap='viridis_r', top_term=25,cutoff=0.05)"
   ]
  },
  {
   "cell_type": "code",
   "execution_count": null,
   "id": "round-gnome",
   "metadata": {},
   "outputs": [],
   "source": [
    "gp.dotplot(enr_hm.res2d, title='MSigDB_Hallmark_2020',cmap='viridis_r', top_term=25,cutoff=0.05)"
   ]
  },
  {
   "cell_type": "code",
   "execution_count": null,
   "id": "maritime-livestock",
   "metadata": {},
   "outputs": [],
   "source": [
    "df_up = enr_go.res2d[enr_go.res2d['Adjusted P-value']<0.05]\n",
    "print(len(df_up))\n",
    "with pd.option_context('display.max_rows', None, 'display.max_columns', None):  # more options can be specified also\n",
    "    print(df_up)\n",
    "    "
   ]
  },
  {
   "cell_type": "code",
   "execution_count": null,
   "id": "supreme-destiny",
   "metadata": {},
   "outputs": [],
   "source": []
  },
  {
   "cell_type": "markdown",
   "id": "artificial-creek",
   "metadata": {},
   "source": [
    "# leading edge gene"
   ]
  },
  {
   "cell_type": "code",
   "execution_count": null,
   "id": "incident-kennedy",
   "metadata": {},
   "outputs": [],
   "source": [
    "df1"
   ]
  },
  {
   "cell_type": "code",
   "execution_count": null,
   "id": "equipped-zoning",
   "metadata": {},
   "outputs": [],
   "source": [
    "df1.to_csv('down_regulated_Tcell.csv')"
   ]
  },
  {
   "cell_type": "code",
   "execution_count": null,
   "id": "solid-radio",
   "metadata": {},
   "outputs": [],
   "source": [
    "genes=df1['Genes'].tolist()"
   ]
  },
  {
   "cell_type": "code",
   "execution_count": null,
   "id": "cooperative-circuit",
   "metadata": {},
   "outputs": [],
   "source": [
    "genes"
   ]
  },
  {
   "cell_type": "code",
   "execution_count": null,
   "id": "western-sewing",
   "metadata": {},
   "outputs": [],
   "source": [
    "leading_edge_gene =[]\n",
    "for i in range (0,len(genes)):\n",
    "    gene = genes[i].split(';')\n",
    "    leading_edge_gene.append(gene)"
   ]
  },
  {
   "cell_type": "code",
   "execution_count": null,
   "id": "incredible-primary",
   "metadata": {},
   "outputs": [],
   "source": [
    "leading_edge_gene"
   ]
  },
  {
   "cell_type": "code",
   "execution_count": null,
   "id": "secure-milwaukee",
   "metadata": {},
   "outputs": [],
   "source": [
    "flat_list = []\n",
    "for sublist in leading_edge_gene:\n",
    "    for item in sublist:\n",
    "        flat_list.append(item)"
   ]
  },
  {
   "cell_type": "code",
   "execution_count": null,
   "id": "painful-synthetic",
   "metadata": {},
   "outputs": [],
   "source": [
    "len(flat_list)"
   ]
  },
  {
   "cell_type": "code",
   "execution_count": null,
   "id": "inappropriate-circular",
   "metadata": {
    "tags": []
   },
   "outputs": [],
   "source": [
    "flat_list"
   ]
  },
  {
   "cell_type": "code",
   "execution_count": null,
   "id": "median-backup",
   "metadata": {},
   "outputs": [],
   "source": [
    "le_gene=list(set(flat_list))"
   ]
  },
  {
   "cell_type": "code",
   "execution_count": null,
   "id": "social-forth",
   "metadata": {},
   "outputs": [],
   "source": [
    "len(le_gene)"
   ]
  },
  {
   "cell_type": "code",
   "execution_count": null,
   "id": "uniform-samuel",
   "metadata": {},
   "outputs": [],
   "source": [
    "le_gene"
   ]
  },
  {
   "cell_type": "code",
   "execution_count": null,
   "id": "congressional-maintenance",
   "metadata": {},
   "outputs": [],
   "source": []
  }
 ],
 "metadata": {
  "kernelspec": {
   "display_name": "Py_env2",
   "language": "python",
   "name": "py_env2"
  },
  "language_info": {
   "codemirror_mode": {
    "name": "ipython",
    "version": 3
   },
   "file_extension": ".py",
   "mimetype": "text/x-python",
   "name": "python",
   "nbconvert_exporter": "python",
   "pygments_lexer": "ipython3",
   "version": "3.8.13"
  }
 },
 "nbformat": 4,
 "nbformat_minor": 5
}
