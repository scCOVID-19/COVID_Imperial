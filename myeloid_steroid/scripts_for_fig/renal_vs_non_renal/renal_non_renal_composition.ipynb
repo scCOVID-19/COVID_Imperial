{
 "cells": [
  {
   "cell_type": "code",
   "execution_count": null,
   "id": "hungarian-sherman",
   "metadata": {},
   "outputs": [],
   "source": [
    "#/nfs/team205/ld21/renal/for_win"
   ]
  },
  {
   "cell_type": "code",
   "execution_count": 1,
   "id": "gentle-cancer",
   "metadata": {},
   "outputs": [
    {
     "name": "stdout",
     "output_type": "stream",
     "text": [
      "scanpy==1.9.1 anndata==0.8.0 umap==0.5.3 numpy==1.23.4 scipy==1.9.3 pandas==1.5.1 scikit-learn==1.1.3 statsmodels==0.13.5 python-igraph==0.10.2 pynndescent==0.5.8\n"
     ]
    }
   ],
   "source": [
    "import matplotlib.pyplot as plt\n",
    "import matplotlib.image as mpimg\n",
    "import scanpy as sc\n",
    "import numpy as np\n",
    "import pandas as pd\n",
    "from matplotlib.pyplot import rc_context\n",
    "import collections\n",
    "pd.set_option('display.max_rows', 200)\n",
    "import matplotlib as mpl\n",
    "mpl.rcParams['pdf.fonttype'] = 42\n",
    "#sc.logging.print_versions() #print version of package\n",
    "sc.logging.print_header()\n",
    "sc.settings.verbosity = 3  # verbosity: errors (0), warnings (1), info (2), hints (3)\n",
    "sc.settings.set_figure_params(dpi=120, color_map='viridis')"
   ]
  },
  {
   "cell_type": "code",
   "execution_count": 2,
   "id": "graduate-paint",
   "metadata": {},
   "outputs": [],
   "source": [
    "adata = sc.read('/home/jovyan/nfs_win/wt1/handover_covid/data/ESKD_stephenson_COMBAT_annotated.h5ad')"
   ]
  },
  {
   "cell_type": "code",
   "execution_count": 3,
   "id": "roman-comment",
   "metadata": {},
   "outputs": [
    {
     "data": {
      "text/plain": [
       "AnnData object with n_obs × n_vars = 1696428 × 16482\n",
       "    obs: 'sample_id', 'patient_id', 'study', 'celltypist', '_scvi_batch', '_scvi_labels', 'compartment', 'covid_status'\n",
       "    uns: '_scvi_manager_uuid', '_scvi_uuid', 'celltypist_colors', 'neighbors', 'patient_id_colors', 'study_colors', 'umap'\n",
       "    obsm: 'X_mde', 'X_scVI', 'X_umap', '_scvi_extra_categorical_covs'\n",
       "    layers: 'counts'\n",
       "    obsp: 'connectivities', 'distances'"
      ]
     },
     "execution_count": 3,
     "metadata": {},
     "output_type": "execute_result"
    }
   ],
   "source": [
    "adata"
   ]
  },
  {
   "cell_type": "code",
   "execution_count": 4,
   "id": "tested-socket",
   "metadata": {
    "tags": []
   },
   "outputs": [
    {
     "data": {
      "text/plain": [
       "['C116_0205',\n",
       " 'C103_2204',\n",
       " 'C123_0505',\n",
       " 'C214_2705',\n",
       " 'C40_0105',\n",
       " 'C42_1504',\n",
       " 'C104_2204',\n",
       " 'C123_2404',\n",
       " 'C124_0105',\n",
       " 'C116_2304',\n",
       " 'C124_2404',\n",
       " 'C126_0605',\n",
       " 'C106_2204',\n",
       " 'C123_2904',\n",
       " 'C124_2704',\n",
       " 'C126_2504',\n",
       " 'C127_0405',\n",
       " 'C134_2904',\n",
       " 'C126_3004',\n",
       " 'C128_0405',\n",
       " 'C142_3004',\n",
       " 'C127_1105',\n",
       " 'C128_1105',\n",
       " 'C132_0205',\n",
       " 'C152_0405',\n",
       " 'C127_2504',\n",
       " 'C161_1105',\n",
       " 'C132_1105',\n",
       " 'C20_1004',\n",
       " 'C128_2504',\n",
       " 'C164_1105',\n",
       " 'C20_1404',\n",
       " 'C132_2804',\n",
       " 'C21_1004',\n",
       " 'C21_1704',\n",
       " 'C167_1205',\n",
       " 'C20_1604',\n",
       " 'C23_1004',\n",
       " 'C31_1304',\n",
       " 'C193_2605',\n",
       " 'C21_2504',\n",
       " 'C23_1504',\n",
       " 'C23_2204',\n",
       " 'C195_2605',\n",
       " 'C31_2004',\n",
       " 'C34_1404',\n",
       " 'C36_1504',\n",
       " 'C196_2605',\n",
       " 'C31_2704',\n",
       " 'C34_2104',\n",
       " 'C93_0405',\n",
       " 'C42_2204',\n",
       " 'C40_1504',\n",
       " 'C224_2805',\n",
       " 'C34_2504',\n",
       " 'C36_1704',\n",
       " 'C197_2605',\n",
       " 'C36_2104',\n",
       " 'C40_2204',\n",
       " 'C212_2705',\n",
       " 'C116_2804',\n",
       " 'C93_2104',\n",
       " 'C113_0605',\n",
       " 'C42_2704',\n",
       " 'C234_2805',\n",
       " 'C93_2704',\n",
       " 'C113_2304',\n",
       " 'C60_1604',\n",
       " 'C237_2805',\n",
       " 'C63_1704',\n",
       " 'C60_2104',\n",
       " 'C238_2905',\n",
       " 'C113_2904',\n",
       " 'C240_2905',\n",
       " 'C60_2504',\n",
       " 'C63_2404',\n",
       " 'C65_1704',\n",
       " 'C246_2905',\n",
       " 'C65_2104',\n",
       " 'C63_2904',\n",
       " 'C73_2004',\n",
       " 'C73_2404',\n",
       " 'C251_2905',\n",
       " 'C65_2504',\n",
       " 'C82_2004',\n",
       " 'C69_1804',\n",
       " 'C82_2504',\n",
       " 'C85_2004',\n",
       " 'MH9179824',\n",
       " 'newcastle65',\n",
       " 'MH9143327',\n",
       " 'MH9143326',\n",
       " 'MH9143325',\n",
       " 'MH9143320',\n",
       " 'MH9143276',\n",
       " 'MH9143274',\n",
       " 'MH8919226',\n",
       " 'MH9179821',\n",
       " 'MH9179823',\n",
       " 'MH8919327',\n",
       " 'newcastle20',\n",
       " 'MH8919331',\n",
       " 'MH9143420',\n",
       " 'MH9143371',\n",
       " 'MH9143323',\n",
       " 'MH9143277',\n",
       " 'MH9143270',\n",
       " 'MH8919333',\n",
       " 'MH8919332',\n",
       " 'newcastle21',\n",
       " 'MH8919227',\n",
       " 'MH8919326',\n",
       " 'newcastle59',\n",
       " 'MH9143422',\n",
       " 'MH9143271',\n",
       " 'newcastle49',\n",
       " 'MH9143324',\n",
       " 'MH9143322',\n",
       " 'MH8919330',\n",
       " 'MH8919329',\n",
       " 'MH9179822',\n",
       " 'newcastle21v2',\n",
       " 'MH9143426',\n",
       " 'MH8919283',\n",
       " 'newcastle004v2',\n",
       " 'MH8919178',\n",
       " 'MH8919177',\n",
       " 'MH8919176',\n",
       " 'MH9143424',\n",
       " 'MH8919179',\n",
       " 'MH9143423',\n",
       " 'MH9143421',\n",
       " 'MH9179826',\n",
       " 'MH9143321',\n",
       " 'MH9143427',\n",
       " 'MH9143425',\n",
       " 'MH8919328',\n",
       " 'MH9143275',\n",
       " 'MH9179825',\n",
       " 'newcastle74',\n",
       " 'MH9143273',\n",
       " 'MH9143272',\n",
       " 'MH8919282',\n",
       " 'AP8',\n",
       " 'AP3',\n",
       " 'AP6',\n",
       " 'AP12',\n",
       " 'AP1',\n",
       " 'AP10',\n",
       " 'AP2',\n",
       " 'AP4',\n",
       " 'AP9',\n",
       " 'AP11',\n",
       " 'AP5',\n",
       " 'BGCV01_CV0904',\n",
       " 'BGCV01_CV0025',\n",
       " 'BGCV01_CV0902',\n",
       " 'BGCV01_CV0144',\n",
       " 'BGCV02_CV0068',\n",
       " 'BGCV02_CV0052',\n",
       " 'BGCV02_CV0902',\n",
       " 'BGCV02_CV0059',\n",
       " 'BGCV03_CV0074',\n",
       " 'BGCV03_CV0176',\n",
       " 'BGCV03_CV0084',\n",
       " 'BGCV03_CV0200',\n",
       " 'BGCV04_CV0100',\n",
       " 'BGCV04_CV0262',\n",
       " 'BGCV04_CV0164',\n",
       " 'BGCV04_CV0911',\n",
       " 'BGCV05_CV0128',\n",
       " 'BGCV05_CV0929',\n",
       " 'BGCV05_CV0120',\n",
       " 'BGCV05_CV0284',\n",
       " 'BGCV06_CV0201',\n",
       " 'BGCV06_CV0178',\n",
       " 'BGCV06_CV0037',\n",
       " 'BGCV06_CV0234',\n",
       " 'BGCV07_CV0137',\n",
       " 'BGCV07_CV0094',\n",
       " 'BGCV07_CV0104',\n",
       " 'BGCV07_CV0134',\n",
       " 'BGCV08_CV0201',\n",
       " 'BGCV08_CV0155',\n",
       " 'BGCV08_CV0915',\n",
       " 'BGCV08_CV0073',\n",
       " 'BGCV09_CV0279',\n",
       " 'BGCV09_CV0171',\n",
       " 'BGCV09_CV0917',\n",
       " 'BGCV09_CV0062',\n",
       " 'BGCV10_CV0231',\n",
       " 'BGCV10_CV0160',\n",
       " 'BGCV10_CV0939',\n",
       " 'BGCV10_CV0198',\n",
       " 'BGCV11_CV0050',\n",
       " 'BGCV11_CV0257',\n",
       " 'BGCV11_CV0058',\n",
       " 'BGCV11_CV0180',\n",
       " 'BGCV12_CV0062',\n",
       " 'BGCV12_CV0068',\n",
       " 'BGCV12_CV0178',\n",
       " 'BGCV12_CV0926',\n",
       " 'BGCV13_CV0073',\n",
       " 'BGCV13_CV0934',\n",
       " 'BGCV13_CV0171',\n",
       " 'BGCV13_CV0326',\n",
       " 'BGCV14_CV0137',\n",
       " 'BGCV14_CV0284',\n",
       " 'BGCV14_CV0940',\n",
       " 'BGCV14_CV0050',\n",
       " 'BGCV15_CV0944',\n",
       " 'BGCV15_CV0176',\n",
       " 'BGCV15_CV0257',\n",
       " 'BGCV15_CV0231',\n",
       " 'S00109-Ja001E-PBCa',\n",
       " 'S00112-Ja003E-PBCa',\n",
       " 'G05153-Ja005E-PBCa',\n",
       " 'S00005-Ja005E-PBCa',\n",
       " 'S00061-Ja003E-PBCa',\n",
       " 'U00515-Ua005E-PBUa',\n",
       " 'S00056-Ja003E-PBCa',\n",
       " 'H00067-Ha001E-PBGa',\n",
       " 'S00028-Ja001E-PBCa',\n",
       " 'G05064-Ja005E-PBCa',\n",
       " 'S00043-Ja005E-PBCa',\n",
       " 'S00027-Ja003E-PBCa',\n",
       " 'G05097-Ja005E-PBCa',\n",
       " 'S00033-Ja001E-PBCa',\n",
       " 'S00040-Ja005E-PBCa',\n",
       " 'H00054-Ha001E-PBGa',\n",
       " 'S00119-Ja003E-PBCa',\n",
       " 'S00034-Ja005E-PBCa',\n",
       " 'G05164-Ja005E-PBCa',\n",
       " 'S00078-Ja003E-PBCa',\n",
       " 'S00104-Ja003E-PBCa',\n",
       " 'U00519-Ua005E-PBUa',\n",
       " 'S00016-Ja001E-PBCa',\n",
       " 'G05061-Ja005E-PBCa',\n",
       " 'S00039-Ja001E-PBCa',\n",
       " 'S00052-Ja005E-PBCa',\n",
       " 'S00129-Ja005E-PBCa',\n",
       " 'S00042-Ja003E-PBCa',\n",
       " 'H00085-Ha001E-PBGa',\n",
       " 'S00058-Ja003E-PBCa',\n",
       " 'S00020-Ja003E-PBCa',\n",
       " 'S00056-Ja005E-PBCa',\n",
       " 'G05092-Ja005E-PBCa',\n",
       " 'S00006-Ja005E-PBCa',\n",
       " 'G05078-Ja005E-PBCa',\n",
       " 'S00109-Ja003E-PBCa',\n",
       " 'H00049-Ha001E-PBGa',\n",
       " 'S00041-Ja001E-PBCa',\n",
       " 'S00045-Ja003E-PBCa',\n",
       " 'S00005-Ja003E-PBCa',\n",
       " 'S00068-Ja005E-PBCa',\n",
       " 'S00007-Ja003E-PBCa',\n",
       " 'S00048-Ja005E-PBCa',\n",
       " 'S00003-Ja003E-PBCa',\n",
       " 'S00097-Ja003E-PBCa',\n",
       " 'G05171-Ja005E-PBCa',\n",
       " 'H00058-Ha001E-PBGa',\n",
       " 'S00037-Ja003E-PBCa',\n",
       " 'S00064-Ja005E-PBCa',\n",
       " 'S00042-Ja001E-PBCa',\n",
       " 'S00033-Ja005E-PBCa',\n",
       " 'S00095-Ja005E-PBCa',\n",
       " 'S00008-Ja003E-PBCa',\n",
       " 'S00045-Ja005E-PBCa',\n",
       " 'G05077-Ja005E-PBCa',\n",
       " 'S00134-Ja003E-PBCa',\n",
       " 'S00050-Ja001E-PBCa',\n",
       " 'H00072-Ha001E-PBGa',\n",
       " 'S00094-Ja005E-PBCa',\n",
       " 'S00113-Ja005E-PBCa',\n",
       " 'S00148-Ja003E-PBCa',\n",
       " 'S00129-Ja001E-PBCa',\n",
       " 'S00060-Ja005E-PBCa',\n",
       " 'S00063-Ja003E-PBCa',\n",
       " 'H00052-Ha001E-PBGa',\n",
       " 'S00106-Ja003E-PBCa',\n",
       " 'S00067-Ja001E-PBCa',\n",
       " 'S00049-Ja003E-PBCa',\n",
       " 'G05145-Ja005E-PBCa',\n",
       " 'S00109-Ja005E-PBCa',\n",
       " 'S00081-Ja005E-PBCa',\n",
       " 'S00024-Ja003E-PBCa',\n",
       " 'S00077-Ja005E-PBCa',\n",
       " 'S00114-Ja003E-PBCa',\n",
       " 'H00070-Ha001E-PBGa',\n",
       " 'S00052-Ja003E-PBCa',\n",
       " 'S00099-Ja005E-PBCa',\n",
       " 'S00126-Ja003E-PBCa',\n",
       " 'S00142-Ja005E-PBCa',\n",
       " 'G05105-Ja005E-PBCa',\n",
       " 'S00069-Ja005E-PBCa',\n",
       " 'S00054-Ja001E-PBCa',\n",
       " 'S00124-Ja003E-PBCa',\n",
       " 'S00081-Ja001E-PBCa',\n",
       " 'S00059-Ja001E-PBCa',\n",
       " 'G05073-Ja005E-PBCa',\n",
       " 'H00053-Ha001E-PBGa',\n",
       " 'S00053-Ja003E-PBCa',\n",
       " 'S00033-Ja003E-PBCa',\n",
       " 'S00124-Ja005E-PBCa',\n",
       " 'S00066-Ja001E-PBCa',\n",
       " 'S00096-Ja005E-PBCa',\n",
       " 'S00030-Ja003E-PBCa',\n",
       " 'S00082-Ja001E-PBCa',\n",
       " 'S00057-Ja003E-PBCa',\n",
       " 'H00064-Ha001E-PBGa',\n",
       " 'S00045-Ja001E-PBCa',\n",
       " 'S00002-Ja001E-PBCa',\n",
       " 'S00076-Ja001E-PBCa',\n",
       " 'S00072-Ja001E-PBCa',\n",
       " 'S00065-Ja003E-PBCa',\n",
       " 'S00048-Ja003E-PBCa',\n",
       " 'G05112-Ja005E-PBCa']"
      ]
     },
     "execution_count": 4,
     "metadata": {},
     "output_type": "execute_result"
    }
   ],
   "source": [
    "list(adata.obs['sample_id'].unique())"
   ]
  },
  {
   "cell_type": "code",
   "execution_count": 5,
   "id": "enclosed-union",
   "metadata": {},
   "outputs": [
    {
     "data": {
      "text/plain": [
       "['ESKD', 'Stephenson', 'COMBAT']\n",
       "Categories (3, object): ['COMBAT', 'ESKD', 'Stephenson']"
      ]
     },
     "execution_count": 5,
     "metadata": {},
     "output_type": "execute_result"
    }
   ],
   "source": [
    "adata.obs['study'].unique()"
   ]
  },
  {
   "cell_type": "code",
   "execution_count": 6,
   "id": "rural-uncle",
   "metadata": {},
   "outputs": [
    {
     "data": {
      "text/plain": [
       "['COVID-19', 'Healthy']"
      ]
     },
     "execution_count": 6,
     "metadata": {},
     "output_type": "execute_result"
    }
   ],
   "source": [
    "list(adata.obs['covid_status'].unique())"
   ]
  },
  {
   "cell_type": "code",
   "execution_count": 7,
   "id": "governmental-preserve",
   "metadata": {},
   "outputs": [
    {
     "data": {
      "text/plain": [
       "['B cell', 'Myeloid', 'T cell', NaN]\n",
       "Categories (3, object): ['B cell', 'Myeloid', 'T cell']"
      ]
     },
     "execution_count": 7,
     "metadata": {},
     "output_type": "execute_result"
    }
   ],
   "source": [
    "adata.obs['compartment'].unique()"
   ]
  },
  {
   "cell_type": "code",
   "execution_count": 8,
   "id": "cooperative-microphone",
   "metadata": {},
   "outputs": [
    {
     "data": {
      "text/plain": [
       "['B_n-sw_mem',\n",
       " 'Monocyte_CD16+C1',\n",
       " 'Monocyte_CD14_IFN_stim',\n",
       " 'B_sw_mem',\n",
       " 'T_reg',\n",
       " 'T_CD4_naive',\n",
       " 'T_CD4_helper',\n",
       " 'Monocyte_CD16',\n",
       " 'Monocyte_CD14',\n",
       " 'pDC',\n",
       " 'NK',\n",
       " 'T_CD8_CTL',\n",
       " 'Cycling',\n",
       " 'Plasma_cells',\n",
       " 'T_CD8_EMRA',\n",
       " 'cDC2',\n",
       " 'B_naive',\n",
       " 'NK_CD56',\n",
       " 'B_n-sw_mem_IFN_stim',\n",
       " 'Monocyte_CD16_IFN_stim',\n",
       " 'T_CD8_CM',\n",
       " 'T_CD4_naive_IFN_stim',\n",
       " 'RBC',\n",
       " 'T_CD8_naive',\n",
       " 'MAIT',\n",
       " 'T_gd',\n",
       " 'Platelets',\n",
       " 'T_CD4_CTL',\n",
       " 'HPC',\n",
       " 'B_invar',\n",
       " 'NK_IFN_stim',\n",
       " 'T_CD8_EM',\n",
       " 'Plasmablasts',\n",
       " 'NKT',\n",
       " 'B_naive_IFN_stim',\n",
       " 'ILC',\n",
       " 'Monocyte_CD14_IL6',\n",
       " 'cDC1',\n",
       " 'T_CD8_CTL_IFN_stim']"
      ]
     },
     "execution_count": 8,
     "metadata": {},
     "output_type": "execute_result"
    }
   ],
   "source": [
    "list(adata.obs['celltypist'].unique())"
   ]
  },
  {
   "cell_type": "code",
   "execution_count": 9,
   "id": "mature-mining",
   "metadata": {},
   "outputs": [
    {
     "data": {
      "text/plain": [
       "39"
      ]
     },
     "execution_count": 9,
     "metadata": {},
     "output_type": "execute_result"
    }
   ],
   "source": [
    "len(list(adata.obs['celltypist'].unique()))"
   ]
  },
  {
   "cell_type": "code",
   "execution_count": 10,
   "id": "historical-killer",
   "metadata": {},
   "outputs": [],
   "source": [
    "compartment ='B'"
   ]
  },
  {
   "cell_type": "code",
   "execution_count": 11,
   "id": "public-draft",
   "metadata": {},
   "outputs": [],
   "source": [
    "if compartment == 'B':\n",
    "   selected_cells =['B_n-sw_mem',\n",
    "  'B_sw_mem',\n",
    "  'Plasma_cells',\n",
    "  'B_naive',\n",
    "  'B_n-sw_mem_IFN_stim',\n",
    "  'B_invar',\n",
    "  'Plasmablasts',\n",
    " 'B_naive_IFN_stim']\n",
    "    \n",
    "elif compartment == 'T':\n",
    "    selected_cells =[\n",
    " 'T_reg',\n",
    " 'T_CD4_naive',\n",
    " 'T_CD4_helper',\n",
    " 'NK',\n",
    " 'T_CD8_CTL',\n",
    " 'Cycling',\n",
    " 'T_CD8_EMRA',\n",
    " 'NK_CD56',\n",
    "  'T_CD8_CM',\n",
    " 'T_CD4_naive_IFN_stim',\n",
    "  'T_CD8_naive',\n",
    " 'MAIT',\n",
    " 'T_gd',\n",
    " 'T_CD4_CTL',\n",
    " 'NK_IFN_stim',\n",
    " 'T_CD8_EM',\n",
    " 'NKT',\n",
    "  'ILC',\n",
    "  'T_CD8_CTL_IFN_stim'     \n",
    "    ]\n",
    "elif compartment == 'M':\n",
    "    selected_cells=[ 'Monocyte_CD16+C1',\n",
    " 'Monocyte_CD14_IFN_stim',\n",
    " 'Monocyte_CD16',\n",
    " 'Monocyte_CD14',\n",
    " 'pDC',\n",
    " 'cDC2',\n",
    " 'Monocyte_CD16_IFN_stim',\n",
    " 'RBC',\n",
    " 'Platelets',\n",
    " 'HPC',\n",
    " 'Monocyte_CD14_IL6',\n",
    " 'cDC1',\n",
    " ]"
   ]
  },
  {
   "cell_type": "code",
   "execution_count": 12,
   "id": "massive-diary",
   "metadata": {},
   "outputs": [
    {
     "data": {
      "text/plain": [
       "['B_n-sw_mem',\n",
       " 'B_sw_mem',\n",
       " 'Plasma_cells',\n",
       " 'B_naive',\n",
       " 'B_n-sw_mem_IFN_stim',\n",
       " 'B_invar',\n",
       " 'Plasmablasts',\n",
       " 'B_naive_IFN_stim']"
      ]
     },
     "execution_count": 12,
     "metadata": {},
     "output_type": "execute_result"
    }
   ],
   "source": [
    "selected_cells"
   ]
  },
  {
   "cell_type": "code",
   "execution_count": 13,
   "id": "ahead-boutique",
   "metadata": {},
   "outputs": [
    {
     "data": {
      "text/plain": [
       "8"
      ]
     },
     "execution_count": 13,
     "metadata": {},
     "output_type": "execute_result"
    }
   ],
   "source": [
    "len(selected_cells)"
   ]
  },
  {
   "cell_type": "markdown",
   "id": "ordinary-hacker",
   "metadata": {},
   "source": [
    "# subseting adata for only selected cells"
   ]
  },
  {
   "cell_type": "code",
   "execution_count": 14,
   "id": "roman-structure",
   "metadata": {},
   "outputs": [
    {
     "data": {
      "text/plain": [
       "1696428"
      ]
     },
     "execution_count": 14,
     "metadata": {},
     "output_type": "execute_result"
    }
   ],
   "source": [
    "adata.n_obs"
   ]
  },
  {
   "cell_type": "code",
   "execution_count": 15,
   "id": "instrumental-breach",
   "metadata": {},
   "outputs": [],
   "source": [
    "adata = adata[adata.obs['celltypist'].isin(selected_cells)]"
   ]
  },
  {
   "cell_type": "code",
   "execution_count": 16,
   "id": "industrial-storm",
   "metadata": {},
   "outputs": [
    {
     "data": {
      "text/plain": [
       "157784"
      ]
     },
     "execution_count": 16,
     "metadata": {},
     "output_type": "execute_result"
    }
   ],
   "source": [
    "adata.n_obs"
   ]
  },
  {
   "cell_type": "code",
   "execution_count": 17,
   "id": "close-neighborhood",
   "metadata": {},
   "outputs": [
    {
     "data": {
      "text/plain": [
       "B_naive                114928\n",
       "Plasma_cells            14731\n",
       "B_sw_mem                14303\n",
       "B_n-sw_mem               8145\n",
       "B_invar                  2715\n",
       "Plasmablasts             1385\n",
       "B_naive_IFN_stim         1342\n",
       "B_n-sw_mem_IFN_stim       235\n",
       "Name: celltypist, dtype: int64"
      ]
     },
     "execution_count": 17,
     "metadata": {},
     "output_type": "execute_result"
    }
   ],
   "source": [
    "adata.obs['celltypist'].value_counts()"
   ]
  },
  {
   "cell_type": "code",
   "execution_count": 18,
   "id": "breeding-sector",
   "metadata": {},
   "outputs": [
    {
     "data": {
      "text/plain": [
       "['ESKD', 'Stephenson', 'COMBAT']\n",
       "Categories (3, object): ['COMBAT', 'ESKD', 'Stephenson']"
      ]
     },
     "execution_count": 18,
     "metadata": {},
     "output_type": "execute_result"
    }
   ],
   "source": [
    "adata.obs['study'].unique()"
   ]
  },
  {
   "cell_type": "code",
   "execution_count": 19,
   "id": "nervous-asbestos",
   "metadata": {},
   "outputs": [
    {
     "data": {
      "text/plain": [
       "['COVID-19', 'Healthy']\n",
       "Categories (2, object): ['COVID-19', 'Healthy']"
      ]
     },
     "execution_count": 19,
     "metadata": {},
     "output_type": "execute_result"
    }
   ],
   "source": [
    "adata.obs['covid_status'].unique()"
   ]
  },
  {
   "cell_type": "markdown",
   "id": "distributed-integral",
   "metadata": {},
   "source": [
    "# subset only covid positive"
   ]
  },
  {
   "cell_type": "code",
   "execution_count": 20,
   "id": "valued-executive",
   "metadata": {},
   "outputs": [],
   "source": [
    "adata_subset = adata[(adata.obs['covid_status']=='COVID-19')]"
   ]
  },
  {
   "cell_type": "code",
   "execution_count": 21,
   "id": "centered-sunglasses",
   "metadata": {},
   "outputs": [
    {
     "data": {
      "text/plain": [
       "['COVID-19']\n",
       "Categories (1, object): ['COVID-19']"
      ]
     },
     "execution_count": 21,
     "metadata": {},
     "output_type": "execute_result"
    }
   ],
   "source": [
    "adata_subset.obs['covid_status'].unique()"
   ]
  },
  {
   "cell_type": "code",
   "execution_count": 22,
   "id": "interim-competition",
   "metadata": {},
   "outputs": [
    {
     "data": {
      "text/plain": [
       "['ESKD', 'Stephenson', 'COMBAT']\n",
       "Categories (3, object): ['COMBAT', 'ESKD', 'Stephenson']"
      ]
     },
     "execution_count": 22,
     "metadata": {},
     "output_type": "execute_result"
    }
   ],
   "source": [
    "adata_subset.obs['study'].unique()"
   ]
  },
  {
   "cell_type": "code",
   "execution_count": 23,
   "id": "interstate-thesis",
   "metadata": {},
   "outputs": [
    {
     "name": "stderr",
     "output_type": "stream",
     "text": [
      "/tmp/ipykernel_4839/1175184823.py:1: ImplicitModificationWarning: Trying to modify attribute `.obs` of view, initializing view as actual.\n",
      "  adata_subset.obs['renal_status']='non_renal'\n"
     ]
    }
   ],
   "source": [
    "adata_subset.obs['renal_status']='non_renal'\n",
    "adata_subset.obs.loc[adata_subset.obs['study']=='ESKD', \"renal_status\"] = 'renal'\n",
    "adata_subset.obs['renal_status'] = adata_subset.obs['renal_status'].astype('category')"
   ]
  },
  {
   "cell_type": "code",
   "execution_count": 24,
   "id": "hybrid-champion",
   "metadata": {},
   "outputs": [
    {
     "data": {
      "text/plain": [
       "['renal', 'non_renal']\n",
       "Categories (2, object): ['non_renal', 'renal']"
      ]
     },
     "execution_count": 24,
     "metadata": {},
     "output_type": "execute_result"
    }
   ],
   "source": [
    "adata_subset.obs['renal_status'].unique()"
   ]
  },
  {
   "cell_type": "markdown",
   "id": "smooth-quest",
   "metadata": {},
   "source": [
    "# compositional plot"
   ]
  },
  {
   "cell_type": "code",
   "execution_count": 25,
   "id": "integrated-selling",
   "metadata": {},
   "outputs": [
    {
     "data": {
      "text/plain": [
       "B_naive                100870\n",
       "Plasma_cells            13920\n",
       "B_sw_mem                11351\n",
       "B_n-sw_mem               6588\n",
       "B_invar                  2186\n",
       "Plasmablasts             1358\n",
       "B_naive_IFN_stim         1337\n",
       "B_n-sw_mem_IFN_stim       235\n",
       "Name: celltypist, dtype: int64"
      ]
     },
     "execution_count": 25,
     "metadata": {},
     "output_type": "execute_result"
    }
   ],
   "source": [
    "adata_subset.obs['celltypist'].value_counts()"
   ]
  },
  {
   "cell_type": "code",
   "execution_count": 26,
   "id": "healthy-bacon",
   "metadata": {},
   "outputs": [
    {
     "data": {
      "text/html": [
       "<div>\n",
       "<style scoped>\n",
       "    .dataframe tbody tr th:only-of-type {\n",
       "        vertical-align: middle;\n",
       "    }\n",
       "\n",
       "    .dataframe tbody tr th {\n",
       "        vertical-align: top;\n",
       "    }\n",
       "\n",
       "    .dataframe thead th {\n",
       "        text-align: right;\n",
       "    }\n",
       "</style>\n",
       "<table border=\"1\" class=\"dataframe\">\n",
       "  <thead>\n",
       "    <tr style=\"text-align: right;\">\n",
       "      <th>celltypist</th>\n",
       "      <th>B_invar</th>\n",
       "      <th>B_n-sw_mem</th>\n",
       "      <th>B_n-sw_mem_IFN_stim</th>\n",
       "      <th>B_naive</th>\n",
       "      <th>B_naive_IFN_stim</th>\n",
       "      <th>B_sw_mem</th>\n",
       "      <th>Plasma_cells</th>\n",
       "      <th>Plasmablasts</th>\n",
       "    </tr>\n",
       "    <tr>\n",
       "      <th>sample_id</th>\n",
       "      <th></th>\n",
       "      <th></th>\n",
       "      <th></th>\n",
       "      <th></th>\n",
       "      <th></th>\n",
       "      <th></th>\n",
       "      <th></th>\n",
       "      <th></th>\n",
       "    </tr>\n",
       "  </thead>\n",
       "  <tbody>\n",
       "    <tr>\n",
       "      <th>AP1</th>\n",
       "      <td>0.009174</td>\n",
       "      <td>0.041284</td>\n",
       "      <td>0.000000</td>\n",
       "      <td>0.655963</td>\n",
       "      <td>0.000000</td>\n",
       "      <td>0.082569</td>\n",
       "      <td>0.206422</td>\n",
       "      <td>0.004587</td>\n",
       "    </tr>\n",
       "    <tr>\n",
       "      <th>AP2</th>\n",
       "      <td>0.047059</td>\n",
       "      <td>0.200000</td>\n",
       "      <td>0.000000</td>\n",
       "      <td>0.582353</td>\n",
       "      <td>0.000000</td>\n",
       "      <td>0.123529</td>\n",
       "      <td>0.041176</td>\n",
       "      <td>0.005882</td>\n",
       "    </tr>\n",
       "    <tr>\n",
       "      <th>AP3</th>\n",
       "      <td>0.161597</td>\n",
       "      <td>0.125475</td>\n",
       "      <td>0.119772</td>\n",
       "      <td>0.441065</td>\n",
       "      <td>0.036122</td>\n",
       "      <td>0.062738</td>\n",
       "      <td>0.053232</td>\n",
       "      <td>0.000000</td>\n",
       "    </tr>\n",
       "    <tr>\n",
       "      <th>AP4</th>\n",
       "      <td>0.009852</td>\n",
       "      <td>0.027915</td>\n",
       "      <td>0.000000</td>\n",
       "      <td>0.894910</td>\n",
       "      <td>0.000000</td>\n",
       "      <td>0.067323</td>\n",
       "      <td>0.000000</td>\n",
       "      <td>0.000000</td>\n",
       "    </tr>\n",
       "    <tr>\n",
       "      <th>AP5</th>\n",
       "      <td>0.018856</td>\n",
       "      <td>0.018856</td>\n",
       "      <td>0.000000</td>\n",
       "      <td>0.754876</td>\n",
       "      <td>0.000650</td>\n",
       "      <td>0.056567</td>\n",
       "      <td>0.143693</td>\n",
       "      <td>0.006502</td>\n",
       "    </tr>\n",
       "  </tbody>\n",
       "</table>\n",
       "</div>"
      ],
      "text/plain": [
       "celltypist   B_invar  B_n-sw_mem  B_n-sw_mem_IFN_stim   B_naive  \\\n",
       "sample_id                                                         \n",
       "AP1         0.009174    0.041284             0.000000  0.655963   \n",
       "AP2         0.047059    0.200000             0.000000  0.582353   \n",
       "AP3         0.161597    0.125475             0.119772  0.441065   \n",
       "AP4         0.009852    0.027915             0.000000  0.894910   \n",
       "AP5         0.018856    0.018856             0.000000  0.754876   \n",
       "\n",
       "celltypist  B_naive_IFN_stim  B_sw_mem  Plasma_cells  Plasmablasts  \n",
       "sample_id                                                           \n",
       "AP1                 0.000000  0.082569      0.206422      0.004587  \n",
       "AP2                 0.000000  0.123529      0.041176      0.005882  \n",
       "AP3                 0.036122  0.062738      0.053232      0.000000  \n",
       "AP4                 0.000000  0.067323      0.000000      0.000000  \n",
       "AP5                 0.000650  0.056567      0.143693      0.006502  "
      ]
     },
     "execution_count": 26,
     "metadata": {},
     "output_type": "execute_result"
    }
   ],
   "source": [
    "df=pd.crosstab(adata_subset.obs['sample_id'],adata_subset.obs['celltypist']).apply(lambda r: r/r.sum(),axis=1)\n",
    "df.head()"
   ]
  },
  {
   "cell_type": "code",
   "execution_count": 27,
   "id": "vulnerable-silence",
   "metadata": {
    "tags": []
   },
   "outputs": [
    {
     "data": {
      "text/plain": [
       "{'C116_0205': 'renal',\n",
       " 'C123_0505': 'renal',\n",
       " 'C42_1504': 'renal',\n",
       " 'C40_0105': 'renal',\n",
       " 'C116_2304': 'renal',\n",
       " 'C124_0105': 'renal',\n",
       " 'C123_2404': 'renal',\n",
       " 'C123_2904': 'renal',\n",
       " 'C126_0605': 'renal',\n",
       " 'C124_2404': 'renal',\n",
       " 'C127_0405': 'renal',\n",
       " 'C126_2504': 'renal',\n",
       " 'C124_2704': 'renal',\n",
       " 'C128_0405': 'renal',\n",
       " 'C127_1105': 'renal',\n",
       " 'C126_3004': 'renal',\n",
       " 'C132_0205': 'renal',\n",
       " 'C128_1105': 'renal',\n",
       " 'C127_2504': 'renal',\n",
       " 'C132_1105': 'renal',\n",
       " 'C20_1004': 'renal',\n",
       " 'C128_2504': 'renal',\n",
       " 'C20_1404': 'renal',\n",
       " 'C132_2804': 'renal',\n",
       " 'C21_1004': 'renal',\n",
       " 'C20_1604': 'renal',\n",
       " 'C21_1704': 'renal',\n",
       " 'C23_1004': 'renal',\n",
       " 'C21_2504': 'renal',\n",
       " 'C31_1304': 'renal',\n",
       " 'C23_1504': 'renal',\n",
       " 'C23_2204': 'renal',\n",
       " 'C31_2004': 'renal',\n",
       " 'C34_1404': 'renal',\n",
       " 'C31_2704': 'renal',\n",
       " 'C36_1504': 'renal',\n",
       " 'C34_2104': 'renal',\n",
       " 'C40_1504': 'renal',\n",
       " 'C42_2204': 'renal',\n",
       " 'C93_0405': 'renal',\n",
       " 'C36_1704': 'renal',\n",
       " 'C34_2504': 'renal',\n",
       " 'C116_2804': 'renal',\n",
       " 'C40_2204': 'renal',\n",
       " 'C36_2104': 'renal',\n",
       " 'C113_0605': 'renal',\n",
       " 'C42_2704': 'renal',\n",
       " 'C93_2104': 'renal',\n",
       " 'C113_2304': 'renal',\n",
       " 'C93_2704': 'renal',\n",
       " 'C60_1604': 'renal',\n",
       " 'C113_2904': 'renal',\n",
       " 'C60_2104': 'renal',\n",
       " 'C63_1704': 'renal',\n",
       " 'C63_2404': 'renal',\n",
       " 'C65_1704': 'renal',\n",
       " 'C60_2504': 'renal',\n",
       " 'C63_2904': 'renal',\n",
       " 'C65_2104': 'renal',\n",
       " 'C73_2004': 'renal',\n",
       " 'C82_2004': 'renal',\n",
       " 'C65_2504': 'renal',\n",
       " 'C73_2404': 'renal',\n",
       " 'C82_2504': 'renal',\n",
       " 'MH9179824': 'non_renal',\n",
       " 'MH9143327': 'non_renal',\n",
       " 'MH9143326': 'non_renal',\n",
       " 'MH9143325': 'non_renal',\n",
       " 'MH9143320': 'non_renal',\n",
       " 'MH9143276': 'non_renal',\n",
       " 'MH9143274': 'non_renal',\n",
       " 'MH9179821': 'non_renal',\n",
       " 'MH9179823': 'non_renal',\n",
       " 'MH8919327': 'non_renal',\n",
       " 'newcastle20': 'non_renal',\n",
       " 'MH8919331': 'non_renal',\n",
       " 'MH9143420': 'non_renal',\n",
       " 'MH9143371': 'non_renal',\n",
       " 'MH9143323': 'non_renal',\n",
       " 'MH9143277': 'non_renal',\n",
       " 'MH9143270': 'non_renal',\n",
       " 'newcastle21': 'non_renal',\n",
       " 'MH8919326': 'non_renal',\n",
       " 'newcastle59': 'non_renal',\n",
       " 'MH9143422': 'non_renal',\n",
       " 'MH9143271': 'non_renal',\n",
       " 'newcastle49': 'non_renal',\n",
       " 'MH9143324': 'non_renal',\n",
       " 'MH9143322': 'non_renal',\n",
       " 'MH8919330': 'non_renal',\n",
       " 'MH8919329': 'non_renal',\n",
       " 'MH9179822': 'non_renal',\n",
       " 'newcastle21v2': 'non_renal',\n",
       " 'MH9143426': 'non_renal',\n",
       " 'newcastle004v2': 'non_renal',\n",
       " 'MH9143424': 'non_renal',\n",
       " 'MH9143423': 'non_renal',\n",
       " 'MH9143421': 'non_renal',\n",
       " 'MH9179826': 'non_renal',\n",
       " 'MH9143321': 'non_renal',\n",
       " 'MH9143427': 'non_renal',\n",
       " 'MH9143425': 'non_renal',\n",
       " 'MH8919328': 'non_renal',\n",
       " 'MH9143275': 'non_renal',\n",
       " 'MH9179825': 'non_renal',\n",
       " 'MH9143273': 'non_renal',\n",
       " 'MH9143272': 'non_renal',\n",
       " 'AP3': 'non_renal',\n",
       " 'AP8': 'non_renal',\n",
       " 'AP12': 'non_renal',\n",
       " 'AP10': 'non_renal',\n",
       " 'AP1': 'non_renal',\n",
       " 'AP2': 'non_renal',\n",
       " 'AP9': 'non_renal',\n",
       " 'AP4': 'non_renal',\n",
       " 'AP5': 'non_renal',\n",
       " 'AP11': 'non_renal',\n",
       " 'BGCV01_CV0025': 'non_renal',\n",
       " 'BGCV01_CV0144': 'non_renal',\n",
       " 'BGCV02_CV0052': 'non_renal',\n",
       " 'BGCV02_CV0068': 'non_renal',\n",
       " 'BGCV02_CV0059': 'non_renal',\n",
       " 'BGCV03_CV0074': 'non_renal',\n",
       " 'BGCV03_CV0200': 'non_renal',\n",
       " 'BGCV03_CV0176': 'non_renal',\n",
       " 'BGCV03_CV0084': 'non_renal',\n",
       " 'BGCV04_CV0100': 'non_renal',\n",
       " 'BGCV04_CV0262': 'non_renal',\n",
       " 'BGCV04_CV0164': 'non_renal',\n",
       " 'BGCV05_CV0284': 'non_renal',\n",
       " 'BGCV05_CV0128': 'non_renal',\n",
       " 'BGCV05_CV0120': 'non_renal',\n",
       " 'BGCV06_CV0201': 'non_renal',\n",
       " 'BGCV06_CV0037': 'non_renal',\n",
       " 'BGCV06_CV0178': 'non_renal',\n",
       " 'BGCV06_CV0234': 'non_renal',\n",
       " 'BGCV07_CV0137': 'non_renal',\n",
       " 'BGCV07_CV0094': 'non_renal',\n",
       " 'BGCV07_CV0104': 'non_renal',\n",
       " 'BGCV07_CV0134': 'non_renal',\n",
       " 'BGCV08_CV0201': 'non_renal',\n",
       " 'BGCV08_CV0073': 'non_renal',\n",
       " 'BGCV08_CV0155': 'non_renal',\n",
       " 'BGCV09_CV0171': 'non_renal',\n",
       " 'BGCV09_CV0279': 'non_renal',\n",
       " 'BGCV09_CV0062': 'non_renal',\n",
       " 'BGCV10_CV0160': 'non_renal',\n",
       " 'BGCV10_CV0198': 'non_renal',\n",
       " 'BGCV10_CV0231': 'non_renal',\n",
       " 'BGCV11_CV0180': 'non_renal',\n",
       " 'BGCV11_CV0257': 'non_renal',\n",
       " 'BGCV11_CV0058': 'non_renal',\n",
       " 'BGCV11_CV0050': 'non_renal',\n",
       " 'BGCV12_CV0062': 'non_renal',\n",
       " 'BGCV12_CV0068': 'non_renal',\n",
       " 'BGCV12_CV0178': 'non_renal',\n",
       " 'BGCV13_CV0171': 'non_renal',\n",
       " 'BGCV13_CV0073': 'non_renal',\n",
       " 'BGCV13_CV0326': 'non_renal',\n",
       " 'BGCV14_CV0284': 'non_renal',\n",
       " 'BGCV14_CV0050': 'non_renal',\n",
       " 'BGCV14_CV0137': 'non_renal',\n",
       " 'BGCV15_CV0231': 'non_renal',\n",
       " 'BGCV15_CV0257': 'non_renal',\n",
       " 'BGCV15_CV0176': 'non_renal',\n",
       " 'G05153-Ja005E-PBCa': 'non_renal',\n",
       " 'S00112-Ja003E-PBCa': 'non_renal',\n",
       " 'G05064-Ja005E-PBCa': 'non_renal',\n",
       " 'S00005-Ja005E-PBCa': 'non_renal',\n",
       " 'S00109-Ja001E-PBCa': 'non_renal',\n",
       " 'S00056-Ja003E-PBCa': 'non_renal',\n",
       " 'S00061-Ja003E-PBCa': 'non_renal',\n",
       " 'S00043-Ja005E-PBCa': 'non_renal',\n",
       " 'U00515-Ua005E-PBUa': 'non_renal',\n",
       " 'S00028-Ja001E-PBCa': 'non_renal',\n",
       " 'S00027-Ja003E-PBCa': 'non_renal',\n",
       " 'S00034-Ja005E-PBCa': 'non_renal',\n",
       " 'S00033-Ja001E-PBCa': 'non_renal',\n",
       " 'S00119-Ja003E-PBCa': 'non_renal',\n",
       " 'U00519-Ua005E-PBUa': 'non_renal',\n",
       " 'S00078-Ja003E-PBCa': 'non_renal',\n",
       " 'S00104-Ja003E-PBCa': 'non_renal',\n",
       " 'S00040-Ja005E-PBCa': 'non_renal',\n",
       " 'G05097-Ja005E-PBCa': 'non_renal',\n",
       " 'G05164-Ja005E-PBCa': 'non_renal',\n",
       " 'S00129-Ja005E-PBCa': 'non_renal',\n",
       " 'S00039-Ja001E-PBCa': 'non_renal',\n",
       " 'S00052-Ja005E-PBCa': 'non_renal',\n",
       " 'S00020-Ja003E-PBCa': 'non_renal',\n",
       " 'S00058-Ja003E-PBCa': 'non_renal',\n",
       " 'G05061-Ja005E-PBCa': 'non_renal',\n",
       " 'S00042-Ja003E-PBCa': 'non_renal',\n",
       " 'G05092-Ja005E-PBCa': 'non_renal',\n",
       " 'S00016-Ja001E-PBCa': 'non_renal',\n",
       " 'S00056-Ja005E-PBCa': 'non_renal',\n",
       " 'S00006-Ja005E-PBCa': 'non_renal',\n",
       " 'S00005-Ja003E-PBCa': 'non_renal',\n",
       " 'S00068-Ja005E-PBCa': 'non_renal',\n",
       " 'S00109-Ja003E-PBCa': 'non_renal',\n",
       " 'S00007-Ja003E-PBCa': 'non_renal',\n",
       " 'S00045-Ja003E-PBCa': 'non_renal',\n",
       " 'S00041-Ja001E-PBCa': 'non_renal',\n",
       " 'G05078-Ja005E-PBCa': 'non_renal',\n",
       " 'S00048-Ja005E-PBCa': 'non_renal',\n",
       " 'G05171-Ja005E-PBCa': 'non_renal',\n",
       " 'S00037-Ja003E-PBCa': 'non_renal',\n",
       " 'S00042-Ja001E-PBCa': 'non_renal',\n",
       " 'S00097-Ja003E-PBCa': 'non_renal',\n",
       " 'S00033-Ja005E-PBCa': 'non_renal',\n",
       " 'S00064-Ja005E-PBCa': 'non_renal',\n",
       " 'S00095-Ja005E-PBCa': 'non_renal',\n",
       " 'S00008-Ja003E-PBCa': 'non_renal',\n",
       " 'S00003-Ja003E-PBCa': 'non_renal',\n",
       " 'S00148-Ja003E-PBCa': 'non_renal',\n",
       " 'S00045-Ja005E-PBCa': 'non_renal',\n",
       " 'S00060-Ja005E-PBCa': 'non_renal',\n",
       " 'S00134-Ja003E-PBCa': 'non_renal',\n",
       " 'S00129-Ja001E-PBCa': 'non_renal',\n",
       " 'S00094-Ja005E-PBCa': 'non_renal',\n",
       " 'S00113-Ja005E-PBCa': 'non_renal',\n",
       " 'S00050-Ja001E-PBCa': 'non_renal',\n",
       " 'G05077-Ja005E-PBCa': 'non_renal',\n",
       " 'S00067-Ja001E-PBCa': 'non_renal',\n",
       " 'S00063-Ja003E-PBCa': 'non_renal',\n",
       " 'S00081-Ja005E-PBCa': 'non_renal',\n",
       " 'S00106-Ja003E-PBCa': 'non_renal',\n",
       " 'S00049-Ja003E-PBCa': 'non_renal',\n",
       " 'G05145-Ja005E-PBCa': 'non_renal',\n",
       " 'S00024-Ja003E-PBCa': 'non_renal',\n",
       " 'S00109-Ja005E-PBCa': 'non_renal',\n",
       " 'S00077-Ja005E-PBCa': 'non_renal',\n",
       " 'S00114-Ja003E-PBCa': 'non_renal',\n",
       " 'S00142-Ja005E-PBCa': 'non_renal',\n",
       " 'S00052-Ja003E-PBCa': 'non_renal',\n",
       " 'G05105-Ja005E-PBCa': 'non_renal',\n",
       " 'S00054-Ja001E-PBCa': 'non_renal',\n",
       " 'S00069-Ja005E-PBCa': 'non_renal',\n",
       " 'S00124-Ja003E-PBCa': 'non_renal',\n",
       " 'S00126-Ja003E-PBCa': 'non_renal',\n",
       " 'S00099-Ja005E-PBCa': 'non_renal',\n",
       " 'S00081-Ja001E-PBCa': 'non_renal',\n",
       " 'G05073-Ja005E-PBCa': 'non_renal',\n",
       " 'S00096-Ja005E-PBCa': 'non_renal',\n",
       " 'S00059-Ja001E-PBCa': 'non_renal',\n",
       " 'S00124-Ja005E-PBCa': 'non_renal',\n",
       " 'S00033-Ja003E-PBCa': 'non_renal',\n",
       " 'S00066-Ja001E-PBCa': 'non_renal',\n",
       " 'S00053-Ja003E-PBCa': 'non_renal',\n",
       " 'S00030-Ja003E-PBCa': 'non_renal',\n",
       " 'S00045-Ja001E-PBCa': 'non_renal',\n",
       " 'S00082-Ja001E-PBCa': 'non_renal',\n",
       " 'S00072-Ja001E-PBCa': 'non_renal',\n",
       " 'S00076-Ja001E-PBCa': 'non_renal',\n",
       " 'G05112-Ja005E-PBCa': 'non_renal',\n",
       " 'S00065-Ja003E-PBCa': 'non_renal',\n",
       " 'S00048-Ja003E-PBCa': 'non_renal',\n",
       " 'S00002-Ja001E-PBCa': 'non_renal',\n",
       " 'S00057-Ja003E-PBCa': 'non_renal'}"
      ]
     },
     "execution_count": 27,
     "metadata": {},
     "output_type": "execute_result"
    }
   ],
   "source": [
    "new_dict=dict(zip(adata_subset.obs['sample_id'],adata_subset.obs['renal_status']))\n",
    "new_dict"
   ]
  },
  {
   "cell_type": "code",
   "execution_count": 28,
   "id": "assigned-serial",
   "metadata": {},
   "outputs": [],
   "source": [
    "df2=df.copy()"
   ]
  },
  {
   "cell_type": "code",
   "execution_count": 29,
   "id": "conditional-access",
   "metadata": {},
   "outputs": [],
   "source": [
    "df2['renal_status']=[new_dict[x] for x in df2.index]"
   ]
  },
  {
   "cell_type": "code",
   "execution_count": 30,
   "id": "selected-attraction",
   "metadata": {},
   "outputs": [
    {
     "data": {
      "text/html": [
       "<div>\n",
       "<style scoped>\n",
       "    .dataframe tbody tr th:only-of-type {\n",
       "        vertical-align: middle;\n",
       "    }\n",
       "\n",
       "    .dataframe tbody tr th {\n",
       "        vertical-align: top;\n",
       "    }\n",
       "\n",
       "    .dataframe thead th {\n",
       "        text-align: right;\n",
       "    }\n",
       "</style>\n",
       "<table border=\"1\" class=\"dataframe\">\n",
       "  <thead>\n",
       "    <tr style=\"text-align: right;\">\n",
       "      <th>celltypist</th>\n",
       "      <th>B_invar</th>\n",
       "      <th>B_n-sw_mem</th>\n",
       "      <th>B_n-sw_mem_IFN_stim</th>\n",
       "      <th>B_naive</th>\n",
       "      <th>B_naive_IFN_stim</th>\n",
       "      <th>B_sw_mem</th>\n",
       "      <th>Plasma_cells</th>\n",
       "      <th>Plasmablasts</th>\n",
       "      <th>renal_status</th>\n",
       "    </tr>\n",
       "    <tr>\n",
       "      <th>sample_id</th>\n",
       "      <th></th>\n",
       "      <th></th>\n",
       "      <th></th>\n",
       "      <th></th>\n",
       "      <th></th>\n",
       "      <th></th>\n",
       "      <th></th>\n",
       "      <th></th>\n",
       "      <th></th>\n",
       "    </tr>\n",
       "  </thead>\n",
       "  <tbody>\n",
       "    <tr>\n",
       "      <th>AP1</th>\n",
       "      <td>0.009174</td>\n",
       "      <td>0.041284</td>\n",
       "      <td>0.000000</td>\n",
       "      <td>0.655963</td>\n",
       "      <td>0.000000</td>\n",
       "      <td>0.082569</td>\n",
       "      <td>0.206422</td>\n",
       "      <td>0.004587</td>\n",
       "      <td>non_renal</td>\n",
       "    </tr>\n",
       "    <tr>\n",
       "      <th>AP2</th>\n",
       "      <td>0.047059</td>\n",
       "      <td>0.200000</td>\n",
       "      <td>0.000000</td>\n",
       "      <td>0.582353</td>\n",
       "      <td>0.000000</td>\n",
       "      <td>0.123529</td>\n",
       "      <td>0.041176</td>\n",
       "      <td>0.005882</td>\n",
       "      <td>non_renal</td>\n",
       "    </tr>\n",
       "    <tr>\n",
       "      <th>AP3</th>\n",
       "      <td>0.161597</td>\n",
       "      <td>0.125475</td>\n",
       "      <td>0.119772</td>\n",
       "      <td>0.441065</td>\n",
       "      <td>0.036122</td>\n",
       "      <td>0.062738</td>\n",
       "      <td>0.053232</td>\n",
       "      <td>0.000000</td>\n",
       "      <td>non_renal</td>\n",
       "    </tr>\n",
       "    <tr>\n",
       "      <th>AP4</th>\n",
       "      <td>0.009852</td>\n",
       "      <td>0.027915</td>\n",
       "      <td>0.000000</td>\n",
       "      <td>0.894910</td>\n",
       "      <td>0.000000</td>\n",
       "      <td>0.067323</td>\n",
       "      <td>0.000000</td>\n",
       "      <td>0.000000</td>\n",
       "      <td>non_renal</td>\n",
       "    </tr>\n",
       "    <tr>\n",
       "      <th>AP5</th>\n",
       "      <td>0.018856</td>\n",
       "      <td>0.018856</td>\n",
       "      <td>0.000000</td>\n",
       "      <td>0.754876</td>\n",
       "      <td>0.000650</td>\n",
       "      <td>0.056567</td>\n",
       "      <td>0.143693</td>\n",
       "      <td>0.006502</td>\n",
       "      <td>non_renal</td>\n",
       "    </tr>\n",
       "  </tbody>\n",
       "</table>\n",
       "</div>"
      ],
      "text/plain": [
       "celltypist   B_invar  B_n-sw_mem  B_n-sw_mem_IFN_stim   B_naive  \\\n",
       "sample_id                                                         \n",
       "AP1         0.009174    0.041284             0.000000  0.655963   \n",
       "AP2         0.047059    0.200000             0.000000  0.582353   \n",
       "AP3         0.161597    0.125475             0.119772  0.441065   \n",
       "AP4         0.009852    0.027915             0.000000  0.894910   \n",
       "AP5         0.018856    0.018856             0.000000  0.754876   \n",
       "\n",
       "celltypist  B_naive_IFN_stim  B_sw_mem  Plasma_cells  Plasmablasts  \\\n",
       "sample_id                                                            \n",
       "AP1                 0.000000  0.082569      0.206422      0.004587   \n",
       "AP2                 0.000000  0.123529      0.041176      0.005882   \n",
       "AP3                 0.036122  0.062738      0.053232      0.000000   \n",
       "AP4                 0.000000  0.067323      0.000000      0.000000   \n",
       "AP5                 0.000650  0.056567      0.143693      0.006502   \n",
       "\n",
       "celltypist renal_status  \n",
       "sample_id                \n",
       "AP1           non_renal  \n",
       "AP2           non_renal  \n",
       "AP3           non_renal  \n",
       "AP4           non_renal  \n",
       "AP5           non_renal  "
      ]
     },
     "execution_count": 30,
     "metadata": {},
     "output_type": "execute_result"
    }
   ],
   "source": [
    "df2.head()"
   ]
  },
  {
   "cell_type": "code",
   "execution_count": 31,
   "id": "incredible-person",
   "metadata": {},
   "outputs": [],
   "source": [
    "subset_renal = df2[df2['renal_status']=='renal'].copy()"
   ]
  },
  {
   "cell_type": "code",
   "execution_count": 32,
   "id": "toxic-extension",
   "metadata": {},
   "outputs": [],
   "source": [
    "subset_non_renal = df2[df2['renal_status']=='non_renal'].copy()"
   ]
  },
  {
   "cell_type": "code",
   "execution_count": 33,
   "id": "amended-drain",
   "metadata": {},
   "outputs": [],
   "source": [
    "subset_renal.drop('renal_status',axis=1, inplace=True)"
   ]
  },
  {
   "cell_type": "code",
   "execution_count": 34,
   "id": "demographic-southwest",
   "metadata": {},
   "outputs": [
    {
     "data": {
      "text/html": [
       "<div>\n",
       "<style scoped>\n",
       "    .dataframe tbody tr th:only-of-type {\n",
       "        vertical-align: middle;\n",
       "    }\n",
       "\n",
       "    .dataframe tbody tr th {\n",
       "        vertical-align: top;\n",
       "    }\n",
       "\n",
       "    .dataframe thead th {\n",
       "        text-align: right;\n",
       "    }\n",
       "</style>\n",
       "<table border=\"1\" class=\"dataframe\">\n",
       "  <thead>\n",
       "    <tr style=\"text-align: right;\">\n",
       "      <th>celltypist</th>\n",
       "      <th>B_invar</th>\n",
       "      <th>B_n-sw_mem</th>\n",
       "      <th>B_n-sw_mem_IFN_stim</th>\n",
       "      <th>B_naive</th>\n",
       "      <th>B_naive_IFN_stim</th>\n",
       "      <th>B_sw_mem</th>\n",
       "      <th>Plasma_cells</th>\n",
       "      <th>Plasmablasts</th>\n",
       "    </tr>\n",
       "    <tr>\n",
       "      <th>sample_id</th>\n",
       "      <th></th>\n",
       "      <th></th>\n",
       "      <th></th>\n",
       "      <th></th>\n",
       "      <th></th>\n",
       "      <th></th>\n",
       "      <th></th>\n",
       "      <th></th>\n",
       "    </tr>\n",
       "  </thead>\n",
       "  <tbody>\n",
       "    <tr>\n",
       "      <th>C20_1004</th>\n",
       "      <td>0.005658</td>\n",
       "      <td>0.018388</td>\n",
       "      <td>0.001414</td>\n",
       "      <td>0.700141</td>\n",
       "      <td>0.072136</td>\n",
       "      <td>0.053748</td>\n",
       "      <td>0.138614</td>\n",
       "      <td>0.009901</td>\n",
       "    </tr>\n",
       "    <tr>\n",
       "      <th>C20_1404</th>\n",
       "      <td>0.008610</td>\n",
       "      <td>0.027675</td>\n",
       "      <td>0.011070</td>\n",
       "      <td>0.575646</td>\n",
       "      <td>0.231857</td>\n",
       "      <td>0.097786</td>\n",
       "      <td>0.046125</td>\n",
       "      <td>0.001230</td>\n",
       "    </tr>\n",
       "    <tr>\n",
       "      <th>C20_1604</th>\n",
       "      <td>0.006000</td>\n",
       "      <td>0.030667</td>\n",
       "      <td>0.005333</td>\n",
       "      <td>0.778000</td>\n",
       "      <td>0.016667</td>\n",
       "      <td>0.097333</td>\n",
       "      <td>0.064000</td>\n",
       "      <td>0.002000</td>\n",
       "    </tr>\n",
       "    <tr>\n",
       "      <th>C21_1004</th>\n",
       "      <td>0.026971</td>\n",
       "      <td>0.058091</td>\n",
       "      <td>0.000000</td>\n",
       "      <td>0.508299</td>\n",
       "      <td>0.018672</td>\n",
       "      <td>0.172199</td>\n",
       "      <td>0.195021</td>\n",
       "      <td>0.020747</td>\n",
       "    </tr>\n",
       "    <tr>\n",
       "      <th>C21_1704</th>\n",
       "      <td>0.015060</td>\n",
       "      <td>0.042169</td>\n",
       "      <td>0.001506</td>\n",
       "      <td>0.212349</td>\n",
       "      <td>0.004518</td>\n",
       "      <td>0.109940</td>\n",
       "      <td>0.573795</td>\n",
       "      <td>0.040663</td>\n",
       "    </tr>\n",
       "  </tbody>\n",
       "</table>\n",
       "</div>"
      ],
      "text/plain": [
       "celltypist   B_invar  B_n-sw_mem  B_n-sw_mem_IFN_stim   B_naive  \\\n",
       "sample_id                                                         \n",
       "C20_1004    0.005658    0.018388             0.001414  0.700141   \n",
       "C20_1404    0.008610    0.027675             0.011070  0.575646   \n",
       "C20_1604    0.006000    0.030667             0.005333  0.778000   \n",
       "C21_1004    0.026971    0.058091             0.000000  0.508299   \n",
       "C21_1704    0.015060    0.042169             0.001506  0.212349   \n",
       "\n",
       "celltypist  B_naive_IFN_stim  B_sw_mem  Plasma_cells  Plasmablasts  \n",
       "sample_id                                                           \n",
       "C20_1004            0.072136  0.053748      0.138614      0.009901  \n",
       "C20_1404            0.231857  0.097786      0.046125      0.001230  \n",
       "C20_1604            0.016667  0.097333      0.064000      0.002000  \n",
       "C21_1004            0.018672  0.172199      0.195021      0.020747  \n",
       "C21_1704            0.004518  0.109940      0.573795      0.040663  "
      ]
     },
     "execution_count": 34,
     "metadata": {},
     "output_type": "execute_result"
    }
   ],
   "source": [
    "subset_renal.head()"
   ]
  },
  {
   "cell_type": "code",
   "execution_count": 35,
   "id": "capital-cocktail",
   "metadata": {},
   "outputs": [
    {
     "data": {
      "text/html": [
       "<div>\n",
       "<style scoped>\n",
       "    .dataframe tbody tr th:only-of-type {\n",
       "        vertical-align: middle;\n",
       "    }\n",
       "\n",
       "    .dataframe tbody tr th {\n",
       "        vertical-align: top;\n",
       "    }\n",
       "\n",
       "    .dataframe thead th {\n",
       "        text-align: right;\n",
       "    }\n",
       "</style>\n",
       "<table border=\"1\" class=\"dataframe\">\n",
       "  <thead>\n",
       "    <tr style=\"text-align: right;\">\n",
       "      <th>celltypist</th>\n",
       "      <th>B_invar</th>\n",
       "      <th>B_n-sw_mem</th>\n",
       "      <th>B_n-sw_mem_IFN_stim</th>\n",
       "      <th>B_naive</th>\n",
       "      <th>B_naive_IFN_stim</th>\n",
       "      <th>B_sw_mem</th>\n",
       "      <th>Plasma_cells</th>\n",
       "      <th>Plasmablasts</th>\n",
       "    </tr>\n",
       "    <tr>\n",
       "      <th>sample_id</th>\n",
       "      <th></th>\n",
       "      <th></th>\n",
       "      <th></th>\n",
       "      <th></th>\n",
       "      <th></th>\n",
       "      <th></th>\n",
       "      <th></th>\n",
       "      <th></th>\n",
       "    </tr>\n",
       "  </thead>\n",
       "  <tbody>\n",
       "    <tr>\n",
       "      <th>AP1</th>\n",
       "      <td>0.009174</td>\n",
       "      <td>0.041284</td>\n",
       "      <td>0.000000</td>\n",
       "      <td>0.655963</td>\n",
       "      <td>0.000000</td>\n",
       "      <td>0.082569</td>\n",
       "      <td>0.206422</td>\n",
       "      <td>0.004587</td>\n",
       "    </tr>\n",
       "    <tr>\n",
       "      <th>AP2</th>\n",
       "      <td>0.047059</td>\n",
       "      <td>0.200000</td>\n",
       "      <td>0.000000</td>\n",
       "      <td>0.582353</td>\n",
       "      <td>0.000000</td>\n",
       "      <td>0.123529</td>\n",
       "      <td>0.041176</td>\n",
       "      <td>0.005882</td>\n",
       "    </tr>\n",
       "    <tr>\n",
       "      <th>AP3</th>\n",
       "      <td>0.161597</td>\n",
       "      <td>0.125475</td>\n",
       "      <td>0.119772</td>\n",
       "      <td>0.441065</td>\n",
       "      <td>0.036122</td>\n",
       "      <td>0.062738</td>\n",
       "      <td>0.053232</td>\n",
       "      <td>0.000000</td>\n",
       "    </tr>\n",
       "    <tr>\n",
       "      <th>AP4</th>\n",
       "      <td>0.009852</td>\n",
       "      <td>0.027915</td>\n",
       "      <td>0.000000</td>\n",
       "      <td>0.894910</td>\n",
       "      <td>0.000000</td>\n",
       "      <td>0.067323</td>\n",
       "      <td>0.000000</td>\n",
       "      <td>0.000000</td>\n",
       "    </tr>\n",
       "    <tr>\n",
       "      <th>AP5</th>\n",
       "      <td>0.018856</td>\n",
       "      <td>0.018856</td>\n",
       "      <td>0.000000</td>\n",
       "      <td>0.754876</td>\n",
       "      <td>0.000650</td>\n",
       "      <td>0.056567</td>\n",
       "      <td>0.143693</td>\n",
       "      <td>0.006502</td>\n",
       "    </tr>\n",
       "  </tbody>\n",
       "</table>\n",
       "</div>"
      ],
      "text/plain": [
       "celltypist   B_invar  B_n-sw_mem  B_n-sw_mem_IFN_stim   B_naive  \\\n",
       "sample_id                                                         \n",
       "AP1         0.009174    0.041284             0.000000  0.655963   \n",
       "AP2         0.047059    0.200000             0.000000  0.582353   \n",
       "AP3         0.161597    0.125475             0.119772  0.441065   \n",
       "AP4         0.009852    0.027915             0.000000  0.894910   \n",
       "AP5         0.018856    0.018856             0.000000  0.754876   \n",
       "\n",
       "celltypist  B_naive_IFN_stim  B_sw_mem  Plasma_cells  Plasmablasts  \n",
       "sample_id                                                           \n",
       "AP1                 0.000000  0.082569      0.206422      0.004587  \n",
       "AP2                 0.000000  0.123529      0.041176      0.005882  \n",
       "AP3                 0.036122  0.062738      0.053232      0.000000  \n",
       "AP4                 0.000000  0.067323      0.000000      0.000000  \n",
       "AP5                 0.000650  0.056567      0.143693      0.006502  "
      ]
     },
     "execution_count": 35,
     "metadata": {},
     "output_type": "execute_result"
    }
   ],
   "source": [
    "subset_non_renal.drop('renal_status',axis=1, inplace=True)\n",
    "subset_non_renal.head()"
   ]
  },
  {
   "cell_type": "code",
   "execution_count": 36,
   "id": "received-bones",
   "metadata": {},
   "outputs": [
    {
     "data": {
      "text/html": [
       "<div>\n",
       "<style scoped>\n",
       "    .dataframe tbody tr th:only-of-type {\n",
       "        vertical-align: middle;\n",
       "    }\n",
       "\n",
       "    .dataframe tbody tr th {\n",
       "        vertical-align: top;\n",
       "    }\n",
       "\n",
       "    .dataframe thead th {\n",
       "        text-align: right;\n",
       "    }\n",
       "</style>\n",
       "<table border=\"1\" class=\"dataframe\">\n",
       "  <thead>\n",
       "    <tr style=\"text-align: right;\">\n",
       "      <th>celltypist</th>\n",
       "      <th>B_invar</th>\n",
       "      <th>B_n-sw_mem</th>\n",
       "      <th>B_n-sw_mem_IFN_stim</th>\n",
       "      <th>B_naive</th>\n",
       "      <th>B_naive_IFN_stim</th>\n",
       "      <th>B_sw_mem</th>\n",
       "      <th>Plasma_cells</th>\n",
       "      <th>Plasmablasts</th>\n",
       "    </tr>\n",
       "  </thead>\n",
       "  <tbody>\n",
       "    <tr>\n",
       "      <th>non_ESKD</th>\n",
       "      <td>0.013065</td>\n",
       "      <td>0.026823</td>\n",
       "      <td>0.000868</td>\n",
       "      <td>0.770022</td>\n",
       "      <td>0.003404</td>\n",
       "      <td>0.063535</td>\n",
       "      <td>0.114176</td>\n",
       "      <td>0.008108</td>\n",
       "    </tr>\n",
       "    <tr>\n",
       "      <th>ESKD</th>\n",
       "      <td>0.041980</td>\n",
       "      <td>0.112263</td>\n",
       "      <td>0.004235</td>\n",
       "      <td>0.464808</td>\n",
       "      <td>0.030895</td>\n",
       "      <td>0.189939</td>\n",
       "      <td>0.148869</td>\n",
       "      <td>0.007011</td>\n",
       "    </tr>\n",
       "  </tbody>\n",
       "</table>\n",
       "</div>"
      ],
      "text/plain": [
       "celltypist   B_invar  B_n-sw_mem  B_n-sw_mem_IFN_stim   B_naive  \\\n",
       "non_ESKD    0.013065    0.026823             0.000868  0.770022   \n",
       "ESKD        0.041980    0.112263             0.004235  0.464808   \n",
       "\n",
       "celltypist  B_naive_IFN_stim  B_sw_mem  Plasma_cells  Plasmablasts  \n",
       "non_ESKD            0.003404  0.063535      0.114176      0.008108  \n",
       "ESKD                0.030895  0.189939      0.148869      0.007011  "
      ]
     },
     "execution_count": 36,
     "metadata": {},
     "output_type": "execute_result"
    }
   ],
   "source": [
    "res1 = subset_renal.mean(axis = 0)\n",
    "res2 = subset_non_renal.mean(axis = 0)\n",
    "res = pd.DataFrame([res2,res1], index = ['non_ESKD', 'ESKD'])\n",
    "res"
   ]
  },
  {
   "cell_type": "code",
   "execution_count": 37,
   "id": "biblical-prediction",
   "metadata": {},
   "outputs": [
    {
     "data": {
      "text/plain": [
       "Index(['B_invar', 'B_n-sw_mem', 'B_n-sw_mem_IFN_stim', 'B_naive',\n",
       "       'B_naive_IFN_stim', 'B_sw_mem', 'Plasma_cells', 'Plasmablasts'],\n",
       "      dtype='object', name='celltypist')"
      ]
     },
     "execution_count": 37,
     "metadata": {},
     "output_type": "execute_result"
    }
   ],
   "source": [
    "res.columns"
   ]
  },
  {
   "cell_type": "code",
   "execution_count": 38,
   "id": "freelance-honey",
   "metadata": {},
   "outputs": [],
   "source": [
    "if compartment == 'T':\n",
    "    res1=res[['ILC', 'MAIT', 'NK', 'NK_CD56','NKT',  'NK_IFN_stim',\n",
    "       'T_CD4_CTL', 'T_CD4_helper', 'T_CD4_naive','Cycling', 'T_CD4_naive_IFN_stim',\n",
    "       'T_CD8_CM', 'T_CD8_CTL', 'T_CD8_CTL_IFN_stim', 'T_CD8_EM', 'T_CD8_EMRA',\n",
    "       'T_CD8_naive', 'T_gd', 'T_reg']]\n",
    "elif compartment == 'M':\n",
    "     res1 =res[[ 'Monocyte_CD14', 'Monocyte_CD14_IFN_stim', 'Monocyte_CD14_IL6',\n",
    "       'Monocyte_CD16', 'Monocyte_CD16+C1', 'Monocyte_CD16_IFN_stim','cDC1', 'cDC2', 'pDC',\n",
    "       'Platelets', 'RBC', 'HPC',]]\n",
    "else:\n",
    "    res1 =res[[ 'Plasma_cells', 'Plasmablasts','B_invar','B_naive',\n",
    "       'B_naive_IFN_stim', 'B_n-sw_mem', 'B_n-sw_mem_IFN_stim',  'B_sw_mem',]]"
   ]
  },
  {
   "cell_type": "code",
   "execution_count": 39,
   "id": "coordinated-chester",
   "metadata": {
    "tags": []
   },
   "outputs": [],
   "source": [
    "if compartment == 'T':\n",
    "    mycolor =['#FFF7BC',\n",
    "'#FEE391',\n",
    "'#FEC44F',\n",
    "'#FE9929',\n",
    "'#EC7014',\n",
    "'#ec8e14',\n",
    "'#CC4C02',\n",
    "'#993404',\n",
    "'#662506',\n",
    "'#FCBBA1',\n",
    "'#fcc7a1',\n",
    "'#fcd3a1',\n",
    "'#FC9272',\n",
    "'#fca972',\n",
    "'#EF3B2C',\n",
    "'#FB6A4A',\n",
    "'#CB181D',\n",
    "'#A50F15',\n",
    "'#67000D']\n",
    "elif compartment == 'M':\n",
    "    mycolor=['#C6DBEF',\n",
    "'#6BAED6',\n",
    "'#4292C6',\n",
    "'#08519C',\n",
    "'#08306B',\n",
    "'olivedrab',\n",
    "'chartreuse',\n",
    "'#74C476',\n",
    "'palegreen',\n",
    "'#238B45',\n",
    "'limegreen',\n",
    "'#00441B']\n",
    "    \n",
    "else:\n",
    "    mycolor =['navy',\n",
    "      'cyan',\n",
    "       'darkcyan',\n",
    "        'aquamarine',\n",
    "        '#D8DAEB',\n",
    "        '#B2ABD2',\n",
    "        '#8073AC',\n",
    "       '#542788']"
   ]
  },
  {
   "cell_type": "code",
   "execution_count": 40,
   "id": "standing-investigation",
   "metadata": {},
   "outputs": [
    {
     "data": {
      "image/png": "[encoded data removed]",
      "text/plain": [
       "<Figure size 360x720 with 1 Axes>"
      ]
     },
     "metadata": {
      "image/png": {
       "height": 701,
       "width": 673
      },
      "needs_background": "light"
     },
     "output_type": "display_data"
    }
   ],
   "source": [
    "import matplotlib.pyplot as plt\n",
    "res1.plot.bar(stacked = True,color=mycolor,figsize=(3,6))\n",
    "lgd=plt.legend(bbox_to_anchor = (1,1), frameon = False)\n",
    "plt.grid(False)\n",
    "plt.ylabel('Proportion')\n",
    "if compartment == 'B':\n",
    "    plt.savefig('B_proportion.pdf',bbox_extra_artists=(lgd,), bbox_inches='tight')\n",
    "elif compartment == 'T':\n",
    "    plt.savefig('T_proportion.pdf',bbox_extra_artists=(lgd,), bbox_inches='tight')\n",
    "    \n",
    "elif compartment == 'M':\n",
    "    plt.savefig('M_proportion.pdf',bbox_extra_artists=(lgd,), bbox_inches='tight')"
   ]
  },
  {
   "cell_type": "code",
   "execution_count": 41,
   "id": "collectible-giant",
   "metadata": {},
   "outputs": [
    {
     "name": "stdout",
     "output_type": "stream",
     "text": [
      "B_invar\n",
      "B_invar\n",
      "RanksumsResult(statistic=8.189634666268248, pvalue=2.620203041361921e-16)\n",
      "B_n-sw_mem\n",
      "B_n-sw_mem\n",
      "RanksumsResult(statistic=8.424341733599677, pvalue=3.627840087359024e-17)\n",
      "B_n-sw_mem_IFN_stim\n",
      "B_n-sw_mem_IFN_stim\n",
      "RanksumsResult(statistic=3.2134584897599314, pvalue=0.001311467535258636)\n",
      "B_naive\n",
      "B_naive\n",
      "RanksumsResult(statistic=-8.58854009346117, pvalue=8.808133520843817e-18)\n",
      "B_naive_IFN_stim\n",
      "B_naive_IFN_stim\n",
      "RanksumsResult(statistic=3.4752099928332534, pvalue=0.0005104535928102861)\n",
      "B_sw_mem\n",
      "B_sw_mem\n",
      "RanksumsResult(statistic=7.669995150941874, pvalue=1.720028521860529e-14)\n",
      "Plasma_cells\n",
      "Plasma_cells\n",
      "RanksumsResult(statistic=0.9282036695699712, pvalue=0.3533019313117365)\n",
      "Plasmablasts\n",
      "Plasmablasts\n",
      "RanksumsResult(statistic=-1.847714484794334, pvalue=0.06464365742601318)\n"
     ]
    },
    {
     "data": {
      "text/plain": [
       "[2.620203041361921e-16,\n",
       " 3.627840087359024e-17,\n",
       " 0.001311467535258636,\n",
       " 8.808133520843817e-18,\n",
       " 0.0005104535928102861,\n",
       " 1.720028521860529e-14,\n",
       " 0.3533019313117365,\n",
       " 0.06464365742601318]"
      ]
     },
     "execution_count": 41,
     "metadata": {},
     "output_type": "execute_result"
    }
   ],
   "source": [
    "from scipy.stats import ranksums\n",
    "pval =[]\n",
    "for i in range (0, len(subset_renal.columns)):\n",
    "    print(subset_renal.columns[i])\n",
    "    print (subset_non_renal.columns[i])\n",
    "    print(ranksums(subset_renal[subset_renal.columns[i]], subset_non_renal[subset_non_renal.columns[i]]))\n",
    "    p = ranksums(subset_renal[subset_renal.columns[i]], subset_non_renal[subset_non_renal.columns[i]])\n",
    "    pval.append(p[1])\n",
    "pval"
   ]
  },
  {
   "cell_type": "code",
   "execution_count": 42,
   "id": "frequent-sixth",
   "metadata": {},
   "outputs": [
    {
     "name": "stdout",
     "output_type": "stream",
     "text": [
      "[1] 6.987208e-16 1.451136e-16 1.748623e-03 7.046507e-17 8.167257e-04\n",
      "[6] 3.440057e-14 3.533019e-01 7.387847e-02\n",
      "\n"
     ]
    }
   ],
   "source": [
    "from rpy2.robjects.packages import importr\n",
    "from rpy2.robjects.vectors import FloatVector\n",
    "\n",
    "stats = importr('stats')\n",
    "pvalue_list=pval\n",
    "p_adjust = stats.p_adjust(FloatVector(pvalue_list), method = 'fdr')\n",
    "print(p_adjust)\n"
   ]
  },
  {
   "cell_type": "code",
   "execution_count": null,
   "id": "naughty-playing",
   "metadata": {},
   "outputs": [],
   "source": [
    "import seaborn as sns"
   ]
  },
  {
   "cell_type": "code",
   "execution_count": null,
   "id": "golden-flooring",
   "metadata": {},
   "outputs": [],
   "source": [
    "df2.head()"
   ]
  },
  {
   "cell_type": "code",
   "execution_count": null,
   "id": "roman-terrain",
   "metadata": {},
   "outputs": [],
   "source": [
    "df3 = df2.melt(ignore_index =False, id_vars = 'renal_status')\n",
    "df3"
   ]
  },
  {
   "cell_type": "code",
   "execution_count": null,
   "id": "embedded-dakota",
   "metadata": {},
   "outputs": [],
   "source": [
    "df3.rename(columns={\"value\": \"proportion\"},inplace=True)\n",
    "df3"
   ]
  },
  {
   "cell_type": "code",
   "execution_count": null,
   "id": "revised-control",
   "metadata": {},
   "outputs": [],
   "source": [
    "sns.boxplot(data = df3, x = 'celltypist', y = 'proportion', hue = 'renal_status')"
   ]
  },
  {
   "cell_type": "code",
   "execution_count": null,
   "id": "fluid-separate",
   "metadata": {
    "tags": []
   },
   "outputs": [],
   "source": [
    "from matplotlib.pyplot import figure\n",
    "color =['#FB00B2',\n",
    "'#73B247']\n",
    "figure(figsize=(14, 6), dpi=80)\n",
    "ax = sns.swarmplot(data = df3, palette=color,x = 'celltypist', y = 'proportion', hue = 'renal_status', dodge=True)\n",
    "sns.boxplot(data = df3, palette=color,x = 'celltypist', y = 'proportion', hue = 'renal_status', ax = ax)\n",
    "plt.legend(bbox_to_anchor = (1,1), frameon = False)\n",
    "plt.xticks(rotation=90)\n",
    "plt.grid(False)\n",
    "plt.tight_layout()\n",
    "#plt.savefig('/home/jovyan/scripts/renal_covid_19/renal_vs_non_renal/figures/Mcell_renal_non_renal.pdf')"
   ]
  },
  {
   "cell_type": "code",
   "execution_count": null,
   "id": "arbitrary-ireland",
   "metadata": {},
   "outputs": [],
   "source": []
  }
 ],
 "metadata": {
  "kernelspec": {
   "display_name": "Py_env2",
   "language": "python",
   "name": "py_env2"
  },
  "language_info": {
   "codemirror_mode": {
    "name": "ipython",
    "version": 3
   },
   "file_extension": ".py",
   "mimetype": "text/x-python",
   "name": "python",
   "nbconvert_exporter": "python",
   "pygments_lexer": "ipython3",
   "version": "3.8.13"
  }
 },
 "nbformat": 4,
 "nbformat_minor": 5
}
