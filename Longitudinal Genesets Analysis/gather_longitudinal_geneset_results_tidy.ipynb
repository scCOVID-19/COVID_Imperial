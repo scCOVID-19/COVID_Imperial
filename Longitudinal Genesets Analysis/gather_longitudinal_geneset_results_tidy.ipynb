{
 "cells": [
  {
   "cell_type": "code",
   "execution_count": 2,
   "metadata": {},
   "outputs": [],
   "source": [
    "suppressPackageStartupMessages(library(Seurat))\n",
    "suppressPackageStartupMessages(library(scran))\n",
    "suppressPackageStartupMessages(library(scater))\n",
    "suppressPackageStartupMessages(library(emmeans))\n",
    "suppressPackageStartupMessages(library(ggplot2))\n",
    "suppressPackageStartupMessages(library(ggpubr))\n",
    "suppressPackageStartupMessages(library(lmerTest))\n",
    "suppressPackageStartupMessages(library(msigdbr))\n",
    "suppressPackageStartupMessages(library(dplyr))\n",
    "suppressPackageStartupMessages(library(data.table))\n",
    "setwd(\"/rds/general/user/emacdona/projects/covid19-transcriptome/live/sc_rnaseq/longitudinal_geneset/\")"
   ]
  },
  {
   "cell_type": "code",
   "execution_count": 2,
   "metadata": {},
   "outputs": [],
   "source": [
    "db<-c(\"hallmark\",\"KEGG\",\"Reactome\")\n",
    "model<-c(\"combined\",\"wave_1\",\"wave_2\",\"vaccine_wave_2\",\"vaccine_wave_2_mild_moderate_only\")\n",
    "cell_type<-c(\n",
    "        \"monocyte\",\n",
    "    \"T_reg\",\n",
    "    \"DC\",\n",
    "    \"T_CD4\",\n",
    "    \"NK\",\n",
    "    \"T_CD8\",\n",
    "    \"RBC\",\n",
    "    \"B\",\n",
    "    \"MAIT\",\n",
    "    \"T_g_d\",\n",
    "    \"B_ASC\",\n",
    "    \"Platelet\",\n",
    "    \"HSPC\",\n",
    "    \"CD14mono\",\n",
    "    \"CD16mono\",\n",
    "    \"pDC\",\n",
    "    \"T_CD4_Naive\",\n",
    "    \"NK_2\",\n",
    "    \"T_CD4_Helper\",\n",
    "    \"T_CD8_CTL\",\n",
    "    \"Int.mono\",\n",
    "    \"T_CD4_CTL\",\n",
    "    \"RBC_2\",\n",
    "    \"B_ASC_dividing\",\n",
    "    \"B_switched_mem\",\n",
    "    \"NK_CD56_bright\",\n",
    "    \"T_CD8_Naive\",\n",
    "    \"DC2\",\n",
    "    \"B_naive\",\n",
    "    \"NKT\",\n",
    "    \"T_CD8_Mem\",\n",
    "    \"B_ASC_IgA\",\n",
    "    \"Platelet_2\",\n",
    "    \"HSPC_2\",\n",
    "    \"B_ASC_IgM\",\n",
    "    \"B_non-switched_mem\",\n",
    "    \"DC3\",\n",
    "    \"B_ASC_IgG\",\n",
    "    \"DC1\",\n",
    "    \"B_CD11c\",\n",
    "    \"T_CD8_EMRA\",\n",
    "    \"ASDC\",\n",
    "    \"B_ASC_other\"\n",
    "    )"
   ]
  },
  {
   "cell_type": "code",
   "execution_count": 3,
   "metadata": {},
   "outputs": [],
   "source": [
    "input<-data.frame()\n",
    "\n",
    "for(d in db){\n",
    "    for(m in model){\n",
    "        for(cell in cell_type){\n",
    "            input<-rbind(input,data.frame(db=d,model=m,cell_type=cell))\n",
    "        }\n",
    "    }\n",
    "}"
   ]
  },
  {
   "cell_type": "code",
   "execution_count": 4,
   "metadata": {},
   "outputs": [
    {
     "data": {
      "text/html": [
       "<table class=\"dataframe\">\n",
       "<caption>A data.frame: 6 × 3</caption>\n",
       "<thead>\n",
       "\t<tr><th></th><th scope=col>db</th><th scope=col>model</th><th scope=col>cell_type</th></tr>\n",
       "\t<tr><th></th><th scope=col>&lt;chr&gt;</th><th scope=col>&lt;chr&gt;</th><th scope=col>&lt;chr&gt;</th></tr>\n",
       "</thead>\n",
       "<tbody>\n",
       "\t<tr><th scope=row>1</th><td>hallmark</td><td>combined</td><td>monocyte</td></tr>\n",
       "\t<tr><th scope=row>2</th><td>hallmark</td><td>combined</td><td>T_reg   </td></tr>\n",
       "\t<tr><th scope=row>3</th><td>hallmark</td><td>combined</td><td>DC      </td></tr>\n",
       "\t<tr><th scope=row>4</th><td>hallmark</td><td>combined</td><td>T_CD4   </td></tr>\n",
       "\t<tr><th scope=row>5</th><td>hallmark</td><td>combined</td><td>NK      </td></tr>\n",
       "\t<tr><th scope=row>6</th><td>hallmark</td><td>combined</td><td>T_CD8   </td></tr>\n",
       "</tbody>\n",
       "</table>\n"
      ],
      "text/latex": [
       "A data.frame: 6 × 3\n",
       "\\begin{tabular}{r|lll}\n",
       "  & db & model & cell\\_type\\\\\n",
       "  & <chr> & <chr> & <chr>\\\\\n",
       "\\hline\n",
       "\t1 & hallmark & combined & monocyte\\\\\n",
       "\t2 & hallmark & combined & T\\_reg   \\\\\n",
       "\t3 & hallmark & combined & DC      \\\\\n",
       "\t4 & hallmark & combined & T\\_CD4   \\\\\n",
       "\t5 & hallmark & combined & NK      \\\\\n",
       "\t6 & hallmark & combined & T\\_CD8   \\\\\n",
       "\\end{tabular}\n"
      ],
      "text/markdown": [
       "\n",
       "A data.frame: 6 × 3\n",
       "\n",
       "| <!--/--> | db &lt;chr&gt; | model &lt;chr&gt; | cell_type &lt;chr&gt; |\n",
       "|---|---|---|---|\n",
       "| 1 | hallmark | combined | monocyte |\n",
       "| 2 | hallmark | combined | T_reg    |\n",
       "| 3 | hallmark | combined | DC       |\n",
       "| 4 | hallmark | combined | T_CD4    |\n",
       "| 5 | hallmark | combined | NK       |\n",
       "| 6 | hallmark | combined | T_CD8    |\n",
       "\n"
      ],
      "text/plain": [
       "  db       model    cell_type\n",
       "1 hallmark combined monocyte \n",
       "2 hallmark combined T_reg    \n",
       "3 hallmark combined DC       \n",
       "4 hallmark combined T_CD4    \n",
       "5 hallmark combined NK       \n",
       "6 hallmark combined T_CD8    "
      ]
     },
     "metadata": {},
     "output_type": "display_data"
    },
    {
     "data": {
      "text/html": [
       "<style>\n",
       ".list-inline {list-style: none; margin:0; padding: 0}\n",
       ".list-inline>li {display: inline-block}\n",
       ".list-inline>li:not(:last-child)::after {content: \"\\00b7\"; padding: 0 .5ex}\n",
       "</style>\n",
       "<ol class=list-inline><li>645</li><li>3</li></ol>\n"
      ],
      "text/latex": [
       "\\begin{enumerate*}\n",
       "\\item 645\n",
       "\\item 3\n",
       "\\end{enumerate*}\n"
      ],
      "text/markdown": [
       "1. 645\n",
       "2. 3\n",
       "\n",
       "\n"
      ],
      "text/plain": [
       "[1] 645   3"
      ]
     },
     "metadata": {},
     "output_type": "display_data"
    }
   ],
   "source": [
    "head(input)\n",
    "dim(input)"
   ]
  },
  {
   "cell_type": "code",
   "execution_count": 6,
   "metadata": {},
   "outputs": [
    {
     "name": "stdout",
     "output_type": "stream",
     "text": [
      "[1] \"hallmark_combined_monocyte_sig.tsv\"\n",
      "[1] \"hallmark_combined_T_reg_sig.tsv\"\n",
      "[1] \"hallmark_combined_DC_sig.tsv\"\n",
      "[1] \"hallmark_combined_T_CD4_sig.tsv\"\n",
      "[1] \"hallmark_combined_NK_sig.tsv\"\n",
      "[1] \"hallmark_combined_T_CD8_sig.tsv\"\n",
      "[1] \"hallmark_combined_RBC_sig.tsv\"\n",
      "[1] \"hallmark_combined_B_sig.tsv\"\n",
      "[1] \"hallmark_combined_MAIT_sig.tsv\"\n",
      "[1] \"hallmark_combined_T_g_d_sig.tsv\"\n",
      "[1] \"hallmark_combined_B_ASC_sig.tsv\"\n",
      "[1] \"hallmark_combined_Platelet_sig.tsv\"\n",
      "[1] \"hallmark_combined_HSPC_sig.tsv\"\n",
      "[1] \"hallmark_combined_CD14mono_sig.tsv\"\n",
      "[1] \"hallmark_combined_CD16mono_sig.tsv\"\n",
      "[1] \"hallmark_combined_pDC_sig.tsv\"\n",
      "[1] \"hallmark_combined_T_CD4_Naive_sig.tsv\"\n",
      "[1] \"hallmark_combined_NK_2_sig.tsv\"\n",
      "[1] \"hallmark_combined_T_CD4_Helper_sig.tsv\"\n",
      "[1] \"hallmark_combined_T_CD8_CTL_sig.tsv\"\n",
      "[1] \"hallmark_combined_Int.mono_sig.tsv\"\n",
      "[1] \"hallmark_combined_T_CD4_CTL_sig.tsv\"\n",
      "[1] \"hallmark_combined_RBC_2_sig.tsv\"\n",
      "[1] \"hallmark_combined_B_ASC_dividing_sig.tsv\"\n",
      "[1] \"hallmark_combined_B_switched_mem_sig.tsv\"\n",
      "[1] \"hallmark_combined_NK_CD56_bright_sig.tsv\"\n",
      "[1] \"hallmark_combined_T_CD8_Naive_sig.tsv\"\n",
      "[1] \"hallmark_combined_DC2_sig.tsv\"\n",
      "[1] \"hallmark_combined_B_naive_sig.tsv\"\n",
      "[1] \"hallmark_combined_NKT_sig.tsv\"\n",
      "[1] \"hallmark_combined_T_CD8_Mem_sig.tsv\"\n",
      "[1] \"hallmark_combined_B_ASC_IgA_sig.tsv\"\n",
      "[1] \"hallmark_combined_Platelet_2_sig.tsv\"\n",
      "[1] \"hallmark_combined_HSPC_2_sig.tsv\"\n",
      "[1] \"hallmark_combined_B_ASC_IgM_sig.tsv\"\n",
      "[1] \"hallmark_combined_B_non-switched_mem_sig.tsv\"\n",
      "[1] \"hallmark_combined_DC3_sig.tsv\"\n",
      "[1] \"hallmark_combined_B_ASC_IgG_sig.tsv\"\n",
      "[1] \"hallmark_combined_DC1_sig.tsv\"\n",
      "[1] \"hallmark_combined_B_CD11c_sig.tsv\"\n",
      "[1] \"hallmark_combined_T_CD8_EMRA_sig.tsv\"\n",
      "[1] \"hallmark_combined_ASDC_sig.tsv\"\n",
      "[1] \"hallmark_combined_B_ASC_other_sig.tsv\"\n",
      "[1] \"KEGG_combined_monocyte_sig.tsv\"\n",
      "[1] \"KEGG_combined_T_reg_sig.tsv\"\n",
      "[1] \"KEGG_combined_DC_sig.tsv\"\n",
      "[1] \"KEGG_combined_T_CD4_sig.tsv\"\n",
      "[1] \"KEGG_combined_NK_sig.tsv\"\n",
      "[1] \"KEGG_combined_T_CD8_sig.tsv\"\n",
      "[1] \"KEGG_combined_RBC_sig.tsv\"\n",
      "[1] \"KEGG_combined_B_sig.tsv\"\n",
      "[1] \"KEGG_combined_MAIT_sig.tsv\"\n",
      "[1] \"KEGG_combined_T_g_d_sig.tsv\"\n",
      "[1] \"KEGG_combined_B_ASC_sig.tsv\"\n",
      "[1] \"KEGG_combined_Platelet_sig.tsv\"\n",
      "[1] \"KEGG_combined_HSPC_sig.tsv\"\n",
      "[1] \"KEGG_combined_CD14mono_sig.tsv\"\n",
      "[1] \"KEGG_combined_CD16mono_sig.tsv\"\n",
      "[1] \"KEGG_combined_pDC_sig.tsv\"\n",
      "[1] \"KEGG_combined_T_CD4_Naive_sig.tsv\"\n",
      "[1] \"KEGG_combined_NK_2_sig.tsv\"\n",
      "[1] \"KEGG_combined_T_CD4_Helper_sig.tsv\"\n",
      "[1] \"KEGG_combined_T_CD8_CTL_sig.tsv\"\n",
      "[1] \"KEGG_combined_Int.mono_sig.tsv\"\n",
      "[1] \"KEGG_combined_T_CD4_CTL_sig.tsv\"\n",
      "[1] \"KEGG_combined_RBC_2_sig.tsv\"\n",
      "[1] \"KEGG_combined_B_ASC_dividing_sig.tsv\"\n",
      "[1] \"KEGG_combined_B_switched_mem_sig.tsv\"\n",
      "[1] \"KEGG_combined_NK_CD56_bright_sig.tsv\"\n",
      "[1] \"KEGG_combined_T_CD8_Naive_sig.tsv\"\n",
      "[1] \"KEGG_combined_DC2_sig.tsv\"\n",
      "[1] \"KEGG_combined_B_naive_sig.tsv\"\n",
      "[1] \"KEGG_combined_NKT_sig.tsv\"\n",
      "[1] \"KEGG_combined_T_CD8_Mem_sig.tsv\"\n",
      "[1] \"KEGG_combined_B_ASC_IgA_sig.tsv\"\n",
      "[1] \"KEGG_combined_Platelet_2_sig.tsv\"\n",
      "[1] \"KEGG_combined_HSPC_2_sig.tsv\"\n",
      "[1] \"KEGG_combined_B_ASC_IgM_sig.tsv\"\n",
      "[1] \"KEGG_combined_B_non-switched_mem_sig.tsv\"\n",
      "[1] \"KEGG_combined_DC3_sig.tsv\"\n",
      "[1] \"KEGG_combined_B_ASC_IgG_sig.tsv\"\n",
      "[1] \"KEGG_combined_DC1_sig.tsv\"\n",
      "[1] \"KEGG_combined_B_CD11c_sig.tsv\"\n",
      "[1] \"KEGG_combined_T_CD8_EMRA_sig.tsv\"\n",
      "[1] \"KEGG_combined_ASDC_sig.tsv\"\n",
      "[1] \"KEGG_combined_B_ASC_other_sig.tsv\"\n",
      "[1] \"Reactome_combined_monocyte_sig.tsv\"\n",
      "[1] \"Reactome_combined_T_reg_sig.tsv\"\n",
      "[1] \"Reactome_combined_DC_sig.tsv\"\n",
      "[1] \"Reactome_combined_T_CD4_sig.tsv\"\n",
      "[1] \"Reactome_combined_NK_sig.tsv\"\n",
      "[1] \"Reactome_combined_T_CD8_sig.tsv\"\n",
      "[1] \"Reactome_combined_RBC_sig.tsv\"\n",
      "[1] \"Reactome_combined_B_sig.tsv\"\n",
      "[1] \"Reactome_combined_MAIT_sig.tsv\"\n",
      "[1] \"Reactome_combined_T_g_d_sig.tsv\"\n",
      "[1] \"Reactome_combined_B_ASC_sig.tsv\"\n",
      "[1] \"Reactome_combined_Platelet_sig.tsv\"\n",
      "[1] \"Reactome_combined_HSPC_sig.tsv\"\n",
      "[1] \"Reactome_combined_CD14mono_sig.tsv\"\n",
      "[1] \"Reactome_combined_CD16mono_sig.tsv\"\n",
      "[1] \"Reactome_combined_pDC_sig.tsv\"\n",
      "[1] \"Reactome_combined_T_CD4_Naive_sig.tsv\"\n",
      "[1] \"Reactome_combined_NK_2_sig.tsv\"\n",
      "[1] \"Reactome_combined_T_CD4_Helper_sig.tsv\"\n",
      "[1] \"Reactome_combined_T_CD8_CTL_sig.tsv\"\n",
      "[1] \"Reactome_combined_Int.mono_sig.tsv\"\n",
      "[1] \"Reactome_combined_T_CD4_CTL_sig.tsv\"\n",
      "[1] \"Reactome_combined_RBC_2_sig.tsv\"\n",
      "[1] \"Reactome_combined_B_ASC_dividing_sig.tsv\"\n",
      "[1] \"Reactome_combined_B_switched_mem_sig.tsv\"\n",
      "[1] \"Reactome_combined_NK_CD56_bright_sig.tsv\"\n",
      "[1] \"Reactome_combined_T_CD8_Naive_sig.tsv\"\n",
      "[1] \"Reactome_combined_DC2_sig.tsv\"\n",
      "[1] \"Reactome_combined_B_naive_sig.tsv\"\n",
      "[1] \"Reactome_combined_NKT_sig.tsv\"\n",
      "[1] \"Reactome_combined_T_CD8_Mem_sig.tsv\"\n",
      "[1] \"Reactome_combined_B_ASC_IgA_sig.tsv\"\n",
      "[1] \"Reactome_combined_Platelet_2_sig.tsv\"\n",
      "[1] \"Reactome_combined_HSPC_2_sig.tsv\"\n",
      "[1] \"Reactome_combined_B_ASC_IgM_sig.tsv\"\n",
      "[1] \"Reactome_combined_B_non-switched_mem_sig.tsv\"\n",
      "[1] \"Reactome_combined_DC3_sig.tsv\"\n",
      "[1] \"Reactome_combined_B_ASC_IgG_sig.tsv\"\n",
      "[1] \"Reactome_combined_DC1_sig.tsv\"\n",
      "[1] \"Reactome_combined_B_CD11c_sig.tsv\"\n",
      "[1] \"Reactome_combined_T_CD8_EMRA_sig.tsv\"\n",
      "[1] \"Reactome_combined_ASDC_sig.tsv\"\n",
      "[1] \"Reactome_combined_B_ASC_other_sig.tsv\"\n"
     ]
    }
   ],
   "source": [
    "df1<-apply(input[input$model==\"combined\",],1,function(x){\n",
    "    print(paste0(x[[1]],\"_\",x[[2]],\"_\",x[[3]],\"_sig.tsv\"))\n",
    "    if(file.exists(paste0(x[[1]],\"_\",x[[2]],\"_\",x[[3]],\"_sig.tsv\"))){\n",
    "        res<-fread(paste0(x[[1]],\"_\",x[[2]],\"_\",x[[3]],\"_sig.tsv\"),data.table=FALSE)\n",
    "        res$db<-x[[1]]\n",
    "        res$model<-x[[2]]\n",
    "        res$cell_type<-x[[3]]\n",
    "        return(res)\n",
    "   }\n",
    "})"
   ]
  },
  {
   "cell_type": "code",
   "execution_count": 7,
   "metadata": {},
   "outputs": [
    {
     "data": {
      "text/html": [
       "<table class=\"dataframe\">\n",
       "<caption>A data.frame: 6 × 8</caption>\n",
       "<thead>\n",
       "\t<tr><th></th><th scope=col>pvals</th><th scope=col>qvals</th><th scope=col>singular</th><th scope=col>conv</th><th scope=col>pathway</th><th scope=col>db</th><th scope=col>model</th><th scope=col>cell_type</th></tr>\n",
       "\t<tr><th></th><th scope=col>&lt;dbl&gt;</th><th scope=col>&lt;dbl&gt;</th><th scope=col>&lt;int&gt;</th><th scope=col>&lt;int&gt;</th><th scope=col>&lt;chr&gt;</th><th scope=col>&lt;chr&gt;</th><th scope=col>&lt;chr&gt;</th><th scope=col>&lt;chr&gt;</th></tr>\n",
       "</thead>\n",
       "<tbody>\n",
       "\t<tr><th scope=row>1.1</th><td>0.003441796</td><td>0.08604489</td><td>0</td><td>0</td><td>HALLMARK_ADIPOGENESIS1              </td><td>hallmark</td><td>combined</td><td>monocyte</td></tr>\n",
       "\t<tr><th scope=row>1.2</th><td>0.040430699</td><td>0.30401664</td><td>0</td><td>0</td><td>HALLMARK_ALLOGRAFT_REJECTION2       </td><td>hallmark</td><td>combined</td><td>monocyte</td></tr>\n",
       "\t<tr><th scope=row>1.3</th><td>0.001995148</td><td>0.08604489</td><td>0</td><td>0</td><td>HALLMARK_INTERFERON_ALPHA_RESPONSE26</td><td>hallmark</td><td>combined</td><td>monocyte</td></tr>\n",
       "\t<tr><th scope=row>1.4</th><td>0.009720215</td><td>0.16200358</td><td>0</td><td>0</td><td>HALLMARK_INTERFERON_GAMMA_RESPONSE27</td><td>hallmark</td><td>combined</td><td>monocyte</td></tr>\n",
       "\t<tr><th scope=row>1.5</th><td>0.024961993</td><td>0.30401664</td><td>0</td><td>0</td><td>HALLMARK_KRAS_SIGNALING_UP29        </td><td>hallmark</td><td>combined</td><td>monocyte</td></tr>\n",
       "\t<tr><th scope=row>1.6</th><td>0.032065534</td><td>0.30401664</td><td>0</td><td>0</td><td>HALLMARK_MTORC1_SIGNALING31         </td><td>hallmark</td><td>combined</td><td>monocyte</td></tr>\n",
       "</tbody>\n",
       "</table>\n"
      ],
      "text/latex": [
       "A data.frame: 6 × 8\n",
       "\\begin{tabular}{r|llllllll}\n",
       "  & pvals & qvals & singular & conv & pathway & db & model & cell\\_type\\\\\n",
       "  & <dbl> & <dbl> & <int> & <int> & <chr> & <chr> & <chr> & <chr>\\\\\n",
       "\\hline\n",
       "\t1.1 & 0.003441796 & 0.08604489 & 0 & 0 & HALLMARK\\_ADIPOGENESIS1               & hallmark & combined & monocyte\\\\\n",
       "\t1.2 & 0.040430699 & 0.30401664 & 0 & 0 & HALLMARK\\_ALLOGRAFT\\_REJECTION2        & hallmark & combined & monocyte\\\\\n",
       "\t1.3 & 0.001995148 & 0.08604489 & 0 & 0 & HALLMARK\\_INTERFERON\\_ALPHA\\_RESPONSE26 & hallmark & combined & monocyte\\\\\n",
       "\t1.4 & 0.009720215 & 0.16200358 & 0 & 0 & HALLMARK\\_INTERFERON\\_GAMMA\\_RESPONSE27 & hallmark & combined & monocyte\\\\\n",
       "\t1.5 & 0.024961993 & 0.30401664 & 0 & 0 & HALLMARK\\_KRAS\\_SIGNALING\\_UP29         & hallmark & combined & monocyte\\\\\n",
       "\t1.6 & 0.032065534 & 0.30401664 & 0 & 0 & HALLMARK\\_MTORC1\\_SIGNALING31          & hallmark & combined & monocyte\\\\\n",
       "\\end{tabular}\n"
      ],
      "text/markdown": [
       "\n",
       "A data.frame: 6 × 8\n",
       "\n",
       "| <!--/--> | pvals &lt;dbl&gt; | qvals &lt;dbl&gt; | singular &lt;int&gt; | conv &lt;int&gt; | pathway &lt;chr&gt; | db &lt;chr&gt; | model &lt;chr&gt; | cell_type &lt;chr&gt; |\n",
       "|---|---|---|---|---|---|---|---|---|\n",
       "| 1.1 | 0.003441796 | 0.08604489 | 0 | 0 | HALLMARK_ADIPOGENESIS1               | hallmark | combined | monocyte |\n",
       "| 1.2 | 0.040430699 | 0.30401664 | 0 | 0 | HALLMARK_ALLOGRAFT_REJECTION2        | hallmark | combined | monocyte |\n",
       "| 1.3 | 0.001995148 | 0.08604489 | 0 | 0 | HALLMARK_INTERFERON_ALPHA_RESPONSE26 | hallmark | combined | monocyte |\n",
       "| 1.4 | 0.009720215 | 0.16200358 | 0 | 0 | HALLMARK_INTERFERON_GAMMA_RESPONSE27 | hallmark | combined | monocyte |\n",
       "| 1.5 | 0.024961993 | 0.30401664 | 0 | 0 | HALLMARK_KRAS_SIGNALING_UP29         | hallmark | combined | monocyte |\n",
       "| 1.6 | 0.032065534 | 0.30401664 | 0 | 0 | HALLMARK_MTORC1_SIGNALING31          | hallmark | combined | monocyte |\n",
       "\n"
      ],
      "text/plain": [
       "    pvals       qvals      singular conv pathway                             \n",
       "1.1 0.003441796 0.08604489 0        0    HALLMARK_ADIPOGENESIS1              \n",
       "1.2 0.040430699 0.30401664 0        0    HALLMARK_ALLOGRAFT_REJECTION2       \n",
       "1.3 0.001995148 0.08604489 0        0    HALLMARK_INTERFERON_ALPHA_RESPONSE26\n",
       "1.4 0.009720215 0.16200358 0        0    HALLMARK_INTERFERON_GAMMA_RESPONSE27\n",
       "1.5 0.024961993 0.30401664 0        0    HALLMARK_KRAS_SIGNALING_UP29        \n",
       "1.6 0.032065534 0.30401664 0        0    HALLMARK_MTORC1_SIGNALING31         \n",
       "    db       model    cell_type\n",
       "1.1 hallmark combined monocyte \n",
       "1.2 hallmark combined monocyte \n",
       "1.3 hallmark combined monocyte \n",
       "1.4 hallmark combined monocyte \n",
       "1.5 hallmark combined monocyte \n",
       "1.6 hallmark combined monocyte "
      ]
     },
     "metadata": {},
     "output_type": "display_data"
    },
    {
     "data": {
      "text/html": [
       "<style>\n",
       ".list-inline {list-style: none; margin:0; padding: 0}\n",
       ".list-inline>li {display: inline-block}\n",
       ".list-inline>li:not(:last-child)::after {content: \"\\00b7\"; padding: 0 .5ex}\n",
       "</style>\n",
       "<ol class=list-inline><li>1788</li><li>8</li></ol>\n"
      ],
      "text/latex": [
       "\\begin{enumerate*}\n",
       "\\item 1788\n",
       "\\item 8\n",
       "\\end{enumerate*}\n"
      ],
      "text/markdown": [
       "1. 1788\n",
       "2. 8\n",
       "\n",
       "\n"
      ],
      "text/plain": [
       "[1] 1788    8"
      ]
     },
     "metadata": {},
     "output_type": "display_data"
    }
   ],
   "source": [
    "df1<-do.call(rbind,df1)\n",
    "head(df1)\n",
    "dim(df1)"
   ]
  },
  {
   "cell_type": "code",
   "execution_count": 9,
   "metadata": {},
   "outputs": [],
   "source": [
    "df1<- df1 %>%\n",
    "            mutate(level=case_when(cell_type%in%c(\"monocyte\",\"T_reg\",\"DC\",\"T_CD4\",\"NK\",\"T_CD8\",\"RBC\",\"B\",\"MAIT\",\"T_g_d\",\"B_ASC\",\"Platelet\",\"HSPC\") ~ 1,\n",
    "                              cell_type%in%c(\"CD14mono\",\"CD16mono\",\"pDC\",\"T_CD4_Naive\",\"NK_2\",\"T_CD4_Helper\",\"T_CD8_CTL\",\"Int.mono\",\"T_CD4_CTL\",\"RBC_2\",\"B_ASC_dividing\",\"B_switched_mem\",\"NK_CD56_bright\",\"T_CD8_Naive\",\"DC2\",\"B_naive\",\"NKT\",\"T_CD8_Mem\",\"B_ASC_IgA\",\"Platelet_2\",\"HSPC_2\",\"B_ASC_IgM\",\"B_non-switched_mem\",\"DC3\",\"B_ASC_IgG\",\"DC1\",\"B_CD11c\",\"T_CD8_EMRA\",\"ASDC\",\"B_ASC_other\") ~ 2))\n",
    "                   "
   ]
  },
  {
   "cell_type": "code",
   "execution_count": 10,
   "metadata": {},
   "outputs": [
    {
     "data": {
      "text/html": [
       "<table class=\"dataframe\">\n",
       "<caption>A data.frame: 6 × 9</caption>\n",
       "<thead>\n",
       "\t<tr><th></th><th scope=col>pvals</th><th scope=col>qvals</th><th scope=col>singular</th><th scope=col>conv</th><th scope=col>pathway</th><th scope=col>db</th><th scope=col>model</th><th scope=col>cell_type</th><th scope=col>level</th></tr>\n",
       "\t<tr><th></th><th scope=col>&lt;dbl&gt;</th><th scope=col>&lt;dbl&gt;</th><th scope=col>&lt;int&gt;</th><th scope=col>&lt;int&gt;</th><th scope=col>&lt;chr&gt;</th><th scope=col>&lt;chr&gt;</th><th scope=col>&lt;chr&gt;</th><th scope=col>&lt;chr&gt;</th><th scope=col>&lt;dbl&gt;</th></tr>\n",
       "</thead>\n",
       "<tbody>\n",
       "\t<tr><th scope=row>1.1</th><td>0.003441796</td><td>0.08604489</td><td>0</td><td>0</td><td>HALLMARK_ADIPOGENESIS1              </td><td>hallmark</td><td>combined</td><td>monocyte</td><td>1</td></tr>\n",
       "\t<tr><th scope=row>1.2</th><td>0.040430699</td><td>0.30401664</td><td>0</td><td>0</td><td>HALLMARK_ALLOGRAFT_REJECTION2       </td><td>hallmark</td><td>combined</td><td>monocyte</td><td>1</td></tr>\n",
       "\t<tr><th scope=row>1.3</th><td>0.001995148</td><td>0.08604489</td><td>0</td><td>0</td><td>HALLMARK_INTERFERON_ALPHA_RESPONSE26</td><td>hallmark</td><td>combined</td><td>monocyte</td><td>1</td></tr>\n",
       "\t<tr><th scope=row>1.4</th><td>0.009720215</td><td>0.16200358</td><td>0</td><td>0</td><td>HALLMARK_INTERFERON_GAMMA_RESPONSE27</td><td>hallmark</td><td>combined</td><td>monocyte</td><td>1</td></tr>\n",
       "\t<tr><th scope=row>1.5</th><td>0.024961993</td><td>0.30401664</td><td>0</td><td>0</td><td>HALLMARK_KRAS_SIGNALING_UP29        </td><td>hallmark</td><td>combined</td><td>monocyte</td><td>1</td></tr>\n",
       "\t<tr><th scope=row>1.6</th><td>0.032065534</td><td>0.30401664</td><td>0</td><td>0</td><td>HALLMARK_MTORC1_SIGNALING31         </td><td>hallmark</td><td>combined</td><td>monocyte</td><td>1</td></tr>\n",
       "</tbody>\n",
       "</table>\n"
      ],
      "text/latex": [
       "A data.frame: 6 × 9\n",
       "\\begin{tabular}{r|lllllllll}\n",
       "  & pvals & qvals & singular & conv & pathway & db & model & cell\\_type & level\\\\\n",
       "  & <dbl> & <dbl> & <int> & <int> & <chr> & <chr> & <chr> & <chr> & <dbl>\\\\\n",
       "\\hline\n",
       "\t1.1 & 0.003441796 & 0.08604489 & 0 & 0 & HALLMARK\\_ADIPOGENESIS1               & hallmark & combined & monocyte & 1\\\\\n",
       "\t1.2 & 0.040430699 & 0.30401664 & 0 & 0 & HALLMARK\\_ALLOGRAFT\\_REJECTION2        & hallmark & combined & monocyte & 1\\\\\n",
       "\t1.3 & 0.001995148 & 0.08604489 & 0 & 0 & HALLMARK\\_INTERFERON\\_ALPHA\\_RESPONSE26 & hallmark & combined & monocyte & 1\\\\\n",
       "\t1.4 & 0.009720215 & 0.16200358 & 0 & 0 & HALLMARK\\_INTERFERON\\_GAMMA\\_RESPONSE27 & hallmark & combined & monocyte & 1\\\\\n",
       "\t1.5 & 0.024961993 & 0.30401664 & 0 & 0 & HALLMARK\\_KRAS\\_SIGNALING\\_UP29         & hallmark & combined & monocyte & 1\\\\\n",
       "\t1.6 & 0.032065534 & 0.30401664 & 0 & 0 & HALLMARK\\_MTORC1\\_SIGNALING31          & hallmark & combined & monocyte & 1\\\\\n",
       "\\end{tabular}\n"
      ],
      "text/markdown": [
       "\n",
       "A data.frame: 6 × 9\n",
       "\n",
       "| <!--/--> | pvals &lt;dbl&gt; | qvals &lt;dbl&gt; | singular &lt;int&gt; | conv &lt;int&gt; | pathway &lt;chr&gt; | db &lt;chr&gt; | model &lt;chr&gt; | cell_type &lt;chr&gt; | level &lt;dbl&gt; |\n",
       "|---|---|---|---|---|---|---|---|---|---|\n",
       "| 1.1 | 0.003441796 | 0.08604489 | 0 | 0 | HALLMARK_ADIPOGENESIS1               | hallmark | combined | monocyte | 1 |\n",
       "| 1.2 | 0.040430699 | 0.30401664 | 0 | 0 | HALLMARK_ALLOGRAFT_REJECTION2        | hallmark | combined | monocyte | 1 |\n",
       "| 1.3 | 0.001995148 | 0.08604489 | 0 | 0 | HALLMARK_INTERFERON_ALPHA_RESPONSE26 | hallmark | combined | monocyte | 1 |\n",
       "| 1.4 | 0.009720215 | 0.16200358 | 0 | 0 | HALLMARK_INTERFERON_GAMMA_RESPONSE27 | hallmark | combined | monocyte | 1 |\n",
       "| 1.5 | 0.024961993 | 0.30401664 | 0 | 0 | HALLMARK_KRAS_SIGNALING_UP29         | hallmark | combined | monocyte | 1 |\n",
       "| 1.6 | 0.032065534 | 0.30401664 | 0 | 0 | HALLMARK_MTORC1_SIGNALING31          | hallmark | combined | monocyte | 1 |\n",
       "\n"
      ],
      "text/plain": [
       "    pvals       qvals      singular conv pathway                             \n",
       "1.1 0.003441796 0.08604489 0        0    HALLMARK_ADIPOGENESIS1              \n",
       "1.2 0.040430699 0.30401664 0        0    HALLMARK_ALLOGRAFT_REJECTION2       \n",
       "1.3 0.001995148 0.08604489 0        0    HALLMARK_INTERFERON_ALPHA_RESPONSE26\n",
       "1.4 0.009720215 0.16200358 0        0    HALLMARK_INTERFERON_GAMMA_RESPONSE27\n",
       "1.5 0.024961993 0.30401664 0        0    HALLMARK_KRAS_SIGNALING_UP29        \n",
       "1.6 0.032065534 0.30401664 0        0    HALLMARK_MTORC1_SIGNALING31         \n",
       "    db       model    cell_type level\n",
       "1.1 hallmark combined monocyte  1    \n",
       "1.2 hallmark combined monocyte  1    \n",
       "1.3 hallmark combined monocyte  1    \n",
       "1.4 hallmark combined monocyte  1    \n",
       "1.5 hallmark combined monocyte  1    \n",
       "1.6 hallmark combined monocyte  1    "
      ]
     },
     "metadata": {},
     "output_type": "display_data"
    }
   ],
   "source": [
    "head(df1)"
   ]
  },
  {
   "cell_type": "code",
   "execution_count": 16,
   "metadata": {},
   "outputs": [
    {
     "data": {
      "text/html": [
       "<table class=\"dataframe\">\n",
       "<caption>A data.frame: 6 × 9</caption>\n",
       "<thead>\n",
       "\t<tr><th></th><th scope=col>pvals</th><th scope=col>qvals</th><th scope=col>singular</th><th scope=col>conv</th><th scope=col>pathway</th><th scope=col>db</th><th scope=col>model</th><th scope=col>cell_type</th><th scope=col>level</th></tr>\n",
       "\t<tr><th></th><th scope=col>&lt;dbl&gt;</th><th scope=col>&lt;dbl&gt;</th><th scope=col>&lt;int&gt;</th><th scope=col>&lt;int&gt;</th><th scope=col>&lt;chr&gt;</th><th scope=col>&lt;chr&gt;</th><th scope=col>&lt;chr&gt;</th><th scope=col>&lt;chr&gt;</th><th scope=col>&lt;dbl&gt;</th></tr>\n",
       "</thead>\n",
       "<tbody>\n",
       "\t<tr><th scope=row>5.1</th><td>0.0017159446</td><td>0.04289861</td><td>0</td><td>0</td><td>HALLMARK_INTERFERON_ALPHA_RESPONSE26</td><td>hallmark</td><td>combined</td><td>NK</td><td>1</td></tr>\n",
       "\t<tr><th scope=row>5.2</th><td>0.0008682177</td><td>0.04289861</td><td>0</td><td>0</td><td>HALLMARK_INTERFERON_GAMMA_RESPONSE27</td><td>hallmark</td><td>combined</td><td>NK</td><td>1</td></tr>\n",
       "\t<tr><th scope=row>8.1</th><td>0.0001371959</td><td>0.00296015</td><td>0</td><td>0</td><td>HALLMARK_ALLOGRAFT_REJECTION2       </td><td>hallmark</td><td>combined</td><td>B </td><td>1</td></tr>\n",
       "\t<tr><th scope=row>8.2</th><td>0.0126126652</td><td>0.03503518</td><td>0</td><td>0</td><td>HALLMARK_ANDROGEN_RESPONSE3         </td><td>hallmark</td><td>combined</td><td>B </td><td>1</td></tr>\n",
       "\t<tr><th scope=row>8.3</th><td>0.0087203582</td><td>0.02954728</td><td>0</td><td>0</td><td>HALLMARK_APICAL_JUNCTION5           </td><td>hallmark</td><td>combined</td><td>B </td><td>1</td></tr>\n",
       "\t<tr><th scope=row>8.4</th><td>0.0117314163</td><td>0.03450417</td><td>0</td><td>0</td><td>HALLMARK_COAGULATION10              </td><td>hallmark</td><td>combined</td><td>B </td><td>1</td></tr>\n",
       "</tbody>\n",
       "</table>\n"
      ],
      "text/latex": [
       "A data.frame: 6 × 9\n",
       "\\begin{tabular}{r|lllllllll}\n",
       "  & pvals & qvals & singular & conv & pathway & db & model & cell\\_type & level\\\\\n",
       "  & <dbl> & <dbl> & <int> & <int> & <chr> & <chr> & <chr> & <chr> & <dbl>\\\\\n",
       "\\hline\n",
       "\t5.1 & 0.0017159446 & 0.04289861 & 0 & 0 & HALLMARK\\_INTERFERON\\_ALPHA\\_RESPONSE26 & hallmark & combined & NK & 1\\\\\n",
       "\t5.2 & 0.0008682177 & 0.04289861 & 0 & 0 & HALLMARK\\_INTERFERON\\_GAMMA\\_RESPONSE27 & hallmark & combined & NK & 1\\\\\n",
       "\t8.1 & 0.0001371959 & 0.00296015 & 0 & 0 & HALLMARK\\_ALLOGRAFT\\_REJECTION2        & hallmark & combined & B  & 1\\\\\n",
       "\t8.2 & 0.0126126652 & 0.03503518 & 0 & 0 & HALLMARK\\_ANDROGEN\\_RESPONSE3          & hallmark & combined & B  & 1\\\\\n",
       "\t8.3 & 0.0087203582 & 0.02954728 & 0 & 0 & HALLMARK\\_APICAL\\_JUNCTION5            & hallmark & combined & B  & 1\\\\\n",
       "\t8.4 & 0.0117314163 & 0.03450417 & 0 & 0 & HALLMARK\\_COAGULATION10               & hallmark & combined & B  & 1\\\\\n",
       "\\end{tabular}\n"
      ],
      "text/markdown": [
       "\n",
       "A data.frame: 6 × 9\n",
       "\n",
       "| <!--/--> | pvals &lt;dbl&gt; | qvals &lt;dbl&gt; | singular &lt;int&gt; | conv &lt;int&gt; | pathway &lt;chr&gt; | db &lt;chr&gt; | model &lt;chr&gt; | cell_type &lt;chr&gt; | level &lt;dbl&gt; |\n",
       "|---|---|---|---|---|---|---|---|---|---|\n",
       "| 5.1 | 0.0017159446 | 0.04289861 | 0 | 0 | HALLMARK_INTERFERON_ALPHA_RESPONSE26 | hallmark | combined | NK | 1 |\n",
       "| 5.2 | 0.0008682177 | 0.04289861 | 0 | 0 | HALLMARK_INTERFERON_GAMMA_RESPONSE27 | hallmark | combined | NK | 1 |\n",
       "| 8.1 | 0.0001371959 | 0.00296015 | 0 | 0 | HALLMARK_ALLOGRAFT_REJECTION2        | hallmark | combined | B  | 1 |\n",
       "| 8.2 | 0.0126126652 | 0.03503518 | 0 | 0 | HALLMARK_ANDROGEN_RESPONSE3          | hallmark | combined | B  | 1 |\n",
       "| 8.3 | 0.0087203582 | 0.02954728 | 0 | 0 | HALLMARK_APICAL_JUNCTION5            | hallmark | combined | B  | 1 |\n",
       "| 8.4 | 0.0117314163 | 0.03450417 | 0 | 0 | HALLMARK_COAGULATION10               | hallmark | combined | B  | 1 |\n",
       "\n"
      ],
      "text/plain": [
       "    pvals        qvals      singular conv pathway                             \n",
       "5.1 0.0017159446 0.04289861 0        0    HALLMARK_INTERFERON_ALPHA_RESPONSE26\n",
       "5.2 0.0008682177 0.04289861 0        0    HALLMARK_INTERFERON_GAMMA_RESPONSE27\n",
       "8.1 0.0001371959 0.00296015 0        0    HALLMARK_ALLOGRAFT_REJECTION2       \n",
       "8.2 0.0126126652 0.03503518 0        0    HALLMARK_ANDROGEN_RESPONSE3         \n",
       "8.3 0.0087203582 0.02954728 0        0    HALLMARK_APICAL_JUNCTION5           \n",
       "8.4 0.0117314163 0.03450417 0        0    HALLMARK_COAGULATION10              \n",
       "    db       model    cell_type level\n",
       "5.1 hallmark combined NK        1    \n",
       "5.2 hallmark combined NK        1    \n",
       "8.1 hallmark combined B         1    \n",
       "8.2 hallmark combined B         1    \n",
       "8.3 hallmark combined B         1    \n",
       "8.4 hallmark combined B         1    "
      ]
     },
     "metadata": {},
     "output_type": "display_data"
    },
    {
     "data": {
      "text/html": [
       "<style>\n",
       ".list-inline {list-style: none; margin:0; padding: 0}\n",
       ".list-inline>li {display: inline-block}\n",
       ".list-inline>li:not(:last-child)::after {content: \"\\00b7\"; padding: 0 .5ex}\n",
       "</style>\n",
       "<ol class=list-inline><li>183</li><li>9</li></ol>\n"
      ],
      "text/latex": [
       "\\begin{enumerate*}\n",
       "\\item 183\n",
       "\\item 9\n",
       "\\end{enumerate*}\n"
      ],
      "text/markdown": [
       "1. 183\n",
       "2. 9\n",
       "\n",
       "\n"
      ],
      "text/plain": [
       "[1] 183   9"
      ]
     },
     "metadata": {},
     "output_type": "display_data"
    }
   ],
   "source": [
    "sig<-df1[df1$qvals<0.05,]\n",
    "head(sig)\n",
    "dim(sig)"
   ]
  },
  {
   "cell_type": "code",
   "execution_count": 17,
   "metadata": {},
   "outputs": [],
   "source": [
    "sig<-sig[order(sig$qvals),]\n",
    "write.table(sig,\"sig_longitudinal_genesets_combined.tsv\",col.names=TRUE,row.names=FALSE,quote=FALSE,sep=\"\\t\")"
   ]
  },
  {
   "cell_type": "code",
   "execution_count": 23,
   "metadata": {},
   "outputs": [],
   "source": [
    "################################\n",
    "# Gather all the results\n",
    "##################################"
   ]
  },
  {
   "cell_type": "code",
   "execution_count": 20,
   "metadata": {},
   "outputs": [
    {
     "name": "stdout",
     "output_type": "stream",
     "text": [
      "[1] \"hallmark_combined_monocyte_all.tsv\"\n",
      "[1] \"hallmark_combined_T_reg_all.tsv\"\n",
      "[1] \"hallmark_combined_DC_all.tsv\"\n",
      "[1] \"hallmark_combined_T_CD4_all.tsv\"\n",
      "[1] \"hallmark_combined_NK_all.tsv\"\n",
      "[1] \"hallmark_combined_T_CD8_all.tsv\"\n",
      "[1] \"hallmark_combined_RBC_all.tsv\"\n",
      "[1] \"hallmark_combined_B_all.tsv\"\n",
      "[1] \"hallmark_combined_MAIT_all.tsv\"\n",
      "[1] \"hallmark_combined_T_g_d_all.tsv\"\n",
      "[1] \"hallmark_combined_B_ASC_all.tsv\"\n",
      "[1] \"hallmark_combined_Platelet_all.tsv\"\n",
      "[1] \"hallmark_combined_HSPC_all.tsv\"\n",
      "[1] \"hallmark_combined_CD14mono_all.tsv\"\n",
      "[1] \"hallmark_combined_CD16mono_all.tsv\"\n",
      "[1] \"hallmark_combined_pDC_all.tsv\"\n",
      "[1] \"hallmark_combined_T_CD4_Naive_all.tsv\"\n",
      "[1] \"hallmark_combined_NK_2_all.tsv\"\n",
      "[1] \"hallmark_combined_T_CD4_Helper_all.tsv\"\n",
      "[1] \"hallmark_combined_T_CD8_CTL_all.tsv\"\n",
      "[1] \"hallmark_combined_Int.mono_all.tsv\"\n",
      "[1] \"hallmark_combined_T_CD4_CTL_all.tsv\"\n",
      "[1] \"hallmark_combined_RBC_2_all.tsv\"\n",
      "[1] \"hallmark_combined_B_ASC_dividing_all.tsv\"\n",
      "[1] \"hallmark_combined_B_switched_mem_all.tsv\"\n",
      "[1] \"hallmark_combined_NK_CD56_bright_all.tsv\"\n",
      "[1] \"hallmark_combined_T_CD8_Naive_all.tsv\"\n",
      "[1] \"hallmark_combined_DC2_all.tsv\"\n",
      "[1] \"hallmark_combined_B_naive_all.tsv\"\n",
      "[1] \"hallmark_combined_NKT_all.tsv\"\n",
      "[1] \"hallmark_combined_T_CD8_Mem_all.tsv\"\n",
      "[1] \"hallmark_combined_B_ASC_IgA_all.tsv\"\n",
      "[1] \"hallmark_combined_Platelet_2_all.tsv\"\n",
      "[1] \"hallmark_combined_HSPC_2_all.tsv\"\n",
      "[1] \"hallmark_combined_B_ASC_IgM_all.tsv\"\n",
      "[1] \"hallmark_combined_B_non-switched_mem_all.tsv\"\n",
      "[1] \"hallmark_combined_DC3_all.tsv\"\n",
      "[1] \"hallmark_combined_B_ASC_IgG_all.tsv\"\n",
      "[1] \"hallmark_combined_DC1_all.tsv\"\n",
      "[1] \"hallmark_combined_B_CD11c_all.tsv\"\n",
      "[1] \"hallmark_combined_T_CD8_EMRA_all.tsv\"\n",
      "[1] \"hallmark_combined_ASDC_all.tsv\"\n",
      "[1] \"hallmark_combined_B_ASC_other_all.tsv\"\n",
      "[1] \"KEGG_combined_monocyte_all.tsv\"\n",
      "[1] \"KEGG_combined_T_reg_all.tsv\"\n",
      "[1] \"KEGG_combined_DC_all.tsv\"\n",
      "[1] \"KEGG_combined_T_CD4_all.tsv\"\n",
      "[1] \"KEGG_combined_NK_all.tsv\"\n",
      "[1] \"KEGG_combined_T_CD8_all.tsv\"\n",
      "[1] \"KEGG_combined_RBC_all.tsv\"\n",
      "[1] \"KEGG_combined_B_all.tsv\"\n",
      "[1] \"KEGG_combined_MAIT_all.tsv\"\n",
      "[1] \"KEGG_combined_T_g_d_all.tsv\"\n",
      "[1] \"KEGG_combined_B_ASC_all.tsv\"\n",
      "[1] \"KEGG_combined_Platelet_all.tsv\"\n",
      "[1] \"KEGG_combined_HSPC_all.tsv\"\n",
      "[1] \"KEGG_combined_CD14mono_all.tsv\"\n",
      "[1] \"KEGG_combined_CD16mono_all.tsv\"\n",
      "[1] \"KEGG_combined_pDC_all.tsv\"\n",
      "[1] \"KEGG_combined_T_CD4_Naive_all.tsv\"\n",
      "[1] \"KEGG_combined_NK_2_all.tsv\"\n",
      "[1] \"KEGG_combined_T_CD4_Helper_all.tsv\"\n",
      "[1] \"KEGG_combined_T_CD8_CTL_all.tsv\"\n",
      "[1] \"KEGG_combined_Int.mono_all.tsv\"\n",
      "[1] \"KEGG_combined_T_CD4_CTL_all.tsv\"\n",
      "[1] \"KEGG_combined_RBC_2_all.tsv\"\n",
      "[1] \"KEGG_combined_B_ASC_dividing_all.tsv\"\n",
      "[1] \"KEGG_combined_B_switched_mem_all.tsv\"\n",
      "[1] \"KEGG_combined_NK_CD56_bright_all.tsv\"\n",
      "[1] \"KEGG_combined_T_CD8_Naive_all.tsv\"\n",
      "[1] \"KEGG_combined_DC2_all.tsv\"\n",
      "[1] \"KEGG_combined_B_naive_all.tsv\"\n",
      "[1] \"KEGG_combined_NKT_all.tsv\"\n",
      "[1] \"KEGG_combined_T_CD8_Mem_all.tsv\"\n",
      "[1] \"KEGG_combined_B_ASC_IgA_all.tsv\"\n",
      "[1] \"KEGG_combined_Platelet_2_all.tsv\"\n",
      "[1] \"KEGG_combined_HSPC_2_all.tsv\"\n",
      "[1] \"KEGG_combined_B_ASC_IgM_all.tsv\"\n",
      "[1] \"KEGG_combined_B_non-switched_mem_all.tsv\"\n",
      "[1] \"KEGG_combined_DC3_all.tsv\"\n",
      "[1] \"KEGG_combined_B_ASC_IgG_all.tsv\"\n",
      "[1] \"KEGG_combined_DC1_all.tsv\"\n",
      "[1] \"KEGG_combined_B_CD11c_all.tsv\"\n",
      "[1] \"KEGG_combined_T_CD8_EMRA_all.tsv\"\n",
      "[1] \"KEGG_combined_ASDC_all.tsv\"\n",
      "[1] \"KEGG_combined_B_ASC_other_all.tsv\"\n",
      "[1] \"Reactome_combined_monocyte_all.tsv\"\n",
      "[1] \"Reactome_combined_T_reg_all.tsv\"\n",
      "[1] \"Reactome_combined_DC_all.tsv\"\n",
      "[1] \"Reactome_combined_T_CD4_all.tsv\"\n",
      "[1] \"Reactome_combined_NK_all.tsv\"\n",
      "[1] \"Reactome_combined_T_CD8_all.tsv\"\n",
      "[1] \"Reactome_combined_RBC_all.tsv\"\n",
      "[1] \"Reactome_combined_B_all.tsv\"\n",
      "[1] \"Reactome_combined_MAIT_all.tsv\"\n",
      "[1] \"Reactome_combined_T_g_d_all.tsv\"\n",
      "[1] \"Reactome_combined_B_ASC_all.tsv\"\n",
      "[1] \"Reactome_combined_Platelet_all.tsv\"\n",
      "[1] \"Reactome_combined_HSPC_all.tsv\"\n",
      "[1] \"Reactome_combined_CD14mono_all.tsv\"\n",
      "[1] \"Reactome_combined_CD16mono_all.tsv\"\n",
      "[1] \"Reactome_combined_pDC_all.tsv\"\n",
      "[1] \"Reactome_combined_T_CD4_Naive_all.tsv\"\n",
      "[1] \"Reactome_combined_NK_2_all.tsv\"\n",
      "[1] \"Reactome_combined_T_CD4_Helper_all.tsv\"\n",
      "[1] \"Reactome_combined_T_CD8_CTL_all.tsv\"\n",
      "[1] \"Reactome_combined_Int.mono_all.tsv\"\n",
      "[1] \"Reactome_combined_T_CD4_CTL_all.tsv\"\n",
      "[1] \"Reactome_combined_RBC_2_all.tsv\"\n",
      "[1] \"Reactome_combined_B_ASC_dividing_all.tsv\"\n",
      "[1] \"Reactome_combined_B_switched_mem_all.tsv\"\n",
      "[1] \"Reactome_combined_NK_CD56_bright_all.tsv\"\n",
      "[1] \"Reactome_combined_T_CD8_Naive_all.tsv\"\n",
      "[1] \"Reactome_combined_DC2_all.tsv\"\n",
      "[1] \"Reactome_combined_B_naive_all.tsv\"\n",
      "[1] \"Reactome_combined_NKT_all.tsv\"\n",
      "[1] \"Reactome_combined_T_CD8_Mem_all.tsv\"\n",
      "[1] \"Reactome_combined_B_ASC_IgA_all.tsv\"\n",
      "[1] \"Reactome_combined_Platelet_2_all.tsv\"\n",
      "[1] \"Reactome_combined_HSPC_2_all.tsv\"\n",
      "[1] \"Reactome_combined_B_ASC_IgM_all.tsv\"\n",
      "[1] \"Reactome_combined_B_non-switched_mem_all.tsv\"\n",
      "[1] \"Reactome_combined_DC3_all.tsv\"\n",
      "[1] \"Reactome_combined_B_ASC_IgG_all.tsv\"\n",
      "[1] \"Reactome_combined_DC1_all.tsv\"\n",
      "[1] \"Reactome_combined_B_CD11c_all.tsv\"\n",
      "[1] \"Reactome_combined_T_CD8_EMRA_all.tsv\"\n",
      "[1] \"Reactome_combined_ASDC_all.tsv\"\n",
      "[1] \"Reactome_combined_B_ASC_other_all.tsv\"\n"
     ]
    }
   ],
   "source": [
    "df1<-apply(input[input$model==\"combined\",],1,function(x){\n",
    "    print(paste0(x[[1]],\"_\",x[[2]],\"_\",x[[3]],\"_all.tsv\"))\n",
    "    if(file.exists(paste0(x[[1]],\"_\",x[[2]],\"_\",x[[3]],\"_all.tsv\"))){\n",
    "        res<-fread(paste0(x[[1]],\"_\",x[[2]],\"_\",x[[3]],\"_all.tsv\"),data.table=FALSE)\n",
    "        #print(head(res))\n",
    "        res$db<-x[[1]]\n",
    "        res$model<-x[[2]]\n",
    "        res$cell_type<-x[[3]]\n",
    "        return(res)\n",
    "   }\n",
    "})"
   ]
  },
  {
   "cell_type": "code",
   "execution_count": 21,
   "metadata": {},
   "outputs": [
    {
     "data": {
      "text/html": [
       "<table class=\"dataframe\">\n",
       "<caption>A data.frame: 6 × 8</caption>\n",
       "<thead>\n",
       "\t<tr><th></th><th scope=col>pvals</th><th scope=col>qvals</th><th scope=col>singular</th><th scope=col>conv</th><th scope=col>pathway</th><th scope=col>db</th><th scope=col>model</th><th scope=col>cell_type</th></tr>\n",
       "\t<tr><th></th><th scope=col>&lt;dbl&gt;</th><th scope=col>&lt;dbl&gt;</th><th scope=col>&lt;int&gt;</th><th scope=col>&lt;int&gt;</th><th scope=col>&lt;chr&gt;</th><th scope=col>&lt;chr&gt;</th><th scope=col>&lt;chr&gt;</th><th scope=col>&lt;chr&gt;</th></tr>\n",
       "</thead>\n",
       "<tbody>\n",
       "\t<tr><th scope=row>1.1</th><td>0.003441796</td><td>0.08604489</td><td>0</td><td>0</td><td>HALLMARK_ADIPOGENESIS1       </td><td>hallmark</td><td>combined</td><td>monocyte</td></tr>\n",
       "\t<tr><th scope=row>1.2</th><td>0.040430699</td><td>0.30401664</td><td>0</td><td>0</td><td>HALLMARK_ALLOGRAFT_REJECTION2</td><td>hallmark</td><td>combined</td><td>monocyte</td></tr>\n",
       "\t<tr><th scope=row>1.3</th><td>0.324820440</td><td>0.67223042</td><td>0</td><td>0</td><td>HALLMARK_ANDROGEN_RESPONSE3  </td><td>hallmark</td><td>combined</td><td>monocyte</td></tr>\n",
       "\t<tr><th scope=row>1.4</th><td>0.318525875</td><td>0.67223042</td><td>0</td><td>0</td><td>HALLMARK_ANGIOGENESIS4       </td><td>hallmark</td><td>combined</td><td>monocyte</td></tr>\n",
       "\t<tr><th scope=row>1.5</th><td>0.316004053</td><td>0.67223042</td><td>0</td><td>0</td><td>HALLMARK_APICAL_SURFACE6     </td><td>hallmark</td><td>combined</td><td>monocyte</td></tr>\n",
       "\t<tr><th scope=row>1.6</th><td>0.846289244</td><td>0.98033392</td><td>0</td><td>0</td><td>HALLMARK_APOPTOSIS7          </td><td>hallmark</td><td>combined</td><td>monocyte</td></tr>\n",
       "</tbody>\n",
       "</table>\n"
      ],
      "text/latex": [
       "A data.frame: 6 × 8\n",
       "\\begin{tabular}{r|llllllll}\n",
       "  & pvals & qvals & singular & conv & pathway & db & model & cell\\_type\\\\\n",
       "  & <dbl> & <dbl> & <int> & <int> & <chr> & <chr> & <chr> & <chr>\\\\\n",
       "\\hline\n",
       "\t1.1 & 0.003441796 & 0.08604489 & 0 & 0 & HALLMARK\\_ADIPOGENESIS1        & hallmark & combined & monocyte\\\\\n",
       "\t1.2 & 0.040430699 & 0.30401664 & 0 & 0 & HALLMARK\\_ALLOGRAFT\\_REJECTION2 & hallmark & combined & monocyte\\\\\n",
       "\t1.3 & 0.324820440 & 0.67223042 & 0 & 0 & HALLMARK\\_ANDROGEN\\_RESPONSE3   & hallmark & combined & monocyte\\\\\n",
       "\t1.4 & 0.318525875 & 0.67223042 & 0 & 0 & HALLMARK\\_ANGIOGENESIS4        & hallmark & combined & monocyte\\\\\n",
       "\t1.5 & 0.316004053 & 0.67223042 & 0 & 0 & HALLMARK\\_APICAL\\_SURFACE6      & hallmark & combined & monocyte\\\\\n",
       "\t1.6 & 0.846289244 & 0.98033392 & 0 & 0 & HALLMARK\\_APOPTOSIS7           & hallmark & combined & monocyte\\\\\n",
       "\\end{tabular}\n"
      ],
      "text/markdown": [
       "\n",
       "A data.frame: 6 × 8\n",
       "\n",
       "| <!--/--> | pvals &lt;dbl&gt; | qvals &lt;dbl&gt; | singular &lt;int&gt; | conv &lt;int&gt; | pathway &lt;chr&gt; | db &lt;chr&gt; | model &lt;chr&gt; | cell_type &lt;chr&gt; |\n",
       "|---|---|---|---|---|---|---|---|---|\n",
       "| 1.1 | 0.003441796 | 0.08604489 | 0 | 0 | HALLMARK_ADIPOGENESIS1        | hallmark | combined | monocyte |\n",
       "| 1.2 | 0.040430699 | 0.30401664 | 0 | 0 | HALLMARK_ALLOGRAFT_REJECTION2 | hallmark | combined | monocyte |\n",
       "| 1.3 | 0.324820440 | 0.67223042 | 0 | 0 | HALLMARK_ANDROGEN_RESPONSE3   | hallmark | combined | monocyte |\n",
       "| 1.4 | 0.318525875 | 0.67223042 | 0 | 0 | HALLMARK_ANGIOGENESIS4        | hallmark | combined | monocyte |\n",
       "| 1.5 | 0.316004053 | 0.67223042 | 0 | 0 | HALLMARK_APICAL_SURFACE6      | hallmark | combined | monocyte |\n",
       "| 1.6 | 0.846289244 | 0.98033392 | 0 | 0 | HALLMARK_APOPTOSIS7           | hallmark | combined | monocyte |\n",
       "\n"
      ],
      "text/plain": [
       "    pvals       qvals      singular conv pathway                       db      \n",
       "1.1 0.003441796 0.08604489 0        0    HALLMARK_ADIPOGENESIS1        hallmark\n",
       "1.2 0.040430699 0.30401664 0        0    HALLMARK_ALLOGRAFT_REJECTION2 hallmark\n",
       "1.3 0.324820440 0.67223042 0        0    HALLMARK_ANDROGEN_RESPONSE3   hallmark\n",
       "1.4 0.318525875 0.67223042 0        0    HALLMARK_ANGIOGENESIS4        hallmark\n",
       "1.5 0.316004053 0.67223042 0        0    HALLMARK_APICAL_SURFACE6      hallmark\n",
       "1.6 0.846289244 0.98033392 0        0    HALLMARK_APOPTOSIS7           hallmark\n",
       "    model    cell_type\n",
       "1.1 combined monocyte \n",
       "1.2 combined monocyte \n",
       "1.3 combined monocyte \n",
       "1.4 combined monocyte \n",
       "1.5 combined monocyte \n",
       "1.6 combined monocyte "
      ]
     },
     "metadata": {},
     "output_type": "display_data"
    },
    {
     "data": {
      "text/html": [
       "<style>\n",
       ".list-inline {list-style: none; margin:0; padding: 0}\n",
       ".list-inline>li {display: inline-block}\n",
       ".list-inline>li:not(:last-child)::after {content: \"\\00b7\"; padding: 0 .5ex}\n",
       "</style>\n",
       "<ol class=list-inline><li>21198</li><li>8</li></ol>\n"
      ],
      "text/latex": [
       "\\begin{enumerate*}\n",
       "\\item 21198\n",
       "\\item 8\n",
       "\\end{enumerate*}\n"
      ],
      "text/markdown": [
       "1. 21198\n",
       "2. 8\n",
       "\n",
       "\n"
      ],
      "text/plain": [
       "[1] 21198     8"
      ]
     },
     "metadata": {},
     "output_type": "display_data"
    }
   ],
   "source": [
    "df1<-do.call(rbind,df1)\n",
    "head(df1)\n",
    "dim(df1)"
   ]
  },
  {
   "cell_type": "code",
   "execution_count": 22,
   "metadata": {},
   "outputs": [],
   "source": [
    "df1<- df1 %>%\n",
    "            mutate(level=case_when(cell_type%in%c(\"monocyte\",\"T_reg\",\"DC\",\"T_CD4\",\"NK\",\"T_CD8\",\"RBC\",\"B\",\"MAIT\",\"T_g_d\",\"B_ASC\",\"Platelet\",\"HSPC\") ~ 1,\n",
    "                              cell_type%in%c(\"CD14mono\",\"CD16mono\",\"pDC\",\"T_CD4_Naive\",\"NK_2\",\"T_CD4_Helper\",\"T_CD8_CTL\",\"Int.mono\",\"T_CD4_CTL\",\"RBC_2\",\"B_ASC_dividing\",\"B_switched_mem\",\"NK_CD56_bright\",\"T_CD8_Naive\",\"DC2\",\"B_naive\",\"NKT\",\"T_CD8_Mem\",\"B_ASC_IgA\",\"Platelet_2\",\"HSPC_2\",\"B_ASC_IgM\",\"B_non-switched_mem\",\"DC3\",\"B_ASC_IgG\",\"DC1\",\"B_CD11c\",\"T_CD8_EMRA\",\"ASDC\",\"B_ASC_other\") ~ 2))\n",
    "                   "
   ]
  },
  {
   "cell_type": "code",
   "execution_count": 23,
   "metadata": {},
   "outputs": [
    {
     "data": {
      "text/html": [
       "<table class=\"dataframe\">\n",
       "<caption>A data.frame: 6 × 9</caption>\n",
       "<thead>\n",
       "\t<tr><th></th><th scope=col>pvals</th><th scope=col>qvals</th><th scope=col>singular</th><th scope=col>conv</th><th scope=col>pathway</th><th scope=col>db</th><th scope=col>model</th><th scope=col>cell_type</th><th scope=col>level</th></tr>\n",
       "\t<tr><th></th><th scope=col>&lt;dbl&gt;</th><th scope=col>&lt;dbl&gt;</th><th scope=col>&lt;int&gt;</th><th scope=col>&lt;int&gt;</th><th scope=col>&lt;chr&gt;</th><th scope=col>&lt;chr&gt;</th><th scope=col>&lt;chr&gt;</th><th scope=col>&lt;chr&gt;</th><th scope=col>&lt;dbl&gt;</th></tr>\n",
       "</thead>\n",
       "<tbody>\n",
       "\t<tr><th scope=row>1.1</th><td>0.003441796</td><td>0.08604489</td><td>0</td><td>0</td><td>HALLMARK_ADIPOGENESIS1       </td><td>hallmark</td><td>combined</td><td>monocyte</td><td>1</td></tr>\n",
       "\t<tr><th scope=row>1.2</th><td>0.040430699</td><td>0.30401664</td><td>0</td><td>0</td><td>HALLMARK_ALLOGRAFT_REJECTION2</td><td>hallmark</td><td>combined</td><td>monocyte</td><td>1</td></tr>\n",
       "\t<tr><th scope=row>1.3</th><td>0.324820440</td><td>0.67223042</td><td>0</td><td>0</td><td>HALLMARK_ANDROGEN_RESPONSE3  </td><td>hallmark</td><td>combined</td><td>monocyte</td><td>1</td></tr>\n",
       "\t<tr><th scope=row>1.4</th><td>0.318525875</td><td>0.67223042</td><td>0</td><td>0</td><td>HALLMARK_ANGIOGENESIS4       </td><td>hallmark</td><td>combined</td><td>monocyte</td><td>1</td></tr>\n",
       "\t<tr><th scope=row>1.5</th><td>0.316004053</td><td>0.67223042</td><td>0</td><td>0</td><td>HALLMARK_APICAL_SURFACE6     </td><td>hallmark</td><td>combined</td><td>monocyte</td><td>1</td></tr>\n",
       "\t<tr><th scope=row>1.6</th><td>0.846289244</td><td>0.98033392</td><td>0</td><td>0</td><td>HALLMARK_APOPTOSIS7          </td><td>hallmark</td><td>combined</td><td>monocyte</td><td>1</td></tr>\n",
       "</tbody>\n",
       "</table>\n"
      ],
      "text/latex": [
       "A data.frame: 6 × 9\n",
       "\\begin{tabular}{r|lllllllll}\n",
       "  & pvals & qvals & singular & conv & pathway & db & model & cell\\_type & level\\\\\n",
       "  & <dbl> & <dbl> & <int> & <int> & <chr> & <chr> & <chr> & <chr> & <dbl>\\\\\n",
       "\\hline\n",
       "\t1.1 & 0.003441796 & 0.08604489 & 0 & 0 & HALLMARK\\_ADIPOGENESIS1        & hallmark & combined & monocyte & 1\\\\\n",
       "\t1.2 & 0.040430699 & 0.30401664 & 0 & 0 & HALLMARK\\_ALLOGRAFT\\_REJECTION2 & hallmark & combined & monocyte & 1\\\\\n",
       "\t1.3 & 0.324820440 & 0.67223042 & 0 & 0 & HALLMARK\\_ANDROGEN\\_RESPONSE3   & hallmark & combined & monocyte & 1\\\\\n",
       "\t1.4 & 0.318525875 & 0.67223042 & 0 & 0 & HALLMARK\\_ANGIOGENESIS4        & hallmark & combined & monocyte & 1\\\\\n",
       "\t1.5 & 0.316004053 & 0.67223042 & 0 & 0 & HALLMARK\\_APICAL\\_SURFACE6      & hallmark & combined & monocyte & 1\\\\\n",
       "\t1.6 & 0.846289244 & 0.98033392 & 0 & 0 & HALLMARK\\_APOPTOSIS7           & hallmark & combined & monocyte & 1\\\\\n",
       "\\end{tabular}\n"
      ],
      "text/markdown": [
       "\n",
       "A data.frame: 6 × 9\n",
       "\n",
       "| <!--/--> | pvals &lt;dbl&gt; | qvals &lt;dbl&gt; | singular &lt;int&gt; | conv &lt;int&gt; | pathway &lt;chr&gt; | db &lt;chr&gt; | model &lt;chr&gt; | cell_type &lt;chr&gt; | level &lt;dbl&gt; |\n",
       "|---|---|---|---|---|---|---|---|---|---|\n",
       "| 1.1 | 0.003441796 | 0.08604489 | 0 | 0 | HALLMARK_ADIPOGENESIS1        | hallmark | combined | monocyte | 1 |\n",
       "| 1.2 | 0.040430699 | 0.30401664 | 0 | 0 | HALLMARK_ALLOGRAFT_REJECTION2 | hallmark | combined | monocyte | 1 |\n",
       "| 1.3 | 0.324820440 | 0.67223042 | 0 | 0 | HALLMARK_ANDROGEN_RESPONSE3   | hallmark | combined | monocyte | 1 |\n",
       "| 1.4 | 0.318525875 | 0.67223042 | 0 | 0 | HALLMARK_ANGIOGENESIS4        | hallmark | combined | monocyte | 1 |\n",
       "| 1.5 | 0.316004053 | 0.67223042 | 0 | 0 | HALLMARK_APICAL_SURFACE6      | hallmark | combined | monocyte | 1 |\n",
       "| 1.6 | 0.846289244 | 0.98033392 | 0 | 0 | HALLMARK_APOPTOSIS7           | hallmark | combined | monocyte | 1 |\n",
       "\n"
      ],
      "text/plain": [
       "    pvals       qvals      singular conv pathway                       db      \n",
       "1.1 0.003441796 0.08604489 0        0    HALLMARK_ADIPOGENESIS1        hallmark\n",
       "1.2 0.040430699 0.30401664 0        0    HALLMARK_ALLOGRAFT_REJECTION2 hallmark\n",
       "1.3 0.324820440 0.67223042 0        0    HALLMARK_ANDROGEN_RESPONSE3   hallmark\n",
       "1.4 0.318525875 0.67223042 0        0    HALLMARK_ANGIOGENESIS4        hallmark\n",
       "1.5 0.316004053 0.67223042 0        0    HALLMARK_APICAL_SURFACE6      hallmark\n",
       "1.6 0.846289244 0.98033392 0        0    HALLMARK_APOPTOSIS7           hallmark\n",
       "    model    cell_type level\n",
       "1.1 combined monocyte  1    \n",
       "1.2 combined monocyte  1    \n",
       "1.3 combined monocyte  1    \n",
       "1.4 combined monocyte  1    \n",
       "1.5 combined monocyte  1    \n",
       "1.6 combined monocyte  1    "
      ]
     },
     "metadata": {},
     "output_type": "display_data"
    }
   ],
   "source": [
    "head(df1)"
   ]
  },
  {
   "cell_type": "code",
   "execution_count": 28,
   "metadata": {},
   "outputs": [],
   "source": [
    "write.table(df1,\"all_longitudinal_genesets_combined.tsv\",col.names=TRUE,row.names=FALSE,quote=FALSE,sep=\"\\t\")"
   ]
  }
 ],
 "metadata": {
  "kernelspec": {
   "display_name": "R 4.1.1 (testing)",
   "language": "R",
   "name": "ir411"
  },
  "language_info": {
   "codemirror_mode": "r",
   "file_extension": ".r",
   "mimetype": "text/x-r-source",
   "name": "R",
   "pygments_lexer": "r",
   "version": "4.1.1"
  }
 },
 "nbformat": 4,
 "nbformat_minor": 2
}
